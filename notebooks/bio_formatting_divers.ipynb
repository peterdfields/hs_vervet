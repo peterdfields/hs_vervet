{
 "cells": [
  {
   "cell_type": "code",
   "execution_count": 2,
   "metadata": {
    "collapsed": false
   },
   "outputs": [],
   "source": [
    "import os\n",
    "import pandas as pd\n",
    "eu = os.path.expanduser\n",
    "jn = os.path.join"
   ]
  },
  {
   "cell_type": "code",
   "execution_count": 2,
   "metadata": {
    "collapsed": false
   },
   "outputs": [],
   "source": [
    "##write string to fasta\n",
    "def write_to_fasta(handle,chrom,seq_str,line_len=60):\n",
    "    handle.write(\">{}\\n\".format(chrom))\n",
    "    for idx in range(line_len,len(seq_str),line_len):\n",
    "        handle.write(seq_str[idx-line_len:idx]+\"\\n\")\n",
    "    if seq_str[idx:]:\n",
    "        handle.write(seq_str[idx:]+\"\\n\")"
   ]
  },
  {
   "cell_type": "code",
   "execution_count": 9,
   "metadata": {
    "collapsed": false
   },
   "outputs": [],
   "source": [
    "#change line lenght of input fastas\n",
    "d = eu(\"~/vervet_project/data/reference/SIV\")\n",
    "siv_fns = [\"DJ048201.fasta\",\"HQ378594.fasta\",\"M66437.fasta\",\"U58991.fasta\"]\n",
    "out_file = jn(d,\"4_siv_sequences.fasta\")\n",
    "with open(out_file,'w'):\n",
    "    pass\n",
    "with open(out_file,'a') as handle:\n",
    "    for fn in siv_fns:\n",
    "        with open(jn(d,fn)) as f:\n",
    "            lines = [s.strip() for s in f.readlines()]\n",
    "            chrom = lines[0][1:].split(\"|\")[0]\n",
    "            seq = \"\".join(lines[1:]).upper()\n",
    "            write_to_fasta(handle,chrom,seq,line_len=60)"
   ]
  },
  {
   "cell_type": "code",
   "execution_count": 7,
   "metadata": {
    "collapsed": false
   },
   "outputs": [],
   "source": [
    "in_file = eu(\"~/vervet_project/data/reference/mitochondrion/vervet_mitochondrion_NC_008066.1.fasta\")\n",
    "#change line lenght of input fastas\n",
    "siv_fns = [in_file]\n",
    "out_file = eu(\"~/vervet_project/data/reference/mitochondrion/vervet_mitochondrion_NC_008066.1_line60.fasta\")\n",
    "with open(out_file,'w'):\n",
    "    pass\n",
    "with open(out_file,'a') as handle:\n",
    "    for fn in siv_fns:\n",
    "        with open(jn(d,fn)) as f:\n",
    "            lines = [s.strip() for s in f.readlines()]\n",
    "            chrom = \"mitochondrion\"#lines[0][1:]\n",
    "            seq = \"\".join(lines[1:])\n",
    "            write_to_fasta(handle,chrom,seq,line_len=60)"
   ]
  },
  {
   "cell_type": "code",
   "execution_count": 8,
   "metadata": {
    "collapsed": false
   },
   "outputs": [
    {
     "data": {
      "text/plain": [
       "'ASDSDFSD'"
      ]
     },
     "execution_count": 8,
     "metadata": {},
     "output_type": "execute_result"
    }
   ],
   "source": [
    "\"asdsdfsd\".upper()"
   ]
  },
  {
   "cell_type": "code",
   "execution_count": 10,
   "metadata": {
    "collapsed": false
   },
   "outputs": [],
   "source": [
    "out_file = jn(d,\"4_siv_sequences.fasta\")\n",
    "with open(out_file,'w'):\n",
    "    pass"
   ]
  },
  {
   "cell_type": "markdown",
   "metadata": {
    "collapsed": false
   },
   "source": [
    "## Change chromosome name in annotation (gff3)"
   ]
  },
  {
   "cell_type": "code",
   "execution_count": 15,
   "metadata": {
    "collapsed": false
   },
   "outputs": [],
   "source": [
    "chrom_map = pd.read_csv(eu(\"~/vervet_project/metadata/ncbi_release100_chromosomes.tsv\"),sep='\\t')\n",
    "chrom_map = chrom_map[chrom_map['Loc']==\"Nuc\"].set_index(\"RefSeq\")\n",
    "chrom_map['chrom'] = chrom_map['Name'].apply(lambda n: 'CAE' + str(n))"
   ]
  },
  {
   "cell_type": "code",
   "execution_count": 20,
   "metadata": {
    "collapsed": false
   },
   "outputs": [],
   "source": [
    "with open(eu(\"~/vervet_project/data/annotation/Chlorocebus_sabaeus_1_1/ref_Chlorocebus_sabeus_1.1_top_level_20140520.gff3\")) as f0,\\\n",
    "    open(eu(\"~/vervet_project/data/annotation/Chlorocebus_sabaeus_1_1/ref_Chlorocebus_sabeus_1.1_top_level_20140520_CAE.gff3\"),'w') as f1:\n",
    "    for line in f0:\n",
    "        if line[0] != '#':\n",
    "            sl = line.split(\"\\t\")\n",
    "            try:\n",
    "                sl[0] = chrom_map.ix[sl[0]][\"chrom\"]\n",
    "            except KeyError:\n",
    "                continue\n",
    "            line = \"\\t\".join(sl)\n",
    "        f1.write(line)"
   ]
  },
  {
   "cell_type": "code",
   "execution_count": 14,
   "metadata": {
    "collapsed": false
   },
   "outputs": [
    {
     "data": {
      "text/plain": [
       "'CAE1'"
      ]
     },
     "execution_count": 14,
     "metadata": {},
     "output_type": "execute_result"
    }
   ],
   "source": []
  },
  {
   "cell_type": "code",
   "execution_count": null,
   "metadata": {
    "collapsed": true
   },
   "outputs": [],
   "source": []
  }
 ],
 "metadata": {
  "kernelspec": {
   "display_name": "Python 2",
   "language": "python",
   "name": "python2"
  },
  "language_info": {
   "codemirror_mode": {
    "name": "ipython",
    "version": 2
   },
   "file_extension": ".py",
   "mimetype": "text/x-python",
   "name": "python",
   "nbconvert_exporter": "python",
   "pygments_lexer": "ipython2",
   "version": "2.7.3"
  }
 },
 "nbformat": 4,
 "nbformat_minor": 0
}
