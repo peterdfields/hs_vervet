{
 "metadata": {
  "name": "",
  "signature": "sha256:b061857dc12463a8a1c4ffc8543348d25b43da19c3a3a2283ba3d7305219b387"
 },
 "nbformat": 3,
 "nbformat_minor": 0,
 "worksheets": [
  {
   "cells": [
    {
     "cell_type": "code",
     "collapsed": false,
     "input": [
      "import os\n",
      "eu = os.path.expanduser\n",
      "jn = os.path.join"
     ],
     "language": "python",
     "metadata": {},
     "outputs": [],
     "prompt_number": 1
    },
    {
     "cell_type": "code",
     "collapsed": false,
     "input": [
      "##write string to fasta\n",
      "def write_to_fasta(handle,chrom,seq_str,line_len=60):\n",
      "    handle.write(\">{}\\n\".format(chrom))\n",
      "    for idx in range(line_len,len(seq_str),line_len):\n",
      "        handle.write(seq_str[idx-line_len:idx]+\"\\n\")\n",
      "    if seq_str[idx:]:\n",
      "        handle.write(seq_str[idx:]+\"\\n\")"
     ],
     "language": "python",
     "metadata": {},
     "outputs": [],
     "prompt_number": 2
    },
    {
     "cell_type": "code",
     "collapsed": false,
     "input": [
      "#change line lenght of input fastas\n",
      "d = eu(\"~/vervet_project/data/reference/SIV\")\n",
      "siv_fns = [\"DJ048201.fasta\",\"HQ378594.fasta\",\"M66437.fasta\",\"U58991.fasta\"]\n",
      "out_file = jn(d,\"4_siv_sequences.fasta\")\n",
      "with open(out_file,'w'):\n",
      "    pass\n",
      "with open(out_file,'a') as handle:\n",
      "    for fn in siv_fns:\n",
      "        with open(jn(d,fn)) as f:\n",
      "            lines = [s.strip() for s in f.readlines()]\n",
      "            chrom = lines[0][1:].split(\"|\")[0]\n",
      "            seq = \"\".join(lines[1:]).upper()\n",
      "            write_to_fasta(handle,chrom,seq,line_len=60)"
     ],
     "language": "python",
     "metadata": {},
     "outputs": [],
     "prompt_number": 9
    },
    {
     "cell_type": "code",
     "collapsed": false,
     "input": [
      "in_file = eu(\"~/vervet_project/data/reference/mitochondrion/vervet_mitochondrion_NC_008066.1.fasta\")\n",
      "#change line lenght of input fastas\n",
      "siv_fns = [in_file]\n",
      "out_file = eu(\"~/vervet_project/data/reference/mitochondrion/vervet_mitochondrion_NC_008066.1_line60.fasta\")\n",
      "with open(out_file,'w'):\n",
      "    pass\n",
      "with open(out_file,'a') as handle:\n",
      "    for fn in siv_fns:\n",
      "        with open(jn(d,fn)) as f:\n",
      "            lines = [s.strip() for s in f.readlines()]\n",
      "            chrom = \"mitochondrion\"#lines[0][1:]\n",
      "            seq = \"\".join(lines[1:])\n",
      "            write_to_fasta(handle,chrom,seq,line_len=60)"
     ],
     "language": "python",
     "metadata": {},
     "outputs": [],
     "prompt_number": 7
    },
    {
     "cell_type": "code",
     "collapsed": false,
     "input": [
      "\"asdsdfsd\".upper()"
     ],
     "language": "python",
     "metadata": {},
     "outputs": [
      {
       "metadata": {},
       "output_type": "pyout",
       "prompt_number": 8,
       "text": [
        "'ASDSDFSD'"
       ]
      }
     ],
     "prompt_number": 8
    },
    {
     "cell_type": "code",
     "collapsed": false,
     "input": [
      "out_file = jn(d,\"4_siv_sequences.fasta\")\n",
      "with open(out_file,'w'):\n",
      "    pass"
     ],
     "language": "python",
     "metadata": {},
     "outputs": [],
     "prompt_number": 10
    },
    {
     "cell_type": "code",
     "collapsed": false,
     "input": [],
     "language": "python",
     "metadata": {},
     "outputs": [
      {
       "ename": "NameError",
       "evalue": "name 'pd' is not defined",
       "output_type": "pyerr",
       "traceback": [
        "\u001b[1;31m---------------------------------------------------------------------------\u001b[0m\n\u001b[1;31mNameError\u001b[0m                                 Traceback (most recent call last)",
        "\u001b[1;32m<ipython-input-11-a6a31a6b504a>\u001b[0m in \u001b[0;36m<module>\u001b[1;34m()\u001b[0m\n\u001b[1;32m----> 1\u001b[1;33m sab_enrich = pd.read_csv(eu(\"~/vervet_scratch/analyses/20140611_163_subpop_sweepfinder/_data/enrichment_n2000_d10000_permut50000_sab.tsv\"),\n\u001b[0m\u001b[0;32m      2\u001b[0m                             index_col=[0])\n",
        "\u001b[1;31mNameError\u001b[0m: name 'pd' is not defined"
       ]
      }
     ],
     "prompt_number": 11
    },
    {
     "cell_type": "code",
     "collapsed": false,
     "input": [],
     "language": "python",
     "metadata": {},
     "outputs": [
      {
       "ename": "NameError",
       "evalue": "name 'np' is not defined",
       "output_type": "pyerr",
       "traceback": [
        "\u001b[1;31m---------------------------------------------------------------------------\u001b[0m\n\u001b[1;31mNameError\u001b[0m                                 Traceback (most recent call last)",
        "\u001b[1;32m<ipython-input-12-b8703053625b>\u001b[0m in \u001b[0;36m<module>\u001b[1;34m()\u001b[0m\n\u001b[1;32m----> 1\u001b[1;33m \u001b[0mlen\u001b[0m\u001b[1;33m(\u001b[0m\u001b[0mnp\u001b[0m\u001b[1;33m.\u001b[0m\u001b[0mnan\u001b[0m\u001b[1;33m)\u001b[0m\u001b[1;33m\u001b[0m\u001b[0m\n\u001b[0m",
        "\u001b[1;31mNameError\u001b[0m: name 'np' is not defined"
       ]
      }
     ],
     "prompt_number": 12
    },
    {
     "cell_type": "code",
     "collapsed": false,
     "input": [],
     "language": "python",
     "metadata": {},
     "outputs": []
    }
   ],
   "metadata": {}
  }
 ]
}