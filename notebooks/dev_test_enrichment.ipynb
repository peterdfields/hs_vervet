{
 "cells": [
  {
   "cell_type": "code",
   "execution_count": 1,
   "metadata": {
    "collapsed": false
   },
   "outputs": [],
   "source": [
    "import os\n",
    "import pandas as pd\n",
    "import numpy as np\n",
    "eu = os.path.expanduser\n",
    "jn = os.path.join"
   ]
  },
  {
   "cell_type": "code",
   "execution_count": 2,
   "metadata": {
    "collapsed": false
   },
   "outputs": [],
   "source": [
    "assoc_dir = eu(\"~/vervet_project/data/gene_associations\")"
   ]
  },
  {
   "cell_type": "code",
   "execution_count": 3,
   "metadata": {
    "collapsed": false
   },
   "outputs": [],
   "source": [
    "meta_dir = eu(\"~/vervet_project/metadata\")\n",
    "def load_gene_df():\n",
    "    gene_df = pd.read_csv(jn(meta_dir,\"annot_mike_genes_minimal.tsv\"),sep=\"\\t\",index_col = [0,1])\n",
    "    gene_df.index.names = [gene_df.index.names[0],'start']\n",
    "    return gene_df"
   ]
  },
  {
   "cell_type": "code",
   "execution_count": 4,
   "metadata": {
    "collapsed": false
   },
   "outputs": [],
   "source": [
    "gene_df = load_gene_df()"
   ]
  },
  {
   "cell_type": "code",
   "execution_count": 5,
   "metadata": {
    "collapsed": false
   },
   "outputs": [],
   "source": [
    "pops = [\"aet\",\"cyn\",\"pyn\",\"pys\",\"sab\",\"tan\"]"
   ]
  },
  {
   "cell_type": "code",
   "execution_count": 7,
   "metadata": {
    "collapsed": false
   },
   "outputs": [],
   "source": [
    "#gene_df.to_csv(jn(meta_dir,\"annot_mike_genes_minimal.tsv\"),sep=\"\\t\")"
   ]
  },
  {
   "cell_type": "code",
   "execution_count": 6,
   "metadata": {
    "collapsed": false
   },
   "outputs": [],
   "source": [
    "def index_rolling(s,window,func,overlap=0,*args,**kwargs):\n",
    "    \"\"\"\n",
    "    Apply function in rolling windows, where the window\n",
    "    size is defined with respect to the index values.\n",
    "    This means that different windows can comprise different\n",
    "    numbers of elements.\n",
    "    \n",
    "    s ... pandas Series\n",
    "    window ... window size in units of the index values\n",
    "    func ... function to apply to the series values within each\n",
    "                window\n",
    "    overlap ... oberlap size of windows\n",
    "    args, kwarg ... additional arguments for func\n",
    "    \n",
    "    Example: index_rolling(pd.Series(range(20),index=np.random.rand(20))),0.1,max)\n",
    "    \"\"\"\n",
    "    #note that basis must be sorted in order for this to work properly\n",
    "    windows_min = s.index.min()\n",
    "    windows_max = s.index.max()\n",
    "    window_starts = np.arange(windows_min, windows_max, window-overlap)\n",
    "    window_starts = pd.Series(window_starts, index = window_starts)\n",
    "    def applyToWindow(val):\n",
    "        # using slice_indexer rather that what.loc [val:val+window] allows\n",
    "        # window limits that are not specifically in the index\n",
    "        indexer = s.index.slice_indexer(val,val+window,1)\n",
    "        chunk = s.iloc[indexer]\n",
    "        try:\n",
    "            return func(chunk,*args,**kwargs)\n",
    "        except ValueError, e:\n",
    "            if \"empty sequence\" in str(e):\n",
    "                #print indexer, chunk\n",
    "                return None\n",
    "            else:\n",
    "                raise           \n",
    "    rolled = window_starts.apply(applyToWindow)\n",
    "    return rolled"
   ]
  },
  {
   "cell_type": "markdown",
   "metadata": {},
   "source": [
    "## ROD (reference ordered data) permutation test"
   ]
  },
  {
   "cell_type": "markdown",
   "metadata": {},
   "source": [
    "tools that, given an analysis result, one can rotate (shift) the results randomly around the genome"
   ]
  },
  {
   "cell_type": "code",
   "execution_count": 7,
   "metadata": {
    "collapsed": false
   },
   "outputs": [],
   "source": [
    "def get_chrom_length():\n",
    "    return pd.read_csv(eu(\"~/vervet_project/metadata/ref3500.tsv\"),\n",
    "                       sep=\"\\t\",index_col=0,squeeze=True,header=False)"
   ]
  },
  {
   "cell_type": "code",
   "execution_count": 8,
   "metadata": {
    "collapsed": false
   },
   "outputs": [],
   "source": [
    "def shift_rod(rod_df, rnd, mode = \"grid\"):\n",
    "    \"\"\"\n",
    "    shift reference ordered data across the whole genome\n",
    "\n",
    "    Input:\n",
    "    rod_df ... pandas dataframe or series with mulitiindex (chrom, pos)\n",
    "                \n",
    "    modes ...\n",
    "        'grid' ... just rotate the index of the rod data frame\n",
    "                    this means that the positions stay the same only the\n",
    "                    value for each position becomes different\n",
    "                    Faster, but means that you only hit the same grid-point\n",
    "                    this should make it conservative on large grids. Large\n",
    "                    grids are problematic if the fraction of top windows \n",
    "                    considered becomes large \n",
    "        'continuous' ... add the random shift to each index value.\n",
    "                         NOT IMPLEMENTED\n",
    "    \"\"\"\n",
    "    if mode == \"grid\":\n",
    "        new_start_i = int(len(rod_df)*rnd)\n",
    "        rotate_data = np.concatenate((rod_df.iloc[new_start_i:].values,rod_df.iloc[:new_start_i].values))\n",
    "        if  isinstance(rod_df,pd.core.series.Series):\n",
    "            r = pd.Series(rotate_data,index=rod_df.index)\n",
    "            return r\n",
    "        elif isinstance(rod_df,pd.core.frame.DataFrame):\n",
    "            r = pd.DataFrame(rotate_data,index=rod_df.index,columns=rod_df.columns)\n",
    "            return r\n",
    "        \n",
    "    else:\n",
    "        raise UserException(\"Only mode grid supported.\")"
   ]
  },
  {
   "cell_type": "code",
   "execution_count": 900,
   "metadata": {
    "collapsed": false
   },
   "outputs": [
    {
     "name": "stdout",
     "output_type": "stream",
     "text": [
      "100 loops, best of 3: 14.5 ms per loop\n"
     ]
    }
   ],
   "source": [
    "%timeit shift_rod(tot_sweed_df[\"Likelihood\"], 0.32424) "
   ]
  },
  {
   "cell_type": "markdown",
   "metadata": {},
   "source": [
    "## get genes for peaks"
   ]
  },
  {
   "cell_type": "code",
   "execution_count": 9,
   "metadata": {
    "collapsed": false
   },
   "outputs": [],
   "source": [
    "def get_peaks(value_s,min_peak_dist):\n",
    "    \"\"\"\n",
    "    ranked df of peaks\n",
    "    assuming a minimum distance between peaks\n",
    "    \"\"\"\n",
    "    assert len(value_s.index.droplevel(1).unique()) == 1, \"Multiple chromsosomes not supported.\"\n",
    "    chrom = value_s.index[0][0]\n",
    "    x = index_rolling(value_s.ix[chrom],2*min_peak_dist,np.argmax,min_peak_dist)\n",
    "    x.name = \"pos\"\n",
    "    #only take peaks that are found in at least two windows \n",
    "    #this makes sure that we have a minimal distance between peaks\n",
    "    pos_true = (x.reset_index().groupby(\"pos\").apply(len)>1)\n",
    "    pos = pos_true[pos_true.values].index\n",
    "    s = value_s.ix[chrom].ix[pos]\n",
    "    return s"
   ]
  },
  {
   "cell_type": "code",
   "execution_count": 10,
   "metadata": {
    "collapsed": false
   },
   "outputs": [],
   "source": [
    "def get_genes(peak_s, gene_df, max_dist):\n",
    "    \"\"\"\n",
    "    take the input series and gets \n",
    "    names of genes nearby\n",
    "    \n",
    "    Input:\n",
    "    peak_s ... pandas series with (chrom, pos) index and value of\n",
    "                the statistic ('peak height'). Series should be named.\n",
    "    gene_df ... data frame with gene info \n",
    "    \"\"\"    \n",
    "    all_genes = []\n",
    "    if not gene_df.index.is_monotonic:\n",
    "        gene_df = gene_df.sort_index()\n",
    "    tot_hit_df = pd.DataFrame()\n",
    "    for chrom in peak_s.index.droplevel(1).unique():\n",
    "        loc_gene_df = gene_df.ix[chrom]\n",
    "        #loc_gene_df = loc_gene_df.append(pd.DataFrame(np.nan,index=[np.inf],columns=loc_gene_df.columns))\n",
    "        pos_rel_to_start = np.searchsorted(loc_gene_df.index.values-max_dist,peak_s.ix[chrom].index.values)\n",
    "        pos_rel_to_end = np.searchsorted(loc_gene_df[\"end\"].values+max_dist,peak_s.ix[chrom].index.values)\n",
    "        genes = list(set(loc_gene_df[\"gene_id\"].iloc[np.hstack([range(a,b) for a,b in zip(pos_rel_to_end,pos_rel_to_start)])]))\n",
    "        #print chrom, genes\n",
    "        all_genes += genes\n",
    "    return all_genes\n",
    "\n",
    "def get_gene_info(gene_ls,gene_df):\n",
    "    \"\"\"\n",
    "    for a list of gene ids,\n",
    "    get a data frame with their \n",
    "    position\n",
    "    \"\"\"\n",
    "    gi = gene_df[gene_df[\"gene_id\"].apply(lambda x: x in gene_ls)]\n",
    "    return gi\n",
    "\n",
    "def get_peaks(gene_info,top_s,max_dist):\n",
    "    \"\"\"\n",
    "    For each gene in gene_info get the\n",
    "    peaks within max_dist in top_s. This \n",
    "    is basically reverse engineering to get\n",
    "    the peak info for each gene that was found \n",
    "    to be associated with a peak. \n",
    "    \n",
    "    Input:\n",
    "    gene_info ... data frame with index ('chrom','start')\n",
    "                and columns 'gene_id' and 'end'\n",
    "    top_s ... series of peak positions with index (chrom, pos)\n",
    "                and values peak height\n",
    "    max_dist ... maximum distance between gene and peak\n",
    "    \"\"\"\n",
    "    def get_dist(df,gene_pos):\n",
    "        s = pd.Series(df.index.droplevel(0).values - gene_pos.ix[df.index[0][0]],\n",
    "                                                  index=df.index.droplevel(0).values)\n",
    "        return s\n",
    "    tot_gene_peaks_df = pd.DataFrame()\n",
    "    if not top_s.index.is_monotonic:\n",
    "        top_s = top_s.sort_index()\n",
    "    for chrom in gene_info.index.droplevel(1).unique():\n",
    "        loc_top_s = top_s.ix[chrom]\n",
    "        start = np.searchsorted(loc_top_s.index.values+max_dist,gene_info.ix[chrom].index.values)\n",
    "        end = np.searchsorted(loc_top_s.index.values-max_dist,gene_info.ix[chrom][\"end\"].values)\n",
    "        \n",
    "        x = pd.concat([loc_top_s.iloc[st:ed] for st,ed in zip(start,end)],\n",
    "                      keys=gene_info.ix[chrom][\"gene_id\"].values)\n",
    "        x.name = \"peak_height\"\n",
    "        \n",
    "\n",
    "\n",
    "        dist_start = x.groupby(lambda i: i[0]).\\\n",
    "                    apply(lambda df: get_dist(df,\n",
    "                                              gene_info.ix[chrom].reset_index().set_index(\"gene_id\")[\"pos\"]))\n",
    "        dist_start.name = \"dist_start\"\n",
    "        dist_end = x.groupby(lambda i: i[0]).\\\n",
    "                    apply(lambda df: get_dist(df,\n",
    "                                              gene_info.ix[chrom].set_index(\"gene_id\")[\"end\"]))\n",
    "        dist_end.name = \"dist_end\"\n",
    "        gene_peaks_df = pd.concat([x,dist_start,dist_end],axis=1)\n",
    "        gene_peaks_df.index = pd.MultiIndex.from_arrays([gene_peaks_df.index.droplevel(1),\n",
    "                                         [chrom]*len(x),\n",
    "                                         gene_peaks_df.index.droplevel(0)])\n",
    "        tot_gene_peaks_df = pd.concat([tot_gene_peaks_df, gene_peaks_df])\n",
    "        tot_gene_peaks_df.index.names = [\"gene_id\",\"chrom\",\"peak_pos\"]\n",
    "        if chrom == \"CAE19\":\n",
    "            print gene_info.ix[chrom].reset_index().set_index(\"gene_id\")[\"pos\"]\n",
    "            print loc_top_s\n",
    "            print start\n",
    "            print end\n",
    "            print x\n",
    "            print dist_start\n",
    "    return tot_gene_peaks_df"
   ]
  },
  {
   "cell_type": "code",
   "execution_count": 11,
   "metadata": {
    "collapsed": false
   },
   "outputs": [],
   "source": [
    "chromosomes = [\"CAE\" + str(i) for i in range(1,30)+[\"X\",\"Y\"]]\n",
    "def get_sweed_df(chrom,pop):\n",
    "    sweed_res = pd.read_csv(eu(\"~/vervet_project/analyses/20140611_163_subpop_sweepfinder/\"\n",
    "                             \"_data/SweeD_Report.163_ref3500_{}_{}\".format(chrom,pop)),\n",
    "                                                          sep=\"\\t\",skiprows=2,index_col=0)\n",
    "    sweed_res.index = pd.MultiIndex.from_tuples(zip([chrom]*len(sweed_res.index),sweed_res.index))\n",
    "    return sweed_res"
   ]
  },
  {
   "cell_type": "code",
   "execution_count": 1158,
   "metadata": {
    "collapsed": false
   },
   "outputs": [
    {
     "data": {
      "text/plain": [
       "'0.14.0'"
      ]
     },
     "execution_count": 1158,
     "metadata": {},
     "output_type": "execute_result"
    }
   ],
   "source": []
  },
  {
   "cell_type": "code",
   "execution_count": 1057,
   "metadata": {
    "collapsed": false
   },
   "outputs": [
    {
     "data": {
      "text/plain": [
       "'/home/GMI/hannes.svardal/vervet_project/analyses/20140611_163_subpop_sweepfinder/_data/SweeD_Report.163_ref3500_CAEY_aet'"
      ]
     },
     "execution_count": 1057,
     "metadata": {},
     "output_type": "execute_result"
    }
   ],
   "source": [
    "pop = \"aet\"\n",
    "eu(\"~/vervet_project/analyses/20140611_163_subpop_sweepfinder/\"\n",
    "                             \"_data/SweeD_Report.163_ref3500_{}_{}\".format(chrom,pop))"
   ]
  },
  {
   "cell_type": "code",
   "execution_count": 372,
   "metadata": {
    "collapsed": false
   },
   "outputs": [],
   "source": [
    "gene_df = load_gene_df()\n",
    "gene_df = gene_df.sortlevel(level=[0,1])"
   ]
  },
  {
   "cell_type": "code",
   "execution_count": 11,
   "metadata": {
    "collapsed": false
   },
   "outputs": [],
   "source": [
    "pop = \"aet\"\n",
    "tot_sweed_df = pd.read_csv(eu(\"~/vervet_project/analyses/20140611_163_subpop_sweepfinder/\"\n",
    "                                 \"_data/tot_sweed_result_{}.tsv\".format(pop)),sep=\"\\t\",index_col=[0,1])"
   ]
  },
  {
   "cell_type": "code",
   "execution_count": 12,
   "metadata": {
    "collapsed": false
   },
   "outputs": [],
   "source": [
    "top_s = tot_sweed_df.sort(\"Likelihood\",ascending=False)[\"Likelihood\"].iloc[:2000]\n",
    "#top_s = pd.concat([pd.Series([17],index=pd.MultiIndex.from_arrays([[\"CAE1\"],[4922]])),top_s])"
   ]
  },
  {
   "cell_type": "code",
   "execution_count": 1225,
   "metadata": {
    "collapsed": false
   },
   "outputs": [
    {
     "name": "stdout",
     "output_type": "stream",
     "text": [
      "gene_id\n",
      "SAMM50     26467319\n",
      "Name: pos, dtype: int64\n",
      "pos\n",
      "9483311.2373     21.93971\n",
      "9483796.1723     23.32173\n",
      "26477373.2917    20.04123\n",
      "26478828.0967    19.82511\n",
      "Name: Likelihood, dtype: float64\n",
      "[2]\n",
      "[4]\n",
      "        pos          \n",
      "SAMM50  26477373.2917    20.04123\n",
      "        26478828.0967    19.82511\n",
      "Name: peak_height, dtype: float64\n",
      "SAMM50  26477373.2917    10054.2917\n",
      "        26478828.0967    11509.0967\n",
      "Name: dist_start, dtype: float64\n"
     ]
    }
   ],
   "source": [
    "max_dist = 10000\n",
    "cand_genes = get_genes(top_s, gene_df, max_dist=max_dist)\n",
    "gene_info = get_gene_info(cand_genes, gene_df)\n",
    "peaks = get_peaks(gene_info,top_s,max_dist=max_dist)"
   ]
  },
  {
   "cell_type": "code",
   "execution_count": 1248,
   "metadata": {
    "collapsed": false
   },
   "outputs": [],
   "source": [
    "def genes_per_peak_s(df):\n",
    "    s = df.iloc[0]#[\"peak_height\"]\n",
    "    s[\"genes\"] = 3#list(df[\"gene_id\"].unique())\n",
    "    return s\n",
    "p = peaks.reset_index([0])"
   ]
  },
  {
   "cell_type": "code",
   "execution_count": 1263,
   "metadata": {
    "collapsed": false
   },
   "outputs": [],
   "source": [
    "gene_list_peak_pos = p[\"gene_id\"].groupby(lambda x: x).apply(list)\n",
    "gene_list_peak_pos.name = \"genes\"\n",
    "gene_list_peak_pos.index = pd.MultiIndex.from_tuples(gene_list_peak_pos.index)\n",
    "peak_info = pd.concat([top_s,gene_list_peak_pos],axis=1)\n",
    "peak_info.sort(\"Likelihood\",ascending=False,inplace=True)"
   ]
  },
  {
   "cell_type": "code",
   "execution_count": 6,
   "metadata": {
    "collapsed": false
   },
   "outputs": [],
   "source": [
    "gene_to_cat2 = pd.read_csv(jn(assoc_dir,\"gene_to_cat2.csv\"),index_col=0)"
   ]
  },
  {
   "cell_type": "code",
   "execution_count": 167,
   "metadata": {
    "collapsed": false
   },
   "outputs": [],
   "source": [
    "gene_to_cat2.to_csv(jn(assoc_dir,\"gene_to_cat2.tsv\"),index=False,sep='\\t')"
   ]
  },
  {
   "cell_type": "code",
   "execution_count": 7,
   "metadata": {
    "collapsed": false
   },
   "outputs": [],
   "source": [
    "cat2_to_name = pd.read_csv(jn(assoc_dir,\"cat2_to_name.csv\"),index_col=0)"
   ]
  },
  {
   "cell_type": "code",
   "execution_count": 177,
   "metadata": {
    "collapsed": false
   },
   "outputs": [],
   "source": [
    "cat2_to_name.to_csv(jn(assoc_dir,\"cat2_to_name.tsv\"),index=False,sep='\\t')"
   ]
  },
  {
   "cell_type": "code",
   "execution_count": 184,
   "metadata": {
    "collapsed": false
   },
   "outputs": [],
   "source": [
    "try:\n",
    "    gene_df.drop('feature',axis=1,inplace=True)\n",
    "except ValueError:\n",
    "    print 'Sorry'"
   ]
  },
  {
   "cell_type": "code",
   "execution_count": 10,
   "metadata": {
    "collapsed": false
   },
   "outputs": [
    {
     "data": {
      "text/html": [
       "<div style=\"max-height:1000px;max-width:1500px;overflow:auto;\">\n",
       "<table border=\"1\" class=\"dataframe\">\n",
       "  <thead>\n",
       "    <tr style=\"text-align: right;\">\n",
       "      <th></th>\n",
       "      <th>go_identifier</th>\n",
       "      <th>go_name</th>\n",
       "    </tr>\n",
       "  </thead>\n",
       "  <tbody>\n",
       "    <tr>\n",
       "      <th>0    </th>\n",
       "      <td>                             is_a</td>\n",
       "      <td>                                              is_a</td>\n",
       "    </tr>\n",
       "    <tr>\n",
       "      <th>1    </th>\n",
       "      <td>                         consider</td>\n",
       "      <td>                                          consider</td>\n",
       "    </tr>\n",
       "    <tr>\n",
       "      <th>2    </th>\n",
       "      <td>                      replaced_by</td>\n",
       "      <td>                                       replaced_by</td>\n",
       "    </tr>\n",
       "    <tr>\n",
       "      <th>3    </th>\n",
       "      <td>             Cross_product_review</td>\n",
       "      <td>                                       Involved_in</td>\n",
       "    </tr>\n",
       "    <tr>\n",
       "      <th>4    </th>\n",
       "      <td>              goantislim_grouping</td>\n",
       "      <td>             Grouping classes that can be excluded</td>\n",
       "    </tr>\n",
       "    <tr>\n",
       "      <th>5    </th>\n",
       "      <td>          gocheck_do_not_annotate</td>\n",
       "      <td>         Term not to be used for direct annotation</td>\n",
       "    </tr>\n",
       "    <tr>\n",
       "      <th>6    </th>\n",
       "      <td> gocheck_do_not_manually_annotate</td>\n",
       "      <td>  Term not to be used for direct manual annotation</td>\n",
       "    </tr>\n",
       "    <tr>\n",
       "      <th>7    </th>\n",
       "      <td>               goslim_aspergillus</td>\n",
       "      <td>                               Aspergillus GO slim</td>\n",
       "    </tr>\n",
       "    <tr>\n",
       "      <th>8    </th>\n",
       "      <td>                   goslim_candida</td>\n",
       "      <td>                                   Candida GO slim</td>\n",
       "    </tr>\n",
       "    <tr>\n",
       "      <th>9    </th>\n",
       "      <td>                   goslim_generic</td>\n",
       "      <td>                                   Generic GO slim</td>\n",
       "    </tr>\n",
       "    <tr>\n",
       "      <th>10   </th>\n",
       "      <td>                       goslim_goa</td>\n",
       "      <td>                             GOA and proteome slim</td>\n",
       "    </tr>\n",
       "    <tr>\n",
       "      <th>11   </th>\n",
       "      <td>              goslim_metagenomics</td>\n",
       "      <td>                              Metagenomics GO slim</td>\n",
       "    </tr>\n",
       "    <tr>\n",
       "      <th>12   </th>\n",
       "      <td>                       goslim_pir</td>\n",
       "      <td>                                       PIR GO slim</td>\n",
       "    </tr>\n",
       "    <tr>\n",
       "      <th>13   </th>\n",
       "      <td>                     goslim_plant</td>\n",
       "      <td>                                     Plant GO slim</td>\n",
       "    </tr>\n",
       "    <tr>\n",
       "      <th>14   </th>\n",
       "      <td>                     goslim_pombe</td>\n",
       "      <td>                             Fission yeast GO slim</td>\n",
       "    </tr>\n",
       "    <tr>\n",
       "      <th>15   </th>\n",
       "      <td>                     goslim_virus</td>\n",
       "      <td>                                     Viral GO slim</td>\n",
       "    </tr>\n",
       "    <tr>\n",
       "      <th>16   </th>\n",
       "      <td>                     goslim_yeast</td>\n",
       "      <td>                                     Yeast GO slim</td>\n",
       "    </tr>\n",
       "    <tr>\n",
       "      <th>17   </th>\n",
       "      <td>                    gosubset_prok</td>\n",
       "      <td>                             Prokaryotic GO subset</td>\n",
       "    </tr>\n",
       "    <tr>\n",
       "      <th>18   </th>\n",
       "      <td>                  mf_needs_review</td>\n",
       "      <td>     Catalytic activity terms in need of attention</td>\n",
       "    </tr>\n",
       "    <tr>\n",
       "      <th>19   </th>\n",
       "      <td>               termgenie_unvetted</td>\n",
       "      <td> Terms created by TermGenie that do not follow ...</td>\n",
       "    </tr>\n",
       "    <tr>\n",
       "      <th>20   </th>\n",
       "      <td>                    virus_checked</td>\n",
       "      <td>                              Viral overhaul terms</td>\n",
       "    </tr>\n",
       "    <tr>\n",
       "      <th>21   </th>\n",
       "      <td>             negatively_regulates</td>\n",
       "      <td>                              negatively_regulates</td>\n",
       "    </tr>\n",
       "    <tr>\n",
       "      <th>22   </th>\n",
       "      <td>                   never_in_taxon</td>\n",
       "      <td>                                    never_in_taxon</td>\n",
       "    </tr>\n",
       "    <tr>\n",
       "      <th>23   </th>\n",
       "      <td>                          part_of</td>\n",
       "      <td>                                           part_of</td>\n",
       "    </tr>\n",
       "    <tr>\n",
       "      <th>24   </th>\n",
       "      <td>             positively_regulates</td>\n",
       "      <td>                              positively_regulates</td>\n",
       "    </tr>\n",
       "    <tr>\n",
       "      <th>25   </th>\n",
       "      <td>                        regulates</td>\n",
       "      <td>                                         regulates</td>\n",
       "    </tr>\n",
       "    <tr>\n",
       "      <th>26   </th>\n",
       "      <td>                       GO:0000001</td>\n",
       "      <td>                         mitochondrion inheritance</td>\n",
       "    </tr>\n",
       "    <tr>\n",
       "      <th>27   </th>\n",
       "      <td>                            exact</td>\n",
       "      <td>                                             exact</td>\n",
       "    </tr>\n",
       "    <tr>\n",
       "      <th>28   </th>\n",
       "      <td>                       GO:0000002</td>\n",
       "      <td>                  mitochondrial genome maintenance</td>\n",
       "    </tr>\n",
       "    <tr>\n",
       "      <th>29   </th>\n",
       "      <td>                       GO:0000003</td>\n",
       "      <td>                                      reproduction</td>\n",
       "    </tr>\n",
       "    <tr>\n",
       "      <th>...</th>\n",
       "      <td>...</td>\n",
       "      <td>...</td>\n",
       "    </tr>\n",
       "    <tr>\n",
       "      <th>40057</th>\n",
       "      <td>                 colocalizes_with</td>\n",
       "      <td>                                  colocalizes_with</td>\n",
       "    </tr>\n",
       "    <tr>\n",
       "      <th>40058</th>\n",
       "      <td>                             gene</td>\n",
       "      <td>                                              gene</td>\n",
       "    </tr>\n",
       "    <tr>\n",
       "      <th>40059</th>\n",
       "      <td>                          protein</td>\n",
       "      <td>                                           protein</td>\n",
       "    </tr>\n",
       "    <tr>\n",
       "      <th>40060</th>\n",
       "      <td>                             rRNA</td>\n",
       "      <td>                                              rrna</td>\n",
       "    </tr>\n",
       "    <tr>\n",
       "      <th>40061</th>\n",
       "      <td>                            ncRNA</td>\n",
       "      <td>                                             ncrna</td>\n",
       "    </tr>\n",
       "    <tr>\n",
       "      <th>40062</th>\n",
       "      <td>                            miRNA</td>\n",
       "      <td>                                             mirna</td>\n",
       "    </tr>\n",
       "    <tr>\n",
       "      <th>40063</th>\n",
       "      <td>                             tRNA</td>\n",
       "      <td>                                              trna</td>\n",
       "    </tr>\n",
       "    <tr>\n",
       "      <th>40064</th>\n",
       "      <td>                           snoRNA</td>\n",
       "      <td>                                            snorna</td>\n",
       "    </tr>\n",
       "    <tr>\n",
       "      <th>40065</th>\n",
       "      <td>                            snRNA</td>\n",
       "      <td>                                             snrna</td>\n",
       "    </tr>\n",
       "    <tr>\n",
       "      <th>40066</th>\n",
       "      <td>                protein_structure</td>\n",
       "      <td>                                 protein_structure</td>\n",
       "    </tr>\n",
       "    <tr>\n",
       "      <th>40067</th>\n",
       "      <td>                       transcript</td>\n",
       "      <td>                                        transcript</td>\n",
       "    </tr>\n",
       "    <tr>\n",
       "      <th>40068</th>\n",
       "      <td>                          Complex</td>\n",
       "      <td>                                           complex</td>\n",
       "    </tr>\n",
       "    <tr>\n",
       "      <th>40069</th>\n",
       "      <td>                              RNA</td>\n",
       "      <td>                                               rna</td>\n",
       "    </tr>\n",
       "    <tr>\n",
       "      <th>40071</th>\n",
       "      <td>                       hs_hivprot</td>\n",
       "      <td> hiv protein interactions from http://www.ncbi....</td>\n",
       "    </tr>\n",
       "    <tr>\n",
       "      <th>40072</th>\n",
       "      <td>                        hs_hivrep</td>\n",
       "      <td> hiv replication interactions from http://www.n...</td>\n",
       "    </tr>\n",
       "    <tr>\n",
       "      <th>40073</th>\n",
       "      <td>                    hs_hivrepphen</td>\n",
       "      <td> hiv replication interactions with phenotype fr...</td>\n",
       "    </tr>\n",
       "    <tr>\n",
       "      <th>40074</th>\n",
       "      <td>                   hs_hivprotphen</td>\n",
       "      <td> hiv protein interactions with phenotype from h...</td>\n",
       "    </tr>\n",
       "    <tr>\n",
       "      <th>40075</th>\n",
       "      <td>                      hiv155030.0</td>\n",
       "      <td> interaction with hiv protein Pr55(Gag) from ht...</td>\n",
       "    </tr>\n",
       "    <tr>\n",
       "      <th>40076</th>\n",
       "      <td>                      hiv155348.0</td>\n",
       "      <td> interaction with hiv protein Gag-Pol from http...</td>\n",
       "    </tr>\n",
       "    <tr>\n",
       "      <th>40077</th>\n",
       "      <td>                      hiv155459.0</td>\n",
       "      <td> interaction with hiv protein Vif from http://w...</td>\n",
       "    </tr>\n",
       "    <tr>\n",
       "      <th>40078</th>\n",
       "      <td>                      hiv155807.0</td>\n",
       "      <td> interaction with hiv protein Vpr from http://w...</td>\n",
       "    </tr>\n",
       "    <tr>\n",
       "      <th>40079</th>\n",
       "      <td>                      hiv155871.0</td>\n",
       "      <td> interaction with hiv protein Tat from http://w...</td>\n",
       "    </tr>\n",
       "    <tr>\n",
       "      <th>40080</th>\n",
       "      <td>                      hiv155908.0</td>\n",
       "      <td> interaction with hiv protein Rev from http://w...</td>\n",
       "    </tr>\n",
       "    <tr>\n",
       "      <th>40081</th>\n",
       "      <td>                      hiv155945.0</td>\n",
       "      <td> interaction with hiv protein Vpu from http://w...</td>\n",
       "    </tr>\n",
       "    <tr>\n",
       "      <th>40082</th>\n",
       "      <td>                      hiv155971.0</td>\n",
       "      <td> interaction with hiv protein Envelope surface ...</td>\n",
       "    </tr>\n",
       "    <tr>\n",
       "      <th>40083</th>\n",
       "      <td>                      hiv156110.0</td>\n",
       "      <td> interaction with hiv protein Nef from http://w...</td>\n",
       "    </tr>\n",
       "    <tr>\n",
       "      <th>40084</th>\n",
       "      <td>                    hiv19424028.0</td>\n",
       "      <td> interaction with hiv protein Asp from http://w...</td>\n",
       "    </tr>\n",
       "    <tr>\n",
       "      <th>40085</th>\n",
       "      <td>                       hs_sivcand</td>\n",
       "      <td>                 SIV candidated from Anna Jasinska</td>\n",
       "    </tr>\n",
       "    <tr>\n",
       "      <th>40086</th>\n",
       "      <td>                          ver_LOC</td>\n",
       "      <td>                       vervet monkey unknown genes</td>\n",
       "    </tr>\n",
       "    <tr>\n",
       "      <th>40087</th>\n",
       "      <td>                        all_genes</td>\n",
       "      <td> all genes in vervet annotation by mike montagu...</td>\n",
       "    </tr>\n",
       "  </tbody>\n",
       "</table>\n",
       "<p>40087 rows × 2 columns</p>\n",
       "</div>"
      ],
      "text/plain": [
       "                          go_identifier  \\\n",
       "0                                  is_a   \n",
       "1                              consider   \n",
       "2                           replaced_by   \n",
       "3                  Cross_product_review   \n",
       "4                   goantislim_grouping   \n",
       "5               gocheck_do_not_annotate   \n",
       "6      gocheck_do_not_manually_annotate   \n",
       "7                    goslim_aspergillus   \n",
       "8                        goslim_candida   \n",
       "9                        goslim_generic   \n",
       "10                           goslim_goa   \n",
       "11                  goslim_metagenomics   \n",
       "12                           goslim_pir   \n",
       "13                         goslim_plant   \n",
       "14                         goslim_pombe   \n",
       "15                         goslim_virus   \n",
       "16                         goslim_yeast   \n",
       "17                        gosubset_prok   \n",
       "18                      mf_needs_review   \n",
       "19                   termgenie_unvetted   \n",
       "20                        virus_checked   \n",
       "21                 negatively_regulates   \n",
       "22                       never_in_taxon   \n",
       "23                              part_of   \n",
       "24                 positively_regulates   \n",
       "25                            regulates   \n",
       "26                           GO:0000001   \n",
       "27                                exact   \n",
       "28                           GO:0000002   \n",
       "29                           GO:0000003   \n",
       "...                                 ...   \n",
       "40057                  colocalizes_with   \n",
       "40058                              gene   \n",
       "40059                           protein   \n",
       "40060                              rRNA   \n",
       "40061                             ncRNA   \n",
       "40062                             miRNA   \n",
       "40063                              tRNA   \n",
       "40064                            snoRNA   \n",
       "40065                             snRNA   \n",
       "40066                 protein_structure   \n",
       "40067                        transcript   \n",
       "40068                           Complex   \n",
       "40069                               RNA   \n",
       "40071                        hs_hivprot   \n",
       "40072                         hs_hivrep   \n",
       "40073                     hs_hivrepphen   \n",
       "40074                    hs_hivprotphen   \n",
       "40075                       hiv155030.0   \n",
       "40076                       hiv155348.0   \n",
       "40077                       hiv155459.0   \n",
       "40078                       hiv155807.0   \n",
       "40079                       hiv155871.0   \n",
       "40080                       hiv155908.0   \n",
       "40081                       hiv155945.0   \n",
       "40082                       hiv155971.0   \n",
       "40083                       hiv156110.0   \n",
       "40084                     hiv19424028.0   \n",
       "40085                        hs_sivcand   \n",
       "40086                           ver_LOC   \n",
       "40087                         all_genes   \n",
       "\n",
       "                                                 go_name  \n",
       "0                                                   is_a  \n",
       "1                                               consider  \n",
       "2                                            replaced_by  \n",
       "3                                            Involved_in  \n",
       "4                  Grouping classes that can be excluded  \n",
       "5              Term not to be used for direct annotation  \n",
       "6       Term not to be used for direct manual annotation  \n",
       "7                                    Aspergillus GO slim  \n",
       "8                                        Candida GO slim  \n",
       "9                                        Generic GO slim  \n",
       "10                                 GOA and proteome slim  \n",
       "11                                  Metagenomics GO slim  \n",
       "12                                           PIR GO slim  \n",
       "13                                         Plant GO slim  \n",
       "14                                 Fission yeast GO slim  \n",
       "15                                         Viral GO slim  \n",
       "16                                         Yeast GO slim  \n",
       "17                                 Prokaryotic GO subset  \n",
       "18         Catalytic activity terms in need of attention  \n",
       "19     Terms created by TermGenie that do not follow ...  \n",
       "20                                  Viral overhaul terms  \n",
       "21                                  negatively_regulates  \n",
       "22                                        never_in_taxon  \n",
       "23                                               part_of  \n",
       "24                                  positively_regulates  \n",
       "25                                             regulates  \n",
       "26                             mitochondrion inheritance  \n",
       "27                                                 exact  \n",
       "28                      mitochondrial genome maintenance  \n",
       "29                                          reproduction  \n",
       "...                                                  ...  \n",
       "40057                                   colocalizes_with  \n",
       "40058                                               gene  \n",
       "40059                                            protein  \n",
       "40060                                               rrna  \n",
       "40061                                              ncrna  \n",
       "40062                                              mirna  \n",
       "40063                                               trna  \n",
       "40064                                             snorna  \n",
       "40065                                              snrna  \n",
       "40066                                  protein_structure  \n",
       "40067                                         transcript  \n",
       "40068                                            complex  \n",
       "40069                                                rna  \n",
       "40071  hiv protein interactions from http://www.ncbi....  \n",
       "40072  hiv replication interactions from http://www.n...  \n",
       "40073  hiv replication interactions with phenotype fr...  \n",
       "40074  hiv protein interactions with phenotype from h...  \n",
       "40075  interaction with hiv protein Pr55(Gag) from ht...  \n",
       "40076  interaction with hiv protein Gag-Pol from http...  \n",
       "40077  interaction with hiv protein Vif from http://w...  \n",
       "40078  interaction with hiv protein Vpr from http://w...  \n",
       "40079  interaction with hiv protein Tat from http://w...  \n",
       "40080  interaction with hiv protein Rev from http://w...  \n",
       "40081  interaction with hiv protein Vpu from http://w...  \n",
       "40082  interaction with hiv protein Envelope surface ...  \n",
       "40083  interaction with hiv protein Nef from http://w...  \n",
       "40084  interaction with hiv protein Asp from http://w...  \n",
       "40085                  SIV candidated from Anna Jasinska  \n",
       "40086                        vervet monkey unknown genes  \n",
       "40087  all genes in vervet annotation by mike montagu...  \n",
       "\n",
       "[40087 rows x 2 columns]"
      ]
     },
     "execution_count": 10,
     "metadata": {},
     "output_type": "execute_result"
    }
   ],
   "source": [
    "cat2_to_name"
   ]
  },
  {
   "cell_type": "markdown",
   "metadata": {},
   "source": [
    "## get go associations for gene list"
   ]
  },
  {
   "cell_type": "code",
   "execution_count": 11,
   "metadata": {
    "collapsed": false
   },
   "outputs": [],
   "source": [
    "gene_to_go = pd.read_csv(jn(assoc_dir,\"gene_to_cat.csv\"),index_col=0)\n",
    "gene_to_name = pd.read_csv(jn(assoc_dir,\"gene_to_name.csv\"),index_col=0)\n",
    "go_to_name = pd.read_csv(jn(assoc_dir,\"cat_to_name.csv\"),index_col=0)"
   ]
  },
  {
   "cell_type": "code",
   "execution_count": 1077,
   "metadata": {
    "collapsed": false
   },
   "outputs": [
    {
     "data": {
      "text/html": [
       "<div style=\"max-height:1000px;max-width:1500px;overflow:auto;\">\n",
       "<table border=\"1\" class=\"dataframe\">\n",
       "  <thead>\n",
       "    <tr style=\"text-align: right;\">\n",
       "      <th></th>\n",
       "      <th>n_genes</th>\n",
       "      <th>out_of</th>\n",
       "      <th>rank</th>\n",
       "      <th>go_name</th>\n",
       "    </tr>\n",
       "    <tr>\n",
       "      <th>go_identifier</th>\n",
       "      <th></th>\n",
       "      <th></th>\n",
       "      <th></th>\n",
       "      <th></th>\n",
       "    </tr>\n",
       "  </thead>\n",
       "  <tbody>\n",
       "    <tr>\n",
       "      <th>GO:0000014</th>\n",
       "      <td>  1</td>\n",
       "      <td> 0</td>\n",
       "      <td> 0</td>\n",
       "      <td> single-stranded DNA endodeoxyribonuclease acti...</td>\n",
       "    </tr>\n",
       "    <tr>\n",
       "      <th>GO:0000060</th>\n",
       "      <td>  1</td>\n",
       "      <td> 0</td>\n",
       "      <td> 0</td>\n",
       "      <td>        protein import into nucleus, translocation</td>\n",
       "    </tr>\n",
       "    <tr>\n",
       "      <th>GO:0000075</th>\n",
       "      <td>  2</td>\n",
       "      <td> 0</td>\n",
       "      <td> 0</td>\n",
       "      <td>                             cell cycle checkpoint</td>\n",
       "    </tr>\n",
       "    <tr>\n",
       "      <th>GO:0000082</th>\n",
       "      <td>  2</td>\n",
       "      <td> 0</td>\n",
       "      <td> 0</td>\n",
       "      <td>             G1/S transition of mitotic cell cycle</td>\n",
       "    </tr>\n",
       "    <tr>\n",
       "      <th>GO:0000087</th>\n",
       "      <td>  2</td>\n",
       "      <td> 0</td>\n",
       "      <td> 0</td>\n",
       "      <td>                                   mitotic M phase</td>\n",
       "    </tr>\n",
       "    <tr>\n",
       "      <th>GO:0000088</th>\n",
       "      <td>  1</td>\n",
       "      <td> 0</td>\n",
       "      <td> 0</td>\n",
       "      <td>                                  mitotic prophase</td>\n",
       "    </tr>\n",
       "    <tr>\n",
       "      <th>GO:0000090</th>\n",
       "      <td>  1</td>\n",
       "      <td> 0</td>\n",
       "      <td> 0</td>\n",
       "      <td>                                  mitotic anaphase</td>\n",
       "    </tr>\n",
       "    <tr>\n",
       "      <th>GO:0000096</th>\n",
       "      <td>  1</td>\n",
       "      <td> 0</td>\n",
       "      <td> 0</td>\n",
       "      <td>               sulfur amino acid metabolic process</td>\n",
       "    </tr>\n",
       "    <tr>\n",
       "      <th>GO:0000098</th>\n",
       "      <td>  1</td>\n",
       "      <td> 0</td>\n",
       "      <td> 0</td>\n",
       "      <td>               sulfur amino acid catabolic process</td>\n",
       "    </tr>\n",
       "    <tr>\n",
       "      <th>GO:0000122</th>\n",
       "      <td>  2</td>\n",
       "      <td> 0</td>\n",
       "      <td> 0</td>\n",
       "      <td> negative regulation of transcription from RNA ...</td>\n",
       "    </tr>\n",
       "    <tr>\n",
       "      <th>GO:0000151</th>\n",
       "      <td>  1</td>\n",
       "      <td> 0</td>\n",
       "      <td> 0</td>\n",
       "      <td>                          ubiquitin ligase complex</td>\n",
       "    </tr>\n",
       "    <tr>\n",
       "      <th>GO:0000166</th>\n",
       "      <td> 14</td>\n",
       "      <td> 0</td>\n",
       "      <td> 0</td>\n",
       "      <td>                                nucleotide binding</td>\n",
       "    </tr>\n",
       "    <tr>\n",
       "      <th>GO:0000185</th>\n",
       "      <td>  1</td>\n",
       "      <td> 0</td>\n",
       "      <td> 0</td>\n",
       "      <td>                     activation of MAPKKK activity</td>\n",
       "    </tr>\n",
       "    <tr>\n",
       "      <th>GO:0000255</th>\n",
       "      <td>  1</td>\n",
       "      <td> 0</td>\n",
       "      <td> 0</td>\n",
       "      <td>                       allantoin metabolic process</td>\n",
       "    </tr>\n",
       "    <tr>\n",
       "      <th>GO:0000278</th>\n",
       "      <td>  2</td>\n",
       "      <td> 0</td>\n",
       "      <td> 0</td>\n",
       "      <td>                                mitotic cell cycle</td>\n",
       "    </tr>\n",
       "    <tr>\n",
       "      <th>GO:0000390</th>\n",
       "      <td>  1</td>\n",
       "      <td> 0</td>\n",
       "      <td> 0</td>\n",
       "      <td>                  spliceosomal complex disassembly</td>\n",
       "    </tr>\n",
       "    <tr>\n",
       "      <th>GO:0000398</th>\n",
       "      <td>  2</td>\n",
       "      <td> 0</td>\n",
       "      <td> 0</td>\n",
       "      <td>                    mRNA splicing, via spliceosome</td>\n",
       "    </tr>\n",
       "    <tr>\n",
       "      <th>GO:0000422</th>\n",
       "      <td>  1</td>\n",
       "      <td> 0</td>\n",
       "      <td> 0</td>\n",
       "      <td>                         mitochondrion degradation</td>\n",
       "    </tr>\n",
       "    <tr>\n",
       "      <th>GO:0000724</th>\n",
       "      <td>  1</td>\n",
       "      <td> 0</td>\n",
       "      <td> 0</td>\n",
       "      <td> double-strand break repair via homologous reco...</td>\n",
       "    </tr>\n",
       "    <tr>\n",
       "      <th>GO:0000737</th>\n",
       "      <td>  1</td>\n",
       "      <td> 0</td>\n",
       "      <td> 0</td>\n",
       "      <td>            DNA catabolic process, endonucleolytic</td>\n",
       "    </tr>\n",
       "    <tr>\n",
       "      <th>GO:0000910</th>\n",
       "      <td>  2</td>\n",
       "      <td> 0</td>\n",
       "      <td> 0</td>\n",
       "      <td>                                       cytokinesis</td>\n",
       "    </tr>\n",
       "    <tr>\n",
       "      <th>GO:0000922</th>\n",
       "      <td>  1</td>\n",
       "      <td> 0</td>\n",
       "      <td> 0</td>\n",
       "      <td>                                      spindle pole</td>\n",
       "    </tr>\n",
       "    <tr>\n",
       "      <th>GO:0000979</th>\n",
       "      <td>  1</td>\n",
       "      <td> 0</td>\n",
       "      <td> 0</td>\n",
       "      <td> RNA polymerase II core promoter sequence-speci...</td>\n",
       "    </tr>\n",
       "    <tr>\n",
       "      <th>GO:0001103</th>\n",
       "      <td>  1</td>\n",
       "      <td> 0</td>\n",
       "      <td> 0</td>\n",
       "      <td> RNA polymerase II repressing transcription fac...</td>\n",
       "    </tr>\n",
       "    <tr>\n",
       "      <th>GO:0001104</th>\n",
       "      <td>  1</td>\n",
       "      <td> 0</td>\n",
       "      <td> 0</td>\n",
       "      <td> RNA polymerase II transcription cofactor activity</td>\n",
       "    </tr>\n",
       "    <tr>\n",
       "      <th>GO:0001106</th>\n",
       "      <td>  1</td>\n",
       "      <td> 0</td>\n",
       "      <td> 0</td>\n",
       "      <td> RNA polymerase II transcription corepressor ac...</td>\n",
       "    </tr>\n",
       "    <tr>\n",
       "      <th>GO:0001523</th>\n",
       "      <td>  1</td>\n",
       "      <td> 0</td>\n",
       "      <td> 0</td>\n",
       "      <td>                        retinoid metabolic process</td>\n",
       "    </tr>\n",
       "    <tr>\n",
       "      <th>GO:0001525</th>\n",
       "      <td>  2</td>\n",
       "      <td> 0</td>\n",
       "      <td> 0</td>\n",
       "      <td>                                      angiogenesis</td>\n",
       "    </tr>\n",
       "    <tr>\n",
       "      <th>GO:0001541</th>\n",
       "      <td>  2</td>\n",
       "      <td> 0</td>\n",
       "      <td> 0</td>\n",
       "      <td>                      ovarian follicle development</td>\n",
       "    </tr>\n",
       "    <tr>\n",
       "      <th>GO:0001553</th>\n",
       "      <td>  1</td>\n",
       "      <td> 0</td>\n",
       "      <td> 0</td>\n",
       "      <td>                                     luteinization</td>\n",
       "    </tr>\n",
       "    <tr>\n",
       "      <th>...</th>\n",
       "      <td>...</td>\n",
       "      <td>...</td>\n",
       "      <td>...</td>\n",
       "      <td>...</td>\n",
       "    </tr>\n",
       "    <tr>\n",
       "      <th>GO:0097105</th>\n",
       "      <td>  1</td>\n",
       "      <td> 0</td>\n",
       "      <td> 0</td>\n",
       "      <td>                     presynaptic membrane assembly</td>\n",
       "    </tr>\n",
       "    <tr>\n",
       "      <th>GO:0097109</th>\n",
       "      <td>  1</td>\n",
       "      <td> 0</td>\n",
       "      <td> 0</td>\n",
       "      <td>                 neuroligin family protein binding</td>\n",
       "    </tr>\n",
       "    <tr>\n",
       "      <th>GO:0097112</th>\n",
       "      <td>  1</td>\n",
       "      <td> 0</td>\n",
       "      <td> 0</td>\n",
       "      <td>       gamma-aminobutyric acid receptor clustering</td>\n",
       "    </tr>\n",
       "    <tr>\n",
       "      <th>GO:0097114</th>\n",
       "      <td>  1</td>\n",
       "      <td> 0</td>\n",
       "      <td> 0</td>\n",
       "      <td>          N-methyl-D-aspartate receptor clustering</td>\n",
       "    </tr>\n",
       "    <tr>\n",
       "      <th>GO:0097116</th>\n",
       "      <td>  1</td>\n",
       "      <td> 0</td>\n",
       "      <td> 0</td>\n",
       "      <td>                               gephyrin clustering</td>\n",
       "    </tr>\n",
       "    <tr>\n",
       "      <th>GO:0097117</th>\n",
       "      <td>  1</td>\n",
       "      <td> 0</td>\n",
       "      <td> 0</td>\n",
       "      <td>    guanylate kinase-associated protein clustering</td>\n",
       "    </tr>\n",
       "    <tr>\n",
       "      <th>GO:0097118</th>\n",
       "      <td>  1</td>\n",
       "      <td> 0</td>\n",
       "      <td> 0</td>\n",
       "      <td>                             neuroligin clustering</td>\n",
       "    </tr>\n",
       "    <tr>\n",
       "      <th>GO:0097119</th>\n",
       "      <td>  1</td>\n",
       "      <td> 0</td>\n",
       "      <td> 0</td>\n",
       "      <td>        postsynaptic density protein 95 clustering</td>\n",
       "    </tr>\n",
       "    <tr>\n",
       "      <th>GO:0097120</th>\n",
       "      <td>  1</td>\n",
       "      <td> 0</td>\n",
       "      <td> 0</td>\n",
       "      <td>                  receptor localization to synapse</td>\n",
       "    </tr>\n",
       "    <tr>\n",
       "      <th>GO:0097286</th>\n",
       "      <td>  1</td>\n",
       "      <td> 0</td>\n",
       "      <td> 0</td>\n",
       "      <td>                                   iron ion import</td>\n",
       "    </tr>\n",
       "    <tr>\n",
       "      <th>GO:0097449</th>\n",
       "      <td>  1</td>\n",
       "      <td> 0</td>\n",
       "      <td> 0</td>\n",
       "      <td>                              astrocyte projection</td>\n",
       "    </tr>\n",
       "    <tr>\n",
       "      <th>GO:0098655</th>\n",
       "      <td>  1</td>\n",
       "      <td> 0</td>\n",
       "      <td> 0</td>\n",
       "      <td>                    cation transmembrane transport</td>\n",
       "    </tr>\n",
       "    <tr>\n",
       "      <th>GO:1900025</th>\n",
       "      <td>  1</td>\n",
       "      <td> 0</td>\n",
       "      <td> 0</td>\n",
       "      <td> negative regulation of substrate adhesion-depe...</td>\n",
       "    </tr>\n",
       "    <tr>\n",
       "      <th>GO:1902186</th>\n",
       "      <td>  1</td>\n",
       "      <td> 0</td>\n",
       "      <td> 0</td>\n",
       "      <td>        regulation of viral release from host cell</td>\n",
       "    </tr>\n",
       "    <tr>\n",
       "      <th>GO:1902305</th>\n",
       "      <td>  1</td>\n",
       "      <td> 0</td>\n",
       "      <td> 0</td>\n",
       "      <td>  regulation of sodium ion transmembrane transport</td>\n",
       "    </tr>\n",
       "    <tr>\n",
       "      <th>GO:1902560</th>\n",
       "      <td>  1</td>\n",
       "      <td> 0</td>\n",
       "      <td> 0</td>\n",
       "      <td>                             GMP reductase complex</td>\n",
       "    </tr>\n",
       "    <tr>\n",
       "      <th>GO:1902749</th>\n",
       "      <td>  1</td>\n",
       "      <td> 0</td>\n",
       "      <td> 0</td>\n",
       "      <td>    regulation of cell cycle G2/M phase transition</td>\n",
       "    </tr>\n",
       "    <tr>\n",
       "      <th>GO:1902911</th>\n",
       "      <td>  1</td>\n",
       "      <td> 0</td>\n",
       "      <td> 0</td>\n",
       "      <td>                            protein kinase complex</td>\n",
       "    </tr>\n",
       "    <tr>\n",
       "      <th>GO:1990090</th>\n",
       "      <td>  1</td>\n",
       "      <td> 0</td>\n",
       "      <td> 0</td>\n",
       "      <td> cellular response to nerve growth factor stimulus</td>\n",
       "    </tr>\n",
       "    <tr>\n",
       "      <th>GO:2000114</th>\n",
       "      <td>  1</td>\n",
       "      <td> 0</td>\n",
       "      <td> 0</td>\n",
       "      <td>      regulation of establishment of cell polarity</td>\n",
       "    </tr>\n",
       "    <tr>\n",
       "      <th>GO:2000134</th>\n",
       "      <td>  1</td>\n",
       "      <td> 0</td>\n",
       "      <td> 0</td>\n",
       "      <td> negative regulation of G1/S transition of mito...</td>\n",
       "    </tr>\n",
       "    <tr>\n",
       "      <th>GO:2000145</th>\n",
       "      <td>  1</td>\n",
       "      <td> 0</td>\n",
       "      <td> 0</td>\n",
       "      <td>                       regulation of cell motility</td>\n",
       "    </tr>\n",
       "    <tr>\n",
       "      <th>GO:2000304</th>\n",
       "      <td>  1</td>\n",
       "      <td> 0</td>\n",
       "      <td> 0</td>\n",
       "      <td> positive regulation of ceramide biosynthetic p...</td>\n",
       "    </tr>\n",
       "    <tr>\n",
       "      <th>GO:2000310</th>\n",
       "      <td>  1</td>\n",
       "      <td> 0</td>\n",
       "      <td> 0</td>\n",
       "      <td> regulation of N-methyl-D-aspartate selective g...</td>\n",
       "    </tr>\n",
       "    <tr>\n",
       "      <th>GO:2000311</th>\n",
       "      <td>  1</td>\n",
       "      <td> 0</td>\n",
       "      <td> 0</td>\n",
       "      <td> regulation of alpha-amino-3-hydroxy-5-methyl-4...</td>\n",
       "    </tr>\n",
       "    <tr>\n",
       "      <th>GO:2000463</th>\n",
       "      <td>  1</td>\n",
       "      <td> 0</td>\n",
       "      <td> 0</td>\n",
       "      <td> positive regulation of excitatory postsynaptic...</td>\n",
       "    </tr>\n",
       "    <tr>\n",
       "      <th>GO:2000599</th>\n",
       "      <td>  1</td>\n",
       "      <td> 0</td>\n",
       "      <td> 0</td>\n",
       "      <td>   negative regulation of cyclin catabolic process</td>\n",
       "    </tr>\n",
       "    <tr>\n",
       "      <th>GO:2001014</th>\n",
       "      <td>  1</td>\n",
       "      <td> 0</td>\n",
       "      <td> 0</td>\n",
       "      <td> regulation of skeletal muscle cell differentia...</td>\n",
       "    </tr>\n",
       "    <tr>\n",
       "      <th>GO:2001234</th>\n",
       "      <td>  1</td>\n",
       "      <td> 0</td>\n",
       "      <td> 0</td>\n",
       "      <td> negative regulation of apoptotic signaling pat...</td>\n",
       "    </tr>\n",
       "    <tr>\n",
       "      <th>GO:2001237</th>\n",
       "      <td>  1</td>\n",
       "      <td> 0</td>\n",
       "      <td> 0</td>\n",
       "      <td> negative regulation of extrinsic apoptotic sig...</td>\n",
       "    </tr>\n",
       "  </tbody>\n",
       "</table>\n",
       "<p>888 rows × 4 columns</p>\n",
       "</div>"
      ],
      "text/plain": [
       "               n_genes  out_of  rank  \\\n",
       "go_identifier                          \n",
       "GO:0000014           1       0     0   \n",
       "GO:0000060           1       0     0   \n",
       "GO:0000075           2       0     0   \n",
       "GO:0000082           2       0     0   \n",
       "GO:0000087           2       0     0   \n",
       "GO:0000088           1       0     0   \n",
       "GO:0000090           1       0     0   \n",
       "GO:0000096           1       0     0   \n",
       "GO:0000098           1       0     0   \n",
       "GO:0000122           2       0     0   \n",
       "GO:0000151           1       0     0   \n",
       "GO:0000166          14       0     0   \n",
       "GO:0000185           1       0     0   \n",
       "GO:0000255           1       0     0   \n",
       "GO:0000278           2       0     0   \n",
       "GO:0000390           1       0     0   \n",
       "GO:0000398           2       0     0   \n",
       "GO:0000422           1       0     0   \n",
       "GO:0000724           1       0     0   \n",
       "GO:0000737           1       0     0   \n",
       "GO:0000910           2       0     0   \n",
       "GO:0000922           1       0     0   \n",
       "GO:0000979           1       0     0   \n",
       "GO:0001103           1       0     0   \n",
       "GO:0001104           1       0     0   \n",
       "GO:0001106           1       0     0   \n",
       "GO:0001523           1       0     0   \n",
       "GO:0001525           2       0     0   \n",
       "GO:0001541           2       0     0   \n",
       "GO:0001553           1       0     0   \n",
       "...                ...     ...   ...   \n",
       "GO:0097105           1       0     0   \n",
       "GO:0097109           1       0     0   \n",
       "GO:0097112           1       0     0   \n",
       "GO:0097114           1       0     0   \n",
       "GO:0097116           1       0     0   \n",
       "GO:0097117           1       0     0   \n",
       "GO:0097118           1       0     0   \n",
       "GO:0097119           1       0     0   \n",
       "GO:0097120           1       0     0   \n",
       "GO:0097286           1       0     0   \n",
       "GO:0097449           1       0     0   \n",
       "GO:0098655           1       0     0   \n",
       "GO:1900025           1       0     0   \n",
       "GO:1902186           1       0     0   \n",
       "GO:1902305           1       0     0   \n",
       "GO:1902560           1       0     0   \n",
       "GO:1902749           1       0     0   \n",
       "GO:1902911           1       0     0   \n",
       "GO:1990090           1       0     0   \n",
       "GO:2000114           1       0     0   \n",
       "GO:2000134           1       0     0   \n",
       "GO:2000145           1       0     0   \n",
       "GO:2000304           1       0     0   \n",
       "GO:2000310           1       0     0   \n",
       "GO:2000311           1       0     0   \n",
       "GO:2000463           1       0     0   \n",
       "GO:2000599           1       0     0   \n",
       "GO:2001014           1       0     0   \n",
       "GO:2001234           1       0     0   \n",
       "GO:2001237           1       0     0   \n",
       "\n",
       "                                                         go_name  \n",
       "go_identifier                                                     \n",
       "GO:0000014     single-stranded DNA endodeoxyribonuclease acti...  \n",
       "GO:0000060            protein import into nucleus, translocation  \n",
       "GO:0000075                                 cell cycle checkpoint  \n",
       "GO:0000082                 G1/S transition of mitotic cell cycle  \n",
       "GO:0000087                                       mitotic M phase  \n",
       "GO:0000088                                      mitotic prophase  \n",
       "GO:0000090                                      mitotic anaphase  \n",
       "GO:0000096                   sulfur amino acid metabolic process  \n",
       "GO:0000098                   sulfur amino acid catabolic process  \n",
       "GO:0000122     negative regulation of transcription from RNA ...  \n",
       "GO:0000151                              ubiquitin ligase complex  \n",
       "GO:0000166                                    nucleotide binding  \n",
       "GO:0000185                         activation of MAPKKK activity  \n",
       "GO:0000255                           allantoin metabolic process  \n",
       "GO:0000278                                    mitotic cell cycle  \n",
       "GO:0000390                      spliceosomal complex disassembly  \n",
       "GO:0000398                        mRNA splicing, via spliceosome  \n",
       "GO:0000422                             mitochondrion degradation  \n",
       "GO:0000724     double-strand break repair via homologous reco...  \n",
       "GO:0000737                DNA catabolic process, endonucleolytic  \n",
       "GO:0000910                                           cytokinesis  \n",
       "GO:0000922                                          spindle pole  \n",
       "GO:0000979     RNA polymerase II core promoter sequence-speci...  \n",
       "GO:0001103     RNA polymerase II repressing transcription fac...  \n",
       "GO:0001104     RNA polymerase II transcription cofactor activity  \n",
       "GO:0001106     RNA polymerase II transcription corepressor ac...  \n",
       "GO:0001523                            retinoid metabolic process  \n",
       "GO:0001525                                          angiogenesis  \n",
       "GO:0001541                          ovarian follicle development  \n",
       "GO:0001553                                         luteinization  \n",
       "...                                                          ...  \n",
       "GO:0097105                         presynaptic membrane assembly  \n",
       "GO:0097109                     neuroligin family protein binding  \n",
       "GO:0097112           gamma-aminobutyric acid receptor clustering  \n",
       "GO:0097114              N-methyl-D-aspartate receptor clustering  \n",
       "GO:0097116                                   gephyrin clustering  \n",
       "GO:0097117        guanylate kinase-associated protein clustering  \n",
       "GO:0097118                                 neuroligin clustering  \n",
       "GO:0097119            postsynaptic density protein 95 clustering  \n",
       "GO:0097120                      receptor localization to synapse  \n",
       "GO:0097286                                       iron ion import  \n",
       "GO:0097449                                  astrocyte projection  \n",
       "GO:0098655                        cation transmembrane transport  \n",
       "GO:1900025     negative regulation of substrate adhesion-depe...  \n",
       "GO:1902186            regulation of viral release from host cell  \n",
       "GO:1902305      regulation of sodium ion transmembrane transport  \n",
       "GO:1902560                                 GMP reductase complex  \n",
       "GO:1902749        regulation of cell cycle G2/M phase transition  \n",
       "GO:1902911                                protein kinase complex  \n",
       "GO:1990090     cellular response to nerve growth factor stimulus  \n",
       "GO:2000114          regulation of establishment of cell polarity  \n",
       "GO:2000134     negative regulation of G1/S transition of mito...  \n",
       "GO:2000145                           regulation of cell motility  \n",
       "GO:2000304     positive regulation of ceramide biosynthetic p...  \n",
       "GO:2000310     regulation of N-methyl-D-aspartate selective g...  \n",
       "GO:2000311     regulation of alpha-amino-3-hydroxy-5-methyl-4...  \n",
       "GO:2000463     positive regulation of excitatory postsynaptic...  \n",
       "GO:2000599       negative regulation of cyclin catabolic process  \n",
       "GO:2001014     regulation of skeletal muscle cell differentia...  \n",
       "GO:2001234     negative regulation of apoptotic signaling pat...  \n",
       "GO:2001237     negative regulation of extrinsic apoptotic sig...  \n",
       "\n",
       "[888 rows x 4 columns]"
      ]
     },
     "execution_count": 1077,
     "metadata": {},
     "output_type": "execute_result"
    }
   ],
   "source": [
    "rank_table.join(go_to_name.set_index(\"go_identifier\",drop=True))"
   ]
  },
  {
   "cell_type": "code",
   "execution_count": 1199,
   "metadata": {
    "collapsed": false
   },
   "outputs": [],
   "source": [
    "def permut_assoc(rod_s, rnd, gene_df, gene_to_go, top_n, max_dist):\n",
    "    \"\"\"\n",
    "    This is the main function.\n",
    "    Use with rnd = 0 to get the real assoc.\n",
    "    \"\"\"\n",
    "    s = shift_rod(rod_s, rnd)\n",
    "    s.sort(ascending=False, inplace=True)\n",
    "    top_s = s.iloc[:top_n]\n",
    "    cand_genes = get_genes(top_s, gene_df, max_dist=max_dist)\n",
    "    assoc = get_go_assoc(cand_genes, gene_to_go)\n",
    "    return assoc\n",
    "\n",
    "def get_go_assoc(gene_ls, gene_to_go):\n",
    "    \"\"\"\n",
    "    Get series with number of genes associated with each\n",
    "    category in gene_to_go\n",
    "    \"\"\"\n",
    "    s = gene_to_go.set_index(\"gene_symbol\").ix[gene_ls].groupby(\"go_identifier\").apply(len)\n",
    "    return s\n",
    "\n",
    "def multiple_permut_assoc(rod_s, gene_df, gene_to_go, top_n, max_dist, n_runs, rnd_seed=None):\n",
    "    if rnd_seed is not None:\n",
    "        np.random.seed(rnd_seed)\n",
    "    assoc_table = pd.concat([permut_assoc(rod_s, rnd, gene_df, gene_to_go, top_n, max_dist) for rnd in np.random.rand(n_runs)],axis=1)\n",
    "    assoc_table = assoc_table.fillna(0)\n",
    "    return assoc_table\n",
    "\n",
    "def save_permut_assoc_table(assoc_table,fn):\n",
    "    assoc_table.to_csv(fn)\n",
    "\n",
    "def get_initial_rank_table(real_assoc):\n",
    "    return pd.DataFrame({\"n_genes\":real_assoc.values,\"rank\":0,\"out_of\":0},index=real_assoc.index)\n",
    "\n",
    "def get_p_val(rank_table):\n",
    "    \"\"\"\n",
    "    Input:\n",
    "    \n",
    "    \"\"\"\n",
    "    r =  1-rank_table[\"rank\"]*1./(rank_table[\"out_of\"]+1)\n",
    "    r.sort()\n",
    "    return r\n",
    "\n",
    "def update_rank(rank_table,permut_assoc_fh):\n",
    "    assoc_table = pd.read_csv(permut_assoc_fh,index_col=0)\n",
    "    r = assoc_table.apply(lambda row: get_rank(row,rank_table),axis=1)\n",
    "    return r\n",
    "    \n",
    "def total_rank(rank_table, permut_fns):\n",
    "    rt = rank_table.copy()\n",
    "    for f in permut_fns:\n",
    "        rt = update_rank(rt,permut_assoc_fh)\n",
    "    return rt\n",
    "    \n",
    "#def save_p_value_total(rank_table, permut_fns):\n",
    "    \n",
    "    \n",
    "def empirical_rank(value,dist):\n",
    "    \"\"\"\n",
    "    get empirical p value of\n",
    "    value with respect to list of \n",
    "    values in dist\n",
    "    \"\"\"\n",
    "    array = np.append(value,dist)\n",
    "    temp = array.argsort()\n",
    "    ranks = np.empty(len(array), int)\n",
    "    ranks[temp] = np.arange(len(array))\n",
    "    return ranks[0]\n",
    "\n",
    "def get_rank(series,rank_df):\n",
    "    go = series.name\n",
    "    try:\n",
    "        go_s = rank_df.ix[go]\n",
    "    except KeyError:\n",
    "        go_s = pd.Series({\"n_genes\":0,\"rank\":0,\"out_of\":0})\n",
    "    real_val = go_s[\"n_genes\"]\n",
    "    old_rank = go_s[\"rank\"]\n",
    "    old_out_of = go_s[\"out_of\"]\n",
    "    rank = empirical_rank(real_val,series.values)\n",
    "    new_rank = old_rank + rank\n",
    "    new_out_of = old_out_of + len(series)\n",
    "    return pd.Series({\"n_genes\":real_val,\"rank\":new_rank,\"out_of\":new_out_of})\n",
    "\n",
    "def get_genes_per_go(gene_ls,gene_to_go):\n",
    "    s = gene_to_go.set_index(\"gene_symbol\").ix[gene_ls].groupby(\"go_identifier\").apply(lambda x: list(x.index))\n",
    "    s.name = \"genes\"\n",
    "    return sqst"
   ]
  },
  {
   "cell_type": "code",
   "execution_count": 1195,
   "metadata": {
    "collapsed": false
   },
   "outputs": [],
   "source": [
    "r = get_go_assoc(cand_genes,gene_to_go)\n",
    "rank_table = get_initial_rank_table(r)"
   ]
  },
  {
   "cell_type": "code",
   "execution_count": 1178,
   "metadata": {
    "collapsed": false
   },
   "outputs": [],
   "source": [
    "genes_per_go = pd.Series(r0.index.values,index=r0.index)"
   ]
  },
  {
   "cell_type": "code",
   "execution_count": 1190,
   "metadata": {
    "collapsed": false
   },
   "outputs": [],
   "source": []
  },
  {
   "cell_type": "code",
   "execution_count": 1203,
   "metadata": {
    "collapsed": false
   },
   "outputs": [
    {
     "data": {
      "text/html": [
       "<div style=\"max-height:1000px;max-width:1500px;overflow:auto;\">\n",
       "<table border=\"1\" class=\"dataframe\">\n",
       "  <thead>\n",
       "    <tr style=\"text-align: right;\">\n",
       "      <th></th>\n",
       "      <th>n_genes</th>\n",
       "      <th>out_of</th>\n",
       "      <th>rank</th>\n",
       "      <th>genes</th>\n",
       "    </tr>\n",
       "    <tr>\n",
       "      <th>go_identifier</th>\n",
       "      <th></th>\n",
       "      <th></th>\n",
       "      <th></th>\n",
       "      <th></th>\n",
       "    </tr>\n",
       "  </thead>\n",
       "  <tbody>\n",
       "    <tr>\n",
       "      <th>GO:0000075</th>\n",
       "      <td>  1</td>\n",
       "      <td> 0</td>\n",
       "      <td> 0</td>\n",
       "      <td>                                          [ANAPC1]</td>\n",
       "    </tr>\n",
       "    <tr>\n",
       "      <th>GO:0000079</th>\n",
       "      <td>  1</td>\n",
       "      <td> 0</td>\n",
       "      <td> 0</td>\n",
       "      <td>                                           [HERC5]</td>\n",
       "    </tr>\n",
       "    <tr>\n",
       "      <th>GO:0000087</th>\n",
       "      <td>  1</td>\n",
       "      <td> 0</td>\n",
       "      <td> 0</td>\n",
       "      <td>                                          [ANAPC1]</td>\n",
       "    </tr>\n",
       "    <tr>\n",
       "      <th>GO:0000090</th>\n",
       "      <td>  1</td>\n",
       "      <td> 0</td>\n",
       "      <td> 0</td>\n",
       "      <td>                                          [ANAPC1]</td>\n",
       "    </tr>\n",
       "    <tr>\n",
       "      <th>GO:0000122</th>\n",
       "      <td>  2</td>\n",
       "      <td> 0</td>\n",
       "      <td> 0</td>\n",
       "      <td>                                     [TP63, TENM2]</td>\n",
       "    </tr>\n",
       "    <tr>\n",
       "      <th>GO:0000139</th>\n",
       "      <td>  2</td>\n",
       "      <td> 0</td>\n",
       "      <td> 0</td>\n",
       "      <td>                                  [HS3ST4, SCARA3]</td>\n",
       "    </tr>\n",
       "    <tr>\n",
       "      <th>GO:0000166</th>\n",
       "      <td> 24</td>\n",
       "      <td> 0</td>\n",
       "      <td> 0</td>\n",
       "      <td> [SCN8A, RAPGEF3, SYK, RFK, EPHB1, RYK, ATP13A4...</td>\n",
       "    </tr>\n",
       "    <tr>\n",
       "      <th>GO:0000185</th>\n",
       "      <td>  1</td>\n",
       "      <td> 0</td>\n",
       "      <td> 0</td>\n",
       "      <td>                                            [GRM5]</td>\n",
       "    </tr>\n",
       "    <tr>\n",
       "      <th>GO:0000187</th>\n",
       "      <td>  2</td>\n",
       "      <td> 0</td>\n",
       "      <td> 0</td>\n",
       "      <td>                                      [SYK, NTRK3]</td>\n",
       "    </tr>\n",
       "    <tr>\n",
       "      <th>GO:0000226</th>\n",
       "      <td>  1</td>\n",
       "      <td> 0</td>\n",
       "      <td> 0</td>\n",
       "      <td>                                           [PARD3]</td>\n",
       "    </tr>\n",
       "    <tr>\n",
       "      <th>GO:0000278</th>\n",
       "      <td>  1</td>\n",
       "      <td> 0</td>\n",
       "      <td> 0</td>\n",
       "      <td>                                          [ANAPC1]</td>\n",
       "    </tr>\n",
       "    <tr>\n",
       "      <th>GO:0000287</th>\n",
       "      <td>  1</td>\n",
       "      <td> 0</td>\n",
       "      <td> 0</td>\n",
       "      <td>                                          [ATP8A2]</td>\n",
       "    </tr>\n",
       "    <tr>\n",
       "      <th>GO:0000506</th>\n",
       "      <td>  1</td>\n",
       "      <td> 0</td>\n",
       "      <td> 0</td>\n",
       "      <td>                                            [PIGY]</td>\n",
       "    </tr>\n",
       "    <tr>\n",
       "      <th>GO:0000723</th>\n",
       "      <td>  1</td>\n",
       "      <td> 0</td>\n",
       "      <td> 0</td>\n",
       "      <td>                                           [XRCC5]</td>\n",
       "    </tr>\n",
       "    <tr>\n",
       "      <th>GO:0000783</th>\n",
       "      <td>  1</td>\n",
       "      <td> 0</td>\n",
       "      <td> 0</td>\n",
       "      <td>                                           [XRCC5]</td>\n",
       "    </tr>\n",
       "    <tr>\n",
       "      <th>GO:0000784</th>\n",
       "      <td>  1</td>\n",
       "      <td> 0</td>\n",
       "      <td> 0</td>\n",
       "      <td>                                           [XRCC5]</td>\n",
       "    </tr>\n",
       "    <tr>\n",
       "      <th>GO:0000785</th>\n",
       "      <td>  1</td>\n",
       "      <td> 0</td>\n",
       "      <td> 0</td>\n",
       "      <td>                                            [TP63]</td>\n",
       "    </tr>\n",
       "    <tr>\n",
       "      <th>GO:0000790</th>\n",
       "      <td>  1</td>\n",
       "      <td> 0</td>\n",
       "      <td> 0</td>\n",
       "      <td>                                            [TP63]</td>\n",
       "    </tr>\n",
       "    <tr>\n",
       "      <th>GO:0000978</th>\n",
       "      <td>  1</td>\n",
       "      <td> 0</td>\n",
       "      <td> 0</td>\n",
       "      <td>                                           [NR3C1]</td>\n",
       "    </tr>\n",
       "    <tr>\n",
       "      <th>GO:0000989</th>\n",
       "      <td>  1</td>\n",
       "      <td> 0</td>\n",
       "      <td> 0</td>\n",
       "      <td>                                            [TP63]</td>\n",
       "    </tr>\n",
       "    <tr>\n",
       "      <th>GO:0001077</th>\n",
       "      <td>  3</td>\n",
       "      <td> 0</td>\n",
       "      <td> 0</td>\n",
       "      <td>                              [TP63, NR3C1, CREB5]</td>\n",
       "    </tr>\n",
       "    <tr>\n",
       "      <th>GO:0001401</th>\n",
       "      <td>  1</td>\n",
       "      <td> 0</td>\n",
       "      <td> 0</td>\n",
       "      <td>                                          [SAMM50]</td>\n",
       "    </tr>\n",
       "    <tr>\n",
       "      <th>GO:0001501</th>\n",
       "      <td>  3</td>\n",
       "      <td> 0</td>\n",
       "      <td> 0</td>\n",
       "      <td>                                [TP63, ANKH, ARSE]</td>\n",
       "    </tr>\n",
       "    <tr>\n",
       "      <th>GO:0001508</th>\n",
       "      <td>  1</td>\n",
       "      <td> 0</td>\n",
       "      <td> 0</td>\n",
       "      <td>                                           [AKAP6]</td>\n",
       "    </tr>\n",
       "    <tr>\n",
       "      <th>GO:0001518</th>\n",
       "      <td>  1</td>\n",
       "      <td> 0</td>\n",
       "      <td> 0</td>\n",
       "      <td>                                           [SCN8A]</td>\n",
       "    </tr>\n",
       "    <tr>\n",
       "      <th>GO:0001523</th>\n",
       "      <td>  1</td>\n",
       "      <td> 0</td>\n",
       "      <td> 0</td>\n",
       "      <td>                                            [GPC5]</td>\n",
       "    </tr>\n",
       "    <tr>\n",
       "      <th>GO:0001525</th>\n",
       "      <td>  4</td>\n",
       "      <td> 0</td>\n",
       "      <td> 0</td>\n",
       "      <td>                     [RAPGEF3, SYK, EPHB1, THSD7A]</td>\n",
       "    </tr>\n",
       "    <tr>\n",
       "      <th>GO:0001539</th>\n",
       "      <td>  1</td>\n",
       "      <td> 0</td>\n",
       "      <td> 0</td>\n",
       "      <td>                                          [DNAH17]</td>\n",
       "    </tr>\n",
       "    <tr>\n",
       "      <th>GO:0001541</th>\n",
       "      <td>  1</td>\n",
       "      <td> 0</td>\n",
       "      <td> 0</td>\n",
       "      <td>                                            [FSHB]</td>\n",
       "    </tr>\n",
       "    <tr>\n",
       "      <th>GO:0001558</th>\n",
       "      <td>  1</td>\n",
       "      <td> 0</td>\n",
       "      <td> 0</td>\n",
       "      <td>                                            [NRG3]</td>\n",
       "    </tr>\n",
       "    <tr>\n",
       "      <th>...</th>\n",
       "      <td>...</td>\n",
       "      <td>...</td>\n",
       "      <td>...</td>\n",
       "      <td>...</td>\n",
       "    </tr>\n",
       "    <tr>\n",
       "      <th>GO:1900087</th>\n",
       "      <td>  1</td>\n",
       "      <td> 0</td>\n",
       "      <td> 0</td>\n",
       "      <td>                                         [PPP1R1C]</td>\n",
       "    </tr>\n",
       "    <tr>\n",
       "      <th>GO:1900170</th>\n",
       "      <td>  1</td>\n",
       "      <td> 0</td>\n",
       "      <td> 0</td>\n",
       "      <td>                                           [NR3C1]</td>\n",
       "    </tr>\n",
       "    <tr>\n",
       "      <th>GO:1900180</th>\n",
       "      <td>  1</td>\n",
       "      <td> 0</td>\n",
       "      <td> 0</td>\n",
       "      <td>                                          [RASSF5]</td>\n",
       "    </tr>\n",
       "    <tr>\n",
       "      <th>GO:1901018</th>\n",
       "      <td>  1</td>\n",
       "      <td> 0</td>\n",
       "      <td> 0</td>\n",
       "      <td>                                            [ANK2]</td>\n",
       "    </tr>\n",
       "    <tr>\n",
       "      <th>GO:1901019</th>\n",
       "      <td>  1</td>\n",
       "      <td> 0</td>\n",
       "      <td> 0</td>\n",
       "      <td>                                            [ANK2]</td>\n",
       "    </tr>\n",
       "    <tr>\n",
       "      <th>GO:1901021</th>\n",
       "      <td>  1</td>\n",
       "      <td> 0</td>\n",
       "      <td> 0</td>\n",
       "      <td>                                            [ANK2]</td>\n",
       "    </tr>\n",
       "    <tr>\n",
       "      <th>GO:1901374</th>\n",
       "      <td>  1</td>\n",
       "      <td> 0</td>\n",
       "      <td> 0</td>\n",
       "      <td>                                         [SLC22A1]</td>\n",
       "    </tr>\n",
       "    <tr>\n",
       "      <th>GO:1901379</th>\n",
       "      <td>  1</td>\n",
       "      <td> 0</td>\n",
       "      <td> 0</td>\n",
       "      <td>                                            [DPP6]</td>\n",
       "    </tr>\n",
       "    <tr>\n",
       "      <th>GO:1901381</th>\n",
       "      <td>  2</td>\n",
       "      <td> 0</td>\n",
       "      <td> 0</td>\n",
       "      <td>                                     [DPP6, AKAP6]</td>\n",
       "    </tr>\n",
       "    <tr>\n",
       "      <th>GO:1902187</th>\n",
       "      <td>  1</td>\n",
       "      <td> 0</td>\n",
       "      <td> 0</td>\n",
       "      <td>                                          [TRIM35]</td>\n",
       "    </tr>\n",
       "    <tr>\n",
       "      <th>GO:1902261</th>\n",
       "      <td>  1</td>\n",
       "      <td> 0</td>\n",
       "      <td> 0</td>\n",
       "      <td>                                           [AKAP6]</td>\n",
       "    </tr>\n",
       "    <tr>\n",
       "      <th>GO:1902287</th>\n",
       "      <td>  1</td>\n",
       "      <td> 0</td>\n",
       "      <td> 0</td>\n",
       "      <td>                                          [PLXNA4]</td>\n",
       "    </tr>\n",
       "    <tr>\n",
       "      <th>GO:1902808</th>\n",
       "      <td>  1</td>\n",
       "      <td> 0</td>\n",
       "      <td> 0</td>\n",
       "      <td>                                            [TP63]</td>\n",
       "    </tr>\n",
       "    <tr>\n",
       "      <th>GO:1990254</th>\n",
       "      <td>  1</td>\n",
       "      <td> 0</td>\n",
       "      <td> 0</td>\n",
       "      <td>                                           [KRT74]</td>\n",
       "    </tr>\n",
       "    <tr>\n",
       "      <th>GO:2000010</th>\n",
       "      <td>  1</td>\n",
       "      <td> 0</td>\n",
       "      <td> 0</td>\n",
       "      <td>                                           [GPD1L]</td>\n",
       "    </tr>\n",
       "    <tr>\n",
       "      <th>GO:2000096</th>\n",
       "      <td>  1</td>\n",
       "      <td> 0</td>\n",
       "      <td> 0</td>\n",
       "      <td>                                           [MLLT3]</td>\n",
       "    </tr>\n",
       "    <tr>\n",
       "      <th>GO:2000249</th>\n",
       "      <td>  1</td>\n",
       "      <td> 0</td>\n",
       "      <td> 0</td>\n",
       "      <td>                                         [RAPGEF3]</td>\n",
       "    </tr>\n",
       "    <tr>\n",
       "      <th>GO:2000251</th>\n",
       "      <td>  1</td>\n",
       "      <td> 0</td>\n",
       "      <td> 0</td>\n",
       "      <td>                                           [NTRK3]</td>\n",
       "    </tr>\n",
       "    <tr>\n",
       "      <th>GO:2000271</th>\n",
       "      <td>  1</td>\n",
       "      <td> 0</td>\n",
       "      <td> 0</td>\n",
       "      <td>                                            [TP63]</td>\n",
       "    </tr>\n",
       "    <tr>\n",
       "      <th>GO:2000366</th>\n",
       "      <td>  1</td>\n",
       "      <td> 0</td>\n",
       "      <td> 0</td>\n",
       "      <td>                                           [ERBB4]</td>\n",
       "    </tr>\n",
       "    <tr>\n",
       "      <th>GO:2000381</th>\n",
       "      <td>  1</td>\n",
       "      <td> 0</td>\n",
       "      <td> 0</td>\n",
       "      <td>                                            [TP63]</td>\n",
       "    </tr>\n",
       "    <tr>\n",
       "      <th>GO:2000599</th>\n",
       "      <td>  1</td>\n",
       "      <td> 0</td>\n",
       "      <td> 0</td>\n",
       "      <td>                                           [NELL1]</td>\n",
       "    </tr>\n",
       "    <tr>\n",
       "      <th>GO:2000642</th>\n",
       "      <td>  1</td>\n",
       "      <td> 0</td>\n",
       "      <td> 0</td>\n",
       "      <td>                                            [SNX3]</td>\n",
       "    </tr>\n",
       "    <tr>\n",
       "      <th>GO:2000649</th>\n",
       "      <td>  1</td>\n",
       "      <td> 0</td>\n",
       "      <td> 0</td>\n",
       "      <td>                                           [GPD1L]</td>\n",
       "    </tr>\n",
       "    <tr>\n",
       "      <th>GO:2000773</th>\n",
       "      <td>  1</td>\n",
       "      <td> 0</td>\n",
       "      <td> 0</td>\n",
       "      <td>                                            [TP63]</td>\n",
       "    </tr>\n",
       "    <tr>\n",
       "      <th>GO:2001235</th>\n",
       "      <td>  1</td>\n",
       "      <td> 0</td>\n",
       "      <td> 0</td>\n",
       "      <td>                                            [TP63]</td>\n",
       "    </tr>\n",
       "    <tr>\n",
       "      <th>GO:2001237</th>\n",
       "      <td>  1</td>\n",
       "      <td> 0</td>\n",
       "      <td> 0</td>\n",
       "      <td>                                           [ITGA6]</td>\n",
       "    </tr>\n",
       "    <tr>\n",
       "      <th>GO:2001244</th>\n",
       "      <td>  1</td>\n",
       "      <td> 0</td>\n",
       "      <td> 0</td>\n",
       "      <td>                                          [IL20RA]</td>\n",
       "    </tr>\n",
       "    <tr>\n",
       "      <th>GO:2001257</th>\n",
       "      <td>  1</td>\n",
       "      <td> 0</td>\n",
       "      <td> 0</td>\n",
       "      <td>                                            [ANK2]</td>\n",
       "    </tr>\n",
       "    <tr>\n",
       "      <th>GO:2001259</th>\n",
       "      <td>  1</td>\n",
       "      <td> 0</td>\n",
       "      <td> 0</td>\n",
       "      <td>                                            [ANK2]</td>\n",
       "    </tr>\n",
       "  </tbody>\n",
       "</table>\n",
       "<p>1265 rows × 4 columns</p>\n",
       "</div>"
      ],
      "text/plain": [
       "               n_genes  out_of  rank  \\\n",
       "go_identifier                          \n",
       "GO:0000075           1       0     0   \n",
       "GO:0000079           1       0     0   \n",
       "GO:0000087           1       0     0   \n",
       "GO:0000090           1       0     0   \n",
       "GO:0000122           2       0     0   \n",
       "GO:0000139           2       0     0   \n",
       "GO:0000166          24       0     0   \n",
       "GO:0000185           1       0     0   \n",
       "GO:0000187           2       0     0   \n",
       "GO:0000226           1       0     0   \n",
       "GO:0000278           1       0     0   \n",
       "GO:0000287           1       0     0   \n",
       "GO:0000506           1       0     0   \n",
       "GO:0000723           1       0     0   \n",
       "GO:0000783           1       0     0   \n",
       "GO:0000784           1       0     0   \n",
       "GO:0000785           1       0     0   \n",
       "GO:0000790           1       0     0   \n",
       "GO:0000978           1       0     0   \n",
       "GO:0000989           1       0     0   \n",
       "GO:0001077           3       0     0   \n",
       "GO:0001401           1       0     0   \n",
       "GO:0001501           3       0     0   \n",
       "GO:0001508           1       0     0   \n",
       "GO:0001518           1       0     0   \n",
       "GO:0001523           1       0     0   \n",
       "GO:0001525           4       0     0   \n",
       "GO:0001539           1       0     0   \n",
       "GO:0001541           1       0     0   \n",
       "GO:0001558           1       0     0   \n",
       "...                ...     ...   ...   \n",
       "GO:1900087           1       0     0   \n",
       "GO:1900170           1       0     0   \n",
       "GO:1900180           1       0     0   \n",
       "GO:1901018           1       0     0   \n",
       "GO:1901019           1       0     0   \n",
       "GO:1901021           1       0     0   \n",
       "GO:1901374           1       0     0   \n",
       "GO:1901379           1       0     0   \n",
       "GO:1901381           2       0     0   \n",
       "GO:1902187           1       0     0   \n",
       "GO:1902261           1       0     0   \n",
       "GO:1902287           1       0     0   \n",
       "GO:1902808           1       0     0   \n",
       "GO:1990254           1       0     0   \n",
       "GO:2000010           1       0     0   \n",
       "GO:2000096           1       0     0   \n",
       "GO:2000249           1       0     0   \n",
       "GO:2000251           1       0     0   \n",
       "GO:2000271           1       0     0   \n",
       "GO:2000366           1       0     0   \n",
       "GO:2000381           1       0     0   \n",
       "GO:2000599           1       0     0   \n",
       "GO:2000642           1       0     0   \n",
       "GO:2000649           1       0     0   \n",
       "GO:2000773           1       0     0   \n",
       "GO:2001235           1       0     0   \n",
       "GO:2001237           1       0     0   \n",
       "GO:2001244           1       0     0   \n",
       "GO:2001257           1       0     0   \n",
       "GO:2001259           1       0     0   \n",
       "\n",
       "                                                           genes  \n",
       "go_identifier                                                     \n",
       "GO:0000075                                              [ANAPC1]  \n",
       "GO:0000079                                               [HERC5]  \n",
       "GO:0000087                                              [ANAPC1]  \n",
       "GO:0000090                                              [ANAPC1]  \n",
       "GO:0000122                                         [TP63, TENM2]  \n",
       "GO:0000139                                      [HS3ST4, SCARA3]  \n",
       "GO:0000166     [SCN8A, RAPGEF3, SYK, RFK, EPHB1, RYK, ATP13A4...  \n",
       "GO:0000185                                                [GRM5]  \n",
       "GO:0000187                                          [SYK, NTRK3]  \n",
       "GO:0000226                                               [PARD3]  \n",
       "GO:0000278                                              [ANAPC1]  \n",
       "GO:0000287                                              [ATP8A2]  \n",
       "GO:0000506                                                [PIGY]  \n",
       "GO:0000723                                               [XRCC5]  \n",
       "GO:0000783                                               [XRCC5]  \n",
       "GO:0000784                                               [XRCC5]  \n",
       "GO:0000785                                                [TP63]  \n",
       "GO:0000790                                                [TP63]  \n",
       "GO:0000978                                               [NR3C1]  \n",
       "GO:0000989                                                [TP63]  \n",
       "GO:0001077                                  [TP63, NR3C1, CREB5]  \n",
       "GO:0001401                                              [SAMM50]  \n",
       "GO:0001501                                    [TP63, ANKH, ARSE]  \n",
       "GO:0001508                                               [AKAP6]  \n",
       "GO:0001518                                               [SCN8A]  \n",
       "GO:0001523                                                [GPC5]  \n",
       "GO:0001525                         [RAPGEF3, SYK, EPHB1, THSD7A]  \n",
       "GO:0001539                                              [DNAH17]  \n",
       "GO:0001541                                                [FSHB]  \n",
       "GO:0001558                                                [NRG3]  \n",
       "...                                                          ...  \n",
       "GO:1900087                                             [PPP1R1C]  \n",
       "GO:1900170                                               [NR3C1]  \n",
       "GO:1900180                                              [RASSF5]  \n",
       "GO:1901018                                                [ANK2]  \n",
       "GO:1901019                                                [ANK2]  \n",
       "GO:1901021                                                [ANK2]  \n",
       "GO:1901374                                             [SLC22A1]  \n",
       "GO:1901379                                                [DPP6]  \n",
       "GO:1901381                                         [DPP6, AKAP6]  \n",
       "GO:1902187                                              [TRIM35]  \n",
       "GO:1902261                                               [AKAP6]  \n",
       "GO:1902287                                              [PLXNA4]  \n",
       "GO:1902808                                                [TP63]  \n",
       "GO:1990254                                               [KRT74]  \n",
       "GO:2000010                                               [GPD1L]  \n",
       "GO:2000096                                               [MLLT3]  \n",
       "GO:2000249                                             [RAPGEF3]  \n",
       "GO:2000251                                               [NTRK3]  \n",
       "GO:2000271                                                [TP63]  \n",
       "GO:2000366                                               [ERBB4]  \n",
       "GO:2000381                                                [TP63]  \n",
       "GO:2000599                                               [NELL1]  \n",
       "GO:2000642                                                [SNX3]  \n",
       "GO:2000649                                               [GPD1L]  \n",
       "GO:2000773                                                [TP63]  \n",
       "GO:2001235                                                [TP63]  \n",
       "GO:2001237                                               [ITGA6]  \n",
       "GO:2001244                                              [IL20RA]  \n",
       "GO:2001257                                                [ANK2]  \n",
       "GO:2001259                                                [ANK2]  \n",
       "\n",
       "[1265 rows x 4 columns]"
      ]
     },
     "execution_count": 1203,
     "metadata": {},
     "output_type": "execute_result"
    }
   ],
   "source": [
    "pd.concat([rank_table,gg], axis =1)"
   ]
  },
  {
   "cell_type": "code",
   "execution_count": 1202,
   "metadata": {
    "collapsed": false
   },
   "outputs": [],
   "source": [
    "gg = get_genes_per_go(cand_genes,gene_to_go)"
   ]
  },
  {
   "cell_type": "code",
   "execution_count": 927,
   "metadata": {
    "collapsed": false
   },
   "outputs": [],
   "source": [
    "r = permut_assoc(tot_sweed_df[\"Likelihood\"], 0.1, gene_df, gene_to_go, top_n = 500, max_dist=10000)"
   ]
  },
  {
   "cell_type": "code",
   "execution_count": 934,
   "metadata": {
    "collapsed": false
   },
   "outputs": [],
   "source": [
    "real_assoc = permut_assoc(tot_sweed_df[\"Likelihood\"], 0, gene_df, gene_to_go, top_n=1000, max_dist=10000)"
   ]
  },
  {
   "cell_type": "code",
   "execution_count": 933,
   "metadata": {
    "collapsed": false
   },
   "outputs": [],
   "source": [
    "assoc_table = multiple_permut_assoc(tot_sweed_df[\"Likelihood\"], gene_df, gene_to_go, top_n=1000, max_dist = 10000, n_runs=100, rnd_seed=None)"
   ]
  },
  {
   "cell_type": "code",
   "execution_count": 952,
   "metadata": {
    "collapsed": false
   },
   "outputs": [],
   "source": [
    "def f(r):\n",
    "    print r\n",
    "    raise"
   ]
  },
  {
   "cell_type": "code",
   "execution_count": 959,
   "metadata": {
    "collapsed": false
   },
   "outputs": [],
   "source": [
    "p_vals = assoc_table.apply(lambda r: get_p_val(r,real_assoc),axis=1)"
   ]
  },
  {
   "cell_type": "code",
   "execution_count": 960,
   "metadata": {
    "collapsed": false
   },
   "outputs": [],
   "source": [
    "p_vals.sort()"
   ]
  },
  {
   "cell_type": "code",
   "execution_count": 1206,
   "metadata": {
    "collapsed": false
   },
   "outputs": [],
   "source": [
    "sab_enrich = pd.read_csv(eu(\"~/vervet_project/analyses/20140611_163_subpop_sweepfinder/_data/enrichment_n2000_d10000_permut50000_sab.tsv\"),\n",
    "                            index_col=[0],sep=\"\\t\")"
   ]
  },
  {
   "cell_type": "code",
   "execution_count": 1218,
   "metadata": {
    "collapsed": false
   },
   "outputs": [
    {
     "data": {
      "text/plain": [
       "432"
      ]
     },
     "execution_count": 1218,
     "metadata": {},
     "output_type": "execute_result"
    }
   ],
   "source": [
    "len(gene_to_go.set_index(\"go_identifier\").index.diff(sab_enrich.index))"
   ]
  },
  {
   "cell_type": "code",
   "execution_count": 1220,
   "metadata": {
    "collapsed": false
   },
   "outputs": [
    {
     "data": {
      "text/plain": [
       "14566"
      ]
     },
     "execution_count": 1220,
     "metadata": {},
     "output_type": "execute_result"
    }
   ],
   "source": [
    "len(sab_enrich)"
   ]
  },
  {
   "cell_type": "code",
   "execution_count": 1222,
   "metadata": {
    "collapsed": false
   },
   "outputs": [
    {
     "data": {
      "text/plain": [
       "14998"
      ]
     },
     "execution_count": 1222,
     "metadata": {},
     "output_type": "execute_result"
    }
   ],
   "source": [
    "len(gene_to_go.set_index(\"go_identifier\").index.unique())"
   ]
  },
  {
   "cell_type": "code",
   "execution_count": 1223,
   "metadata": {
    "collapsed": false
   },
   "outputs": [],
   "source": []
  },
  {
   "cell_type": "markdown",
   "metadata": {},
   "source": [
    "## Development for test_enrichment.py"
   ]
  },
  {
   "cell_type": "code",
   "execution_count": 4,
   "metadata": {
    "collapsed": false
   },
   "outputs": [],
   "source": [
    "from hs_vervet.scripts import test_enrichment as te"
   ]
  },
  {
   "cell_type": "code",
   "execution_count": 10,
   "metadata": {
    "collapsed": false
   },
   "outputs": [],
   "source": [
    "from scipy import stats"
   ]
  },
  {
   "cell_type": "code",
   "execution_count": null,
   "metadata": {
    "collapsed": false
   },
   "outputs": [],
   "source": [
    "pop = \"aet\"\n",
    "tot_sweed_df = pd.read_csv(eu(\"~/vervet_project/analyses/20140611_163_subpop_sweepfinder/\"\n",
    "                                 \"_data/tot_sweed_result_{}.tsv\".format(pop)),sep=\"\\t\",index_col=[0,1])"
   ]
  },
  {
   "cell_type": "code",
   "execution_count": 79,
   "metadata": {
    "collapsed": false
   },
   "outputs": [],
   "source": [
    "def gene_likelihood(outlier_locations,mode=\"max\"):\n",
    "    \"\"\"\n",
    "    get genes that overlap with the multi-index of the provided data frame\n",
    "    \"\"\"\n",
    "    modes = [\"max\",\"sum\"]\n",
    "    assert mode in modes\n",
    "    gene_hit_df = pd.DataFrame()\n",
    "    for chrom in outlier_locations.index.droplevel(1).unique():\n",
    "        pos_rel_to_start = gene_df.ix[chrom].index.searchsorted(outlier_locations.ix[chrom].index).values\n",
    "        pos_rel_to_end = np.searchsorted(gene_df.ix[chrom][\"end\"].values,outlier_locations.ix[chrom].index.values)\n",
    "        in_gene = (pos_rel_to_start - pos_rel_to_end) == 1\n",
    "        gene_hits = gene_df.ix[chrom].iloc[pos_rel_to_end[in_gene]]\n",
    "        gene_hits['chrom'] = chrom\n",
    "        gene_hits.set_index('chrom', append=True, inplace=True)\n",
    "        gene_hits = gene_hits.reorder_levels(['chrom', 'pos'])\n",
    "        gene_hits[\"likelihood\"] = outlier_locations.ix[chrom][in_gene][\"Likelihood\"].values\n",
    "        gene_hit_df = gene_hit_df.append(gene_hits)\n",
    "    #if mode == \"max\":    \n",
    "    return gene_hit_df.groupby(lambda x:x).max()\n",
    "    #elif mode == \"sum\":\n",
    "    #    return gene_hit_df.groupby(lambda x:x).sum()"
   ]
  },
  {
   "cell_type": "code",
   "execution_count": 197,
   "metadata": {
    "collapsed": false
   },
   "outputs": [],
   "source": [
    "def gene_stats(rod_s,stats=None,stat_names=None):\n",
    "    \"\"\"\n",
    "    cacluclate statistics on the ROD series across genes\n",
    "    stats default: [np.max,np.nanmean,len]\n",
    "    \"\"\"\n",
    "    if stats == None:\n",
    "        stats = [np.max,np.nanmean,len]\n",
    "    def stats_apply(df):\n",
    "        #name = df.index.values[0]\n",
    "        c_dic = {\"gene_id\":df.iloc[0][\"gene_id\"],\"end\":df.iloc[0][\"end\"]}\n",
    "        if stat_names is None:\n",
    "            c_dic.update({stat.__name__:stat(df[\"value\"]) for stat in stats})\n",
    "        else:\n",
    "            c_dic.update({n:stat(df[\"value\"]) for n,stat in zip(stat_name,stats)})\n",
    "        s = pd.Series(c_dic)\n",
    "        return s\n",
    "    gene_hit_df = pd.DataFrame()\n",
    "    for chrom in rod_s.index.droplevel(1).unique():\n",
    "        pos_rel_to_start = gene_df.ix[chrom].index.searchsorted(rod_s.ix[chrom].index).values\n",
    "        pos_rel_to_end = np.searchsorted(gene_df.ix[chrom][\"end\"].values,rod_s.ix[chrom].index.values)\n",
    "        in_gene = (pos_rel_to_start - pos_rel_to_end) == 1\n",
    "        gene_hits = gene_df.ix[chrom].iloc[pos_rel_to_end[in_gene]]\n",
    "        gene_hits['chrom'] = chrom\n",
    "        gene_hits.set_index('chrom', append=True, inplace=True)\n",
    "        gene_hits = gene_hits.reorder_levels(['chrom', 'pos'])\n",
    "        gene_hits[\"value\"] = rod_s.ix[chrom][in_gene].values\n",
    "        gene_hits = gene_hits.groupby(lambda x:x).apply(stats_apply)\n",
    "        gene_hit_df = gene_hit_df.append(gene_hits)   \n",
    "    gene_hit_df.index = pd.MultiIndex.from_tuples(gene_hit_df.index)\n",
    "    return gene_hit_df"
   ]
  },
  {
   "cell_type": "code",
   "execution_count": 205,
   "metadata": {
    "collapsed": false
   },
   "outputs": [],
   "source": [
    "def gene_stats_gb(rod_s,stats=None,stat_names=None):\n",
    "    \"\"\"\n",
    "    #implement avoiding loop\n",
    "    cacluclate statistics on the ROD series across genes\n",
    "    stats default: [np.max,np.nanmean,len]\n",
    "    \"\"\"\n",
    "    if stats == None:\n",
    "        stats = [np.max,np.nanmean,len]\n",
    "    def stats_apply(df):\n",
    "        #name = df.index.values[0]\n",
    "        c_dic = {\"gene_id\":df.iloc[0][\"gene_id\"],\"end\":df.iloc[0][\"end\"]}\n",
    "        if stat_names is None:\n",
    "            c_dic.update({stat.__name__:stat(df[\"value\"]) for stat in stats})\n",
    "        else:\n",
    "            c_dic.update({n:stat(df[\"value\"]) for n,stat in zip(stat_name,stats)})\n",
    "        s = pd.Series(c_dic)\n",
    "        return s\n",
    "    def get_gene_hits(rod_s):\n",
    "        #print rod_s.shape\n",
    "        chrom = rod_s.index.values[0][0]\n",
    "        #print chrom\n",
    "        pos_rel_to_start = gene_df.ix[chrom].index.searchsorted(rod_s.ix[chrom].index).values\n",
    "        pos_rel_to_end = np.searchsorted(gene_df.ix[chrom][\"end\"].values,rod_s.ix[chrom].index.values)\n",
    "        in_gene = (pos_rel_to_start - pos_rel_to_end) == 1\n",
    "        gene_hits = gene_df.ix[chrom].iloc[pos_rel_to_end[in_gene]]\n",
    "        gene_hits[\"value\"] = rod_s.ix[chrom][in_gene].values\n",
    "        gene_hits = gene_hits.groupby(lambda x:x).apply(stats_apply)\n",
    "        return gene_hits   \n",
    "    gene_hit_df = rod_s.groupby(lambda x: x[0]).apply(get_gene_hits)\n",
    "    return gene_hit_df"
   ]
  },
  {
   "cell_type": "code",
   "execution_count": 210,
   "metadata": {
    "collapsed": false
   },
   "outputs": [],
   "source": [
    "tot_sweed_s = tot_sweed_df[\"Likelihood\"]"
   ]
  },
  {
   "cell_type": "code",
   "execution_count": 17,
   "metadata": {
    "collapsed": false
   },
   "outputs": [],
   "source": [
    "fn0 = open(eu(\"~/vervet_project/analyses/20140611_163_subpop_sweepfinder/_data/sweed_go_enrichment_q0.001_d10000_0_pys.temp.tsv\"))\n",
    "fn1 = open(eu(\"~/vervet_project/analyses/20140611_163_subpop_sweepfinder/_data/sweed_go_enrichment_q0.001_d10000_1_pys.temp.tsv\"))\n",
    "tot_rank = te.read_table(fn0,index_col=0)\n",
    "rank_table = te.read_table(fn1,index_col=0)"
   ]
  },
  {
   "cell_type": "code",
   "execution_count": 20,
   "metadata": {
    "collapsed": false
   },
   "outputs": [
    {
     "data": {
      "text/plain": [
       "Index([u'000'], dtype='object')"
      ]
     },
     "execution_count": 20,
     "metadata": {},
     "output_type": "execute_result"
    }
   ],
   "source": [
    "tot_rank.index.diff(rank_table.index)"
   ]
  },
  {
   "cell_type": "code",
   "execution_count": 14,
   "metadata": {
    "collapsed": false
   },
   "outputs": [],
   "source": [
    "top_n = 1000\n",
    "value_s = tot_sweed_df[\"Likelihood\"].sort(ascending=False,inplace=False)\n",
    "top_s = value_s.iloc[:top_n]"
   ]
  },
  {
   "cell_type": "code",
   "execution_count": 16,
   "metadata": {
    "collapsed": false
   },
   "outputs": [],
   "source": [
    "max_dist = 10000\n",
    "cand_genes = te.get_genes(top_s, gene_df, max_dist=10000)"
   ]
  },
  {
   "cell_type": "code",
   "execution_count": 19,
   "metadata": {
    "collapsed": false
   },
   "outputs": [],
   "source": [
    "real_assoc = te.get_go_assoc(cand_genes, gene_to_go)"
   ]
  },
  {
   "cell_type": "code",
   "execution_count": 21,
   "metadata": {
    "collapsed": false
   },
   "outputs": [],
   "source": [
    "init_rank_table = te.get_initial_rank_table(real_assoc)"
   ]
  },
  {
   "cell_type": "markdown",
   "metadata": {},
   "source": [
    "## Enrichment according to values across gene (mean, max)..."
   ]
  },
  {
   "cell_type": "code",
   "execution_count": 7,
   "metadata": {
    "collapsed": false
   },
   "outputs": [],
   "source": [
    "from hs_vervet.tools import hs_pandas as hp\n",
    "from hs_vervet.scripts import test_enrichment as te\n",
    "assoc_dir = eu(\"~/vervet_project/data/gene_associations\")"
   ]
  },
  {
   "cell_type": "code",
   "execution_count": 8,
   "metadata": {
    "collapsed": false
   },
   "outputs": [],
   "source": [
    "gene_to_cat = pd.read_csv(jn(assoc_dir,\"gene_to_cat.csv\"),index_col=0)"
   ]
  },
  {
   "cell_type": "code",
   "execution_count": 28,
   "metadata": {
    "collapsed": false
   },
   "outputs": [],
   "source": [
    "chrom_len_df = pd.read_csv(eu(\"~/vervet_project/metadata/ref3500.tsv\"),\n",
    "                       sep=\"\\t\",index_col=0,squeeze=True,header=False)\n",
    "gene_df.sortlevel(inplace=True)"
   ]
  },
  {
   "cell_type": "code",
   "execution_count": 9,
   "metadata": {
    "collapsed": false
   },
   "outputs": [],
   "source": [
    "pop = \"aet\"\n",
    "tot_sweed_df = pd.read_csv(eu(\"~/vervet_project/analyses/20140611_163_subpop_sweepfinder/\"\n",
    "                                 \"_data/tot_sweed_result_{}.tsv\".format(pop)),sep=\"\\t\",index_col=[0,1])\n",
    "\n",
    "tot_sweed_df.index = pd.MultiIndex.from_arrays([tot_sweed_df.index.droplevel(1),tot_sweed_df.index.droplevel(0).values.astype(int)])\n",
    "tot_sweed_df.index.set_names('pos',level=1,inplace=True)"
   ]
  },
  {
   "cell_type": "code",
   "execution_count": 10,
   "metadata": {
    "collapsed": false
   },
   "outputs": [],
   "source": [
    "rod_s = tot_sweed_df['Likelihood'].copy().sortlevel()#.ix[['CAE28','CAE29']]"
   ]
  },
  {
   "cell_type": "code",
   "execution_count": 448,
   "metadata": {
    "collapsed": false
   },
   "outputs": [],
   "source": [
    "def data_per_feature3(rod,feature_df):\n",
    "    \"\"\"\n",
    "    Get the entires in rod which lie within a feature\n",
    "    (e.g. gene) in feature_df.\n",
    "    Input:\n",
    "    rod (reference ordered data)... pandas series or data frame with multiindex (chrom, pos)\n",
    "                                    such as SNP genotypes\n",
    "    feature_df (gene annotation data frame)... index must be (chrom,feature_name), must have columns 'start', 'end'\n",
    "    \"\"\"\n",
    "    rod = pd.DataFrame(rod).copy()\n",
    "    feature_df = feature_df.copy()\n",
    "    index = rod.reset_index().groupby('chrom').apply(lambda df: df['pos']+chrom_len_df.loc[:df['chrom'].iloc[0]].iloc[:-1].sum()).values\n",
    "    rod['index'] = index\n",
    "    rod.set_index(index,inplace=True)\n",
    "\n",
    "    feature_df.loc[:,['start','end']] = feature_df.reset_index().groupby('chrom').apply(lambda df: df[['start','end']]+chrom_len_df.loc[:df['chrom'].iloc[0]].iloc[:-1].sum()).values\n",
    "    feature_df.index = feature_df.index.droplevel(0)\n",
    "    feature_name = feature_df.index.name\n",
    "\n",
    "    pos_rel_to_start = feature_df['start'].searchsorted(rod.index)\n",
    "    pos_rel_to_end = np.searchsorted(feature_df[\"end\"].values,rod.index.values)\n",
    "    in_feature = (pos_rel_to_start - pos_rel_to_end) == 1\n",
    "    feature_id = feature_df.iloc[pos_rel_to_end[in_feature]].index\n",
    "    snp_df = rod[in_feature]\n",
    "    snp_df[feature_name] = feature_id\n",
    "    snp_df.set_index(['gene_id','index'],inplace=True)\n",
    "    return snp_df"
   ]
  },
  {
   "cell_type": "code",
   "execution_count": 15,
   "metadata": {
    "collapsed": false
   },
   "outputs": [],
   "source": [
    "def rod_chrompos_to_1d_index(rod, chrom_len_s, drop=True):\n",
    "    \"\"\"\n",
    "    Converts a (chrom, pos) multiindex to a \n",
    "    single numeric index that runs through chromosomes.\n",
    "    Note that the (chrom, pos) index is sorted lexographically,\n",
    "    i.e., if chrom names are strings, the entries in the resulting\n",
    "    index are Chr1, Chr10, Chr2, Chr20, Chr3,...,ChrX, ChrY.\n",
    "    Example: (Chr2, 1) is converted to len(Chr1)+len(Chr10)+1.\n",
    "    The inverse operation is given by rod_1d_to_chrompos_index.\n",
    "    \n",
    "    Input:\n",
    "    rod ... series or dataframe with reference ordered data \n",
    "            with multiindex (chrom,pos)\n",
    "    chrom_len_s ... series with chromosome names as keys\n",
    "                    and chromosome length as values\n",
    "    drop ... If False, keep chrom, pos as columns\n",
    "    \"\"\"\n",
    "    if not chrom_len_s.index.is_monotonic:\n",
    "        chrom_len_s = chrom_len_s.sort_index()\n",
    "    rod = pd.DataFrame(rod).copy()\n",
    "    if not rod.index.is_monotonic:\n",
    "        rod.sortlevel(inplace=True)\n",
    "    columns = columns = [c for c in rod.columns if c not in ['index']]\n",
    "    rod.reset_index(inplace=True)\n",
    "    #return rod.groupby('chrom')\n",
    "    index = rod.groupby('chrom').apply(lambda df: df['pos']+chrom_len_s.loc[:df['chrom'].iloc[0]].iloc[:-1].sum()).values\n",
    "    rod['index'] = index\n",
    "    rod.set_index('index', inplace=True, drop=True)\n",
    "    if not drop:\n",
    "        columns = list(columns) + ['chrom', 'pos']\n",
    "    rod.index = rod.index.values.astype(int)\n",
    "    if not rod.index.is_monotonic:\n",
    "        rod.sort_index(inplace=True)\n",
    "    return rod[columns] if len(columns)>1 else rod[columns[0]]"
   ]
  },
  {
   "cell_type": "code",
   "execution_count": 16,
   "metadata": {
    "collapsed": false
   },
   "outputs": [],
   "source": [
    "def rod_1d_to_chrompos_index(rod_1d, chrom_len_s, drop=True):\n",
    "    \"\"\"\n",
    "    Reverts the action of rod_chrompos_to_1d_index.\n",
    "    Converts a single numeric index that runs through \n",
    "    chromosomes to a (chrom, pos) multiindex.\n",
    "    Note that the single index is expected to correspond\n",
    "    to (chrom, pos) sorted lexographically,\n",
    "    i.e., if chrom names are strings, the entries should be in\n",
    "    in the order Chr1, Chr10, Chr2, Chr20, Chr3,...,ChrX, ChrY.\n",
    "    Example:  len(Chr1)+len(Chr10)+1 is converted to (Chr2, 1).\n",
    "    \n",
    "    Input:\n",
    "    rod ... series or dataframe of reference ordered data \n",
    "            with single index running through chromosomes.\n",
    "            (as produced by rod_chrompos_to_1d_index())\n",
    "    chrom_len_s ... series with chromosome names as keys\n",
    "                    and chromosome length as values\n",
    "    drop ... If False, keep numeric index as columns\n",
    "    \"\"\"\n",
    "    if not chrom_len_s.index.is_monotonic:\n",
    "        chrom_len_s = chrom_len_s.sort_index()\n",
    "    rod = pd.DataFrame(rod_1d).copy()\n",
    "    if not rod.index.is_monotonic:\n",
    "        rod.sort_index(inplace=True)\n",
    "    columns = [c for c in rod.columns if c not in ['chrom','pos']]\n",
    "    cs = chrom_len_s.cumsum()\n",
    "    rod['chrom'] = np.nan\n",
    "    for chrom, (start, end) in  zip(cs.index,zip([0] + list(cs.values[:-1]),cs.values)):\n",
    "        end = min(end,rod.index[-1])\n",
    "        rod.loc[slice(start,end),'chrom'] = chrom\n",
    "        #print chrom, rod.loc[slice(start,end),columns[0]]\n",
    "        rod.loc[slice(start,end),'pos'] = rod.ix[slice(start,end)].index - start\n",
    "    if drop:\n",
    "        rod.set_index(['chrom','pos'], inplace=True, drop=True)\n",
    "    else:\n",
    "        rod = rod.reset_index().set_index(['chrom','pos'], drop=True)\n",
    "        columns = list(columns) + ['index']\n",
    "    #if not rod.index.is_monotonic:\n",
    "    #    rod.sort_index(inplace=True)\n",
    "\n",
    "    return rod[columns] if len(columns)>1 else rod[columns[0]]"
   ]
  },
  {
   "cell_type": "code",
   "execution_count": 764,
   "metadata": {
    "collapsed": false
   },
   "outputs": [
    {
     "data": {
      "text/plain": [
       "'\\nSpecifications:\\n\\nrod ... Series or DataFrame of reference ordered data\\nindex: \\n    (chrom, pos)\\n\\nfeature_df ... Data Frame of intervals along the genome,\\n                equivalent of a bed file, but 1-indexed\\nindex: \\n    (chrom, start)\\ncolumns \\n    required: \\n        end\\n    optional:\\n        name\\n        ...\\n'"
      ]
     },
     "execution_count": 764,
     "metadata": {},
     "output_type": "execute_result"
    }
   ],
   "source": [
    "\"\"\"\n",
    "Specifications:\n",
    "\n",
    "rod ... Series or DataFrame of reference ordered data\n",
    "index: \n",
    "    (chrom, pos)\n",
    "\n",
    "feature_df ... Data Frame of intervals along the genome,\n",
    "                equivalent of a bed file, but 1-indexed\n",
    "index: \n",
    "    (chrom, start)\n",
    "columns \n",
    "    required: \n",
    "        end\n",
    "    optional:\n",
    "        name\n",
    "        ...\n",
    "\"\"\""
   ]
  },
  {
   "cell_type": "code",
   "execution_count": 17,
   "metadata": {
    "collapsed": false
   },
   "outputs": [],
   "source": [
    "def feature_df_to_1d_index(feature_df, chrom_len_s):\n",
    "    \"\"\"\n",
    "    Converts mulitindex feature_df (chrom,start)\n",
    "    to single numeric index running trough all \n",
    "    chromosomes. The column 'end' is also converted.\n",
    "    See rod_chrompos_to_1d_index for details.\n",
    "    \"\"\"\n",
    "    feature_df = feature_df.copy()\n",
    "    feature_df.index.names = (feature_df.index.names[0], 'pos') \n",
    "    feature_df_1d = rod_chrompos_to_1d_index(feature_df, chrom_len_s,drop=False)\n",
    "    #print feature_df_1d\n",
    "    end_df = feature_df_1d.reset_index().set_index(['chrom','end'])\n",
    "    #print end_df\n",
    "    end_df.drop('pos',axis=1,inplace=True)\n",
    "    end_df.rename(columns={'index':'start'}, inplace=True)\n",
    "    end_df.index.names = (end_df.index.names[0], 'pos') \n",
    "    end_1d = rod_chrompos_to_1d_index(end_df, chrom_len_s)\n",
    "    end_1d.index.name = 'end'\n",
    "    end_1d = end_1d.reset_index().set_index('start')\n",
    "    end_1d.index.name = 'index'\n",
    "    if not end_1d.index.is_monotonic:\n",
    "        end_1d.sort_index(inplace=True)\n",
    "    return end_1d"
   ]
  },
  {
   "cell_type": "code",
   "execution_count": 22,
   "metadata": {
    "collapsed": false
   },
   "outputs": [],
   "source": [
    "feature_df_1d = feature_df_to_1d_index(gene_df, chrom_len_df)"
   ]
  },
  {
   "cell_type": "code",
   "execution_count": 18,
   "metadata": {
    "collapsed": false
   },
   "outputs": [],
   "source": [
    "def feature_df_to_chrompos_index(feature_df_1d, chrom_len_s):\n",
    "    \"\"\"\n",
    "    Converts feature_df with single numberic index\n",
    "    running through all chromosomes to \n",
    "    multiindex (chrom,start)\n",
    "    The column 'end' is also converted.\n",
    "    This is the inverse function of \n",
    "    feature_df_to_1d_index().\n",
    "    See rod_1d_to_chrompos_index for details.\n",
    "    \"\"\"\n",
    "    feature_df_1d = feature_df_1d.copy()\n",
    "    feature_df = rod_1d_to_chrompos_index(feature_df_1d, chrom_len_s)\n",
    "    feature_df.index.names = (feature_df.index.names[0], 'start') \n",
    "    end_df_1d = feature_df.reset_index().set_index('end')\n",
    "    \n",
    "    end_df = rod_1d_to_chrompos_index(end_df_1d, chrom_len_s)\n",
    "    end_df.index.names = (end_df.index.names[0],'end')\n",
    "    end_df = end_df.reset_index().set_index(['chrom','start'])\n",
    "    if not end_df.index.is_monotonic:\n",
    "        end_df.sortlevel(inplace=True)\n",
    "    return end_df"
   ]
  },
  {
   "cell_type": "code",
   "execution_count": 23,
   "metadata": {
    "collapsed": false
   },
   "outputs": [],
   "source": [
    "feature = feature_df_to_chrompos_index(feature_df_1d, chrom_len_df)"
   ]
  },
  {
   "cell_type": "code",
   "execution_count": 26,
   "metadata": {
    "collapsed": false
   },
   "outputs": [
    {
     "data": {
      "text/html": [
       "<div style=\"max-height:1000px;max-width:1500px;overflow:auto;\">\n",
       "<table border=\"1\" class=\"dataframe\">\n",
       "  <thead>\n",
       "    <tr style=\"text-align: right;\">\n",
       "      <th></th>\n",
       "      <th></th>\n",
       "      <th>end</th>\n",
       "      <th>gene_id</th>\n",
       "    </tr>\n",
       "    <tr>\n",
       "      <th>chrom</th>\n",
       "      <th>start</th>\n",
       "      <th></th>\n",
       "      <th></th>\n",
       "    </tr>\n",
       "  </thead>\n",
       "  <tbody>\n",
       "    <tr>\n",
       "      <th rowspan=\"30\" valign=\"top\">CAE1</th>\n",
       "      <th>2628     </th>\n",
       "      <td>      4911</td>\n",
       "      <td>      SCGB1C1</td>\n",
       "    </tr>\n",
       "    <tr>\n",
       "      <th>4916     </th>\n",
       "      <td>     10379</td>\n",
       "      <td>         ODF3</td>\n",
       "    </tr>\n",
       "    <tr>\n",
       "      <th>14423    </th>\n",
       "      <td>     18444</td>\n",
       "      <td>        BET1L</td>\n",
       "    </tr>\n",
       "    <tr>\n",
       "      <th>18597    </th>\n",
       "      <td>     25398</td>\n",
       "      <td>        RIC8A</td>\n",
       "    </tr>\n",
       "    <tr>\n",
       "      <th>27803    </th>\n",
       "      <td>     48975</td>\n",
       "      <td>        SIRT3</td>\n",
       "    </tr>\n",
       "    <tr>\n",
       "      <th>49510    </th>\n",
       "      <td>     67353</td>\n",
       "      <td>       PSMD13</td>\n",
       "    </tr>\n",
       "    <tr>\n",
       "      <th>92213    </th>\n",
       "      <td>     99919</td>\n",
       "      <td>        NLRP6</td>\n",
       "    </tr>\n",
       "    <tr>\n",
       "      <th>102388   </th>\n",
       "      <td>    109337</td>\n",
       "      <td>        ATHL1</td>\n",
       "    </tr>\n",
       "    <tr>\n",
       "      <th>112164   </th>\n",
       "      <td>    113988</td>\n",
       "      <td>       IFITM5</td>\n",
       "    </tr>\n",
       "    <tr>\n",
       "      <th>124603   </th>\n",
       "      <td>    127671</td>\n",
       "      <td> LOC103241759</td>\n",
       "    </tr>\n",
       "    <tr>\n",
       "      <th>128309   </th>\n",
       "      <td>    129543</td>\n",
       "      <td>       IFITM1</td>\n",
       "    </tr>\n",
       "    <tr>\n",
       "      <th>129666   </th>\n",
       "      <td>    136899</td>\n",
       "      <td> LOC103241765</td>\n",
       "    </tr>\n",
       "    <tr>\n",
       "      <th>147228   </th>\n",
       "      <td>    148078</td>\n",
       "      <td>       IFITM3</td>\n",
       "    </tr>\n",
       "    <tr>\n",
       "      <th>194763   </th>\n",
       "      <td>    206351</td>\n",
       "      <td>     B4GALNT4</td>\n",
       "    </tr>\n",
       "    <tr>\n",
       "      <th>214986   </th>\n",
       "      <td>    223958</td>\n",
       "      <td>         PKP3</td>\n",
       "    </tr>\n",
       "    <tr>\n",
       "      <th>224727   </th>\n",
       "      <td>    229005</td>\n",
       "      <td>       SIGIRR</td>\n",
       "    </tr>\n",
       "    <tr>\n",
       "      <th>235246   </th>\n",
       "      <td>    253391</td>\n",
       "      <td>         ANO9</td>\n",
       "    </tr>\n",
       "    <tr>\n",
       "      <th>265184   </th>\n",
       "      <td>    302521</td>\n",
       "      <td>       PTDSS2</td>\n",
       "    </tr>\n",
       "    <tr>\n",
       "      <th>305960   </th>\n",
       "      <td>    315233</td>\n",
       "      <td>         RNH1</td>\n",
       "    </tr>\n",
       "    <tr>\n",
       "      <th>344003   </th>\n",
       "      <td>    345782</td>\n",
       "      <td>         HRAS</td>\n",
       "    </tr>\n",
       "    <tr>\n",
       "      <th>355968   </th>\n",
       "      <td>    370276</td>\n",
       "      <td>       LRRC56</td>\n",
       "    </tr>\n",
       "    <tr>\n",
       "      <th>370216   </th>\n",
       "      <td>    374411</td>\n",
       "      <td>   C1H11orf35</td>\n",
       "    </tr>\n",
       "    <tr>\n",
       "      <th>374723   </th>\n",
       "      <td>    379582</td>\n",
       "      <td>       RASSF7</td>\n",
       "    </tr>\n",
       "    <tr>\n",
       "      <th>382280   </th>\n",
       "      <td>    384748</td>\n",
       "      <td> LOC103222129</td>\n",
       "    </tr>\n",
       "    <tr>\n",
       "      <th>397499   </th>\n",
       "      <td>    429982</td>\n",
       "      <td>        PHRF1</td>\n",
       "    </tr>\n",
       "    <tr>\n",
       "      <th>430412   </th>\n",
       "      <td>    433243</td>\n",
       "      <td>         IRF7</td>\n",
       "    </tr>\n",
       "    <tr>\n",
       "      <th>435562   </th>\n",
       "      <td>    443116</td>\n",
       "      <td>        CDHR5</td>\n",
       "    </tr>\n",
       "    <tr>\n",
       "      <th>444487   </th>\n",
       "      <td>    445535</td>\n",
       "      <td>          SCT</td>\n",
       "    </tr>\n",
       "    <tr>\n",
       "      <th>454018   </th>\n",
       "      <td>    459582</td>\n",
       "      <td>         DRD4</td>\n",
       "    </tr>\n",
       "    <tr>\n",
       "      <th>487497   </th>\n",
       "      <td>    510440</td>\n",
       "      <td>        DEAF1</td>\n",
       "    </tr>\n",
       "    <tr>\n",
       "      <th>...</th>\n",
       "      <th>...</th>\n",
       "      <td>...</td>\n",
       "      <td>...</td>\n",
       "    </tr>\n",
       "    <tr>\n",
       "      <th rowspan=\"8\" valign=\"top\">CAEX</th>\n",
       "      <th>129423364</th>\n",
       "      <td> 129448393</td>\n",
       "      <td> LOC103232857</td>\n",
       "    </tr>\n",
       "    <tr>\n",
       "      <th>129487543</th>\n",
       "      <td> 129510301</td>\n",
       "      <td>         VBP1</td>\n",
       "    </tr>\n",
       "    <tr>\n",
       "      <th>129536528</th>\n",
       "      <td> 129542238</td>\n",
       "      <td>       RAB39B</td>\n",
       "    </tr>\n",
       "    <tr>\n",
       "      <th>129564187</th>\n",
       "      <td> 129606252</td>\n",
       "      <td>        CLIC2</td>\n",
       "    </tr>\n",
       "    <tr>\n",
       "      <th>129628788</th>\n",
       "      <td> 129672966</td>\n",
       "      <td>        TMLHE</td>\n",
       "    </tr>\n",
       "    <tr>\n",
       "      <th>129838890</th>\n",
       "      <td> 129840393</td>\n",
       "      <td>        SPRY3</td>\n",
       "    </tr>\n",
       "    <tr>\n",
       "      <th>129944643</th>\n",
       "      <td> 129984071</td>\n",
       "      <td>        VAMP7</td>\n",
       "    </tr>\n",
       "    <tr>\n",
       "      <th>130006399</th>\n",
       "      <td> 130018718</td>\n",
       "      <td>         IL9R</td>\n",
       "    </tr>\n",
       "    <tr>\n",
       "      <th rowspan=\"22\" valign=\"top\">CAEY</th>\n",
       "      <th>3877     </th>\n",
       "      <td>     28337</td>\n",
       "      <td> LOC103246967</td>\n",
       "    </tr>\n",
       "    <tr>\n",
       "      <th>99173    </th>\n",
       "      <td>    128570</td>\n",
       "      <td>          ZFY</td>\n",
       "    </tr>\n",
       "    <tr>\n",
       "      <th>369705   </th>\n",
       "      <td>    400440</td>\n",
       "      <td> LOC103247009</td>\n",
       "    </tr>\n",
       "    <tr>\n",
       "      <th>461598   </th>\n",
       "      <td>    626098</td>\n",
       "      <td>        USP9Y</td>\n",
       "    </tr>\n",
       "    <tr>\n",
       "      <th>689364   </th>\n",
       "      <td>    703302</td>\n",
       "      <td>        DDX3Y</td>\n",
       "    </tr>\n",
       "    <tr>\n",
       "      <th>968225   </th>\n",
       "      <td>   1188589</td>\n",
       "      <td>          UTY</td>\n",
       "    </tr>\n",
       "    <tr>\n",
       "      <th>1337365  </th>\n",
       "      <td>   1397833</td>\n",
       "      <td> LOC103246981</td>\n",
       "    </tr>\n",
       "    <tr>\n",
       "      <th>1829690  </th>\n",
       "      <td>   1888219</td>\n",
       "      <td> LOC103246983</td>\n",
       "    </tr>\n",
       "    <tr>\n",
       "      <th>2358920  </th>\n",
       "      <td>   2377117</td>\n",
       "      <td> LOC103247011</td>\n",
       "    </tr>\n",
       "    <tr>\n",
       "      <th>2376865  </th>\n",
       "      <td>   2383270</td>\n",
       "      <td> LOC103246985</td>\n",
       "    </tr>\n",
       "    <tr>\n",
       "      <th>2512747  </th>\n",
       "      <td>   2533954</td>\n",
       "      <td> LOC103246986</td>\n",
       "    </tr>\n",
       "    <tr>\n",
       "      <th>2627541  </th>\n",
       "      <td>   2667144</td>\n",
       "      <td>        KDM5D</td>\n",
       "    </tr>\n",
       "    <tr>\n",
       "      <th>2885341  </th>\n",
       "      <td>   2902187</td>\n",
       "      <td> LOC103246988</td>\n",
       "    </tr>\n",
       "    <tr>\n",
       "      <th>3016243  </th>\n",
       "      <td>   3048450</td>\n",
       "      <td> LOC103246992</td>\n",
       "    </tr>\n",
       "    <tr>\n",
       "      <th>3388914  </th>\n",
       "      <td>   3390872</td>\n",
       "      <td> LOC103246994</td>\n",
       "    </tr>\n",
       "    <tr>\n",
       "      <th>3625286  </th>\n",
       "      <td>   3640104</td>\n",
       "      <td> LOC103247015</td>\n",
       "    </tr>\n",
       "    <tr>\n",
       "      <th>3671250  </th>\n",
       "      <td>   3711947</td>\n",
       "      <td> LOC103247016</td>\n",
       "    </tr>\n",
       "    <tr>\n",
       "      <th>4036567  </th>\n",
       "      <td>   4111231</td>\n",
       "      <td> LOC103247018</td>\n",
       "    </tr>\n",
       "    <tr>\n",
       "      <th>4114104  </th>\n",
       "      <td>   4142365</td>\n",
       "      <td>         XKR3</td>\n",
       "    </tr>\n",
       "    <tr>\n",
       "      <th>4486881  </th>\n",
       "      <td>   4489237</td>\n",
       "      <td> LOC103247001</td>\n",
       "    </tr>\n",
       "    <tr>\n",
       "      <th>4503583  </th>\n",
       "      <td>   4516685</td>\n",
       "      <td> LOC103247020</td>\n",
       "    </tr>\n",
       "    <tr>\n",
       "      <th>5352628  </th>\n",
       "      <td>   5364843</td>\n",
       "      <td> LOC103247005</td>\n",
       "    </tr>\n",
       "  </tbody>\n",
       "</table>\n",
       "<p>20447 rows × 2 columns</p>\n",
       "</div>"
      ],
      "text/plain": [
       "                       end       gene_id\n",
       "chrom start                             \n",
       "CAE1  2628            4911       SCGB1C1\n",
       "      4916           10379          ODF3\n",
       "      14423          18444         BET1L\n",
       "      18597          25398         RIC8A\n",
       "      27803          48975         SIRT3\n",
       "      49510          67353        PSMD13\n",
       "      92213          99919         NLRP6\n",
       "      102388        109337         ATHL1\n",
       "      112164        113988        IFITM5\n",
       "      124603        127671  LOC103241759\n",
       "      128309        129543        IFITM1\n",
       "      129666        136899  LOC103241765\n",
       "      147228        148078        IFITM3\n",
       "      194763        206351      B4GALNT4\n",
       "      214986        223958          PKP3\n",
       "      224727        229005        SIGIRR\n",
       "      235246        253391          ANO9\n",
       "      265184        302521        PTDSS2\n",
       "      305960        315233          RNH1\n",
       "      344003        345782          HRAS\n",
       "      355968        370276        LRRC56\n",
       "      370216        374411    C1H11orf35\n",
       "      374723        379582        RASSF7\n",
       "      382280        384748  LOC103222129\n",
       "      397499        429982         PHRF1\n",
       "      430412        433243          IRF7\n",
       "      435562        443116         CDHR5\n",
       "      444487        445535           SCT\n",
       "      454018        459582          DRD4\n",
       "      487497        510440         DEAF1\n",
       "...                    ...           ...\n",
       "CAEX  129423364  129448393  LOC103232857\n",
       "      129487543  129510301          VBP1\n",
       "      129536528  129542238        RAB39B\n",
       "      129564187  129606252         CLIC2\n",
       "      129628788  129672966         TMLHE\n",
       "      129838890  129840393         SPRY3\n",
       "      129944643  129984071         VAMP7\n",
       "      130006399  130018718          IL9R\n",
       "CAEY  3877           28337  LOC103246967\n",
       "      99173         128570           ZFY\n",
       "      369705        400440  LOC103247009\n",
       "      461598        626098         USP9Y\n",
       "      689364        703302         DDX3Y\n",
       "      968225       1188589           UTY\n",
       "      1337365      1397833  LOC103246981\n",
       "      1829690      1888219  LOC103246983\n",
       "      2358920      2377117  LOC103247011\n",
       "      2376865      2383270  LOC103246985\n",
       "      2512747      2533954  LOC103246986\n",
       "      2627541      2667144         KDM5D\n",
       "      2885341      2902187  LOC103246988\n",
       "      3016243      3048450  LOC103246992\n",
       "      3388914      3390872  LOC103246994\n",
       "      3625286      3640104  LOC103247015\n",
       "      3671250      3711947  LOC103247016\n",
       "      4036567      4111231  LOC103247018\n",
       "      4114104      4142365          XKR3\n",
       "      4486881      4489237  LOC103247001\n",
       "      4503583      4516685  LOC103247020\n",
       "      5352628      5364843  LOC103247005\n",
       "\n",
       "[20447 rows x 2 columns]"
      ]
     },
     "execution_count": 26,
     "metadata": {},
     "output_type": "execute_result"
    }
   ],
   "source": []
  },
  {
   "cell_type": "code",
   "execution_count": 31,
   "metadata": {
    "collapsed": false
   },
   "outputs": [
    {
     "name": "stdout",
     "output_type": "stream",
     "text": [
      "end        True\n",
      "gene_id    True\n",
      "dtype: bool\n",
      "True\n"
     ]
    }
   ],
   "source": [
    "print (feature == gene_df).all()\n",
    "print feature.index.equals(gene_df.index)"
   ]
  },
  {
   "cell_type": "code",
   "execution_count": 35,
   "metadata": {
    "collapsed": false
   },
   "outputs": [],
   "source": [
    "rod_1d = rod_chrompos_to_1d_index(rod_s,chrom_len_df)"
   ]
  },
  {
   "cell_type": "code",
   "execution_count": 36,
   "metadata": {
    "collapsed": false
   },
   "outputs": [],
   "source": [
    "rod = rod_1d_to_chrompos_index(rod_1d,chrom_len_df)"
   ]
  },
  {
   "cell_type": "code",
   "execution_count": 37,
   "metadata": {
    "collapsed": false
   },
   "outputs": [
    {
     "name": "stdout",
     "output_type": "stream",
     "text": [
      "True\n",
      "True\n"
     ]
    }
   ],
   "source": [
    "print (rod == rod_s).all()\n",
    "print rod.index.equals(rod_s.index)"
   ]
  },
  {
   "cell_type": "code",
   "execution_count": 33,
   "metadata": {
    "collapsed": false
   },
   "outputs": [],
   "source": [
    "def data_per_feature_SI_2(rod, feature_df, feature_name = 'name'):\n",
    "    \"\"\"\n",
    "    Get the entires in rod which lie within a feature\n",
    "    (e.g. gene) in feature_df.\n",
    "    Input:\n",
    "    rod (reference ordered data)... pandas series or data frame with multiindex (chrom, pos)\n",
    "                                    such as SNP genotypes\n",
    "    feature_df (gene annotation data frame)... index must be (chrom,feature_name), must have columns 'start', 'end'\n",
    "    \"\"\"\n",
    "    rod = pd.DataFrame(rod)\n",
    "    pos_rel_to_start = feature_df.index.searchsorted(rod.index)\n",
    "    #feature_df[\"end\"] is not necessarily sorted, but wouldn't sorting it here\n",
    "    #lead to problems  as well?\n",
    "    pos_rel_to_end = np.searchsorted(feature_df[\"end\"].values,rod.index.values)\n",
    "    in_feature = (pos_rel_to_start - pos_rel_to_end) == 1\n",
    "    feature_id = feature_df.iloc[pos_rel_to_end[in_feature]][feature_name].values  \n",
    "    rod = rod[in_feature]\n",
    "    rod[feature_name] = feature_id\n",
    "    return rod"
   ]
  },
  {
   "cell_type": "code",
   "execution_count": 86,
   "metadata": {
    "collapsed": false
   },
   "outputs": [],
   "source": [
    "dpf_SI = data_per_feature_SI_2(rod_1d, feature_df_1d, feature_name='gene_id')\n",
    "dpf_SI = rod_1d_to_chrompos_index(dpf_SI, chrom_len_df)\n",
    "#dpf_SI = dpf_SI.reset_index().set_index(['chrom','gene_id','pos'])"
   ]
  },
  {
   "cell_type": "code",
   "execution_count": 93,
   "metadata": {
    "collapsed": false
   },
   "outputs": [],
   "source": [
    "dpf_SI = rod_1d_to_chrompos_index(dpf_SI, chrom_len_df)"
   ]
  },
  {
   "cell_type": "code",
   "execution_count": 90,
   "metadata": {
    "collapsed": false
   },
   "outputs": [],
   "source": [
    "r.sortlevel(inplace=True)"
   ]
  },
  {
   "cell_type": "code",
   "execution_count": 94,
   "metadata": {
    "collapsed": false
   },
   "outputs": [
    {
     "data": {
      "text/plain": [
       "Likelihood    True\n",
       "gene_id       True\n",
       "dtype: bool"
      ]
     },
     "execution_count": 94,
     "metadata": {},
     "output_type": "execute_result"
    }
   ],
   "source": [
    "(dpf_SI==r).all()"
   ]
  },
  {
   "cell_type": "code",
   "execution_count": 39,
   "metadata": {
    "collapsed": false
   },
   "outputs": [],
   "source": [
    "dpf_classic.sortlevel(level=[0,2],inplace=True)"
   ]
  },
  {
   "cell_type": "code",
   "execution_count": 40,
   "metadata": {
    "collapsed": false
   },
   "outputs": [],
   "source": [
    "dpf_SI.sortlevel(level=[0,2],inplace=True)"
   ]
  },
  {
   "cell_type": "code",
   "execution_count": 41,
   "metadata": {
    "collapsed": false
   },
   "outputs": [
    {
     "name": "stdout",
     "output_type": "stream",
     "text": [
      "Likelihood    True\n",
      "dtype: bool\n",
      "True\n"
     ]
    }
   ],
   "source": [
    "print (dpf_SI == dpf_classic).all()\n",
    "print dpf_SI.index.equals(dpf_classic.index)"
   ]
  },
  {
   "cell_type": "code",
   "execution_count": 42,
   "metadata": {
    "collapsed": false
   },
   "outputs": [
    {
     "name": "stdout",
     "output_type": "stream",
     "text": [
      "1 loops, best of 3: 1.46 s per loop\n"
     ]
    }
   ],
   "source": [
    "%timeit data_per_feature_SI_2(rod_1d, feature_df_1d, feature_name='gene_id')"
   ]
  },
  {
   "cell_type": "code",
   "execution_count": 345,
   "metadata": {
    "collapsed": false
   },
   "outputs": [],
   "source": [
    "def data_per_feature2(rod,feature_df):\n",
    "    rod = pd.DataFrame(rod)\n",
    "    def gene_values(gene,sl):\n",
    "        gene_values = data.ix[sl].copy()\n",
    "        gene_values['gene'] = gene\n",
    "        gene_values.set_index('gene',append=True,inplace=True)\n",
    "        return gene_values\n",
    "    for chrom in rod.index.droplevel(1).unique():\n",
    "        data = rod.ix[chrom]\n",
    "        genes = feature_df.ix[chrom]\n",
    "        slices = genes.apply(lambda gene: slice(gene['start'], gene['end']), axis=1)\n",
    "        return pd.concat([gene_values(*sl) for sl in slices.iteritems()])"
   ]
  },
  {
   "cell_type": "code",
   "execution_count": 253,
   "metadata": {
    "collapsed": false
   },
   "outputs": [],
   "source": [
    "def get_features(peak_s, feature_df, max_dist):\n",
    "    \"\"\"\n",
    "    take the input series and gets.\n",
    "    names of features nearby\n",
    "\n",
    "    Input:\n",
    "    peak_s ... pandas series with (chrom, pos) index and value of\n",
    "                the statistic ('peak height'). Series should be named.\n",
    "    feature_df ... data frame with feature info.\n",
    "    \"\"\"\n",
    "    all_features = []\n",
    "    if not feature_df.index.is_monotonic:\n",
    "        feature_df = feature_df.sort_index()\n",
    "    tot_hit_df = pd.DataFrame()\n",
    "    for chrom in peak_s.index.droplevel(1).unique():\n",
    "        loc_feature_df = feature_df.ix[chrom]\n",
    "        #loc_feature_df = loc_feature_df.append(pd.DataFrame(np.nan,index=[np.inf],columns=loc_feature_df.columns))\n",
    "        pos_rel_to_start = np.searchsorted(loc_feature_df['start']-max_dist,peak_s.ix[chrom].index.values)\n",
    "        pos_rel_to_end = np.searchsorted(loc_feature_df[\"end\"].values+max_dist,peak_s.ix[chrom].index.values)\n",
    "        #return pos_rel_to_start,pos_rel_to_end\n",
    "        #print [range(a,b) for a,b in zip(pos_rel_to_end,pos_rel_to_start)]\n",
    "        #features = list(set(loc_feature_df.index[np.hstack([range(a,b) for a,b in zip(pos_rel_to_end,pos_rel_to_start)])]))\n",
    "        features = list(set(loc_feature_df[\"feature_id\"].iloc[np.hstack([range(a,b) for a,b in zip(pos_rel_to_end,pos_rel_to_start)])]))\n",
    "        #features = list(set(loc_feature_df[\"feature_id\"].iloc[np.vstack([pos_rel_to_start,pos_rel_to_end]).T]))\n",
    "        all_features += features\n",
    "    return all_features"
   ]
  },
  {
   "cell_type": "code",
   "execution_count": 57,
   "metadata": {
    "collapsed": false
   },
   "outputs": [],
   "source": [
    "def get_summary_per_feature(value_s,feature_df,summary=None,summary_func=None):\n",
    "    \"\"\"\n",
    "    summary ... name of the function of the groupby object\n",
    "                         to apply to the data (e.g. 'mean', 'max',...)\n",
    "    summary_func ... alternatively: function object to apply\n",
    "                     This is slower than applying a summary string.\n",
    "    \"\"\"\n",
    "    values_per_feature = hp.data_per_feature(value_s,feature_df)\n",
    "    if summary is not None:\n",
    "        summary_per_feature = hp.apply_to_feature(values_per_feature,summary)\n",
    "    elif summary_func is not None:\n",
    "        summary_per_feature = hp.apply_to_feature(values_per_feature,function=summary_func)\n",
    "    else:\n",
    "        raise ValueError(\"Either summary or summary_func must be given.\")\n",
    "    return summary_per_feature"
   ]
  },
  {
   "cell_type": "code",
   "execution_count": 118,
   "metadata": {
    "collapsed": false
   },
   "outputs": [],
   "source": [
    "def get_summary_per_category(value_per_feature,feature_to_category,summary='mean'):\n",
    "    \"\"\"\n",
    "    Calculates summary (e.g. mean) of values for the features\n",
    "    in each of the given categories.\n",
    "    \"\"\"\n",
    "    feature_to_category = feature_to_category.copy()\n",
    "    values_per_feature_to_category = value_per_feature.ix[feature_to_category['gene_symbol'].values].values\n",
    "    feature_to_category['value'] =  values_per_feature_to_category\n",
    "    del feature_to_category['gene_symbol']\n",
    "    summary_per_category = getattr(feature_to_category.groupby('go_identifier'),summary)()\n",
    "    return summary_per_category['value'] "
   ]
  },
  {
   "cell_type": "code",
   "execution_count": 59,
   "metadata": {
    "collapsed": false
   },
   "outputs": [],
   "source": [
    "spf = get_summary_per_feature(rod_s,gene_df,summary='max')"
   ]
  },
  {
   "cell_type": "code",
   "execution_count": 122,
   "metadata": {
    "collapsed": false
   },
   "outputs": [],
   "source": [
    "spc = get_summary_per_category(spf,gene_to_cat,'mean')"
   ]
  },
  {
   "cell_type": "code",
   "execution_count": 123,
   "metadata": {
    "collapsed": false
   },
   "outputs": [],
   "source": [
    "init_rank_table = te.get_initial_rank_table(spc)"
   ]
  },
  {
   "cell_type": "code",
   "execution_count": 14,
   "metadata": {
    "collapsed": false
   },
   "outputs": [],
   "source": [
    "from hs_vervet.scripts import test_enrichment_dev as ted"
   ]
  },
  {
   "cell_type": "code",
   "execution_count": 158,
   "metadata": {
    "collapsed": false
   },
   "outputs": [],
   "source": [
    "del gene_to_cat['value']"
   ]
  },
  {
   "cell_type": "code",
   "execution_count": 549,
   "metadata": {
    "collapsed": false
   },
   "outputs": [],
   "source": [
    "gene_to_cat.rename(columns={'gene_symbol':'symbol'}, inplace=True)"
   ]
  },
  {
   "cell_type": "code",
   "execution_count": 580,
   "metadata": {
    "collapsed": false
   },
   "outputs": [
    {
     "name": "stderr",
     "output_type": "stream",
     "text": [
      "WARNING:root:5017 features from the features file are not in the feature_to_category mapping.\n",
      "WARNING:root:68166 features from the feature_to_category mapping are not in the features file. Removing them.\n",
      "INFO:root:Removing categories for which there are less than 2 features in the features file.\n",
      "INFO:root:4451 categories removed.\n"
     ]
    }
   ],
   "source": [
    "se = ted.SummaryEnrichment(rod_s, gene_df, gene_to_cat, feature_summary='max',category_summary='sum', feature_name='symbol',\n",
    "                               category_name='go_identifier')"
   ]
  },
  {
   "cell_type": "code",
   "execution_count": 581,
   "metadata": {
    "collapsed": false
   },
   "outputs": [
    {
     "ename": "ValueError",
     "evalue": "cannot label index with a null key",
     "output_type": "error",
     "traceback": [
      "\u001b[1;31m---------------------------------------------------------------------------\u001b[0m\n\u001b[1;31mValueError\u001b[0m                                Traceback (most recent call last)",
      "\u001b[1;32m<ipython-input-581-31a2ab3ee53d>\u001b[0m in \u001b[0;36m<module>\u001b[1;34m()\u001b[0m\n\u001b[1;32m----> 1\u001b[1;33m \u001b[0mget_ipython\u001b[0m\u001b[1;33m(\u001b[0m\u001b[1;33m)\u001b[0m\u001b[1;33m.\u001b[0m\u001b[0mmagic\u001b[0m\u001b[1;33m(\u001b[0m\u001b[1;34mu'timeit se.permute(10)'\u001b[0m\u001b[1;33m)\u001b[0m\u001b[1;33m\u001b[0m\u001b[0m\n\u001b[0m",
      "\u001b[1;32m/net/gmi.oeaw.ac.at/nordborg/user/hannes.svardal/Documents/Dropbox/Akademisches/lib/python/virtualenvs/ver/lib/python2.7/site-packages/IPython/core/interactiveshell.pyc\u001b[0m in \u001b[0;36mmagic\u001b[1;34m(self, arg_s)\u001b[0m\n\u001b[0;32m   2203\u001b[0m         \u001b[0mmagic_name\u001b[0m\u001b[1;33m,\u001b[0m \u001b[0m_\u001b[0m\u001b[1;33m,\u001b[0m \u001b[0mmagic_arg_s\u001b[0m \u001b[1;33m=\u001b[0m \u001b[0marg_s\u001b[0m\u001b[1;33m.\u001b[0m\u001b[0mpartition\u001b[0m\u001b[1;33m(\u001b[0m\u001b[1;34m' '\u001b[0m\u001b[1;33m)\u001b[0m\u001b[1;33m\u001b[0m\u001b[0m\n\u001b[0;32m   2204\u001b[0m         \u001b[0mmagic_name\u001b[0m \u001b[1;33m=\u001b[0m \u001b[0mmagic_name\u001b[0m\u001b[1;33m.\u001b[0m\u001b[0mlstrip\u001b[0m\u001b[1;33m(\u001b[0m\u001b[0mprefilter\u001b[0m\u001b[1;33m.\u001b[0m\u001b[0mESC_MAGIC\u001b[0m\u001b[1;33m)\u001b[0m\u001b[1;33m\u001b[0m\u001b[0m\n\u001b[1;32m-> 2205\u001b[1;33m         \u001b[1;32mreturn\u001b[0m \u001b[0mself\u001b[0m\u001b[1;33m.\u001b[0m\u001b[0mrun_line_magic\u001b[0m\u001b[1;33m(\u001b[0m\u001b[0mmagic_name\u001b[0m\u001b[1;33m,\u001b[0m \u001b[0mmagic_arg_s\u001b[0m\u001b[1;33m)\u001b[0m\u001b[1;33m\u001b[0m\u001b[0m\n\u001b[0m\u001b[0;32m   2206\u001b[0m \u001b[1;33m\u001b[0m\u001b[0m\n\u001b[0;32m   2207\u001b[0m     \u001b[1;31m#-------------------------------------------------------------------------\u001b[0m\u001b[1;33m\u001b[0m\u001b[1;33m\u001b[0m\u001b[0m\n",
      "\u001b[1;32m/net/gmi.oeaw.ac.at/nordborg/user/hannes.svardal/Documents/Dropbox/Akademisches/lib/python/virtualenvs/ver/lib/python2.7/site-packages/IPython/core/interactiveshell.pyc\u001b[0m in \u001b[0;36mrun_line_magic\u001b[1;34m(self, magic_name, line)\u001b[0m\n\u001b[0;32m   2124\u001b[0m                 \u001b[0mkwargs\u001b[0m\u001b[1;33m[\u001b[0m\u001b[1;34m'local_ns'\u001b[0m\u001b[1;33m]\u001b[0m \u001b[1;33m=\u001b[0m \u001b[0msys\u001b[0m\u001b[1;33m.\u001b[0m\u001b[0m_getframe\u001b[0m\u001b[1;33m(\u001b[0m\u001b[0mstack_depth\u001b[0m\u001b[1;33m)\u001b[0m\u001b[1;33m.\u001b[0m\u001b[0mf_locals\u001b[0m\u001b[1;33m\u001b[0m\u001b[0m\n\u001b[0;32m   2125\u001b[0m             \u001b[1;32mwith\u001b[0m \u001b[0mself\u001b[0m\u001b[1;33m.\u001b[0m\u001b[0mbuiltin_trap\u001b[0m\u001b[1;33m:\u001b[0m\u001b[1;33m\u001b[0m\u001b[0m\n\u001b[1;32m-> 2126\u001b[1;33m                 \u001b[0mresult\u001b[0m \u001b[1;33m=\u001b[0m \u001b[0mfn\u001b[0m\u001b[1;33m(\u001b[0m\u001b[1;33m*\u001b[0m\u001b[0margs\u001b[0m\u001b[1;33m,\u001b[0m\u001b[1;33m**\u001b[0m\u001b[0mkwargs\u001b[0m\u001b[1;33m)\u001b[0m\u001b[1;33m\u001b[0m\u001b[0m\n\u001b[0m\u001b[0;32m   2127\u001b[0m             \u001b[1;32mreturn\u001b[0m \u001b[0mresult\u001b[0m\u001b[1;33m\u001b[0m\u001b[0m\n\u001b[0;32m   2128\u001b[0m \u001b[1;33m\u001b[0m\u001b[0m\n",
      "\u001b[1;32m/net/gmi.oeaw.ac.at/nordborg/user/hannes.svardal/Documents/Dropbox/Akademisches/lib/python/virtualenvs/ver/lib/python2.7/site-packages/IPython/core/magics/execution.pyc\u001b[0m in \u001b[0;36mtimeit\u001b[1;34m(self, line, cell)\u001b[0m\n",
      "\u001b[1;32m/net/gmi.oeaw.ac.at/nordborg/user/hannes.svardal/Documents/Dropbox/Akademisches/lib/python/virtualenvs/ver/lib/python2.7/site-packages/IPython/core/magic.pyc\u001b[0m in \u001b[0;36m<lambda>\u001b[1;34m(f, *a, **k)\u001b[0m\n\u001b[0;32m    191\u001b[0m     \u001b[1;31m# but it's overkill for just that one bit of state.\u001b[0m\u001b[1;33m\u001b[0m\u001b[1;33m\u001b[0m\u001b[0m\n\u001b[0;32m    192\u001b[0m     \u001b[1;32mdef\u001b[0m \u001b[0mmagic_deco\u001b[0m\u001b[1;33m(\u001b[0m\u001b[0marg\u001b[0m\u001b[1;33m)\u001b[0m\u001b[1;33m:\u001b[0m\u001b[1;33m\u001b[0m\u001b[0m\n\u001b[1;32m--> 193\u001b[1;33m         \u001b[0mcall\u001b[0m \u001b[1;33m=\u001b[0m \u001b[1;32mlambda\u001b[0m \u001b[0mf\u001b[0m\u001b[1;33m,\u001b[0m \u001b[1;33m*\u001b[0m\u001b[0ma\u001b[0m\u001b[1;33m,\u001b[0m \u001b[1;33m**\u001b[0m\u001b[0mk\u001b[0m\u001b[1;33m:\u001b[0m \u001b[0mf\u001b[0m\u001b[1;33m(\u001b[0m\u001b[1;33m*\u001b[0m\u001b[0ma\u001b[0m\u001b[1;33m,\u001b[0m \u001b[1;33m**\u001b[0m\u001b[0mk\u001b[0m\u001b[1;33m)\u001b[0m\u001b[1;33m\u001b[0m\u001b[0m\n\u001b[0m\u001b[0;32m    194\u001b[0m \u001b[1;33m\u001b[0m\u001b[0m\n\u001b[0;32m    195\u001b[0m         \u001b[1;32mif\u001b[0m \u001b[0mcallable\u001b[0m\u001b[1;33m(\u001b[0m\u001b[0marg\u001b[0m\u001b[1;33m)\u001b[0m\u001b[1;33m:\u001b[0m\u001b[1;33m\u001b[0m\u001b[0m\n",
      "\u001b[1;32m/net/gmi.oeaw.ac.at/nordborg/user/hannes.svardal/Documents/Dropbox/Akademisches/lib/python/virtualenvs/ver/lib/python2.7/site-packages/IPython/core/magics/execution.pyc\u001b[0m in \u001b[0;36mtimeit\u001b[1;34m(self, line, cell)\u001b[0m\n\u001b[0;32m   1011\u001b[0m             \u001b[0mnumber\u001b[0m \u001b[1;33m=\u001b[0m \u001b[1;36m1\u001b[0m\u001b[1;33m\u001b[0m\u001b[0m\n\u001b[0;32m   1012\u001b[0m             \u001b[1;32mfor\u001b[0m \u001b[0m_\u001b[0m \u001b[1;32min\u001b[0m \u001b[0mrange\u001b[0m\u001b[1;33m(\u001b[0m\u001b[1;36m1\u001b[0m\u001b[1;33m,\u001b[0m \u001b[1;36m10\u001b[0m\u001b[1;33m)\u001b[0m\u001b[1;33m:\u001b[0m\u001b[1;33m\u001b[0m\u001b[0m\n\u001b[1;32m-> 1013\u001b[1;33m                 \u001b[1;32mif\u001b[0m \u001b[0mtimer\u001b[0m\u001b[1;33m.\u001b[0m\u001b[0mtimeit\u001b[0m\u001b[1;33m(\u001b[0m\u001b[0mnumber\u001b[0m\u001b[1;33m)\u001b[0m \u001b[1;33m>=\u001b[0m \u001b[1;36m0.2\u001b[0m\u001b[1;33m:\u001b[0m\u001b[1;33m\u001b[0m\u001b[0m\n\u001b[0m\u001b[0;32m   1014\u001b[0m                     \u001b[1;32mbreak\u001b[0m\u001b[1;33m\u001b[0m\u001b[0m\n\u001b[0;32m   1015\u001b[0m                 \u001b[0mnumber\u001b[0m \u001b[1;33m*=\u001b[0m \u001b[1;36m10\u001b[0m\u001b[1;33m\u001b[0m\u001b[0m\n",
      "\u001b[1;32m/usr/lib/python2.7/timeit.pyc\u001b[0m in \u001b[0;36mtimeit\u001b[1;34m(self, number)\u001b[0m\n\u001b[0;32m    193\u001b[0m         \u001b[0mgc\u001b[0m\u001b[1;33m.\u001b[0m\u001b[0mdisable\u001b[0m\u001b[1;33m(\u001b[0m\u001b[1;33m)\u001b[0m\u001b[1;33m\u001b[0m\u001b[0m\n\u001b[0;32m    194\u001b[0m         \u001b[1;32mtry\u001b[0m\u001b[1;33m:\u001b[0m\u001b[1;33m\u001b[0m\u001b[0m\n\u001b[1;32m--> 195\u001b[1;33m             \u001b[0mtiming\u001b[0m \u001b[1;33m=\u001b[0m \u001b[0mself\u001b[0m\u001b[1;33m.\u001b[0m\u001b[0minner\u001b[0m\u001b[1;33m(\u001b[0m\u001b[0mit\u001b[0m\u001b[1;33m,\u001b[0m \u001b[0mself\u001b[0m\u001b[1;33m.\u001b[0m\u001b[0mtimer\u001b[0m\u001b[1;33m)\u001b[0m\u001b[1;33m\u001b[0m\u001b[0m\n\u001b[0m\u001b[0;32m    196\u001b[0m         \u001b[1;32mfinally\u001b[0m\u001b[1;33m:\u001b[0m\u001b[1;33m\u001b[0m\u001b[0m\n\u001b[0;32m    197\u001b[0m             \u001b[1;32mif\u001b[0m \u001b[0mgcold\u001b[0m\u001b[1;33m:\u001b[0m\u001b[1;33m\u001b[0m\u001b[0m\n",
      "\u001b[1;32m<magic-timeit>\u001b[0m in \u001b[0;36minner\u001b[1;34m(_it, _timer)\u001b[0m\n",
      "\u001b[1;32m/home/GMI/hannes.svardal/script/hs_vervet/scripts/test_enrichment_dev.py\u001b[0m in \u001b[0;36mpermute\u001b[1;34m(self, n_permut)\u001b[0m\n\u001b[0;32m    227\u001b[0m \u001b[1;33m\u001b[0m\u001b[0m\n\u001b[0;32m    228\u001b[0m     \u001b[1;32mdef\u001b[0m \u001b[0mpermute\u001b[0m\u001b[1;33m(\u001b[0m\u001b[0mself\u001b[0m\u001b[1;33m,\u001b[0m \u001b[0mn_permut\u001b[0m\u001b[1;33m)\u001b[0m\u001b[1;33m:\u001b[0m\u001b[1;33m\u001b[0m\u001b[0m\n\u001b[1;32m--> 229\u001b[1;33m         \u001b[0mrt\u001b[0m \u001b[1;33m=\u001b[0m \u001b[0mself\u001b[0m\u001b[1;33m.\u001b[0m\u001b[0mget_permut_rank_table\u001b[0m\u001b[1;33m(\u001b[0m\u001b[0mn_permut\u001b[0m\u001b[1;33m)\u001b[0m\u001b[1;33m\u001b[0m\u001b[0m\n\u001b[0m\u001b[0;32m    230\u001b[0m         \u001b[0mself\u001b[0m\u001b[1;33m.\u001b[0m\u001b[0mrank_table\u001b[0m \u001b[1;33m=\u001b[0m \u001b[0mreduce_mem\u001b[0m\u001b[1;33m(\u001b[0m\u001b[1;33m[\u001b[0m\u001b[0mself\u001b[0m\u001b[1;33m.\u001b[0m\u001b[0mrank_table\u001b[0m\u001b[1;33m,\u001b[0m \u001b[0mrt\u001b[0m\u001b[1;33m]\u001b[0m\u001b[1;33m)\u001b[0m\u001b[1;33m\u001b[0m\u001b[0m\n\u001b[0;32m    231\u001b[0m \u001b[1;33m\u001b[0m\u001b[0m\n",
      "\u001b[1;32m/home/GMI/hannes.svardal/script/hs_vervet/scripts/test_enrichment_dev.py\u001b[0m in \u001b[0;36mget_permut_rank_table\u001b[1;34m(self, n_permut)\u001b[0m\n\u001b[0;32m    223\u001b[0m             \u001b[0mrt\u001b[0m \u001b[1;33m=\u001b[0m \u001b[0mreduce_mem\u001b[0m\u001b[1;33m(\u001b[0m\u001b[0mrts\u001b[0m\u001b[1;33m)\u001b[0m\u001b[1;33m\u001b[0m\u001b[0m\n\u001b[0;32m    224\u001b[0m         \u001b[1;32melse\u001b[0m\u001b[1;33m:\u001b[0m\u001b[1;33m\u001b[0m\u001b[0m\n\u001b[1;32m--> 225\u001b[1;33m             \u001b[0mrt\u001b[0m \u001b[1;33m=\u001b[0m \u001b[0mself\u001b[0m\u001b[1;33m.\u001b[0m\u001b[0mpermuter\u001b[0m\u001b[1;33m(\u001b[0m\u001b[0mrti\u001b[0m\u001b[1;33m,\u001b[0m \u001b[0mn_permut\u001b[0m\u001b[1;33m)\u001b[0m\u001b[1;33m\u001b[0m\u001b[0m\n\u001b[0m\u001b[0;32m    226\u001b[0m         \u001b[1;32mreturn\u001b[0m \u001b[0mrt\u001b[0m\u001b[1;33m\u001b[0m\u001b[0m\n\u001b[0;32m    227\u001b[0m \u001b[1;33m\u001b[0m\u001b[0m\n",
      "\u001b[1;32m/home/GMI/hannes.svardal/script/hs_vervet/scripts/test_enrichment_dev.py\u001b[0m in \u001b[0;36mpermuter\u001b[1;34m(self, rank_table, n_permut)\u001b[0m\n\u001b[0;32m    406\u001b[0m         \u001b[1;32mfor\u001b[0m \u001b[0mrnd\u001b[0m \u001b[1;32min\u001b[0m \u001b[0mnp\u001b[0m\u001b[1;33m.\u001b[0m\u001b[0mrandom\u001b[0m\u001b[1;33m.\u001b[0m\u001b[0mrand\u001b[0m\u001b[1;33m(\u001b[0m\u001b[0mn_permut\u001b[0m\u001b[1;33m)\u001b[0m\u001b[1;33m:\u001b[0m\u001b[1;33m\u001b[0m\u001b[0m\n\u001b[0;32m    407\u001b[0m             \u001b[0ms\u001b[0m \u001b[1;33m=\u001b[0m \u001b[0mshift_rod\u001b[0m\u001b[1;33m(\u001b[0m\u001b[0mself\u001b[0m\u001b[1;33m.\u001b[0m\u001b[0mvalue_s\u001b[0m\u001b[1;33m,\u001b[0m \u001b[0mrnd\u001b[0m\u001b[1;33m)\u001b[0m\u001b[1;33m\u001b[0m\u001b[0m\n\u001b[1;32m--> 408\u001b[1;33m             \u001b[0massoc\u001b[0m \u001b[1;33m=\u001b[0m \u001b[0mself\u001b[0m\u001b[1;33m.\u001b[0m\u001b[0mget_association\u001b[0m\u001b[1;33m(\u001b[0m\u001b[0ms\u001b[0m\u001b[1;33m)\u001b[0m\u001b[1;33m\u001b[0m\u001b[0m\n\u001b[0m\u001b[0;32m    409\u001b[0m             rank_table[\"rank\"] += (rank_table[assoc.name] > \\\n\u001b[0;32m    410\u001b[0m                                             assoc.reindex(rank_table.index).fillna(0))\n",
      "\u001b[1;32m/home/GMI/hannes.svardal/script/hs_vervet/scripts/test_enrichment_dev.py\u001b[0m in \u001b[0;36mget_association\u001b[1;34m(self, value_s)\u001b[0m\n\u001b[0;32m    356\u001b[0m \u001b[1;33m\u001b[0m\u001b[0m\n\u001b[0;32m    357\u001b[0m     \u001b[1;32mdef\u001b[0m \u001b[0mget_association\u001b[0m\u001b[1;33m(\u001b[0m\u001b[0mself\u001b[0m\u001b[1;33m,\u001b[0m \u001b[0mvalue_s\u001b[0m\u001b[1;33m)\u001b[0m\u001b[1;33m:\u001b[0m\u001b[1;33m\u001b[0m\u001b[0m\n\u001b[1;32m--> 358\u001b[1;33m         \u001b[0msummary_per_feature\u001b[0m \u001b[1;33m=\u001b[0m \u001b[0mself\u001b[0m\u001b[1;33m.\u001b[0m\u001b[0mget_summary_per_feature\u001b[0m\u001b[1;33m(\u001b[0m\u001b[0mvalue_s\u001b[0m\u001b[1;33m)\u001b[0m\u001b[1;33m\u001b[0m\u001b[0m\n\u001b[0m\u001b[0;32m    359\u001b[0m         \u001b[0massoc\u001b[0m \u001b[1;33m=\u001b[0m \u001b[0mself\u001b[0m\u001b[1;33m.\u001b[0m\u001b[0mget_summary_per_category\u001b[0m\u001b[1;33m(\u001b[0m\u001b[0msummary_per_feature\u001b[0m\u001b[1;33m)\u001b[0m\u001b[1;33m\u001b[0m\u001b[0m\n\u001b[0;32m    360\u001b[0m         \u001b[0massoc\u001b[0m\u001b[1;33m.\u001b[0m\u001b[0mname\u001b[0m \u001b[1;33m=\u001b[0m \u001b[0mself\u001b[0m\u001b[1;33m.\u001b[0m\u001b[0mvalue_name\u001b[0m \u001b[1;33m+\u001b[0m \u001b[1;34m'_'\u001b[0m \u001b[1;33m+\u001b[0m \u001b[1;34m'summary'\u001b[0m\u001b[1;31m# self.feature_name + self.feature_summary + '_'\u001b[0m\u001b[1;33m\u001b[0m\u001b[0m\n",
      "\u001b[1;32m/home/GMI/hannes.svardal/script/hs_vervet/scripts/test_enrichment_dev.py\u001b[0m in \u001b[0;36mget_summary_per_feature\u001b[1;34m(self, value_s)\u001b[0m\n\u001b[0;32m    368\u001b[0m         \u001b[1;32melse\u001b[0m\u001b[1;33m:\u001b[0m\u001b[1;33m\u001b[0m\u001b[0m\n\u001b[0;32m    369\u001b[0m             values_per_feature = hp.get_features_per_data(value_s, self.feature_df,\n\u001b[1;32m--> 370\u001b[1;33m                                                     feature_name=self.feature_name, max_dist=self.max_dist)\n\u001b[0m\u001b[0;32m    371\u001b[0m         \u001b[1;32mif\u001b[0m \u001b[0mself\u001b[0m\u001b[1;33m.\u001b[0m\u001b[0mfeature_summary\u001b[0m \u001b[1;32mis\u001b[0m \u001b[1;32mnot\u001b[0m \u001b[0mNone\u001b[0m\u001b[1;33m:\u001b[0m\u001b[1;33m\u001b[0m\u001b[0m\n\u001b[0;32m    372\u001b[0m             \u001b[0mgroups\u001b[0m \u001b[1;33m=\u001b[0m \u001b[0mvalues_per_feature\u001b[0m\u001b[1;33m.\u001b[0m\u001b[0mgroupby\u001b[0m\u001b[1;33m(\u001b[0m\u001b[0mself\u001b[0m\u001b[1;33m.\u001b[0m\u001b[0mfeature_name\u001b[0m\u001b[1;33m)\u001b[0m\u001b[1;33m\u001b[0m\u001b[0m\n",
      "\u001b[1;32m/home/GMI/hannes.svardal/script/hs_vervet/tools/hs_pandas.py\u001b[0m in \u001b[0;36mget_features_per_data\u001b[1;34m(peak_s, feature_df, feature_name, max_dist)\u001b[0m\n\u001b[0;32m    178\u001b[0m         \u001b[0mdf\u001b[0m \u001b[1;33m=\u001b[0m \u001b[0mpd\u001b[0m\u001b[1;33m.\u001b[0m\u001b[0mDataFrame\u001b[0m\u001b[1;33m(\u001b[0m\u001b[1;33m{\u001b[0m\u001b[0mfeature_name\u001b[0m\u001b[1;33m:\u001b[0m\u001b[0mr\u001b[0m\u001b[1;33m,\u001b[0m\u001b[0mpeak_s\u001b[0m\u001b[1;33m.\u001b[0m\u001b[0mname\u001b[0m\u001b[1;33m:\u001b[0m\u001b[0mgdf\u001b[0m\u001b[1;33m[\u001b[0m\u001b[0mpeak_s\u001b[0m\u001b[1;33m.\u001b[0m\u001b[0mname\u001b[0m\u001b[1;33m]\u001b[0m\u001b[1;33m.\u001b[0m\u001b[0mvalues\u001b[0m\u001b[1;33m[\u001b[0m\u001b[1;36m0\u001b[0m\u001b[1;33m]\u001b[0m\u001b[1;33m}\u001b[0m\u001b[1;33m)\u001b[0m\u001b[1;33m\u001b[0m\u001b[0m\n\u001b[0;32m    179\u001b[0m         \u001b[1;32mreturn\u001b[0m \u001b[0mdf\u001b[0m\u001b[1;33m\u001b[0m\u001b[0m\n\u001b[1;32m--> 180\u001b[1;33m     \u001b[0md\u001b[0m \u001b[1;33m=\u001b[0m \u001b[0mg\u001b[0m\u001b[1;33m.\u001b[0m\u001b[0mapply\u001b[0m\u001b[1;33m(\u001b[0m\u001b[0mget_series_of_features\u001b[0m\u001b[1;33m)\u001b[0m\u001b[1;33m\u001b[0m\u001b[0m\n\u001b[0m\u001b[0;32m    181\u001b[0m     \u001b[0md\u001b[0m\u001b[1;33m.\u001b[0m\u001b[0mindex\u001b[0m\u001b[1;33m.\u001b[0m\u001b[0mnames\u001b[0m \u001b[1;33m=\u001b[0m \u001b[1;33m[\u001b[0m\u001b[1;34m'chrom'\u001b[0m\u001b[1;33m,\u001b[0m\u001b[1;34m'pos'\u001b[0m\u001b[1;33m,\u001b[0m\u001b[1;34m'number'\u001b[0m\u001b[1;33m]\u001b[0m\u001b[1;33m\u001b[0m\u001b[0m\n\u001b[0;32m    182\u001b[0m     \u001b[1;32mreturn\u001b[0m  \u001b[0md\u001b[0m\u001b[1;33m\u001b[0m\u001b[0m\n",
      "\u001b[1;32m/net/gmi.oeaw.ac.at/nordborg/user/hannes.svardal/Documents/Dropbox/Akademisches/lib/python/virtualenvs/ver/lib/python2.7/site-packages/pandas/core/groupby.pyc\u001b[0m in \u001b[0;36mapply\u001b[1;34m(self, func, *args, **kwargs)\u001b[0m\n\u001b[0;32m    660\u001b[0m         \u001b[1;31m# ignore SettingWithCopy here in case the user mutates\u001b[0m\u001b[1;33m\u001b[0m\u001b[1;33m\u001b[0m\u001b[0m\n\u001b[0;32m    661\u001b[0m         \u001b[1;32mwith\u001b[0m \u001b[0moption_context\u001b[0m\u001b[1;33m(\u001b[0m\u001b[1;34m'mode.chained_assignment'\u001b[0m\u001b[1;33m,\u001b[0m\u001b[0mNone\u001b[0m\u001b[1;33m)\u001b[0m\u001b[1;33m:\u001b[0m\u001b[1;33m\u001b[0m\u001b[0m\n\u001b[1;32m--> 662\u001b[1;33m             \u001b[1;32mreturn\u001b[0m \u001b[0mself\u001b[0m\u001b[1;33m.\u001b[0m\u001b[0m_python_apply_general\u001b[0m\u001b[1;33m(\u001b[0m\u001b[0mf\u001b[0m\u001b[1;33m)\u001b[0m\u001b[1;33m\u001b[0m\u001b[0m\n\u001b[0m\u001b[0;32m    663\u001b[0m \u001b[1;33m\u001b[0m\u001b[0m\n\u001b[0;32m    664\u001b[0m     \u001b[1;32mdef\u001b[0m \u001b[0m_python_apply_general\u001b[0m\u001b[1;33m(\u001b[0m\u001b[0mself\u001b[0m\u001b[1;33m,\u001b[0m \u001b[0mf\u001b[0m\u001b[1;33m)\u001b[0m\u001b[1;33m:\u001b[0m\u001b[1;33m\u001b[0m\u001b[0m\n",
      "\u001b[1;32m/net/gmi.oeaw.ac.at/nordborg/user/hannes.svardal/Documents/Dropbox/Akademisches/lib/python/virtualenvs/ver/lib/python2.7/site-packages/pandas/core/groupby.pyc\u001b[0m in \u001b[0;36m_python_apply_general\u001b[1;34m(self, f)\u001b[0m\n\u001b[0;32m    664\u001b[0m     \u001b[1;32mdef\u001b[0m \u001b[0m_python_apply_general\u001b[0m\u001b[1;33m(\u001b[0m\u001b[0mself\u001b[0m\u001b[1;33m,\u001b[0m \u001b[0mf\u001b[0m\u001b[1;33m)\u001b[0m\u001b[1;33m:\u001b[0m\u001b[1;33m\u001b[0m\u001b[0m\n\u001b[0;32m    665\u001b[0m         keys, values, mutated = self.grouper.apply(f, self._selected_obj,\n\u001b[1;32m--> 666\u001b[1;33m                                                    self.axis)\n\u001b[0m\u001b[0;32m    667\u001b[0m \u001b[1;33m\u001b[0m\u001b[0m\n\u001b[0;32m    668\u001b[0m         return self._wrap_applied_output(keys, values,\n",
      "\u001b[1;32m/net/gmi.oeaw.ac.at/nordborg/user/hannes.svardal/Documents/Dropbox/Akademisches/lib/python/virtualenvs/ver/lib/python2.7/site-packages/pandas/core/groupby.pyc\u001b[0m in \u001b[0;36mapply\u001b[1;34m(self, f, data, axis)\u001b[0m\n\u001b[0;32m   1288\u001b[0m             \u001b[1;31m# group might be modified\u001b[0m\u001b[1;33m\u001b[0m\u001b[1;33m\u001b[0m\u001b[0m\n\u001b[0;32m   1289\u001b[0m             \u001b[0mgroup_axes\u001b[0m \u001b[1;33m=\u001b[0m \u001b[0m_get_axes\u001b[0m\u001b[1;33m(\u001b[0m\u001b[0mgroup\u001b[0m\u001b[1;33m)\u001b[0m\u001b[1;33m\u001b[0m\u001b[0m\n\u001b[1;32m-> 1290\u001b[1;33m             \u001b[0mres\u001b[0m \u001b[1;33m=\u001b[0m \u001b[0mf\u001b[0m\u001b[1;33m(\u001b[0m\u001b[0mgroup\u001b[0m\u001b[1;33m)\u001b[0m\u001b[1;33m\u001b[0m\u001b[0m\n\u001b[0m\u001b[0;32m   1291\u001b[0m             \u001b[1;32mif\u001b[0m \u001b[1;32mnot\u001b[0m \u001b[0m_is_indexed_like\u001b[0m\u001b[1;33m(\u001b[0m\u001b[0mres\u001b[0m\u001b[1;33m,\u001b[0m \u001b[0mgroup_axes\u001b[0m\u001b[1;33m)\u001b[0m\u001b[1;33m:\u001b[0m\u001b[1;33m\u001b[0m\u001b[0m\n\u001b[0;32m   1292\u001b[0m                 \u001b[0mmutated\u001b[0m \u001b[1;33m=\u001b[0m \u001b[0mTrue\u001b[0m\u001b[1;33m\u001b[0m\u001b[0m\n",
      "\u001b[1;32m/net/gmi.oeaw.ac.at/nordborg/user/hannes.svardal/Documents/Dropbox/Akademisches/lib/python/virtualenvs/ver/lib/python2.7/site-packages/pandas/core/groupby.pyc\u001b[0m in \u001b[0;36mf\u001b[1;34m(g)\u001b[0m\n\u001b[0;32m    656\u001b[0m         \u001b[1;33m@\u001b[0m\u001b[0mwraps\u001b[0m\u001b[1;33m(\u001b[0m\u001b[0mfunc\u001b[0m\u001b[1;33m)\u001b[0m\u001b[1;33m\u001b[0m\u001b[0m\n\u001b[0;32m    657\u001b[0m         \u001b[1;32mdef\u001b[0m \u001b[0mf\u001b[0m\u001b[1;33m(\u001b[0m\u001b[0mg\u001b[0m\u001b[1;33m)\u001b[0m\u001b[1;33m:\u001b[0m\u001b[1;33m\u001b[0m\u001b[0m\n\u001b[1;32m--> 658\u001b[1;33m             \u001b[1;32mreturn\u001b[0m \u001b[0mfunc\u001b[0m\u001b[1;33m(\u001b[0m\u001b[0mg\u001b[0m\u001b[1;33m,\u001b[0m \u001b[1;33m*\u001b[0m\u001b[0margs\u001b[0m\u001b[1;33m,\u001b[0m \u001b[1;33m**\u001b[0m\u001b[0mkwargs\u001b[0m\u001b[1;33m)\u001b[0m\u001b[1;33m\u001b[0m\u001b[0m\n\u001b[0m\u001b[0;32m    659\u001b[0m \u001b[1;33m\u001b[0m\u001b[0m\n\u001b[0;32m    660\u001b[0m         \u001b[1;31m# ignore SettingWithCopy here in case the user mutates\u001b[0m\u001b[1;33m\u001b[0m\u001b[1;33m\u001b[0m\u001b[0m\n",
      "\u001b[1;32m/home/GMI/hannes.svardal/script/hs_vervet/tools/hs_pandas.py\u001b[0m in \u001b[0;36mget_series_of_features\u001b[1;34m(gdf)\u001b[0m\n\u001b[0;32m    176\u001b[0m         \u001b[0mfeatures\u001b[0m \u001b[1;33m=\u001b[0m \u001b[0mgdf\u001b[0m\u001b[1;33m[\u001b[0m\u001b[0mfeature_name\u001b[0m\u001b[1;33m]\u001b[0m\u001b[1;33m.\u001b[0m\u001b[0munique\u001b[0m\u001b[1;33m(\u001b[0m\u001b[1;33m)\u001b[0m\u001b[1;33m\u001b[0m\u001b[0m\n\u001b[0;32m    177\u001b[0m         \u001b[0mr\u001b[0m \u001b[1;33m=\u001b[0m \u001b[0mpd\u001b[0m\u001b[1;33m.\u001b[0m\u001b[0mSeries\u001b[0m\u001b[1;33m(\u001b[0m\u001b[1;33m{\u001b[0m\u001b[0mi\u001b[0m\u001b[1;33m:\u001b[0m\u001b[0ms\u001b[0m \u001b[1;32mfor\u001b[0m \u001b[0mi\u001b[0m\u001b[1;33m,\u001b[0m\u001b[0ms\u001b[0m \u001b[1;32min\u001b[0m \u001b[0menumerate\u001b[0m\u001b[1;33m(\u001b[0m\u001b[0mfeatures\u001b[0m\u001b[1;33m)\u001b[0m\u001b[1;33m}\u001b[0m\u001b[1;33m)\u001b[0m\u001b[1;33m\u001b[0m\u001b[0m\n\u001b[1;32m--> 178\u001b[1;33m         \u001b[0mdf\u001b[0m \u001b[1;33m=\u001b[0m \u001b[0mpd\u001b[0m\u001b[1;33m.\u001b[0m\u001b[0mDataFrame\u001b[0m\u001b[1;33m(\u001b[0m\u001b[1;33m{\u001b[0m\u001b[0mfeature_name\u001b[0m\u001b[1;33m:\u001b[0m\u001b[0mr\u001b[0m\u001b[1;33m,\u001b[0m\u001b[0mpeak_s\u001b[0m\u001b[1;33m.\u001b[0m\u001b[0mname\u001b[0m\u001b[1;33m:\u001b[0m\u001b[0mgdf\u001b[0m\u001b[1;33m[\u001b[0m\u001b[0mpeak_s\u001b[0m\u001b[1;33m.\u001b[0m\u001b[0mname\u001b[0m\u001b[1;33m]\u001b[0m\u001b[1;33m.\u001b[0m\u001b[0mvalues\u001b[0m\u001b[1;33m[\u001b[0m\u001b[1;36m0\u001b[0m\u001b[1;33m]\u001b[0m\u001b[1;33m}\u001b[0m\u001b[1;33m)\u001b[0m\u001b[1;33m\u001b[0m\u001b[0m\n\u001b[0m\u001b[0;32m    179\u001b[0m         \u001b[1;32mreturn\u001b[0m \u001b[0mdf\u001b[0m\u001b[1;33m\u001b[0m\u001b[0m\n\u001b[0;32m    180\u001b[0m     \u001b[0md\u001b[0m \u001b[1;33m=\u001b[0m \u001b[0mg\u001b[0m\u001b[1;33m.\u001b[0m\u001b[0mapply\u001b[0m\u001b[1;33m(\u001b[0m\u001b[0mget_series_of_features\u001b[0m\u001b[1;33m)\u001b[0m\u001b[1;33m\u001b[0m\u001b[0m\n",
      "\u001b[1;32m/net/gmi.oeaw.ac.at/nordborg/user/hannes.svardal/Documents/Dropbox/Akademisches/lib/python/virtualenvs/ver/lib/python2.7/site-packages/pandas/core/frame.pyc\u001b[0m in \u001b[0;36m__getitem__\u001b[1;34m(self, key)\u001b[0m\n\u001b[0;32m   1778\u001b[0m             \u001b[1;32mreturn\u001b[0m \u001b[0mself\u001b[0m\u001b[1;33m.\u001b[0m\u001b[0m_getitem_multilevel\u001b[0m\u001b[1;33m(\u001b[0m\u001b[0mkey\u001b[0m\u001b[1;33m)\u001b[0m\u001b[1;33m\u001b[0m\u001b[0m\n\u001b[0;32m   1779\u001b[0m         \u001b[1;32melse\u001b[0m\u001b[1;33m:\u001b[0m\u001b[1;33m\u001b[0m\u001b[0m\n\u001b[1;32m-> 1780\u001b[1;33m             \u001b[1;32mreturn\u001b[0m \u001b[0mself\u001b[0m\u001b[1;33m.\u001b[0m\u001b[0m_getitem_column\u001b[0m\u001b[1;33m(\u001b[0m\u001b[0mkey\u001b[0m\u001b[1;33m)\u001b[0m\u001b[1;33m\u001b[0m\u001b[0m\n\u001b[0m\u001b[0;32m   1781\u001b[0m \u001b[1;33m\u001b[0m\u001b[0m\n\u001b[0;32m   1782\u001b[0m     \u001b[1;32mdef\u001b[0m \u001b[0m_getitem_column\u001b[0m\u001b[1;33m(\u001b[0m\u001b[0mself\u001b[0m\u001b[1;33m,\u001b[0m \u001b[0mkey\u001b[0m\u001b[1;33m)\u001b[0m\u001b[1;33m:\u001b[0m\u001b[1;33m\u001b[0m\u001b[0m\n",
      "\u001b[1;32m/net/gmi.oeaw.ac.at/nordborg/user/hannes.svardal/Documents/Dropbox/Akademisches/lib/python/virtualenvs/ver/lib/python2.7/site-packages/pandas/core/frame.pyc\u001b[0m in \u001b[0;36m_getitem_column\u001b[1;34m(self, key)\u001b[0m\n\u001b[0;32m   1785\u001b[0m         \u001b[1;31m# get column\u001b[0m\u001b[1;33m\u001b[0m\u001b[1;33m\u001b[0m\u001b[0m\n\u001b[0;32m   1786\u001b[0m         \u001b[1;32mif\u001b[0m \u001b[0mself\u001b[0m\u001b[1;33m.\u001b[0m\u001b[0mcolumns\u001b[0m\u001b[1;33m.\u001b[0m\u001b[0mis_unique\u001b[0m\u001b[1;33m:\u001b[0m\u001b[1;33m\u001b[0m\u001b[0m\n\u001b[1;32m-> 1787\u001b[1;33m             \u001b[1;32mreturn\u001b[0m \u001b[0mself\u001b[0m\u001b[1;33m.\u001b[0m\u001b[0m_get_item_cache\u001b[0m\u001b[1;33m(\u001b[0m\u001b[0mkey\u001b[0m\u001b[1;33m)\u001b[0m\u001b[1;33m\u001b[0m\u001b[0m\n\u001b[0m\u001b[0;32m   1788\u001b[0m \u001b[1;33m\u001b[0m\u001b[0m\n\u001b[0;32m   1789\u001b[0m         \u001b[1;31m# duplicate columns & possible reduce dimensionaility\u001b[0m\u001b[1;33m\u001b[0m\u001b[1;33m\u001b[0m\u001b[0m\n",
      "\u001b[1;32m/net/gmi.oeaw.ac.at/nordborg/user/hannes.svardal/Documents/Dropbox/Akademisches/lib/python/virtualenvs/ver/lib/python2.7/site-packages/pandas/core/generic.pyc\u001b[0m in \u001b[0;36m_get_item_cache\u001b[1;34m(self, item)\u001b[0m\n\u001b[0;32m   1066\u001b[0m         \u001b[0mres\u001b[0m \u001b[1;33m=\u001b[0m \u001b[0mcache\u001b[0m\u001b[1;33m.\u001b[0m\u001b[0mget\u001b[0m\u001b[1;33m(\u001b[0m\u001b[0mitem\u001b[0m\u001b[1;33m)\u001b[0m\u001b[1;33m\u001b[0m\u001b[0m\n\u001b[0;32m   1067\u001b[0m         \u001b[1;32mif\u001b[0m \u001b[0mres\u001b[0m \u001b[1;32mis\u001b[0m \u001b[0mNone\u001b[0m\u001b[1;33m:\u001b[0m\u001b[1;33m\u001b[0m\u001b[0m\n\u001b[1;32m-> 1068\u001b[1;33m             \u001b[0mvalues\u001b[0m \u001b[1;33m=\u001b[0m \u001b[0mself\u001b[0m\u001b[1;33m.\u001b[0m\u001b[0m_data\u001b[0m\u001b[1;33m.\u001b[0m\u001b[0mget\u001b[0m\u001b[1;33m(\u001b[0m\u001b[0mitem\u001b[0m\u001b[1;33m)\u001b[0m\u001b[1;33m\u001b[0m\u001b[0m\n\u001b[0m\u001b[0;32m   1069\u001b[0m             \u001b[0mres\u001b[0m \u001b[1;33m=\u001b[0m \u001b[0mself\u001b[0m\u001b[1;33m.\u001b[0m\u001b[0m_box_item_values\u001b[0m\u001b[1;33m(\u001b[0m\u001b[0mitem\u001b[0m\u001b[1;33m,\u001b[0m \u001b[0mvalues\u001b[0m\u001b[1;33m)\u001b[0m\u001b[1;33m\u001b[0m\u001b[0m\n\u001b[0;32m   1070\u001b[0m             \u001b[0mcache\u001b[0m\u001b[1;33m[\u001b[0m\u001b[0mitem\u001b[0m\u001b[1;33m]\u001b[0m \u001b[1;33m=\u001b[0m \u001b[0mres\u001b[0m\u001b[1;33m\u001b[0m\u001b[0m\n",
      "\u001b[1;32m/net/gmi.oeaw.ac.at/nordborg/user/hannes.svardal/Documents/Dropbox/Akademisches/lib/python/virtualenvs/ver/lib/python2.7/site-packages/pandas/core/internals.pyc\u001b[0m in \u001b[0;36mget\u001b[1;34m(self, item, fastpath)\u001b[0m\n\u001b[0;32m   2856\u001b[0m                         \u001b[0mloc\u001b[0m \u001b[1;33m=\u001b[0m \u001b[0mindexer\u001b[0m\u001b[1;33m.\u001b[0m\u001b[0mitem\u001b[0m\u001b[1;33m(\u001b[0m\u001b[1;33m)\u001b[0m\u001b[1;33m\u001b[0m\u001b[0m\n\u001b[0;32m   2857\u001b[0m                     \u001b[1;32melse\u001b[0m\u001b[1;33m:\u001b[0m\u001b[1;33m\u001b[0m\u001b[0m\n\u001b[1;32m-> 2858\u001b[1;33m                         \u001b[1;32mraise\u001b[0m \u001b[0mValueError\u001b[0m\u001b[1;33m(\u001b[0m\u001b[1;34m\"cannot label index with a null key\"\u001b[0m\u001b[1;33m)\u001b[0m\u001b[1;33m\u001b[0m\u001b[0m\n\u001b[0m\u001b[0;32m   2859\u001b[0m \u001b[1;33m\u001b[0m\u001b[0m\n\u001b[0;32m   2860\u001b[0m             \u001b[1;32mreturn\u001b[0m \u001b[0mself\u001b[0m\u001b[1;33m.\u001b[0m\u001b[0miget\u001b[0m\u001b[1;33m(\u001b[0m\u001b[0mloc\u001b[0m\u001b[1;33m,\u001b[0m \u001b[0mfastpath\u001b[0m\u001b[1;33m=\u001b[0m\u001b[0mfastpath\u001b[0m\u001b[1;33m)\u001b[0m\u001b[1;33m\u001b[0m\u001b[0m\n",
      "\u001b[1;31mValueError\u001b[0m: cannot label index with a null key"
     ]
    }
   ],
   "source": [
    "%timeit se.permute(10)"
   ]
  },
  {
   "cell_type": "code",
   "execution_count": 556,
   "metadata": {
    "collapsed": false
   },
   "outputs": [],
   "source": [
    "from hs_vervet.scripts import test_enrichment_dev2 as ted2"
   ]
  },
  {
   "cell_type": "code",
   "execution_count": 579,
   "metadata": {
    "collapsed": false
   },
   "outputs": [],
   "source": [
    "%autoreload"
   ]
  },
  {
   "cell_type": "code",
   "execution_count": 571,
   "metadata": {
    "collapsed": false
   },
   "outputs": [
    {
     "name": "stderr",
     "output_type": "stream",
     "text": [
      "WARNING:root:5017 features from the features file are not in the feature_to_category mapping.\n",
      "WARNING:root:68166 features from the feature_to_category mapping are not in the features file. Removing them.\n",
      "INFO:root:Removing categories for which there are less than 2 features in the features file.\n",
      "INFO:root:4451 categories removed.\n"
     ]
    }
   ],
   "source": [
    "se2 = ted2.SummaryEnrichment(rod_s, gene_df, gene_to_cat, feature_summary='max',category_summary='sum', feature_name='symbol',\n",
    "                               category_name='go_identifier')"
   ]
  },
  {
   "cell_type": "code",
   "execution_count": 572,
   "metadata": {
    "collapsed": false
   },
   "outputs": [
    {
     "name": "stdout",
     "output_type": "stream",
     "text": [
      "1 loops, best of 3: 56.9 s per loop\n"
     ]
    }
   ],
   "source": [
    "%timeit se2.permute(10)"
   ]
  },
  {
   "cell_type": "code",
   "execution_count": 37,
   "metadata": {
    "collapsed": false
   },
   "outputs": [],
   "source": [
    "gene_to_cat.rename(columns={'gene_symbol':'gene_id'},inplace=True)"
   ]
  },
  {
   "cell_type": "code",
   "execution_count": 44,
   "metadata": {
    "collapsed": false
   },
   "outputs": [
    {
     "data": {
      "text/plain": [
       "(83596,)"
      ]
     },
     "execution_count": 44,
     "metadata": {},
     "output_type": "execute_result"
    }
   ],
   "source": [
    "gene_to_cat['gene_id'].unique().shape"
   ]
  },
  {
   "cell_type": "code",
   "execution_count": 218,
   "metadata": {
    "collapsed": false
   },
   "outputs": [],
   "source": [
    "def top_genes(values_per_feature,quantile=None,top_n=None):\n",
    "    \"\"\"\n",
    "    reverse engineering to get top quantile per gene category\n",
    "    \"\"\"\n",
    "    if top_n is None:\n",
    "        top_n = int(len(means)*quantile)\n",
    "    groups = values_per_feature.groupby(lambda idx: idx[1])\n",
    "    means = groups.mean()\n",
    "    sort_means = means.sort(ascending=False)\n",
    "    sort_means.iloc[:top_n] = 1\n",
    "    sort_means.iloc[top_n:] = 0\n",
    "    return sort_means"
   ]
  },
  {
   "cell_type": "code",
   "execution_count": 219,
   "metadata": {
    "collapsed": false
   },
   "outputs": [],
   "source": [
    "se1 = ted.SummaryEnrichment(rod_s, gene_df, gene_to_cat, feature_summary_fun=feature_summary_fun,category_summary='sum')"
   ]
  },
  {
   "cell_type": "code",
   "execution_count": 109,
   "metadata": {
    "collapsed": false
   },
   "outputs": [],
   "source": [
    "s = te.shift_rod(rod_s, rnd)\n",
    "spf0 = get_summary_per_feature(s,gene_df,summary='max')\n",
    "spc0 = get_summary_per_category(spf0,gene_to_cat,'median')"
   ]
  },
  {
   "cell_type": "code",
   "execution_count": 110,
   "metadata": {
    "collapsed": false
   },
   "outputs": [],
   "source": [
    "spc0 = spc0['value']"
   ]
  },
  {
   "cell_type": "code",
   "execution_count": 115,
   "metadata": {
    "collapsed": false
   },
   "outputs": [
    {
     "data": {
      "text/plain": [
       "category\n",
       "GO:0000002    False\n",
       "GO:0000003    False\n",
       "GO:0000009    False\n",
       "GO:0000010    False\n",
       "GO:0000012    False\n",
       "GO:0000014    False\n",
       "GO:0000015    False\n",
       "GO:0000016     True\n",
       "GO:0000018    False\n",
       "GO:0000019    False\n",
       "GO:0000022    False\n",
       "GO:0000023     True\n",
       "GO:0000026    False\n",
       "GO:0000027    False\n",
       "GO:0000028     True\n",
       "...\n",
       "hiv155030.0       False\n",
       "hiv155348.0       False\n",
       "hiv155459.0       False\n",
       "hiv155807.0       False\n",
       "hiv155871.0       False\n",
       "hiv155908.0       False\n",
       "hiv155945.0       False\n",
       "hiv155971.0       False\n",
       "hiv156110.0       False\n",
       "hiv19424028.0     False\n",
       "hs_hivprot        False\n",
       "hs_hivprotphen    False\n",
       "hs_hivrep         False\n",
       "hs_hivrepphen     False\n",
       "hs_sivcand        False\n",
       "Length: 15013, dtype: bool"
      ]
     },
     "execution_count": 115,
     "metadata": {},
     "output_type": "execute_result"
    }
   ],
   "source": [
    "(init_rank_table[\"n_genes\"] > \\\n",
    "                spc0.reindex(init_rank_table.index).fillna(0))"
   ]
  },
  {
   "cell_type": "code",
   "execution_count": 148,
   "metadata": {
    "collapsed": false
   },
   "outputs": [],
   "source": [
    "n = 100000"
   ]
  },
  {
   "cell_type": "code",
   "execution_count": 149,
   "metadata": {
    "collapsed": false
   },
   "outputs": [
    {
     "name": "stdout",
     "output_type": "stream",
     "text": [
      "100 loops, best of 3: 9.37 ms per loop\n"
     ]
    }
   ],
   "source": [
    "%%timeit \n",
    "for i in np.random.rand(n):\n",
    "    pass"
   ]
  },
  {
   "cell_type": "code",
   "execution_count": 152,
   "metadata": {
    "collapsed": false
   },
   "outputs": [
    {
     "name": "stdout",
     "output_type": "stream",
     "text": [
      "100 loops, best of 3: 3.36 ms per loop\n"
     ]
    }
   ],
   "source": [
    "%%timeit \n",
    "for _ in range(n):\n",
    "    pass\n",
    "    #rnd = np.random.rand()"
   ]
  },
  {
   "cell_type": "code",
   "execution_count": 125,
   "metadata": {
    "collapsed": false
   },
   "outputs": [],
   "source": [
    "def multiple_permut_summary(rod_s, init_rank_table, gene_df, gene_to_cat, n_runs):\n",
    "    for rnd in np.random.rand(n_runs):\n",
    "        s = te.shift_rod(rod_s, rnd)\n",
    "        spf0 = get_summary_per_feature(s,gene_df,summary='max')\n",
    "        spc0 = get_summary_per_category(spf0,gene_to_cat,'mean')\n",
    "        init_rank_table[\"rank\"] += (init_rank_table[\"n_genes\"] > \\\n",
    "                                        spc0.reindex(init_rank_table.index).fillna(0))\n",
    "        init_rank_table[\"out_of\"] += 1\n",
    "    return init_rank_table"
   ]
  },
  {
   "cell_type": "code",
   "execution_count": null,
   "metadata": {
    "collapsed": false
   },
   "outputs": [],
   "source": [
    "rt = multiple_permut_summary(rod_s, init_rank_table, gene_df, gene_to_cat, 500)"
   ]
  },
  {
   "cell_type": "code",
   "execution_count": 131,
   "metadata": {
    "collapsed": false
   },
   "outputs": [
    {
     "data": {
      "text/html": [
       "<div style=\"max-height:1000px;max-width:1500px;overflow:auto;\">\n",
       "<table border=\"1\" class=\"dataframe\">\n",
       "  <thead>\n",
       "    <tr style=\"text-align: right;\">\n",
       "      <th></th>\n",
       "      <th>n_genes</th>\n",
       "      <th>out_of</th>\n",
       "      <th>rank</th>\n",
       "    </tr>\n",
       "    <tr>\n",
       "      <th>category</th>\n",
       "      <th></th>\n",
       "      <th></th>\n",
       "      <th></th>\n",
       "    </tr>\n",
       "  </thead>\n",
       "  <tbody>\n",
       "    <tr>\n",
       "      <th>GO:0071412</th>\n",
       "      <td> 17.441990</td>\n",
       "      <td> 500</td>\n",
       "      <td> 500</td>\n",
       "    </tr>\n",
       "    <tr>\n",
       "      <th>GO:0008281</th>\n",
       "      <td> 23.258225</td>\n",
       "      <td> 500</td>\n",
       "      <td> 500</td>\n",
       "    </tr>\n",
       "    <tr>\n",
       "      <th>GO:0005333</th>\n",
       "      <td> 27.544410</td>\n",
       "      <td> 500</td>\n",
       "      <td> 500</td>\n",
       "    </tr>\n",
       "    <tr>\n",
       "      <th>GO:0090038</th>\n",
       "      <td> 15.423555</td>\n",
       "      <td> 500</td>\n",
       "      <td> 500</td>\n",
       "    </tr>\n",
       "    <tr>\n",
       "      <th>GO:0009331</th>\n",
       "      <td> 12.012225</td>\n",
       "      <td> 500</td>\n",
       "      <td> 500</td>\n",
       "    </tr>\n",
       "    <tr>\n",
       "      <th>GO:0005334</th>\n",
       "      <td> 27.230980</td>\n",
       "      <td> 500</td>\n",
       "      <td> 500</td>\n",
       "    </tr>\n",
       "    <tr>\n",
       "      <th>GO:0032009</th>\n",
       "      <td> 10.860521</td>\n",
       "      <td> 500</td>\n",
       "      <td> 500</td>\n",
       "    </tr>\n",
       "    <tr>\n",
       "      <th>GO:0008504</th>\n",
       "      <td> 13.227751</td>\n",
       "      <td> 500</td>\n",
       "      <td> 500</td>\n",
       "    </tr>\n",
       "    <tr>\n",
       "      <th>GO:0061092</th>\n",
       "      <td> 48.617600</td>\n",
       "      <td> 500</td>\n",
       "      <td> 500</td>\n",
       "    </tr>\n",
       "    <tr>\n",
       "      <th>GO:0015844</th>\n",
       "      <td> 10.112849</td>\n",
       "      <td> 500</td>\n",
       "      <td> 500</td>\n",
       "    </tr>\n",
       "    <tr>\n",
       "      <th>GO:0015874</th>\n",
       "      <td> 27.544410</td>\n",
       "      <td> 500</td>\n",
       "      <td> 500</td>\n",
       "    </tr>\n",
       "    <tr>\n",
       "      <th>GO:0030822</th>\n",
       "      <td> 23.503007</td>\n",
       "      <td> 500</td>\n",
       "      <td> 500</td>\n",
       "    </tr>\n",
       "    <tr>\n",
       "      <th>GO:0003011</th>\n",
       "      <td> 48.617600</td>\n",
       "      <td> 500</td>\n",
       "      <td> 500</td>\n",
       "    </tr>\n",
       "    <tr>\n",
       "      <th>GO:0004367</th>\n",
       "      <td> 16.006388</td>\n",
       "      <td> 500</td>\n",
       "      <td> 499</td>\n",
       "    </tr>\n",
       "    <tr>\n",
       "      <th>GO:0030380</th>\n",
       "      <td> 14.008100</td>\n",
       "      <td> 500</td>\n",
       "      <td> 499</td>\n",
       "    </tr>\n",
       "    <tr>\n",
       "      <th>GO:0010248</th>\n",
       "      <td>  9.383399</td>\n",
       "      <td> 500</td>\n",
       "      <td> 499</td>\n",
       "    </tr>\n",
       "    <tr>\n",
       "      <th>GO:0090237</th>\n",
       "      <td> 26.309300</td>\n",
       "      <td> 500</td>\n",
       "      <td> 499</td>\n",
       "    </tr>\n",
       "    <tr>\n",
       "      <th>GO:0032928</th>\n",
       "      <td> 26.309300</td>\n",
       "      <td> 500</td>\n",
       "      <td> 499</td>\n",
       "    </tr>\n",
       "    <tr>\n",
       "      <th>GO:0071226</th>\n",
       "      <td> 26.309300</td>\n",
       "      <td> 500</td>\n",
       "      <td> 499</td>\n",
       "    </tr>\n",
       "    <tr>\n",
       "      <th>GO:0008513</th>\n",
       "      <td> 14.836556</td>\n",
       "      <td> 500</td>\n",
       "      <td> 499</td>\n",
       "    </tr>\n",
       "    <tr>\n",
       "      <th>GO:0008603</th>\n",
       "      <td>  9.813971</td>\n",
       "      <td> 500</td>\n",
       "      <td> 499</td>\n",
       "    </tr>\n",
       "    <tr>\n",
       "      <th>GO:0045401</th>\n",
       "      <td> 13.164026</td>\n",
       "      <td> 500</td>\n",
       "      <td> 499</td>\n",
       "    </tr>\n",
       "    <tr>\n",
       "      <th>GO:0046168</th>\n",
       "      <td> 16.006388</td>\n",
       "      <td> 500</td>\n",
       "      <td> 499</td>\n",
       "    </tr>\n",
       "    <tr>\n",
       "      <th>GO:0071799</th>\n",
       "      <td> 20.026342</td>\n",
       "      <td> 500</td>\n",
       "      <td> 499</td>\n",
       "    </tr>\n",
       "    <tr>\n",
       "      <th>GO:0043313</th>\n",
       "      <td> 13.536557</td>\n",
       "      <td> 500</td>\n",
       "      <td> 499</td>\n",
       "    </tr>\n",
       "    <tr>\n",
       "      <th>GO:0048241</th>\n",
       "      <td> 27.857840</td>\n",
       "      <td> 500</td>\n",
       "      <td> 499</td>\n",
       "    </tr>\n",
       "    <tr>\n",
       "      <th>GO:0001820</th>\n",
       "      <td> 13.164026</td>\n",
       "      <td> 500</td>\n",
       "      <td> 499</td>\n",
       "    </tr>\n",
       "    <tr>\n",
       "      <th>GO:2000249</th>\n",
       "      <td>  7.184613</td>\n",
       "      <td> 500</td>\n",
       "      <td> 499</td>\n",
       "    </tr>\n",
       "    <tr>\n",
       "      <th>GO:0060739</th>\n",
       "      <td> 31.531200</td>\n",
       "      <td> 500</td>\n",
       "      <td> 499</td>\n",
       "    </tr>\n",
       "    <tr>\n",
       "      <th>GO:1901374</th>\n",
       "      <td> 27.857840</td>\n",
       "      <td> 500</td>\n",
       "      <td> 499</td>\n",
       "    </tr>\n",
       "    <tr>\n",
       "      <th>...</th>\n",
       "      <td>...</td>\n",
       "      <td>...</td>\n",
       "      <td>...</td>\n",
       "    </tr>\n",
       "    <tr>\n",
       "      <th>GO:0006412</th>\n",
       "      <td>  1.346259</td>\n",
       "      <td> 500</td>\n",
       "      <td>   0</td>\n",
       "    </tr>\n",
       "    <tr>\n",
       "      <th>GO:0031324</th>\n",
       "      <td>       NaN</td>\n",
       "      <td> 500</td>\n",
       "      <td>   0</td>\n",
       "    </tr>\n",
       "    <tr>\n",
       "      <th>GO:0031087</th>\n",
       "      <td>  0.000000</td>\n",
       "      <td> 500</td>\n",
       "      <td>   0</td>\n",
       "    </tr>\n",
       "    <tr>\n",
       "      <th>GO:0006784</th>\n",
       "      <td>       NaN</td>\n",
       "      <td> 500</td>\n",
       "      <td>   0</td>\n",
       "    </tr>\n",
       "    <tr>\n",
       "      <th>GO:1902003</th>\n",
       "      <td>       NaN</td>\n",
       "      <td> 500</td>\n",
       "      <td>   0</td>\n",
       "    </tr>\n",
       "    <tr>\n",
       "      <th>GO:0061604</th>\n",
       "      <td>  0.000000</td>\n",
       "      <td> 500</td>\n",
       "      <td>   0</td>\n",
       "    </tr>\n",
       "    <tr>\n",
       "      <th>GO:0006711</th>\n",
       "      <td>       NaN</td>\n",
       "      <td> 500</td>\n",
       "      <td>   0</td>\n",
       "    </tr>\n",
       "    <tr>\n",
       "      <th>GO:0006705</th>\n",
       "      <td>       NaN</td>\n",
       "      <td> 500</td>\n",
       "      <td>   0</td>\n",
       "    </tr>\n",
       "    <tr>\n",
       "      <th>GO:1902045</th>\n",
       "      <td>       NaN</td>\n",
       "      <td> 500</td>\n",
       "      <td>   0</td>\n",
       "    </tr>\n",
       "    <tr>\n",
       "      <th>GO:1902081</th>\n",
       "      <td>       NaN</td>\n",
       "      <td> 500</td>\n",
       "      <td>   0</td>\n",
       "    </tr>\n",
       "    <tr>\n",
       "      <th>GO:0048640</th>\n",
       "      <td>  0.000000</td>\n",
       "      <td> 500</td>\n",
       "      <td>   0</td>\n",
       "    </tr>\n",
       "    <tr>\n",
       "      <th>GO:0031073</th>\n",
       "      <td>       NaN</td>\n",
       "      <td> 500</td>\n",
       "      <td>   0</td>\n",
       "    </tr>\n",
       "    <tr>\n",
       "      <th>GO:0006660</th>\n",
       "      <td>       NaN</td>\n",
       "      <td> 500</td>\n",
       "      <td>   0</td>\n",
       "    </tr>\n",
       "    <tr>\n",
       "      <th>GO:0048668</th>\n",
       "      <td>  0.000000</td>\n",
       "      <td> 500</td>\n",
       "      <td>   0</td>\n",
       "    </tr>\n",
       "    <tr>\n",
       "      <th>GO:0048672</th>\n",
       "      <td>  0.132715</td>\n",
       "      <td> 500</td>\n",
       "      <td>   0</td>\n",
       "    </tr>\n",
       "    <tr>\n",
       "      <th>GO:0006581</th>\n",
       "      <td>  0.000000</td>\n",
       "      <td> 500</td>\n",
       "      <td>   0</td>\n",
       "    </tr>\n",
       "    <tr>\n",
       "      <th>GO:0043105</th>\n",
       "      <td>  0.000000</td>\n",
       "      <td> 500</td>\n",
       "      <td>   0</td>\n",
       "    </tr>\n",
       "    <tr>\n",
       "      <th>GO:0070733</th>\n",
       "      <td>  0.000000</td>\n",
       "      <td> 500</td>\n",
       "      <td>   0</td>\n",
       "    </tr>\n",
       "    <tr>\n",
       "      <th>GO:0048683</th>\n",
       "      <td>       NaN</td>\n",
       "      <td> 500</td>\n",
       "      <td>   0</td>\n",
       "    </tr>\n",
       "    <tr>\n",
       "      <th>GO:1902178</th>\n",
       "      <td>  0.000000</td>\n",
       "      <td> 500</td>\n",
       "      <td>   0</td>\n",
       "    </tr>\n",
       "    <tr>\n",
       "      <th>GO:0048685</th>\n",
       "      <td>  0.000000</td>\n",
       "      <td> 500</td>\n",
       "      <td>   0</td>\n",
       "    </tr>\n",
       "    <tr>\n",
       "      <th>GO:0031129</th>\n",
       "      <td>  0.000000</td>\n",
       "      <td> 500</td>\n",
       "      <td>   0</td>\n",
       "    </tr>\n",
       "    <tr>\n",
       "      <th>GO:0006558</th>\n",
       "      <td>  0.000000</td>\n",
       "      <td> 500</td>\n",
       "      <td>   0</td>\n",
       "    </tr>\n",
       "    <tr>\n",
       "      <th>GO:0006521</th>\n",
       "      <td>  0.910422</td>\n",
       "      <td> 500</td>\n",
       "      <td>   0</td>\n",
       "    </tr>\n",
       "    <tr>\n",
       "      <th>GO:0006507</th>\n",
       "      <td>  0.000000</td>\n",
       "      <td> 500</td>\n",
       "      <td>   0</td>\n",
       "    </tr>\n",
       "    <tr>\n",
       "      <th>GO:0006506</th>\n",
       "      <td>  0.603288</td>\n",
       "      <td> 500</td>\n",
       "      <td>   0</td>\n",
       "    </tr>\n",
       "    <tr>\n",
       "      <th>GO:1902251</th>\n",
       "      <td>  0.000000</td>\n",
       "      <td> 500</td>\n",
       "      <td>   0</td>\n",
       "    </tr>\n",
       "    <tr>\n",
       "      <th>GO:0043112</th>\n",
       "      <td>       NaN</td>\n",
       "      <td> 500</td>\n",
       "      <td>   0</td>\n",
       "    </tr>\n",
       "    <tr>\n",
       "      <th>GO:0072331</th>\n",
       "      <td>       NaN</td>\n",
       "      <td> 500</td>\n",
       "      <td>   0</td>\n",
       "    </tr>\n",
       "    <tr>\n",
       "      <th>GO:0033580</th>\n",
       "      <td>       NaN</td>\n",
       "      <td> 500</td>\n",
       "      <td>   0</td>\n",
       "    </tr>\n",
       "  </tbody>\n",
       "</table>\n",
       "<p>15013 rows × 3 columns</p>\n",
       "</div>"
      ],
      "text/plain": [
       "              n_genes  out_of  rank\n",
       "category                           \n",
       "GO:0071412  17.441990     500   500\n",
       "GO:0008281  23.258225     500   500\n",
       "GO:0005333  27.544410     500   500\n",
       "GO:0090038  15.423555     500   500\n",
       "GO:0009331  12.012225     500   500\n",
       "GO:0005334  27.230980     500   500\n",
       "GO:0032009  10.860521     500   500\n",
       "GO:0008504  13.227751     500   500\n",
       "GO:0061092  48.617600     500   500\n",
       "GO:0015844  10.112849     500   500\n",
       "GO:0015874  27.544410     500   500\n",
       "GO:0030822  23.503007     500   500\n",
       "GO:0003011  48.617600     500   500\n",
       "GO:0004367  16.006388     500   499\n",
       "GO:0030380  14.008100     500   499\n",
       "GO:0010248   9.383399     500   499\n",
       "GO:0090237  26.309300     500   499\n",
       "GO:0032928  26.309300     500   499\n",
       "GO:0071226  26.309300     500   499\n",
       "GO:0008513  14.836556     500   499\n",
       "GO:0008603   9.813971     500   499\n",
       "GO:0045401  13.164026     500   499\n",
       "GO:0046168  16.006388     500   499\n",
       "GO:0071799  20.026342     500   499\n",
       "GO:0043313  13.536557     500   499\n",
       "GO:0048241  27.857840     500   499\n",
       "GO:0001820  13.164026     500   499\n",
       "GO:2000249   7.184613     500   499\n",
       "GO:0060739  31.531200     500   499\n",
       "GO:1901374  27.857840     500   499\n",
       "...               ...     ...   ...\n",
       "GO:0006412   1.346259     500     0\n",
       "GO:0031324        NaN     500     0\n",
       "GO:0031087   0.000000     500     0\n",
       "GO:0006784        NaN     500     0\n",
       "GO:1902003        NaN     500     0\n",
       "GO:0061604   0.000000     500     0\n",
       "GO:0006711        NaN     500     0\n",
       "GO:0006705        NaN     500     0\n",
       "GO:1902045        NaN     500     0\n",
       "GO:1902081        NaN     500     0\n",
       "GO:0048640   0.000000     500     0\n",
       "GO:0031073        NaN     500     0\n",
       "GO:0006660        NaN     500     0\n",
       "GO:0048668   0.000000     500     0\n",
       "GO:0048672   0.132715     500     0\n",
       "GO:0006581   0.000000     500     0\n",
       "GO:0043105   0.000000     500     0\n",
       "GO:0070733   0.000000     500     0\n",
       "GO:0048683        NaN     500     0\n",
       "GO:1902178   0.000000     500     0\n",
       "GO:0048685   0.000000     500     0\n",
       "GO:0031129   0.000000     500     0\n",
       "GO:0006558   0.000000     500     0\n",
       "GO:0006521   0.910422     500     0\n",
       "GO:0006507   0.000000     500     0\n",
       "GO:0006506   0.603288     500     0\n",
       "GO:1902251   0.000000     500     0\n",
       "GO:0043112        NaN     500     0\n",
       "GO:0072331        NaN     500     0\n",
       "GO:0033580        NaN     500     0\n",
       "\n",
       "[15013 rows x 3 columns]"
      ]
     },
     "execution_count": 131,
     "metadata": {},
     "output_type": "execute_result"
    }
   ],
   "source": [
    "init_rank_table.sort('rank',ascending=False)"
   ]
  },
  {
   "cell_type": "code",
   "execution_count": 68,
   "metadata": {
    "collapsed": false
   },
   "outputs": [],
   "source": [
    "s = gene_to_cat.groupby('go_identifier').apply(len)\n",
    "s.name = 'n_genes'"
   ]
  },
  {
   "cell_type": "code",
   "execution_count": 138,
   "metadata": {
    "collapsed": false
   },
   "outputs": [
    {
     "ename": "AttributeError",
     "evalue": "'numpy.ndarray' object has no attribute 'values'",
     "output_type": "error",
     "traceback": [
      "\u001b[1;31m---------------------------------------------------------------------------\u001b[0m\n\u001b[1;31mAttributeError\u001b[0m                            Traceback (most recent call last)",
      "\u001b[1;32m<ipython-input-138-a9802da52974>\u001b[0m in \u001b[0;36m<module>\u001b[1;34m()\u001b[0m\n\u001b[1;32m----> 1\u001b[1;33m \u001b[0mpd\u001b[0m\u001b[1;33m.\u001b[0m\u001b[0mDataFrame\u001b[0m\u001b[1;33m(\u001b[0m\u001b[0mgene_to_cat\u001b[0m\u001b[1;33m.\u001b[0m\u001b[0miloc\u001b[0m\u001b[1;33m[\u001b[0m\u001b[1;33m:\u001b[0m\u001b[1;33m,\u001b[0m\u001b[1;33m:\u001b[0m\u001b[1;36m2\u001b[0m\u001b[1;33m]\u001b[0m\u001b[1;33m.\u001b[0m\u001b[0mvalues\u001b[0m\u001b[1;33m.\u001b[0m\u001b[0mvalues\u001b[0m\u001b[1;33m,\u001b[0m\u001b[0mcolumns\u001b[0m\u001b[1;33m=\u001b[0m\u001b[1;33m[\u001b[0m\u001b[1;34m\"hallo\"\u001b[0m\u001b[1;33m,\u001b[0m\u001b[1;34m'kuh'\u001b[0m\u001b[1;33m]\u001b[0m\u001b[1;33m)\u001b[0m\u001b[1;33m\u001b[0m\u001b[0m\n\u001b[0m",
      "\u001b[1;31mAttributeError\u001b[0m: 'numpy.ndarray' object has no attribute 'values'"
     ]
    }
   ],
   "source": [
    "pd.DataFrame(gene_to_cat.iloc[:,:2].values.values,columns=[\"hallo\",'kuh'])"
   ]
  },
  {
   "cell_type": "code",
   "execution_count": 257,
   "metadata": {
    "collapsed": false
   },
   "outputs": [],
   "source": [
    "data = np.array(range(50))"
   ]
  },
  {
   "cell_type": "code",
   "execution_count": 281,
   "metadata": {
    "collapsed": false
   },
   "outputs": [],
   "source": [
    "data = pd.DataFrame(range(0,50),index=range(0,100,2))"
   ]
  },
  {
   "cell_type": "code",
   "execution_count": 293,
   "metadata": {
    "collapsed": false
   },
   "outputs": [],
   "source": [
    "genes = pd.DataFrame({'start':[2,21],'end':[9,26]},index=['gene1','gene2'])"
   ]
  },
  {
   "cell_type": "code",
   "execution_count": 283,
   "metadata": {
    "collapsed": false
   },
   "outputs": [
    {
     "ename": "SyntaxError",
     "evalue": "invalid syntax (<ipython-input-283-a81fcb2143c2>, line 1)",
     "output_type": "error",
     "traceback": [
      "\u001b[1;36m  File \u001b[1;32m\"<ipython-input-283-a81fcb2143c2>\"\u001b[1;36m, line \u001b[1;32m1\u001b[0m\n\u001b[1;33m    data[slice(i,j)] for i,j in ngenes['start'].values,genes['end'].values\u001b[0m\n\u001b[1;37m                       ^\u001b[0m\n\u001b[1;31mSyntaxError\u001b[0m\u001b[1;31m:\u001b[0m invalid syntax\n"
     ]
    }
   ],
   "source": [
    "data[slice(i,j)] for i,j in ngenes['start'].values,genes['end'].values"
   ]
  },
  {
   "cell_type": "code",
   "execution_count": 296,
   "metadata": {
    "collapsed": false
   },
   "outputs": [
    {
     "data": {
      "text/plain": [
       "[   0\n",
       " 2  1\n",
       " 4  2\n",
       " 6  3\n",
       " 8  4,      0\n",
       " 22  11\n",
       " 24  12\n",
       " 26  13]"
      ]
     },
     "execution_count": 296,
     "metadata": {},
     "output_type": "execute_result"
    }
   ],
   "source": [
    "[data[data.index.slice_indexer(j['start'],j['end'])] for _,j in genes.iterrows()]"
   ]
  },
  {
   "cell_type": "code",
   "execution_count": 308,
   "metadata": {
    "collapsed": false
   },
   "outputs": [
    {
     "name": "stdout",
     "output_type": "stream",
     "text": [
      "10000 loops, best of 3: 129 µs per loop\n"
     ]
    }
   ],
   "source": [
    "%timeit data[data.index.slice_indexer(2, 9)]"
   ]
  },
  {
   "cell_type": "code",
   "execution_count": 309,
   "metadata": {
    "collapsed": false
   },
   "outputs": [
    {
     "name": "stdout",
     "output_type": "stream",
     "text": [
      "10000 loops, best of 3: 134 µs per loop\n"
     ]
    }
   ],
   "source": [
    "%timeit data.ix[slice(2, 9, None)]"
   ]
  },
  {
   "cell_type": "code",
   "execution_count": 343,
   "metadata": {
    "collapsed": false
   },
   "outputs": [],
   "source": [
    "def gene_values(gene,sl):\n",
    "    gene_values = data.ix[sl].copy()\n",
    "    gene_values['gene'] = gene\n",
    "    gene_values.set_index('gene',append=True,inplace=True)\n",
    "    return gene_values\n",
    "slices = genes.apply(lambda gene:slice(gene['start'],gene['end']),axis=1)\n",
    "pd.concat([gene_values(*sl) for sl in slices.iteritems()])"
   ]
  },
  {
   "cell_type": "code",
   "execution_count": 148,
   "metadata": {
    "collapsed": false
   },
   "outputs": [],
   "source": [
    "gene_df.rename(columns={'name':'feature'},inplace=True)"
   ]
  },
  {
   "cell_type": "code",
   "execution_count": 115,
   "metadata": {
    "collapsed": false
   },
   "outputs": [],
   "source": [
    "se = ted.SummaryEnrichment(rod_s, gene_df, gene_to_cat, feature_summary='max',category_summary='mean')"
   ]
  },
  {
   "cell_type": "code",
   "execution_count": 118,
   "metadata": {
    "collapsed": false
   },
   "outputs": [],
   "source": [
    "se.real_assoc()"
   ]
  },
  {
   "cell_type": "code",
   "execution_count": 120,
   "metadata": {
    "collapsed": false
   },
   "outputs": [],
   "source": [
    "se.permute(10)"
   ]
  },
  {
   "cell_type": "code",
   "execution_count": 138,
   "metadata": {
    "collapsed": false
   },
   "outputs": [
    {
     "name": "stdout",
     "output_type": "stream",
     "text": [
      "10 loops, best of 3: 24.2 ms per loop\n"
     ]
    }
   ],
   "source": [
    "%timeit rod_s.groupby(lambda x: x[0]).apply(len)"
   ]
  },
  {
   "cell_type": "code",
   "execution_count": 139,
   "metadata": {
    "collapsed": false
   },
   "outputs": [
    {
     "name": "stdout",
     "output_type": "stream",
     "text": [
      "10 loops, best of 3: 21.9 ms per loop\n"
     ]
    }
   ],
   "source": [
    "%timeit rod_s.groupby(lambda x: x[0]).mean()"
   ]
  },
  {
   "cell_type": "code",
   "execution_count": 125,
   "metadata": {
    "collapsed": false
   },
   "outputs": [],
   "source": [
    "se2 = ted.SummaryEnrichment(rod_s, gene_df, gene_to_cat, feature_summary='max',category_summary='mean',chrom_len_s = chrom_len_df)"
   ]
  },
  {
   "cell_type": "code",
   "execution_count": 126,
   "metadata": {
    "collapsed": false
   },
   "outputs": [],
   "source": [
    "se2.real_assoc()"
   ]
  },
  {
   "cell_type": "code",
   "execution_count": 130,
   "metadata": {
    "collapsed": false
   },
   "outputs": [
    {
     "data": {
      "text/plain": [
       "True"
      ]
     },
     "execution_count": 130,
     "metadata": {},
     "output_type": "execute_result"
    }
   ],
   "source": [
    "(se2.rank_table['value'].dropna().sort(inplace=False) == se.rank_table['value'].dropna().sort(inplace=False)).all()"
   ]
  },
  {
   "cell_type": "code",
   "execution_count": 133,
   "metadata": {
    "collapsed": false
   },
   "outputs": [
    {
     "name": "stdout",
     "output_type": "stream",
     "text": [
      "1 loops, best of 3: 10.2 s per loop\n"
     ]
    }
   ],
   "source": [
    "%timeit se2.permute(10)"
   ]
  },
  {
   "cell_type": "code",
   "execution_count": 24,
   "metadata": {
    "collapsed": false
   },
   "outputs": [
    {
     "data": {
      "text/plain": [
       "Index([u'gene_id', u'go_identifier'], dtype='object')"
      ]
     },
     "execution_count": 24,
     "metadata": {},
     "output_type": "execute_result"
    }
   ],
   "source": [
    "gene_to_cat2.columns"
   ]
  },
  {
   "cell_type": "code",
   "execution_count": 22,
   "metadata": {
    "collapsed": false
   },
   "outputs": [],
   "source": [
    "gene_to_cat2.rename(columns={'gene_symbol':'gene_id'},inplace=True)"
   ]
  },
  {
   "cell_type": "code",
   "execution_count": 38,
   "metadata": {
    "collapsed": false
   },
   "outputs": [
    {
     "name": "stderr",
     "output_type": "stream",
     "text": [
      "WARNING:root:68134 features from the feature_to_category mapping are not in the features file. Removing them.\n",
      "INFO:root:Removing categories for which there are less than 2 features in the features file.\n",
      "INFO:root:0 categories removed.\n"
     ]
    }
   ],
   "source": [
    "te = ted.TopScoresEnrichment(rod_s, gene_df, gene_to_cat2, top_type='count',top=1000,feature_name='gene_id',category_name='go_identifier',max_dist=20000)"
   ]
  },
  {
   "cell_type": "code",
   "execution_count": 39,
   "metadata": {
    "collapsed": false
   },
   "outputs": [],
   "source": [
    "te.create_info()"
   ]
  },
  {
   "cell_type": "code",
   "execution_count": null,
   "metadata": {
    "collapsed": false
   },
   "outputs": [],
   "source": []
  },
  {
   "cell_type": "code",
   "execution_count": 44,
   "metadata": {
    "collapsed": false
   },
   "outputs": [
    {
     "data": {
      "text/plain": [
       "['__class__',\n",
       " '__delattr__',\n",
       " '__dict__',\n",
       " '__doc__',\n",
       " '__format__',\n",
       " '__getattribute__',\n",
       " '__hash__',\n",
       " '__init__',\n",
       " '__module__',\n",
       " '__new__',\n",
       " '__reduce__',\n",
       " '__reduce_ex__',\n",
       " '__repr__',\n",
       " '__setattr__',\n",
       " '__sizeof__',\n",
       " '__str__',\n",
       " '__subclasshook__',\n",
       " '__weakref__',\n",
       " '_bind_feature_to_category',\n",
       " 'ascending',\n",
       " 'candidate_features',\n",
       " 'category_name',\n",
       " 'create_info',\n",
       " 'feature_df',\n",
       " 'feature_name',\n",
       " 'feature_to_category',\n",
       " 'get_association',\n",
       " 'get_permut_rank_table',\n",
       " 'get_pvals',\n",
       " 'get_summary_per_category',\n",
       " 'get_summary_per_feature',\n",
       " 'init_rank_table',\n",
       " 'initital_rank_table',\n",
       " 'max_dist',\n",
       " 'ncpus',\n",
       " 'peaks_per_feature',\n",
       " 'permute',\n",
       " 'permuter',\n",
       " 'prune_feature_to_category',\n",
       " 'rank_table',\n",
       " 'summary_per_feature',\n",
       " 'top_n',\n",
       " 'top_peaks',\n",
       " 'value_name',\n",
       " 'value_s']"
      ]
     },
     "execution_count": 44,
     "metadata": {},
     "output_type": "execute_result"
    }
   ],
   "source": [
    "dir(te)"
   ]
  },
  {
   "cell_type": "code",
   "execution_count": 156,
   "metadata": {
    "collapsed": false
   },
   "outputs": [],
   "source": [
    "te.permute(10)"
   ]
  },
  {
   "cell_type": "code",
   "execution_count": 17,
   "metadata": {
    "collapsed": false
   },
   "outputs": [],
   "source": [
    "t = ted.get_peaks(gene_df,top_s,max_dist=0,feature_name='gene_id')"
   ]
  },
  {
   "cell_type": "code",
   "execution_count": 69,
   "metadata": {
    "collapsed": false
   },
   "outputs": [
    {
     "ename": "AttributeError",
     "evalue": "'SummaryEnrichment' object has no attribute 'peaks_per_gene'",
     "output_type": "error",
     "traceback": [
      "\u001b[1;31m---------------------------------------------------------------------------\u001b[0m\n\u001b[1;31mAttributeError\u001b[0m                            Traceback (most recent call last)",
      "\u001b[1;32m<ipython-input-69-658eea2cad02>\u001b[0m in \u001b[0;36m<module>\u001b[1;34m()\u001b[0m\n\u001b[1;32m----> 1\u001b[1;33m \u001b[0mse\u001b[0m\u001b[1;33m.\u001b[0m\u001b[0mpeaks_per_gene\u001b[0m\u001b[1;33m[\u001b[0m\u001b[1;34m'peak_height'\u001b[0m\u001b[1;33m]\u001b[0m\u001b[1;33m.\u001b[0m\u001b[0mgroupby\u001b[0m\u001b[1;33m(\u001b[0m\u001b[1;32mlambda\u001b[0m \u001b[0mi\u001b[0m\u001b[1;33m:\u001b[0m\u001b[0mi\u001b[0m\u001b[1;33m[\u001b[0m\u001b[1;36m0\u001b[0m\u001b[1;33m]\u001b[0m\u001b[1;33m)\u001b[0m\u001b[1;33m.\u001b[0m\u001b[0mmax\u001b[0m\u001b[1;33m(\u001b[0m\u001b[1;33m)\u001b[0m\u001b[1;33m\u001b[0m\u001b[0m\n\u001b[0m",
      "\u001b[1;31mAttributeError\u001b[0m: 'SummaryEnrichment' object has no attribute 'peaks_per_gene'"
     ]
    }
   ],
   "source": [
    "ted.peaks_per_gene['peak_height'].groupby(lambda i:i[0]).max()"
   ]
  },
  {
   "cell_type": "code",
   "execution_count": 59,
   "metadata": {
    "collapsed": false
   },
   "outputs": [],
   "source": [
    "candidates = t.index.droplevel([1,2]).values"
   ]
  },
  {
   "cell_type": "code",
   "execution_count": 62,
   "metadata": {
    "collapsed": false
   },
   "outputs": [
    {
     "name": "stderr",
     "output_type": "stream",
     "text": [
      "WARNING:root:There are duplicates in features, going to be removed...\n",
      "WARNING:root:Only 133 of the 142 candidates are present in feature_to_category mapping. Only those are going to be used.\n"
     ]
    }
   ],
   "source": [
    "x = ted.CandidateEnrichment(candidates,gene_to_cat,feature_name='gene_id', category_name='go_identifier', feature_df=gene_df)"
   ]
  },
  {
   "cell_type": "code",
   "execution_count": 64,
   "metadata": {
    "collapsed": false
   },
   "outputs": [],
   "source": [
    "x.create_info()"
   ]
  },
  {
   "cell_type": "code",
   "execution_count": 65,
   "metadata": {
    "collapsed": false
   },
   "outputs": [
    {
     "data": {
      "text/html": [
       "<div style=\"max-height:1000px;max-width:1500px;overflow:auto;\">\n",
       "<table border=\"1\" class=\"dataframe\">\n",
       "  <thead>\n",
       "    <tr style=\"text-align: right;\">\n",
       "      <th></th>\n",
       "      <th>candidate</th>\n",
       "      <th>zscore</th>\n",
       "    </tr>\n",
       "  </thead>\n",
       "  <tbody>\n",
       "    <tr>\n",
       "      <th>HEPHL1</th>\n",
       "      <td>  True</td>\n",
       "      <td> 12.358675</td>\n",
       "    </tr>\n",
       "    <tr>\n",
       "      <th>GAS2</th>\n",
       "      <td>  True</td>\n",
       "      <td> 12.358675</td>\n",
       "    </tr>\n",
       "    <tr>\n",
       "      <th>GRIK4</th>\n",
       "      <td>  True</td>\n",
       "      <td> 12.358675</td>\n",
       "    </tr>\n",
       "    <tr>\n",
       "      <th>CCDC50</th>\n",
       "      <td>  True</td>\n",
       "      <td> 12.358675</td>\n",
       "    </tr>\n",
       "    <tr>\n",
       "      <th>TENM2</th>\n",
       "      <td>  True</td>\n",
       "      <td> 12.358675</td>\n",
       "    </tr>\n",
       "    <tr>\n",
       "      <th>UTP23</th>\n",
       "      <td>  True</td>\n",
       "      <td> 12.358675</td>\n",
       "    </tr>\n",
       "    <tr>\n",
       "      <th>HS3ST4</th>\n",
       "      <td>  True</td>\n",
       "      <td> 12.358675</td>\n",
       "    </tr>\n",
       "    <tr>\n",
       "      <th>RYK</th>\n",
       "      <td>  True</td>\n",
       "      <td> 12.358675</td>\n",
       "    </tr>\n",
       "    <tr>\n",
       "      <th>SLCO2A1</th>\n",
       "      <td>  True</td>\n",
       "      <td> 12.358675</td>\n",
       "    </tr>\n",
       "    <tr>\n",
       "      <th>USP13</th>\n",
       "      <td>  True</td>\n",
       "      <td> 12.358675</td>\n",
       "    </tr>\n",
       "    <tr>\n",
       "      <th>GDPD5</th>\n",
       "      <td>  True</td>\n",
       "      <td> 12.358675</td>\n",
       "    </tr>\n",
       "    <tr>\n",
       "      <th>XRCC5</th>\n",
       "      <td>  True</td>\n",
       "      <td> 12.358675</td>\n",
       "    </tr>\n",
       "    <tr>\n",
       "      <th>GNAO1</th>\n",
       "      <td>  True</td>\n",
       "      <td> 12.358675</td>\n",
       "    </tr>\n",
       "    <tr>\n",
       "      <th>KRT80</th>\n",
       "      <td>  True</td>\n",
       "      <td> 12.358675</td>\n",
       "    </tr>\n",
       "    <tr>\n",
       "      <th>TUSC3</th>\n",
       "      <td>  True</td>\n",
       "      <td> 12.358675</td>\n",
       "    </tr>\n",
       "    <tr>\n",
       "      <th>MLLT3</th>\n",
       "      <td>  True</td>\n",
       "      <td> 12.358675</td>\n",
       "    </tr>\n",
       "    <tr>\n",
       "      <th>COL27A1</th>\n",
       "      <td>  True</td>\n",
       "      <td> 12.358675</td>\n",
       "    </tr>\n",
       "    <tr>\n",
       "      <th>AKAP6</th>\n",
       "      <td>  True</td>\n",
       "      <td> 12.358675</td>\n",
       "    </tr>\n",
       "    <tr>\n",
       "      <th>MFAP3L</th>\n",
       "      <td>  True</td>\n",
       "      <td> 12.358675</td>\n",
       "    </tr>\n",
       "    <tr>\n",
       "      <th>SAMD12</th>\n",
       "      <td>  True</td>\n",
       "      <td> 12.358675</td>\n",
       "    </tr>\n",
       "    <tr>\n",
       "      <th>ERBB4</th>\n",
       "      <td>  True</td>\n",
       "      <td> 12.358675</td>\n",
       "    </tr>\n",
       "    <tr>\n",
       "      <th>SLC6A2</th>\n",
       "      <td>  True</td>\n",
       "      <td> 12.358675</td>\n",
       "    </tr>\n",
       "    <tr>\n",
       "      <th>PXDNL</th>\n",
       "      <td>  True</td>\n",
       "      <td> 12.358675</td>\n",
       "    </tr>\n",
       "    <tr>\n",
       "      <th>EPHB1</th>\n",
       "      <td>  True</td>\n",
       "      <td> 12.358675</td>\n",
       "    </tr>\n",
       "    <tr>\n",
       "      <th>TMEM132D</th>\n",
       "      <td>  True</td>\n",
       "      <td> 12.358675</td>\n",
       "    </tr>\n",
       "    <tr>\n",
       "      <th>NR3C1</th>\n",
       "      <td>  True</td>\n",
       "      <td> 12.358675</td>\n",
       "    </tr>\n",
       "    <tr>\n",
       "      <th>PARD3</th>\n",
       "      <td>  True</td>\n",
       "      <td> 12.358675</td>\n",
       "    </tr>\n",
       "    <tr>\n",
       "      <th>ARSD</th>\n",
       "      <td>  True</td>\n",
       "      <td> 12.358675</td>\n",
       "    </tr>\n",
       "    <tr>\n",
       "      <th>CCT5</th>\n",
       "      <td>  True</td>\n",
       "      <td> 12.358675</td>\n",
       "    </tr>\n",
       "    <tr>\n",
       "      <th>MTUS2</th>\n",
       "      <td>  True</td>\n",
       "      <td> 12.358675</td>\n",
       "    </tr>\n",
       "    <tr>\n",
       "      <th>...</th>\n",
       "      <td>...</td>\n",
       "      <td>...</td>\n",
       "    </tr>\n",
       "    <tr>\n",
       "      <th>CH25H</th>\n",
       "      <td> False</td>\n",
       "      <td> -0.080915</td>\n",
       "    </tr>\n",
       "    <tr>\n",
       "      <th>ACTA2</th>\n",
       "      <td> False</td>\n",
       "      <td> -0.080915</td>\n",
       "    </tr>\n",
       "    <tr>\n",
       "      <th>LOC103216270</th>\n",
       "      <td> False</td>\n",
       "      <td> -0.080915</td>\n",
       "    </tr>\n",
       "    <tr>\n",
       "      <th>STAMBPL1</th>\n",
       "      <td> False</td>\n",
       "      <td> -0.080915</td>\n",
       "    </tr>\n",
       "    <tr>\n",
       "      <th>ANKRD22</th>\n",
       "      <td> False</td>\n",
       "      <td> -0.080915</td>\n",
       "    </tr>\n",
       "    <tr>\n",
       "      <th>LIPM</th>\n",
       "      <td> False</td>\n",
       "      <td> -0.080915</td>\n",
       "    </tr>\n",
       "    <tr>\n",
       "      <th>LIPN</th>\n",
       "      <td> False</td>\n",
       "      <td> -0.080915</td>\n",
       "    </tr>\n",
       "    <tr>\n",
       "      <th>LIPK</th>\n",
       "      <td> False</td>\n",
       "      <td> -0.080915</td>\n",
       "    </tr>\n",
       "    <tr>\n",
       "      <th>LIPF</th>\n",
       "      <td> False</td>\n",
       "      <td> -0.080915</td>\n",
       "    </tr>\n",
       "    <tr>\n",
       "      <th>LIPJ</th>\n",
       "      <td> False</td>\n",
       "      <td> -0.080915</td>\n",
       "    </tr>\n",
       "    <tr>\n",
       "      <th>SLC16A12</th>\n",
       "      <td> False</td>\n",
       "      <td> -0.080915</td>\n",
       "    </tr>\n",
       "    <tr>\n",
       "      <th>PANK1</th>\n",
       "      <td> False</td>\n",
       "      <td> -0.080915</td>\n",
       "    </tr>\n",
       "    <tr>\n",
       "      <th>KIF20B</th>\n",
       "      <td> False</td>\n",
       "      <td> -0.080915</td>\n",
       "    </tr>\n",
       "    <tr>\n",
       "      <th>HTR7</th>\n",
       "      <td> False</td>\n",
       "      <td> -0.080915</td>\n",
       "    </tr>\n",
       "    <tr>\n",
       "      <th>EXOC6</th>\n",
       "      <td> False</td>\n",
       "      <td> -0.080915</td>\n",
       "    </tr>\n",
       "    <tr>\n",
       "      <th>HHEX</th>\n",
       "      <td> False</td>\n",
       "      <td> -0.080915</td>\n",
       "    </tr>\n",
       "    <tr>\n",
       "      <th>KIF11</th>\n",
       "      <td> False</td>\n",
       "      <td> -0.080915</td>\n",
       "    </tr>\n",
       "    <tr>\n",
       "      <th>IDE</th>\n",
       "      <td> False</td>\n",
       "      <td> -0.080915</td>\n",
       "    </tr>\n",
       "    <tr>\n",
       "      <th>MARCH5</th>\n",
       "      <td> False</td>\n",
       "      <td> -0.080915</td>\n",
       "    </tr>\n",
       "    <tr>\n",
       "      <th>CPEB3</th>\n",
       "      <td> False</td>\n",
       "      <td> -0.080915</td>\n",
       "    </tr>\n",
       "    <tr>\n",
       "      <th>BTAF1</th>\n",
       "      <td> False</td>\n",
       "      <td> -0.080915</td>\n",
       "    </tr>\n",
       "    <tr>\n",
       "      <th>FGFBP3</th>\n",
       "      <td> False</td>\n",
       "      <td> -0.080915</td>\n",
       "    </tr>\n",
       "    <tr>\n",
       "      <th>TNKS2</th>\n",
       "      <td> False</td>\n",
       "      <td> -0.080915</td>\n",
       "    </tr>\n",
       "    <tr>\n",
       "      <th>PPP1R3C</th>\n",
       "      <td> False</td>\n",
       "      <td> -0.080915</td>\n",
       "    </tr>\n",
       "    <tr>\n",
       "      <th>HECTD2</th>\n",
       "      <td> False</td>\n",
       "      <td> -0.080915</td>\n",
       "    </tr>\n",
       "    <tr>\n",
       "      <th>PCGF5</th>\n",
       "      <td> False</td>\n",
       "      <td> -0.080915</td>\n",
       "    </tr>\n",
       "    <tr>\n",
       "      <th>ANKRD1</th>\n",
       "      <td> False</td>\n",
       "      <td> -0.080915</td>\n",
       "    </tr>\n",
       "    <tr>\n",
       "      <th>LOC103216800</th>\n",
       "      <td> False</td>\n",
       "      <td> -0.080915</td>\n",
       "    </tr>\n",
       "    <tr>\n",
       "      <th>RPP30</th>\n",
       "      <td> False</td>\n",
       "      <td> -0.080915</td>\n",
       "    </tr>\n",
       "    <tr>\n",
       "      <th>LOC103247005</th>\n",
       "      <td> False</td>\n",
       "      <td> -0.080915</td>\n",
       "    </tr>\n",
       "  </tbody>\n",
       "</table>\n",
       "<p>20447 rows × 2 columns</p>\n",
       "</div>"
      ],
      "text/plain": [
       "             candidate     zscore\n",
       "HEPHL1            True  12.358675\n",
       "GAS2              True  12.358675\n",
       "GRIK4             True  12.358675\n",
       "CCDC50            True  12.358675\n",
       "TENM2             True  12.358675\n",
       "UTP23             True  12.358675\n",
       "HS3ST4            True  12.358675\n",
       "RYK               True  12.358675\n",
       "SLCO2A1           True  12.358675\n",
       "USP13             True  12.358675\n",
       "GDPD5             True  12.358675\n",
       "XRCC5             True  12.358675\n",
       "GNAO1             True  12.358675\n",
       "KRT80             True  12.358675\n",
       "TUSC3             True  12.358675\n",
       "MLLT3             True  12.358675\n",
       "COL27A1           True  12.358675\n",
       "AKAP6             True  12.358675\n",
       "MFAP3L            True  12.358675\n",
       "SAMD12            True  12.358675\n",
       "ERBB4             True  12.358675\n",
       "SLC6A2            True  12.358675\n",
       "PXDNL             True  12.358675\n",
       "EPHB1             True  12.358675\n",
       "TMEM132D          True  12.358675\n",
       "NR3C1             True  12.358675\n",
       "PARD3             True  12.358675\n",
       "ARSD              True  12.358675\n",
       "CCT5              True  12.358675\n",
       "MTUS2             True  12.358675\n",
       "...                ...        ...\n",
       "CH25H            False  -0.080915\n",
       "ACTA2            False  -0.080915\n",
       "LOC103216270     False  -0.080915\n",
       "STAMBPL1         False  -0.080915\n",
       "ANKRD22          False  -0.080915\n",
       "LIPM             False  -0.080915\n",
       "LIPN             False  -0.080915\n",
       "LIPK             False  -0.080915\n",
       "LIPF             False  -0.080915\n",
       "LIPJ             False  -0.080915\n",
       "SLC16A12         False  -0.080915\n",
       "PANK1            False  -0.080915\n",
       "KIF20B           False  -0.080915\n",
       "HTR7             False  -0.080915\n",
       "EXOC6            False  -0.080915\n",
       "HHEX             False  -0.080915\n",
       "KIF11            False  -0.080915\n",
       "IDE              False  -0.080915\n",
       "MARCH5           False  -0.080915\n",
       "CPEB3            False  -0.080915\n",
       "BTAF1            False  -0.080915\n",
       "FGFBP3           False  -0.080915\n",
       "TNKS2            False  -0.080915\n",
       "PPP1R3C          False  -0.080915\n",
       "HECTD2           False  -0.080915\n",
       "PCGF5            False  -0.080915\n",
       "ANKRD1           False  -0.080915\n",
       "LOC103216800     False  -0.080915\n",
       "RPP30            False  -0.080915\n",
       "LOC103247005     False  -0.080915\n",
       "\n",
       "[20447 rows x 2 columns]"
      ]
     },
     "execution_count": 65,
     "metadata": {},
     "output_type": "execute_result"
    }
   ],
   "source": [
    "x.summary_per_feature"
   ]
  },
  {
   "cell_type": "code",
   "execution_count": 19,
   "metadata": {
    "collapsed": false
   },
   "outputs": [],
   "source": [
    "ppg = ted.get_peak_info(top_s,t)"
   ]
  },
  {
   "cell_type": "code",
   "execution_count": 26,
   "metadata": {
    "collapsed": false
   },
   "outputs": [
    {
     "data": {
      "text/html": [
       "<div style=\"max-height:1000px;max-width:1500px;overflow:auto;\">\n",
       "<table border=\"1\" class=\"dataframe\">\n",
       "  <thead>\n",
       "    <tr style=\"text-align: right;\">\n",
       "      <th></th>\n",
       "      <th></th>\n",
       "      <th>gene_id</th>\n",
       "      <th>end</th>\n",
       "    </tr>\n",
       "    <tr>\n",
       "      <th>chrom</th>\n",
       "      <th>start</th>\n",
       "      <th></th>\n",
       "      <th></th>\n",
       "    </tr>\n",
       "  </thead>\n",
       "  <tbody>\n",
       "    <tr>\n",
       "      <th rowspan=\"30\" valign=\"top\">CAE1</th>\n",
       "      <th>2628     </th>\n",
       "      <td>      SCGB1C1</td>\n",
       "      <td>      4911</td>\n",
       "    </tr>\n",
       "    <tr>\n",
       "      <th>4916     </th>\n",
       "      <td>         ODF3</td>\n",
       "      <td>     10379</td>\n",
       "    </tr>\n",
       "    <tr>\n",
       "      <th>14423    </th>\n",
       "      <td>        BET1L</td>\n",
       "      <td>     18444</td>\n",
       "    </tr>\n",
       "    <tr>\n",
       "      <th>18597    </th>\n",
       "      <td>        RIC8A</td>\n",
       "      <td>     25398</td>\n",
       "    </tr>\n",
       "    <tr>\n",
       "      <th>27803    </th>\n",
       "      <td>        SIRT3</td>\n",
       "      <td>     48975</td>\n",
       "    </tr>\n",
       "    <tr>\n",
       "      <th>49510    </th>\n",
       "      <td>       PSMD13</td>\n",
       "      <td>     67353</td>\n",
       "    </tr>\n",
       "    <tr>\n",
       "      <th>92213    </th>\n",
       "      <td>        NLRP6</td>\n",
       "      <td>     99919</td>\n",
       "    </tr>\n",
       "    <tr>\n",
       "      <th>102388   </th>\n",
       "      <td>        ATHL1</td>\n",
       "      <td>    109337</td>\n",
       "    </tr>\n",
       "    <tr>\n",
       "      <th>112164   </th>\n",
       "      <td>       IFITM5</td>\n",
       "      <td>    113988</td>\n",
       "    </tr>\n",
       "    <tr>\n",
       "      <th>124603   </th>\n",
       "      <td> LOC103241759</td>\n",
       "      <td>    127671</td>\n",
       "    </tr>\n",
       "    <tr>\n",
       "      <th>128309   </th>\n",
       "      <td>       IFITM1</td>\n",
       "      <td>    129543</td>\n",
       "    </tr>\n",
       "    <tr>\n",
       "      <th>129666   </th>\n",
       "      <td> LOC103241765</td>\n",
       "      <td>    136899</td>\n",
       "    </tr>\n",
       "    <tr>\n",
       "      <th>147228   </th>\n",
       "      <td>       IFITM3</td>\n",
       "      <td>    148078</td>\n",
       "    </tr>\n",
       "    <tr>\n",
       "      <th>194763   </th>\n",
       "      <td>     B4GALNT4</td>\n",
       "      <td>    206351</td>\n",
       "    </tr>\n",
       "    <tr>\n",
       "      <th>214986   </th>\n",
       "      <td>         PKP3</td>\n",
       "      <td>    223958</td>\n",
       "    </tr>\n",
       "    <tr>\n",
       "      <th>224727   </th>\n",
       "      <td>       SIGIRR</td>\n",
       "      <td>    229005</td>\n",
       "    </tr>\n",
       "    <tr>\n",
       "      <th>235246   </th>\n",
       "      <td>         ANO9</td>\n",
       "      <td>    253391</td>\n",
       "    </tr>\n",
       "    <tr>\n",
       "      <th>265184   </th>\n",
       "      <td>       PTDSS2</td>\n",
       "      <td>    302521</td>\n",
       "    </tr>\n",
       "    <tr>\n",
       "      <th>305960   </th>\n",
       "      <td>         RNH1</td>\n",
       "      <td>    315233</td>\n",
       "    </tr>\n",
       "    <tr>\n",
       "      <th>344003   </th>\n",
       "      <td>         HRAS</td>\n",
       "      <td>    345782</td>\n",
       "    </tr>\n",
       "    <tr>\n",
       "      <th>355968   </th>\n",
       "      <td>       LRRC56</td>\n",
       "      <td>    370276</td>\n",
       "    </tr>\n",
       "    <tr>\n",
       "      <th>370216   </th>\n",
       "      <td>   C1H11orf35</td>\n",
       "      <td>    374411</td>\n",
       "    </tr>\n",
       "    <tr>\n",
       "      <th>374723   </th>\n",
       "      <td>       RASSF7</td>\n",
       "      <td>    379582</td>\n",
       "    </tr>\n",
       "    <tr>\n",
       "      <th>382280   </th>\n",
       "      <td> LOC103222129</td>\n",
       "      <td>    384748</td>\n",
       "    </tr>\n",
       "    <tr>\n",
       "      <th>397499   </th>\n",
       "      <td>        PHRF1</td>\n",
       "      <td>    429982</td>\n",
       "    </tr>\n",
       "    <tr>\n",
       "      <th>430412   </th>\n",
       "      <td>         IRF7</td>\n",
       "      <td>    433243</td>\n",
       "    </tr>\n",
       "    <tr>\n",
       "      <th>435562   </th>\n",
       "      <td>        CDHR5</td>\n",
       "      <td>    443116</td>\n",
       "    </tr>\n",
       "    <tr>\n",
       "      <th>444487   </th>\n",
       "      <td>          SCT</td>\n",
       "      <td>    445535</td>\n",
       "    </tr>\n",
       "    <tr>\n",
       "      <th>454018   </th>\n",
       "      <td>         DRD4</td>\n",
       "      <td>    459582</td>\n",
       "    </tr>\n",
       "    <tr>\n",
       "      <th>487497   </th>\n",
       "      <td>        DEAF1</td>\n",
       "      <td>    510440</td>\n",
       "    </tr>\n",
       "    <tr>\n",
       "      <th>...</th>\n",
       "      <th>...</th>\n",
       "      <td>...</td>\n",
       "      <td>...</td>\n",
       "    </tr>\n",
       "    <tr>\n",
       "      <th rowspan=\"8\" valign=\"top\">CAEX</th>\n",
       "      <th>129423364</th>\n",
       "      <td> LOC103232857</td>\n",
       "      <td> 129448393</td>\n",
       "    </tr>\n",
       "    <tr>\n",
       "      <th>129487543</th>\n",
       "      <td>         VBP1</td>\n",
       "      <td> 129510301</td>\n",
       "    </tr>\n",
       "    <tr>\n",
       "      <th>129536528</th>\n",
       "      <td>       RAB39B</td>\n",
       "      <td> 129542238</td>\n",
       "    </tr>\n",
       "    <tr>\n",
       "      <th>129564187</th>\n",
       "      <td>        CLIC2</td>\n",
       "      <td> 129606252</td>\n",
       "    </tr>\n",
       "    <tr>\n",
       "      <th>129628788</th>\n",
       "      <td>        TMLHE</td>\n",
       "      <td> 129672966</td>\n",
       "    </tr>\n",
       "    <tr>\n",
       "      <th>129838890</th>\n",
       "      <td>        SPRY3</td>\n",
       "      <td> 129840393</td>\n",
       "    </tr>\n",
       "    <tr>\n",
       "      <th>129944643</th>\n",
       "      <td>        VAMP7</td>\n",
       "      <td> 129984071</td>\n",
       "    </tr>\n",
       "    <tr>\n",
       "      <th>130006399</th>\n",
       "      <td>         IL9R</td>\n",
       "      <td> 130018718</td>\n",
       "    </tr>\n",
       "    <tr>\n",
       "      <th rowspan=\"22\" valign=\"top\">CAEY</th>\n",
       "      <th>3877     </th>\n",
       "      <td> LOC103246967</td>\n",
       "      <td>     28337</td>\n",
       "    </tr>\n",
       "    <tr>\n",
       "      <th>99173    </th>\n",
       "      <td>          ZFY</td>\n",
       "      <td>    128570</td>\n",
       "    </tr>\n",
       "    <tr>\n",
       "      <th>369705   </th>\n",
       "      <td> LOC103247009</td>\n",
       "      <td>    400440</td>\n",
       "    </tr>\n",
       "    <tr>\n",
       "      <th>461598   </th>\n",
       "      <td>        USP9Y</td>\n",
       "      <td>    626098</td>\n",
       "    </tr>\n",
       "    <tr>\n",
       "      <th>689364   </th>\n",
       "      <td>        DDX3Y</td>\n",
       "      <td>    703302</td>\n",
       "    </tr>\n",
       "    <tr>\n",
       "      <th>968225   </th>\n",
       "      <td>          UTY</td>\n",
       "      <td>   1188589</td>\n",
       "    </tr>\n",
       "    <tr>\n",
       "      <th>1337365  </th>\n",
       "      <td> LOC103246981</td>\n",
       "      <td>   1397833</td>\n",
       "    </tr>\n",
       "    <tr>\n",
       "      <th>1829690  </th>\n",
       "      <td> LOC103246983</td>\n",
       "      <td>   1888219</td>\n",
       "    </tr>\n",
       "    <tr>\n",
       "      <th>2358920  </th>\n",
       "      <td> LOC103247011</td>\n",
       "      <td>   2377117</td>\n",
       "    </tr>\n",
       "    <tr>\n",
       "      <th>2376865  </th>\n",
       "      <td> LOC103246985</td>\n",
       "      <td>   2383270</td>\n",
       "    </tr>\n",
       "    <tr>\n",
       "      <th>2512747  </th>\n",
       "      <td> LOC103246986</td>\n",
       "      <td>   2533954</td>\n",
       "    </tr>\n",
       "    <tr>\n",
       "      <th>2627541  </th>\n",
       "      <td>        KDM5D</td>\n",
       "      <td>   2667144</td>\n",
       "    </tr>\n",
       "    <tr>\n",
       "      <th>2885341  </th>\n",
       "      <td> LOC103246988</td>\n",
       "      <td>   2902187</td>\n",
       "    </tr>\n",
       "    <tr>\n",
       "      <th>3016243  </th>\n",
       "      <td> LOC103246992</td>\n",
       "      <td>   3048450</td>\n",
       "    </tr>\n",
       "    <tr>\n",
       "      <th>3388914  </th>\n",
       "      <td> LOC103246994</td>\n",
       "      <td>   3390872</td>\n",
       "    </tr>\n",
       "    <tr>\n",
       "      <th>3625286  </th>\n",
       "      <td> LOC103247015</td>\n",
       "      <td>   3640104</td>\n",
       "    </tr>\n",
       "    <tr>\n",
       "      <th>3671250  </th>\n",
       "      <td> LOC103247016</td>\n",
       "      <td>   3711947</td>\n",
       "    </tr>\n",
       "    <tr>\n",
       "      <th>4036567  </th>\n",
       "      <td> LOC103247018</td>\n",
       "      <td>   4111231</td>\n",
       "    </tr>\n",
       "    <tr>\n",
       "      <th>4114104  </th>\n",
       "      <td>         XKR3</td>\n",
       "      <td>   4142365</td>\n",
       "    </tr>\n",
       "    <tr>\n",
       "      <th>4486881  </th>\n",
       "      <td> LOC103247001</td>\n",
       "      <td>   4489237</td>\n",
       "    </tr>\n",
       "    <tr>\n",
       "      <th>4503583  </th>\n",
       "      <td> LOC103247020</td>\n",
       "      <td>   4516685</td>\n",
       "    </tr>\n",
       "    <tr>\n",
       "      <th>5352628  </th>\n",
       "      <td> LOC103247005</td>\n",
       "      <td>   5364843</td>\n",
       "    </tr>\n",
       "  </tbody>\n",
       "</table>\n",
       "<p>20447 rows × 2 columns</p>\n",
       "</div>"
      ],
      "text/plain": [
       "                      gene_id        end\n",
       "chrom start                             \n",
       "CAE1  2628            SCGB1C1       4911\n",
       "      4916               ODF3      10379\n",
       "      14423             BET1L      18444\n",
       "      18597             RIC8A      25398\n",
       "      27803             SIRT3      48975\n",
       "      49510            PSMD13      67353\n",
       "      92213             NLRP6      99919\n",
       "      102388            ATHL1     109337\n",
       "      112164           IFITM5     113988\n",
       "      124603     LOC103241759     127671\n",
       "      128309           IFITM1     129543\n",
       "      129666     LOC103241765     136899\n",
       "      147228           IFITM3     148078\n",
       "      194763         B4GALNT4     206351\n",
       "      214986             PKP3     223958\n",
       "      224727           SIGIRR     229005\n",
       "      235246             ANO9     253391\n",
       "      265184           PTDSS2     302521\n",
       "      305960             RNH1     315233\n",
       "      344003             HRAS     345782\n",
       "      355968           LRRC56     370276\n",
       "      370216       C1H11orf35     374411\n",
       "      374723           RASSF7     379582\n",
       "      382280     LOC103222129     384748\n",
       "      397499            PHRF1     429982\n",
       "      430412             IRF7     433243\n",
       "      435562            CDHR5     443116\n",
       "      444487              SCT     445535\n",
       "      454018             DRD4     459582\n",
       "      487497            DEAF1     510440\n",
       "...                       ...        ...\n",
       "CAEX  129423364  LOC103232857  129448393\n",
       "      129487543          VBP1  129510301\n",
       "      129536528        RAB39B  129542238\n",
       "      129564187         CLIC2  129606252\n",
       "      129628788         TMLHE  129672966\n",
       "      129838890         SPRY3  129840393\n",
       "      129944643         VAMP7  129984071\n",
       "      130006399          IL9R  130018718\n",
       "CAEY  3877       LOC103246967      28337\n",
       "      99173               ZFY     128570\n",
       "      369705     LOC103247009     400440\n",
       "      461598            USP9Y     626098\n",
       "      689364            DDX3Y     703302\n",
       "      968225              UTY    1188589\n",
       "      1337365    LOC103246981    1397833\n",
       "      1829690    LOC103246983    1888219\n",
       "      2358920    LOC103247011    2377117\n",
       "      2376865    LOC103246985    2383270\n",
       "      2512747    LOC103246986    2533954\n",
       "      2627541           KDM5D    2667144\n",
       "      2885341    LOC103246988    2902187\n",
       "      3016243    LOC103246992    3048450\n",
       "      3388914    LOC103246994    3390872\n",
       "      3625286    LOC103247015    3640104\n",
       "      3671250    LOC103247016    3711947\n",
       "      4036567    LOC103247018    4111231\n",
       "      4114104            XKR3    4142365\n",
       "      4486881    LOC103247001    4489237\n",
       "      4503583    LOC103247020    4516685\n",
       "      5352628    LOC103247005    5364843\n",
       "\n",
       "[20447 rows x 2 columns]"
      ]
     },
     "execution_count": 26,
     "metadata": {},
     "output_type": "execute_result"
    }
   ],
   "source": [
    "gene_df.reset_index().set_index('gene_id').reset_index().set_index(['chrom','start'])"
   ]
  },
  {
   "cell_type": "markdown",
   "metadata": {},
   "source": [
    "## Debug get info in TopScoresEnrichment"
   ]
  },
  {
   "cell_type": "code",
   "execution_count": 48,
   "metadata": {
    "collapsed": false
   },
   "outputs": [],
   "source": [
    "ballet_s = pd.read_csv('/home/GMI/hannes.svardal/vervet_project/analyses/20150429_ballet/_data/163_HC_ballet_pyn_all_chrom_T1_out.tsv',sep='\\t',squeeze=True,index_col=[0,1])"
   ]
  },
  {
   "cell_type": "code",
   "execution_count": 82,
   "metadata": {
    "collapsed": false
   },
   "outputs": [],
   "source": [
    "feature_to_cat = pd.read_csv('/home/GMI/hannes.svardal/vervet_project/data/gene_associations/gene_to_cat_release100_gt2.tsv',sep='\\t')"
   ]
  },
  {
   "cell_type": "code",
   "execution_count": 91,
   "metadata": {
    "collapsed": false
   },
   "outputs": [],
   "source": [
    "feature_to_cat.rename(columns={'gene_symbol':'symbol'},inplace=True)"
   ]
  },
  {
   "cell_type": "code",
   "execution_count": 96,
   "metadata": {
    "collapsed": false
   },
   "outputs": [],
   "source": [
    "gene_to_cat2.rename(columns={'gene_id':'symbol'},inplace=True)"
   ]
  },
  {
   "cell_type": "code",
   "execution_count": 115,
   "metadata": {
    "collapsed": false
   },
   "outputs": [],
   "source": [
    "gene_df = load_gene_df().rename(columns={'gene_id':'symbol'})"
   ]
  },
  {
   "cell_type": "code",
   "execution_count": 88,
   "metadata": {
    "collapsed": false
   },
   "outputs": [],
   "source": [
    "feature_df = pd.read_csv('/home/GMI/hannes.svardal/vervet_project/metadata/annot_release100_genes.tsv',sep='\\t',index_col=[0,1],usecols=['chrom','start','end','symbol'])"
   ]
  },
  {
   "cell_type": "code",
   "execution_count": 214,
   "metadata": {
    "collapsed": false
   },
   "outputs": [
    {
     "name": "stderr",
     "output_type": "stream",
     "text": [
      "WARNING:root:67986 features from the feature_to_category mapping are not in the features file. Removing them.\n",
      "INFO:root:Removing categories for which there are less than 2 features in the features file.\n",
      "INFO:root:0 categories removed.\n"
     ]
    }
   ],
   "source": [
    "te = ted.TopScoresEnrichment(ballet_s, feature_df, feature_to_cat, top_type='quantile',top=0.1,feature_name='symbol',category_name='go_identifier',max_dist=20000)"
   ]
  },
  {
   "cell_type": "code",
   "execution_count": 62,
   "metadata": {
    "collapsed": false
   },
   "outputs": [],
   "source": [
    "%autoreload 0"
   ]
  },
  {
   "cell_type": "code",
   "execution_count": 558,
   "metadata": {
    "collapsed": false
   },
   "outputs": [],
   "source": [
    "%autoreload"
   ]
  },
  {
   "cell_type": "code",
   "execution_count": 132,
   "metadata": {
    "collapsed": false
   },
   "outputs": [],
   "source": [
    "from hs_vervet.tools import hs_pandas as hp"
   ]
  },
  {
   "cell_type": "code",
   "execution_count": 199,
   "metadata": {
    "collapsed": false
   },
   "outputs": [
    {
     "name": "stdout",
     "output_type": "stream",
     "text": [
      "20447 20447\n"
     ]
    }
   ],
   "source": [
    "print len(gene_df['symbol']), len(gene_df['symbol'].unique())"
   ]
  },
  {
   "cell_type": "code",
   "execution_count": 200,
   "metadata": {
    "collapsed": false
   },
   "outputs": [
    {
     "name": "stdout",
     "output_type": "stream",
     "text": [
      "34451 34142\n"
     ]
    }
   ],
   "source": [
    "print len(feature_df['symbol']), len(feature_df['symbol'].unique())"
   ]
  },
  {
   "cell_type": "code",
   "execution_count": 133,
   "metadata": {
    "collapsed": false
   },
   "outputs": [],
   "source": [
    "value_s = te.value_s.sort(ascending=te.ascending, inplace=False)\n",
    "top_s = value_s.iloc[:te.top_n]\n",
    "te.candidate_features = hp.get_features(top_s, te.feature_df, feature_name=te.feature_name,\n",
    "                                                                             max_dist=te.max_dist)\n",
    "sub_feature_df = te.feature_df.reset_index().set_index(te.feature_name).ix[te.candidate_features]\\\n",
    "                                                        .reset_index().set_index(['chrom','start'])"
   ]
  },
  {
   "cell_type": "code",
   "execution_count": 139,
   "metadata": {
    "collapsed": false
   },
   "outputs": [],
   "source": [
    "max_dist = te.max_dist\n",
    "feature_name=te.feature_name\n",
    "sub_gene_df = sub_feature_df"
   ]
  },
  {
   "cell_type": "code",
   "execution_count": 201,
   "metadata": {
    "collapsed": false
   },
   "outputs": [],
   "source": [
    "chrom = 'CAE17'\n",
    "loc_top_s = top_s.ix[chrom].copy()\n",
    "loc_top_s = top_s.ix[chrom]\n",
    "gene_info = sub_gene_df"
   ]
  },
  {
   "cell_type": "code",
   "execution_count": 186,
   "metadata": {
    "collapsed": false
   },
   "outputs": [],
   "source": [
    "start = np.searchsorted(loc_top_s.index.values+max_dist,gene_info.ix[chrom].index.values)\n",
    "end = np.searchsorted(loc_top_s.index.values-max_dist,gene_info.ix[chrom][\"end\"].values)"
   ]
  },
  {
   "cell_type": "code",
   "execution_count": 204,
   "metadata": {
    "collapsed": false
   },
   "outputs": [
    {
     "data": {
      "text/plain": [
       "(433,)"
      ]
     },
     "execution_count": 204,
     "metadata": {},
     "output_type": "execute_result"
    }
   ],
   "source": [
    "gene_info.ix[chrom][feature_name].unique().shape"
   ]
  },
  {
   "cell_type": "code",
   "execution_count": 205,
   "metadata": {
    "collapsed": false
   },
   "outputs": [
    {
     "data": {
      "text/plain": [
       "(677,)"
      ]
     },
     "execution_count": 205,
     "metadata": {},
     "output_type": "execute_result"
    }
   ],
   "source": [
    "gene_info.ix[chrom][feature_name].shape"
   ]
  },
  {
   "cell_type": "code",
   "execution_count": 213,
   "metadata": {
    "collapsed": false
   },
   "outputs": [],
   "source": [
    "feature_df.drop_duplicates(subset='symbol',inplace=True)"
   ]
  },
  {
   "cell_type": "code",
   "execution_count": 208,
   "metadata": {
    "collapsed": false
   },
   "outputs": [],
   "source": [
    "x = pd.concat([loc_top_s.iloc[st:ed] for st,ed in zip(start,end)],\n",
    "                          keys=gene_info.ix[chrom][feature_name].unique())"
   ]
  },
  {
   "cell_type": "code",
   "execution_count": 168,
   "metadata": {
    "collapsed": false
   },
   "outputs": [
    {
     "name": "stdout",
     "output_type": "stream",
     "text": [
      "chrom  pos     \n",
      "CAE14  19513384    766.994361\n",
      "       19512798    761.695477\n",
      "       19513153    761.140567\n",
      "       19504790    744.792114\n",
      "CAE12  16800241    741.098915\n",
      "       15749913    740.452204\n",
      "       15750098    739.203645\n",
      "       15750141    738.324430\n",
      "       16800255    733.141917\n",
      "       15749757    731.422516\n",
      "CAE14  19498574    730.691665\n",
      "CAE12  15749085    727.137981\n",
      "CAE14  19496176    724.857386\n",
      "CAE12  16856121    723.638600\n",
      "CAE14  19495727    723.608426\n",
      "...\n",
      "CAE7   121589268   -114.272755\n",
      "CAE8   16289750    -114.272787\n",
      "CAE18  34187896    -114.272807\n",
      "CAE12  71996467    -114.272830\n",
      "CAE21  101512762   -114.272839\n",
      "CAE1   70144833    -114.272876\n",
      "CAE15  58845450    -114.272880\n",
      "CAE3   87375087    -114.272895\n",
      "CAE21  9246170     -114.272901\n",
      "CAE3   11006858    -114.272911\n",
      "CAE18  6991506     -114.272962\n",
      "CAE3   90281382    -114.273000\n",
      "CAE10  90734247    -114.273038\n",
      "CAE21  57090405    -114.273103\n",
      "CAE6   48647963    -114.273199\n",
      "Name: score, Length: 1487592, dtype: float64\n",
      "                       symbol        end\n",
      "chrom start                             \n",
      "CAE14 14019264   LOC103241246   14020584\n",
      "      14037710   LOC103241245   14039280\n",
      "      13828209   LOC103241248   13836112\n",
      "      32080319          TACR1   32236556\n",
      "      2312808    LOC103241099    2322096\n",
      "      104087365  LOC103220916  104095748\n",
      "      104084313  LOC103220914  104086882\n",
      "      104275763  LOC103220918  104280330\n",
      "      32597632         SEMA4F   32625424\n",
      "      44839460         COMMD1   45068764\n",
      "      33571894          ALMS1   33795404\n",
      "      5773706    LOC103241148    5775012\n",
      "      36293963         CLEC4F   36304590\n",
      "      5419373    LOC103241141    5420230\n",
      "      5709950    LOC103241147    5723170\n",
      "      98277331   LOC103220850   98278911\n",
      "      35488393           DYSF   35715222\n",
      "      104095771       RNASEH1  104111051\n",
      "      93016709         FAM84A   93022670\n",
      "      80967515   LOC103220629   80987081\n",
      "      68570042   LOC103220984   68572352\n",
      "      81832631   LOC103220986   81837378\n",
      "      107663703  LOC103220981  107664934\n",
      "      22398535   LOC103220983   22400128\n",
      "      2894096           MITD1    2902790\n",
      "CAE2  75133713      TRNAG-CCC   75133783\n",
      "CAE5  556563        TRNAG-CCC     556633\n",
      "CAE14 36865978      TRNAG-CCC   36866048\n",
      "CAE16 18426987      TRNAG-CCC   18427057\n",
      "CAE20 13166923      TRNAG-CCC   13166993\n",
      "...                       ...        ...\n",
      "CAE3  29463208   LOC103214465   29465584\n",
      "      29547847   LOC103214464   29549047\n",
      "      16569761   LOC103214302   16607058\n",
      "      16607218   LOC103214305   16813130\n",
      "      401525            IL17D     421725\n",
      "      23285993          KCTD4   23347315\n",
      "      65956820   LOC103214640   65957350\n",
      "      81327487          TEX30   81336113\n",
      "      40201243   LOC103214521   40201775\n",
      "      4889583    LOC103214526    4899054\n",
      "      26966724   LOC103214528   26967156\n",
      "      26967423   LOC103214529   26976736\n",
      "      1091376           ZMYM5    1133664\n",
      "      30252306   LOC103214483   30356630\n",
      "      85572404        FAM155A   86263309\n",
      "      81360868           BIVM   81401813\n",
      "      80304049   LOC103214734   80366383\n",
      "      81114384   LOC103214736   81126711\n",
      "      91089983   LOC103214825   91090466\n",
      "      70294405           GPC5   71729729\n",
      "      72075622           GPC6   73242678\n",
      "      91089656   LOC103214826   91090146\n",
      "      90991513   LOC103214829   90996064\n",
      "      64294603   LOC103214636   64296389\n",
      "      62914942   LOC103214631   62927810\n",
      "      62940211   LOC103214633   62941075\n",
      "      45256171          PCDH9   46194724\n",
      "      51890033           DIS3   51916628\n",
      "      9502322           USPL1    9546633\n",
      "      92066229          UPF3A   92089868\n",
      "\n",
      "[14913 rows x 2 columns]\n",
      "CAE14\n",
      "CAE2\n",
      "CAE5\n",
      "CAE16\n",
      "CAE20\n",
      "CAE6\n",
      "CAE17\n"
     ]
    },
    {
     "ename": "ValueError",
     "evalue": "Wrong number of items passed 608816, placement implies 101634988",
     "output_type": "error",
     "traceback": [
      "\u001b[1;31m---------------------------------------------------------------------------\u001b[0m\n\u001b[1;31mValueError\u001b[0m                                Traceback (most recent call last)",
      "\u001b[1;32m<ipython-input-168-b26a8d09f6cb>\u001b[0m in \u001b[0;36m<module>\u001b[1;34m()\u001b[0m\n\u001b[1;32m----> 1\u001b[1;33m \u001b[0mted\u001b[0m\u001b[1;33m.\u001b[0m\u001b[0mget_peaks\u001b[0m\u001b[1;33m(\u001b[0m\u001b[0msub_gene_df\u001b[0m\u001b[1;33m,\u001b[0m\u001b[0mtop_s\u001b[0m\u001b[1;33m,\u001b[0m\u001b[0mmax_dist\u001b[0m\u001b[1;33m,\u001b[0m\u001b[0mfeature_name\u001b[0m\u001b[1;33m)\u001b[0m\u001b[1;33m\u001b[0m\u001b[0m\n\u001b[0m",
      "\u001b[1;32m/home/GMI/hannes.svardal/script/hs_vervet/scripts/test_enrichment_dev.py\u001b[0m in \u001b[0;36mget_peaks\u001b[1;34m(sub_gene_df, top_s, max_dist, feature_name)\u001b[0m\n\u001b[0;32m    553\u001b[0m         \u001b[1;31m#try:\u001b[0m\u001b[1;33m\u001b[0m\u001b[1;33m\u001b[0m\u001b[0m\n\u001b[0;32m    554\u001b[0m         x = pd.concat([loc_top_s.iloc[st:ed] for st,ed in zip(start,end)],\n\u001b[1;32m--> 555\u001b[1;33m                           keys=gene_info.ix[chrom][feature_name].values)\n\u001b[0m\u001b[0;32m    556\u001b[0m \u001b[1;31m#            print \"worked\"\u001b[0m\u001b[1;33m\u001b[0m\u001b[1;33m\u001b[0m\u001b[0m\n\u001b[0;32m    557\u001b[0m \u001b[1;31m#            print chrom\u001b[0m\u001b[1;33m\u001b[0m\u001b[1;33m\u001b[0m\u001b[0m\n",
      "\u001b[1;32m/net/gmi.oeaw.ac.at/nordborg/user/hannes.svardal/Documents/Dropbox/Akademisches/lib/python/virtualenvs/ver/lib/python2.7/site-packages/pandas/tools/merge.pyc\u001b[0m in \u001b[0;36mconcat\u001b[1;34m(objs, axis, join, join_axes, ignore_index, keys, levels, names, verify_integrity, copy)\u001b[0m\n\u001b[0;32m    723\u001b[0m                        \u001b[0mverify_integrity\u001b[0m\u001b[1;33m=\u001b[0m\u001b[0mverify_integrity\u001b[0m\u001b[1;33m,\u001b[0m\u001b[1;33m\u001b[0m\u001b[0m\n\u001b[0;32m    724\u001b[0m                        copy=copy)\n\u001b[1;32m--> 725\u001b[1;33m     \u001b[1;32mreturn\u001b[0m \u001b[0mop\u001b[0m\u001b[1;33m.\u001b[0m\u001b[0mget_result\u001b[0m\u001b[1;33m(\u001b[0m\u001b[1;33m)\u001b[0m\u001b[1;33m\u001b[0m\u001b[0m\n\u001b[0m\u001b[0;32m    726\u001b[0m \u001b[1;33m\u001b[0m\u001b[0m\n\u001b[0;32m    727\u001b[0m \u001b[1;33m\u001b[0m\u001b[0m\n",
      "\u001b[1;32m/net/gmi.oeaw.ac.at/nordborg/user/hannes.svardal/Documents/Dropbox/Akademisches/lib/python/virtualenvs/ver/lib/python2.7/site-packages/pandas/tools/merge.pyc\u001b[0m in \u001b[0;36mget_result\u001b[1;34m(self)\u001b[0m\n\u001b[0;32m    865\u001b[0m                 \u001b[0mnew_data\u001b[0m \u001b[1;33m=\u001b[0m \u001b[0mcom\u001b[0m\u001b[1;33m.\u001b[0m\u001b[0m_concat_compat\u001b[0m\u001b[1;33m(\u001b[0m\u001b[1;33m[\u001b[0m\u001b[0mx\u001b[0m\u001b[1;33m.\u001b[0m\u001b[0mvalues\u001b[0m \u001b[1;32mfor\u001b[0m \u001b[0mx\u001b[0m \u001b[1;32min\u001b[0m \u001b[0mself\u001b[0m\u001b[1;33m.\u001b[0m\u001b[0mobjs\u001b[0m\u001b[1;33m]\u001b[0m\u001b[1;33m)\u001b[0m\u001b[1;33m\u001b[0m\u001b[0m\n\u001b[0;32m    866\u001b[0m                 \u001b[0mname\u001b[0m \u001b[1;33m=\u001b[0m \u001b[0mcom\u001b[0m\u001b[1;33m.\u001b[0m\u001b[0m_consensus_name_attr\u001b[0m\u001b[1;33m(\u001b[0m\u001b[0mself\u001b[0m\u001b[1;33m.\u001b[0m\u001b[0mobjs\u001b[0m\u001b[1;33m)\u001b[0m\u001b[1;33m\u001b[0m\u001b[0m\n\u001b[1;32m--> 867\u001b[1;33m                 \u001b[1;32mreturn\u001b[0m \u001b[0mSeries\u001b[0m\u001b[1;33m(\u001b[0m\u001b[0mnew_data\u001b[0m\u001b[1;33m,\u001b[0m \u001b[0mindex\u001b[0m\u001b[1;33m=\u001b[0m\u001b[0mself\u001b[0m\u001b[1;33m.\u001b[0m\u001b[0mnew_axes\u001b[0m\u001b[1;33m[\u001b[0m\u001b[1;36m0\u001b[0m\u001b[1;33m]\u001b[0m\u001b[1;33m,\u001b[0m \u001b[0mname\u001b[0m\u001b[1;33m=\u001b[0m\u001b[0mname\u001b[0m\u001b[1;33m)\u001b[0m\u001b[1;33m.\u001b[0m\u001b[0m__finalize__\u001b[0m\u001b[1;33m(\u001b[0m\u001b[0mself\u001b[0m\u001b[1;33m,\u001b[0m \u001b[0mmethod\u001b[0m\u001b[1;33m=\u001b[0m\u001b[1;34m'concat'\u001b[0m\u001b[1;33m)\u001b[0m\u001b[1;33m\u001b[0m\u001b[0m\n\u001b[0m\u001b[0;32m    868\u001b[0m \u001b[1;33m\u001b[0m\u001b[0m\n\u001b[0;32m    869\u001b[0m             \u001b[1;31m# combine as columns in a frame\u001b[0m\u001b[1;33m\u001b[0m\u001b[1;33m\u001b[0m\u001b[0m\n",
      "\u001b[1;32m/net/gmi.oeaw.ac.at/nordborg/user/hannes.svardal/Documents/Dropbox/Akademisches/lib/python/virtualenvs/ver/lib/python2.7/site-packages/pandas/core/series.pyc\u001b[0m in \u001b[0;36m__init__\u001b[1;34m(self, data, index, dtype, name, copy, fastpath)\u001b[0m\n\u001b[0;32m    211\u001b[0m                                        raise_cast_failure=True)\n\u001b[0;32m    212\u001b[0m \u001b[1;33m\u001b[0m\u001b[0m\n\u001b[1;32m--> 213\u001b[1;33m                 \u001b[0mdata\u001b[0m \u001b[1;33m=\u001b[0m \u001b[0mSingleBlockManager\u001b[0m\u001b[1;33m(\u001b[0m\u001b[0mdata\u001b[0m\u001b[1;33m,\u001b[0m \u001b[0mindex\u001b[0m\u001b[1;33m,\u001b[0m \u001b[0mfastpath\u001b[0m\u001b[1;33m=\u001b[0m\u001b[0mTrue\u001b[0m\u001b[1;33m)\u001b[0m\u001b[1;33m\u001b[0m\u001b[0m\n\u001b[0m\u001b[0;32m    214\u001b[0m \u001b[1;33m\u001b[0m\u001b[0m\n\u001b[0;32m    215\u001b[0m         \u001b[0mgeneric\u001b[0m\u001b[1;33m.\u001b[0m\u001b[0mNDFrame\u001b[0m\u001b[1;33m.\u001b[0m\u001b[0m__init__\u001b[0m\u001b[1;33m(\u001b[0m\u001b[0mself\u001b[0m\u001b[1;33m,\u001b[0m \u001b[0mdata\u001b[0m\u001b[1;33m,\u001b[0m \u001b[0mfastpath\u001b[0m\u001b[1;33m=\u001b[0m\u001b[0mTrue\u001b[0m\u001b[1;33m)\u001b[0m\u001b[1;33m\u001b[0m\u001b[0m\n",
      "\u001b[1;32m/net/gmi.oeaw.ac.at/nordborg/user/hannes.svardal/Documents/Dropbox/Akademisches/lib/python/virtualenvs/ver/lib/python2.7/site-packages/pandas/core/internals.pyc\u001b[0m in \u001b[0;36m__init__\u001b[1;34m(self, block, axis, do_integrity_check, fastpath)\u001b[0m\n\u001b[0;32m   3369\u001b[0m             block = make_block(block,\n\u001b[0;32m   3370\u001b[0m                                \u001b[0mplacement\u001b[0m\u001b[1;33m=\u001b[0m\u001b[0mslice\u001b[0m\u001b[1;33m(\u001b[0m\u001b[1;36m0\u001b[0m\u001b[1;33m,\u001b[0m \u001b[0mlen\u001b[0m\u001b[1;33m(\u001b[0m\u001b[0maxis\u001b[0m\u001b[1;33m)\u001b[0m\u001b[1;33m)\u001b[0m\u001b[1;33m,\u001b[0m\u001b[1;33m\u001b[0m\u001b[0m\n\u001b[1;32m-> 3371\u001b[1;33m                                ndim=1, fastpath=True)\n\u001b[0m\u001b[0;32m   3372\u001b[0m \u001b[1;33m\u001b[0m\u001b[0m\n\u001b[0;32m   3373\u001b[0m         \u001b[0mself\u001b[0m\u001b[1;33m.\u001b[0m\u001b[0mblocks\u001b[0m \u001b[1;33m=\u001b[0m \u001b[1;33m[\u001b[0m\u001b[0mblock\u001b[0m\u001b[1;33m]\u001b[0m\u001b[1;33m\u001b[0m\u001b[0m\n",
      "\u001b[1;32m/net/gmi.oeaw.ac.at/nordborg/user/hannes.svardal/Documents/Dropbox/Akademisches/lib/python/virtualenvs/ver/lib/python2.7/site-packages/pandas/core/internals.pyc\u001b[0m in \u001b[0;36mmake_block\u001b[1;34m(values, placement, klass, ndim, dtype, fastpath)\u001b[0m\n\u001b[0;32m   2097\u001b[0m \u001b[1;33m\u001b[0m\u001b[0m\n\u001b[0;32m   2098\u001b[0m     return klass(values, ndim=ndim, fastpath=fastpath,\n\u001b[1;32m-> 2099\u001b[1;33m                  placement=placement)\n\u001b[0m\u001b[0;32m   2100\u001b[0m \u001b[1;33m\u001b[0m\u001b[0m\n\u001b[0;32m   2101\u001b[0m \u001b[1;33m\u001b[0m\u001b[0m\n",
      "\u001b[1;32m/net/gmi.oeaw.ac.at/nordborg/user/hannes.svardal/Documents/Dropbox/Akademisches/lib/python/virtualenvs/ver/lib/python2.7/site-packages/pandas/core/internals.pyc\u001b[0m in \u001b[0;36m__init__\u001b[1;34m(self, values, placement, ndim, fastpath)\u001b[0m\n\u001b[0;32m     74\u001b[0m             raise ValueError('Wrong number of items passed %d,'\n\u001b[0;32m     75\u001b[0m                              ' placement implies %d' % (\n\u001b[1;32m---> 76\u001b[1;33m                                  len(self.values), len(self.mgr_locs)))\n\u001b[0m\u001b[0;32m     77\u001b[0m \u001b[1;33m\u001b[0m\u001b[0m\n\u001b[0;32m     78\u001b[0m     \u001b[1;33m@\u001b[0m\u001b[0mproperty\u001b[0m\u001b[1;33m\u001b[0m\u001b[0m\n",
      "\u001b[1;31mValueError\u001b[0m: Wrong number of items passed 608816, placement implies 101634988"
     ]
    }
   ],
   "source": [
    "ted.get_peaks(sub_gene_df,top_s,max_dist,feature_name)"
   ]
  },
  {
   "cell_type": "code",
   "execution_count": 221,
   "metadata": {
    "collapsed": false
   },
   "outputs": [
    {
     "data": {
      "text/html": [
       "<div style=\"max-height:1000px;max-width:1500px;overflow:auto;\">\n",
       "<table border=\"1\" class=\"dataframe\">\n",
       "  <thead>\n",
       "    <tr style=\"text-align: right;\">\n",
       "      <th></th>\n",
       "      <th>symbol</th>\n",
       "      <th>go_identifier</th>\n",
       "    </tr>\n",
       "  </thead>\n",
       "  <tbody>\n",
       "    <tr>\n",
       "      <th>1020483</th>\n",
       "      <td>     TP53</td>\n",
       "      <td>    hs_hivprot</td>\n",
       "    </tr>\n",
       "    <tr>\n",
       "      <th>1020484</th>\n",
       "      <td>     APOE</td>\n",
       "      <td>    hs_hivprot</td>\n",
       "    </tr>\n",
       "    <tr>\n",
       "      <th>1020485</th>\n",
       "      <td>      TNF</td>\n",
       "      <td>    hs_hivprot</td>\n",
       "    </tr>\n",
       "    <tr>\n",
       "      <th>1020486</th>\n",
       "      <td>     EGFR</td>\n",
       "      <td>    hs_hivprot</td>\n",
       "    </tr>\n",
       "    <tr>\n",
       "      <th>1020487</th>\n",
       "      <td>    VEGFA</td>\n",
       "      <td>    hs_hivprot</td>\n",
       "    </tr>\n",
       "    <tr>\n",
       "      <th>1020488</th>\n",
       "      <td>      IL6</td>\n",
       "      <td>    hs_hivprot</td>\n",
       "    </tr>\n",
       "    <tr>\n",
       "      <th>1020489</th>\n",
       "      <td>    TGFB1</td>\n",
       "      <td>    hs_hivprot</td>\n",
       "    </tr>\n",
       "    <tr>\n",
       "      <th>1020490</th>\n",
       "      <td>      ACE</td>\n",
       "      <td>    hs_hivprot</td>\n",
       "    </tr>\n",
       "    <tr>\n",
       "      <th>1020491</th>\n",
       "      <td>     ESR1</td>\n",
       "      <td>    hs_hivprot</td>\n",
       "    </tr>\n",
       "    <tr>\n",
       "      <th>1020492</th>\n",
       "      <td>      APP</td>\n",
       "      <td>    hs_hivprot</td>\n",
       "    </tr>\n",
       "    <tr>\n",
       "      <th>1020493</th>\n",
       "      <td> HLA-DRB1</td>\n",
       "      <td>    hs_hivprot</td>\n",
       "    </tr>\n",
       "    <tr>\n",
       "      <th>1020494</th>\n",
       "      <td>   SLC6A4</td>\n",
       "      <td>    hs_hivprot</td>\n",
       "    </tr>\n",
       "    <tr>\n",
       "      <th>1020495</th>\n",
       "      <td>      UBC</td>\n",
       "      <td>    hs_hivprot</td>\n",
       "    </tr>\n",
       "    <tr>\n",
       "      <th>1020496</th>\n",
       "      <td>     IL10</td>\n",
       "      <td>    hs_hivprot</td>\n",
       "    </tr>\n",
       "    <tr>\n",
       "      <th>1020497</th>\n",
       "      <td>    BRCA1</td>\n",
       "      <td>    hs_hivprot</td>\n",
       "    </tr>\n",
       "    <tr>\n",
       "      <th>1020498</th>\n",
       "      <td>    PTGS2</td>\n",
       "      <td>    hs_hivprot</td>\n",
       "    </tr>\n",
       "    <tr>\n",
       "      <th>1020499</th>\n",
       "      <td>    NFKB1</td>\n",
       "      <td>    hs_hivprot</td>\n",
       "    </tr>\n",
       "    <tr>\n",
       "      <th>1020500</th>\n",
       "      <td>    HIF1A</td>\n",
       "      <td>    hs_hivprot</td>\n",
       "    </tr>\n",
       "    <tr>\n",
       "      <th>1020501</th>\n",
       "      <td>   ADIPOQ</td>\n",
       "      <td>    hs_hivprot</td>\n",
       "    </tr>\n",
       "    <tr>\n",
       "      <th>1020502</th>\n",
       "      <td>    ABCB1</td>\n",
       "      <td>    hs_hivprot</td>\n",
       "    </tr>\n",
       "    <tr>\n",
       "      <th>1020503</th>\n",
       "      <td>     MMP9</td>\n",
       "      <td>    hs_hivprot</td>\n",
       "    </tr>\n",
       "    <tr>\n",
       "      <th>1020504</th>\n",
       "      <td>     NOS3</td>\n",
       "      <td>    hs_hivprot</td>\n",
       "    </tr>\n",
       "    <tr>\n",
       "      <th>1020505</th>\n",
       "      <td>     IL1B</td>\n",
       "      <td>    hs_hivprot</td>\n",
       "    </tr>\n",
       "    <tr>\n",
       "      <th>1020506</th>\n",
       "      <td>   CDKN2A</td>\n",
       "      <td>    hs_hivprot</td>\n",
       "    </tr>\n",
       "    <tr>\n",
       "      <th>1020507</th>\n",
       "      <td>    PPARG</td>\n",
       "      <td>    hs_hivprot</td>\n",
       "    </tr>\n",
       "    <tr>\n",
       "      <th>1020508</th>\n",
       "      <td>     AKT1</td>\n",
       "      <td>    hs_hivprot</td>\n",
       "    </tr>\n",
       "    <tr>\n",
       "      <th>1020509</th>\n",
       "      <td>    HLA-B</td>\n",
       "      <td>    hs_hivprot</td>\n",
       "    </tr>\n",
       "    <tr>\n",
       "      <th>1020510</th>\n",
       "      <td>      VDR</td>\n",
       "      <td>    hs_hivprot</td>\n",
       "    </tr>\n",
       "    <tr>\n",
       "      <th>1020511</th>\n",
       "      <td>     COMT</td>\n",
       "      <td>    hs_hivprot</td>\n",
       "    </tr>\n",
       "    <tr>\n",
       "      <th>1020512</th>\n",
       "      <td>    CXCL8</td>\n",
       "      <td>    hs_hivprot</td>\n",
       "    </tr>\n",
       "    <tr>\n",
       "      <th>...</th>\n",
       "      <td>...</td>\n",
       "      <td>...</td>\n",
       "    </tr>\n",
       "    <tr>\n",
       "      <th>1033761</th>\n",
       "      <td>    IFNB1</td>\n",
       "      <td>   hiv156110.0</td>\n",
       "    </tr>\n",
       "    <tr>\n",
       "      <th>1033762</th>\n",
       "      <td>     IRF1</td>\n",
       "      <td>   hiv156110.0</td>\n",
       "    </tr>\n",
       "    <tr>\n",
       "      <th>1033763</th>\n",
       "      <td>     IRF2</td>\n",
       "      <td>   hiv156110.0</td>\n",
       "    </tr>\n",
       "    <tr>\n",
       "      <th>1033764</th>\n",
       "      <td>     IL18</td>\n",
       "      <td>   hiv156110.0</td>\n",
       "    </tr>\n",
       "    <tr>\n",
       "      <th>1033765</th>\n",
       "      <td>    CXCL8</td>\n",
       "      <td>   hiv156110.0</td>\n",
       "    </tr>\n",
       "    <tr>\n",
       "      <th>1033766</th>\n",
       "      <td>  CYP51A1</td>\n",
       "      <td>   hiv156110.0</td>\n",
       "    </tr>\n",
       "    <tr>\n",
       "      <th>1033767</th>\n",
       "      <td>     LDLR</td>\n",
       "      <td>   hiv156110.0</td>\n",
       "    </tr>\n",
       "    <tr>\n",
       "      <th>1033768</th>\n",
       "      <td>     CD58</td>\n",
       "      <td>   hiv156110.0</td>\n",
       "    </tr>\n",
       "    <tr>\n",
       "      <th>1033769</th>\n",
       "      <td>      KIT</td>\n",
       "      <td>   hiv156110.0</td>\n",
       "    </tr>\n",
       "    <tr>\n",
       "      <th>1033770</th>\n",
       "      <td>     NRP1</td>\n",
       "      <td>   hiv156110.0</td>\n",
       "    </tr>\n",
       "    <tr>\n",
       "      <th>1033771</th>\n",
       "      <td>     PRF1</td>\n",
       "      <td>   hiv156110.0</td>\n",
       "    </tr>\n",
       "    <tr>\n",
       "      <th>1033772</th>\n",
       "      <td>    PDCD1</td>\n",
       "      <td>   hiv156110.0</td>\n",
       "    </tr>\n",
       "    <tr>\n",
       "      <th>1033773</th>\n",
       "      <td>    PTK2B</td>\n",
       "      <td>   hiv156110.0</td>\n",
       "    </tr>\n",
       "    <tr>\n",
       "      <th>1033774</th>\n",
       "      <td>    PTPRC</td>\n",
       "      <td>   hiv156110.0</td>\n",
       "    </tr>\n",
       "    <tr>\n",
       "      <th>1033775</th>\n",
       "      <td>      RB1</td>\n",
       "      <td>   hiv156110.0</td>\n",
       "    </tr>\n",
       "    <tr>\n",
       "      <th>1033776</th>\n",
       "      <td>   SREBF2</td>\n",
       "      <td>   hiv156110.0</td>\n",
       "    </tr>\n",
       "    <tr>\n",
       "      <th>1033777</th>\n",
       "      <td>    SOCS1</td>\n",
       "      <td>   hiv156110.0</td>\n",
       "    </tr>\n",
       "    <tr>\n",
       "      <th>1033778</th>\n",
       "      <td>     TLR2</td>\n",
       "      <td>   hiv156110.0</td>\n",
       "    </tr>\n",
       "    <tr>\n",
       "      <th>1033779</th>\n",
       "      <td>    TCEB3</td>\n",
       "      <td>   hiv156110.0</td>\n",
       "    </tr>\n",
       "    <tr>\n",
       "      <th>1033780</th>\n",
       "      <td>  TNFSF14</td>\n",
       "      <td>   hiv156110.0</td>\n",
       "    </tr>\n",
       "    <tr>\n",
       "      <th>1033781</th>\n",
       "      <td>    FASLG</td>\n",
       "      <td>   hiv156110.0</td>\n",
       "    </tr>\n",
       "    <tr>\n",
       "      <th>1033782</th>\n",
       "      <td>    SNRPA</td>\n",
       "      <td>   hiv156110.0</td>\n",
       "    </tr>\n",
       "    <tr>\n",
       "      <th>1033783</th>\n",
       "      <td>     FLT1</td>\n",
       "      <td>   hiv156110.0</td>\n",
       "    </tr>\n",
       "    <tr>\n",
       "      <th>1033784</th>\n",
       "      <td>      KDR</td>\n",
       "      <td>   hiv156110.0</td>\n",
       "    </tr>\n",
       "    <tr>\n",
       "      <th>1033785</th>\n",
       "      <td>     ZEB1</td>\n",
       "      <td>   hiv156110.0</td>\n",
       "    </tr>\n",
       "    <tr>\n",
       "      <th>1033786</th>\n",
       "      <td> MAP1LC3B</td>\n",
       "      <td> hiv19424028.0</td>\n",
       "    </tr>\n",
       "    <tr>\n",
       "      <th>1033787</th>\n",
       "      <td>    NFKB1</td>\n",
       "      <td> hiv19424028.0</td>\n",
       "    </tr>\n",
       "    <tr>\n",
       "      <th>1033788</th>\n",
       "      <td>     USF1</td>\n",
       "      <td> hiv19424028.0</td>\n",
       "    </tr>\n",
       "    <tr>\n",
       "      <th>1033789</th>\n",
       "      <td>      TNF</td>\n",
       "      <td> hiv19424028.0</td>\n",
       "    </tr>\n",
       "    <tr>\n",
       "      <th>1033790</th>\n",
       "      <td>    BECN1</td>\n",
       "      <td> hiv19424028.0</td>\n",
       "    </tr>\n",
       "  </tbody>\n",
       "</table>\n",
       "<p>13308 rows × 2 columns</p>\n",
       "</div>"
      ],
      "text/plain": [
       "           symbol  go_identifier\n",
       "1020483      TP53     hs_hivprot\n",
       "1020484      APOE     hs_hivprot\n",
       "1020485       TNF     hs_hivprot\n",
       "1020486      EGFR     hs_hivprot\n",
       "1020487     VEGFA     hs_hivprot\n",
       "1020488       IL6     hs_hivprot\n",
       "1020489     TGFB1     hs_hivprot\n",
       "1020490       ACE     hs_hivprot\n",
       "1020491      ESR1     hs_hivprot\n",
       "1020492       APP     hs_hivprot\n",
       "1020493  HLA-DRB1     hs_hivprot\n",
       "1020494    SLC6A4     hs_hivprot\n",
       "1020495       UBC     hs_hivprot\n",
       "1020496      IL10     hs_hivprot\n",
       "1020497     BRCA1     hs_hivprot\n",
       "1020498     PTGS2     hs_hivprot\n",
       "1020499     NFKB1     hs_hivprot\n",
       "1020500     HIF1A     hs_hivprot\n",
       "1020501    ADIPOQ     hs_hivprot\n",
       "1020502     ABCB1     hs_hivprot\n",
       "1020503      MMP9     hs_hivprot\n",
       "1020504      NOS3     hs_hivprot\n",
       "1020505      IL1B     hs_hivprot\n",
       "1020506    CDKN2A     hs_hivprot\n",
       "1020507     PPARG     hs_hivprot\n",
       "1020508      AKT1     hs_hivprot\n",
       "1020509     HLA-B     hs_hivprot\n",
       "1020510       VDR     hs_hivprot\n",
       "1020511      COMT     hs_hivprot\n",
       "1020512     CXCL8     hs_hivprot\n",
       "...           ...            ...\n",
       "1033761     IFNB1    hiv156110.0\n",
       "1033762      IRF1    hiv156110.0\n",
       "1033763      IRF2    hiv156110.0\n",
       "1033764      IL18    hiv156110.0\n",
       "1033765     CXCL8    hiv156110.0\n",
       "1033766   CYP51A1    hiv156110.0\n",
       "1033767      LDLR    hiv156110.0\n",
       "1033768      CD58    hiv156110.0\n",
       "1033769       KIT    hiv156110.0\n",
       "1033770      NRP1    hiv156110.0\n",
       "1033771      PRF1    hiv156110.0\n",
       "1033772     PDCD1    hiv156110.0\n",
       "1033773     PTK2B    hiv156110.0\n",
       "1033774     PTPRC    hiv156110.0\n",
       "1033775       RB1    hiv156110.0\n",
       "1033776    SREBF2    hiv156110.0\n",
       "1033777     SOCS1    hiv156110.0\n",
       "1033778      TLR2    hiv156110.0\n",
       "1033779     TCEB3    hiv156110.0\n",
       "1033780   TNFSF14    hiv156110.0\n",
       "1033781     FASLG    hiv156110.0\n",
       "1033782     SNRPA    hiv156110.0\n",
       "1033783      FLT1    hiv156110.0\n",
       "1033784       KDR    hiv156110.0\n",
       "1033785      ZEB1    hiv156110.0\n",
       "1033786  MAP1LC3B  hiv19424028.0\n",
       "1033787     NFKB1  hiv19424028.0\n",
       "1033788      USF1  hiv19424028.0\n",
       "1033789       TNF  hiv19424028.0\n",
       "1033790     BECN1  hiv19424028.0\n",
       "\n",
       "[13308 rows x 2 columns]"
      ]
     },
     "execution_count": 221,
     "metadata": {},
     "output_type": "execute_result"
    }
   ],
   "source": [
    "gene_to_cat2[gene_to_cat2[\"go_identifier\"].apply(lambda x: \"hiv\" in x)]#.set_index(\"go_identifier\").ix['hiv_protphen']"
   ]
  },
  {
   "cell_type": "code",
   "execution_count": 119,
   "metadata": {
    "collapsed": false
   },
   "outputs": [
    {
     "data": {
      "text/plain": [
       "'1.9.1'"
      ]
     },
     "execution_count": 119,
     "metadata": {},
     "output_type": "execute_result"
    }
   ],
   "source": [
    "np.__version__"
   ]
  },
  {
   "cell_type": "code",
   "execution_count": 79,
   "metadata": {
    "collapsed": false
   },
   "outputs": [
    {
     "data": {
      "text/plain": [
       "(470,)"
      ]
     },
     "execution_count": 79,
     "metadata": {},
     "output_type": "execute_result"
    }
   ],
   "source": [
    "te.peaks_per_feature.xs('CAE16',level=1).index.droplevel(1).unique().shape"
   ]
  },
  {
   "cell_type": "code",
   "execution_count": 128,
   "metadata": {
    "collapsed": false
   },
   "outputs": [
    {
     "data": {
      "text/plain": [
       "1162"
      ]
     },
     "execution_count": 128,
     "metadata": {},
     "output_type": "execute_result"
    }
   ],
   "source": [
    "((gene_df['end'].iloc[:-1].values - gene_df.reset_index()['start'].iloc[1:].values)>0).sum()"
   ]
  },
  {
   "cell_type": "code",
   "execution_count": 127,
   "metadata": {
    "collapsed": false
   },
   "outputs": [
    {
     "data": {
      "text/plain": [
       "5769"
      ]
     },
     "execution_count": 127,
     "metadata": {},
     "output_type": "execute_result"
    }
   ],
   "source": [
    "((feature_df['end'].iloc[:-1].values - feature_df.reset_index()['start'].iloc[1:].values)>0).sum()"
   ]
  },
  {
   "cell_type": "code",
   "execution_count": null,
   "metadata": {
    "collapsed": false
   },
   "outputs": [],
   "source": []
  },
  {
   "cell_type": "code",
   "execution_count": 235,
   "metadata": {
    "collapsed": false
   },
   "outputs": [],
   "source": [
    "d = {i:[gene_df.iloc[int(i % len(gene_df))]] for i in range(10000)}"
   ]
  },
  {
   "cell_type": "code",
   "execution_count": 230,
   "metadata": {
    "collapsed": false
   },
   "outputs": [],
   "source": [
    "import sys"
   ]
  },
  {
   "cell_type": "code",
   "execution_count": 236,
   "metadata": {
    "collapsed": false
   },
   "outputs": [
    {
     "data": {
      "text/plain": [
       "0.786712"
      ]
     },
     "execution_count": 236,
     "metadata": {},
     "output_type": "execute_result"
    }
   ],
   "source": [
    "sys.getsizeof(d)/1000000."
   ]
  },
  {
   "cell_type": "code",
   "execution_count": 245,
   "metadata": {
    "collapsed": false
   },
   "outputs": [],
   "source": [
    "m = np.random.randint(0,1,(20000,20000))"
   ]
  },
  {
   "cell_type": "code",
   "execution_count": 246,
   "metadata": {
    "collapsed": false
   },
   "outputs": [
    {
     "data": {
      "text/plain": [
       "80"
      ]
     },
     "execution_count": 246,
     "metadata": {},
     "output_type": "execute_result"
    }
   ],
   "source": [
    "sys.getsizeof(m)"
   ]
  },
  {
   "cell_type": "code",
   "execution_count": 329,
   "metadata": {
    "collapsed": false
   },
   "outputs": [],
   "source": [
    "trod_s = pd.Series(0,index=pd.MultiIndex.from_arrays([['CAE1']*20,np.arange(20)]))"
   ]
  },
  {
   "cell_type": "code",
   "execution_count": 330,
   "metadata": {
    "collapsed": false
   },
   "outputs": [],
   "source": [
    "trod_s.index.names = ['chrom','pos']\n",
    "trod_s.name = 'score'"
   ]
  },
  {
   "cell_type": "code",
   "execution_count": 273,
   "metadata": {
    "collapsed": false
   },
   "outputs": [
    {
     "data": {
      "text/plain": [
       "chrom  pos\n",
       "CAE1   0      0\n",
       "       1      0\n",
       "       2      0\n",
       "       3      0\n",
       "       4      0\n",
       "       5      0\n",
       "       6      0\n",
       "       7      0\n",
       "       8      0\n",
       "       9      0\n",
       "       10     0\n",
       "       11     0\n",
       "       12     0\n",
       "       13     0\n",
       "       14     0\n",
       "       15     0\n",
       "       16     0\n",
       "       17     0\n",
       "       18     0\n",
       "       19     0\n",
       "dtype: int64"
      ]
     },
     "execution_count": 273,
     "metadata": {},
     "output_type": "execute_result"
    }
   ],
   "source": []
  },
  {
   "cell_type": "code",
   "execution_count": 331,
   "metadata": {
    "collapsed": false
   },
   "outputs": [],
   "source": [
    "tgene_df = gene_df.iloc[:3]\n",
    "tgene_df.index = pd.MultiIndex.from_arrays([['CAE1']*3,[2,9,11]])\n",
    "tgene_df.loc[:,'end'] = [7,18,17]\n",
    "tgene_df.index.names = ['chrom','pos']"
   ]
  },
  {
   "cell_type": "code",
   "execution_count": 268,
   "metadata": {
    "collapsed": false
   },
   "outputs": [
    {
     "data": {
      "text/html": [
       "<div style=\"max-height:1000px;max-width:1500px;overflow:auto;\">\n",
       "<table border=\"1\" class=\"dataframe\">\n",
       "  <thead>\n",
       "    <tr style=\"text-align: right;\">\n",
       "      <th></th>\n",
       "      <th></th>\n",
       "      <th>end</th>\n",
       "      <th>symbol</th>\n",
       "    </tr>\n",
       "    <tr>\n",
       "      <th>chrom</th>\n",
       "      <th>pos</th>\n",
       "      <th></th>\n",
       "      <th></th>\n",
       "    </tr>\n",
       "  </thead>\n",
       "  <tbody>\n",
       "    <tr>\n",
       "      <th rowspan=\"3\" valign=\"top\">CAE1</th>\n",
       "      <th>2 </th>\n",
       "      <td>  7</td>\n",
       "      <td> SCGB1C1</td>\n",
       "    </tr>\n",
       "    <tr>\n",
       "      <th>9 </th>\n",
       "      <td> 18</td>\n",
       "      <td>    ODF3</td>\n",
       "    </tr>\n",
       "    <tr>\n",
       "      <th>11</th>\n",
       "      <td> 17</td>\n",
       "      <td>   BET1L</td>\n",
       "    </tr>\n",
       "  </tbody>\n",
       "</table>\n",
       "</div>"
      ],
      "text/plain": [
       "           end   symbol\n",
       "chrom pos              \n",
       "CAE1  2      7  SCGB1C1\n",
       "      9     18     ODF3\n",
       "      11    17    BET1L"
      ]
     },
     "execution_count": 268,
     "metadata": {},
     "output_type": "execute_result"
    }
   ],
   "source": [
    "tgene_df"
   ]
  },
  {
   "cell_type": "code",
   "execution_count": 264,
   "metadata": {
    "collapsed": false
   },
   "outputs": [],
   "source": [
    "from hs_vervet.tools import hs_pandas as hpd"
   ]
  },
  {
   "cell_type": "code",
   "execution_count": 272,
   "metadata": {
    "collapsed": false
   },
   "outputs": [
    {
     "data": {
      "text/html": [
       "<div style=\"max-height:1000px;max-width:1500px;overflow:auto;\">\n",
       "<table border=\"1\" class=\"dataframe\">\n",
       "  <thead>\n",
       "    <tr style=\"text-align: right;\">\n",
       "      <th></th>\n",
       "      <th></th>\n",
       "      <th>0</th>\n",
       "      <th>symbol</th>\n",
       "    </tr>\n",
       "    <tr>\n",
       "      <th>chrom</th>\n",
       "      <th>pos</th>\n",
       "      <th></th>\n",
       "      <th></th>\n",
       "    </tr>\n",
       "  </thead>\n",
       "  <tbody>\n",
       "    <tr>\n",
       "      <th rowspan=\"7\" valign=\"top\">CAE1</th>\n",
       "      <th>3 </th>\n",
       "      <td> 0</td>\n",
       "      <td> SCGB1C1</td>\n",
       "    </tr>\n",
       "    <tr>\n",
       "      <th>4 </th>\n",
       "      <td> 0</td>\n",
       "      <td> SCGB1C1</td>\n",
       "    </tr>\n",
       "    <tr>\n",
       "      <th>5 </th>\n",
       "      <td> 0</td>\n",
       "      <td> SCGB1C1</td>\n",
       "    </tr>\n",
       "    <tr>\n",
       "      <th>6 </th>\n",
       "      <td> 0</td>\n",
       "      <td> SCGB1C1</td>\n",
       "    </tr>\n",
       "    <tr>\n",
       "      <th>7 </th>\n",
       "      <td> 0</td>\n",
       "      <td> SCGB1C1</td>\n",
       "    </tr>\n",
       "    <tr>\n",
       "      <th>10</th>\n",
       "      <td> 0</td>\n",
       "      <td>    ODF3</td>\n",
       "    </tr>\n",
       "    <tr>\n",
       "      <th>11</th>\n",
       "      <td> 0</td>\n",
       "      <td>    ODF3</td>\n",
       "    </tr>\n",
       "  </tbody>\n",
       "</table>\n",
       "</div>"
      ],
      "text/plain": [
       "           0   symbol\n",
       "chrom pos            \n",
       "CAE1  3    0  SCGB1C1\n",
       "      4    0  SCGB1C1\n",
       "      5    0  SCGB1C1\n",
       "      6    0  SCGB1C1\n",
       "      7    0  SCGB1C1\n",
       "      10   0     ODF3\n",
       "      11   0     ODF3"
      ]
     },
     "execution_count": 272,
     "metadata": {},
     "output_type": "execute_result"
    }
   ],
   "source": [
    "hpd.data_per_feature(trod_s, tgene_df, feature_name='symbol')"
   ]
  },
  {
   "cell_type": "code",
   "execution_count": 18,
   "metadata": {
    "collapsed": false
   },
   "outputs": [],
   "source": [
    "def get_features_per_data(peak_s, feature_df, feature_name='feature', max_dist=0):\n",
    "    \"\"\"\n",
    "    take the input data series and gets a similar series\n",
    "    with one entry per pair data-point gene\n",
    "    (i.e., there can be 0,1 or more entries per data point)\n",
    "    \n",
    "    \"\"\"\n",
    "    all_features = []\n",
    "    if not feature_df.index.is_monotonic:\n",
    "        feature_df = feature_df.sort_index()\n",
    "    tot_hit_df = pd.DataFrame()\n",
    "    for chrom in peak_s.index.droplevel(1).unique():\n",
    "        loc_feature_df = feature_df.ix[chrom]\n",
    "        #loc_feature_df = loc_feature_df.append(pd.DataFrame(np.nan,index=[np.inf],columns=loc_feature_df.columns))\n",
    "        #print loc_feature_df.index-max_dist, peak_s.ix[chrom].index.values\n",
    "        #try:\n",
    "        pos_rel_to_start = np.searchsorted(loc_feature_df.index.values-max_dist,peak_s.ix[chrom].index.values)\n",
    "        #except:\n",
    "        #    print chrom, peak_s.ix[chrom]\n",
    "        pos_rel_to_end = np.searchsorted(loc_feature_df[\"end\"].values+max_dist,peak_s.ix[chrom].index.values)\n",
    "        features_per_datapoint = (pos_rel_to_start - pos_rel_to_end)\n",
    "        print chrom, features_per_datapoint.shape\n",
    "        data_idx = [i for i in range(len(features_per_datapoint)) for j in range(features_per_datapoint[i])]\n",
    "        features = loc_feature_df[feature_name].iloc[np.hstack([range(a,b) for a,b in zip(pos_rel_to_end,pos_rel_to_start)])].values\n",
    "        data_df = pd.DataFrame(peak_s.ix[chrom].iloc[data_idx])\n",
    "        data_df[feature_name] = features\n",
    "        data_df['chrom'] = chrom\n",
    "        all_features.append(data_df)\n",
    "    fpd=pd.concat(all_features)    \n",
    "    #fpd.set_index(['chrom'],append=True,inplace=True)\n",
    "    #fpd = dpf.reorder_levels(['chrom','pos'])\n",
    "    g = fpd.reset_index().groupby(['chrom','pos'])\n",
    "    def get_series_of_features(gdf):\n",
    "        features = gdf[feature_name].unique()\n",
    "        r = pd.Series({i:s for i,s in enumerate(features)})\n",
    "        df = pd.DataFrame({feature_name:r,peak_s.name:gdf[peak_s.name].values[0]})\n",
    "        return df\n",
    "    d = g.apply(get_series_of_features)\n",
    "    d.index.names = ['chrom','pos','number']\n",
    "    return  d"
   ]
  },
  {
   "cell_type": "code",
   "execution_count": 22,
   "metadata": {
    "collapsed": false
   },
   "outputs": [],
   "source": [
    "def get_features(peak_s, feature_df, feature_name='feature', max_dist=0):\n",
    "    \"\"\"\n",
    "    take the input series and gets.\n",
    "    names of features nearby\n",
    "\n",
    "    Input:\n",
    "    peak_s ... pandas series with (chrom, pos) index and value of\n",
    "                the statistic ('peak height'). Series should be named.\n",
    "    feature_df ... data frame with feature info.\n",
    "    \"\"\"\n",
    "    all_features = []\n",
    "    if not feature_df.index.is_monotonic:\n",
    "        feature_df = feature_df.sort_index()\n",
    "    tot_hit_df = pd.DataFrame()\n",
    "    for chrom in peak_s.index.droplevel(1).unique():\n",
    "        loc_feature_df = feature_df.ix[chrom]\n",
    "        #loc_feature_df = loc_feature_df.append(pd.DataFrame(np.nan,index=[np.inf],columns=loc_feature_df.columns))\n",
    "        #print loc_feature_df.index-max_dist, peak_s.ix[chrom].index.values\n",
    "        #try:\n",
    "        pos_rel_to_start = np.searchsorted(loc_feature_df.index.values-max_dist,peak_s.ix[chrom].index.values)\n",
    "        #except:\n",
    "        #    print chrom, peak_s.ix[chrom]\n",
    "        pos_rel_to_end = np.searchsorted(loc_feature_df[\"end\"].values+max_dist,peak_s.ix[chrom].index.values)\n",
    "        features = list(set(loc_feature_df[feature_name].iloc[np.hstack([range(a,b) for a,b in zip(pos_rel_to_end,pos_rel_to_start)])]))\n",
    "        all_features += features\n",
    "    return all_features"
   ]
  },
  {
   "cell_type": "code",
   "execution_count": null,
   "metadata": {
    "collapsed": false
   },
   "outputs": [],
   "source": []
  },
  {
   "cell_type": "code",
   "execution_count": 502,
   "metadata": {
    "collapsed": false
   },
   "outputs": [],
   "source": [
    "def shift_rod(rod_df, rnd, mode = \"grid\"):\n",
    "    \"\"\"\n",
    "    shift reference ordered data across the whole genome\n",
    "\n",
    "    Input:\n",
    "    rod_df ... pandas dataframe or series with mulitiindex (chrom, pos)\n",
    "\n",
    "    modes ...\n",
    "        'grid' ... just rotate the index of the rod data frame\n",
    "                    this means that the positions stay the same only the\n",
    "                    value for each position becomes different\n",
    "                    Faster, but means that you only hit the same grid-point\n",
    "                    this should make it conservative on large grids. Large\n",
    "                    grids are problematic if the fraction of top windows.\n",
    "                    considered becomes large.\n",
    "        'continuous' ... add the random shift to each index value.\n",
    "                         NOT IMPLEMENTED\n",
    "    \"\"\"\n",
    "    if mode == \"grid\":\n",
    "        new_start_i = int(len(rod_df)*rnd)\n",
    "        rotate_data = np.concatenate((rod_df.iloc[new_start_i:].values,rod_df.iloc[:new_start_i].values))\n",
    "        if  isinstance(rod_df,pd.core.series.Series):\n",
    "            r = pd.Series(rotate_data,index=rod_df.index)\n",
    "            return r\n",
    "        elif isinstance(rod_df,pd.core.frame.DataFrame):\n",
    "            r = pd.DataFrame(rotate_data,index=rod_df.index,columns=rod_df.columns)\n",
    "            return r\n",
    "    else:\n",
    "        raise UserException(\"Only mode grid supported.\")"
   ]
  },
  {
   "cell_type": "code",
   "execution_count": null,
   "metadata": {
    "collapsed": false
   },
   "outputs": [],
   "source": [
    "def features_per_data_to_data_per_features(fpd, feature_name='features'):\n",
    "    return fpd.reset_index().set_index(feature_name).sort_index()"
   ]
  },
  {
   "cell_type": "code",
   "execution_count": 17,
   "metadata": {
    "collapsed": false
   },
   "outputs": [],
   "source": [
    "rod_s0 = rod_s.iloc[:88230]"
   ]
  },
  {
   "cell_type": "code",
   "execution_count": 19,
   "metadata": {
    "collapsed": false
   },
   "outputs": [
    {
     "name": "stdout",
     "output_type": "stream",
     "text": [
      "CAE1 (88230,)\n"
     ]
    }
   ],
   "source": [
    "r = get_features_per_data(rod_s0, gene_df, feature_name='gene_id', max_dist=10000)"
   ]
  },
  {
   "cell_type": "code",
   "execution_count": 508,
   "metadata": {
    "collapsed": false
   },
   "outputs": [],
   "source": [
    "r2.index = r2.index.droplevel(2)"
   ]
  },
  {
   "cell_type": "code",
   "execution_count": 540,
   "metadata": {
    "collapsed": false
   },
   "outputs": [],
   "source": [
    "srod_s = shift_rod(rod_s,rnd=np.random.rand())\n",
    "srod_s.name = 'Likelihood'"
   ]
  },
  {
   "cell_type": "code",
   "execution_count": 541,
   "metadata": {
    "collapsed": false
   },
   "outputs": [],
   "source": [
    "shifted_r2 = r2.drop('Likelihood',axis=1).join(srod_s)"
   ]
  },
  {
   "cell_type": "code",
   "execution_count": 448,
   "metadata": {
    "collapsed": false
   },
   "outputs": [],
   "source": [
    "top500 = rod_s.sort(inplace=False,ascending=False).iloc[:3000]"
   ]
  },
  {
   "cell_type": "code",
   "execution_count": 423,
   "metadata": {
    "collapsed": false
   },
   "outputs": [],
   "source": [
    "r2 = r.copy()"
   ]
  },
  {
   "cell_type": "code",
   "execution_count": 424,
   "metadata": {
    "collapsed": false
   },
   "outputs": [],
   "source": [
    "r2 = r2.reset_index().set_index(['chrom','pos'])"
   ]
  },
  {
   "cell_type": "code",
   "execution_count": 449,
   "metadata": {
    "collapsed": false
   },
   "outputs": [],
   "source": [
    "in_peaks = r2.ix[top500.index].dropna()"
   ]
  },
  {
   "cell_type": "code",
   "execution_count": 450,
   "metadata": {
    "collapsed": false
   },
   "outputs": [],
   "source": [
    "in_peaks.index = pd.MultiIndex.from_tuples(in_peaks.index)"
   ]
  },
  {
   "cell_type": "code",
   "execution_count": null,
   "metadata": {
    "collapsed": false
   },
   "outputs": [],
   "source": [
    "in_peaks."
   ]
  },
  {
   "cell_type": "code",
   "execution_count": 453,
   "metadata": {
    "collapsed": false
   },
   "outputs": [],
   "source": [
    "in_peaks.sortlevel(inplace=True)"
   ]
  },
  {
   "cell_type": "code",
   "execution_count": 475,
   "metadata": {
    "collapsed": false
   },
   "outputs": [],
   "source": []
  },
  {
   "cell_type": "code",
   "execution_count": 476,
   "metadata": {
    "collapsed": false
   },
   "outputs": [
    {
     "data": {
      "text/html": [
       "<div style=\"max-height:1000px;max-width:1500px;overflow:auto;\">\n",
       "<table border=\"1\" class=\"dataframe\">\n",
       "  <thead>\n",
       "    <tr style=\"text-align: right;\">\n",
       "      <th></th>\n",
       "      <th>chrom</th>\n",
       "      <th>pos</th>\n",
       "      <th>level_2</th>\n",
       "      <th>score</th>\n",
       "    </tr>\n",
       "    <tr>\n",
       "      <th>symbol</th>\n",
       "      <th></th>\n",
       "      <th></th>\n",
       "      <th></th>\n",
       "      <th></th>\n",
       "    </tr>\n",
       "  </thead>\n",
       "  <tbody>\n",
       "    <tr>\n",
       "      <th>BET1L</th>\n",
       "      <td> CAE1</td>\n",
       "      <td> 12</td>\n",
       "      <td> 1</td>\n",
       "      <td> 0</td>\n",
       "    </tr>\n",
       "    <tr>\n",
       "      <th>BET1L</th>\n",
       "      <td> CAE1</td>\n",
       "      <td> 13</td>\n",
       "      <td> 1</td>\n",
       "      <td> 0</td>\n",
       "    </tr>\n",
       "    <tr>\n",
       "      <th>BET1L</th>\n",
       "      <td> CAE1</td>\n",
       "      <td> 14</td>\n",
       "      <td> 1</td>\n",
       "      <td> 0</td>\n",
       "    </tr>\n",
       "    <tr>\n",
       "      <th>BET1L</th>\n",
       "      <td> CAE1</td>\n",
       "      <td> 15</td>\n",
       "      <td> 1</td>\n",
       "      <td> 0</td>\n",
       "    </tr>\n",
       "    <tr>\n",
       "      <th>BET1L</th>\n",
       "      <td> CAE1</td>\n",
       "      <td> 16</td>\n",
       "      <td> 1</td>\n",
       "      <td> 0</td>\n",
       "    </tr>\n",
       "    <tr>\n",
       "      <th>BET1L</th>\n",
       "      <td> CAE1</td>\n",
       "      <td> 17</td>\n",
       "      <td> 1</td>\n",
       "      <td> 0</td>\n",
       "    </tr>\n",
       "    <tr>\n",
       "      <th>ODF3</th>\n",
       "      <td> CAE1</td>\n",
       "      <td> 10</td>\n",
       "      <td> 0</td>\n",
       "      <td> 0</td>\n",
       "    </tr>\n",
       "    <tr>\n",
       "      <th>ODF3</th>\n",
       "      <td> CAE1</td>\n",
       "      <td> 11</td>\n",
       "      <td> 0</td>\n",
       "      <td> 0</td>\n",
       "    </tr>\n",
       "    <tr>\n",
       "      <th>ODF3</th>\n",
       "      <td> CAE1</td>\n",
       "      <td> 12</td>\n",
       "      <td> 0</td>\n",
       "      <td> 0</td>\n",
       "    </tr>\n",
       "    <tr>\n",
       "      <th>ODF3</th>\n",
       "      <td> CAE1</td>\n",
       "      <td> 13</td>\n",
       "      <td> 0</td>\n",
       "      <td> 0</td>\n",
       "    </tr>\n",
       "    <tr>\n",
       "      <th>ODF3</th>\n",
       "      <td> CAE1</td>\n",
       "      <td> 14</td>\n",
       "      <td> 0</td>\n",
       "      <td> 0</td>\n",
       "    </tr>\n",
       "    <tr>\n",
       "      <th>ODF3</th>\n",
       "      <td> CAE1</td>\n",
       "      <td> 15</td>\n",
       "      <td> 0</td>\n",
       "      <td> 0</td>\n",
       "    </tr>\n",
       "    <tr>\n",
       "      <th>ODF3</th>\n",
       "      <td> CAE1</td>\n",
       "      <td> 16</td>\n",
       "      <td> 0</td>\n",
       "      <td> 0</td>\n",
       "    </tr>\n",
       "    <tr>\n",
       "      <th>ODF3</th>\n",
       "      <td> CAE1</td>\n",
       "      <td> 17</td>\n",
       "      <td> 0</td>\n",
       "      <td> 0</td>\n",
       "    </tr>\n",
       "    <tr>\n",
       "      <th>SCGB1C1</th>\n",
       "      <td> CAE1</td>\n",
       "      <td>  3</td>\n",
       "      <td> 0</td>\n",
       "      <td> 0</td>\n",
       "    </tr>\n",
       "    <tr>\n",
       "      <th>SCGB1C1</th>\n",
       "      <td> CAE1</td>\n",
       "      <td>  4</td>\n",
       "      <td> 0</td>\n",
       "      <td> 0</td>\n",
       "    </tr>\n",
       "    <tr>\n",
       "      <th>SCGB1C1</th>\n",
       "      <td> CAE1</td>\n",
       "      <td>  5</td>\n",
       "      <td> 0</td>\n",
       "      <td> 0</td>\n",
       "    </tr>\n",
       "    <tr>\n",
       "      <th>SCGB1C1</th>\n",
       "      <td> CAE1</td>\n",
       "      <td>  6</td>\n",
       "      <td> 0</td>\n",
       "      <td> 0</td>\n",
       "    </tr>\n",
       "    <tr>\n",
       "      <th>SCGB1C1</th>\n",
       "      <td> CAE1</td>\n",
       "      <td>  7</td>\n",
       "      <td> 0</td>\n",
       "      <td> 0</td>\n",
       "    </tr>\n",
       "  </tbody>\n",
       "</table>\n",
       "</div>"
      ],
      "text/plain": [
       "        chrom  pos  level_2  score\n",
       "symbol                            \n",
       "BET1L    CAE1   12        1      0\n",
       "BET1L    CAE1   13        1      0\n",
       "BET1L    CAE1   14        1      0\n",
       "BET1L    CAE1   15        1      0\n",
       "BET1L    CAE1   16        1      0\n",
       "BET1L    CAE1   17        1      0\n",
       "ODF3     CAE1   10        0      0\n",
       "ODF3     CAE1   11        0      0\n",
       "ODF3     CAE1   12        0      0\n",
       "ODF3     CAE1   13        0      0\n",
       "ODF3     CAE1   14        0      0\n",
       "ODF3     CAE1   15        0      0\n",
       "ODF3     CAE1   16        0      0\n",
       "ODF3     CAE1   17        0      0\n",
       "SCGB1C1  CAE1    3        0      0\n",
       "SCGB1C1  CAE1    4        0      0\n",
       "SCGB1C1  CAE1    5        0      0\n",
       "SCGB1C1  CAE1    6        0      0\n",
       "SCGB1C1  CAE1    7        0      0"
      ]
     },
     "execution_count": 476,
     "metadata": {},
     "output_type": "execute_result"
    }
   ],
   "source": [
    "get_features_per_data(trod_s, tgene_df, feature_name='symbol', max_dist=0).reset_index().set_index('symbol').sort_index()"
   ]
  },
  {
   "cell_type": "code",
   "execution_count": 414,
   "metadata": {
    "collapsed": false
   },
   "outputs": [
    {
     "data": {
      "text/plain": [
       "<pandas.core.groupby.DataFrameGroupBy object at 0x54c61ed0>"
      ]
     },
     "execution_count": 414,
     "metadata": {},
     "output_type": "execute_result"
    }
   ],
   "source": [
    "in_peaks.reset_index().groupby(['chrom','pos'])"
   ]
  },
  {
   "cell_type": "code",
   "execution_count": 350,
   "metadata": {
    "collapsed": false
   },
   "outputs": [],
   "source": [
    "def get_series_of_features(gdf):\n",
    "    features = gdf['symbol'].unique()\n",
    "    r = [s for i,s in enumerate(features)]\n",
    "    return r"
   ]
  },
  {
   "cell_type": "code",
   "execution_count": 351,
   "metadata": {
    "collapsed": false
   },
   "outputs": [],
   "source": [
    "d = g.apply(get_series_of_features)"
   ]
  },
  {
   "cell_type": "code",
   "execution_count": 352,
   "metadata": {
    "collapsed": false
   },
   "outputs": [
    {
     "data": {
      "text/plain": [
       "(CAE1, 3)         [SCGB1C1]\n",
       "(CAE1, 4)         [SCGB1C1]\n",
       "(CAE1, 5)         [SCGB1C1]\n",
       "(CAE1, 6)         [SCGB1C1]\n",
       "(CAE1, 7)         [SCGB1C1]\n",
       "(CAE1, 10)           [ODF3]\n",
       "(CAE1, 11)           [ODF3]\n",
       "(CAE1, 12)    [ODF3, BET1L]\n",
       "(CAE1, 13)    [ODF3, BET1L]\n",
       "(CAE1, 14)    [ODF3, BET1L]\n",
       "(CAE1, 15)    [ODF3, BET1L]\n",
       "(CAE1, 16)    [ODF3, BET1L]\n",
       "(CAE1, 17)    [ODF3, BET1L]\n",
       "dtype: object"
      ]
     },
     "execution_count": 352,
     "metadata": {},
     "output_type": "execute_result"
    }
   ],
   "source": [
    "d"
   ]
  },
  {
   "cell_type": "code",
   "execution_count": null,
   "metadata": {
    "collapsed": false
   },
   "outputs": [],
   "source": [
    "def "
   ]
  },
  {
   "cell_type": "code",
   "execution_count": 353,
   "metadata": {
    "collapsed": false
   },
   "outputs": [],
   "source": [
    "g2 = fpd.reset_index().groupby(['chrom','pos'])"
   ]
  },
  {
   "cell_type": "code",
   "execution_count": 362,
   "metadata": {
    "collapsed": false
   },
   "outputs": [],
   "source": [
    "def get_series_of_features2(gdf):\n",
    "    features = gdf['symbol'].unique()\n",
    "    r = pd.Series({i:s for i,s in enumerate(features)})\n",
    "    return r"
   ]
  },
  {
   "cell_type": "code",
   "execution_count": 363,
   "metadata": {
    "collapsed": false
   },
   "outputs": [
    {
     "data": {
      "text/plain": [
       "chrom  pos   \n",
       "CAE1   3    0    SCGB1C1\n",
       "       4    0    SCGB1C1\n",
       "       5    0    SCGB1C1\n",
       "       6    0    SCGB1C1\n",
       "       7    0    SCGB1C1\n",
       "       10   0       ODF3\n",
       "       11   0       ODF3\n",
       "       12   0       ODF3\n",
       "            1      BET1L\n",
       "       13   0       ODF3\n",
       "            1      BET1L\n",
       "       14   0       ODF3\n",
       "            1      BET1L\n",
       "       15   0       ODF3\n",
       "            1      BET1L\n",
       "       16   0       ODF3\n",
       "            1      BET1L\n",
       "       17   0       ODF3\n",
       "            1      BET1L\n",
       "dtype: object"
      ]
     },
     "execution_count": 363,
     "metadata": {},
     "output_type": "execute_result"
    }
   ],
   "source": [
    "d = g2.apply(get_series_of_features2)\n",
    "d"
   ]
  },
  {
   "cell_type": "code",
   "execution_count": 375,
   "metadata": {
    "collapsed": false
   },
   "outputs": [
    {
     "data": {
      "text/plain": [
       "FrozenList([u'chrom', u'pos', None])"
      ]
     },
     "execution_count": 375,
     "metadata": {},
     "output_type": "execute_result"
    }
   ],
   "source": [
    "d.index.names"
   ]
  },
  {
   "cell_type": "code",
   "execution_count": 477,
   "metadata": {
    "collapsed": false
   },
   "outputs": [
    {
     "data": {
      "text/html": [
       "<div style=\"max-height:1000px;max-width:1500px;overflow:auto;\">\n",
       "<table border=\"1\" class=\"dataframe\">\n",
       "  <thead>\n",
       "    <tr style=\"text-align: right;\">\n",
       "      <th></th>\n",
       "      <th></th>\n",
       "      <th>score</th>\n",
       "      <th>symbol</th>\n",
       "    </tr>\n",
       "    <tr>\n",
       "      <th>chrom</th>\n",
       "      <th>pos</th>\n",
       "      <th></th>\n",
       "      <th></th>\n",
       "    </tr>\n",
       "  </thead>\n",
       "  <tbody>\n",
       "    <tr>\n",
       "      <th rowspan=\"7\" valign=\"top\">CAE1</th>\n",
       "      <th>3 </th>\n",
       "      <td> 0</td>\n",
       "      <td> SCGB1C1</td>\n",
       "    </tr>\n",
       "    <tr>\n",
       "      <th>4 </th>\n",
       "      <td> 0</td>\n",
       "      <td> SCGB1C1</td>\n",
       "    </tr>\n",
       "    <tr>\n",
       "      <th>5 </th>\n",
       "      <td> 0</td>\n",
       "      <td> SCGB1C1</td>\n",
       "    </tr>\n",
       "    <tr>\n",
       "      <th>6 </th>\n",
       "      <td> 0</td>\n",
       "      <td> SCGB1C1</td>\n",
       "    </tr>\n",
       "    <tr>\n",
       "      <th>7 </th>\n",
       "      <td> 0</td>\n",
       "      <td> SCGB1C1</td>\n",
       "    </tr>\n",
       "    <tr>\n",
       "      <th>10</th>\n",
       "      <td> 0</td>\n",
       "      <td>    ODF3</td>\n",
       "    </tr>\n",
       "    <tr>\n",
       "      <th>11</th>\n",
       "      <td> 0</td>\n",
       "      <td>    ODF3</td>\n",
       "    </tr>\n",
       "  </tbody>\n",
       "</table>\n",
       "</div>"
      ],
      "text/plain": [
       "           score   symbol\n",
       "chrom pos                \n",
       "CAE1  3        0  SCGB1C1\n",
       "      4        0  SCGB1C1\n",
       "      5        0  SCGB1C1\n",
       "      6        0  SCGB1C1\n",
       "      7        0  SCGB1C1\n",
       "      10       0     ODF3\n",
       "      11       0     ODF3"
      ]
     },
     "execution_count": 477,
     "metadata": {},
     "output_type": "execute_result"
    }
   ],
   "source": [
    "hpd.data_per_feature(trod_s, tgene_df, feature_name='symbol')"
   ]
  },
  {
   "cell_type": "code",
   "execution_count": 295,
   "metadata": {
    "collapsed": false
   },
   "outputs": [
    {
     "data": {
      "text/plain": [
       "chrom  pos\n",
       "CAE1   0      0\n",
       "       1      0\n",
       "       2      0\n",
       "       3      0\n",
       "       0      0\n",
       "       1      0\n",
       "       2      0\n",
       "       3      0\n",
       "       0      0\n",
       "       1      0\n",
       "       2      0\n",
       "       3      0\n",
       "dtype: int64"
      ]
     },
     "execution_count": 295,
     "metadata": {},
     "output_type": "execute_result"
    }
   ],
   "source": [
    "trod_s.iloc[d]"
   ]
  },
  {
   "cell_type": "code",
   "execution_count": 46,
   "metadata": {
    "collapsed": false
   },
   "outputs": [],
   "source": [
    "fpdp = np.random.randint(0,10,10000)\n",
    "d = [i for i in range(len(fpdp)) for j in range(fpdp[i]) ]"
   ]
  },
  {
   "cell_type": "code",
   "execution_count": 47,
   "metadata": {
    "collapsed": false
   },
   "outputs": [
    {
     "data": {
      "text/plain": [
       "array([2, 2, 1, 4, 5, 4, 8, 1, 4, 1, 0, 0, 1, 6, 4, 7, 6, 2, 4, 4])"
      ]
     },
     "execution_count": 47,
     "metadata": {},
     "output_type": "execute_result"
    }
   ],
   "source": [
    "fpdp"
   ]
  },
  {
   "cell_type": "code",
   "execution_count": 31,
   "metadata": {
    "collapsed": false
   },
   "outputs": [
    {
     "name": "stdout",
     "output_type": "stream",
     "text": [
      "0\n",
      "1\n",
      "1\n",
      "3\n",
      "3\n",
      "3\n"
     ]
    }
   ],
   "source": [
    "for i in range(4):\n",
    "    for j in range(fpdp[i]):\n",
    "        print i"
   ]
  },
  {
   "cell_type": "code",
   "execution_count": 38,
   "metadata": {
    "collapsed": false
   },
   "outputs": [
    {
     "data": {
      "text/plain": [
       "[[0], [1, 1], [], [3, 3, 3]]"
      ]
     },
     "execution_count": 38,
     "metadata": {},
     "output_type": "execute_result"
    }
   ],
   "source": [
    "[[i]*j for i,j in zip(range(len(fpdp)),fpdp)]"
   ]
  },
  {
   "cell_type": "code",
   "execution_count": 28,
   "metadata": {
    "collapsed": false
   },
   "outputs": [
    {
     "name": "stdout",
     "output_type": "stream",
     "text": [
      "1 loops, best of 3: 31.6 s per loop\n"
     ]
    }
   ],
   "source": [
    "%timeit x = get_features(rod_s, gene_df, feature_name= 'gene_id')"
   ]
  },
  {
   "cell_type": "code",
   "execution_count": null,
   "metadata": {
    "collapsed": false
   },
   "outputs": [],
   "source": []
  }
 ],
 "metadata": {
  "kernelspec": {
   "display_name": "Python 2",
   "language": "python",
   "name": "python2"
  }
 },
 "nbformat": 4,
 "nbformat_minor": 0
}
