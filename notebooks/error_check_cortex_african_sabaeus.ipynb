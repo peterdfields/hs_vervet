{
 "metadata": {
  "name": "error_check_cortex_african_sabaeus"
 },
 "nbformat": 3,
 "nbformat_minor": 0,
 "worksheets": [
  {
   "cells": [
    {
     "cell_type": "code",
     "collapsed": false,
     "input": [
      "import os, sys\n",
      "sys.path.insert(0, os.path.expanduser('~/lib/python'))\n",
      "sys.path.insert(0, os.path.join(os.path.expanduser('~/script')))\n",
      "import vcf\n",
      "from pyfasta import Fasta\n",
      "import pandas as pd"
     ],
     "language": "python",
     "metadata": {},
     "outputs": [],
     "prompt_number": 15
    },
    {
     "cell_type": "code",
     "collapsed": false,
     "input": [
      "#attention, this reference is 0-indexed while VCF-positions are 1-indexed\n",
      "ref_fname=os.path.expanduser(\"~/vervet_data/data/reference/reference_3488/3488_indID1_codeVRC_ref_sequencer3_seqType1_filtered0_version3.fasta\")\n",
      "ref = Fasta(ref_fname)"
     ],
     "language": "python",
     "metadata": {},
     "outputs": [],
     "prompt_number": 17
    },
    {
     "cell_type": "code",
     "collapsed": false,
     "input": [
      "for name,chrom in ref.items():\n",
      "    print chrom"
     ],
     "language": "python",
     "metadata": {},
     "outputs": [],
     "prompt_number": 133
    },
    {
     "cell_type": "code",
     "collapsed": false,
     "input": [
      "ucla_id='VGA00006'"
     ],
     "language": "python",
     "metadata": {},
     "outputs": [],
     "prompt_number": 65
    },
    {
     "cell_type": "code",
     "collapsed": false,
     "input": [
      "pacbio_intervals_fname=os.path.expanduser('~/vervet_project/analyses/20131022_cortex_validation_pacbio/_data/pacbio_mapping_intervals_{}.list'.format(ucla_id))\n",
      "pacbio_intervals=pd.read_csv(pacbio_intervals_fname,sep=r\"[:-]\",header=None)\n",
      "pacbio_intervals.columns=['chrom','start','end']"
     ],
     "language": "python",
     "metadata": {},
     "outputs": [],
     "prompt_number": 3
    },
    {
     "cell_type": "code",
     "collapsed": false,
     "input": [
      "pacbio_vcf_fname=os.path.expanduser('~/vervet_project/analyses/20131022_cortex_validation_pacbio/_data/pacbio_CCS_GATK_0threshold_{}.vcf.gz'.format(ucla_id))\n",
      "with open(pacbio_vcf_fname, 'r') as f:\n",
      "        pacbio_vcf = vcf.Reader(f)"
     ],
     "language": "python",
     "metadata": {},
     "outputs": [],
     "prompt_number": 27
    },
    {
     "cell_type": "code",
     "collapsed": false,
     "input": [
      "cortex_vcf_fname=os.path.expanduser('~/vervet_data/data/cortex/African_sabaeus_pass.vcf.gz')\n",
      "with open(cortex_vcf_fname, 'r') as f:\n",
      "        cortex_vcf = vcf.Reader(f)"
     ],
     "language": "python",
     "metadata": {},
     "outputs": [],
     "prompt_number": 97
    },
    {
     "cell_type": "code",
     "collapsed": false,
     "input": [
      "pacbio_intervals.iloc[:10]"
     ],
     "language": "python",
     "metadata": {},
     "outputs": [
      {
       "html": [
        "<div style=\"max-height:1000px;max-width:1500px;overflow:auto;\">\n",
        "<table border=\"1\" class=\"dataframe\">\n",
        "  <thead>\n",
        "    <tr style=\"text-align: right;\">\n",
        "      <th></th>\n",
        "      <th>chrom</th>\n",
        "      <th>start</th>\n",
        "      <th>end</th>\n",
        "    </tr>\n",
        "  </thead>\n",
        "  <tbody>\n",
        "    <tr>\n",
        "      <th>0</th>\n",
        "      <td> CAE1</td>\n",
        "      <td>  380385</td>\n",
        "      <td>  380983</td>\n",
        "    </tr>\n",
        "    <tr>\n",
        "      <th>1</th>\n",
        "      <td> CAE1</td>\n",
        "      <td>  653727</td>\n",
        "      <td>  654387</td>\n",
        "    </tr>\n",
        "    <tr>\n",
        "      <th>2</th>\n",
        "      <td> CAE1</td>\n",
        "      <td> 1089471</td>\n",
        "      <td> 1090328</td>\n",
        "    </tr>\n",
        "    <tr>\n",
        "      <th>3</th>\n",
        "      <td> CAE1</td>\n",
        "      <td> 1129103</td>\n",
        "      <td> 1130330</td>\n",
        "    </tr>\n",
        "    <tr>\n",
        "      <th>4</th>\n",
        "      <td> CAE1</td>\n",
        "      <td> 1564764</td>\n",
        "      <td> 1565297</td>\n",
        "    </tr>\n",
        "    <tr>\n",
        "      <th>5</th>\n",
        "      <td> CAE1</td>\n",
        "      <td> 1847078</td>\n",
        "      <td> 1847686</td>\n",
        "    </tr>\n",
        "    <tr>\n",
        "      <th>6</th>\n",
        "      <td> CAE1</td>\n",
        "      <td> 2150569</td>\n",
        "      <td> 2151520</td>\n",
        "    </tr>\n",
        "    <tr>\n",
        "      <th>7</th>\n",
        "      <td> CAE1</td>\n",
        "      <td> 2977445</td>\n",
        "      <td> 2977984</td>\n",
        "    </tr>\n",
        "    <tr>\n",
        "      <th>8</th>\n",
        "      <td> CAE1</td>\n",
        "      <td> 3146482</td>\n",
        "      <td> 3147201</td>\n",
        "    </tr>\n",
        "    <tr>\n",
        "      <th>9</th>\n",
        "      <td> CAE1</td>\n",
        "      <td> 3407968</td>\n",
        "      <td> 3408979</td>\n",
        "    </tr>\n",
        "  </tbody>\n",
        "</table>\n",
        "</div>"
       ],
       "output_type": "pyout",
       "prompt_number": 45,
       "text": [
        "  chrom    start      end\n",
        "0  CAE1   380385   380983\n",
        "1  CAE1   653727   654387\n",
        "2  CAE1  1089471  1090328\n",
        "3  CAE1  1129103  1130330\n",
        "4  CAE1  1564764  1565297\n",
        "5  CAE1  1847078  1847686\n",
        "6  CAE1  2150569  2151520\n",
        "7  CAE1  2977445  2977984\n",
        "8  CAE1  3146482  3147201\n",
        "9  CAE1  3407968  3408979"
       ]
      }
     ],
     "prompt_number": 45
    },
    {
     "cell_type": "code",
     "collapsed": false,
     "input": [
      "x=pacbio_vcf.fetch('CAE1', 0,1000000)"
     ],
     "language": "python",
     "metadata": {},
     "outputs": [],
     "prompt_number": 38
    },
    {
     "cell_type": "code",
     "collapsed": false,
     "input": [
      "for record in cortex_vcf.fetch('CAE1', 0,1900):\n",
      "    print record.genotype(ucla_id)\n",
      "    "
     ],
     "language": "python",
     "metadata": {},
     "outputs": [
      {
       "output_type": "stream",
       "stream": "stdout",
       "text": [
        "Call(sample=VGA00006, CallData(GT=0/1, COV=[7, 3], GT_CONF=4.87, SITE_CONF=29.65))\n"
       ]
      }
     ],
     "prompt_number": 105
    },
    {
     "cell_type": "code",
     "collapsed": false,
     "input": [
      "x.genotype()"
     ],
     "language": "python",
     "metadata": {},
     "outputs": [
      {
       "ename": "AttributeError",
       "evalue": "'Reader' object has no attribute 'genotype'",
       "output_type": "pyerr",
       "traceback": [
        "\u001b[1;31m---------------------------------------------------------------------------\u001b[0m\n\u001b[1;31mAttributeError\u001b[0m                            Traceback (most recent call last)",
        "\u001b[1;32m<ipython-input-104-d91d2ab0a81a>\u001b[0m in \u001b[0;36m<module>\u001b[1;34m()\u001b[0m\n\u001b[1;32m----> 1\u001b[1;33m \u001b[0mx\u001b[0m\u001b[1;33m.\u001b[0m\u001b[0mgenotype\u001b[0m\u001b[1;33m(\u001b[0m\u001b[0mucla_id\u001b[0m\u001b[1;33m)\u001b[0m\u001b[1;33m\u001b[0m\u001b[0m\n\u001b[0m",
        "\u001b[1;31mAttributeError\u001b[0m: 'Reader' object has no attribute 'genotype'"
       ]
      }
     ],
     "prompt_number": 104
    },
    {
     "cell_type": "code",
     "collapsed": false,
     "input": [
      "for _,interval in pacbio_intervals.iloc[:2].iterrows():\n",
      "    #print ref[interval['chrom']][interval['start']:interval['end']]\n",
      "    pacbio=pacbio_vcf.fetch(interval['chrom'],interval['start'],interval['end'])\n",
      "    cortex=cortex_vcf.fetch(interval['chrom'],interval['start'],interval['end'])\n",
      "    for record in cortex:\n",
      "        print 'cortex SNP:',record.POS\n",
      "        print record.genotype('VGA00006')['GT']\n",
      "    for record in pacbio:\n",
      "        print 'pacbio SNP:',record.POS\n",
      "        print record.genotype('VGA00006')['GT']\n",
      "        "
     ],
     "language": "python",
     "metadata": {},
     "outputs": [
      {
       "output_type": "stream",
       "stream": "stdout",
       "text": [
        "cortex SNP: 380865\n",
        "1/1\n",
        "pacbio SNP: 380545\n",
        "1/1\n",
        "pacbio SNP: 380865\n",
        "1/1\n",
        "cortex SNP: 653845\n",
        "1/1\n",
        "cortex SNP: 653988\n",
        "0/0\n",
        "cortex SNP: 654034\n",
        "1/1\n",
        "pacbio SNP: 654034\n",
        "1/1\n"
       ]
      }
     ],
     "prompt_number": 92
    },
    {
     "cell_type": "code",
     "collapsed": false,
     "input": [
      "def snp_compare_df(chrom,start,end,ucla_id):\n",
      "    # functions\n",
      "    def get_alleles(record):\n",
      "        \"\"\"\n",
      "        returns (ref_allele,genotype_allele_1,genotype_allele_2)\n",
      "        \"\"\"\n",
      "        #print 'VCF ref:', record.REF,'ref:' ,ref[chrom][int(record.POS)-1]\n",
      "        pos = int(record.POS)\n",
      "        snv_len=len(record.REF)\n",
      "        gt=record.genotype(ucla_id)['GT']\n",
      "        #if gt is None:\n",
      "        #    print record.genotype(ucla_id)\n",
      "        ref_allele = ref[chrom][pos-1:pos-1+snv_len]\n",
      "        if record.REF != ref_allele:\n",
      "            raise Exception(\\\n",
      "                 \"ref allele in reference and in the VCF don't agree, they are \"+ref_allele+\" and \"+record.REF+\" respectively\")\n",
      "        # alleles = (ref,gt0,gt1)\n",
      "        alleles = [ref_allele]\n",
      "        for i in [0,2]:\n",
      "            if gt is None:\n",
      "                h='N'\n",
      "            elif gt[i]=='0':\n",
      "                h=record.REF\n",
      "            elif gt[i]=='1':\n",
      "                h=record.ALT\n",
      "            else:\n",
      "                h=gt[i]\n",
      "            alleles.append(h)\n",
      "        return (alleles[0],alleles[1],alleles[2])\n",
      "    #create info DataFrame for pacbio\n",
      "    pacbio=pacbio_vcf.fetch(chrom,start,end)\n",
      "    index=[]\n",
      "    allele=[]\n",
      "    ref_allele=[]\n",
      "    for record in pacbio:\n",
      "        pos=int(record.POS)\n",
      "        index.append(pos)\n",
      "        ref0, gt0, gt1 = get_alleles(record)\n",
      "        if gt0 != gt1:\n",
      "            print record.POS,record.REF,record.ALT,record.genotype(ucla_id)\n",
      "            #raise Exception(\"SNP {0} in pacbio data is heterozygous. This can't be, comes from a single read.\".format(pos))\n",
      "            gt0 = 'het'\n",
      "        allele.append(gt0)\n",
      "        ref_allele.append(ref0)\n",
      "    pacbio_df=pd.DataFrame({'ref':ref_allele,'pacbio':allele},index=index)\n",
      "    \n",
      "    cortex=cortex_vcf.fetch(chrom,start,end)\n",
      "    index=[]\n",
      "    allele0=[]\n",
      "    allele1=[]\n",
      "    cov=[]\n",
      "    gt_conf=[]\n",
      "    site_conf=[]\n",
      "    ref_allele=[]\n",
      "    for record in cortex:\n",
      "        pos = int(record.POS)\n",
      "        alleles = get_alleles(record)\n",
      "        #omit SNPs that are homozygous reference in the cortex calls if there is no SNP in the pacbio data-set\n",
      "        if alleles[1] == alleles[0] and alleles[2] == alleles[0] and pos not in pacbio_df.index.values:\n",
      "            continue\n",
      "        index.append(pos)\n",
      "        ref_allele.append(alleles[0])\n",
      "        allele0.append(alleles[1])\n",
      "        allele1.append(alleles[2])\n",
      "        cov.append(record.genotype(ucla_id)['COV'])\n",
      "        gt_conf.append(record.genotype(ucla_id)['GT_CONF'])\n",
      "        site_conf.append(record.genotype(ucla_id)['SITE_CONF'])\n",
      "    #try:    \n",
      "    cortex_df=pd.DataFrame({'illumina0':allele0,'illumina1':allele1,'cov':cov,'gt_conf':gt_conf,'site_conf':site_conf,'ref':ref_allele},index=index)\n",
      "    #df=pacbio_df.join(cortex_df,how='outer')\n",
      "    #except:\n",
      "    #    print index,{'illumina0':allele0,'illumina1':allele1,'cov':cov,'gt_conf':gt_conf,'site_conf':site_conf,'ref':ref_allele}\n",
      "    df=pd.merge(pacbio_df,cortex_df,how='outer',left_index=True,right_index=True,sort=False)\n",
      "    df['ref_x']=df['ref_x'].astype(object)\n",
      "    ref_allele=df['ref_x'].fillna(df['ref_y'])\n",
      "\n",
      "    del df['ref_x']\n",
      "    del df['ref_y']\n",
      "    df['ref'] = ref_allele\n",
      "    m_index=pd.MultiIndex.from_arrays([[chrom]*len(df.index),df.index.values])\n",
      "    df.index=m_index\n",
      "    return pacbio_df,cortex_df,df\n",
      "    \n",
      "    "
     ],
     "language": "python",
     "metadata": {},
     "outputs": [],
     "prompt_number": 326
    },
    {
     "cell_type": "code",
     "collapsed": false,
     "input": [
      "df = pd.DataFrame()#index=pd.MultiIndex([[None,None]],[['chrom','pos']])\n",
      "for _,interval in pacbio_intervals.iloc[:7000].iterrows():\n",
      "    pacbio_df,cortex_df,df0 = snp_compare_df(interval['chrom'],interval['start'],interval['end'],ucla_id)\n",
      "    df=df.append(df0)\n",
      "df=df.reindex_axis(['ref','pacbio','illumina0','illumina1','cov','gt_conf','site_conf'], axis=1)\n",
      "df=df.reindex(pd.MultiIndex.from_tuples(df.index))"
     ],
     "language": "python",
     "metadata": {},
     "outputs": [
      {
       "output_type": "stream",
       "stream": "stdout",
       "text": [
        "59419353 T [A, G] Call(sample=VGA00006, CallData(GT=1/2, AD=[0, 1, 1], DP=2, GQ=2, PL=[13, 4, 2, 8, 0, 6]))\n",
        "59419737 T [C] Call(sample=VGA00006, CallData(GT=0/1, AD=[5, 13], DP=18, GQ=4, PL=[90, 0, 4]))\n",
        "59419746 T [A] Call(sample=VGA00006, CallData(GT=0/1, AD=[3, 16], DP=19, GQ=13, PL=[72, 0, 13]))\n",
        "59419900 T [TACATC] Call(sample=VGA00006, CallData(GT=0/1, AD=[2, 13], DP=16, GQ=13, PL=[468, 0, 13]))\n",
        "59419910 T [C] Call(sample=VGA00006, CallData(GT=0/1, AD=[6, 15], DP=21, GQ=27, PL=[68, 0, 27]))\n",
        "59420181 A [C, T] Call(sample=VGA00006, CallData(GT=1/2, AD=[4, 14, 6], DP=23, GQ=10, PL=[135, 36, 10, 96, 0, 90]))\n",
        "59420352 A [C, T] Call(sample=VGA00006, CallData(GT=1/2, AD=[5, 17, 5], DP=26, GQ=26, PL=[209, 55, 26, 150, 0, 147]))\n",
        "59419353 T [A, G] Call(sample=VGA00006, CallData(GT=1/2, AD=[0, 1, 1], DP=2, GQ=2, PL=[13, 4, 2, 8, 0, 6]))\n",
        "59419737 T [C] Call(sample=VGA00006, CallData(GT=0/1, AD=[5, 13], DP=18, GQ=4, PL=[90, 0, 4]))\n",
        "59419746 T [A] Call(sample=VGA00006, CallData(GT=0/1, AD=[3, 16], DP=19, GQ=13, PL=[72, 0, 13]))\n",
        "59419900 T [TACATC] Call(sample=VGA00006, CallData(GT=0/1, AD=[2, 13], DP=16, GQ=13, PL=[468, 0, 13]))\n",
        "59419910 T [C] Call(sample=VGA00006, CallData(GT=0/1, AD=[6, 15], DP=21, GQ=27, PL=[68, 0, 27]))\n",
        "59420181 A [C, T] Call(sample=VGA00006, CallData(GT=1/2, AD=[4, 14, 6], DP=23, GQ=10, PL=[135, 36, 10, 96, 0, 90]))\n",
        "59420352"
       ]
      },
      {
       "output_type": "stream",
       "stream": "stdout",
       "text": [
        " A [C, T] Call(sample=VGA00006, CallData(GT=1/2, AD=[5, 17, 5], DP=26, GQ=26, PL=[209, 55, 26, 150, 0, 147]))\n",
        "59420419 T [C] Call(sample=VGA00006, CallData(GT=0/1, AD=[5, 22], DP=26, GQ=15, PL=[183, 0, 15]))\n",
        "59420465 C [A, G] Call(sample=VGA00006, CallData(GT=1/2, AD=[4, 3, 18], DP=25, GQ=6, PL=[144, 114, 134, 12, 0, 6]))\n",
        "59420589 C [CT] Call(sample=VGA00006, CallData(GT=0/1, AD=[4, 20], DP=26, GQ=7, PL=[398, 0, 7]))\n",
        "59420633 T [G] Call(sample=VGA00006, CallData(GT=0/1, AD=[6, 27], DP=33, GQ=10, PL=[288, 0, 10]))\n",
        "59420839 C [T] Call(sample=VGA00006, CallData(GT=0/1, AD=[13, 48], DP=59, GQ=33, PL=[567, 0, 33]))\n",
        "59419737 T [C] Call(sample=VGA00006, CallData(GT=0/1, AD=[5, 13], DP=18, GQ=4, PL=[90, 0, 4]))\n",
        "59419746 T [A] Call(sample=VGA00006, CallData(GT=0/1, AD=[3, 16], DP=19, GQ=13, PL=[72, 0, 13]))\n",
        "59419900 T [TACATC] Call(sample=VGA00006, CallData(GT=0/1, AD=[2, 13], DP=16, GQ=13, PL=[468, 0, 13]))\n",
        "59419910 T [C] Call(sample=VGA00006, CallData(GT=0/1, AD=[6, 15], DP=21, GQ=27, PL=[68, 0, 27]))\n",
        "59420181 A [C, T] Call(sample=VGA00006, CallData(GT=1/2, AD=[4, 14, 6], DP=23, GQ=10, PL=[135, 36, 10, 96, 0, 90]))\n",
        "59419737"
       ]
      },
      {
       "output_type": "stream",
       "stream": "stdout",
       "text": [
        " T [C] Call(sample=VGA00006, CallData(GT=0/1, AD=[5, 13], DP=18, GQ=4, PL=[90, 0, 4]))\n",
        "59419746 T [A] Call(sample=VGA00006, CallData(GT=0/1, AD=[3, 16], DP=19, GQ=13, PL=[72, 0, 13]))\n",
        "59419900 T [TACATC] Call(sample=VGA00006, CallData(GT=0/1, AD=[2, 13], DP=16, GQ=13, PL=[468, 0, 13]))\n",
        "59419910 T [C] Call(sample=VGA00006, CallData(GT=0/1, AD=[6, 15], DP=21, GQ=27, PL=[68, 0, 27]))\n",
        "59419737 T [C] Call(sample=VGA00006, CallData(GT=0/1, AD=[5, 13], DP=18, GQ=4, PL=[90, 0, 4]))\n",
        "59419746 T [A] Call(sample=VGA00006, CallData(GT=0/1, AD=[3, 16], DP=19, GQ=13, PL=[72, 0, 13]))\n",
        "59419900 T [TACATC] Call(sample=VGA00006, CallData(GT=0/1, AD=[2, 13], DP=16, GQ=13, PL=[468, 0, 13]))\n",
        "59419910 T [C] Call(sample=VGA00006, CallData(GT=0/1, AD=[6, 15], DP=21, GQ=27, PL=[68, 0, 27]))\n",
        "59419737 T [C] Call(sample=VGA00006, CallData(GT=0/1, AD=[5, 13], DP=18, GQ=4, PL=[90, 0, 4]))\n",
        "59419746 T [A] Call(sample=VGA00006, CallData(GT=0/1, AD=[3, 16], DP=19, GQ=13, PL=[72, 0, 13]))\n",
        "59419900 T [TACATC] Call(sample=VGA00006, CallData(GT=0/1, AD=[2, 13], DP=16, GQ=13, PL=[468, 0, 13]))\n",
        "59419910 T [C] Call(sample=VGA00006, CallData(GT=0/1, AD=[6, 15], DP=21, GQ=27, PL=[68, 0, 27]))\n",
        "59419737"
       ]
      },
      {
       "output_type": "stream",
       "stream": "stdout",
       "text": [
        " T [C] Call(sample=VGA00006, CallData(GT=0/1, AD=[5, 13], DP=18, GQ=4, PL=[90, 0, 4]))\n",
        "59419746 T [A] Call(sample=VGA00006, CallData(GT=0/1, AD=[3, 16], DP=19, GQ=13, PL=[72, 0, 13]))\n",
        "59419900 T [TACATC] Call(sample=VGA00006, CallData(GT=0/1, AD=[2, 13], DP=16, GQ=13, PL=[468, 0, 13]))\n",
        "59419910 T [C] Call(sample=VGA00006, CallData(GT=0/1, AD=[6, 15], DP=21, GQ=27, PL=[68, 0, 27]))\n",
        "59420181 A [C, T] Call(sample=VGA00006, CallData(GT=1/2, AD=[4, 14, 6], DP=23, GQ=10, PL=[135, 36, 10, 96, 0, 90]))\n",
        "59419737 T [C] Call(sample=VGA00006, CallData(GT=0/1, AD=[5, 13], DP=18, GQ=4, PL=[90, 0, 4]))\n",
        "59419746 T [A] Call(sample=VGA00006, CallData(GT=0/1, AD=[3, 16], DP=19, GQ=13, PL=[72, 0, 13]))\n",
        "59419900 T [TACATC] Call(sample=VGA00006, CallData(GT=0/1, AD=[2, 13], DP=16, GQ=13, PL=[468, 0, 13]))\n",
        "59419910 T [C] Call(sample=VGA00006, CallData(GT=0/1, AD=[6, 15], DP=21, GQ=27, PL=[68, 0, 27]))\n",
        "59419737"
       ]
      },
      {
       "output_type": "stream",
       "stream": "stdout",
       "text": [
        " T [C] Call(sample=VGA00006, CallData(GT=0/1, AD=[5, 13], DP=18, GQ=4, PL=[90, 0, 4]))\n",
        "59419746 T [A] Call(sample=VGA00006, CallData(GT=0/1, AD=[3, 16], DP=19, GQ=13, PL=[72, 0, 13]))\n",
        "59419900 T [TACATC] Call(sample=VGA00006, CallData(GT=0/1, AD=[2, 13], DP=16, GQ=13, PL=[468, 0, 13]))\n",
        "59419910 T [C] Call(sample=VGA00006, CallData(GT=0/1, AD=[6, 15], DP=21, GQ=27, PL=[68, 0, 27]))\n",
        "59420181 A [C, T] Call(sample=VGA00006, CallData(GT=1/2, AD=[4, 14, 6], DP=23, GQ=10, PL=[135, 36, 10, 96, 0, 90]))\n",
        "59419737 T [C] Call(sample=VGA00006, CallData(GT=0/1, AD=[5, 13], DP=18, GQ=4, PL=[90, 0, 4]))\n",
        "59419746 T [A] Call(sample=VGA00006, CallData(GT=0/1, AD=[3, 16], DP=19, GQ=13, PL=[72, 0, 13]))\n",
        "59419900 T [TACATC] Call(sample=VGA00006, CallData(GT=0/1, AD=[2, 13], DP=16, GQ=13, PL=[468, 0, 13]))\n",
        "59419910 T [C] Call(sample=VGA00006, CallData(GT=0/1, AD=[6, 15], DP=21, GQ=27, PL=[68, 0, 27]))\n",
        "59420181 A [C, T] Call(sample=VGA00006, CallData(GT=1/2, AD=[4, 14, 6], DP=23, GQ=10, PL=[135, 36, 10, 96, 0, 90]))\n",
        "59420352 A [C, T] Call(sample=VGA00006, CallData(GT=1/2, AD=[5, 17, 5], DP=26, GQ=26, PL=[209, 55, 26, 150, 0, 147]))\n",
        "59420419 T [C] Call(sample=VGA00006, CallData(GT=0/1, AD=[5, 22], DP=26, GQ=15, PL=[183, 0, 15]))\n",
        "59420465 C [A, G] Call(sample=VGA00006, CallData(GT=1/2, AD=[4, 3, 18], DP=25, GQ=6, PL=[144, 114, 134, 12, 0, 6]))\n",
        "59420589 C [CT] Call(sample=VGA00006, CallData(GT=0/1, AD=[4, 20], DP=26, GQ=7, PL=[398, 0, 7]))\n",
        "59420633"
       ]
      },
      {
       "output_type": "stream",
       "stream": "stdout",
       "text": [
        " T [G] Call(sample=VGA00006, CallData(GT=0/1, AD=[6, 27], DP=33, GQ=10, PL=[288, 0, 10]))\n",
        "59420839 C [T] Call(sample=VGA00006, CallData(GT=0/1, AD=[13, 48], DP=59, GQ=33, PL=[567, 0, 33]))\n",
        "59419737 T [C] Call(sample=VGA00006, CallData(GT=0/1, AD=[5, 13], DP=18, GQ=4, PL=[90, 0, 4]))\n",
        "59419746 T [A] Call(sample=VGA00006, CallData(GT=0/1, AD=[3, 16], DP=19, GQ=13, PL=[72, 0, 13]))\n",
        "59419900 T [TACATC] Call(sample=VGA00006, CallData(GT=0/1, AD=[2, 13], DP=16, GQ=13, PL=[468, 0, 13]))\n",
        "59419910 T [C] Call(sample=VGA00006, CallData(GT=0/1, AD=[6, 15], DP=21, GQ=27, PL=[68, 0, 27]))\n",
        "59420181 A [C, T] Call(sample=VGA00006, CallData(GT=1/2, AD=[4, 14, 6], DP=23, GQ=10, PL=[135, 36, 10, 96, 0, 90]))\n",
        "59420352 A [C, T] Call(sample=VGA00006, CallData(GT=1/2, AD=[5, 17, 5], DP=26, GQ=26, PL=[209, 55, 26, 150, 0, 147]))\n",
        "59419737"
       ]
      },
      {
       "output_type": "stream",
       "stream": "stdout",
       "text": [
        " T [C] Call(sample=VGA00006, CallData(GT=0/1, AD=[5, 13], DP=18, GQ=4, PL=[90, 0, 4]))\n",
        "59419746 T [A] Call(sample=VGA00006, CallData(GT=0/1, AD=[3, 16], DP=19, GQ=13, PL=[72, 0, 13]))\n",
        "59419900 T [TACATC] Call(sample=VGA00006, CallData(GT=0/1, AD=[2, 13], DP=16, GQ=13, PL=[468, 0, 13]))\n",
        "59419910 T [C] Call(sample=VGA00006, CallData(GT=0/1, AD=[6, 15], DP=21, GQ=27, PL=[68, 0, 27]))\n",
        "59420181 A [C, T] Call(sample=VGA00006, CallData(GT=1/2, AD=[4, 14, 6], DP=23, GQ=10, PL=[135, 36, 10, 96, 0, 90]))\n",
        "59420352 A [C, T] Call(sample=VGA00006, CallData(GT=1/2, AD=[5, 17, 5], DP=26, GQ=26, PL=[209, 55, 26, 150, 0, 147]))\n",
        "59420419 T [C] Call(sample=VGA00006, CallData(GT=0/1, AD=[5, 22], DP=26, GQ=15, PL=[183, 0, 15]))\n",
        "59419737 T [C] Call(sample=VGA00006, CallData(GT=0/1, AD=[5, 13], DP=18, GQ=4, PL=[90, 0, 4]))\n",
        "59419746 T [A] Call(sample=VGA00006, CallData(GT=0/1, AD=[3, 16], DP=19, GQ=13, PL=[72, 0, 13]))\n",
        "59419900 T [TACATC] Call(sample=VGA00006, CallData(GT=0/1, AD=[2, 13], DP=16, GQ=13, PL=[468, 0, 13]))\n",
        "59419910 T [C] Call(sample=VGA00006, CallData(GT=0/1, AD=[6, 15], DP=21, GQ=27, PL=[68, 0, 27]))\n",
        "59420181 A [C, T] Call(sample=VGA00006, CallData(GT=1/2, AD=[4, 14, 6], DP=23, GQ=10, PL=[135, 36, 10, 96, 0, 90]))\n",
        "59420352 A [C, T] Call(sample=VGA00006, CallData(GT=1/2, AD=[5, 17, 5], DP=26, GQ=26, PL=[209, 55, 26, 150, 0, 147]))\n",
        "59420419 T [C] Call(sample=VGA00006, CallData(GT=0/1, AD=[5, 22], DP=26, GQ=15, PL=[183, 0, 15]))\n",
        "59420465 C [A, G] Call(sample=VGA00006, CallData(GT=1/2, AD=[4, 3, 18], DP=25, GQ=6, PL=[144, 114, 134, 12, 0, 6]))\n",
        "59419737"
       ]
      },
      {
       "output_type": "stream",
       "stream": "stdout",
       "text": [
        " T [C] Call(sample=VGA00006, CallData(GT=0/1, AD=[5, 13], DP=18, GQ=4, PL=[90, 0, 4]))\n",
        "59419746 T [A] Call(sample=VGA00006, CallData(GT=0/1, AD=[3, 16], DP=19, GQ=13, PL=[72, 0, 13]))\n",
        "59419900 T [TACATC] Call(sample=VGA00006, CallData(GT=0/1, AD=[2, 13], DP=16, GQ=13, PL=[468, 0, 13]))\n",
        "59419910 T [C] Call(sample=VGA00006, CallData(GT=0/1, AD=[6, 15], DP=21, GQ=27, PL=[68, 0, 27]))\n",
        "59420181 A [C, T] Call(sample=VGA00006, CallData(GT=1/2, AD=[4, 14, 6], DP=23, GQ=10, PL=[135, 36, 10, 96, 0, 90]))\n",
        "59420352 A [C, T] Call(sample=VGA00006, CallData(GT=1/2, AD=[5, 17, 5], DP=26, GQ=26, PL=[209, 55, 26, 150, 0, 147]))\n",
        "59420419 T [C] Call(sample=VGA00006, CallData(GT=0/1, AD=[5, 22], DP=26, GQ=15, PL=[183, 0, 15]))\n",
        "59420465 C [A, G] Call(sample=VGA00006, CallData(GT=1/2, AD=[4, 3, 18], DP=25, GQ=6, PL=[144, 114, 134, 12, 0, 6]))\n",
        "59419737 T [C] Call(sample=VGA00006, CallData(GT=0/1, AD=[5, 13], DP=18, GQ=4, PL=[90, 0, 4]))\n",
        "59419746 T [A] Call(sample=VGA00006, CallData(GT=0/1, AD=[3, 16], DP=19, GQ=13, PL=[72, 0, 13]))\n",
        "59419900 T [TACATC] Call(sample=VGA00006, CallData(GT=0/1, AD=[2, 13], DP=16, GQ=13, PL=[468, 0, 13]))\n",
        "59419910 T [C] Call(sample=VGA00006, CallData(GT=0/1, AD=[6, 15], DP=21, GQ=27, PL=[68, 0, 27]))\n",
        "59420181 A [C, T] Call(sample=VGA00006, CallData(GT=1/2, AD=[4, 14, 6], DP=23, GQ=10, PL=[135, 36, 10, 96, 0, 90]))\n",
        "59420352 A [C, T] Call(sample=VGA00006, CallData(GT=1/2, AD=[5, 17, 5], DP=26, GQ=26, PL=[209, 55, 26, 150, 0, 147]))\n",
        "59420419 T [C] Call(sample=VGA00006, CallData(GT=0/1, AD=[5, 22], DP=26, GQ=15, PL=[183, 0, 15]))\n",
        "59420465"
       ]
      },
      {
       "output_type": "stream",
       "stream": "stdout",
       "text": [
        " C [A, G] Call(sample=VGA00006, CallData(GT=1/2, AD=[4, 3, 18], DP=25, GQ=6, PL=[144, 114, 134, 12, 0, 6]))\n",
        "59420589 C [CT] Call(sample=VGA00006, CallData(GT=0/1, AD=[4, 20], DP=26, GQ=7, PL=[398, 0, 7]))\n",
        "59420633 T [G] Call(sample=VGA00006, CallData(GT=0/1, AD=[6, 27], DP=33, GQ=10, PL=[288, 0, 10]))\n",
        "59419737 T [C] Call(sample=VGA00006, CallData(GT=0/1, AD=[5, 13], DP=18, GQ=4, PL=[90, 0, 4]))\n",
        "59419746 T [A] Call(sample=VGA00006, CallData(GT=0/1, AD=[3, 16], DP=19, GQ=13, PL=[72, 0, 13]))\n",
        "59419900 T [TACATC] Call(sample=VGA00006, CallData(GT=0/1, AD=[2, 13], DP=16, GQ=13, PL=[468, 0, 13]))\n",
        "59419910 T [C] Call(sample=VGA00006, CallData(GT=0/1, AD=[6, 15], DP=21, GQ=27, PL=[68, 0, 27]))\n",
        "59420181 A [C, T] Call(sample=VGA00006, CallData(GT=1/2, AD=[4, 14, 6], DP=23, GQ=10, PL=[135, 36, 10, 96, 0, 90]))\n",
        "59420352 A [C, T] Call(sample=VGA00006, CallData(GT=1/2, AD=[5, 17, 5], DP=26, GQ=26, PL=[209, 55, 26, 150, 0, 147]))\n",
        "59419737 T [C] Call(sample=VGA00006, CallData(GT=0/1, AD=[5, 13], DP=18, GQ=4, PL=[90, 0, 4]))\n",
        "59419746 T [A] Call(sample=VGA00006, CallData(GT=0/1, AD=[3, 16], DP=19, GQ=13, PL=[72, 0, 13]))\n",
        "59419900 T [TACATC] Call(sample=VGA00006, CallData(GT=0/1, AD=[2, 13], DP=16, GQ=13, PL=[468, 0, 13]))\n",
        "59419910 T [C] Call(sample=VGA00006, CallData(GT=0/1, AD=[6, 15], DP=21, GQ=27, PL=[68, 0, 27]))\n",
        "59420181"
       ]
      },
      {
       "output_type": "stream",
       "stream": "stdout",
       "text": [
        " A [C, T] Call(sample=VGA00006, CallData(GT=1/2, AD=[4, 14, 6], DP=23, GQ=10, PL=[135, 36, 10, 96, 0, 90]))\n",
        "59420352 A [C, T] Call(sample=VGA00006, CallData(GT=1/2, AD=[5, 17, 5], DP=26, GQ=26, PL=[209, 55, 26, 150, 0, 147]))\n",
        "59420419 T [C] Call(sample=VGA00006, CallData(GT=0/1, AD=[5, 22], DP=26, GQ=15, PL=[183, 0, 15]))\n",
        "59420465 C [A, G] Call(sample=VGA00006, CallData(GT=1/2, AD=[4, 3, 18], DP=25, GQ=6, PL=[144, 114, 134, 12, 0, 6]))\n",
        "59419737 T [C] Call(sample=VGA00006, CallData(GT=0/1, AD=[5, 13], DP=18, GQ=4, PL=[90, 0, 4]))\n",
        "59419746 T [A] Call(sample=VGA00006, CallData(GT=0/1, AD=[3, 16], DP=19, GQ=13, PL=[72, 0, 13]))\n",
        "59419900 T [TACATC] Call(sample=VGA00006, CallData(GT=0/1, AD=[2, 13], DP=16, GQ=13, PL=[468, 0, 13]))\n",
        "59419910 T [C] Call(sample=VGA00006, CallData(GT=0/1, AD=[6, 15], DP=21, GQ=27, PL=[68, 0, 27]))\n",
        "59420181 A [C, T] Call(sample=VGA00006, CallData(GT=1/2, AD=[4, 14, 6], DP=23, GQ=10, PL=[135, 36, 10, 96, 0, 90]))\n",
        "59419746 T [A] Call(sample=VGA00006, CallData(GT=0/1, AD=[3, 16], DP=19, GQ=13, PL=[72, 0, 13]))\n",
        "59419900 T [TACATC] Call(sample=VGA00006, CallData(GT=0/1, AD=[2, 13], DP=16, GQ=13, PL=[468, 0, 13]))\n",
        "59419910 T [C] Call(sample=VGA00006, CallData(GT=0/1, AD=[6, 15], DP=21, GQ=27, PL=[68, 0, 27]))\n",
        "59420181"
       ]
      },
      {
       "output_type": "stream",
       "stream": "stdout",
       "text": [
        " A [C, T] Call(sample=VGA00006, CallData(GT=1/2, AD=[4, 14, 6], DP=23, GQ=10, PL=[135, 36, 10, 96, 0, 90]))\n",
        "59420352 A [C, T] Call(sample=VGA00006, CallData(GT=1/2, AD=[5, 17, 5], DP=26, GQ=26, PL=[209, 55, 26, 150, 0, 147]))\n",
        "59420419 T [C] Call(sample=VGA00006, CallData(GT=0/1, AD=[5, 22], DP=26, GQ=15, PL=[183, 0, 15]))\n",
        "59420465 C [A, G] Call(sample=VGA00006, CallData(GT=1/2, AD=[4, 3, 18], DP=25, GQ=6, PL=[144, 114, 134, 12, 0, 6]))\n",
        "59419900 T [TACATC] Call(sample=VGA00006, CallData(GT=0/1, AD=[2, 13], DP=16, GQ=13, PL=[468, 0, 13]))\n",
        "59419910 T [C] Call(sample=VGA00006, CallData(GT=0/1, AD=[6, 15], DP=21, GQ=27, PL=[68, 0, 27]))\n",
        "59420181 A [C, T] Call(sample=VGA00006, CallData(GT=1/2, AD=[4, 14, 6], DP=23, GQ=10, PL=[135, 36, 10, 96, 0, 90]))\n",
        "59420352 A [C, T] Call(sample=VGA00006, CallData(GT=1/2, AD=[5, 17, 5], DP=26, GQ=26, PL=[209, 55, 26, 150, 0, 147]))\n",
        "59419900 T [TACATC] Call(sample=VGA00006, CallData(GT=0/1, AD=[2, 13], DP=16, GQ=13, PL=[468, 0, 13]))\n",
        "59419910 T [C] Call(sample=VGA00006, CallData(GT=0/1, AD=[6, 15], DP=21, GQ=27, PL=[68, 0, 27]))\n",
        "59420181"
       ]
      },
      {
       "output_type": "stream",
       "stream": "stdout",
       "text": [
        " A [C, T] Call(sample=VGA00006, CallData(GT=1/2, AD=[4, 14, 6], DP=23, GQ=10, PL=[135, 36, 10, 96, 0, 90]))\n",
        "59420352 A [C, T] Call(sample=VGA00006, CallData(GT=1/2, AD=[5, 17, 5], DP=26, GQ=26, PL=[209, 55, 26, 150, 0, 147]))\n",
        "59420419 T [C] Call(sample=VGA00006, CallData(GT=0/1, AD=[5, 22], DP=26, GQ=15, PL=[183, 0, 15]))\n",
        "59420465 C [A, G] Call(sample=VGA00006, CallData(GT=1/2, AD=[4, 3, 18], DP=25, GQ=6, PL=[144, 114, 134, 12, 0, 6]))\n",
        "59420589 C [CT] Call(sample=VGA00006, CallData(GT=0/1, AD=[4, 20], DP=26, GQ=7, PL=[398, 0, 7]))\n",
        "59420633 T [G] Call(sample=VGA00006, CallData(GT=0/1, AD=[6, 27], DP=33, GQ=10, PL=[288, 0, 10]))\n",
        "59419900 T [TACATC] Call(sample=VGA00006, CallData(GT=0/1, AD=[2, 13], DP=16, GQ=13, PL=[468, 0, 13]))\n",
        "59419910 T [C] Call(sample=VGA00006, CallData(GT=0/1, AD=[6, 15], DP=21, GQ=27, PL=[68, 0, 27]))\n",
        "59420181 A [C, T] Call(sample=VGA00006, CallData(GT=1/2, AD=[4, 14, 6], DP=23, GQ=10, PL=[135, 36, 10, 96, 0, 90]))\n",
        "59420352 A [C, T] Call(sample=VGA00006, CallData(GT=1/2, AD=[5, 17, 5], DP=26, GQ=26, PL=[209, 55, 26, 150, 0, 147]))\n",
        "59420419 T [C] Call(sample=VGA00006, CallData(GT=0/1, AD=[5, 22], DP=26, GQ=15, PL=[183, 0, 15]))\n",
        "59420465 C [A, G] Call(sample=VGA00006, CallData(GT=1/2, AD=[4, 3, 18], DP=25, GQ=6, PL=[144, 114, 134, 12, 0, 6]))\n",
        "59420181"
       ]
      },
      {
       "output_type": "stream",
       "stream": "stdout",
       "text": [
        " A [C, T] Call(sample=VGA00006, CallData(GT=1/2, AD=[4, 14, 6], DP=23, GQ=10, PL=[135, 36, 10, 96, 0, 90]))\n",
        "59420352 A [C, T] Call(sample=VGA00006, CallData(GT=1/2, AD=[5, 17, 5], DP=26, GQ=26, PL=[209, 55, 26, 150, 0, 147]))\n",
        "59420419 T [C] Call(sample=VGA00006, CallData(GT=0/1, AD=[5, 22], DP=26, GQ=15, PL=[183, 0, 15]))\n",
        "59420465 C [A, G] Call(sample=VGA00006, CallData(GT=1/2, AD=[4, 3, 18], DP=25, GQ=6, PL=[144, 114, 134, 12, 0, 6]))\n",
        "59420589 C [CT] Call(sample=VGA00006, CallData(GT=0/1, AD=[4, 20], DP=26, GQ=7, PL=[398, 0, 7]))\n",
        "59420633 T [G] Call(sample=VGA00006, CallData(GT=0/1, AD=[6, 27], DP=33, GQ=10, PL=[288, 0, 10]))\n",
        "59420839 C [T] Call(sample=VGA00006, CallData(GT=0/1, AD=[13, 48], DP=59, GQ=33, PL=[567, 0, 33]))\n",
        "59420181 A [C, T] Call(sample=VGA00006, CallData(GT=1/2, AD=[4, 14, 6], DP=23, GQ=10, PL=[135, 36, 10, 96, 0, 90]))\n",
        "59420352 A [C, T] Call(sample=VGA00006, CallData(GT=1/2, AD=[5, 17, 5], DP=26, GQ=26, PL=[209, 55, 26, 150, 0, 147]))\n",
        "59420419 T [C] Call(sample=VGA00006, CallData(GT=0/1, AD=[5, 22], DP=26, GQ=15, PL=[183, 0, 15]))\n",
        "59420465 C [A, G] Call(sample=VGA00006, CallData(GT=1/2, AD=[4, 3, 18], DP=25, GQ=6, PL=[144, 114, 134, 12, 0, 6]))\n",
        "59420589 C [CT] Call(sample=VGA00006, CallData(GT=0/1, AD=[4, 20], DP=26, GQ=7, PL=[398, 0, 7]))\n",
        "59420633 T [G] Call(sample=VGA00006, CallData(GT=0/1, AD=[6, 27], DP=33, GQ=10, PL=[288, 0, 10]))\n",
        "59420839"
       ]
      },
      {
       "output_type": "stream",
       "stream": "stdout",
       "text": [
        " C [T] Call(sample=VGA00006, CallData(GT=0/1, AD=[13, 48], DP=59, GQ=33, PL=[567, 0, 33]))\n",
        "59421187 G [GA] Call(sample=VGA00006, CallData(GT=0/1, AD=[9, 76], DP=89, GQ=77, PL=[2367, 0, 77]))\n",
        "59421327 T [G] Call(sample=VGA00006, CallData(GT=0/1, AD=[22, 67], DP=87, GQ=53, PL=[949, 0, 53]))\n",
        "59421515 T [A] Call(sample=VGA00006, CallData(GT=0/1, AD=[11, 56], DP=68, GQ=17, PL=[885, 0, 17]))\n",
        "59421585 T [C] Call(sample=VGA00006, CallData(GT=0/1, AD=[10, 26], DP=38, GQ=17, PL=[474, 0, 17]))\n",
        "59420181 A [C, T] Call(sample=VGA00006, CallData(GT=1/2, AD=[4, 14, 6], DP=23, GQ=10, PL=[135, 36, 10, 96, 0, 90]))\n",
        "59420352 A [C, T] Call(sample=VGA00006, CallData(GT=1/2, AD=[5, 17, 5], DP=26, GQ=26, PL=[209, 55, 26, 150, 0, 147]))\n",
        "59420419 T [C] Call(sample=VGA00006, CallData(GT=0/1, AD=[5, 22], DP=26, GQ=15, PL=[183, 0, 15]))\n",
        "59420465 C [A, G] Call(sample=VGA00006, CallData(GT=1/2, AD=[4, 3, 18], DP=25, GQ=6, PL=[144, 114, 134, 12, 0, 6]))\n",
        "59420589 C [CT] Call(sample=VGA00006, CallData(GT=0/1, AD=[4, 20], DP=26, GQ=7, PL=[398, 0, 7]))\n",
        "59420633 T [G] Call(sample=VGA00006, CallData(GT=0/1, AD=[6, 27], DP=33, GQ=10, PL=[288, 0, 10]))\n",
        "59420839 C [T] Call(sample=VGA00006, CallData(GT=0/1, AD=[13, 48], DP=59, GQ=33, PL=[567, 0, 33]))\n",
        "59421187"
       ]
      },
      {
       "output_type": "stream",
       "stream": "stdout",
       "text": [
        " G [GA] Call(sample=VGA00006, CallData(GT=0/1, AD=[9, 76], DP=89, GQ=77, PL=[2367, 0, 77]))\n",
        "59421327 T [G] Call(sample=VGA00006, CallData(GT=0/1, AD=[22, 67], DP=87, GQ=53, PL=[949, 0, 53]))\n",
        "59420181 A [C, T] Call(sample=VGA00006, CallData(GT=1/2, AD=[4, 14, 6], DP=23, GQ=10, PL=[135, 36, 10, 96, 0, 90]))\n",
        "59420352 A [C, T] Call(sample=VGA00006, CallData(GT=1/2, AD=[5, 17, 5], DP=26, GQ=26, PL=[209, 55, 26, 150, 0, 147]))\n",
        "59420419 T [C] Call(sample=VGA00006, CallData(GT=0/1, AD=[5, 22], DP=26, GQ=15, PL=[183, 0, 15]))\n",
        "59420465 C [A, G] Call(sample=VGA00006, CallData(GT=1/2, AD=[4, 3, 18], DP=25, GQ=6, PL=[144, 114, 134, 12, 0, 6]))\n",
        "59420589 C [CT] Call(sample=VGA00006, CallData(GT=0/1, AD=[4, 20], DP=26, GQ=7, PL=[398, 0, 7]))\n",
        "59420633 T [G] Call(sample=VGA00006, CallData(GT=0/1, AD=[6, 27], DP=33, GQ=10, PL=[288, 0, 10]))\n",
        "59420839 C [T] Call(sample=VGA00006, CallData(GT=0/1, AD=[13, 48], DP=59, GQ=33, PL=[567, 0, 33]))\n",
        "59421187 G [GA] Call(sample=VGA00006, CallData(GT=0/1, AD=[9, 76], DP=89, GQ=77, PL=[2367, 0, 77]))\n",
        "59421327 T [G] Call(sample=VGA00006, CallData(GT=0/1, AD=[22, 67], DP=87, GQ=53, PL=[949, 0, 53]))\n",
        "59421515 T [A] Call(sample=VGA00006, CallData(GT=0/1, AD=[11, 56], DP=68, GQ=17, PL=[885, 0, 17]))\n",
        "59420181"
       ]
      },
      {
       "output_type": "stream",
       "stream": "stdout",
       "text": [
        " A [C, T] Call(sample=VGA00006, CallData(GT=1/2, AD=[4, 14, 6], DP=23, GQ=10, PL=[135, 36, 10, 96, 0, 90]))\n",
        "59420352 A [C, T] Call(sample=VGA00006, CallData(GT=1/2, AD=[5, 17, 5], DP=26, GQ=26, PL=[209, 55, 26, 150, 0, 147]))\n",
        "59420419 T [C] Call(sample=VGA00006, CallData(GT=0/1, AD=[5, 22], DP=26, GQ=15, PL=[183, 0, 15]))\n",
        "59420465 C [A, G] Call(sample=VGA00006, CallData(GT=1/2, AD=[4, 3, 18], DP=25, GQ=6, PL=[144, 114, 134, 12, 0, 6]))\n",
        "59420589 C [CT] Call(sample=VGA00006, CallData(GT=0/1, AD=[4, 20], DP=26, GQ=7, PL=[398, 0, 7]))\n",
        "59420633 T [G] Call(sample=VGA00006, CallData(GT=0/1, AD=[6, 27], DP=33, GQ=10, PL=[288, 0, 10]))\n",
        "59420839 C [T] Call(sample=VGA00006, CallData(GT=0/1, AD=[13, 48], DP=59, GQ=33, PL=[567, 0, 33]))\n",
        "59421187 G [GA] Call(sample=VGA00006, CallData(GT=0/1, AD=[9, 76], DP=89, GQ=77, PL=[2367, 0, 77]))\n",
        "59421327 T [G] Call(sample=VGA00006, CallData(GT=0/1, AD=[22, 67], DP=87, GQ=53, PL=[949, 0, 53]))\n",
        "59421515 T [A] Call(sample=VGA00006, CallData(GT=0/1, AD=[11, 56], DP=68, GQ=17, PL=[885, 0, 17]))\n",
        "59420181 A [C, T] Call(sample=VGA00006, CallData(GT=1/2, AD=[4, 14, 6], DP=23, GQ=10, PL=[135, 36, 10, 96, 0, 90]))\n",
        "59420352 A [C, T] Call(sample=VGA00006, CallData(GT=1/2, AD=[5, 17, 5], DP=26, GQ=26, PL=[209, 55, 26, 150, 0, 147]))\n",
        "59420419 T [C] Call(sample=VGA00006, CallData(GT=0/1, AD=[5, 22], DP=26, GQ=15, PL=[183, 0, 15]))\n",
        "59420465"
       ]
      },
      {
       "output_type": "stream",
       "stream": "stdout",
       "text": [
        " C [A, G] Call(sample=VGA00006, CallData(GT=1/2, AD=[4, 3, 18], DP=25, GQ=6, PL=[144, 114, 134, 12, 0, 6]))\n",
        "59420589 C [CT] Call(sample=VGA00006, CallData(GT=0/1, AD=[4, 20], DP=26, GQ=7, PL=[398, 0, 7]))\n",
        "59420633 T [G] Call(sample=VGA00006, CallData(GT=0/1, AD=[6, 27], DP=33, GQ=10, PL=[288, 0, 10]))\n",
        "59420839 C [T] Call(sample=VGA00006, CallData(GT=0/1, AD=[13, 48], DP=59, GQ=33, PL=[567, 0, 33]))\n",
        "59421187 G [GA] Call(sample=VGA00006, CallData(GT=0/1, AD=[9, 76], DP=89, GQ=77, PL=[2367, 0, 77]))\n",
        "59421327 T [G] Call(sample=VGA00006, CallData(GT=0/1, AD=[22, 67], DP=87, GQ=53, PL=[949, 0, 53]))\n",
        "59421515 T [A] Call(sample=VGA00006, CallData(GT=0/1, AD=[11, 56], DP=68, GQ=17, PL=[885, 0, 17]))\n",
        "59421585 T [C] Call(sample=VGA00006, CallData(GT=0/1, AD=[10, 26], DP=38, GQ=17, PL=[474, 0, 17]))\n",
        "59420352 A [C, T] Call(sample=VGA00006, CallData(GT=1/2, AD=[5, 17, 5], DP=26, GQ=26, PL=[209, 55, 26, 150, 0, 147]))\n",
        "59420419 T [C] Call(sample=VGA00006, CallData(GT=0/1, AD=[5, 22], DP=26, GQ=15, PL=[183, 0, 15]))\n",
        "59420465 C [A, G] Call(sample=VGA00006, CallData(GT=1/2, AD=[4, 3, 18], DP=25, GQ=6, PL=[144, 114, 134, 12, 0, 6]))\n",
        "59420589 C [CT] Call(sample=VGA00006, CallData(GT=0/1, AD=[4, 20], DP=26, GQ=7, PL=[398, 0, 7]))\n",
        "59420633 T [G] Call(sample=VGA00006, CallData(GT=0/1, AD=[6, 27], DP=33, GQ=10, PL=[288, 0, 10]))\n",
        "59420839"
       ]
      },
      {
       "output_type": "stream",
       "stream": "stdout",
       "text": [
        " C [T] Call(sample=VGA00006, CallData(GT=0/1, AD=[13, 48], DP=59, GQ=33, PL=[567, 0, 33]))\n",
        "59421187 G [GA] Call(sample=VGA00006, CallData(GT=0/1, AD=[9, 76], DP=89, GQ=77, PL=[2367, 0, 77]))\n",
        "59421327 T [G] Call(sample=VGA00006, CallData(GT=0/1, AD=[22, 67], DP=87, GQ=53, PL=[949, 0, 53]))\n",
        "59421515 T [A] Call(sample=VGA00006, CallData(GT=0/1, AD=[11, 56], DP=68, GQ=17, PL=[885, 0, 17]))\n",
        "59420352 A [C, T] Call(sample=VGA00006, CallData(GT=1/2, AD=[5, 17, 5], DP=26, GQ=26, PL=[209, 55, 26, 150, 0, 147]))\n",
        "59420419 T [C] Call(sample=VGA00006, CallData(GT=0/1, AD=[5, 22], DP=26, GQ=15, PL=[183, 0, 15]))\n",
        "59420465 C [A, G] Call(sample=VGA00006, CallData(GT=1/2, AD=[4, 3, 18], DP=25, GQ=6, PL=[144, 114, 134, 12, 0, 6]))\n",
        "59420589 C [CT] Call(sample=VGA00006, CallData(GT=0/1, AD=[4, 20], DP=26, GQ=7, PL=[398, 0, 7]))\n",
        "59420633 T [G] Call(sample=VGA00006, CallData(GT=0/1, AD=[6, 27], DP=33, GQ=10, PL=[288, 0, 10]))\n",
        "59420839 C [T] Call(sample=VGA00006, CallData(GT=0/1, AD=[13, 48], DP=59, GQ=33, PL=[567, 0, 33]))\n",
        "59421187 G [GA] Call(sample=VGA00006, CallData(GT=0/1, AD=[9, 76], DP=89, GQ=77, PL=[2367, 0, 77]))\n",
        "59421327"
       ]
      },
      {
       "output_type": "stream",
       "stream": "stdout",
       "text": [
        " T [G] Call(sample=VGA00006, CallData(GT=0/1, AD=[22, 67], DP=87, GQ=53, PL=[949, 0, 53]))\n",
        "59421515 T [A] Call(sample=VGA00006, CallData(GT=0/1, AD=[11, 56], DP=68, GQ=17, PL=[885, 0, 17]))\n",
        "59420352 A [C, T] Call(sample=VGA00006, CallData(GT=1/2, AD=[5, 17, 5], DP=26, GQ=26, PL=[209, 55, 26, 150, 0, 147]))\n",
        "59420419 T [C] Call(sample=VGA00006, CallData(GT=0/1, AD=[5, 22], DP=26, GQ=15, PL=[183, 0, 15]))\n",
        "59420465 C [A, G] Call(sample=VGA00006, CallData(GT=1/2, AD=[4, 3, 18], DP=25, GQ=6, PL=[144, 114, 134, 12, 0, 6]))\n",
        "59420589 C [CT] Call(sample=VGA00006, CallData(GT=0/1, AD=[4, 20], DP=26, GQ=7, PL=[398, 0, 7]))\n",
        "59420633 T [G] Call(sample=VGA00006, CallData(GT=0/1, AD=[6, 27], DP=33, GQ=10, PL=[288, 0, 10]))\n",
        "59420839 C [T] Call(sample=VGA00006, CallData(GT=0/1, AD=[13, 48], DP=59, GQ=33, PL=[567, 0, 33]))\n",
        "59421187 G [GA] Call(sample=VGA00006, CallData(GT=0/1, AD=[9, 76], DP=89, GQ=77, PL=[2367, 0, 77]))\n",
        "59421327 T [G] Call(sample=VGA00006, CallData(GT=0/1, AD=[22, 67], DP=87, GQ=53, PL=[949, 0, 53]))\n",
        "59421515 T [A] Call(sample=VGA00006, CallData(GT=0/1, AD=[11, 56], DP=68, GQ=17, PL=[885, 0, 17]))\n",
        "59421585 T [C] Call(sample=VGA00006, CallData(GT=0/1, AD=[10, 26], DP=38, GQ=17, PL=[474, 0, 17]))\n",
        "59420352"
       ]
      },
      {
       "output_type": "stream",
       "stream": "stdout",
       "text": [
        " A [C, T] Call(sample=VGA00006, CallData(GT=1/2, AD=[5, 17, 5], DP=26, GQ=26, PL=[209, 55, 26, 150, 0, 147]))\n",
        "59420419 T [C] Call(sample=VGA00006, CallData(GT=0/1, AD=[5, 22], DP=26, GQ=15, PL=[183, 0, 15]))\n",
        "59420465 C [A, G] Call(sample=VGA00006, CallData(GT=1/2, AD=[4, 3, 18], DP=25, GQ=6, PL=[144, 114, 134, 12, 0, 6]))\n",
        "59420589 C [CT] Call(sample=VGA00006, CallData(GT=0/1, AD=[4, 20], DP=26, GQ=7, PL=[398, 0, 7]))\n",
        "59420633 T [G] Call(sample=VGA00006, CallData(GT=0/1, AD=[6, 27], DP=33, GQ=10, PL=[288, 0, 10]))\n",
        "59420839 C [T] Call(sample=VGA00006, CallData(GT=0/1, AD=[13, 48], DP=59, GQ=33, PL=[567, 0, 33]))\n",
        "59421187 G [GA] Call(sample=VGA00006, CallData(GT=0/1, AD=[9, 76], DP=89, GQ=77, PL=[2367, 0, 77]))\n",
        "59421327 T [G] Call(sample=VGA00006, CallData(GT=0/1, AD=[22, 67], DP=87, GQ=53, PL=[949, 0, 53]))\n",
        "59420352 A [C, T] Call(sample=VGA00006, CallData(GT=1/2, AD=[5, 17, 5], DP=26, GQ=26, PL=[209, 55, 26, 150, 0, 147]))\n",
        "59420419 T [C] Call(sample=VGA00006, CallData(GT=0/1, AD=[5, 22], DP=26, GQ=15, PL=[183, 0, 15]))\n",
        "59420465 C [A, G] Call(sample=VGA00006, CallData(GT=1/2, AD=[4, 3, 18], DP=25, GQ=6, PL=[144, 114, 134, 12, 0, 6]))\n",
        "59420589 C [CT] Call(sample=VGA00006, CallData(GT=0/1, AD=[4, 20], DP=26, GQ=7, PL=[398, 0, 7]))\n",
        "59420633 T [G] Call(sample=VGA00006, CallData(GT=0/1, AD=[6, 27], DP=33, GQ=10, PL=[288, 0, 10]))\n",
        "59420839"
       ]
      },
      {
       "output_type": "stream",
       "stream": "stdout",
       "text": [
        " C [T] Call(sample=VGA00006, CallData(GT=0/1, AD=[13, 48], DP=59, GQ=33, PL=[567, 0, 33]))\n",
        "59421187 G [GA] Call(sample=VGA00006, CallData(GT=0/1, AD=[9, 76], DP=89, GQ=77, PL=[2367, 0, 77]))\n",
        "59421327 T [G] Call(sample=VGA00006, CallData(GT=0/1, AD=[22, 67], DP=87, GQ=53, PL=[949, 0, 53]))\n",
        "59421515 T [A] Call(sample=VGA00006, CallData(GT=0/1, AD=[11, 56], DP=68, GQ=17, PL=[885, 0, 17]))\n",
        "59421585 T [C] Call(sample=VGA00006, CallData(GT=0/1, AD=[10, 26], DP=38, GQ=17, PL=[474, 0, 17]))\n",
        "59420352"
       ]
      },
      {
       "output_type": "stream",
       "stream": "stdout",
       "text": [
        " A [C, T] Call(sample=VGA00006, CallData(GT=1/2, AD=[5, 17, 5], DP=26, GQ=26, PL=[209, 55, 26, 150, 0, 147]))\n",
        "59420419 T [C] Call(sample=VGA00006, CallData(GT=0/1, AD=[5, 22], DP=26, GQ=15, PL=[183, 0, 15]))\n",
        "59420465 C [A, G] Call(sample=VGA00006, CallData(GT=1/2, AD=[4, 3, 18], DP=25, GQ=6, PL=[144, 114, 134, 12, 0, 6]))\n",
        "59420589 C [CT] Call(sample=VGA00006, CallData(GT=0/1, AD=[4, 20], DP=26, GQ=7, PL=[398, 0, 7]))\n",
        "59420633 T [G] Call(sample=VGA00006, CallData(GT=0/1, AD=[6, 27], DP=33, GQ=10, PL=[288, 0, 10]))\n",
        "59420839 C [T] Call(sample=VGA00006, CallData(GT=0/1, AD=[13, 48], DP=59, GQ=33, PL=[567, 0, 33]))\n",
        "59421187 G [GA] Call(sample=VGA00006, CallData(GT=0/1, AD=[9, 76], DP=89, GQ=77, PL=[2367, 0, 77]))\n",
        "59421327 T [G] Call(sample=VGA00006, CallData(GT=0/1, AD=[22, 67], DP=87, GQ=53, PL=[949, 0, 53]))\n",
        "59421515 T [A] Call(sample=VGA00006, CallData(GT=0/1, AD=[11, 56], DP=68, GQ=17, PL=[885, 0, 17]))\n",
        "59421585 T [C] Call(sample=VGA00006, CallData(GT=0/1, AD=[10, 26], DP=38, GQ=17, PL=[474, 0, 17]))\n",
        "59420352 A [C, T] Call(sample=VGA00006, CallData(GT=1/2, AD=[5, 17, 5], DP=26, GQ=26, PL=[209, 55, 26, 150, 0, 147]))\n",
        "59420419 T [C] Call(sample=VGA00006, CallData(GT=0/1, AD=[5, 22], DP=26, GQ=15, PL=[183, 0, 15]))\n",
        "59420465 C [A, G] Call(sample=VGA00006, CallData(GT=1/2, AD=[4, 3, 18], DP=25, GQ=6, PL=[144, 114, 134, 12, 0, 6]))\n",
        "59420589 C [CT] Call(sample=VGA00006, CallData(GT=0/1, AD=[4, 20], DP=26, GQ=7, PL=[398, 0, 7]))\n",
        "59420633 T [G] Call(sample=VGA00006, CallData(GT=0/1, AD=[6, 27], DP=33, GQ=10, PL=[288, 0, 10]))\n",
        "59420839"
       ]
      },
      {
       "output_type": "stream",
       "stream": "stdout",
       "text": [
        " C [T] Call(sample=VGA00006, CallData(GT=0/1, AD=[13, 48], DP=59, GQ=33, PL=[567, 0, 33]))\n",
        "59421187 G [GA] Call(sample=VGA00006, CallData(GT=0/1, AD=[9, 76], DP=89, GQ=77, PL=[2367, 0, 77]))\n",
        "59420352 A [C, T] Call(sample=VGA00006, CallData(GT=1/2, AD=[5, 17, 5], DP=26, GQ=26, PL=[209, 55, 26, 150, 0, 147]))\n",
        "59420419 T [C] Call(sample=VGA00006, CallData(GT=0/1, AD=[5, 22], DP=26, GQ=15, PL=[183, 0, 15]))\n",
        "59420465 C [A, G] Call(sample=VGA00006, CallData(GT=1/2, AD=[4, 3, 18], DP=25, GQ=6, PL=[144, 114, 134, 12, 0, 6]))\n",
        "59420589 C [CT] Call(sample=VGA00006, CallData(GT=0/1, AD=[4, 20], DP=26, GQ=7, PL=[398, 0, 7]))\n",
        "59420633 T [G] Call(sample=VGA00006, CallData(GT=0/1, AD=[6, 27], DP=33, GQ=10, PL=[288, 0, 10]))\n",
        "59420839 C [T] Call(sample=VGA00006, CallData(GT=0/1, AD=[13, 48], DP=59, GQ=33, PL=[567, 0, 33]))\n",
        "59421187 G [GA] Call(sample=VGA00006, CallData(GT=0/1, AD=[9, 76], DP=89, GQ=77, PL=[2367, 0, 77]))\n",
        "59421327 T [G] Call(sample=VGA00006, CallData(GT=0/1, AD=[22, 67], DP=87, GQ=53, PL=[949, 0, 53]))\n",
        "59421515 T [A] Call(sample=VGA00006, CallData(GT=0/1, AD=[11, 56], DP=68, GQ=17, PL=[885, 0, 17]))\n",
        "59420419"
       ]
      },
      {
       "output_type": "stream",
       "stream": "stdout",
       "text": [
        " T [C] Call(sample=VGA00006, CallData(GT=0/1, AD=[5, 22], DP=26, GQ=15, PL=[183, 0, 15]))\n",
        "59420465 C [A, G] Call(sample=VGA00006, CallData(GT=1/2, AD=[4, 3, 18], DP=25, GQ=6, PL=[144, 114, 134, 12, 0, 6]))\n",
        "59420589 C [CT] Call(sample=VGA00006, CallData(GT=0/1, AD=[4, 20], DP=26, GQ=7, PL=[398, 0, 7]))\n",
        "59420633 T [G] Call(sample=VGA00006, CallData(GT=0/1, AD=[6, 27], DP=33, GQ=10, PL=[288, 0, 10]))\n",
        "59420839 C [T] Call(sample=VGA00006, CallData(GT=0/1, AD=[13, 48], DP=59, GQ=33, PL=[567, 0, 33]))\n",
        "59421187 G [GA] Call(sample=VGA00006, CallData(GT=0/1, AD=[9, 76], DP=89, GQ=77, PL=[2367, 0, 77]))\n",
        "59421327 T [G] Call(sample=VGA00006, CallData(GT=0/1, AD=[22, 67], DP=87, GQ=53, PL=[949, 0, 53]))\n",
        "59421515 T [A] Call(sample=VGA00006, CallData(GT=0/1, AD=[11, 56], DP=68, GQ=17, PL=[885, 0, 17]))\n",
        "59420419 T [C] Call(sample=VGA00006, CallData(GT=0/1, AD=[5, 22], DP=26, GQ=15, PL=[183, 0, 15]))\n",
        "59420465 C [A, G] Call(sample=VGA00006, CallData(GT=1/2, AD=[4, 3, 18], DP=25, GQ=6, PL=[144, 114, 134, 12, 0, 6]))\n",
        "59420589 C [CT] Call(sample=VGA00006, CallData(GT=0/1, AD=[4, 20], DP=26, GQ=7, PL=[398, 0, 7]))\n",
        "59420633 T [G] Call(sample=VGA00006, CallData(GT=0/1, AD=[6, 27], DP=33, GQ=10, PL=[288, 0, 10]))\n",
        "59420839 C [T] Call(sample=VGA00006, CallData(GT=0/1, AD=[13, 48], DP=59, GQ=33, PL=[567, 0, 33]))\n",
        "59421187"
       ]
      },
      {
       "output_type": "stream",
       "stream": "stdout",
       "text": [
        " G [GA] Call(sample=VGA00006, CallData(GT=0/1, AD=[9, 76], DP=89, GQ=77, PL=[2367, 0, 77]))\n",
        "59421327 T [G] Call(sample=VGA00006, CallData(GT=0/1, AD=[22, 67], DP=87, GQ=53, PL=[949, 0, 53]))\n",
        "59420419 T [C] Call(sample=VGA00006, CallData(GT=0/1, AD=[5, 22], DP=26, GQ=15, PL=[183, 0, 15]))\n",
        "59420465 C [A, G] Call(sample=VGA00006, CallData(GT=1/2, AD=[4, 3, 18], DP=25, GQ=6, PL=[144, 114, 134, 12, 0, 6]))\n",
        "59420589 C [CT] Call(sample=VGA00006, CallData(GT=0/1, AD=[4, 20], DP=26, GQ=7, PL=[398, 0, 7]))\n",
        "59420633 T [G] Call(sample=VGA00006, CallData(GT=0/1, AD=[6, 27], DP=33, GQ=10, PL=[288, 0, 10]))\n",
        "59420839 C [T] Call(sample=VGA00006, CallData(GT=0/1, AD=[13, 48], DP=59, GQ=33, PL=[567, 0, 33]))\n",
        "59421187 G [GA] Call(sample=VGA00006, CallData(GT=0/1, AD=[9, 76], DP=89, GQ=77, PL=[2367, 0, 77]))\n",
        "59421327 T [G] Call(sample=VGA00006, CallData(GT=0/1, AD=[22, 67], DP=87, GQ=53, PL=[949, 0, 53]))\n",
        "59420589"
       ]
      },
      {
       "output_type": "stream",
       "stream": "stdout",
       "text": [
        " C [CT] Call(sample=VGA00006, CallData(GT=0/1, AD=[4, 20], DP=26, GQ=7, PL=[398, 0, 7]))\n",
        "59420633 T [G] Call(sample=VGA00006, CallData(GT=0/1, AD=[6, 27], DP=33, GQ=10, PL=[288, 0, 10]))\n",
        "59420839 C [T] Call(sample=VGA00006, CallData(GT=0/1, AD=[13, 48], DP=59, GQ=33, PL=[567, 0, 33]))\n",
        "59421187 G [GA] Call(sample=VGA00006, CallData(GT=0/1, AD=[9, 76], DP=89, GQ=77, PL=[2367, 0, 77]))\n",
        "59420589 C [CT] Call(sample=VGA00006, CallData(GT=0/1, AD=[4, 20], DP=26, GQ=7, PL=[398, 0, 7]))\n",
        "59420633 T [G] Call(sample=VGA00006, CallData(GT=0/1, AD=[6, 27], DP=33, GQ=10, PL=[288, 0, 10]))\n",
        "59420839 C [T] Call(sample=VGA00006, CallData(GT=0/1, AD=[13, 48], DP=59, GQ=33, PL=[567, 0, 33]))\n",
        "59421187 G [GA] Call(sample=VGA00006, CallData(GT=0/1, AD=[9, 76], DP=89, GQ=77, PL=[2367, 0, 77]))\n",
        "59421327 T [G] Call(sample=VGA00006, CallData(GT=0/1, AD=[22, 67], DP=87, GQ=53, PL=[949, 0, 53]))\n",
        "59420589"
       ]
      },
      {
       "output_type": "stream",
       "stream": "stdout",
       "text": [
        " C [CT] Call(sample=VGA00006, CallData(GT=0/1, AD=[4, 20], DP=26, GQ=7, PL=[398, 0, 7]))\n",
        "59420633 T [G] Call(sample=VGA00006, CallData(GT=0/1, AD=[6, 27], DP=33, GQ=10, PL=[288, 0, 10]))\n",
        "59420839 C [T] Call(sample=VGA00006, CallData(GT=0/1, AD=[13, 48], DP=59, GQ=33, PL=[567, 0, 33]))\n",
        "59421187 G [GA] Call(sample=VGA00006, CallData(GT=0/1, AD=[9, 76], DP=89, GQ=77, PL=[2367, 0, 77]))\n",
        "59421327 T [G] Call(sample=VGA00006, CallData(GT=0/1, AD=[22, 67], DP=87, GQ=53, PL=[949, 0, 53]))\n",
        "59421515 T [A] Call(sample=VGA00006, CallData(GT=0/1, AD=[11, 56], DP=68, GQ=17, PL=[885, 0, 17]))\n",
        "59420589 C [CT] Call(sample=VGA00006, CallData(GT=0/1, AD=[4, 20], DP=26, GQ=7, PL=[398, 0, 7]))\n",
        "59420633 T [G] Call(sample=VGA00006, CallData(GT=0/1, AD=[6, 27], DP=33, GQ=10, PL=[288, 0, 10]))\n",
        "59420839 C [T] Call(sample=VGA00006, CallData(GT=0/1, AD=[13, 48], DP=59, GQ=33, PL=[567, 0, 33]))\n",
        "59421187 G [GA] Call(sample=VGA00006, CallData(GT=0/1, AD=[9, 76], DP=89, GQ=77, PL=[2367, 0, 77]))\n",
        "59421327 T [G] Call(sample=VGA00006, CallData(GT=0/1, AD=[22, 67], DP=87, GQ=53, PL=[949, 0, 53]))\n",
        "59421515"
       ]
      },
      {
       "output_type": "stream",
       "stream": "stdout",
       "text": [
        " T [A] Call(sample=VGA00006, CallData(GT=0/1, AD=[11, 56], DP=68, GQ=17, PL=[885, 0, 17]))\n",
        "59421585 T [C] Call(sample=VGA00006, CallData(GT=0/1, AD=[10, 26], DP=38, GQ=17, PL=[474, 0, 17]))\n",
        "59421613 G [T] Call(sample=VGA00006, CallData(GT=0/1, AD=[2, 5], DP=7, GQ=28, PL=[82, 0, 28]))\n",
        "59420589 C [CT] Call(sample=VGA00006, CallData(GT=0/1, AD=[4, 20], DP=26, GQ=7, PL=[398, 0, 7]))\n",
        "59420633 T [G] Call(sample=VGA00006, CallData(GT=0/1, AD=[6, 27], DP=33, GQ=10, PL=[288, 0, 10]))\n",
        "59420839 C [T] Call(sample=VGA00006, CallData(GT=0/1, AD=[13, 48], DP=59, GQ=33, PL=[567, 0, 33]))\n",
        "59421187 G [GA] Call(sample=VGA00006, CallData(GT=0/1, AD=[9, 76], DP=89, GQ=77, PL=[2367, 0, 77]))\n",
        "59421327 T [G] Call(sample=VGA00006, CallData(GT=0/1, AD=[22, 67], DP=87, GQ=53, PL=[949, 0, 53]))\n",
        "59421515 T [A] Call(sample=VGA00006, CallData(GT=0/1, AD=[11, 56], DP=68, GQ=17, PL=[885, 0, 17]))\n",
        "59420589 C [CT] Call(sample=VGA00006, CallData(GT=0/1, AD=[4, 20], DP=26, GQ=7, PL=[398, 0, 7]))\n",
        "59420633 T [G] Call(sample=VGA00006, CallData(GT=0/1, AD=[6, 27], DP=33, GQ=10, PL=[288, 0, 10]))\n",
        "59420839 C [T] Call(sample=VGA00006, CallData(GT=0/1, AD=[13, 48], DP=59, GQ=33, PL=[567, 0, 33]))\n",
        "59421187"
       ]
      },
      {
       "output_type": "stream",
       "stream": "stdout",
       "text": [
        " G [GA] Call(sample=VGA00006, CallData(GT=0/1, AD=[9, 76], DP=89, GQ=77, PL=[2367, 0, 77]))\n",
        "59421327 T [G] Call(sample=VGA00006, CallData(GT=0/1, AD=[22, 67], DP=87, GQ=53, PL=[949, 0, 53]))\n",
        "59421515 T [A] Call(sample=VGA00006, CallData(GT=0/1, AD=[11, 56], DP=68, GQ=17, PL=[885, 0, 17]))\n",
        "59421585 T [C] Call(sample=VGA00006, CallData(GT=0/1, AD=[10, 26], DP=38, GQ=17, PL=[474, 0, 17]))\n",
        "59420589 C [CT] Call(sample=VGA00006, CallData(GT=0/1, AD=[4, 20], DP=26, GQ=7, PL=[398, 0, 7]))\n",
        "59420633 T [G] Call(sample=VGA00006, CallData(GT=0/1, AD=[6, 27], DP=33, GQ=10, PL=[288, 0, 10]))\n",
        "59420839 C [T] Call(sample=VGA00006, CallData(GT=0/1, AD=[13, 48], DP=59, GQ=33, PL=[567, 0, 33]))\n",
        "59421187 G [GA] Call(sample=VGA00006, CallData(GT=0/1, AD=[9, 76], DP=89, GQ=77, PL=[2367, 0, 77]))\n",
        "59421327 T [G] Call(sample=VGA00006, CallData(GT=0/1, AD=[22, 67], DP=87, GQ=53, PL=[949, 0, 53]))\n",
        "59420589 C [CT] Call(sample=VGA00006, CallData(GT=0/1, AD=[4, 20], DP=26, GQ=7, PL=[398, 0, 7]))\n",
        "59420633 T [G] Call(sample=VGA00006, CallData(GT=0/1, AD=[6, 27], DP=33, GQ=10, PL=[288, 0, 10]))\n",
        "59420839"
       ]
      },
      {
       "output_type": "stream",
       "stream": "stdout",
       "text": [
        " C [T] Call(sample=VGA00006, CallData(GT=0/1, AD=[13, 48], DP=59, GQ=33, PL=[567, 0, 33]))\n",
        "59421187 G [GA] Call(sample=VGA00006, CallData(GT=0/1, AD=[9, 76], DP=89, GQ=77, PL=[2367, 0, 77]))\n",
        "59421327 T [G] Call(sample=VGA00006, CallData(GT=0/1, AD=[22, 67], DP=87, GQ=53, PL=[949, 0, 53]))\n",
        "59420589 C [CT] Call(sample=VGA00006, CallData(GT=0/1, AD=[4, 20], DP=26, GQ=7, PL=[398, 0, 7]))\n",
        "59420633 T [G] Call(sample=VGA00006, CallData(GT=0/1, AD=[6, 27], DP=33, GQ=10, PL=[288, 0, 10]))\n",
        "59420839 C [T] Call(sample=VGA00006, CallData(GT=0/1, AD=[13, 48], DP=59, GQ=33, PL=[567, 0, 33]))\n",
        "59421187 G [GA] Call(sample=VGA00006, CallData(GT=0/1, AD=[9, 76], DP=89, GQ=77, PL=[2367, 0, 77]))\n",
        "59421327 T [G] Call(sample=VGA00006, CallData(GT=0/1, AD=[22, 67], DP=87, GQ=53, PL=[949, 0, 53]))\n",
        "59420589"
       ]
      },
      {
       "output_type": "stream",
       "stream": "stdout",
       "text": [
        " C [CT] Call(sample=VGA00006, CallData(GT=0/1, AD=[4, 20], DP=26, GQ=7, PL=[398, 0, 7]))\n",
        "59420633 T [G] Call(sample=VGA00006, CallData(GT=0/1, AD=[6, 27], DP=33, GQ=10, PL=[288, 0, 10]))\n",
        "59420839 C [T] Call(sample=VGA00006, CallData(GT=0/1, AD=[13, 48], DP=59, GQ=33, PL=[567, 0, 33]))\n",
        "59421187 G [GA] Call(sample=VGA00006, CallData(GT=0/1, AD=[9, 76], DP=89, GQ=77, PL=[2367, 0, 77]))\n",
        "59421327 T [G] Call(sample=VGA00006, CallData(GT=0/1, AD=[22, 67], DP=87, GQ=53, PL=[949, 0, 53]))\n",
        "59421515 T [A] Call(sample=VGA00006, CallData(GT=0/1, AD=[11, 56], DP=68, GQ=17, PL=[885, 0, 17]))\n",
        "59421585 T [C] Call(sample=VGA00006, CallData(GT=0/1, AD=[10, 26], DP=38, GQ=17, PL=[474, 0, 17]))\n",
        "59420633 T [G] Call(sample=VGA00006, CallData(GT=0/1, AD=[6, 27], DP=33, GQ=10, PL=[288, 0, 10]))\n",
        "59420839 C [T] Call(sample=VGA00006, CallData(GT=0/1, AD=[13, 48], DP=59, GQ=33, PL=[567, 0, 33]))\n",
        "59421187 G [GA] Call(sample=VGA00006, CallData(GT=0/1, AD=[9, 76], DP=89, GQ=77, PL=[2367, 0, 77]))\n",
        "59421327 T [G] Call(sample=VGA00006, CallData(GT=0/1, AD=[22, 67], DP=87, GQ=53, PL=[949, 0, 53]))\n",
        "59421515"
       ]
      },
      {
       "output_type": "stream",
       "stream": "stdout",
       "text": [
        " T [A] Call(sample=VGA00006, CallData(GT=0/1, AD=[11, 56], DP=68, GQ=17, PL=[885, 0, 17]))\n",
        "59420633 T [G] Call(sample=VGA00006, CallData(GT=0/1, AD=[6, 27], DP=33, GQ=10, PL=[288, 0, 10]))\n",
        "59420839 C [T] Call(sample=VGA00006, CallData(GT=0/1, AD=[13, 48], DP=59, GQ=33, PL=[567, 0, 33]))\n",
        "59421187 G [GA] Call(sample=VGA00006, CallData(GT=0/1, AD=[9, 76], DP=89, GQ=77, PL=[2367, 0, 77]))\n",
        "59421327 T [G] Call(sample=VGA00006, CallData(GT=0/1, AD=[22, 67], DP=87, GQ=53, PL=[949, 0, 53]))\n",
        "59421515 T [A] Call(sample=VGA00006, CallData(GT=0/1, AD=[11, 56], DP=68, GQ=17, PL=[885, 0, 17]))\n",
        "59420633 T [G] Call(sample=VGA00006, CallData(GT=0/1, AD=[6, 27], DP=33, GQ=10, PL=[288, 0, 10]))\n",
        "59420839 C [T] Call(sample=VGA00006, CallData(GT=0/1, AD=[13, 48], DP=59, GQ=33, PL=[567, 0, 33]))\n",
        "59421187"
       ]
      },
      {
       "output_type": "stream",
       "stream": "stdout",
       "text": [
        " G [GA] Call(sample=VGA00006, CallData(GT=0/1, AD=[9, 76], DP=89, GQ=77, PL=[2367, 0, 77]))\n",
        "59421327 T [G] Call(sample=VGA00006, CallData(GT=0/1, AD=[22, 67], DP=87, GQ=53, PL=[949, 0, 53]))\n",
        "59420839 C [T] Call(sample=VGA00006, CallData(GT=0/1, AD=[13, 48], DP=59, GQ=33, PL=[567, 0, 33]))\n",
        "59421187 G [GA] Call(sample=VGA00006, CallData(GT=0/1, AD=[9, 76], DP=89, GQ=77, PL=[2367, 0, 77]))\n",
        "59421327 T [G] Call(sample=VGA00006, CallData(GT=0/1, AD=[22, 67], DP=87, GQ=53, PL=[949, 0, 53]))\n",
        "59421515 T [A] Call(sample=VGA00006, CallData(GT=0/1, AD=[11, 56], DP=68, GQ=17, PL=[885, 0, 17]))\n",
        "59421585 T [C] Call(sample=VGA00006, CallData(GT=0/1, AD=[10, 26], DP=38, GQ=17, PL=[474, 0, 17]))\n",
        "59420839 C [T] Call(sample=VGA00006, CallData(GT=0/1, AD=[13, 48], DP=59, GQ=33, PL=[567, 0, 33]))\n",
        "59421187"
       ]
      },
      {
       "output_type": "stream",
       "stream": "stdout",
       "text": [
        " G [GA] Call(sample=VGA00006, CallData(GT=0/1, AD=[9, 76], DP=89, GQ=77, PL=[2367, 0, 77]))\n",
        "59421327 T [G] Call(sample=VGA00006, CallData(GT=0/1, AD=[22, 67], DP=87, GQ=53, PL=[949, 0, 53]))\n",
        "59420839 C [T] Call(sample=VGA00006, CallData(GT=0/1, AD=[13, 48], DP=59, GQ=33, PL=[567, 0, 33]))\n",
        "59421187 G [GA] Call(sample=VGA00006, CallData(GT=0/1, AD=[9, 76], DP=89, GQ=77, PL=[2367, 0, 77]))\n",
        "59421327 T [G] Call(sample=VGA00006, CallData(GT=0/1, AD=[22, 67], DP=87, GQ=53, PL=[949, 0, 53]))\n",
        "59420839 C [T] Call(sample=VGA00006, CallData(GT=0/1, AD=[13, 48], DP=59, GQ=33, PL=[567, 0, 33]))\n",
        "59421187"
       ]
      },
      {
       "output_type": "stream",
       "stream": "stdout",
       "text": [
        " G [GA] Call(sample=VGA00006, CallData(GT=0/1, AD=[9, 76], DP=89, GQ=77, PL=[2367, 0, 77]))\n",
        "59421327 T [G] Call(sample=VGA00006, CallData(GT=0/1, AD=[22, 67], DP=87, GQ=53, PL=[949, 0, 53]))\n",
        "59421515 T [A] Call(sample=VGA00006, CallData(GT=0/1, AD=[11, 56], DP=68, GQ=17, PL=[885, 0, 17]))\n",
        "59421585 T [C] Call(sample=VGA00006, CallData(GT=0/1, AD=[10, 26], DP=38, GQ=17, PL=[474, 0, 17]))\n",
        "59420839 C [T] Call(sample=VGA00006, CallData(GT=0/1, AD=[13, 48], DP=59, GQ=33, PL=[567, 0, 33]))\n",
        "59421187 G [GA] Call(sample=VGA00006, CallData(GT=0/1, AD=[9, 76], DP=89, GQ=77, PL=[2367, 0, 77]))\n",
        "59421327 T [G] Call(sample=VGA00006, CallData(GT=0/1, AD=[22, 67], DP=87, GQ=53, PL=[949, 0, 53]))\n",
        "59420839 C [T] Call(sample=VGA00006, CallData(GT=0/1, AD=[13, 48], DP=59, GQ=33, PL=[567, 0, 33]))\n",
        "59421187"
       ]
      },
      {
       "output_type": "stream",
       "stream": "stdout",
       "text": [
        " G [GA] Call(sample=VGA00006, CallData(GT=0/1, AD=[9, 76], DP=89, GQ=77, PL=[2367, 0, 77]))\n",
        "59421327 T [G] Call(sample=VGA00006, CallData(GT=0/1, AD=[22, 67], DP=87, GQ=53, PL=[949, 0, 53]))\n",
        "59420839 C [T] Call(sample=VGA00006, CallData(GT=0/1, AD=[13, 48], DP=59, GQ=33, PL=[567, 0, 33]))\n",
        "59421187 G [GA] Call(sample=VGA00006, CallData(GT=0/1, AD=[9, 76], DP=89, GQ=77, PL=[2367, 0, 77]))\n",
        "59420839 C [T] Call(sample=VGA00006, CallData(GT=0/1, AD=[13, 48], DP=59, GQ=33, PL=[567, 0, 33]))\n",
        "59421187"
       ]
      },
      {
       "output_type": "stream",
       "stream": "stdout",
       "text": [
        " G [GA] Call(sample=VGA00006, CallData(GT=0/1, AD=[9, 76], DP=89, GQ=77, PL=[2367, 0, 77]))\n",
        "59421327 T [G] Call(sample=VGA00006, CallData(GT=0/1, AD=[22, 67], DP=87, GQ=53, PL=[949, 0, 53]))\n",
        "59420839 C [T] Call(sample=VGA00006, CallData(GT=0/1, AD=[13, 48], DP=59, GQ=33, PL=[567, 0, 33]))\n",
        "59421187 G [GA] Call(sample=VGA00006, CallData(GT=0/1, AD=[9, 76], DP=89, GQ=77, PL=[2367, 0, 77]))\n",
        "59421327 T [G] Call(sample=VGA00006, CallData(GT=0/1, AD=[22, 67], DP=87, GQ=53, PL=[949, 0, 53]))\n",
        "59421515 T [A] Call(sample=VGA00006, CallData(GT=0/1, AD=[11, 56], DP=68, GQ=17, PL=[885, 0, 17]))\n",
        "59420839 C [T] Call(sample=VGA00006, CallData(GT=0/1, AD=[13, 48], DP=59, GQ=33, PL=[567, 0, 33]))\n",
        "59421187"
       ]
      },
      {
       "output_type": "stream",
       "stream": "stdout",
       "text": [
        " G [GA] Call(sample=VGA00006, CallData(GT=0/1, AD=[9, 76], DP=89, GQ=77, PL=[2367, 0, 77]))\n",
        "59421327 T [G] Call(sample=VGA00006, CallData(GT=0/1, AD=[22, 67], DP=87, GQ=53, PL=[949, 0, 53]))\n",
        "59421515 T [A] Call(sample=VGA00006, CallData(GT=0/1, AD=[11, 56], DP=68, GQ=17, PL=[885, 0, 17]))\n",
        "59420839 C [T] Call(sample=VGA00006, CallData(GT=0/1, AD=[13, 48], DP=59, GQ=33, PL=[567, 0, 33]))\n",
        "59421187 G [GA] Call(sample=VGA00006, CallData(GT=0/1, AD=[9, 76], DP=89, GQ=77, PL=[2367, 0, 77]))\n",
        "59421327 T [G] Call(sample=VGA00006, CallData(GT=0/1, AD=[22, 67], DP=87, GQ=53, PL=[949, 0, 53]))\n",
        "59421515 T [A] Call(sample=VGA00006, CallData(GT=0/1, AD=[11, 56], DP=68, GQ=17, PL=[885, 0, 17]))\n",
        "59421585 T [C] Call(sample=VGA00006, CallData(GT=0/1, AD=[10, 26], DP=38, GQ=17, PL=[474, 0, 17]))\n",
        "59420839 C [T] Call(sample=VGA00006, CallData(GT=0/1, AD=[13, 48], DP=59, GQ=33, PL=[567, 0, 33]))\n",
        "59421187"
       ]
      },
      {
       "output_type": "stream",
       "stream": "stdout",
       "text": [
        " G [GA] Call(sample=VGA00006, CallData(GT=0/1, AD=[9, 76], DP=89, GQ=77, PL=[2367, 0, 77]))\n",
        "59421327 T [G] Call(sample=VGA00006, CallData(GT=0/1, AD=[22, 67], DP=87, GQ=53, PL=[949, 0, 53]))\n",
        "59420839 C [T] Call(sample=VGA00006, CallData(GT=0/1, AD=[13, 48], DP=59, GQ=33, PL=[567, 0, 33]))\n",
        "59421187 G [GA] Call(sample=VGA00006, CallData(GT=0/1, AD=[9, 76], DP=89, GQ=77, PL=[2367, 0, 77]))\n",
        "59421327 T [G] Call(sample=VGA00006, CallData(GT=0/1, AD=[22, 67], DP=87, GQ=53, PL=[949, 0, 53]))\n",
        "59420839 C [T] Call(sample=VGA00006, CallData(GT=0/1, AD=[13, 48], DP=59, GQ=33, PL=[567, 0, 33]))\n",
        "59421187"
       ]
      },
      {
       "output_type": "stream",
       "stream": "stdout",
       "text": [
        " G [GA] Call(sample=VGA00006, CallData(GT=0/1, AD=[9, 76], DP=89, GQ=77, PL=[2367, 0, 77]))\n",
        "59421327 T [G] Call(sample=VGA00006, CallData(GT=0/1, AD=[22, 67], DP=87, GQ=53, PL=[949, 0, 53]))\n",
        "59420839 C [T] Call(sample=VGA00006, CallData(GT=0/1, AD=[13, 48], DP=59, GQ=33, PL=[567, 0, 33]))\n",
        "59421187 G [GA] Call(sample=VGA00006, CallData(GT=0/1, AD=[9, 76], DP=89, GQ=77, PL=[2367, 0, 77]))\n",
        "59421327 T [G] Call(sample=VGA00006, CallData(GT=0/1, AD=[22, 67], DP=87, GQ=53, PL=[949, 0, 53]))\n",
        "59421515 T [A] Call(sample=VGA00006, CallData(GT=0/1, AD=[11, 56], DP=68, GQ=17, PL=[885, 0, 17]))\n",
        "59420839 C [T] Call(sample=VGA00006, CallData(GT=0/1, AD=[13, 48], DP=59, GQ=33, PL=[567, 0, 33]))\n",
        "59421187"
       ]
      },
      {
       "output_type": "stream",
       "stream": "stdout",
       "text": [
        " G [GA] Call(sample=VGA00006, CallData(GT=0/1, AD=[9, 76], DP=89, GQ=77, PL=[2367, 0, 77]))\n",
        "59421327 T [G] Call(sample=VGA00006, CallData(GT=0/1, AD=[22, 67], DP=87, GQ=53, PL=[949, 0, 53]))\n",
        "59421515 T [A] Call(sample=VGA00006, CallData(GT=0/1, AD=[11, 56], DP=68, GQ=17, PL=[885, 0, 17]))\n",
        "59420839 C [T] Call(sample=VGA00006, CallData(GT=0/1, AD=[13, 48], DP=59, GQ=33, PL=[567, 0, 33]))\n",
        "59421187 G [GA] Call(sample=VGA00006, CallData(GT=0/1, AD=[9, 76], DP=89, GQ=77, PL=[2367, 0, 77]))\n",
        "59421327 T [G] Call(sample=VGA00006, CallData(GT=0/1, AD=[22, 67], DP=87, GQ=53, PL=[949, 0, 53]))\n",
        "59421515 T [A] Call(sample=VGA00006, CallData(GT=0/1, AD=[11, 56], DP=68, GQ=17, PL=[885, 0, 17]))\n",
        "59420839 C [T] Call(sample=VGA00006, CallData(GT=0/1, AD=[13, 48], DP=59, GQ=33, PL=[567, 0, 33]))\n",
        "59421187"
       ]
      },
      {
       "output_type": "stream",
       "stream": "stdout",
       "text": [
        " G [GA] Call(sample=VGA00006, CallData(GT=0/1, AD=[9, 76], DP=89, GQ=77, PL=[2367, 0, 77]))\n",
        "59421327 T [G] Call(sample=VGA00006, CallData(GT=0/1, AD=[22, 67], DP=87, GQ=53, PL=[949, 0, 53]))\n",
        "59421515 T [A] Call(sample=VGA00006, CallData(GT=0/1, AD=[11, 56], DP=68, GQ=17, PL=[885, 0, 17]))\n",
        "59421585 T [C] Call(sample=VGA00006, CallData(GT=0/1, AD=[10, 26], DP=38, GQ=17, PL=[474, 0, 17]))\n",
        "59420839 C [T] Call(sample=VGA00006, CallData(GT=0/1, AD=[13, 48], DP=59, GQ=33, PL=[567, 0, 33]))\n",
        "59421187 G [GA] Call(sample=VGA00006, CallData(GT=0/1, AD=[9, 76], DP=89, GQ=77, PL=[2367, 0, 77]))\n",
        "59421327 T [G] Call(sample=VGA00006, CallData(GT=0/1, AD=[22, 67], DP=87, GQ=53, PL=[949, 0, 53]))\n",
        "59421515 T [A] Call(sample=VGA00006, CallData(GT=0/1, AD=[11, 56], DP=68, GQ=17, PL=[885, 0, 17]))\n",
        "59420839 C [T] Call(sample=VGA00006, CallData(GT=0/1, AD=[13, 48], DP=59, GQ=33, PL=[567, 0, 33]))\n",
        "59421187"
       ]
      },
      {
       "output_type": "stream",
       "stream": "stdout",
       "text": [
        " G [GA] Call(sample=VGA00006, CallData(GT=0/1, AD=[9, 76], DP=89, GQ=77, PL=[2367, 0, 77]))\n",
        "59421327 T [G] Call(sample=VGA00006, CallData(GT=0/1, AD=[22, 67], DP=87, GQ=53, PL=[949, 0, 53]))\n",
        "59421515 T [A] Call(sample=VGA00006, CallData(GT=0/1, AD=[11, 56], DP=68, GQ=17, PL=[885, 0, 17]))\n",
        "59420839 C [T] Call(sample=VGA00006, CallData(GT=0/1, AD=[13, 48], DP=59, GQ=33, PL=[567, 0, 33]))\n",
        "59421187 G [GA] Call(sample=VGA00006, CallData(GT=0/1, AD=[9, 76], DP=89, GQ=77, PL=[2367, 0, 77]))\n",
        "59421327 T [G] Call(sample=VGA00006, CallData(GT=0/1, AD=[22, 67], DP=87, GQ=53, PL=[949, 0, 53]))\n",
        "59421515 T [A] Call(sample=VGA00006, CallData(GT=0/1, AD=[11, 56], DP=68, GQ=17, PL=[885, 0, 17]))\n",
        "59420839 C [T] Call(sample=VGA00006, CallData(GT=0/1, AD=[13, 48], DP=59, GQ=33, PL=[567, 0, 33]))\n",
        "59421187"
       ]
      },
      {
       "output_type": "stream",
       "stream": "stdout",
       "text": [
        " G [GA] Call(sample=VGA00006, CallData(GT=0/1, AD=[9, 76], DP=89, GQ=77, PL=[2367, 0, 77]))\n",
        "59421327 T [G] Call(sample=VGA00006, CallData(GT=0/1, AD=[22, 67], DP=87, GQ=53, PL=[949, 0, 53]))\n",
        "59420839 C [T] Call(sample=VGA00006, CallData(GT=0/1, AD=[13, 48], DP=59, GQ=33, PL=[567, 0, 33]))\n",
        "59421187 G [GA] Call(sample=VGA00006, CallData(GT=0/1, AD=[9, 76], DP=89, GQ=77, PL=[2367, 0, 77]))\n",
        "59421327 T [G] Call(sample=VGA00006, CallData(GT=0/1, AD=[22, 67], DP=87, GQ=53, PL=[949, 0, 53]))\n",
        "59420839 C [T] Call(sample=VGA00006, CallData(GT=0/1, AD=[13, 48], DP=59, GQ=33, PL=[567, 0, 33]))\n",
        "59421187 G [GA] Call(sample=VGA00006, CallData(GT=0/1, AD=[9, 76], DP=89, GQ=77, PL=[2367, 0, 77]))\n",
        "59421327"
       ]
      },
      {
       "output_type": "stream",
       "stream": "stdout",
       "text": [
        " T [G] Call(sample=VGA00006, CallData(GT=0/1, AD=[22, 67], DP=87, GQ=53, PL=[949, 0, 53]))\n",
        "59421515 T [A] Call(sample=VGA00006, CallData(GT=0/1, AD=[11, 56], DP=68, GQ=17, PL=[885, 0, 17]))\n",
        "59420839 C [T] Call(sample=VGA00006, CallData(GT=0/1, AD=[13, 48], DP=59, GQ=33, PL=[567, 0, 33]))\n",
        "59421187 G [GA] Call(sample=VGA00006, CallData(GT=0/1, AD=[9, 76], DP=89, GQ=77, PL=[2367, 0, 77]))\n",
        "59421327 T [G] Call(sample=VGA00006, CallData(GT=0/1, AD=[22, 67], DP=87, GQ=53, PL=[949, 0, 53]))\n",
        "59421515 T [A] Call(sample=VGA00006, CallData(GT=0/1, AD=[11, 56], DP=68, GQ=17, PL=[885, 0, 17]))\n",
        "59421585 T [C] Call(sample=VGA00006, CallData(GT=0/1, AD=[10, 26], DP=38, GQ=17, PL=[474, 0, 17]))\n",
        "59420839 C [T] Call(sample=VGA00006, CallData(GT=0/1, AD=[13, 48], DP=59, GQ=33, PL=[567, 0, 33]))\n",
        "59421187 G [GA] Call(sample=VGA00006, CallData(GT=0/1, AD=[9, 76], DP=89, GQ=77, PL=[2367, 0, 77]))\n",
        "59421327"
       ]
      },
      {
       "output_type": "stream",
       "stream": "stdout",
       "text": [
        " T [G] Call(sample=VGA00006, CallData(GT=0/1, AD=[22, 67], DP=87, GQ=53, PL=[949, 0, 53]))\n",
        "59420839 C [T] Call(sample=VGA00006, CallData(GT=0/1, AD=[13, 48], DP=59, GQ=33, PL=[567, 0, 33]))\n",
        "59421187 G [GA] Call(sample=VGA00006, CallData(GT=0/1, AD=[9, 76], DP=89, GQ=77, PL=[2367, 0, 77]))\n",
        "59421327 T [G] Call(sample=VGA00006, CallData(GT=0/1, AD=[22, 67], DP=87, GQ=53, PL=[949, 0, 53]))\n",
        "59421515 T [A] Call(sample=VGA00006, CallData(GT=0/1, AD=[11, 56], DP=68, GQ=17, PL=[885, 0, 17]))\n",
        "59421585 T [C] Call(sample=VGA00006, CallData(GT=0/1, AD=[10, 26], DP=38, GQ=17, PL=[474, 0, 17]))\n",
        "59420839 C [T] Call(sample=VGA00006, CallData(GT=0/1, AD=[13, 48], DP=59, GQ=33, PL=[567, 0, 33]))\n",
        "59421187 G [GA] Call(sample=VGA00006, CallData(GT=0/1, AD=[9, 76], DP=89, GQ=77, PL=[2367, 0, 77]))\n",
        "59421327 T [G] Call(sample=VGA00006, CallData(GT=0/1, AD=[22, 67], DP=87, GQ=53, PL=[949, 0, 53]))\n",
        "59421515 T [A] Call(sample=VGA00006, CallData(GT=0/1, AD=[11, 56], DP=68, GQ=17, PL=[885, 0, 17]))\n",
        "59420839"
       ]
      },
      {
       "output_type": "stream",
       "stream": "stdout",
       "text": [
        " C [T] Call(sample=VGA00006, CallData(GT=0/1, AD=[13, 48], DP=59, GQ=33, PL=[567, 0, 33]))\n",
        "59421187 G [GA] Call(sample=VGA00006, CallData(GT=0/1, AD=[9, 76], DP=89, GQ=77, PL=[2367, 0, 77]))\n",
        "59421327 T [G] Call(sample=VGA00006, CallData(GT=0/1, AD=[22, 67], DP=87, GQ=53, PL=[949, 0, 53]))\n",
        "59420839 C [T] Call(sample=VGA00006, CallData(GT=0/1, AD=[13, 48], DP=59, GQ=33, PL=[567, 0, 33]))\n",
        "59421187 G [GA] Call(sample=VGA00006, CallData(GT=0/1, AD=[9, 76], DP=89, GQ=77, PL=[2367, 0, 77]))\n",
        "59421327 T [G] Call(sample=VGA00006, CallData(GT=0/1, AD=[22, 67], DP=87, GQ=53, PL=[949, 0, 53]))\n",
        "59421515 T [A] Call(sample=VGA00006, CallData(GT=0/1, AD=[11, 56], DP=68, GQ=17, PL=[885, 0, 17]))\n",
        "59421187"
       ]
      },
      {
       "output_type": "stream",
       "stream": "stdout",
       "text": [
        " G [GA] Call(sample=VGA00006, CallData(GT=0/1, AD=[9, 76], DP=89, GQ=77, PL=[2367, 0, 77]))\n",
        "59421327 T [G] Call(sample=VGA00006, CallData(GT=0/1, AD=[22, 67], DP=87, GQ=53, PL=[949, 0, 53]))\n",
        "59421187 G [GA] Call(sample=VGA00006, CallData(GT=0/1, AD=[9, 76], DP=89, GQ=77, PL=[2367, 0, 77]))\n",
        "59421327 T [G] Call(sample=VGA00006, CallData(GT=0/1, AD=[22, 67], DP=87, GQ=53, PL=[949, 0, 53]))\n",
        "59421515 T [A] Call(sample=VGA00006, CallData(GT=0/1, AD=[11, 56], DP=68, GQ=17, PL=[885, 0, 17]))\n",
        "59421585 T [C] Call(sample=VGA00006, CallData(GT=0/1, AD=[10, 26], DP=38, GQ=17, PL=[474, 0, 17]))\n",
        "59421187 G [GA] Call(sample=VGA00006, CallData(GT=0/1, AD=[9, 76], DP=89, GQ=77, PL=[2367, 0, 77]))\n",
        "59421327 T [G] Call(sample=VGA00006, CallData(GT=0/1, AD=[22, 67], DP=87, GQ=53, PL=[949, 0, 53]))\n",
        "59421515 T [A] Call(sample=VGA00006, CallData(GT=0/1, AD=[11, 56], DP=68, GQ=17, PL=[885, 0, 17]))\n",
        "59421187"
       ]
      },
      {
       "output_type": "stream",
       "stream": "stdout",
       "text": [
        " G [GA] Call(sample=VGA00006, CallData(GT=0/1, AD=[9, 76], DP=89, GQ=77, PL=[2367, 0, 77]))\n",
        "59421327 T [G] Call(sample=VGA00006, CallData(GT=0/1, AD=[22, 67], DP=87, GQ=53, PL=[949, 0, 53]))\n",
        "59421515 T [A] Call(sample=VGA00006, CallData(GT=0/1, AD=[11, 56], DP=68, GQ=17, PL=[885, 0, 17]))\n",
        "59421187 G [GA] Call(sample=VGA00006, CallData(GT=0/1, AD=[9, 76], DP=89, GQ=77, PL=[2367, 0, 77]))\n",
        "59421327 T [G] Call(sample=VGA00006, CallData(GT=0/1, AD=[22, 67], DP=87, GQ=53, PL=[949, 0, 53]))\n",
        "59421187 G [GA] Call(sample=VGA00006, CallData(GT=0/1, AD=[9, 76], DP=89, GQ=77, PL=[2367, 0, 77]))\n",
        "59421327 T [G] Call(sample=VGA00006, CallData(GT=0/1, AD=[22, 67], DP=87, GQ=53, PL=[949, 0, 53]))\n",
        "59421515 T [A] Call(sample=VGA00006, CallData(GT=0/1, AD=[11, 56], DP=68, GQ=17, PL=[885, 0, 17]))\n",
        "59421585 T [C] Call(sample=VGA00006, CallData(GT=0/1, AD=[10, 26], DP=38, GQ=17, PL=[474, 0, 17]))\n",
        "59421187"
       ]
      },
      {
       "output_type": "stream",
       "stream": "stdout",
       "text": [
        " G [GA] Call(sample=VGA00006, CallData(GT=0/1, AD=[9, 76], DP=89, GQ=77, PL=[2367, 0, 77]))\n",
        "59421327 T [G] Call(sample=VGA00006, CallData(GT=0/1, AD=[22, 67], DP=87, GQ=53, PL=[949, 0, 53]))\n",
        "59421515 T [A] Call(sample=VGA00006, CallData(GT=0/1, AD=[11, 56], DP=68, GQ=17, PL=[885, 0, 17]))\n",
        "59421585 T [C] Call(sample=VGA00006, CallData(GT=0/1, AD=[10, 26], DP=38, GQ=17, PL=[474, 0, 17]))\n",
        "59421187 G [GA] Call(sample=VGA00006, CallData(GT=0/1, AD=[9, 76], DP=89, GQ=77, PL=[2367, 0, 77]))\n",
        "59421327 T [G] Call(sample=VGA00006, CallData(GT=0/1, AD=[22, 67], DP=87, GQ=53, PL=[949, 0, 53]))\n",
        "59421515 T [A] Call(sample=VGA00006, CallData(GT=0/1, AD=[11, 56], DP=68, GQ=17, PL=[885, 0, 17]))\n",
        "59421187 G [GA] Call(sample=VGA00006, CallData(GT=0/1, AD=[9, 76], DP=89, GQ=77, PL=[2367, 0, 77]))\n",
        "59421327 T [G] Call(sample=VGA00006, CallData(GT=0/1, AD=[22, 67], DP=87, GQ=53, PL=[949, 0, 53]))\n",
        "59421515 T [A] Call(sample=VGA00006, CallData(GT=0/1, AD=[11, 56], DP=68, GQ=17, PL=[885, 0, 17]))\n",
        "59421585 T [C] Call(sample=VGA00006, CallData(GT=0/1, AD=[10, 26], DP=38, GQ=17, PL=[474, 0, 17]))\n",
        "59421187"
       ]
      },
      {
       "output_type": "stream",
       "stream": "stdout",
       "text": [
        " G [GA] Call(sample=VGA00006, CallData(GT=0/1, AD=[9, 76], DP=89, GQ=77, PL=[2367, 0, 77]))\n",
        "59421327 T [G] Call(sample=VGA00006, CallData(GT=0/1, AD=[22, 67], DP=87, GQ=53, PL=[949, 0, 53]))\n",
        "59421515 T [A] Call(sample=VGA00006, CallData(GT=0/1, AD=[11, 56], DP=68, GQ=17, PL=[885, 0, 17]))\n",
        "59421585 T [C] Call(sample=VGA00006, CallData(GT=0/1, AD=[10, 26], DP=38, GQ=17, PL=[474, 0, 17]))\n",
        "59421187 G [GA] Call(sample=VGA00006, CallData(GT=0/1, AD=[9, 76], DP=89, GQ=77, PL=[2367, 0, 77]))\n",
        "59421327 T [G] Call(sample=VGA00006, CallData(GT=0/1, AD=[22, 67], DP=87, GQ=53, PL=[949, 0, 53]))\n",
        "59421515 T [A] Call(sample=VGA00006, CallData(GT=0/1, AD=[11, 56], DP=68, GQ=17, PL=[885, 0, 17]))\n",
        "59421585 T [C] Call(sample=VGA00006, CallData(GT=0/1, AD=[10, 26], DP=38, GQ=17, PL=[474, 0, 17]))\n",
        "59421613 G [T] Call(sample=VGA00006, CallData(GT=0/1, AD=[2, 5], DP=7, GQ=28, PL=[82, 0, 28]))\n",
        "59421187 G [GA] Call(sample=VGA00006, CallData(GT=0/1, AD=[9, 76], DP=89, GQ=77, PL=[2367, 0, 77]))\n",
        "59421327 T [G] Call(sample=VGA00006, CallData(GT=0/1, AD=[22, 67], DP=87, GQ=53, PL=[949, 0, 53]))\n",
        "59421515 T [A] Call(sample=VGA00006, CallData(GT=0/1, AD=[11, 56], DP=68, GQ=17, PL=[885, 0, 17]))"
       ]
      },
      {
       "output_type": "stream",
       "stream": "stdout",
       "text": [
        "\n",
        "59421187 G [GA] Call(sample=VGA00006, CallData(GT=0/1, AD=[9, 76], DP=89, GQ=77, PL=[2367, 0, 77]))\n",
        "59421327 T [G] Call(sample=VGA00006, CallData(GT=0/1, AD=[22, 67], DP=87, GQ=53, PL=[949, 0, 53]))\n",
        "59421515 T [A] Call(sample=VGA00006, CallData(GT=0/1, AD=[11, 56], DP=68, GQ=17, PL=[885, 0, 17]))\n",
        "59421187 G [GA] Call(sample=VGA00006, CallData(GT=0/1, AD=[9, 76], DP=89, GQ=77, PL=[2367, 0, 77]))\n",
        "59421327 T [G] Call(sample=VGA00006, CallData(GT=0/1, AD=[22, 67], DP=87, GQ=53, PL=[949, 0, 53]))\n",
        "59421515 T [A] Call(sample=VGA00006, CallData(GT=0/1, AD=[11, 56], DP=68, GQ=17, PL=[885, 0, 17]))\n",
        "59421187"
       ]
      },
      {
       "output_type": "stream",
       "stream": "stdout",
       "text": [
        " G [GA] Call(sample=VGA00006, CallData(GT=0/1, AD=[9, 76], DP=89, GQ=77, PL=[2367, 0, 77]))\n",
        "59421327 T [G] Call(sample=VGA00006, CallData(GT=0/1, AD=[22, 67], DP=87, GQ=53, PL=[949, 0, 53]))\n",
        "59421515 T [A] Call(sample=VGA00006, CallData(GT=0/1, AD=[11, 56], DP=68, GQ=17, PL=[885, 0, 17]))\n",
        "59421585 T [C] Call(sample=VGA00006, CallData(GT=0/1, AD=[10, 26], DP=38, GQ=17, PL=[474, 0, 17]))\n",
        "59421187 G [GA] Call(sample=VGA00006, CallData(GT=0/1, AD=[9, 76], DP=89, GQ=77, PL=[2367, 0, 77]))\n",
        "59421327 T [G] Call(sample=VGA00006, CallData(GT=0/1, AD=[22, 67], DP=87, GQ=53, PL=[949, 0, 53]))\n",
        "59421515 T [A] Call(sample=VGA00006, CallData(GT=0/1, AD=[11, 56], DP=68, GQ=17, PL=[885, 0, 17]))\n",
        "59421585 T [C] Call(sample=VGA00006, CallData(GT=0/1, AD=[10, 26], DP=38, GQ=17, PL=[474, 0, 17]))\n",
        "59421187 G [GA] Call(sample=VGA00006, CallData(GT=0/1, AD=[9, 76], DP=89, GQ=77, PL=[2367, 0, 77]))\n",
        "59421327 T [G] Call(sample=VGA00006, CallData(GT=0/1, AD=[22, 67], DP=87, GQ=53, PL=[949, 0, 53]))\n",
        "59421515 T [A] Call(sample=VGA00006, CallData(GT=0/1, AD=[11, 56], DP=68, GQ=17, PL=[885, 0, 17]))\n",
        "59421585 T [C] Call(sample=VGA00006, CallData(GT=0/1, AD=[10, 26], DP=38, GQ=17, PL=[474, 0, 17]))\n",
        "59421187"
       ]
      },
      {
       "output_type": "stream",
       "stream": "stdout",
       "text": [
        " G [GA] Call(sample=VGA00006, CallData(GT=0/1, AD=[9, 76], DP=89, GQ=77, PL=[2367, 0, 77]))\n",
        "59421327 T [G] Call(sample=VGA00006, CallData(GT=0/1, AD=[22, 67], DP=87, GQ=53, PL=[949, 0, 53]))\n",
        "59421515 T [A] Call(sample=VGA00006, CallData(GT=0/1, AD=[11, 56], DP=68, GQ=17, PL=[885, 0, 17]))\n",
        "59421585 T [C] Call(sample=VGA00006, CallData(GT=0/1, AD=[10, 26], DP=38, GQ=17, PL=[474, 0, 17]))\n",
        "59421187 G [GA] Call(sample=VGA00006, CallData(GT=0/1, AD=[9, 76], DP=89, GQ=77, PL=[2367, 0, 77]))\n",
        "59421327 T [G] Call(sample=VGA00006, CallData(GT=0/1, AD=[22, 67], DP=87, GQ=53, PL=[949, 0, 53]))\n",
        "59421515 T [A] Call(sample=VGA00006, CallData(GT=0/1, AD=[11, 56], DP=68, GQ=17, PL=[885, 0, 17]))\n",
        "59421585 T [C] Call(sample=VGA00006, CallData(GT=0/1, AD=[10, 26], DP=38, GQ=17, PL=[474, 0, 17]))\n",
        "59421187"
       ]
      },
      {
       "output_type": "stream",
       "stream": "stdout",
       "text": [
        " G [GA] Call(sample=VGA00006, CallData(GT=0/1, AD=[9, 76], DP=89, GQ=77, PL=[2367, 0, 77]))\n",
        "59421327 T [G] Call(sample=VGA00006, CallData(GT=0/1, AD=[22, 67], DP=87, GQ=53, PL=[949, 0, 53]))\n",
        "59421515 T [A] Call(sample=VGA00006, CallData(GT=0/1, AD=[11, 56], DP=68, GQ=17, PL=[885, 0, 17]))\n",
        "59421187 G [GA] Call(sample=VGA00006, CallData(GT=0/1, AD=[9, 76], DP=89, GQ=77, PL=[2367, 0, 77]))\n",
        "59421327 T [G] Call(sample=VGA00006, CallData(GT=0/1, AD=[22, 67], DP=87, GQ=53, PL=[949, 0, 53]))\n",
        "59421515 T [A] Call(sample=VGA00006, CallData(GT=0/1, AD=[11, 56], DP=68, GQ=17, PL=[885, 0, 17]))\n",
        "59421187 G [GA] Call(sample=VGA00006, CallData(GT=0/1, AD=[9, 76], DP=89, GQ=77, PL=[2367, 0, 77]))\n",
        "59421327 T [G] Call(sample=VGA00006, CallData(GT=0/1, AD=[22, 67], DP=87, GQ=53, PL=[949, 0, 53]))\n",
        "59421515 T [A] Call(sample=VGA00006, CallData(GT=0/1, AD=[11, 56], DP=68, GQ=17, PL=[885, 0, 17]))\n",
        "59421187"
       ]
      },
      {
       "output_type": "stream",
       "stream": "stdout",
       "text": [
        " G [GA] Call(sample=VGA00006, CallData(GT=0/1, AD=[9, 76], DP=89, GQ=77, PL=[2367, 0, 77]))\n",
        "59421327 T [G] Call(sample=VGA00006, CallData(GT=0/1, AD=[22, 67], DP=87, GQ=53, PL=[949, 0, 53]))\n",
        "59421515 T [A] Call(sample=VGA00006, CallData(GT=0/1, AD=[11, 56], DP=68, GQ=17, PL=[885, 0, 17]))\n",
        "59421585 T [C] Call(sample=VGA00006, CallData(GT=0/1, AD=[10, 26], DP=38, GQ=17, PL=[474, 0, 17]))\n",
        "59421187 G [GA] Call(sample=VGA00006, CallData(GT=0/1, AD=[9, 76], DP=89, GQ=77, PL=[2367, 0, 77]))\n",
        "59421327 T [G] Call(sample=VGA00006, CallData(GT=0/1, AD=[22, 67], DP=87, GQ=53, PL=[949, 0, 53]))\n",
        "59421515 T [A] Call(sample=VGA00006, CallData(GT=0/1, AD=[11, 56], DP=68, GQ=17, PL=[885, 0, 17]))\n",
        "59421585 T [C] Call(sample=VGA00006, CallData(GT=0/1, AD=[10, 26], DP=38, GQ=17, PL=[474, 0, 17]))\n",
        "59421613 G [T] Call(sample=VGA00006, CallData(GT=0/1, AD=[2, 5], DP=7, GQ=28, PL=[82, 0, 28]))\n",
        "59421187 G [GA] Call(sample=VGA00006, CallData(GT=0/1, AD=[9, 76], DP=89, GQ=77, PL=[2367, 0, 77]))\n",
        "59421327 T [G] Call(sample=VGA00006, CallData(GT=0/1, AD=[22, 67], DP=87, GQ=53, PL=[949, 0, 53]))\n",
        "59421515 T [A] Call(sample=VGA00006, CallData(GT=0/1, AD=[11, 56], DP=68, GQ=17, PL=[885, 0, 17]))\n",
        "59421585 T [C] Call(sample=VGA00006, CallData(GT=0/1, AD=[10, 26], DP=38, GQ=17, PL=[474, 0, 17]))\n",
        "59421187"
       ]
      },
      {
       "output_type": "stream",
       "stream": "stdout",
       "text": [
        " G [GA] Call(sample=VGA00006, CallData(GT=0/1, AD=[9, 76], DP=89, GQ=77, PL=[2367, 0, 77]))\n",
        "59421327 T [G] Call(sample=VGA00006, CallData(GT=0/1, AD=[22, 67], DP=87, GQ=53, PL=[949, 0, 53]))\n",
        "59421515 T [A] Call(sample=VGA00006, CallData(GT=0/1, AD=[11, 56], DP=68, GQ=17, PL=[885, 0, 17]))\n",
        "59421187 G [GA] Call(sample=VGA00006, CallData(GT=0/1, AD=[9, 76], DP=89, GQ=77, PL=[2367, 0, 77]))\n",
        "59421327 T [G] Call(sample=VGA00006, CallData(GT=0/1, AD=[22, 67], DP=87, GQ=53, PL=[949, 0, 53]))\n",
        "59421515 T [A] Call(sample=VGA00006, CallData(GT=0/1, AD=[11, 56], DP=68, GQ=17, PL=[885, 0, 17]))\n",
        "59421585 T [C] Call(sample=VGA00006, CallData(GT=0/1, AD=[10, 26], DP=38, GQ=17, PL=[474, 0, 17]))\n",
        "59421187 G [GA] Call(sample=VGA00006, CallData(GT=0/1, AD=[9, 76], DP=89, GQ=77, PL=[2367, 0, 77]))\n",
        "59421327 T [G] Call(sample=VGA00006, CallData(GT=0/1, AD=[22, 67], DP=87, GQ=53, PL=[949, 0, 53]))\n",
        "59421515 T [A] Call(sample=VGA00006, CallData(GT=0/1, AD=[11, 56], DP=68, GQ=17, PL=[885, 0, 17]))\n",
        "59421187"
       ]
      },
      {
       "output_type": "stream",
       "stream": "stdout",
       "text": [
        " G [GA] Call(sample=VGA00006, CallData(GT=0/1, AD=[9, 76], DP=89, GQ=77, PL=[2367, 0, 77]))\n",
        "59421327 T [G] Call(sample=VGA00006, CallData(GT=0/1, AD=[22, 67], DP=87, GQ=53, PL=[949, 0, 53]))\n",
        "59421515 T [A] Call(sample=VGA00006, CallData(GT=0/1, AD=[11, 56], DP=68, GQ=17, PL=[885, 0, 17]))\n",
        "59421585 T [C] Call(sample=VGA00006, CallData(GT=0/1, AD=[10, 26], DP=38, GQ=17, PL=[474, 0, 17]))\n",
        "59421187 G [GA] Call(sample=VGA00006, CallData(GT=0/1, AD=[9, 76], DP=89, GQ=77, PL=[2367, 0, 77]))\n",
        "59421327 T [G] Call(sample=VGA00006, CallData(GT=0/1, AD=[22, 67], DP=87, GQ=53, PL=[949, 0, 53]))\n",
        "59421515 T [A] Call(sample=VGA00006, CallData(GT=0/1, AD=[11, 56], DP=68, GQ=17, PL=[885, 0, 17]))\n",
        "59421585 T [C] Call(sample=VGA00006, CallData(GT=0/1, AD=[10, 26], DP=38, GQ=17, PL=[474, 0, 17]))\n",
        "59421613 G [T] Call(sample=VGA00006, CallData(GT=0/1, AD=[2, 5], DP=7, GQ=28, PL=[82, 0, 28]))\n",
        "59421187 G [GA] Call(sample=VGA00006, CallData(GT=0/1, AD=[9, 76], DP=89, GQ=77, PL=[2367, 0, 77]))\n",
        "59421327 T [G] Call(sample=VGA00006, CallData(GT=0/1, AD=[22, 67], DP=87, GQ=53, PL=[949, 0, 53]))\n",
        "59421515 T [A] Call(sample=VGA00006, CallData(GT=0/1, AD=[11, 56], DP=68, GQ=17, PL=[885, 0, 17]))\n",
        "59421585 T [C] Call(sample=VGA00006, CallData(GT=0/1, AD=[10, 26], DP=38, GQ=17, PL=[474, 0, 17]))\n",
        "59421613 G [T] Call(sample=VGA00006, CallData(GT=0/1, AD=[2, 5], DP=7, GQ=28, PL=[82, 0, 28]))\n",
        "59421187"
       ]
      },
      {
       "output_type": "stream",
       "stream": "stdout",
       "text": [
        " G [GA] Call(sample=VGA00006, CallData(GT=0/1, AD=[9, 76], DP=89, GQ=77, PL=[2367, 0, 77]))\n",
        "59421327 T [G] Call(sample=VGA00006, CallData(GT=0/1, AD=[22, 67], DP=87, GQ=53, PL=[949, 0, 53]))\n",
        "59421515 T [A] Call(sample=VGA00006, CallData(GT=0/1, AD=[11, 56], DP=68, GQ=17, PL=[885, 0, 17]))\n",
        "59421585 T [C] Call(sample=VGA00006, CallData(GT=0/1, AD=[10, 26], DP=38, GQ=17, PL=[474, 0, 17]))\n",
        "59421613 G [T] Call(sample=VGA00006, CallData(GT=0/1, AD=[2, 5], DP=7, GQ=28, PL=[82, 0, 28]))\n",
        "59421187 G [GA] Call(sample=VGA00006, CallData(GT=0/1, AD=[9, 76], DP=89, GQ=77, PL=[2367, 0, 77]))\n",
        "59421327 T [G] Call(sample=VGA00006, CallData(GT=0/1, AD=[22, 67], DP=87, GQ=53, PL=[949, 0, 53]))\n",
        "59421515 T [A] Call(sample=VGA00006, CallData(GT=0/1, AD=[11, 56], DP=68, GQ=17, PL=[885, 0, 17]))\n",
        "59421585 T [C] Call(sample=VGA00006, CallData(GT=0/1, AD=[10, 26], DP=38, GQ=17, PL=[474, 0, 17]))\n",
        "59421187 G [GA] Call(sample=VGA00006, CallData(GT=0/1, AD=[9, 76], DP=89, GQ=77, PL=[2367, 0, 77]))\n",
        "59421327 T [G] Call(sample=VGA00006, CallData(GT=0/1, AD=[22, 67], DP=87, GQ=53, PL=[949, 0, 53]))\n",
        "59421515 T [A] Call(sample=VGA00006, CallData(GT=0/1, AD=[11, 56], DP=68, GQ=17, PL=[885, 0, 17]))\n",
        "59421187"
       ]
      },
      {
       "output_type": "stream",
       "stream": "stdout",
       "text": [
        " G [GA] Call(sample=VGA00006, CallData(GT=0/1, AD=[9, 76], DP=89, GQ=77, PL=[2367, 0, 77]))\n",
        "59421327 T [G] Call(sample=VGA00006, CallData(GT=0/1, AD=[22, 67], DP=87, GQ=53, PL=[949, 0, 53]))\n",
        "59421515 T [A] Call(sample=VGA00006, CallData(GT=0/1, AD=[11, 56], DP=68, GQ=17, PL=[885, 0, 17]))\n",
        "59421585 T [C] Call(sample=VGA00006, CallData(GT=0/1, AD=[10, 26], DP=38, GQ=17, PL=[474, 0, 17]))\n",
        "59421187 G [GA] Call(sample=VGA00006, CallData(GT=0/1, AD=[9, 76], DP=89, GQ=77, PL=[2367, 0, 77]))\n",
        "59421327 T [G] Call(sample=VGA00006, CallData(GT=0/1, AD=[22, 67], DP=87, GQ=53, PL=[949, 0, 53]))\n",
        "59421515 T [A] Call(sample=VGA00006, CallData(GT=0/1, AD=[11, 56], DP=68, GQ=17, PL=[885, 0, 17]))\n",
        "59421585 T [C] Call(sample=VGA00006, CallData(GT=0/1, AD=[10, 26], DP=38, GQ=17, PL=[474, 0, 17]))\n",
        "59421187 G [GA] Call(sample=VGA00006, CallData(GT=0/1, AD=[9, 76], DP=89, GQ=77, PL=[2367, 0, 77]))\n",
        "59421327 T [G] Call(sample=VGA00006, CallData(GT=0/1, AD=[22, 67], DP=87, GQ=53, PL=[949, 0, 53]))\n",
        "59421515 T [A] Call(sample=VGA00006, CallData(GT=0/1, AD=[11, 56], DP=68, GQ=17, PL=[885, 0, 17]))\n",
        "59421585 T [C] Call(sample=VGA00006, CallData(GT=0/1, AD=[10, 26], DP=38, GQ=17, PL=[474, 0, 17]))\n",
        "59421613 G [T] Call(sample=VGA00006, CallData(GT=0/1, AD=[2, 5], DP=7, GQ=28, PL=[82, 0, 28]))\n",
        "59421187"
       ]
      },
      {
       "ename": "Exception",
       "evalue": "ref allele in reference and in the VCF don't agree, they are T and A respectively",
       "output_type": "pyerr",
       "traceback": [
        "\u001b[1;31m---------------------------------------------------------------------------\u001b[0m\n\u001b[1;31mException\u001b[0m                                 Traceback (most recent call last)",
        "\u001b[1;32m<ipython-input-327-807f088a5313>\u001b[0m in \u001b[0;36m<module>\u001b[1;34m()\u001b[0m\n\u001b[0;32m      1\u001b[0m \u001b[0mdf\u001b[0m \u001b[1;33m=\u001b[0m \u001b[0mpd\u001b[0m\u001b[1;33m.\u001b[0m\u001b[0mDataFrame\u001b[0m\u001b[1;33m(\u001b[0m\u001b[1;33m)\u001b[0m\u001b[1;31m#index=pd.MultiIndex([[None,None]],[['chrom','pos']])\u001b[0m\u001b[1;33m\u001b[0m\u001b[0m\n\u001b[0;32m      2\u001b[0m \u001b[1;32mfor\u001b[0m \u001b[0m_\u001b[0m\u001b[1;33m,\u001b[0m\u001b[0minterval\u001b[0m \u001b[1;32min\u001b[0m \u001b[0mpacbio_intervals\u001b[0m\u001b[1;33m.\u001b[0m\u001b[0miloc\u001b[0m\u001b[1;33m[\u001b[0m\u001b[1;33m:\u001b[0m\u001b[1;36m7000\u001b[0m\u001b[1;33m]\u001b[0m\u001b[1;33m.\u001b[0m\u001b[0miterrows\u001b[0m\u001b[1;33m(\u001b[0m\u001b[1;33m)\u001b[0m\u001b[1;33m:\u001b[0m\u001b[1;33m\u001b[0m\u001b[0m\n\u001b[1;32m----> 3\u001b[1;33m     \u001b[0mpacbio_df\u001b[0m\u001b[1;33m,\u001b[0m\u001b[0mcortex_df\u001b[0m\u001b[1;33m,\u001b[0m\u001b[0mdf0\u001b[0m \u001b[1;33m=\u001b[0m \u001b[0msnp_compare_df\u001b[0m\u001b[1;33m(\u001b[0m\u001b[0minterval\u001b[0m\u001b[1;33m[\u001b[0m\u001b[1;34m'chrom'\u001b[0m\u001b[1;33m]\u001b[0m\u001b[1;33m,\u001b[0m\u001b[0minterval\u001b[0m\u001b[1;33m[\u001b[0m\u001b[1;34m'start'\u001b[0m\u001b[1;33m]\u001b[0m\u001b[1;33m,\u001b[0m\u001b[0minterval\u001b[0m\u001b[1;33m[\u001b[0m\u001b[1;34m'end'\u001b[0m\u001b[1;33m]\u001b[0m\u001b[1;33m,\u001b[0m\u001b[0mucla_id\u001b[0m\u001b[1;33m)\u001b[0m\u001b[1;33m\u001b[0m\u001b[0m\n\u001b[0m\u001b[0;32m      4\u001b[0m     \u001b[0mdf\u001b[0m\u001b[1;33m=\u001b[0m\u001b[0mdf\u001b[0m\u001b[1;33m.\u001b[0m\u001b[0mappend\u001b[0m\u001b[1;33m(\u001b[0m\u001b[0mdf0\u001b[0m\u001b[1;33m)\u001b[0m\u001b[1;33m\u001b[0m\u001b[0m\n\u001b[0;32m      5\u001b[0m \u001b[0mdf\u001b[0m\u001b[1;33m=\u001b[0m\u001b[0mdf\u001b[0m\u001b[1;33m.\u001b[0m\u001b[0mreindex_axis\u001b[0m\u001b[1;33m(\u001b[0m\u001b[1;33m[\u001b[0m\u001b[1;34m'ref'\u001b[0m\u001b[1;33m,\u001b[0m\u001b[1;34m'pacbio'\u001b[0m\u001b[1;33m,\u001b[0m\u001b[1;34m'illumina0'\u001b[0m\u001b[1;33m,\u001b[0m\u001b[1;34m'illumina1'\u001b[0m\u001b[1;33m,\u001b[0m\u001b[1;34m'cov'\u001b[0m\u001b[1;33m,\u001b[0m\u001b[1;34m'gt_conf'\u001b[0m\u001b[1;33m,\u001b[0m\u001b[1;34m'site_conf'\u001b[0m\u001b[1;33m]\u001b[0m\u001b[1;33m,\u001b[0m \u001b[0maxis\u001b[0m\u001b[1;33m=\u001b[0m\u001b[1;36m1\u001b[0m\u001b[1;33m)\u001b[0m\u001b[1;33m\u001b[0m\u001b[0m\n",
        "\u001b[1;32m<ipython-input-326-93edb8f72eff>\u001b[0m in \u001b[0;36msnp_compare_df\u001b[1;34m(chrom, start, end, ucla_id)\u001b[0m\n\u001b[0;32m     55\u001b[0m     \u001b[1;32mfor\u001b[0m \u001b[0mrecord\u001b[0m \u001b[1;32min\u001b[0m \u001b[0mcortex\u001b[0m\u001b[1;33m:\u001b[0m\u001b[1;33m\u001b[0m\u001b[0m\n\u001b[0;32m     56\u001b[0m         \u001b[0mpos\u001b[0m \u001b[1;33m=\u001b[0m \u001b[0mint\u001b[0m\u001b[1;33m(\u001b[0m\u001b[0mrecord\u001b[0m\u001b[1;33m.\u001b[0m\u001b[0mPOS\u001b[0m\u001b[1;33m)\u001b[0m\u001b[1;33m\u001b[0m\u001b[0m\n\u001b[1;32m---> 57\u001b[1;33m         \u001b[0malleles\u001b[0m \u001b[1;33m=\u001b[0m \u001b[0mget_alleles\u001b[0m\u001b[1;33m(\u001b[0m\u001b[0mrecord\u001b[0m\u001b[1;33m)\u001b[0m\u001b[1;33m\u001b[0m\u001b[0m\n\u001b[0m\u001b[0;32m     58\u001b[0m         \u001b[1;31m#omit SNPs that are homozygous reference in the cortex calls if there is no SNP in the pacbio data-set\u001b[0m\u001b[1;33m\u001b[0m\u001b[1;33m\u001b[0m\u001b[0m\n\u001b[0;32m     59\u001b[0m         \u001b[1;32mif\u001b[0m \u001b[0malleles\u001b[0m\u001b[1;33m[\u001b[0m\u001b[1;36m1\u001b[0m\u001b[1;33m]\u001b[0m \u001b[1;33m==\u001b[0m \u001b[0malleles\u001b[0m\u001b[1;33m[\u001b[0m\u001b[1;36m0\u001b[0m\u001b[1;33m]\u001b[0m \u001b[1;32mand\u001b[0m \u001b[0malleles\u001b[0m\u001b[1;33m[\u001b[0m\u001b[1;36m2\u001b[0m\u001b[1;33m]\u001b[0m \u001b[1;33m==\u001b[0m \u001b[0malleles\u001b[0m\u001b[1;33m[\u001b[0m\u001b[1;36m0\u001b[0m\u001b[1;33m]\u001b[0m \u001b[1;32mand\u001b[0m \u001b[0mpos\u001b[0m \u001b[1;32mnot\u001b[0m \u001b[1;32min\u001b[0m \u001b[0mpacbio_df\u001b[0m\u001b[1;33m.\u001b[0m\u001b[0mindex\u001b[0m\u001b[1;33m.\u001b[0m\u001b[0mvalues\u001b[0m\u001b[1;33m:\u001b[0m\u001b[1;33m\u001b[0m\u001b[0m\n",
        "\u001b[1;32m<ipython-input-326-93edb8f72eff>\u001b[0m in \u001b[0;36mget_alleles\u001b[1;34m(record)\u001b[0m\n\u001b[0;32m     14\u001b[0m         \u001b[1;32mif\u001b[0m \u001b[0mrecord\u001b[0m\u001b[1;33m.\u001b[0m\u001b[0mREF\u001b[0m \u001b[1;33m!=\u001b[0m \u001b[0mref_allele\u001b[0m\u001b[1;33m:\u001b[0m\u001b[1;33m\u001b[0m\u001b[0m\n\u001b[0;32m     15\u001b[0m             raise Exception(\\\n\u001b[1;32m---> 16\u001b[1;33m                  \"ref allele in reference and in the VCF don't agree, they are \"+ref_allele+\" and \"+record.REF+\" respectively\")\n\u001b[0m\u001b[0;32m     17\u001b[0m         \u001b[1;31m# alleles = (ref,gt0,gt1)\u001b[0m\u001b[1;33m\u001b[0m\u001b[1;33m\u001b[0m\u001b[0m\n\u001b[0;32m     18\u001b[0m         \u001b[0malleles\u001b[0m \u001b[1;33m=\u001b[0m \u001b[1;33m[\u001b[0m\u001b[0mref_allele\u001b[0m\u001b[1;33m]\u001b[0m\u001b[1;33m\u001b[0m\u001b[0m\n",
        "\u001b[1;31mException\u001b[0m: ref allele in reference and in the VCF don't agree, they are T and A respectively"
       ]
      },
      {
       "output_type": "stream",
       "stream": "stdout",
       "text": [
        " G [GA] Call(sample=VGA00006, CallData(GT=0/1, AD=[9, 76], DP=89, GQ=77, PL=[2367, 0, 77]))\n",
        "59421327 T [G] Call(sample=VGA00006, CallData(GT=0/1, AD=[22, 67], DP=87, GQ=53, PL=[949, 0, 53]))\n",
        "59421515 T [A] Call(sample=VGA00006, CallData(GT=0/1, AD=[11, 56], DP=68, GQ=17, PL=[885, 0, 17]))\n",
        "59421585 T [C] Call(sample=VGA00006, CallData(GT=0/1, AD=[10, 26], DP=38, GQ=17, PL=[474, 0, 17]))\n",
        "59421187 G [GA] Call(sample=VGA00006, CallData(GT=0/1, AD=[9, 76], DP=89, GQ=77, PL=[2367, 0, 77]))\n",
        "59421327 T [G] Call(sample=VGA00006, CallData(GT=0/1, AD=[22, 67], DP=87, GQ=53, PL=[949, 0, 53]))\n",
        "59421515 T [A] Call(sample=VGA00006, CallData(GT=0/1, AD=[11, 56], DP=68, GQ=17, PL=[885, 0, 17]))\n",
        "59421585 T [C] Call(sample=VGA00006, CallData(GT=0/1, AD=[10, 26], DP=38, GQ=17, PL=[474, 0, 17]))\n"
       ]
      }
     ],
     "prompt_number": 327
    },
    {
     "cell_type": "code",
     "collapsed": false,
     "input": [],
     "language": "python",
     "metadata": {},
     "outputs": []
    },
    {
     "cell_type": "code",
     "collapsed": false,
     "input": [
      "false_negative="
     ],
     "language": "python",
     "metadata": {},
     "outputs": []
    },
    {
     "cell_type": "code",
     "collapsed": false,
     "input": [
      "print df.iloc[:3]"
     ],
     "language": "python",
     "metadata": {},
     "outputs": [
      {
       "output_type": "stream",
       "stream": "stdout",
       "text": [
        "                   cov  gt_conf illumina0 illumina1 pacbio ref  site_conf\n",
        "(CAE1, 380545)     NaN      NaN       NaN       NaN    [T]   C        NaN\n",
        "(CAE1, 380865)  [0, 5]     3.46       [T]       [T]    [T]   A      13.72\n",
        "(CAE1, 653845)  [0, 3]     2.08       [A]       [A]    NaN   G      10.17\n"
       ]
      }
     ],
     "prompt_number": 325
    },
    {
     "cell_type": "code",
     "collapsed": false,
     "input": [
      "df.loc[:][:10000]"
     ],
     "language": "python",
     "metadata": {},
     "outputs": [
      {
       "html": [
        "<div style=\"max-height:1000px;max-width:1500px;overflow:auto;\">\n",
        "<table border=\"1\" class=\"dataframe\">\n",
        "  <thead>\n",
        "    <tr style=\"text-align: right;\">\n",
        "      <th></th>\n",
        "      <th>ref</th>\n",
        "      <th>pacbio</th>\n",
        "      <th>illumina0</th>\n",
        "      <th>illumina1</th>\n",
        "      <th>cov</th>\n",
        "      <th>gt_conf</th>\n",
        "      <th>site_conf</th>\n",
        "    </tr>\n",
        "  </thead>\n",
        "  <tbody>\n",
        "    <tr>\n",
        "      <th>(CAE1, 380545)</th>\n",
        "      <td> C</td>\n",
        "      <td> [T]</td>\n",
        "      <td> NaN</td>\n",
        "      <td> NaN</td>\n",
        "      <td>     NaN</td>\n",
        "      <td>   NaN</td>\n",
        "      <td>   NaN</td>\n",
        "    </tr>\n",
        "    <tr>\n",
        "      <th>(CAE1, 380865)</th>\n",
        "      <td> A</td>\n",
        "      <td> [T]</td>\n",
        "      <td> [T]</td>\n",
        "      <td> [T]</td>\n",
        "      <td>  [0, 5]</td>\n",
        "      <td>  3.46</td>\n",
        "      <td> 13.72</td>\n",
        "    </tr>\n",
        "    <tr>\n",
        "      <th>(CAE1, 653845)</th>\n",
        "      <td> G</td>\n",
        "      <td> NaN</td>\n",
        "      <td> [A]</td>\n",
        "      <td> [A]</td>\n",
        "      <td>  [0, 3]</td>\n",
        "      <td>  2.08</td>\n",
        "      <td> 10.17</td>\n",
        "    </tr>\n",
        "    <tr>\n",
        "      <th>(CAE1, 653988)</th>\n",
        "      <td> C</td>\n",
        "      <td> NaN</td>\n",
        "      <td>   C</td>\n",
        "      <td>   C</td>\n",
        "      <td>  [7, 0]</td>\n",
        "      <td>  4.85</td>\n",
        "      <td>  1.31</td>\n",
        "    </tr>\n",
        "    <tr>\n",
        "      <th>(CAE1, 654034)</th>\n",
        "      <td> T</td>\n",
        "      <td> [C]</td>\n",
        "      <td> [C]</td>\n",
        "      <td> [C]</td>\n",
        "      <td>  [0, 4]</td>\n",
        "      <td>  2.77</td>\n",
        "      <td>  0.77</td>\n",
        "    </tr>\n",
        "    <tr>\n",
        "      <th>(CAE1, 1090163)</th>\n",
        "      <td> G</td>\n",
        "      <td> [T]</td>\n",
        "      <td> NaN</td>\n",
        "      <td> NaN</td>\n",
        "      <td>     NaN</td>\n",
        "      <td>   NaN</td>\n",
        "      <td>   NaN</td>\n",
        "    </tr>\n",
        "    <tr>\n",
        "      <th>(CAE1, 1090258)</th>\n",
        "      <td> T</td>\n",
        "      <td> NaN</td>\n",
        "      <td>   T</td>\n",
        "      <td>   T</td>\n",
        "      <td> [17, 0]</td>\n",
        "      <td> 11.09</td>\n",
        "      <td>  1.42</td>\n",
        "    </tr>\n",
        "    <tr>\n",
        "      <th>(CAE1, 1129218)</th>\n",
        "      <td> C</td>\n",
        "      <td> NaN</td>\n",
        "      <td>   C</td>\n",
        "      <td>   C</td>\n",
        "      <td>  [6, 0]</td>\n",
        "      <td>  3.46</td>\n",
        "      <td>  1.18</td>\n",
        "    </tr>\n",
        "    <tr>\n",
        "      <th>(CAE1, 1130044)</th>\n",
        "      <td> C</td>\n",
        "      <td> NaN</td>\n",
        "      <td>   C</td>\n",
        "      <td> [G]</td>\n",
        "      <td>  [2, 2]</td>\n",
        "      <td>  8.34</td>\n",
        "      <td> 13.64</td>\n",
        "    </tr>\n",
        "    <tr>\n",
        "      <th>(CAE1, 1130085)</th>\n",
        "      <td> A</td>\n",
        "      <td> [G]</td>\n",
        "      <td>   A</td>\n",
        "      <td> [G]</td>\n",
        "      <td>  [3, 3]</td>\n",
        "      <td> 11.76</td>\n",
        "      <td>  4.59</td>\n",
        "    </tr>\n",
        "  </tbody>\n",
        "</table>\n",
        "</div>"
       ],
       "output_type": "pyout",
       "prompt_number": 208,
       "text": [
        "                ref pacbio illumina0 illumina1      cov  gt_conf  site_conf\n",
        "(CAE1, 380545)    C    [T]       NaN       NaN      NaN      NaN        NaN\n",
        "(CAE1, 380865)    A    [T]       [T]       [T]   [0, 5]     3.46      13.72\n",
        "(CAE1, 653845)    G    NaN       [A]       [A]   [0, 3]     2.08      10.17\n",
        "(CAE1, 653988)    C    NaN         C         C   [7, 0]     4.85       1.31\n",
        "(CAE1, 654034)    T    [C]       [C]       [C]   [0, 4]     2.77       0.77\n",
        "(CAE1, 1090163)   G    [T]       NaN       NaN      NaN      NaN        NaN\n",
        "(CAE1, 1090258)   T    NaN         T         T  [17, 0]    11.09       1.42\n",
        "(CAE1, 1129218)   C    NaN         C         C   [6, 0]     3.46       1.18\n",
        "(CAE1, 1130044)   C    NaN         C       [G]   [2, 2]     8.34      13.64\n",
        "(CAE1, 1130085)   A    [G]         A       [G]   [3, 3]    11.76       4.59"
       ]
      }
     ],
     "prompt_number": 208
    },
    {
     "cell_type": "code",
     "collapsed": false,
     "input": [
      "df"
     ],
     "language": "python",
     "metadata": {},
     "outputs": [
      {
       "html": [
        "<div style=\"max-height:1000px;max-width:1500px;overflow:auto;\">\n",
        "<table border=\"1\" class=\"dataframe\">\n",
        "  <thead>\n",
        "    <tr style=\"text-align: right;\">\n",
        "      <th></th>\n",
        "      <th>pacbio</th>\n",
        "      <th>ref_x</th>\n",
        "      <th>cov</th>\n",
        "      <th>gt_conf</th>\n",
        "      <th>illumina0</th>\n",
        "      <th>illumina1</th>\n",
        "      <th>ref_y</th>\n",
        "      <th>site_conf</th>\n",
        "    </tr>\n",
        "  </thead>\n",
        "  <tbody>\n",
        "    <tr>\n",
        "      <th>1129218</th>\n",
        "      <td> NaN</td>\n",
        "      <td> NaN</td>\n",
        "      <td> [6, 0]</td>\n",
        "      <td>  3.46</td>\n",
        "      <td> C</td>\n",
        "      <td>   C</td>\n",
        "      <td> C</td>\n",
        "      <td>  1.18</td>\n",
        "    </tr>\n",
        "    <tr>\n",
        "      <th>1130044</th>\n",
        "      <td> NaN</td>\n",
        "      <td> NaN</td>\n",
        "      <td> [2, 2]</td>\n",
        "      <td>  8.34</td>\n",
        "      <td> C</td>\n",
        "      <td> [G]</td>\n",
        "      <td> C</td>\n",
        "      <td> 13.64</td>\n",
        "    </tr>\n",
        "    <tr>\n",
        "      <th>1130085</th>\n",
        "      <td> [G]</td>\n",
        "      <td>   A</td>\n",
        "      <td> [3, 3]</td>\n",
        "      <td> 11.76</td>\n",
        "      <td> A</td>\n",
        "      <td> [G]</td>\n",
        "      <td> A</td>\n",
        "      <td>  4.59</td>\n",
        "    </tr>\n",
        "  </tbody>\n",
        "</table>\n",
        "</div>"
       ],
       "output_type": "pyout",
       "prompt_number": 167,
       "text": [
        "        pacbio ref_x     cov  gt_conf illumina0 illumina1 ref_y  site_conf\n",
        "1129218    NaN   NaN  [6, 0]     3.46         C         C     C       1.18\n",
        "1130044    NaN   NaN  [2, 2]     8.34         C       [G]     C      13.64\n",
        "1130085    [G]     A  [3, 3]    11.76         A       [G]     A       4.59"
       ]
      }
     ],
     "prompt_number": 167
    },
    {
     "cell_type": "code",
     "collapsed": false,
     "input": [
      "pacbio_df"
     ],
     "language": "python",
     "metadata": {},
     "outputs": [
      {
       "html": [
        "<div style=\"max-height:1000px;max-width:1500px;overflow:auto;\">\n",
        "<table border=\"1\" class=\"dataframe\">\n",
        "  <thead>\n",
        "    <tr style=\"text-align: right;\">\n",
        "      <th></th>\n",
        "      <th>pacbio</th>\n",
        "      <th>ref</th>\n",
        "    </tr>\n",
        "  </thead>\n",
        "  <tbody>\n",
        "    <tr>\n",
        "      <th>1130085</th>\n",
        "      <td> [G]</td>\n",
        "      <td> A</td>\n",
        "    </tr>\n",
        "  </tbody>\n",
        "</table>\n",
        "</div>"
       ],
       "output_type": "pyout",
       "prompt_number": 168,
       "text": [
        "        pacbio ref\n",
        "1130085    [G]   A"
       ]
      }
     ],
     "prompt_number": 168
    },
    {
     "cell_type": "code",
     "collapsed": false,
     "input": [
      "cortex_df"
     ],
     "language": "python",
     "metadata": {},
     "outputs": [
      {
       "html": [
        "<div style=\"max-height:1000px;max-width:1500px;overflow:auto;\">\n",
        "<table border=\"1\" class=\"dataframe\">\n",
        "  <thead>\n",
        "    <tr style=\"text-align: right;\">\n",
        "      <th></th>\n",
        "      <th>cov</th>\n",
        "      <th>gt_conf</th>\n",
        "      <th>illumina0</th>\n",
        "      <th>illumina1</th>\n",
        "      <th>ref</th>\n",
        "      <th>site_conf</th>\n",
        "    </tr>\n",
        "  </thead>\n",
        "  <tbody>\n",
        "    <tr>\n",
        "      <th>1129218</th>\n",
        "      <td> [6, 0]</td>\n",
        "      <td>  3.46</td>\n",
        "      <td> C</td>\n",
        "      <td>   C</td>\n",
        "      <td> C</td>\n",
        "      <td>  1.18</td>\n",
        "    </tr>\n",
        "    <tr>\n",
        "      <th>1130044</th>\n",
        "      <td> [2, 2]</td>\n",
        "      <td>  8.34</td>\n",
        "      <td> C</td>\n",
        "      <td> [G]</td>\n",
        "      <td> C</td>\n",
        "      <td> 13.64</td>\n",
        "    </tr>\n",
        "    <tr>\n",
        "      <th>1130085</th>\n",
        "      <td> [3, 3]</td>\n",
        "      <td> 11.76</td>\n",
        "      <td> A</td>\n",
        "      <td> [G]</td>\n",
        "      <td> A</td>\n",
        "      <td>  4.59</td>\n",
        "    </tr>\n",
        "  </tbody>\n",
        "</table>\n",
        "</div>"
       ],
       "output_type": "pyout",
       "prompt_number": 169,
       "text": [
        "            cov  gt_conf illumina0 illumina1 ref  site_conf\n",
        "1129218  [6, 0]     3.46         C         C   C       1.18\n",
        "1130044  [2, 2]     8.34         C       [G]   C      13.64\n",
        "1130085  [3, 3]    11.76         A       [G]   A       4.59"
       ]
      }
     ],
     "prompt_number": 169
    },
    {
     "cell_type": "code",
     "collapsed": false,
     "input": [
      "cortex_df.head()"
     ],
     "language": "python",
     "metadata": {},
     "outputs": [
      {
       "ename": "AttributeError",
       "evalue": "'NoneType' object has no attribute 'head'",
       "output_type": "pyerr",
       "traceback": [
        "\u001b[1;31m---------------------------------------------------------------------------\u001b[0m\n\u001b[1;31mAttributeError\u001b[0m                            Traceback (most recent call last)",
        "\u001b[1;32m<ipython-input-88-682852a48931>\u001b[0m in \u001b[0;36m<module>\u001b[1;34m()\u001b[0m\n\u001b[1;32m----> 1\u001b[1;33m \u001b[0mcortex_df\u001b[0m\u001b[1;33m.\u001b[0m\u001b[0mhead\u001b[0m\u001b[1;33m(\u001b[0m\u001b[1;33m)\u001b[0m\u001b[1;33m\u001b[0m\u001b[0m\n\u001b[0m",
        "\u001b[1;31mAttributeError\u001b[0m: 'NoneType' object has no attribute 'head'"
       ]
      }
     ],
     "prompt_number": 88
    },
    {
     "cell_type": "code",
     "collapsed": false,
     "input": [],
     "language": "python",
     "metadata": {},
     "outputs": []
    },
    {
     "cell_type": "code",
     "collapsed": false,
     "input": [],
     "language": "python",
     "metadata": {},
     "outputs": []
    }
   ],
   "metadata": {}
  }
 ]
}