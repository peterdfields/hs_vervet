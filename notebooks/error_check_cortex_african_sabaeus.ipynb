{
 "metadata": {
  "name": "error_check_cortex_african_sabaeus"
 },
 "nbformat": 3,
 "nbformat_minor": 0,
 "worksheets": [
  {
   "cells": [
    {
     "cell_type": "code",
     "collapsed": false,
     "input": [
      "import os, sys\n",
      "sys.path.insert(0, os.path.expanduser('~/lib/python'))\n",
      "sys.path.insert(0, os.path.join(os.path.expanduser('~/script')))\n",
      "import vcf\n",
      "from pyfasta import Fasta\n",
      "import pandas as pd"
     ],
     "language": "python",
     "metadata": {},
     "outputs": [],
     "prompt_number": 15
    },
    {
     "cell_type": "code",
     "collapsed": false,
     "input": [
      "ref_fname=os.path.expanduser(\"~/vervet_data/data/reference/reference_3488/3488_indID1_codeVRC_ref_sequencer3_seqType1_filtered0_version3.fasta\")\n",
      "ref = Fasta(ref_fname)"
     ],
     "language": "python",
     "metadata": {},
     "outputs": [],
     "prompt_number": 17
    },
    {
     "cell_type": "code",
     "collapsed": false,
     "input": [
      "ucla_id='VGA00006'"
     ],
     "language": "python",
     "metadata": {},
     "outputs": [],
     "prompt_number": 65
    },
    {
     "cell_type": "code",
     "collapsed": false,
     "input": [
      "pacbio_intervals_fname=os.path.expanduser('~/vervet_project/analyses/20131022_cortex_validation_pacbio/_data/pacbio_mapping_intervals_{}.list'.format(ucla_id))\n",
      "pacbio_intervals=pd.read_csv(pacbio_intervals_fname,sep=r\"[:-]\",header=None)\n",
      "pacbio_intervals.columns=['chrom','start','end']"
     ],
     "language": "python",
     "metadata": {},
     "outputs": [],
     "prompt_number": 3
    },
    {
     "cell_type": "code",
     "collapsed": false,
     "input": [
      "pacbio_vcf_fname=os.path.expanduser('~/vervet_project/analyses/20131022_cortex_validation_pacbio/_data/pacbio_CCS_GATK_0threshold_{}.vcf.gz'.format(ucla_id))\n",
      "with open(pacbio_vcf_fname, 'r') as f:\n",
      "        pacbio_vcf = vcf.Reader(f)"
     ],
     "language": "python",
     "metadata": {},
     "outputs": [],
     "prompt_number": 27
    },
    {
     "cell_type": "code",
     "collapsed": false,
     "input": [
      "cortex_vcf_fname=os.path.expanduser('~/vervet_data/data/cortex/African_sabaeus_pass.vcf.gz')\n",
      "with open(cortex_vcf_fname, 'r') as f:\n",
      "        cortex_vcf = vcf.Reader(f)"
     ],
     "language": "python",
     "metadata": {},
     "outputs": [],
     "prompt_number": 97
    },
    {
     "cell_type": "code",
     "collapsed": false,
     "input": [
      "pacbio_intervals.iloc[:10]"
     ],
     "language": "python",
     "metadata": {},
     "outputs": [
      {
       "html": [
        "<div style=\"max-height:1000px;max-width:1500px;overflow:auto;\">\n",
        "<table border=\"1\" class=\"dataframe\">\n",
        "  <thead>\n",
        "    <tr style=\"text-align: right;\">\n",
        "      <th></th>\n",
        "      <th>chrom</th>\n",
        "      <th>start</th>\n",
        "      <th>end</th>\n",
        "    </tr>\n",
        "  </thead>\n",
        "  <tbody>\n",
        "    <tr>\n",
        "      <th>0</th>\n",
        "      <td> CAE1</td>\n",
        "      <td>  380385</td>\n",
        "      <td>  380983</td>\n",
        "    </tr>\n",
        "    <tr>\n",
        "      <th>1</th>\n",
        "      <td> CAE1</td>\n",
        "      <td>  653727</td>\n",
        "      <td>  654387</td>\n",
        "    </tr>\n",
        "    <tr>\n",
        "      <th>2</th>\n",
        "      <td> CAE1</td>\n",
        "      <td> 1089471</td>\n",
        "      <td> 1090328</td>\n",
        "    </tr>\n",
        "    <tr>\n",
        "      <th>3</th>\n",
        "      <td> CAE1</td>\n",
        "      <td> 1129103</td>\n",
        "      <td> 1130330</td>\n",
        "    </tr>\n",
        "    <tr>\n",
        "      <th>4</th>\n",
        "      <td> CAE1</td>\n",
        "      <td> 1564764</td>\n",
        "      <td> 1565297</td>\n",
        "    </tr>\n",
        "    <tr>\n",
        "      <th>5</th>\n",
        "      <td> CAE1</td>\n",
        "      <td> 1847078</td>\n",
        "      <td> 1847686</td>\n",
        "    </tr>\n",
        "    <tr>\n",
        "      <th>6</th>\n",
        "      <td> CAE1</td>\n",
        "      <td> 2150569</td>\n",
        "      <td> 2151520</td>\n",
        "    </tr>\n",
        "    <tr>\n",
        "      <th>7</th>\n",
        "      <td> CAE1</td>\n",
        "      <td> 2977445</td>\n",
        "      <td> 2977984</td>\n",
        "    </tr>\n",
        "    <tr>\n",
        "      <th>8</th>\n",
        "      <td> CAE1</td>\n",
        "      <td> 3146482</td>\n",
        "      <td> 3147201</td>\n",
        "    </tr>\n",
        "    <tr>\n",
        "      <th>9</th>\n",
        "      <td> CAE1</td>\n",
        "      <td> 3407968</td>\n",
        "      <td> 3408979</td>\n",
        "    </tr>\n",
        "  </tbody>\n",
        "</table>\n",
        "</div>"
       ],
       "output_type": "pyout",
       "prompt_number": 45,
       "text": [
        "  chrom    start      end\n",
        "0  CAE1   380385   380983\n",
        "1  CAE1   653727   654387\n",
        "2  CAE1  1089471  1090328\n",
        "3  CAE1  1129103  1130330\n",
        "4  CAE1  1564764  1565297\n",
        "5  CAE1  1847078  1847686\n",
        "6  CAE1  2150569  2151520\n",
        "7  CAE1  2977445  2977984\n",
        "8  CAE1  3146482  3147201\n",
        "9  CAE1  3407968  3408979"
       ]
      }
     ],
     "prompt_number": 45
    },
    {
     "cell_type": "code",
     "collapsed": false,
     "input": [
      "x=pacbio_vcf.fetch('CAE1', 0,1000000)"
     ],
     "language": "python",
     "metadata": {},
     "outputs": [],
     "prompt_number": 38
    },
    {
     "cell_type": "code",
     "collapsed": false,
     "input": [
      "for record in cortex_vcf.fetch('CAE1', 0,1900):\n",
      "    print record.genotype(ucla_id)\n",
      "    "
     ],
     "language": "python",
     "metadata": {},
     "outputs": [
      {
       "output_type": "stream",
       "stream": "stdout",
       "text": [
        "Call(sample=VGA00006, CallData(GT=0/1, COV=[7, 3], GT_CONF=4.87, SITE_CONF=29.65))\n"
       ]
      }
     ],
     "prompt_number": 105
    },
    {
     "cell_type": "code",
     "collapsed": false,
     "input": [
      "x.genotype()"
     ],
     "language": "python",
     "metadata": {},
     "outputs": [
      {
       "ename": "AttributeError",
       "evalue": "'Reader' object has no attribute 'genotype'",
       "output_type": "pyerr",
       "traceback": [
        "\u001b[1;31m---------------------------------------------------------------------------\u001b[0m\n\u001b[1;31mAttributeError\u001b[0m                            Traceback (most recent call last)",
        "\u001b[1;32m<ipython-input-104-d91d2ab0a81a>\u001b[0m in \u001b[0;36m<module>\u001b[1;34m()\u001b[0m\n\u001b[1;32m----> 1\u001b[1;33m \u001b[0mx\u001b[0m\u001b[1;33m.\u001b[0m\u001b[0mgenotype\u001b[0m\u001b[1;33m(\u001b[0m\u001b[0mucla_id\u001b[0m\u001b[1;33m)\u001b[0m\u001b[1;33m\u001b[0m\u001b[0m\n\u001b[0m",
        "\u001b[1;31mAttributeError\u001b[0m: 'Reader' object has no attribute 'genotype'"
       ]
      }
     ],
     "prompt_number": 104
    },
    {
     "cell_type": "code",
     "collapsed": false,
     "input": [
      "for _,interval in pacbio_intervals.iloc[:2].iterrows():\n",
      "    #print ref[interval['chrom']][interval['start']:interval['end']]\n",
      "    pacbio=pacbio_vcf.fetch(interval['chrom'],interval['start'],interval['end'])\n",
      "    cortex=cortex_vcf.fetch(interval['chrom'],interval['start'],interval['end'])\n",
      "    for record in cortex:\n",
      "        print 'cortex SNP:',record.POS\n",
      "        print record.genotype('VGA00006')['GT']\n",
      "    for record in pacbio:\n",
      "        print 'pacbio SNP:',record.POS\n",
      "        print record.genotype('VGA00006')['GT']\n",
      "        "
     ],
     "language": "python",
     "metadata": {},
     "outputs": [
      {
       "output_type": "stream",
       "stream": "stdout",
       "text": [
        "cortex SNP: 380865\n",
        "1/1\n",
        "pacbio SNP: 380545\n",
        "1/1\n",
        "pacbio SNP: 380865\n",
        "1/1\n",
        "cortex SNP: 653845\n",
        "1/1\n",
        "cortex SNP: 653988\n",
        "0/0\n",
        "cortex SNP: 654034\n",
        "1/1\n",
        "pacbio SNP: 654034\n",
        "1/1\n"
       ]
      }
     ],
     "prompt_number": 92
    },
    {
     "cell_type": "code",
     "collapsed": false,
     "input": [
      "# note: at a later stage: also look at the other attribute\n",
      "# of record.genotype such as confidence\n",
      "def snp_compare_df(chrom,start,end,ucla_id):\n",
      "    # functions\n",
      "    def get_alleles(record):\n",
      "        if record.REF != ref[chrom][record.POS]:\n",
      "            raise Exception(\"ref allele in reference \n",
      "                     and in the VCF don't agree, they are\"+ref[chrom][record.POS]+\"and\"\n",
      "                    +record.REF+\" respectively\")\n",
      "        gt=record.genotype(ucla_id)['GT']\n",
      "        alleles=[]\n",
      "        for i in [0,2]:\n",
      "            if gt[i]=='0':\n",
      "                h=record.REF\n",
      "            elif gt[i]=='1':\n",
      "                h=record.ALT\n",
      "            else:\n",
      "                h=gt[i]\n",
      "            alleles.append(h)\n",
      "        return alleles\n",
      "    #create info DataFrame for pacbio\n",
      "    pacbio=pacbio_vcf.fetch(chrom,start,end)\n",
      "    index=[]\n",
      "    allele=[]\n",
      "    ref=[]\n",
      "    for record in pacbio:\n",
      "        index.append(record.POS)\n",
      "        alleles = get_alleles(record)\n",
      "        if alleles[0] != alleles[1]:\n",
      "            raise Exception(\"SNP {0} in pacbio data is heterozygous. This can't be, comes from a single read.\".format(record.POS))\n",
      "        allele.append(alleles[0])\n",
      "        ref.append(ref[chrom][record.Pos])\n",
      "    pacbio_df=pd.DataFrame({'ref':ref,'pacbio':allele},index=index)\n",
      "    \n",
      "    cortex=cortex_vcf.fetch(chrom,start,end)\n",
      "    index=[]\n",
      "    allele0=[]\n",
      "    allele1=[]\n",
      "    cov=[]\n",
      "    gt_conf=[]\n",
      "    site_conf=[]\n",
      "    for record in cortex:\n",
      "        pos = record.POS\n",
      "        index.append()\n",
      "        alleles = get_alleles(record)\n",
      "        allele0.append(alleles[0])\n",
      "        allele1.append(alleles[1])\n",
      "        #omit SNPs that are homozygous reference in the cortex calls if there is no SNP in the pacbio data-set\n",
      "        if allele0 == ref[chrom][pos] and allele0 == ref[chrom][pos] and pos not in pacbio_df.index.values:\n",
      "            continue\n",
      "        cov.append(record.genotype(ucla_id)['COV'])\n",
      "        gt_conf.append(record.genotype(ucla_id)['GT_CONF'])\n",
      "        site_conf.append(record.genotype(ucla_id)['SITE_CONF'])\n",
      "    cortex_df=pd.DataFrame({'illumina':allele0,'gt1':allele1},index=index)\n",
      "    print cortex_df\n",
      "    \n",
      "    return cortex_df\n",
      "    \n",
      "    "
     ],
     "language": "python",
     "metadata": {},
     "outputs": [
      {
       "ename": "SyntaxError",
       "evalue": "EOL while scanning string literal (<ipython-input-106-f86b2d5bb380>, line 7)",
       "output_type": "pyerr",
       "traceback": [
        "\u001b[1;36m  File \u001b[1;32m\"<ipython-input-106-f86b2d5bb380>\"\u001b[1;36m, line \u001b[1;32m7\u001b[0m\n\u001b[1;33m    raise Exception(\"ref allele in reference\u001b[0m\n\u001b[1;37m                                            ^\u001b[0m\n\u001b[1;31mSyntaxError\u001b[0m\u001b[1;31m:\u001b[0m EOL while scanning string literal\n"
       ]
      }
     ],
     "prompt_number": 106
    },
    {
     "cell_type": "code",
     "collapsed": false,
     "input": [
      "for _,interval in pacbio_intervals.iloc[:2].iterrows():\n",
      "    cortex_df=snp_compare_df(interval['chrom'],interval['start'],interval['end'],ucla_id)"
     ],
     "language": "python",
     "metadata": {},
     "outputs": [
      {
       "output_type": "stream",
       "stream": "stdout",
       "text": [
        "        gt0  gt1\n",
        "380865  [T]  [T]\n",
        "        gt0  gt1\n",
        "653845  [A]  [A]\n",
        "653988    C    C\n",
        "654034  [C]  [C]\n"
       ]
      }
     ],
     "prompt_number": 90
    },
    {
     "cell_type": "code",
     "collapsed": false,
     "input": [
      "cortex_df.head()"
     ],
     "language": "python",
     "metadata": {},
     "outputs": [
      {
       "ename": "AttributeError",
       "evalue": "'NoneType' object has no attribute 'head'",
       "output_type": "pyerr",
       "traceback": [
        "\u001b[1;31m---------------------------------------------------------------------------\u001b[0m\n\u001b[1;31mAttributeError\u001b[0m                            Traceback (most recent call last)",
        "\u001b[1;32m<ipython-input-88-682852a48931>\u001b[0m in \u001b[0;36m<module>\u001b[1;34m()\u001b[0m\n\u001b[1;32m----> 1\u001b[1;33m \u001b[0mcortex_df\u001b[0m\u001b[1;33m.\u001b[0m\u001b[0mhead\u001b[0m\u001b[1;33m(\u001b[0m\u001b[1;33m)\u001b[0m\u001b[1;33m\u001b[0m\u001b[0m\n\u001b[0m",
        "\u001b[1;31mAttributeError\u001b[0m: 'NoneType' object has no attribute 'head'"
       ]
      }
     ],
     "prompt_number": 88
    },
    {
     "cell_type": "code",
     "collapsed": false,
     "input": [],
     "language": "python",
     "metadata": {},
     "outputs": []
    }
   ],
   "metadata": {}
  }
 ]
}