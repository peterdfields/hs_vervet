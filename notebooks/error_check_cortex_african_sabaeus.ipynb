{
 "metadata": {
  "name": "error_check_cortex_african_sabaeus"
 },
 "nbformat": 3,
 "nbformat_minor": 0,
 "worksheets": [
  {
   "cells": [
    {
     "cell_type": "code",
     "collapsed": false,
     "input": [
      "import os, sys\n",
      "sys.path.insert(0, os.path.expanduser('~/lib/python'))\n",
      "sys.path.insert(0, os.path.join(os.path.expanduser('~/script')))\n",
      "import vcf\n",
      "from pyfasta import Fasta\n",
      "import pandas as pd\n",
      "import numpy as np"
     ],
     "language": "python",
     "metadata": {},
     "outputs": [],
     "prompt_number": 441
    },
    {
     "cell_type": "code",
     "collapsed": false,
     "input": [
      "#attention, this reference is 0-indexed while VCF-positions are 1-indexed\n",
      "ref_fname=os.path.expanduser(\"~/vervet_data/data/reference/reference_3488/3488_indID1_codeVRC_ref_sequencer3_seqType1_filtered0_version3.fasta\")\n",
      "ref = Fasta(ref_fname)"
     ],
     "language": "python",
     "metadata": {},
     "outputs": [],
     "prompt_number": 17
    },
    {
     "cell_type": "code",
     "collapsed": false,
     "input": [
      "for name,chrom in ref.items():\n",
      "    print chrom"
     ],
     "language": "python",
     "metadata": {},
     "outputs": [],
     "prompt_number": 133
    },
    {
     "cell_type": "code",
     "collapsed": false,
     "input": [
      "ucla_id='VGA00006'"
     ],
     "language": "python",
     "metadata": {},
     "outputs": [],
     "prompt_number": 65
    },
    {
     "cell_type": "code",
     "collapsed": false,
     "input": [
      "pacbio_intervals_fname=os.path.expanduser('~/vervet_project/analyses/20131022_cortex_validation_pacbio/_data/pacbio_mapping_intervals_{}.list'.format(ucla_id))\n",
      "pacbio_intervals=pd.read_csv(pacbio_intervals_fname,sep=r\"[:-]\",header=None)\n",
      "pacbio_intervals.columns=['chrom','start','end']"
     ],
     "language": "python",
     "metadata": {},
     "outputs": [],
     "prompt_number": 3
    },
    {
     "cell_type": "code",
     "collapsed": false,
     "input": [
      "pacbio_vcf_fname=os.path.expanduser('~/vervet_project/analyses/20131022_cortex_validation_pacbio/_data/pacbio_CCS_GATK_0threshold_{}.vcf.gz'.format(ucla_id))\n",
      "with open(pacbio_vcf_fname, 'r') as f:\n",
      "        pacbio_vcf = vcf.Reader(f)"
     ],
     "language": "python",
     "metadata": {},
     "outputs": [],
     "prompt_number": 27
    },
    {
     "cell_type": "code",
     "collapsed": false,
     "input": [
      "cortex_vcf_fname=os.path.expanduser('~/vervet_data/data/cortex/African_sabaeus_pass.vcf.gz')\n",
      "with open(cortex_vcf_fname, 'r') as f:\n",
      "        cortex_vcf = vcf.Reader(f)"
     ],
     "language": "python",
     "metadata": {},
     "outputs": [],
     "prompt_number": 97
    },
    {
     "cell_type": "code",
     "collapsed": false,
     "input": [
      "pacbio_intervals.iloc[:10]"
     ],
     "language": "python",
     "metadata": {},
     "outputs": [
      {
       "html": [
        "<div style=\"max-height:1000px;max-width:1500px;overflow:auto;\">\n",
        "<table border=\"1\" class=\"dataframe\">\n",
        "  <thead>\n",
        "    <tr style=\"text-align: right;\">\n",
        "      <th></th>\n",
        "      <th>chrom</th>\n",
        "      <th>start</th>\n",
        "      <th>end</th>\n",
        "    </tr>\n",
        "  </thead>\n",
        "  <tbody>\n",
        "    <tr>\n",
        "      <th>0</th>\n",
        "      <td> CAE1</td>\n",
        "      <td>  380385</td>\n",
        "      <td>  380983</td>\n",
        "    </tr>\n",
        "    <tr>\n",
        "      <th>1</th>\n",
        "      <td> CAE1</td>\n",
        "      <td>  653727</td>\n",
        "      <td>  654387</td>\n",
        "    </tr>\n",
        "    <tr>\n",
        "      <th>2</th>\n",
        "      <td> CAE1</td>\n",
        "      <td> 1089471</td>\n",
        "      <td> 1090328</td>\n",
        "    </tr>\n",
        "    <tr>\n",
        "      <th>3</th>\n",
        "      <td> CAE1</td>\n",
        "      <td> 1129103</td>\n",
        "      <td> 1130330</td>\n",
        "    </tr>\n",
        "    <tr>\n",
        "      <th>4</th>\n",
        "      <td> CAE1</td>\n",
        "      <td> 1564764</td>\n",
        "      <td> 1565297</td>\n",
        "    </tr>\n",
        "    <tr>\n",
        "      <th>5</th>\n",
        "      <td> CAE1</td>\n",
        "      <td> 1847078</td>\n",
        "      <td> 1847686</td>\n",
        "    </tr>\n",
        "    <tr>\n",
        "      <th>6</th>\n",
        "      <td> CAE1</td>\n",
        "      <td> 2150569</td>\n",
        "      <td> 2151520</td>\n",
        "    </tr>\n",
        "    <tr>\n",
        "      <th>7</th>\n",
        "      <td> CAE1</td>\n",
        "      <td> 2977445</td>\n",
        "      <td> 2977984</td>\n",
        "    </tr>\n",
        "    <tr>\n",
        "      <th>8</th>\n",
        "      <td> CAE1</td>\n",
        "      <td> 3146482</td>\n",
        "      <td> 3147201</td>\n",
        "    </tr>\n",
        "    <tr>\n",
        "      <th>9</th>\n",
        "      <td> CAE1</td>\n",
        "      <td> 3407968</td>\n",
        "      <td> 3408979</td>\n",
        "    </tr>\n",
        "  </tbody>\n",
        "</table>\n",
        "</div>"
       ],
       "output_type": "pyout",
       "prompt_number": 45,
       "text": [
        "  chrom    start      end\n",
        "0  CAE1   380385   380983\n",
        "1  CAE1   653727   654387\n",
        "2  CAE1  1089471  1090328\n",
        "3  CAE1  1129103  1130330\n",
        "4  CAE1  1564764  1565297\n",
        "5  CAE1  1847078  1847686\n",
        "6  CAE1  2150569  2151520\n",
        "7  CAE1  2977445  2977984\n",
        "8  CAE1  3146482  3147201\n",
        "9  CAE1  3407968  3408979"
       ]
      }
     ],
     "prompt_number": 45
    },
    {
     "cell_type": "code",
     "collapsed": false,
     "input": [
      "x=pacbio_vcf.fetch('CAE1', 0,1000000)"
     ],
     "language": "python",
     "metadata": {},
     "outputs": [],
     "prompt_number": 38
    },
    {
     "cell_type": "code",
     "collapsed": false,
     "input": [
      "for record in cortex_vcf.fetch('CAE1', 0,1900):\n",
      "    print record.genotype(ucla_id)\n",
      "    "
     ],
     "language": "python",
     "metadata": {},
     "outputs": [
      {
       "output_type": "stream",
       "stream": "stdout",
       "text": [
        "Call(sample=VGA00006, CallData(GT=0/1, COV=[7, 3], GT_CONF=4.87, SITE_CONF=29.65))\n"
       ]
      }
     ],
     "prompt_number": 105
    },
    {
     "cell_type": "code",
     "collapsed": false,
     "input": [
      "x.genotype()"
     ],
     "language": "python",
     "metadata": {},
     "outputs": [
      {
       "ename": "AttributeError",
       "evalue": "'Reader' object has no attribute 'genotype'",
       "output_type": "pyerr",
       "traceback": [
        "\u001b[1;31m---------------------------------------------------------------------------\u001b[0m\n\u001b[1;31mAttributeError\u001b[0m                            Traceback (most recent call last)",
        "\u001b[1;32m<ipython-input-104-d91d2ab0a81a>\u001b[0m in \u001b[0;36m<module>\u001b[1;34m()\u001b[0m\n\u001b[1;32m----> 1\u001b[1;33m \u001b[0mx\u001b[0m\u001b[1;33m.\u001b[0m\u001b[0mgenotype\u001b[0m\u001b[1;33m(\u001b[0m\u001b[0mucla_id\u001b[0m\u001b[1;33m)\u001b[0m\u001b[1;33m\u001b[0m\u001b[0m\n\u001b[0m",
        "\u001b[1;31mAttributeError\u001b[0m: 'Reader' object has no attribute 'genotype'"
       ]
      }
     ],
     "prompt_number": 104
    },
    {
     "cell_type": "code",
     "collapsed": false,
     "input": [
      "for _,interval in pacbio_intervals.iloc[:2].iterrows():\n",
      "    #print ref[interval['chrom']][interval['start']:interval['end']]\n",
      "    pacbio=pacbio_vcf.fetch(interval['chrom'],interval['start'],interval['end'])\n",
      "    cortex=cortex_vcf.fetch(interval['chrom'],interval['start'],interval['end'])\n",
      "    for record in cortex:\n",
      "        print 'cortex SNP:',record.POS\n",
      "        print record.genotype('VGA00006')['GT']\n",
      "    for record in pacbio:\n",
      "        print 'pacbio SNP:',record.POS\n",
      "        print record.genotype('VGA00006')['GT']\n",
      "        "
     ],
     "language": "python",
     "metadata": {},
     "outputs": [
      {
       "output_type": "stream",
       "stream": "stdout",
       "text": [
        "cortex SNP: 380865\n",
        "1/1\n",
        "pacbio SNP: 380545\n",
        "1/1\n",
        "pacbio SNP: 380865\n",
        "1/1\n",
        "cortex SNP: 653845\n",
        "1/1\n",
        "cortex SNP: 653988\n",
        "0/0\n",
        "cortex SNP: 654034\n",
        "1/1\n",
        "pacbio SNP: 654034\n",
        "1/1\n"
       ]
      }
     ],
     "prompt_number": 92
    },
    {
     "cell_type": "code",
     "collapsed": false,
     "input": [
      "def snp_compare_df(chrom,start,end,ucla_id):\n",
      "    # functions\n",
      "    def get_alleles(record):\n",
      "        \"\"\"\n",
      "        returns (ref_allele,genotype_allele_1,genotype_allele_2)\n",
      "        \"\"\"\n",
      "        #print 'VCF ref:', record.REF,'ref:' ,ref[chrom][int(record.POS)-1]\n",
      "        pos = int(record.POS)\n",
      "        snv_len=len(record.REF)\n",
      "        gt=record.genotype(ucla_id)['GT']\n",
      "        #if gt is None:\n",
      "        #    print record.genotype(ucla_id)\n",
      "        ref_allele = ref[chrom][pos-1:pos-1+snv_len]\n",
      "        if record.REF != ref_allele:\n",
      "            print \"context of ref allele (at center):\", ref[chrom][pos-3:pos-1+snv_len+2]\n",
      "            print record\n",
      "            print chrom, record.POS, record.REF, record.ALT\n",
      "            print record.genotype(ucla_id)\n",
      "            #raise Exception(\\\n",
      "            #     \"ref allele in reference and in the VCF don't agree, they are \"+ref_allele+\" and \"+record.REF+\" respectively\")\n",
      "        # alleles = (ref,gt0,gt1)\n",
      "        alleles = [ref_allele]\n",
      "        for i in [0,2]:\n",
      "            if gt is None:\n",
      "                h='N'\n",
      "            elif gt[i]=='0':\n",
      "                h=''.join(record.REF)\n",
      "            elif gt[i]=='1':\n",
      "                try:\n",
      "                    h = \"\".join(record.ALT[0].sequence)\n",
      "                except:\n",
      "                    print record.ALT,type(record.ALT),record.ALT[0],type(record.ALT[0]),record.ALT[0].__dict__\n",
      "                    raise\n",
      "            elif int(gt[i])>=2:\n",
      "                h = 'N'\n",
      "                print chrom,record.POS, gt[i], \"alleles, set to N\"\n",
      "            else:\n",
      "                h=gt[i]\n",
      "            alleles.append(h)\n",
      "        return (alleles[0],alleles[1],alleles[2])\n",
      "    #create info DataFrame for pacbio\n",
      "    pacbio=pacbio_vcf.fetch(chrom,start,end)\n",
      "    index=[]\n",
      "    allele=[]\n",
      "    ref_allele=[]\n",
      "    for record in pacbio:\n",
      "        pos=int(record.POS)\n",
      "        index.append(pos)\n",
      "        ref0, gt0, gt1 = get_alleles(record)\n",
      "        if gt0 != gt1:\n",
      "            #print chrom, record.POS,record.REF,record.ALT,record.genotype(ucla_id)\n",
      "            #raise Exception(\"SNP {0} in pacbio data is heterozygous. This can't be, comes from a single read.\".format(pos))\n",
      "            gt0 = 'het'\n",
      "        allele.append(gt0)\n",
      "        ref_allele.append(ref0)\n",
      "    pacbio_df=pd.DataFrame({'ref':ref_allele,'pacbio':allele},index=index)\n",
      "    \n",
      "    cortex=cortex_vcf.fetch(chrom,start,end)\n",
      "    index=[]\n",
      "    allele0=[]\n",
      "    allele1=[]\n",
      "    cov=[]\n",
      "    gt_conf=[]\n",
      "    site_conf=[]\n",
      "    ref_allele=[]\n",
      "    for record in cortex:\n",
      "        pos = int(record.POS)\n",
      "        alleles = get_alleles(record)\n",
      "        #omit SNPs that are homozygous reference in the cortex calls if there is no SNP in the pacbio data-set\n",
      "        if alleles[1] == alleles[0] and alleles[2] == alleles[0] and pos not in pacbio_df.index.values:\n",
      "            continue\n",
      "        index.append(pos)\n",
      "        ref_allele.append(alleles[0])\n",
      "        allele0.append(alleles[1])\n",
      "        allele1.append(alleles[2])\n",
      "        cov.append(record.genotype(ucla_id)['COV'])\n",
      "        gt_conf.append(record.genotype(ucla_id)['GT_CONF'])\n",
      "        site_conf.append(record.genotype(ucla_id)['SITE_CONF'])\n",
      "    #try:    \n",
      "    cortex_df=pd.DataFrame({'illumina0':allele0,'illumina1':allele1,'cov':cov,'gt_conf':gt_conf,'site_conf':site_conf,'ref':ref_allele},index=index)\n",
      "    #df=pacbio_df.join(cortex_df,how='outer')\n",
      "    #except:\n",
      "    #    print index,{'illumina0':allele0,'illumina1':allele1,'cov':cov,'gt_conf':gt_conf,'site_conf':site_conf,'ref':ref_allele}\n",
      "    df=pd.merge(pacbio_df,cortex_df,how='outer',left_index=True,right_index=True,sort=False)\n",
      "    df['ref_x']=df['ref_x'].astype(object)\n",
      "    ref_allele=df['ref_x'].fillna(df['ref_y'])\n",
      "\n",
      "    del df['ref_x']\n",
      "    del df['ref_y']\n",
      "    df['ref'] = ref_allele\n",
      "    m_index=pd.MultiIndex.from_arrays([[chrom]*len(df.index),df.index.values])\n",
      "    df.index=m_index\n",
      "    return df\n",
      "    \n",
      "    "
     ],
     "language": "python",
     "metadata": {},
     "outputs": [],
     "prompt_number": 514
    },
    {
     "cell_type": "code",
     "collapsed": false,
     "input": [
      "df_tot = pd.DataFrame()#index=pd.MultiIndex([[None,None]],[['chrom','pos']])\n",
      "for _,interval in pacbio_intervals.iloc[:7000].iterrows():\n",
      "    df0 = snp_compare_df(interval['chrom'],interval['start'],interval['end'],ucla_id)\n",
      "    df_tot = df_tot.append(df0)\n",
      "#\n",
      "df=df_tot.reindex(pd.MultiIndex.from_tuples(df_tot.index.values[:]))\n",
      "df=df.reindex_axis(['ref','pacbio','illumina0','illumina1','cov','gt_conf','site_conf'], axis=1)"
     ],
     "language": "python",
     "metadata": {},
     "outputs": [
      {
       "output_type": "stream",
       "stream": "stdout",
       "text": [
        "CAE1 59419353 2 alleles, set to N\n",
        "CAE1 59420181 2 alleles, set to N\n",
        "CAE1 59420352 2 alleles, set to N\n",
        "CAE1 59419353 2 alleles, set to N\n",
        "CAE1 59420181 2 alleles, set to N\n",
        "CAE1"
       ]
      },
      {
       "output_type": "stream",
       "stream": "stdout",
       "text": [
        " 59420352 2 alleles, set to N\n",
        "CAE1 59420465 2 alleles, set to N\n",
        "CAE1 59420181 2 alleles, set to N\n",
        "CAE1"
       ]
      },
      {
       "output_type": "stream",
       "stream": "stdout",
       "text": [
        " 59420181 2 alleles, set to N\n",
        "CAE1"
       ]
      },
      {
       "output_type": "stream",
       "stream": "stdout",
       "text": [
        " 59420181 2 alleles, set to N\n",
        "CAE1 59420181 2 alleles, set to N\n",
        "CAE1 59420352 2 alleles, set to N\n",
        "CAE1 59420465 2 alleles, set to N\n",
        "CAE1"
       ]
      },
      {
       "output_type": "stream",
       "stream": "stdout",
       "text": [
        " 59420181 2 alleles, set to N\n",
        "CAE1 59420352 2 alleles, set to N\n",
        "CAE1 59420181 2 alleles, set to N\n",
        "CAE1 59420352 2 alleles, set to N\n",
        "CAE1"
       ]
      },
      {
       "output_type": "stream",
       "stream": "stdout",
       "text": [
        " 59420181 2 alleles, set to N\n",
        "CAE1 59420352 2 alleles, set to N\n",
        "CAE1 59420465 2 alleles, set to N\n",
        "CAE1 59420181 2 alleles, set to N\n",
        "CAE1 59420352 2 alleles, set to N\n",
        "CAE1 59420465 2 alleles, set to N\n",
        "CAE1"
       ]
      },
      {
       "output_type": "stream",
       "stream": "stdout",
       "text": [
        " 59420181 2 alleles, set to N\n",
        "CAE1 59420352 2 alleles, set to N\n",
        "CAE1 59420465 2 alleles, set to N\n",
        "CAE1 59420181 2 alleles, set to N\n",
        "CAE1 59420352 2 alleles, set to N\n",
        "CAE1"
       ]
      },
      {
       "output_type": "stream",
       "stream": "stdout",
       "text": [
        " 59420181 2 alleles, set to N\n",
        "CAE1 59420352 2 alleles, set to N\n",
        "CAE1 59420465 2 alleles, set to N\n",
        "CAE1 59420181 2 alleles, set to N\n",
        "CAE1"
       ]
      },
      {
       "output_type": "stream",
       "stream": "stdout",
       "text": [
        " 59420181 2 alleles, set to N\n",
        "CAE1 59420352 2 alleles, set to N\n",
        "CAE1 59420465 2 alleles, set to N\n",
        "CAE1 59420181 2 alleles, set to N\n",
        "CAE1 59420352 2 alleles, set to N\n",
        "CAE1"
       ]
      },
      {
       "output_type": "stream",
       "stream": "stdout",
       "text": [
        " 59420181 2 alleles, set to N\n",
        "CAE1 59420352 2 alleles, set to N\n",
        "CAE1 59420465 2 alleles, set to N\n",
        "CAE1 59420181 2 alleles, set to N\n",
        "CAE1 59420352 2 alleles, set to N\n",
        "CAE1"
       ]
      },
      {
       "output_type": "stream",
       "stream": "stdout",
       "text": [
        " 59420465 2 alleles, set to N\n",
        "CAE1 59420181 2 alleles, set to N\n",
        "CAE1 59420352 2 alleles, set to N\n",
        "CAE1 59420465 2 alleles, set to N\n",
        "CAE1"
       ]
      },
      {
       "output_type": "stream",
       "stream": "stdout",
       "text": [
        " 59420181 2 alleles, set to N\n",
        "CAE1 59420352 2 alleles, set to N\n",
        "CAE1 59420465 2 alleles, set to N\n",
        "CAE1"
       ]
      },
      {
       "output_type": "stream",
       "stream": "stdout",
       "text": [
        " 59420181 2 alleles, set to N\n",
        "CAE1 59420352 2 alleles, set to N\n",
        "CAE1 59420465 2 alleles, set to N\n",
        "CAE1"
       ]
      },
      {
       "output_type": "stream",
       "stream": "stdout",
       "text": [
        " 59420181 2 alleles, set to N\n",
        "CAE1 59420352 2 alleles, set to N\n",
        "CAE1 59420465 2 alleles, set to N\n",
        "CAE1"
       ]
      },
      {
       "output_type": "stream",
       "stream": "stdout",
       "text": [
        " 59420181 2 alleles, set to N\n",
        "CAE1 59420352 2 alleles, set to N\n",
        "CAE1 59420465 2 alleles, set to N\n",
        "CAE1"
       ]
      },
      {
       "output_type": "stream",
       "stream": "stdout",
       "text": [
        " 59420181 2 alleles, set to N\n",
        "CAE1 59420352 2 alleles, set to N\n",
        "CAE1 59420465 2 alleles, set to N\n",
        "CAE1"
       ]
      },
      {
       "output_type": "stream",
       "stream": "stdout",
       "text": [
        " 59420352 2 alleles, set to N\n",
        "CAE1 59420465 2 alleles, set to N\n",
        "CAE1"
       ]
      },
      {
       "output_type": "stream",
       "stream": "stdout",
       "text": [
        " 59420352 2 alleles, set to N\n",
        "CAE1 59420465 2 alleles, set to N\n",
        "CAE1 59420352 2 alleles, set to N\n",
        "CAE1"
       ]
      },
      {
       "output_type": "stream",
       "stream": "stdout",
       "text": [
        " 59420465 2 alleles, set to N\n",
        "CAE1 59420352 2 alleles, set to N\n",
        "CAE1"
       ]
      },
      {
       "output_type": "stream",
       "stream": "stdout",
       "text": [
        " 59420465 2 alleles, set to N\n",
        "CAE1 59420352 2 alleles, set to N\n",
        "CAE1 59420465 2 alleles, set to N\n",
        "CAE1"
       ]
      },
      {
       "output_type": "stream",
       "stream": "stdout",
       "text": [
        " 59420352 2 alleles, set to N\n",
        "CAE1 59420465 2 alleles, set to N\n",
        "CAE1 59420352 2 alleles, set to N\n",
        "CAE1"
       ]
      },
      {
       "output_type": "stream",
       "stream": "stdout",
       "text": [
        " 59420465 2 alleles, set to N\n",
        "CAE1 59420352 2 alleles, set to N\n",
        "CAE1 59420465 2 alleles, set to N\n",
        "CAE1"
       ]
      },
      {
       "output_type": "stream",
       "stream": "stdout",
       "text": [
        " 59420465 2 alleles, set to N\n",
        "CAE1 59420465 2 alleles, set to N\n",
        "CAE1"
       ]
      },
      {
       "output_type": "stream",
       "stream": "stdout",
       "text": [
        " 59420465 2 alleles, set to N\n",
        "context of ref allele (at center):"
       ]
      },
      {
       "output_type": "stream",
       "stream": "stdout",
       "text": [
        " TCTTT\n",
        "Record(CHROM=CAE1, POS=110927008, REF=A, ALT=[AC])\n",
        "CAE1 110927008 A [AC]\n",
        "Call(sample=VGA00006, CallData(GT=0/0, COV=[6, 0], GT_CONF=4.21, SITE_CONF=9.33))\n",
        "CAE2"
       ]
      },
      {
       "output_type": "stream",
       "stream": "stdout",
       "text": [
        " 54924369 2 alleles, set to N\n",
        "CAE2 54924369 2 alleles, set to N\n",
        "context of ref allele (at center):"
       ]
      },
      {
       "output_type": "stream",
       "stream": "stdout",
       "text": [
        " CATTG\n",
        "Record(CHROM=CAE2, POS=76004882, REF=G, ALT=[GTTA])\n",
        "CAE2 76004882 G [GTTA]\n",
        "Call(sample=VGA00006, CallData(GT=None, COV=[0, 0], GT_CONF=0.17, SITE_CONF=0.0))\n",
        "context of ref allele (at center):"
       ]
      },
      {
       "output_type": "stream",
       "stream": "stdout",
       "text": [
        " TCGCT\n",
        "Record(CHROM=CAE4, POS=17316197, REF=C, ALT=[CTTT])\n",
        "CAE4 17316197 C [CTTT]\n",
        "Call(sample=VGA00006, CallData(GT=None, COV=[0, 0], GT_CONF=0.17, SITE_CONF=15.57))\n",
        "CAE5"
       ]
      },
      {
       "output_type": "stream",
       "stream": "stdout",
       "text": [
        " 30290351 2 alleles, set to N\n",
        "CAE5 30290448 2 alleles, set to N\n",
        "CAE5 30290475 2 alleles, set to N\n",
        "CAE5 30290485 2 alleles, set to N\n",
        "CAE5 30290598 2 alleles, set to N\n",
        "CAE5 30290733 2 alleles, set to N\n",
        "CAE5 30290768 2 alleles, set to N\n",
        "CAE5 30290791 2 alleles, set to N\n",
        "CAE5 30290799 2 alleles, set to N\n",
        "CAE5 30290939 2 alleles, set to N\n",
        "CAE5 30291041 2 alleles, set to N\n",
        "CAE5 30291062 2 alleles, set to N\n",
        "CAE5 30291349 2 alleles, set to N\n",
        "CAE5 30291381 2 alleles, set to N\n",
        "CAE5"
       ]
      },
      {
       "output_type": "stream",
       "stream": "stdout",
       "text": [
        " 30290351 2 alleles, set to N\n",
        "CAE5 30290448 2 alleles, set to N\n",
        "CAE5 30290475 2 alleles, set to N\n",
        "CAE5 30290485 2 alleles, set to N\n",
        "CAE5 30290598 2 alleles, set to N\n",
        "CAE5 30290733 2 alleles, set to N\n",
        "CAE5 30290768 2 alleles, set to N\n",
        "CAE5 30290791 2 alleles, set to N\n",
        "CAE5 30290799 2 alleles, set to N\n",
        "CAE5 30290939 2 alleles, set to N\n",
        "CAE5 30291041 2 alleles, set to N\n",
        "CAE5 30291062 2 alleles, set to N\n",
        "CAE5 30291349 2 alleles, set to N\n",
        "CAE5 30291381 2 alleles, set to N\n",
        "CAE5 30291507 2 alleles, set to N\n",
        "CAE5"
       ]
      },
      {
       "output_type": "stream",
       "stream": "stdout",
       "text": [
        " 30290485 2 alleles, set to N\n",
        "CAE5 30290598 2 alleles, set to N\n",
        "CAE5 30290733 2 alleles, set to N\n",
        "CAE5 30290768 2 alleles, set to N\n",
        "CAE5 30290791 2 alleles, set to N\n",
        "CAE5 30290799 2 alleles, set to N\n",
        "CAE5 30290939 2 alleles, set to N\n",
        "CAE5 30291041 2 alleles, set to N\n",
        "CAE5 30291062 2 alleles, set to N\n",
        "CAE5 30291349 2 alleles, set to N\n",
        "CAE5 30291381 2 alleles, set to N\n",
        "CAE5 30290485 2 alleles, set to N\n",
        "CAE5 30290598 2 alleles, set to N\n",
        "CAE5 30290733 2 alleles, set to N\n",
        "CAE5 30290768 2 alleles, set to N\n",
        "CAE5 30290791 2 alleles, set to N\n",
        "CAE5 30290799 2 alleles, set to N\n",
        "CAE5"
       ]
      },
      {
       "output_type": "stream",
       "stream": "stdout",
       "text": [
        " 30290939 2 alleles, set to N\n",
        "CAE5 30291041 2 alleles, set to N\n",
        "CAE5 30291062 2 alleles, set to N\n",
        "CAE5 30291349 2 alleles, set to N\n",
        "CAE5 30291381 2 alleles, set to N\n",
        "CAE5 30291507 2 alleles, set to N\n",
        "CAE5 30290598 2 alleles, set to N\n",
        "CAE5 30290733 2 alleles, set to N\n",
        "CAE5 30290768 2 alleles, set to N\n",
        "CAE5 30290791 2 alleles, set to N\n",
        "CAE5 30290799 2 alleles, set to N\n",
        "CAE5 30290939 2 alleles, set to N\n",
        "CAE5 30291041 2 alleles, set to N\n",
        "CAE5 30291062 2 alleles, set to N\n",
        "CAE5"
       ]
      },
      {
       "output_type": "stream",
       "stream": "stdout",
       "text": [
        " 30290598 2 alleles, set to N\n",
        "CAE5 30290733 2 alleles, set to N\n",
        "CAE5 30290768 2 alleles, set to N\n",
        "CAE5 30290791 2 alleles, set to N\n",
        "CAE5 30290799 2 alleles, set to N\n",
        "CAE5 30290939 2 alleles, set to N\n",
        "CAE5 30291041 2 alleles, set to N\n",
        "CAE5 30291062 2 alleles, set to N\n",
        "CAE5 30290733 2 alleles, set to N\n",
        "CAE5 30290768 2 alleles, set to N\n",
        "CAE5 30290791 2 alleles, set to N\n",
        "CAE5 30290799 2 alleles, set to N\n",
        "CAE5 30290939 2 alleles, set to N\n",
        "CAE5 30291041 2 alleles, set to N\n",
        "CAE5 30291062 2 alleles, set to N\n",
        "CAE5"
       ]
      },
      {
       "output_type": "stream",
       "stream": "stdout",
       "text": [
        " 30291349 2 alleles, set to N\n",
        "CAE5 30291381 2 alleles, set to N\n",
        "CAE5 30291507 2 alleles, set to N\n",
        "CAE5 30290939 2 alleles, set to N\n",
        "CAE5 30291041 2 alleles, set to N\n",
        "CAE5 30291062 2 alleles, set to N\n",
        "CAE5 30291349 2 alleles, set to N\n",
        "CAE5 30291381 2 alleles, set to N\n",
        "CAE5 30291507 2 alleles, set to N\n",
        "CAE5 30291672 2 alleles, set to N\n",
        "CAE5 30291760 2 alleles, set to N\n",
        "CAE5"
       ]
      },
      {
       "output_type": "stream",
       "stream": "stdout",
       "text": [
        " 30291041 2 alleles, set to N\n",
        "CAE5 30291062 2 alleles, set to N\n",
        "CAE5 30291349 2 alleles, set to N\n",
        "CAE5 30291381 2 alleles, set to N\n",
        "CAE5 30291041 2 alleles, set to N\n",
        "CAE5 30291062 2 alleles, set to N\n",
        "CAE5"
       ]
      },
      {
       "output_type": "stream",
       "stream": "stdout",
       "text": [
        " 30291349 2 alleles, set to N\n",
        "CAE5 30291381 2 alleles, set to N\n",
        "CAE5 30291507 2 alleles, set to N\n",
        "CAE5 30291672 2 alleles, set to N\n",
        "CAE5 30291760 2 alleles, set to N\n",
        "CAE5 30291041 2 alleles, set to N\n",
        "CAE5 30291062 2 alleles, set to N\n",
        "CAE5 30291349 2 alleles, set to N\n",
        "CAE5 30291381 2 alleles, set to N\n",
        "CAE5 30291507 2 alleles, set to N\n",
        "CAE5"
       ]
      },
      {
       "output_type": "stream",
       "stream": "stdout",
       "text": [
        " 30293913 2 alleles, set to N\n",
        "CAE5 30293913 2 alleles, set to N\n",
        "CAE5 30294565 2 alleles, set to N\n",
        "CAE5 30294594 2 alleles, set to N\n",
        "CAE5 30294737 2 alleles, set to N\n",
        "CAE5 30294744 2 alleles, set to N\n",
        "CAE5"
       ]
      },
      {
       "output_type": "stream",
       "stream": "stdout",
       "text": [
        " 30294565 2 alleles, set to N\n",
        "CAE5 30294594 2 alleles, set to N\n",
        "CAE5 30294737 2 alleles, set to N\n",
        "CAE5 30294744 2 alleles, set to N\n",
        "CAE5 30295013 2 alleles, set to N\n",
        "CAE5 30295035 2 alleles, set to N\n",
        "CAE5 30295126 2 alleles, set to N\n",
        "CAE5 30295210 2 alleles, set to N\n",
        "CAE5 30295224 2 alleles, set to N\n",
        "CAE5 30295013 2 alleles, set to N\n",
        "CAE5 30295035 2 alleles, set to N\n",
        "CAE5 30295126 2 alleles, set to N\n",
        "CAE5 30295210 2 alleles, set to N\n",
        "CAE5 30295224 2 alleles, set to N\n",
        "CAE6"
       ]
      },
      {
       "output_type": "stream",
       "stream": "stdout",
       "text": [
        " 22652091 2 alleles, set to N\n",
        "CAE6 22652230 2 alleles, set to N\n",
        "CAE6 22652263 2 alleles, set to N\n",
        "CAE6 22652298 2 alleles, set to N\n",
        "CAE6 22652091 2 alleles, set to N\n",
        "CAE6 22652230 2 alleles, set to N\n",
        "CAE6 22652263 2 alleles, set to N\n",
        "CAE6 22652298 2 alleles, set to N\n",
        "CAE6"
       ]
      },
      {
       "output_type": "stream",
       "stream": "stdout",
       "text": [
        " 22652091 2 alleles, set to N\n",
        "CAE6 22652230 2 alleles, set to N\n",
        "CAE6 22652263 2 alleles, set to N\n",
        "CAE6 22652298 2 alleles, set to N\n",
        "CAE6 22652989 2 alleles, set to N\n",
        "CAE6 22652091 2 alleles, set to N\n",
        "CAE6 22652230 2 alleles, set to N\n",
        "CAE6 22652263 2 alleles, set to N\n",
        "CAE6 22652298 2 alleles, set to N\n",
        "CAE6"
       ]
      },
      {
       "output_type": "stream",
       "stream": "stdout",
       "text": [
        " 22652091 2 alleles, set to N\n",
        "CAE6 22652230 2 alleles, set to N\n",
        "CAE6 22652263 2 alleles, set to N\n",
        "CAE6 22652298 2 alleles, set to N\n",
        "CAE6 22652989 2 alleles, set to N\n",
        "CAE6 22653071 2 alleles, set to N\n",
        "CAE6 22653095 2 alleles, set to N\n",
        "CAE6 22653109 2 alleles, set to N\n",
        "CAE6"
       ]
      },
      {
       "output_type": "stream",
       "stream": "stdout",
       "text": [
        " 22652091 2 alleles, set to N\n",
        "CAE6 22652230 2 alleles, set to N\n",
        "CAE6 22652263 2 alleles, set to N\n",
        "CAE6 22652298 2 alleles, set to N\n",
        "CAE6 22652989 2 alleles, set to N\n",
        "CAE6 22653071 2 alleles, set to N\n",
        "CAE6 22653095 2 alleles, set to N\n",
        "CAE6 22652091 2 alleles, set to N\n",
        "CAE6"
       ]
      },
      {
       "output_type": "stream",
       "stream": "stdout",
       "text": [
        " 22652230 2 alleles, set to N\n",
        "CAE6 22652263 2 alleles, set to N\n",
        "CAE6 22652298 2 alleles, set to N\n",
        "CAE6"
       ]
      },
      {
       "output_type": "stream",
       "stream": "stdout",
       "text": [
        " 22652989 2 alleles, set to N\n",
        "CAE6 22653071 2 alleles, set to N\n",
        "CAE6 22653095 2 alleles, set to N\n",
        "CAE6 22653109 2 alleles, set to N\n",
        "CAE6 22653272 2 alleles, set to N\n",
        "CAE6 22652989 2 alleles, set to N\n",
        "CAE6 22653071 2 alleles, set to N\n",
        "CAE6 22653095 2 alleles, set to N\n",
        "CAE6 22653109 2 alleles, set to N\n",
        "CAE6"
       ]
      },
      {
       "output_type": "stream",
       "stream": "stdout",
       "text": [
        " 22652989 2 alleles, set to N\n",
        "CAE6 22652989 2 alleles, set to N\n",
        "CAE6 22653071 2 alleles, set to N\n",
        "CAE6 22653095 2 alleles, set to N\n",
        "CAE6 22653109 2 alleles, set to N\n",
        "CAE6 22653272 2 alleles, set to N\n",
        "CAE6"
       ]
      },
      {
       "output_type": "stream",
       "stream": "stdout",
       "text": [
        " 22652989 2 alleles, set to N\n",
        "CAE6 22653071 2 alleles, set to N\n",
        "CAE6 22653095 2 alleles, set to N\n",
        "CAE6 22653109 2 alleles, set to N\n",
        "CAE6 22653272 2 alleles, set to N\n",
        "CAE6 22652989 2 alleles, set to N\n",
        "CAE6 22653071 2 alleles, set to N\n",
        "CAE6 22653095 2 alleles, set to N\n",
        "CAE6 22653109 2 alleles, set to N\n",
        "CAE6 22653272 2 alleles, set to N\n",
        "CAE6"
       ]
      },
      {
       "output_type": "stream",
       "stream": "stdout",
       "text": [
        " 22652989 2 alleles, set to N\n",
        "CAE6 22653071 2 alleles, set to N\n",
        "CAE6 22653095 2 alleles, set to N\n",
        "CAE6 22653109 2 alleles, set to N\n",
        "CAE6 22653272 2 alleles, set to N\n",
        "CAE6 22654554 2 alleles, set to N\n",
        "CAE6 22654579 2 alleles, set to N\n",
        "CAE6 22654606 2 alleles, set to N\n",
        "CAE6 22654796 2 alleles, set to N\n",
        "CAE6 22654901 2 alleles, set to N\n",
        "CAE6"
       ]
      },
      {
       "output_type": "stream",
       "stream": "stdout",
       "text": [
        " 22654554 2 alleles, set to N\n",
        "CAE6 22654579 2 alleles, set to N\n",
        "CAE6 22654606 2 alleles, set to N\n",
        "CAE6 22654796 2 alleles, set to N\n",
        "CAE6 22654901 2 alleles, set to N\n",
        "CAE6 22655812 2 alleles, set to N\n",
        "CAE6"
       ]
      },
      {
       "output_type": "stream",
       "stream": "stdout",
       "text": [
        " 22654554 2 alleles, set to N\n",
        "CAE6 22654579 2 alleles, set to N\n",
        "CAE6 22654606 2 alleles, set to N\n",
        "CAE6 22654796 2 alleles, set to N\n",
        "CAE6 22654901 2 alleles, set to N\n",
        "CAE6 22654554 2 alleles, set to N\n",
        "CAE6 22654579 2 alleles, set to N\n",
        "CAE6 22654606 2 alleles, set to N\n",
        "CAE6"
       ]
      },
      {
       "output_type": "stream",
       "stream": "stdout",
       "text": [
        " 22654796 2 alleles, set to N\n",
        "CAE6 22654901 2 alleles, set to N\n",
        "CAE6 22654554 2 alleles, set to N\n",
        "CAE6 22654579 2 alleles, set to N\n",
        "CAE6 22654606 2 alleles, set to N\n",
        "CAE6 22654796 2 alleles, set to N\n",
        "CAE6 22654901 2 alleles, set to N\n",
        "CAE6"
       ]
      },
      {
       "output_type": "stream",
       "stream": "stdout",
       "text": [
        " 22654554 2 alleles, set to N\n",
        "CAE6 22654579 2 alleles, set to N\n",
        "CAE6 22654606 2 alleles, set to N\n",
        "CAE6 22654796 2 alleles, set to N\n",
        "CAE6 22654901 2 alleles, set to N\n",
        "CAE6 22654579 2 alleles, set to N\n",
        "CAE6 22654606 2 alleles, set to N\n",
        "CAE6"
       ]
      },
      {
       "output_type": "stream",
       "stream": "stdout",
       "text": [
        " 22654796 2 alleles, set to N\n",
        "CAE6 22654901 2 alleles, set to N\n",
        "CAE6 22654796 2 alleles, set to N\n",
        "CAE6 22654901 2 alleles, set to N\n",
        "CAE6"
       ]
      },
      {
       "output_type": "stream",
       "stream": "stdout",
       "text": [
        " 22654796 2 alleles, set to N\n",
        "CAE6 22654901 2 alleles, set to N\n",
        "CAE6 22654901 2 alleles, set to N\n",
        "CAE6"
       ]
      },
      {
       "output_type": "stream",
       "stream": "stdout",
       "text": [
        " 22654901 2 alleles, set to N\n",
        "CAE6 22655812 2 alleles, set to N\n",
        "CAE6 22654901 2 alleles, set to N\n",
        "CAE6"
       ]
      },
      {
       "output_type": "stream",
       "stream": "stdout",
       "text": [
        " 22655812 2 alleles, set to N\n",
        "CAE6 22654901 2 alleles, set to N\n",
        "CAE6"
       ]
      },
      {
       "output_type": "stream",
       "stream": "stdout",
       "text": [
        " 22654901 2 alleles, set to N\n",
        "CAE6 22654901 2 alleles, set to N\n",
        "CAE6"
       ]
      },
      {
       "output_type": "stream",
       "stream": "stdout",
       "text": [
        " 22655812 2 alleles, set to N\n",
        "CAE6 22654901 2 alleles, set to N\n",
        "CAE6"
       ]
      },
      {
       "output_type": "stream",
       "stream": "stdout",
       "text": [
        " 22655812 2 alleles, set to N\n",
        "CAE6"
       ]
      },
      {
       "output_type": "stream",
       "stream": "stdout",
       "text": [
        " 22655812 2 alleles, set to N\n",
        "CAE6"
       ]
      },
      {
       "output_type": "stream",
       "stream": "stdout",
       "text": [
        " 22655812 2 alleles, set to N\n",
        "CAE6 22656173 2 alleles, set to N\n",
        "CAE6"
       ]
      },
      {
       "output_type": "stream",
       "stream": "stdout",
       "text": [
        " 22655812 2 alleles, set to N\n",
        "CAE6 22656173 2 alleles, set to N\n",
        "CAE6 22656326 2 alleles, set to N\n",
        "CAE6 22656345 2 alleles, set to N\n",
        "CAE6"
       ]
      },
      {
       "output_type": "stream",
       "stream": "stdout",
       "text": [
        " 22655812 2 alleles, set to N\n",
        "CAE6"
       ]
      },
      {
       "output_type": "stream",
       "stream": "stdout",
       "text": [
        " 22655812 2 alleles, set to N\n",
        "CAE6 22656173 2 alleles, set to N\n",
        "CAE6 22655812 2 alleles, set to N\n",
        "CAE6 22656173 2 alleles, set to N\n",
        "CAE6"
       ]
      },
      {
       "output_type": "stream",
       "stream": "stdout",
       "text": [
        " 22655812 2 alleles, set to N\n",
        "CAE6 22655812 2 alleles, set to N\n",
        "CAE6"
       ]
      },
      {
       "output_type": "stream",
       "stream": "stdout",
       "text": [
        " 22656173 2 alleles, set to N\n",
        "CAE6 22656326 2 alleles, set to N\n",
        "CAE6 22656345 2 alleles, set to N\n",
        "CAE6 22656362 2 alleles, set to N\n",
        "CAE6 22656371 2 alleles, set to N\n",
        "CAE6 22656406 2 alleles, set to N\n",
        "CAE6 22655812 2 alleles, set to N\n",
        "CAE6"
       ]
      },
      {
       "output_type": "stream",
       "stream": "stdout",
       "text": [
        " 22655812 2 alleles, set to N\n",
        "CAE6 22655812 2 alleles, set to N\n",
        "CAE6 22656173 2 alleles, set to N\n",
        "CAE6 22656326 2 alleles, set to N\n",
        "CAE6 22656345 2 alleles, set to N\n",
        "CAE6 22656362 2 alleles, set to N\n",
        "CAE6 22656371 2 alleles, set to N\n",
        "CAE6 22656406 2 alleles, set to N\n",
        "CAE6"
       ]
      },
      {
       "output_type": "stream",
       "stream": "stdout",
       "text": [
        " 22655812 2 alleles, set to N\n",
        "CAE6 22656173 2 alleles, set to N\n",
        "CAE6 22656326 2 alleles, set to N\n",
        "CAE6 22656345 2 alleles, set to N\n",
        "CAE6 22656362 2 alleles, set to N\n",
        "CAE6 22656371 2 alleles, set to N\n",
        "CAE6 22656406 2 alleles, set to N\n",
        "CAE6 22656634 2 alleles, set to N\n",
        "CAE6 22657025 2 alleles, set to N\n",
        "CAE6"
       ]
      },
      {
       "output_type": "stream",
       "stream": "stdout",
       "text": [
        " 22656173 2 alleles, set to N\n",
        "CAE6 22656326 2 alleles, set to N\n",
        "CAE6 22656345 2 alleles, set to N\n",
        "CAE6 22656362 2 alleles, set to N\n",
        "CAE6 22656371 2 alleles, set to N\n",
        "CAE6 22656406 2 alleles, set to N\n",
        "CAE6 22656634 2 alleles, set to N\n",
        "CAE6 22656173 2 alleles, set to N\n",
        "CAE6 22656326 2 alleles, set to N\n",
        "CAE6 22656345 2 alleles, set to N\n",
        "CAE6 22656362 2 alleles, set to N\n",
        "CAE6 22656371 2 alleles, set to N\n",
        "CAE6 22656406 2 alleles, set to N\n",
        "CAE6"
       ]
      },
      {
       "output_type": "stream",
       "stream": "stdout",
       "text": [
        " 22656634 2 alleles, set to N\n",
        "CAE6 22657025 2 alleles, set to N\n",
        "CAE6 22657323 2 alleles, set to N\n",
        "CAE6 22656345 2 alleles, set to N\n",
        "CAE6 22656362 2 alleles, set to N\n",
        "CAE6 22656371 2 alleles, set to N\n",
        "CAE6 22656406 2 alleles, set to N\n",
        "CAE6 22656634 2 alleles, set to N\n",
        "CAE6 22657025 2 alleles, set to N\n",
        "CAE6"
       ]
      },
      {
       "output_type": "stream",
       "stream": "stdout",
       "text": [
        " 22656634 2 alleles, set to N\n",
        "CAE6 22657025 2 alleles, set to N\n",
        "CAE6 22656634 2 alleles, set to N\n",
        "CAE6 22657025 2 alleles, set to N\n",
        "CAE6"
       ]
      },
      {
       "output_type": "stream",
       "stream": "stdout",
       "text": [
        " 22657323 2 alleles, set to N\n",
        "CAE6 22656634 2 alleles, set to N\n",
        "CAE6 22657025 2 alleles, set to N\n",
        "CAE6"
       ]
      },
      {
       "output_type": "stream",
       "stream": "stdout",
       "text": [
        " 22656634 2 alleles, set to N\n",
        "CAE6 22657025 2 alleles, set to N\n",
        "CAE6 22657323 2 alleles, set to N\n",
        "CAE6 22656634 2 alleles, set to N\n",
        "CAE6"
       ]
      },
      {
       "output_type": "stream",
       "stream": "stdout",
       "text": [
        " 22657025 2 alleles, set to N\n",
        "CAE6 22657323 2 alleles, set to N\n",
        "CAE6 22656634 2 alleles, set to N\n",
        "CAE6 22657025 2 alleles, set to N\n",
        "CAE6 22657323 2 alleles, set to N\n",
        "CAE6"
       ]
      },
      {
       "output_type": "stream",
       "stream": "stdout",
       "text": [
        " 22656634 2 alleles, set to N\n",
        "CAE6 22656634 2 alleles, set to N\n",
        "CAE6 22657025 2 alleles, set to N\n",
        "CAE6 22657323 2 alleles, set to N\n",
        "CAE6"
       ]
      },
      {
       "output_type": "stream",
       "stream": "stdout",
       "text": [
        " 22656634 2 alleles, set to N\n",
        "CAE6 22657025 2 alleles, set to N\n",
        "CAE6 22657323 2 alleles, set to N\n",
        "CAE6 22656634 2 alleles, set to N\n",
        "CAE6"
       ]
      },
      {
       "output_type": "stream",
       "stream": "stdout",
       "text": [
        " 22657025 2 alleles, set to N\n",
        "CAE6 22657025 2 alleles, set to N\n",
        "CAE6"
       ]
      },
      {
       "output_type": "stream",
       "stream": "stdout",
       "text": [
        " 22657025 2 alleles, set to N\n",
        "CAE6 22657323 2 alleles, set to N\n",
        "CAE6 22657025 2 alleles, set to N\n",
        "CAE6 22657323 2 alleles, set to N\n",
        "CAE6"
       ]
      },
      {
       "output_type": "stream",
       "stream": "stdout",
       "text": [
        " 22657025 2 alleles, set to N\n",
        "CAE6 22657323 2 alleles, set to N\n",
        "CAE7"
       ]
      },
      {
       "output_type": "stream",
       "stream": "stdout",
       "text": [
        " 16869882 2 alleles, set to N\n",
        "CAE7 16869882 2 alleles, set to N\n",
        "CAE7 16869882 2 alleles, set to N\n",
        "CAE7"
       ]
      },
      {
       "output_type": "stream",
       "stream": "stdout",
       "text": [
        " 16869882 2 alleles, set to N\n",
        "CAE7 16869882 2 alleles, set to N\n",
        "CAE7"
       ]
      },
      {
       "output_type": "stream",
       "stream": "stdout",
       "text": [
        " 16901002 2 alleles, set to N\n",
        "CAE7 16901151 2 alleles, set to N\n",
        "CAE7 16901198 2 alleles, set to N\n",
        "CAE7 16901249 2 alleles, set to N\n",
        "CAE7 16901002 2 alleles, set to N\n",
        "CAE7 16901151 2 alleles, set to N\n",
        "CAE7 16901198 2 alleles, set to N\n",
        "CAE7 16901249 2 alleles, set to N\n",
        "CAE7 16901002 2 alleles, set to N\n",
        "CAE7 16901151 2 alleles, set to N\n",
        "CAE7 16901198 2 alleles, set to N\n",
        "CAE7 16901249 2 alleles, set to N\n",
        "CAE7"
       ]
      },
      {
       "output_type": "stream",
       "stream": "stdout",
       "text": [
        " 16901002 2 alleles, set to N\n",
        "CAE7 16901151 2 alleles, set to N\n",
        "CAE7 16901198 2 alleles, set to N\n",
        "CAE7 16901249 2 alleles, set to N\n",
        "CAE7 16901981 2 alleles, set to N\n",
        "CAE7 16902084 2 alleles, set to N\n",
        "CAE7 16902419 2 alleles, set to N\n",
        "CAE7 16901981 2 alleles, set to N\n",
        "CAE7 16902084 2 alleles, set to N\n",
        "CAE7"
       ]
      },
      {
       "output_type": "stream",
       "stream": "stdout",
       "text": [
        " 16901981 2 alleles, set to N\n",
        "CAE7 16902084 2 alleles, set to N\n",
        "CAE7 16902419 2 alleles, set to N\n",
        "CAE7 16901981 2 alleles, set to N\n",
        "CAE7 16902084 2 alleles, set to N\n",
        "CAE7 16902419 2 alleles, set to N\n",
        "CAE7 16901981 2 alleles, set to N\n",
        "CAE7"
       ]
      },
      {
       "output_type": "stream",
       "stream": "stdout",
       "text": [
        " 16902084 2 alleles, set to N\n",
        "CAE7 16901981 2 alleles, set to N\n",
        "CAE7 16902084 2 alleles, set to N\n",
        "CAE7 16902419 2 alleles, set to N\n",
        "CAE7 16902084 2 alleles, set to N\n",
        "CAE7 16902419 2 alleles, set to N\n",
        "CAE7"
       ]
      },
      {
       "output_type": "stream",
       "stream": "stdout",
       "text": [
        " 16902084 2 alleles, set to N\n",
        "CAE7 16902419 2 alleles, set to N\n",
        "CAE7"
       ]
      },
      {
       "output_type": "stream",
       "stream": "stdout",
       "text": [
        " 16903847 2 alleles, set to N\n",
        "CAE7 16903855 2 alleles, set to N\n",
        "CAE7 16903932 2 alleles, set to N\n",
        "CAE7 16904263 2 alleles, set to N\n",
        "CAE7"
       ]
      },
      {
       "output_type": "stream",
       "stream": "stdout",
       "text": [
        " 16903847 2 alleles, set to N\n",
        "CAE7 16903855 2 alleles, set to N\n",
        "CAE7 16903932 2 alleles, set to N\n",
        "CAE7 16903847 2 alleles, set to N\n",
        "CAE7 16903855 2 alleles, set to N\n",
        "CAE7"
       ]
      },
      {
       "output_type": "stream",
       "stream": "stdout",
       "text": [
        " 16903932 2 alleles, set to N\n",
        "CAE7 16903847 2 alleles, set to N\n",
        "CAE7 16903855 2 alleles, set to N\n",
        "CAE7 16903932 2 alleles, set to N\n",
        "CAE7 16904263 2 alleles, set to N\n",
        "CAE7"
       ]
      },
      {
       "output_type": "stream",
       "stream": "stdout",
       "text": [
        " 16903847 2 alleles, set to N\n",
        "CAE7 16903855 2 alleles, set to N\n",
        "CAE7 16903932 2 alleles, set to N\n",
        "CAE7 16904263 2 alleles, set to N\n",
        "CAE7 16903847 2 alleles, set to N\n",
        "CAE7 16903855 2 alleles, set to N\n",
        "CAE7 16903932 2 alleles, set to N\n",
        "CAE7 16904263 2 alleles, set to N\n",
        "CAE7 16904403 2 alleles, set to N\n",
        "CAE7 16904418 2 alleles, set to N\n",
        "CAE7 16904657 2 alleles, set to N\n",
        "CAE7"
       ]
      },
      {
       "output_type": "stream",
       "stream": "stdout",
       "text": [
        " 16903847 2 alleles, set to N\n",
        "CAE7 16903855 2 alleles, set to N\n",
        "CAE7 16903932 2 alleles, set to N\n",
        "CAE7 16904263 2 alleles, set to N\n",
        "CAE7 16904403 2 alleles, set to N\n",
        "CAE7 16904418 2 alleles, set to N\n",
        "CAE7 16904657 2 alleles, set to N\n",
        "CAE7 16903847 2 alleles, set to N\n",
        "CAE7 16903855 2 alleles, set to N\n",
        "CAE7 16903932 2 alleles, set to N\n",
        "CAE7 16904263 2 alleles, set to N\n",
        "CAE7 16904403 2 alleles, set to N\n",
        "CAE7 16904418 2 alleles, set to N\n",
        "CAE7 16904657 2 alleles, set to N\n",
        "CAE7"
       ]
      },
      {
       "output_type": "stream",
       "stream": "stdout",
       "text": [
        " 16903847 2 alleles, set to N\n",
        "CAE7 16903855 2 alleles, set to N\n",
        "CAE7 16903932 2 alleles, set to N\n",
        "CAE7 16904263 2 alleles, set to N\n",
        "CAE7 16904403 2 alleles, set to N\n",
        "CAE7 16904418 2 alleles, set to N\n",
        "CAE7 16904657 2 alleles, set to N\n",
        "CAE7 16904263 2 alleles, set to N\n",
        "CAE7 16904403 2 alleles, set to N\n",
        "CAE7 16904418 2 alleles, set to N\n",
        "CAE7"
       ]
      },
      {
       "output_type": "stream",
       "stream": "stdout",
       "text": [
        " 16904263 2 alleles, set to N\n",
        "CAE7 16904403 2 alleles, set to N\n",
        "CAE7 16904418 2 alleles, set to N\n",
        "CAE7 16904657 2 alleles, set to N\n",
        "CAE7 16904263 2 alleles, set to N\n",
        "CAE7 16904403 2 alleles, set to N\n",
        "CAE7 16904418 2 alleles, set to N\n",
        "CAE7 16904657 2 alleles, set to N\n",
        "CAE7"
       ]
      },
      {
       "output_type": "stream",
       "stream": "stdout",
       "text": [
        " 16907704 2 alleles, set to N\n",
        "CAE7 16907803 2 alleles, set to N\n",
        "CAE7 16908041 2 alleles, set to N\n",
        "CAE7 16908399 2 alleles, set to N\n",
        "CAE7 16907704 2 alleles, set to N\n",
        "CAE7 16907803 2 alleles, set to N\n",
        "CAE7 16908041 2 alleles, set to N\n",
        "CAE7"
       ]
      },
      {
       "output_type": "stream",
       "stream": "stdout",
       "text": [
        " 16907704 2 alleles, set to N\n",
        "CAE7 16907803 2 alleles, set to N\n",
        "CAE7 16908041 2 alleles, set to N\n",
        "CAE7 16907704 2 alleles, set to N\n",
        "CAE7 16907803 2 alleles, set to N\n",
        "CAE7 16908041 2 alleles, set to N\n",
        "CAE7"
       ]
      },
      {
       "output_type": "stream",
       "stream": "stdout",
       "text": [
        " 16908399 2 alleles, set to N\n",
        "CAE7 16907803 2 alleles, set to N\n",
        "CAE7 16908041 2 alleles, set to N\n",
        "CAE7"
       ]
      },
      {
       "output_type": "stream",
       "stream": "stdout",
       "text": [
        " 16907803 2 alleles, set to N\n",
        "CAE7 16908041 2 alleles, set to N\n",
        "CAE7 16907803 2 alleles, set to N\n",
        "CAE7 16908041 2 alleles, set to N\n",
        "CAE7"
       ]
      },
      {
       "output_type": "stream",
       "stream": "stdout",
       "text": [
        " 16908399 2 alleles, set to N\n",
        "CAE7 16907803 2 alleles, set to N\n",
        "CAE7 16908041 2 alleles, set to N\n",
        "CAE7 16908399 2 alleles, set to N\n",
        "CAE7"
       ]
      },
      {
       "output_type": "stream",
       "stream": "stdout",
       "text": [
        " 16907803 2 alleles, set to N\n",
        "CAE7 16908041 2 alleles, set to N\n",
        "CAE7 16908399 2 alleles, set to N\n",
        "CAE7 16908041 2 alleles, set to N\n",
        "CAE7"
       ]
      },
      {
       "output_type": "stream",
       "stream": "stdout",
       "text": [
        " 16908399 2 alleles, set to N\n",
        "CAE7 17911273 2 alleles, set to N\n",
        "CAE7"
       ]
      },
      {
       "output_type": "stream",
       "stream": "stdout",
       "text": [
        " 17911356 2 alleles, set to N\n",
        "CAE7 17911415 2 alleles, set to N\n",
        "CAE7 17911436 2 alleles, set to N\n",
        "CAE7 17911509 2 alleles, set to N\n",
        "CAE7 17911525 2 alleles, set to N\n",
        "CAE7 17911666 2 alleles, set to N\n",
        "CAE7 17911687 2 alleles, set to N\n",
        "CAE7"
       ]
      },
      {
       "output_type": "stream",
       "stream": "stdout",
       "text": [
        " 17911273 2 alleles, set to N\n",
        "CAE7 17911356 2 alleles, set to N\n",
        "CAE7 17911415 2 alleles, set to N\n",
        "CAE7 17911436 2 alleles, set to N\n",
        "CAE7 17911509 2 alleles, set to N\n",
        "CAE7 17911525 2 alleles, set to N\n",
        "CAE7 17911666 2 alleles, set to N\n",
        "CAE7 17911687 2 alleles, set to N\n",
        "CAE7 17911723 2 alleles, set to N\n",
        "CAE7"
       ]
      },
      {
       "output_type": "stream",
       "stream": "stdout",
       "text": [
        " 17911356 2 alleles, set to N\n",
        "CAE7 17911415 2 alleles, set to N\n",
        "CAE7 17911356 2 alleles, set to N\n",
        "CAE7 17911415 2 alleles, set to N\n",
        "CAE7 17911436 2 alleles, set to N\n",
        "CAE7 17911509 2 alleles, set to N\n",
        "CAE7 17911525 2 alleles, set to N\n",
        "CAE7"
       ]
      },
      {
       "output_type": "stream",
       "stream": "stdout",
       "text": [
        " 17911666 2 alleles, set to N\n",
        "CAE7 17911687 2 alleles, set to N\n",
        "CAE7 17911723 2 alleles, set to N\n",
        "CAE7 17911666 2 alleles, set to N\n",
        "CAE7 17911687 2 alleles, set to N\n",
        "CAE7 17911723 2 alleles, set to N\n",
        "CAE7 17912063 2 alleles, set to N\n",
        "CAE7"
       ]
      },
      {
       "output_type": "stream",
       "stream": "stdout",
       "text": [
        " 17912063 2 alleles, set to N\n",
        "CAE7 17912063 2 alleles, set to N\n",
        "CAE7"
       ]
      },
      {
       "output_type": "stream",
       "stream": "stdout",
       "text": [
        " 17912063 2 alleles, set to N\n",
        "context of ref allele (at center):"
       ]
      },
      {
       "output_type": "stream",
       "stream": "stdout",
       "text": [
        " GGTGC\n",
        "Record(CHROM=CAE8, POS=51334152, REF=C, ALT=[CCAGAGCCCTGCAGG])\n",
        "CAE8 51334152 C [CCAGAGCCCTGCAGG]\n",
        "Call(sample=VGA00006, CallData(GT=0/0, COV=[13, 0], GT_CONF=9.81, SITE_CONF=4.82))\n",
        "CAE9"
       ]
      },
      {
       "output_type": "stream",
       "stream": "stdout",
       "text": [
        " 490958 2 alleles, set to N\n",
        "CAE9 490958 2 alleles, set to N\n",
        "CAE9"
       ]
      },
      {
       "output_type": "stream",
       "stream": "stdout",
       "text": [
        " 549741 2 alleles, set to N\n",
        "CAE9 549770 2 alleles, set to N\n",
        "CAE9 550186 2 alleles, set to N\n",
        "CAE9 549741 2 alleles, set to N\n",
        "CAE9 549770 2 alleles, set to N\n",
        "CAE9 550186 2 alleles, set to N\n",
        "CAE9"
       ]
      },
      {
       "output_type": "stream",
       "stream": "stdout",
       "text": [
        " 549741 2 alleles, set to N\n",
        "CAE9 549770 2 alleles, set to N\n",
        "CAE9 550186 2 alleles, set to N\n",
        "CAE9 549741 2 alleles, set to N\n",
        "CAE9 549770 2 alleles, set to N\n",
        "CAE9"
       ]
      },
      {
       "output_type": "stream",
       "stream": "stdout",
       "text": [
        " 550186 2 alleles, set to N\n",
        "CAE9 549741 2 alleles, set to N\n",
        "CAE9 549770 2 alleles, set to N\n",
        "CAE9 550186 2 alleles, set to N\n",
        "CAE9"
       ]
      },
      {
       "output_type": "stream",
       "stream": "stdout",
       "text": [
        " 549770 2 alleles, set to N\n",
        "CAE9 550186 2 alleles, set to N\n",
        "CAE9 550186 2 alleles, set to N\n",
        "context of ref allele (at center):"
       ]
      },
      {
       "output_type": "stream",
       "stream": "stdout",
       "text": [
        " AAGTT\n",
        "Record(CHROM=CAE9, POS=6709261, REF=C, ALT=[CA])\n",
        "CAE9 6709261 C [CA]\n",
        "Call(sample=VGA00006, CallData(GT=None, COV=[0, 0], GT_CONF=0.06, SITE_CONF=0.0))\n",
        "CAE11"
       ]
      },
      {
       "output_type": "stream",
       "stream": "stdout",
       "text": [
        " 10898551 2 alleles, set to N\n",
        "CAE11 10898551 2 alleles, set to N\n",
        "CAE11"
       ]
      },
      {
       "output_type": "stream",
       "stream": "stdout",
       "text": [
        " 89564636 2 alleles, set to N\n",
        "CAE11 89564636 2 alleles, set to N\n"
       ]
      }
     ],
     "prompt_number": 515
    },
    {
     "cell_type": "code",
     "collapsed": false,
     "input": [
      "df=df.reindex_axis(['ref','pacbio','illumina0','illumina1','cov','gt_conf','site_conf'], axis=1)"
     ],
     "language": "python",
     "metadata": {},
     "outputs": [],
     "prompt_number": 435
    },
    {
     "cell_type": "code",
     "collapsed": false,
     "input": [
      "\"\".join('A')"
     ],
     "language": "python",
     "metadata": {},
     "outputs": [
      {
       "output_type": "pyout",
       "prompt_number": 500,
       "text": [
        "'A'"
       ]
      }
     ],
     "prompt_number": 500
    },
    {
     "cell_type": "code",
     "collapsed": false,
     "input": [
      "df['ref'].iloc[:10]"
     ],
     "language": "python",
     "metadata": {},
     "outputs": [
      {
       "output_type": "pyout",
       "prompt_number": 570,
       "text": [
        "CAE1  380545     C\n",
        "      380865     A\n",
        "      653845     G\n",
        "      654034     T\n",
        "      1090163    G\n",
        "      1130044    C\n",
        "      1130085    A\n",
        "      1847326    A\n",
        "      1847582    A\n",
        "      1847640    G\n",
        "dtype: object"
       ]
      }
     ],
     "prompt_number": 570
    },
    {
     "cell_type": "code",
     "collapsed": false,
     "input": [
      "df.iloc[:50]"
     ],
     "language": "python",
     "metadata": {},
     "outputs": [
      {
       "html": [
        "<div style=\"max-height:1000px;max-width:1500px;overflow:auto;\">\n",
        "<table border=\"1\" class=\"dataframe\">\n",
        "  <thead>\n",
        "    <tr style=\"text-align: right;\">\n",
        "      <th></th>\n",
        "      <th></th>\n",
        "      <th>ref</th>\n",
        "      <th>pacbio</th>\n",
        "      <th>illumina0</th>\n",
        "      <th>illumina1</th>\n",
        "      <th>cov</th>\n",
        "      <th>gt_conf</th>\n",
        "      <th>site_conf</th>\n",
        "    </tr>\n",
        "  </thead>\n",
        "  <tbody>\n",
        "    <tr>\n",
        "      <th rowspan=\"50\" valign=\"top\">CAE1</th>\n",
        "      <th>380545 </th>\n",
        "      <td>            C</td>\n",
        "      <td>   T</td>\n",
        "      <td>          NaN</td>\n",
        "      <td> NaN</td>\n",
        "      <td>    NaN</td>\n",
        "      <td>   NaN</td>\n",
        "      <td>   NaN</td>\n",
        "    </tr>\n",
        "    <tr>\n",
        "      <th>380865 </th>\n",
        "      <td>            A</td>\n",
        "      <td>   T</td>\n",
        "      <td>            T</td>\n",
        "      <td>   T</td>\n",
        "      <td> [0, 5]</td>\n",
        "      <td>  3.46</td>\n",
        "      <td> 13.72</td>\n",
        "    </tr>\n",
        "    <tr>\n",
        "      <th>653845 </th>\n",
        "      <td>            G</td>\n",
        "      <td> NaN</td>\n",
        "      <td>            A</td>\n",
        "      <td>   A</td>\n",
        "      <td> [0, 3]</td>\n",
        "      <td>  2.08</td>\n",
        "      <td> 10.17</td>\n",
        "    </tr>\n",
        "    <tr>\n",
        "      <th>654034 </th>\n",
        "      <td>            T</td>\n",
        "      <td>   C</td>\n",
        "      <td>            C</td>\n",
        "      <td>   C</td>\n",
        "      <td> [0, 4]</td>\n",
        "      <td>  2.77</td>\n",
        "      <td>  0.77</td>\n",
        "    </tr>\n",
        "    <tr>\n",
        "      <th>1090163</th>\n",
        "      <td>            G</td>\n",
        "      <td>   T</td>\n",
        "      <td>          NaN</td>\n",
        "      <td> NaN</td>\n",
        "      <td>    NaN</td>\n",
        "      <td>   NaN</td>\n",
        "      <td>   NaN</td>\n",
        "    </tr>\n",
        "    <tr>\n",
        "      <th>1130044</th>\n",
        "      <td>            C</td>\n",
        "      <td> NaN</td>\n",
        "      <td>            C</td>\n",
        "      <td>   G</td>\n",
        "      <td> [2, 2]</td>\n",
        "      <td>  8.34</td>\n",
        "      <td> 13.64</td>\n",
        "    </tr>\n",
        "    <tr>\n",
        "      <th>1130085</th>\n",
        "      <td>            A</td>\n",
        "      <td>   G</td>\n",
        "      <td>            A</td>\n",
        "      <td>   G</td>\n",
        "      <td> [3, 3]</td>\n",
        "      <td> 11.76</td>\n",
        "      <td>  4.59</td>\n",
        "    </tr>\n",
        "    <tr>\n",
        "      <th>1847326</th>\n",
        "      <td>            A</td>\n",
        "      <td> NaN</td>\n",
        "      <td>            A</td>\n",
        "      <td>   C</td>\n",
        "      <td> [3, 3]</td>\n",
        "      <td> 11.76</td>\n",
        "      <td> 17.03</td>\n",
        "    </tr>\n",
        "    <tr>\n",
        "      <th>1847582</th>\n",
        "      <td>            A</td>\n",
        "      <td>   G</td>\n",
        "      <td>          NaN</td>\n",
        "      <td> NaN</td>\n",
        "      <td>    NaN</td>\n",
        "      <td>   NaN</td>\n",
        "      <td>   NaN</td>\n",
        "    </tr>\n",
        "    <tr>\n",
        "      <th>1847640</th>\n",
        "      <td>            G</td>\n",
        "      <td> NaN</td>\n",
        "      <td>            G</td>\n",
        "      <td>   A</td>\n",
        "      <td> [3, 2]</td>\n",
        "      <td>  7.65</td>\n",
        "      <td> 13.12</td>\n",
        "    </tr>\n",
        "    <tr>\n",
        "      <th>2150943</th>\n",
        "      <td>            T</td>\n",
        "      <td>   A</td>\n",
        "      <td>          NaN</td>\n",
        "      <td> NaN</td>\n",
        "      <td>    NaN</td>\n",
        "      <td>   NaN</td>\n",
        "      <td>   NaN</td>\n",
        "    </tr>\n",
        "    <tr>\n",
        "      <th>2151046</th>\n",
        "      <td>            C</td>\n",
        "      <td>   T</td>\n",
        "      <td>          NaN</td>\n",
        "      <td> NaN</td>\n",
        "      <td>    NaN</td>\n",
        "      <td>   NaN</td>\n",
        "      <td>   NaN</td>\n",
        "    </tr>\n",
        "    <tr>\n",
        "      <th>2151102</th>\n",
        "      <td>            T</td>\n",
        "      <td>   C</td>\n",
        "      <td>          NaN</td>\n",
        "      <td> NaN</td>\n",
        "      <td>    NaN</td>\n",
        "      <td>   NaN</td>\n",
        "      <td>   NaN</td>\n",
        "    </tr>\n",
        "    <tr>\n",
        "      <th>2151183</th>\n",
        "      <td>            G</td>\n",
        "      <td>   A</td>\n",
        "      <td>          NaN</td>\n",
        "      <td> NaN</td>\n",
        "      <td>    NaN</td>\n",
        "      <td>   NaN</td>\n",
        "      <td>   NaN</td>\n",
        "    </tr>\n",
        "    <tr>\n",
        "      <th>2977468</th>\n",
        "      <td>            G</td>\n",
        "      <td>   T</td>\n",
        "      <td>          NaN</td>\n",
        "      <td> NaN</td>\n",
        "      <td>    NaN</td>\n",
        "      <td>   NaN</td>\n",
        "      <td>   NaN</td>\n",
        "    </tr>\n",
        "    <tr>\n",
        "      <th>2977473</th>\n",
        "      <td>            T</td>\n",
        "      <td> NaN</td>\n",
        "      <td>            N</td>\n",
        "      <td>   N</td>\n",
        "      <td> [0, 0]</td>\n",
        "      <td>  0.00</td>\n",
        "      <td>  5.16</td>\n",
        "    </tr>\n",
        "    <tr>\n",
        "      <th>2977483</th>\n",
        "      <td>            A</td>\n",
        "      <td>   T</td>\n",
        "      <td>          NaN</td>\n",
        "      <td> NaN</td>\n",
        "      <td>    NaN</td>\n",
        "      <td>   NaN</td>\n",
        "      <td>   NaN</td>\n",
        "    </tr>\n",
        "    <tr>\n",
        "      <th>2977599</th>\n",
        "      <td>            G</td>\n",
        "      <td>   A</td>\n",
        "      <td>          NaN</td>\n",
        "      <td> NaN</td>\n",
        "      <td>    NaN</td>\n",
        "      <td>   NaN</td>\n",
        "      <td>   NaN</td>\n",
        "    </tr>\n",
        "    <tr>\n",
        "      <th>3408527</th>\n",
        "      <td>            A</td>\n",
        "      <td> NaN</td>\n",
        "      <td>            A</td>\n",
        "      <td>   C</td>\n",
        "      <td> [4, 7]</td>\n",
        "      <td> 12.81</td>\n",
        "      <td> 12.24</td>\n",
        "    </tr>\n",
        "    <tr>\n",
        "      <th>3408739</th>\n",
        "      <td>            T</td>\n",
        "      <td> NaN</td>\n",
        "      <td>            G</td>\n",
        "      <td>   G</td>\n",
        "      <td> [0, 3]</td>\n",
        "      <td>  2.08</td>\n",
        "      <td> 11.77</td>\n",
        "    </tr>\n",
        "    <tr>\n",
        "      <th>3408879</th>\n",
        "      <td>            G</td>\n",
        "      <td>   A</td>\n",
        "      <td>          NaN</td>\n",
        "      <td> NaN</td>\n",
        "      <td>    NaN</td>\n",
        "      <td>   NaN</td>\n",
        "      <td>   NaN</td>\n",
        "    </tr>\n",
        "    <tr>\n",
        "      <th>3548118</th>\n",
        "      <td>            T</td>\n",
        "      <td>   C</td>\n",
        "      <td>            T</td>\n",
        "      <td>   C</td>\n",
        "      <td> [2, 5]</td>\n",
        "      <td>  6.26</td>\n",
        "      <td> 11.24</td>\n",
        "    </tr>\n",
        "    <tr>\n",
        "      <th>3548404</th>\n",
        "      <td>            G</td>\n",
        "      <td>   A</td>\n",
        "      <td>            G</td>\n",
        "      <td>   A</td>\n",
        "      <td> [1, 4]</td>\n",
        "      <td>  2.43</td>\n",
        "      <td>  6.74</td>\n",
        "    </tr>\n",
        "    <tr>\n",
        "      <th>3733230</th>\n",
        "      <td>            G</td>\n",
        "      <td> NaN</td>\n",
        "      <td>            G</td>\n",
        "      <td>   A</td>\n",
        "      <td> [2, 4]</td>\n",
        "      <td>  6.96</td>\n",
        "      <td>  9.98</td>\n",
        "    </tr>\n",
        "    <tr>\n",
        "      <th>3828472</th>\n",
        "      <td>            C</td>\n",
        "      <td> NaN</td>\n",
        "      <td>            C</td>\n",
        "      <td>   T</td>\n",
        "      <td> [5, 2]</td>\n",
        "      <td>  6.26</td>\n",
        "      <td>  7.29</td>\n",
        "    </tr>\n",
        "    <tr>\n",
        "      <th>3828618</th>\n",
        "      <td>            G</td>\n",
        "      <td>   A</td>\n",
        "      <td>          NaN</td>\n",
        "      <td> NaN</td>\n",
        "      <td>    NaN</td>\n",
        "      <td>   NaN</td>\n",
        "      <td>   NaN</td>\n",
        "    </tr>\n",
        "    <tr>\n",
        "      <th>3828668</th>\n",
        "      <td>            G</td>\n",
        "      <td> NaN</td>\n",
        "      <td>            G</td>\n",
        "      <td>   C</td>\n",
        "      <td> [3, 3]</td>\n",
        "      <td> 12.09</td>\n",
        "      <td> 15.77</td>\n",
        "    </tr>\n",
        "    <tr>\n",
        "      <th>3828669</th>\n",
        "      <td> CAAACAGACCAG</td>\n",
        "      <td> NaN</td>\n",
        "      <td> CAAACAGACCAG</td>\n",
        "      <td>   C</td>\n",
        "      <td> [3, 3]</td>\n",
        "      <td> 12.09</td>\n",
        "      <td> 15.77</td>\n",
        "    </tr>\n",
        "    <tr>\n",
        "      <th>3828740</th>\n",
        "      <td>            G</td>\n",
        "      <td> NaN</td>\n",
        "      <td>            C</td>\n",
        "      <td>   C</td>\n",
        "      <td> [0, 3]</td>\n",
        "      <td>  2.08</td>\n",
        "      <td>  9.94</td>\n",
        "    </tr>\n",
        "    <tr>\n",
        "      <th>3828753</th>\n",
        "      <td>            T</td>\n",
        "      <td>   G</td>\n",
        "      <td>          NaN</td>\n",
        "      <td> NaN</td>\n",
        "      <td>    NaN</td>\n",
        "      <td>   NaN</td>\n",
        "      <td>   NaN</td>\n",
        "    </tr>\n",
        "    <tr>\n",
        "      <th>4272902</th>\n",
        "      <td>            A</td>\n",
        "      <td>   G</td>\n",
        "      <td>          NaN</td>\n",
        "      <td> NaN</td>\n",
        "      <td>    NaN</td>\n",
        "      <td>   NaN</td>\n",
        "      <td>   NaN</td>\n",
        "    </tr>\n",
        "    <tr>\n",
        "      <th>4272939</th>\n",
        "      <td>            G</td>\n",
        "      <td>   A</td>\n",
        "      <td>          NaN</td>\n",
        "      <td> NaN</td>\n",
        "      <td>    NaN</td>\n",
        "      <td>   NaN</td>\n",
        "      <td>   NaN</td>\n",
        "    </tr>\n",
        "    <tr>\n",
        "      <th>4273325</th>\n",
        "      <td>            T</td>\n",
        "      <td>   C</td>\n",
        "      <td>          NaN</td>\n",
        "      <td> NaN</td>\n",
        "      <td>    NaN</td>\n",
        "      <td>   NaN</td>\n",
        "      <td>   NaN</td>\n",
        "    </tr>\n",
        "    <tr>\n",
        "      <th>4579042</th>\n",
        "      <td>            G</td>\n",
        "      <td> NaN</td>\n",
        "      <td>            G</td>\n",
        "      <td>   A</td>\n",
        "      <td> [8, 2]</td>\n",
        "      <td>  4.18</td>\n",
        "      <td> 13.67</td>\n",
        "    </tr>\n",
        "    <tr>\n",
        "      <th>4706329</th>\n",
        "      <td>            G</td>\n",
        "      <td>   A</td>\n",
        "      <td>            G</td>\n",
        "      <td>   A</td>\n",
        "      <td> [5, 3]</td>\n",
        "      <td> 10.37</td>\n",
        "      <td>  5.69</td>\n",
        "    </tr>\n",
        "    <tr>\n",
        "      <th>4706528</th>\n",
        "      <td>            A</td>\n",
        "      <td>   C</td>\n",
        "      <td>          NaN</td>\n",
        "      <td> NaN</td>\n",
        "      <td>    NaN</td>\n",
        "      <td>   NaN</td>\n",
        "      <td>   NaN</td>\n",
        "    </tr>\n",
        "    <tr>\n",
        "      <th>4706649</th>\n",
        "      <td>            C</td>\n",
        "      <td>   T</td>\n",
        "      <td>          NaN</td>\n",
        "      <td> NaN</td>\n",
        "      <td>    NaN</td>\n",
        "      <td>   NaN</td>\n",
        "      <td>   NaN</td>\n",
        "    </tr>\n",
        "    <tr>\n",
        "      <th>4706721</th>\n",
        "      <td>            C</td>\n",
        "      <td>   A</td>\n",
        "      <td>          NaN</td>\n",
        "      <td> NaN</td>\n",
        "      <td>    NaN</td>\n",
        "      <td>   NaN</td>\n",
        "      <td>   NaN</td>\n",
        "    </tr>\n",
        "    <tr>\n",
        "      <th>4707131</th>\n",
        "      <td>            C</td>\n",
        "      <td>   T</td>\n",
        "      <td>            C</td>\n",
        "      <td>   T</td>\n",
        "      <td> [3, 6]</td>\n",
        "      <td>  9.68</td>\n",
        "      <td> 27.53</td>\n",
        "    </tr>\n",
        "    <tr>\n",
        "      <th>4729759</th>\n",
        "      <td>            T</td>\n",
        "      <td>   C</td>\n",
        "      <td>          NaN</td>\n",
        "      <td> NaN</td>\n",
        "      <td>    NaN</td>\n",
        "      <td>   NaN</td>\n",
        "      <td>   NaN</td>\n",
        "    </tr>\n",
        "    <tr>\n",
        "      <th>4730290</th>\n",
        "      <td>            T</td>\n",
        "      <td> NaN</td>\n",
        "      <td>            T</td>\n",
        "      <td>   C</td>\n",
        "      <td> [4, 8]</td>\n",
        "      <td> 12.12</td>\n",
        "      <td> 12.92</td>\n",
        "    </tr>\n",
        "    <tr>\n",
        "      <th>5600279</th>\n",
        "      <td>            A</td>\n",
        "      <td>   G</td>\n",
        "      <td>          NaN</td>\n",
        "      <td> NaN</td>\n",
        "      <td>    NaN</td>\n",
        "      <td>   NaN</td>\n",
        "      <td>   NaN</td>\n",
        "    </tr>\n",
        "    <tr>\n",
        "      <th>5673817</th>\n",
        "      <td>            A</td>\n",
        "      <td>   T</td>\n",
        "      <td>          NaN</td>\n",
        "      <td> NaN</td>\n",
        "      <td>    NaN</td>\n",
        "      <td>   NaN</td>\n",
        "      <td>   NaN</td>\n",
        "    </tr>\n",
        "    <tr>\n",
        "      <th>5806694</th>\n",
        "      <td>            T</td>\n",
        "      <td>   C</td>\n",
        "      <td>          NaN</td>\n",
        "      <td> NaN</td>\n",
        "      <td>    NaN</td>\n",
        "      <td>   NaN</td>\n",
        "      <td>   NaN</td>\n",
        "    </tr>\n",
        "    <tr>\n",
        "      <th>6169691</th>\n",
        "      <td>            C</td>\n",
        "      <td>   T</td>\n",
        "      <td>          NaN</td>\n",
        "      <td> NaN</td>\n",
        "      <td>    NaN</td>\n",
        "      <td>   NaN</td>\n",
        "      <td>   NaN</td>\n",
        "    </tr>\n",
        "    <tr>\n",
        "      <th>6169801</th>\n",
        "      <td>            C</td>\n",
        "      <td> NaN</td>\n",
        "      <td>            T</td>\n",
        "      <td>   C</td>\n",
        "      <td> [4, 4]</td>\n",
        "      <td> 14.89</td>\n",
        "      <td>  1.96</td>\n",
        "    </tr>\n",
        "    <tr>\n",
        "      <th>6169833</th>\n",
        "      <td>            G</td>\n",
        "      <td>   A</td>\n",
        "      <td>          NaN</td>\n",
        "      <td> NaN</td>\n",
        "      <td>    NaN</td>\n",
        "      <td>   NaN</td>\n",
        "      <td>   NaN</td>\n",
        "    </tr>\n",
        "    <tr>\n",
        "      <th>6169933</th>\n",
        "      <td>            C</td>\n",
        "      <td>   T</td>\n",
        "      <td>            C</td>\n",
        "      <td>   T</td>\n",
        "      <td> [4, 2]</td>\n",
        "      <td>  6.96</td>\n",
        "      <td>  6.70</td>\n",
        "    </tr>\n",
        "    <tr>\n",
        "      <th>6170021</th>\n",
        "      <td>            A</td>\n",
        "      <td>   G</td>\n",
        "      <td>          NaN</td>\n",
        "      <td> NaN</td>\n",
        "      <td>    NaN</td>\n",
        "      <td>   NaN</td>\n",
        "      <td>   NaN</td>\n",
        "    </tr>\n",
        "    <tr>\n",
        "      <th>6170043</th>\n",
        "      <td>            C</td>\n",
        "      <td>   A</td>\n",
        "      <td>          NaN</td>\n",
        "      <td> NaN</td>\n",
        "      <td>    NaN</td>\n",
        "      <td>   NaN</td>\n",
        "      <td>   NaN</td>\n",
        "    </tr>\n",
        "  </tbody>\n",
        "</table>\n",
        "</div>"
       ],
       "output_type": "pyout",
       "prompt_number": 516,
       "text": [
        "                       ref pacbio     illumina0 illumina1     cov  gt_conf  site_conf\n",
        "CAE1 380545              C      T           NaN       NaN     NaN      NaN        NaN\n",
        "     380865              A      T             T         T  [0, 5]     3.46      13.72\n",
        "     653845              G    NaN             A         A  [0, 3]     2.08      10.17\n",
        "     654034              T      C             C         C  [0, 4]     2.77       0.77\n",
        "     1090163             G      T           NaN       NaN     NaN      NaN        NaN\n",
        "     1130044             C    NaN             C         G  [2, 2]     8.34      13.64\n",
        "     1130085             A      G             A         G  [3, 3]    11.76       4.59\n",
        "     1847326             A    NaN             A         C  [3, 3]    11.76      17.03\n",
        "     1847582             A      G           NaN       NaN     NaN      NaN        NaN\n",
        "     1847640             G    NaN             G         A  [3, 2]     7.65      13.12\n",
        "     2150943             T      A           NaN       NaN     NaN      NaN        NaN\n",
        "     2151046             C      T           NaN       NaN     NaN      NaN        NaN\n",
        "     2151102             T      C           NaN       NaN     NaN      NaN        NaN\n",
        "     2151183             G      A           NaN       NaN     NaN      NaN        NaN\n",
        "     2977468             G      T           NaN       NaN     NaN      NaN        NaN\n",
        "     2977473             T    NaN             N         N  [0, 0]     0.00       5.16\n",
        "     2977483             A      T           NaN       NaN     NaN      NaN        NaN\n",
        "     2977599             G      A           NaN       NaN     NaN      NaN        NaN\n",
        "     3408527             A    NaN             A         C  [4, 7]    12.81      12.24\n",
        "     3408739             T    NaN             G         G  [0, 3]     2.08      11.77\n",
        "     3408879             G      A           NaN       NaN     NaN      NaN        NaN\n",
        "     3548118             T      C             T         C  [2, 5]     6.26      11.24\n",
        "     3548404             G      A             G         A  [1, 4]     2.43       6.74\n",
        "     3733230             G    NaN             G         A  [2, 4]     6.96       9.98\n",
        "     3828472             C    NaN             C         T  [5, 2]     6.26       7.29\n",
        "     3828618             G      A           NaN       NaN     NaN      NaN        NaN\n",
        "     3828668             G    NaN             G         C  [3, 3]    12.09      15.77\n",
        "     3828669  CAAACAGACCAG    NaN  CAAACAGACCAG         C  [3, 3]    12.09      15.77\n",
        "     3828740             G    NaN             C         C  [0, 3]     2.08       9.94\n",
        "     3828753             T      G           NaN       NaN     NaN      NaN        NaN\n",
        "     4272902             A      G           NaN       NaN     NaN      NaN        NaN\n",
        "     4272939             G      A           NaN       NaN     NaN      NaN        NaN\n",
        "     4273325             T      C           NaN       NaN     NaN      NaN        NaN\n",
        "     4579042             G    NaN             G         A  [8, 2]     4.18      13.67\n",
        "     4706329             G      A             G         A  [5, 3]    10.37       5.69\n",
        "     4706528             A      C           NaN       NaN     NaN      NaN        NaN\n",
        "     4706649             C      T           NaN       NaN     NaN      NaN        NaN\n",
        "     4706721             C      A           NaN       NaN     NaN      NaN        NaN\n",
        "     4707131             C      T             C         T  [3, 6]     9.68      27.53\n",
        "     4729759             T      C           NaN       NaN     NaN      NaN        NaN\n",
        "     4730290             T    NaN             T         C  [4, 8]    12.12      12.92\n",
        "     5600279             A      G           NaN       NaN     NaN      NaN        NaN\n",
        "     5673817             A      T           NaN       NaN     NaN      NaN        NaN\n",
        "     5806694             T      C           NaN       NaN     NaN      NaN        NaN\n",
        "     6169691             C      T           NaN       NaN     NaN      NaN        NaN\n",
        "     6169801             C    NaN             T         C  [4, 4]    14.89       1.96\n",
        "     6169833             G      A           NaN       NaN     NaN      NaN        NaN\n",
        "     6169933             C      T             C         T  [4, 2]     6.96       6.70\n",
        "     6170021             A      G           NaN       NaN     NaN      NaN        NaN\n",
        "     6170043             C      A           NaN       NaN     NaN      NaN        NaN"
       ]
      }
     ],
     "prompt_number": 516
    },
    {
     "cell_type": "code",
     "collapsed": false,
     "input": [
      "print df.shape"
     ],
     "language": "python",
     "metadata": {},
     "outputs": [
      {
       "output_type": "stream",
       "stream": "stdout",
       "text": [
        "(35737, 7)\n"
       ]
      }
     ],
     "prompt_number": 517
    },
    {
     "cell_type": "code",
     "collapsed": false,
     "input": [
      "#remove pacbio heterozygotes (these come from strange ultra-high coverage regions, they should be treated upstream!)\n",
      "df = df[df['pacbio']!='het']\n",
      "print df.shape"
     ],
     "language": "python",
     "metadata": {},
     "outputs": [
      {
       "output_type": "stream",
       "stream": "stdout",
       "text": [
        "(31491, 7)\n"
       ]
      }
     ],
     "prompt_number": 518
    },
    {
     "cell_type": "code",
     "collapsed": false,
     "input": [
      "(df['illumina1'].map(nanlen)>1).sum()"
     ],
     "language": "python",
     "metadata": {},
     "outputs": [
      {
       "output_type": "pyout",
       "prompt_number": 491,
       "text": [
        "0"
       ]
      }
     ],
     "prompt_number": 491
    },
    {
     "cell_type": "code",
     "collapsed": false,
     "input": [
      "\"\"\"\n",
      "def nanlen(x):\n",
      "    print type(x)\n",
      "    try:\n",
      "        nan=np.isnan(x)\n",
      "    except:\n",
      "        print x, type(x), x[0]\n",
      "        raise\n",
      "    if nan:\n",
      "        return 0\n",
      "    else:\n",
      "        return len(x)\n",
      "\"\"\"\n",
      "nanlen = lambda x: 0 if (type(x)==float and np.isnan(x)) else len(x) \n",
      "#first only look at SNPs, not indels:\n",
      "snp_df=df[(df['pacbio'].map(nanlen)<=1)*(df['ref'].map(nanlen)<=1)*(df['illumina0'].map(nanlen)<=1)*(df['illumina1'].map(nanlen)<=1)]\n",
      "print 'remove indels',snp_df.shape\n",
      "snp_df = snp_df[(snp_df['illumina0']!='N')*(snp_df['illumina1']!='N')]\n",
      "print 'no Ns:', snp_df_no_N.shape "
     ],
     "language": "python",
     "metadata": {},
     "outputs": [
      {
       "output_type": "stream",
       "stream": "stdout",
       "text": [
        "remove indels (30705, 7)\n",
        "no Ns: (30592, 7)\n"
       ]
      }
     ],
     "prompt_number": 547
    },
    {
     "cell_type": "code",
     "collapsed": false,
     "input": [
      "#general stats:\n",
      "pacbio_snps= snp_df[snp_df['pacbio'].notnull()]\n",
      "print \"number of pacbio snps:\", len(pacbio_snps)"
     ],
     "language": "python",
     "metadata": {},
     "outputs": [
      {
       "output_type": "stream",
       "stream": "stdout",
       "text": [
        "number of pacbio snps: 27862\n"
       ]
      }
     ],
     "prompt_number": 553
    },
    {
     "cell_type": "code",
     "collapsed": false,
     "input": [
      "illumina_snps = snp_df[(snp_df['illumina0'].notnull()*((snp_df['illumina0']!=snp_df['ref'])+(snp_df['illumina1']!=snp_df['ref'])))]\n",
      "print \"number of illumina snps:\", len(illumina_snps)"
     ],
     "language": "python",
     "metadata": {},
     "outputs": [
      {
       "output_type": "stream",
       "stream": "stdout",
       "text": [
        "number of illumina snps: 6140\n"
       ]
      }
     ],
     "prompt_number": 555
    },
    {
     "cell_type": "code",
     "collapsed": false,
     "input": [
      "#illumina homozygous non-reference\n",
      "ill_hom_nr = illumina_snps[illumina_snps['illumina0']==illumina_snps['illumina1']]\n",
      "print \"number of homozygous snps:\", len(ill_hom_nr)\n",
      "ill_hom_nr_confirmed=ill_hom_nr[ill_hom_nr['illumina0']==ill_hom_nr['pacbio']]\n",
      "homozygous_true=100.*len(ill_hom_nr_confirmed)/len(ill_hom_nr)\n",
      "print homozygous_true, '%'"
     ],
     "language": "python",
     "metadata": {},
     "outputs": [
      {
       "output_type": "stream",
       "stream": "stdout",
       "text": [
        "number of homozygous snps: 2454\n",
        "77.4653626732 %\n"
       ]
      }
     ],
     "prompt_number": 565
    },
    {
     "cell_type": "code",
     "collapsed": false,
     "input": [
      "#SNPs found in pacbio and in illumna (also those only found in other individuals, but this is only a small fraction)\n",
      "overlapping_snps = snp_df[snp_df['illumina0'].notnull()*snp_df['pacbio'].notnull()]\n",
      "ovl=len(overlapping_snps)\n",
      "#for the heterozygous snps, one expects only to find overlap in pacbio in half of the cases\n",
      "hom=len(ill_hom_nr)\n",
      "het=len(illumina_snps)-len(ill_hom_nr)\n",
      "false_discovery = (1-ovl/(het*1./2+hom))\n",
      "print 'false_discovery',100.*false_discovery,'%'"
     ],
     "language": "python",
     "metadata": {},
     "outputs": [
      {
       "output_type": "stream",
       "stream": "stdout",
       "text": [
        "false_discovery 18.8270886665 %\n"
       ]
      }
     ],
     "prompt_number": 567
    },
    {
     "cell_type": "code",
     "collapsed": false,
     "input": [
      "print 'false negative', 100*(1-ovl*1./len(pacbio_snps))"
     ],
     "language": "python",
     "metadata": {},
     "outputs": [
      {
       "output_type": "stream",
       "stream": "stdout",
       "text": [
        " false negative 87.4811571316\n"
       ]
      }
     ],
     "prompt_number": 569
    },
    {
     "cell_type": "code",
     "collapsed": false,
     "input": [
      "#false_negative = \n",
      "fn_df=snp_df_no_N[(((snp_df_no_N['illumina0']==snp_df_no_N['ref'])+snp_df_no_N['illumina0'].isnull())*\\\n",
      "((snp_df_no_N['illumina1']==snp_df_no_N['ref'])+snp_df_no_N['illumina1'].isnull())*\\\n",
      "(snp_df_no_N['pacbio']!=snp_df_no_N['ref']))]"
     ],
     "language": "python",
     "metadata": {},
     "outputs": [],
     "prompt_number": 540
    },
    {
     "cell_type": "code",
     "collapsed": false,
     "input": [
      "false_negative=len(fn_df)*1./(1-snp_df_no_N['pacbio'].isnull()).sum()"
     ],
     "language": "python",
     "metadata": {},
     "outputs": [],
     "prompt_number": 544
    },
    {
     "cell_type": "code",
     "collapsed": false,
     "input": [
      "false_negative"
     ],
     "language": "python",
     "metadata": {},
     "outputs": [
      {
       "output_type": "pyout",
       "prompt_number": 545,
       "text": [
        "0.87761108319575043"
       ]
      }
     ],
     "prompt_number": 545
    },
    {
     "cell_type": "code",
     "collapsed": false,
     "input": [
      "snp_df_no_N.head()"
     ],
     "language": "python",
     "metadata": {},
     "outputs": [
      {
       "html": [
        "<div style=\"max-height:1000px;max-width:1500px;overflow:auto;\">\n",
        "<table border=\"1\" class=\"dataframe\">\n",
        "  <thead>\n",
        "    <tr style=\"text-align: right;\">\n",
        "      <th></th>\n",
        "      <th></th>\n",
        "      <th>ref</th>\n",
        "      <th>pacbio</th>\n",
        "      <th>illumina0</th>\n",
        "      <th>illumina1</th>\n",
        "      <th>cov</th>\n",
        "      <th>gt_conf</th>\n",
        "      <th>site_conf</th>\n",
        "    </tr>\n",
        "  </thead>\n",
        "  <tbody>\n",
        "    <tr>\n",
        "      <th rowspan=\"5\" valign=\"top\">CAE1</th>\n",
        "      <th>380545 </th>\n",
        "      <td> C</td>\n",
        "      <td>   T</td>\n",
        "      <td> NaN</td>\n",
        "      <td> NaN</td>\n",
        "      <td>    NaN</td>\n",
        "      <td>  NaN</td>\n",
        "      <td>   NaN</td>\n",
        "    </tr>\n",
        "    <tr>\n",
        "      <th>380865 </th>\n",
        "      <td> A</td>\n",
        "      <td>   T</td>\n",
        "      <td>   T</td>\n",
        "      <td>   T</td>\n",
        "      <td> [0, 5]</td>\n",
        "      <td> 3.46</td>\n",
        "      <td> 13.72</td>\n",
        "    </tr>\n",
        "    <tr>\n",
        "      <th>653845 </th>\n",
        "      <td> G</td>\n",
        "      <td> NaN</td>\n",
        "      <td>   A</td>\n",
        "      <td>   A</td>\n",
        "      <td> [0, 3]</td>\n",
        "      <td> 2.08</td>\n",
        "      <td> 10.17</td>\n",
        "    </tr>\n",
        "    <tr>\n",
        "      <th>654034 </th>\n",
        "      <td> T</td>\n",
        "      <td>   C</td>\n",
        "      <td>   C</td>\n",
        "      <td>   C</td>\n",
        "      <td> [0, 4]</td>\n",
        "      <td> 2.77</td>\n",
        "      <td>  0.77</td>\n",
        "    </tr>\n",
        "    <tr>\n",
        "      <th>1090163</th>\n",
        "      <td> G</td>\n",
        "      <td>   T</td>\n",
        "      <td> NaN</td>\n",
        "      <td> NaN</td>\n",
        "      <td>    NaN</td>\n",
        "      <td>  NaN</td>\n",
        "      <td>   NaN</td>\n",
        "    </tr>\n",
        "  </tbody>\n",
        "</table>\n",
        "</div>"
       ],
       "output_type": "pyout",
       "prompt_number": 543,
       "text": [
        "             ref pacbio illumina0 illumina1     cov  gt_conf  site_conf\n",
        "CAE1 380545    C      T       NaN       NaN     NaN      NaN        NaN\n",
        "     380865    A      T         T         T  [0, 5]     3.46      13.72\n",
        "     653845    G    NaN         A         A  [0, 3]     2.08      10.17\n",
        "     654034    T      C         C         C  [0, 4]     2.77       0.77\n",
        "     1090163   G      T       NaN       NaN     NaN      NaN        NaN"
       ]
      }
     ],
     "prompt_number": 543
    },
    {
     "cell_type": "code",
     "collapsed": false,
     "input": [
      "*(1-snp_df_no_N['pacbio'].isnull())"
     ],
     "language": "python",
     "metadata": {},
     "outputs": []
    },
    {
     "cell_type": "code",
     "collapsed": false,
     "input": [
      "fn_df.head()"
     ],
     "language": "python",
     "metadata": {},
     "outputs": [
      {
       "html": [
        "<div style=\"max-height:1000px;max-width:1500px;overflow:auto;\">\n",
        "<table border=\"1\" class=\"dataframe\">\n",
        "  <thead>\n",
        "    <tr style=\"text-align: right;\">\n",
        "      <th></th>\n",
        "      <th></th>\n",
        "      <th>ref</th>\n",
        "      <th>pacbio</th>\n",
        "      <th>illumina0</th>\n",
        "      <th>illumina1</th>\n",
        "      <th>cov</th>\n",
        "      <th>gt_conf</th>\n",
        "      <th>site_conf</th>\n",
        "    </tr>\n",
        "  </thead>\n",
        "  <tbody>\n",
        "    <tr>\n",
        "      <th rowspan=\"5\" valign=\"top\">CAE1</th>\n",
        "      <th>380545 </th>\n",
        "      <td> C</td>\n",
        "      <td> T</td>\n",
        "      <td> NaN</td>\n",
        "      <td> NaN</td>\n",
        "      <td> NaN</td>\n",
        "      <td>NaN</td>\n",
        "      <td>NaN</td>\n",
        "    </tr>\n",
        "    <tr>\n",
        "      <th>1090163</th>\n",
        "      <td> G</td>\n",
        "      <td> T</td>\n",
        "      <td> NaN</td>\n",
        "      <td> NaN</td>\n",
        "      <td> NaN</td>\n",
        "      <td>NaN</td>\n",
        "      <td>NaN</td>\n",
        "    </tr>\n",
        "    <tr>\n",
        "      <th>1847582</th>\n",
        "      <td> A</td>\n",
        "      <td> G</td>\n",
        "      <td> NaN</td>\n",
        "      <td> NaN</td>\n",
        "      <td> NaN</td>\n",
        "      <td>NaN</td>\n",
        "      <td>NaN</td>\n",
        "    </tr>\n",
        "    <tr>\n",
        "      <th>2150943</th>\n",
        "      <td> T</td>\n",
        "      <td> A</td>\n",
        "      <td> NaN</td>\n",
        "      <td> NaN</td>\n",
        "      <td> NaN</td>\n",
        "      <td>NaN</td>\n",
        "      <td>NaN</td>\n",
        "    </tr>\n",
        "    <tr>\n",
        "      <th>2151046</th>\n",
        "      <td> C</td>\n",
        "      <td> T</td>\n",
        "      <td> NaN</td>\n",
        "      <td> NaN</td>\n",
        "      <td> NaN</td>\n",
        "      <td>NaN</td>\n",
        "      <td>NaN</td>\n",
        "    </tr>\n",
        "  </tbody>\n",
        "</table>\n",
        "</div>"
       ],
       "output_type": "pyout",
       "prompt_number": 542,
       "text": [
        "             ref pacbio illumina0 illumina1  cov  gt_conf  site_conf\n",
        "CAE1 380545    C      T       NaN       NaN  NaN      NaN        NaN\n",
        "     1090163   G      T       NaN       NaN  NaN      NaN        NaN\n",
        "     1847582   A      G       NaN       NaN  NaN      NaN        NaN\n",
        "     2150943   T      A       NaN       NaN  NaN      NaN        NaN\n",
        "     2151046   C      T       NaN       NaN  NaN      NaN        NaN"
       ]
      }
     ],
     "prompt_number": 542
    },
    {
     "cell_type": "code",
     "collapsed": false,
     "input": [
      "print df.iloc[:10]['site_conf'].apply(lambda x:x+4)"
     ],
     "language": "python",
     "metadata": {},
     "outputs": [
      {
       "output_type": "stream",
       "stream": "stdout",
       "text": [
        "CAE1  380545       NaN\n",
        "      380865     17.72\n",
        "      653845     14.17\n",
        "      654034      4.77\n",
        "      1090163      NaN\n",
        "      1130044    17.64\n",
        "      1130085     8.59\n",
        "      1847326    21.03\n",
        "      1847582      NaN\n",
        "      1847640    17.12\n",
        "Name: site_conf, dtype: float64\n"
       ]
      }
     ],
     "prompt_number": 460
    },
    {
     "cell_type": "code",
     "collapsed": false,
     "input": [
      "df.loc[:][:0]"
     ],
     "language": "python",
     "metadata": {},
     "outputs": [
      {
       "html": [
        "<pre>\n",
        "&lt;class 'pandas.core.frame.DataFrame'&gt;\n",
        "Index: 100 entries, (CAE1, 380545) to (CAE1, 13369141)\n",
        "Data columns (total 7 columns):\n",
        "cov          43  non-null values\n",
        "gt_conf      43  non-null values\n",
        "illumina0    43  non-null values\n",
        "illumina1    43  non-null values\n",
        "pacbio       79  non-null values\n",
        "ref          100  non-null values\n",
        "site_conf    43  non-null values\n",
        "dtypes: float64(2), object(5)\n",
        "</pre>"
       ],
       "output_type": "pyout",
       "prompt_number": 335,
       "text": [
        "<class 'pandas.core.frame.DataFrame'>\n",
        "Index: 100 entries, (CAE1, 380545) to (CAE1, 13369141)\n",
        "Data columns (total 7 columns):\n",
        "cov          43  non-null values\n",
        "gt_conf      43  non-null values\n",
        "illumina0    43  non-null values\n",
        "illumina1    43  non-null values\n",
        "pacbio       79  non-null values\n",
        "ref          100  non-null values\n",
        "site_conf    43  non-null values\n",
        "dtypes: float64(2), object(5)"
       ]
      }
     ],
     "prompt_number": 335
    },
    {
     "cell_type": "code",
     "collapsed": false,
     "input": [
      "df"
     ],
     "language": "python",
     "metadata": {},
     "outputs": [
      {
       "html": [
        "<div style=\"max-height:1000px;max-width:1500px;overflow:auto;\">\n",
        "<table border=\"1\" class=\"dataframe\">\n",
        "  <thead>\n",
        "    <tr style=\"text-align: right;\">\n",
        "      <th></th>\n",
        "      <th>pacbio</th>\n",
        "      <th>ref_x</th>\n",
        "      <th>cov</th>\n",
        "      <th>gt_conf</th>\n",
        "      <th>illumina0</th>\n",
        "      <th>illumina1</th>\n",
        "      <th>ref_y</th>\n",
        "      <th>site_conf</th>\n",
        "    </tr>\n",
        "  </thead>\n",
        "  <tbody>\n",
        "    <tr>\n",
        "      <th>1129218</th>\n",
        "      <td> NaN</td>\n",
        "      <td> NaN</td>\n",
        "      <td> [6, 0]</td>\n",
        "      <td>  3.46</td>\n",
        "      <td> C</td>\n",
        "      <td>   C</td>\n",
        "      <td> C</td>\n",
        "      <td>  1.18</td>\n",
        "    </tr>\n",
        "    <tr>\n",
        "      <th>1130044</th>\n",
        "      <td> NaN</td>\n",
        "      <td> NaN</td>\n",
        "      <td> [2, 2]</td>\n",
        "      <td>  8.34</td>\n",
        "      <td> C</td>\n",
        "      <td> [G]</td>\n",
        "      <td> C</td>\n",
        "      <td> 13.64</td>\n",
        "    </tr>\n",
        "    <tr>\n",
        "      <th>1130085</th>\n",
        "      <td> [G]</td>\n",
        "      <td>   A</td>\n",
        "      <td> [3, 3]</td>\n",
        "      <td> 11.76</td>\n",
        "      <td> A</td>\n",
        "      <td> [G]</td>\n",
        "      <td> A</td>\n",
        "      <td>  4.59</td>\n",
        "    </tr>\n",
        "  </tbody>\n",
        "</table>\n",
        "</div>"
       ],
       "output_type": "pyout",
       "prompt_number": 167,
       "text": [
        "        pacbio ref_x     cov  gt_conf illumina0 illumina1 ref_y  site_conf\n",
        "1129218    NaN   NaN  [6, 0]     3.46         C         C     C       1.18\n",
        "1130044    NaN   NaN  [2, 2]     8.34         C       [G]     C      13.64\n",
        "1130085    [G]     A  [3, 3]    11.76         A       [G]     A       4.59"
       ]
      }
     ],
     "prompt_number": 167
    },
    {
     "cell_type": "code",
     "collapsed": false,
     "input": [
      "pacbio_df"
     ],
     "language": "python",
     "metadata": {},
     "outputs": [
      {
       "html": [
        "<div style=\"max-height:1000px;max-width:1500px;overflow:auto;\">\n",
        "<table border=\"1\" class=\"dataframe\">\n",
        "  <thead>\n",
        "    <tr style=\"text-align: right;\">\n",
        "      <th></th>\n",
        "      <th>pacbio</th>\n",
        "      <th>ref</th>\n",
        "    </tr>\n",
        "  </thead>\n",
        "  <tbody>\n",
        "    <tr>\n",
        "      <th>110492600</th>\n",
        "      <td> [T]</td>\n",
        "      <td> C</td>\n",
        "    </tr>\n",
        "  </tbody>\n",
        "</table>\n",
        "</div>"
       ],
       "output_type": "pyout",
       "prompt_number": 449,
       "text": [
        "          pacbio ref\n",
        "110492600    [T]   C"
       ]
      }
     ],
     "prompt_number": 449
    },
    {
     "cell_type": "code",
     "collapsed": false,
     "input": [
      "cortex_df"
     ],
     "language": "python",
     "metadata": {},
     "outputs": [
      {
       "html": [
        "<div style=\"max-height:1000px;max-width:1500px;overflow:auto;\">\n",
        "<table border=\"1\" class=\"dataframe\">\n",
        "  <thead>\n",
        "    <tr style=\"text-align: right;\">\n",
        "      <th></th>\n",
        "      <th>cov</th>\n",
        "      <th>gt_conf</th>\n",
        "      <th>illumina0</th>\n",
        "      <th>illumina1</th>\n",
        "      <th>ref</th>\n",
        "      <th>site_conf</th>\n",
        "    </tr>\n",
        "  </thead>\n",
        "  <tbody>\n",
        "    <tr>\n",
        "      <th>110492600</th>\n",
        "      <td> [0, 5]</td>\n",
        "      <td> 3.46</td>\n",
        "      <td> [T]</td>\n",
        "      <td> [T]</td>\n",
        "      <td> C</td>\n",
        "      <td> 8.08</td>\n",
        "    </tr>\n",
        "  </tbody>\n",
        "</table>\n",
        "</div>"
       ],
       "output_type": "pyout",
       "prompt_number": 448,
       "text": [
        "              cov  gt_conf illumina0 illumina1 ref  site_conf\n",
        "110492600  [0, 5]     3.46       [T]       [T]   C       8.08"
       ]
      }
     ],
     "prompt_number": 448
    },
    {
     "cell_type": "code",
     "collapsed": false,
     "input": [
      "cortex_df.head()"
     ],
     "language": "python",
     "metadata": {},
     "outputs": [
      {
       "ename": "AttributeError",
       "evalue": "'NoneType' object has no attribute 'head'",
       "output_type": "pyerr",
       "traceback": [
        "\u001b[1;31m---------------------------------------------------------------------------\u001b[0m\n\u001b[1;31mAttributeError\u001b[0m                            Traceback (most recent call last)",
        "\u001b[1;32m<ipython-input-88-682852a48931>\u001b[0m in \u001b[0;36m<module>\u001b[1;34m()\u001b[0m\n\u001b[1;32m----> 1\u001b[1;33m \u001b[0mcortex_df\u001b[0m\u001b[1;33m.\u001b[0m\u001b[0mhead\u001b[0m\u001b[1;33m(\u001b[0m\u001b[1;33m)\u001b[0m\u001b[1;33m\u001b[0m\u001b[0m\n\u001b[0m",
        "\u001b[1;31mAttributeError\u001b[0m: 'NoneType' object has no attribute 'head'"
       ]
      }
     ],
     "prompt_number": 88
    },
    {
     "cell_type": "code",
     "collapsed": false,
     "input": [],
     "language": "python",
     "metadata": {},
     "outputs": []
    },
    {
     "cell_type": "code",
     "collapsed": false,
     "input": [],
     "language": "python",
     "metadata": {},
     "outputs": []
    }
   ],
   "metadata": {}
  }
 ]
}