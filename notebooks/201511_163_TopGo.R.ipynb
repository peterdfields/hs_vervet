{
 "cells": [
  {
   "cell_type": "code",
   "execution_count": 1,
   "metadata": {
    "collapsed": false
   },
   "outputs": [
    {
     "name": "stderr",
     "output_type": "stream",
     "text": [
      "Bioconductor version 3.2 (BiocInstaller 1.20.0), ?biocLite for help\n"
     ]
    }
   ],
   "source": [
    "source(\"http://bioconductor.org/biocLite.R\")\n",
    "###to be done once\n",
    "#install bioclite\n",
    "#biocLite()\n",
    "#install top go\n",
    "#biocLite(\"topGO\")"
   ]
  },
  {
   "cell_type": "code",
   "execution_count": 2,
   "metadata": {
    "collapsed": false
   },
   "outputs": [
    {
     "name": "stderr",
     "output_type": "stream",
     "text": [
      "Loading required package: BiocGenerics\n",
      "Loading required package: parallel\n",
      "\n",
      "Attaching package: ‘BiocGenerics’\n",
      "\n",
      "The following objects are masked from ‘package:parallel’:\n",
      "\n",
      "    clusterApply, clusterApplyLB, clusterCall, clusterEvalQ,\n",
      "    clusterExport, clusterMap, parApply, parCapply, parLapply,\n",
      "    parLapplyLB, parRapply, parSapply, parSapplyLB\n",
      "\n",
      "The following objects are masked from ‘package:stats’:\n",
      "\n",
      "    IQR, mad, xtabs\n",
      "\n",
      "The following objects are masked from ‘package:base’:\n",
      "\n",
      "    anyDuplicated, append, as.data.frame, as.vector, cbind, colnames,\n",
      "    do.call, duplicated, eval, evalq, Filter, Find, get, grep, grepl,\n",
      "    intersect, is.unsorted, lapply, lengths, Map, mapply, match, mget,\n",
      "    order, paste, pmax, pmax.int, pmin, pmin.int, Position, rank,\n",
      "    rbind, Reduce, rownames, sapply, setdiff, sort, table, tapply,\n",
      "    union, unique, unlist, unsplit\n",
      "\n",
      "Loading required package: graph\n",
      "Loading required package: Biobase\n",
      "Welcome to Bioconductor\n",
      "\n",
      "    Vignettes contain introductory material; view with\n",
      "    'browseVignettes()'. To cite Bioconductor, see\n",
      "    'citation(\"Biobase\")', and for packages 'citation(\"pkgname\")'.\n",
      "\n",
      "Loading required package: GO.db\n",
      "Loading required package: AnnotationDbi\n",
      "Loading required package: stats4\n",
      "Loading required package: IRanges\n",
      "Loading required package: S4Vectors\n",
      "Loading required package: DBI\n",
      "\n",
      "Loading required package: SparseM\n",
      "\n",
      "Attaching package: ‘SparseM’\n",
      "\n",
      "The following object is masked from ‘package:base’:\n",
      "\n",
      "    backsolve\n",
      "\n",
      "Warning message:\n",
      ": replacing previous import by ‘graph::.__C__dist’ when loading ‘topGO’"
     ]
    },
    {
     "name": "stdout",
     "output_type": "stream",
     "text": [
      "\n",
      "groupGOTerms: \tGOBPTerm, GOMFTerm, GOCCTerm environments built.\n"
     ]
    },
    {
     "name": "stderr",
     "output_type": "stream",
     "text": [
      "\n",
      "Attaching package: ‘topGO’\n",
      "\n",
      "The following object is masked from ‘package:IRanges’:\n",
      "\n",
      "    members\n",
      "\n"
     ]
    }
   ],
   "source": [
    "library(topGO)"
   ]
  },
  {
   "cell_type": "code",
   "execution_count": 3,
   "metadata": {
    "collapsed": true
   },
   "outputs": [],
   "source": [
    "xpclr_ana_dir <- \"~/vervet_project/analyses/20150528_UG_xpclr/_data\""
   ]
  },
  {
   "cell_type": "code",
   "execution_count": 4,
   "metadata": {
    "collapsed": false
   },
   "outputs": [],
   "source": [
    "vervet_drive_dir <- \"~/Akademisches/Projects/VervetPopgen\""
   ]
  },
  {
   "cell_type": "markdown",
   "metadata": {
    "collapsed": false
   },
   "source": [
    "## Example\n",
    "from http://bioconductor.org/packages/release/bioc/vignettes/topGO/inst/doc/topGO.pdf"
   ]
  },
  {
   "cell_type": "code",
   "execution_count": 7,
   "metadata": {
    "collapsed": false
   },
   "outputs": [],
   "source": [
    "#load example data\n",
    "library(ALL)\n",
    "data(ALL)\n",
    "#geneList is a list of genes with associated p-values\n",
    "data(geneList)"
   ]
  },
  {
   "cell_type": "code",
   "execution_count": 10,
   "metadata": {
    "collapsed": true
   },
   "outputs": [],
   "source": []
  },
  {
   "cell_type": "code",
   "execution_count": 15,
   "metadata": {
    "collapsed": false
   },
   "outputs": [
    {
     "name": "stderr",
     "output_type": "stream",
     "text": [
      "Loading required package: org.Hs.eg.db\n",
      "\n",
      "\n"
     ]
    }
   ],
   "source": [
    "#I think this is the go database\n",
    "affyLib <- paste(annotation(ALL), \"db\", sep = \".\") #name (string)\n",
    "#biocLite(affyLib)\n",
    "library(package = affyLib, character.only = TRUE)"
   ]
  },
  {
   "cell_type": "code",
   "execution_count": 23,
   "metadata": {
    "collapsed": false
   },
   "outputs": [],
   "source": [
    "#this creates a go to gene mapping (done automatically in new(..))\n",
    "#geneToGo <- annFUN.db(whichOnto=\"BP\",affyLib=affyLib)"
   ]
  },
  {
   "cell_type": "code",
   "execution_count": 26,
   "metadata": {
    "collapsed": false
   },
   "outputs": [
    {
     "name": "stdout",
     "output_type": "stream",
     "text": [
      "\n",
      "Building most specific GOs .....\t( 1464 GO terms found. )\n",
      "\n",
      "Build GO DAG topology ..........\t( 4104 GO terms and 9644 relations. )\n",
      "\n",
      "Annotating nodes ...............\t( 310 genes annotated to the GO terms. )\n"
     ]
    }
   ],
   "source": [
    "#create the go object\n",
    "#topDiffGenes is a function that selects significant p-values\n",
    "#nodeSize = 10 includes gene categories with less than 10 genes\n",
    "sampleGOdata <- new(\"topGOdata\",\n",
    "                    description = \"Simple session\", ontology = \"BP\",\n",
    "                    allGenes = geneList, geneSel = topDiffGenes,\n",
    "                    nodeSize = 10,\n",
    "                    annot = annFUN.db, affyLib = affyLib)"
   ]
  },
  {
   "cell_type": "code",
   "execution_count": 28,
   "metadata": {
    "collapsed": false
   },
   "outputs": [
    {
     "name": "stdout",
     "output_type": "stream",
     "text": [
      "\n",
      "\t\t\t -- Classic Algorithm -- \n",
      "\n",
      "\t\t the algorithm is scoring 973 nontrivial nodes\n",
      "\t\t parameters: \n",
      "\t\t\t test statistic:  fisher \n",
      "\n",
      "\t\t\t -- Classic Algorithm -- \n",
      "\n",
      "\t\t the algorithm is scoring 1043 nontrivial nodes\n",
      "\t\t parameters: \n",
      "\t\t\t test statistic:  ks \n",
      "\t\t\t score order:  increasing \n",
      "\n",
      "\t\t\t -- Elim Algorithm -- \n",
      "\n",
      "\t\t the algorithm is scoring 1043 nontrivial nodes\n",
      "\t\t parameters: \n",
      "\t\t\t test statistic:  ks \n",
      "\t\t\t cutOff:  0.01 \n",
      "\t\t\t score order:  increasing \n",
      "\n",
      "\t Level 17:\t1 nodes to be scored\t(0 eliminated genes)\n",
      "\n",
      "\t Level 16:\t1 nodes to be scored\t(0 eliminated genes)\n",
      "\n",
      "\t Level 15:\t1 nodes to be scored\t(0 eliminated genes)\n",
      "\n",
      "\t Level 14:\t8 nodes to be scored\t(0 eliminated genes)\n",
      "\n",
      "\t Level 13:\t17 nodes to be scored\t(0 eliminated genes)\n",
      "\n",
      "\t Level 12:\t31 nodes to be scored\t(0 eliminated genes)\n",
      "\n",
      "\t Level 11:\t33 nodes to be scored\t(10 eliminated genes)\n",
      "\n",
      "\t Level 10:\t52 nodes to be scored\t(20 eliminated genes)\n",
      "\n",
      "\t Level 9:\t88 nodes to be scored\t(20 eliminated genes)\n",
      "\n",
      "\t Level 8:\t126 nodes to be scored\t(29 eliminated genes)\n",
      "\n",
      "\t Level 7:\t171 nodes to be scored\t(104 eliminated genes)\n",
      "\n",
      "\t Level 6:\t178 nodes to be scored\t(209 eliminated genes)\n",
      "\n",
      "\t Level 5:\t158 nodes to be scored\t(217 eliminated genes)\n",
      "\n",
      "\t Level 4:\t115 nodes to be scored\t(233 eliminated genes)\n",
      "\n",
      "\t Level 3:\t42 nodes to be scored\t(233 eliminated genes)\n",
      "\n",
      "\t Level 2:\t20 nodes to be scored\t(233 eliminated genes)\n",
      "\n",
      "\t Level 1:\t1 nodes to be scored\t(233 eliminated genes)\n"
     ]
    }
   ],
   "source": [
    "#classic candidate vs background test\n",
    "resultFisher <- runTest(sampleGOdata, algorithm = \"classic\", statistic = \"fisher\")\n",
    "#run Kolmogorov Smirnov test on expression p-vlaues of all genes\n",
    "resultKS <- runTest(sampleGOdata, algorithm = \"classic\", statistic = \"ks\")\n",
    "#accounts for gene overlap\n",
    "resultKS.elim <- runTest(sampleGOdata, algorithm = \"elim\", statistic = \"ks\")"
   ]
  },
  {
   "cell_type": "code",
   "execution_count": 29,
   "metadata": {
    "collapsed": true
   },
   "outputs": [],
   "source": [
    "allRes <- GenTable(sampleGOdata, classicFisher = resultFisher,\n",
    "  classicKS = resultKS, elimKS = resultKS.elim,\n",
    "  orderBy = \"elimKS\", ranksOf = \"classicFisher\", topNodes = 10)"
   ]
  },
  {
   "cell_type": "code",
   "execution_count": 30,
   "metadata": {
    "collapsed": false
   },
   "outputs": [
    {
     "data": {
      "text/html": [
       "<table>\n",
       "<thead><tr><th></th><th scope=col>GO.ID</th><th scope=col>Term</th><th scope=col>Annotated</th><th scope=col>Significant</th><th scope=col>Expected</th><th scope=col>Rank in classicFisher</th><th scope=col>classicFisher</th><th scope=col>classicKS</th><th scope=col>elimKS</th></tr></thead>\n",
       "<tbody>\n",
       "\t<tr><th scope=row>1</th><td>GO:0007067</td><td>mitotic nuclear division</td><td>173</td><td>17</td><td>25.67</td><td>968</td><td>0.99839</td><td>3.2e-09</td><td>3.2e-09</td></tr>\n",
       "\t<tr><th scope=row>2</th><td>GO:0051301</td><td>cell division</td><td>161</td><td>18</td><td>23.89</td><td>915</td><td>0.97969</td><td>4.9e-08</td><td>4.4e-07</td></tr>\n",
       "\t<tr><th scope=row>3</th><td>GO:0032465</td><td>regulation of cytokinesis</td><td>13</td><td>3</td><td>1.93</td><td>334</td><td>0.30050</td><td>0.00120</td><td>0.0012</td></tr>\n",
       "\t<tr><th scope=row>4</th><td>GO:0007059</td><td>chromosome segregation</td><td>77</td><td>5</td><td>11.43</td><td>960</td><td>0.99700</td><td>0.00126</td><td>0.0013</td></tr>\n",
       "\t<tr><th scope=row>5</th><td>GO:0051726</td><td>regulation of cell cycle</td><td>128</td><td>17</td><td>18.99</td><td>636</td><td>0.78999</td><td>0.00014</td><td>0.0013</td></tr>\n",
       "\t<tr><th scope=row>6</th><td>GO:0045931</td><td>positive regulation of mitotic cell cycl...</td><td>40</td><td>5</td><td>5.94</td><td>592</td><td>0.74532</td><td>0.00175</td><td>0.0017</td></tr>\n",
       "\t<tr><th scope=row>7</th><td>GO:0033077</td><td>T cell differentiation in thymus</td><td>10</td><td>6</td><td>1.48</td><td>8</td><td>0.00104</td><td>0.00186</td><td>0.0019</td></tr>\n",
       "\t<tr><th scope=row>8</th><td>GO:0002757</td><td>immune response-activating signal transd...</td><td>11</td><td>7</td><td>1.63</td><td>2</td><td>0.00021</td><td>0.00208</td><td>0.0021</td></tr>\n",
       "\t<tr><th scope=row>9</th><td>GO:0042108</td><td>positive regulation of cytokine biosynth...</td><td>18</td><td>6</td><td>2.67</td><td>107</td><td>0.03527</td><td>0.00252</td><td>0.0025</td></tr>\n",
       "\t<tr><th scope=row>10</th><td>GO:0090068</td><td>positive regulation of cell cycle proces...</td><td>38</td><td>3</td><td>5.64</td><td>845</td><td>0.94667</td><td>0.00283</td><td>0.0028</td></tr>\n",
       "</tbody>\n",
       "</table>\n"
      ],
      "text/latex": [
       "\\begin{tabular}{r|lllllllll}\n",
       "  & GO.ID & Term & Annotated & Significant & Expected & Rank in classicFisher & classicFisher & classicKS & elimKS\\\\\n",
       "\\hline\n",
       "\t1 & GO:0007067 & mitotic nuclear division & 173 & 17 & 25.67 & 968 & 0.99839 & 3.2e-09 & 3.2e-09\\\\\n",
       "\t2 & GO:0051301 & cell division & 161 & 18 & 23.89 & 915 & 0.97969 & 4.9e-08 & 4.4e-07\\\\\n",
       "\t3 & GO:0032465 & regulation of cytokinesis & 13 & 3 & 1.93 & 334 & 0.30050 & 0.00120 & 0.0012\\\\\n",
       "\t4 & GO:0007059 & chromosome segregation & 77 & 5 & 11.43 & 960 & 0.99700 & 0.00126 & 0.0013\\\\\n",
       "\t5 & GO:0051726 & regulation of cell cycle & 128 & 17 & 18.99 & 636 & 0.78999 & 0.00014 & 0.0013\\\\\n",
       "\t6 & GO:0045931 & positive regulation of mitotic cell cycl... & 40 & 5 & 5.94 & 592 & 0.74532 & 0.00175 & 0.0017\\\\\n",
       "\t7 & GO:0033077 & T cell differentiation in thymus & 10 & 6 & 1.48 & 8 & 0.00104 & 0.00186 & 0.0019\\\\\n",
       "\t8 & GO:0002757 & immune response-activating signal transd... & 11 & 7 & 1.63 & 2 & 0.00021 & 0.00208 & 0.0021\\\\\n",
       "\t9 & GO:0042108 & positive regulation of cytokine biosynth... & 18 & 6 & 2.67 & 107 & 0.03527 & 0.00252 & 0.0025\\\\\n",
       "\t10 & GO:0090068 & positive regulation of cell cycle proces... & 38 & 3 & 5.64 & 845 & 0.94667 & 0.00283 & 0.0028\\\\\n",
       "\\end{tabular}\n"
      ],
      "text/plain": [
       "        GO.ID                                        Term Annotated Significant\n",
       "1  GO:0007067                    mitotic nuclear division       173          17\n",
       "2  GO:0051301                               cell division       161          18\n",
       "3  GO:0032465                   regulation of cytokinesis        13           3\n",
       "4  GO:0007059                      chromosome segregation        77           5\n",
       "5  GO:0051726                    regulation of cell cycle       128          17\n",
       "6  GO:0045931 positive regulation of mitotic cell cycl...        40           5\n",
       "7  GO:0033077            T cell differentiation in thymus        10           6\n",
       "8  GO:0002757 immune response-activating signal transd...        11           7\n",
       "9  GO:0042108 positive regulation of cytokine biosynth...        18           6\n",
       "10 GO:0090068 positive regulation of cell cycle proces...        38           3\n",
       "   Expected Rank in classicFisher classicFisher classicKS  elimKS\n",
       "1     25.67                   968       0.99839   3.2e-09 3.2e-09\n",
       "2     23.89                   915       0.97969   4.9e-08 4.4e-07\n",
       "3      1.93                   334       0.30050   0.00120  0.0012\n",
       "4     11.43                   960       0.99700   0.00126  0.0013\n",
       "5     18.99                   636       0.78999   0.00014  0.0013\n",
       "6      5.94                   592       0.74532   0.00175  0.0017\n",
       "7      1.48                     8       0.00104   0.00186  0.0019\n",
       "8      1.63                     2       0.00021   0.00208  0.0021\n",
       "9      2.67                   107       0.03527   0.00252  0.0025\n",
       "10     5.64                   845       0.94667   0.00283  0.0028"
      ]
     },
     "execution_count": 30,
     "metadata": {},
     "output_type": "execute_result"
    }
   ],
   "source": [
    "allRes"
   ]
  },
  {
   "cell_type": "markdown",
   "metadata": {},
   "source": [
    "## Vervet with standard go annotations"
   ]
  },
  {
   "cell_type": "code",
   "execution_count": 17,
   "metadata": {
    "collapsed": false
   },
   "outputs": [],
   "source": [
    "geneScores <- read.table('/home/GMI/hannes.svardal/vervet_project/analyses/20150528_UG_xpclr/_data/rms_zscore_gene_mean.tsv',header=TRUE,row.names=1)\n",
    "geneScoresMax <- read.table('/home/GMI/hannes.svardal/vervet_project/analyses/20150528_UG_xpclr/_data/rms_zscores_gene_max_exons.tsv',header=TRUE,row.names=1)"
   ]
  },
  {
   "cell_type": "code",
   "execution_count": 18,
   "metadata": {
    "collapsed": false
   },
   "outputs": [],
   "source": [
    "#human whole genome annotation\n",
    "library(\"org.Hs.eg.db\")"
   ]
  },
  {
   "cell_type": "code",
   "execution_count": 19,
   "metadata": {
    "collapsed": true
   },
   "outputs": [],
   "source": [
    "selFun <- function(col) {\n",
    "    return(col>quantile(col,0.99))\n",
    "}"
   ]
  },
  {
   "cell_type": "code",
   "execution_count": null,
   "metadata": {
    "collapsed": true
   },
   "outputs": [],
   "source": []
  },
  {
   "cell_type": "code",
   "execution_count": 20,
   "metadata": {
    "collapsed": false
   },
   "outputs": [],
   "source": [
    "geneScoresVec <- as.vector(geneScoresMax[[\"score\"]])\n",
    "names(geneScoresVec) <- row.names(geneScores)"
   ]
  },
  {
   "cell_type": "code",
   "execution_count": null,
   "metadata": {
    "collapsed": true
   },
   "outputs": [],
   "source": []
  },
  {
   "cell_type": "code",
   "execution_count": 21,
   "metadata": {
    "collapsed": false
   },
   "outputs": [
    {
     "name": "stdout",
     "output_type": "stream",
     "text": [
      "\n",
      "Building most specific GOs .....\t( 10308 GO terms found. )\n",
      "\n",
      "Build GO DAG topology ..........\t( 13955 GO terms and 33446 relations. )\n",
      "\n",
      "Annotating nodes ...............\t( 13319 genes annotated to the GO terms. )\n"
     ]
    }
   ],
   "source": [
    "humanGOdata <- new(\"topGOdata\",\n",
    "                    description = \"Vervet xpclr RMS gene mean scores\", ontology = \"BP\",\n",
    "                    allGenes = geneScoresVec, geneSel = selFun,\n",
    "                    nodeSize = 10,\n",
    "                    annot = annFUN.org, mapping = \"org.Hs.eg.db\", ID = \"symbol\") #human go"
   ]
  },
  {
   "cell_type": "code",
   "execution_count": 22,
   "metadata": {
    "collapsed": false
   },
   "outputs": [
    {
     "name": "stdout",
     "output_type": "stream",
     "text": [
      "\n",
      "\t\t\t -- Classic Algorithm -- \n",
      "\n",
      "\t\t the algorithm is scoring 2776 nontrivial nodes\n",
      "\t\t parameters: \n",
      "\t\t\t test statistic:  fisher \n",
      "\n",
      "\t\t\t -- Weight01 Algorithm -- \n",
      "\n",
      "\t\t the algorithm is scoring 5777 nontrivial nodes\n",
      "\t\t parameters: \n",
      "\t\t\t test statistic:  ks \n",
      "\t\t\t score order:  decreasing \n",
      "\n",
      "\t Level 18:\t1 nodes to be scored\t(0 eliminated genes)\n",
      "\n",
      "\t Level 17:\t5 nodes to be scored\t(0 eliminated genes)\n",
      "\n",
      "\t Level 16:\t19 nodes to be scored\t(11 eliminated genes)\n",
      "\n",
      "\t Level 15:\t47 nodes to be scored\t(89 eliminated genes)\n",
      "\n",
      "\t Level 14:\t115 nodes to be scored\t(309 eliminated genes)\n",
      "\n",
      "\t Level 13:\t199 nodes to be scored\t(796 eliminated genes)\n",
      "\n",
      "\t Level 12:\t322 nodes to be scored\t(2021 eliminated genes)\n",
      "\n",
      "\t Level 11:\t503 nodes to be scored\t(3767 eliminated genes)\n",
      "\n",
      "\t Level 10:\t663 nodes to be scored\t(5362 eliminated genes)\n",
      "\n",
      "\t Level 9:\t817 nodes to be scored\t(7585 eliminated genes)\n",
      "\n",
      "\t Level 8:\t843 nodes to be scored\t(9259 eliminated genes)\n",
      "\n",
      "\t Level 7:\t839 nodes to be scored\t(10417 eliminated genes)\n",
      "\n",
      "\t Level 6:\t660 nodes to be scored\t(11470 eliminated genes)\n",
      "\n",
      "\t Level 5:\t444 nodes to be scored\t(12064 eliminated genes)\n",
      "\n",
      "\t Level 4:\t217 nodes to be scored\t(12639 eliminated genes)\n",
      "\n",
      "\t Level 3:\t61 nodes to be scored\t(12836 eliminated genes)\n",
      "\n",
      "\t Level 2:\t21 nodes to be scored\t(13001 eliminated genes)\n",
      "\n",
      "\t Level 1:\t1 nodes to be scored\t(13067 eliminated genes)\n"
     ]
    }
   ],
   "source": [
    "#classic candidate vs background test\n",
    "resultFisher <- runTest(humanGOdata, algorithm = \"classic\", statistic = \"fisher\")\n",
    "#run Kolmogorov Smirnov test on expression p-vlaues of all genes\n",
    "#resultKS <- runTest(humanGOdata, algorithm = \"classic\", statistic = \"ks\", scoreOrder='decreasing')\n",
    "#accounts for gene overlap\n",
    "#resultKS.elim <- runTest(humanGOdata, algorithm = \"elim\", statistic = \"ks\", scoreOrder='decreasing')\n",
    "resultKS.weight01 <- runTest(humanGOdata, algorithm = \"weight01\", statistic = \"ks\", scoreOrder='decreasing')"
   ]
  },
  {
   "cell_type": "code",
   "execution_count": 11,
   "metadata": {
    "collapsed": false
   },
   "outputs": [
    {
     "name": "stdout",
     "output_type": "stream",
     "text": [
      "\n",
      "\t\t\t -- Weight01 Algorithm -- \n",
      "\n",
      "\t\t the algorithm is scoring 2776 nontrivial nodes\n",
      "\t\t parameters: \n",
      "\t\t\t test statistic:  fisher \n",
      "\n",
      "\t Level 16:\t3 nodes to be scored\t(0 eliminated genes)\n",
      "\n",
      "\t Level 15:\t17 nodes to be scored\t(0 eliminated genes)\n",
      "\n",
      "\t Level 14:\t44 nodes to be scored\t(53 eliminated genes)\n",
      "\n",
      "\t Level 13:\t75 nodes to be scored\t(386 eliminated genes)\n",
      "\n",
      "\t Level 12:\t115 nodes to be scored\t(1490 eliminated genes)\n",
      "\n",
      "\t Level 11:\t180 nodes to be scored\t(3184 eliminated genes)\n",
      "\n",
      "\t Level 10:\t274 nodes to be scored\t(4508 eliminated genes)\n",
      "\n",
      "\t Level 9:\t355 nodes to be scored\t(6545 eliminated genes)\n",
      "\n",
      "\t Level 8:\t400 nodes to be scored\t(8141 eliminated genes)\n",
      "\n",
      "\t Level 7:\t423 nodes to be scored\t(9547 eliminated genes)\n",
      "\n",
      "\t Level 6:\t372 nodes to be scored\t(11095 eliminated genes)\n",
      "\n",
      "\t Level 5:\t282 nodes to be scored\t(11885 eliminated genes)\n",
      "\n",
      "\t Level 4:\t164 nodes to be scored\t(12537 eliminated genes)\n",
      "\n",
      "\t Level 3:\t51 nodes to be scored\t(12802 eliminated genes)\n",
      "\n",
      "\t Level 2:\t20 nodes to be scored\t(12993 eliminated genes)\n",
      "\n",
      "\t Level 1:\t1 nodes to be scored\t(13066 eliminated genes)\n"
     ]
    }
   ],
   "source": [
    "resultFisher.weight01 <- runTest(humanGOdata, algorithm = \"weight01\", statistic = \"fisher\")"
   ]
  },
  {
   "cell_type": "code",
   "execution_count": 13,
   "metadata": {
    "collapsed": false
   },
   "outputs": [
    {
     "data": {
      "text/plain": [
       "\n",
       "Description: Vervet xpclr RMS gene mean scores \n",
       "Ontology: BP \n",
       "'classic' algorithm with the 'fisher' test\n",
       "5777 GO terms scored: 106 terms with p < 0.01\n",
       "Annotation data:\n",
       "    Annotated genes: 13319 \n",
       "    Significant genes: 197 \n",
       "    Min. no. of genes annotated to a GO: 10 \n",
       "    Nontrivial nodes: 2776 "
      ]
     },
     "execution_count": 13,
     "metadata": {},
     "output_type": "execute_result"
    }
   ],
   "source": [
    "resultFisher"
   ]
  },
  {
   "cell_type": "code",
   "execution_count": 14,
   "metadata": {
    "collapsed": false
   },
   "outputs": [
    {
     "data": {
      "text/plain": [
       "\n",
       "Description: Vervet xpclr RMS gene mean scores \n",
       "Ontology: BP \n",
       "'weight01' algorithm with the 'ks' test\n",
       "5777 GO terms scored: 167 terms with p < 0.01\n",
       "Annotation data:\n",
       "    Annotated genes: 13319 \n",
       "    Significant genes: 197 \n",
       "    Min. no. of genes annotated to a GO: 10 \n",
       "    Nontrivial nodes: 5777 "
      ]
     },
     "execution_count": 14,
     "metadata": {},
     "output_type": "execute_result"
    }
   ],
   "source": [
    "resultKS.weight01"
   ]
  },
  {
   "cell_type": "code",
   "execution_count": 23,
   "metadata": {
    "collapsed": false
   },
   "outputs": [],
   "source": [
    "allRes <- GenTable(humanGOdata,#classicFisher = resultFisher, ranksOf = \"classicFisher\",\n",
    "                 #  weight01Fisher = resultFisher.weight01,\n",
    "       weight01KS = resultKS.weight01,\n",
    "  orderBy = \"weight01KS\", topNodes = 167)#"
   ]
  },
  {
   "cell_type": "code",
   "execution_count": 24,
   "metadata": {
    "collapsed": false
   },
   "outputs": [
    {
     "data": {
      "text/html": [
       "<table>\n",
       "<thead><tr><th></th><th scope=col>GO.ID</th><th scope=col>Term</th><th scope=col>Annotated</th><th scope=col>Significant</th><th scope=col>Expected</th><th scope=col>weight01KS</th></tr></thead>\n",
       "<tbody>\n",
       "\t<tr><th scope=row>1</th><td>GO:0000122</td><td>negative regulation of transcription fro...</td><td>660</td><td>21</td><td>9.76</td><td>4.2e-17</td></tr>\n",
       "\t<tr><th scope=row>2</th><td>GO:0045944</td><td>positive regulation of transcription fro...</td><td>928</td><td>24</td><td>13.73</td><td>4.3e-14</td></tr>\n",
       "\t<tr><th scope=row>3</th><td>GO:0009952</td><td>anterior/posterior pattern specification</td><td>191</td><td>12</td><td>2.83</td><td>5.0e-12</td></tr>\n",
       "\t<tr><th scope=row>4</th><td>GO:0016032</td><td>viral process</td><td>685</td><td>13</td><td>10.13</td><td>9.5e-10</td></tr>\n",
       "\t<tr><th scope=row>5</th><td>GO:0045893</td><td>positive regulation of transcription, DN...</td><td>1297</td><td>32</td><td>19.18</td><td>5.4e-09</td></tr>\n",
       "\t<tr><th scope=row>6</th><td>GO:0006406</td><td>mRNA export from nucleus</td><td>70</td><td>2</td><td>1.04</td><td>1.3e-06</td></tr>\n",
       "\t<tr><th scope=row>7</th><td>GO:0051301</td><td>cell division</td><td>587</td><td>14</td><td>8.68</td><td>7.3e-06</td></tr>\n",
       "\t<tr><th scope=row>8</th><td>GO:0006357</td><td>regulation of transcription from RNA pol...</td><td>1590</td><td>42</td><td>23.52</td><td>7.6e-06</td></tr>\n",
       "\t<tr><th scope=row>9</th><td>GO:0006397</td><td>mRNA processing</td><td>397</td><td>12</td><td>5.87</td><td>8.7e-06</td></tr>\n",
       "\t<tr><th scope=row>10</th><td>GO:0006336</td><td>DNA replication-independent nucleosome a...</td><td>33</td><td>1</td><td>0.49</td><td>1.0e-05</td></tr>\n",
       "\t<tr><th scope=row>11</th><td>GO:0010467</td><td>gene expression</td><td>4416</td><td>98</td><td>65.32</td><td>1.0e-05</td></tr>\n",
       "\t<tr><th scope=row>12</th><td>GO:0016567</td><td>protein ubiquitination</td><td>674</td><td>10</td><td>9.97</td><td>1.1e-05</td></tr>\n",
       "\t<tr><th scope=row>13</th><td>GO:0000086</td><td>G2/M transition of mitotic cell cycle</td><td>173</td><td>4</td><td>2.56</td><td>1.3e-05</td></tr>\n",
       "\t<tr><th scope=row>14</th><td>GO:0000209</td><td>protein polyubiquitination</td><td>203</td><td>4</td><td>3</td><td>1.4e-05</td></tr>\n",
       "\t<tr><th scope=row>15</th><td>GO:0006260</td><td>DNA replication</td><td>280</td><td>2</td><td>4.14</td><td>1.4e-05</td></tr>\n",
       "\t<tr><th scope=row>16</th><td>GO:0017148</td><td>negative regulation of translation</td><td>88</td><td>2</td><td>1.3</td><td>1.8e-05</td></tr>\n",
       "\t<tr><th scope=row>17</th><td>GO:0043161</td><td>proteasome-mediated ubiquitin-dependent ...</td><td>387</td><td>8</td><td>5.72</td><td>2.1e-05</td></tr>\n",
       "\t<tr><th scope=row>18</th><td>GO:0008543</td><td>fibroblast growth factor receptor signal...</td><td>292</td><td>5</td><td>4.32</td><td>2.3e-05</td></tr>\n",
       "\t<tr><th scope=row>19</th><td>GO:0016568</td><td>chromatin modification</td><td>513</td><td>16</td><td>7.59</td><td>2.7e-05</td></tr>\n",
       "\t<tr><th scope=row>20</th><td>GO:0007283</td><td>spermatogenesis</td><td>384</td><td>7</td><td>5.68</td><td>3.1e-05</td></tr>\n",
       "\t<tr><th scope=row>21</th><td>GO:0006367</td><td>transcription initiation from RNA polyme...</td><td>238</td><td>3</td><td>3.52</td><td>3.6e-05</td></tr>\n",
       "\t<tr><th scope=row>22</th><td>GO:0060216</td><td>definitive hemopoiesis</td><td>20</td><td>2</td><td>0.3</td><td>3.7e-05</td></tr>\n",
       "\t<tr><th scope=row>23</th><td>GO:0008380</td><td>RNA splicing</td><td>330</td><td>11</td><td>4.88</td><td>3.9e-05</td></tr>\n",
       "\t<tr><th scope=row>24</th><td>GO:0030182</td><td>neuron differentiation</td><td>1304</td><td>21</td><td>19.29</td><td>5.5e-05</td></tr>\n",
       "\t<tr><th scope=row>25</th><td>GO:0043044</td><td>ATP-dependent chromatin remodeling</td><td>53</td><td>6</td><td>0.78</td><td>5.6e-05</td></tr>\n",
       "\t<tr><th scope=row>26</th><td>GO:1900034</td><td>regulation of cellular response to heat</td><td>67</td><td>2</td><td>0.99</td><td>7.2e-05</td></tr>\n",
       "\t<tr><th scope=row>27</th><td>GO:0001701</td><td>in utero embryonic development</td><td>339</td><td>5</td><td>5.01</td><td>8.2e-05</td></tr>\n",
       "\t<tr><th scope=row>28</th><td>GO:0048011</td><td>neurotrophin TRK receptor signaling path...</td><td>364</td><td>3</td><td>5.38</td><td>9.7e-05</td></tr>\n",
       "\t<tr><th scope=row>29</th><td>GO:0006417</td><td>regulation of translation</td><td>257</td><td>7</td><td>3.8</td><td>0.00011</td></tr>\n",
       "\t<tr><th scope=row>30</th><td>GO:0048704</td><td>embryonic skeletal system morphogenesis</td><td>92</td><td>8</td><td>1.36</td><td>0.00011</td></tr>\n",
       "\t<tr><th scope=row>31</th><td>⋮</td><td>⋮</td><td>⋮</td><td>⋮</td><td>⋮</td><td>⋮</td></tr>\n",
       "\t<tr><th scope=row>138</th><td>GO:0071467</td><td>cellular response to pH</td><td>17</td><td>0</td><td>0.25</td><td>0.00688</td></tr>\n",
       "\t<tr><th scope=row>139</th><td>GO:0071044</td><td>histone mRNA catabolic process</td><td>10</td><td>0</td><td>0.15</td><td>0.00697</td></tr>\n",
       "\t<tr><th scope=row>140</th><td>GO:0032508</td><td>DNA duplex unwinding</td><td>51</td><td>2</td><td>0.75</td><td>0.00698</td></tr>\n",
       "\t<tr><th scope=row>141</th><td>GO:0032436</td><td>positive regulation of proteasomal ubiqu...</td><td>72</td><td>2</td><td>1.06</td><td>0.00701</td></tr>\n",
       "\t<tr><th scope=row>142</th><td>GO:0035195</td><td>gene silencing by miRNA</td><td>38</td><td>1</td><td>0.56</td><td>0.00707</td></tr>\n",
       "\t<tr><th scope=row>143</th><td>GO:0031128</td><td>developmental induction</td><td>31</td><td>1</td><td>0.46</td><td>0.00722</td></tr>\n",
       "\t<tr><th scope=row>144</th><td>GO:0043984</td><td>histone H4-K16 acetylation</td><td>14</td><td>1</td><td>0.21</td><td>0.00729</td></tr>\n",
       "\t<tr><th scope=row>145</th><td>GO:0002089</td><td>lens morphogenesis in camera-type eye</td><td>18</td><td>0</td><td>0.27</td><td>0.00733</td></tr>\n",
       "\t<tr><th scope=row>146</th><td>GO:0043484</td><td>regulation of RNA splicing</td><td>79</td><td>4</td><td>1.17</td><td>0.00744</td></tr>\n",
       "\t<tr><th scope=row>147</th><td>GO:0006607</td><td>NLS-bearing protein import into nucleus</td><td>15</td><td>1</td><td>0.22</td><td>0.00746</td></tr>\n",
       "\t<tr><th scope=row>148</th><td>GO:0000079</td><td>regulation of cyclin-dependent protein s...</td><td>82</td><td>0</td><td>1.21</td><td>0.00756</td></tr>\n",
       "\t<tr><th scope=row>149</th><td>GO:0006333</td><td>chromatin assembly or disassembly</td><td>92</td><td>5</td><td>1.36</td><td>0.00787</td></tr>\n",
       "\t<tr><th scope=row>150</th><td>GO:0051726</td><td>regulation of cell cycle</td><td>857</td><td>15</td><td>12.68</td><td>0.00788</td></tr>\n",
       "\t<tr><th scope=row>151</th><td>GO:2000648</td><td>positive regulation of stem cell prolife...</td><td>65</td><td>2</td><td>0.96</td><td>0.00789</td></tr>\n",
       "\t<tr><th scope=row>152</th><td>GO:0048010</td><td>vascular endothelial growth factor recep...</td><td>277</td><td>3</td><td>4.1</td><td>0.00799</td></tr>\n",
       "\t<tr><th scope=row>153</th><td>GO:0048821</td><td>erythrocyte development</td><td>22</td><td>1</td><td>0.33</td><td>0.00823</td></tr>\n",
       "\t<tr><th scope=row>154</th><td>GO:0016477</td><td>cell migration</td><td>1013</td><td>16</td><td>14.98</td><td>0.00829</td></tr>\n",
       "\t<tr><th scope=row>155</th><td>GO:0007049</td><td>cell cycle</td><td>1524</td><td>27</td><td>22.54</td><td>0.00851</td></tr>\n",
       "\t<tr><th scope=row>156</th><td>GO:0030902</td><td>hindbrain development</td><td>128</td><td>6</td><td>1.89</td><td>0.00890</td></tr>\n",
       "\t<tr><th scope=row>157</th><td>GO:0048536</td><td>spleen development</td><td>37</td><td>0</td><td>0.55</td><td>0.00899</td></tr>\n",
       "\t<tr><th scope=row>158</th><td>GO:0009267</td><td>cellular response to starvation</td><td>346</td><td>2</td><td>5.12</td><td>0.00926</td></tr>\n",
       "\t<tr><th scope=row>159</th><td>GO:0036498</td><td>IRE1-mediated unfolded protein response</td><td>63</td><td>0</td><td>0.93</td><td>0.00931</td></tr>\n",
       "\t<tr><th scope=row>160</th><td>GO:0031047</td><td>gene silencing by RNA</td><td>64</td><td>2</td><td>0.95</td><td>0.00940</td></tr>\n",
       "\t<tr><th scope=row>161</th><td>GO:0021536</td><td>diencephalon development</td><td>67</td><td>2</td><td>0.99</td><td>0.00946</td></tr>\n",
       "\t<tr><th scope=row>162</th><td>GO:0033673</td><td>negative regulation of kinase activity</td><td>204</td><td>1</td><td>3.02</td><td>0.00957</td></tr>\n",
       "\t<tr><th scope=row>163</th><td>GO:2000737</td><td>negative regulation of stem cell differe...</td><td>39</td><td>0</td><td>0.58</td><td>0.00964</td></tr>\n",
       "\t<tr><th scope=row>164</th><td>GO:0006983</td><td>ER overload response</td><td>10</td><td>0</td><td>0.15</td><td>0.00977</td></tr>\n",
       "\t<tr><th scope=row>165</th><td>GO:0051091</td><td>positive regulation of sequence-specific...</td><td>195</td><td>3</td><td>2.88</td><td>0.00980</td></tr>\n",
       "\t<tr><th scope=row>166</th><td>GO:0019827</td><td>stem cell population maintenance</td><td>150</td><td>0</td><td>2.22</td><td>0.00984</td></tr>\n",
       "\t<tr><th scope=row>167</th><td>GO:0042921</td><td>glucocorticoid receptor signaling pathwa...</td><td>15</td><td>1</td><td>0.22</td><td>0.00989</td></tr>\n",
       "</tbody>\n",
       "</table>\n"
      ],
      "text/latex": [
       "\\begin{tabular}{r|llllll}\n",
       "  & GO.ID & Term & Annotated & Significant & Expected & weight01KS\\\\\n",
       "\\hline\n",
       "\t1 & GO:0000122 & negative regulation of transcription fro... & 660 & 21 & 9.76 & 4.2e-17\\\\\n",
       "\t2 & GO:0045944 & positive regulation of transcription fro... & 928 & 24 & 13.73 & 4.3e-14\\\\\n",
       "\t3 & GO:0009952 & anterior/posterior pattern specification & 191 & 12 & 2.83 & 5.0e-12\\\\\n",
       "\t4 & GO:0016032 & viral process & 685 & 13 & 10.13 & 9.5e-10\\\\\n",
       "\t5 & GO:0045893 & positive regulation of transcription, DN... & 1297 & 32 & 19.18 & 5.4e-09\\\\\n",
       "\t6 & GO:0006406 & mRNA export from nucleus & 70 & 2 & 1.04 & 1.3e-06\\\\\n",
       "\t7 & GO:0051301 & cell division & 587 & 14 & 8.68 & 7.3e-06\\\\\n",
       "\t8 & GO:0006357 & regulation of transcription from RNA pol... & 1590 & 42 & 23.52 & 7.6e-06\\\\\n",
       "\t9 & GO:0006397 & mRNA processing & 397 & 12 & 5.87 & 8.7e-06\\\\\n",
       "\t10 & GO:0006336 & DNA replication-independent nucleosome a... & 33 & 1 & 0.49 & 1.0e-05\\\\\n",
       "\t11 & GO:0010467 & gene expression & 4416 & 98 & 65.32 & 1.0e-05\\\\\n",
       "\t12 & GO:0016567 & protein ubiquitination & 674 & 10 & 9.97 & 1.1e-05\\\\\n",
       "\t13 & GO:0000086 & G2/M transition of mitotic cell cycle & 173 & 4 & 2.56 & 1.3e-05\\\\\n",
       "\t14 & GO:0000209 & protein polyubiquitination & 203 & 4 & 3 & 1.4e-05\\\\\n",
       "\t15 & GO:0006260 & DNA replication & 280 & 2 & 4.14 & 1.4e-05\\\\\n",
       "\t16 & GO:0017148 & negative regulation of translation & 88 & 2 & 1.3 & 1.8e-05\\\\\n",
       "\t17 & GO:0043161 & proteasome-mediated ubiquitin-dependent ... & 387 & 8 & 5.72 & 2.1e-05\\\\\n",
       "\t18 & GO:0008543 & fibroblast growth factor receptor signal... & 292 & 5 & 4.32 & 2.3e-05\\\\\n",
       "\t19 & GO:0016568 & chromatin modification & 513 & 16 & 7.59 & 2.7e-05\\\\\n",
       "\t20 & GO:0007283 & spermatogenesis & 384 & 7 & 5.68 & 3.1e-05\\\\\n",
       "\t21 & GO:0006367 & transcription initiation from RNA polyme... & 238 & 3 & 3.52 & 3.6e-05\\\\\n",
       "\t22 & GO:0060216 & definitive hemopoiesis & 20 & 2 & 0.3 & 3.7e-05\\\\\n",
       "\t23 & GO:0008380 & RNA splicing & 330 & 11 & 4.88 & 3.9e-05\\\\\n",
       "\t24 & GO:0030182 & neuron differentiation & 1304 & 21 & 19.29 & 5.5e-05\\\\\n",
       "\t25 & GO:0043044 & ATP-dependent chromatin remodeling & 53 & 6 & 0.78 & 5.6e-05\\\\\n",
       "\t26 & GO:1900034 & regulation of cellular response to heat & 67 & 2 & 0.99 & 7.2e-05\\\\\n",
       "\t27 & GO:0001701 & in utero embryonic development & 339 & 5 & 5.01 & 8.2e-05\\\\\n",
       "\t28 & GO:0048011 & neurotrophin TRK receptor signaling path... & 364 & 3 & 5.38 & 9.7e-05\\\\\n",
       "\t29 & GO:0006417 & regulation of translation & 257 & 7 & 3.8 & 0.00011\\\\\n",
       "\t30 & GO:0048704 & embryonic skeletal system morphogenesis & 92 & 8 & 1.36 & 0.00011\\\\\n",
       "\t31 & ⋮ & ⋮ & ⋮ & ⋮ & ⋮ & ⋮\\\\\n",
       "\t138 & GO:0071467 & cellular response to pH & 17 & 0 & 0.25 & 0.00688\\\\\n",
       "\t139 & GO:0071044 & histone mRNA catabolic process & 10 & 0 & 0.15 & 0.00697\\\\\n",
       "\t140 & GO:0032508 & DNA duplex unwinding & 51 & 2 & 0.75 & 0.00698\\\\\n",
       "\t141 & GO:0032436 & positive regulation of proteasomal ubiqu... & 72 & 2 & 1.06 & 0.00701\\\\\n",
       "\t142 & GO:0035195 & gene silencing by miRNA & 38 & 1 & 0.56 & 0.00707\\\\\n",
       "\t143 & GO:0031128 & developmental induction & 31 & 1 & 0.46 & 0.00722\\\\\n",
       "\t144 & GO:0043984 & histone H4-K16 acetylation & 14 & 1 & 0.21 & 0.00729\\\\\n",
       "\t145 & GO:0002089 & lens morphogenesis in camera-type eye & 18 & 0 & 0.27 & 0.00733\\\\\n",
       "\t146 & GO:0043484 & regulation of RNA splicing & 79 & 4 & 1.17 & 0.00744\\\\\n",
       "\t147 & GO:0006607 & NLS-bearing protein import into nucleus & 15 & 1 & 0.22 & 0.00746\\\\\n",
       "\t148 & GO:0000079 & regulation of cyclin-dependent protein s... & 82 & 0 & 1.21 & 0.00756\\\\\n",
       "\t149 & GO:0006333 & chromatin assembly or disassembly & 92 & 5 & 1.36 & 0.00787\\\\\n",
       "\t150 & GO:0051726 & regulation of cell cycle & 857 & 15 & 12.68 & 0.00788\\\\\n",
       "\t151 & GO:2000648 & positive regulation of stem cell prolife... & 65 & 2 & 0.96 & 0.00789\\\\\n",
       "\t152 & GO:0048010 & vascular endothelial growth factor recep... & 277 & 3 & 4.1 & 0.00799\\\\\n",
       "\t153 & GO:0048821 & erythrocyte development & 22 & 1 & 0.33 & 0.00823\\\\\n",
       "\t154 & GO:0016477 & cell migration & 1013 & 16 & 14.98 & 0.00829\\\\\n",
       "\t155 & GO:0007049 & cell cycle & 1524 & 27 & 22.54 & 0.00851\\\\\n",
       "\t156 & GO:0030902 & hindbrain development & 128 & 6 & 1.89 & 0.00890\\\\\n",
       "\t157 & GO:0048536 & spleen development & 37 & 0 & 0.55 & 0.00899\\\\\n",
       "\t158 & GO:0009267 & cellular response to starvation & 346 & 2 & 5.12 & 0.00926\\\\\n",
       "\t159 & GO:0036498 & IRE1-mediated unfolded protein response & 63 & 0 & 0.93 & 0.00931\\\\\n",
       "\t160 & GO:0031047 & gene silencing by RNA & 64 & 2 & 0.95 & 0.00940\\\\\n",
       "\t161 & GO:0021536 & diencephalon development & 67 & 2 & 0.99 & 0.00946\\\\\n",
       "\t162 & GO:0033673 & negative regulation of kinase activity & 204 & 1 & 3.02 & 0.00957\\\\\n",
       "\t163 & GO:2000737 & negative regulation of stem cell differe... & 39 & 0 & 0.58 & 0.00964\\\\\n",
       "\t164 & GO:0006983 & ER overload response & 10 & 0 & 0.15 & 0.00977\\\\\n",
       "\t165 & GO:0051091 & positive regulation of sequence-specific... & 195 & 3 & 2.88 & 0.00980\\\\\n",
       "\t166 & GO:0019827 & stem cell population maintenance & 150 & 0 & 2.22 & 0.00984\\\\\n",
       "\t167 & GO:0042921 & glucocorticoid receptor signaling pathwa... & 15 & 1 & 0.22 & 0.00989\\\\\n",
       "\\end{tabular}\n"
      ],
      "text/plain": [
       "         GO.ID                                        Term Annotated\n",
       "1   GO:0000122 negative regulation of transcription fro...       660\n",
       "2   GO:0045944 positive regulation of transcription fro...       928\n",
       "3   GO:0009952    anterior/posterior pattern specification       191\n",
       "4   GO:0016032                               viral process       685\n",
       "5   GO:0045893 positive regulation of transcription, DN...      1297\n",
       "6   GO:0006406                    mRNA export from nucleus        70\n",
       "7   GO:0051301                               cell division       587\n",
       "8   GO:0006357 regulation of transcription from RNA pol...      1590\n",
       "9   GO:0006397                             mRNA processing       397\n",
       "10  GO:0006336 DNA replication-independent nucleosome a...        33\n",
       "11  GO:0010467                             gene expression      4416\n",
       "12  GO:0016567                      protein ubiquitination       674\n",
       "13  GO:0000086       G2/M transition of mitotic cell cycle       173\n",
       "14  GO:0000209                  protein polyubiquitination       203\n",
       "15  GO:0006260                             DNA replication       280\n",
       "16  GO:0017148          negative regulation of translation        88\n",
       "17  GO:0043161 proteasome-mediated ubiquitin-dependent ...       387\n",
       "18  GO:0008543 fibroblast growth factor receptor signal...       292\n",
       "19  GO:0016568                      chromatin modification       513\n",
       "20  GO:0007283                             spermatogenesis       384\n",
       "21  GO:0006367 transcription initiation from RNA polyme...       238\n",
       "22  GO:0060216                      definitive hemopoiesis        20\n",
       "23  GO:0008380                                RNA splicing       330\n",
       "24  GO:0030182                      neuron differentiation      1304\n",
       "25  GO:0043044          ATP-dependent chromatin remodeling        53\n",
       "26  GO:1900034     regulation of cellular response to heat        67\n",
       "27  GO:0001701              in utero embryonic development       339\n",
       "28  GO:0048011 neurotrophin TRK receptor signaling path...       364\n",
       "29  GO:0006417                   regulation of translation       257\n",
       "30  GO:0048704     embryonic skeletal system morphogenesis        92\n",
       "31  GO:0006369 termination of RNA polymerase II transcr...        44\n",
       "32  GO:0006337                      nucleosome disassembly        13\n",
       "33  GO:0035115            embryonic forelimb morphogenesis        32\n",
       "34  GO:0038095       Fc-epsilon receptor signaling pathway       278\n",
       "35  GO:0007050                           cell cycle arrest       231\n",
       "36  GO:0008286          insulin receptor signaling pathway       311\n",
       "37  GO:0007067                    mitotic nuclear division       383\n",
       "38  GO:0031497                          chromatin assembly        70\n",
       "39  GO:0051437 positive regulation of ubiquitin-protein...        71\n",
       "40  GO:0043966                      histone H3 acetylation        54\n",
       "41  GO:0007173 epidermal growth factor receptor signali...       338\n",
       "42  GO:0042776 mitochondrial ATP synthesis coupled prot...        17\n",
       "43  GO:0070936           protein K48-linked ubiquitination        48\n",
       "44  GO:0000045                      autophagosome assembly        67\n",
       "45  GO:0006306                             DNA methylation        56\n",
       "46  GO:0006470                   protein dephosphorylation       288\n",
       "47  GO:0007265             Ras protein signal transduction       485\n",
       "48  GO:0035909                         aorta morphogenesis        23\n",
       "49  GO:0000186                activation of MAPKK activity       221\n",
       "50  GO:0035264               multicellular organism growth       137\n",
       "51  GO:0000381 regulation of alternative mRNA splicing,...        28\n",
       "52  GO:0043981                   histone H4-K5 acetylation        12\n",
       "53  GO:0043982                   histone H4-K8 acetylation        12\n",
       "54  GO:0006611                 protein export from nucleus        51\n",
       "55  GO:0006606                 protein import into nucleus       234\n",
       "56  GO:0006368 transcription elongation from RNA polyme...        86\n",
       "57  GO:0038061                     NIK/NF-kappaB signaling        92\n",
       "58  GO:0045892 negative regulation of transcription, DN...       987\n",
       "59  GO:0051436 negative regulation of ubiquitin-protein...        88\n",
       "60  GO:0032922     circadian regulation of gene expression        53\n",
       "61  GO:0060272      embryonic skeletal joint morphogenesis        13\n",
       "62  GO:0045665 negative regulation of neuron differenti...       145\n",
       "63  GO:0022618          ribonucleoprotein complex assembly       171\n",
       "64  GO:0021877            forebrain neuron fate commitment        13\n",
       "65  GO:0006468                     protein phosphorylation      1576\n",
       "66  GO:0007077        mitotic nuclear envelope disassembly        39\n",
       "67  GO:0007264 small GTPase mediated signal transductio...       802\n",
       "68  GO:0006334                         nucleosome assembly        56\n",
       "69  GO:1900101 regulation of endoplasmic reticulum unfo...        25\n",
       "70  GO:0090263 positive regulation of canonical Wnt sig...       124\n",
       "71  GO:0006325                      chromatin organization       571\n",
       "72  GO:0031145 anaphase-promoting complex-dependent pro...       114\n",
       "73  GO:0000082       G1/S transition of mitotic cell cycle       230\n",
       "74  GO:0001843                         neural tube closure        86\n",
       "75  GO:0006378                        mRNA polyadenylation        36\n",
       "76  GO:0048596     embryonic camera-type eye morphogenesis        26\n",
       "77  GO:0048255                          mRNA stabilization        28\n",
       "78  GO:0043488                regulation of mRNA stability        48\n",
       "79  GO:1903955 positive regulation of protein targeting...        72\n",
       "80  GO:0031468                 nuclear envelope reassembly        11\n",
       "81  GO:0051028                              mRNA transport       114\n",
       "82  GO:0043584                            nose development        15\n",
       "83  GO:0031054                        pre-miRNA processing        12\n",
       "84  GO:0016578                    histone deubiquitination        20\n",
       "85  GO:0045292          mRNA cis splicing, via spliceosome        14\n",
       "86  GO:0051403               stress-activated MAPK cascade       218\n",
       "87  GO:0048857                  neural nucleus development        60\n",
       "88  GO:0006281                                  DNA repair       399\n",
       "89  GO:0051568                   histone H3-K4 methylation        41\n",
       "90  GO:0010827             regulation of glucose transport        94\n",
       "91  GO:0006474 N-terminal protein amino acid acetylatio...        15\n",
       "92  GO:0000398              mRNA splicing, via spliceosome       246\n",
       "93  GO:0009954           proximal/distal pattern formation        32\n",
       "94  GO:0000289 nuclear-transcribed mRNA poly(A) tail sh...        32\n",
       "95  GO:0030217                      T cell differentiation       189\n",
       "96  GO:0006376                  mRNA splice site selection        25\n",
       "97  GO:0043433 negative regulation of sequence-specific...       120\n",
       "98  GO:0006383 transcription from RNA polymerase III pr...        50\n",
       "99  GO:0030219               megakaryocyte differentiation        30\n",
       "100 GO:0007020                      microtubule nucleation        20\n",
       "101 GO:0072148             epithelial cell fate commitment        17\n",
       "102 GO:0033962 cytoplasmic mRNA processing body assembl...        18\n",
       "103 GO:0006366 transcription from RNA polymerase II pro...      1769\n",
       "104 GO:0032092      positive regulation of protein binding        66\n",
       "105 GO:0034097                        response to cytokine       674\n",
       "106 GO:0007059                      chromosome segregation       236\n",
       "107 GO:0018107          peptidyl-threonine phosphorylation        71\n",
       "108 GO:0032648    regulation of interferon-beta production        34\n",
       "109 GO:0070979           protein K11-linked ubiquitination        26\n",
       "110 GO:0060412            ventricular septum morphogenesis        26\n",
       "111 GO:0043967                      histone H4 acetylation        55\n",
       "112 GO:0031124                      mRNA 3'-end processing        79\n",
       "113 GO:0045738           negative regulation of DNA repair        11\n",
       "114 GO:0060674           placenta blood vessel development        28\n",
       "115 GO:0045646 regulation of erythrocyte differentiatio...        33\n",
       "116 GO:0009303                          rRNA transcription        22\n",
       "117 GO:0007051                        spindle organization       116\n",
       "118 GO:0007411                               axon guidance       521\n",
       "119 GO:0060070             canonical Wnt signaling pathway       258\n",
       "120 GO:0000184 nuclear-transcribed mRNA catabolic proce...       104\n",
       "121 GO:0016226                iron-sulfur cluster assembly        17\n",
       "122 GO:1902176 negative regulation of oxidative stress-...        16\n",
       "123 GO:0021762                substantia nigra development        38\n",
       "124 GO:0006111               regulation of gluconeogenesis        31\n",
       "125 GO:0071300          cellular response to retinoic acid        63\n",
       "126 GO:0051453              regulation of intracellular pH        57\n",
       "127 GO:0018023              peptidyl-lysine trimethylation        19\n",
       "128 GO:0060338 regulation of type I interferon-mediated...        30\n",
       "129 GO:0019886 antigen processing and presentation of e...        71\n",
       "130 GO:0048538                          thymus development        44\n",
       "131 GO:0035050            embryonic heart tube development        68\n",
       "132 GO:0072189                          ureter development        13\n",
       "133 GO:0016246                            RNA interference        10\n",
       "134 GO:0016925                         protein sumoylation        96\n",
       "135 GO:0021766                     hippocampus development        63\n",
       "136 GO:0034080       CENP-A containing nucleosome assembly        25\n",
       "137 GO:0006974    cellular response to DNA damage stimulus       657\n",
       "138 GO:0071467                     cellular response to pH        17\n",
       "139 GO:0071044              histone mRNA catabolic process        10\n",
       "140 GO:0032508                        DNA duplex unwinding        51\n",
       "141 GO:0032436 positive regulation of proteasomal ubiqu...        72\n",
       "142 GO:0035195                     gene silencing by miRNA        38\n",
       "143 GO:0031128                     developmental induction        31\n",
       "144 GO:0043984                  histone H4-K16 acetylation        14\n",
       "145 GO:0002089       lens morphogenesis in camera-type eye        18\n",
       "146 GO:0043484                  regulation of RNA splicing        79\n",
       "147 GO:0006607     NLS-bearing protein import into nucleus        15\n",
       "148 GO:0000079 regulation of cyclin-dependent protein s...        82\n",
       "149 GO:0006333           chromatin assembly or disassembly        92\n",
       "150 GO:0051726                    regulation of cell cycle       857\n",
       "151 GO:2000648 positive regulation of stem cell prolife...        65\n",
       "152 GO:0048010 vascular endothelial growth factor recep...       277\n",
       "153 GO:0048821                     erythrocyte development        22\n",
       "154 GO:0016477                              cell migration      1013\n",
       "155 GO:0007049                                  cell cycle      1524\n",
       "156 GO:0030902                       hindbrain development       128\n",
       "157 GO:0048536                          spleen development        37\n",
       "158 GO:0009267             cellular response to starvation       346\n",
       "159 GO:0036498     IRE1-mediated unfolded protein response        63\n",
       "160 GO:0031047                       gene silencing by RNA        64\n",
       "161 GO:0021536                    diencephalon development        67\n",
       "162 GO:0033673      negative regulation of kinase activity       204\n",
       "163 GO:2000737 negative regulation of stem cell differe...        39\n",
       "164 GO:0006983                        ER overload response        10\n",
       "165 GO:0051091 positive regulation of sequence-specific...       195\n",
       "166 GO:0019827            stem cell population maintenance       150\n",
       "167 GO:0042921 glucocorticoid receptor signaling pathwa...        15\n",
       "    Significant Expected weight01KS\n",
       "1            21     9.76    4.2e-17\n",
       "2            24    13.73    4.3e-14\n",
       "3            12     2.83    5.0e-12\n",
       "4            13    10.13    9.5e-10\n",
       "5            32    19.18    5.4e-09\n",
       "6             2     1.04    1.3e-06\n",
       "7            14     8.68    7.3e-06\n",
       "8            42    23.52    7.6e-06\n",
       "9            12     5.87    8.7e-06\n",
       "10            1     0.49    1.0e-05\n",
       "11           98    65.32    1.0e-05\n",
       "12           10     9.97    1.1e-05\n",
       "13            4     2.56    1.3e-05\n",
       "14            4     3.00    1.4e-05\n",
       "15            2     4.14    1.4e-05\n",
       "16            2     1.30    1.8e-05\n",
       "17            8     5.72    2.1e-05\n",
       "18            5     4.32    2.3e-05\n",
       "19           16     7.59    2.7e-05\n",
       "20            7     5.68    3.1e-05\n",
       "21            3     3.52    3.6e-05\n",
       "22            2     0.30    3.7e-05\n",
       "23           11     4.88    3.9e-05\n",
       "24           21    19.29    5.5e-05\n",
       "25            6     0.78    5.6e-05\n",
       "26            2     0.99    7.2e-05\n",
       "27            5     5.01    8.2e-05\n",
       "28            3     5.38    9.7e-05\n",
       "29            7     3.80    0.00011\n",
       "30            8     1.36    0.00011\n",
       "31            1     0.65    0.00013\n",
       "32            2     0.19    0.00014\n",
       "33            1     0.47    0.00021\n",
       "34            2     4.11    0.00027\n",
       "35            6     3.42    0.00030\n",
       "36            3     4.60    0.00030\n",
       "37           10     5.66    0.00036\n",
       "38            2     1.04    0.00037\n",
       "39            2     1.05    0.00038\n",
       "40            1     0.80    0.00041\n",
       "41            3     5.00    0.00043\n",
       "42            0     0.25    0.00048\n",
       "43            1     0.71    0.00051\n",
       "44            0     0.99    0.00057\n",
       "45            1     0.83    0.00057\n",
       "46            3     4.26    0.00057\n",
       "47            8     7.17    0.00057\n",
       "48            1     0.34    0.00060\n",
       "49            4     3.27    0.00060\n",
       "50            4     2.03    0.00069\n",
       "51            1     0.41    0.00069\n",
       "52            1     0.18    0.00071\n",
       "53            1     0.18    0.00071\n",
       "54            2     0.75    0.00072\n",
       "55            4     3.46    0.00074\n",
       "56            1     1.27    0.00076\n",
       "57            1     1.36    0.00089\n",
       "58           26    14.60    0.00101\n",
       "59            2     1.30    0.00116\n",
       "60            0     0.78    0.00121\n",
       "61            0     0.19    0.00134\n",
       "62            5     2.14    0.00135\n",
       "63            4     2.53    0.00137\n",
       "64            1     0.19    0.00144\n",
       "65           18    23.31    0.00152\n",
       "66            2     0.58    0.00160\n",
       "67           10    11.86    0.00160\n",
       "68            2     0.83    0.00167\n",
       "69            0     0.37    0.00167\n",
       "70            2     1.83    0.00168\n",
       "71           18     8.45    0.00170\n",
       "72            3     1.69    0.00175\n",
       "73            4     3.40    0.00181\n",
       "74            1     1.27    0.00183\n",
       "75            1     0.53    0.00186\n",
       "76            2     0.38    0.00190\n",
       "77            2     0.41    0.00191\n",
       "78            2     0.71    0.00193\n",
       "79            1     1.06    0.00199\n",
       "80            0     0.16    0.00225\n",
       "81            5     1.69    0.00240\n",
       "82            0     0.22    0.00245\n",
       "83            0     0.18    0.00246\n",
       "84            0     0.30    0.00250\n",
       "85            1     0.21    0.00259\n",
       "86            2     3.22    0.00260\n",
       "87            1     0.89    0.00260\n",
       "88            6     5.90    0.00262\n",
       "89            0     0.61    0.00262\n",
       "90            3     1.39    0.00269\n",
       "91            0     0.22    0.00280\n",
       "92            8     3.64    0.00288\n",
       "93            2     0.47    0.00289\n",
       "94            2     0.47    0.00310\n",
       "95            0     2.80    0.00324\n",
       "96            1     0.37    0.00326\n",
       "97            1     1.77    0.00329\n",
       "98            2     0.74    0.00329\n",
       "99            1     0.44    0.00337\n",
       "100           0     0.30    0.00338\n",
       "101           0     0.25    0.00347\n",
       "102           1     0.27    0.00353\n",
       "103          44    26.17    0.00363\n",
       "104           0     0.98    0.00368\n",
       "105          14     9.97    0.00369\n",
       "106           1     3.49    0.00369\n",
       "107           1     1.05    0.00371\n",
       "108           0     0.50    0.00376\n",
       "109           1     0.38    0.00378\n",
       "110           0     0.38    0.00383\n",
       "111           1     0.81    0.00383\n",
       "112           2     1.17    0.00386\n",
       "113           0     0.16    0.00387\n",
       "114           1     0.41    0.00391\n",
       "115           2     0.49    0.00396\n",
       "116           0     0.33    0.00397\n",
       "117           1     1.72    0.00406\n",
       "118           7     7.71    0.00408\n",
       "119           4     3.82    0.00437\n",
       "120           2     1.54    0.00444\n",
       "121           0     0.25    0.00447\n",
       "122           2     0.24    0.00455\n",
       "123           0     0.56    0.00461\n",
       "124           0     0.46    0.00519\n",
       "125           4     0.93    0.00529\n",
       "126           0     0.84    0.00549\n",
       "127           0     0.28    0.00564\n",
       "128           0     0.44    0.00566\n",
       "129           0     1.05    0.00566\n",
       "130           1     0.65    0.00608\n",
       "131           1     1.01    0.00625\n",
       "132           0     0.19    0.00630\n",
       "133           0     0.15    0.00631\n",
       "134           5     1.42    0.00634\n",
       "135           3     0.93    0.00643\n",
       "136           1     0.37    0.00683\n",
       "137           9     9.72    0.00688\n",
       "138           0     0.25    0.00688\n",
       "139           0     0.15    0.00697\n",
       "140           2     0.75    0.00698\n",
       "141           2     1.06    0.00701\n",
       "142           1     0.56    0.00707\n",
       "143           1     0.46    0.00722\n",
       "144           1     0.21    0.00729\n",
       "145           0     0.27    0.00733\n",
       "146           4     1.17    0.00744\n",
       "147           1     0.22    0.00746\n",
       "148           0     1.21    0.00756\n",
       "149           5     1.36    0.00787\n",
       "150          15    12.68    0.00788\n",
       "151           2     0.96    0.00789\n",
       "152           3     4.10    0.00799\n",
       "153           1     0.33    0.00823\n",
       "154          16    14.98    0.00829\n",
       "155          27    22.54    0.00851\n",
       "156           6     1.89    0.00890\n",
       "157           0     0.55    0.00899\n",
       "158           2     5.12    0.00926\n",
       "159           0     0.93    0.00931\n",
       "160           2     0.95    0.00940\n",
       "161           2     0.99    0.00946\n",
       "162           1     3.02    0.00957\n",
       "163           0     0.58    0.00964\n",
       "164           0     0.15    0.00977\n",
       "165           3     2.88    0.00980\n",
       "166           0     2.22    0.00984\n",
       "167           1     0.22    0.00989"
      ]
     },
     "execution_count": 24,
     "metadata": {},
     "output_type": "execute_result"
    }
   ],
   "source": [
    "allRes"
   ]
  },
  {
   "cell_type": "code",
   "execution_count": 30,
   "metadata": {
    "collapsed": false
   },
   "outputs": [
    {
     "name": "stderr",
     "output_type": "stream",
     "text": [
      "also installing the dependencies ‘rJava’, ‘xlsxjars’\n",
      "\n"
     ]
    },
    {
     "name": "stdout",
     "output_type": "stream",
     "text": [
      "\n",
      "The downloaded source packages are in\n",
      "\t‘/tmp/RtmpThbomn/downloaded_packages’\n"
     ]
    }
   ],
   "source": [
    "install.packages(\"xlsx\", repos=\"http://cran.us.r-project.org\")"
   ]
  },
  {
   "cell_type": "code",
   "execution_count": 31,
   "metadata": {
    "collapsed": false
   },
   "outputs": [
    {
     "name": "stderr",
     "output_type": "stream",
     "text": [
      "Loading required package: rJava\n",
      "Loading required package: xlsxjars\n"
     ]
    }
   ],
   "source": [
    "library(xlsx)"
   ]
  },
  {
   "cell_type": "code",
   "execution_count": 34,
   "metadata": {
    "collapsed": false
   },
   "outputs": [],
   "source": [
    "write.xlsx(allRes[1:50,],path.expand(paste(vervet_drive_dir,\"share\",\"xpclr_rms_exon_mean_topgo_KSweight01_top50.xlsx\",sep='/')))"
   ]
  },
  {
   "cell_type": "code",
   "execution_count": 60,
   "metadata": {
    "collapsed": false
   },
   "outputs": [
    {
     "data": {
      "text/html": [
       "<dl class=dl-horizontal>\n",
       "</dl>\n"
      ],
      "text/latex": [
       "\\begin{description*}\n",
       "\\end{description*}\n"
      ],
      "text/markdown": [
       "\n",
       "\n"
      ],
      "text/plain": [
       "named numeric(0)"
      ]
     },
     "execution_count": 60,
     "metadata": {},
     "output_type": "execute_result"
    }
   ],
   "source": [
    "geneScoresVec[grep(\"^LOC\",names(geneScoresVec))]"
   ]
  },
  {
   "cell_type": "code",
   "execution_count": 37,
   "metadata": {
    "collapsed": false
   },
   "outputs": [
    {
     "data": {
      "text/html": [
       "'negative regulation of transcription fro...'"
      ],
      "text/latex": [
       "'negative regulation of transcription fro...'"
      ],
      "text/markdown": [
       "'negative regulation of transcription fro...'"
      ],
      "text/plain": [
       "[1] \"negative regulation of transcription fro...\""
      ]
     },
     "execution_count": 37,
     "metadata": {},
     "output_type": "execute_result"
    }
   ],
   "source": [
    "allRes[1,2]"
   ]
  },
  {
   "cell_type": "markdown",
   "metadata": {},
   "source": [
    "### create input for Cytoscape Enrichment Map\n",
    "info here: http://www.baderlab.org/Software/EnrichmentMap/UserManual#Generic_results_files"
   ]
  },
  {
   "cell_type": "markdown",
   "metadata": {},
   "source": [
    "#### GMT file"
   ]
  },
  {
   "cell_type": "code",
   "execution_count": 35,
   "metadata": {
    "collapsed": false
   },
   "outputs": [],
   "source": [
    "go_to_gene <- annFUN.org(\"BP\",feasibleGenes=names(geneScoresVec),mapping=\"org.Hs.eg.db\",ID = \"symbol\")"
   ]
  },
  {
   "cell_type": "code",
   "execution_count": 264,
   "metadata": {
    "collapsed": false
   },
   "outputs": [
    {
     "data": {
      "text/html": [
       "10308"
      ],
      "text/latex": [
       "10308"
      ],
      "text/markdown": [
       "10308"
      ],
      "text/plain": [
       "[1] 10308"
      ]
     },
     "execution_count": 264,
     "metadata": {},
     "output_type": "execute_result"
    }
   ],
   "source": [
    "length(go_to_gene)"
   ]
  },
  {
   "cell_type": "code",
   "execution_count": 61,
   "metadata": {
    "collapsed": false
   },
   "outputs": [
    {
     "name": "stderr",
     "output_type": "stream",
     "text": [
      "'select()' returned 1:1 mapping between keys and columns\n"
     ]
    }
   ],
   "source": [
    "go_to_name <- select(GO.db,keys=names(go_to_gene),columns=c('TERM','DEFINITION'))\n",
    "rownames(go_to_name) <- go_to_name[,'GOID']"
   ]
  },
  {
   "cell_type": "code",
   "execution_count": 218,
   "metadata": {
    "collapsed": false
   },
   "outputs": [],
   "source": [
    "vecToStr <- function(vec) {\n",
    "    return(paste(vec,collapse='\\t'))#\n",
    "}"
   ]
  },
  {
   "cell_type": "code",
   "execution_count": 219,
   "metadata": {
    "collapsed": false
   },
   "outputs": [],
   "source": [
    "go_to_gene_df <- data.frame(names(go_to_gene))\n",
    "colnames(go_to_gene_df) <- \"GOID\"\n",
    "#add a gene column with list of genes to data frame\n",
    "go_to_gene_df$genes <- lapply(go_to_gene,vecToStr)\n",
    "#this conversion is necessary so that write table does not complain that a data frame column is of type list\n",
    "go_to_gene_df <- data.frame(lapply(go_to_gene_df, as.character), stringsAsFactors=FALSE)"
   ]
  },
  {
   "cell_type": "code",
   "execution_count": 220,
   "metadata": {
    "collapsed": false
   },
   "outputs": [],
   "source": [
    "#gmt format (GSEA)\n",
    "gmt_df <- merge(go_to_name[,c(\"GOID\",\"TERM\")], go_to_gene_df, by=\"GOID\")"
   ]
  },
  {
   "cell_type": "code",
   "execution_count": null,
   "metadata": {
    "collapsed": true
   },
   "outputs": [],
   "source": [
    "gmt_df"
   ]
  },
  {
   "cell_type": "code",
   "execution_count": 267,
   "metadata": {
    "collapsed": false
   },
   "outputs": [],
   "source": [
    "write.table(gmt_df,paste(vervet_drive_dir,\"Cytoscape\",\"topgo_go_to_gene.gmt\",sep='/'),quote=FALSE,row.names=FALSE,col.names=FALSE,sep='\\t')"
   ]
  },
  {
   "cell_type": "markdown",
   "metadata": {},
   "source": [
    "#### Generic results file\n",
    "http://www.baderlab.org/Software/EnrichmentMap/UserManual#Generic_results_files"
   ]
  },
  {
   "cell_type": "code",
   "execution_count": 284,
   "metadata": {
    "collapsed": false
   },
   "outputs": [
    {
     "data": {
      "text/plain": [
       "\n",
       "Description: Vervet xpclr RMS gene mean scores \n",
       "Ontology: BP \n",
       "'weight01' algorithm with the 'ks' test\n",
       "5777 GO terms scored: 167 terms with p < 0.01\n",
       "Annotation data:\n",
       "    Annotated genes: 13319 \n",
       "    Significant genes: 197 \n",
       "    Min. no. of genes annotated to a GO: 10 \n",
       "    Nontrivial nodes: 5777 "
      ]
     },
     "execution_count": 284,
     "metadata": {},
     "output_type": "execute_result"
    }
   ],
   "source": [
    "resultKS.weight01"
   ]
  },
  {
   "cell_type": "code",
   "execution_count": 229,
   "metadata": {
    "collapsed": false
   },
   "outputs": [
    {
     "data": {
      "text/plain": [
       "\n",
       "Description: Vervet xpclr RMS gene mean scores \n",
       "Ontology: BP \n",
       "'weight01' algorithm with the 'ks' test\n",
       "5777 GO terms scored: 167 terms with p < 0.01\n",
       "Annotation data:\n",
       "    Annotated genes: 13319 \n",
       "    Significant genes: 145 \n",
       "    Min. no. of genes annotated to a GO: 10 \n",
       "    Nontrivial nodes: 5777 "
      ]
     },
     "execution_count": 229,
     "metadata": {},
     "output_type": "execute_result"
    }
   ],
   "source": [
    "resultKS.weight01"
   ]
  },
  {
   "cell_type": "code",
   "execution_count": 285,
   "metadata": {
    "collapsed": true
   },
   "outputs": [],
   "source": [
    "xpclr_rms_enrich_results <- GenTable(humanGOdata, weight01KS = resultKS.weight01, orderBy = \"weight01KS\", topNodes = 167)"
   ]
  },
  {
   "cell_type": "code",
   "execution_count": 271,
   "metadata": {
    "collapsed": false
   },
   "outputs": [],
   "source": [
    "generic_result <- xpclr_rms_enrich_results[,c(\"GO.ID\",\"Term\",\"weight01KS\")]"
   ]
  },
  {
   "cell_type": "code",
   "execution_count": 250,
   "metadata": {
    "collapsed": false
   },
   "outputs": [],
   "source": [
    "#generic_result$FDR = NA"
   ]
  },
  {
   "cell_type": "code",
   "execution_count": 251,
   "metadata": {
    "collapsed": false
   },
   "outputs": [],
   "source": [
    "#generic_result$Phenotype = NA"
   ]
  },
  {
   "cell_type": "code",
   "execution_count": 272,
   "metadata": {
    "collapsed": true
   },
   "outputs": [],
   "source": [
    "colnames(generic_result) <- c(\"GO.ID\",\"Description\",\"p.Val\")"
   ]
  },
  {
   "cell_type": "code",
   "execution_count": 278,
   "metadata": {
    "collapsed": false
   },
   "outputs": [],
   "source": [
    "write.table(generic_result,paste(vervet_drive_dir,\"Cytoscape\",\"topgo_xpclr_rms_generic_results_file.tsv\",sep='/'),row.names=FALSE,quote=FALSE,sep='\\t')"
   ]
  },
  {
   "cell_type": "code",
   "execution_count": 277,
   "metadata": {
    "collapsed": false
   },
   "outputs": [
    {
     "data": {
      "text/html": [
       "3"
      ],
      "text/latex": [
       "3"
      ],
      "text/markdown": [
       "3"
      ],
      "text/plain": [
       "[1] 3"
      ]
     },
     "execution_count": 277,
     "metadata": {},
     "output_type": "execute_result"
    }
   ],
   "source": [
    "length(generic_result)"
   ]
  },
  {
   "cell_type": "markdown",
   "metadata": {},
   "source": [
    "### Vervet genes with phylo conscores "
   ]
  },
  {
   "cell_type": "markdown",
   "metadata": {},
   "source": [
    "to test whether we get the same results as with the xpclr scores"
   ]
  },
  {
   "cell_type": "code",
   "execution_count": 26,
   "metadata": {
    "collapsed": false
   },
   "outputs": [],
   "source": [
    "geneScores <- read.table('/home/GMI/hannes.svardal/vervet_project/analyses/20150528_UG_xpclr/_data/conscore_mean_per_gen.tsv',header=TRUE,row.names=1)"
   ]
  },
  {
   "cell_type": "code",
   "execution_count": 27,
   "metadata": {
    "collapsed": false
   },
   "outputs": [],
   "source": [
    "geneScoresVec <- as.vector(geneScores[[\"conscore\"]])\n",
    "names(geneScoresVec) <- row.names(geneScores)"
   ]
  },
  {
   "cell_type": "code",
   "execution_count": 28,
   "metadata": {
    "collapsed": false
   },
   "outputs": [
    {
     "name": "stdout",
     "output_type": "stream",
     "text": [
      "\n",
      "Building most specific GOs .....\t( 10260 GO terms found. )\n",
      "\n",
      "Build GO DAG topology ..........\t( 13910 GO terms and 33340 relations. )\n",
      "\n",
      "Annotating nodes ...............\t( 13054 genes annotated to the GO terms. )\n"
     ]
    }
   ],
   "source": [
    "humanGOdata <- new(\"topGOdata\",\n",
    "                    description = \"Vervet xpclr RMS gene mean scores\", ontology = \"BP\",\n",
    "                    allGenes = geneScoresVec, geneSel = selFun,\n",
    "                    nodeSize = 10,\n",
    "                    annot = annFUN.org, mapping = \"org.Hs.eg.db\", ID = \"symbol\")"
   ]
  },
  {
   "cell_type": "code",
   "execution_count": 29,
   "metadata": {
    "collapsed": false
   },
   "outputs": [
    {
     "name": "stdout",
     "output_type": "stream",
     "text": [
      "\n",
      "\t\t\t -- Weight01 Algorithm -- \n",
      "\n",
      "\t\t the algorithm is scoring 5746 nontrivial nodes\n",
      "\t\t parameters: \n",
      "\t\t\t test statistic:  ks \n",
      "\t\t\t score order:  decreasing \n",
      "\n",
      "\t Level 18:\t1 nodes to be scored\t(0 eliminated genes)\n",
      "\n",
      "\t Level 17:\t5 nodes to be scored\t(0 eliminated genes)\n",
      "\n",
      "\t Level 16:\t19 nodes to be scored\t(11 eliminated genes)\n",
      "\n",
      "\t Level 15:\t47 nodes to be scored\t(88 eliminated genes)\n",
      "\n",
      "\t Level 14:\t113 nodes to be scored\t(307 eliminated genes)\n",
      "\n",
      "\t Level 13:\t197 nodes to be scored\t(791 eliminated genes)\n",
      "\n",
      "\t Level 12:\t320 nodes to be scored\t(1987 eliminated genes)\n",
      "\n",
      "\t Level 11:\t498 nodes to be scored\t(3714 eliminated genes)\n",
      "\n",
      "\t Level 10:\t659 nodes to be scored\t(5287 eliminated genes)\n",
      "\n",
      "\t Level 9:\t814 nodes to be scored\t(7459 eliminated genes)\n",
      "\n",
      "\t Level 8:\t839 nodes to be scored\t(9078 eliminated genes)\n",
      "\n",
      "\t Level 7:\t832 nodes to be scored\t(10211 eliminated genes)\n",
      "\n",
      "\t Level 6:\t659 nodes to be scored\t(11242 eliminated genes)\n",
      "\n",
      "\t Level 5:\t443 nodes to be scored\t(11814 eliminated genes)\n",
      "\n",
      "\t Level 4:\t217 nodes to be scored\t(12389 eliminated genes)\n",
      "\n",
      "\t Level 3:\t61 nodes to be scored\t(12579 eliminated genes)\n",
      "\n",
      "\t Level 2:\t21 nodes to be scored\t(12740 eliminated genes)\n",
      "\n",
      "\t Level 1:\t1 nodes to be scored\t(12805 eliminated genes)\n"
     ]
    }
   ],
   "source": [
    "resultKS.weight01 <- runTest(humanGOdata, algorithm = \"weight01\", statistic = \"ks\", scoreOrder='decreasing')"
   ]
  },
  {
   "cell_type": "code",
   "execution_count": 30,
   "metadata": {
    "collapsed": true
   },
   "outputs": [],
   "source": [
    "allResConscores <- GenTable(humanGOdata,#classicFisher = resultFisher, ranksOf = \"classicFisher\",\n",
    "                 #  weight01Fisher = resultFisher.weight01,\n",
    "       weight01KS = resultKS.weight01,\n",
    "  orderBy = \"weight01KS\", topNodes = 167)#"
   ]
  },
  {
   "cell_type": "code",
   "execution_count": 33,
   "metadata": {
    "collapsed": false
   },
   "outputs": [
    {
     "data": {
      "text/html": [
       "41"
      ],
      "text/latex": [
       "41"
      ],
      "text/markdown": [
       "41"
      ],
      "text/plain": [
       "[1] 41"
      ]
     },
     "execution_count": 33,
     "metadata": {},
     "output_type": "execute_result"
    }
   ],
   "source": [
    "sum(allResConscores[\"weight01KS\"]<0.01)"
   ]
  },
  {
   "cell_type": "code",
   "execution_count": null,
   "metadata": {
    "collapsed": true
   },
   "outputs": [],
   "source": []
  },
  {
   "cell_type": "markdown",
   "metadata": {},
   "source": [
    "Conclusion: The conservation scores only have 41 pvalues below 0.01 (as compared 167 for the xpclr scores)\n",
    "    The categories don't have extremely strong overlap.\n",
    "Here it is mainly medium-sized categories that are enriched."
   ]
  },
  {
   "cell_type": "markdown",
   "metadata": {},
   "source": [
    "## Vervet HIV categories"
   ]
  },
  {
   "cell_type": "markdown",
   "metadata": {},
   "source": [
    "!!! THIS DOES NOT WORK. topGO needs real go-categories."
   ]
  },
  {
   "cell_type": "code",
   "execution_count": 164,
   "metadata": {
    "collapsed": true
   },
   "outputs": [],
   "source": [
    "#geneID2GO <-  readMappings(file = system.file(\"examples/geneid2go.map\", package = \"topGO\"))\n",
    "geneID2GO <- readMappings(file = '/home/GMI/hannes.svardal/vervet_project/data/gene_associations/gene_to_hiv_r100_20151130_topgo.map')"
   ]
  },
  {
   "cell_type": "code",
   "execution_count": 86,
   "metadata": {
    "collapsed": false
   },
   "outputs": [],
   "source": [
    "#geneScoresVecTest = runif(length(geneID2GO))\n",
    "#names(geneScoresVecTest) = names(geneID2GO)"
   ]
  },
  {
   "cell_type": "code",
   "execution_count": 165,
   "metadata": {
    "collapsed": false
   },
   "outputs": [
    {
     "name": "stdout",
     "output_type": "stream",
     "text": [
      "\n",
      "Building most specific GOs .....\t( 0 GO terms found. )\n",
      "\n",
      "Build GO DAG topology ..........\t( 0 GO terms and 0 relations. )\n"
     ]
    },
    {
     "ename": "ERROR",
     "evalue": "Error in sapply(adj(dag, nodes(dag)), length): error in evaluating the argument 'X' in selecting a method for function 'sapply': Error in if (is.na(index) || index < 0 || index > length(nd)) stop(\"vertex is not in graph: \",  : \n  missing value where TRUE/FALSE needed\nCalls: adj -> adj\n\n",
     "output_type": "error",
     "traceback": [
      "Error in sapply(adj(dag, nodes(dag)), length): error in evaluating the argument 'X' in selecting a method for function 'sapply': Error in if (is.na(index) || index < 0 || index > length(nd)) stop(\"vertex is not in graph: \",  : \n  missing value where TRUE/FALSE needed\nCalls: adj -> adj\n\n"
     ]
    }
   ],
   "source": [
    "hivGOdata <- new(\"topGOdata\",\n",
    "                    description = \"Vervet xpclr RMS gene mean scores tested against hiv categories\", ontology = \"MF\",\n",
    "                    allGenes = geneScoresVec, geneSel = selFun,\n",
    "                 annot = annFUN.gene2GO,\n",
    "                     gene2GO = geneID2GO) #ncbi hiv categories"
   ]
  },
  {
   "cell_type": "code",
   "execution_count": 161,
   "metadata": {
    "collapsed": false
   },
   "outputs": [
    {
     "name": "stdout",
     "output_type": "stream",
     "text": [
      "\n",
      "\t\t\t -- Classic Algorithm -- \n",
      "\n",
      "\t\t the algorithm is scoring 54 nontrivial nodes\n",
      "\t\t parameters: \n",
      "\t\t\t test statistic:  fisher \n",
      "\n",
      "\t\t\t -- Classic Algorithm -- \n",
      "\n",
      "\t\t the algorithm is scoring 249 nontrivial nodes\n",
      "\t\t parameters: \n",
      "\t\t\t test statistic:  ks \n",
      "\t\t\t score order:  decreasing \n",
      "\n",
      "\t\t\t -- Elim Algorithm -- \n",
      "\n",
      "\t\t the algorithm is scoring 249 nontrivial nodes\n",
      "\t\t parameters: \n",
      "\t\t\t test statistic:  ks \n",
      "\t\t\t cutOff:  0.01 \n",
      "\t\t\t score order:  decreasing \n",
      "\n",
      "\t Level 13:\t1 nodes to be scored\t(0 eliminated genes)\n",
      "\n",
      "\t Level 12:\t2 nodes to be scored\t(0 eliminated genes)\n",
      "\n",
      "\t Level 11:\t8 nodes to be scored\t(0 eliminated genes)\n",
      "\n",
      "\t Level 10:\t7 nodes to be scored\t(217 eliminated genes)\n",
      "\n",
      "\t Level 9:\t13 nodes to be scored\t(217 eliminated genes)\n",
      "\n",
      "\t Level 8:\t22 nodes to be scored\t(217 eliminated genes)\n",
      "\n",
      "\t Level 7:\t35 nodes to be scored\t(217 eliminated genes)\n",
      "\n",
      "\t Level 6:\t49 nodes to be scored\t(219 eliminated genes)\n",
      "\n",
      "\t Level 5:\t43 nodes to be scored\t(318 eliminated genes)\n",
      "\n",
      "\t Level 4:\t40 nodes to be scored\t(458 eliminated genes)\n",
      "\n",
      "\t Level 3:\t24 nodes to be scored\t(458 eliminated genes)\n",
      "\n",
      "\t Level 2:\t4 nodes to be scored\t(458 eliminated genes)\n",
      "\n",
      "\t Level 1:\t1 nodes to be scored\t(458 eliminated genes)\n",
      "\n",
      "\t\t\t -- Weight01 Algorithm -- \n",
      "\n",
      "\t\t the algorithm is scoring 249 nontrivial nodes\n",
      "\t\t parameters: \n",
      "\t\t\t test statistic:  ks \n",
      "\t\t\t score order:  decreasing \n",
      "\n",
      "\t Level 13:\t1 nodes to be scored\t(0 eliminated genes)\n",
      "\n",
      "\t Level 12:\t2 nodes to be scored\t(0 eliminated genes)\n",
      "\n",
      "\t Level 11:\t8 nodes to be scored\t(22 eliminated genes)\n",
      "\n",
      "\t Level 10:\t7 nodes to be scored\t(39 eliminated genes)\n",
      "\n",
      "\t Level 9:\t13 nodes to be scored\t(310 eliminated genes)\n",
      "\n",
      "\t Level 8:\t22 nodes to be scored\t(355 eliminated genes)\n",
      "\n",
      "\t Level 7:\t35 nodes to be scored\t(379 eliminated genes)\n",
      "\n",
      "\t Level 6:\t49 nodes to be scored\t(839 eliminated genes)\n",
      "\n",
      "\t Level 5:\t43 nodes to be scored\t(1028 eliminated genes)\n",
      "\n",
      "\t Level 4:\t40 nodes to be scored\t(1310 eliminated genes)\n",
      "\n",
      "\t Level 3:\t24 nodes to be scored\t(1445 eliminated genes)\n",
      "\n",
      "\t Level 2:\t4 nodes to be scored\t(1453 eliminated genes)\n",
      "\n",
      "\t Level 1:\t1 nodes to be scored\t(1490 eliminated genes)\n"
     ]
    }
   ],
   "source": [
    "#classic candidate vs background test\n",
    "resultFisher <- runTest(hivGOdata, algorithm = \"classic\", statistic = \"fisher\")\n",
    "#run Kolmogorov Smirnov test on expression p-vlaues of all genes\n",
    "resultKS <- runTest(hivGOdata, algorithm = \"classic\", statistic = \"ks\", scoreOrder='decreasing')\n",
    "#accounts for gene overlap\n",
    "resultKS.elim <- runTest(hivGOdata, algorithm = \"elim\", statistic = \"ks\", scoreOrder='decreasing')\n",
    "resultKS.weight01 <- runTest(hivGOdata, algorithm = \"weight01\", statistic = \"ks\", scoreOrder='decreasing')"
   ]
  },
  {
   "cell_type": "code",
   "execution_count": 162,
   "metadata": {
    "collapsed": true
   },
   "outputs": [],
   "source": [
    "allRes <- GenTable(hivGOdata,classicFisher = resultFisher, ranksOf = \"classicFisher\",\n",
    "  classicKS = resultKS, elimKS = resultKS.elim,\n",
    "  orderBy = \"elimKS\", topNodes = 50)#"
   ]
  },
  {
   "cell_type": "code",
   "execution_count": 163,
   "metadata": {
    "collapsed": false
   },
   "outputs": [
    {
     "data": {
      "text/html": [
       "<table>\n",
       "<thead><tr><th></th><th scope=col>GO.ID</th><th scope=col>Term</th><th scope=col>Annotated</th><th scope=col>Significant</th><th scope=col>Expected</th><th scope=col>Rank in classicFisher</th><th scope=col>classicFisher</th><th scope=col>classicKS</th><th scope=col>elimKS</th></tr></thead>\n",
       "<tbody>\n",
       "\t<tr><th scope=row>1</th><td>GO:0000062</td><td>fatty-acyl-CoA binding</td><td>199</td><td>5</td><td>2.14</td><td>4</td><td>0.051</td><td>1.4e-09</td><td>1.4e-09</td></tr>\n",
       "\t<tr><th scope=row>2</th><td>GO:0000064</td><td>L-ornithine transmembrane transporter ac...</td><td>182</td><td>4</td><td>1.95</td><td>12</td><td>0.121</td><td>1.3e-06</td><td>1.3e-06</td></tr>\n",
       "\t<tr><th scope=row>3</th><td>GO:0000016</td><td>lactase activity</td><td>101</td><td>2</td><td>1.08</td><td>33</td><td>0.296</td><td>0.00010</td><td>0.00010</td></tr>\n",
       "\t<tr><th scope=row>4</th><td>GO:0000309</td><td>nicotinamide-nucleotide adenylyltransfer...</td><td>7</td><td>0</td><td>0.08</td><td>54</td><td>1.000</td><td>0.00015</td><td>0.00015</td></tr>\n",
       "\t<tr><th scope=row>5</th><td>GO:0000100</td><td>S-methylmethionine transmembrane transpo...</td><td>35</td><td>1</td><td>0.38</td><td>36</td><td>0.318</td><td>0.00027</td><td>0.00027</td></tr>\n",
       "\t<tr><th scope=row>6</th><td>GO:0000250</td><td>lanosterol synthase activity</td><td>13</td><td>1</td><td>0.14</td><td>13</td><td>0.131</td><td>0.00043</td><td>0.00043</td></tr>\n",
       "\t<tr><th scope=row>7</th><td>GO:0000285</td><td>1-phosphatidylinositol-3-phosphate 5-kin...</td><td>6</td><td>0</td><td>0.06</td><td>55</td><td>1.000</td><td>0.02280</td><td>0.02280</td></tr>\n",
       "\t<tr><th scope=row>8</th><td>GO:0016307</td><td>phosphatidylinositol phosphate kinase ac...</td><td>6</td><td>0</td><td>0.06</td><td>56</td><td>1.000</td><td>0.02280</td><td>0.02280</td></tr>\n",
       "\t<tr><th scope=row>9</th><td>GO:0000257</td><td>nitrilase activity</td><td>3</td><td>0</td><td>0.03</td><td>57</td><td>1.000</td><td>0.05528</td><td>0.05528</td></tr>\n",
       "\t<tr><th scope=row>10</th><td>GO:0016815</td><td>hydrolase activity, acting on carbon-nit...</td><td>3</td><td>0</td><td>0.03</td><td>58</td><td>1.000</td><td>0.05528</td><td>0.05528</td></tr>\n",
       "\t<tr><th scope=row>11</th><td>GO:0000386</td><td>second spliceosomal transesterification ...</td><td>5</td><td>0</td><td>0.05</td><td>59</td><td>1.000</td><td>0.06129</td><td>0.06129</td></tr>\n",
       "\t<tr><th scope=row>12</th><td>GO:0000006</td><td>high-affinity zinc uptake transmembrane ...</td><td>40</td><td>1</td><td>0.43</td><td>38</td><td>0.354</td><td>0.06236</td><td>0.06236</td></tr>\n",
       "\t<tr><th scope=row>13</th><td>GO:0000213</td><td>tRNA-intron endonuclease activity</td><td>11</td><td>0</td><td>0.12</td><td>60</td><td>1.000</td><td>0.09091</td><td>0.09091</td></tr>\n",
       "\t<tr><th scope=row>14</th><td>GO:0004521</td><td>endoribonuclease activity</td><td>11</td><td>0</td><td>0.12</td><td>61</td><td>1.000</td><td>0.09091</td><td>0.09091</td></tr>\n",
       "\t<tr><th scope=row>15</th><td>GO:0004549</td><td>tRNA-specific ribonuclease activity</td><td>11</td><td>0</td><td>0.12</td><td>62</td><td>1.000</td><td>0.09091</td><td>0.09091</td></tr>\n",
       "\t<tr><th scope=row>16</th><td>GO:0016892</td><td>endoribonuclease activity, producing 3'-...</td><td>11</td><td>0</td><td>0.12</td><td>63</td><td>1.000</td><td>0.09091</td><td>0.09091</td></tr>\n",
       "\t<tr><th scope=row>17</th><td>GO:0016894</td><td>endonuclease activity, active with eithe...</td><td>11</td><td>0</td><td>0.12</td><td>64</td><td>1.000</td><td>0.09091</td><td>0.09091</td></tr>\n",
       "\t<tr><th scope=row>18</th><td>GO:0000234</td><td>phosphoethanolamine N-methyltransferase ...</td><td>7</td><td>0</td><td>0.08</td><td>65</td><td>1.000</td><td>0.09176</td><td>0.09176</td></tr>\n",
       "\t<tr><th scope=row>19</th><td>GO:0000035</td><td>acyl binding</td><td>86</td><td>0</td><td>0.92</td><td>66</td><td>1.000</td><td>0.11024</td><td>0.11024</td></tr>\n",
       "\t<tr><th scope=row>20</th><td>GO:0000026</td><td>alpha-1,2-mannosyltransferase activity</td><td>27</td><td>0</td><td>0.29</td><td>67</td><td>1.000</td><td>0.12117</td><td>0.12117</td></tr>\n",
       "\t<tr><th scope=row>21</th><td>GO:0016779</td><td>nucleotidyltransferase activity</td><td>10</td><td>0</td><td>0.11</td><td>68</td><td>1.000</td><td>0.00040</td><td>0.13179</td></tr>\n",
       "\t<tr><th scope=row>22</th><td>GO:0000332</td><td>template for synthesis of G-rich strand ...</td><td>3</td><td>0</td><td>0.03</td><td>69</td><td>1.000</td><td>0.13432</td><td>0.13432</td></tr>\n",
       "\t<tr><th scope=row>23</th><td>GO:0003720</td><td>telomerase activity</td><td>3</td><td>0</td><td>0.03</td><td>70</td><td>1.000</td><td>0.13432</td><td>0.13432</td></tr>\n",
       "\t<tr><th scope=row>24</th><td>GO:0003964</td><td>RNA-directed DNA polymerase activity</td><td>3</td><td>0</td><td>0.03</td><td>71</td><td>1.000</td><td>0.13432</td><td>0.13432</td></tr>\n",
       "\t<tr><th scope=row>25</th><td>GO:0034061</td><td>DNA polymerase activity</td><td>3</td><td>0</td><td>0.03</td><td>72</td><td>1.000</td><td>0.13432</td><td>0.13432</td></tr>\n",
       "\t<tr><th scope=row>26</th><td>GO:0000498</td><td>base pairing with RNA</td><td>2</td><td>0</td><td>0.02</td><td>73</td><td>1.000</td><td>0.13631</td><td>0.13631</td></tr>\n",
       "\t<tr><th scope=row>27</th><td>GO:0016772</td><td>transferase activity, transferring phosp...</td><td>39</td><td>0</td><td>0.42</td><td>74</td><td>1.000</td><td>0.03371</td><td>0.15290</td></tr>\n",
       "\t<tr><th scope=row>28</th><td>GO:0000295</td><td>adenine nucleotide transmembrane transpo...</td><td>1</td><td>0</td><td>0.01</td><td>75</td><td>1.000</td><td>0.16323</td><td>0.16323</td></tr>\n",
       "\t<tr><th scope=row>29</th><td>GO:0015215</td><td>nucleotide transmembrane transporter act...</td><td>1</td><td>0</td><td>0.01</td><td>76</td><td>1.000</td><td>0.16323</td><td>0.16323</td></tr>\n",
       "\t<tr><th scope=row>30</th><td>GO:0015216</td><td>purine nucleotide transmembrane transpor...</td><td>1</td><td>0</td><td>0.01</td><td>77</td><td>1.000</td><td>0.16323</td><td>0.16323</td></tr>\n",
       "\t<tr><th scope=row>31</th><td>GO:0015605</td><td>organophosphate ester transmembrane tran...</td><td>1</td><td>0</td><td>0.01</td><td>78</td><td>1.000</td><td>0.16323</td><td>0.16323</td></tr>\n",
       "\t<tr><th scope=row>32</th><td>GO:1901677</td><td>phosphate transmembrane transporter acti...</td><td>1</td><td>0</td><td>0.01</td><td>79</td><td>1.000</td><td>0.16323</td><td>0.16323</td></tr>\n",
       "\t<tr><th scope=row>33</th><td>GO:0008168</td><td>methyltransferase activity</td><td>13</td><td>0</td><td>0.14</td><td>80</td><td>1.000</td><td>0.17394</td><td>0.17394</td></tr>\n",
       "\t<tr><th scope=row>34</th><td>GO:0008170</td><td>N-methyltransferase activity</td><td>13</td><td>0</td><td>0.14</td><td>81</td><td>1.000</td><td>0.17394</td><td>0.17394</td></tr>\n",
       "\t<tr><th scope=row>35</th><td>GO:0008757</td><td>S-adenosylmethionine-dependent methyltra...</td><td>13</td><td>0</td><td>0.14</td><td>82</td><td>1.000</td><td>0.17394</td><td>0.17394</td></tr>\n",
       "\t<tr><th scope=row>36</th><td>GO:0016741</td><td>transferase activity, transferring one-c...</td><td>13</td><td>0</td><td>0.14</td><td>83</td><td>1.000</td><td>0.17394</td><td>0.17394</td></tr>\n",
       "\t<tr><th scope=row>37</th><td>GO:0000268</td><td>peroxisome targeting sequence binding</td><td>11</td><td>0</td><td>0.12</td><td>84</td><td>1.000</td><td>0.19021</td><td>0.19021</td></tr>\n",
       "\t<tr><th scope=row>38</th><td>GO:0005048</td><td>signal sequence binding</td><td>11</td><td>0</td><td>0.12</td><td>85</td><td>1.000</td><td>0.19021</td><td>0.19021</td></tr>\n",
       "\t<tr><th scope=row>39</th><td>GO:0033218</td><td>amide binding</td><td>11</td><td>0</td><td>0.12</td><td>86</td><td>1.000</td><td>0.19021</td><td>0.19021</td></tr>\n",
       "\t<tr><th scope=row>40</th><td>GO:0042277</td><td>peptide binding</td><td>11</td><td>0</td><td>0.12</td><td>87</td><td>1.000</td><td>0.19021</td><td>0.19021</td></tr>\n",
       "\t<tr><th scope=row>41</th><td>GO:0004540</td><td>ribonuclease activity</td><td>12</td><td>0</td><td>0.13</td><td>88</td><td>1.000</td><td>0.19304</td><td>0.19304</td></tr>\n",
       "\t<tr><th scope=row>42</th><td>GO:0000293</td><td>ferric-chelate reductase activity</td><td>1</td><td>0</td><td>0.01</td><td>89</td><td>1.000</td><td>0.19436</td><td>0.19436</td></tr>\n",
       "\t<tr><th scope=row>43</th><td>GO:0016722</td><td>oxidoreductase activity, oxidizing metal...</td><td>1</td><td>0</td><td>0.01</td><td>90</td><td>1.000</td><td>0.19436</td><td>0.19436</td></tr>\n",
       "\t<tr><th scope=row>44</th><td>GO:0016723</td><td>oxidoreductase activity, oxidizing metal...</td><td>1</td><td>0</td><td>0.01</td><td>91</td><td>1.000</td><td>0.19436</td><td>0.19436</td></tr>\n",
       "\t<tr><th scope=row>45</th><td>GO:0000254</td><td>C-4 methylsterol oxidase activity</td><td>11</td><td>0</td><td>0.12</td><td>92</td><td>1.000</td><td>0.20465</td><td>0.20465</td></tr>\n",
       "\t<tr><th scope=row>46</th><td>GO:0004497</td><td>monooxygenase activity</td><td>11</td><td>0</td><td>0.12</td><td>93</td><td>1.000</td><td>0.20465</td><td>0.20465</td></tr>\n",
       "\t<tr><th scope=row>47</th><td>GO:0016709</td><td>oxidoreductase activity, acting on paire...</td><td>11</td><td>0</td><td>0.12</td><td>94</td><td>1.000</td><td>0.20465</td><td>0.20465</td></tr>\n",
       "\t<tr><th scope=row>48</th><td>GO:0008324</td><td>cation transmembrane transporter activit...</td><td>262</td><td>5</td><td>2.81</td><td>16</td><td>0.134</td><td>4.1e-06</td><td>0.20697</td></tr>\n",
       "\t<tr><th scope=row>49</th><td>GO:0000340</td><td>RNA 7-methylguanosine cap binding</td><td>1</td><td>0</td><td>0.01</td><td>95</td><td>1.000</td><td>0.24230</td><td>0.24230</td></tr>\n",
       "\t<tr><th scope=row>50</th><td>GO:0016301</td><td>kinase activity</td><td>12</td><td>0</td><td>0.13</td><td>96</td><td>1.000</td><td>0.24580</td><td>0.24580</td></tr>\n",
       "</tbody>\n",
       "</table>\n"
      ],
      "text/latex": [
       "\\begin{tabular}{r|lllllllll}\n",
       "  & GO.ID & Term & Annotated & Significant & Expected & Rank in classicFisher & classicFisher & classicKS & elimKS\\\\\n",
       "\\hline\n",
       "\t1 & GO:0000062 & fatty-acyl-CoA binding & 199 & 5 & 2.14 & 4 & 0.051 & 1.4e-09 & 1.4e-09\\\\\n",
       "\t2 & GO:0000064 & L-ornithine transmembrane transporter ac... & 182 & 4 & 1.95 & 12 & 0.121 & 1.3e-06 & 1.3e-06\\\\\n",
       "\t3 & GO:0000016 & lactase activity & 101 & 2 & 1.08 & 33 & 0.296 & 0.00010 & 0.00010\\\\\n",
       "\t4 & GO:0000309 & nicotinamide-nucleotide adenylyltransfer... & 7 & 0 & 0.08 & 54 & 1.000 & 0.00015 & 0.00015\\\\\n",
       "\t5 & GO:0000100 & S-methylmethionine transmembrane transpo... & 35 & 1 & 0.38 & 36 & 0.318 & 0.00027 & 0.00027\\\\\n",
       "\t6 & GO:0000250 & lanosterol synthase activity & 13 & 1 & 0.14 & 13 & 0.131 & 0.00043 & 0.00043\\\\\n",
       "\t7 & GO:0000285 & 1-phosphatidylinositol-3-phosphate 5-kin... & 6 & 0 & 0.06 & 55 & 1.000 & 0.02280 & 0.02280\\\\\n",
       "\t8 & GO:0016307 & phosphatidylinositol phosphate kinase ac... & 6 & 0 & 0.06 & 56 & 1.000 & 0.02280 & 0.02280\\\\\n",
       "\t9 & GO:0000257 & nitrilase activity & 3 & 0 & 0.03 & 57 & 1.000 & 0.05528 & 0.05528\\\\\n",
       "\t10 & GO:0016815 & hydrolase activity, acting on carbon-nit... & 3 & 0 & 0.03 & 58 & 1.000 & 0.05528 & 0.05528\\\\\n",
       "\t11 & GO:0000386 & second spliceosomal transesterification ... & 5 & 0 & 0.05 & 59 & 1.000 & 0.06129 & 0.06129\\\\\n",
       "\t12 & GO:0000006 & high-affinity zinc uptake transmembrane ... & 40 & 1 & 0.43 & 38 & 0.354 & 0.06236 & 0.06236\\\\\n",
       "\t13 & GO:0000213 & tRNA-intron endonuclease activity & 11 & 0 & 0.12 & 60 & 1.000 & 0.09091 & 0.09091\\\\\n",
       "\t14 & GO:0004521 & endoribonuclease activity & 11 & 0 & 0.12 & 61 & 1.000 & 0.09091 & 0.09091\\\\\n",
       "\t15 & GO:0004549 & tRNA-specific ribonuclease activity & 11 & 0 & 0.12 & 62 & 1.000 & 0.09091 & 0.09091\\\\\n",
       "\t16 & GO:0016892 & endoribonuclease activity, producing 3'-... & 11 & 0 & 0.12 & 63 & 1.000 & 0.09091 & 0.09091\\\\\n",
       "\t17 & GO:0016894 & endonuclease activity, active with eithe... & 11 & 0 & 0.12 & 64 & 1.000 & 0.09091 & 0.09091\\\\\n",
       "\t18 & GO:0000234 & phosphoethanolamine N-methyltransferase ... & 7 & 0 & 0.08 & 65 & 1.000 & 0.09176 & 0.09176\\\\\n",
       "\t19 & GO:0000035 & acyl binding & 86 & 0 & 0.92 & 66 & 1.000 & 0.11024 & 0.11024\\\\\n",
       "\t20 & GO:0000026 & alpha-1,2-mannosyltransferase activity & 27 & 0 & 0.29 & 67 & 1.000 & 0.12117 & 0.12117\\\\\n",
       "\t21 & GO:0016779 & nucleotidyltransferase activity & 10 & 0 & 0.11 & 68 & 1.000 & 0.00040 & 0.13179\\\\\n",
       "\t22 & GO:0000332 & template for synthesis of G-rich strand ... & 3 & 0 & 0.03 & 69 & 1.000 & 0.13432 & 0.13432\\\\\n",
       "\t23 & GO:0003720 & telomerase activity & 3 & 0 & 0.03 & 70 & 1.000 & 0.13432 & 0.13432\\\\\n",
       "\t24 & GO:0003964 & RNA-directed DNA polymerase activity & 3 & 0 & 0.03 & 71 & 1.000 & 0.13432 & 0.13432\\\\\n",
       "\t25 & GO:0034061 & DNA polymerase activity & 3 & 0 & 0.03 & 72 & 1.000 & 0.13432 & 0.13432\\\\\n",
       "\t26 & GO:0000498 & base pairing with RNA & 2 & 0 & 0.02 & 73 & 1.000 & 0.13631 & 0.13631\\\\\n",
       "\t27 & GO:0016772 & transferase activity, transferring phosp... & 39 & 0 & 0.42 & 74 & 1.000 & 0.03371 & 0.15290\\\\\n",
       "\t28 & GO:0000295 & adenine nucleotide transmembrane transpo... & 1 & 0 & 0.01 & 75 & 1.000 & 0.16323 & 0.16323\\\\\n",
       "\t29 & GO:0015215 & nucleotide transmembrane transporter act... & 1 & 0 & 0.01 & 76 & 1.000 & 0.16323 & 0.16323\\\\\n",
       "\t30 & GO:0015216 & purine nucleotide transmembrane transpor... & 1 & 0 & 0.01 & 77 & 1.000 & 0.16323 & 0.16323\\\\\n",
       "\t31 & GO:0015605 & organophosphate ester transmembrane tran... & 1 & 0 & 0.01 & 78 & 1.000 & 0.16323 & 0.16323\\\\\n",
       "\t32 & GO:1901677 & phosphate transmembrane transporter acti... & 1 & 0 & 0.01 & 79 & 1.000 & 0.16323 & 0.16323\\\\\n",
       "\t33 & GO:0008168 & methyltransferase activity & 13 & 0 & 0.14 & 80 & 1.000 & 0.17394 & 0.17394\\\\\n",
       "\t34 & GO:0008170 & N-methyltransferase activity & 13 & 0 & 0.14 & 81 & 1.000 & 0.17394 & 0.17394\\\\\n",
       "\t35 & GO:0008757 & S-adenosylmethionine-dependent methyltra... & 13 & 0 & 0.14 & 82 & 1.000 & 0.17394 & 0.17394\\\\\n",
       "\t36 & GO:0016741 & transferase activity, transferring one-c... & 13 & 0 & 0.14 & 83 & 1.000 & 0.17394 & 0.17394\\\\\n",
       "\t37 & GO:0000268 & peroxisome targeting sequence binding & 11 & 0 & 0.12 & 84 & 1.000 & 0.19021 & 0.19021\\\\\n",
       "\t38 & GO:0005048 & signal sequence binding & 11 & 0 & 0.12 & 85 & 1.000 & 0.19021 & 0.19021\\\\\n",
       "\t39 & GO:0033218 & amide binding & 11 & 0 & 0.12 & 86 & 1.000 & 0.19021 & 0.19021\\\\\n",
       "\t40 & GO:0042277 & peptide binding & 11 & 0 & 0.12 & 87 & 1.000 & 0.19021 & 0.19021\\\\\n",
       "\t41 & GO:0004540 & ribonuclease activity & 12 & 0 & 0.13 & 88 & 1.000 & 0.19304 & 0.19304\\\\\n",
       "\t42 & GO:0000293 & ferric-chelate reductase activity & 1 & 0 & 0.01 & 89 & 1.000 & 0.19436 & 0.19436\\\\\n",
       "\t43 & GO:0016722 & oxidoreductase activity, oxidizing metal... & 1 & 0 & 0.01 & 90 & 1.000 & 0.19436 & 0.19436\\\\\n",
       "\t44 & GO:0016723 & oxidoreductase activity, oxidizing metal... & 1 & 0 & 0.01 & 91 & 1.000 & 0.19436 & 0.19436\\\\\n",
       "\t45 & GO:0000254 & C-4 methylsterol oxidase activity & 11 & 0 & 0.12 & 92 & 1.000 & 0.20465 & 0.20465\\\\\n",
       "\t46 & GO:0004497 & monooxygenase activity & 11 & 0 & 0.12 & 93 & 1.000 & 0.20465 & 0.20465\\\\\n",
       "\t47 & GO:0016709 & oxidoreductase activity, acting on paire... & 11 & 0 & 0.12 & 94 & 1.000 & 0.20465 & 0.20465\\\\\n",
       "\t48 & GO:0008324 & cation transmembrane transporter activit... & 262 & 5 & 2.81 & 16 & 0.134 & 4.1e-06 & 0.20697\\\\\n",
       "\t49 & GO:0000340 & RNA 7-methylguanosine cap binding & 1 & 0 & 0.01 & 95 & 1.000 & 0.24230 & 0.24230\\\\\n",
       "\t50 & GO:0016301 & kinase activity & 12 & 0 & 0.13 & 96 & 1.000 & 0.24580 & 0.24580\\\\\n",
       "\\end{tabular}\n"
      ],
      "text/plain": [
       "        GO.ID                                        Term Annotated Significant\n",
       "1  GO:0000062                      fatty-acyl-CoA binding       199           5\n",
       "2  GO:0000064 L-ornithine transmembrane transporter ac...       182           4\n",
       "3  GO:0000016                            lactase activity       101           2\n",
       "4  GO:0000309 nicotinamide-nucleotide adenylyltransfer...         7           0\n",
       "5  GO:0000100 S-methylmethionine transmembrane transpo...        35           1\n",
       "6  GO:0000250                lanosterol synthase activity        13           1\n",
       "7  GO:0000285 1-phosphatidylinositol-3-phosphate 5-kin...         6           0\n",
       "8  GO:0016307 phosphatidylinositol phosphate kinase ac...         6           0\n",
       "9  GO:0000257                          nitrilase activity         3           0\n",
       "10 GO:0016815 hydrolase activity, acting on carbon-nit...         3           0\n",
       "11 GO:0000386 second spliceosomal transesterification ...         5           0\n",
       "12 GO:0000006 high-affinity zinc uptake transmembrane ...        40           1\n",
       "13 GO:0000213           tRNA-intron endonuclease activity        11           0\n",
       "14 GO:0004521                   endoribonuclease activity        11           0\n",
       "15 GO:0004549         tRNA-specific ribonuclease activity        11           0\n",
       "16 GO:0016892 endoribonuclease activity, producing 3'-...        11           0\n",
       "17 GO:0016894 endonuclease activity, active with eithe...        11           0\n",
       "18 GO:0000234 phosphoethanolamine N-methyltransferase ...         7           0\n",
       "19 GO:0000035                                acyl binding        86           0\n",
       "20 GO:0000026      alpha-1,2-mannosyltransferase activity        27           0\n",
       "21 GO:0016779             nucleotidyltransferase activity        10           0\n",
       "22 GO:0000332 template for synthesis of G-rich strand ...         3           0\n",
       "23 GO:0003720                         telomerase activity         3           0\n",
       "24 GO:0003964        RNA-directed DNA polymerase activity         3           0\n",
       "25 GO:0034061                     DNA polymerase activity         3           0\n",
       "26 GO:0000498                       base pairing with RNA         2           0\n",
       "27 GO:0016772 transferase activity, transferring phosp...        39           0\n",
       "28 GO:0000295 adenine nucleotide transmembrane transpo...         1           0\n",
       "29 GO:0015215 nucleotide transmembrane transporter act...         1           0\n",
       "30 GO:0015216 purine nucleotide transmembrane transpor...         1           0\n",
       "31 GO:0015605 organophosphate ester transmembrane tran...         1           0\n",
       "32 GO:1901677 phosphate transmembrane transporter acti...         1           0\n",
       "33 GO:0008168                  methyltransferase activity        13           0\n",
       "34 GO:0008170                N-methyltransferase activity        13           0\n",
       "35 GO:0008757 S-adenosylmethionine-dependent methyltra...        13           0\n",
       "36 GO:0016741 transferase activity, transferring one-c...        13           0\n",
       "37 GO:0000268       peroxisome targeting sequence binding        11           0\n",
       "38 GO:0005048                     signal sequence binding        11           0\n",
       "39 GO:0033218                               amide binding        11           0\n",
       "40 GO:0042277                             peptide binding        11           0\n",
       "41 GO:0004540                       ribonuclease activity        12           0\n",
       "42 GO:0000293           ferric-chelate reductase activity         1           0\n",
       "43 GO:0016722 oxidoreductase activity, oxidizing metal...         1           0\n",
       "44 GO:0016723 oxidoreductase activity, oxidizing metal...         1           0\n",
       "45 GO:0000254           C-4 methylsterol oxidase activity        11           0\n",
       "46 GO:0004497                      monooxygenase activity        11           0\n",
       "47 GO:0016709 oxidoreductase activity, acting on paire...        11           0\n",
       "48 GO:0008324 cation transmembrane transporter activit...       262           5\n",
       "49 GO:0000340           RNA 7-methylguanosine cap binding         1           0\n",
       "50 GO:0016301                             kinase activity        12           0\n",
       "   Expected Rank in classicFisher classicFisher classicKS  elimKS\n",
       "1      2.14                     4         0.051   1.4e-09 1.4e-09\n",
       "2      1.95                    12         0.121   1.3e-06 1.3e-06\n",
       "3      1.08                    33         0.296   0.00010 0.00010\n",
       "4      0.08                    54         1.000   0.00015 0.00015\n",
       "5      0.38                    36         0.318   0.00027 0.00027\n",
       "6      0.14                    13         0.131   0.00043 0.00043\n",
       "7      0.06                    55         1.000   0.02280 0.02280\n",
       "8      0.06                    56         1.000   0.02280 0.02280\n",
       "9      0.03                    57         1.000   0.05528 0.05528\n",
       "10     0.03                    58         1.000   0.05528 0.05528\n",
       "11     0.05                    59         1.000   0.06129 0.06129\n",
       "12     0.43                    38         0.354   0.06236 0.06236\n",
       "13     0.12                    60         1.000   0.09091 0.09091\n",
       "14     0.12                    61         1.000   0.09091 0.09091\n",
       "15     0.12                    62         1.000   0.09091 0.09091\n",
       "16     0.12                    63         1.000   0.09091 0.09091\n",
       "17     0.12                    64         1.000   0.09091 0.09091\n",
       "18     0.08                    65         1.000   0.09176 0.09176\n",
       "19     0.92                    66         1.000   0.11024 0.11024\n",
       "20     0.29                    67         1.000   0.12117 0.12117\n",
       "21     0.11                    68         1.000   0.00040 0.13179\n",
       "22     0.03                    69         1.000   0.13432 0.13432\n",
       "23     0.03                    70         1.000   0.13432 0.13432\n",
       "24     0.03                    71         1.000   0.13432 0.13432\n",
       "25     0.03                    72         1.000   0.13432 0.13432\n",
       "26     0.02                    73         1.000   0.13631 0.13631\n",
       "27     0.42                    74         1.000   0.03371 0.15290\n",
       "28     0.01                    75         1.000   0.16323 0.16323\n",
       "29     0.01                    76         1.000   0.16323 0.16323\n",
       "30     0.01                    77         1.000   0.16323 0.16323\n",
       "31     0.01                    78         1.000   0.16323 0.16323\n",
       "32     0.01                    79         1.000   0.16323 0.16323\n",
       "33     0.14                    80         1.000   0.17394 0.17394\n",
       "34     0.14                    81         1.000   0.17394 0.17394\n",
       "35     0.14                    82         1.000   0.17394 0.17394\n",
       "36     0.14                    83         1.000   0.17394 0.17394\n",
       "37     0.12                    84         1.000   0.19021 0.19021\n",
       "38     0.12                    85         1.000   0.19021 0.19021\n",
       "39     0.12                    86         1.000   0.19021 0.19021\n",
       "40     0.12                    87         1.000   0.19021 0.19021\n",
       "41     0.13                    88         1.000   0.19304 0.19304\n",
       "42     0.01                    89         1.000   0.19436 0.19436\n",
       "43     0.01                    90         1.000   0.19436 0.19436\n",
       "44     0.01                    91         1.000   0.19436 0.19436\n",
       "45     0.12                    92         1.000   0.20465 0.20465\n",
       "46     0.12                    93         1.000   0.20465 0.20465\n",
       "47     0.12                    94         1.000   0.20465 0.20465\n",
       "48     2.81                    16         0.134   4.1e-06 0.20697\n",
       "49     0.01                    95         1.000   0.24230 0.24230\n",
       "50     0.13                    96         1.000   0.24580 0.24580"
      ]
     },
     "execution_count": 163,
     "metadata": {},
     "output_type": "execute_result"
    }
   ],
   "source": [
    "allRes"
   ]
  },
  {
   "cell_type": "code",
   "execution_count": null,
   "metadata": {
    "collapsed": true
   },
   "outputs": [],
   "source": []
  },
  {
   "cell_type": "code",
   "execution_count": 1,
   "metadata": {
    "collapsed": false
   },
   "outputs": [
    {
     "data": {
      "text/html": [
       "2"
      ],
      "text/latex": [
       "2"
      ],
      "text/markdown": [
       "2"
      ],
      "text/plain": [
       "[1] 2"
      ]
     },
     "execution_count": 1,
     "metadata": {},
     "output_type": "execute_result"
    }
   ],
   "source": [
    "#Essentially it goes like this:\n",
    "\n",
    "\n",
    "# All genes in the genome\n",
    "allGenesBed <- read.table(\"/Users/milanmalinsky/mz11-singleCoverGeneNames_GOBed.txt\",as.is=TRUE)\n",
    "\n",
    "# All genes in HDRs - i.e. the ones I am testing\n",
    "allHDRGenesBed <- read.table(\"/Users/milanmalinsky/Sanger_work/Massoko_GO_analysis/all_HDR_intersect.bed\",as.is=TRUE)\n",
    "\n",
    "# Run the ontology analysis\n",
    "HDR_o <- doOntology(allGenesBed,allHDRGenesBed,5)\n",
    "\n",
    "doOntology <- function(allGenesBed, sigGenesBed, minNode) {\n",
    "        geneUniverse <- unique(allGenesBed[,4])\n",
    "        sigGenes <- unique(sigGenesBed[,4])\n",
    "        testList <- factor(as.integer(geneUniverse %in% sigGenes))\n",
    "        names(testList) <- unique(allGenesBed[,4])\n",
    "        GOdata <- new(\"topGOdata\", ontology = \"MF\", allGenes = testList, annot = annFUN.org, mapping = \"org.Dr.eg.db\", ID = \"entrez\", nodeSize=minNode)\n",
    "        GOdataCC <- new(\"topGOdata\", ontology = \"CC\", allGenes = testList, annot = annFUN.org, mapping = \"org.Dr.eg.db\", ID = \"entrez\", nodeSize=minNode)\n",
    "        GOdataBP <- new(\"topGOdata\", ontology = \"BP\", allGenes = testList, annot = annFUN.org, mapping = \"org.Dr.eg.db\", ID = \"entrez\", nodeSize=minNode)\n",
    "        resultFisher <- runTest(GOdata, algorithm = \"classic\", statistic = \"fisher\")\n",
    "        resultFisherWeigth <- runTest(GOdata, algorithm = \"weight\", statistic = \"fisher\")\n",
    "        allRes <- GenTable(GOdata, classic = resultFisher, weight = resultFisherWeigth, orderBy = \"weight\", ranksOf = \"classic\", topNodes = 20)\n",
    "        resultFisherCC <- runTest(GOdataCC, algorithm = \"classic\", statistic = \"fisher\")\n",
    "        resultFisherWeigthCC <- runTest(GOdataCC, algorithm = \"weight\", statistic = \"fisher\")\n",
    "        allResCC <- GenTable(GOdataCC, classic = resultFisherCC, weight = resultFisherWeigthCC, orderBy = \"weight\", ranksOf = \"classic\", topNodes = 20)\n",
    "        resultFisherBP <- runTest(GOdataBP, algorithm = \"classic\", statistic = \"fisher\")\n",
    "        resultFisherWeigthBP <- runTest(GOdataBP, algorithm = \"weight\", statistic = \"fisher\")\n",
    "        allResBP <- GenTable(GOdataBP, classic = resultFisherBP, weight = resultFisherWeigthBP, orderBy = \"weight\", ranksOf = \"classic\", topNodes = 20)\n",
    "        list(allRes,allResCC,allResBP,GOdata,GOdataCC,GOdataBP)\n",
    "}\n",
    "\n",
    "#This gives both classic GO enrichment (i.e. chi-squared test), and the fancy “weighted” one you can read about in the topGO manual and the paper they refer to there. Let me know if you need more help."
   ]
  },
  {
   "cell_type": "code",
   "execution_count": 25,
   "metadata": {
    "collapsed": true
   },
   "outputs": [],
   "source": [
    "p = c(0.1,0.001,0.002,0.0002,0.0001,0.0001)"
   ]
  },
  {
   "cell_type": "code",
   "execution_count": 26,
   "metadata": {
    "collapsed": false
   },
   "outputs": [
    {
     "data": {
      "text/html": [
       "<ol class=list-inline>\n",
       "\t<li>0.1</li>\n",
       "\t<li>0.001</li>\n",
       "\t<li>0.002</li>\n",
       "\t<li>2e-04</li>\n",
       "\t<li>1e-04</li>\n",
       "\t<li>1e-04</li>\n",
       "</ol>\n"
      ],
      "text/latex": [
       "\\begin{enumerate*}\n",
       "\\item 0.1\n",
       "\\item 0.001\n",
       "\\item 0.002\n",
       "\\item 2e-04\n",
       "\\item 1e-04\n",
       "\\item 1e-04\n",
       "\\end{enumerate*}\n"
      ],
      "text/markdown": [
       "1. 0.1\n",
       "2. 0.001\n",
       "3. 0.002\n",
       "4. 2e-04\n",
       "5. 1e-04\n",
       "6. 1e-04\n",
       "\n",
       "\n"
      ],
      "text/plain": [
       "[1] 1e-01 1e-03 2e-03 2e-04 1e-04 1e-04"
      ]
     },
     "execution_count": 26,
     "metadata": {},
     "output_type": "execute_result"
    }
   ],
   "source": [
    "p"
   ]
  },
  {
   "cell_type": "code",
   "execution_count": 27,
   "metadata": {
    "collapsed": false
   },
   "outputs": [
    {
     "data": {
      "text/html": [
       "<ol class=list-inline>\n",
       "\t<li>0.1</li>\n",
       "\t<li>0.003</li>\n",
       "\t<li>0.004</li>\n",
       "\t<li>8e-04</li>\n",
       "\t<li>6e-04</li>\n",
       "\t<li>6e-04</li>\n",
       "</ol>\n"
      ],
      "text/latex": [
       "\\begin{enumerate*}\n",
       "\\item 0.1\n",
       "\\item 0.003\n",
       "\\item 0.004\n",
       "\\item 8e-04\n",
       "\\item 6e-04\n",
       "\\item 6e-04\n",
       "\\end{enumerate*}\n"
      ],
      "text/markdown": [
       "1. 0.1\n",
       "2. 0.003\n",
       "3. 0.004\n",
       "4. 8e-04\n",
       "5. 6e-04\n",
       "6. 6e-04\n",
       "\n",
       "\n"
      ],
      "text/plain": [
       "[1] 1e-01 3e-03 4e-03 8e-04 6e-04 6e-04"
      ]
     },
     "execution_count": 27,
     "metadata": {},
     "output_type": "execute_result"
    }
   ],
   "source": [
    "p.adjust(p, method = 'holm')"
   ]
  },
  {
   "cell_type": "code",
   "execution_count": 28,
   "metadata": {
    "collapsed": false
   },
   "outputs": [
    {
     "data": {
      "text/html": [
       "<ol class=list-inline>\n",
       "\t<li>0.1</li>\n",
       "\t<li>0.003</li>\n",
       "\t<li>0.004</li>\n",
       "\t<li>8e-04</li>\n",
       "\t<li>5e-04</li>\n",
       "\t<li>5e-04</li>\n",
       "</ol>\n"
      ],
      "text/latex": [
       "\\begin{enumerate*}\n",
       "\\item 0.1\n",
       "\\item 0.003\n",
       "\\item 0.004\n",
       "\\item 8e-04\n",
       "\\item 5e-04\n",
       "\\item 5e-04\n",
       "\\end{enumerate*}\n"
      ],
      "text/markdown": [
       "1. 0.1\n",
       "2. 0.003\n",
       "3. 0.004\n",
       "4. 8e-04\n",
       "5. 5e-04\n",
       "6. 5e-04\n",
       "\n",
       "\n"
      ],
      "text/plain": [
       "[1] 1e-01 3e-03 4e-03 8e-04 5e-04 5e-04"
      ]
     },
     "execution_count": 28,
     "metadata": {},
     "output_type": "execute_result"
    }
   ],
   "source": [
    "p.adjust(p, method = 'hochberg')"
   ]
  },
  {
   "cell_type": "code",
   "execution_count": 29,
   "metadata": {
    "collapsed": false
   },
   "outputs": [
    {
     "data": {
      "text/html": [
       "<ol class=list-inline>\n",
       "\t<li>0.1</li>\n",
       "\t<li>0.0015</li>\n",
       "\t<li>0.0024</li>\n",
       "\t<li>4e-04</li>\n",
       "\t<li>3e-04</li>\n",
       "\t<li>3e-04</li>\n",
       "</ol>\n"
      ],
      "text/latex": [
       "\\begin{enumerate*}\n",
       "\\item 0.1\n",
       "\\item 0.0015\n",
       "\\item 0.0024\n",
       "\\item 4e-04\n",
       "\\item 3e-04\n",
       "\\item 3e-04\n",
       "\\end{enumerate*}\n"
      ],
      "text/markdown": [
       "1. 0.1\n",
       "2. 0.0015\n",
       "3. 0.0024\n",
       "4. 4e-04\n",
       "5. 3e-04\n",
       "6. 3e-04\n",
       "\n",
       "\n"
      ],
      "text/plain": [
       "[1] 0.1000 0.0015 0.0024 0.0004 0.0003 0.0003"
      ]
     },
     "execution_count": 29,
     "metadata": {},
     "output_type": "execute_result"
    }
   ],
   "source": [
    "p.adjust(p, method = 'BH')"
   ]
  },
  {
   "cell_type": "code",
   "execution_count": 20,
   "metadata": {
    "collapsed": false
   },
   "outputs": [
    {
     "data": {
      "text/html": [
       "<ol class=list-inline>\n",
       "\t<li>6e-05</li>\n",
       "\t<li>5e-04</li>\n",
       "\t<li>8e-04</li>\n",
       "\t<li>0.003</li>\n",
       "\t<li>0.004</li>\n",
       "\t<li>0.1</li>\n",
       "</ol>\n"
      ],
      "text/latex": [
       "\\begin{enumerate*}\n",
       "\\item 6e-05\n",
       "\\item 5e-04\n",
       "\\item 8e-04\n",
       "\\item 0.003\n",
       "\\item 0.004\n",
       "\\item 0.1\n",
       "\\end{enumerate*}\n"
      ],
      "text/markdown": [
       "1. 6e-05\n",
       "2. 5e-04\n",
       "3. 8e-04\n",
       "4. 0.003\n",
       "5. 0.004\n",
       "6. 0.1\n",
       "\n",
       "\n"
      ],
      "text/plain": [
       "[1] 6e-05 5e-04 8e-04 3e-03 4e-03 1e-01"
      ]
     },
     "execution_count": 20,
     "metadata": {},
     "output_type": "execute_result"
    }
   ],
   "source": [
    "sort(p)*length(p):1"
   ]
  },
  {
   "cell_type": "code",
   "execution_count": 30,
   "metadata": {
    "collapsed": true
   },
   "outputs": [],
   "source": [
    "z <- c(39.389401808000002, 13.42335656, 12.668339525999999, 9.3463560799999996, 10.21835716, 8.6303431639999992,\n",
    "       71.556839025000002, 72.887639234999995, 49.577837178000003, 55.264832901999995, 52.432831846999996,\n",
    "       19.326519536999999, 13.791514039000001, 6.6784930560000006, 3.8844601560000003, 16.685636462000002,\n",
    "       7.5685843210000003, 16.57363939, 6.8045909499999997, 13.691577735999999, 57.454610033999998, 13.892585239000001,\n",
    "       13.806579897000001)"
   ]
  },
  {
   "cell_type": "code",
   "execution_count": 31,
   "metadata": {
    "collapsed": true
   },
   "outputs": [],
   "source": [
    "pvalue2sided=2*pnorm(-abs(z))"
   ]
  },
  {
   "cell_type": "code",
   "execution_count": 32,
   "metadata": {
    "collapsed": false
   },
   "outputs": [
    {
     "data": {
      "text/html": [
       "<ol class=list-inline>\n",
       "\t<li>0</li>\n",
       "\t<li>4.41265143916334e-41</li>\n",
       "\t<li>8.85693838989557e-37</li>\n",
       "\t<li>9.07193821974104e-21</li>\n",
       "\t<li>1.64098307956132e-24</li>\n",
       "\t<li>6.11681735834798e-18</li>\n",
       "\t<li>0</li>\n",
       "\t<li>0</li>\n",
       "\t<li>0</li>\n",
       "\t<li>0</li>\n",
       "\t<li>0</li>\n",
       "\t<li>3.21380261336206e-83</li>\n",
       "\t<li>2.86679401237726e-43</li>\n",
       "\t<li>2.41411662558458e-11</li>\n",
       "\t<li>0.000102557509027252</li>\n",
       "\t<li>1.66719731374683e-62</li>\n",
       "\t<li>3.77313378269182e-14</li>\n",
       "\t<li>1.08081629811752e-61</li>\n",
       "\t<li>1.01336752255746e-11</li>\n",
       "\t<li>1.14006590175806e-42</li>\n",
       "\t<li>0</li>\n",
       "\t<li>7.02531028210069e-44</li>\n",
       "\t<li>2.32616090350456e-43</li>\n",
       "</ol>\n"
      ],
      "text/latex": [
       "\\begin{enumerate*}\n",
       "\\item 0\n",
       "\\item 4.41265143916334e-41\n",
       "\\item 8.85693838989557e-37\n",
       "\\item 9.07193821974104e-21\n",
       "\\item 1.64098307956132e-24\n",
       "\\item 6.11681735834798e-18\n",
       "\\item 0\n",
       "\\item 0\n",
       "\\item 0\n",
       "\\item 0\n",
       "\\item 0\n",
       "\\item 3.21380261336206e-83\n",
       "\\item 2.86679401237726e-43\n",
       "\\item 2.41411662558458e-11\n",
       "\\item 0.000102557509027252\n",
       "\\item 1.66719731374683e-62\n",
       "\\item 3.77313378269182e-14\n",
       "\\item 1.08081629811752e-61\n",
       "\\item 1.01336752255746e-11\n",
       "\\item 1.14006590175806e-42\n",
       "\\item 0\n",
       "\\item 7.02531028210069e-44\n",
       "\\item 2.32616090350456e-43\n",
       "\\end{enumerate*}\n"
      ],
      "text/markdown": [
       "1. 0\n",
       "2. 4.41265143916334e-41\n",
       "3. 8.85693838989557e-37\n",
       "4. 9.07193821974104e-21\n",
       "5. 1.64098307956132e-24\n",
       "6. 6.11681735834798e-18\n",
       "7. 0\n",
       "8. 0\n",
       "9. 0\n",
       "10. 0\n",
       "11. 0\n",
       "12. 3.21380261336206e-83\n",
       "13. 2.86679401237726e-43\n",
       "14. 2.41411662558458e-11\n",
       "15. 0.000102557509027252\n",
       "16. 1.66719731374683e-62\n",
       "17. 3.77313378269182e-14\n",
       "18. 1.08081629811752e-61\n",
       "19. 1.01336752255746e-11\n",
       "20. 1.14006590175806e-42\n",
       "21. 0\n",
       "22. 7.02531028210069e-44\n",
       "23. 2.32616090350456e-43\n",
       "\n",
       "\n"
      ],
      "text/plain": [
       " [1] 0.000000e+00 4.412651e-41 8.856938e-37 9.071938e-21 1.640983e-24\n",
       " [6] 6.116817e-18 0.000000e+00 0.000000e+00 0.000000e+00 0.000000e+00\n",
       "[11] 0.000000e+00 3.213803e-83 2.866794e-43 2.414117e-11 1.025575e-04\n",
       "[16] 1.667197e-62 3.773134e-14 1.080816e-61 1.013368e-11 1.140066e-42\n",
       "[21] 0.000000e+00 7.025310e-44 2.326161e-43"
      ]
     },
     "execution_count": 32,
     "metadata": {},
     "output_type": "execute_result"
    }
   ],
   "source": [
    "pvalue2sided"
   ]
  },
  {
   "cell_type": "code",
   "execution_count": null,
   "metadata": {
    "collapsed": true
   },
   "outputs": [],
   "source": []
  }
 ],
 "metadata": {
  "kernelspec": {
   "display_name": "R",
   "language": "R",
   "name": "ir"
  },
  "language_info": {
   "codemirror_mode": "r",
   "file_extension": ".r",
   "mimetype": "text/x-r-source",
   "name": "R",
   "pygments_lexer": "r",
   "version": "3.2.2"
  }
 },
 "nbformat": 4,
 "nbformat_minor": 0
}
