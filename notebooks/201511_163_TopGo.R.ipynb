{
 "cells": [
  {
   "cell_type": "code",
   "execution_count": 4,
   "metadata": {
    "collapsed": false
   },
   "outputs": [
    {
     "name": "stderr",
     "output_type": "stream",
     "text": [
      "Warning message:\n",
      ": unable to access index for repository https://bioconductor.org/packages/3.1/bioc/src/contribWarning message:\n",
      ": package ‘BiocInstaller’ is not available (for R version 3.2.2)"
     ]
    }
   ],
   "source": [
    "###to be done once\n",
    "#source(\"http://bioconductor.org/biocLite.R\")\n",
    "#install bioclite\n",
    "#biocLite()\n",
    "#install top go\n",
    "#biocLite(\"topGO\")"
   ]
  },
  {
   "cell_type": "code",
   "execution_count": 5,
   "metadata": {
    "collapsed": false
   },
   "outputs": [
    {
     "name": "stderr",
     "output_type": "stream",
     "text": [
      "Loading required package: BiocGenerics\n",
      "Loading required package: parallel\n",
      "\n",
      "Attaching package: ‘BiocGenerics’\n",
      "\n",
      "The following objects are masked from ‘package:parallel’:\n",
      "\n",
      "    clusterApply, clusterApplyLB, clusterCall, clusterEvalQ,\n",
      "    clusterExport, clusterMap, parApply, parCapply, parLapply,\n",
      "    parLapplyLB, parRapply, parSapply, parSapplyLB\n",
      "\n",
      "The following objects are masked from ‘package:stats’:\n",
      "\n",
      "    IQR, mad, xtabs\n",
      "\n",
      "The following objects are masked from ‘package:base’:\n",
      "\n",
      "    anyDuplicated, append, as.data.frame, as.vector, cbind, colnames,\n",
      "    do.call, duplicated, eval, evalq, Filter, Find, get, grep, grepl,\n",
      "    intersect, is.unsorted, lapply, lengths, Map, mapply, match, mget,\n",
      "    order, paste, pmax, pmax.int, pmin, pmin.int, Position, rank,\n",
      "    rbind, Reduce, rownames, sapply, setdiff, sort, table, tapply,\n",
      "    union, unique, unlist, unsplit\n",
      "\n",
      "Loading required package: graph\n",
      "Loading required package: Biobase\n",
      "Welcome to Bioconductor\n",
      "\n",
      "    Vignettes contain introductory material; view with\n",
      "    'browseVignettes()'. To cite Bioconductor, see\n",
      "    'citation(\"Biobase\")', and for packages 'citation(\"pkgname\")'.\n",
      "\n",
      "Loading required package: GO.db\n",
      "Loading required package: AnnotationDbi\n",
      "Loading required package: stats4\n",
      "Loading required package: IRanges\n",
      "Loading required package: S4Vectors\n",
      "Loading required package: DBI\n",
      "\n",
      "Loading required package: SparseM\n",
      "\n",
      "Attaching package: ‘SparseM’\n",
      "\n",
      "The following object is masked from ‘package:base’:\n",
      "\n",
      "    backsolve\n",
      "\n",
      "Warning message:\n",
      ": replacing previous import by ‘graph::.__C__dist’ when loading ‘topGO’"
     ]
    },
    {
     "name": "stdout",
     "output_type": "stream",
     "text": [
      "\n",
      "groupGOTerms: \tGOBPTerm, GOMFTerm, GOCCTerm environments built.\n"
     ]
    },
    {
     "name": "stderr",
     "output_type": "stream",
     "text": [
      "\n",
      "Attaching package: ‘topGO’\n",
      "\n",
      "The following object is masked from ‘package:IRanges’:\n",
      "\n",
      "    members\n",
      "\n"
     ]
    }
   ],
   "source": [
    "library(topGO)"
   ]
  },
  {
   "cell_type": "code",
   "execution_count": 6,
   "metadata": {
    "collapsed": false
   },
   "outputs": [
    {
     "ename": "ERROR",
     "evalue": "Error in library(ALL): there is no package called ‘ALL’\n",
     "output_type": "error",
     "traceback": [
      "Error in library(ALL): there is no package called ‘ALL’\n"
     ]
    }
   ],
   "source": [
    "library(ALL)"
   ]
  },
  {
   "cell_type": "code",
   "execution_count": 2,
   "metadata": {
    "collapsed": false
   },
   "outputs": [
    {
     "name": "stderr",
     "output_type": "stream",
     "text": [
      "https:// URLs are not supported\n",
      "Warning message:\n",
      ": unable to access index for repository https://bioconductor.org/packages/3.2/bioc/src/contribWarning message:\n",
      ": package ‘BiocInstaller’ is not available (for R version 3.2.2)'biocLite.R' failed to install 'BiocInstaller', use\n",
      "  'install.packages(\"BiocInstaller\",\n",
      "  repos=\"https://bioconductor.org/packages/3.1/bioc\")' or\n",
      "  'install.packages(\"BiocInstaller\",\n",
      "  repos=\"http://bioconductor.org/packages/3.1/bioc\")'\n"
     ]
    },
    {
     "ename": "ERROR",
     "evalue": "Error in eval(expr, envir, enclos): could not find function \"biocLite\"\n",
     "output_type": "error",
     "traceback": [
      "Error in eval(expr, envir, enclos): could not find function \"biocLite\"\n"
     ]
    },
    {
     "ename": "ERROR",
     "evalue": "Error in eval(expr, envir, enclos): could not find function \"biocLite\"\n",
     "output_type": "error",
     "traceback": [
      "Error in eval(expr, envir, enclos): could not find function \"biocLite\"\n"
     ]
    },
    {
     "ename": "ERROR",
     "evalue": "Error in eval(expr, envir, enclos): could not find function \"biocLite\"\n",
     "output_type": "error",
     "traceback": [
      "Error in eval(expr, envir, enclos): could not find function \"biocLite\"\n"
     ]
    }
   ],
   "source": [
    "source(\"http://bioconductor.org/biocLite.R\")\n",
    "#biocLite(\"org.Dr.eg.db\") # This is for zebrafish, you want to use your database\n",
    "biocLite(\"GO.db\")\n",
    "biocLite(\"topGO\")\n",
    "#library(\"org.Dr.eg.db\") # This is for zebrafish, you want to use your database\n",
    "#library(\"topGO”)\n",
    "#library(\"GO.db”)"
   ]
  },
  {
   "cell_type": "code",
   "execution_count": 1,
   "metadata": {
    "collapsed": false
   },
   "outputs": [
    {
     "data": {
      "text/html": [
       "2"
      ],
      "text/latex": [
       "2"
      ],
      "text/markdown": [
       "2"
      ],
      "text/plain": [
       "[1] 2"
      ]
     },
     "execution_count": 1,
     "metadata": {},
     "output_type": "execute_result"
    }
   ],
   "source": [
    "#Essentially it goes like this:\n",
    "\n",
    "\n",
    "# All genes in the genome\n",
    "allGenesBed <- read.table(\"/Users/milanmalinsky/mz11-singleCoverGeneNames_GOBed.txt\",as.is=TRUE)\n",
    "\n",
    "# All genes in HDRs - i.e. the ones I am testing\n",
    "allHDRGenesBed <- read.table(\"/Users/milanmalinsky/Sanger_work/Massoko_GO_analysis/all_HDR_intersect.bed\",as.is=TRUE)\n",
    "\n",
    "# Run the ontology analysis\n",
    "HDR_o <- doOntology(allGenesBed,allHDRGenesBed,5)\n",
    "\n",
    "doOntology <- function(allGenesBed, sigGenesBed, minNode) {\n",
    "        geneUniverse <- unique(allGenesBed[,4])\n",
    "        sigGenes <- unique(sigGenesBed[,4])\n",
    "        testList <- factor(as.integer(geneUniverse %in% sigGenes))\n",
    "        names(testList) <- unique(allGenesBed[,4])\n",
    "        GOdata <- new(\"topGOdata\", ontology = \"MF\", allGenes = testList, annot = annFUN.org, mapping = \"org.Dr.eg.db\", ID = \"entrez\", nodeSize=minNode)\n",
    "        GOdataCC <- new(\"topGOdata\", ontology = \"CC\", allGenes = testList, annot = annFUN.org, mapping = \"org.Dr.eg.db\", ID = \"entrez\", nodeSize=minNode)\n",
    "        GOdataBP <- new(\"topGOdata\", ontology = \"BP\", allGenes = testList, annot = annFUN.org, mapping = \"org.Dr.eg.db\", ID = \"entrez\", nodeSize=minNode)\n",
    "        resultFisher <- runTest(GOdata, algorithm = \"classic\", statistic = \"fisher\")\n",
    "        resultFisherWeigth <- runTest(GOdata, algorithm = \"weight\", statistic = \"fisher\")\n",
    "        allRes <- GenTable(GOdata, classic = resultFisher, weight = resultFisherWeigth, orderBy = \"weight\", ranksOf = \"classic\", topNodes = 20)\n",
    "        resultFisherCC <- runTest(GOdataCC, algorithm = \"classic\", statistic = \"fisher\")\n",
    "        resultFisherWeigthCC <- runTest(GOdataCC, algorithm = \"weight\", statistic = \"fisher\")\n",
    "        allResCC <- GenTable(GOdataCC, classic = resultFisherCC, weight = resultFisherWeigthCC, orderBy = \"weight\", ranksOf = \"classic\", topNodes = 20)\n",
    "        resultFisherBP <- runTest(GOdataBP, algorithm = \"classic\", statistic = \"fisher\")\n",
    "        resultFisherWeigthBP <- runTest(GOdataBP, algorithm = \"weight\", statistic = \"fisher\")\n",
    "        allResBP <- GenTable(GOdataBP, classic = resultFisherBP, weight = resultFisherWeigthBP, orderBy = \"weight\", ranksOf = \"classic\", topNodes = 20)\n",
    "        list(allRes,allResCC,allResBP,GOdata,GOdataCC,GOdataBP)\n",
    "}\n",
    "\n",
    "#This gives both classic GO enrichment (i.e. chi-squared test), and the fancy “weighted” one you can read about in the topGO manual and the paper they refer to there. Let me know if you need more help."
   ]
  },
  {
   "cell_type": "code",
   "execution_count": null,
   "metadata": {
    "collapsed": true
   },
   "outputs": [],
   "source": []
  }
 ],
 "metadata": {
  "kernelspec": {
   "display_name": "R",
   "language": "R",
   "name": "ir"
  },
  "language_info": {
   "codemirror_mode": "r",
   "file_extension": ".r",
   "mimetype": "text/x-r-source",
   "name": "R",
   "pygments_lexer": "r",
   "version": "3.2.2"
  }
 },
 "nbformat": 4,
 "nbformat_minor": 0
}
