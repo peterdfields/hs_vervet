{
 "cells": [
  {
   "cell_type": "code",
   "execution_count": 2,
   "metadata": {
    "collapsed": false
   },
   "outputs": [
    {
     "name": "stderr",
     "output_type": "stream",
     "text": [
      "Warning message:\n",
      "In file(filename, \"r\", encoding = encoding): unable to resolve 'wwwcache.sanger.ac.uk'"
     ]
    },
    {
     "ename": "ERROR",
     "evalue": "Error in file(filename, \"r\", encoding = encoding): cannot open the connection\n",
     "output_type": "error",
     "traceback": [
      "Error in file(filename, \"r\", encoding = encoding): cannot open the connection\n"
     ]
    }
   ],
   "source": [
    "source(\"http://bioconductor.org/biocLite.R\")\n",
    "###to be done once\n",
    "#install bioclite\n",
    "#biocLite()\n",
    "#install top go\n",
    "#biocLite(\"topGO\")"
   ]
  },
  {
   "cell_type": "code",
   "execution_count": 3,
   "metadata": {
    "collapsed": false
   },
   "outputs": [
    {
     "ename": "ERROR",
     "evalue": "Error in file(filename, \"r\", encoding = encoding): Couldn't resolve proxy name\n",
     "output_type": "error",
     "traceback": [
      "Error in file(filename, \"r\", encoding = encoding): Couldn't resolve proxy name\n"
     ]
    },
    {
     "ename": "ERROR",
     "evalue": "Error in eval(expr, envir, enclos): could not find function \"biocLite\"\n",
     "output_type": "error",
     "traceback": [
      "Error in eval(expr, envir, enclos): could not find function \"biocLite\"\n"
     ]
    }
   ],
   "source": [
    "source(\"https://bioconductor.org/biocLite.R\"); biocLite(\"org.Hs.eg.db\")"
   ]
  },
  {
   "cell_type": "code",
   "execution_count": 4,
   "metadata": {
    "collapsed": false
   },
   "outputs": [
    {
     "name": "stderr",
     "output_type": "stream",
     "text": [
      "Loading required package: BiocGenerics\n",
      "Loading required package: parallel\n",
      "\n",
      "Attaching package: ‘BiocGenerics’\n",
      "\n",
      "The following objects are masked from ‘package:parallel’:\n",
      "\n",
      "    clusterApply, clusterApplyLB, clusterCall, clusterEvalQ,\n",
      "    clusterExport, clusterMap, parApply, parCapply, parLapply,\n",
      "    parLapplyLB, parRapply, parSapply, parSapplyLB\n",
      "\n",
      "The following objects are masked from ‘package:stats’:\n",
      "\n",
      "    IQR, mad, xtabs\n",
      "\n",
      "The following objects are masked from ‘package:base’:\n",
      "\n",
      "    anyDuplicated, append, as.data.frame, as.vector, cbind, colnames,\n",
      "    do.call, duplicated, eval, evalq, Filter, Find, get, grep, grepl,\n",
      "    intersect, is.unsorted, lapply, lengths, Map, mapply, match, mget,\n",
      "    order, paste, pmax, pmax.int, pmin, pmin.int, Position, rank,\n",
      "    rbind, Reduce, rownames, sapply, setdiff, sort, table, tapply,\n",
      "    union, unique, unlist, unsplit\n",
      "\n",
      "Loading required package: graph\n",
      "Loading required package: Biobase\n",
      "Welcome to Bioconductor\n",
      "\n",
      "    Vignettes contain introductory material; view with\n",
      "    'browseVignettes()'. To cite Bioconductor, see\n",
      "    'citation(\"Biobase\")', and for packages 'citation(\"pkgname\")'.\n",
      "\n",
      "Loading required package: GO.db\n",
      "Loading required package: AnnotationDbi\n",
      "Warning message:\n",
      ": package ‘AnnotationDbi’ was built under R version 3.2.3Loading required package: stats4\n",
      "Loading required package: IRanges\n",
      "Warning message:\n",
      ": package ‘IRanges’ was built under R version 3.2.3Loading required package: S4Vectors\n",
      "Warning message:\n",
      ": package ‘S4Vectors’ was built under R version 3.2.3Loading required package: DBI\n",
      "Warning message:\n",
      ": package ‘DBI’ was built under R version 3.2.5\n",
      "Loading required package: SparseM\n",
      "\n",
      "Attaching package: ‘SparseM’\n",
      "\n",
      "The following object is masked from ‘package:base’:\n",
      "\n",
      "    backsolve\n",
      "\n",
      "Warning message:\n",
      ": replacing previous import by ‘graph::.__C__dist’ when loading ‘topGO’"
     ]
    },
    {
     "name": "stdout",
     "output_type": "stream",
     "text": [
      "\n",
      "groupGOTerms: \tGOBPTerm, GOMFTerm, GOCCTerm environments built.\n"
     ]
    },
    {
     "name": "stderr",
     "output_type": "stream",
     "text": [
      "\n",
      "Attaching package: ‘topGO’\n",
      "\n",
      "The following object is masked from ‘package:IRanges’:\n",
      "\n",
      "    members\n",
      "\n"
     ]
    }
   ],
   "source": [
    "library(topGO)"
   ]
  },
  {
   "cell_type": "code",
   "execution_count": 5,
   "metadata": {
    "collapsed": true
   },
   "outputs": [],
   "source": [
    "xpclr_ana_dir <- \"~/vervet_project/analyses/20150528_UG_xpclr/_data\""
   ]
  },
  {
   "cell_type": "code",
   "execution_count": 6,
   "metadata": {
    "collapsed": false
   },
   "outputs": [],
   "source": [
    "vervet_drive_dir <- \"~/Akademisches/Projects/VervetPopgen\""
   ]
  },
  {
   "cell_type": "markdown",
   "metadata": {
    "collapsed": false
   },
   "source": [
    "## Example\n",
    "from http://bioconductor.org/packages/release/bioc/vignettes/topGO/inst/doc/topGO.pdf"
   ]
  },
  {
   "cell_type": "code",
   "execution_count": 19,
   "metadata": {
    "collapsed": false
   },
   "outputs": [
    {
     "ename": "ERROR",
     "evalue": "Error in library(ALL): there is no package called ‘ALL’\n",
     "output_type": "error",
     "traceback": [
      "Error in library(ALL): there is no package called ‘ALL’\n"
     ]
    },
    {
     "name": "stderr",
     "output_type": "stream",
     "text": [
      "Warning message:\n",
      "In data(ALL): data set ‘ALL’ not found"
     ]
    }
   ],
   "source": [
    "#load example data\n",
    "library(ALL)\n",
    "data(ALL)\n",
    "#geneList is a list of genes with associated p-values\n",
    "data(geneList)"
   ]
  },
  {
   "cell_type": "code",
   "execution_count": 10,
   "metadata": {
    "collapsed": true
   },
   "outputs": [],
   "source": []
  },
  {
   "cell_type": "code",
   "execution_count": 15,
   "metadata": {
    "collapsed": false
   },
   "outputs": [
    {
     "name": "stderr",
     "output_type": "stream",
     "text": [
      "Loading required package: org.Hs.eg.db\n",
      "\n",
      "\n"
     ]
    }
   ],
   "source": [
    "#I think this is the go database\n",
    "affyLib <- paste(annotation(ALL), \"db\", sep = \".\") #name (string)\n",
    "#biocLite(affyLib)\n",
    "library(package = affyLib, character.only = TRUE)"
   ]
  },
  {
   "cell_type": "code",
   "execution_count": 23,
   "metadata": {
    "collapsed": false
   },
   "outputs": [],
   "source": [
    "#this creates a go to gene mapping (done automatically in new(..))\n",
    "#geneToGo <- annFUN.db(whichOnto=\"BP\",affyLib=affyLib)"
   ]
  },
  {
   "cell_type": "code",
   "execution_count": 26,
   "metadata": {
    "collapsed": false
   },
   "outputs": [
    {
     "name": "stdout",
     "output_type": "stream",
     "text": [
      "\n",
      "Building most specific GOs .....\t( 1464 GO terms found. )\n",
      "\n",
      "Build GO DAG topology ..........\t( 4104 GO terms and 9644 relations. )\n",
      "\n",
      "Annotating nodes ...............\t( 310 genes annotated to the GO terms. )\n"
     ]
    }
   ],
   "source": [
    "#create the go object\n",
    "#topDiffGenes is a function that selects significant p-values\n",
    "#nodeSize = 10 includes gene categories with less than 10 genes\n",
    "sampleGOdata <- new(\"topGOdata\",\n",
    "                    description = \"Simple session\", ontology = \"BP\",\n",
    "                    allGenes = geneList, geneSel = topDiffGenes,\n",
    "                    nodeSize = 10,\n",
    "                    annot = annFUN.db, affyLib = affyLib)"
   ]
  },
  {
   "cell_type": "code",
   "execution_count": 28,
   "metadata": {
    "collapsed": false
   },
   "outputs": [
    {
     "name": "stdout",
     "output_type": "stream",
     "text": [
      "\n",
      "\t\t\t -- Classic Algorithm -- \n",
      "\n",
      "\t\t the algorithm is scoring 973 nontrivial nodes\n",
      "\t\t parameters: \n",
      "\t\t\t test statistic:  fisher \n",
      "\n",
      "\t\t\t -- Classic Algorithm -- \n",
      "\n",
      "\t\t the algorithm is scoring 1043 nontrivial nodes\n",
      "\t\t parameters: \n",
      "\t\t\t test statistic:  ks \n",
      "\t\t\t score order:  increasing \n",
      "\n",
      "\t\t\t -- Elim Algorithm -- \n",
      "\n",
      "\t\t the algorithm is scoring 1043 nontrivial nodes\n",
      "\t\t parameters: \n",
      "\t\t\t test statistic:  ks \n",
      "\t\t\t cutOff:  0.01 \n",
      "\t\t\t score order:  increasing \n",
      "\n",
      "\t Level 17:\t1 nodes to be scored\t(0 eliminated genes)\n",
      "\n",
      "\t Level 16:\t1 nodes to be scored\t(0 eliminated genes)\n",
      "\n",
      "\t Level 15:\t1 nodes to be scored\t(0 eliminated genes)\n",
      "\n",
      "\t Level 14:\t8 nodes to be scored\t(0 eliminated genes)\n",
      "\n",
      "\t Level 13:\t17 nodes to be scored\t(0 eliminated genes)\n",
      "\n",
      "\t Level 12:\t31 nodes to be scored\t(0 eliminated genes)\n",
      "\n",
      "\t Level 11:\t33 nodes to be scored\t(10 eliminated genes)\n",
      "\n",
      "\t Level 10:\t52 nodes to be scored\t(20 eliminated genes)\n",
      "\n",
      "\t Level 9:\t88 nodes to be scored\t(20 eliminated genes)\n",
      "\n",
      "\t Level 8:\t126 nodes to be scored\t(29 eliminated genes)\n",
      "\n",
      "\t Level 7:\t171 nodes to be scored\t(104 eliminated genes)\n",
      "\n",
      "\t Level 6:\t178 nodes to be scored\t(209 eliminated genes)\n",
      "\n",
      "\t Level 5:\t158 nodes to be scored\t(217 eliminated genes)\n",
      "\n",
      "\t Level 4:\t115 nodes to be scored\t(233 eliminated genes)\n",
      "\n",
      "\t Level 3:\t42 nodes to be scored\t(233 eliminated genes)\n",
      "\n",
      "\t Level 2:\t20 nodes to be scored\t(233 eliminated genes)\n",
      "\n",
      "\t Level 1:\t1 nodes to be scored\t(233 eliminated genes)\n"
     ]
    }
   ],
   "source": [
    "#classic candidate vs background test\n",
    "resultFisher <- runTest(sampleGOdata, algorithm = \"classic\", statistic = \"fisher\")\n",
    "#run Kolmogorov Smirnov test on expression p-vlaues of all genes\n",
    "resultKS <- runTest(sampleGOdata, algorithm = \"classic\", statistic = \"ks\")\n",
    "#accounts for gene overlap\n",
    "resultKS.elim <- runTest(sampleGOdata, algorithm = \"elim\", statistic = \"ks\")"
   ]
  },
  {
   "cell_type": "code",
   "execution_count": 29,
   "metadata": {
    "collapsed": true
   },
   "outputs": [],
   "source": [
    "allRes <- GenTable(sampleGOdata, classicFisher = resultFisher,\n",
    "  classicKS = resultKS, elimKS = resultKS.elim,\n",
    "  orderBy = \"elimKS\", ranksOf = \"classicFisher\", topNodes = 10)"
   ]
  },
  {
   "cell_type": "code",
   "execution_count": 30,
   "metadata": {
    "collapsed": false
   },
   "outputs": [
    {
     "data": {
      "text/html": [
       "<table>\n",
       "<thead><tr><th></th><th scope=col>GO.ID</th><th scope=col>Term</th><th scope=col>Annotated</th><th scope=col>Significant</th><th scope=col>Expected</th><th scope=col>Rank in classicFisher</th><th scope=col>classicFisher</th><th scope=col>classicKS</th><th scope=col>elimKS</th></tr></thead>\n",
       "<tbody>\n",
       "\t<tr><th scope=row>1</th><td>GO:0007067</td><td>mitotic nuclear division</td><td>173</td><td>17</td><td>25.67</td><td>968</td><td>0.99839</td><td>3.2e-09</td><td>3.2e-09</td></tr>\n",
       "\t<tr><th scope=row>2</th><td>GO:0051301</td><td>cell division</td><td>161</td><td>18</td><td>23.89</td><td>915</td><td>0.97969</td><td>4.9e-08</td><td>4.4e-07</td></tr>\n",
       "\t<tr><th scope=row>3</th><td>GO:0032465</td><td>regulation of cytokinesis</td><td>13</td><td>3</td><td>1.93</td><td>334</td><td>0.30050</td><td>0.00120</td><td>0.0012</td></tr>\n",
       "\t<tr><th scope=row>4</th><td>GO:0007059</td><td>chromosome segregation</td><td>77</td><td>5</td><td>11.43</td><td>960</td><td>0.99700</td><td>0.00126</td><td>0.0013</td></tr>\n",
       "\t<tr><th scope=row>5</th><td>GO:0051726</td><td>regulation of cell cycle</td><td>128</td><td>17</td><td>18.99</td><td>636</td><td>0.78999</td><td>0.00014</td><td>0.0013</td></tr>\n",
       "\t<tr><th scope=row>6</th><td>GO:0045931</td><td>positive regulation of mitotic cell cycl...</td><td>40</td><td>5</td><td>5.94</td><td>592</td><td>0.74532</td><td>0.00175</td><td>0.0017</td></tr>\n",
       "\t<tr><th scope=row>7</th><td>GO:0033077</td><td>T cell differentiation in thymus</td><td>10</td><td>6</td><td>1.48</td><td>8</td><td>0.00104</td><td>0.00186</td><td>0.0019</td></tr>\n",
       "\t<tr><th scope=row>8</th><td>GO:0002757</td><td>immune response-activating signal transd...</td><td>11</td><td>7</td><td>1.63</td><td>2</td><td>0.00021</td><td>0.00208</td><td>0.0021</td></tr>\n",
       "\t<tr><th scope=row>9</th><td>GO:0042108</td><td>positive regulation of cytokine biosynth...</td><td>18</td><td>6</td><td>2.67</td><td>107</td><td>0.03527</td><td>0.00252</td><td>0.0025</td></tr>\n",
       "\t<tr><th scope=row>10</th><td>GO:0090068</td><td>positive regulation of cell cycle proces...</td><td>38</td><td>3</td><td>5.64</td><td>845</td><td>0.94667</td><td>0.00283</td><td>0.0028</td></tr>\n",
       "</tbody>\n",
       "</table>\n"
      ],
      "text/latex": [
       "\\begin{tabular}{r|lllllllll}\n",
       "  & GO.ID & Term & Annotated & Significant & Expected & Rank in classicFisher & classicFisher & classicKS & elimKS\\\\\n",
       "\\hline\n",
       "\t1 & GO:0007067 & mitotic nuclear division & 173 & 17 & 25.67 & 968 & 0.99839 & 3.2e-09 & 3.2e-09\\\\\n",
       "\t2 & GO:0051301 & cell division & 161 & 18 & 23.89 & 915 & 0.97969 & 4.9e-08 & 4.4e-07\\\\\n",
       "\t3 & GO:0032465 & regulation of cytokinesis & 13 & 3 & 1.93 & 334 & 0.30050 & 0.00120 & 0.0012\\\\\n",
       "\t4 & GO:0007059 & chromosome segregation & 77 & 5 & 11.43 & 960 & 0.99700 & 0.00126 & 0.0013\\\\\n",
       "\t5 & GO:0051726 & regulation of cell cycle & 128 & 17 & 18.99 & 636 & 0.78999 & 0.00014 & 0.0013\\\\\n",
       "\t6 & GO:0045931 & positive regulation of mitotic cell cycl... & 40 & 5 & 5.94 & 592 & 0.74532 & 0.00175 & 0.0017\\\\\n",
       "\t7 & GO:0033077 & T cell differentiation in thymus & 10 & 6 & 1.48 & 8 & 0.00104 & 0.00186 & 0.0019\\\\\n",
       "\t8 & GO:0002757 & immune response-activating signal transd... & 11 & 7 & 1.63 & 2 & 0.00021 & 0.00208 & 0.0021\\\\\n",
       "\t9 & GO:0042108 & positive regulation of cytokine biosynth... & 18 & 6 & 2.67 & 107 & 0.03527 & 0.00252 & 0.0025\\\\\n",
       "\t10 & GO:0090068 & positive regulation of cell cycle proces... & 38 & 3 & 5.64 & 845 & 0.94667 & 0.00283 & 0.0028\\\\\n",
       "\\end{tabular}\n"
      ],
      "text/plain": [
       "        GO.ID                                        Term Annotated Significant\n",
       "1  GO:0007067                    mitotic nuclear division       173          17\n",
       "2  GO:0051301                               cell division       161          18\n",
       "3  GO:0032465                   regulation of cytokinesis        13           3\n",
       "4  GO:0007059                      chromosome segregation        77           5\n",
       "5  GO:0051726                    regulation of cell cycle       128          17\n",
       "6  GO:0045931 positive regulation of mitotic cell cycl...        40           5\n",
       "7  GO:0033077            T cell differentiation in thymus        10           6\n",
       "8  GO:0002757 immune response-activating signal transd...        11           7\n",
       "9  GO:0042108 positive regulation of cytokine biosynth...        18           6\n",
       "10 GO:0090068 positive regulation of cell cycle proces...        38           3\n",
       "   Expected Rank in classicFisher classicFisher classicKS  elimKS\n",
       "1     25.67                   968       0.99839   3.2e-09 3.2e-09\n",
       "2     23.89                   915       0.97969   4.9e-08 4.4e-07\n",
       "3      1.93                   334       0.30050   0.00120  0.0012\n",
       "4     11.43                   960       0.99700   0.00126  0.0013\n",
       "5     18.99                   636       0.78999   0.00014  0.0013\n",
       "6      5.94                   592       0.74532   0.00175  0.0017\n",
       "7      1.48                     8       0.00104   0.00186  0.0019\n",
       "8      1.63                     2       0.00021   0.00208  0.0021\n",
       "9      2.67                   107       0.03527   0.00252  0.0025\n",
       "10     5.64                   845       0.94667   0.00283  0.0028"
      ]
     },
     "execution_count": 30,
     "metadata": {},
     "output_type": "execute_result"
    }
   ],
   "source": [
    "allRes"
   ]
  },
  {
   "cell_type": "markdown",
   "metadata": {},
   "source": [
    "## Vervet with standard go annotations"
   ]
  },
  {
   "cell_type": "code",
   "execution_count": 14,
   "metadata": {
    "collapsed": false
   },
   "outputs": [
    {
     "data": {
      "text/html": [
       "<ol class=list-inline>\n",
       "\t<li>'/Users/hs10/Library/R/3.2/library'</li>\n",
       "\t<li>'/Library/Frameworks/R.framework/Versions/3.2/Resources/library'</li>\n",
       "</ol>\n"
      ],
      "text/latex": [
       "\\begin{enumerate*}\n",
       "\\item '/Users/hs10/Library/R/3.2/library'\n",
       "\\item '/Library/Frameworks/R.framework/Versions/3.2/Resources/library'\n",
       "\\end{enumerate*}\n"
      ],
      "text/markdown": [
       "1. '/Users/hs10/Library/R/3.2/library'\n",
       "2. '/Library/Frameworks/R.framework/Versions/3.2/Resources/library'\n",
       "\n",
       "\n"
      ],
      "text/plain": [
       "[1] \"/Users/hs10/Library/R/3.2/library\"                             \n",
       "[2] \"/Library/Frameworks/R.framework/Versions/3.2/Resources/library\""
      ]
     },
     "execution_count": 14,
     "metadata": {},
     "output_type": "execute_result"
    }
   ],
   "source": [
    ".libPaths()"
   ]
  },
  {
   "cell_type": "code",
   "execution_count": 7,
   "metadata": {
    "collapsed": false
   },
   "outputs": [],
   "source": [
    "read_scores <- function(fn){\n",
    "    t <- read.table(fn, header=TRUE, row.names=1)\n",
    "    score_vec <- as.vector(t[[\"score\"]])\n",
    "    names(score_vec) <- row.names(t)\n",
    "    return(score_vec)\n",
    "    }"
   ]
  },
  {
   "cell_type": "code",
   "execution_count": 8,
   "metadata": {
    "collapsed": false
   },
   "outputs": [],
   "source": [
    "#geneScores <- read.table('/home/GMI/hannes.svardal/vervet_project/analyses/20150528_UG_xpclr/_data/rms_zscore_gene_mean.tsv',header=TRUE,row.names=1)\n",
    "\n",
    "#geneScoresMax <- read.table('/home/GMI/hannes.svardal/vervet_project/analyses/20150528_UG_xpclr/_data/rms_zscores_gene_max_exons.tsv',header=TRUE,row.names=1)\n",
    "\n",
    "rms_max_scores_exons <- read_scores(paste(vervet_drive_dir,'scratch','rms_zscores_gene_max_exons.tsv',sep='/'))\n",
    "rms_mean_scores <- read_scores(paste(vervet_drive_dir,'scratch','rms_zscore_gene_mean.tsv',sep='/'))\n"
   ]
  },
  {
   "cell_type": "code",
   "execution_count": 9,
   "metadata": {
    "collapsed": false
   },
   "outputs": [
    {
     "name": "stderr",
     "output_type": "stream",
     "text": [
      "\n"
     ]
    }
   ],
   "source": [
    "#human whole genome annotation\n",
    "library(\"org.Hs.eg.db\")"
   ]
  },
  {
   "cell_type": "code",
   "execution_count": 10,
   "metadata": {
    "collapsed": true
   },
   "outputs": [],
   "source": [
    "selFun99 <- function(col) {\n",
    "    return(col>quantile(col,0.99))\n",
    "}\n",
    "selFun95 <- function(col) {\n",
    "    return(col>quantile(col,0.95))\n",
    "}\n",
    "selFun995 <- function(col) {\n",
    "    return(col>quantile(col,0.995))\n",
    "}"
   ]
  },
  {
   "cell_type": "code",
   "execution_count": 13,
   "metadata": {
    "collapsed": true
   },
   "outputs": [],
   "source": [
    "selFun <- function(col,quantile) {\n",
    "    return(col>quantile(col,quantile))\n",
    "}"
   ]
  },
  {
   "cell_type": "code",
   "execution_count": null,
   "metadata": {
    "collapsed": true
   },
   "outputs": [],
   "source": []
  },
  {
   "cell_type": "code",
   "execution_count": 12,
   "metadata": {
    "collapsed": true
   },
   "outputs": [],
   "source": [
    "runTopGOKS <-function(gene_score_vec, name, min_genes) {\n",
    "    GOdata <- new(\"topGOdata\",\n",
    "             description = \"Go data.\", ontology = \"BP\",\n",
    "                    allGenes = gene_score_vec, geneSel = (function (x) TRUE),\n",
    "                    nodeSize = min_genes,\n",
    "                    annot = annFUN.org, mapping = \"org.Hs.eg.db\", ID = \"symbol\") #human go\n",
    "    resultKS_weight01 <- runTest(GOdata, \n",
    "                             algorithm = \"weight01\", statistic = \"ks\", scoreOrder='decreasing')\n",
    "    #n_lt0p01 <- sum(score(resultKS_weight01)<0.01)\n",
    "    sign_table <- GenTable(GOdata, weight01KS = resultKS_weight01,\n",
    "                            orderBy = \"weight01KS\", topNodes =length(score(resultKS_weight01)))#\n",
    "    write.table(sign_table,paste(vervet_drive_dir,'XPCLR',paste('xpclr_rms_',name,'_topgo_weight01KS.tsv',sep=''),sep='/'),\n",
    "            sep='\\t',quote=FALSE,row.names=FALSE)\n",
    "    return(sign_table)                    \n",
    "}"
   ]
  },
  {
   "cell_type": "code",
   "execution_count": 13,
   "metadata": {
    "collapsed": false
   },
   "outputs": [
    {
     "name": "stdout",
     "output_type": "stream",
     "text": [
      "\n",
      "Building most specific GOs .....\t( 10308 GO terms found. )\n",
      "\n",
      "Build GO DAG topology ..........\t( 13955 GO terms and 33446 relations. )\n",
      "\n",
      "Annotating nodes ...............\t( 13319 genes annotated to the GO terms. )\n",
      "\n",
      "\t\t\t -- Weight01 Algorithm -- \n",
      "\n",
      "\t\t the algorithm is scoring 5777 nontrivial nodes\n",
      "\t\t parameters: \n",
      "\t\t\t test statistic:  ks \n",
      "\t\t\t score order:  decreasing \n",
      "\n",
      "\t Level 18:\t1 nodes to be scored\t(0 eliminated genes)\n",
      "\n",
      "\t Level 17:\t5 nodes to be scored\t(0 eliminated genes)\n",
      "\n",
      "\t Level 16:\t19 nodes to be scored\t(11 eliminated genes)\n",
      "\n",
      "\t Level 15:\t47 nodes to be scored\t(89 eliminated genes)\n",
      "\n",
      "\t Level 14:\t115 nodes to be scored\t(309 eliminated genes)\n",
      "\n",
      "\t Level 13:\t199 nodes to be scored\t(796 eliminated genes)\n",
      "\n",
      "\t Level 12:\t322 nodes to be scored\t(2021 eliminated genes)\n",
      "\n",
      "\t Level 11:\t503 nodes to be scored\t(3767 eliminated genes)\n",
      "\n",
      "\t Level 10:\t663 nodes to be scored\t(5362 eliminated genes)\n",
      "\n",
      "\t Level 9:\t817 nodes to be scored\t(7585 eliminated genes)\n",
      "\n",
      "\t Level 8:\t843 nodes to be scored\t(9259 eliminated genes)\n",
      "\n",
      "\t Level 7:\t839 nodes to be scored\t(10417 eliminated genes)\n",
      "\n",
      "\t Level 6:\t660 nodes to be scored\t(11470 eliminated genes)\n",
      "\n",
      "\t Level 5:\t444 nodes to be scored\t(12064 eliminated genes)\n",
      "\n",
      "\t Level 4:\t217 nodes to be scored\t(12639 eliminated genes)\n",
      "\n",
      "\t Level 3:\t61 nodes to be scored\t(12836 eliminated genes)\n",
      "\n",
      "\t Level 2:\t21 nodes to be scored\t(13001 eliminated genes)\n",
      "\n",
      "\t Level 1:\t1 nodes to be scored\t(13067 eliminated genes)\n"
     ]
    }
   ],
   "source": [
    "xcplr_mean_KS <- runTopGOKS(rms_mean_scores, \"mean\", min_genes=10)"
   ]
  },
  {
   "cell_type": "code",
   "execution_count": null,
   "metadata": {
    "collapsed": true
   },
   "outputs": [],
   "source": []
  },
  {
   "cell_type": "code",
   "execution_count": 16,
   "metadata": {
    "collapsed": false
   },
   "outputs": [
    {
     "data": {
      "text/html": [
       "<ol class=list-inline>\n",
       "\t<li>'GO:0031497'</li>\n",
       "\t<li>'chromatin assembly'</li>\n",
       "\t<li>'   70'</li>\n",
       "\t<li>'   70'</li>\n",
       "\t<li>'   70'</li>\n",
       "\t<li>'0.00037'</li>\n",
       "</ol>\n"
      ],
      "text/latex": [
       "\\begin{enumerate*}\n",
       "\\item 'GO:0031497'\n",
       "\\item 'chromatin assembly'\n",
       "\\item '   70'\n",
       "\\item '   70'\n",
       "\\item '   70'\n",
       "\\item '0.00037'\n",
       "\\end{enumerate*}\n"
      ],
      "text/markdown": [
       "1. 'GO:0031497'\n",
       "2. 'chromatin assembly'\n",
       "3. '   70'\n",
       "4. '   70'\n",
       "5. '   70'\n",
       "6. '0.00037'\n",
       "\n",
       "\n"
      ],
      "text/plain": [
       "[1] \"GO:0031497\"         \"chromatin assembly\" \"   70\"             \n",
       "[4] \"   70\"              \"   70\"              \"0.00037\"           "
      ]
     },
     "execution_count": 16,
     "metadata": {},
     "output_type": "execute_result"
    }
   ],
   "source": [
    "xcplr_mean_KS[xcplr_mean_KS[\"GO.ID\"]==\"GO:0031497\"]"
   ]
  },
  {
   "cell_type": "code",
   "execution_count": null,
   "metadata": {
    "collapsed": true
   },
   "outputs": [],
   "source": []
  },
  {
   "cell_type": "code",
   "execution_count": 25,
   "metadata": {
    "collapsed": true
   },
   "outputs": [],
   "source": [
    "michal_sel_scores <- read_scores(paste(vervet_drive_dir,\"Michal\",\"Meta-analysis.tsv\",sep='/'))"
   ]
  },
  {
   "cell_type": "code",
   "execution_count": 26,
   "metadata": {
    "collapsed": false
   },
   "outputs": [
    {
     "name": "stdout",
     "output_type": "stream",
     "text": [
      "\n",
      "Building most specific GOs .....\t( 8707 GO terms found. )\n",
      "\n",
      "Build GO DAG topology ..........\t( 12513 GO terms and 29859 relations. )\n",
      "\n",
      "Annotating nodes ...............\t( 8673 genes annotated to the GO terms. )\n",
      "\n",
      "\t\t\t -- Weight01 Algorithm -- \n",
      "\n",
      "\t\t the algorithm is scoring 4544 nontrivial nodes\n",
      "\t\t parameters: \n",
      "\t\t\t test statistic:  ks \n",
      "\t\t\t score order:  decreasing \n",
      "\n",
      "\t Level 17:\t3 nodes to be scored\t(0 eliminated genes)\n",
      "\n",
      "\t Level 16:\t12 nodes to be scored\t(0 eliminated genes)\n",
      "\n",
      "\t Level 15:\t31 nodes to be scored\t(44 eliminated genes)\n",
      "\n",
      "\t Level 14:\t74 nodes to be scored\t(177 eliminated genes)\n",
      "\n",
      "\t Level 13:\t142 nodes to be scored\t(410 eliminated genes)\n",
      "\n",
      "\t Level 12:\t210 nodes to be scored\t(1168 eliminated genes)\n",
      "\n",
      "\t Level 11:\t344 nodes to be scored\t(2247 eliminated genes)\n",
      "\n",
      "\t Level 10:\t483 nodes to be scored\t(3152 eliminated genes)\n",
      "\n",
      "\t Level 9:\t632 nodes to be scored\t(4609 eliminated genes)\n",
      "\n",
      "\t Level 8:\t656 nodes to be scored\t(5698 eliminated genes)\n",
      "\n",
      "\t Level 7:\t690 nodes to be scored\t(6708 eliminated genes)\n",
      "\n",
      "\t Level 6:\t580 nodes to be scored\t(7396 eliminated genes)\n",
      "\n",
      "\t Level 5:\t403 nodes to be scored\t(7783 eliminated genes)\n",
      "\n",
      "\t Level 4:\t203 nodes to be scored\t(8177 eliminated genes)\n",
      "\n",
      "\t Level 3:\t59 nodes to be scored\t(8318 eliminated genes)\n",
      "\n",
      "\t Level 2:\t21 nodes to be scored\t(8443 eliminated genes)\n",
      "\n",
      "\t Level 1:\t1 nodes to be scored\t(8481 eliminated genes)\n"
     ]
    }
   ],
   "source": [
    "xcplr_michal_KS <- runTopGOKS(michal_sel_scores, \"michal_sel\", min_genes=10)"
   ]
  },
  {
   "cell_type": "code",
   "execution_count": 29,
   "metadata": {
    "collapsed": false
   },
   "outputs": [
    {
     "data": {
      "text/html": [
       "<table>\n",
       "<thead><tr><th></th><th scope=col>GO.ID</th><th scope=col>Term</th><th scope=col>Annotated</th><th scope=col>Significant</th><th scope=col>Expected</th><th scope=col>weight01KS</th></tr></thead>\n",
       "<tbody>\n",
       "\t<tr><th scope=row>1</th><td>GO:0050911</td><td>detection of chemical stimulus involved ...</td><td>200</td><td>200</td><td>200</td><td>8.3e-13</td></tr>\n",
       "\t<tr><th scope=row>2</th><td>GO:0007186</td><td>G-protein coupled receptor signaling pat...</td><td>591</td><td>591</td><td>591</td><td>8.2e-07</td></tr>\n",
       "\t<tr><th scope=row>3</th><td>GO:0006417</td><td>regulation of translation</td><td>148</td><td>148</td><td>148</td><td>0.00070</td></tr>\n",
       "\t<tr><th scope=row>4</th><td>GO:0035774</td><td>positive regulation of insulin secretion...</td><td>12</td><td>12</td><td>12</td><td>0.00075</td></tr>\n",
       "\t<tr><th scope=row>5</th><td>GO:0035556</td><td>intracellular signal transduction</td><td>1463</td><td>1463</td><td>1463</td><td>0.00082</td></tr>\n",
       "\t<tr><th scope=row>6</th><td>GO:0006069</td><td>ethanol oxidation</td><td>11</td><td>11</td><td>11</td><td>0.00179</td></tr>\n",
       "\t<tr><th scope=row>7</th><td>GO:0050850</td><td>positive regulation of calcium-mediated ...</td><td>14</td><td>14</td><td>14</td><td>0.00203</td></tr>\n",
       "\t<tr><th scope=row>8</th><td>GO:0032504</td><td>multicellular organism reproduction</td><td>406</td><td>406</td><td>406</td><td>0.00217</td></tr>\n",
       "\t<tr><th scope=row>9</th><td>GO:0050771</td><td>negative regulation of axonogenesis</td><td>32</td><td>32</td><td>32</td><td>0.00234</td></tr>\n",
       "\t<tr><th scope=row>10</th><td>GO:0051453</td><td>regulation of intracellular pH</td><td>34</td><td>34</td><td>34</td><td>0.00243</td></tr>\n",
       "\t<tr><th scope=row>11</th><td>GO:0043368</td><td>positive T cell selection</td><td>15</td><td>15</td><td>15</td><td>0.00245</td></tr>\n",
       "\t<tr><th scope=row>12</th><td>GO:2001244</td><td>positive regulation of intrinsic apoptot...</td><td>30</td><td>30</td><td>30</td><td>0.00302</td></tr>\n",
       "\t<tr><th scope=row>13</th><td>GO:0010996</td><td>response to auditory stimulus</td><td>13</td><td>13</td><td>13</td><td>0.00313</td></tr>\n",
       "\t<tr><th scope=row>14</th><td>GO:1902176</td><td>negative regulation of oxidative stress-...</td><td>14</td><td>14</td><td>14</td><td>0.00318</td></tr>\n",
       "\t<tr><th scope=row>15</th><td>GO:0035690</td><td>cellular response to drug</td><td>26</td><td>26</td><td>26</td><td>0.00335</td></tr>\n",
       "\t<tr><th scope=row>16</th><td>GO:0045736</td><td>negative regulation of cyclin-dependent ...</td><td>12</td><td>12</td><td>12</td><td>0.00358</td></tr>\n",
       "\t<tr><th scope=row>17</th><td>GO:0006111</td><td>regulation of gluconeogenesis</td><td>19</td><td>19</td><td>19</td><td>0.00453</td></tr>\n",
       "\t<tr><th scope=row>18</th><td>GO:0043534</td><td>blood vessel endothelial cell migration</td><td>35</td><td>35</td><td>35</td><td>0.00498</td></tr>\n",
       "\t<tr><th scope=row>19</th><td>GO:0055119</td><td>relaxation of cardiac muscle</td><td>12</td><td>12</td><td>12</td><td>0.00571</td></tr>\n",
       "\t<tr><th scope=row>20</th><td>GO:0001656</td><td>metanephros development</td><td>44</td><td>44</td><td>44</td><td>0.00579</td></tr>\n",
       "\t<tr><th scope=row>21</th><td>GO:0007507</td><td>heart development</td><td>265</td><td>265</td><td>265</td><td>0.00584</td></tr>\n",
       "\t<tr><th scope=row>22</th><td>GO:0048538</td><td>thymus development</td><td>24</td><td>24</td><td>24</td><td>0.00633</td></tr>\n",
       "\t<tr><th scope=row>23</th><td>GO:0001569</td><td>patterning of blood vessels</td><td>18</td><td>18</td><td>18</td><td>0.00636</td></tr>\n",
       "\t<tr><th scope=row>24</th><td>GO:0021952</td><td>central nervous system projection neuron...</td><td>11</td><td>11</td><td>11</td><td>0.00661</td></tr>\n",
       "\t<tr><th scope=row>25</th><td>GO:0007517</td><td>muscle organ development</td><td>183</td><td>183</td><td>183</td><td>0.00717</td></tr>\n",
       "\t<tr><th scope=row>26</th><td>GO:0031670</td><td>cellular response to nutrient</td><td>16</td><td>16</td><td>16</td><td>0.00728</td></tr>\n",
       "\t<tr><th scope=row>27</th><td>GO:0022604</td><td>regulation of cell morphogenesis</td><td>287</td><td>287</td><td>287</td><td>0.00820</td></tr>\n",
       "\t<tr><th scope=row>28</th><td>GO:0060441</td><td>epithelial tube branching involved in lu...</td><td>17</td><td>17</td><td>17</td><td>0.00848</td></tr>\n",
       "\t<tr><th scope=row>29</th><td>GO:0070126</td><td>mitochondrial translational termination</td><td>50</td><td>50</td><td>50</td><td>0.00905</td></tr>\n",
       "\t<tr><th scope=row>30</th><td>GO:0071356</td><td>cellular response to tumor necrosis fact...</td><td>122</td><td>122</td><td>122</td><td>0.00910</td></tr>\n",
       "\t<tr><th scope=row>31</th><td>GO:0097237</td><td>cellular response to toxic substance</td><td>10</td><td>10</td><td>10</td><td>0.00929</td></tr>\n",
       "\t<tr><th scope=row>32</th><td>GO:0048015</td><td>phosphatidylinositol-mediated signaling</td><td>101</td><td>101</td><td>101</td><td>0.00946</td></tr>\n",
       "\t<tr><th scope=row>33</th><td>GO:0007214</td><td>gamma-aminobutyric acid signaling pathwa...</td><td>13</td><td>13</td><td>13</td><td>0.01023</td></tr>\n",
       "\t<tr><th scope=row>34</th><td>GO:0032963</td><td>collagen metabolic process</td><td>61</td><td>61</td><td>61</td><td>0.01044</td></tr>\n",
       "\t<tr><th scope=row>35</th><td>GO:0045582</td><td>positive regulation of T cell differenti...</td><td>26</td><td>26</td><td>26</td><td>0.01045</td></tr>\n",
       "\t<tr><th scope=row>36</th><td>GO:0043550</td><td>regulation of lipid kinase activity</td><td>25</td><td>25</td><td>25</td><td>0.01057</td></tr>\n",
       "\t<tr><th scope=row>37</th><td>GO:0051281</td><td>positive regulation of release of seques...</td><td>16</td><td>16</td><td>16</td><td>0.01062</td></tr>\n",
       "\t<tr><th scope=row>38</th><td>GO:0045666</td><td>positive regulation of neuron differenti...</td><td>166</td><td>166</td><td>166</td><td>0.01068</td></tr>\n",
       "\t<tr><th scope=row>39</th><td>GO:0010594</td><td>regulation of endothelial cell migration</td><td>54</td><td>54</td><td>54</td><td>0.01098</td></tr>\n",
       "\t<tr><th scope=row>40</th><td>GO:0045667</td><td>regulation of osteoblast differentiation</td><td>53</td><td>53</td><td>53</td><td>0.01122</td></tr>\n",
       "\t<tr><th scope=row>41</th><td>GO:0090303</td><td>positive regulation of wound healing</td><td>25</td><td>25</td><td>25</td><td>0.01131</td></tr>\n",
       "\t<tr><th scope=row>42</th><td>GO:0007157</td><td>heterophilic cell-cell adhesion via plas...</td><td>23</td><td>23</td><td>23</td><td>0.01179</td></tr>\n",
       "\t<tr><th scope=row>43</th><td>GO:0006508</td><td>proteolysis</td><td>805</td><td>805</td><td>805</td><td>0.01200</td></tr>\n",
       "\t<tr><th scope=row>44</th><td>GO:0018105</td><td>peptidyl-serine phosphorylation</td><td>133</td><td>133</td><td>133</td><td>0.01205</td></tr>\n",
       "\t<tr><th scope=row>45</th><td>GO:0042073</td><td>intraciliary transport</td><td>16</td><td>16</td><td>16</td><td>0.01219</td></tr>\n",
       "\t<tr><th scope=row>46</th><td>GO:0010720</td><td>positive regulation of cell development</td><td>259</td><td>259</td><td>259</td><td>0.01270</td></tr>\n",
       "\t<tr><th scope=row>47</th><td>GO:0060997</td><td>dendritic spine morphogenesis</td><td>19</td><td>19</td><td>19</td><td>0.01320</td></tr>\n",
       "\t<tr><th scope=row>48</th><td>GO:0070124</td><td>mitochondrial translational initiation</td><td>49</td><td>49</td><td>49</td><td>0.01400</td></tr>\n",
       "\t<tr><th scope=row>49</th><td>GO:0051146</td><td>striated muscle cell differentiation</td><td>146</td><td>146</td><td>146</td><td>0.01406</td></tr>\n",
       "\t<tr><th scope=row>50</th><td>GO:0048169</td><td>regulation of long-term neuronal synapti...</td><td>16</td><td>16</td><td>16</td><td>0.01426</td></tr>\n",
       "</tbody>\n",
       "</table>\n"
      ],
      "text/latex": [
       "\\begin{tabular}{r|llllll}\n",
       "  & GO.ID & Term & Annotated & Significant & Expected & weight01KS\\\\\n",
       "\\hline\n",
       "\t1 & GO:0050911 & detection of chemical stimulus involved ... & 200 & 200 & 200 & 8.3e-13\\\\\n",
       "\t2 & GO:0007186 & G-protein coupled receptor signaling pat... & 591 & 591 & 591 & 8.2e-07\\\\\n",
       "\t3 & GO:0006417 & regulation of translation & 148 & 148 & 148 & 0.00070\\\\\n",
       "\t4 & GO:0035774 & positive regulation of insulin secretion... & 12 & 12 & 12 & 0.00075\\\\\n",
       "\t5 & GO:0035556 & intracellular signal transduction & 1463 & 1463 & 1463 & 0.00082\\\\\n",
       "\t6 & GO:0006069 & ethanol oxidation & 11 & 11 & 11 & 0.00179\\\\\n",
       "\t7 & GO:0050850 & positive regulation of calcium-mediated ... & 14 & 14 & 14 & 0.00203\\\\\n",
       "\t8 & GO:0032504 & multicellular organism reproduction & 406 & 406 & 406 & 0.00217\\\\\n",
       "\t9 & GO:0050771 & negative regulation of axonogenesis & 32 & 32 & 32 & 0.00234\\\\\n",
       "\t10 & GO:0051453 & regulation of intracellular pH & 34 & 34 & 34 & 0.00243\\\\\n",
       "\t11 & GO:0043368 & positive T cell selection & 15 & 15 & 15 & 0.00245\\\\\n",
       "\t12 & GO:2001244 & positive regulation of intrinsic apoptot... & 30 & 30 & 30 & 0.00302\\\\\n",
       "\t13 & GO:0010996 & response to auditory stimulus & 13 & 13 & 13 & 0.00313\\\\\n",
       "\t14 & GO:1902176 & negative regulation of oxidative stress-... & 14 & 14 & 14 & 0.00318\\\\\n",
       "\t15 & GO:0035690 & cellular response to drug & 26 & 26 & 26 & 0.00335\\\\\n",
       "\t16 & GO:0045736 & negative regulation of cyclin-dependent ... & 12 & 12 & 12 & 0.00358\\\\\n",
       "\t17 & GO:0006111 & regulation of gluconeogenesis & 19 & 19 & 19 & 0.00453\\\\\n",
       "\t18 & GO:0043534 & blood vessel endothelial cell migration & 35 & 35 & 35 & 0.00498\\\\\n",
       "\t19 & GO:0055119 & relaxation of cardiac muscle & 12 & 12 & 12 & 0.00571\\\\\n",
       "\t20 & GO:0001656 & metanephros development & 44 & 44 & 44 & 0.00579\\\\\n",
       "\t21 & GO:0007507 & heart development & 265 & 265 & 265 & 0.00584\\\\\n",
       "\t22 & GO:0048538 & thymus development & 24 & 24 & 24 & 0.00633\\\\\n",
       "\t23 & GO:0001569 & patterning of blood vessels & 18 & 18 & 18 & 0.00636\\\\\n",
       "\t24 & GO:0021952 & central nervous system projection neuron... & 11 & 11 & 11 & 0.00661\\\\\n",
       "\t25 & GO:0007517 & muscle organ development & 183 & 183 & 183 & 0.00717\\\\\n",
       "\t26 & GO:0031670 & cellular response to nutrient & 16 & 16 & 16 & 0.00728\\\\\n",
       "\t27 & GO:0022604 & regulation of cell morphogenesis & 287 & 287 & 287 & 0.00820\\\\\n",
       "\t28 & GO:0060441 & epithelial tube branching involved in lu... & 17 & 17 & 17 & 0.00848\\\\\n",
       "\t29 & GO:0070126 & mitochondrial translational termination & 50 & 50 & 50 & 0.00905\\\\\n",
       "\t30 & GO:0071356 & cellular response to tumor necrosis fact... & 122 & 122 & 122 & 0.00910\\\\\n",
       "\t31 & GO:0097237 & cellular response to toxic substance & 10 & 10 & 10 & 0.00929\\\\\n",
       "\t32 & GO:0048015 & phosphatidylinositol-mediated signaling & 101 & 101 & 101 & 0.00946\\\\\n",
       "\t33 & GO:0007214 & gamma-aminobutyric acid signaling pathwa... & 13 & 13 & 13 & 0.01023\\\\\n",
       "\t34 & GO:0032963 & collagen metabolic process & 61 & 61 & 61 & 0.01044\\\\\n",
       "\t35 & GO:0045582 & positive regulation of T cell differenti... & 26 & 26 & 26 & 0.01045\\\\\n",
       "\t36 & GO:0043550 & regulation of lipid kinase activity & 25 & 25 & 25 & 0.01057\\\\\n",
       "\t37 & GO:0051281 & positive regulation of release of seques... & 16 & 16 & 16 & 0.01062\\\\\n",
       "\t38 & GO:0045666 & positive regulation of neuron differenti... & 166 & 166 & 166 & 0.01068\\\\\n",
       "\t39 & GO:0010594 & regulation of endothelial cell migration & 54 & 54 & 54 & 0.01098\\\\\n",
       "\t40 & GO:0045667 & regulation of osteoblast differentiation & 53 & 53 & 53 & 0.01122\\\\\n",
       "\t41 & GO:0090303 & positive regulation of wound healing & 25 & 25 & 25 & 0.01131\\\\\n",
       "\t42 & GO:0007157 & heterophilic cell-cell adhesion via plas... & 23 & 23 & 23 & 0.01179\\\\\n",
       "\t43 & GO:0006508 & proteolysis & 805 & 805 & 805 & 0.01200\\\\\n",
       "\t44 & GO:0018105 & peptidyl-serine phosphorylation & 133 & 133 & 133 & 0.01205\\\\\n",
       "\t45 & GO:0042073 & intraciliary transport & 16 & 16 & 16 & 0.01219\\\\\n",
       "\t46 & GO:0010720 & positive regulation of cell development & 259 & 259 & 259 & 0.01270\\\\\n",
       "\t47 & GO:0060997 & dendritic spine morphogenesis & 19 & 19 & 19 & 0.01320\\\\\n",
       "\t48 & GO:0070124 & mitochondrial translational initiation & 49 & 49 & 49 & 0.01400\\\\\n",
       "\t49 & GO:0051146 & striated muscle cell differentiation & 146 & 146 & 146 & 0.01406\\\\\n",
       "\t50 & GO:0048169 & regulation of long-term neuronal synapti... & 16 & 16 & 16 & 0.01426\\\\\n",
       "\\end{tabular}\n"
      ],
      "text/plain": [
       "        GO.ID                                        Term Annotated Significant\n",
       "1  GO:0050911 detection of chemical stimulus involved ...       200         200\n",
       "2  GO:0007186 G-protein coupled receptor signaling pat...       591         591\n",
       "3  GO:0006417                   regulation of translation       148         148\n",
       "4  GO:0035774 positive regulation of insulin secretion...        12          12\n",
       "5  GO:0035556           intracellular signal transduction      1463        1463\n",
       "6  GO:0006069                           ethanol oxidation        11          11\n",
       "7  GO:0050850 positive regulation of calcium-mediated ...        14          14\n",
       "8  GO:0032504         multicellular organism reproduction       406         406\n",
       "9  GO:0050771         negative regulation of axonogenesis        32          32\n",
       "10 GO:0051453              regulation of intracellular pH        34          34\n",
       "11 GO:0043368                   positive T cell selection        15          15\n",
       "12 GO:2001244 positive regulation of intrinsic apoptot...        30          30\n",
       "13 GO:0010996               response to auditory stimulus        13          13\n",
       "14 GO:1902176 negative regulation of oxidative stress-...        14          14\n",
       "15 GO:0035690                   cellular response to drug        26          26\n",
       "16 GO:0045736 negative regulation of cyclin-dependent ...        12          12\n",
       "17 GO:0006111               regulation of gluconeogenesis        19          19\n",
       "18 GO:0043534     blood vessel endothelial cell migration        35          35\n",
       "19 GO:0055119                relaxation of cardiac muscle        12          12\n",
       "20 GO:0001656                     metanephros development        44          44\n",
       "21 GO:0007507                           heart development       265         265\n",
       "22 GO:0048538                          thymus development        24          24\n",
       "23 GO:0001569                 patterning of blood vessels        18          18\n",
       "24 GO:0021952 central nervous system projection neuron...        11          11\n",
       "25 GO:0007517                    muscle organ development       183         183\n",
       "26 GO:0031670               cellular response to nutrient        16          16\n",
       "27 GO:0022604            regulation of cell morphogenesis       287         287\n",
       "28 GO:0060441 epithelial tube branching involved in lu...        17          17\n",
       "29 GO:0070126     mitochondrial translational termination        50          50\n",
       "30 GO:0071356 cellular response to tumor necrosis fact...       122         122\n",
       "31 GO:0097237        cellular response to toxic substance        10          10\n",
       "32 GO:0048015     phosphatidylinositol-mediated signaling       101         101\n",
       "33 GO:0007214 gamma-aminobutyric acid signaling pathwa...        13          13\n",
       "34 GO:0032963                  collagen metabolic process        61          61\n",
       "35 GO:0045582 positive regulation of T cell differenti...        26          26\n",
       "36 GO:0043550         regulation of lipid kinase activity        25          25\n",
       "37 GO:0051281 positive regulation of release of seques...        16          16\n",
       "38 GO:0045666 positive regulation of neuron differenti...       166         166\n",
       "39 GO:0010594    regulation of endothelial cell migration        54          54\n",
       "40 GO:0045667    regulation of osteoblast differentiation        53          53\n",
       "41 GO:0090303        positive regulation of wound healing        25          25\n",
       "42 GO:0007157 heterophilic cell-cell adhesion via plas...        23          23\n",
       "43 GO:0006508                                 proteolysis       805         805\n",
       "44 GO:0018105             peptidyl-serine phosphorylation       133         133\n",
       "45 GO:0042073                      intraciliary transport        16          16\n",
       "46 GO:0010720     positive regulation of cell development       259         259\n",
       "47 GO:0060997               dendritic spine morphogenesis        19          19\n",
       "48 GO:0070124      mitochondrial translational initiation        49          49\n",
       "49 GO:0051146        striated muscle cell differentiation       146         146\n",
       "50 GO:0048169 regulation of long-term neuronal synapti...        16          16\n",
       "   Expected weight01KS\n",
       "1       200    8.3e-13\n",
       "2       591    8.2e-07\n",
       "3       148    0.00070\n",
       "4        12    0.00075\n",
       "5      1463    0.00082\n",
       "6        11    0.00179\n",
       "7        14    0.00203\n",
       "8       406    0.00217\n",
       "9        32    0.00234\n",
       "10       34    0.00243\n",
       "11       15    0.00245\n",
       "12       30    0.00302\n",
       "13       13    0.00313\n",
       "14       14    0.00318\n",
       "15       26    0.00335\n",
       "16       12    0.00358\n",
       "17       19    0.00453\n",
       "18       35    0.00498\n",
       "19       12    0.00571\n",
       "20       44    0.00579\n",
       "21      265    0.00584\n",
       "22       24    0.00633\n",
       "23       18    0.00636\n",
       "24       11    0.00661\n",
       "25      183    0.00717\n",
       "26       16    0.00728\n",
       "27      287    0.00820\n",
       "28       17    0.00848\n",
       "29       50    0.00905\n",
       "30      122    0.00910\n",
       "31       10    0.00929\n",
       "32      101    0.00946\n",
       "33       13    0.01023\n",
       "34       61    0.01044\n",
       "35       26    0.01045\n",
       "36       25    0.01057\n",
       "37       16    0.01062\n",
       "38      166    0.01068\n",
       "39       54    0.01098\n",
       "40       53    0.01122\n",
       "41       25    0.01131\n",
       "42       23    0.01179\n",
       "43      805    0.01200\n",
       "44      133    0.01205\n",
       "45       16    0.01219\n",
       "46      259    0.01270\n",
       "47       19    0.01320\n",
       "48       49    0.01400\n",
       "49      146    0.01406\n",
       "50       16    0.01426"
      ]
     },
     "execution_count": 29,
     "metadata": {},
     "output_type": "execute_result"
    }
   ],
   "source": [
    "xcplr_michal_KS[1:50,]"
   ]
  },
  {
   "cell_type": "code",
   "execution_count": null,
   "metadata": {
    "collapsed": true
   },
   "outputs": [],
   "source": []
  },
  {
   "cell_type": "code",
   "execution_count": 20,
   "metadata": {
    "collapsed": false
   },
   "outputs": [],
   "source": [
    "#test green blood top genes"
   ]
  },
  {
   "cell_type": "code",
   "execution_count": null,
   "metadata": {
    "collapsed": true
   },
   "outputs": [],
   "source": []
  },
  {
   "cell_type": "code",
   "execution_count": 49,
   "metadata": {
    "collapsed": true
   },
   "outputs": [],
   "source": [
    "ap_all_genes <- read.table(\"~/Akademisches/Projects/VervetPopgen/scratch/ap_all_genes.txt\", header=FALSE)"
   ]
  },
  {
   "cell_type": "code",
   "execution_count": null,
   "metadata": {
    "collapsed": true
   },
   "outputs": [],
   "source": []
  },
  {
   "cell_type": "code",
   "execution_count": 24,
   "metadata": {
    "collapsed": false
   },
   "outputs": [
    {
     "data": {
      "text/html": [
       "<ol class=list-inline>\n",
       "\t<li>SPR</li>\n",
       "\t<li>CLDN5</li>\n",
       "\t<li>CSF1R</li>\n",
       "\t<li>METT5D1</li>\n",
       "\t<li>ITGB5</li>\n",
       "</ol>\n"
      ],
      "text/latex": [
       "\\begin{enumerate*}\n",
       "\\item SPR\n",
       "\\item CLDN5\n",
       "\\item CSF1R\n",
       "\\item METT5D1\n",
       "\\item ITGB5\n",
       "\\end{enumerate*}\n"
      ],
      "text/markdown": [
       "1. SPR\n",
       "2. CLDN5\n",
       "3. CSF1R\n",
       "4. METT5D1\n",
       "5. ITGB5\n",
       "\n",
       "\n"
      ],
      "text/plain": [
       "[1] SPR     CLDN5   CSF1R   METT5D1 ITGB5  \n",
       "20500 Levels: 00:00:00 15E1.2 182-FIP 2'-PDE 2001-03-01 2001-09-01 ... ZZZ3"
      ]
     },
     "execution_count": 24,
     "metadata": {},
     "output_type": "execute_result"
    }
   ],
   "source": [
    "ap_all_genes = ap_all_genes$V1"
   ]
  },
  {
   "cell_type": "code",
   "execution_count": 35,
   "metadata": {
    "collapsed": false
   },
   "outputs": [],
   "source": [
    "rna_blood_gene_scores <- as.vector(rep(0,length(ap_all_genes)))"
   ]
  },
  {
   "cell_type": "code",
   "execution_count": 36,
   "metadata": {
    "collapsed": true
   },
   "outputs": [],
   "source": [
    "names(rna_blood_gene_scores) <- ap_all_genes "
   ]
  },
  {
   "cell_type": "code",
   "execution_count": 40,
   "metadata": {
    "collapsed": false
   },
   "outputs": [
    {
     "ename": "ERROR",
     "evalue": "Error in rna_blood_gene_scores$names: $ operator is invalid for atomic vectors\n",
     "output_type": "error",
     "traceback": [
      "Error in rna_blood_gene_scores$names: $ operator is invalid for atomic vectors\n"
     ]
    }
   ],
   "source": [
    "rna_blood_gene_scores$names"
   ]
  },
  {
   "cell_type": "code",
   "execution_count": null,
   "metadata": {
    "collapsed": true
   },
   "outputs": [],
   "source": []
  },
  {
   "cell_type": "code",
   "execution_count": null,
   "metadata": {
    "collapsed": true
   },
   "outputs": [],
   "source": [
    " t <- read.table(fn, header=TRUE, row.names=1)\n",
    "    score_vec <- as.vector(t[[\"score\"]])\n",
    "    names(score_vec) <- row.names(t)"
   ]
  },
  {
   "cell_type": "code",
   "execution_count": 61,
   "metadata": {
    "collapsed": false
   },
   "outputs": [
    {
     "name": "stdout",
     "output_type": "stream",
     "text": [
      "\n",
      "Building most specific GOs .....\t( 8853 GO terms found. )\n",
      "\n",
      "Build GO DAG topology ..........\t( 12635 GO terms and 30122 relations. )\n",
      "\n",
      "Annotating nodes ...............\t( 8257 genes annotated to the GO terms. )\n",
      "\n",
      "\t\t\t -- Weight01 Algorithm -- \n",
      "\n",
      "\t\t the algorithm is scoring 4642 nontrivial nodes\n",
      "\t\t parameters: \n",
      "\t\t\t test statistic:  ks \n",
      "\t\t\t score order:  decreasing \n",
      "\n",
      "\t Level 17:\t3 nodes to be scored\t(0 eliminated genes)\n",
      "\n",
      "\t Level 16:\t13 nodes to be scored\t(0 eliminated genes)\n",
      "\n",
      "\t Level 15:\t30 nodes to be scored\t(48 eliminated genes)\n",
      "\n",
      "\t Level 14:\t77 nodes to be scored\t(169 eliminated genes)\n",
      "\n",
      "\t Level 13:\t147 nodes to be scored\t(415 eliminated genes)\n",
      "\n",
      "\t Level 12:\t221 nodes to be scored\t(1160 eliminated genes)\n",
      "\n",
      "\t Level 11:\t348 nodes to be scored\t(2278 eliminated genes)\n",
      "\n",
      "\t Level 10:\t498 nodes to be scored\t(3166 eliminated genes)\n",
      "\n",
      "\t Level 9:\t640 nodes to be scored\t(4559 eliminated genes)\n",
      "\n",
      "\t Level 8:\t679 nodes to be scored\t(5637 eliminated genes)\n",
      "\n",
      "\t Level 7:\t700 nodes to be scored\t(6372 eliminated genes)\n",
      "\n",
      "\t Level 6:\t595 nodes to be scored\t(7070 eliminated genes)\n",
      "\n",
      "\t Level 5:\t404 nodes to be scored\t(7426 eliminated genes)\n",
      "\n",
      "\t Level 4:\t205 nodes to be scored\t(7804 eliminated genes)\n",
      "\n",
      "\t Level 3:\t60 nodes to be scored\t(7934 eliminated genes)\n",
      "\n",
      "\t Level 2:\t21 nodes to be scored\t(8046 eliminated genes)\n",
      "\n",
      "\t Level 1:\t1 nodes to be scored\t(8089 eliminated genes)\n"
     ]
    }
   ],
   "source": [
    "xcplr_max_exons_KS <- runTopGOKS(rms_max_scores_exons, \"max_exons\", min_genes=10)"
   ]
  },
  {
   "cell_type": "code",
   "execution_count": 80,
   "metadata": {
    "collapsed": false
   },
   "outputs": [],
   "source": [
    "runTopGOFisher <-function(gene_score_vec,quantile, name, min_genes) {\n",
    "    GOdata <- new(\"topGOdata\",\n",
    "             description = \"Go data.\", ontology = \"BP\",\n",
    "                    allGenes = gene_score_vec, geneSel = (function (col) selFun(col,quantile)) ,\n",
    "                    nodeSize = min_genes,\n",
    "                    annot = annFUN.org, mapping = \"org.Hs.eg.db\", ID = \"symbol\") #human go\n",
    "    resultFisher_weight01 <- runTest(GOdata, \n",
    "                             algorithm = \"weight01\", statistic = \"fisher\", scoreOrder='decreasing')\n",
    "    #n_lt0p01 <- sum(score(resultFisher_weight01)<0.01)\n",
    "                        \n",
    "    sign_table <- GenTable(GOdata, weight01Fisher = resultFisher_weight01,\n",
    "    orderBy = \"weight01Fisher\",topNodes =length(score(resultFisher_weight01)))#, topNodes = n_lt0p01)#\n",
    "    write.table(sign_table,paste(vervet_drive_dir,'XPCLR',paste('xpclr_rms_',name,'_topgo_weight01Fisher_',quantile,'_min_genes',min_genes,'.tsv',sep=''),sep='/'),\n",
    "            sep='\\t',quote=FALSE,row.names=FALSE)\n",
    "    return(sign_table)                    \n",
    "}"
   ]
  },
  {
   "cell_type": "code",
   "execution_count": 1,
   "metadata": {
    "collapsed": false
   },
   "outputs": [
    {
     "ename": "ERROR",
     "evalue": "Error in eval(expr, envir, enclos): object 'vervet_drive_dir' not found\n",
     "output_type": "error",
     "traceback": [
      "Error in eval(expr, envir, enclos): object 'vervet_drive_dir' not found\n"
     ]
    }
   ],
   "source": [
    "vervet_drive_dir"
   ]
  },
  {
   "cell_type": "code",
   "execution_count": 87,
   "metadata": {
    "collapsed": false
   },
   "outputs": [
    {
     "data": {
      "text/html": [
       "784.400000000001"
      ],
      "text/latex": [
       "784.400000000001"
      ],
      "text/markdown": [
       "784.400000000001"
      ],
      "text/plain": [
       "[1] 784.4"
      ]
     },
     "execution_count": 87,
     "metadata": {},
     "output_type": "execute_result"
    }
   ],
   "source": [
    "length(rms_mean_scores)*(1-0.95)"
   ]
  },
  {
   "cell_type": "code",
   "execution_count": 89,
   "metadata": {
    "collapsed": false
   },
   "outputs": [
    {
     "name": "stdout",
     "output_type": "stream",
     "text": [
      "\n",
      "Building most specific GOs .....\t( 10308 GO terms found. )\n",
      "\n",
      "Build GO DAG topology ..........\t( 13955 GO terms and 33446 relations. )\n",
      "\n",
      "Annotating nodes ...............\t( 13319 genes annotated to the GO terms. )\n",
      "\n",
      "\t\t\t -- Weight01 Algorithm -- \n",
      "\n",
      "\t\t the algorithm is scoring 5624 nontrivial nodes\n",
      "\t\t parameters: \n",
      "\t\t\t test statistic:  fisher \n",
      "\n",
      "\t Level 18:\t1 nodes to be scored\t(0 eliminated genes)\n",
      "\n",
      "\t Level 17:\t5 nodes to be scored\t(0 eliminated genes)\n",
      "\n",
      "\t Level 16:\t19 nodes to be scored\t(11 eliminated genes)\n",
      "\n",
      "\t Level 15:\t46 nodes to be scored\t(89 eliminated genes)\n",
      "\n",
      "\t Level 14:\t114 nodes to be scored\t(309 eliminated genes)\n",
      "\n",
      "\t Level 13:\t193 nodes to be scored\t(786 eliminated genes)\n",
      "\n",
      "\t Level 12:\t310 nodes to be scored\t(2013 eliminated genes)\n",
      "\n",
      "\t Level 11:\t482 nodes to be scored\t(3754 eliminated genes)\n",
      "\n",
      "\t Level 10:\t642 nodes to be scored\t(5322 eliminated genes)\n",
      "\n",
      "\t Level 9:\t789 nodes to be scored\t(7530 eliminated genes)\n",
      "\n",
      "\t Level 8:\t820 nodes to be scored\t(9246 eliminated genes)\n",
      "\n",
      "\t Level 7:\t821 nodes to be scored\t(10397 eliminated genes)\n",
      "\n",
      "\t Level 6:\t649 nodes to be scored\t(11462 eliminated genes)\n",
      "\n",
      "\t Level 5:\t436 nodes to be scored\t(12064 eliminated genes)\n",
      "\n",
      "\t Level 4:\t214 nodes to be scored\t(12639 eliminated genes)\n",
      "\n",
      "\t Level 3:\t61 nodes to be scored\t(12836 eliminated genes)\n",
      "\n",
      "\t Level 2:\t21 nodes to be scored\t(13001 eliminated genes)\n",
      "\n",
      "\t Level 1:\t1 nodes to be scored\t(13067 eliminated genes)\n",
      "\n",
      "Building most specific GOs .....\t( 10308 GO terms found. )\n",
      "\n",
      "Build GO DAG topology ..........\t( 13955 GO terms and 33446 relations. )\n",
      "\n",
      "Annotating nodes ...............\t( 13319 genes annotated to the GO terms. )\n",
      "\n",
      "\t\t\t -- Weight01 Algorithm -- \n",
      "\n",
      "\t\t the algorithm is scoring 8532 nontrivial nodes\n",
      "\t\t parameters: \n",
      "\t\t\t test statistic:  fisher \n",
      "\n",
      "\t Level 19:\t2 nodes to be scored\t(0 eliminated genes)\n",
      "\n",
      "\t Level 18:\t7 nodes to be scored\t(0 eliminated genes)\n",
      "\n",
      "\t Level 17:\t20 nodes to be scored\t(10 eliminated genes)\n",
      "\n",
      "\t Level 16:\t52 nodes to be scored\t(29 eliminated genes)\n",
      "\n",
      "\t Level 15:\t128 nodes to be scored\t(116 eliminated genes)\n",
      "\n",
      "\t Level 14:\t252 nodes to be scored\t(392 eliminated genes)\n",
      "\n",
      "\t Level 13:\t416 nodes to be scored\t(971 eliminated genes)\n",
      "\n",
      "\t Level 12:\t633 nodes to be scored\t(2209 eliminated genes)\n",
      "\n",
      "\t Level 11:\t866 nodes to be scored\t(4003 eliminated genes)\n",
      "\n",
      "\t Level 10:\t1064 nodes to be scored\t(5600 eliminated genes)\n",
      "\n",
      "\t Level 9:\t1194 nodes to be scored\t(7774 eliminated genes)\n",
      "\n",
      "\t Level 8:\t1154 nodes to be scored\t(9405 eliminated genes)\n",
      "\n",
      "\t Level 7:\t1067 nodes to be scored\t(10492 eliminated genes)\n",
      "\n",
      "\t Level 6:\t834 nodes to be scored\t(11509 eliminated genes)\n",
      "\n",
      "\t Level 5:\t518 nodes to be scored\t(12090 eliminated genes)\n",
      "\n",
      "\t Level 4:\t237 nodes to be scored\t(12645 eliminated genes)\n",
      "\n",
      "\t Level 3:\t65 nodes to be scored\t(12839 eliminated genes)\n",
      "\n",
      "\t Level 2:\t22 nodes to be scored\t(13001 eliminated genes)\n",
      "\n",
      "\t Level 1:\t1 nodes to be scored\t(13067 eliminated genes)\n",
      "\n",
      "Building most specific GOs .....\t( 10308 GO terms found. )\n",
      "\n",
      "Build GO DAG topology ..........\t( 13955 GO terms and 33446 relations. )\n",
      "\n",
      "Annotating nodes ...............\t( 13319 genes annotated to the GO terms. )\n",
      "\n",
      "\t\t\t -- Weight01 Algorithm -- \n",
      "\n",
      "\t\t the algorithm is scoring 5470 nontrivial nodes\n",
      "\t\t parameters: \n",
      "\t\t\t test statistic:  fisher \n",
      "\n",
      "\t Level 17:\t3 nodes to be scored\t(0 eliminated genes)\n",
      "\n",
      "\t Level 16:\t17 nodes to be scored\t(0 eliminated genes)\n",
      "\n",
      "\t Level 15:\t45 nodes to be scored\t(75 eliminated genes)\n",
      "\n",
      "\t Level 14:\t111 nodes to be scored\t(274 eliminated genes)\n",
      "\n",
      "\t Level 13:\t184 nodes to be scored\t(779 eliminated genes)\n",
      "\n",
      "\t Level 12:\t296 nodes to be scored\t(2001 eliminated genes)\n",
      "\n",
      "\t Level 11:\t466 nodes to be scored\t(3734 eliminated genes)\n",
      "\n",
      "\t Level 10:\t625 nodes to be scored\t(5278 eliminated genes)\n",
      "\n",
      "\t Level 9:\t762 nodes to be scored\t(7504 eliminated genes)\n",
      "\n",
      "\t Level 8:\t795 nodes to be scored\t(9211 eliminated genes)\n",
      "\n",
      "\t Level 7:\t797 nodes to be scored\t(10370 eliminated genes)\n",
      "\n",
      "\t Level 6:\t641 nodes to be scored\t(11443 eliminated genes)\n",
      "\n",
      "\t Level 5:\t433 nodes to be scored\t(12054 eliminated genes)\n",
      "\n",
      "\t Level 4:\t214 nodes to be scored\t(12638 eliminated genes)\n",
      "\n",
      "\t Level 3:\t59 nodes to be scored\t(12836 eliminated genes)\n",
      "\n",
      "\t Level 2:\t21 nodes to be scored\t(13001 eliminated genes)\n",
      "\n",
      "\t Level 1:\t1 nodes to be scored\t(13067 eliminated genes)\n",
      "\n",
      "Building most specific GOs .....\t( 10308 GO terms found. )\n",
      "\n",
      "Build GO DAG topology ..........\t( 13955 GO terms and 33446 relations. )\n",
      "\n",
      "Annotating nodes ...............\t( 13319 genes annotated to the GO terms. )\n",
      "\n",
      "\t\t\t -- Weight01 Algorithm -- \n",
      "\n",
      "\t\t the algorithm is scoring 7790 nontrivial nodes\n",
      "\t\t parameters: \n",
      "\t\t\t test statistic:  fisher \n",
      "\n",
      "\t Level 19:\t1 nodes to be scored\t(0 eliminated genes)\n",
      "\n",
      "\t Level 18:\t4 nodes to be scored\t(0 eliminated genes)\n",
      "\n",
      "\t Level 17:\t15 nodes to be scored\t(4 eliminated genes)\n",
      "\n",
      "\t Level 16:\t41 nodes to be scored\t(13 eliminated genes)\n",
      "\n",
      "\t Level 15:\t112 nodes to be scored\t(100 eliminated genes)\n",
      "\n",
      "\t Level 14:\t225 nodes to be scored\t(340 eliminated genes)\n",
      "\n",
      "\t Level 13:\t363 nodes to be scored\t(934 eliminated genes)\n",
      "\n",
      "\t Level 12:\t546 nodes to be scored\t(2178 eliminated genes)\n",
      "\n",
      "\t Level 11:\t772 nodes to be scored\t(3926 eliminated genes)\n",
      "\n",
      "\t Level 10:\t953 nodes to be scored\t(5489 eliminated genes)\n",
      "\n",
      "\t Level 9:\t1083 nodes to be scored\t(7708 eliminated genes)\n",
      "\n",
      "\t Level 8:\t1066 nodes to be scored\t(9334 eliminated genes)\n",
      "\n",
      "\t Level 7:\t994 nodes to be scored\t(10448 eliminated genes)\n",
      "\n",
      "\t Level 6:\t794 nodes to be scored\t(11482 eliminated genes)\n",
      "\n",
      "\t Level 5:\t502 nodes to be scored\t(12074 eliminated genes)\n",
      "\n",
      "\t Level 4:\t234 nodes to be scored\t(12643 eliminated genes)\n",
      "\n",
      "\t Level 3:\t62 nodes to be scored\t(12839 eliminated genes)\n",
      "\n",
      "\t Level 2:\t22 nodes to be scored\t(13001 eliminated genes)\n",
      "\n",
      "\t Level 1:\t1 nodes to be scored\t(13067 eliminated genes)\n"
     ]
    }
   ],
   "source": [
    "#0.9,0.95,0.99,0.995\n",
    "for (quantile in c(0.8,0.85)){\n",
    "    xcplr_mean_Fisher0p95 <- runTopGOFisher(rms_mean_scores, quantile, \"mean\", min_genes=10)\n",
    "    xcplr_mean_Fisher0p95 <- runTopGOFisher(rms_mean_scores, quantile, \"mean\", min_genes=2)\n",
    "    }"
   ]
  },
  {
   "cell_type": "code",
   "execution_count": 35,
   "metadata": {
    "collapsed": false
   },
   "outputs": [
    {
     "name": "stdout",
     "output_type": "stream",
     "text": [
      "\n",
      "\t\t\t -- Weight01 Algorithm -- \n",
      "\n",
      "\t\t the algorithm is scoring 4642 nontrivial nodes\n",
      "\t\t parameters: \n",
      "\t\t\t test statistic:  ks \n",
      "\t\t\t score order:  decreasing \n",
      "\n",
      "\t Level 17:\t3 nodes to be scored\t(0 eliminated genes)\n",
      "\n",
      "\t Level 16:\t13 nodes to be scored\t(0 eliminated genes)\n",
      "\n",
      "\t Level 15:\t30 nodes to be scored\t(48 eliminated genes)\n",
      "\n",
      "\t Level 14:\t77 nodes to be scored\t(169 eliminated genes)\n",
      "\n",
      "\t Level 13:\t147 nodes to be scored\t(415 eliminated genes)\n",
      "\n",
      "\t Level 12:\t221 nodes to be scored\t(1160 eliminated genes)\n",
      "\n",
      "\t Level 11:\t348 nodes to be scored\t(2278 eliminated genes)\n",
      "\n",
      "\t Level 10:\t498 nodes to be scored\t(3166 eliminated genes)\n",
      "\n",
      "\t Level 9:\t640 nodes to be scored\t(4559 eliminated genes)\n",
      "\n",
      "\t Level 8:\t679 nodes to be scored\t(5637 eliminated genes)\n",
      "\n",
      "\t Level 7:\t700 nodes to be scored\t(6372 eliminated genes)\n",
      "\n",
      "\t Level 6:\t595 nodes to be scored\t(7070 eliminated genes)\n",
      "\n",
      "\t Level 5:\t404 nodes to be scored\t(7426 eliminated genes)\n",
      "\n",
      "\t Level 4:\t205 nodes to be scored\t(7804 eliminated genes)\n",
      "\n",
      "\t Level 3:\t60 nodes to be scored\t(7934 eliminated genes)\n",
      "\n",
      "\t Level 2:\t21 nodes to be scored\t(8046 eliminated genes)\n",
      "\n",
      "\t Level 1:\t1 nodes to be scored\t(8089 eliminated genes)\n"
     ]
    }
   ],
   "source": [
    "#classic candidate vs background test\n",
    "#resultFisher <- runTest(humanGOdata, algorithm = \"classic\", statistic = \"fisher\")\n",
    "#run Kolmogorov Smirnov test on expression p-vlaues of all genes\n",
    "#resultKS <- runTest(humanGOdata, algorithm = \"classic\", statistic = \"ks\", scoreOrder='decreasing')\n",
    "#accounts for gene overlap\n",
    "#resultKS.elim <- runTest(humanGOdata, algorithm = \"elim\", statistic = \"ks\", scoreOrder='decreasing')\n",
    "resultKS.weight01 <- runTest(rms_max_scores_exons_GOdata, \n",
    "                             algorithm = \"weight01\", statistic = \"ks\", scoreOrder='decreasing')"
   ]
  },
  {
   "cell_type": "code",
   "execution_count": 43,
   "metadata": {
    "collapsed": false
   },
   "outputs": [
    {
     "data": {
      "text/html": [
       "111"
      ],
      "text/latex": [
       "111"
      ],
      "text/markdown": [
       "111"
      ],
      "text/plain": [
       "[1] 111"
      ]
     },
     "execution_count": 43,
     "metadata": {},
     "output_type": "execute_result"
    }
   ],
   "source": []
  },
  {
   "cell_type": "code",
   "execution_count": 41,
   "metadata": {
    "collapsed": false
   },
   "outputs": [
    {
     "data": {
      "text/plain": [
       "\n",
       "Description: Vervet xpclr RMS exon max scores. \n",
       "Ontology: BP \n",
       "'weight01' algorithm with the 'ks' test\n",
       "4642 GO terms scored: 111 terms with p < 0.01\n",
       "Annotation data:\n",
       "    Annotated genes: 8257 \n",
       "    Significant genes: 8257 \n",
       "    Min. no. of genes annotated to a GO: 10 \n",
       "    Nontrivial nodes: 4642 "
      ]
     },
     "execution_count": 41,
     "metadata": {},
     "output_type": "execute_result"
    }
   ],
   "source": [
    "resultKS.weight01"
   ]
  },
  {
   "cell_type": "code",
   "execution_count": 45,
   "metadata": {
    "collapsed": true
   },
   "outputs": [],
   "source": [
    "n_lt0p01 <- sum(score(resultKS.weight01)<0.01)\n"
   ]
  },
  {
   "cell_type": "code",
   "execution_count": 46,
   "metadata": {
    "collapsed": false
   },
   "outputs": [],
   "source": [
    "allRes <- GenTable(rms_max_scores_exons_GOdata, weight01KS = resultKS.weight01,\n",
    "  orderBy = \"weight01KS\", topNodes = n_lt0p01)#"
   ]
  },
  {
   "cell_type": "code",
   "execution_count": 48,
   "metadata": {
    "collapsed": false
   },
   "outputs": [
    {
     "data": {
      "text/html": [
       "\n",
       "<table width=\"100%\" summary=\"page for write.table {utils}\"><tr><td>write.table {utils}</td><td style=\"text-align: right;\">R Documentation</td></tr></table>\n",
       "\n",
       "<h2>Data Output</h2>\n",
       "\n",
       "<h3>Description</h3>\n",
       "\n",
       "<p><code>write.table</code> prints its required argument <code>x</code> (after\n",
       "converting it to a data frame if it is not one nor a matrix) to\n",
       "a file or connection.\n",
       "</p>\n",
       "\n",
       "\n",
       "<h3>Usage</h3>\n",
       "\n",
       "<pre>\n",
       "write.table(x, file = \"\", append = FALSE, quote = TRUE, sep = \" \",\n",
       "            eol = \"\\n\", na = \"NA\", dec = \".\", row.names = TRUE,\n",
       "            col.names = TRUE, qmethod = c(\"escape\", \"double\"),\n",
       "            fileEncoding = \"\")\n",
       "\n",
       "write.csv(...)\n",
       "write.csv2(...)\n",
       "</pre>\n",
       "\n",
       "\n",
       "<h3>Arguments</h3>\n",
       "\n",
       "<table summary=\"R argblock\">\n",
       "<tr valign=\"top\"><td><code>x</code></td>\n",
       "<td>\n",
       "<p>the object to be written, preferably a matrix or data frame.\n",
       "If not, it is attempted to coerce <code>x</code> to a data frame.</p>\n",
       "</td></tr>\n",
       "<tr valign=\"top\"><td><code>file</code></td>\n",
       "<td>\n",
       "<p>either a character string naming a file or a connection\n",
       "open for writing.  <code>\"\"</code> indicates output to the console.</p>\n",
       "</td></tr>\n",
       "<tr valign=\"top\"><td><code>append</code></td>\n",
       "<td>\n",
       "<p>logical. Only relevant if <code>file</code> is a character\n",
       "string.  If <code>TRUE</code>, the output is appended to the\n",
       "file.  If <code>FALSE</code>, any existing file of the name is destroyed.</p>\n",
       "</td></tr>\n",
       "<tr valign=\"top\"><td><code>quote</code></td>\n",
       "<td>\n",
       "<p>a logical value (<code>TRUE</code> or <code>FALSE</code>) or a\n",
       "numeric vector.  If <code>TRUE</code>, any character or factor columns\n",
       "will be surrounded by double quotes.  If a numeric vector, its\n",
       "elements are taken as the indices of columns to quote.  In both\n",
       "cases, row and column names are quoted if they are written.  If\n",
       "<code>FALSE</code>, nothing is quoted.</p>\n",
       "</td></tr>\n",
       "<tr valign=\"top\"><td><code>sep</code></td>\n",
       "<td>\n",
       "<p>the field separator string.  Values within each row of\n",
       "<code>x</code> are separated by this string.</p>\n",
       "</td></tr>\n",
       "<tr valign=\"top\"><td><code>eol</code></td>\n",
       "<td>\n",
       "<p>the character(s) to print at the end of each line (row).\n",
       "For example, <code>eol = \"\\r\\n\"</code> will produce Windows' line endings on\n",
       "a Unix-alike OS, and <code>eol = \"\\r\"</code> will produce files as expected by\n",
       "Excel:mac 2004.</p>\n",
       "</td></tr>\n",
       "<tr valign=\"top\"><td><code>na</code></td>\n",
       "<td>\n",
       "<p>the string to use for missing values in the data.</p>\n",
       "</td></tr>\n",
       "<tr valign=\"top\"><td><code>dec</code></td>\n",
       "<td>\n",
       "<p>the string to use for decimal points in numeric or complex\n",
       "columns: must be a single character.</p>\n",
       "</td></tr>\n",
       "<tr valign=\"top\"><td><code>row.names</code></td>\n",
       "<td>\n",
       "<p>either a logical value indicating whether the row\n",
       "names of <code>x</code> are to be written along with <code>x</code>, or a\n",
       "character vector of row names to be written.</p>\n",
       "</td></tr>\n",
       "<tr valign=\"top\"><td><code>col.names</code></td>\n",
       "<td>\n",
       "<p>either a logical value indicating whether the column\n",
       "names of <code>x</code> are to be written along with <code>x</code>, or a\n",
       "character vector of column names to be written.  See the section on\n",
       "&lsquo;CSV files&rsquo; for the meaning of <code>col.names = NA</code>.</p>\n",
       "</td></tr>\n",
       "<tr valign=\"top\"><td><code>qmethod</code></td>\n",
       "<td>\n",
       "<p>a character string specifying how to deal with embedded\n",
       "double quote characters when quoting strings.  Must be one of\n",
       "<code>\"escape\"</code> (default for <code>write.table</code>), in which case the\n",
       "quote character is escaped in C style by a backslash, or\n",
       "<code>\"double\"</code> (default for <code>write.csv</code> and\n",
       "<code>write.csv2</code>), in which case it is doubled.  You can specify\n",
       "just the initial letter.</p>\n",
       "</td></tr>\n",
       "<tr valign=\"top\"><td><code>fileEncoding</code></td>\n",
       "<td>\n",
       "<p>character string: if non-empty declares the\n",
       "encoding to be used on a file (not a connection) so the character data can\n",
       "be re-encoded as they are written.  See <code>file</code>.</p>\n",
       "</td></tr>\n",
       "<tr valign=\"top\"><td><code>...</code></td>\n",
       "<td>\n",
       "<p>arguments to <code>write.table</code>: <code>append</code>,\n",
       "<code>col.names</code>, <code>sep</code>, <code>dec</code> and <code>qmethod</code>\n",
       "cannot be altered.\n",
       "</p>\n",
       "</td></tr>\n",
       "</table>\n",
       "\n",
       "\n",
       "<h3>Details</h3>\n",
       "\n",
       "<p>If the table has no columns the rownames will be written only if\n",
       "<code>row.names = TRUE</code>, and <em>vice versa</em>.\n",
       "</p>\n",
       "<p>Real and complex numbers are written to the maximal possible precision.\n",
       "</p>\n",
       "<p>If a data frame has matrix-like columns these will be converted to\n",
       "multiple columns in the result (<em>via</em> <code>as.matrix</code>)\n",
       "and so a character <code>col.names</code> or a numeric <code>quote</code> should\n",
       "refer to the columns in the result, not the input.  Such matrix-like\n",
       "columns are unquoted by default.\n",
       "</p>\n",
       "<p>Any columns in a data frame which are lists or have a class\n",
       "(e.g., dates) will be converted by the appropriate <code>as.character</code>\n",
       "method: such columns are unquoted by default.  On the other hand,\n",
       "any class information for a matrix is discarded and non-atomic\n",
       "(e.g., list) matrices are coerced to character.\n",
       "</p>\n",
       "<p>Only columns which have been converted to character will be quoted if\n",
       "specified by <code>quote</code>.\n",
       "</p>\n",
       "<p>The <code>dec</code> argument only applies to columns that are not subject\n",
       "to conversion to character because they have a class or are part of a\n",
       "matrix-like column (or matrix), in particular to columns protected by\n",
       "<code>I()</code>.  Use <code>options(\"OutDec\")</code> to control\n",
       "such conversions.\n",
       "</p>\n",
       "<p>In almost all cases the conversion of numeric quantities is governed\n",
       "by the option <code>\"scipen\"</code> (see <code>options</code>), but with\n",
       "the internal equivalent of <code>digits = 15</code>.  For finer control, use\n",
       "<code>format</code> to make a character matrix/data frame, and call\n",
       "<code>write.table</code> on that.\n",
       "</p>\n",
       "<p>These functions check for a user interrupt every 1000 lines of output.\n",
       "</p>\n",
       "<p>If <code>file</code> is a non-open connection, an attempt is made to open it\n",
       "and then close it after use.\n",
       "</p>\n",
       "<p>To write a Unix-style file on Windows, use a binary connection\n",
       "e.g. <code>file = file(\"filename\", \"wb\")</code>.\n",
       "</p>\n",
       "\n",
       "\n",
       "<h3>CSV files</h3>\n",
       "\n",
       "<p>By default there is no column name for a column of row names.  If\n",
       "<code>col.names = NA</code> and <code>row.names = TRUE</code> a blank column name\n",
       "is added, which is the convention used for CSV files to be read by\n",
       "spreadsheets.  Note that such CSV files can be read in <span style=\"font-family: Courier New, Courier; color: #666666;\"><b>R</b></span> by\n",
       "</p>\n",
       "<pre>  read.csv(file = \"&lt;filename&gt;\", row.names = 1)</pre>\n",
       "<p><code>write.csv</code> and <code>write.csv2</code> provide convenience wrappers\n",
       "for writing CSV files.  They set <code>sep</code> and <code>dec</code> (see\n",
       "below), <code>qmethod = \"double\"</code>, and <code>col.names</code> to <code>NA</code>\n",
       "if <code>row.names = TRUE</code> (the default) and to <code>TRUE</code> otherwise.\n",
       "</p>\n",
       "<p><code>write.csv</code> uses <code>\".\"</code> for the decimal point and a comma for\n",
       "the separator.\n",
       "</p>\n",
       "<p><code>write.csv2</code> uses a comma for the decimal point and a semicolon for\n",
       "the separator, the Excel convention for CSV files in some Western\n",
       "European locales.\n",
       "</p>\n",
       "<p>These wrappers are deliberately inflexible: they are designed to\n",
       "ensure that the correct conventions are used to write a valid file.\n",
       "Attempts to change <code>append</code>, <code>col.names</code>, <code>sep</code>,\n",
       "<code>dec</code> or <code>qmethod</code> are ignored, with a warning.\n",
       "</p>\n",
       "<p>CSV files do not record an encoding, and this causes problems if they\n",
       "are not ASCII for many other applications.  Windows Excel 2007/10 will\n",
       "open files (e.g., by the file association mechanism) correctly if they\n",
       "are ASCII or UTF-16 (use <code>fileEncoding = \"UTF-16LE\"</code>) or perhaps\n",
       "in the current Windows codepage (e.g., <code>\"CP1252\"</code>), but the\n",
       "&lsquo;Text Import Wizard&rsquo; (from the &lsquo;Data&rsquo; tab) allows far\n",
       "more choice of encodings.  Excel:mac 2004/8 can <em>import</em> only\n",
       "&lsquo;Macintosh&rsquo; (which seems to mean Mac Roman), &lsquo;Windows&rsquo;\n",
       "(perhaps Latin-1) and &lsquo;PC-8&rsquo; files.  OpenOffice 3.x asks for\n",
       "the character set when opening the file.\n",
       "</p>\n",
       "<p>There is an IETF RFC4180 (<a href=\"http://tools.ietf.org/html/rfc4180\">http://tools.ietf.org/html/rfc4180</a>)\n",
       "for CSV files, which mandates comma as the separator and CRLF line\n",
       "endings.  <code>write.csv</code> writes compliant files on Windows: use\n",
       "<code>eol = \"\\r\\n\"</code> on other platforms.\n",
       "</p>\n",
       "\n",
       "\n",
       "<h3>Note</h3>\n",
       "\n",
       "<p><code>write.table</code> can be slow for data frames with large numbers\n",
       "(hundreds or more) of columns: this is inevitable as each column could\n",
       "be of a different class and so must be handled separately.  If they\n",
       "are all of the same class, consider using a matrix instead.\n",
       "</p>\n",
       "\n",
       "\n",
       "<h3>See Also</h3>\n",
       "\n",
       "<p>The &lsquo;R Data Import/Export&rsquo; manual.\n",
       "</p>\n",
       "<p><code>read.table</code>, <code>write</code>.\n",
       "</p>\n",
       "<p><code>write.matrix</code> in package <a href=\"http://CRAN.R-project.org/package=MASS\"><span class=\"pkg\">MASS</span></a>.\n",
       "</p>\n",
       "\n",
       "\n",
       "<h3>Examples</h3>\n",
       "\n",
       "<pre>\n",
       "## Not run: \n",
       "## To write a CSV file for input to Excel one might use\n",
       "x &lt;- data.frame(a = I(\"a \\\" quote\"), b = pi)\n",
       "write.table(x, file = \"foo.csv\", sep = \",\", col.names = NA,\n",
       "            qmethod = \"double\")\n",
       "## and to read this file back into R one needs\n",
       "read.table(\"foo.csv\", header = TRUE, sep = \",\", row.names = 1)\n",
       "## NB: you do need to specify a separator if qmethod = \"double\".\n",
       "\n",
       "### Alternatively\n",
       "write.csv(x, file = \"foo.csv\")\n",
       "read.csv(\"foo.csv\", row.names = 1)\n",
       "## or without row names\n",
       "write.csv(x, file = \"foo.csv\", row.names = FALSE)\n",
       "read.csv(\"foo.csv\")\n",
       "\n",
       "## To write a file in Mac Roman for simple use in Mac Excel 2004/8\n",
       "write.csv(x, file = \"foo.csv\", fileEncoding = \"macroman\")\n",
       "## or for Windows Excel 2007/10\n",
       "write.csv(x, file = \"foo.csv\", fileEncoding = \"UTF-16LE\")\n",
       "\n",
       "## End(Not run)</pre>\n",
       "\n",
       "<hr /><div style=\"text-align: center;\">[Package <em>utils</em> version 3.2.2 ]</div>"
      ],
      "text/latex": [
       "\\inputencoding{utf8}\n",
       "\\HeaderA{write.table}{Data Output}{write.table}\n",
       "\\aliasA{write.csv}{write.table}{write.csv}\n",
       "\\aliasA{write.csv2}{write.table}{write.csv2}\n",
       "\\keyword{print}{write.table}\n",
       "\\keyword{file}{write.table}\n",
       "%\n",
       "\\begin{Description}\\relax\n",
       "\\code{write.table} prints its required argument \\code{x} (after\n",
       "converting it to a data frame if it is not one nor a matrix) to\n",
       "a file or \\LinkA{connection}{connection}.\n",
       "\\end{Description}\n",
       "%\n",
       "\\begin{Usage}\n",
       "\\begin{verbatim}\n",
       "write.table(x, file = \"\", append = FALSE, quote = TRUE, sep = \" \",\n",
       "            eol = \"\\n\", na = \"NA\", dec = \".\", row.names = TRUE,\n",
       "            col.names = TRUE, qmethod = c(\"escape\", \"double\"),\n",
       "            fileEncoding = \"\")\n",
       "\n",
       "write.csv(...)\n",
       "write.csv2(...)\n",
       "\\end{verbatim}\n",
       "\\end{Usage}\n",
       "%\n",
       "\\begin{Arguments}\n",
       "\\begin{ldescription}\n",
       "\\item[\\code{x}] the object to be written, preferably a matrix or data frame.\n",
       "If not, it is attempted to coerce \\code{x} to a data frame.\n",
       "\\item[\\code{file}] either a character string naming a file or a \\LinkA{connection}{connection}\n",
       "open for writing.  \\code{\"\"} indicates output to the console.\n",
       "\\item[\\code{append}] logical. Only relevant if \\code{file} is a character\n",
       "string.  If \\code{TRUE}, the output is appended to the\n",
       "file.  If \\code{FALSE}, any existing file of the name is destroyed.\n",
       "\\item[\\code{quote}] a logical value (\\code{TRUE} or \\code{FALSE}) or a\n",
       "numeric vector.  If \\code{TRUE}, any character or factor columns\n",
       "will be surrounded by double quotes.  If a numeric vector, its\n",
       "elements are taken as the indices of columns to quote.  In both\n",
       "cases, row and column names are quoted if they are written.  If\n",
       "\\code{FALSE}, nothing is quoted.\n",
       "\\item[\\code{sep}] the field separator string.  Values within each row of\n",
       "\\code{x} are separated by this string.\n",
       "\\item[\\code{eol}] the character(s) to print at the end of each line (row).\n",
       "For example, \\code{eol = \"\\bsl{}r\\bsl{}n\"} will produce Windows' line endings on\n",
       "a Unix-alike OS, and \\code{eol = \"\\bsl{}r\"} will produce files as expected by\n",
       "Excel:mac 2004.\n",
       "\\item[\\code{na}] the string to use for missing values in the data.\n",
       "\\item[\\code{dec}] the string to use for decimal points in numeric or complex\n",
       "columns: must be a single character.\n",
       "\\item[\\code{row.names}] either a logical value indicating whether the row\n",
       "names of \\code{x} are to be written along with \\code{x}, or a\n",
       "character vector of row names to be written.\n",
       "\\item[\\code{col.names}] either a logical value indicating whether the column\n",
       "names of \\code{x} are to be written along with \\code{x}, or a\n",
       "character vector of column names to be written.  See the section on\n",
       "`CSV files' for the meaning of \\code{col.names = NA}.\n",
       "\\item[\\code{qmethod}] a character string specifying how to deal with embedded\n",
       "double quote characters when quoting strings.  Must be one of\n",
       "\\code{\"escape\"} (default for \\code{write.table}), in which case the\n",
       "quote character is escaped in C style by a backslash, or\n",
       "\\code{\"double\"} (default for \\code{write.csv} and\n",
       "\\code{write.csv2}), in which case it is doubled.  You can specify\n",
       "just the initial letter.\n",
       "\\item[\\code{fileEncoding}] character string: if non-empty declares the\n",
       "encoding to be used on a file (not a connection) so the character data can\n",
       "be re-encoded as they are written.  See \\code{\\LinkA{file}{file}}.\n",
       "\n",
       "\\item[\\code{...}] arguments to \\code{write.table}: \\code{append},\n",
       "\\code{col.names}, \\code{sep}, \\code{dec} and \\code{qmethod}\n",
       "cannot be altered.\n",
       "\n",
       "\\end{ldescription}\n",
       "\\end{Arguments}\n",
       "%\n",
       "\\begin{Details}\\relax\n",
       "If the table has no columns the rownames will be written only if\n",
       "\\code{row.names = TRUE}, and \\emph{vice versa}.\n",
       "\n",
       "Real and complex numbers are written to the maximal possible precision.\n",
       "\n",
       "If a data frame has matrix-like columns these will be converted to\n",
       "multiple columns in the result (\\emph{via} \\code{\\LinkA{as.matrix}{as.matrix}})\n",
       "and so a character \\code{col.names} or a numeric \\code{quote} should\n",
       "refer to the columns in the result, not the input.  Such matrix-like\n",
       "columns are unquoted by default.\n",
       "\n",
       "Any columns in a data frame which are lists or have a class\n",
       "(e.g., dates) will be converted by the appropriate \\code{as.character}\n",
       "method: such columns are unquoted by default.  On the other hand,\n",
       "any class information for a matrix is discarded and non-atomic\n",
       "(e.g., list) matrices are coerced to character.\n",
       "\n",
       "Only columns which have been converted to character will be quoted if\n",
       "specified by \\code{quote}.\n",
       "\n",
       "The \\code{dec} argument only applies to columns that are not subject\n",
       "to conversion to character because they have a class or are part of a\n",
       "matrix-like column (or matrix), in particular to columns protected by\n",
       "\\code{\\LinkA{I}{I}()}.  Use \\code{\\LinkA{options}{options}(\"OutDec\")} to control\n",
       "such conversions.\n",
       "\n",
       "In almost all cases the conversion of numeric quantities is governed\n",
       "by the option \\code{\"scipen\"} (see \\code{\\LinkA{options}{options}}), but with\n",
       "the internal equivalent of \\code{digits = 15}.  For finer control, use\n",
       "\\code{\\LinkA{format}{format}} to make a character matrix/data frame, and call\n",
       "\\code{write.table} on that.\n",
       "\n",
       "These functions check for a user interrupt every 1000 lines of output.\n",
       "\n",
       "If \\code{file} is a non-open connection, an attempt is made to open it\n",
       "and then close it after use.\n",
       "\n",
       "To write a Unix-style file on Windows, use a binary connection\n",
       "e.g.~\\code{file = file(\"filename\", \"wb\")}.\n",
       "\\end{Details}\n",
       "%\n",
       "\\begin{Section}{CSV files}\n",
       "By default there is no column name for a column of row names.  If\n",
       "\\code{col.names = NA} and \\code{row.names = TRUE} a blank column name\n",
       "is added, which is the convention used for CSV files to be read by\n",
       "spreadsheets.  Note that such CSV files can be read in \\R{} by\n",
       "\\begin{alltt}  read.csv(file = \"<filename>\", row.names = 1)\\end{alltt}\n",
       "\n",
       "\n",
       "\\code{write.csv} and \\code{write.csv2} provide convenience wrappers\n",
       "for writing CSV files.  They set \\code{sep} and \\code{dec} (see\n",
       "below), \\code{qmethod = \"double\"}, and \\code{col.names} to \\code{NA}\n",
       "if \\code{row.names = TRUE} (the default) and to \\code{TRUE} otherwise.\n",
       "\n",
       "\\code{write.csv} uses \\code{\".\"} for the decimal point and a comma for\n",
       "the separator.\n",
       "\n",
       "\\code{write.csv2} uses a comma for the decimal point and a semicolon for\n",
       "the separator, the Excel convention for CSV files in some Western\n",
       "European locales.\n",
       "\n",
       "These wrappers are deliberately inflexible: they are designed to\n",
       "ensure that the correct conventions are used to write a valid file.\n",
       "Attempts to change \\code{append}, \\code{col.names}, \\code{sep},\n",
       "\\code{dec} or \\code{qmethod} are ignored, with a warning.\n",
       "\n",
       "CSV files do not record an encoding, and this causes problems if they\n",
       "are not ASCII for many other applications.  Windows Excel 2007/10 will\n",
       "open files (e.g., by the file association mechanism) correctly if they\n",
       "are ASCII or UTF-16 (use \\code{fileEncoding = \"UTF-16LE\"}) or perhaps\n",
       "in the current Windows codepage (e.g., \\code{\"CP1252\"}), but the\n",
       "`Text Import Wizard' (from the `Data' tab) allows far\n",
       "more choice of encodings.  Excel:mac 2004/8 can \\emph{import} only\n",
       "`Macintosh' (which seems to mean Mac Roman), `Windows'\n",
       "(perhaps Latin-1) and `PC-8' files.  OpenOffice 3.x asks for\n",
       "the character set when opening the file.\n",
       "\n",
       "There is an IETF RFC4180 (\\url{http://tools.ietf.org/html/rfc4180})\n",
       "for CSV files, which mandates comma as the separator and CRLF line\n",
       "endings.  \\code{write.csv} writes compliant files on Windows: use\n",
       "\\code{eol = \"\\bsl{}r\\bsl{}n\"} on other platforms.\n",
       "\\end{Section}\n",
       "%\n",
       "\\begin{Note}\\relax\n",
       "\\code{write.table} can be slow for data frames with large numbers\n",
       "(hundreds or more) of columns: this is inevitable as each column could\n",
       "be of a different class and so must be handled separately.  If they\n",
       "are all of the same class, consider using a matrix instead.\n",
       "\\end{Note}\n",
       "%\n",
       "\\begin{SeeAlso}\\relax\n",
       "The `R Data Import/Export' manual.\n",
       "\n",
       "\\code{\\LinkA{read.table}{read.table}}, \\code{\\LinkA{write}{write}}.\n",
       "\n",
       "\\code{\\LinkA{write.matrix}{write.matrix}} in package \\Rhref{http://CRAN.R-project.org/package=MASS}{\\pkg{MASS}}.\n",
       "\\end{SeeAlso}\n",
       "%\n",
       "\\begin{Examples}\n",
       "\\begin{ExampleCode}\n",
       "## Not run: \n",
       "## To write a CSV file for input to Excel one might use\n",
       "x <- data.frame(a = I(\"a \\\" quote\"), b = pi)\n",
       "write.table(x, file = \"foo.csv\", sep = \",\", col.names = NA,\n",
       "            qmethod = \"double\")\n",
       "## and to read this file back into R one needs\n",
       "read.table(\"foo.csv\", header = TRUE, sep = \",\", row.names = 1)\n",
       "## NB: you do need to specify a separator if qmethod = \"double\".\n",
       "\n",
       "### Alternatively\n",
       "write.csv(x, file = \"foo.csv\")\n",
       "read.csv(\"foo.csv\", row.names = 1)\n",
       "## or without row names\n",
       "write.csv(x, file = \"foo.csv\", row.names = FALSE)\n",
       "read.csv(\"foo.csv\")\n",
       "\n",
       "## To write a file in Mac Roman for simple use in Mac Excel 2004/8\n",
       "write.csv(x, file = \"foo.csv\", fileEncoding = \"macroman\")\n",
       "## or for Windows Excel 2007/10\n",
       "write.csv(x, file = \"foo.csv\", fileEncoding = \"UTF-16LE\")\n",
       "\n",
       "## End(Not run)\n",
       "\\end{ExampleCode}\n",
       "\\end{Examples}"
      ],
      "text/plain": [
       "write.table               package:utils                R Documentation\n",
       "\n",
       "_\bD_\ba_\bt_\ba _\bO_\bu_\bt_\bp_\bu_\bt\n",
       "\n",
       "_\bD_\be_\bs_\bc_\br_\bi_\bp_\bt_\bi_\bo_\bn:\n",
       "\n",
       "     ‘write.table’ prints its required argument ‘x’ (after converting\n",
       "     it to a data frame if it is not one nor a matrix) to a file or\n",
       "     connection.\n",
       "\n",
       "_\bU_\bs_\ba_\bg_\be:\n",
       "\n",
       "     write.table(x, file = \"\", append = FALSE, quote = TRUE, sep = \" \",\n",
       "                 eol = \"\\n\", na = \"NA\", dec = \".\", row.names = TRUE,\n",
       "                 col.names = TRUE, qmethod = c(\"escape\", \"double\"),\n",
       "                 fileEncoding = \"\")\n",
       "     \n",
       "     write.csv(...)\n",
       "     write.csv2(...)\n",
       "     \n",
       "_\bA_\br_\bg_\bu_\bm_\be_\bn_\bt_\bs:\n",
       "\n",
       "       x: the object to be written, preferably a matrix or data frame.\n",
       "          If not, it is attempted to coerce ‘x’ to a data frame.\n",
       "\n",
       "    file: either a character string naming a file or a connection open\n",
       "          for writing.  ‘\"\"’ indicates output to the console.\n",
       "\n",
       "  append: logical. Only relevant if ‘file’ is a character string.  If\n",
       "          ‘TRUE’, the output is appended to the file.  If ‘FALSE’, any\n",
       "          existing file of the name is destroyed.\n",
       "\n",
       "   quote: a logical value (‘TRUE’ or ‘FALSE’) or a numeric vector.  If\n",
       "          ‘TRUE’, any character or factor columns will be surrounded by\n",
       "          double quotes.  If a numeric vector, its elements are taken\n",
       "          as the indices of columns to quote.  In both cases, row and\n",
       "          column names are quoted if they are written.  If ‘FALSE’,\n",
       "          nothing is quoted.\n",
       "\n",
       "     sep: the field separator string.  Values within each row of ‘x’\n",
       "          are separated by this string.\n",
       "\n",
       "     eol: the character(s) to print at the end of each line (row).  For\n",
       "          example, ‘eol = \"\\r\\n\"’ will produce Windows' line endings on\n",
       "          a Unix-alike OS, and ‘eol = \"\\r\"’ will produce files as\n",
       "          expected by Excel:mac 2004.\n",
       "\n",
       "      na: the string to use for missing values in the data.\n",
       "\n",
       "     dec: the string to use for decimal points in numeric or complex\n",
       "          columns: must be a single character.\n",
       "\n",
       "row.names: either a logical value indicating whether the row names of\n",
       "          ‘x’ are to be written along with ‘x’, or a character vector\n",
       "          of row names to be written.\n",
       "\n",
       "col.names: either a logical value indicating whether the column names\n",
       "          of ‘x’ are to be written along with ‘x’, or a character\n",
       "          vector of column names to be written.  See the section on\n",
       "          ‘CSV files’ for the meaning of ‘col.names = NA’.\n",
       "\n",
       " qmethod: a character string specifying how to deal with embedded\n",
       "          double quote characters when quoting strings.  Must be one of\n",
       "          ‘\"escape\"’ (default for ‘write.table’), in which case the\n",
       "          quote character is escaped in C style by a backslash, or\n",
       "          ‘\"double\"’ (default for ‘write.csv’ and ‘write.csv2’), in\n",
       "          which case it is doubled.  You can specify just the initial\n",
       "          letter.\n",
       "\n",
       "fileEncoding: character string: if non-empty declares the encoding to\n",
       "          be used on a file (not a connection) so the character data\n",
       "          can be re-encoded as they are written.  See ‘file’.\n",
       "\n",
       "     ...: arguments to ‘write.table’: ‘append’, ‘col.names’, ‘sep’,\n",
       "          ‘dec’ and ‘qmethod’ cannot be altered.\n",
       "\n",
       "_\bD_\be_\bt_\ba_\bi_\bl_\bs:\n",
       "\n",
       "     If the table has no columns the rownames will be written only if\n",
       "     ‘row.names = TRUE’, and _vice versa_.\n",
       "\n",
       "     Real and complex numbers are written to the maximal possible\n",
       "     precision.\n",
       "\n",
       "     If a data frame has matrix-like columns these will be converted to\n",
       "     multiple columns in the result (_via_ ‘as.matrix’) and so a\n",
       "     character ‘col.names’ or a numeric ‘quote’ should refer to the\n",
       "     columns in the result, not the input.  Such matrix-like columns\n",
       "     are unquoted by default.\n",
       "\n",
       "     Any columns in a data frame which are lists or have a class (e.g.,\n",
       "     dates) will be converted by the appropriate ‘as.character’ method:\n",
       "     such columns are unquoted by default.  On the other hand, any\n",
       "     class information for a matrix is discarded and non-atomic (e.g.,\n",
       "     list) matrices are coerced to character.\n",
       "\n",
       "     Only columns which have been converted to character will be quoted\n",
       "     if specified by ‘quote’.\n",
       "\n",
       "     The ‘dec’ argument only applies to columns that are not subject to\n",
       "     conversion to character because they have a class or are part of a\n",
       "     matrix-like column (or matrix), in particular to columns protected\n",
       "     by ‘I()’.  Use ‘options(\"OutDec\")’ to control such conversions.\n",
       "\n",
       "     In almost all cases the conversion of numeric quantities is\n",
       "     governed by the option ‘\"scipen\"’ (see ‘options’), but with the\n",
       "     internal equivalent of ‘digits = 15’.  For finer control, use\n",
       "     ‘format’ to make a character matrix/data frame, and call\n",
       "     ‘write.table’ on that.\n",
       "\n",
       "     These functions check for a user interrupt every 1000 lines of\n",
       "     output.\n",
       "\n",
       "     If ‘file’ is a non-open connection, an attempt is made to open it\n",
       "     and then close it after use.\n",
       "\n",
       "     To write a Unix-style file on Windows, use a binary connection\n",
       "     e.g. ‘file = file(\"filename\", \"wb\")’.\n",
       "\n",
       "_\bC_\bS_\bV _\bf_\bi_\bl_\be_\bs:\n",
       "\n",
       "     By default there is no column name for a column of row names.  If\n",
       "     ‘col.names = NA’ and ‘row.names = TRUE’ a blank column name is\n",
       "     added, which is the convention used for CSV files to be read by\n",
       "     spreadsheets.  Note that such CSV files can be read in R by\n",
       "     \n",
       "       read.csv(file = \"<filename>\", row.names = 1)\n",
       "\n",
       "     ‘write.csv’ and ‘write.csv2’ provide convenience wrappers for\n",
       "     writing CSV files.  They set ‘sep’ and ‘dec’ (see below), ‘qmethod\n",
       "     = \"double\"’, and ‘col.names’ to ‘NA’ if ‘row.names = TRUE’ (the\n",
       "     default) and to ‘TRUE’ otherwise.\n",
       "\n",
       "     ‘write.csv’ uses ‘\".\"’ for the decimal point and a comma for the\n",
       "     separator.\n",
       "\n",
       "     ‘write.csv2’ uses a comma for the decimal point and a semicolon\n",
       "     for the separator, the Excel convention for CSV files in some\n",
       "     Western European locales.\n",
       "\n",
       "     These wrappers are deliberately inflexible: they are designed to\n",
       "     ensure that the correct conventions are used to write a valid\n",
       "     file.  Attempts to change ‘append’, ‘col.names’, ‘sep’, ‘dec’ or\n",
       "     ‘qmethod’ are ignored, with a warning.\n",
       "\n",
       "     CSV files do not record an encoding, and this causes problems if\n",
       "     they are not ASCII for many other applications.  Windows Excel\n",
       "     2007/10 will open files (e.g., by the file association mechanism)\n",
       "     correctly if they are ASCII or UTF-16 (use ‘fileEncoding =\n",
       "     \"UTF-16LE\"’) or perhaps in the current Windows codepage (e.g.,\n",
       "     ‘\"CP1252\"’), but the ‘Text Import Wizard’ (from the ‘Data’ tab)\n",
       "     allows far more choice of encodings.  Excel:mac 2004/8 can\n",
       "     _import_ only ‘Macintosh’ (which seems to mean Mac Roman),\n",
       "     ‘Windows’ (perhaps Latin-1) and ‘PC-8’ files.  OpenOffice 3.x asks\n",
       "     for the character set when opening the file.\n",
       "\n",
       "     There is an IETF RFC4180 (<URL:\n",
       "     http://tools.ietf.org/html/rfc4180>) for CSV files, which mandates\n",
       "     comma as the separator and CRLF line endings.  ‘write.csv’ writes\n",
       "     compliant files on Windows: use ‘eol = \"\\r\\n\"’ on other platforms.\n",
       "\n",
       "_\bN_\bo_\bt_\be:\n",
       "\n",
       "     ‘write.table’ can be slow for data frames with large numbers\n",
       "     (hundreds or more) of columns: this is inevitable as each column\n",
       "     could be of a different class and so must be handled separately.\n",
       "     If they are all of the same class, consider using a matrix\n",
       "     instead.\n",
       "\n",
       "_\bS_\be_\be _\bA_\bl_\bs_\bo:\n",
       "\n",
       "     The ‘R Data Import/Export’ manual.\n",
       "\n",
       "     ‘read.table’, ‘write’.\n",
       "\n",
       "     ‘write.matrix’ in package ‘MASS’.\n",
       "\n",
       "_\bE_\bx_\ba_\bm_\bp_\bl_\be_\bs:\n",
       "\n",
       "     ## Not run:\n",
       "     \n",
       "     ## To write a CSV file for input to Excel one might use\n",
       "     x <- data.frame(a = I(\"a \\\" quote\"), b = pi)\n",
       "     write.table(x, file = \"foo.csv\", sep = \",\", col.names = NA,\n",
       "                 qmethod = \"double\")\n",
       "     ## and to read this file back into R one needs\n",
       "     read.table(\"foo.csv\", header = TRUE, sep = \",\", row.names = 1)\n",
       "     ## NB: you do need to specify a separator if qmethod = \"double\".\n",
       "     \n",
       "     ### Alternatively\n",
       "     write.csv(x, file = \"foo.csv\")\n",
       "     read.csv(\"foo.csv\", row.names = 1)\n",
       "     ## or without row names\n",
       "     write.csv(x, file = \"foo.csv\", row.names = FALSE)\n",
       "     read.csv(\"foo.csv\")\n",
       "     \n",
       "     ## To write a file in Mac Roman for simple use in Mac Excel 2004/8\n",
       "     write.csv(x, file = \"foo.csv\", fileEncoding = \"macroman\")\n",
       "     ## or for Windows Excel 2007/10\n",
       "     write.csv(x, file = \"foo.csv\", fileEncoding = \"UTF-16LE\")\n",
       "     ## End(Not run)\n",
       "     "
      ]
     },
     "execution_count": 48,
     "metadata": {},
     "output_type": "execute_result"
    }
   ],
   "source": [
    "?write.table"
   ]
  },
  {
   "cell_type": "code",
   "execution_count": 50,
   "metadata": {
    "collapsed": false
   },
   "outputs": [],
   "source": [
    "write.table(allRes,paste(vervet_drive_dir,'XPCLR','xpclr_rms_gene_max_exons_topgo_weight01KS.tsv',sep='/'),\n",
    "            sep='\\t',quote=FALSE,row.names=FALSE)"
   ]
  },
  {
   "cell_type": "code",
   "execution_count": 30,
   "metadata": {
    "collapsed": false
   },
   "outputs": [
    {
     "name": "stderr",
     "output_type": "stream",
     "text": [
      "also installing the dependencies ‘rJava’, ‘xlsxjars’\n",
      "\n"
     ]
    },
    {
     "name": "stdout",
     "output_type": "stream",
     "text": [
      "\n",
      "The downloaded source packages are in\n",
      "\t‘/tmp/RtmpThbomn/downloaded_packages’\n"
     ]
    }
   ],
   "source": [
    "install.packages(\"xlsx\", repos=\"http://cran.us.r-project.org\")"
   ]
  },
  {
   "cell_type": "code",
   "execution_count": 31,
   "metadata": {
    "collapsed": false
   },
   "outputs": [
    {
     "name": "stderr",
     "output_type": "stream",
     "text": [
      "Loading required package: rJava\n",
      "Loading required package: xlsxjars\n"
     ]
    }
   ],
   "source": [
    "library(xlsx)"
   ]
  },
  {
   "cell_type": "code",
   "execution_count": 34,
   "metadata": {
    "collapsed": false
   },
   "outputs": [],
   "source": [
    "write.xlsx(allRes[1:50,],path.expand(paste(vervet_drive_dir,\"share\",\"xpclr_rms_exon_mean_topgo_KSweight01_top50.xlsx\",sep='/')))"
   ]
  },
  {
   "cell_type": "code",
   "execution_count": 60,
   "metadata": {
    "collapsed": false
   },
   "outputs": [
    {
     "data": {
      "text/html": [
       "<dl class=dl-horizontal>\n",
       "</dl>\n"
      ],
      "text/latex": [
       "\\begin{description*}\n",
       "\\end{description*}\n"
      ],
      "text/markdown": [
       "\n",
       "\n"
      ],
      "text/plain": [
       "named numeric(0)"
      ]
     },
     "execution_count": 60,
     "metadata": {},
     "output_type": "execute_result"
    }
   ],
   "source": [
    "geneScoresVec[grep(\"^LOC\",names(geneScoresVec))]"
   ]
  },
  {
   "cell_type": "code",
   "execution_count": 37,
   "metadata": {
    "collapsed": false
   },
   "outputs": [
    {
     "data": {
      "text/html": [
       "'negative regulation of transcription fro...'"
      ],
      "text/latex": [
       "'negative regulation of transcription fro...'"
      ],
      "text/markdown": [
       "'negative regulation of transcription fro...'"
      ],
      "text/plain": [
       "[1] \"negative regulation of transcription fro...\""
      ]
     },
     "execution_count": 37,
     "metadata": {},
     "output_type": "execute_result"
    }
   ],
   "source": [
    "allRes[1,2]"
   ]
  },
  {
   "cell_type": "markdown",
   "metadata": {},
   "source": [
    "### create input for Cytoscape Enrichment Map\n",
    "info here: http://www.baderlab.org/Software/EnrichmentMap/UserManual#Generic_results_files"
   ]
  },
  {
   "cell_type": "markdown",
   "metadata": {},
   "source": [
    "#### GMT file"
   ]
  },
  {
   "cell_type": "code",
   "execution_count": 35,
   "metadata": {
    "collapsed": false
   },
   "outputs": [],
   "source": [
    "go_to_gene <- annFUN.org(\"BP\",feasibleGenes=names(geneScoresVec),mapping=\"org.Hs.eg.db\",ID = \"symbol\")"
   ]
  },
  {
   "cell_type": "code",
   "execution_count": 264,
   "metadata": {
    "collapsed": false
   },
   "outputs": [
    {
     "data": {
      "text/html": [
       "10308"
      ],
      "text/latex": [
       "10308"
      ],
      "text/markdown": [
       "10308"
      ],
      "text/plain": [
       "[1] 10308"
      ]
     },
     "execution_count": 264,
     "metadata": {},
     "output_type": "execute_result"
    }
   ],
   "source": [
    "length(go_to_gene)"
   ]
  },
  {
   "cell_type": "code",
   "execution_count": 61,
   "metadata": {
    "collapsed": false
   },
   "outputs": [
    {
     "name": "stderr",
     "output_type": "stream",
     "text": [
      "'select()' returned 1:1 mapping between keys and columns\n"
     ]
    }
   ],
   "source": [
    "go_to_name <- select(GO.dls -b,keys=names(go_to_gene),columns=c('TERM','DEFINITION'))\n",
    "rownames(go_to_name) <- go_to_name[,'GOID']"
   ]
  },
  {
   "cell_type": "code",
   "execution_count": 218,
   "metadata": {
    "collapsed": false
   },
   "outputs": [],
   "source": [
    "vecToStr <- function(vec) {\n",
    "    return(paste(vec,collapse='\\t'))#\n",
    "}"
   ]
  },
  {
   "cell_type": "code",
   "execution_count": 219,
   "metadata": {
    "collapsed": false
   },
   "outputs": [],
   "source": [
    "go_to_gene_df <- data.frame(names(go_to_gene))\n",
    "colnames(go_to_gene_df) <- \"GOID\"\n",
    "#add a gene column with list of genes to data frame\n",
    "go_to_gene_df$genes <- lapply(go_to_gene,vecToStr)\n",
    "#this conversion is necessary so that write table does not complain that a data frame column is of type list\n",
    "go_to_gene_df <- data.frame(lapply(go_to_gene_df, as.character), stringsAsFactors=FALSE)"
   ]
  },
  {
   "cell_type": "code",
   "execution_count": 220,
   "metadata": {
    "collapsed": false
   },
   "outputs": [],
   "source": [
    "#gmt format (GSEA)\n",
    "gmt_df <- merge(go_to_name[,c(\"GOID\",\"TERM\")], go_to_gene_df, by=\"GOID\")"
   ]
  },
  {
   "cell_type": "code",
   "execution_count": null,
   "metadata": {
    "collapsed": true
   },
   "outputs": [],
   "source": [
    "gmt_df"
   ]
  },
  {
   "cell_type": "code",
   "execution_count": 267,
   "metadata": {
    "collapsed": false
   },
   "outputs": [],
   "source": [
    "write.table(gmt_df,paste(vervet_drive_dir,\"Cytoscape\",\"topgo_go_to_gene.gmt\",sep='/'),quote=FALSE,row.names=FALSE,\n",
    "            col.names=FALSE,sep='\\t')"
   ]
  },
  {
   "cell_type": "markdown",
   "metadata": {},
   "source": [
    "#### GMT file 20160610"
   ]
  },
  {
   "cell_type": "code",
   "execution_count": 18,
   "metadata": {
    "collapsed": true
   },
   "outputs": [],
   "source": [
    "go_to_gene <- annFUN.org(\"BP\",feasibleGenes=names(rms_mean_scores),mapping=\"org.Hs.eg.db\",ID = \"symbol\")"
   ]
  },
  {
   "cell_type": "code",
   "execution_count": 21,
   "metadata": {
    "collapsed": true
   },
   "outputs": [],
   "source": [
    "go_to_gene_all <- annFUN.org(\"BP\",mapping=\"org.Hs.eg.db\",ID = \"symbol\")"
   ]
  },
  {
   "cell_type": "code",
   "execution_count": 20,
   "metadata": {
    "collapsed": false
   },
   "outputs": [
    {
     "data": {
      "text/html": [
       "<strong>$GO:0031497</strong> = <ol class=list-inline>\n",
       "\t<li>'RBBP4'</li>\n",
       "\t<li>'TP53'</li>\n",
       "\t<li>'CHAF1B'</li>\n",
       "\t<li>'CHAF1A'</li>\n",
       "\t<li>'NOC2L'</li>\n",
       "\t<li>'M1AP'</li>\n",
       "\t<li>'CDAN1'</li>\n",
       "</ol>\n"
      ],
      "text/latex": [
       "\\textbf{\\$GO:0031497} = \\begin{enumerate*}\n",
       "\\item 'RBBP4'\n",
       "\\item 'TP53'\n",
       "\\item 'CHAF1B'\n",
       "\\item 'CHAF1A'\n",
       "\\item 'NOC2L'\n",
       "\\item 'M1AP'\n",
       "\\item 'CDAN1'\n",
       "\\end{enumerate*}\n"
      ],
      "text/markdown": [
       "**$GO:0031497** = 1. 'RBBP4'\n",
       "2. 'TP53'\n",
       "3. 'CHAF1B'\n",
       "4. 'CHAF1A'\n",
       "5. 'NOC2L'\n",
       "6. 'M1AP'\n",
       "7. 'CDAN1'\n",
       "\n",
       "\n"
      ],
      "text/plain": [
       "$`GO:0031497`\n",
       "[1] \"RBBP4\"  \"TP53\"   \"CHAF1B\" \"CHAF1A\" \"NOC2L\"  \"M1AP\"   \"CDAN1\" \n"
      ]
     },
     "execution_count": 20,
     "metadata": {},
     "output_type": "execute_result"
    }
   ],
   "source": [
    "go_to_gene[\"GO:0031497\"]"
   ]
  },
  {
   "cell_type": "code",
   "execution_count": 22,
   "metadata": {
    "collapsed": false
   },
   "outputs": [
    {
     "data": {
      "text/html": [
       "<strong>$GO:0031497</strong> = <ol class=list-inline>\n",
       "\t<li>'RBBP4'</li>\n",
       "\t<li>'TP53'</li>\n",
       "\t<li>'CHAF1B'</li>\n",
       "\t<li>'CHAF1A'</li>\n",
       "\t<li>'NOC2L'</li>\n",
       "\t<li>'M1AP'</li>\n",
       "\t<li>'CDAN1'</li>\n",
       "</ol>\n"
      ],
      "text/latex": [
       "\\textbf{\\$GO:0031497} = \\begin{enumerate*}\n",
       "\\item 'RBBP4'\n",
       "\\item 'TP53'\n",
       "\\item 'CHAF1B'\n",
       "\\item 'CHAF1A'\n",
       "\\item 'NOC2L'\n",
       "\\item 'M1AP'\n",
       "\\item 'CDAN1'\n",
       "\\end{enumerate*}\n"
      ],
      "text/markdown": [
       "**$GO:0031497** = 1. 'RBBP4'\n",
       "2. 'TP53'\n",
       "3. 'CHAF1B'\n",
       "4. 'CHAF1A'\n",
       "5. 'NOC2L'\n",
       "6. 'M1AP'\n",
       "7. 'CDAN1'\n",
       "\n",
       "\n"
      ],
      "text/plain": [
       "$`GO:0031497`\n",
       "[1] \"RBBP4\"  \"TP53\"   \"CHAF1B\" \"CHAF1A\" \"NOC2L\"  \"M1AP\"   \"CDAN1\" \n"
      ]
     },
     "execution_count": 22,
     "metadata": {},
     "output_type": "execute_result"
    }
   ],
   "source": [
    "go_to_gene_all[\"GO:0031497\"]"
   ]
  },
  {
   "cell_type": "markdown",
   "metadata": {},
   "source": [
    "#### Generic results file\n",
    "http://www.baderlab.org/Software/EnrichmentMap/UserManual#Generic_results_files"
   ]
  },
  {
   "cell_type": "code",
   "execution_count": 284,
   "metadata": {
    "collapsed": false
   },
   "outputs": [
    {
     "data": {
      "text/plain": [
       "\n",
       "Description: Vervet xpclr RMS gene mean scores \n",
       "Ontology: BP \n",
       "'weight01' algorithm with the 'ks' test\n",
       "5777 GO terms scored: 167 terms with p < 0.01\n",
       "Annotation data:\n",
       "    Annotated genes: 13319 \n",
       "    Significant genes: 197 \n",
       "    Min. no. of genes annotated to a GO: 10 \n",
       "    Nontrivial nodes: 5777 "
      ]
     },
     "execution_count": 284,
     "metadata": {},
     "output_type": "execute_result"
    }
   ],
   "source": [
    "resultKS.weight01"
   ]
  },
  {
   "cell_type": "code",
   "execution_count": 229,
   "metadata": {
    "collapsed": false
   },
   "outputs": [
    {
     "data": {
      "text/plain": [
       "\n",
       "Description: Vervet xpclr RMS gene mean scores \n",
       "Ontology: BP \n",
       "'weight01' algorithm with the 'ks' test\n",
       "5777 GO terms scored: 167 terms with p < 0.01\n",
       "Annotation data:\n",
       "    Annotated genes: 13319 \n",
       "    Significant genes: 145 \n",
       "    Min. no. of genes annotated to a GO: 10 \n",
       "    Nontrivial nodes: 5777 "
      ]
     },
     "execution_count": 229,
     "metadata": {},
     "output_type": "execute_result"
    }
   ],
   "source": [
    "resultKS.weight01"
   ]
  },
  {
   "cell_type": "code",
   "execution_count": 285,
   "metadata": {
    "collapsed": true
   },
   "outputs": [],
   "source": [
    "xpclr_rms_enrich_results <- GenTable(humanGOdata, weight01KS = resultKS.weight01, orderBy = \"weight01KS\", topNodes = 167)"
   ]
  },
  {
   "cell_type": "code",
   "execution_count": 271,
   "metadata": {
    "collapsed": false
   },
   "outputs": [],
   "source": [
    "generic_result <- xpclr_rms_enrich_results[,c(\"GO.ID\",\"Term\",\"weight01KS\")]"
   ]
  },
  {
   "cell_type": "code",
   "execution_count": 250,
   "metadata": {
    "collapsed": false
   },
   "outputs": [],
   "source": [
    "#generic_result$FDR = NA"
   ]
  },
  {
   "cell_type": "code",
   "execution_count": 251,
   "metadata": {
    "collapsed": false
   },
   "outputs": [],
   "source": [
    "#generic_result$Phenotype = NA"
   ]
  },
  {
   "cell_type": "code",
   "execution_count": 272,
   "metadata": {
    "collapsed": true
   },
   "outputs": [],
   "source": [
    "colnames(generic_result) <- c(\"GO.ID\",\"Description\",\"p.Val\")"
   ]
  },
  {
   "cell_type": "code",
   "execution_count": 278,
   "metadata": {
    "collapsed": false
   },
   "outputs": [],
   "source": [
    "write.table(generic_result,paste(vervet_drive_dir,\"Cytoscape\",\"topgo_xpclr_rms_generic_results_file.tsv\",sep='/'),row.names=FALSE,quote=FALSE,sep='\\t')"
   ]
  },
  {
   "cell_type": "code",
   "execution_count": 277,
   "metadata": {
    "collapsed": false
   },
   "outputs": [
    {
     "data": {
      "text/html": [
       "3"
      ],
      "text/latex": [
       "3"
      ],
      "text/markdown": [
       "3"
      ],
      "text/plain": [
       "[1] 3"
      ]
     },
     "execution_count": 277,
     "metadata": {},
     "output_type": "execute_result"
    }
   ],
   "source": [
    "length(generic_result)"
   ]
  },
  {
   "cell_type": "markdown",
   "metadata": {},
   "source": [
    "### Vervet genes with phylo conscores "
   ]
  },
  {
   "cell_type": "markdown",
   "metadata": {},
   "source": [
    "to test whether we get the same results as with the xpclr scores"
   ]
  },
  {
   "cell_type": "code",
   "execution_count": null,
   "metadata": {
    "collapsed": true
   },
   "outputs": [],
   "source": [
    "Vervet annotation R100 gene scores:"
   ]
  },
  {
   "cell_type": "code",
   "execution_count": 18,
   "metadata": {
    "collapsed": false
   },
   "outputs": [],
   "source": [
    "fn <- \"~/VervetPopgen/scratch/conscores_r100_genes.tsv\"\n",
    "t <- read.table(fn, header=TRUE, row.names=1)\n",
    "conscore_vec <- as.vector(t[[\"conscore\"]])\n",
    "names(conscore_vec) <- row.names(t)"
   ]
  },
  {
   "cell_type": "code",
   "execution_count": 22,
   "metadata": {
    "collapsed": false
   },
   "outputs": [
    {
     "name": "stdout",
     "output_type": "stream",
     "text": [
      "\n",
      "Building most specific GOs .....\t( 10338 GO terms found. )\n",
      "\n",
      "Build GO DAG topology ..........\t( 13970 GO terms and 33485 relations. )\n",
      "\n",
      "Annotating nodes ...............\t( 13380 genes annotated to the GO terms. )\n",
      "\n",
      "\t\t\t -- Weight01 Algorithm -- \n",
      "\n",
      "\t\t the algorithm is scoring 5807 nontrivial nodes\n",
      "\t\t parameters: \n",
      "\t\t\t test statistic:  ks \n",
      "\t\t\t score order:  decreasing \n",
      "\n",
      "\t Level 18:\t1 nodes to be scored\t(0 eliminated genes)\n",
      "\n",
      "\t Level 17:\t6 nodes to be scored\t(0 eliminated genes)\n",
      "\n",
      "\t Level 16:\t19 nodes to be scored\t(11 eliminated genes)\n",
      "\n",
      "\t Level 15:\t48 nodes to be scored\t(93 eliminated genes)\n",
      "\n",
      "\t Level 14:\t118 nodes to be scored\t(315 eliminated genes)\n",
      "\n",
      "\t Level 13:\t200 nodes to be scored\t(823 eliminated genes)\n",
      "\n",
      "\t Level 12:\t324 nodes to be scored\t(2048 eliminated genes)\n",
      "\n",
      "\t Level 11:\t510 nodes to be scored\t(3806 eliminated genes)\n",
      "\n",
      "\t Level 10:\t669 nodes to be scored\t(5402 eliminated genes)\n",
      "\n",
      "\t Level 9:\t821 nodes to be scored\t(7634 eliminated genes)\n",
      "\n",
      "\t Level 8:\t846 nodes to be scored\t(9283 eliminated genes)\n",
      "\n",
      "\t Level 7:\t837 nodes to be scored\t(10448 eliminated genes)\n",
      "\n",
      "\t Level 6:\t664 nodes to be scored\t(11506 eliminated genes)\n",
      "\n",
      "\t Level 5:\t444 nodes to be scored\t(12092 eliminated genes)\n",
      "\n",
      "\t Level 4:\t217 nodes to be scored\t(12693 eliminated genes)\n",
      "\n",
      "\t Level 3:\t61 nodes to be scored\t(12886 eliminated genes)\n",
      "\n",
      "\t Level 2:\t21 nodes to be scored\t(13051 eliminated genes)\n",
      "\n",
      "\t Level 1:\t1 nodes to be scored\t(13118 eliminated genes)\n"
     ]
    }
   ],
   "source": [
    "conscoreKS <- runTopGOKS(conscore_vec, \"conscore_r100\", min_genes=10)"
   ]
  },
  {
   "cell_type": "code",
   "execution_count": null,
   "metadata": {
    "collapsed": true
   },
   "outputs": [],
   "source": []
  },
  {
   "cell_type": "code",
   "execution_count": null,
   "metadata": {
    "collapsed": true
   },
   "outputs": [],
   "source": [
    "All genes conscores:"
   ]
  },
  {
   "cell_type": "code",
   "execution_count": 26,
   "metadata": {
    "collapsed": false
   },
   "outputs": [],
   "source": [
    "geneScores <- read.table('/home/GMI/hannes.svardal/vervet_project/analyses/20150528_UG_xpclr/_data/conscore_mean_per_gen.tsv',header=TRUE,row.names=1)"
   ]
  },
  {
   "cell_type": "code",
   "execution_count": 27,
   "metadata": {
    "collapsed": false
   },
   "outputs": [],
   "source": [
    "geneScoresVec <- as.vector(geneScores[[\"conscore\"]])\n",
    "names(geneScoresVec) <- row.names(geneScores)"
   ]
  },
  {
   "cell_type": "code",
   "execution_count": 28,
   "metadata": {
    "collapsed": false
   },
   "outputs": [
    {
     "name": "stdout",
     "output_type": "stream",
     "text": [
      "\n",
      "Building most specific GOs .....\t( 10260 GO terms found. )\n",
      "\n",
      "Build GO DAG topology ..........\t( 13910 GO terms and 33340 relations. )\n",
      "\n",
      "Annotating nodes ...............\t( 13054 genes annotated to the GO terms. )\n"
     ]
    }
   ],
   "source": [
    "humanGOdata <- new(\"topGOdata\",\n",
    "                    description = \"Vervet xpclr RMS gene mean scores\", ontology = \"BP\",\n",
    "                    allGenes = geneScoresVec, geneSel = selFun,\n",
    "                    nodeSize = 10,\n",
    "                    annot = annFUN.org, mapping = \"org.Hs.eg.db\", ID = \"symbol\")"
   ]
  },
  {
   "cell_type": "code",
   "execution_count": 29,
   "metadata": {
    "collapsed": false
   },
   "outputs": [
    {
     "name": "stdout",
     "output_type": "stream",
     "text": [
      "\n",
      "\t\t\t -- Weight01 Algorithm -- \n",
      "\n",
      "\t\t the algorithm is scoring 5746 nontrivial nodes\n",
      "\t\t parameters: \n",
      "\t\t\t test statistic:  ks \n",
      "\t\t\t score order:  decreasing \n",
      "\n",
      "\t Level 18:\t1 nodes to be scored\t(0 eliminated genes)\n",
      "\n",
      "\t Level 17:\t5 nodes to be scored\t(0 eliminated genes)\n",
      "\n",
      "\t Level 16:\t19 nodes to be scored\t(11 eliminated genes)\n",
      "\n",
      "\t Level 15:\t47 nodes to be scored\t(88 eliminated genes)\n",
      "\n",
      "\t Level 14:\t113 nodes to be scored\t(307 eliminated genes)\n",
      "\n",
      "\t Level 13:\t197 nodes to be scored\t(791 eliminated genes)\n",
      "\n",
      "\t Level 12:\t320 nodes to be scored\t(1987 eliminated genes)\n",
      "\n",
      "\t Level 11:\t498 nodes to be scored\t(3714 eliminated genes)\n",
      "\n",
      "\t Level 10:\t659 nodes to be scored\t(5287 eliminated genes)\n",
      "\n",
      "\t Level 9:\t814 nodes to be scored\t(7459 eliminated genes)\n",
      "\n",
      "\t Level 8:\t839 nodes to be scored\t(9078 eliminated genes)\n",
      "\n",
      "\t Level 7:\t832 nodes to be scored\t(10211 eliminated genes)\n",
      "\n",
      "\t Level 6:\t659 nodes to be scored\t(11242 eliminated genes)\n",
      "\n",
      "\t Level 5:\t443 nodes to be scored\t(11814 eliminated genes)\n",
      "\n",
      "\t Level 4:\t217 nodes to be scored\t(12389 eliminated genes)\n",
      "\n",
      "\t Level 3:\t61 nodes to be scored\t(12579 eliminated genes)\n",
      "\n",
      "\t Level 2:\t21 nodes to be scored\t(12740 eliminated genes)\n",
      "\n",
      "\t Level 1:\t1 nodes to be scored\t(12805 eliminated genes)\n"
     ]
    }
   ],
   "source": [
    "resultKS.weight01 <- runTest(humanGOdata, algorithm = \"weight01\", statistic = \"ks\", scoreOrder='decreasing')"
   ]
  },
  {
   "cell_type": "code",
   "execution_count": 30,
   "metadata": {
    "collapsed": true
   },
   "outputs": [],
   "source": [
    "allResConscores <- GenTable(humanGOdata,#classicFisher = resultFisher, ranksOf = \"classicFisher\",\n",
    "                 #  weight01Fisher = resultFisher.weight01,\n",
    "       weight01KS = resultKS.weight01,\n",
    "  orderBy = \"weight01KS\", topNodes = 167)#"
   ]
  },
  {
   "cell_type": "code",
   "execution_count": 33,
   "metadata": {
    "collapsed": false
   },
   "outputs": [
    {
     "data": {
      "text/html": [
       "41"
      ],
      "text/latex": [
       "41"
      ],
      "text/markdown": [
       "41"
      ],
      "text/plain": [
       "[1] 41"
      ]
     },
     "execution_count": 33,
     "metadata": {},
     "output_type": "execute_result"
    }
   ],
   "source": [
    "sum(allResConscores[\"weight01KS\"]<0.01)"
   ]
  },
  {
   "cell_type": "code",
   "execution_count": null,
   "metadata": {
    "collapsed": true
   },
   "outputs": [],
   "source": []
  },
  {
   "cell_type": "markdown",
   "metadata": {},
   "source": [
    "Conclusion: The conservation scores only have 41 pvalues below 0.01 (as compared 167 for the xpclr scores)\n",
    "    The categories don't have extremely strong overlap.\n",
    "Here it is mainly medium-sized categories that are enriched."
   ]
  },
  {
   "cell_type": "markdown",
   "metadata": {},
   "source": [
    "## Vervet HIV categories"
   ]
  },
  {
   "cell_type": "markdown",
   "metadata": {},
   "source": [
    "!!! THIS DOES NOT WORK. topGO needs real go-categories."
   ]
  },
  {
   "cell_type": "code",
   "execution_count": 164,
   "metadata": {
    "collapsed": true
   },
   "outputs": [],
   "source": [
    "#geneID2GO <-  readMappings(file = system.file(\"examples/geneid2go.map\", package = \"topGO\"))\n",
    "geneID2GO <- readMappings(file = '/home/GMI/hannes.svardal/vervet_project/data/gene_associations/gene_to_hiv_r100_20151130_topgo.map')"
   ]
  },
  {
   "cell_type": "code",
   "execution_count": 86,
   "metadata": {
    "collapsed": false
   },
   "outputs": [],
   "source": [
    "#geneScoresVecTest = runif(length(geneID2GO))\n",
    "#names(geneScoresVecTest) = names(geneID2GO)"
   ]
  },
  {
   "cell_type": "code",
   "execution_count": 165,
   "metadata": {
    "collapsed": false
   },
   "outputs": [
    {
     "name": "stdout",
     "output_type": "stream",
     "text": [
      "\n",
      "Building most specific GOs .....\t( 0 GO terms found. )\n",
      "\n",
      "Build GO DAG topology ..........\t( 0 GO terms and 0 relations. )\n"
     ]
    },
    {
     "ename": "ERROR",
     "evalue": "Error in sapply(adj(dag, nodes(dag)), length): error in evaluating the argument 'X' in selecting a method for function 'sapply': Error in if (is.na(index) || index < 0 || index > length(nd)) stop(\"vertex is not in graph: \",  : \n  missing value where TRUE/FALSE needed\nCalls: adj -> adj\n\n",
     "output_type": "error",
     "traceback": [
      "Error in sapply(adj(dag, nodes(dag)), length): error in evaluating the argument 'X' in selecting a method for function 'sapply': Error in if (is.na(index) || index < 0 || index > length(nd)) stop(\"vertex is not in graph: \",  : \n  missing value where TRUE/FALSE needed\nCalls: adj -> adj\n\n"
     ]
    }
   ],
   "source": [
    "hivGOdata <- new(\"topGOdata\",\n",
    "                    description = \"Vervet xpclr RMS gene mean scores tested against hiv categories\", ontology = \"MF\",\n",
    "                    allGenes = geneScoresVec, geneSel = selFun,\n",
    "                 annot = annFUN.gene2GO,\n",
    "                     gene2GO = geneID2GO) #ncbi hiv categories"
   ]
  },
  {
   "cell_type": "code",
   "execution_count": 161,
   "metadata": {
    "collapsed": false
   },
   "outputs": [
    {
     "name": "stdout",
     "output_type": "stream",
     "text": [
      "\n",
      "\t\t\t -- Classic Algorithm -- \n",
      "\n",
      "\t\t the algorithm is scoring 54 nontrivial nodes\n",
      "\t\t parameters: \n",
      "\t\t\t test statistic:  fisher \n",
      "\n",
      "\t\t\t -- Classic Algorithm -- \n",
      "\n",
      "\t\t the algorithm is scoring 249 nontrivial nodes\n",
      "\t\t parameters: \n",
      "\t\t\t test statistic:  ks \n",
      "\t\t\t score order:  decreasing \n",
      "\n",
      "\t\t\t -- Elim Algorithm -- \n",
      "\n",
      "\t\t the algorithm is scoring 249 nontrivial nodes\n",
      "\t\t parameters: \n",
      "\t\t\t test statistic:  ks \n",
      "\t\t\t cutOff:  0.01 \n",
      "\t\t\t score order:  decreasing \n",
      "\n",
      "\t Level 13:\t1 nodes to be scored\t(0 eliminated genes)\n",
      "\n",
      "\t Level 12:\t2 nodes to be scored\t(0 eliminated genes)\n",
      "\n",
      "\t Level 11:\t8 nodes to be scored\t(0 eliminated genes)\n",
      "\n",
      "\t Level 10:\t7 nodes to be scored\t(217 eliminated genes)\n",
      "\n",
      "\t Level 9:\t13 nodes to be scored\t(217 eliminated genes)\n",
      "\n",
      "\t Level 8:\t22 nodes to be scored\t(217 eliminated genes)\n",
      "\n",
      "\t Level 7:\t35 nodes to be scored\t(217 eliminated genes)\n",
      "\n",
      "\t Level 6:\t49 nodes to be scored\t(219 eliminated genes)\n",
      "\n",
      "\t Level 5:\t43 nodes to be scored\t(318 eliminated genes)\n",
      "\n",
      "\t Level 4:\t40 nodes to be scored\t(458 eliminated genes)\n",
      "\n",
      "\t Level 3:\t24 nodes to be scored\t(458 eliminated genes)\n",
      "\n",
      "\t Level 2:\t4 nodes to be scored\t(458 eliminated genes)\n",
      "\n",
      "\t Level 1:\t1 nodes to be scored\t(458 eliminated genes)\n",
      "\n",
      "\t\t\t -- Weight01 Algorithm -- \n",
      "\n",
      "\t\t the algorithm is scoring 249 nontrivial nodes\n",
      "\t\t parameters: \n",
      "\t\t\t test statistic:  ks \n",
      "\t\t\t score order:  decreasing \n",
      "\n",
      "\t Level 13:\t1 nodes to be scored\t(0 eliminated genes)\n",
      "\n",
      "\t Level 12:\t2 nodes to be scored\t(0 eliminated genes)\n",
      "\n",
      "\t Level 11:\t8 nodes to be scored\t(22 eliminated genes)\n",
      "\n",
      "\t Level 10:\t7 nodes to be scored\t(39 eliminated genes)\n",
      "\n",
      "\t Level 9:\t13 nodes to be scored\t(310 eliminated genes)\n",
      "\n",
      "\t Level 8:\t22 nodes to be scored\t(355 eliminated genes)\n",
      "\n",
      "\t Level 7:\t35 nodes to be scored\t(379 eliminated genes)\n",
      "\n",
      "\t Level 6:\t49 nodes to be scored\t(839 eliminated genes)\n",
      "\n",
      "\t Level 5:\t43 nodes to be scored\t(1028 eliminated genes)\n",
      "\n",
      "\t Level 4:\t40 nodes to be scored\t(1310 eliminated genes)\n",
      "\n",
      "\t Level 3:\t24 nodes to be scored\t(1445 eliminated genes)\n",
      "\n",
      "\t Level 2:\t4 nodes to be scored\t(1453 eliminated genes)\n",
      "\n",
      "\t Level 1:\t1 nodes to be scored\t(1490 eliminated genes)\n"
     ]
    }
   ],
   "source": [
    "#classic candidate vs background test\n",
    "resultFisher <- runTest(hivGOdata, algorithm = \"classic\", statistic = \"fisher\")\n",
    "#run Kolmogorov Smirnov test on expression p-vlaues of all genes\n",
    "resultKS <- runTest(hivGOdata, algorithm = \"classic\", statistic = \"ks\", scoreOrder='decreasing')\n",
    "#accounts for gene overlap\n",
    "resultKS.elim <- runTest(hivGOdata, algorithm = \"elim\", statistic = \"ks\", scoreOrder='decreasing')\n",
    "resultKS.weight01 <- runTest(hivGOdata, algorithm = \"weight01\", statistic = \"ks\", scoreOrder='decreasing')"
   ]
  },
  {
   "cell_type": "code",
   "execution_count": 162,
   "metadata": {
    "collapsed": true
   },
   "outputs": [],
   "source": [
    "allRes <- GenTable(hivGOdata,classicFisher = resultFisher, ranksOf = \"classicFisher\",\n",
    "  classicKS = resultKS, elimKS = resultKS.elim,\n",
    "  orderBy = \"elimKS\", topNodes = 50)#"
   ]
  },
  {
   "cell_type": "code",
   "execution_count": 163,
   "metadata": {
    "collapsed": false
   },
   "outputs": [
    {
     "data": {
      "text/html": [
       "<table>\n",
       "<thead><tr><th></th><th scope=col>GO.ID</th><th scope=col>Term</th><th scope=col>Annotated</th><th scope=col>Significant</th><th scope=col>Expected</th><th scope=col>Rank in classicFisher</th><th scope=col>classicFisher</th><th scope=col>classicKS</th><th scope=col>elimKS</th></tr></thead>\n",
       "<tbody>\n",
       "\t<tr><th scope=row>1</th><td>GO:0000062</td><td>fatty-acyl-CoA binding</td><td>199</td><td>5</td><td>2.14</td><td>4</td><td>0.051</td><td>1.4e-09</td><td>1.4e-09</td></tr>\n",
       "\t<tr><th scope=row>2</th><td>GO:0000064</td><td>L-ornithine transmembrane transporter ac...</td><td>182</td><td>4</td><td>1.95</td><td>12</td><td>0.121</td><td>1.3e-06</td><td>1.3e-06</td></tr>\n",
       "\t<tr><th scope=row>3</th><td>GO:0000016</td><td>lactase activity</td><td>101</td><td>2</td><td>1.08</td><td>33</td><td>0.296</td><td>0.00010</td><td>0.00010</td></tr>\n",
       "\t<tr><th scope=row>4</th><td>GO:0000309</td><td>nicotinamide-nucleotide adenylyltransfer...</td><td>7</td><td>0</td><td>0.08</td><td>54</td><td>1.000</td><td>0.00015</td><td>0.00015</td></tr>\n",
       "\t<tr><th scope=row>5</th><td>GO:0000100</td><td>S-methylmethionine transmembrane transpo...</td><td>35</td><td>1</td><td>0.38</td><td>36</td><td>0.318</td><td>0.00027</td><td>0.00027</td></tr>\n",
       "\t<tr><th scope=row>6</th><td>GO:0000250</td><td>lanosterol synthase activity</td><td>13</td><td>1</td><td>0.14</td><td>13</td><td>0.131</td><td>0.00043</td><td>0.00043</td></tr>\n",
       "\t<tr><th scope=row>7</th><td>GO:0000285</td><td>1-phosphatidylinositol-3-phosphate 5-kin...</td><td>6</td><td>0</td><td>0.06</td><td>55</td><td>1.000</td><td>0.02280</td><td>0.02280</td></tr>\n",
       "\t<tr><th scope=row>8</th><td>GO:0016307</td><td>phosphatidylinositol phosphate kinase ac...</td><td>6</td><td>0</td><td>0.06</td><td>56</td><td>1.000</td><td>0.02280</td><td>0.02280</td></tr>\n",
       "\t<tr><th scope=row>9</th><td>GO:0000257</td><td>nitrilase activity</td><td>3</td><td>0</td><td>0.03</td><td>57</td><td>1.000</td><td>0.05528</td><td>0.05528</td></tr>\n",
       "\t<tr><th scope=row>10</th><td>GO:0016815</td><td>hydrolase activity, acting on carbon-nit...</td><td>3</td><td>0</td><td>0.03</td><td>58</td><td>1.000</td><td>0.05528</td><td>0.05528</td></tr>\n",
       "\t<tr><th scope=row>11</th><td>GO:0000386</td><td>second spliceosomal transesterification ...</td><td>5</td><td>0</td><td>0.05</td><td>59</td><td>1.000</td><td>0.06129</td><td>0.06129</td></tr>\n",
       "\t<tr><th scope=row>12</th><td>GO:0000006</td><td>high-affinity zinc uptake transmembrane ...</td><td>40</td><td>1</td><td>0.43</td><td>38</td><td>0.354</td><td>0.06236</td><td>0.06236</td></tr>\n",
       "\t<tr><th scope=row>13</th><td>GO:0000213</td><td>tRNA-intron endonuclease activity</td><td>11</td><td>0</td><td>0.12</td><td>60</td><td>1.000</td><td>0.09091</td><td>0.09091</td></tr>\n",
       "\t<tr><th scope=row>14</th><td>GO:0004521</td><td>endoribonuclease activity</td><td>11</td><td>0</td><td>0.12</td><td>61</td><td>1.000</td><td>0.09091</td><td>0.09091</td></tr>\n",
       "\t<tr><th scope=row>15</th><td>GO:0004549</td><td>tRNA-specific ribonuclease activity</td><td>11</td><td>0</td><td>0.12</td><td>62</td><td>1.000</td><td>0.09091</td><td>0.09091</td></tr>\n",
       "\t<tr><th scope=row>16</th><td>GO:0016892</td><td>endoribonuclease activity, producing 3'-...</td><td>11</td><td>0</td><td>0.12</td><td>63</td><td>1.000</td><td>0.09091</td><td>0.09091</td></tr>\n",
       "\t<tr><th scope=row>17</th><td>GO:0016894</td><td>endonuclease activity, active with eithe...</td><td>11</td><td>0</td><td>0.12</td><td>64</td><td>1.000</td><td>0.09091</td><td>0.09091</td></tr>\n",
       "\t<tr><th scope=row>18</th><td>GO:0000234</td><td>phosphoethanolamine N-methyltransferase ...</td><td>7</td><td>0</td><td>0.08</td><td>65</td><td>1.000</td><td>0.09176</td><td>0.09176</td></tr>\n",
       "\t<tr><th scope=row>19</th><td>GO:0000035</td><td>acyl binding</td><td>86</td><td>0</td><td>0.92</td><td>66</td><td>1.000</td><td>0.11024</td><td>0.11024</td></tr>\n",
       "\t<tr><th scope=row>20</th><td>GO:0000026</td><td>alpha-1,2-mannosyltransferase activity</td><td>27</td><td>0</td><td>0.29</td><td>67</td><td>1.000</td><td>0.12117</td><td>0.12117</td></tr>\n",
       "\t<tr><th scope=row>21</th><td>GO:0016779</td><td>nucleotidyltransferase activity</td><td>10</td><td>0</td><td>0.11</td><td>68</td><td>1.000</td><td>0.00040</td><td>0.13179</td></tr>\n",
       "\t<tr><th scope=row>22</th><td>GO:0000332</td><td>template for synthesis of G-rich strand ...</td><td>3</td><td>0</td><td>0.03</td><td>69</td><td>1.000</td><td>0.13432</td><td>0.13432</td></tr>\n",
       "\t<tr><th scope=row>23</th><td>GO:0003720</td><td>telomerase activity</td><td>3</td><td>0</td><td>0.03</td><td>70</td><td>1.000</td><td>0.13432</td><td>0.13432</td></tr>\n",
       "\t<tr><th scope=row>24</th><td>GO:0003964</td><td>RNA-directed DNA polymerase activity</td><td>3</td><td>0</td><td>0.03</td><td>71</td><td>1.000</td><td>0.13432</td><td>0.13432</td></tr>\n",
       "\t<tr><th scope=row>25</th><td>GO:0034061</td><td>DNA polymerase activity</td><td>3</td><td>0</td><td>0.03</td><td>72</td><td>1.000</td><td>0.13432</td><td>0.13432</td></tr>\n",
       "\t<tr><th scope=row>26</th><td>GO:0000498</td><td>base pairing with RNA</td><td>2</td><td>0</td><td>0.02</td><td>73</td><td>1.000</td><td>0.13631</td><td>0.13631</td></tr>\n",
       "\t<tr><th scope=row>27</th><td>GO:0016772</td><td>transferase activity, transferring phosp...</td><td>39</td><td>0</td><td>0.42</td><td>74</td><td>1.000</td><td>0.03371</td><td>0.15290</td></tr>\n",
       "\t<tr><th scope=row>28</th><td>GO:0000295</td><td>adenine nucleotide transmembrane transpo...</td><td>1</td><td>0</td><td>0.01</td><td>75</td><td>1.000</td><td>0.16323</td><td>0.16323</td></tr>\n",
       "\t<tr><th scope=row>29</th><td>GO:0015215</td><td>nucleotide transmembrane transporter act...</td><td>1</td><td>0</td><td>0.01</td><td>76</td><td>1.000</td><td>0.16323</td><td>0.16323</td></tr>\n",
       "\t<tr><th scope=row>30</th><td>GO:0015216</td><td>purine nucleotide transmembrane transpor...</td><td>1</td><td>0</td><td>0.01</td><td>77</td><td>1.000</td><td>0.16323</td><td>0.16323</td></tr>\n",
       "\t<tr><th scope=row>31</th><td>GO:0015605</td><td>organophosphate ester transmembrane tran...</td><td>1</td><td>0</td><td>0.01</td><td>78</td><td>1.000</td><td>0.16323</td><td>0.16323</td></tr>\n",
       "\t<tr><th scope=row>32</th><td>GO:1901677</td><td>phosphate transmembrane transporter acti...</td><td>1</td><td>0</td><td>0.01</td><td>79</td><td>1.000</td><td>0.16323</td><td>0.16323</td></tr>\n",
       "\t<tr><th scope=row>33</th><td>GO:0008168</td><td>methyltransferase activity</td><td>13</td><td>0</td><td>0.14</td><td>80</td><td>1.000</td><td>0.17394</td><td>0.17394</td></tr>\n",
       "\t<tr><th scope=row>34</th><td>GO:0008170</td><td>N-methyltransferase activity</td><td>13</td><td>0</td><td>0.14</td><td>81</td><td>1.000</td><td>0.17394</td><td>0.17394</td></tr>\n",
       "\t<tr><th scope=row>35</th><td>GO:0008757</td><td>S-adenosylmethionine-dependent methyltra...</td><td>13</td><td>0</td><td>0.14</td><td>82</td><td>1.000</td><td>0.17394</td><td>0.17394</td></tr>\n",
       "\t<tr><th scope=row>36</th><td>GO:0016741</td><td>transferase activity, transferring one-c...</td><td>13</td><td>0</td><td>0.14</td><td>83</td><td>1.000</td><td>0.17394</td><td>0.17394</td></tr>\n",
       "\t<tr><th scope=row>37</th><td>GO:0000268</td><td>peroxisome targeting sequence binding</td><td>11</td><td>0</td><td>0.12</td><td>84</td><td>1.000</td><td>0.19021</td><td>0.19021</td></tr>\n",
       "\t<tr><th scope=row>38</th><td>GO:0005048</td><td>signal sequence binding</td><td>11</td><td>0</td><td>0.12</td><td>85</td><td>1.000</td><td>0.19021</td><td>0.19021</td></tr>\n",
       "\t<tr><th scope=row>39</th><td>GO:0033218</td><td>amide binding</td><td>11</td><td>0</td><td>0.12</td><td>86</td><td>1.000</td><td>0.19021</td><td>0.19021</td></tr>\n",
       "\t<tr><th scope=row>40</th><td>GO:0042277</td><td>peptide binding</td><td>11</td><td>0</td><td>0.12</td><td>87</td><td>1.000</td><td>0.19021</td><td>0.19021</td></tr>\n",
       "\t<tr><th scope=row>41</th><td>GO:0004540</td><td>ribonuclease activity</td><td>12</td><td>0</td><td>0.13</td><td>88</td><td>1.000</td><td>0.19304</td><td>0.19304</td></tr>\n",
       "\t<tr><th scope=row>42</th><td>GO:0000293</td><td>ferric-chelate reductase activity</td><td>1</td><td>0</td><td>0.01</td><td>89</td><td>1.000</td><td>0.19436</td><td>0.19436</td></tr>\n",
       "\t<tr><th scope=row>43</th><td>GO:0016722</td><td>oxidoreductase activity, oxidizing metal...</td><td>1</td><td>0</td><td>0.01</td><td>90</td><td>1.000</td><td>0.19436</td><td>0.19436</td></tr>\n",
       "\t<tr><th scope=row>44</th><td>GO:0016723</td><td>oxidoreductase activity, oxidizing metal...</td><td>1</td><td>0</td><td>0.01</td><td>91</td><td>1.000</td><td>0.19436</td><td>0.19436</td></tr>\n",
       "\t<tr><th scope=row>45</th><td>GO:0000254</td><td>C-4 methylsterol oxidase activity</td><td>11</td><td>0</td><td>0.12</td><td>92</td><td>1.000</td><td>0.20465</td><td>0.20465</td></tr>\n",
       "\t<tr><th scope=row>46</th><td>GO:0004497</td><td>monooxygenase activity</td><td>11</td><td>0</td><td>0.12</td><td>93</td><td>1.000</td><td>0.20465</td><td>0.20465</td></tr>\n",
       "\t<tr><th scope=row>47</th><td>GO:0016709</td><td>oxidoreductase activity, acting on paire...</td><td>11</td><td>0</td><td>0.12</td><td>94</td><td>1.000</td><td>0.20465</td><td>0.20465</td></tr>\n",
       "\t<tr><th scope=row>48</th><td>GO:0008324</td><td>cation transmembrane transporter activit...</td><td>262</td><td>5</td><td>2.81</td><td>16</td><td>0.134</td><td>4.1e-06</td><td>0.20697</td></tr>\n",
       "\t<tr><th scope=row>49</th><td>GO:0000340</td><td>RNA 7-methylguanosine cap binding</td><td>1</td><td>0</td><td>0.01</td><td>95</td><td>1.000</td><td>0.24230</td><td>0.24230</td></tr>\n",
       "\t<tr><th scope=row>50</th><td>GO:0016301</td><td>kinase activity</td><td>12</td><td>0</td><td>0.13</td><td>96</td><td>1.000</td><td>0.24580</td><td>0.24580</td></tr>\n",
       "</tbody>\n",
       "</table>\n"
      ],
      "text/latex": [
       "\\begin{tabular}{r|lllllllll}\n",
       "  & GO.ID & Term & Annotated & Significant & Expected & Rank in classicFisher & classicFisher & classicKS & elimKS\\\\\n",
       "\\hline\n",
       "\t1 & GO:0000062 & fatty-acyl-CoA binding & 199 & 5 & 2.14 & 4 & 0.051 & 1.4e-09 & 1.4e-09\\\\\n",
       "\t2 & GO:0000064 & L-ornithine transmembrane transporter ac... & 182 & 4 & 1.95 & 12 & 0.121 & 1.3e-06 & 1.3e-06\\\\\n",
       "\t3 & GO:0000016 & lactase activity & 101 & 2 & 1.08 & 33 & 0.296 & 0.00010 & 0.00010\\\\\n",
       "\t4 & GO:0000309 & nicotinamide-nucleotide adenylyltransfer... & 7 & 0 & 0.08 & 54 & 1.000 & 0.00015 & 0.00015\\\\\n",
       "\t5 & GO:0000100 & S-methylmethionine transmembrane transpo... & 35 & 1 & 0.38 & 36 & 0.318 & 0.00027 & 0.00027\\\\\n",
       "\t6 & GO:0000250 & lanosterol synthase activity & 13 & 1 & 0.14 & 13 & 0.131 & 0.00043 & 0.00043\\\\\n",
       "\t7 & GO:0000285 & 1-phosphatidylinositol-3-phosphate 5-kin... & 6 & 0 & 0.06 & 55 & 1.000 & 0.02280 & 0.02280\\\\\n",
       "\t8 & GO:0016307 & phosphatidylinositol phosphate kinase ac... & 6 & 0 & 0.06 & 56 & 1.000 & 0.02280 & 0.02280\\\\\n",
       "\t9 & GO:0000257 & nitrilase activity & 3 & 0 & 0.03 & 57 & 1.000 & 0.05528 & 0.05528\\\\\n",
       "\t10 & GO:0016815 & hydrolase activity, acting on carbon-nit... & 3 & 0 & 0.03 & 58 & 1.000 & 0.05528 & 0.05528\\\\\n",
       "\t11 & GO:0000386 & second spliceosomal transesterification ... & 5 & 0 & 0.05 & 59 & 1.000 & 0.06129 & 0.06129\\\\\n",
       "\t12 & GO:0000006 & high-affinity zinc uptake transmembrane ... & 40 & 1 & 0.43 & 38 & 0.354 & 0.06236 & 0.06236\\\\\n",
       "\t13 & GO:0000213 & tRNA-intron endonuclease activity & 11 & 0 & 0.12 & 60 & 1.000 & 0.09091 & 0.09091\\\\\n",
       "\t14 & GO:0004521 & endoribonuclease activity & 11 & 0 & 0.12 & 61 & 1.000 & 0.09091 & 0.09091\\\\\n",
       "\t15 & GO:0004549 & tRNA-specific ribonuclease activity & 11 & 0 & 0.12 & 62 & 1.000 & 0.09091 & 0.09091\\\\\n",
       "\t16 & GO:0016892 & endoribonuclease activity, producing 3'-... & 11 & 0 & 0.12 & 63 & 1.000 & 0.09091 & 0.09091\\\\\n",
       "\t17 & GO:0016894 & endonuclease activity, active with eithe... & 11 & 0 & 0.12 & 64 & 1.000 & 0.09091 & 0.09091\\\\\n",
       "\t18 & GO:0000234 & phosphoethanolamine N-methyltransferase ... & 7 & 0 & 0.08 & 65 & 1.000 & 0.09176 & 0.09176\\\\\n",
       "\t19 & GO:0000035 & acyl binding & 86 & 0 & 0.92 & 66 & 1.000 & 0.11024 & 0.11024\\\\\n",
       "\t20 & GO:0000026 & alpha-1,2-mannosyltransferase activity & 27 & 0 & 0.29 & 67 & 1.000 & 0.12117 & 0.12117\\\\\n",
       "\t21 & GO:0016779 & nucleotidyltransferase activity & 10 & 0 & 0.11 & 68 & 1.000 & 0.00040 & 0.13179\\\\\n",
       "\t22 & GO:0000332 & template for synthesis of G-rich strand ... & 3 & 0 & 0.03 & 69 & 1.000 & 0.13432 & 0.13432\\\\\n",
       "\t23 & GO:0003720 & telomerase activity & 3 & 0 & 0.03 & 70 & 1.000 & 0.13432 & 0.13432\\\\\n",
       "\t24 & GO:0003964 & RNA-directed DNA polymerase activity & 3 & 0 & 0.03 & 71 & 1.000 & 0.13432 & 0.13432\\\\\n",
       "\t25 & GO:0034061 & DNA polymerase activity & 3 & 0 & 0.03 & 72 & 1.000 & 0.13432 & 0.13432\\\\\n",
       "\t26 & GO:0000498 & base pairing with RNA & 2 & 0 & 0.02 & 73 & 1.000 & 0.13631 & 0.13631\\\\\n",
       "\t27 & GO:0016772 & transferase activity, transferring phosp... & 39 & 0 & 0.42 & 74 & 1.000 & 0.03371 & 0.15290\\\\\n",
       "\t28 & GO:0000295 & adenine nucleotide transmembrane transpo... & 1 & 0 & 0.01 & 75 & 1.000 & 0.16323 & 0.16323\\\\\n",
       "\t29 & GO:0015215 & nucleotide transmembrane transporter act... & 1 & 0 & 0.01 & 76 & 1.000 & 0.16323 & 0.16323\\\\\n",
       "\t30 & GO:0015216 & purine nucleotide transmembrane transpor... & 1 & 0 & 0.01 & 77 & 1.000 & 0.16323 & 0.16323\\\\\n",
       "\t31 & GO:0015605 & organophosphate ester transmembrane tran... & 1 & 0 & 0.01 & 78 & 1.000 & 0.16323 & 0.16323\\\\\n",
       "\t32 & GO:1901677 & phosphate transmembrane transporter acti... & 1 & 0 & 0.01 & 79 & 1.000 & 0.16323 & 0.16323\\\\\n",
       "\t33 & GO:0008168 & methyltransferase activity & 13 & 0 & 0.14 & 80 & 1.000 & 0.17394 & 0.17394\\\\\n",
       "\t34 & GO:0008170 & N-methyltransferase activity & 13 & 0 & 0.14 & 81 & 1.000 & 0.17394 & 0.17394\\\\\n",
       "\t35 & GO:0008757 & S-adenosylmethionine-dependent methyltra... & 13 & 0 & 0.14 & 82 & 1.000 & 0.17394 & 0.17394\\\\\n",
       "\t36 & GO:0016741 & transferase activity, transferring one-c... & 13 & 0 & 0.14 & 83 & 1.000 & 0.17394 & 0.17394\\\\\n",
       "\t37 & GO:0000268 & peroxisome targeting sequence binding & 11 & 0 & 0.12 & 84 & 1.000 & 0.19021 & 0.19021\\\\\n",
       "\t38 & GO:0005048 & signal sequence binding & 11 & 0 & 0.12 & 85 & 1.000 & 0.19021 & 0.19021\\\\\n",
       "\t39 & GO:0033218 & amide binding & 11 & 0 & 0.12 & 86 & 1.000 & 0.19021 & 0.19021\\\\\n",
       "\t40 & GO:0042277 & peptide binding & 11 & 0 & 0.12 & 87 & 1.000 & 0.19021 & 0.19021\\\\\n",
       "\t41 & GO:0004540 & ribonuclease activity & 12 & 0 & 0.13 & 88 & 1.000 & 0.19304 & 0.19304\\\\\n",
       "\t42 & GO:0000293 & ferric-chelate reductase activity & 1 & 0 & 0.01 & 89 & 1.000 & 0.19436 & 0.19436\\\\\n",
       "\t43 & GO:0016722 & oxidoreductase activity, oxidizing metal... & 1 & 0 & 0.01 & 90 & 1.000 & 0.19436 & 0.19436\\\\\n",
       "\t44 & GO:0016723 & oxidoreductase activity, oxidizing metal... & 1 & 0 & 0.01 & 91 & 1.000 & 0.19436 & 0.19436\\\\\n",
       "\t45 & GO:0000254 & C-4 methylsterol oxidase activity & 11 & 0 & 0.12 & 92 & 1.000 & 0.20465 & 0.20465\\\\\n",
       "\t46 & GO:0004497 & monooxygenase activity & 11 & 0 & 0.12 & 93 & 1.000 & 0.20465 & 0.20465\\\\\n",
       "\t47 & GO:0016709 & oxidoreductase activity, acting on paire... & 11 & 0 & 0.12 & 94 & 1.000 & 0.20465 & 0.20465\\\\\n",
       "\t48 & GO:0008324 & cation transmembrane transporter activit... & 262 & 5 & 2.81 & 16 & 0.134 & 4.1e-06 & 0.20697\\\\\n",
       "\t49 & GO:0000340 & RNA 7-methylguanosine cap binding & 1 & 0 & 0.01 & 95 & 1.000 & 0.24230 & 0.24230\\\\\n",
       "\t50 & GO:0016301 & kinase activity & 12 & 0 & 0.13 & 96 & 1.000 & 0.24580 & 0.24580\\\\\n",
       "\\end{tabular}\n"
      ],
      "text/plain": [
       "        GO.ID                                        Term Annotated Significant\n",
       "1  GO:0000062                      fatty-acyl-CoA binding       199           5\n",
       "2  GO:0000064 L-ornithine transmembrane transporter ac...       182           4\n",
       "3  GO:0000016                            lactase activity       101           2\n",
       "4  GO:0000309 nicotinamide-nucleotide adenylyltransfer...         7           0\n",
       "5  GO:0000100 S-methylmethionine transmembrane transpo...        35           1\n",
       "6  GO:0000250                lanosterol synthase activity        13           1\n",
       "7  GO:0000285 1-phosphatidylinositol-3-phosphate 5-kin...         6           0\n",
       "8  GO:0016307 phosphatidylinositol phosphate kinase ac...         6           0\n",
       "9  GO:0000257                          nitrilase activity         3           0\n",
       "10 GO:0016815 hydrolase activity, acting on carbon-nit...         3           0\n",
       "11 GO:0000386 second spliceosomal transesterification ...         5           0\n",
       "12 GO:0000006 high-affinity zinc uptake transmembrane ...        40           1\n",
       "13 GO:0000213           tRNA-intron endonuclease activity        11           0\n",
       "14 GO:0004521                   endoribonuclease activity        11           0\n",
       "15 GO:0004549         tRNA-specific ribonuclease activity        11           0\n",
       "16 GO:0016892 endoribonuclease activity, producing 3'-...        11           0\n",
       "17 GO:0016894 endonuclease activity, active with eithe...        11           0\n",
       "18 GO:0000234 phosphoethanolamine N-methyltransferase ...         7           0\n",
       "19 GO:0000035                                acyl binding        86           0\n",
       "20 GO:0000026      alpha-1,2-mannosyltransferase activity        27           0\n",
       "21 GO:0016779             nucleotidyltransferase activity        10           0\n",
       "22 GO:0000332 template for synthesis of G-rich strand ...         3           0\n",
       "23 GO:0003720                         telomerase activity         3           0\n",
       "24 GO:0003964        RNA-directed DNA polymerase activity         3           0\n",
       "25 GO:0034061                     DNA polymerase activity         3           0\n",
       "26 GO:0000498                       base pairing with RNA         2           0\n",
       "27 GO:0016772 transferase activity, transferring phosp...        39           0\n",
       "28 GO:0000295 adenine nucleotide transmembrane transpo...         1           0\n",
       "29 GO:0015215 nucleotide transmembrane transporter act...         1           0\n",
       "30 GO:0015216 purine nucleotide transmembrane transpor...         1           0\n",
       "31 GO:0015605 organophosphate ester transmembrane tran...         1           0\n",
       "32 GO:1901677 phosphate transmembrane transporter acti...         1           0\n",
       "33 GO:0008168                  methyltransferase activity        13           0\n",
       "34 GO:0008170                N-methyltransferase activity        13           0\n",
       "35 GO:0008757 S-adenosylmethionine-dependent methyltra...        13           0\n",
       "36 GO:0016741 transferase activity, transferring one-c...        13           0\n",
       "37 GO:0000268       peroxisome targeting sequence binding        11           0\n",
       "38 GO:0005048                     signal sequence binding        11           0\n",
       "39 GO:0033218                               amide binding        11           0\n",
       "40 GO:0042277                             peptide binding        11           0\n",
       "41 GO:0004540                       ribonuclease activity        12           0\n",
       "42 GO:0000293           ferric-chelate reductase activity         1           0\n",
       "43 GO:0016722 oxidoreductase activity, oxidizing metal...         1           0\n",
       "44 GO:0016723 oxidoreductase activity, oxidizing metal...         1           0\n",
       "45 GO:0000254           C-4 methylsterol oxidase activity        11           0\n",
       "46 GO:0004497                      monooxygenase activity        11           0\n",
       "47 GO:0016709 oxidoreductase activity, acting on paire...        11           0\n",
       "48 GO:0008324 cation transmembrane transporter activit...       262           5\n",
       "49 GO:0000340           RNA 7-methylguanosine cap binding         1           0\n",
       "50 GO:0016301                             kinase activity        12           0\n",
       "   Expected Rank in classicFisher classicFisher classicKS  elimKS\n",
       "1      2.14                     4         0.051   1.4e-09 1.4e-09\n",
       "2      1.95                    12         0.121   1.3e-06 1.3e-06\n",
       "3      1.08                    33         0.296   0.00010 0.00010\n",
       "4      0.08                    54         1.000   0.00015 0.00015\n",
       "5      0.38                    36         0.318   0.00027 0.00027\n",
       "6      0.14                    13         0.131   0.00043 0.00043\n",
       "7      0.06                    55         1.000   0.02280 0.02280\n",
       "8      0.06                    56         1.000   0.02280 0.02280\n",
       "9      0.03                    57         1.000   0.05528 0.05528\n",
       "10     0.03                    58         1.000   0.05528 0.05528\n",
       "11     0.05                    59         1.000   0.06129 0.06129\n",
       "12     0.43                    38         0.354   0.06236 0.06236\n",
       "13     0.12                    60         1.000   0.09091 0.09091\n",
       "14     0.12                    61         1.000   0.09091 0.09091\n",
       "15     0.12                    62         1.000   0.09091 0.09091\n",
       "16     0.12                    63         1.000   0.09091 0.09091\n",
       "17     0.12                    64         1.000   0.09091 0.09091\n",
       "18     0.08                    65         1.000   0.09176 0.09176\n",
       "19     0.92                    66         1.000   0.11024 0.11024\n",
       "20     0.29                    67         1.000   0.12117 0.12117\n",
       "21     0.11                    68         1.000   0.00040 0.13179\n",
       "22     0.03                    69         1.000   0.13432 0.13432\n",
       "23     0.03                    70         1.000   0.13432 0.13432\n",
       "24     0.03                    71         1.000   0.13432 0.13432\n",
       "25     0.03                    72         1.000   0.13432 0.13432\n",
       "26     0.02                    73         1.000   0.13631 0.13631\n",
       "27     0.42                    74         1.000   0.03371 0.15290\n",
       "28     0.01                    75         1.000   0.16323 0.16323\n",
       "29     0.01                    76         1.000   0.16323 0.16323\n",
       "30     0.01                    77         1.000   0.16323 0.16323\n",
       "31     0.01                    78         1.000   0.16323 0.16323\n",
       "32     0.01                    79         1.000   0.16323 0.16323\n",
       "33     0.14                    80         1.000   0.17394 0.17394\n",
       "34     0.14                    81         1.000   0.17394 0.17394\n",
       "35     0.14                    82         1.000   0.17394 0.17394\n",
       "36     0.14                    83         1.000   0.17394 0.17394\n",
       "37     0.12                    84         1.000   0.19021 0.19021\n",
       "38     0.12                    85         1.000   0.19021 0.19021\n",
       "39     0.12                    86         1.000   0.19021 0.19021\n",
       "40     0.12                    87         1.000   0.19021 0.19021\n",
       "41     0.13                    88         1.000   0.19304 0.19304\n",
       "42     0.01                    89         1.000   0.19436 0.19436\n",
       "43     0.01                    90         1.000   0.19436 0.19436\n",
       "44     0.01                    91         1.000   0.19436 0.19436\n",
       "45     0.12                    92         1.000   0.20465 0.20465\n",
       "46     0.12                    93         1.000   0.20465 0.20465\n",
       "47     0.12                    94         1.000   0.20465 0.20465\n",
       "48     2.81                    16         0.134   4.1e-06 0.20697\n",
       "49     0.01                    95         1.000   0.24230 0.24230\n",
       "50     0.13                    96         1.000   0.24580 0.24580"
      ]
     },
     "execution_count": 163,
     "metadata": {},
     "output_type": "execute_result"
    }
   ],
   "source": [
    "allRes"
   ]
  },
  {
   "cell_type": "code",
   "execution_count": null,
   "metadata": {
    "collapsed": true
   },
   "outputs": [],
   "source": []
  },
  {
   "cell_type": "code",
   "execution_count": 1,
   "metadata": {
    "collapsed": false
   },
   "outputs": [
    {
     "data": {
      "text/html": [
       "2"
      ],
      "text/latex": [
       "2"
      ],
      "text/markdown": [
       "2"
      ],
      "text/plain": [
       "[1] 2"
      ]
     },
     "execution_count": 1,
     "metadata": {},
     "output_type": "execute_result"
    }
   ],
   "source": [
    "#Essentially it goes like this:\n",
    "\n",
    "\n",
    "# All genes in the genome\n",
    "allGenesBed <- read.table(\"/Users/milanmalinsky/mz11-singleCoverGeneNames_GOBed.txt\",as.is=TRUE)\n",
    "\n",
    "# All genes in HDRs - i.e. the ones I am testing\n",
    "allHDRGenesBed <- read.table(\"/Users/milanmalinsky/Sanger_work/Massoko_GO_analysis/all_HDR_intersect.bed\",as.is=TRUE)\n",
    "\n",
    "# Run the ontology analysis\n",
    "HDR_o <- doOntology(allGenesBed,allHDRGenesBed,5)\n",
    "\n",
    "doOntology <- function(allGenesBed, sigGenesBed, minNode) {\n",
    "        geneUniverse <- unique(allGenesBed[,4])\n",
    "        sigGenes <- unique(sigGenesBed[,4])\n",
    "        testList <- factor(as.integer(geneUniverse %in% sigGenes))\n",
    "        names(testList) <- unique(allGenesBed[,4])\n",
    "        GOdata <- new(\"topGOdata\", ontology = \"MF\", allGenes = testList, annot = annFUN.org, mapping = \"org.Dr.eg.db\", ID = \"entrez\", nodeSize=minNode)\n",
    "        GOdataCC <- new(\"topGOdata\", ontology = \"CC\", allGenes = testList, annot = annFUN.org, mapping = \"org.Dr.eg.db\", ID = \"entrez\", nodeSize=minNode)\n",
    "        GOdataBP <- new(\"topGOdata\", ontology = \"BP\", allGenes = testList, annot = annFUN.org, mapping = \"org.Dr.eg.db\", ID = \"entrez\", nodeSize=minNode)\n",
    "        resultFisher <- runTest(GOdata, algorithm = \"classic\", statistic = \"fisher\")\n",
    "        resultFisherWeigth <- runTest(GOdata, algorithm = \"weight\", statistic = \"fisher\")\n",
    "        allRes <- GenTable(GOdata, classic = resultFisher, weight = resultFisherWeigth, orderBy = \"weight\", ranksOf = \"classic\", topNodes = 20)\n",
    "        resultFisherCC <- runTest(GOdataCC, algorithm = \"classic\", statistic = \"fisher\")\n",
    "        resultFisherWeigthCC <- runTest(GOdataCC, algorithm = \"weight\", statistic = \"fisher\")\n",
    "        allResCC <- GenTable(GOdataCC, classic = resultFisherCC, weight = resultFisherWeigthCC, orderBy = \"weight\", ranksOf = \"classic\", topNodes = 20)\n",
    "        resultFisherBP <- runTest(GOdataBP, algorithm = \"classic\", statistic = \"fisher\")\n",
    "        resultFisherWeigthBP <- runTest(GOdataBP, algorithm = \"weight\", statistic = \"fisher\")\n",
    "        allResBP <- GenTable(GOdataBP, classic = resultFisherBP, weight = resultFisherWeigthBP, orderBy = \"weight\", ranksOf = \"classic\", topNodes = 20)\n",
    "        list(allRes,allResCC,allResBP,GOdata,GOdataCC,GOdataBP)\n",
    "}\n",
    "\n",
    "#This gives both classic GO enrichment (i.e. chi-squared test), and the fancy “weighted” one you can read about in the topGO manual and the paper they refer to there. Let me know if you need more help."
   ]
  },
  {
   "cell_type": "code",
   "execution_count": 25,
   "metadata": {
    "collapsed": true
   },
   "outputs": [],
   "source": [
    "p = c(0.1,0.001,0.002,0.0002,0.0001,0.0001)"
   ]
  },
  {
   "cell_type": "code",
   "execution_count": 26,
   "metadata": {
    "collapsed": false
   },
   "outputs": [
    {
     "data": {
      "text/html": [
       "<ol class=list-inline>\n",
       "\t<li>0.1</li>\n",
       "\t<li>0.001</li>\n",
       "\t<li>0.002</li>\n",
       "\t<li>2e-04</li>\n",
       "\t<li>1e-04</li>\n",
       "\t<li>1e-04</li>\n",
       "</ol>\n"
      ],
      "text/latex": [
       "\\begin{enumerate*}\n",
       "\\item 0.1\n",
       "\\item 0.001\n",
       "\\item 0.002\n",
       "\\item 2e-04\n",
       "\\item 1e-04\n",
       "\\item 1e-04\n",
       "\\end{enumerate*}\n"
      ],
      "text/markdown": [
       "1. 0.1\n",
       "2. 0.001\n",
       "3. 0.002\n",
       "4. 2e-04\n",
       "5. 1e-04\n",
       "6. 1e-04\n",
       "\n",
       "\n"
      ],
      "text/plain": [
       "[1] 1e-01 1e-03 2e-03 2e-04 1e-04 1e-04"
      ]
     },
     "execution_count": 26,
     "metadata": {},
     "output_type": "execute_result"
    }
   ],
   "source": [
    "p"
   ]
  },
  {
   "cell_type": "code",
   "execution_count": 27,
   "metadata": {
    "collapsed": false
   },
   "outputs": [
    {
     "data": {
      "text/html": [
       "<ol class=list-inline>\n",
       "\t<li>0.1</li>\n",
       "\t<li>0.003</li>\n",
       "\t<li>0.004</li>\n",
       "\t<li>8e-04</li>\n",
       "\t<li>6e-04</li>\n",
       "\t<li>6e-04</li>\n",
       "</ol>\n"
      ],
      "text/latex": [
       "\\begin{enumerate*}\n",
       "\\item 0.1\n",
       "\\item 0.003\n",
       "\\item 0.004\n",
       "\\item 8e-04\n",
       "\\item 6e-04\n",
       "\\item 6e-04\n",
       "\\end{enumerate*}\n"
      ],
      "text/markdown": [
       "1. 0.1\n",
       "2. 0.003\n",
       "3. 0.004\n",
       "4. 8e-04\n",
       "5. 6e-04\n",
       "6. 6e-04\n",
       "\n",
       "\n"
      ],
      "text/plain": [
       "[1] 1e-01 3e-03 4e-03 8e-04 6e-04 6e-04"
      ]
     },
     "execution_count": 27,
     "metadata": {},
     "output_type": "execute_result"
    }
   ],
   "source": [
    "p.adjust(p, method = 'holm')"
   ]
  },
  {
   "cell_type": "code",
   "execution_count": 28,
   "metadata": {
    "collapsed": false
   },
   "outputs": [
    {
     "data": {
      "text/html": [
       "<ol class=list-inline>\n",
       "\t<li>0.1</li>\n",
       "\t<li>0.003</li>\n",
       "\t<li>0.004</li>\n",
       "\t<li>8e-04</li>\n",
       "\t<li>5e-04</li>\n",
       "\t<li>5e-04</li>\n",
       "</ol>\n"
      ],
      "text/latex": [
       "\\begin{enumerate*}\n",
       "\\item 0.1\n",
       "\\item 0.003\n",
       "\\item 0.004\n",
       "\\item 8e-04\n",
       "\\item 5e-04\n",
       "\\item 5e-04\n",
       "\\end{enumerate*}\n"
      ],
      "text/markdown": [
       "1. 0.1\n",
       "2. 0.003\n",
       "3. 0.004\n",
       "4. 8e-04\n",
       "5. 5e-04\n",
       "6. 5e-04\n",
       "\n",
       "\n"
      ],
      "text/plain": [
       "[1] 1e-01 3e-03 4e-03 8e-04 5e-04 5e-04"
      ]
     },
     "execution_count": 28,
     "metadata": {},
     "output_type": "execute_result"
    }
   ],
   "source": [
    "p.adjust(p, method = 'hochberg')"
   ]
  },
  {
   "cell_type": "code",
   "execution_count": 29,
   "metadata": {
    "collapsed": false
   },
   "outputs": [
    {
     "data": {
      "text/html": [
       "<ol class=list-inline>\n",
       "\t<li>0.1</li>\n",
       "\t<li>0.0015</li>\n",
       "\t<li>0.0024</li>\n",
       "\t<li>4e-04</li>\n",
       "\t<li>3e-04</li>\n",
       "\t<li>3e-04</li>\n",
       "</ol>\n"
      ],
      "text/latex": [
       "\\begin{enumerate*}\n",
       "\\item 0.1\n",
       "\\item 0.0015\n",
       "\\item 0.0024\n",
       "\\item 4e-04\n",
       "\\item 3e-04\n",
       "\\item 3e-04\n",
       "\\end{enumerate*}\n"
      ],
      "text/markdown": [
       "1. 0.1\n",
       "2. 0.0015\n",
       "3. 0.0024\n",
       "4. 4e-04\n",
       "5. 3e-04\n",
       "6. 3e-04\n",
       "\n",
       "\n"
      ],
      "text/plain": [
       "[1] 0.1000 0.0015 0.0024 0.0004 0.0003 0.0003"
      ]
     },
     "execution_count": 29,
     "metadata": {},
     "output_type": "execute_result"
    }
   ],
   "source": [
    "p.adjust(p, method = 'BH')"
   ]
  },
  {
   "cell_type": "code",
   "execution_count": 20,
   "metadata": {
    "collapsed": false
   },
   "outputs": [
    {
     "data": {
      "text/html": [
       "<ol class=list-inline>\n",
       "\t<li>6e-05</li>\n",
       "\t<li>5e-04</li>\n",
       "\t<li>8e-04</li>\n",
       "\t<li>0.003</li>\n",
       "\t<li>0.004</li>\n",
       "\t<li>0.1</li>\n",
       "</ol>\n"
      ],
      "text/latex": [
       "\\begin{enumerate*}\n",
       "\\item 6e-05\n",
       "\\item 5e-04\n",
       "\\item 8e-04\n",
       "\\item 0.003\n",
       "\\item 0.004\n",
       "\\item 0.1\n",
       "\\end{enumerate*}\n"
      ],
      "text/markdown": [
       "1. 6e-05\n",
       "2. 5e-04\n",
       "3. 8e-04\n",
       "4. 0.003\n",
       "5. 0.004\n",
       "6. 0.1\n",
       "\n",
       "\n"
      ],
      "text/plain": [
       "[1] 6e-05 5e-04 8e-04 3e-03 4e-03 1e-01"
      ]
     },
     "execution_count": 20,
     "metadata": {},
     "output_type": "execute_result"
    }
   ],
   "source": [
    "sort(p)*length(p):1"
   ]
  },
  {
   "cell_type": "code",
   "execution_count": 30,
   "metadata": {
    "collapsed": true
   },
   "outputs": [],
   "source": [
    "z <- c(39.389401808000002, 13.42335656, 12.668339525999999, 9.3463560799999996, 10.21835716, 8.6303431639999992,\n",
    "       71.556839025000002, 72.887639234999995, 49.577837178000003, 55.264832901999995, 52.432831846999996,\n",
    "       19.326519536999999, 13.791514039000001, 6.6784930560000006, 3.8844601560000003, 16.685636462000002,\n",
    "       7.5685843210000003, 16.57363939, 6.8045909499999997, 13.691577735999999, 57.454610033999998, 13.892585239000001,\n",
    "       13.806579897000001)"
   ]
  },
  {
   "cell_type": "code",
   "execution_count": 31,
   "metadata": {
    "collapsed": true
   },
   "outputs": [],
   "source": [
    "pvalue2sided=2*pnorm(-abs(z))"
   ]
  },
  {
   "cell_type": "code",
   "execution_count": 32,
   "metadata": {
    "collapsed": false
   },
   "outputs": [
    {
     "data": {
      "text/html": [
       "<ol class=list-inline>\n",
       "\t<li>0</li>\n",
       "\t<li>4.41265143916334e-41</li>\n",
       "\t<li>8.85693838989557e-37</li>\n",
       "\t<li>9.07193821974104e-21</li>\n",
       "\t<li>1.64098307956132e-24</li>\n",
       "\t<li>6.11681735834798e-18</li>\n",
       "\t<li>0</li>\n",
       "\t<li>0</li>\n",
       "\t<li>0</li>\n",
       "\t<li>0</li>\n",
       "\t<li>0</li>\n",
       "\t<li>3.21380261336206e-83</li>\n",
       "\t<li>2.86679401237726e-43</li>\n",
       "\t<li>2.41411662558458e-11</li>\n",
       "\t<li>0.000102557509027252</li>\n",
       "\t<li>1.66719731374683e-62</li>\n",
       "\t<li>3.77313378269182e-14</li>\n",
       "\t<li>1.08081629811752e-61</li>\n",
       "\t<li>1.01336752255746e-11</li>\n",
       "\t<li>1.14006590175806e-42</li>\n",
       "\t<li>0</li>\n",
       "\t<li>7.02531028210069e-44</li>\n",
       "\t<li>2.32616090350456e-43</li>\n",
       "</ol>\n"
      ],
      "text/latex": [
       "\\begin{enumerate*}\n",
       "\\item 0\n",
       "\\item 4.41265143916334e-41\n",
       "\\item 8.85693838989557e-37\n",
       "\\item 9.07193821974104e-21\n",
       "\\item 1.64098307956132e-24\n",
       "\\item 6.11681735834798e-18\n",
       "\\item 0\n",
       "\\item 0\n",
       "\\item 0\n",
       "\\item 0\n",
       "\\item 0\n",
       "\\item 3.21380261336206e-83\n",
       "\\item 2.86679401237726e-43\n",
       "\\item 2.41411662558458e-11\n",
       "\\item 0.000102557509027252\n",
       "\\item 1.66719731374683e-62\n",
       "\\item 3.77313378269182e-14\n",
       "\\item 1.08081629811752e-61\n",
       "\\item 1.01336752255746e-11\n",
       "\\item 1.14006590175806e-42\n",
       "\\item 0\n",
       "\\item 7.02531028210069e-44\n",
       "\\item 2.32616090350456e-43\n",
       "\\end{enumerate*}\n"
      ],
      "text/markdown": [
       "1. 0\n",
       "2. 4.41265143916334e-41\n",
       "3. 8.85693838989557e-37\n",
       "4. 9.07193821974104e-21\n",
       "5. 1.64098307956132e-24\n",
       "6. 6.11681735834798e-18\n",
       "7. 0\n",
       "8. 0\n",
       "9. 0\n",
       "10. 0\n",
       "11. 0\n",
       "12. 3.21380261336206e-83\n",
       "13. 2.86679401237726e-43\n",
       "14. 2.41411662558458e-11\n",
       "15. 0.000102557509027252\n",
       "16. 1.66719731374683e-62\n",
       "17. 3.77313378269182e-14\n",
       "18. 1.08081629811752e-61\n",
       "19. 1.01336752255746e-11\n",
       "20. 1.14006590175806e-42\n",
       "21. 0\n",
       "22. 7.02531028210069e-44\n",
       "23. 2.32616090350456e-43\n",
       "\n",
       "\n"
      ],
      "text/plain": [
       " [1] 0.000000e+00 4.412651e-41 8.856938e-37 9.071938e-21 1.640983e-24\n",
       " [6] 6.116817e-18 0.000000e+00 0.000000e+00 0.000000e+00 0.000000e+00\n",
       "[11] 0.000000e+00 3.213803e-83 2.866794e-43 2.414117e-11 1.025575e-04\n",
       "[16] 1.667197e-62 3.773134e-14 1.080816e-61 1.013368e-11 1.140066e-42\n",
       "[21] 0.000000e+00 7.025310e-44 2.326161e-43"
      ]
     },
     "execution_count": 32,
     "metadata": {},
     "output_type": "execute_result"
    }
   ],
   "source": [
    "pvalue2sided"
   ]
  },
  {
   "cell_type": "code",
   "execution_count": null,
   "metadata": {
    "collapsed": true
   },
   "outputs": [],
   "source": [
    "x = c(1,2,3,4,5)\n",
    "y = c(2,3,4,2,1)"
   ]
  },
  {
   "cell_type": "code",
   "execution_count": null,
   "metadata": {
    "collapsed": true
   },
   "outputs": [],
   "source": [
    "ks.test(x, y, alternative=\"two.sided\")"
   ]
  },
  {
   "cell_type": "code",
   "execution_count": null,
   "metadata": {
    "collapsed": true
   },
   "outputs": [],
   "source": []
  }
 ],
 "metadata": {
  "kernelspec": {
   "display_name": "R",
   "language": "R",
   "name": "ir"
  },
  "language_info": {
   "codemirror_mode": "r",
   "file_extension": ".r",
   "mimetype": "text/x-r-source",
   "name": "R",
   "pygments_lexer": "r",
   "version": "3.2.2"
  }
 },
 "nbformat": 4,
 "nbformat_minor": 0
}
