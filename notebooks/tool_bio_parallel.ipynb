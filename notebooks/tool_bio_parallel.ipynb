{
 "metadata": {
  "name": "",
  "signature": "sha256:4920cedfdb3cf9da19e0111967edb68ce4f116f2c87cac6286866e863556bf7f"
 },
 "nbformat": 3,
 "nbformat_minor": 0,
 "worksheets": [
  {
   "cells": [
    {
     "cell_type": "code",
     "collapsed": false,
     "input": [],
     "language": "python",
     "metadata": {},
     "outputs": []
    },
    {
     "cell_type": "heading",
     "level": 2,
     "metadata": {},
     "source": [
      "Parallelise work with pandas DataFrames"
     ]
    },
    {
     "cell_type": "code",
     "collapsed": false,
     "input": [
      "import tabix\n",
      "import pandas as pd\n",
      "import numpy as np\n",
      "def df_chunk(fn,chrom,start,end):\n",
      "    \"\"\"\n",
      "    Get a pandas DataFrame from a range of\n",
      "    a tsv file.\n",
      "    File must be compressed with bgzip \n",
      "    and indexed with tabix \n",
      "    tabix -fh -s 1 -b 2 -e 2 <filename.gz>\n",
      "    \"\"\"\n",
      "    meta_info = pd.read_csv(fn,sep=\"\\t\",nrows=1,\n",
      "                          compression=\"gzip\",\n",
      "                          index_col=(0,1))\n",
      "    columns = meta_info.columns\n",
      "    tb = tabix.open(fn)\n",
      "    data = np.array([record for record in tb.query(chrom,start,end)])\n",
      "    index =  pd.MultiIndex.from_arrays(data[:,0:2].T, names= meta_info.index.names)\n",
      "    df = pd.DataFrame(data[:,2:],columns=columns,index=index)\n",
      "    return df"
     ],
     "language": "python",
     "metadata": {},
     "outputs": [],
     "prompt_number": 1
    },
    {
     "cell_type": "code",
     "collapsed": false,
     "input": [
      "df_chunk(jn(var_ana_dir,\"UGr_163_ref3500_ref_alt_CAE29.012.gz\"),\"CAE29\",0,1040000)"
     ],
     "language": "python",
     "metadata": {},
     "outputs": [],
     "prompt_number": 1
    },
    {
     "cell_type": "heading",
     "level": 2,
     "metadata": {},
     "source": [
      "Parallelise work with pyvcf"
     ]
    },
    {
     "cell_type": "code",
     "collapsed": false,
     "input": [
      "def parallel_parse(vcf,chrom,n_cpus=\"auto\",parallel_framework=\"multiprocessing\",chunksize=None,temp_dir=\"/tmp\"):\n",
      "    chrom_len = vcf.contigs[chrom].length\n",
      "    if chunksize is None:\n",
      "        chunksize = int(ceil(chrom_len*1./ncpus))\n",
      "    else:\n",
      "        raise ValueError(\"Custom chunksize not implemented. Use None.\")\n",
      "    \n",
      "    chunks = [vcf.fetch(chrom,start,start+chunksize) for start in range()]\n",
      "    \n",
      "    hvb.parmap(lambda j: j.run_jobscript(),self.jobs)\n",
      "    if parallel_framework == \"multiprocessing\":\n",
      "        "
     ],
     "language": "python",
     "metadata": {},
     "outputs": [],
     "prompt_number": 1
    },
    {
     "cell_type": "code",
     "collapsed": false,
     "input": [
      "def parse_fun(vcf,out_fn):\n",
      "    with open(out_fn,'w') as f:\n",
      "        for record in vcf:\n",
      "            f.write(record.CHROM+'\\t'+record.POS+'\\t'+record.REF+'\\t'+record.ALT[0]+\"\\n\")\n",
      "    return out_fn"
     ],
     "language": "python",
     "metadata": {},
     "outputs": [],
     "prompt_number": 1
    },
    {
     "cell_type": "code",
     "collapsed": false,
     "input": [],
     "language": "python",
     "metadata": {},
     "outputs": [],
     "prompt_number": 1
    },
    {
     "cell_type": "code",
     "collapsed": false,
     "input": [],
     "language": "python",
     "metadata": {},
     "outputs": [],
     "prompt_number": 1
    },
    {
     "cell_type": "code",
     "collapsed": false,
     "input": [],
     "language": "python",
     "metadata": {},
     "outputs": [],
     "prompt_number": 1
    },
    {
     "cell_type": "code",
     "collapsed": false,
     "input": [],
     "language": "python",
     "metadata": {},
     "outputs": [],
     "prompt_number": 1
    },
    {
     "cell_type": "code",
     "collapsed": false,
     "input": [],
     "language": "python",
     "metadata": {},
     "outputs": [],
     "prompt_number": 1
    },
    {
     "cell_type": "code",
     "collapsed": false,
     "input": [],
     "language": "python",
     "metadata": {},
     "outputs": [],
     "prompt_number": 1
    },
    {
     "cell_type": "code",
     "collapsed": false,
     "input": [],
     "language": "python",
     "metadata": {},
     "outputs": [],
     "prompt_number": 1
    },
    {
     "cell_type": "code",
     "collapsed": false,
     "input": [],
     "language": "python",
     "metadata": {},
     "outputs": []
    }
   ],
   "metadata": {}
  }
 ]
}