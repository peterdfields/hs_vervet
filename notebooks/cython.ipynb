{
 "metadata": {
  "name": "",
  "signature": "sha256:bc6817c395962114208ed6d3869538ea6fc28d77d212c76a4e78aa3db940f8e8"
 },
 "nbformat": 3,
 "nbformat_minor": 0,
 "worksheets": [
  {
   "cells": [
    {
     "cell_type": "code",
     "collapsed": false,
     "input": [
      "%%cython\n",
      "cimport numpy as np\n",
      "import numpy as np\n",
      "cpdef np.ndarray[double, ndim=2] pairwise_diff_cython_type(np.ndarray[double, ndim=2] arr):\n",
      "    cdef np.ndarray[double, ndim=2] diff_mat\n",
      "    cdef int i\n",
      "    cdef int j\n",
      "    cdef int ind = arr.shape[1]\n",
      "    diff_mat = np.zeros([ind,ind])\n",
      "    #diff_mat = np.empty([ind,ind])\n",
      "    #diff_mat[:] = np.nan\n",
      "    for i in np.arange(ind):\n",
      "        for j in np.arange(i+1,ind):\n",
      "            #print i,j\n",
      "            diff_mat[i,j] = np.nansum(arr[:,i]-arr[:,j])\n",
      "    return diff_mat"
     ],
     "language": "python",
     "metadata": {},
     "outputs": []
    }
   ],
   "metadata": {}
  }
 ]
}