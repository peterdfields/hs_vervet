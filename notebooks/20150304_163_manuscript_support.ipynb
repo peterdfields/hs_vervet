{
 "metadata": {
  "name": "",
  "signature": "sha256:7156b113f4a77b29910a56822a8e968c8aeed6f569cc3cd1f2d5b7d0773c2a53"
 },
 "nbformat": 3,
 "nbformat_minor": 0,
 "worksheets": [
  {
   "cells": [
    {
     "cell_type": "heading",
     "level": 1,
     "metadata": {},
     "source": [
      "2015 Vervet popgen manuscript - analyses and supporting material"
     ]
    },
    {
     "cell_type": "markdown",
     "metadata": {},
     "source": [
      "%matplotlib inline"
     ]
    },
    {
     "cell_type": "code",
     "collapsed": false,
     "input": [
      "#parallel\n",
      "from IPython.parallel import Client\n",
      "rc = Client(profile=\"default\")\n",
      "dview = rc[:] # use all engines\n",
      "lv = rc.load_balanced_view()"
     ],
     "language": "python",
     "metadata": {},
     "outputs": [],
     "prompt_number": 4
    },
    {
     "cell_type": "code",
     "collapsed": false,
     "input": [
      "%%px --local\n",
      "#Global init\n",
      "import os, json\n",
      "import pandas as pd\n",
      "import numpy as np\n",
      "eu = os.path.expanduser\n",
      "jn = os.path.join\n",
      "var_ana_dir = eu(\"~/vervet_project/analyses/20150220_163_HaplotypeCaller/_data\")\n",
      "\n",
      "\n",
      "autosomes = [\"CAE\" + str(i) for i in range(1,30)]\n",
      "chromosomes = [\"CAE\" + str(i) for i in range(1,30)+[\"X\",\"Y\"]]"
     ],
     "language": "python",
     "metadata": {},
     "outputs": [],
     "prompt_number": 8
    },
    {
     "cell_type": "heading",
     "level": 3,
     "metadata": {},
     "source": [
      "Linkage disequilibrium"
     ]
    },
    {
     "cell_type": "heading",
     "level": 2,
     "metadata": {},
     "source": [
      "Supplement"
     ]
    },
    {
     "cell_type": "heading",
     "level": 3,
     "metadata": {},
     "source": [
      "SNP and filtering statistics"
     ]
    },
    {
     "cell_type": "code",
     "collapsed": false,
     "input": [
      "def stats_dic(chrom):\n",
      "    stats_fn = jn(var_ana_dir,\"snp_stats_{}.json\".format(chrom))\n",
      "    stats_dic = json.load(open(stats_fn,\"r\"))\n",
      "    return stats_dic"
     ],
     "language": "python",
     "metadata": {},
     "outputs": [],
     "prompt_number": 6
    },
    {
     "cell_type": "code",
     "collapsed": false,
     "input": [
      "chrom_dicts = [stats_dic(chrom) for chrom in chromosomes]"
     ],
     "language": "python",
     "metadata": {},
     "outputs": [],
     "prompt_number": 9
    },
    {
     "cell_type": "code",
     "collapsed": false,
     "input": [
      "autosome_stats_dic = stats_dic(autosomes[0])\n",
      "for chrom in autosomes[1:]:\n",
      "    stats_dic1 = stats_dic(chrom)\n",
      "    for key in autosome_stats_dic:\n",
      "        if key == \"filters\":\n",
      "            for key1 in autosome_stats_dic[key]:\n",
      "                autosome_stats_dic[key][key1] += stats_dic1[key][key1]\n",
      "        else:\n",
      "            autosome_stats_dic[key] += stats_dic1[key]"
     ],
     "language": "python",
     "metadata": {},
     "outputs": [],
     "prompt_number": 10
    },
    {
     "cell_type": "code",
     "collapsed": false,
     "input": [
      "total_stats_dic = stats_dic(chromosomes[0])\n",
      "for chrom in chromosomes[1:]:\n",
      "    stats_dic1 = stats_dic(chrom)\n",
      "    for key in total_stats_dic:\n",
      "        if key == \"filters\":\n",
      "            for key1 in total_stats_dic[key]:\n",
      "                total_stats_dic[key][key1] += stats_dic1[key][key1]\n",
      "        else:\n",
      "            total_stats_dic[key] += stats_dic1[key]"
     ],
     "language": "python",
     "metadata": {},
     "outputs": [
      {
       "ename": "KeyError",
       "evalue": "u'pass_ancestral_is_third_allele'",
       "output_type": "pyerr",
       "traceback": [
        "\u001b[1;31m---------------------------------------------------------------------------\u001b[0m\n\u001b[1;31mKeyError\u001b[0m                                  Traceback (most recent call last)",
        "\u001b[1;32m<ipython-input-11-b914f83a2919>\u001b[0m in \u001b[0;36m<module>\u001b[1;34m()\u001b[0m\n\u001b[0;32m      7\u001b[0m                 \u001b[0mtotal_stats_dic\u001b[0m\u001b[1;33m[\u001b[0m\u001b[0mkey\u001b[0m\u001b[1;33m]\u001b[0m\u001b[1;33m[\u001b[0m\u001b[0mkey1\u001b[0m\u001b[1;33m]\u001b[0m \u001b[1;33m+=\u001b[0m \u001b[0mstats_dic1\u001b[0m\u001b[1;33m[\u001b[0m\u001b[0mkey\u001b[0m\u001b[1;33m]\u001b[0m\u001b[1;33m[\u001b[0m\u001b[0mkey1\u001b[0m\u001b[1;33m]\u001b[0m\u001b[1;33m\u001b[0m\u001b[0m\n\u001b[0;32m      8\u001b[0m         \u001b[1;32melse\u001b[0m\u001b[1;33m:\u001b[0m\u001b[1;33m\u001b[0m\u001b[0m\n\u001b[1;32m----> 9\u001b[1;33m             \u001b[0mtotal_stats_dic\u001b[0m\u001b[1;33m[\u001b[0m\u001b[0mkey\u001b[0m\u001b[1;33m]\u001b[0m \u001b[1;33m+=\u001b[0m \u001b[0mstats_dic1\u001b[0m\u001b[1;33m[\u001b[0m\u001b[0mkey\u001b[0m\u001b[1;33m]\u001b[0m\u001b[1;33m\u001b[0m\u001b[0m\n\u001b[0m",
        "\u001b[1;31mKeyError\u001b[0m: u'pass_ancestral_is_third_allele'"
       ]
      }
     ],
     "prompt_number": 11
    },
    {
     "cell_type": "code",
     "collapsed": false,
     "input": [
      "autosome_stats_dic"
     ],
     "language": "python",
     "metadata": {},
     "outputs": [
      {
       "metadata": {},
       "output_type": "pyout",
       "prompt_number": 12,
       "text": [
        "{u'ancestral_known': 98067123,\n",
        " u'filters': {u'5bpIndel': 9351628,\n",
        "  u'ExCov': 4541825,\n",
        "  u'LowCov': 1510401,\n",
        "  u'LowMQ': 6712601,\n",
        "  u'LowQual': 9622378,\n",
        "  u'MQ0_7pct': 7333399,\n",
        "  u'MQRankSum': 670945,\n",
        "  u'MissingExcess': 1885398,\n",
        "  u'QualityByDepth': 201820,\n",
        "  u'StrandBias': 72769},\n",
        " u'pass': 94016242,\n",
        " u'pass_ancestral_is_alt': 7994353,\n",
        " u'pass_ancestral_is_ref': 71733002,\n",
        " u'pass_ancestral_is_third_allele': 1113673,\n",
        " u'pass_ancestral_known': 80841028,\n",
        " u'snps': 120392603,\n",
        " u'total': 120392603}"
       ]
      }
     ],
     "prompt_number": 12
    },
    {
     "cell_type": "code",
     "collapsed": false,
     "input": [],
     "language": "python",
     "metadata": {},
     "outputs": []
    }
   ],
   "metadata": {}
  }
 ]
}