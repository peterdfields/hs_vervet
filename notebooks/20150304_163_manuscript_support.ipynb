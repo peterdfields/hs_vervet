{
 "metadata": {
  "name": "",
  "signature": "sha256:6afe91299aa2a9fed8b00a3796f497112075507592390f4ebe4c21ff9d825599"
 },
 "nbformat": 3,
 "nbformat_minor": 0,
 "worksheets": [
  {
   "cells": [
    {
     "cell_type": "heading",
     "level": 1,
     "metadata": {},
     "source": [
      "2015 Vervet popgen manuscript - analyses and supporting material"
     ]
    },
    {
     "cell_type": "markdown",
     "metadata": {},
     "source": [
      "%matplotlib inline"
     ]
    },
    {
     "cell_type": "code",
     "collapsed": false,
     "input": [
      "#parallel\n",
      "from IPython.parallel import Client\n",
      "rc = Client(profile=\"default\")\n",
      "dview = rc[:] # use all engines\n",
      "lv = rc.load_balanced_view()"
     ],
     "language": "python",
     "metadata": {},
     "outputs": [],
     "prompt_number": 2
    },
    {
     "cell_type": "code",
     "collapsed": false,
     "input": [
      "%%px --local\n",
      "#Global init\n",
      "import os, json, tabix\n",
      "import pandas as pd\n",
      "import numpy as np\n",
      "eu = os.path.expanduser\n",
      "jn = os.path.join\n",
      "var_ana_dir = eu(\"~/vervet_project/analyses/20150220_163_HaplotypeCaller/_data\")\n",
      "\n",
      "\n",
      "autosomes = [\"CAE\" + str(i) for i in range(1,30)]\n",
      "chromosomes = [\"CAE\" + str(i) for i in range(1,30)+[\"X\",\"Y\"]]"
     ],
     "language": "python",
     "metadata": {},
     "outputs": [],
     "prompt_number": 3
    },
    {
     "cell_type": "code",
     "collapsed": false,
     "input": [
      "fn = '163_HaplotypeCaller_ref3500_CAE28_snp_pass_ensembl_1.1.78.vcf.gz'"
     ],
     "language": "python",
     "metadata": {},
     "outputs": [],
     "prompt_number": 4
    },
    {
     "cell_type": "code",
     "collapsed": false,
     "input": [
      "fn = '163_HaplotypeCaller_ref3500_CAE28_all_sites_filter.vcf.gz'"
     ],
     "language": "python",
     "metadata": {},
     "outputs": [],
     "prompt_number": 7
    },
    {
     "cell_type": "code",
     "collapsed": false,
     "input": [
      "tb = tabix.open(jn(var_ana_dir,fn))"
     ],
     "language": "python",
     "metadata": {},
     "outputs": [],
     "prompt_number": 8
    },
    {
     "cell_type": "code",
     "collapsed": false,
     "input": [
      "tb"
     ],
     "language": "python",
     "metadata": {},
     "outputs": [
      {
       "metadata": {},
       "output_type": "pyout",
       "prompt_number": 29,
       "text": [
        "<tabix fn=\"/home/GMI/hannes.svardal/vervet_project/analyses/20150220_163_HaplotypeCaller/_data/163_HaplotypeCaller_ref3500_CAE28_all_sites_filter.vcf.gz\">"
       ]
      }
     ],
     "prompt_number": 29
    },
    {
     "cell_type": "code",
     "collapsed": false,
     "input": [
      "q = tb.query(*(\"CAE28\",1000000,1005000))"
     ],
     "language": "python",
     "metadata": {},
     "outputs": [],
     "prompt_number": 68
    },
    {
     "cell_type": "code",
     "collapsed": false,
     "input": [
      "q2 = tabix.open(jn(var_ana_dir,fn)).query(*(\"CAE28\",2000000,2005000))"
     ],
     "language": "python",
     "metadata": {},
     "outputs": [],
     "prompt_number": 32
    },
    {
     "cell_type": "code",
     "collapsed": false,
     "input": [
      "q2 = tb.query(*(\"CAE28\",2000000,2005000))"
     ],
     "language": "python",
     "metadata": {},
     "outputs": [
      {
       "ename": "AttributeError",
       "evalue": "'tabix.iter' object has no attribute 'copy'",
       "output_type": "pyerr",
       "traceback": [
        "\u001b[1;31m---------------------------------------------------------------------------\u001b[0m\n\u001b[1;31mAttributeError\u001b[0m                            Traceback (most recent call last)",
        "\u001b[1;32m<ipython-input-73-7fb7b7659508>\u001b[0m in \u001b[0;36m<module>\u001b[1;34m()\u001b[0m\n\u001b[1;32m----> 1\u001b[1;33m \u001b[0mq2\u001b[0m \u001b[1;33m=\u001b[0m \u001b[0mtb\u001b[0m\u001b[1;33m.\u001b[0m\u001b[0mquery\u001b[0m\u001b[1;33m(\u001b[0m\u001b[1;33m*\u001b[0m\u001b[1;33m(\u001b[0m\u001b[1;34m\"CAE28\"\u001b[0m\u001b[1;33m,\u001b[0m\u001b[1;36m2000000\u001b[0m\u001b[1;33m,\u001b[0m\u001b[1;36m2005000\u001b[0m\u001b[1;33m)\u001b[0m\u001b[1;33m)\u001b[0m\u001b[1;33m.\u001b[0m\u001b[0mcopy\u001b[0m\u001b[1;33m(\u001b[0m\u001b[1;33m)\u001b[0m\u001b[1;33m\u001b[0m\u001b[0m\n\u001b[0m",
        "\u001b[1;31mAttributeError\u001b[0m: 'tabix.iter' object has no attribute 'copy'"
       ]
      }
     ],
     "prompt_number": 73
    },
    {
     "cell_type": "code",
     "collapsed": false,
     "input": [
      "for r in q2:\n",
      "    print r\n",
      "    break"
     ],
     "language": "python",
     "metadata": {},
     "outputs": [
      {
       "output_type": "stream",
       "stream": "stdout",
       "text": [
        "['CAE28', '2000001', '.', 'C', '.', '.', 'PASS', 'AA=C;AN=316;DP=640;MQ=59.71;MQ0=3;NCC=5', 'GT:DP', '0/0:4', '0/0:6', '0/0:8', '0/0:2', '0/0:2', '0/0:1', '0/0:3', '0/0:2', '0/0:2', '0/0:1', '0/0:7', '0/0:4', '0/0:3', '0/0:1', '0/0:13', '0/0:8', '0/0:8', '0/0:3', '0/0:1', '0/0:3', '0/0:4', '0/0:3', '0/0:2', '0/0:1', '0/0:5', '0/0:5', '0/0:4', '0/0:4', '0/0:6', '0/0:10', './.:0', '0/0:5', '0/0:5', '0/0:3', '0/0:3', '0/0:8', '0/0:1', '0/0:2', '0/0:3', '0/0:6', '0/0:4', '0/0:1', '0/0:21', '0/0:1', '0/0:6', '0/0:5', '0/0:1', '0/0:3', '0/0:3', '0/0:2', '0/0:2', '0/0:4', '0/0:4', '0/0:7', '0/0:3', '0/0:6', '0/0:1', '0/0:4', '0/0:8', '0/0:5', '0/0:2', '0/0:3', '0/0:3', './.:0', '0/0:3', '0/0:2', '0/0:7', '0/0:4', '0/0:5', '0/0:2', '0/0:3', '0/0:5', '0/0:7', '0/0:1', '0/0:5', '0/0:3', '0/0:4', '0/0:6', './.:0', '0/0:1', '0/0:3', '0/0:1', '0/0:2', '0/0:6', '0/0:7', '0/0:4', '0/0:4', '0/0:3', '0/0:5', '0/0:5', '0/0:11', '0/0:1', '0/0:4', '0/0:5', '0/0:3', '0/0:4', '0/0:1', '0/0:7', '0/0:2', '0/0:7', '0/0:2', '0/0:1', '0/0:3', '0/0:2', '0/0:3', '0/0:8', '0/0:1', '0/0:5', '0/0:32', '0/0:1', '0/0:3', '0/0:6', '0/0:3', '0/0:1', '0/0:6', '0/0:4', '0/0:1', '0/0:3', '0/0:5', '0/0:5', '0/0:1', '0/0:3', '0/0:4', '0/0:3', '0/0:4', '0/0:7', '0/0:4', '0/0:6', '0/0:5', '0/0:2', '0/0:5', '0/0:2', '0/0:3', '0/0:2', '0/0:3', '0/0:2', '0/0:4', '0/0:3', '0/0:6', '0/0:5', '0/0:4', '0/0:3', '0/0:4', '0/0:2', './.:0', './.:0', '0/0:4', '0/0:4', '0/0:2', '0/0:4', '0/0:11', '0/0:3', '0/0:4', '0/0:2', '0/0:6', '0/0:2', '0/0:1', '0/0:3', '0/0:1', '0/0:2', '0/0:2', '0/0:2', '0/0:1']\n"
       ]
      }
     ],
     "prompt_number": 72
    },
    {
     "cell_type": "code",
     "collapsed": false,
     "input": [
      "q = tb.query(*('CAE28',1000000,1005000))"
     ],
     "language": "python",
     "metadata": {},
     "outputs": [],
     "prompt_number": 47
    },
    {
     "cell_type": "code",
     "collapsed": false,
     "input": [
      "dir(tabix)"
     ],
     "language": "python",
     "metadata": {},
     "outputs": [
      {
       "metadata": {},
       "output_type": "pyout",
       "prompt_number": 55,
       "text": [
        "['TabixError',\n",
        " '__doc__',\n",
        " '__file__',\n",
        " '__name__',\n",
        " '__package__',\n",
        " 'iter',\n",
        " 'open']"
       ]
      }
     ],
     "prompt_number": 55
    },
    {
     "cell_type": "code",
     "collapsed": false,
     "input": [
      "for l in q:\n",
      "    print l[1:5]\n",
      "    break"
     ],
     "language": "python",
     "metadata": {},
     "outputs": [
      {
       "output_type": "stream",
       "stream": "stdout",
       "text": [
        "['1000005', '.', 'A', '.']\n"
       ]
      }
     ],
     "prompt_number": 15
    },
    {
     "cell_type": "heading",
     "level": 3,
     "metadata": {},
     "source": [
      "Linkage disequilibrium"
     ]
    },
    {
     "cell_type": "code",
     "collapsed": false,
     "input": [],
     "language": "python",
     "metadata": {},
     "outputs": []
    },
    {
     "cell_type": "code",
     "collapsed": false,
     "input": [],
     "language": "python",
     "metadata": {},
     "outputs": []
    },
    {
     "cell_type": "heading",
     "level": 2,
     "metadata": {},
     "source": [
      "Supplement"
     ]
    },
    {
     "cell_type": "heading",
     "level": 3,
     "metadata": {},
     "source": [
      "SNP and filtering statistics"
     ]
    },
    {
     "cell_type": "code",
     "collapsed": false,
     "input": [
      "def stats_dic(chrom):\n",
      "    stats_fn = jn(var_ana_dir,\"snp_stats_{}.json\".format(chrom))\n",
      "    stats_dic = json.load(open(stats_fn,\"r\"))\n",
      "    return stats_dic"
     ],
     "language": "python",
     "metadata": {},
     "outputs": [],
     "prompt_number": 6
    },
    {
     "cell_type": "code",
     "collapsed": false,
     "input": [
      "chrom_dicts = [stats_dic(chrom) for chrom in chromosomes]"
     ],
     "language": "python",
     "metadata": {},
     "outputs": [],
     "prompt_number": 9
    },
    {
     "cell_type": "code",
     "collapsed": false,
     "input": [
      "autosome_stats_dic = stats_dic(autosomes[0])\n",
      "for chrom in autosomes[1:]:\n",
      "    stats_dic1 = stats_dic(chrom)\n",
      "    for key in autosome_stats_dic:\n",
      "        if key == \"filters\":\n",
      "            for key1 in autosome_stats_dic[key]:\n",
      "                autosome_stats_dic[key][key1] += stats_dic1[key][key1]\n",
      "        else:\n",
      "            autosome_stats_dic[key] += stats_dic1[key]"
     ],
     "language": "python",
     "metadata": {},
     "outputs": [],
     "prompt_number": 14
    },
    {
     "cell_type": "code",
     "collapsed": false,
     "input": [
      "total_stats_dic = stats_dic(chromosomes[0])\n",
      "for chrom in chromosomes[1:]:\n",
      "    stats_dic1 = stats_dic(chrom)\n",
      "    for key in total_stats_dic:\n",
      "        if key == \"filters\":\n",
      "            for key1 in total_stats_dic[key]:\n",
      "                total_stats_dic[key][key1] += stats_dic1[key][key1]\n",
      "        else:\n",
      "            try:\n",
      "                total_stats_dic[key] += stats_dic1[key]\n",
      "            except KeyError:\n",
      "                print chrom\n",
      "                pass"
     ],
     "language": "python",
     "metadata": {},
     "outputs": [
      {
       "output_type": "stream",
       "stream": "stdout",
       "text": [
        "CAEY\n"
       ]
      }
     ],
     "prompt_number": 15
    },
    {
     "cell_type": "code",
     "collapsed": false,
     "input": [
      "autosome_stats_dic"
     ],
     "language": "python",
     "metadata": {},
     "outputs": [
      {
       "metadata": {},
       "output_type": "pyout",
       "prompt_number": 16,
       "text": [
        "{u'ancestral_known': 98067123,\n",
        " u'filters': {u'5bpIndel': 9351628,\n",
        "  u'ExCov': 4541825,\n",
        "  u'LowCov': 1510401,\n",
        "  u'LowMQ': 6712601,\n",
        "  u'LowQual': 9622378,\n",
        "  u'MQ0_7pct': 7333399,\n",
        "  u'MQRankSum': 670945,\n",
        "  u'MissingExcess': 1885398,\n",
        "  u'QualityByDepth': 201820,\n",
        "  u'StrandBias': 72769},\n",
        " u'pass': 94016242,\n",
        " u'pass_ancestral_is_alt': 7994353,\n",
        " u'pass_ancestral_is_ref': 71733002,\n",
        " u'pass_ancestral_is_third_allele': 1113673,\n",
        " u'pass_ancestral_known': 80841028,\n",
        " u'snps': 120392603,\n",
        " u'total': 120392603}"
       ]
      }
     ],
     "prompt_number": 16
    },
    {
     "cell_type": "code",
     "collapsed": false,
     "input": [
      "total_stats_dic"
     ],
     "language": "python",
     "metadata": {},
     "outputs": [
      {
       "metadata": {},
       "output_type": "pyout",
       "prompt_number": 17,
       "text": [
        "{u'ancestral_known': 101161792,\n",
        " u'filters': {u'5bpIndel': 9662979,\n",
        "  u'ExCov': 4945880,\n",
        "  u'LowCov': 1573098,\n",
        "  u'LowMQ': 7128366,\n",
        "  u'LowQual': 9984526,\n",
        "  u'MQ0_7pct': 7772819,\n",
        "  u'MQRankSum': 715990,\n",
        "  u'MissingExcess': 2117186,\n",
        "  u'QualityByDepth': 215151,\n",
        "  u'StrandBias': 80009},\n",
        " u'pass': 97091916,\n",
        " u'pass_ancestral_is_alt': 8215937,\n",
        " u'pass_ancestral_is_ref': 73969825,\n",
        " u'pass_ancestral_is_third_allele': 1142628,\n",
        " u'pass_ancestral_known': 83328390,\n",
        " u'snps': 124691086,\n",
        " u'total': 124691086}"
       ]
      }
     ],
     "prompt_number": 17
    },
    {
     "cell_type": "heading",
     "level": 4,
     "metadata": {},
     "source": [
      "Detailed filtering stats for SNPs"
     ]
    },
    {
     "cell_type": "code",
     "collapsed": false,
     "input": [
      "def get_detailed_snp_filter_stats(chrom):\n",
      "    df = pd.read_csv(jn(var_ana_dir,'snp_filter_stats_{}.tsv'.format(chrom)),sep='\\t',index_col=0,header=None,squeeze=True)\n",
      "    return df"
     ],
     "language": "python",
     "metadata": {},
     "outputs": [],
     "prompt_number": 36
    },
    {
     "cell_type": "code",
     "collapsed": false,
     "input": [],
     "language": "python",
     "metadata": {},
     "outputs": [],
     "prompt_number": 20
    },
    {
     "cell_type": "code",
     "collapsed": false,
     "input": [
      "tot_snp_filter_stats = pd.Series()\n",
      "for chrom in chromosomes:\n",
      "    df = get_detailed_snp_stats(chrom)\n",
      "    tot_snp_filter_stats = tot_snp_filter_stats.add(df,fill_value=0)#how='outer',rsuffix='n').sum(axis=)"
     ],
     "language": "python",
     "metadata": {},
     "outputs": [],
     "prompt_number": 44
    },
    {
     "cell_type": "code",
     "collapsed": false,
     "input": [
      "tot_snp_filter_stats.sort(ascending=False,inplace=False)"
     ],
     "language": "python",
     "metadata": {},
     "outputs": [
      {
       "metadata": {},
       "output_type": "pyout",
       "prompt_number": 47,
       "text": [
        "0\n",
        "n_sites                                             124691086\n",
        "('PASS',)                                            97091916\n",
        "('LowQual',)                                          8202461\n",
        "('5bpIndel',)                                         6507096\n",
        "('ExCov', 'LowMQ', 'MQ0_7pct')                        1916499\n",
        "('LowMQ', 'MQ0_7pct')                                 1757865\n",
        "('ExCov',)                                            1175102\n",
        "('MQ0_7pct',)                                         1080670\n",
        "('5bpIndel', 'LowQual')                                592619\n",
        "('LowMQ',)                                             520711\n",
        "('5bpIndel', 'ExCov', 'LowMQ', 'MQ0_7pct')             385531\n",
        "('LowMQ', 'LowQual', 'MQ0_7pct')                       270567\n",
        "('5bpIndel', 'ExCov')                                  249033\n",
        "('5bpIndel', 'LowCov', 'MissingExcess')                247103\n",
        "('LowCov', 'LowMQ', 'MQ0_7pct', 'MissingExcess')       232175\n",
        "...\n",
        "('ExCov', 'LowQual', 'MQ0_7pct', 'MissingExcess', 'QualityByDepth')    1\n",
        "('ExCov', 'LowMQ', 'MQ0_7pct', 'QualityByDepth', 'ReadPos')     1\n",
        "('5bpIndel', 'LowCov', 'LowQual', 'MQ0_7pct', 'QualityByDepth', 'StrandBias')    1\n",
        "('5bpIndel', 'ExCov', 'LowMQ', 'LowQual', 'MQ0_7pct', 'MQRankSum', 'QualityByDepth', 'StrandBias')    1\n",
        "('5bpIndel', 'ExCov', 'LowMQ', 'LowQual', 'MQ0_7pct', 'MQRankSum', 'MissingExcess', 'StrandBias')    1\n",
        "('5bpIndel', 'ExCov', 'LowMQ', 'MQ0_7pct', 'MissingExcess', 'QualityByDepth', 'StrandBias')    1\n",
        "('LowQual', 'MQRankSum', 'QualityByDepth', 'StrandBias')        1\n",
        "('5bpIndel', 'LowMQ', 'QualityByDepth', 'StrandBias')           1\n",
        "('LowQual', 'MissingExcess', 'QualityByDepth', 'StrandBias')    1\n",
        "('5bpIndel', 'LowCov', 'LowMQ', 'MQ0_7pct', 'MQRankSum', 'StrandBias')    1\n",
        "('LowCov', 'LowMQ', 'MQRankSum', 'StrandBias')                  1\n",
        "('ExCov', 'LowMQ', 'LowQual', 'MQRankSum', 'MissingExcess', 'QualityByDepth')    1\n",
        "('5bpIndel', 'ExCov', 'LowCov', 'MissingExcess', 'QualityByDepth', 'StrandBias')    1\n",
        "('5bpIndel', 'LowQual', 'MQ0_7pct', 'MissingExcess', 'QualityByDepth', 'StrandBias')    1\n",
        "('5bpIndel', 'LowMQ', 'LowQual', 'MissingExcess', 'QualityByDepth')    1\n",
        "Length: 548, dtype: float64"
       ]
      }
     ],
     "prompt_number": 47
    },
    {
     "cell_type": "heading",
     "level": 3,
     "metadata": {},
     "source": [
      "Validation"
     ]
    },
    {
     "cell_type": "code",
     "collapsed": false,
     "input": [
      "validation_dir = eu(\"~/vervet_project/analyses/20140617_ref3500_pacbio_validation/_data\")\n",
      "individuals = ['AG5417','B5616','AGM141','VEC1016','VGA00006','VZA3008','VSAM2001','VGA00146']\n",
      "\n",
      "def pacbio_all_sites_fn(ind):\n",
      "    return jn(validation_dir,\n",
      "              \"pacbio_samtools_all_sites_{}_2.vcf.gz\".format(ind))\n",
      "def illumina_all_sites_fn(chrom):\n",
      "    return jn(var_ana_dir,\n",
      "              \"GATK_UnifiedGenotyper_163NonVRC_ref3500_all_sites_{}_filter.vcf.gz\".format(chrom))\n",
      "def illumina_coverage_fn(ind):\n",
      "    return jn(validation_dir,\n",
      "              \"pacbio_mapping_intervals_illumina_coverage_{}\".format(ind))\n",
      "def illumina_all_sites_fn(chrom):\n",
      "    return jn(var_ana_dir,\n",
      "              \"GATK_UnifiedGenotyper_163NonVRC_ref3500_all_sites_{}_filter.vcf.gz\".format(chrom))\n",
      "def get_pacbio_intervals(ind):\n",
      "    intervals = pd.read_csv(jn(validation_dir,\"pacbio_mapping_intervals_{}.bed\".format(ind),\n",
      "                               sep=\"\\t\",\n",
      "                                header=None,index_col=[0,1],\n",
      "                                names=[\"chrom\",\"pos\",\"end\"],usecols=[0,1,2])\n",
      "    intervals[\"start\"] =intervals.index.droplevel(0)\n",
      "    return intervals"
     ],
     "language": "python",
     "metadata": {},
     "outputs": [],
     "prompt_number": 51
    },
    {
     "cell_type": "code",
     "collapsed": false,
     "input": [
      "get_pacbio_intervals('AG5417')"
     ],
     "language": "python",
     "metadata": {},
     "outputs": [
      {
       "html": [
        "<div style=\"max-height:1000px;max-width:1500px;overflow:auto;\">\n",
        "<table border=\"1\" class=\"dataframe\">\n",
        "  <thead>\n",
        "    <tr style=\"text-align: right;\">\n",
        "      <th></th>\n",
        "      <th></th>\n",
        "      <th>end</th>\n",
        "      <th>start</th>\n",
        "    </tr>\n",
        "    <tr>\n",
        "      <th>chrom</th>\n",
        "      <th>pos</th>\n",
        "      <th></th>\n",
        "      <th></th>\n",
        "    </tr>\n",
        "  </thead>\n",
        "  <tbody>\n",
        "    <tr>\n",
        "      <th rowspan=\"30\" valign=\"top\">CAE1</th>\n",
        "      <th>42833  </th>\n",
        "      <td>   43466</td>\n",
        "      <td>   42833</td>\n",
        "    </tr>\n",
        "    <tr>\n",
        "      <th>45925  </th>\n",
        "      <td>   46542</td>\n",
        "      <td>   45925</td>\n",
        "    </tr>\n",
        "    <tr>\n",
        "      <th>388949 </th>\n",
        "      <td>  390081</td>\n",
        "      <td>  388949</td>\n",
        "    </tr>\n",
        "    <tr>\n",
        "      <th>500917 </th>\n",
        "      <td>  501490</td>\n",
        "      <td>  500917</td>\n",
        "    </tr>\n",
        "    <tr>\n",
        "      <th>700692 </th>\n",
        "      <td>  701494</td>\n",
        "      <td>  700692</td>\n",
        "    </tr>\n",
        "    <tr>\n",
        "      <th>969494 </th>\n",
        "      <td>  970324</td>\n",
        "      <td>  969494</td>\n",
        "    </tr>\n",
        "    <tr>\n",
        "      <th>1842828</th>\n",
        "      <td> 1843601</td>\n",
        "      <td> 1842828</td>\n",
        "    </tr>\n",
        "    <tr>\n",
        "      <th>1902395</th>\n",
        "      <td> 1903320</td>\n",
        "      <td> 1902395</td>\n",
        "    </tr>\n",
        "    <tr>\n",
        "      <th>2118848</th>\n",
        "      <td> 2119637</td>\n",
        "      <td> 2118848</td>\n",
        "    </tr>\n",
        "    <tr>\n",
        "      <th>2353309</th>\n",
        "      <td> 2354224</td>\n",
        "      <td> 2353309</td>\n",
        "    </tr>\n",
        "    <tr>\n",
        "      <th>2707529</th>\n",
        "      <td> 2708363</td>\n",
        "      <td> 2707529</td>\n",
        "    </tr>\n",
        "    <tr>\n",
        "      <th>2774034</th>\n",
        "      <td> 2774758</td>\n",
        "      <td> 2774034</td>\n",
        "    </tr>\n",
        "    <tr>\n",
        "      <th>2859787</th>\n",
        "      <td> 2860467</td>\n",
        "      <td> 2859787</td>\n",
        "    </tr>\n",
        "    <tr>\n",
        "      <th>3128251</th>\n",
        "      <td> 3129334</td>\n",
        "      <td> 3128251</td>\n",
        "    </tr>\n",
        "    <tr>\n",
        "      <th>3426684</th>\n",
        "      <td> 3428038</td>\n",
        "      <td> 3426684</td>\n",
        "    </tr>\n",
        "    <tr>\n",
        "      <th>3531982</th>\n",
        "      <td> 3532598</td>\n",
        "      <td> 3531982</td>\n",
        "    </tr>\n",
        "    <tr>\n",
        "      <th>3536556</th>\n",
        "      <td> 3537251</td>\n",
        "      <td> 3536556</td>\n",
        "    </tr>\n",
        "    <tr>\n",
        "      <th>3907998</th>\n",
        "      <td> 3908868</td>\n",
        "      <td> 3907998</td>\n",
        "    </tr>\n",
        "    <tr>\n",
        "      <th>4163957</th>\n",
        "      <td> 4164666</td>\n",
        "      <td> 4163957</td>\n",
        "    </tr>\n",
        "    <tr>\n",
        "      <th>4635482</th>\n",
        "      <td> 4636270</td>\n",
        "      <td> 4635482</td>\n",
        "    </tr>\n",
        "    <tr>\n",
        "      <th>4969648</th>\n",
        "      <td> 4970315</td>\n",
        "      <td> 4969648</td>\n",
        "    </tr>\n",
        "    <tr>\n",
        "      <th>5210647</th>\n",
        "      <td> 5211396</td>\n",
        "      <td> 5210647</td>\n",
        "    </tr>\n",
        "    <tr>\n",
        "      <th>5279544</th>\n",
        "      <td> 5280131</td>\n",
        "      <td> 5279544</td>\n",
        "    </tr>\n",
        "    <tr>\n",
        "      <th>5343203</th>\n",
        "      <td> 5344308</td>\n",
        "      <td> 5343203</td>\n",
        "    </tr>\n",
        "    <tr>\n",
        "      <th>5653321</th>\n",
        "      <td> 5654296</td>\n",
        "      <td> 5653321</td>\n",
        "    </tr>\n",
        "    <tr>\n",
        "      <th>5960930</th>\n",
        "      <td> 5961752</td>\n",
        "      <td> 5960930</td>\n",
        "    </tr>\n",
        "    <tr>\n",
        "      <th>6209401</th>\n",
        "      <td> 6210131</td>\n",
        "      <td> 6209401</td>\n",
        "    </tr>\n",
        "    <tr>\n",
        "      <th>6287217</th>\n",
        "      <td> 6287785</td>\n",
        "      <td> 6287217</td>\n",
        "    </tr>\n",
        "    <tr>\n",
        "      <th>6361227</th>\n",
        "      <td> 6362119</td>\n",
        "      <td> 6361227</td>\n",
        "    </tr>\n",
        "    <tr>\n",
        "      <th>6620138</th>\n",
        "      <td> 6620937</td>\n",
        "      <td> 6620138</td>\n",
        "    </tr>\n",
        "    <tr>\n",
        "      <th>...</th>\n",
        "      <th>...</th>\n",
        "      <td>...</td>\n",
        "      <td>...</td>\n",
        "    </tr>\n",
        "    <tr>\n",
        "      <th rowspan=\"5\" valign=\"top\">Scaffold118</th>\n",
        "      <th>1765714</th>\n",
        "      <td> 1766698</td>\n",
        "      <td> 1765714</td>\n",
        "    </tr>\n",
        "    <tr>\n",
        "      <th>2201406</th>\n",
        "      <td> 2201940</td>\n",
        "      <td> 2201406</td>\n",
        "    </tr>\n",
        "    <tr>\n",
        "      <th>2316624</th>\n",
        "      <td> 2317337</td>\n",
        "      <td> 2316624</td>\n",
        "    </tr>\n",
        "    <tr>\n",
        "      <th>2343588</th>\n",
        "      <td> 2344246</td>\n",
        "      <td> 2343588</td>\n",
        "    </tr>\n",
        "    <tr>\n",
        "      <th>2668394</th>\n",
        "      <td> 2669036</td>\n",
        "      <td> 2668394</td>\n",
        "    </tr>\n",
        "    <tr>\n",
        "      <th rowspan=\"12\" valign=\"top\">Scaffold147</th>\n",
        "      <th>423    </th>\n",
        "      <td>    1284</td>\n",
        "      <td>     423</td>\n",
        "    </tr>\n",
        "    <tr>\n",
        "      <th>6159   </th>\n",
        "      <td>    6929</td>\n",
        "      <td>    6159</td>\n",
        "    </tr>\n",
        "    <tr>\n",
        "      <th>12867  </th>\n",
        "      <td>   13486</td>\n",
        "      <td>   12867</td>\n",
        "    </tr>\n",
        "    <tr>\n",
        "      <th>96650  </th>\n",
        "      <td>   97591</td>\n",
        "      <td>   96650</td>\n",
        "    </tr>\n",
        "    <tr>\n",
        "      <th>120552 </th>\n",
        "      <td>  121317</td>\n",
        "      <td>  120552</td>\n",
        "    </tr>\n",
        "    <tr>\n",
        "      <th>190226 </th>\n",
        "      <td>  191133</td>\n",
        "      <td>  190226</td>\n",
        "    </tr>\n",
        "    <tr>\n",
        "      <th>225951 </th>\n",
        "      <td>  226650</td>\n",
        "      <td>  225951</td>\n",
        "    </tr>\n",
        "    <tr>\n",
        "      <th>345412 </th>\n",
        "      <td>  346230</td>\n",
        "      <td>  345412</td>\n",
        "    </tr>\n",
        "    <tr>\n",
        "      <th>684977 </th>\n",
        "      <td>  685567</td>\n",
        "      <td>  684977</td>\n",
        "    </tr>\n",
        "    <tr>\n",
        "      <th>693370 </th>\n",
        "      <td>  693941</td>\n",
        "      <td>  693370</td>\n",
        "    </tr>\n",
        "    <tr>\n",
        "      <th>743345 </th>\n",
        "      <td>  744901</td>\n",
        "      <td>  743345</td>\n",
        "    </tr>\n",
        "    <tr>\n",
        "      <th>1201579</th>\n",
        "      <td> 1202174</td>\n",
        "      <td> 1201579</td>\n",
        "    </tr>\n",
        "    <tr>\n",
        "      <th>Scaffold212</th>\n",
        "      <th>122630 </th>\n",
        "      <td>  123808</td>\n",
        "      <td>  122630</td>\n",
        "    </tr>\n",
        "    <tr>\n",
        "      <th rowspan=\"2\" valign=\"top\">Scaffold234</th>\n",
        "      <th>21455  </th>\n",
        "      <td>   22153</td>\n",
        "      <td>   21455</td>\n",
        "    </tr>\n",
        "    <tr>\n",
        "      <th>29904  </th>\n",
        "      <td>   30705</td>\n",
        "      <td>   29904</td>\n",
        "    </tr>\n",
        "    <tr>\n",
        "      <th>Scaffold236</th>\n",
        "      <th>41019  </th>\n",
        "      <td>   41540</td>\n",
        "      <td>   41019</td>\n",
        "    </tr>\n",
        "    <tr>\n",
        "      <th>Scaffold465</th>\n",
        "      <th>13541  </th>\n",
        "      <td>   14457</td>\n",
        "      <td>   13541</td>\n",
        "    </tr>\n",
        "    <tr>\n",
        "      <th rowspan=\"4\" valign=\"top\">Scaffold526</th>\n",
        "      <th>5919   </th>\n",
        "      <td>    7059</td>\n",
        "      <td>    5919</td>\n",
        "    </tr>\n",
        "    <tr>\n",
        "      <th>6989   </th>\n",
        "      <td>    7932</td>\n",
        "      <td>    6989</td>\n",
        "    </tr>\n",
        "    <tr>\n",
        "      <th>7609   </th>\n",
        "      <td>    8938</td>\n",
        "      <td>    7609</td>\n",
        "    </tr>\n",
        "    <tr>\n",
        "      <th>8181   </th>\n",
        "      <td>    9117</td>\n",
        "      <td>    8181</td>\n",
        "    </tr>\n",
        "    <tr>\n",
        "      <th>Scaffold609</th>\n",
        "      <th>6704   </th>\n",
        "      <td>    7490</td>\n",
        "      <td>    6704</td>\n",
        "    </tr>\n",
        "    <tr>\n",
        "      <th>Scaffold1263</th>\n",
        "      <th>5309   </th>\n",
        "      <td>    5954</td>\n",
        "      <td>    5309</td>\n",
        "    </tr>\n",
        "    <tr>\n",
        "      <th>Scaffold1601</th>\n",
        "      <th>224    </th>\n",
        "      <td>     932</td>\n",
        "      <td>     224</td>\n",
        "    </tr>\n",
        "    <tr>\n",
        "      <th>Scaffold271</th>\n",
        "      <th>9861   </th>\n",
        "      <td>   10423</td>\n",
        "      <td>    9861</td>\n",
        "    </tr>\n",
        "  </tbody>\n",
        "</table>\n",
        "<p>19859 rows \u00d7 2 columns</p>\n",
        "</div>"
       ],
       "metadata": {},
       "output_type": "pyout",
       "prompt_number": 52,
       "text": [
        "                          end    start\n",
        "chrom        pos                      \n",
        "CAE1         42833      43466    42833\n",
        "             45925      46542    45925\n",
        "             388949    390081   388949\n",
        "             500917    501490   500917\n",
        "             700692    701494   700692\n",
        "             969494    970324   969494\n",
        "             1842828  1843601  1842828\n",
        "             1902395  1903320  1902395\n",
        "             2118848  2119637  2118848\n",
        "             2353309  2354224  2353309\n",
        "             2707529  2708363  2707529\n",
        "             2774034  2774758  2774034\n",
        "             2859787  2860467  2859787\n",
        "             3128251  3129334  3128251\n",
        "             3426684  3428038  3426684\n",
        "             3531982  3532598  3531982\n",
        "             3536556  3537251  3536556\n",
        "             3907998  3908868  3907998\n",
        "             4163957  4164666  4163957\n",
        "             4635482  4636270  4635482\n",
        "             4969648  4970315  4969648\n",
        "             5210647  5211396  5210647\n",
        "             5279544  5280131  5279544\n",
        "             5343203  5344308  5343203\n",
        "             5653321  5654296  5653321\n",
        "             5960930  5961752  5960930\n",
        "             6209401  6210131  6209401\n",
        "             6287217  6287785  6287217\n",
        "             6361227  6362119  6361227\n",
        "             6620138  6620937  6620138\n",
        "...                       ...      ...\n",
        "Scaffold118  1765714  1766698  1765714\n",
        "             2201406  2201940  2201406\n",
        "             2316624  2317337  2316624\n",
        "             2343588  2344246  2343588\n",
        "             2668394  2669036  2668394\n",
        "Scaffold147  423         1284      423\n",
        "             6159        6929     6159\n",
        "             12867      13486    12867\n",
        "             96650      97591    96650\n",
        "             120552    121317   120552\n",
        "             190226    191133   190226\n",
        "             225951    226650   225951\n",
        "             345412    346230   345412\n",
        "             684977    685567   684977\n",
        "             693370    693941   693370\n",
        "             743345    744901   743345\n",
        "             1201579  1202174  1201579\n",
        "Scaffold212  122630    123808   122630\n",
        "Scaffold234  21455      22153    21455\n",
        "             29904      30705    29904\n",
        "Scaffold236  41019      41540    41019\n",
        "Scaffold465  13541      14457    13541\n",
        "Scaffold526  5919        7059     5919\n",
        "             6989        7932     6989\n",
        "             7609        8938     7609\n",
        "             8181        9117     8181\n",
        "Scaffold609  6704        7490     6704\n",
        "Scaffold1263 5309        5954     5309\n",
        "Scaffold1601 224          932      224\n",
        "Scaffold271  9861       10423     9861\n",
        "\n",
        "[19859 rows x 2 columns]"
       ]
      }
     ],
     "prompt_number": 52
    },
    {
     "cell_type": "code",
     "collapsed": false,
     "input": [],
     "language": "python",
     "metadata": {},
     "outputs": []
    }
   ],
   "metadata": {}
  }
 ]
}