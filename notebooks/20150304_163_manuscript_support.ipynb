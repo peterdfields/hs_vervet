{
 "metadata": {
  "name": "",
  "signature": "sha256:f92994cd1b00e660ce203cd3b37bfdfa46d679a10f24b287ebaeb73abba381bb"
 },
 "nbformat": 3,
 "nbformat_minor": 0,
 "worksheets": [
  {
   "cells": [
    {
     "cell_type": "heading",
     "level": 1,
     "metadata": {},
     "source": [
      "2015 Vervet popgen manuscript - analyses and supporting material"
     ]
    },
    {
     "cell_type": "markdown",
     "metadata": {},
     "source": [
      "%matplotlib inline"
     ]
    },
    {
     "cell_type": "code",
     "collapsed": false,
     "input": [
      "#parallel\n",
      "from IPython.parallel import Client\n",
      "rc = Client(profile=\"default\")\n",
      "dview = rc[:] # use all engines\n",
      "lv = rc.load_balanced_view()"
     ],
     "language": "python",
     "metadata": {},
     "outputs": []
    },
    {
     "cell_type": "code",
     "collapsed": false,
     "input": [
      "%%px --local\n",
      "#Global init\n",
      "import os, json\n",
      "import pandas as pd\n",
      "import numpy as np\n",
      "import scipy"
     ],
     "language": "python",
     "metadata": {},
     "outputs": []
    },
    {
     "cell_type": "code",
     "collapsed": false,
     "input": [],
     "language": "python",
     "metadata": {},
     "outputs": []
    }
   ],
   "metadata": {}
  }
 ]
}