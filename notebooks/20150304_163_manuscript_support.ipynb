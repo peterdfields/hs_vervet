{
 "metadata": {
  "name": "",
  "signature": "sha256:6e2a5544ac26a640e620c364f0ca5f33cad13345dc400a26ec3ee94dd2b72cf7"
 },
 "nbformat": 3,
 "nbformat_minor": 0,
 "worksheets": [
  {
   "cells": [
    {
     "cell_type": "heading",
     "level": 1,
     "metadata": {},
     "source": [
      "2015 Vervet popgen manuscript - analyses and supporting material"
     ]
    },
    {
     "cell_type": "markdown",
     "metadata": {},
     "source": [
      "%matplotlib inline"
     ]
    },
    {
     "cell_type": "code",
     "collapsed": false,
     "input": [
      "#parallel\n",
      "from IPython.parallel import Client\n",
      "rc = Client(profile=\"default\")\n",
      "dview = rc[:] # use all engines\n",
      "lv = rc.load_balanced_view()"
     ],
     "language": "python",
     "metadata": {},
     "outputs": []
    },
    {
     "cell_type": "code",
     "collapsed": false,
     "input": [
      "%%px --local\n",
      "#Global init\n",
      "import os, json\n",
      "import pandas as pd\n",
      "import numpy as np\n",
      "import scipy"
     ],
     "language": "python",
     "metadata": {},
     "outputs": []
    },
    {
     "cell_type": "code",
     "collapsed": false,
     "input": [
      "Linkage disequilibrium"
     ],
     "language": "python",
     "metadata": {},
     "outputs": []
    }
   ],
   "metadata": {}
  }
 ]
}