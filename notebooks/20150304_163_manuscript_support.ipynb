{
 "metadata": {
  "name": "",
  "signature": "sha256:876f5e8c4b06bab7b2f8865dc01ee26b7adc8dcb6572cbe604739ae95b1a0e90"
 },
 "nbformat": 3,
 "nbformat_minor": 0,
 "worksheets": [
  {
   "cells": [
    {
     "cell_type": "heading",
     "level": 1,
     "metadata": {},
     "source": [
      "2015 Vervet popgen manuscript - analyses and supporting material"
     ]
    },
    {
     "cell_type": "markdown",
     "metadata": {},
     "source": [
      "%matplotlib inline"
     ]
    },
    {
     "cell_type": "code",
     "collapsed": false,
     "input": [
      "#parallel\n",
      "from IPython.parallel import Client\n",
      "rc = Client(profile=\"default\")\n",
      "dview = rc[:] # use all engines\n",
      "lv = rc.load_balanced_view()"
     ],
     "language": "python",
     "metadata": {},
     "outputs": [],
     "prompt_number": 1
    },
    {
     "cell_type": "heading",
     "level": 2,
     "metadata": {},
     "source": [
      "Global setup"
     ]
    },
    {
     "cell_type": "heading",
     "level": 3,
     "metadata": {},
     "source": [
      "Imports"
     ]
    },
    {
     "cell_type": "code",
     "collapsed": false,
     "input": [
      "%%px --local\n",
      "#Global init\n",
      "import os, json, tabix, itertools, gzip\n",
      "import pandas as pd\n",
      "import numpy as np\n",
      "from hs_vervet.scripts import vcf_parser as vp\n",
      "eu = os.path.expanduser\n",
      "jn = os.path.join\n",
      "var_ana_dir = eu(\"~/vervet_project/analyses/20150220_163_HaplotypeCaller/_data\")\n",
      "autosomes = [\"CAE\" + str(i) for i in range(1,30)]\n",
      "chromosomes = [\"CAE\" + str(i) for i in range(1,30)+[\"X\",\"Y\"]]"
     ],
     "language": "python",
     "metadata": {},
     "outputs": [],
     "prompt_number": 2
    },
    {
     "cell_type": "heading",
     "level": 3,
     "metadata": {},
     "source": [
      "Global variables"
     ]
    },
    {
     "cell_type": "code",
     "collapsed": false,
     "input": [
      "%%px --local\n",
      "#genetic map for colony SNPs\n",
      "map_fn = eu(\"~/vervet_project/data/map/vervet.map\")\n",
      "map_s = pd.read_csv(map_fn,usecols=[1,2,4],index_col=[0,1],squeeze=True)\n",
      "map_s.index = pd.MultiIndex.from_tuples([(\"CAE\"+str(x[0]),x[1]) for x in map_s.index])"
     ],
     "language": "python",
     "metadata": {},
     "outputs": [],
     "prompt_number": 9
    },
    {
     "cell_type": "heading",
     "level": 3,
     "metadata": {},
     "source": [
      "Global functions"
     ]
    },
    {
     "cell_type": "code",
     "collapsed": false,
     "input": [
      "%%px --local\n",
      "#general functions\n",
      "def get_gen_df(chrom):\n",
      "    \"\"\"\n",
      "    get 0,1,2 genotype data frame\n",
      "    \"\"\"\n",
      "    fn = jn(var_ana_dir,\"163_HC_ref3500_pass_ref_alt_{}.012\".format(chrom))\n",
      "    df = pd.read_csv(fn,index_col=[0,1],sep=\"\\t\",na_values=\"N\")\n",
      "    return df.astype(np.float16)"
     ],
     "language": "python",
     "metadata": {},
     "outputs": [],
     "prompt_number": 4
    },
    {
     "cell_type": "heading",
     "level": 2,
     "metadata": {},
     "source": [
      "Analyses"
     ]
    },
    {
     "cell_type": "heading",
     "level": 3,
     "metadata": {},
     "source": [
      "XPCLR"
     ]
    },
    {
     "cell_type": "code",
     "collapsed": false,
     "input": [
      "see 20150324_163_HC_XPCLR"
     ],
     "language": "python",
     "metadata": {},
     "outputs": []
    },
    {
     "cell_type": "heading",
     "level": 3,
     "metadata": {},
     "source": [
      "Linkage disequilibrium"
     ]
    },
    {
     "cell_type": "code",
     "collapsed": false,
     "input": [
      "import pysam"
     ],
     "language": "python",
     "metadata": {},
     "outputs": [],
     "prompt_number": 4
    },
    {
     "cell_type": "code",
     "collapsed": false,
     "input": [
      "tbx = pysam.TabixFile(\"example.vcf.gz\",\"w\")"
     ],
     "language": "python",
     "metadata": {},
     "outputs": [
      {
       "ename": "AttributeError",
       "evalue": "'module' object has no attribute 'TabixFile'",
       "output_type": "pyerr",
       "traceback": [
        "\u001b[1;31m---------------------------------------------------------------------------\u001b[0m\n\u001b[1;31mAttributeError\u001b[0m                            Traceback (most recent call last)",
        "\u001b[1;32m<ipython-input-6-853c692b6850>\u001b[0m in \u001b[0;36m<module>\u001b[1;34m()\u001b[0m\n\u001b[1;32m----> 1\u001b[1;33m \u001b[0mtbx\u001b[0m \u001b[1;33m=\u001b[0m \u001b[0mpysam\u001b[0m\u001b[1;33m.\u001b[0m\u001b[0mTabixFile\u001b[0m\u001b[1;33m(\u001b[0m\u001b[1;34m\"example.vcf.gz\"\u001b[0m\u001b[1;33m,\u001b[0m\u001b[1;34m\"w\"\u001b[0m\u001b[1;33m)\u001b[0m\u001b[1;33m\u001b[0m\u001b[0m\n\u001b[0m",
        "\u001b[1;31mAttributeError\u001b[0m: 'module' object has no attribute 'TabixFile'"
       ]
      }
     ],
     "prompt_number": 6
    },
    {
     "cell_type": "heading",
     "level": 2,
     "metadata": {},
     "source": [
      "Support -- To be done once"
     ]
    },
    {
     "cell_type": "heading",
     "level": 4,
     "metadata": {},
     "source": [
      "Interpolate genetic map"
     ]
    },
    {
     "cell_type": "code",
     "collapsed": false,
     "input": [
      "%%px --local\n",
      "def make_map_df(chrom):\n",
      "    gen_df = get_gen_df(chrom)\n",
      "    idx = gen_df.ix[chrom].index.union(map_s.ix[chrom].index)\n",
      "    idx.name = \"basepair\"\n",
      "    genetic_map = pd.DataFrame(index=idx)\n",
      "    genetic_map[\"centimorgan\"] = np.nan\n",
      "    genetic_map.ix[map_s.ix[chrom].index,\"centimorgan\"] = map_s.ix[chrom].values\n",
      "    genetic_map[\"163_pop_snp\"] = 0\n",
      "    genetic_map.ix[gen_df.ix[chrom].index,\"163_pop_snp\"] = 1\n",
      "    genetic_map[\"vrc_snp\"] = 0\n",
      "    genetic_map.ix[map_s.ix[chrom].index,\"vrc_snp\"] = 1\n",
      "    genetic_map[\"centimorgan\"] = genetic_map[\"centimorgan\"].interpolate(method='values')\n",
      "    #interpolating the first values\n",
      "    first_idx, second_idx = map_s.ix[chrom].head(2).index.values\n",
      "    first_value, second_value = map_s.ix[chrom].head(2).values\n",
      "    genetic_map.ix[:first_idx,\"centimorgan\"] = (second_value - first_value) / (second_idx - first_idx) * \\\n",
      "                                                genetic_map.ix[:first_idx,\"centimorgan\"].index + \\\n",
      "                                                (first_value *second_idx - second_value * first_idx) / (second_idx - first_idx)\n",
      "    #interpolating the last values\n",
      "    secondlast_idx, last_idx = map_s.ix[chrom].tail(2).index.values\n",
      "    secondlast_value, last_value = map_s.ix[chrom].tail(2).values\n",
      "    genetic_map.ix[last_idx:,\"centimorgan\"] = (last_value - secondlast_value) / (last_idx - secondlast_idx) * \\\n",
      "                                                genetic_map.ix[last_idx:,\"centimorgan\"].index + \\\n",
      "                                                (secondlast_value *last_idx - last_value * secondlast_idx) / (last_idx - secondlast_idx)\n",
      "    genetic_map.index = pd.MultiIndex.from_tuples(zip([chrom]*len(idx),idx))\n",
      "    genetic_map.index.names = [\"chrom\",\"pos\"]\n",
      "    return genetic_map\n",
      "\n",
      "def save_genetic_map(gen_map_df):\n",
      "    chrom = gen_map_df.index.levels[0][0]\n",
      "    fn = jn(var_ana_dir,\"163_HC_ref3500_genetic_map_{}.tsv\".format(chrom))\n",
      "    gen_map_df.index.names = [\"chrom\",\"pos\"]\n",
      "    gen_map_df.to_csv(fn, sep=\"\\t\",float_format=\"%.5g\")\n",
      "    \n",
      "def save_genetic_map_chrom(chrom):\n",
      "    map_df = make_map_df(chrom)\n",
      "    save_genetic_map(map_df)"
     ],
     "language": "python",
     "metadata": {},
     "outputs": [],
     "prompt_number": 11
    },
    {
     "cell_type": "code",
     "collapsed": false,
     "input": [
      "res = lv.map_async(save_genetic_map_chrom,autosomes)"
     ],
     "language": "python",
     "metadata": {},
     "outputs": [],
     "prompt_number": 12
    },
    {
     "cell_type": "heading",
     "level": 2,
     "metadata": {},
     "source": [
      "Supplement"
     ]
    },
    {
     "cell_type": "heading",
     "level": 3,
     "metadata": {},
     "source": [
      "SNP and filtering statistics"
     ]
    },
    {
     "cell_type": "code",
     "collapsed": false,
     "input": [
      "def stats_dic(chrom):\n",
      "    stats_fn = jn(var_ana_dir,\"snp_stats_{}.json\".format(chrom))\n",
      "    stats_dic = json.load(open(stats_fn,\"r\"))\n",
      "    return stats_dic"
     ],
     "language": "python",
     "metadata": {},
     "outputs": [],
     "prompt_number": 84
    },
    {
     "cell_type": "code",
     "collapsed": false,
     "input": [
      "chrom_dicts = [stats_dic(chrom) for chrom in chromosomes]"
     ],
     "language": "python",
     "metadata": {},
     "outputs": [],
     "prompt_number": 85
    },
    {
     "cell_type": "code",
     "collapsed": false,
     "input": [
      "autosome_stats_dic = stats_dic(autosomes[0])\n",
      "for chrom in autosomes[1:]:\n",
      "    stats_dic1 = stats_dic(chrom)\n",
      "    for key in autosome_stats_dic:\n",
      "        if key == \"filters\":\n",
      "            for key1 in autosome_stats_dic[key]:\n",
      "                autosome_stats_dic[key][key1] += stats_dic1[key][key1]\n",
      "        else:\n",
      "            autosome_stats_dic[key] += stats_dic1[key]"
     ],
     "language": "python",
     "metadata": {},
     "outputs": [],
     "prompt_number": 86
    },
    {
     "cell_type": "code",
     "collapsed": false,
     "input": [
      "total_stats_dic = stats_dic(chromosomes[0])\n",
      "for chrom in chromosomes[1:]:\n",
      "    stats_dic1 = stats_dic(chrom)\n",
      "    for key in total_stats_dic:\n",
      "        if key == \"filters\":\n",
      "            for key1 in total_stats_dic[key]:\n",
      "                total_stats_dic[key][key1] += stats_dic1[key][key1]\n",
      "        else:\n",
      "            try:\n",
      "                total_stats_dic[key] += stats_dic1[key]\n",
      "            except KeyError:\n",
      "                print chrom\n",
      "                pass"
     ],
     "language": "python",
     "metadata": {},
     "outputs": [
      {
       "output_type": "stream",
       "stream": "stdout",
       "text": [
        "CAEY\n"
       ]
      }
     ],
     "prompt_number": 87
    },
    {
     "cell_type": "code",
     "collapsed": false,
     "input": [
      "autosome_stats_dic"
     ],
     "language": "python",
     "metadata": {},
     "outputs": [
      {
       "metadata": {},
       "output_type": "pyout",
       "prompt_number": 88,
       "text": [
        "{u'ancestral_known': 98067123,\n",
        " u'filters': {u'5bpIndel': 9351628,\n",
        "  u'ExCov': 4541825,\n",
        "  u'LowCov': 1510401,\n",
        "  u'LowMQ': 6712601,\n",
        "  u'LowQual': 9622378,\n",
        "  u'MQ0_7pct': 7333399,\n",
        "  u'MQRankSum': 670945,\n",
        "  u'MissingExcess': 1885398,\n",
        "  u'QualityByDepth': 201820,\n",
        "  u'StrandBias': 72769},\n",
        " u'pass': 94016242,\n",
        " u'pass_ancestral_is_alt': 7994353,\n",
        " u'pass_ancestral_is_ref': 71733002,\n",
        " u'pass_ancestral_is_third_allele': 1113673,\n",
        " u'pass_ancestral_known': 80841028,\n",
        " u'snps': 120392603,\n",
        " u'total': 120392603}"
       ]
      }
     ],
     "prompt_number": 88
    },
    {
     "cell_type": "code",
     "collapsed": false,
     "input": [
      "total_stats_dic"
     ],
     "language": "python",
     "metadata": {},
     "outputs": [
      {
       "metadata": {},
       "output_type": "pyout",
       "prompt_number": 89,
       "text": [
        "{u'ancestral_known': 101161792,\n",
        " u'filters': {u'5bpIndel': 9662979,\n",
        "  u'ExCov': 4945880,\n",
        "  u'LowCov': 1573098,\n",
        "  u'LowMQ': 7128366,\n",
        "  u'LowQual': 9984526,\n",
        "  u'MQ0_7pct': 7772819,\n",
        "  u'MQRankSum': 715990,\n",
        "  u'MissingExcess': 2117186,\n",
        "  u'QualityByDepth': 215151,\n",
        "  u'StrandBias': 80009},\n",
        " u'pass': 97091916,\n",
        " u'pass_ancestral_is_alt': 8215937,\n",
        " u'pass_ancestral_is_ref': 73969825,\n",
        " u'pass_ancestral_is_third_allele': 1142628,\n",
        " u'pass_ancestral_known': 83328390,\n",
        " u'snps': 124691086,\n",
        " u'total': 124691086}"
       ]
      }
     ],
     "prompt_number": 89
    },
    {
     "cell_type": "heading",
     "level": 4,
     "metadata": {},
     "source": [
      "Detailed filtering stats for SNPs"
     ]
    },
    {
     "cell_type": "code",
     "collapsed": false,
     "input": [
      "def get_detailed_snp_filter_stats(chrom):\n",
      "    df = pd.read_csv(jn(var_ana_dir,'snp_filter_stats_{}.tsv'.format(chrom)),sep='\\t',index_col=0,header=None,squeeze=True)\n",
      "    return df"
     ],
     "language": "python",
     "metadata": {},
     "outputs": [],
     "prompt_number": 99
    },
    {
     "cell_type": "code",
     "collapsed": false,
     "input": [
      "tot_snp_filter_stats = pd.Series()\n",
      "for chrom in chromosomes:\n",
      "    df = get_detailed_snp_filter_stats(chrom)\n",
      "    tot_snp_filter_stats = tot_snp_filter_stats.add(df,fill_value=0)#how='outer',rsuffix='n').sum(axis=)"
     ],
     "language": "python",
     "metadata": {},
     "outputs": [],
     "prompt_number": 102
    },
    {
     "cell_type": "code",
     "collapsed": false,
     "input": [],
     "language": "python",
     "metadata": {},
     "outputs": []
    },
    {
     "cell_type": "code",
     "collapsed": false,
     "input": [
      "tot_snp_filter_stats.sort(ascending=False,inplace=False)"
     ],
     "language": "python",
     "metadata": {},
     "outputs": [
      {
       "metadata": {},
       "output_type": "pyout",
       "prompt_number": 103,
       "text": [
        "0\n",
        "n_sites                                             124691086\n",
        "('PASS',)                                            97091916\n",
        "('LowQual',)                                          8202461\n",
        "('5bpIndel',)                                         6507096\n",
        "('ExCov', 'LowMQ', 'MQ0_7pct')                        1916499\n",
        "('LowMQ', 'MQ0_7pct')                                 1757865\n",
        "('ExCov',)                                            1175102\n",
        "('MQ0_7pct',)                                         1080670\n",
        "('5bpIndel', 'LowQual')                                592619\n",
        "('LowMQ',)                                             520711\n",
        "('5bpIndel', 'ExCov', 'LowMQ', 'MQ0_7pct')             385531\n",
        "('LowMQ', 'LowQual', 'MQ0_7pct')                       270567\n",
        "('5bpIndel', 'ExCov')                                  249033\n",
        "('5bpIndel', 'LowCov', 'MissingExcess')                247103\n",
        "('LowCov', 'LowMQ', 'MQ0_7pct', 'MissingExcess')       232175\n",
        "...\n",
        "('ExCov', 'LowQual', 'MQ0_7pct', 'MissingExcess', 'QualityByDepth')    1\n",
        "('ExCov', 'LowMQ', 'MQ0_7pct', 'QualityByDepth', 'ReadPos')     1\n",
        "('5bpIndel', 'LowCov', 'LowQual', 'MQ0_7pct', 'QualityByDepth', 'StrandBias')    1\n",
        "('5bpIndel', 'ExCov', 'LowMQ', 'LowQual', 'MQ0_7pct', 'MQRankSum', 'QualityByDepth', 'StrandBias')    1\n",
        "('5bpIndel', 'ExCov', 'LowMQ', 'LowQual', 'MQ0_7pct', 'MQRankSum', 'MissingExcess', 'StrandBias')    1\n",
        "('5bpIndel', 'ExCov', 'LowMQ', 'MQ0_7pct', 'MissingExcess', 'QualityByDepth', 'StrandBias')    1\n",
        "('LowQual', 'MQRankSum', 'QualityByDepth', 'StrandBias')        1\n",
        "('5bpIndel', 'LowMQ', 'QualityByDepth', 'StrandBias')           1\n",
        "('LowQual', 'MissingExcess', 'QualityByDepth', 'StrandBias')    1\n",
        "('5bpIndel', 'LowCov', 'LowMQ', 'MQ0_7pct', 'MQRankSum', 'StrandBias')    1\n",
        "('LowCov', 'LowMQ', 'MQRankSum', 'StrandBias')                  1\n",
        "('ExCov', 'LowMQ', 'LowQual', 'MQRankSum', 'MissingExcess', 'QualityByDepth')    1\n",
        "('5bpIndel', 'ExCov', 'LowCov', 'MissingExcess', 'QualityByDepth', 'StrandBias')    1\n",
        "('5bpIndel', 'LowQual', 'MQ0_7pct', 'MissingExcess', 'QualityByDepth', 'StrandBias')    1\n",
        "('5bpIndel', 'LowMQ', 'LowQual', 'MissingExcess', 'QualityByDepth')    1\n",
        "Length: 548, dtype: float64"
       ]
      }
     ],
     "prompt_number": 103
    },
    {
     "cell_type": "heading",
     "level": 3,
     "metadata": {},
     "source": [
      "Validation"
     ]
    },
    {
     "cell_type": "code",
     "collapsed": false,
     "input": [
      "%%px --local\n",
      "validation_dir = eu(\"~/vervet_project/analyses/20140617_ref3500_pacbio_validation/_data\")\n",
      "individuals = ['AG5417','B5616','AGM141','VEC1016','VGA00006','VZA3008','VSAM2001','VGA00146']\n",
      "\n",
      "def get_pacbio_intervals(ind):\n",
      "    intervals = pd.read_csv(jn(validation_dir,\"pacbio_mapping_intervals_{}.bed\".format(ind)),\n",
      "                               sep=\"\\t\",\n",
      "                                header=None,index_col=[0,1],\n",
      "                                names=[\"chrom\",\"pos\",\"end\"],usecols=[0,1,2])\n",
      "    intervals[\"start\"] =intervals.index.droplevel(0)\n",
      "    intervals.index = intervals.index.droplevel(1)\n",
      "    return intervals\n",
      "    \n",
      "\n",
      "vcf_fn = jn(var_ana_dir,\"163_HaplotypeCaller_ref3500_{}_all_sites_filter.vcf.gz\")\n",
      "pacbio_fn = jn(validation_dir,\n",
      "              \"pacbio_samtools_all_sites_{}_filter.vcf.gz\")"
     ],
     "language": "python",
     "metadata": {},
     "outputs": [],
     "prompt_number": 66
    },
    {
     "cell_type": "code",
     "collapsed": false,
     "input": [
      "%%px --local\n",
      "def get_validation_countdic(chrom,ind,check_fun):\n",
      "    \"\"\"\n",
      "    check_fun(pl,il,count_dic,gt) ... \n",
      "                function that checks \n",
      "                checks the site and adds the count to countdic\n",
      "    \"\"\"\n",
      "    intervals = get_pacbio_intervals(ind)\n",
      "    pb = tabix.open(pacbio_fn.format(ind))\n",
      "    ill = tabix.open(vcf_fn.format(chrom))\n",
      "    for line in gzip.open(vcf_fn.format(chrom)):\n",
      "        if line[0] == '#':\n",
      "            if line[1:1+len('CHROM')] == 'CHROM':\n",
      "                ill_header = line[1:].strip().split('\\t')\n",
      "        else:\n",
      "            break\n",
      "    ind_pos = ill_header.index(ind)\n",
      "    count_dic = {'total':0,'both_filter':0,'pb_filter':0,'ill_filter':0,'ill_N':0,\n",
      "                 'pb_ref': {'ill_RR':0,'ill_RA':0,'ill_AA':0},\n",
      "                 'pb_noref':{'ill_RR':0,'ill_RA':0,'ill_AA':0},\n",
      "                  'other':0}\n",
      "\n",
      "    ind_pos = ill_header.index(ind)\n",
      "    try:\n",
      "        iv_df = intervals.ix[chrom].copy()\n",
      "        #make sure that intervals don't overlap\n",
      "        iv_df['start'].iloc[1:] =  np.array([iv_df['end'].iloc[:-1].values.T,iv_df['start'].iloc[1:].values.T]).T.max(axis=1)\n",
      "        iv_df = iv_df[iv_df['start']<iv_df['end']]\n",
      "        iv_itr = iv_df.iterrows()\n",
      "    except KeyError:\n",
      "        return {(ind,chrom):count_dic}\n",
      "    except AttributeError:\n",
      "        iv_itr = pd.DataFrame(intervals.ix[chrom],columns=[chrom]).T.iterrows()\n",
      "    for i,(c,iv) in enumerate(iv_itr):\n",
      "        try:\n",
      "            pbr = pb.query(c,iv['start']+1,iv['end'])\n",
      "        except tabix.TabixError:\n",
      "            return (c,iv['start']+1,iv['end'])\n",
      "        illr = ill.query(c,iv['start']+1,iv['end'])\n",
      "        for j,(pl,il) in enumerate(itertools.izip(pbr,illr)):\n",
      "            assert pl[0] == il[0]\n",
      "            while int(pl[1]) < int(il[1]):\n",
      "                pl = pbr.next()\n",
      "            while int(pl[1]) > int(il[1]):\n",
      "                il = illr.next()\n",
      "            assert pl[1] == il[1], ind + \": \"  \" \".join(pl) + '\\n' + \" \".join(il)\n",
      "            count_dic['total'] += 1\n",
      "            gt = il[ind_pos][:3]\n",
      "            check_fun(pl,il,count_dic,gt)\n",
      "    return {(ind,chrom):count_dic}"
     ],
     "language": "python",
     "metadata": {},
     "outputs": [],
     "prompt_number": 126
    },
    {
     "cell_type": "code",
     "collapsed": false,
     "input": [
      "%%px --local\n",
      "nofilter = ['.','PASS']\n",
      "gts = ['0/0','0/1','1/1']\n",
      "def check_filter(pl,il,count_dic,gt):\n",
      "    if pl[6] not in nofilter and il[6] not in nofilter:\n",
      "        count_dic['both_filter'] += 1\n",
      "    elif pl[6] not in nofilter:\n",
      "        count_dic['pb_filter'] += 1\n",
      "    elif il[6] not in nofilter:\n",
      "        count_dic['ill_filter'] += 1\n",
      "    elif gt not in gts:\n",
      "        count_dic['ill_N'] += 1\n",
      "    elif pl[4] == 'X' and gt == gts[0]:\n",
      "        count_dic['pb_ref']['ill_RR'] += 1\n",
      "    elif pl[4] == 'X' and gt == gts[1]:\n",
      "        count_dic['pb_ref']['ill_RA'] += 1\n",
      "    elif pl[4] == 'X' and gt == gts[2]:\n",
      "        count_dic['pb_ref']['ill_AA'] += 1\n",
      "    elif pl[4] != 'X' and gt == gts[0]:\n",
      "        count_dic['pb_noref']['ill_RR'] += 1\n",
      "    elif pl[4] != 'X' and gt == gts[1]:\n",
      "        count_dic['pb_noref']['ill_RA'] += 1\n",
      "    elif pl[4] != 'X' and gt == gts[2]:\n",
      "        count_dic['pb_noref']['ill_AA'] += 1\n",
      "    else:\n",
      "        count_dic['other'] += 1\n",
      "def check_filter_Q1(pl,il,count_dic,gt):\n",
      "    if pl[6] not in nofilter and il[6] not in nofilter:\n",
      "        count_dic['both_filter'] += 1\n",
      "    elif pl[6] not in nofilter:\n",
      "        count_dic['pb_filter'] += 1\n",
      "    elif il[6] not in nofilter:\n",
      "        count_dic['ill_filter'] += 1\n",
      "    elif gt not in gts:\n",
      "        count_dic['ill_N'] += 1\n",
      "    elif pl[4] == 'X' and gt == gts[0]:\n",
      "        count_dic['pb_ref']['ill_RR'] += 1\n",
      "    elif pl[4] == 'X' and gt == gts[1]:\n",
      "        count_dic['pb_ref']['ill_RA'] += 1\n",
      "    elif pl[4] == 'X' and gt == gts[2]:\n",
      "        count_dic['pb_ref']['ill_AA'] += 1\n",
      "    elif pl[4] != 'X' and float(pl[5])<1:\n",
      "        count_dic['pb_filter'] += 1\n",
      "    elif pl[4] != 'X' and gt == gts[0]:\n",
      "        count_dic['pb_noref']['ill_RR'] += 1\n",
      "    elif pl[4] != 'X' and gt == gts[1]:\n",
      "        count_dic['pb_noref']['ill_RA'] += 1\n",
      "    elif pl[4] != 'X' and gt == gts[2]:\n",
      "        count_dic['pb_noref']['ill_AA'] += 1\n",
      "    else:\n",
      "        count_dic['other'] += 1\n",
      "def check_Q1_only(pl,il,count_dic,gt):\n",
      "    \"\"\"\n",
      "    we ignore the countdic entry both filter here\n",
      "    and attribute everything that is filtered in illumina\n",
      "    directly to 'ill_filter'\n",
      "    \"\"\"\n",
      "    if il[6] not in nofilter:\n",
      "        count_dic['ill_filter'] += 1\n",
      "    elif gt not in gts:\n",
      "        count_dic['ill_N'] += 1\n",
      "    elif pl[4] == 'X' and gt == gts[0]:\n",
      "        count_dic['pb_ref']['ill_RR'] += 1\n",
      "    elif pl[4] == 'X' and gt == gts[1]:\n",
      "        count_dic['pb_ref']['ill_RA'] += 1\n",
      "    elif pl[4] == 'X' and gt == gts[2]:\n",
      "        count_dic['pb_ref']['ill_AA'] += 1\n",
      "    elif pl[4] != 'X' and float(pl[5])<1:\n",
      "        count_dic['pb_filter'] += 1\n",
      "    elif pl[4] != 'X' and gt == gts[0]:\n",
      "        count_dic['pb_noref']['ill_RR'] += 1\n",
      "    elif pl[4] != 'X' and gt == gts[1]:\n",
      "        count_dic['pb_noref']['ill_RA'] += 1\n",
      "    elif pl[4] != 'X' and gt == gts[2]:\n",
      "        count_dic['pb_noref']['ill_AA'] += 1\n",
      "    else:\n",
      "        count_dic['other'] += 1"
     ],
     "language": "python",
     "metadata": {},
     "outputs": [],
     "prompt_number": 133
    },
    {
     "cell_type": "code",
     "collapsed": false,
     "input": [
      "def sum_countdic(c0,c1):\n",
      "    \"\"\"\n",
      "    Add count-dictionaries \n",
      "    assuming that they have the same keys.\n",
      "    Alows them to contain sub-countdictionaries\n",
      "    E.g. {'total':0,'variant':{'snp':0,'indel':0}}\n",
      "    \"\"\"\n",
      "    c = c0.copy()\n",
      "    assert set(c0.keys()) == set(c1.keys()), str(c0)+str(c1)\n",
      "    for k in c0:\n",
      "        try:\n",
      "            c[k] += c1[k]\n",
      "        except TypeError:\n",
      "            c[k] = sum_countdic(c[k],c1[k])\n",
      "    return c\n",
      "def check_total(countdic):\n",
      "    cntdc=countdic.copy()\n",
      "    def add_up(cdic):\n",
      "        t = 0\n",
      "        for v in cdic.values():\n",
      "            try:\n",
      "                t += v\n",
      "            except TypeError:\n",
      "                t += add_up(v)\n",
      "        return t\n",
      "    total = cntdc['total']\n",
      "    del cntdc['total']\n",
      "    count = add_up(cntdc)\n",
      "    if total != count:\n",
      "        print \"{} != {}\".format(total,count)\n",
      "        return False\n",
      "    else:\n",
      "        return True"
     ],
     "language": "python",
     "metadata": {},
     "outputs": [],
     "prompt_number": 68
    },
    {
     "cell_type": "code",
     "collapsed": false,
     "input": [
      "def reduce_map_valid(res):\n",
      "    return reduce(sum_countdic,[r.values()[0] for r in res])    \n",
      "def get_valid_pct(valid_dic):\n",
      "    false_neg = valid_dic['pb_noref']['ill_RR']*1./(sum(valid_dic['pb_noref'].values()))\n",
      "    false_AA = valid_dic['pb_ref']['ill_AA']*1./(sum(valid_dic['pb_ref'].values()))\n",
      "    false_RA = (valid_dic['pb_ref']['ill_RA']-valid_dic['pb_noref']['ill_RA'])*1./(valid_dic['pb_ref']['ill_RA']+valid_dic['pb_noref']['ill_RA'])\n",
      "    return pd.Series({'false_neg':false_neg,'false_AA':false_AA,'false_RA':false_RA,\n",
      "                     'ill_N':valid_dic['ill_N']*1./valid_dic['total'],\n",
      "                     'both_filter':valid_dic['both_filter']*1./valid_dic['total'],\n",
      "                     'ill_filter':valid_dic['ill_filter']*1./valid_dic['total'],\n",
      "                     'pb_filter':valid_dic['pb_filter']*1./valid_dic['total']})"
     ],
     "language": "python",
     "metadata": {},
     "outputs": [],
     "prompt_number": 69
    },
    {
     "cell_type": "code",
     "collapsed": false,
     "input": [
      "count"
     ],
     "language": "python",
     "metadata": {},
     "outputs": []
    },
    {
     "cell_type": "code",
     "collapsed": false,
     "input": [
      "%%px --local\n",
      "pacbio_fn = jn(validation_dir,\n",
      "              \"pacbio_samtools_all_sites_{}_filter.vcf.gz\")"
     ],
     "language": "python",
     "metadata": {},
     "outputs": [],
     "prompt_number": 122
    },
    {
     "cell_type": "code",
     "collapsed": false,
     "input": [
      "valid_pct_df = pd.DataFrame()\n",
      "valid_count_df = pd.DataFrame()\n",
      "for ind in individuals:\n",
      "    dview['ind'] = ind\n",
      "    #dview['check_filter_Q1'] = check_filter_Q1\n",
      "    map_valid = lv.map_async(lambda chrom: get_validation_countdic(chrom,ind,check_Q1_only),chromosomes)\n",
      "    valid_dic = reduce_map_valid(map_valid.result)\n",
      "    print ind, check_total(valid_dic)\n",
      "    json.dump(valid_dic,open(jn(validation_dir,\"validation_{}_Q1_only.json\".format(ind)),'w'))\n",
      "    s0 = pd.Series(valid_dic)\n",
      "    s0.name = ind\n",
      "    valid_count_df = valid_count_df.append(s0)\n",
      "    s = get_valid_pct(valid_dic)\n",
      "    s.name = ind\n",
      "    valid_pct_df = valid_pct_df.append(s)\n",
      "valid_pct_df.to_csv(jn(validation_dir,\"validation_163_HC_vs_pacbio_pct_Q1_only.tsv\"),sep='\\t')\n",
      "valid_count_df.to_csv(jn(validation_dir,\"validation_163_HC_vs_pacbio_count_Q1_only.tsv\"),sep='\\t')\n",
      "rdme =\\\n",
      "\"\"\"\n",
      "Comparing 2 sequencing types to infer false positve/negative rates.\n",
      "----------\n",
      "Data sets:\n",
      "1) Illumina 100bp paired end at 10X coverage (for the ind. in question)\n",
      "   + alignment bwa-mem and SNP calling with HaploypeCaller and hard filtering\n",
      "2) pacbio CSS reads with phred >40 of 8 individuals, spanning a small proportion of the genome\n",
      "   supposedly high quality.\n",
      "----------\n",
      "PACBIO filters:\n",
      "    for SNPs:\n",
      "        QUALITY >1: this gets rid of most of the indel artefacts\n",
      "    \n",
      "CAVEATS: \n",
      "    The supposedly high quality circular consens pacbio reads show lots of 1bp indels.\n",
      "    In the viciniy of these indels there are SNPs which are almost never seen in illumina.\n",
      " Hence, the pacbio SNPs should not be taken at face value either, so the estimates here\n",
      " are conservative.\n",
      "EXPLANATION of TABLE CONTENTS:\n",
      "    false_neg = (sites where pacbio SNP && illumina homozygous ref (RR))/(sites where pacbio SNP)\n",
      "    false_AA = (sites where pacbio non-SNP && illumina homozygous alt (RR))/(sites where pacbio non-SNP)\n",
      "    false_RA = (sites where pacbio non-SNP && illumina het (RA) - sites where pacbio SNP && illumina het (RA))\n",
      "            /(sites where pacbio non-SNP && illumina het (RA) + sites where pacbio SNP && illumina het (RA))\n",
      "    The idea for false_RA is that, since we only have one haplotype, if a site really is a heterozygote it\n",
      "    should be seen in pacbio 50% of the time as SNP and 50% as non-SNP. However, false positives in illumina\n",
      "    (sites that really are RR) should always show up as non-SNPs in pacbio. Note that this, calcuation ignores \n",
      "    the fact that some of the sites that are called RA in illumina might really be AA, in which case such \n",
      "    a site should always be called SNP in pacbio.\n",
      "       \"\"\"\n",
      "with open(jn(validation_dir,\"validation_163_HC_vs_pacbio_pct_Q1_only.README\"),'w') as rf:\n",
      "    rf.write(rdme)"
     ],
     "language": "python",
     "metadata": {},
     "outputs": [
      {
       "output_type": "stream",
       "stream": "stdout",
       "text": [
        "AG5417 True\n",
        "B5616"
       ]
      },
      {
       "output_type": "stream",
       "stream": "stdout",
       "text": [
        " True\n",
        "AGM141"
       ]
      },
      {
       "output_type": "stream",
       "stream": "stdout",
       "text": [
        " True\n",
        "VEC1016"
       ]
      },
      {
       "output_type": "stream",
       "stream": "stdout",
       "text": [
        " True\n",
        "VGA00006"
       ]
      },
      {
       "output_type": "stream",
       "stream": "stdout",
       "text": [
        " True\n",
        "VZA3008"
       ]
      },
      {
       "output_type": "stream",
       "stream": "stdout",
       "text": [
        " True\n",
        "VSAM2001"
       ]
      },
      {
       "output_type": "stream",
       "stream": "stdout",
       "text": [
        " True\n",
        "VGA00146"
       ]
      },
      {
       "output_type": "stream",
       "stream": "stdout",
       "text": [
        " True\n"
       ]
      }
     ],
     "prompt_number": 134
    },
    {
     "cell_type": "code",
     "collapsed": false,
     "input": [
      "valid_pct_df"
     ],
     "language": "python",
     "metadata": {},
     "outputs": [
      {
       "html": [
        "<div style=\"max-height:1000px;max-width:1500px;overflow:auto;\">\n",
        "<table border=\"1\" class=\"dataframe\">\n",
        "  <thead>\n",
        "    <tr style=\"text-align: right;\">\n",
        "      <th></th>\n",
        "      <th>both_filter</th>\n",
        "      <th>false_AA</th>\n",
        "      <th>false_RA</th>\n",
        "      <th>false_neg</th>\n",
        "      <th>ill_N</th>\n",
        "      <th>ill_filter</th>\n",
        "      <th>pb_filter</th>\n",
        "    </tr>\n",
        "  </thead>\n",
        "  <tbody>\n",
        "    <tr>\n",
        "      <th>AG5417</th>\n",
        "      <td> 0</td>\n",
        "      <td> 0.000148</td>\n",
        "      <td> 0.138670</td>\n",
        "      <td> 0.066151</td>\n",
        "      <td> 0.002303</td>\n",
        "      <td> 0.116690</td>\n",
        "      <td> 0.001625</td>\n",
        "    </tr>\n",
        "    <tr>\n",
        "      <th>B5616</th>\n",
        "      <td> 0</td>\n",
        "      <td> 0.000070</td>\n",
        "      <td> 0.111886</td>\n",
        "      <td> 0.087602</td>\n",
        "      <td> 0.001234</td>\n",
        "      <td> 0.119507</td>\n",
        "      <td> 0.001127</td>\n",
        "    </tr>\n",
        "    <tr>\n",
        "      <th>AGM141</th>\n",
        "      <td> 0</td>\n",
        "      <td> 0.000143</td>\n",
        "      <td> 0.134809</td>\n",
        "      <td> 0.060344</td>\n",
        "      <td> 0.001234</td>\n",
        "      <td> 0.118766</td>\n",
        "      <td> 0.001568</td>\n",
        "    </tr>\n",
        "    <tr>\n",
        "      <th>VEC1016</th>\n",
        "      <td> 0</td>\n",
        "      <td> 0.000155</td>\n",
        "      <td> 0.147640</td>\n",
        "      <td> 0.043815</td>\n",
        "      <td> 0.002152</td>\n",
        "      <td> 0.116792</td>\n",
        "      <td> 0.001369</td>\n",
        "    </tr>\n",
        "    <tr>\n",
        "      <th>VGA00006</th>\n",
        "      <td> 0</td>\n",
        "      <td> 0.000083</td>\n",
        "      <td> 0.140891</td>\n",
        "      <td> 0.079243</td>\n",
        "      <td> 0.001950</td>\n",
        "      <td> 0.120117</td>\n",
        "      <td> 0.001034</td>\n",
        "    </tr>\n",
        "    <tr>\n",
        "      <th>VZA3008</th>\n",
        "      <td> 0</td>\n",
        "      <td> 0.000179</td>\n",
        "      <td> 0.145580</td>\n",
        "      <td> 0.072651</td>\n",
        "      <td> 0.003624</td>\n",
        "      <td> 0.117734</td>\n",
        "      <td> 0.001525</td>\n",
        "    </tr>\n",
        "    <tr>\n",
        "      <th>VSAM2001</th>\n",
        "      <td> 0</td>\n",
        "      <td> 0.000268</td>\n",
        "      <td> 0.182865</td>\n",
        "      <td> 0.112386</td>\n",
        "      <td> 0.048741</td>\n",
        "      <td> 0.117065</td>\n",
        "      <td> 0.001810</td>\n",
        "    </tr>\n",
        "    <tr>\n",
        "      <th>VGA00146</th>\n",
        "      <td> 0</td>\n",
        "      <td> 0.000162</td>\n",
        "      <td> 0.164603</td>\n",
        "      <td> 0.230408</td>\n",
        "      <td> 0.045284</td>\n",
        "      <td> 0.117973</td>\n",
        "      <td> 0.001402</td>\n",
        "    </tr>\n",
        "  </tbody>\n",
        "</table>\n",
        "</div>"
       ],
       "metadata": {},
       "output_type": "pyout",
       "prompt_number": 135,
       "text": [
        "          both_filter  false_AA  false_RA  false_neg     ill_N  ill_filter  \\\n",
        "AG5417              0  0.000148  0.138670   0.066151  0.002303    0.116690   \n",
        "B5616               0  0.000070  0.111886   0.087602  0.001234    0.119507   \n",
        "AGM141              0  0.000143  0.134809   0.060344  0.001234    0.118766   \n",
        "VEC1016             0  0.000155  0.147640   0.043815  0.002152    0.116792   \n",
        "VGA00006            0  0.000083  0.140891   0.079243  0.001950    0.120117   \n",
        "VZA3008             0  0.000179  0.145580   0.072651  0.003624    0.117734   \n",
        "VSAM2001            0  0.000268  0.182865   0.112386  0.048741    0.117065   \n",
        "VGA00146            0  0.000162  0.164603   0.230408  0.045284    0.117973   \n",
        "\n",
        "          pb_filter  \n",
        "AG5417     0.001625  \n",
        "B5616      0.001127  \n",
        "AGM141     0.001568  \n",
        "VEC1016    0.001369  \n",
        "VGA00006   0.001034  \n",
        "VZA3008    0.001525  \n",
        "VSAM2001   0.001810  \n",
        "VGA00146   0.001402  "
       ]
      }
     ],
     "prompt_number": 135
    },
    {
     "cell_type": "code",
     "collapsed": false,
     "input": [
      "valid_pct_df"
     ],
     "language": "python",
     "metadata": {},
     "outputs": [
      {
       "html": [
        "<div style=\"max-height:1000px;max-width:1500px;overflow:auto;\">\n",
        "<table border=\"1\" class=\"dataframe\">\n",
        "  <thead>\n",
        "    <tr style=\"text-align: right;\">\n",
        "      <th></th>\n",
        "      <th>both_filter</th>\n",
        "      <th>false_AA</th>\n",
        "      <th>false_RA</th>\n",
        "      <th>false_neg</th>\n",
        "      <th>ill_N</th>\n",
        "      <th>ill_filter</th>\n",
        "      <th>pb_filter</th>\n",
        "    </tr>\n",
        "  </thead>\n",
        "  <tbody>\n",
        "    <tr>\n",
        "      <th>AG5417</th>\n",
        "      <td> 0.037788</td>\n",
        "      <td> 0.000032</td>\n",
        "      <td> 0.074660</td>\n",
        "      <td> 0.037105</td>\n",
        "      <td> 0.001584</td>\n",
        "      <td> 0.078902</td>\n",
        "      <td> 0.195187</td>\n",
        "    </tr>\n",
        "    <tr>\n",
        "      <th>B5616</th>\n",
        "      <td> 0.034043</td>\n",
        "      <td> 0.000022</td>\n",
        "      <td> 0.051741</td>\n",
        "      <td> 0.044879</td>\n",
        "      <td> 0.000927</td>\n",
        "      <td> 0.085464</td>\n",
        "      <td> 0.177754</td>\n",
        "    </tr>\n",
        "    <tr>\n",
        "      <th>AGM141</th>\n",
        "      <td> 0.038448</td>\n",
        "      <td> 0.000033</td>\n",
        "      <td> 0.072229</td>\n",
        "      <td> 0.032990</td>\n",
        "      <td> 0.000828</td>\n",
        "      <td> 0.080318</td>\n",
        "      <td> 0.190672</td>\n",
        "    </tr>\n",
        "    <tr>\n",
        "      <th>VEC1016</th>\n",
        "      <td> 0.036041</td>\n",
        "      <td> 0.000029</td>\n",
        "      <td> 0.097079</td>\n",
        "      <td> 0.023186</td>\n",
        "      <td> 0.001512</td>\n",
        "      <td> 0.080752</td>\n",
        "      <td> 0.174602</td>\n",
        "    </tr>\n",
        "    <tr>\n",
        "      <th>VGA00006</th>\n",
        "      <td> 0.035262</td>\n",
        "      <td> 0.000031</td>\n",
        "      <td> 0.087356</td>\n",
        "      <td> 0.046320</td>\n",
        "      <td> 0.001438</td>\n",
        "      <td> 0.084854</td>\n",
        "      <td> 0.179437</td>\n",
        "    </tr>\n",
        "    <tr>\n",
        "      <th>VZA3008</th>\n",
        "      <td> 0.037301</td>\n",
        "      <td> 0.000058</td>\n",
        "      <td> 0.090661</td>\n",
        "      <td> 0.048781</td>\n",
        "      <td> 0.002596</td>\n",
        "      <td> 0.080433</td>\n",
        "      <td> 0.185847</td>\n",
        "    </tr>\n",
        "    <tr>\n",
        "      <th>VSAM2001</th>\n",
        "      <td> 0.043368</td>\n",
        "      <td> 0.000111</td>\n",
        "      <td> 0.107953</td>\n",
        "      <td> 0.076947</td>\n",
        "      <td> 0.034476</td>\n",
        "      <td> 0.073696</td>\n",
        "      <td> 0.237160</td>\n",
        "    </tr>\n",
        "    <tr>\n",
        "      <th>VGA00146</th>\n",
        "      <td> 0.036896</td>\n",
        "      <td> 0.000115</td>\n",
        "      <td> 0.101468</td>\n",
        "      <td> 0.176490</td>\n",
        "      <td> 0.033855</td>\n",
        "      <td> 0.081077</td>\n",
        "      <td> 0.203973</td>\n",
        "    </tr>\n",
        "  </tbody>\n",
        "</table>\n",
        "</div>"
       ],
       "metadata": {},
       "output_type": "pyout",
       "prompt_number": 132,
       "text": [
        "          both_filter  false_AA  false_RA  false_neg     ill_N  ill_filter  \\\n",
        "AG5417       0.037788  0.000032  0.074660   0.037105  0.001584    0.078902   \n",
        "B5616        0.034043  0.000022  0.051741   0.044879  0.000927    0.085464   \n",
        "AGM141       0.038448  0.000033  0.072229   0.032990  0.000828    0.080318   \n",
        "VEC1016      0.036041  0.000029  0.097079   0.023186  0.001512    0.080752   \n",
        "VGA00006     0.035262  0.000031  0.087356   0.046320  0.001438    0.084854   \n",
        "VZA3008      0.037301  0.000058  0.090661   0.048781  0.002596    0.080433   \n",
        "VSAM2001     0.043368  0.000111  0.107953   0.076947  0.034476    0.073696   \n",
        "VGA00146     0.036896  0.000115  0.101468   0.176490  0.033855    0.081077   \n",
        "\n",
        "          pb_filter  \n",
        "AG5417     0.195187  \n",
        "B5616      0.177754  \n",
        "AGM141     0.190672  \n",
        "VEC1016    0.174602  \n",
        "VGA00006   0.179437  \n",
        "VZA3008    0.185847  \n",
        "VSAM2001   0.237160  \n",
        "VGA00146   0.203973  "
       ]
      }
     ],
     "prompt_number": 132
    },
    {
     "cell_type": "code",
     "collapsed": false,
     "input": [
      "valid_pct_df = pd.DataFrame()\n",
      "valid_count_df = pd.DataFrame()\n",
      "for ind in individuals:\n",
      "    dview['ind'] = ind\n",
      "    #dview['check_filter_Q1'] = check_filter_Q1\n",
      "    map_valid = lv.map_async(lambda chrom: get_validation_countdic(chrom,ind,check_filter_Q1),chromosomes)\n",
      "    valid_dic = reduce_map_valid(map_valid.result)\n",
      "    print ind, check_total(valid_dic)\n",
      "    json.dump(valid_dic,open(jn(validation_dir,\"validation_{}_Q1.json\".format(ind)),'w'))\n",
      "    s0 = pd.Series(valid_dic)\n",
      "    s0.name = ind\n",
      "    valid_count_df = valid_count_df.append(s0)\n",
      "    s = get_valid_pct(valid_dic)\n",
      "    s.name = ind\n",
      "    valid_pct_df = valid_pct_df.append(s)\n",
      "valid_pct_df.to_csv(jn(validation_dir,\"validation_163_HC_vs_pacbio_pct_Q1.tsv\"),sep='\\t')\n",
      "valid_count_df.to_csv(jn(validation_dir,\"validation_163_HC_vs_pacbio_count_Q1.tsv\"),sep='\\t')\n",
      "rdme =\\\n",
      "\"\"\"\n",
      "Comparing 2 sequencing types to infer false positve/negative rates.\n",
      "----------\n",
      "Data sets:\n",
      "1) Illumina 100bp paired end at 10X coverage (for the ind. in question)\n",
      "   + alignment bwa-mem and SNP calling with HaploypeCaller and hard filtering\n",
      "2) pacbio CSS reads with phred >40 of 8 individuals, spanning a small proportion of the genome\n",
      "   supposedly high quality.\n",
      "----------\n",
      "PACBIO filters:\n",
      "    for SNPs:\n",
      "        QUALITY >1: this gets rid of most of the indel artefacts\n",
      "    for all sites:\n",
      "        10bpIndel: all sites within 10bp or an indel\n",
      "        AdjacentSNP: SNPs that are next to each other\n",
      "    \n",
      "CAVEATS: \n",
      "    The supposedly high quality circular consens pacbio reads show lots of 1bp indels.\n",
      "    In the viciniy of these indels there are SNPs which are almost never seen in illumina.\n",
      " Hence, the pacbio SNPs should not be taken at face value either, so the estimates here\n",
      " are conservative.\n",
      "EXPLANATION of TABLE CONTENTS:\n",
      "    false_neg = (sites where pacbio SNP && illumina homozygous ref (RR))/(sites where pacbio SNP)\n",
      "    false_AA = (sites where pacbio non-SNP && illumina homozygous alt (RR))/(sites where pacbio non-SNP)\n",
      "    false_RA = (sites where pacbio non-SNP && illumina het (RA) - sites where pacbio SNP && illumina het (RA))\n",
      "            /(sites where pacbio non-SNP && illumina het (RA) + sites where pacbio SNP && illumina het (RA))\n",
      "    The idea for false_RA is that, since we only have one haplotype, if a site really is a heterozygote it\n",
      "    should be seen in pacbio 50% of the ime as SNP and 50% as non-SNP. However, false positives in illumina\n",
      "    (sites that really are RR) should always show up as non-SNPs in pacbio. Note that this, calcuation ignores \n",
      "    the fact that some of the sites that are called RA in illumina might really be AA, in which case such \n",
      "    a site should always be called SNP in pacbio.\n",
      "       \"\"\"\n",
      "with open(jn(validation_dir,\"validation_163_HC_vs_pacbio_pct_Q1.README\"),'w') as rf:\n",
      "    rf.write(rdme)"
     ],
     "language": "python",
     "metadata": {},
     "outputs": [
      {
       "output_type": "stream",
       "stream": "stdout",
       "text": [
        "AG5417 True\n",
        "B5616"
       ]
      },
      {
       "output_type": "stream",
       "stream": "stdout",
       "text": [
        " True\n",
        "AGM141"
       ]
      },
      {
       "output_type": "stream",
       "stream": "stdout",
       "text": [
        " True\n",
        "VEC1016"
       ]
      },
      {
       "output_type": "stream",
       "stream": "stdout",
       "text": [
        " True\n",
        "VGA00006"
       ]
      },
      {
       "output_type": "stream",
       "stream": "stdout",
       "text": [
        " True\n",
        "VZA3008"
       ]
      },
      {
       "output_type": "stream",
       "stream": "stdout",
       "text": [
        " True\n",
        "VSAM2001"
       ]
      },
      {
       "output_type": "stream",
       "stream": "stdout",
       "text": [
        " True\n",
        "VGA00146"
       ]
      },
      {
       "output_type": "stream",
       "stream": "stdout",
       "text": [
        " True\n"
       ]
      }
     ],
     "prompt_number": 76
    },
    {
     "cell_type": "code",
     "collapsed": false,
     "input": [
      "%%px --local\n",
      "pacbio_fn = jn(validation_dir,\n",
      "              \"pacbio_samtools_all_sites_{}_filter_indel_50bp.vcf.gz\")"
     ],
     "language": "python",
     "metadata": {},
     "outputs": [],
     "prompt_number": 106
    },
    {
     "cell_type": "code",
     "collapsed": false,
     "input": [
      "valid_pct_df = pd.DataFrame()\n",
      "valid_count_df = pd.DataFrame()\n",
      "\n",
      "for ind in individuals:\n",
      "    dview['ind'] = ind\n",
      "    map_valid = lv.map_async(lambda chrom: get_validation_countdic(chrom,ind),chromosomes)\n",
      "    valid_dic = reduce_map_valid(map_valid.result)\n",
      "    print ind, check_total(valid_dic)\n",
      "    json.dump(valid_dic,open(jn(validation_dir,\"validation_{}_indel_pm_50.json\".format(ind)),'w'))\n",
      "    s0 = pd.Series(valid_dic)\n",
      "    s0.name = ind\n",
      "    valid_count_df = valid_count_df.append(s0)\n",
      "    s = get_valid_pct(valid_dic)\n",
      "    s.name = ind\n",
      "    valid_pct_df = valid_pct_df.append(s)\n",
      "valid_pct_df.to_csv(jn(validation_dir,\"validation_163_HC_vs_pacbio_pct_indel_pm_50.tsv\"),sep='\\t')\n",
      "valid_count_df.to_csv(jn(validation_dir,\"validation_163_HC_vs_pacbio_count_indel_pm_50.tsv\"),sep='\\t')\n",
      "rdme =\\\n",
      "\"\"\"\n",
      "Comparing 2 sequencing types to infer false positve/negative rates.\n",
      "Here I filter 50bp around pacbio INDELs!\n",
      "----------\n",
      "Data sets:\n",
      "1) Illumina 100bp paired end at 10X coverage (for the ind. in question)\n",
      "   + alignment bwa-mem and SNP calling with HaploypeCaller and hard filtering\n",
      "2) pacbio CSS reads with phred >40 of 8 individuals, spanning a small proportion of the genome\n",
      "   supposedly high quality.\n",
      "----------\n",
      "CAVEATS: \n",
      "    The supposedly high quality circular consens pacbio reads show lots of 1bp indels.\n",
      "    In the viciniy of these indels there are SNPs which are almost never seen in illumina.\n",
      "    They are clearly artefacts, I filter 500bp around indels, but that might not be enough.\n",
      " Hence, the pacbio SNPs should not be taken at face value either, so the estimates here\n",
      " are conservative.\n",
      "EXPLANATION of TABLE CONTENTS:\n",
      "    false_neg = (sites where pacbio SNP && illumina homozygous ref (RR))/(sites where pacbio SNP)\n",
      "    false_AA = (sites where pacbio non-SNP && illumina homozygous alt (RR))/(sites where pacbio non-SNP)\n",
      "    false_RA = (sites where pacbio non-SNP && illumina het (RA) - sites where pacbio SNP && illumina het (RA))\n",
      "            /(sites where pacbio non-SNP && illumina het (RA) + sites where pacbio SNP && illumina het (RA))\n",
      "    The idea for false_RA is that, since we only have one haplotype, if a site really is a heterozygote it\n",
      "    should be seen in pacbio 50% of the ime as SNP and 50% as non-SNP. However, false positives in illumina\n",
      "    (sites that really are RR) should always show up as non-SNPs in pacbio. Note that this, calcuation ignores \n",
      "    the fact that some of the sites that are called RA in illumina might really be AA, in which case such \n",
      "    a site should always be called SNP in pacbio.\n",
      "       \"\"\"\n",
      "with open(jn(validation_dir,\"validation_163_HC_vs_pacbio_pct_indel_pm_50.README\"),'w') as rf:\n",
      "    rf.write(rdme)"
     ],
     "language": "python",
     "metadata": {},
     "outputs": [
      {
       "output_type": "stream",
       "stream": "stdout",
       "text": [
        "AG5417 True\n",
        "B5616"
       ]
      },
      {
       "output_type": "stream",
       "stream": "stdout",
       "text": [
        " True\n",
        "AGM141"
       ]
      },
      {
       "output_type": "stream",
       "stream": "stdout",
       "text": [
        " True\n",
        "VEC1016"
       ]
      },
      {
       "output_type": "stream",
       "stream": "stdout",
       "text": [
        " True\n",
        "VGA00006"
       ]
      },
      {
       "output_type": "stream",
       "stream": "stdout",
       "text": [
        " True\n",
        "VZA3008"
       ]
      },
      {
       "output_type": "stream",
       "stream": "stdout",
       "text": [
        " True\n",
        "VSAM2001"
       ]
      },
      {
       "output_type": "stream",
       "stream": "stdout",
       "text": [
        " True\n"
       ]
      },
      {
       "ename": "AttributeError",
       "evalue": "'tuple' object has no attribute 'values'",
       "output_type": "pyerr",
       "traceback": [
        "\u001b[1;31m---------------------------------------------------------------------------\u001b[0m\n\u001b[1;31mAttributeError\u001b[0m                            Traceback (most recent call last)",
        "\u001b[1;32m<ipython-input-107-0912cc984bcb>\u001b[0m in \u001b[0;36m<module>\u001b[1;34m()\u001b[0m\n\u001b[0;32m      5\u001b[0m     \u001b[0mdview\u001b[0m\u001b[1;33m[\u001b[0m\u001b[1;34m'ind'\u001b[0m\u001b[1;33m]\u001b[0m \u001b[1;33m=\u001b[0m \u001b[0mind\u001b[0m\u001b[1;33m\u001b[0m\u001b[0m\n\u001b[0;32m      6\u001b[0m     \u001b[0mmap_valid\u001b[0m \u001b[1;33m=\u001b[0m \u001b[0mlv\u001b[0m\u001b[1;33m.\u001b[0m\u001b[0mmap_async\u001b[0m\u001b[1;33m(\u001b[0m\u001b[1;32mlambda\u001b[0m \u001b[0mchrom\u001b[0m\u001b[1;33m:\u001b[0m \u001b[0mget_validation_countdic\u001b[0m\u001b[1;33m(\u001b[0m\u001b[0mchrom\u001b[0m\u001b[1;33m,\u001b[0m\u001b[0mind\u001b[0m\u001b[1;33m)\u001b[0m\u001b[1;33m,\u001b[0m\u001b[0mchromosomes\u001b[0m\u001b[1;33m)\u001b[0m\u001b[1;33m\u001b[0m\u001b[0m\n\u001b[1;32m----> 7\u001b[1;33m     \u001b[0mvalid_dic\u001b[0m \u001b[1;33m=\u001b[0m \u001b[0mreduce_map_valid\u001b[0m\u001b[1;33m(\u001b[0m\u001b[0mmap_valid\u001b[0m\u001b[1;33m.\u001b[0m\u001b[0mresult\u001b[0m\u001b[1;33m)\u001b[0m\u001b[1;33m\u001b[0m\u001b[0m\n\u001b[0m\u001b[0;32m      8\u001b[0m     \u001b[1;32mprint\u001b[0m \u001b[0mind\u001b[0m\u001b[1;33m,\u001b[0m \u001b[0mcheck_total\u001b[0m\u001b[1;33m(\u001b[0m\u001b[0mvalid_dic\u001b[0m\u001b[1;33m)\u001b[0m\u001b[1;33m\u001b[0m\u001b[0m\n\u001b[0;32m      9\u001b[0m     \u001b[0mjson\u001b[0m\u001b[1;33m.\u001b[0m\u001b[0mdump\u001b[0m\u001b[1;33m(\u001b[0m\u001b[0mvalid_dic\u001b[0m\u001b[1;33m,\u001b[0m\u001b[0mopen\u001b[0m\u001b[1;33m(\u001b[0m\u001b[0mjn\u001b[0m\u001b[1;33m(\u001b[0m\u001b[0mvalidation_dir\u001b[0m\u001b[1;33m,\u001b[0m\u001b[1;34m\"validation_{}_indel_pm_50.json\"\u001b[0m\u001b[1;33m.\u001b[0m\u001b[0mformat\u001b[0m\u001b[1;33m(\u001b[0m\u001b[0mind\u001b[0m\u001b[1;33m)\u001b[0m\u001b[1;33m)\u001b[0m\u001b[1;33m,\u001b[0m\u001b[1;34m'w'\u001b[0m\u001b[1;33m)\u001b[0m\u001b[1;33m)\u001b[0m\u001b[1;33m\u001b[0m\u001b[0m\n",
        "\u001b[1;32m<ipython-input-69-f5333a0d288c>\u001b[0m in \u001b[0;36mreduce_map_valid\u001b[1;34m(res)\u001b[0m\n\u001b[0;32m      1\u001b[0m \u001b[1;32mdef\u001b[0m \u001b[0mreduce_map_valid\u001b[0m\u001b[1;33m(\u001b[0m\u001b[0mres\u001b[0m\u001b[1;33m)\u001b[0m\u001b[1;33m:\u001b[0m\u001b[1;33m\u001b[0m\u001b[0m\n\u001b[1;32m----> 2\u001b[1;33m     \u001b[1;32mreturn\u001b[0m \u001b[0mreduce\u001b[0m\u001b[1;33m(\u001b[0m\u001b[0msum_countdic\u001b[0m\u001b[1;33m,\u001b[0m\u001b[1;33m[\u001b[0m\u001b[0mr\u001b[0m\u001b[1;33m.\u001b[0m\u001b[0mvalues\u001b[0m\u001b[1;33m(\u001b[0m\u001b[1;33m)\u001b[0m\u001b[1;33m[\u001b[0m\u001b[1;36m0\u001b[0m\u001b[1;33m]\u001b[0m \u001b[1;32mfor\u001b[0m \u001b[0mr\u001b[0m \u001b[1;32min\u001b[0m \u001b[0mres\u001b[0m\u001b[1;33m]\u001b[0m\u001b[1;33m)\u001b[0m\u001b[1;33m\u001b[0m\u001b[0m\n\u001b[0m\u001b[0;32m      3\u001b[0m \u001b[1;32mdef\u001b[0m \u001b[0mget_valid_pct\u001b[0m\u001b[1;33m(\u001b[0m\u001b[0mvalid_dic\u001b[0m\u001b[1;33m)\u001b[0m\u001b[1;33m:\u001b[0m\u001b[1;33m\u001b[0m\u001b[0m\n\u001b[0;32m      4\u001b[0m     \u001b[0mfalse_neg\u001b[0m \u001b[1;33m=\u001b[0m \u001b[0mvalid_dic\u001b[0m\u001b[1;33m[\u001b[0m\u001b[1;34m'pb_noref'\u001b[0m\u001b[1;33m]\u001b[0m\u001b[1;33m[\u001b[0m\u001b[1;34m'ill_RR'\u001b[0m\u001b[1;33m]\u001b[0m\u001b[1;33m*\u001b[0m\u001b[1;36m1.\u001b[0m\u001b[1;33m/\u001b[0m\u001b[1;33m(\u001b[0m\u001b[0msum\u001b[0m\u001b[1;33m(\u001b[0m\u001b[0mvalid_dic\u001b[0m\u001b[1;33m[\u001b[0m\u001b[1;34m'pb_noref'\u001b[0m\u001b[1;33m]\u001b[0m\u001b[1;33m.\u001b[0m\u001b[0mvalues\u001b[0m\u001b[1;33m(\u001b[0m\u001b[1;33m)\u001b[0m\u001b[1;33m)\u001b[0m\u001b[1;33m)\u001b[0m\u001b[1;33m\u001b[0m\u001b[0m\n\u001b[0;32m      5\u001b[0m     \u001b[0mfalse_AA\u001b[0m \u001b[1;33m=\u001b[0m \u001b[0mvalid_dic\u001b[0m\u001b[1;33m[\u001b[0m\u001b[1;34m'pb_ref'\u001b[0m\u001b[1;33m]\u001b[0m\u001b[1;33m[\u001b[0m\u001b[1;34m'ill_AA'\u001b[0m\u001b[1;33m]\u001b[0m\u001b[1;33m*\u001b[0m\u001b[1;36m1.\u001b[0m\u001b[1;33m/\u001b[0m\u001b[1;33m(\u001b[0m\u001b[0msum\u001b[0m\u001b[1;33m(\u001b[0m\u001b[0mvalid_dic\u001b[0m\u001b[1;33m[\u001b[0m\u001b[1;34m'pb_ref'\u001b[0m\u001b[1;33m]\u001b[0m\u001b[1;33m.\u001b[0m\u001b[0mvalues\u001b[0m\u001b[1;33m(\u001b[0m\u001b[1;33m)\u001b[0m\u001b[1;33m)\u001b[0m\u001b[1;33m)\u001b[0m\u001b[1;33m\u001b[0m\u001b[0m\n",
        "\u001b[1;31mAttributeError\u001b[0m: 'tuple' object has no attribute 'values'"
       ]
      }
     ],
     "prompt_number": 107
    },
    {
     "cell_type": "code",
     "collapsed": false,
     "input": [
      "intervals = get_pacbio_intervals('VGA00146')"
     ],
     "language": "python",
     "metadata": {},
     "outputs": [],
     "prompt_number": 110
    },
    {
     "cell_type": "code",
     "collapsed": false,
     "input": [
      "ind = 'VGA00146' \n",
      "c = 'CAE1'"
     ],
     "language": "python",
     "metadata": {},
     "outputs": [],
     "prompt_number": 117
    },
    {
     "cell_type": "code",
     "collapsed": false,
     "input": [
      "pacbio_fn.format(ind)"
     ],
     "language": "python",
     "metadata": {},
     "outputs": [
      {
       "metadata": {},
       "output_type": "pyout",
       "prompt_number": 121,
       "text": [
        "'/home/GMI/hannes.svardal/vervet_project/analyses/20140617_ref3500_pacbio_validation/_data/pacbio_samtools_all_sites_VGA00146_filter_indel_50bp.vcf.gz'"
       ]
      }
     ],
     "prompt_number": 121
    },
    {
     "cell_type": "code",
     "collapsed": false,
     "input": [
      "pb = tabix.open(pacbio_fn.format(ind))\n",
      "pbr = pb.query(c,592,1223)"
     ],
     "language": "python",
     "metadata": {},
     "outputs": [
      {
       "ename": "TabixError",
       "evalue": "query failed",
       "output_type": "pyerr",
       "traceback": [
        "\u001b[1;31m---------------------------------------------------------------------------\u001b[0m\n\u001b[1;31mTabixError\u001b[0m                                Traceback (most recent call last)",
        "\u001b[1;32m<ipython-input-120-a4b4b424a84c>\u001b[0m in \u001b[0;36m<module>\u001b[1;34m()\u001b[0m\n\u001b[0;32m      1\u001b[0m \u001b[0mpb\u001b[0m \u001b[1;33m=\u001b[0m \u001b[0mtabix\u001b[0m\u001b[1;33m.\u001b[0m\u001b[0mopen\u001b[0m\u001b[1;33m(\u001b[0m\u001b[0mpacbio_fn\u001b[0m\u001b[1;33m.\u001b[0m\u001b[0mformat\u001b[0m\u001b[1;33m(\u001b[0m\u001b[0mind\u001b[0m\u001b[1;33m)\u001b[0m\u001b[1;33m)\u001b[0m\u001b[1;33m\u001b[0m\u001b[0m\n\u001b[1;32m----> 2\u001b[1;33m \u001b[0mpbr\u001b[0m \u001b[1;33m=\u001b[0m \u001b[0mpb\u001b[0m\u001b[1;33m.\u001b[0m\u001b[0mquery\u001b[0m\u001b[1;33m(\u001b[0m\u001b[0mc\u001b[0m\u001b[1;33m,\u001b[0m\u001b[1;36m592\u001b[0m\u001b[1;33m,\u001b[0m\u001b[1;36m1223\u001b[0m\u001b[1;33m)\u001b[0m\u001b[1;33m\u001b[0m\u001b[0m\n\u001b[0m",
        "\u001b[1;31mTabixError\u001b[0m: query failed"
       ]
      }
     ],
     "prompt_number": 120
    },
    {
     "cell_type": "code",
     "collapsed": false,
     "input": [
      "map_valid = lv.map_async(lambda chrom: get_validation_countdic(chrom,ind),chromosomes)"
     ],
     "language": "python",
     "metadata": {},
     "outputs": []
    },
    {
     "cell_type": "code",
     "collapsed": false,
     "input": [
      "map_valid.result"
     ],
     "language": "python",
     "metadata": {},
     "outputs": [
      {
       "metadata": {},
       "output_type": "pyout",
       "prompt_number": 109,
       "text": [
        "[('CAE1', 591, 1224),\n",
        " ('CAE2', 284057, 284859),\n",
        " ('CAE3', 300380, 301052),\n",
        " ('CAE4', 101137, 101828),\n",
        " ('CAE5', 55428, 56081),\n",
        " ('CAE6', 63178, 63771),\n",
        " ('CAE7', 375058, 375962),\n",
        " ('CAE8', 247646, 248419),\n",
        " ('CAE9', 29822, 30814),\n",
        " ('CAE10', 465, 1092),\n",
        " ('CAE11', 73731, 75138),\n",
        " ('CAE12', 19785, 20608),\n",
        " ('CAE13', 444145, 444738),\n",
        " ('CAE14', 231685, 232333),\n",
        " ('CAE15', 459147, 459896),\n",
        " ('CAE16', 411134, 412103),\n",
        " ('CAE17', 655953, 656669),\n",
        " ('CAE18', 121270, 122530),\n",
        " ('CAE19', 1991590, 1992684),\n",
        " ('CAE20', 1021916, 1022541),\n",
        " ('CAE21', 1203606, 1204713),\n",
        " ('CAE22', 1249447, 1250363),\n",
        " ('CAE23', 1194345, 1195211),\n",
        " ('CAE24', 1042240, 1043114),\n",
        " ('CAE25', 1000404, 1001140),\n",
        " ('CAE26', 1617526, 1618728),\n",
        " ('CAE27', 1429068, 1429736),\n",
        " ('CAE28', 1340692, 1341602),\n",
        " ('CAE29', 1004638, 1005467),\n",
        " ('CAEX', 65551, 66102),\n",
        " ('CAEY', 5603799, 5604717)]"
       ]
      }
     ],
     "prompt_number": 109
    },
    {
     "cell_type": "code",
     "collapsed": false,
     "input": [],
     "language": "python",
     "metadata": {},
     "outputs": []
    }
   ],
   "metadata": {}
  }
 ]
}