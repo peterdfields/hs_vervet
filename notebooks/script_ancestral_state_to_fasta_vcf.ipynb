{
 "cells": [
  {
   "cell_type": "code",
   "execution_count": 90,
   "metadata": {
    "collapsed": false
   },
   "outputs": [
    {
     "data": {
      "text/plain": [
       "'\\nThis script writes a fasta with the infered ancestral sequence.\\nNote that ancestral state is only infered for SNP sites.\\nHence, the resulting ancestral-fasta should only be used \\nin the context of the same\\nSNP calls that the ancestral-fasta was produced with.\\n'"
      ]
     },
     "execution_count": 90,
     "metadata": {},
     "output_type": "execute_result"
    }
   ],
   "source": []
  },
  {
   "cell_type": "code",
   "execution_count": 1,
   "metadata": {
    "collapsed": false
   },
   "outputs": [],
   "source": [
    "#parallel\n",
    "from ipyparallel import Client\n",
    "rc = Client()\n",
    "lv = rc.load_balanced_view()"
   ]
  },
  {
   "cell_type": "code",
   "execution_count": 2,
   "metadata": {
    "collapsed": false
   },
   "outputs": [],
   "source": [
    "%%px --local\n",
    "import vcf as vcftools\n",
    "import pyfasta, os\n",
    "eu = os.path.expanduser\n",
    "jn = os.path.join"
   ]
  },
  {
   "cell_type": "code",
   "execution_count": 3,
   "metadata": {
    "collapsed": false
   },
   "outputs": [],
   "source": [
    "chromosomes = [\"CAE\" + str(i) for i in range(1,30)+[\"X\",\"Y\"]]"
   ]
  },
  {
   "cell_type": "code",
   "execution_count": 4,
   "metadata": {
    "collapsed": false
   },
   "outputs": [],
   "source": [
    "%%px --local\n",
    "#ana_dir = eu(\"~/vervet_project/analyses/20140403_UnifiedGenotyper_ref3500_non_VRC/_data/\")\n",
    "#vcf_fn = jn(ana_dir,\"GATK_UnifiedGenotyper_163NonVRC_ref3500_snp_{}_including_filtered.vcf\")\n",
    "#ref_fn = eu(\"~/vervet_project/data/reference/reference_3500/\"\n",
    "#            \"3500_indID1_codeVRC_ref_sequencer3_seqType1_filtered0_version6.fasta\")\n",
    "#ref_seq = pyfasta.Fasta(ref_fn)\n",
    "ana_dir = eu(\"~/vervet_project/analyses/20150504_163_UnifiedGenotyper/_data/\")\n",
    "vcf_fn = jn(ana_dir,\"163_UG_ref3500_{}_snp_pass.vcf.gz\")\n",
    "ref_fn = eu(\"~/vervet_project/data/reference/reference_3500/\"\n",
    "            \"3500_indID1_codeVRC_ref_sequencer3_seqType1_filtered0_version6.fasta\")\n",
    "ref_seq = pyfasta.Fasta(ref_fn)"
   ]
  },
  {
   "cell_type": "markdown",
   "metadata": {},
   "source": [
    "## Write Ancestral fasta with only info at SNP sites (read below!!!)"
   ]
  },
  {
   "cell_type": "code",
   "execution_count": null,
   "metadata": {
    "collapsed": false
   },
   "outputs": [],
   "source": [
    "\"\"\"\n",
    "This script writes a fasta with the infered ancestral sequence.\n",
    "Note that ancestral state is only infered for SNP sites.\n",
    "Hence, the resulting ancestral-fasta should only be used \n",
    "in the context of the same\n",
    "SNP calls that the ancestral-fasta was produced with.\n",
    "\"\"\""
   ]
  },
  {
   "cell_type": "code",
   "execution_count": 34,
   "metadata": {
    "collapsed": false
   },
   "outputs": [],
   "source": [
    "%%px --local\n",
    "def get_ancestral_seq(vcf_fn,ref_seq):\n",
    "    \"\"\"\n",
    "    Make a sequence string starting with the reference\n",
    "    where at each snp the allele is subsituted by the\n",
    "    ancestral allele (if known).\n",
    "    \"\"\"\n",
    "    anc_state_count =0\n",
    "    seq_ls = []\n",
    "    prev_pos = 0\n",
    "    vcf = vcftools.Reader(filename=vcf_fn)\n",
    "    for i,record in enumerate(vcf):\n",
    "        pos = record.POS-1\n",
    "        seq_ls.append(ref_seq[record.CHROM][prev_pos:pos])\n",
    "        try:\n",
    "            anc = record.INFO['AA']\n",
    "            if anc == record.REF or anc == record.ALT[0]:\n",
    "                allele = anc\n",
    "                anc_state_count += 1\n",
    "            else:\n",
    "                allele = record.REF\n",
    "        except KeyError:\n",
    "            allele = record.REF\n",
    "        seq_ls.append(allele)\n",
    "        prev_pos = pos + 1\n",
    "        #if i > 1000:\n",
    "        #    break\n",
    "    seq_ls.append(ref_seq[record.CHROM][prev_pos:])\n",
    "    print i,\"snps processed\"\n",
    "    print anc_state_count,\"have ancestral state info that is ref or alt\"\n",
    "    return \"\".join(seq_ls)"
   ]
  },
  {
   "cell_type": "code",
   "execution_count": 35,
   "metadata": {
    "collapsed": false
   },
   "outputs": [],
   "source": [
    "%%px --local\n",
    "def write_to_fasta(handle,chrom,seq_str,line_len=60):\n",
    "    handle.write(\">{}\\n\".format(chrom))\n",
    "    for idx in range(line_len,len(seq_str),line_len):\n",
    "        handle.write(seq_str[idx-line_len:idx]+\"\\n\")\n",
    "    if seq_str[idx:]:\n",
    "        handle.write(seq_str[idx:]+\"\\n\")"
   ]
  },
  {
   "cell_type": "code",
   "execution_count": 15,
   "metadata": {
    "collapsed": false
   },
   "outputs": [
    {
     "ename": "KeyboardInterrupt",
     "evalue": "",
     "output_type": "error",
     "traceback": [
      "\u001b[1;31m---------------------------------------------------------------------------\u001b[0m\n\u001b[1;31mKeyboardInterrupt\u001b[0m                         Traceback (most recent call last)",
      "\u001b[1;32m<ipython-input-15-b76b8393d40b>\u001b[0m in \u001b[0;36m<module>\u001b[1;34m()\u001b[0m\n\u001b[0;32m      1\u001b[0m \u001b[1;31m#test\u001b[0m\u001b[1;33m\u001b[0m\u001b[1;33m\u001b[0m\u001b[0m\n\u001b[0;32m      2\u001b[0m \u001b[0mchrom\u001b[0m \u001b[1;33m=\u001b[0m \u001b[1;34m\"CAE1\"\u001b[0m\u001b[1;33m\u001b[0m\u001b[0m\n\u001b[1;32m----> 3\u001b[1;33m \u001b[0manc_seq\u001b[0m \u001b[1;33m=\u001b[0m \u001b[0mget_ancestral_seq\u001b[0m\u001b[1;33m(\u001b[0m\u001b[0mvcf_fn\u001b[0m\u001b[1;33m.\u001b[0m\u001b[0mformat\u001b[0m\u001b[1;33m(\u001b[0m\u001b[0mchrom\u001b[0m\u001b[1;33m)\u001b[0m\u001b[1;33m,\u001b[0m\u001b[0mref_seq\u001b[0m\u001b[1;33m)\u001b[0m\u001b[1;33m\u001b[0m\u001b[0m\n\u001b[0m\u001b[0;32m      4\u001b[0m \u001b[1;32mwith\u001b[0m \u001b[0mopen\u001b[0m\u001b[1;33m(\u001b[0m\u001b[1;34m\"test_seq.fa\"\u001b[0m\u001b[1;33m,\u001b[0m\u001b[1;34m\"w\"\u001b[0m\u001b[1;33m)\u001b[0m \u001b[1;32mas\u001b[0m \u001b[0mfa\u001b[0m\u001b[1;33m:\u001b[0m\u001b[1;33m\u001b[0m\u001b[0m\n\u001b[0;32m      5\u001b[0m     \u001b[0mwrite_to_fasta\u001b[0m\u001b[1;33m(\u001b[0m\u001b[0mfa\u001b[0m\u001b[1;33m,\u001b[0m\u001b[0mchrom\u001b[0m\u001b[1;33m,\u001b[0m\u001b[0manc_seq\u001b[0m\u001b[1;33m)\u001b[0m\u001b[1;33m\u001b[0m\u001b[0m\n",
      "\u001b[1;32m<ipython-input-13-8db1edf464e8>\u001b[0m in \u001b[0;36mget_ancestral_seq\u001b[1;34m(vcf_fn, ref_seq)\u001b[0m\n\u001b[0;32m      9\u001b[0m     \u001b[0mprev_pos\u001b[0m \u001b[1;33m=\u001b[0m \u001b[1;36m0\u001b[0m\u001b[1;33m\u001b[0m\u001b[0m\n\u001b[0;32m     10\u001b[0m     \u001b[0mvcf\u001b[0m \u001b[1;33m=\u001b[0m \u001b[0mvcftools\u001b[0m\u001b[1;33m.\u001b[0m\u001b[0mReader\u001b[0m\u001b[1;33m(\u001b[0m\u001b[0mfilename\u001b[0m\u001b[1;33m=\u001b[0m\u001b[0mvcf_fn\u001b[0m\u001b[1;33m)\u001b[0m\u001b[1;33m\u001b[0m\u001b[0m\n\u001b[1;32m---> 11\u001b[1;33m     \u001b[1;32mfor\u001b[0m \u001b[0mi\u001b[0m\u001b[1;33m,\u001b[0m\u001b[0mrecord\u001b[0m \u001b[1;32min\u001b[0m \u001b[0menumerate\u001b[0m\u001b[1;33m(\u001b[0m\u001b[0mvcf\u001b[0m\u001b[1;33m)\u001b[0m\u001b[1;33m:\u001b[0m\u001b[1;33m\u001b[0m\u001b[0m\n\u001b[0m\u001b[0;32m     12\u001b[0m         \u001b[0mpos\u001b[0m \u001b[1;33m=\u001b[0m \u001b[0mrecord\u001b[0m\u001b[1;33m.\u001b[0m\u001b[0mPOS\u001b[0m\u001b[1;33m-\u001b[0m\u001b[1;36m1\u001b[0m\u001b[1;33m\u001b[0m\u001b[0m\n\u001b[0;32m     13\u001b[0m         \u001b[0mseq_ls\u001b[0m\u001b[1;33m.\u001b[0m\u001b[0mappend\u001b[0m\u001b[1;33m(\u001b[0m\u001b[0mref_seq\u001b[0m\u001b[1;33m[\u001b[0m\u001b[0mrecord\u001b[0m\u001b[1;33m.\u001b[0m\u001b[0mCHROM\u001b[0m\u001b[1;33m]\u001b[0m\u001b[1;33m[\u001b[0m\u001b[0mprev_pos\u001b[0m\u001b[1;33m:\u001b[0m\u001b[0mpos\u001b[0m\u001b[1;33m]\u001b[0m\u001b[1;33m)\u001b[0m\u001b[1;33m\u001b[0m\u001b[0m\n",
      "\u001b[1;32m/home/GMI/hannes.svardal/.local/lib/python2.7/site-packages/PyVCF-0.6.4-py2.7.egg/vcf/parser.pyc\u001b[0m in \u001b[0;36mnext\u001b[1;34m(self)\u001b[0m\n\u001b[0;32m    560\u001b[0m \u001b[1;33m\u001b[0m\u001b[0m\n\u001b[0;32m    561\u001b[0m         \u001b[1;32mif\u001b[0m \u001b[0mfmt\u001b[0m \u001b[1;32mis\u001b[0m \u001b[1;32mnot\u001b[0m \u001b[0mNone\u001b[0m\u001b[1;33m:\u001b[0m\u001b[1;33m\u001b[0m\u001b[0m\n\u001b[1;32m--> 562\u001b[1;33m             \u001b[0msamples\u001b[0m \u001b[1;33m=\u001b[0m \u001b[0mself\u001b[0m\u001b[1;33m.\u001b[0m\u001b[0m_parse_samples\u001b[0m\u001b[1;33m(\u001b[0m\u001b[0mrow\u001b[0m\u001b[1;33m[\u001b[0m\u001b[1;36m9\u001b[0m\u001b[1;33m:\u001b[0m\u001b[1;33m]\u001b[0m\u001b[1;33m,\u001b[0m \u001b[0mfmt\u001b[0m\u001b[1;33m,\u001b[0m \u001b[0mrecord\u001b[0m\u001b[1;33m)\u001b[0m\u001b[1;33m\u001b[0m\u001b[0m\n\u001b[0m\u001b[0;32m    563\u001b[0m             \u001b[0mrecord\u001b[0m\u001b[1;33m.\u001b[0m\u001b[0msamples\u001b[0m \u001b[1;33m=\u001b[0m \u001b[0msamples\u001b[0m\u001b[1;33m\u001b[0m\u001b[0m\n\u001b[0;32m    564\u001b[0m \u001b[1;33m\u001b[0m\u001b[0m\n",
      "\u001b[1;32m/home/GMI/hannes.svardal/.local/lib/python2.7/site-packages/PyVCF-0.6.4-py2.7.egg/vcf/parser.pyc\u001b[0m in \u001b[0;36m_parse_samples\u001b[1;34m(self, samples, samp_fmt, site)\u001b[0m\n\u001b[0;32m    458\u001b[0m                     \u001b[1;32mif\u001b[0m \u001b[0mentry_type\u001b[0m \u001b[1;33m==\u001b[0m \u001b[1;34m'Integer'\u001b[0m\u001b[1;33m:\u001b[0m\u001b[1;33m\u001b[0m\u001b[0m\n\u001b[0;32m    459\u001b[0m                         \u001b[1;32mtry\u001b[0m\u001b[1;33m:\u001b[0m\u001b[1;33m\u001b[0m\u001b[0m\n\u001b[1;32m--> 460\u001b[1;33m                             \u001b[0msampdat\u001b[0m\u001b[1;33m[\u001b[0m\u001b[0mi\u001b[0m\u001b[1;33m]\u001b[0m \u001b[1;33m=\u001b[0m \u001b[0mint\u001b[0m\u001b[1;33m(\u001b[0m\u001b[0mvals\u001b[0m\u001b[1;33m)\u001b[0m\u001b[1;33m\u001b[0m\u001b[0m\n\u001b[0m\u001b[0;32m    461\u001b[0m                         \u001b[1;32mexcept\u001b[0m \u001b[0mValueError\u001b[0m\u001b[1;33m:\u001b[0m\u001b[1;33m\u001b[0m\u001b[0m\n\u001b[0;32m    462\u001b[0m                             \u001b[0msampdat\u001b[0m\u001b[1;33m[\u001b[0m\u001b[0mi\u001b[0m\u001b[1;33m]\u001b[0m \u001b[1;33m=\u001b[0m \u001b[0mfloat\u001b[0m\u001b[1;33m(\u001b[0m\u001b[0mvals\u001b[0m\u001b[1;33m)\u001b[0m\u001b[1;33m\u001b[0m\u001b[0m\n",
      "\u001b[1;31mKeyboardInterrupt\u001b[0m: "
     ]
    }
   ],
   "source": [
    "#test\n",
    "chrom = \"CAE1\"\n",
    "anc_seq = get_ancestral_seq(vcf_fn.format(chrom),ref_seq)\n",
    "with open(\"test_seq.fa\",\"w\") as fa:\n",
    "    write_to_fasta(fa,chrom,anc_seq)"
   ]
  },
  {
   "cell_type": "code",
   "execution_count": 36,
   "metadata": {
    "collapsed": false
   },
   "outputs": [],
   "source": [
    "%%px --local\n",
    "out_fn = jn(ana_dir,\"UG_163_vs_ref3500_ancestral_seq_{}.fa\")\n",
    "def write_anc_fasta(chrom):\n",
    "    anc_seq = get_ancestral_seq(vcf_fn.format(chrom),ref_seq)\n",
    "    with open(out_fn.format(chrom),\"w\") as fa:\n",
    "        write_to_fasta(fa,chrom,anc_seq)"
   ]
  },
  {
   "cell_type": "code",
   "execution_count": 37,
   "metadata": {
    "collapsed": false
   },
   "outputs": [],
   "source": [
    "chrom_fn_str = \" \".join([jn(ana_dir,\"UG_163_vs_ref3500_ancestral_seq_{}.fa\".format(chrom)) for chrom in chromosomes])"
   ]
  },
  {
   "cell_type": "code",
   "execution_count": 21,
   "metadata": {
    "collapsed": false
   },
   "outputs": [
    {
     "data": {
      "text/plain": [
       "<AsyncMapResult: <lambda>>"
      ]
     },
     "execution_count": 21,
     "metadata": {},
     "output_type": "execute_result"
    }
   ],
   "source": [
    "anc_seqs"
   ]
  },
  {
   "cell_type": "code",
   "execution_count": 18,
   "metadata": {
    "collapsed": false
   },
   "outputs": [],
   "source": [
    "anc_seqs = dview.map_async(lambda chrom: write_anc_fasta(chrom), chromosomes)"
   ]
  },
  {
   "cell_type": "code",
   "execution_count": 107,
   "metadata": {
    "collapsed": false
   },
   "outputs": [],
   "source": [
    "%%bash -s \"$chrom_fn_str\" \"$ana_dir\"\n",
    "#join chromosome fasta files\n",
    "cd $2\n",
    "rm UG_163_vs_ref3500_ancestral_seq2.fa\n",
    "cat $1 >> UG_163_vs_ref3500_ancestral_seq2.fa \n",
    "#add scaffolds from original vcf\n",
    "tail -n +45735302 ~/vervet_project/data/reference/reference_3500/3500_indID1_codeVRC_ref_sequencer3_seqType1_filtered0_version6.fasta >>  UG_163_vs_ref3500_ancestral_seq2.fa "
   ]
  },
  {
   "cell_type": "markdown",
   "metadata": {},
   "source": [
    "### second possibility, write line by line instead of reading everything in memory"
   ]
  },
  {
   "cell_type": "code",
   "execution_count": 5,
   "metadata": {
    "collapsed": false
   },
   "outputs": [],
   "source": [
    "%%px --local\n",
    "def write_ancestral_seq(vcf_fn, chrom,ref_seq, out_file, line_len):\n",
    "    \"\"\"\n",
    "    Write sequence fasta where for each snp the ancestral state is given.\n",
    "    Write N for all other sites.\n",
    "    \"\"\"\n",
    "    def line_write(handle,line_pos,string):\n",
    "\n",
    "        idx_last = 0\n",
    "        intervals = range(line_len-line_pos,len(string),line_len) + [len(string)]\n",
    "        \n",
    "        for i,idx in enumerate(intervals):\n",
    "            slice0 = string[idx_last:idx]\n",
    "            line_pos = line_pos + len(slice0)\n",
    "            handle.write(slice0)\n",
    "            if line_pos == line_len:\n",
    "                handle.write(\"\\n\")\n",
    "                line_pos = 0\n",
    "            idx_last=idx\n",
    "        return line_pos\n",
    "    \n",
    "    try:\n",
    "        out = open(out_file,\"w\") #if filename\n",
    "    except TypeError:\n",
    "        out = out_file #if file handle\n",
    "    line_pos = 0 # 1-based index\n",
    "    anc_state_count =0\n",
    "    prev_pos = 0\n",
    "    \n",
    "    out.write(\">{}\\n\".format(chrom))\n",
    "    vcf = vcftools.Reader(filename=vcf_fn)\n",
    "    for i,record in enumerate(vcf):\n",
    "        pos = record.POS-1\n",
    "        line_pos = line_write(out,line_pos,\"N\"*(pos-prev_pos))\n",
    "        try:\n",
    "            anc = record.INFO['AA']\n",
    "            allele = anc\n",
    "            anc_state_count += 1\n",
    "        except KeyError:\n",
    "            allele = \"N\"\n",
    "        line_pos = line_write(out,line_pos,allele)\n",
    "        prev_pos = pos + 1\n",
    "    line_pos = line_write(out,line_pos,\n",
    "                          \"N\"*(len(ref_seq[record.CHROM])-prev_pos))\n",
    "    if line_pos != 0:\n",
    "        out.write(\"\\n\")\n",
    "    print i,\"snps processed\"\n",
    "    print anc_state_count,\"have ancestral state info that is ref or alt\"\n",
    "    return (i,anc_state_count)"
   ]
  },
  {
   "cell_type": "code",
   "execution_count": 23,
   "metadata": {
    "collapsed": false
   },
   "outputs": [],
   "source": [
    "%%px --local\n",
    "anc_state_N_fn = jn(ana_dir,\"UG_163_ref3500_anc_state_snp_rest_N_{}.fa\")"
   ]
  },
  {
   "cell_type": "code",
   "execution_count": 24,
   "metadata": {
    "collapsed": false
   },
   "outputs": [],
   "source": [
    "anc_state_N_fns = \" \".join(anc_state_N_fn.format(chrom) for chrom in chromosomes[:-1])"
   ]
  },
  {
   "cell_type": "code",
   "execution_count": 8,
   "metadata": {
    "collapsed": false
   },
   "outputs": [],
   "source": [
    "anc_seqs = lv.map_async(lambda chrom:write_ancestral_seq(vcf_fn.format(chrom), \n",
    "                                                            chrom,ref_seq,\n",
    "                                                            anc_state_N_fn.format(chrom),\n",
    "                                                            line_len=60), chromosomes)"
   ]
  },
  {
   "cell_type": "code",
   "execution_count": 10,
   "metadata": {
    "collapsed": false
   },
   "outputs": [],
   "source": [
    "anc_seqs.wait(10)"
   ]
  },
  {
   "cell_type": "code",
   "execution_count": 12,
   "metadata": {
    "collapsed": false
   },
   "outputs": [
    {
     "ename": "CompositeError",
     "evalue": "one or more exceptions from call to method: <lambda>\n[0:apply]: NameError: global name 'handle' is not defined\n[4:apply]: NameError: global name 'handle' is not defined\n[10:apply]: NameError: global name 'handle' is not defined\n[8:apply]: NameError: global name 'handle' is not defined\n.... 27 more exceptions ...",
     "output_type": "error",
     "traceback": [
      "[0:apply]: ",
      "\u001b[1;31m---------------------------------------------------------------------------\u001b[0m\u001b[1;31mNameError\u001b[0m                                 Traceback (most recent call last)\u001b[1;32m<string>\u001b[0m in \u001b[0;36m<module>\u001b[1;34m()\u001b[0m",
      "\u001b[1;32m<ipython-input-8-acc8183076a6>\u001b[0m in \u001b[0;36m<lambda>\u001b[1;34m(chrom)\u001b[0m",
      "\u001b[1;32m<ipython-input-3-be84b835ef9b>\u001b[0m in \u001b[0;36mwrite_ancestral_seq\u001b[1;34m(vcf_fn, chrom, ref_seq, out_file, line_len)\u001b[0m",
      "\u001b[0;32m     43\u001b[0m                           \"N\"*(len(ref_seq[record.CHROM])-prev_pos))",
      "\u001b[0;32m     44\u001b[0m     \u001b[1;32mif\u001b[0m \u001b[0mline_pos\u001b[0m \u001b[1;33m!=\u001b[0m \u001b[1;36m0\u001b[0m\u001b[1;33m:\u001b[0m\u001b[1;33m\u001b[0m\u001b[0m",
      "\u001b[1;32m---> 45\u001b[1;33m         \u001b[0mhandle\u001b[0m\u001b[1;33m.\u001b[0m\u001b[0mwrite\u001b[0m\u001b[1;33m(\u001b[0m\u001b[1;34m\"\\n\"\u001b[0m\u001b[1;33m)\u001b[0m\u001b[1;33m\u001b[0m\u001b[0m",
      "\u001b[0m\u001b[0;32m     46\u001b[0m     \u001b[1;32mprint\u001b[0m \u001b[0mi\u001b[0m\u001b[1;33m,\u001b[0m\u001b[1;34m\"snps processed\"\u001b[0m\u001b[1;33m\u001b[0m\u001b[0m",
      "\u001b[0;32m     47\u001b[0m     \u001b[1;32mprint\u001b[0m \u001b[0manc_state_count\u001b[0m\u001b[1;33m,\u001b[0m\u001b[1;34m\"have ancestral state info that is ref or alt\"\u001b[0m\u001b[1;33m\u001b[0m\u001b[0m",
      "\u001b[1;31mNameError\u001b[0m: global name 'handle' is not defined",
      "",
      "[4:apply]: ",
      "\u001b[1;31m---------------------------------------------------------------------------\u001b[0m\u001b[1;31mNameError\u001b[0m                                 Traceback (most recent call last)\u001b[1;32m<string>\u001b[0m in \u001b[0;36m<module>\u001b[1;34m()\u001b[0m",
      "\u001b[1;32m<ipython-input-8-acc8183076a6>\u001b[0m in \u001b[0;36m<lambda>\u001b[1;34m(chrom)\u001b[0m",
      "\u001b[1;32m<ipython-input-3-be84b835ef9b>\u001b[0m in \u001b[0;36mwrite_ancestral_seq\u001b[1;34m(vcf_fn, chrom, ref_seq, out_file, line_len)\u001b[0m",
      "\u001b[0;32m     43\u001b[0m                           \"N\"*(len(ref_seq[record.CHROM])-prev_pos))",
      "\u001b[0;32m     44\u001b[0m     \u001b[1;32mif\u001b[0m \u001b[0mline_pos\u001b[0m \u001b[1;33m!=\u001b[0m \u001b[1;36m0\u001b[0m\u001b[1;33m:\u001b[0m\u001b[1;33m\u001b[0m\u001b[0m",
      "\u001b[1;32m---> 45\u001b[1;33m         \u001b[0mhandle\u001b[0m\u001b[1;33m.\u001b[0m\u001b[0mwrite\u001b[0m\u001b[1;33m(\u001b[0m\u001b[1;34m\"\\n\"\u001b[0m\u001b[1;33m)\u001b[0m\u001b[1;33m\u001b[0m\u001b[0m",
      "\u001b[0m\u001b[0;32m     46\u001b[0m     \u001b[1;32mprint\u001b[0m \u001b[0mi\u001b[0m\u001b[1;33m,\u001b[0m\u001b[1;34m\"snps processed\"\u001b[0m\u001b[1;33m\u001b[0m\u001b[0m",
      "\u001b[0;32m     47\u001b[0m     \u001b[1;32mprint\u001b[0m \u001b[0manc_state_count\u001b[0m\u001b[1;33m,\u001b[0m\u001b[1;34m\"have ancestral state info that is ref or alt\"\u001b[0m\u001b[1;33m\u001b[0m\u001b[0m",
      "\u001b[1;31mNameError\u001b[0m: global name 'handle' is not defined",
      "",
      "[10:apply]: ",
      "\u001b[1;31m---------------------------------------------------------------------------\u001b[0m\u001b[1;31mNameError\u001b[0m                                 Traceback (most recent call last)\u001b[1;32m<string>\u001b[0m in \u001b[0;36m<module>\u001b[1;34m()\u001b[0m",
      "\u001b[1;32m<ipython-input-8-acc8183076a6>\u001b[0m in \u001b[0;36m<lambda>\u001b[1;34m(chrom)\u001b[0m",
      "\u001b[1;32m<ipython-input-3-be84b835ef9b>\u001b[0m in \u001b[0;36mwrite_ancestral_seq\u001b[1;34m(vcf_fn, chrom, ref_seq, out_file, line_len)\u001b[0m",
      "\u001b[0;32m     43\u001b[0m                           \"N\"*(len(ref_seq[record.CHROM])-prev_pos))",
      "\u001b[0;32m     44\u001b[0m     \u001b[1;32mif\u001b[0m \u001b[0mline_pos\u001b[0m \u001b[1;33m!=\u001b[0m \u001b[1;36m0\u001b[0m\u001b[1;33m:\u001b[0m\u001b[1;33m\u001b[0m\u001b[0m",
      "\u001b[1;32m---> 45\u001b[1;33m         \u001b[0mhandle\u001b[0m\u001b[1;33m.\u001b[0m\u001b[0mwrite\u001b[0m\u001b[1;33m(\u001b[0m\u001b[1;34m\"\\n\"\u001b[0m\u001b[1;33m)\u001b[0m\u001b[1;33m\u001b[0m\u001b[0m",
      "\u001b[0m\u001b[0;32m     46\u001b[0m     \u001b[1;32mprint\u001b[0m \u001b[0mi\u001b[0m\u001b[1;33m,\u001b[0m\u001b[1;34m\"snps processed\"\u001b[0m\u001b[1;33m\u001b[0m\u001b[0m",
      "\u001b[0;32m     47\u001b[0m     \u001b[1;32mprint\u001b[0m \u001b[0manc_state_count\u001b[0m\u001b[1;33m,\u001b[0m\u001b[1;34m\"have ancestral state info that is ref or alt\"\u001b[0m\u001b[1;33m\u001b[0m\u001b[0m",
      "\u001b[1;31mNameError\u001b[0m: global name 'handle' is not defined",
      "",
      "[8:apply]: ",
      "\u001b[1;31m---------------------------------------------------------------------------\u001b[0m\u001b[1;31mNameError\u001b[0m                                 Traceback (most recent call last)\u001b[1;32m<string>\u001b[0m in \u001b[0;36m<module>\u001b[1;34m()\u001b[0m",
      "\u001b[1;32m<ipython-input-8-acc8183076a6>\u001b[0m in \u001b[0;36m<lambda>\u001b[1;34m(chrom)\u001b[0m",
      "\u001b[1;32m<ipython-input-3-be84b835ef9b>\u001b[0m in \u001b[0;36mwrite_ancestral_seq\u001b[1;34m(vcf_fn, chrom, ref_seq, out_file, line_len)\u001b[0m",
      "\u001b[0;32m     43\u001b[0m                           \"N\"*(len(ref_seq[record.CHROM])-prev_pos))",
      "\u001b[0;32m     44\u001b[0m     \u001b[1;32mif\u001b[0m \u001b[0mline_pos\u001b[0m \u001b[1;33m!=\u001b[0m \u001b[1;36m0\u001b[0m\u001b[1;33m:\u001b[0m\u001b[1;33m\u001b[0m\u001b[0m",
      "\u001b[1;32m---> 45\u001b[1;33m         \u001b[0mhandle\u001b[0m\u001b[1;33m.\u001b[0m\u001b[0mwrite\u001b[0m\u001b[1;33m(\u001b[0m\u001b[1;34m\"\\n\"\u001b[0m\u001b[1;33m)\u001b[0m\u001b[1;33m\u001b[0m\u001b[0m",
      "\u001b[0m\u001b[0;32m     46\u001b[0m     \u001b[1;32mprint\u001b[0m \u001b[0mi\u001b[0m\u001b[1;33m,\u001b[0m\u001b[1;34m\"snps processed\"\u001b[0m\u001b[1;33m\u001b[0m\u001b[0m",
      "\u001b[0;32m     47\u001b[0m     \u001b[1;32mprint\u001b[0m \u001b[0manc_state_count\u001b[0m\u001b[1;33m,\u001b[0m\u001b[1;34m\"have ancestral state info that is ref or alt\"\u001b[0m\u001b[1;33m\u001b[0m\u001b[0m",
      "\u001b[1;31mNameError\u001b[0m: global name 'handle' is not defined",
      "",
      "... 27 more exceptions ..."
     ]
    }
   ],
   "source": [
    "anc_seqs.result"
   ]
  },
  {
   "cell_type": "code",
   "execution_count": null,
   "metadata": {
    "collapsed": false
   },
   "outputs": [],
   "source": [
    "for r in anc_seqs:\n",
    "    print r"
   ]
  },
  {
   "cell_type": "code",
   "execution_count": 74,
   "metadata": {
    "collapsed": false
   },
   "outputs": [],
   "source": [
    "anc_seqs.wait(5)"
   ]
  },
  {
   "cell_type": "code",
   "execution_count": 92,
   "metadata": {
    "collapsed": false
   },
   "outputs": [
    {
     "name": "stdout",
     "output_type": "stream",
     "text": [
      "X\n",
      "Y\n"
     ]
    }
   ],
   "source": [
    "%%bash\n",
    "echo X && echo Y"
   ]
  },
  {
   "cell_type": "code",
   "execution_count": 26,
   "metadata": {
    "collapsed": false
   },
   "outputs": [],
   "source": [
    "%%bash -s \"$anc_state_N_fns\" \"$ana_dir\"\n",
    "#join chromosome fasta files\n",
    "cd $2\n",
    "rm UG_163_ref3500_anc_state_snp_rest_N.fa \n",
    "for fn in `echo $1`; do (cat $fn && echo) >> UG_163_ref3500_anc_state_snp_rest_N.fa; done\n",
    "#rm UG_163_vs_ref3500_ancestral_seq2.fa\n",
    "#cat $1 > UG_163_ref3500_anc_state_snp_rest_N.fa \n",
    "#add scaffolds from original vcf\n",
    "#tail -n +45735302 ~/vervet_project/data/reference/reference_3500/3500_indID1_codeVRC_ref_sequencer3_seqType1_filtered0_version6.fasta >>  UG_163_ref3500_anc_state_snp_rest_N.fa\n",
    "#add Y and scaffolds\n",
    "tail -n +45632280 ~/vervet_project/data/reference/reference_3500/3500_indID1_codeVRC_ref_sequencer3_seqType1_filtered0_version6.fasta >>  UG_163_ref3500_anc_state_snp_rest_N.fa "
   ]
  },
  {
   "cell_type": "code",
   "execution_count": 192,
   "metadata": {
    "collapsed": false
   },
   "outputs": [
    {
     "name": "stdout",
     "output_type": "stream",
     "text": [
      ">CAE1\r\n",
      "GTGAAAGAAGCCAAAAAGGCTACATACTGTATGATTCCAATTACGTGACATTTTGGAAAA\r\n",
      "GGGAAAATTACAAAGATAGTAAAACAATCAATAGTTGACAGGGGTTGGGGAGATTGGGGA\r\n",
      "GAGGAAAGGATGGATGGGCAGAGAGCCCCGGCTGTTTAGGGCAGTGAGACCACTGTGGGT\r\n",
      "GATTTCACCACAACGGTGGACCCACGACAGCGTGCAGATGCCCACACCCATTGAATTAA"
     ]
    }
   ],
   "source": [
    "!cat test456.fa"
   ]
  },
  {
   "cell_type": "code",
   "execution_count": 173,
   "metadata": {
    "collapsed": false
   },
   "outputs": [],
   "source": [
    "teststrings = [\"kurz\",\"K\",\n",
    "               \"EinSEHRSEHRSEHRLAAAAAAAAAAAAAAAAAAAAAAAAAAAAAAAAAAAAAAAAAAAAAAAAAAAAAAAAAAAAAAA\"\n",
    "               \"AAAAAAAAAAAAAAAAAAAAAAAAAAAAAAAAAAAAAAAAAAAAANGERstring\",\"USW\",\"USF\"]"
   ]
  },
  {
   "cell_type": "code",
   "execution_count": 44,
   "metadata": {
    "collapsed": false
   },
   "outputs": [],
   "source": [
    "def line_write(handle,line_pos,string,line_len=60):\n",
    "        \n",
    "    idx_last = 0\n",
    "    intervals = range(line_len-line_pos,len(string),line_len) + [len(string)] \n",
    "    #print intervals\n",
    "    for i,idx in enumerate(intervals):\n",
    "        slice0 = string[idx_last:idx]\n",
    "        line_pos = line_pos + len(slice0)\n",
    "        handle.write(slice0)\n",
    "        if line_pos == line_len:\n",
    "            handle.write(\"\\n\")\n",
    "            line_pos = 0\n",
    "        idx_last=idx\n",
    "    return line_pos"
   ]
  },
  {
   "cell_type": "code",
   "execution_count": 189,
   "metadata": {
    "collapsed": false
   },
   "outputs": [
    {
     "name": "stdout",
     "output_type": "stream",
     "text": [
      "kurzKEinSEHRSEHRSEHRLAAAAAAAAAAAAAAAAAAAAAAAAAAAAAAAAAAAAAAA\n",
      "AAAAAAAAAAAAAAAAAAAAAAAAAAAAAAAAAAAAAAAAAAAAAAAAAAAAAAAAAAAA\n",
      "AAAAAAAAANGERstringUSWUSF"
     ]
    }
   ],
   "source": [
    "line_pos = 0\n",
    "for string in teststrings:\n",
    "    line_pos = line_write(sys.stdout,line_pos,string)"
   ]
  },
  {
   "cell_type": "markdown",
   "metadata": {},
   "source": [
    "## Write ancestral fasta (macaque alignment in vervet coordinates)"
   ]
  },
  {
   "cell_type": "code",
   "execution_count": 196,
   "metadata": {
    "collapsed": false
   },
   "outputs": [
    {
     "ename": "KeyboardInterrupt",
     "evalue": "",
     "output_type": "error",
     "traceback": [
      "\u001b[1;31m---------------------------------------------------------------------------\u001b[0m\n\u001b[1;31mKeyboardInterrupt\u001b[0m                         Traceback (most recent call last)",
      "\u001b[1;32m<ipython-input-196-8830438be25d>\u001b[0m in \u001b[0;36m<module>\u001b[1;34m()\u001b[0m\n\u001b[1;32m----> 1\u001b[1;33m \u001b[0mget_ipython\u001b[0m\u001b[1;33m(\u001b[0m\u001b[1;33m)\u001b[0m\u001b[1;33m.\u001b[0m\u001b[0mrun_cell_magic\u001b[0m\u001b[1;33m(\u001b[0m\u001b[1;34mu'px'\u001b[0m\u001b[1;33m,\u001b[0m \u001b[1;34mu'--local'\u001b[0m\u001b[1;33m,\u001b[0m \u001b[1;34mu'from hs_vervet.scripts import nucmer_ancestral_state_to_vcf as nas\\nimport pyfasta\\nnucmer_dir = eu(\"~/vervet_project/analyses/20140319_nucmer_align_ref3500_vs_macaque/_data/\")\\nmac_fasta = pyfasta.Fasta(eu(\"~/vervet_project/data/other_species/Macaca_mulatta/CR_1.0/Primary_Assembly/\"\\n                \"assembled_chromosomes/FASTA/Macaca_mulatta_CR_1.0.fasta\"))\\nver_fasta = pyfasta.Fasta(eu(\"~/vervet_project/data/reference/reference_3500/\"\\n                             \"3500_indID1_codeVRC_ref_sequencer3_seqType1_filtered0_version6.fasta\"))'\u001b[0m\u001b[1;33m)\u001b[0m\u001b[1;33m\u001b[0m\u001b[0m\n\u001b[0m",
      "\u001b[1;32m/net/gmi.oeaw.ac.at/nordborg/user/hannes.svardal/Documents/Dropbox/Akademisches/lib/python/virtualenvs/ver/lib/python2.7/site-packages/IPython/core/interactiveshell.pyc\u001b[0m in \u001b[0;36mrun_cell_magic\u001b[1;34m(self, magic_name, line, cell)\u001b[0m\n\u001b[0;32m   2160\u001b[0m             \u001b[0mmagic_arg_s\u001b[0m \u001b[1;33m=\u001b[0m \u001b[0mself\u001b[0m\u001b[1;33m.\u001b[0m\u001b[0mvar_expand\u001b[0m\u001b[1;33m(\u001b[0m\u001b[0mline\u001b[0m\u001b[1;33m,\u001b[0m \u001b[0mstack_depth\u001b[0m\u001b[1;33m)\u001b[0m\u001b[1;33m\u001b[0m\u001b[0m\n\u001b[0;32m   2161\u001b[0m             \u001b[1;32mwith\u001b[0m \u001b[0mself\u001b[0m\u001b[1;33m.\u001b[0m\u001b[0mbuiltin_trap\u001b[0m\u001b[1;33m:\u001b[0m\u001b[1;33m\u001b[0m\u001b[0m\n\u001b[1;32m-> 2162\u001b[1;33m                 \u001b[0mresult\u001b[0m \u001b[1;33m=\u001b[0m \u001b[0mfn\u001b[0m\u001b[1;33m(\u001b[0m\u001b[0mmagic_arg_s\u001b[0m\u001b[1;33m,\u001b[0m \u001b[0mcell\u001b[0m\u001b[1;33m)\u001b[0m\u001b[1;33m\u001b[0m\u001b[0m\n\u001b[0m\u001b[0;32m   2163\u001b[0m             \u001b[1;32mreturn\u001b[0m \u001b[0mresult\u001b[0m\u001b[1;33m\u001b[0m\u001b[0m\n\u001b[0;32m   2164\u001b[0m \u001b[1;33m\u001b[0m\u001b[0m\n",
      "\u001b[1;32m/net/gmi.oeaw.ac.at/nordborg/user/hannes.svardal/Documents/Dropbox/Akademisches/lib/python/virtualenvs/ver/lib/python2.7/site-packages/IPython/parallel/client/magics.pyc\u001b[0m in \u001b[0;36mcell_px\u001b[1;34m(self, line, cell)\u001b[0m\n\u001b[0;32m    312\u001b[0m             \u001b[1;31m# now apply blocking behavor to remote execution\u001b[0m\u001b[1;33m\u001b[0m\u001b[1;33m\u001b[0m\u001b[0m\n\u001b[0;32m    313\u001b[0m             \u001b[1;32mif\u001b[0m \u001b[0mblock\u001b[0m\u001b[1;33m:\u001b[0m\u001b[1;33m\u001b[0m\u001b[0m\n\u001b[1;32m--> 314\u001b[1;33m                 \u001b[0mar\u001b[0m\u001b[1;33m.\u001b[0m\u001b[0mget\u001b[0m\u001b[1;33m(\u001b[0m\u001b[1;33m)\u001b[0m\u001b[1;33m\u001b[0m\u001b[0m\n\u001b[0m\u001b[0;32m    315\u001b[0m                 \u001b[0mar\u001b[0m\u001b[1;33m.\u001b[0m\u001b[0mdisplay_outputs\u001b[0m\u001b[1;33m(\u001b[0m\u001b[0margs\u001b[0m\u001b[1;33m.\u001b[0m\u001b[0mgroupby\u001b[0m\u001b[1;33m)\u001b[0m\u001b[1;33m\u001b[0m\u001b[0m\n\u001b[0;32m    316\u001b[0m         \u001b[1;32mif\u001b[0m \u001b[1;32mnot\u001b[0m \u001b[0mblock\u001b[0m\u001b[1;33m:\u001b[0m\u001b[1;33m\u001b[0m\u001b[0m\n",
      "\u001b[1;32m/net/gmi.oeaw.ac.at/nordborg/user/hannes.svardal/Documents/Dropbox/Akademisches/lib/python/virtualenvs/ver/lib/python2.7/site-packages/IPython/parallel/client/asyncresult.pyc\u001b[0m in \u001b[0;36mget\u001b[1;34m(self, timeout)\u001b[0m\n\u001b[0;32m    110\u001b[0m         \"\"\"\n\u001b[0;32m    111\u001b[0m         \u001b[1;32mif\u001b[0m \u001b[1;32mnot\u001b[0m \u001b[0mself\u001b[0m\u001b[1;33m.\u001b[0m\u001b[0mready\u001b[0m\u001b[1;33m(\u001b[0m\u001b[1;33m)\u001b[0m\u001b[1;33m:\u001b[0m\u001b[1;33m\u001b[0m\u001b[0m\n\u001b[1;32m--> 112\u001b[1;33m             \u001b[0mself\u001b[0m\u001b[1;33m.\u001b[0m\u001b[0mwait\u001b[0m\u001b[1;33m(\u001b[0m\u001b[0mtimeout\u001b[0m\u001b[1;33m)\u001b[0m\u001b[1;33m\u001b[0m\u001b[0m\n\u001b[0m\u001b[0;32m    113\u001b[0m \u001b[1;33m\u001b[0m\u001b[0m\n\u001b[0;32m    114\u001b[0m         \u001b[1;32mif\u001b[0m \u001b[0mself\u001b[0m\u001b[1;33m.\u001b[0m\u001b[0m_ready\u001b[0m\u001b[1;33m:\u001b[0m\u001b[1;33m\u001b[0m\u001b[0m\n",
      "\u001b[1;32m/net/gmi.oeaw.ac.at/nordborg/user/hannes.svardal/Documents/Dropbox/Akademisches/lib/python/virtualenvs/ver/lib/python2.7/site-packages/IPython/parallel/client/asyncresult.pyc\u001b[0m in \u001b[0;36mwait\u001b[1;34m(self, timeout)\u001b[0m\n\u001b[0;32m    141\u001b[0m             \u001b[0mself\u001b[0m\u001b[1;33m.\u001b[0m\u001b[0m_wait_for_outputs\u001b[0m\u001b[1;33m(\u001b[0m\u001b[0mtimeout\u001b[0m\u001b[1;33m)\u001b[0m\u001b[1;33m\u001b[0m\u001b[0m\n\u001b[0;32m    142\u001b[0m             \u001b[1;32mreturn\u001b[0m\u001b[1;33m\u001b[0m\u001b[0m\n\u001b[1;32m--> 143\u001b[1;33m         \u001b[0mself\u001b[0m\u001b[1;33m.\u001b[0m\u001b[0m_ready\u001b[0m \u001b[1;33m=\u001b[0m \u001b[0mself\u001b[0m\u001b[1;33m.\u001b[0m\u001b[0m_client\u001b[0m\u001b[1;33m.\u001b[0m\u001b[0mwait\u001b[0m\u001b[1;33m(\u001b[0m\u001b[0mself\u001b[0m\u001b[1;33m.\u001b[0m\u001b[0mmsg_ids\u001b[0m\u001b[1;33m,\u001b[0m \u001b[0mtimeout\u001b[0m\u001b[1;33m)\u001b[0m\u001b[1;33m\u001b[0m\u001b[0m\n\u001b[0m\u001b[0;32m    144\u001b[0m         \u001b[1;32mif\u001b[0m \u001b[0mself\u001b[0m\u001b[1;33m.\u001b[0m\u001b[0m_ready\u001b[0m\u001b[1;33m:\u001b[0m\u001b[1;33m\u001b[0m\u001b[0m\n\u001b[0;32m    145\u001b[0m             \u001b[1;32mtry\u001b[0m\u001b[1;33m:\u001b[0m\u001b[1;33m\u001b[0m\u001b[0m\n",
      "\u001b[1;32m/net/gmi.oeaw.ac.at/nordborg/user/hannes.svardal/Documents/Dropbox/Akademisches/lib/python/virtualenvs/ver/lib/python2.7/site-packages/IPython/parallel/client/client.pyc\u001b[0m in \u001b[0;36mwait\u001b[1;34m(self, jobs, timeout)\u001b[0m\n\u001b[0;32m   1089\u001b[0m             \u001b[1;32mif\u001b[0m \u001b[0mtimeout\u001b[0m \u001b[1;33m>=\u001b[0m \u001b[1;36m0\u001b[0m \u001b[1;32mand\u001b[0m \u001b[1;33m(\u001b[0m \u001b[0mtime\u001b[0m\u001b[1;33m.\u001b[0m\u001b[0mtime\u001b[0m\u001b[1;33m(\u001b[0m\u001b[1;33m)\u001b[0m\u001b[1;33m-\u001b[0m\u001b[0mtic\u001b[0m \u001b[1;33m)\u001b[0m \u001b[1;33m>\u001b[0m \u001b[0mtimeout\u001b[0m\u001b[1;33m:\u001b[0m\u001b[1;33m\u001b[0m\u001b[0m\n\u001b[0;32m   1090\u001b[0m                 \u001b[1;32mbreak\u001b[0m\u001b[1;33m\u001b[0m\u001b[0m\n\u001b[1;32m-> 1091\u001b[1;33m             \u001b[0mtime\u001b[0m\u001b[1;33m.\u001b[0m\u001b[0msleep\u001b[0m\u001b[1;33m(\u001b[0m\u001b[1;36m1e-3\u001b[0m\u001b[1;33m)\u001b[0m\u001b[1;33m\u001b[0m\u001b[0m\n\u001b[0m\u001b[0;32m   1092\u001b[0m             \u001b[0mself\u001b[0m\u001b[1;33m.\u001b[0m\u001b[0mspin\u001b[0m\u001b[1;33m(\u001b[0m\u001b[1;33m)\u001b[0m\u001b[1;33m\u001b[0m\u001b[0m\n\u001b[0;32m   1093\u001b[0m         \u001b[1;32mreturn\u001b[0m \u001b[0mlen\u001b[0m\u001b[1;33m(\u001b[0m\u001b[0mtheids\u001b[0m\u001b[1;33m.\u001b[0m\u001b[0mintersection\u001b[0m\u001b[1;33m(\u001b[0m\u001b[0mself\u001b[0m\u001b[1;33m.\u001b[0m\u001b[0moutstanding\u001b[0m\u001b[1;33m)\u001b[0m\u001b[1;33m)\u001b[0m \u001b[1;33m==\u001b[0m \u001b[1;36m0\u001b[0m\u001b[1;33m\u001b[0m\u001b[0m\n",
      "\u001b[1;31mKeyboardInterrupt\u001b[0m: "
     ]
    }
   ],
   "source": [
    "#%%px --local\n",
    "from hs_vervet.scripts import nucmer_ancestral_state_to_vcf as nas\n",
    "import pyfasta\n",
    "nucmer_dir = eu(\"~/vervet_project/analyses/20140319_nucmer_align_ref3500_vs_macaque/_data/\")\n",
    "mac_fasta = pyfasta.Fasta(eu(\"~/vervet_project/data/other_species/Macaca_mulatta/CR_1.0/Primary_Assembly/\"\n",
    "                \"assembled_chromosomes/FASTA/Macaca_mulatta_CR_1.0.fasta\"))\n",
    "ver_fasta = pyfasta.Fasta(eu(\"~/vervet_project/data/reference/reference_3500/\"\n",
    "                             \"3500_indID1_codeVRC_ref_sequencer3_seqType1_filtered0_version6.fasta\"))\n"
   ]
  },
  {
   "cell_type": "code",
   "execution_count": null,
   "metadata": {
    "collapsed": false
   },
   "outputs": [],
   "source": []
  },
  {
   "cell_type": "code",
   "execution_count": null,
   "metadata": {
    "collapsed": false
   },
   "outputs": [],
   "source": []
  },
  {
   "cell_type": "code",
   "execution_count": 49,
   "metadata": {
    "collapsed": false
   },
   "outputs": [],
   "source": [
    "def get_mac_fasta_in_ver_coord(chrom):\n",
    "    delta_fn = jn(nucmer_dir,\"nucmer_macaque_align_{}_filter_1_l200_u80.delta\".format(chrom))\n",
    "    query_ref_dic = nas.parse_delta_file(delta_fn,mac_fasta)\n",
    "    positions = query_ref_dic.keys()\n",
    "    mac_fasta_in_ver_coord = []\n",
    "    for i in range(len(ver_fasta[chrom])):\n",
    "        try:\n",
    "            mac_fasta_in_ver_coord.append(query_ref_dic[i])\n",
    "        except KeyError:\n",
    "            mac_fasta_in_ver_coord.append('N')\n",
    "    mac_fasta_in_ver_coord = \"\".join(mac_fasta_in_ver_coord)\n",
    "    return mac_fasta_in_ver_coord"
   ]
  },
  {
   "cell_type": "code",
   "execution_count": 50,
   "metadata": {
    "collapsed": false
   },
   "outputs": [],
   "source": [
    "map_fasta = lv.map_async(get_mac_fasta_in_ver_coord,chromosomes[:-1])"
   ]
  },
  {
   "cell_type": "code",
   "execution_count": 68,
   "metadata": {
    "collapsed": false
   },
   "outputs": [],
   "source": [
    "chrom = \"CAE28\""
   ]
  },
  {
   "cell_type": "code",
   "execution_count": 69,
   "metadata": {
    "collapsed": false
   },
   "outputs": [],
   "source": []
  },
  {
   "cell_type": "code",
   "execution_count": 70,
   "metadata": {
    "collapsed": false
   },
   "outputs": [
    {
     "data": {
      "text/plain": [
       "'/home/GMI/hannes.svardal/vervet_project/analyses/20140319_nucmer_align_ref3500_vs_macaque/_data/nucmer_macaque_align_CAE28_filter_1_l200_u80.delta'"
      ]
     },
     "execution_count": 70,
     "metadata": {},
     "output_type": "execute_result"
    }
   ],
   "source": [
    "delta_fn"
   ]
  },
  {
   "cell_type": "code",
   "execution_count": 75,
   "metadata": {
    "collapsed": false
   },
   "outputs": [],
   "source": [
    "import math"
   ]
  },
  {
   "cell_type": "code",
   "execution_count": 80,
   "metadata": {
    "collapsed": false
   },
   "outputs": [
    {
     "data": {
      "text/plain": [
       "21531802"
      ]
     },
     "execution_count": 80,
     "metadata": {},
     "output_type": "execute_result"
    }
   ],
   "source": [
    "len(ver_fasta[chrom])"
   ]
  },
  {
   "cell_type": "code",
   "execution_count": 81,
   "metadata": {
    "collapsed": false
   },
   "outputs": [],
   "source": [
    "l = ['A','B','C','D','E']"
   ]
  },
  {
   "cell_type": "code",
   "execution_count": 83,
   "metadata": {
    "collapsed": false
   },
   "outputs": [],
   "source": [
    "l[[14] = ['N','N','N']"
   ]
  },
  {
   "cell_type": "code",
   "execution_count": 88,
   "metadata": {
    "collapsed": false
   },
   "outputs": [
    {
     "data": {
      "text/plain": [
       "['N', 'N']"
      ]
     },
     "execution_count": 88,
     "metadata": {},
     "output_type": "execute_result"
    }
   ],
   "source": [
    "l[3:1:-1]"
   ]
  },
  {
   "cell_type": "code",
   "execution_count": 188,
   "metadata": {
    "collapsed": false
   },
   "outputs": [],
   "source": [
    "complement = {'A':'T','C':'G','G':'C','T':'A','N':'N'}\n",
    "\n",
    "\n",
    "def delta_to_query_coord_fasta(fn,ref_fasta,query_fasta,query_chrom):\n",
    "    \"\"\"\n",
    "    Read a nucmer delta file and.\n",
    "    output the reference sequence in a string in \n",
    "    coordinates of the query sequence. Positions in the \n",
    "    query sequence that do not hava a reference alignment\n",
    "    are marked 'N'\n",
    "    \"\"\"\n",
    "    c = complement\n",
    "    \n",
    "    ix = 0\n",
    "    ref_fasta_in_query_coord = ['N']*len(query_fasta[query_chrom])\n",
    "\n",
    "    with open(fn,'r') as f:\n",
    "        f.next()\n",
    "        f.next()\n",
    "        for line in f:\n",
    "            if line[0] == \">\":\n",
    "                #print \"starting alignment\",line\n",
    "                ref_chrom = line[1:].split()[0]\n",
    "                ref_fa = ref_fasta[ref_chrom]\n",
    "                new_chrom = True\n",
    "                new_align = True\n",
    "            elif new_align:\n",
    "                #print \"*******************\"\n",
    "                #print \"new alignment\",line\n",
    "                start_ref = int(line.split()[0])\n",
    "                start_query = int(line.split()[2])\n",
    "                end_ref = int(line.split()[1])\n",
    "                end_query = int(line.split()[3].strip())\n",
    "                assert start_ref < end_ref,\\\n",
    "                        \"referse strand in reference not implemented\"\n",
    "                pos_ref = start_ref - 1 \n",
    "                if start_query < end_query:\n",
    "                    pos_query = start_query -1\n",
    "                    query_reverse = False\n",
    "                    #print \"*** forward alignment ***\"\n",
    "                else:\n",
    "                    pos_query = start_query - 1\n",
    "                    query_reverse = True\n",
    "                    #print \"*** reverse alignment ***\"\n",
    "                new_align = False\n",
    "            elif line.strip() == '0':\n",
    "                #alignment finished\n",
    "                ref_str = ref_fa[pos_ref:end_ref-1]\n",
    "                if not query_reverse:\n",
    "                    ref_fasta_in_query_coord[pos_query:end_query-1] = ref_str\n",
    "                else:\n",
    "                    ref_str = \"\".join([complement[b] for b in ref_str])\n",
    "                    try:\n",
    "                        ref_fasta_in_query_coord[pos_query:end_query-1:-1] = ref_str\n",
    "                    except:\n",
    "                        print \"end\"\n",
    "                        print ref_chrom, start_ref, end_ref, pos_ref, query_chrom, start_query, end_query , pos_query\n",
    "                        raise\n",
    "                 #debug\n",
    "                #if not query_reverse:\n",
    "                #    print \"mac:\"\n",
    "                #    print \"\".join(ref_fasta_in_query_coord[start_query:end_query])\n",
    "                #    print \"ver:\"\n",
    "                #    print query_fasta[query_chrom][start_query:end_query]\n",
    "                #else:\n",
    "                #    print \"mac:\"\n",
    "                #    print \"\".join(ref_fasta_in_query_coord[end_query:start_query])\n",
    "                #    print \"ver:\"\n",
    "                #    print query_fasta[query_chrom][end_query:start_query]\n",
    "\n",
    "                    \n",
    "                \n",
    "                new_align = True\n",
    "            else:\n",
    "                #until next indel\n",
    "                next_indel = abs(int(line.strip()))-1\n",
    " \n",
    "                in_or_del = math.copysign(1,int(line.strip()))\n",
    "                \n",
    "                ref_str = ref_fa[pos_ref:pos_ref+next_indel]\n",
    "                \n",
    "                if not query_reverse:\n",
    "                    ref_fasta_in_query_coord[pos_query:pos_query+next_indel] = ref_str\n",
    "                else:\n",
    "                    try:\n",
    "                        ref_str = \"\".join([complement[b] for b in ref_str])\n",
    "                        ref_fasta_in_query_coord[pos_query:pos_query-next_indel:-1] = ref_str\n",
    "                    except:\n",
    "                        print \"within\"\n",
    "                        print ref_chrom, start_ref, end_ref, pos_ref, query_chrom, start_query, end_query , pos_query\n",
    "                        raise\n",
    "                \n",
    "                #print 'pos_ref:', pos_ref\n",
    "                #print ref_str\n",
    "                #print 'pos_query', pos_query\n",
    "                #if not query_reverse:\n",
    "                #    print query_fasta[query_chrom][pos_query:pos_query+next_indel]\n",
    "                #else:\n",
    "                #    print query_fasta[query_chrom][pos_query:pos_query-next_indel:-1]\n",
    "                #print \"----------------------\"\n",
    "                pos_ref = pos_ref + next_indel + (1 if in_or_del > 0 else 0)\n",
    "                pos_query = pos_query + (next_indel + (1 if in_or_del < 0 else 0))*(1-2*query_reverse)\n",
    "            ix += 1\n",
    "            #if ix > 2000:\n",
    "            #    break\n",
    "    return \"\".join(ref_fasta_in_query_coord)\n"
   ]
  },
  {
   "cell_type": "code",
   "execution_count": 56,
   "metadata": {
    "collapsed": false
   },
   "outputs": [],
   "source": [
    "map_fasta.wait(10)"
   ]
  },
  {
   "cell_type": "code",
   "execution_count": null,
   "metadata": {
    "collapsed": false
   },
   "outputs": [],
   "source": [
    "import Bio\n",
    "from Bio import SeqIO"
   ]
  },
  {
   "cell_type": "code",
   "execution_count": 190,
   "metadata": {
    "collapsed": false
   },
   "outputs": [],
   "source": [
    "with open(eu(\"~/vervet_project/data/other_species/Macaca_mulatta/CR_1.0_in_vervet_coord_ref3500.fa\".format(chrom)),'w') as oh:\n",
    "    for chrom in chromosomes:\n",
    "        delta_fn = jn(nucmer_dir,\"nucmer_macaque_align_{}_filter_1_l200_u80.delta\".format(chrom))\n",
    "        ref_fasta_in_query_coord = delta_to_query_coord_fasta(delta_fn,mac_fasta,query_fasta=ver_fasta,query_chrom=chrom)\n",
    "        seq = SeqIO.SeqRecord(Bio.Seq.Seq(ref_fasta_in_query_coord,Bio.Alphabet.DNAAlphabet),\n",
    "                              id = chrom,\n",
    "                              description = \"\")#mac CR_1.0 in C. sabaeus 1.1 coordinates\n",
    "        SeqIO.write(seq, oh, \"fasta\")"
   ]
  },
  {
   "cell_type": "code",
   "execution_count": 189,
   "metadata": {
    "collapsed": false
   },
   "outputs": [],
   "source": [
    "ref_fasta_in_query_coord = delta_to_query_coord_fasta(delta_fn,mac_fasta,query_fasta=ver_fasta,query_chrom='CAE9')"
   ]
  },
  {
   "cell_type": "code",
   "execution_count": 147,
   "metadata": {
    "collapsed": false
   },
   "outputs": [],
   "source": [
    "SeqIO.SeqRecord?"
   ]
  },
  {
   "cell_type": "code",
   "execution_count": 146,
   "metadata": {
    "collapsed": false
   },
   "outputs": [],
   "source": [
    "SeqIO.write?"
   ]
  },
  {
   "cell_type": "code",
   "execution_count": 198,
   "metadata": {
    "collapsed": false
   },
   "outputs": [],
   "source": [
    "mac_in_ver_coord = pyfasta.Fasta(eu('~/vervet_project/data/other_species/Macaca_mulatta/CR_1.0_in_vervet_coord_ref3500.fa'))"
   ]
  },
  {
   "cell_type": "code",
   "execution_count": 203,
   "metadata": {
    "collapsed": false
   },
   "outputs": [
    {
     "data": {
      "text/plain": [
       "u'GTGCAGTTAT'"
      ]
     },
     "execution_count": 203,
     "metadata": {},
     "output_type": "execute_result"
    }
   ],
   "source": [
    "mac_in_ver_coord['CAE1'][1000:1010]"
   ]
  },
  {
   "cell_type": "code",
   "execution_count": 14,
   "metadata": {
    "collapsed": false
   },
   "outputs": [],
   "source": [
    "with open(eu(\"~/vervet_project/data/other_species/Macaca_mulatta/mac_state_in_ver_coord.fasta\"),'w') as fh:\n",
    "    for chrom,r in itertools.izip(chromosomes[:-1],map_fasta.results):\n",
    "        fh.write(\">\"+chrom+'\\n')\n",
    "        line_write(handle=fh,line_pos=0,string=r,line_len=80)\n"
   ]
  },
  {
   "cell_type": "code",
   "execution_count": 30,
   "metadata": {
    "collapsed": false
   },
   "outputs": [
    {
     "data": {
      "text/plain": [
       "u'ATCTAGGGGCCCCAAGATG'"
      ]
     },
     "execution_count": 30,
     "metadata": {},
     "output_type": "execute_result"
    }
   ],
   "source": [
    "ver_fasta[chrom][196:215]"
   ]
  },
  {
   "cell_type": "code",
   "execution_count": 32,
   "metadata": {
    "collapsed": false
   },
   "outputs": [
    {
     "data": {
      "text/plain": [
       "50887627"
      ]
     },
     "execution_count": 32,
     "metadata": {},
     "output_type": "execute_result"
    }
   ],
   "source": [
    "max(positions)"
   ]
  },
  {
   "cell_type": "code",
   "execution_count": 108,
   "metadata": {
    "collapsed": false
   },
   "outputs": [
    {
     "data": {
      "text/plain": [
       "107"
      ]
     },
     "execution_count": 108,
     "metadata": {},
     "output_type": "execute_result"
    }
   ],
   "source": [
    "len('GGCTCACGCATGTAATCCCAGCACTTTGGGAGGCCGAGGCAGGCAGATCACAAGGTCAGGAGACCAAGACCATCCCGGCTAACATGGTGAAACCTCGTCTCTACTAC')"
   ]
  },
  {
   "cell_type": "code",
   "execution_count": 39,
   "metadata": {
    "collapsed": false
   },
   "outputs": [],
   "source": []
  },
  {
   "cell_type": "code",
   "execution_count": 41,
   "metadata": {
    "collapsed": false
   },
   "outputs": [
    {
     "name": "stdout",
     "output_type": "stream",
     "text": [
      "50887628\n"
     ]
    }
   ],
   "source": [
    "print len(mac_fasta_in_ver_coord)"
   ]
  },
  {
   "cell_type": "code",
   "execution_count": 42,
   "metadata": {
    "collapsed": false
   },
   "outputs": [
    {
     "name": "stdout",
     "output_type": "stream",
     "text": [
      "50890351\n"
     ]
    }
   ],
   "source": [
    "print len(ver_fasta[chrom])"
   ]
  },
  {
   "cell_type": "code",
   "execution_count": 64,
   "metadata": {
    "collapsed": false
   },
   "outputs": [],
   "source": [
    "import numpy as np"
   ]
  },
  {
   "cell_type": "code",
   "execution_count": 66,
   "metadata": {
    "collapsed": false
   },
   "outputs": [
    {
     "data": {
      "text/plain": [
       "0.30732416062879253"
      ]
     },
     "execution_count": 66,
     "metadata": {},
     "output_type": "execute_result"
    }
   ],
   "source": []
  },
  {
   "cell_type": "code",
   "execution_count": 106,
   "metadata": {
    "collapsed": false
   },
   "outputs": [
    {
     "data": {
      "text/plain": [
       "266"
      ]
     },
     "execution_count": 106,
     "metadata": {},
     "output_type": "execute_result"
    }
   ],
   "source": [
    "1732727-1732461"
   ]
  },
  {
   "cell_type": "code",
   "execution_count": 107,
   "metadata": {
    "collapsed": false
   },
   "outputs": [
    {
     "data": {
      "text/plain": [
       "262"
      ]
     },
     "execution_count": 107,
     "metadata": {},
     "output_type": "execute_result"
    }
   ],
   "source": [
    "28745252 - 28744990"
   ]
  },
  {
   "cell_type": "code",
   "execution_count": null,
   "metadata": {
    "collapsed": false
   },
   "outputs": [],
   "source": [
    "Compare"
   ]
  },
  {
   "cell_type": "code",
   "execution_count": 4,
   "metadata": {
    "collapsed": false
   },
   "outputs": [],
   "source": [
    "ref_fn = eu(\"~/vervet_project/data/reference/reference_3500/\"\n",
    "            \"3500_indID1_codeVRC_ref_sequencer3_seqType1_filtered0_version6.fasta\")\n",
    "ref_seq = pyfasta.Fasta(ref_fn)"
   ]
  },
  {
   "cell_type": "code",
   "execution_count": 3,
   "metadata": {
    "collapsed": false
   },
   "outputs": [],
   "source": [
    "mac_filtered = pyfasta.Fasta(eu('~/vervet_project/analyses/20150504_163_UnifiedGenotyper/_data/163_UG_ref3500_filtered_anc_state.fasta'))"
   ]
  },
  {
   "cell_type": "code",
   "execution_count": 29,
   "metadata": {
    "collapsed": false
   },
   "outputs": [],
   "source": [
    "mac_filtered_corrected = pyfasta.Fasta(eu('~/vervet_project/analyses/20150504_163_UnifiedGenotyper/_data/163_UG_ref3500_filtered_anc_state_corrected.fasta'))"
   ]
  },
  {
   "cell_type": "code",
   "execution_count": 23,
   "metadata": {
    "collapsed": false
   },
   "outputs": [],
   "source": [
    "from Bio import SeqIO"
   ]
  },
  {
   "cell_type": "code",
   "execution_count": 26,
   "metadata": {
    "collapsed": false
   },
   "outputs": [],
   "source": [
    "mac_rec = list(SeqIO.parse(eu(\"~/vervet_project/analyses/20150504_163_UnifiedGenotyper/_data/163_UG_ref3500_filtered_anc_state.fasta\"),\n",
    "                              \"fasta\"))"
   ]
  },
  {
   "cell_type": "code",
   "execution_count": 28,
   "metadata": {
    "collapsed": false
   },
   "outputs": [
    {
     "data": {
      "text/plain": [
       "31"
      ]
     },
     "execution_count": 28,
     "metadata": {},
     "output_type": "execute_result"
    }
   ],
   "source": [
    "SeqIO.write(mac_rec, eu(\"~/vervet_project/analyses/20150504_163_UnifiedGenotyper/_data/163_UG_ref3500_filtered_anc_state_corrected.fasta\"),\n",
    "                               \"fasta\")"
   ]
  },
  {
   "cell_type": "code",
   "execution_count": null,
   "metadata": {
    "collapsed": false
   },
   "outputs": [],
   "source": []
  },
  {
   "cell_type": "code",
   "execution_count": 22,
   "metadata": {
    "collapsed": false
   },
   "outputs": [
    {
     "data": {
      "text/plain": [
       "['__abstractmethods__',\n",
       " '__class__',\n",
       " '__contains__',\n",
       " '__delattr__',\n",
       " '__dict__',\n",
       " '__doc__',\n",
       " '__eq__',\n",
       " '__format__',\n",
       " '__getattribute__',\n",
       " '__getitem__',\n",
       " '__hash__',\n",
       " '__init__',\n",
       " '__iter__',\n",
       " '__len__',\n",
       " '__metaclass__',\n",
       " '__module__',\n",
       " '__ne__',\n",
       " '__new__',\n",
       " '__reduce__',\n",
       " '__reduce_ex__',\n",
       " '__repr__',\n",
       " '__setattr__',\n",
       " '__sizeof__',\n",
       " '__str__',\n",
       " '__subclasshook__',\n",
       " '__weakref__',\n",
       " '_abc_cache',\n",
       " '_abc_negative_cache',\n",
       " '_abc_negative_cache_version',\n",
       " '_abc_registry',\n",
       " '_seq_from_keys',\n",
       " 'as_kmers',\n",
       " 'chr',\n",
       " 'fasta_name',\n",
       " 'gen_seqs_with_headers',\n",
       " 'get',\n",
       " 'index',\n",
       " 'items',\n",
       " 'iteritems',\n",
       " 'iterkeys',\n",
       " 'itervalues',\n",
       " 'key_fn',\n",
       " 'keys',\n",
       " 'prepared',\n",
       " 'record_class',\n",
       " 'sequence',\n",
       " 'values']"
      ]
     },
     "execution_count": 22,
     "metadata": {},
     "output_type": "execute_result"
    }
   ],
   "source": [
    "with open(eu(\"~/vervet_project/analyses/20150504_163_UnifiedGenotyper/_data/163_UG_ref3500_filtered_anc_state.fasta\")) as ih,\n",
    "     open(eu(\"~/vervet_project/analyses/20150504_163_UnifiedGenotyper/_data/163_UG_ref3500_filtered_anc_state.fasta\"),'w') as oh:\n",
    "\n",
    "        seq = SeqIO.SeqRecord(Bio.Seq.Seq(ref_fasta_in_query_coord,Bio.Alphabet.DNAAlphabet),\n",
    "                              id = chrom,\n",
    "                              description = \"\")#mac CR_1.0 in C. sabaeus 1.1 coordinates\n",
    "        SeqIO.write(seq, oh, \"fasta\")"
   ]
  },
  {
   "cell_type": "code",
   "execution_count": null,
   "metadata": {
    "collapsed": false
   },
   "outputs": [],
   "source": [
    "mac_filtered_corrected"
   ]
  },
  {
   "cell_type": "code",
   "execution_count": 30,
   "metadata": {
    "collapsed": false
   },
   "outputs": [
    {
     "name": "stdout",
     "output_type": "stream",
     "text": [
      "CAE1 0\n",
      "CAE2 0\n",
      "CAE3 0\n",
      "CAE4 0\n",
      "CAE5 0\n",
      "CAE6 0\n",
      "CAE7 0\n",
      "CAE8 0\n",
      "CAE9 0\n",
      "CAE10 0\n",
      "CAE11 0\n",
      "CAE12 0\n",
      "CAE13 0\n",
      "CAE14 0\n",
      "CAE15 0\n",
      "CAE16 0\n",
      "CAE17 0\n",
      "CAE18 0\n",
      "CAE19 0\n",
      "CAE20 0\n",
      "CAE21 0\n",
      "CAE22 0\n",
      "CAE23 0\n",
      "CAE24 0\n",
      "CAE25 0\n",
      "CAE26 0\n",
      "CAE27 0\n",
      "CAE28 0\n",
      "CAE29 0\n",
      "CAEX 0\n",
      "CAEY 0\n"
     ]
    }
   ],
   "source": [
    "for i,chrom in enumerate(chromosomes):\n",
    "    print chrom, len(ref_seq[chrom])-len(mac_filtered_corrected[chrom])"
   ]
  },
  {
   "cell_type": "code",
   "execution_count": 13,
   "metadata": {
    "collapsed": false
   },
   "outputs": [],
   "source": [
    "problems = []\n",
    "with open(eu('~/vervet_project/analyses/20150504_163_UnifiedGenotyper/_data/163_UG_ref3500_filtered_anc_state.fasta')) as f:\n",
    "    for i,line in enumerate(f):\n",
    "        if len(line)!=81:\n",
    "            problems.append((i,line))\n",
    "        if len(problems)>100:\n",
    "            break"
   ]
  },
  {
   "cell_type": "code",
   "execution_count": 10,
   "metadata": {
    "collapsed": false
   },
   "outputs": [
    {
     "data": {
      "text/plain": [
       "80"
      ]
     },
     "execution_count": 10,
     "metadata": {},
     "output_type": "execute_result"
    }
   ],
   "source": [
    "pyfasta"
   ]
  },
  {
   "cell_type": "code",
   "execution_count": 14,
   "metadata": {
    "collapsed": false
   },
   "outputs": [
    {
     "data": {
      "text/plain": [
       "74"
      ]
     },
     "execution_count": 14,
     "metadata": {},
     "output_type": "execute_result"
    }
   ],
   "source": [
    "len(problems)"
   ]
  },
  {
   "cell_type": "code",
   "execution_count": 18,
   "metadata": {
    "collapsed": false
   },
   "outputs": [
    {
     "data": {
      "text/plain": [
       "493578"
      ]
     },
     "execution_count": 18,
     "metadata": {},
     "output_type": "execute_result"
    }
   ],
   "source": [
    "2069029-1575451"
   ]
  },
  {
   "cell_type": "code",
   "execution_count": 20,
   "metadata": {
    "collapsed": false
   },
   "outputs": [
    {
     "data": {
      "text/plain": [
       "6.990694710006373"
      ]
     },
     "execution_count": 20,
     "metadata": {},
     "output_type": "execute_result"
    }
   ],
   "source": [
    "493578/70605."
   ]
  },
  {
   "cell_type": "code",
   "execution_count": 17,
   "metadata": {
    "collapsed": false
   },
   "outputs": [
    {
     "name": "stdout",
     "output_type": "stream",
     "text": [
      "0 >CAE1\n",
      "\n",
      "1575450 NNNNNNNNNN\n",
      "\n",
      "1575451 >CAE2\n",
      "\n",
      "2069029 NNNNNNNNNNNNNNNNNNNNNNNNNNNNNNNNNNNNNNNNNNNNNNNNNNNNNNNNNNNNNNNNNNNNNNNNNNNNNNNNN\n",
      "\n",
      "2069680 NNNNNNNNNNNNNNNNNNNNNNNNNNNNNNNNNNNNNNNNNNNNNNNNNNNNNNNNNNNNNNNNNNNNNNNNNNNNNNN\n",
      "\n",
      "2705118 NNN\n",
      "\n",
      "2705119 >CAE3\n",
      "\n",
      "3856897 NNNNNNNNNNNNNNN\n",
      "\n",
      "3856898 >CAE4\n",
      "\n",
      "4420412 NNNNNNNNNNNNNNNNNNNNNNNNNNNNNNNNNNNNNNNNNNNNNNNNNNNNNNNNNNNNNNNNNNNNNNNNNNNNNNNNN\n",
      "\n",
      "4425713 NNNNNNNNNNNNNNNNNNNNNNNNNNNNNNNNNNNNNNNNNNNNNNNNNNNNNNNNNNNNNNNNNNNNNNNNNNNNNNN\n",
      "\n",
      "4994528 NNNNNNNNNNNNNNNNNNNNNNNNNNNNNNNNNNNNNNNNNNNNNNNNNNNNNNNNNNNNNN\n",
      "\n",
      "4994529 >CAE5\n",
      "\n",
      "5937029 NNNNNNNNNNNNNNNNNNNNNNNNNNNNNNNNNNNNNNNNNNN\n",
      "\n",
      "5937030 >CAE6\n",
      "\n",
      "6207676 TCTCAAAANNNNNNNNNNNNNNNNNNNNNNNNNNNNNNNNNNNNNNNNNNNNNNNNNNNNNNNNNNNNNNNNNNNNNNNNN\n",
      "\n",
      "6215337 NNNNNNNNNNNNNNNNNNNNNNNNNNNNNNNNNNNNNNNNNNNNNNNNNNNNNNNNNNNNNNNNNNNNNNNNNNNNNNN\n",
      "\n",
      "6573160 NNNNNNNNNNNNNNNNNNNNNNNNNNNNNNN\n",
      "\n",
      "6573161 >CAE7\n",
      "\n",
      "6784548 NNNNNNNNNNNNNNNNNNNNNNNNNNNNNNNNNNNNNNNNNNNNNNNNNNNNNNNNNNNNNNNNNNNNNNNNNNNNNNNNN\n",
      "\n",
      "6785315 NNNNNNNNNNNNNNNNNNNNNNNNNNNNNNNNNNNNNNNNNNNNNNNNNNNNNNNNNNNNNNNNNNNNNNNNNNNNNNN\n",
      "\n",
      "8270388 NNNNNNNNNNNNNNNNNNNNNNNNNNNNNNNNNNNNNNNNNNNNNNNNNNN\n",
      "\n",
      "8270389 >CAE8\n",
      "\n",
      "10011657 NNNNNNNNNNNNNNNNNNNNNNNNNNNNNNNNNNNNNNNNNNNNNNNNNNNNNNNNNNNNNN\n",
      "\n",
      "10011658 >CAE9\n",
      "\n",
      "11583046 NNNNNNNNNNNNNNNNNNNNNN\n",
      "\n",
      "11583047 >CAE10\n",
      "\n",
      "13190492 NNNNNNNNNNNNNNNNNNN\n",
      "\n",
      "13190493 >CAE11\n",
      "\n",
      "14797233 NNNNNNNNNNNNNNNNNNNNNNNNNNNNNNNNNNNNNNNNNNNNNNNNNNNNNNNNNNNNNNNNNN\n",
      "\n",
      "14797234 >CAE12\n",
      "\n",
      "16154182 NNNNNNNNNNNNNNNNNNNNNNNNNNNNNNNNNNNNNNNNNNNNNNNNNNNNNNNNNNNNNNNNNNNNNN\n",
      "\n",
      "16154183 >CAE13\n",
      "\n",
      "17383992 NNNNNNNNNNNNNNNNNNNNNNNNNNNNNNNNNNNNNNNNNN\n",
      "\n",
      "17383993 >CAE14\n",
      "\n",
      "17627996 NNNNNNNNNNNNNNNNNNNNNNNNNNNNNNNNNNNNNNNNNNNNNNNNNNNNNNNNNNNNNNNNNNNNNNNNNNNNNNNNN\n",
      "\n",
      "17636421 NNNNNNNNNNNNNNNNNNNNNNNNNNNNNNNNNNNNNNNNNNNNNNNNNNNNNNNNNNNNNNNNNNNNNNNNNNNNNNN\n",
      "\n",
      "18730274 NNNNNNNNNNNNNNNNNNNNNNNNNNNNNNN\n",
      "\n",
      "18730275 >CAE15\n",
      "\n",
      "19877204 NNNNNNNNNNNNNNNNNNNNNNNNNNNNNNNNNNNNNNNNNNNNNNNNNNN\n",
      "\n",
      "19877205 >CAE16\n",
      "\n",
      "20816564 NNNNNNNNNNNNNNNNNNNNNNNNNNNNNN\n",
      "\n",
      "20816565 >CAE17\n",
      "\n",
      "21036260 NNNNNNNNNNNNNNNNNNNNNNNNNNNNNNNNNNNNNNNNNNNNNNNNNNNNNNNNNNNNNNNNNNNNNNNNNNNNNNNNN\n",
      "\n",
      "21041553 NNNNNNNNNNNNNNNNNNNNNNNNNNNNNNNNNNNNNNNNNNNNNNNNNNNNNNNNNNNNNNNNNNNNNNNNNNNNNNN\n",
      "\n",
      "21716517 NNNNNNNNNNNNNNNNNNNNNNNNN\n",
      "\n",
      "21716518 >CAE18\n",
      "\n",
      "22620502 NNNNNNNNNNNNNNNNNNNNNNNNNNNNNNNNNNNNNNNNNNNNNNNN\n",
      "\n",
      "22620503 >CAE19\n",
      "\n",
      "23036293 NNNNNNNNNNNNNNNNNNNNNNNN\n",
      "\n",
      "23036294 >CAE20\n",
      "\n",
      "24668650 NNNNNNNNNNNNNNNNNNNNNNNNNNNNNNNNNNNNNNNNNNNNNNNNNNNNNNNNNNNNNNNNNNNNN\n",
      "\n",
      "24668651 >CAE21\n",
      "\n",
      "26258942 NNN\n",
      "\n",
      "26258943 >CAE22\n",
      "\n",
      "27524192 NNNNNNNNNNNNNNNNNNNNNNNNNNNNNNNNNNNNNNNNNNNN\n",
      "\n",
      "27524193 >CAE23\n",
      "\n",
      "28559516 NNNNNNNNNNNNNNNNNNNNNNNNNNNNNNNNNNNNNNNNNNNN\n",
      "\n",
      "28559517 >CAE24\n",
      "\n",
      "29621179 NNNNNNNNNNNNNNNNNNNNNNN\n",
      "\n",
      "29621180 >CAE25\n",
      "\n",
      "30693521 NNNNNNNNNNNNNNNNNNNNNNNNNNNNNNNNNNNNNNNN\n",
      "\n",
      "30693522 >CAE26\n",
      "\n",
      "31420169 NNNNNNNNNNNNNNNNNTGGTGCTTTNTNNNN\n",
      "\n",
      "31420170 >CAE27\n",
      "\n",
      "32027013 NNNNNNNNNNNNNNNNNNNNNN\n",
      "\n",
      "32027014 >CAE28\n",
      "\n",
      "32296162 NNNNNNNNNNNNNNNNNNNNNNNNNNNNNNNNNNNNNNNNNN\n",
      "\n",
      "32296163 >CAE29\n",
      "\n",
      "32598742 NNNNNNNNNNNNNNNNNNNNNNNNNNNNNNNNNNNN\n",
      "\n",
      "32598743 >CAEX\n",
      "\n",
      "34224221 NNNNNNNNNNNNNNNNNNNNNNNNNNNNNNNNNNNNNNNNNNNNNNNNNNNNNNNNNNNNNNNNNNNNNNNN\n",
      "\n",
      "34224222 >CAEY\n",
      "\n",
      "34301488 NNNNNNNNNNNNNNNNNNN\n",
      "\n"
     ]
    }
   ],
   "source": [
    "for p in problems:\n",
    "    print p[0], p[1]"
   ]
  },
  {
   "cell_type": "code",
   "execution_count": null,
   "metadata": {
    "collapsed": false
   },
   "outputs": [],
   "source": []
  }
 ],
 "metadata": {
  "kernelspec": {
   "display_name": "Python 2",
   "language": "python",
   "name": "python2"
  },
  "language_info": {
   "codemirror_mode": {
    "name": "ipython",
    "version": 2
   },
   "file_extension": ".py",
   "mimetype": "text/x-python",
   "name": "python",
   "nbconvert_exporter": "python",
   "pygments_lexer": "ipython2",
   "version": "2.7.3"
  }
 },
 "nbformat": 4,
 "nbformat_minor": 0
}
