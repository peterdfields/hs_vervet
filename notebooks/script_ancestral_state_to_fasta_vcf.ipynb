{
 "metadata": {
  "name": "",
  "signature": "sha256:15bab2236f9595845f2f7bbd5013e603a256c94cd1f09f264200dfbd47835fdb"
 },
 "nbformat": 3,
 "nbformat_minor": 0,
 "worksheets": [
  {
   "cells": [
    {
     "cell_type": "code",
     "collapsed": false,
     "input": [],
     "language": "python",
     "metadata": {},
     "outputs": [
      {
       "metadata": {},
       "output_type": "pyout",
       "prompt_number": 90,
       "text": [
        "'\\nThis script writes a fasta with the infered ancestral sequence.\\nNote that ancestral state is only infered for SNP sites.\\nHence, the resulting ancestral-fasta should only be used \\nin the context of the same\\nSNP calls that the ancestral-fasta was produced with.\\n'"
       ]
      }
     ],
     "prompt_number": 90
    },
    {
     "cell_type": "code",
     "collapsed": false,
     "input": [
      "#parallel\n",
      "from IPython.parallel import Client\n",
      "rc = Client()\n",
      "lv = rc.load_balanced_view()"
     ],
     "language": "python",
     "metadata": {},
     "outputs": [],
     "prompt_number": 46
    },
    {
     "cell_type": "code",
     "collapsed": false,
     "input": [
      "#%%px --local\n",
      "import vcf as vcftools\n",
      "import pyfasta, os\n",
      "eu = os.path.expanduser\n",
      "jn = os.path.join"
     ],
     "language": "python",
     "metadata": {},
     "outputs": [],
     "prompt_number": 1
    },
    {
     "cell_type": "code",
     "collapsed": false,
     "input": [
      "chromosomes = [\"CAE\" + str(i) for i in range(1,30)+[\"X\",\"Y\"]]"
     ],
     "language": "python",
     "metadata": {},
     "outputs": [],
     "prompt_number": 2
    },
    {
     "cell_type": "code",
     "collapsed": false,
     "input": [
      "%%px --local\n",
      "ana_dir = eu(\"~/vervet_project/analyses/20140403_UnifiedGenotyper_ref3500_non_VRC/_data/\")\n",
      "vcf_fn = jn(ana_dir,\"GATK_UnifiedGenotyper_163NonVRC_ref3500_snp_{}_including_filtered.vcf\")\n",
      "ref_fn = eu(\"~/vervet_project/data/reference/reference_3500/\"\n",
      "            \"3500_indID1_codeVRC_ref_sequencer3_seqType1_filtered0_version6.fasta\")\n",
      "ref_seq = pyfasta.Fasta(ref_fn)"
     ],
     "language": "python",
     "metadata": {},
     "outputs": [],
     "prompt_number": 6
    },
    {
     "cell_type": "heading",
     "level": 2,
     "metadata": {},
     "source": [
      "Write Ancestral fasta with only info at SNP sites (read below!!!)"
     ]
    },
    {
     "cell_type": "code",
     "collapsed": false,
     "input": [
      "\"\"\"\n",
      "This script writes a fasta with the infered ancestral sequence.\n",
      "Note that ancestral state is only infered for SNP sites.\n",
      "Hence, the resulting ancestral-fasta should only be used \n",
      "in the context of the same\n",
      "SNP calls that the ancestral-fasta was produced with.\n",
      "\"\"\""
     ],
     "language": "python",
     "metadata": {},
     "outputs": []
    },
    {
     "cell_type": "code",
     "collapsed": false,
     "input": [
      "%%px --local\n",
      "def get_ancestral_seq(vcf_fn,ref_seq):\n",
      "    \"\"\"\n",
      "    Make a sequence string starting with the reference\n",
      "    where at each snp the allele is subsituted by the\n",
      "    ancestral allele (if known).\n",
      "    \"\"\"\n",
      "    anc_state_count =0\n",
      "    seq_ls = []\n",
      "    prev_pos = 0\n",
      "    vcf = vcftools.Reader(filename=vcf_fn)\n",
      "    for i,record in enumerate(vcf):\n",
      "        pos = record.POS-1\n",
      "        seq_ls.append(ref_seq[record.CHROM][prev_pos:pos])\n",
      "        try:\n",
      "            anc = record.INFO['AA']\n",
      "            if anc == record.REF or anc == record.ALT[0]:\n",
      "                allele = anc\n",
      "                anc_state_count += 1\n",
      "            else:\n",
      "                allele = record.REF\n",
      "        except KeyError:\n",
      "            allele = record.REF\n",
      "        seq_ls.append(allele)\n",
      "        prev_pos = pos + 1\n",
      "        #if i > 1000:\n",
      "        #    break\n",
      "    seq_ls.append(ref_seq[record.CHROM][prev_pos:])\n",
      "    print i,\"snps processed\"\n",
      "    print anc_state_count,\"have ancestral state info that is ref or alt\"\n",
      "    return \"\".join(seq_ls)"
     ],
     "language": "python",
     "metadata": {},
     "outputs": [],
     "prompt_number": 34
    },
    {
     "cell_type": "code",
     "collapsed": false,
     "input": [
      "%%px --local\n",
      "def write_to_fasta(handle,chrom,seq_str,line_len=60):\n",
      "    handle.write(\">{}\\n\".format(chrom))\n",
      "    for idx in range(line_len,len(seq_str),line_len):\n",
      "        handle.write(seq_str[idx-line_len:idx]+\"\\n\")\n",
      "    if seq_str[idx:]:\n",
      "        handle.write(seq_str[idx:]+\"\\n\")"
     ],
     "language": "python",
     "metadata": {},
     "outputs": [],
     "prompt_number": 35
    },
    {
     "cell_type": "code",
     "collapsed": false,
     "input": [
      "#test\n",
      "chrom = \"CAE1\"\n",
      "anc_seq = get_ancestral_seq(vcf_fn.format(chrom),ref_seq)\n",
      "with open(\"test_seq.fa\",\"w\") as fa:\n",
      "    write_to_fasta(fa,chrom,anc_seq)"
     ],
     "language": "python",
     "metadata": {},
     "outputs": [
      {
       "ename": "KeyboardInterrupt",
       "evalue": "",
       "output_type": "pyerr",
       "traceback": [
        "\u001b[1;31m---------------------------------------------------------------------------\u001b[0m\n\u001b[1;31mKeyboardInterrupt\u001b[0m                         Traceback (most recent call last)",
        "\u001b[1;32m<ipython-input-15-b76b8393d40b>\u001b[0m in \u001b[0;36m<module>\u001b[1;34m()\u001b[0m\n\u001b[0;32m      1\u001b[0m \u001b[1;31m#test\u001b[0m\u001b[1;33m\u001b[0m\u001b[1;33m\u001b[0m\u001b[0m\n\u001b[0;32m      2\u001b[0m \u001b[0mchrom\u001b[0m \u001b[1;33m=\u001b[0m \u001b[1;34m\"CAE1\"\u001b[0m\u001b[1;33m\u001b[0m\u001b[0m\n\u001b[1;32m----> 3\u001b[1;33m \u001b[0manc_seq\u001b[0m \u001b[1;33m=\u001b[0m \u001b[0mget_ancestral_seq\u001b[0m\u001b[1;33m(\u001b[0m\u001b[0mvcf_fn\u001b[0m\u001b[1;33m.\u001b[0m\u001b[0mformat\u001b[0m\u001b[1;33m(\u001b[0m\u001b[0mchrom\u001b[0m\u001b[1;33m)\u001b[0m\u001b[1;33m,\u001b[0m\u001b[0mref_seq\u001b[0m\u001b[1;33m)\u001b[0m\u001b[1;33m\u001b[0m\u001b[0m\n\u001b[0m\u001b[0;32m      4\u001b[0m \u001b[1;32mwith\u001b[0m \u001b[0mopen\u001b[0m\u001b[1;33m(\u001b[0m\u001b[1;34m\"test_seq.fa\"\u001b[0m\u001b[1;33m,\u001b[0m\u001b[1;34m\"w\"\u001b[0m\u001b[1;33m)\u001b[0m \u001b[1;32mas\u001b[0m \u001b[0mfa\u001b[0m\u001b[1;33m:\u001b[0m\u001b[1;33m\u001b[0m\u001b[0m\n\u001b[0;32m      5\u001b[0m     \u001b[0mwrite_to_fasta\u001b[0m\u001b[1;33m(\u001b[0m\u001b[0mfa\u001b[0m\u001b[1;33m,\u001b[0m\u001b[0mchrom\u001b[0m\u001b[1;33m,\u001b[0m\u001b[0manc_seq\u001b[0m\u001b[1;33m)\u001b[0m\u001b[1;33m\u001b[0m\u001b[0m\n",
        "\u001b[1;32m<ipython-input-13-8db1edf464e8>\u001b[0m in \u001b[0;36mget_ancestral_seq\u001b[1;34m(vcf_fn, ref_seq)\u001b[0m\n\u001b[0;32m      9\u001b[0m     \u001b[0mprev_pos\u001b[0m \u001b[1;33m=\u001b[0m \u001b[1;36m0\u001b[0m\u001b[1;33m\u001b[0m\u001b[0m\n\u001b[0;32m     10\u001b[0m     \u001b[0mvcf\u001b[0m \u001b[1;33m=\u001b[0m \u001b[0mvcftools\u001b[0m\u001b[1;33m.\u001b[0m\u001b[0mReader\u001b[0m\u001b[1;33m(\u001b[0m\u001b[0mfilename\u001b[0m\u001b[1;33m=\u001b[0m\u001b[0mvcf_fn\u001b[0m\u001b[1;33m)\u001b[0m\u001b[1;33m\u001b[0m\u001b[0m\n\u001b[1;32m---> 11\u001b[1;33m     \u001b[1;32mfor\u001b[0m \u001b[0mi\u001b[0m\u001b[1;33m,\u001b[0m\u001b[0mrecord\u001b[0m \u001b[1;32min\u001b[0m \u001b[0menumerate\u001b[0m\u001b[1;33m(\u001b[0m\u001b[0mvcf\u001b[0m\u001b[1;33m)\u001b[0m\u001b[1;33m:\u001b[0m\u001b[1;33m\u001b[0m\u001b[0m\n\u001b[0m\u001b[0;32m     12\u001b[0m         \u001b[0mpos\u001b[0m \u001b[1;33m=\u001b[0m \u001b[0mrecord\u001b[0m\u001b[1;33m.\u001b[0m\u001b[0mPOS\u001b[0m\u001b[1;33m-\u001b[0m\u001b[1;36m1\u001b[0m\u001b[1;33m\u001b[0m\u001b[0m\n\u001b[0;32m     13\u001b[0m         \u001b[0mseq_ls\u001b[0m\u001b[1;33m.\u001b[0m\u001b[0mappend\u001b[0m\u001b[1;33m(\u001b[0m\u001b[0mref_seq\u001b[0m\u001b[1;33m[\u001b[0m\u001b[0mrecord\u001b[0m\u001b[1;33m.\u001b[0m\u001b[0mCHROM\u001b[0m\u001b[1;33m]\u001b[0m\u001b[1;33m[\u001b[0m\u001b[0mprev_pos\u001b[0m\u001b[1;33m:\u001b[0m\u001b[0mpos\u001b[0m\u001b[1;33m]\u001b[0m\u001b[1;33m)\u001b[0m\u001b[1;33m\u001b[0m\u001b[0m\n",
        "\u001b[1;32m/home/GMI/hannes.svardal/.local/lib/python2.7/site-packages/PyVCF-0.6.4-py2.7.egg/vcf/parser.pyc\u001b[0m in \u001b[0;36mnext\u001b[1;34m(self)\u001b[0m\n\u001b[0;32m    560\u001b[0m \u001b[1;33m\u001b[0m\u001b[0m\n\u001b[0;32m    561\u001b[0m         \u001b[1;32mif\u001b[0m \u001b[0mfmt\u001b[0m \u001b[1;32mis\u001b[0m \u001b[1;32mnot\u001b[0m \u001b[0mNone\u001b[0m\u001b[1;33m:\u001b[0m\u001b[1;33m\u001b[0m\u001b[0m\n\u001b[1;32m--> 562\u001b[1;33m             \u001b[0msamples\u001b[0m \u001b[1;33m=\u001b[0m \u001b[0mself\u001b[0m\u001b[1;33m.\u001b[0m\u001b[0m_parse_samples\u001b[0m\u001b[1;33m(\u001b[0m\u001b[0mrow\u001b[0m\u001b[1;33m[\u001b[0m\u001b[1;36m9\u001b[0m\u001b[1;33m:\u001b[0m\u001b[1;33m]\u001b[0m\u001b[1;33m,\u001b[0m \u001b[0mfmt\u001b[0m\u001b[1;33m,\u001b[0m \u001b[0mrecord\u001b[0m\u001b[1;33m)\u001b[0m\u001b[1;33m\u001b[0m\u001b[0m\n\u001b[0m\u001b[0;32m    563\u001b[0m             \u001b[0mrecord\u001b[0m\u001b[1;33m.\u001b[0m\u001b[0msamples\u001b[0m \u001b[1;33m=\u001b[0m \u001b[0msamples\u001b[0m\u001b[1;33m\u001b[0m\u001b[0m\n\u001b[0;32m    564\u001b[0m \u001b[1;33m\u001b[0m\u001b[0m\n",
        "\u001b[1;32m/home/GMI/hannes.svardal/.local/lib/python2.7/site-packages/PyVCF-0.6.4-py2.7.egg/vcf/parser.pyc\u001b[0m in \u001b[0;36m_parse_samples\u001b[1;34m(self, samples, samp_fmt, site)\u001b[0m\n\u001b[0;32m    458\u001b[0m                     \u001b[1;32mif\u001b[0m \u001b[0mentry_type\u001b[0m \u001b[1;33m==\u001b[0m \u001b[1;34m'Integer'\u001b[0m\u001b[1;33m:\u001b[0m\u001b[1;33m\u001b[0m\u001b[0m\n\u001b[0;32m    459\u001b[0m                         \u001b[1;32mtry\u001b[0m\u001b[1;33m:\u001b[0m\u001b[1;33m\u001b[0m\u001b[0m\n\u001b[1;32m--> 460\u001b[1;33m                             \u001b[0msampdat\u001b[0m\u001b[1;33m[\u001b[0m\u001b[0mi\u001b[0m\u001b[1;33m]\u001b[0m \u001b[1;33m=\u001b[0m \u001b[0mint\u001b[0m\u001b[1;33m(\u001b[0m\u001b[0mvals\u001b[0m\u001b[1;33m)\u001b[0m\u001b[1;33m\u001b[0m\u001b[0m\n\u001b[0m\u001b[0;32m    461\u001b[0m                         \u001b[1;32mexcept\u001b[0m \u001b[0mValueError\u001b[0m\u001b[1;33m:\u001b[0m\u001b[1;33m\u001b[0m\u001b[0m\n\u001b[0;32m    462\u001b[0m                             \u001b[0msampdat\u001b[0m\u001b[1;33m[\u001b[0m\u001b[0mi\u001b[0m\u001b[1;33m]\u001b[0m \u001b[1;33m=\u001b[0m \u001b[0mfloat\u001b[0m\u001b[1;33m(\u001b[0m\u001b[0mvals\u001b[0m\u001b[1;33m)\u001b[0m\u001b[1;33m\u001b[0m\u001b[0m\n",
        "\u001b[1;31mKeyboardInterrupt\u001b[0m: "
       ]
      }
     ],
     "prompt_number": 15
    },
    {
     "cell_type": "code",
     "collapsed": false,
     "input": [
      "%%px --local\n",
      "out_fn = jn(ana_dir,\"UG_163_vs_ref3500_ancestral_seq_{}.fa\")\n",
      "def write_anc_fasta(chrom):\n",
      "    anc_seq = get_ancestral_seq(vcf_fn.format(chrom),ref_seq)\n",
      "    with open(out_fn.format(chrom),\"w\") as fa:\n",
      "        write_to_fasta(fa,chrom,anc_seq)"
     ],
     "language": "python",
     "metadata": {},
     "outputs": [],
     "prompt_number": 36
    },
    {
     "cell_type": "code",
     "collapsed": false,
     "input": [
      "chrom_fn_str = \" \".join([jn(ana_dir,\"UG_163_vs_ref3500_ancestral_seq_{}.fa\".format(chrom)) for chrom in chromosomes])"
     ],
     "language": "python",
     "metadata": {},
     "outputs": [],
     "prompt_number": 37
    },
    {
     "cell_type": "code",
     "collapsed": false,
     "input": [
      "anc_seqs"
     ],
     "language": "python",
     "metadata": {},
     "outputs": [
      {
       "metadata": {},
       "output_type": "pyout",
       "prompt_number": 21,
       "text": [
        "<AsyncMapResult: <lambda>>"
       ]
      }
     ],
     "prompt_number": 21
    },
    {
     "cell_type": "code",
     "collapsed": false,
     "input": [
      "anc_seqs = dview.map_async(lambda chrom: write_anc_fasta(chrom), chromosomes)"
     ],
     "language": "python",
     "metadata": {},
     "outputs": [],
     "prompt_number": 18
    },
    {
     "cell_type": "code",
     "collapsed": false,
     "input": [
      "%%bash -s \"$chrom_fn_str\" \"$ana_dir\"\n",
      "#join chromosome fasta files\n",
      "cd $2\n",
      "rm UG_163_vs_ref3500_ancestral_seq2.fa\n",
      "cat $1 >> UG_163_vs_ref3500_ancestral_seq2.fa \n",
      "#add scaffolds from original vcf\n",
      "tail -n +45735302 ~/vervet_project/data/reference/reference_3500/3500_indID1_codeVRC_ref_sequencer3_seqType1_filtered0_version6.fasta >>  UG_163_vs_ref3500_ancestral_seq2.fa "
     ],
     "language": "python",
     "metadata": {},
     "outputs": [],
     "prompt_number": 107
    },
    {
     "cell_type": "heading",
     "level": 3,
     "metadata": {},
     "source": [
      "second possibility, write line by line instead of reading everything in memory"
     ]
    },
    {
     "cell_type": "code",
     "collapsed": false,
     "input": [
      "%%px --local\n",
      "def write_ancestral_seq(vcf_fn, chrom,ref_seq, out_file, line_len):\n",
      "    \"\"\"\n",
      "    Write sequence fasta where for each snp the ancestral state is given.\n",
      "    Write N for all other sites.\n",
      "    \"\"\"\n",
      "    def line_write(handle,line_pos,string):\n",
      "\n",
      "        idx_last = 0\n",
      "        intervals = range(line_len-line_pos,len(string),line_len) + [len(string)]\n",
      "        \n",
      "        for i,idx in enumerate(intervals):\n",
      "            slice0 = string[idx_last:idx]\n",
      "            line_pos = line_pos + len(slice0)\n",
      "            handle.write(slice0)\n",
      "            if line_pos == line_len:\n",
      "                handle.write(\"\\n\")\n",
      "                line_pos = 0\n",
      "            idx_last=idx\n",
      "        return line_pos\n",
      "    \n",
      "    try:\n",
      "        out = open(out_file,\"w\") #if filename\n",
      "    except TypeError:\n",
      "        out = out_file #if file handle\n",
      "    line_pos = 0 # 1-based index\n",
      "    anc_state_count =0\n",
      "    prev_pos = 0\n",
      "    \n",
      "    out.write(\">{}\\n\".format(chrom))\n",
      "    vcf = vcftools.Reader(filename=vcf_fn)\n",
      "    for i,record in enumerate(vcf):\n",
      "        pos = record.POS-1\n",
      "        line_pos = line_write(out,line_pos,\"N\"*(pos-prev_pos))\n",
      "        try:\n",
      "            anc = record.INFO['AA']\n",
      "            allele = anc\n",
      "            anc_state_count += 1\n",
      "        except KeyError:\n",
      "            allele = \"N\"\n",
      "        line_pos = line_write(out,line_pos,allele)\n",
      "        prev_pos = pos + 1\n",
      "    line_pos = line_write(out,line_pos,\n",
      "                          \"N\"*(len(ref_seq[record.CHROM])-prev_pos))\n",
      "    if line_pos != 0:\n",
      "        handle.write(\"\\n\")\n",
      "    print i,\"snps processed\"\n",
      "    print anc_state_count,\"have ancestral state info that is ref or alt\"\n",
      "    return (i,anc_state_count)"
     ],
     "language": "python",
     "metadata": {},
     "outputs": [],
     "prompt_number": 85
    },
    {
     "cell_type": "code",
     "collapsed": false,
     "input": [
      "%%px --local\n",
      "anc_state_N_fn = jn(ana_dir,\"UG_163_ref3500_anc_state_snp_rest_N_{}.fa\")"
     ],
     "language": "python",
     "metadata": {},
     "outputs": [],
     "prompt_number": 76
    },
    {
     "cell_type": "code",
     "collapsed": false,
     "input": [
      "anc_state_N_fns = \" \".join(anc_state_N_fn.format(chrom) for chrom in chromosomes)"
     ],
     "language": "python",
     "metadata": {},
     "outputs": [],
     "prompt_number": 72
    },
    {
     "cell_type": "code",
     "collapsed": false,
     "input": [
      "anc_seqs = dview.map_async(lambda chrom:write_ancestral_seq(vcf_fn.format(chrom), \n",
      "                                                            chrom,ref_seq,\n",
      "                                                            anc_state_N_fn.format(chrom),\n",
      "                                                            line_len=60), chromosomes)"
     ],
     "language": "python",
     "metadata": {},
     "outputs": [],
     "prompt_number": 86
    },
    {
     "cell_type": "code",
     "collapsed": false,
     "input": [
      "for r in anc_seqs:\n",
      "    print r"
     ],
     "language": "python",
     "metadata": {},
     "outputs": []
    },
    {
     "cell_type": "code",
     "collapsed": false,
     "input": [
      "anc_seqs.wait(5)"
     ],
     "language": "python",
     "metadata": {},
     "outputs": [],
     "prompt_number": 74
    },
    {
     "cell_type": "code",
     "collapsed": false,
     "input": [
      "%%bash\n",
      "echo X && echo Y"
     ],
     "language": "python",
     "metadata": {},
     "outputs": [
      {
       "output_type": "stream",
       "stream": "stdout",
       "text": [
        "X\n",
        "Y\n"
       ]
      }
     ],
     "prompt_number": 92
    },
    {
     "cell_type": "code",
     "collapsed": false,
     "input": [
      "%%bash -s \"$anc_state_N_fns\" \"$ana_dir\"\n",
      "#join chromosome fasta files\n",
      "cd $2\n",
      "rm UG_163_ref3500_anc_state_snp_rest_N.fa \n",
      "for fn in `echo $1`; do (cat $fn && echo) >> UG_163_ref3500_anc_state_snp_rest_N.fa; done\n",
      "#rm UG_163_vs_ref3500_ancestral_seq2.fa\n",
      "#cat $1 > UG_163_ref3500_anc_state_snp_rest_N.fa \n",
      "#add scaffolds from original vcf\n",
      "tail -n +45735302 ~/vervet_project/data/reference/reference_3500/3500_indID1_codeVRC_ref_sequencer3_seqType1_filtered0_version6.fasta >>  UG_163_ref3500_anc_state_snp_rest_N.fa "
     ],
     "language": "python",
     "metadata": {},
     "outputs": [],
     "prompt_number": 94
    },
    {
     "cell_type": "code",
     "collapsed": false,
     "input": [
      "!cat test456.fa"
     ],
     "language": "python",
     "metadata": {},
     "outputs": [
      {
       "output_type": "stream",
       "stream": "stdout",
       "text": [
        ">CAE1\r\n",
        "GTGAAAGAAGCCAAAAAGGCTACATACTGTATGATTCCAATTACGTGACATTTTGGAAAA\r\n",
        "GGGAAAATTACAAAGATAGTAAAACAATCAATAGTTGACAGGGGTTGGGGAGATTGGGGA\r\n",
        "GAGGAAAGGATGGATGGGCAGAGAGCCCCGGCTGTTTAGGGCAGTGAGACCACTGTGGGT\r\n",
        "GATTTCACCACAACGGTGGACCCACGACAGCGTGCAGATGCCCACACCCATTGAATTAA"
       ]
      }
     ],
     "prompt_number": 192
    },
    {
     "cell_type": "code",
     "collapsed": false,
     "input": [
      "teststrings = [\"kurz\",\"K\",\n",
      "               \"EinSEHRSEHRSEHRLAAAAAAAAAAAAAAAAAAAAAAAAAAAAAAAAAAAAAAAAAAAAAAAAAAAAAAAAAAAAAAA\"\n",
      "               \"AAAAAAAAAAAAAAAAAAAAAAAAAAAAAAAAAAAAAAAAAAAAANGERstring\",\"USW\",\"USF\"]"
     ],
     "language": "python",
     "metadata": {},
     "outputs": [],
     "prompt_number": 173
    },
    {
     "cell_type": "code",
     "collapsed": false,
     "input": [
      "def line_write(handle,line_pos,string,line_len=60):\n",
      "        \n",
      "    idx_last = 0\n",
      "    intervals = range(line_len-line_pos,len(string),line_len) + [len(string)] \n",
      "    #print intervals\n",
      "    for i,idx in enumerate(intervals):\n",
      "        slice0 = string[idx_last:idx]\n",
      "        line_pos = line_pos + len(slice0)\n",
      "        handle.write(slice0)\n",
      "        if line_pos == line_len:\n",
      "            handle.write(\"\\n\")\n",
      "            line_pos = 0\n",
      "        idx_last=idx\n",
      "    return line_pos"
     ],
     "language": "python",
     "metadata": {},
     "outputs": [],
     "prompt_number": 44
    },
    {
     "cell_type": "code",
     "collapsed": false,
     "input": [
      "line_pos = 0\n",
      "for string in teststrings:\n",
      "    line_pos = line_write(sys.stdout,line_pos,string)"
     ],
     "language": "python",
     "metadata": {},
     "outputs": [
      {
       "output_type": "stream",
       "stream": "stdout",
       "text": [
        "kurzKEinSEHRSEHRSEHRLAAAAAAAAAAAAAAAAAAAAAAAAAAAAAAAAAAAAAAA\n",
        "AAAAAAAAAAAAAAAAAAAAAAAAAAAAAAAAAAAAAAAAAAAAAAAAAAAAAAAAAAAA\n",
        "AAAAAAAAANGERstringUSWUSF"
       ]
      }
     ],
     "prompt_number": 189
    },
    {
     "cell_type": "heading",
     "level": 2,
     "metadata": {},
     "source": [
      "Write ancestral fasta (macaque alignment in vervet coordinates)"
     ]
    },
    {
     "cell_type": "code",
     "collapsed": false,
     "input": [
      "#%%px --local\n",
      "from hs_vervet.scripts import nucmer_ancestral_state_to_vcf as nas\n",
      "import pyfasta\n",
      "nucmer_dir = eu(\"~/vervet_project/analyses/20140319_nucmer_align_ref3500_vs_macaque/_data/\")\n",
      "mac_fasta = pyfasta.Fasta(eu(\"~/vervet_project/data/other_species/Macaca_mulatta/CR_1.0/Primary_Assembly/\"\n",
      "                \"assembled_chromosomes/FASTA/Macaca_mulatta_CR_1.0.fasta\"))\n",
      "ver_fasta = pyfasta.Fasta(eu(\"~/vervet_project/data/reference/reference_3500/\"\n",
      "                             \"3500_indID1_codeVRC_ref_sequencer3_seqType1_filtered0_version6.fasta\"))\n"
     ],
     "language": "python",
     "metadata": {},
     "outputs": [
      {
       "ename": "KeyboardInterrupt",
       "evalue": "",
       "output_type": "pyerr",
       "traceback": [
        "\u001b[1;31m---------------------------------------------------------------------------\u001b[0m\n\u001b[1;31mKeyboardInterrupt\u001b[0m                         Traceback (most recent call last)",
        "\u001b[1;32m<ipython-input-196-8830438be25d>\u001b[0m in \u001b[0;36m<module>\u001b[1;34m()\u001b[0m\n\u001b[1;32m----> 1\u001b[1;33m \u001b[0mget_ipython\u001b[0m\u001b[1;33m(\u001b[0m\u001b[1;33m)\u001b[0m\u001b[1;33m.\u001b[0m\u001b[0mrun_cell_magic\u001b[0m\u001b[1;33m(\u001b[0m\u001b[1;34mu'px'\u001b[0m\u001b[1;33m,\u001b[0m \u001b[1;34mu'--local'\u001b[0m\u001b[1;33m,\u001b[0m \u001b[1;34mu'from hs_vervet.scripts import nucmer_ancestral_state_to_vcf as nas\\nimport pyfasta\\nnucmer_dir = eu(\"~/vervet_project/analyses/20140319_nucmer_align_ref3500_vs_macaque/_data/\")\\nmac_fasta = pyfasta.Fasta(eu(\"~/vervet_project/data/other_species/Macaca_mulatta/CR_1.0/Primary_Assembly/\"\\n                \"assembled_chromosomes/FASTA/Macaca_mulatta_CR_1.0.fasta\"))\\nver_fasta = pyfasta.Fasta(eu(\"~/vervet_project/data/reference/reference_3500/\"\\n                             \"3500_indID1_codeVRC_ref_sequencer3_seqType1_filtered0_version6.fasta\"))'\u001b[0m\u001b[1;33m)\u001b[0m\u001b[1;33m\u001b[0m\u001b[0m\n\u001b[0m",
        "\u001b[1;32m/net/gmi.oeaw.ac.at/nordborg/user/hannes.svardal/Documents/Dropbox/Akademisches/lib/python/virtualenvs/ver/lib/python2.7/site-packages/IPython/core/interactiveshell.pyc\u001b[0m in \u001b[0;36mrun_cell_magic\u001b[1;34m(self, magic_name, line, cell)\u001b[0m\n\u001b[0;32m   2160\u001b[0m             \u001b[0mmagic_arg_s\u001b[0m \u001b[1;33m=\u001b[0m \u001b[0mself\u001b[0m\u001b[1;33m.\u001b[0m\u001b[0mvar_expand\u001b[0m\u001b[1;33m(\u001b[0m\u001b[0mline\u001b[0m\u001b[1;33m,\u001b[0m \u001b[0mstack_depth\u001b[0m\u001b[1;33m)\u001b[0m\u001b[1;33m\u001b[0m\u001b[0m\n\u001b[0;32m   2161\u001b[0m             \u001b[1;32mwith\u001b[0m \u001b[0mself\u001b[0m\u001b[1;33m.\u001b[0m\u001b[0mbuiltin_trap\u001b[0m\u001b[1;33m:\u001b[0m\u001b[1;33m\u001b[0m\u001b[0m\n\u001b[1;32m-> 2162\u001b[1;33m                 \u001b[0mresult\u001b[0m \u001b[1;33m=\u001b[0m \u001b[0mfn\u001b[0m\u001b[1;33m(\u001b[0m\u001b[0mmagic_arg_s\u001b[0m\u001b[1;33m,\u001b[0m \u001b[0mcell\u001b[0m\u001b[1;33m)\u001b[0m\u001b[1;33m\u001b[0m\u001b[0m\n\u001b[0m\u001b[0;32m   2163\u001b[0m             \u001b[1;32mreturn\u001b[0m \u001b[0mresult\u001b[0m\u001b[1;33m\u001b[0m\u001b[0m\n\u001b[0;32m   2164\u001b[0m \u001b[1;33m\u001b[0m\u001b[0m\n",
        "\u001b[1;32m/net/gmi.oeaw.ac.at/nordborg/user/hannes.svardal/Documents/Dropbox/Akademisches/lib/python/virtualenvs/ver/lib/python2.7/site-packages/IPython/parallel/client/magics.pyc\u001b[0m in \u001b[0;36mcell_px\u001b[1;34m(self, line, cell)\u001b[0m\n\u001b[0;32m    312\u001b[0m             \u001b[1;31m# now apply blocking behavor to remote execution\u001b[0m\u001b[1;33m\u001b[0m\u001b[1;33m\u001b[0m\u001b[0m\n\u001b[0;32m    313\u001b[0m             \u001b[1;32mif\u001b[0m \u001b[0mblock\u001b[0m\u001b[1;33m:\u001b[0m\u001b[1;33m\u001b[0m\u001b[0m\n\u001b[1;32m--> 314\u001b[1;33m                 \u001b[0mar\u001b[0m\u001b[1;33m.\u001b[0m\u001b[0mget\u001b[0m\u001b[1;33m(\u001b[0m\u001b[1;33m)\u001b[0m\u001b[1;33m\u001b[0m\u001b[0m\n\u001b[0m\u001b[0;32m    315\u001b[0m                 \u001b[0mar\u001b[0m\u001b[1;33m.\u001b[0m\u001b[0mdisplay_outputs\u001b[0m\u001b[1;33m(\u001b[0m\u001b[0margs\u001b[0m\u001b[1;33m.\u001b[0m\u001b[0mgroupby\u001b[0m\u001b[1;33m)\u001b[0m\u001b[1;33m\u001b[0m\u001b[0m\n\u001b[0;32m    316\u001b[0m         \u001b[1;32mif\u001b[0m \u001b[1;32mnot\u001b[0m \u001b[0mblock\u001b[0m\u001b[1;33m:\u001b[0m\u001b[1;33m\u001b[0m\u001b[0m\n",
        "\u001b[1;32m/net/gmi.oeaw.ac.at/nordborg/user/hannes.svardal/Documents/Dropbox/Akademisches/lib/python/virtualenvs/ver/lib/python2.7/site-packages/IPython/parallel/client/asyncresult.pyc\u001b[0m in \u001b[0;36mget\u001b[1;34m(self, timeout)\u001b[0m\n\u001b[0;32m    110\u001b[0m         \"\"\"\n\u001b[0;32m    111\u001b[0m         \u001b[1;32mif\u001b[0m \u001b[1;32mnot\u001b[0m \u001b[0mself\u001b[0m\u001b[1;33m.\u001b[0m\u001b[0mready\u001b[0m\u001b[1;33m(\u001b[0m\u001b[1;33m)\u001b[0m\u001b[1;33m:\u001b[0m\u001b[1;33m\u001b[0m\u001b[0m\n\u001b[1;32m--> 112\u001b[1;33m             \u001b[0mself\u001b[0m\u001b[1;33m.\u001b[0m\u001b[0mwait\u001b[0m\u001b[1;33m(\u001b[0m\u001b[0mtimeout\u001b[0m\u001b[1;33m)\u001b[0m\u001b[1;33m\u001b[0m\u001b[0m\n\u001b[0m\u001b[0;32m    113\u001b[0m \u001b[1;33m\u001b[0m\u001b[0m\n\u001b[0;32m    114\u001b[0m         \u001b[1;32mif\u001b[0m \u001b[0mself\u001b[0m\u001b[1;33m.\u001b[0m\u001b[0m_ready\u001b[0m\u001b[1;33m:\u001b[0m\u001b[1;33m\u001b[0m\u001b[0m\n",
        "\u001b[1;32m/net/gmi.oeaw.ac.at/nordborg/user/hannes.svardal/Documents/Dropbox/Akademisches/lib/python/virtualenvs/ver/lib/python2.7/site-packages/IPython/parallel/client/asyncresult.pyc\u001b[0m in \u001b[0;36mwait\u001b[1;34m(self, timeout)\u001b[0m\n\u001b[0;32m    141\u001b[0m             \u001b[0mself\u001b[0m\u001b[1;33m.\u001b[0m\u001b[0m_wait_for_outputs\u001b[0m\u001b[1;33m(\u001b[0m\u001b[0mtimeout\u001b[0m\u001b[1;33m)\u001b[0m\u001b[1;33m\u001b[0m\u001b[0m\n\u001b[0;32m    142\u001b[0m             \u001b[1;32mreturn\u001b[0m\u001b[1;33m\u001b[0m\u001b[0m\n\u001b[1;32m--> 143\u001b[1;33m         \u001b[0mself\u001b[0m\u001b[1;33m.\u001b[0m\u001b[0m_ready\u001b[0m \u001b[1;33m=\u001b[0m \u001b[0mself\u001b[0m\u001b[1;33m.\u001b[0m\u001b[0m_client\u001b[0m\u001b[1;33m.\u001b[0m\u001b[0mwait\u001b[0m\u001b[1;33m(\u001b[0m\u001b[0mself\u001b[0m\u001b[1;33m.\u001b[0m\u001b[0mmsg_ids\u001b[0m\u001b[1;33m,\u001b[0m \u001b[0mtimeout\u001b[0m\u001b[1;33m)\u001b[0m\u001b[1;33m\u001b[0m\u001b[0m\n\u001b[0m\u001b[0;32m    144\u001b[0m         \u001b[1;32mif\u001b[0m \u001b[0mself\u001b[0m\u001b[1;33m.\u001b[0m\u001b[0m_ready\u001b[0m\u001b[1;33m:\u001b[0m\u001b[1;33m\u001b[0m\u001b[0m\n\u001b[0;32m    145\u001b[0m             \u001b[1;32mtry\u001b[0m\u001b[1;33m:\u001b[0m\u001b[1;33m\u001b[0m\u001b[0m\n",
        "\u001b[1;32m/net/gmi.oeaw.ac.at/nordborg/user/hannes.svardal/Documents/Dropbox/Akademisches/lib/python/virtualenvs/ver/lib/python2.7/site-packages/IPython/parallel/client/client.pyc\u001b[0m in \u001b[0;36mwait\u001b[1;34m(self, jobs, timeout)\u001b[0m\n\u001b[0;32m   1089\u001b[0m             \u001b[1;32mif\u001b[0m \u001b[0mtimeout\u001b[0m \u001b[1;33m>=\u001b[0m \u001b[1;36m0\u001b[0m \u001b[1;32mand\u001b[0m \u001b[1;33m(\u001b[0m \u001b[0mtime\u001b[0m\u001b[1;33m.\u001b[0m\u001b[0mtime\u001b[0m\u001b[1;33m(\u001b[0m\u001b[1;33m)\u001b[0m\u001b[1;33m-\u001b[0m\u001b[0mtic\u001b[0m \u001b[1;33m)\u001b[0m \u001b[1;33m>\u001b[0m \u001b[0mtimeout\u001b[0m\u001b[1;33m:\u001b[0m\u001b[1;33m\u001b[0m\u001b[0m\n\u001b[0;32m   1090\u001b[0m                 \u001b[1;32mbreak\u001b[0m\u001b[1;33m\u001b[0m\u001b[0m\n\u001b[1;32m-> 1091\u001b[1;33m             \u001b[0mtime\u001b[0m\u001b[1;33m.\u001b[0m\u001b[0msleep\u001b[0m\u001b[1;33m(\u001b[0m\u001b[1;36m1e-3\u001b[0m\u001b[1;33m)\u001b[0m\u001b[1;33m\u001b[0m\u001b[0m\n\u001b[0m\u001b[0;32m   1092\u001b[0m             \u001b[0mself\u001b[0m\u001b[1;33m.\u001b[0m\u001b[0mspin\u001b[0m\u001b[1;33m(\u001b[0m\u001b[1;33m)\u001b[0m\u001b[1;33m\u001b[0m\u001b[0m\n\u001b[0;32m   1093\u001b[0m         \u001b[1;32mreturn\u001b[0m \u001b[0mlen\u001b[0m\u001b[1;33m(\u001b[0m\u001b[0mtheids\u001b[0m\u001b[1;33m.\u001b[0m\u001b[0mintersection\u001b[0m\u001b[1;33m(\u001b[0m\u001b[0mself\u001b[0m\u001b[1;33m.\u001b[0m\u001b[0moutstanding\u001b[0m\u001b[1;33m)\u001b[0m\u001b[1;33m)\u001b[0m \u001b[1;33m==\u001b[0m \u001b[1;36m0\u001b[0m\u001b[1;33m\u001b[0m\u001b[0m\n",
        "\u001b[1;31mKeyboardInterrupt\u001b[0m: "
       ]
      }
     ],
     "prompt_number": 196
    },
    {
     "cell_type": "code",
     "collapsed": false,
     "input": [],
     "language": "python",
     "metadata": {},
     "outputs": []
    },
    {
     "cell_type": "code",
     "collapsed": false,
     "input": [],
     "language": "python",
     "metadata": {},
     "outputs": []
    },
    {
     "cell_type": "code",
     "collapsed": false,
     "input": [
      "def get_mac_fasta_in_ver_coord(chrom):\n",
      "    delta_fn = jn(nucmer_dir,\"nucmer_macaque_align_{}_filter_1_l200_u80.delta\".format(chrom))\n",
      "    query_ref_dic = nas.parse_delta_file(delta_fn,mac_fasta)\n",
      "    positions = query_ref_dic.keys()\n",
      "    mac_fasta_in_ver_coord = []\n",
      "    for i in range(len(ver_fasta[chrom])):\n",
      "        try:\n",
      "            mac_fasta_in_ver_coord.append(query_ref_dic[i])\n",
      "        except KeyError:\n",
      "            mac_fasta_in_ver_coord.append('N')\n",
      "    mac_fasta_in_ver_coord = \"\".join(mac_fasta_in_ver_coord)\n",
      "    return mac_fasta_in_ver_coord"
     ],
     "language": "python",
     "metadata": {},
     "outputs": [],
     "prompt_number": 49
    },
    {
     "cell_type": "code",
     "collapsed": false,
     "input": [
      "map_fasta = lv.map_async(get_mac_fasta_in_ver_coord,chromosomes[:-1])"
     ],
     "language": "python",
     "metadata": {},
     "outputs": [],
     "prompt_number": 50
    },
    {
     "cell_type": "code",
     "collapsed": false,
     "input": [
      "chrom = \"CAE28\""
     ],
     "language": "python",
     "metadata": {},
     "outputs": [],
     "prompt_number": 68
    },
    {
     "cell_type": "code",
     "collapsed": false,
     "input": [],
     "language": "python",
     "metadata": {},
     "outputs": [],
     "prompt_number": 69
    },
    {
     "cell_type": "code",
     "collapsed": false,
     "input": [
      "delta_fn"
     ],
     "language": "python",
     "metadata": {},
     "outputs": [
      {
       "metadata": {},
       "output_type": "pyout",
       "prompt_number": 70,
       "text": [
        "'/home/GMI/hannes.svardal/vervet_project/analyses/20140319_nucmer_align_ref3500_vs_macaque/_data/nucmer_macaque_align_CAE28_filter_1_l200_u80.delta'"
       ]
      }
     ],
     "prompt_number": 70
    },
    {
     "cell_type": "code",
     "collapsed": false,
     "input": [
      "import math"
     ],
     "language": "python",
     "metadata": {},
     "outputs": [],
     "prompt_number": 75
    },
    {
     "cell_type": "code",
     "collapsed": false,
     "input": [
      "len(ver_fasta[chrom])"
     ],
     "language": "python",
     "metadata": {},
     "outputs": [
      {
       "metadata": {},
       "output_type": "pyout",
       "prompt_number": 80,
       "text": [
        "21531802"
       ]
      }
     ],
     "prompt_number": 80
    },
    {
     "cell_type": "code",
     "collapsed": false,
     "input": [
      "l = ['A','B','C','D','E']"
     ],
     "language": "python",
     "metadata": {},
     "outputs": [],
     "prompt_number": 81
    },
    {
     "cell_type": "code",
     "collapsed": false,
     "input": [
      "l[[14] = ['N','N','N']"
     ],
     "language": "python",
     "metadata": {},
     "outputs": [],
     "prompt_number": 83
    },
    {
     "cell_type": "code",
     "collapsed": false,
     "input": [
      "l[3:1:-1]"
     ],
     "language": "python",
     "metadata": {},
     "outputs": [
      {
       "metadata": {},
       "output_type": "pyout",
       "prompt_number": 88,
       "text": [
        "['N', 'N']"
       ]
      }
     ],
     "prompt_number": 88
    },
    {
     "cell_type": "code",
     "collapsed": false,
     "input": [
      "complement = {'A':'T','C':'G','G':'C','T':'A','N':'N'}\n",
      "\n",
      "\n",
      "def delta_to_query_coord_fasta(fn,ref_fasta,query_fasta,query_chrom):\n",
      "    \"\"\"\n",
      "    Read a nucmer delta file and.\n",
      "    output the reference sequence in a string in \n",
      "    coordinates of the query sequence. Positions in the \n",
      "    query sequence that do not hava a reference alignment\n",
      "    are marked 'N'\n",
      "    \"\"\"\n",
      "    c = complement\n",
      "    \n",
      "    ix = 0\n",
      "    ref_fasta_in_query_coord = ['N']*len(query_fasta[query_chrom])\n",
      "\n",
      "    with open(fn,'r') as f:\n",
      "        f.next()\n",
      "        f.next()\n",
      "        for line in f:\n",
      "            if line[0] == \">\":\n",
      "                #print \"starting alignment\",line\n",
      "                ref_chrom = line[1:].split()[0]\n",
      "                ref_fa = ref_fasta[ref_chrom]\n",
      "                new_chrom = True\n",
      "                new_align = True\n",
      "            elif new_align:\n",
      "                #print \"*******************\"\n",
      "                #print \"new alignment\",line\n",
      "                start_ref = int(line.split()[0])\n",
      "                start_query = int(line.split()[2])\n",
      "                end_ref = int(line.split()[1])\n",
      "                end_query = int(line.split()[3].strip())\n",
      "                assert start_ref < end_ref,\\\n",
      "                        \"referse strand in reference not implemented\"\n",
      "                pos_ref = start_ref - 1 \n",
      "                if start_query < end_query:\n",
      "                    pos_query = start_query -1\n",
      "                    query_reverse = False\n",
      "                    #print \"*** forward alignment ***\"\n",
      "                else:\n",
      "                    pos_query = start_query - 1\n",
      "                    query_reverse = True\n",
      "                    #print \"*** reverse alignment ***\"\n",
      "                new_align = False\n",
      "            elif line.strip() == '0':\n",
      "                #alignment finished\n",
      "                ref_str = ref_fa[pos_ref:end_ref-1]\n",
      "                if not query_reverse:\n",
      "                    ref_fasta_in_query_coord[pos_query:end_query-1] = ref_str\n",
      "                else:\n",
      "                    ref_str = \"\".join([complement[b] for b in ref_str])\n",
      "                    try:\n",
      "                        ref_fasta_in_query_coord[pos_query:end_query-1:-1] = ref_str\n",
      "                    except:\n",
      "                        print \"end\"\n",
      "                        print ref_chrom, start_ref, end_ref, pos_ref, query_chrom, start_query, end_query , pos_query\n",
      "                        raise\n",
      "                 #debug\n",
      "                #if not query_reverse:\n",
      "                #    print \"mac:\"\n",
      "                #    print \"\".join(ref_fasta_in_query_coord[start_query:end_query])\n",
      "                #    print \"ver:\"\n",
      "                #    print query_fasta[query_chrom][start_query:end_query]\n",
      "                #else:\n",
      "                #    print \"mac:\"\n",
      "                #    print \"\".join(ref_fasta_in_query_coord[end_query:start_query])\n",
      "                #    print \"ver:\"\n",
      "                #    print query_fasta[query_chrom][end_query:start_query]\n",
      "\n",
      "                    \n",
      "                \n",
      "                new_align = True\n",
      "            else:\n",
      "                #until next indel\n",
      "                next_indel = abs(int(line.strip()))-1\n",
      " \n",
      "                in_or_del = math.copysign(1,int(line.strip()))\n",
      "                \n",
      "                ref_str = ref_fa[pos_ref:pos_ref+next_indel]\n",
      "                \n",
      "                if not query_reverse:\n",
      "                    ref_fasta_in_query_coord[pos_query:pos_query+next_indel] = ref_str\n",
      "                else:\n",
      "                    try:\n",
      "                        ref_str = \"\".join([complement[b] for b in ref_str])\n",
      "                        ref_fasta_in_query_coord[pos_query:pos_query-next_indel:-1] = ref_str\n",
      "                    except:\n",
      "                        print \"within\"\n",
      "                        print ref_chrom, start_ref, end_ref, pos_ref, query_chrom, start_query, end_query , pos_query\n",
      "                        raise\n",
      "                \n",
      "                #print 'pos_ref:', pos_ref\n",
      "                #print ref_str\n",
      "                #print 'pos_query', pos_query\n",
      "                #if not query_reverse:\n",
      "                #    print query_fasta[query_chrom][pos_query:pos_query+next_indel]\n",
      "                #else:\n",
      "                #    print query_fasta[query_chrom][pos_query:pos_query-next_indel:-1]\n",
      "                #print \"----------------------\"\n",
      "                pos_ref = pos_ref + next_indel + (1 if in_or_del > 0 else 0)\n",
      "                pos_query = pos_query + (next_indel + (1 if in_or_del < 0 else 0))*(1-2*query_reverse)\n",
      "            ix += 1\n",
      "            #if ix > 2000:\n",
      "            #    break\n",
      "    return \"\".join(ref_fasta_in_query_coord)\n"
     ],
     "language": "python",
     "metadata": {},
     "outputs": [],
     "prompt_number": 188
    },
    {
     "cell_type": "code",
     "collapsed": false,
     "input": [
      "map_fasta.wait(10)"
     ],
     "language": "python",
     "metadata": {},
     "outputs": [],
     "prompt_number": 56
    },
    {
     "cell_type": "code",
     "collapsed": false,
     "input": [
      "import Bio\n",
      "from Bio import SeqIO"
     ],
     "language": "python",
     "metadata": {},
     "outputs": []
    },
    {
     "cell_type": "code",
     "collapsed": false,
     "input": [
      "with open(eu(\"~/vervet_project/data/other_species/Macaca_mulatta/CR_1.0_in_vervet_coord_ref3500.fa\".format(chrom)),'w') as oh:\n",
      "    for chrom in chromosomes:\n",
      "        delta_fn = jn(nucmer_dir,\"nucmer_macaque_align_{}_filter_1_l200_u80.delta\".format(chrom))\n",
      "        ref_fasta_in_query_coord = delta_to_query_coord_fasta(delta_fn,mac_fasta,query_fasta=ver_fasta,query_chrom=chrom)\n",
      "        seq = SeqIO.SeqRecord(Bio.Seq.Seq(ref_fasta_in_query_coord,Bio.Alphabet.DNAAlphabet),\n",
      "                              id = chrom,\n",
      "                              description = \"\")#mac CR_1.0 in C. sabaeus 1.1 coordinates\n",
      "        SeqIO.write(seq, oh, \"fasta\")"
     ],
     "language": "python",
     "metadata": {},
     "outputs": [],
     "prompt_number": 190
    },
    {
     "cell_type": "code",
     "collapsed": false,
     "input": [
      "ref_fasta_in_query_coord = delta_to_query_coord_fasta(delta_fn,mac_fasta,query_fasta=ver_fasta,query_chrom='CAE9')"
     ],
     "language": "python",
     "metadata": {},
     "outputs": [],
     "prompt_number": 189
    },
    {
     "cell_type": "code",
     "collapsed": false,
     "input": [
      "SeqIO.SeqRecord?"
     ],
     "language": "python",
     "metadata": {},
     "outputs": [],
     "prompt_number": 147
    },
    {
     "cell_type": "code",
     "collapsed": false,
     "input": [
      "SeqIO.write?"
     ],
     "language": "python",
     "metadata": {},
     "outputs": [],
     "prompt_number": 146
    },
    {
     "cell_type": "code",
     "collapsed": false,
     "input": [
      "mac_in_ver_coord = pyfasta.Fasta(eu('~/vervet_project/data/other_species/Macaca_mulatta/CR_1.0_in_vervet_coord_ref3500.fa'))"
     ],
     "language": "python",
     "metadata": {},
     "outputs": [],
     "prompt_number": 198
    },
    {
     "cell_type": "code",
     "collapsed": false,
     "input": [
      "mac_in_ver_coord['CAE1'][1000:1010]"
     ],
     "language": "python",
     "metadata": {},
     "outputs": [
      {
       "metadata": {},
       "output_type": "pyout",
       "prompt_number": 203,
       "text": [
        "u'GTGCAGTTAT'"
       ]
      }
     ],
     "prompt_number": 203
    },
    {
     "cell_type": "code",
     "collapsed": false,
     "input": [
      "with open(eu(\"~/vervet_project/data/other_species/Macaca_mulatta/mac_state_in_ver_coord.fasta\"),'w') as fh:\n",
      "    for chrom,r in itertools.izip(chromosomes[:-1],map_fasta.results):\n",
      "        fh.write(\">\"+chrom+'\\n')\n",
      "        line_write(handle=fh,line_pos=0,string=r,line_len=80)\n"
     ],
     "language": "python",
     "metadata": {},
     "outputs": [],
     "prompt_number": 14
    },
    {
     "cell_type": "code",
     "collapsed": false,
     "input": [
      "ver_fasta[chrom][196:215]"
     ],
     "language": "python",
     "metadata": {},
     "outputs": [
      {
       "metadata": {},
       "output_type": "pyout",
       "prompt_number": 30,
       "text": [
        "u'ATCTAGGGGCCCCAAGATG'"
       ]
      }
     ],
     "prompt_number": 30
    },
    {
     "cell_type": "code",
     "collapsed": false,
     "input": [
      "max(positions)"
     ],
     "language": "python",
     "metadata": {},
     "outputs": [
      {
       "metadata": {},
       "output_type": "pyout",
       "prompt_number": 32,
       "text": [
        "50887627"
       ]
      }
     ],
     "prompt_number": 32
    },
    {
     "cell_type": "code",
     "collapsed": false,
     "input": [
      "len('GGCTCACGCATGTAATCCCAGCACTTTGGGAGGCCGAGGCAGGCAGATCACAAGGTCAGGAGACCAAGACCATCCCGGCTAACATGGTGAAACCTCGTCTCTACTAC')"
     ],
     "language": "python",
     "metadata": {},
     "outputs": [
      {
       "metadata": {},
       "output_type": "pyout",
       "prompt_number": 108,
       "text": [
        "107"
       ]
      }
     ],
     "prompt_number": 108
    },
    {
     "cell_type": "code",
     "collapsed": false,
     "input": [],
     "language": "python",
     "metadata": {},
     "outputs": [],
     "prompt_number": 39
    },
    {
     "cell_type": "code",
     "collapsed": false,
     "input": [
      "print len(mac_fasta_in_ver_coord)"
     ],
     "language": "python",
     "metadata": {},
     "outputs": [
      {
       "output_type": "stream",
       "stream": "stdout",
       "text": [
        "50887628\n"
       ]
      }
     ],
     "prompt_number": 41
    },
    {
     "cell_type": "code",
     "collapsed": false,
     "input": [
      "print len(ver_fasta[chrom])"
     ],
     "language": "python",
     "metadata": {},
     "outputs": [
      {
       "output_type": "stream",
       "stream": "stdout",
       "text": [
        "50890351\n"
       ]
      }
     ],
     "prompt_number": 42
    },
    {
     "cell_type": "code",
     "collapsed": false,
     "input": [
      "import numpy as np"
     ],
     "language": "python",
     "metadata": {},
     "outputs": [],
     "prompt_number": 64
    },
    {
     "cell_type": "code",
     "collapsed": false,
     "input": [],
     "language": "python",
     "metadata": {},
     "outputs": [
      {
       "metadata": {},
       "output_type": "pyout",
       "prompt_number": 66,
       "text": [
        "0.30732416062879253"
       ]
      }
     ],
     "prompt_number": 66
    },
    {
     "cell_type": "code",
     "collapsed": false,
     "input": [
      "1732727-1732461"
     ],
     "language": "python",
     "metadata": {},
     "outputs": [
      {
       "metadata": {},
       "output_type": "pyout",
       "prompt_number": 106,
       "text": [
        "266"
       ]
      }
     ],
     "prompt_number": 106
    },
    {
     "cell_type": "code",
     "collapsed": false,
     "input": [
      "28745252 - 28744990"
     ],
     "language": "python",
     "metadata": {},
     "outputs": [
      {
       "metadata": {},
       "output_type": "pyout",
       "prompt_number": 107,
       "text": [
        "262"
       ]
      }
     ],
     "prompt_number": 107
    },
    {
     "cell_type": "code",
     "collapsed": false,
     "input": [
      "Compare"
     ],
     "language": "python",
     "metadata": {},
     "outputs": []
    },
    {
     "cell_type": "code",
     "collapsed": false,
     "input": [
      "ref_fn = eu(\"~/vervet_project/data/reference/reference_3500/\"\n",
      "            \"3500_indID1_codeVRC_ref_sequencer3_seqType1_filtered0_version6.fasta\")\n",
      "ref_seq = pyfasta.Fasta(ref_fn)"
     ],
     "language": "python",
     "metadata": {},
     "outputs": [],
     "prompt_number": 4
    },
    {
     "cell_type": "code",
     "collapsed": false,
     "input": [
      "mac_filtered = pyfasta.Fasta(eu('~/vervet_project/analyses/20150504_163_UnifiedGenotyper/_data/163_UG_ref3500_filtered_anc_state.fasta'))"
     ],
     "language": "python",
     "metadata": {},
     "outputs": [],
     "prompt_number": 3
    },
    {
     "cell_type": "code",
     "collapsed": false,
     "input": [
      "mac_filtered_corrected = pyfasta.Fasta(eu('~/vervet_project/analyses/20150504_163_UnifiedGenotyper/_data/163_UG_ref3500_filtered_anc_state_corrected.fasta'))"
     ],
     "language": "python",
     "metadata": {},
     "outputs": [],
     "prompt_number": 29
    },
    {
     "cell_type": "code",
     "collapsed": false,
     "input": [
      "from Bio import SeqIO"
     ],
     "language": "python",
     "metadata": {},
     "outputs": [],
     "prompt_number": 23
    },
    {
     "cell_type": "code",
     "collapsed": false,
     "input": [
      "mac_rec = list(SeqIO.parse(eu(\"~/vervet_project/analyses/20150504_163_UnifiedGenotyper/_data/163_UG_ref3500_filtered_anc_state.fasta\"),\n",
      "                              \"fasta\"))"
     ],
     "language": "python",
     "metadata": {},
     "outputs": [],
     "prompt_number": 26
    },
    {
     "cell_type": "code",
     "collapsed": false,
     "input": [
      "SeqIO.write(mac_rec, eu(\"~/vervet_project/analyses/20150504_163_UnifiedGenotyper/_data/163_UG_ref3500_filtered_anc_state_corrected.fasta\"),\n",
      "                               \"fasta\")"
     ],
     "language": "python",
     "metadata": {},
     "outputs": [
      {
       "metadata": {},
       "output_type": "pyout",
       "prompt_number": 28,
       "text": [
        "31"
       ]
      }
     ],
     "prompt_number": 28
    },
    {
     "cell_type": "code",
     "collapsed": false,
     "input": [],
     "language": "python",
     "metadata": {},
     "outputs": []
    },
    {
     "cell_type": "code",
     "collapsed": false,
     "input": [
      "with open(eu(\"~/vervet_project/analyses/20150504_163_UnifiedGenotyper/_data/163_UG_ref3500_filtered_anc_state.fasta\")) as ih,\n",
      "     open(eu(\"~/vervet_project/analyses/20150504_163_UnifiedGenotyper/_data/163_UG_ref3500_filtered_anc_state.fasta\"),'w') as oh:\n",
      "\n",
      "        seq = SeqIO.SeqRecord(Bio.Seq.Seq(ref_fasta_in_query_coord,Bio.Alphabet.DNAAlphabet),\n",
      "                              id = chrom,\n",
      "                              description = \"\")#mac CR_1.0 in C. sabaeus 1.1 coordinates\n",
      "        SeqIO.write(seq, oh, \"fasta\")"
     ],
     "language": "python",
     "metadata": {},
     "outputs": [
      {
       "metadata": {},
       "output_type": "pyout",
       "prompt_number": 22,
       "text": [
        "['__abstractmethods__',\n",
        " '__class__',\n",
        " '__contains__',\n",
        " '__delattr__',\n",
        " '__dict__',\n",
        " '__doc__',\n",
        " '__eq__',\n",
        " '__format__',\n",
        " '__getattribute__',\n",
        " '__getitem__',\n",
        " '__hash__',\n",
        " '__init__',\n",
        " '__iter__',\n",
        " '__len__',\n",
        " '__metaclass__',\n",
        " '__module__',\n",
        " '__ne__',\n",
        " '__new__',\n",
        " '__reduce__',\n",
        " '__reduce_ex__',\n",
        " '__repr__',\n",
        " '__setattr__',\n",
        " '__sizeof__',\n",
        " '__str__',\n",
        " '__subclasshook__',\n",
        " '__weakref__',\n",
        " '_abc_cache',\n",
        " '_abc_negative_cache',\n",
        " '_abc_negative_cache_version',\n",
        " '_abc_registry',\n",
        " '_seq_from_keys',\n",
        " 'as_kmers',\n",
        " 'chr',\n",
        " 'fasta_name',\n",
        " 'gen_seqs_with_headers',\n",
        " 'get',\n",
        " 'index',\n",
        " 'items',\n",
        " 'iteritems',\n",
        " 'iterkeys',\n",
        " 'itervalues',\n",
        " 'key_fn',\n",
        " 'keys',\n",
        " 'prepared',\n",
        " 'record_class',\n",
        " 'sequence',\n",
        " 'values']"
       ]
      }
     ],
     "prompt_number": 22
    },
    {
     "cell_type": "code",
     "collapsed": false,
     "input": [
      "mac_filtered_corrected"
     ],
     "language": "python",
     "metadata": {},
     "outputs": []
    },
    {
     "cell_type": "code",
     "collapsed": false,
     "input": [
      "for i,chrom in enumerate(chromosomes):\n",
      "    print chrom, len(ref_seq[chrom])-len(mac_filtered_corrected[chrom])"
     ],
     "language": "python",
     "metadata": {},
     "outputs": [
      {
       "output_type": "stream",
       "stream": "stdout",
       "text": [
        "CAE1 0\n",
        "CAE2 0\n",
        "CAE3 0\n",
        "CAE4 0\n",
        "CAE5 0\n",
        "CAE6 0\n",
        "CAE7 0\n",
        "CAE8 0\n",
        "CAE9 0\n",
        "CAE10 0\n",
        "CAE11 0\n",
        "CAE12 0\n",
        "CAE13 0\n",
        "CAE14 0\n",
        "CAE15 0\n",
        "CAE16 0\n",
        "CAE17 0\n",
        "CAE18 0\n",
        "CAE19 0\n",
        "CAE20 0\n",
        "CAE21 0\n",
        "CAE22 0\n",
        "CAE23 0\n",
        "CAE24 0\n",
        "CAE25 0\n",
        "CAE26 0\n",
        "CAE27 0\n",
        "CAE28 0\n",
        "CAE29 0\n",
        "CAEX 0\n",
        "CAEY 0\n"
       ]
      }
     ],
     "prompt_number": 30
    },
    {
     "cell_type": "code",
     "collapsed": false,
     "input": [
      "problems = []\n",
      "with open(eu('~/vervet_project/analyses/20150504_163_UnifiedGenotyper/_data/163_UG_ref3500_filtered_anc_state.fasta')) as f:\n",
      "    for i,line in enumerate(f):\n",
      "        if len(line)!=81:\n",
      "            problems.append((i,line))\n",
      "        if len(problems)>100:\n",
      "            break"
     ],
     "language": "python",
     "metadata": {},
     "outputs": [],
     "prompt_number": 13
    },
    {
     "cell_type": "code",
     "collapsed": false,
     "input": [
      "pyfasta"
     ],
     "language": "python",
     "metadata": {},
     "outputs": [
      {
       "metadata": {},
       "output_type": "pyout",
       "prompt_number": 10,
       "text": [
        "80"
       ]
      }
     ],
     "prompt_number": 10
    },
    {
     "cell_type": "code",
     "collapsed": false,
     "input": [
      "len(problems)"
     ],
     "language": "python",
     "metadata": {},
     "outputs": [
      {
       "metadata": {},
       "output_type": "pyout",
       "prompt_number": 14,
       "text": [
        "74"
       ]
      }
     ],
     "prompt_number": 14
    },
    {
     "cell_type": "code",
     "collapsed": false,
     "input": [
      "2069029-1575451"
     ],
     "language": "python",
     "metadata": {},
     "outputs": [
      {
       "metadata": {},
       "output_type": "pyout",
       "prompt_number": 18,
       "text": [
        "493578"
       ]
      }
     ],
     "prompt_number": 18
    },
    {
     "cell_type": "code",
     "collapsed": false,
     "input": [
      "493578/70605."
     ],
     "language": "python",
     "metadata": {},
     "outputs": [
      {
       "metadata": {},
       "output_type": "pyout",
       "prompt_number": 20,
       "text": [
        "6.990694710006373"
       ]
      }
     ],
     "prompt_number": 20
    },
    {
     "cell_type": "code",
     "collapsed": false,
     "input": [
      "for p in problems:\n",
      "    print p[0], p[1]"
     ],
     "language": "python",
     "metadata": {},
     "outputs": [
      {
       "output_type": "stream",
       "stream": "stdout",
       "text": [
        "0 >CAE1\n",
        "\n",
        "1575450 NNNNNNNNNN\n",
        "\n",
        "1575451 >CAE2\n",
        "\n",
        "2069029 NNNNNNNNNNNNNNNNNNNNNNNNNNNNNNNNNNNNNNNNNNNNNNNNNNNNNNNNNNNNNNNNNNNNNNNNNNNNNNNNN\n",
        "\n",
        "2069680 NNNNNNNNNNNNNNNNNNNNNNNNNNNNNNNNNNNNNNNNNNNNNNNNNNNNNNNNNNNNNNNNNNNNNNNNNNNNNNN\n",
        "\n",
        "2705118 NNN\n",
        "\n",
        "2705119 >CAE3\n",
        "\n",
        "3856897 NNNNNNNNNNNNNNN\n",
        "\n",
        "3856898 >CAE4\n",
        "\n",
        "4420412 NNNNNNNNNNNNNNNNNNNNNNNNNNNNNNNNNNNNNNNNNNNNNNNNNNNNNNNNNNNNNNNNNNNNNNNNNNNNNNNNN\n",
        "\n",
        "4425713 NNNNNNNNNNNNNNNNNNNNNNNNNNNNNNNNNNNNNNNNNNNNNNNNNNNNNNNNNNNNNNNNNNNNNNNNNNNNNNN\n",
        "\n",
        "4994528 NNNNNNNNNNNNNNNNNNNNNNNNNNNNNNNNNNNNNNNNNNNNNNNNNNNNNNNNNNNNNN\n",
        "\n",
        "4994529 >CAE5\n",
        "\n",
        "5937029 NNNNNNNNNNNNNNNNNNNNNNNNNNNNNNNNNNNNNNNNNNN\n",
        "\n",
        "5937030 >CAE6\n",
        "\n",
        "6207676 TCTCAAAANNNNNNNNNNNNNNNNNNNNNNNNNNNNNNNNNNNNNNNNNNNNNNNNNNNNNNNNNNNNNNNNNNNNNNNNN\n",
        "\n",
        "6215337 NNNNNNNNNNNNNNNNNNNNNNNNNNNNNNNNNNNNNNNNNNNNNNNNNNNNNNNNNNNNNNNNNNNNNNNNNNNNNNN\n",
        "\n",
        "6573160 NNNNNNNNNNNNNNNNNNNNNNNNNNNNNNN\n",
        "\n",
        "6573161 >CAE7\n",
        "\n",
        "6784548 NNNNNNNNNNNNNNNNNNNNNNNNNNNNNNNNNNNNNNNNNNNNNNNNNNNNNNNNNNNNNNNNNNNNNNNNNNNNNNNNN\n",
        "\n",
        "6785315 NNNNNNNNNNNNNNNNNNNNNNNNNNNNNNNNNNNNNNNNNNNNNNNNNNNNNNNNNNNNNNNNNNNNNNNNNNNNNNN\n",
        "\n",
        "8270388 NNNNNNNNNNNNNNNNNNNNNNNNNNNNNNNNNNNNNNNNNNNNNNNNNNN\n",
        "\n",
        "8270389 >CAE8\n",
        "\n",
        "10011657 NNNNNNNNNNNNNNNNNNNNNNNNNNNNNNNNNNNNNNNNNNNNNNNNNNNNNNNNNNNNNN\n",
        "\n",
        "10011658 >CAE9\n",
        "\n",
        "11583046 NNNNNNNNNNNNNNNNNNNNNN\n",
        "\n",
        "11583047 >CAE10\n",
        "\n",
        "13190492 NNNNNNNNNNNNNNNNNNN\n",
        "\n",
        "13190493 >CAE11\n",
        "\n",
        "14797233 NNNNNNNNNNNNNNNNNNNNNNNNNNNNNNNNNNNNNNNNNNNNNNNNNNNNNNNNNNNNNNNNNN\n",
        "\n",
        "14797234 >CAE12\n",
        "\n",
        "16154182 NNNNNNNNNNNNNNNNNNNNNNNNNNNNNNNNNNNNNNNNNNNNNNNNNNNNNNNNNNNNNNNNNNNNNN\n",
        "\n",
        "16154183 >CAE13\n",
        "\n",
        "17383992 NNNNNNNNNNNNNNNNNNNNNNNNNNNNNNNNNNNNNNNNNN\n",
        "\n",
        "17383993 >CAE14\n",
        "\n",
        "17627996 NNNNNNNNNNNNNNNNNNNNNNNNNNNNNNNNNNNNNNNNNNNNNNNNNNNNNNNNNNNNNNNNNNNNNNNNNNNNNNNNN\n",
        "\n",
        "17636421 NNNNNNNNNNNNNNNNNNNNNNNNNNNNNNNNNNNNNNNNNNNNNNNNNNNNNNNNNNNNNNNNNNNNNNNNNNNNNNN\n",
        "\n",
        "18730274 NNNNNNNNNNNNNNNNNNNNNNNNNNNNNNN\n",
        "\n",
        "18730275 >CAE15\n",
        "\n",
        "19877204 NNNNNNNNNNNNNNNNNNNNNNNNNNNNNNNNNNNNNNNNNNNNNNNNNNN\n",
        "\n",
        "19877205 >CAE16\n",
        "\n",
        "20816564 NNNNNNNNNNNNNNNNNNNNNNNNNNNNNN\n",
        "\n",
        "20816565 >CAE17\n",
        "\n",
        "21036260 NNNNNNNNNNNNNNNNNNNNNNNNNNNNNNNNNNNNNNNNNNNNNNNNNNNNNNNNNNNNNNNNNNNNNNNNNNNNNNNNN\n",
        "\n",
        "21041553 NNNNNNNNNNNNNNNNNNNNNNNNNNNNNNNNNNNNNNNNNNNNNNNNNNNNNNNNNNNNNNNNNNNNNNNNNNNNNNN\n",
        "\n",
        "21716517 NNNNNNNNNNNNNNNNNNNNNNNNN\n",
        "\n",
        "21716518 >CAE18\n",
        "\n",
        "22620502 NNNNNNNNNNNNNNNNNNNNNNNNNNNNNNNNNNNNNNNNNNNNNNNN\n",
        "\n",
        "22620503 >CAE19\n",
        "\n",
        "23036293 NNNNNNNNNNNNNNNNNNNNNNNN\n",
        "\n",
        "23036294 >CAE20\n",
        "\n",
        "24668650 NNNNNNNNNNNNNNNNNNNNNNNNNNNNNNNNNNNNNNNNNNNNNNNNNNNNNNNNNNNNNNNNNNNNN\n",
        "\n",
        "24668651 >CAE21\n",
        "\n",
        "26258942 NNN\n",
        "\n",
        "26258943 >CAE22\n",
        "\n",
        "27524192 NNNNNNNNNNNNNNNNNNNNNNNNNNNNNNNNNNNNNNNNNNNN\n",
        "\n",
        "27524193 >CAE23\n",
        "\n",
        "28559516 NNNNNNNNNNNNNNNNNNNNNNNNNNNNNNNNNNNNNNNNNNNN\n",
        "\n",
        "28559517 >CAE24\n",
        "\n",
        "29621179 NNNNNNNNNNNNNNNNNNNNNNN\n",
        "\n",
        "29621180 >CAE25\n",
        "\n",
        "30693521 NNNNNNNNNNNNNNNNNNNNNNNNNNNNNNNNNNNNNNNN\n",
        "\n",
        "30693522 >CAE26\n",
        "\n",
        "31420169 NNNNNNNNNNNNNNNNNTGGTGCTTTNTNNNN\n",
        "\n",
        "31420170 >CAE27\n",
        "\n",
        "32027013 NNNNNNNNNNNNNNNNNNNNNN\n",
        "\n",
        "32027014 >CAE28\n",
        "\n",
        "32296162 NNNNNNNNNNNNNNNNNNNNNNNNNNNNNNNNNNNNNNNNNN\n",
        "\n",
        "32296163 >CAE29\n",
        "\n",
        "32598742 NNNNNNNNNNNNNNNNNNNNNNNNNNNNNNNNNNNN\n",
        "\n",
        "32598743 >CAEX\n",
        "\n",
        "34224221 NNNNNNNNNNNNNNNNNNNNNNNNNNNNNNNNNNNNNNNNNNNNNNNNNNNNNNNNNNNNNNNNNNNNNNNN\n",
        "\n",
        "34224222 >CAEY\n",
        "\n",
        "34301488 NNNNNNNNNNNNNNNNNNN\n",
        "\n"
       ]
      }
     ],
     "prompt_number": 17
    },
    {
     "cell_type": "code",
     "collapsed": false,
     "input": [],
     "language": "python",
     "metadata": {},
     "outputs": []
    }
   ],
   "metadata": {}
  }
 ]
}