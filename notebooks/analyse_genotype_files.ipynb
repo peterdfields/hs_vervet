{
 "metadata": {
  "name": "analyse_genotype_files"
 },
 "nbformat": 3,
 "nbformat_minor": 0,
 "worksheets": [
  {
   "cells": [
    {
     "cell_type": "code",
     "collapsed": false,
     "input": [
      "import pandas as pd\n",
      "import os,sys\n",
      "sys.path.insert(0, os.path.expanduser('~/lib/python'))\n",
      "sys.path.insert(0, os.path.join(os.path.expanduser('~/script')))\n",
      "from hs_vervet.tools import hs_vervet_basics as hvb"
     ],
     "language": "python",
     "metadata": {},
     "outputs": [],
     "prompt_number": 8
    },
    {
     "cell_type": "code",
     "collapsed": false,
     "input": [
      "pd.set_option('display.height', 500)\n",
      "pd.set_option('display.max_rows', 500)"
     ],
     "language": "python",
     "metadata": {},
     "outputs": [],
     "prompt_number": 9
    },
    {
     "cell_type": "code",
     "collapsed": false,
     "input": [
      "pd.set_option?"
     ],
     "language": "python",
     "metadata": {},
     "outputs": [],
     "prompt_number": 10
    },
    {
     "cell_type": "code",
     "collapsed": false,
     "input": [
      "def _sw(df, up_rows=10, down_rows=5, left_cols=4, right_cols=3, return_df=False):\n",
      "    ''' display df data at four corners\n",
      "        A,B (up_pt)\n",
      "        C,D (down_pt)\n",
      "        parameters : up_rows=10, down_rows=5, left_cols=4, right_cols=3\n",
      "        usage:\n",
      "            df = pd.DataFrame(np.random.randn(20,10), columns=list('ABCDEFGHIJKLMN')[0:10])\n",
      "            df.sw(5,2,3,2)\n",
      "            df1 = df.set_index(['A','B'], drop=True, inplace=False)\n",
      "            df1.sw(5,2,3,2)\n",
      "    '''\n",
      "    #pd.set_printoptions(max_columns = 80, max_rows = 40)\n",
      "    ncol, nrow = len(df.columns), len(df)\n",
      "\n",
      "    # handle columns\n",
      "    if ncol <= (left_cols + right_cols) :\n",
      "        up_pt = df.ix[0:up_rows, :]         # screen width can contain all columns\n",
      "        down_pt = df.ix[-down_rows:, :]\n",
      "    else:                                   # screen width can not contain all columns\n",
      "        pt_a = df.ix[0:up_rows,  0:left_cols]\n",
      "        pt_b = df.ix[0:up_rows,  -right_cols:]\n",
      "        pt_c = df[-down_rows:].ix[:,0:left_cols]\n",
      "        pt_d = df[-down_rows:].ix[:,-right_cols:]\n",
      "\n",
      "        up_pt   = pt_a.join(pt_b, how='inner')\n",
      "        down_pt = pt_c.join(pt_d, how='inner')\n",
      "        up_pt.insert(left_cols, '..', '..')\n",
      "        down_pt.insert(left_cols, '..', '..')\n",
      "\n",
      "    overlap_qty = len(up_pt) + len(down_pt) - len(df)\n",
      "    down_pt = down_pt.drop(down_pt.index[range(overlap_qty)]) # remove overlap rows\n",
      "\n",
      "    dt_str_list = down_pt.to_string().split('\\n') # transfer down_pt to string list\n",
      "\n",
      "    # Display up part data\n",
      "    print up_pt\n",
      "\n",
      "    start_row = (1 if df.index.names[0] is None else 2) # start from 1 if without index\n",
      "\n",
      "    # Display omit line if screen height is not enought to display all rows\n",
      "    if overlap_qty < 0:\n",
      "        print \".\" * len(dt_str_list[start_row])\n",
      "\n",
      "    # Display down part data row by row\n",
      "    for line in dt_str_list[start_row:]:\n",
      "        print line\n",
      "\n",
      "    # Display foot note\n",
      "    print \"\\n\"\n",
      "    print \"Index :\",df.index.names\n",
      "    print \"Column:\",\",\".join(list(df.columns.values))\n",
      "    print \"row: %d    col: %d\"%(len(df), len(df.columns))\n",
      "    print \"\\n\"\n",
      "\n",
      "    return (df if return_df else None)\n",
      "pd.DataFrame.sw = _sw  #add a method to DataFrame class"
     ],
     "language": "python",
     "metadata": {},
     "outputs": [],
     "prompt_number": 14
    },
    {
     "cell_type": "code",
     "collapsed": false,
     "input": [
      "def plt_sfs(chromosome,method=233):\n",
      "    fname=os.path.expanduser(\"~/vervet_data/hs_data/genotype_method_{0}/genotype_mat_ancestral_m{0}_{1}.tsv\".format(method,chromosome))\n",
      "    metafname=os.path.expanduser(\"~/vervet_data/metadata/genotype_method_{0}/snp_metadata_m{0}_{1}.tsv\".format(method,chromosome))\n",
      "    genmat=hvb.read_genotype(fname)\n",
      "    metamat=pd.read_csv(metafname,index_col=0,sep='\\t')\n",
      "    nonref_anc=(metamat['ancestral']==metamat['alt'])\n",
      "    af=genmat.mean(axis=1)\n",
      "    af_nr=af*(1-nonref_anc)+(1-af)*nonref_anc\n",
      "    return (hist(af,bins=100),hist(af_nr,bins=100))"
     ],
     "language": "python",
     "metadata": {},
     "outputs": [],
     "prompt_number": 42
    },
    {
     "cell_type": "code",
     "collapsed": false,
     "input": [
      "method=233\n",
      "chromosome='CAE1'\n",
      "metafname=os.path.expanduser(\"~/vervet_data/metadata/genotype_method_{0}/snp_metadata_m{0}_{1}.tsv\".format(method,chromosome))\n",
      "metamat=pd.read_csv(metafname,index_col=0,sep='\\t')"
     ],
     "language": "python",
     "metadata": {},
     "outputs": [
      {
       "ename": "ValueError",
       "evalue": "Expected 2 fields in line 2, saw 119",
       "output_type": "pyerr",
       "traceback": [
        "\u001b[1;31m---------------------------------------------------------------------------\u001b[0m\n\u001b[1;31mValueError\u001b[0m                                Traceback (most recent call last)",
        "\u001b[1;32m<ipython-input-38-173de1a7004a>\u001b[0m in \u001b[0;36m<module>\u001b[1;34m()\u001b[0m\n\u001b[0;32m      2\u001b[0m \u001b[0mchromosome\u001b[0m\u001b[1;33m=\u001b[0m\u001b[1;34m'CAE1'\u001b[0m\u001b[1;33m\u001b[0m\u001b[0m\n\u001b[0;32m      3\u001b[0m \u001b[0mmetafname\u001b[0m\u001b[1;33m=\u001b[0m\u001b[0mos\u001b[0m\u001b[1;33m.\u001b[0m\u001b[0mpath\u001b[0m\u001b[1;33m.\u001b[0m\u001b[0mexpanduser\u001b[0m\u001b[1;33m(\u001b[0m\u001b[1;34m\"~/vervet_data/metadata/genotype_method_{0}/snp_metadata_m{0}_{1}.tsv\"\u001b[0m\u001b[1;33m.\u001b[0m\u001b[0mformat\u001b[0m\u001b[1;33m(\u001b[0m\u001b[0mmethod\u001b[0m\u001b[1;33m,\u001b[0m\u001b[0mchromosome\u001b[0m\u001b[1;33m)\u001b[0m\u001b[1;33m)\u001b[0m\u001b[1;33m\u001b[0m\u001b[0m\n\u001b[1;32m----> 4\u001b[1;33m \u001b[0mmetamat\u001b[0m\u001b[1;33m=\u001b[0m\u001b[0mpd\u001b[0m\u001b[1;33m.\u001b[0m\u001b[0mread_csv\u001b[0m\u001b[1;33m(\u001b[0m\u001b[0mmetafname\u001b[0m\u001b[1;33m,\u001b[0m\u001b[0mindex_col\u001b[0m\u001b[1;33m=\u001b[0m\u001b[1;36m0\u001b[0m\u001b[1;33m,\u001b[0m\u001b[0msep\u001b[0m\u001b[1;33m=\u001b[0m\u001b[1;34m'\\d'\u001b[0m\u001b[1;33m)\u001b[0m\u001b[1;33m\u001b[0m\u001b[0m\n\u001b[0m",
        "\u001b[1;32m/net/gmi.oeaw.ac.at/nordborg/user/hannes.svardal/Downloads/pandas-0.12.0/pandas/io/parsers.pyc\u001b[0m in \u001b[0;36mparser_f\u001b[1;34m(filepath_or_buffer, sep, dialect, compression, doublequote, escapechar, quotechar, quoting, skipinitialspace, lineterminator, header, index_col, names, prefix, skiprows, skipfooter, skip_footer, na_values, na_fvalues, true_values, false_values, delimiter, converters, dtype, usecols, engine, delim_whitespace, as_recarray, na_filter, compact_ints, use_unsigned, low_memory, buffer_lines, warn_bad_lines, error_bad_lines, keep_default_na, thousands, comment, decimal, parse_dates, keep_date_col, dayfirst, date_parser, memory_map, nrows, iterator, chunksize, verbose, encoding, squeeze, mangle_dupe_cols, tupleize_cols)\u001b[0m\n\u001b[0;32m    398\u001b[0m             )\n\u001b[0;32m    399\u001b[0m \u001b[1;33m\u001b[0m\u001b[0m\n\u001b[1;32m--> 400\u001b[1;33m         \u001b[1;32mreturn\u001b[0m \u001b[0m_read\u001b[0m\u001b[1;33m(\u001b[0m\u001b[0mfilepath_or_buffer\u001b[0m\u001b[1;33m,\u001b[0m \u001b[0mkwds\u001b[0m\u001b[1;33m)\u001b[0m\u001b[1;33m\u001b[0m\u001b[0m\n\u001b[0m\u001b[0;32m    401\u001b[0m \u001b[1;33m\u001b[0m\u001b[0m\n\u001b[0;32m    402\u001b[0m     \u001b[0mparser_f\u001b[0m\u001b[1;33m.\u001b[0m\u001b[0m__name__\u001b[0m \u001b[1;33m=\u001b[0m \u001b[0mname\u001b[0m\u001b[1;33m\u001b[0m\u001b[0m\n",
        "\u001b[1;32m/net/gmi.oeaw.ac.at/nordborg/user/hannes.svardal/Downloads/pandas-0.12.0/pandas/io/parsers.pyc\u001b[0m in \u001b[0;36m_read\u001b[1;34m(filepath_or_buffer, kwds)\u001b[0m\n\u001b[0;32m    203\u001b[0m         \u001b[1;32mreturn\u001b[0m \u001b[0mparser\u001b[0m\u001b[1;33m\u001b[0m\u001b[0m\n\u001b[0;32m    204\u001b[0m \u001b[1;33m\u001b[0m\u001b[0m\n\u001b[1;32m--> 205\u001b[1;33m     \u001b[1;32mreturn\u001b[0m \u001b[0mparser\u001b[0m\u001b[1;33m.\u001b[0m\u001b[0mread\u001b[0m\u001b[1;33m(\u001b[0m\u001b[1;33m)\u001b[0m\u001b[1;33m\u001b[0m\u001b[0m\n\u001b[0m\u001b[0;32m    206\u001b[0m \u001b[1;33m\u001b[0m\u001b[0m\n\u001b[0;32m    207\u001b[0m _parser_defaults = {\n",
        "\u001b[1;32m/net/gmi.oeaw.ac.at/nordborg/user/hannes.svardal/Downloads/pandas-0.12.0/pandas/io/parsers.pyc\u001b[0m in \u001b[0;36mread\u001b[1;34m(self, nrows)\u001b[0m\n\u001b[0;32m    606\u001b[0m             \u001b[1;31m#     self._engine.set_error_bad_lines(False)\u001b[0m\u001b[1;33m\u001b[0m\u001b[1;33m\u001b[0m\u001b[0m\n\u001b[0;32m    607\u001b[0m \u001b[1;33m\u001b[0m\u001b[0m\n\u001b[1;32m--> 608\u001b[1;33m         \u001b[0mret\u001b[0m \u001b[1;33m=\u001b[0m \u001b[0mself\u001b[0m\u001b[1;33m.\u001b[0m\u001b[0m_engine\u001b[0m\u001b[1;33m.\u001b[0m\u001b[0mread\u001b[0m\u001b[1;33m(\u001b[0m\u001b[0mnrows\u001b[0m\u001b[1;33m)\u001b[0m\u001b[1;33m\u001b[0m\u001b[0m\n\u001b[0m\u001b[0;32m    609\u001b[0m \u001b[1;33m\u001b[0m\u001b[0m\n\u001b[0;32m    610\u001b[0m         \u001b[1;32mif\u001b[0m \u001b[0mself\u001b[0m\u001b[1;33m.\u001b[0m\u001b[0moptions\u001b[0m\u001b[1;33m.\u001b[0m\u001b[0mget\u001b[0m\u001b[1;33m(\u001b[0m\u001b[1;34m'as_recarray'\u001b[0m\u001b[1;33m)\u001b[0m\u001b[1;33m:\u001b[0m\u001b[1;33m\u001b[0m\u001b[0m\n",
        "\u001b[1;32m/net/gmi.oeaw.ac.at/nordborg/user/hannes.svardal/Downloads/pandas-0.12.0/pandas/io/parsers.pyc\u001b[0m in \u001b[0;36mread\u001b[1;34m(self, rows)\u001b[0m\n\u001b[0;32m   1356\u001b[0m             \u001b[0mcontent\u001b[0m \u001b[1;33m=\u001b[0m \u001b[0mcontent\u001b[0m\u001b[1;33m[\u001b[0m\u001b[1;36m1\u001b[0m\u001b[1;33m:\u001b[0m\u001b[1;33m]\u001b[0m\u001b[1;33m\u001b[0m\u001b[0m\n\u001b[0;32m   1357\u001b[0m \u001b[1;33m\u001b[0m\u001b[0m\n\u001b[1;32m-> 1358\u001b[1;33m         \u001b[0malldata\u001b[0m \u001b[1;33m=\u001b[0m \u001b[0mself\u001b[0m\u001b[1;33m.\u001b[0m\u001b[0m_rows_to_cols\u001b[0m\u001b[1;33m(\u001b[0m\u001b[0mcontent\u001b[0m\u001b[1;33m)\u001b[0m\u001b[1;33m\u001b[0m\u001b[0m\n\u001b[0m\u001b[0;32m   1359\u001b[0m         \u001b[0mdata\u001b[0m \u001b[1;33m=\u001b[0m \u001b[0mself\u001b[0m\u001b[1;33m.\u001b[0m\u001b[0m_exclude_implicit_index\u001b[0m\u001b[1;33m(\u001b[0m\u001b[0malldata\u001b[0m\u001b[1;33m)\u001b[0m\u001b[1;33m\u001b[0m\u001b[0m\n\u001b[0;32m   1360\u001b[0m \u001b[1;33m\u001b[0m\u001b[0m\n",
        "\u001b[1;32m/net/gmi.oeaw.ac.at/nordborg/user/hannes.svardal/Downloads/pandas-0.12.0/pandas/io/parsers.pyc\u001b[0m in \u001b[0;36m_rows_to_cols\u001b[1;34m(self, content)\u001b[0m\n\u001b[0;32m   1596\u001b[0m             msg = ('Expected %d fields in line %d, saw %d' %\n\u001b[0;32m   1597\u001b[0m                    (col_len, row_num + 1, zip_len))\n\u001b[1;32m-> 1598\u001b[1;33m             \u001b[1;32mraise\u001b[0m \u001b[0mValueError\u001b[0m\u001b[1;33m(\u001b[0m\u001b[0mmsg\u001b[0m\u001b[1;33m)\u001b[0m\u001b[1;33m\u001b[0m\u001b[0m\n\u001b[0m\u001b[0;32m   1599\u001b[0m \u001b[1;33m\u001b[0m\u001b[0m\n\u001b[0;32m   1600\u001b[0m         \u001b[1;32mreturn\u001b[0m \u001b[0mzipped_content\u001b[0m\u001b[1;33m\u001b[0m\u001b[0m\n",
        "\u001b[1;31mValueError\u001b[0m: Expected 2 fields in line 2, saw 119"
       ]
      }
     ],
     "prompt_number": 38
    },
    {
     "cell_type": "code",
     "collapsed": false,
     "input": [
      "bar(p1[1][:-1],p1[0],width=p1[1][1:]-p1[1][:-1])"
     ],
     "language": "python",
     "metadata": {},
     "outputs": [
      {
       "output_type": "pyout",
       "prompt_number": 32,
       "text": [
        "<Container object of 100 artists>"
       ]
      },
      {
       "output_type": "display_data",
       "png": "[encoded data removed]"
      }
     ],
     "prompt_number": 32
    },
    {
     "cell_type": "code",
     "collapsed": false,
     "input": [
      "df_fn"
     ],
     "language": "python",
     "metadata": {},
     "outputs": []
    },
    {
     "cell_type": "code",
     "collapsed": false,
     "input": [
      "import pandas.core.common as com\n",
      "class GenotypeDF(pd.DataFrame):\n",
      "    def __init__(self, *args, **kwargs):\n",
      "        super(GenotypeDF, self).__init__(*args, **kwargs)\n",
      "        \n",
      "    def take(self, indices, axis=0, convert=True):\n",
      "        \"\"\" \n",
      "        Analogous to ndarray.take, return DataFrame corresponding to requested\n",
      "        indices along an axis\n",
      " \n",
      "        Parameters\n",
      "        ----------\n",
      "        indices : list / array of ints\n",
      "        axis : {0, 1}\n",
      "        convert : convert indices for negative values, check bounds, default True\n",
      "                  mainly useful for an user routine calling\n",
      "   \n",
      "        Returns\n",
      "        -------\n",
      "        taken : DataFrame\n",
      "        \"\"\" \n",
      "  \n",
      "        # check/convert indicies here\n",
      "        if convert:\n",
      "            axis = self._get_axis_number(axis)\n",
      "            indices = _maybe_convert_indices(indices, len(self._get_axis(axis)))\n",
      "        if self._is_mixed_type:\n",
      "            if axis == 0:\n",
      "                new_data = self._data.take(indices, axis=1, verify=False)\n",
      "                return DataFrame(new_data)\n",
      "            else:\n",
      "                new_columns = self.columns.take(indices)\n",
      "                return self.reindex(columns=new_columns)\n",
      "        else:\n",
      "            new_values = com.take_nd(self.values,\n",
      "                                     com._ensure_int64(indices),\n",
      "                                     axis=axis)\n",
      "            if axis == 0:\n",
      "                new_columns = self.columns\n",
      "                new_index = self.index.take(indices)\n",
      "            else:\n",
      "                new_columns = self.columns.take(indices)\n",
      "                new_index = self.index\n",
      "            return GenotypeDF(new_values, index=new_index,\n",
      "                             columns=new_columns)"
     ],
     "language": "python",
     "metadata": {},
     "outputs": [],
     "prompt_number": 38
    },
    {
     "cell_type": "code",
     "collapsed": false,
     "input": [
      "x = GenotypeDF({'a':[1,2,3],'b':[4,5,6]},index=[4,8,9])"
     ],
     "language": "python",
     "metadata": {},
     "outputs": [],
     "prompt_number": 39
    },
    {
     "cell_type": "code",
     "collapsed": false,
     "input": [
      "import pickle"
     ],
     "language": "python",
     "metadata": {},
     "outputs": [],
     "prompt_number": 43
    },
    {
     "cell_type": "heading",
     "level": 2,
     "metadata": {},
     "source": [
      "Analyse 20131118_SNP_calling_10X_individuals_GATK"
     ]
    },
    {
     "cell_type": "code",
     "collapsed": false,
     "input": [
      "from hs_vervet.tools import genotype_tsv as gt"
     ],
     "language": "python",
     "metadata": {},
     "outputs": [],
     "prompt_number": 145
    },
    {
     "cell_type": "code",
     "collapsed": false,
     "input": [
      "chromosomes = ['CAE' + str(i) for i in (range(1,30)+['X','Y'])]"
     ],
     "language": "python",
     "metadata": {},
     "outputs": [],
     "prompt_number": 44
    },
    {
     "cell_type": "code",
     "collapsed": false,
     "input": [
      "chrom_length = [chrom_metadata['length'].ix[chrom] for chrom in chromosomes]"
     ],
     "language": "python",
     "metadata": {},
     "outputs": [],
     "prompt_number": 219
    },
    {
     "cell_type": "code",
     "collapsed": false,
     "input": [
      "chrom_length"
     ],
     "language": "python",
     "metadata": {},
     "outputs": [
      {
       "output_type": "pyout",
       "prompt_number": 220,
       "text": [
        "[126035930,\n",
        " 90373283,\n",
        " 92142175,\n",
        " 91010382,\n",
        " 75399963,\n",
        " 50890351,\n",
        " 135778131,\n",
        " 139301422,\n",
        " 125710982,\n",
        " 128595539,\n",
        " 128539186,\n",
        " 108555830,\n",
        " 98384682,\n",
        " 107702431,\n",
        " 91754291,\n",
        " 75148670,\n",
        " 71996105,\n",
        " 72318688,\n",
        " 33263144,\n",
        " 130588469,\n",
        " 127223203,\n",
        " 101219884,\n",
        " 82825804,\n",
        " 84932903,\n",
        " 85787240,\n",
        " 58131712,\n",
        " 48547382,\n",
        " 21531802,\n",
        " 24206276,\n",
        " 130038232,\n",
        " 6181219]"
       ]
      }
     ],
     "prompt_number": 220
    },
    {
     "cell_type": "code",
     "collapsed": false,
     "input": [
      "chrom = \"CAE28\""
     ],
     "language": "python",
     "metadata": {},
     "outputs": [],
     "prompt_number": 45
    },
    {
     "cell_type": "code",
     "collapsed": false,
     "input": [
      "ana_dir = os.path.expanduser('~/vervet_project/analyses/20131118_SNP_calling_10X_individuals_GATK/_data')"
     ],
     "language": "python",
     "metadata": {},
     "outputs": [],
     "prompt_number": 46
    },
    {
     "cell_type": "code",
     "collapsed": false,
     "input": [
      "vcf_stats_fn = os.path.join(ana_dir,\"vcf_stats_{}.pickle\")\n"
     ],
     "language": "python",
     "metadata": {},
     "outputs": [],
     "prompt_number": 142
    },
    {
     "cell_type": "code",
     "collapsed": false,
     "input": [
      "chrom_metadata=pd.read_csv(os.path.expanduser('~/vervet_project/metadata/ref_3488.tsv'),sep='\\t',index_col=0)"
     ],
     "language": "python",
     "metadata": {},
     "outputs": [],
     "prompt_number": 110
    },
    {
     "cell_type": "heading",
     "level": 3,
     "metadata": {},
     "source": [
      "some stats"
     ]
    },
    {
     "cell_type": "code",
     "collapsed": false,
     "input": [
      "stats = []\n",
      "for chrom in chromosomes:\n",
      "    stat_dict = pickle.load(open(vcf_stats_fn.format(chrom)))\n",
      "    stat_dict.update({'chrom_length':chrom_metadata['length'].ix[chrom]})\n",
      "    stats.append(stat_dict)\n",
      "    "
     ],
     "language": "python",
     "metadata": {},
     "outputs": [],
     "prompt_number": 119
    },
    {
     "cell_type": "code",
     "collapsed": false,
     "input": [
      "total_snps = reduce(lambda x,y:x+y,[d['snps'] for d in stats],0)\n",
      "pass_snps = reduce(lambda x,y:x+y,[d['pass'] for d in stats],0)\n",
      "pass_ancestral_known = reduce(lambda x,y:x+y,[d['pass_ancestral_known'] for d in stats],0)"
     ],
     "language": "python",
     "metadata": {},
     "outputs": [],
     "prompt_number": 125
    },
    {
     "cell_type": "code",
     "collapsed": false,
     "input": [
      "density = [d['pass_ancestral_known']*1./d['chrom_length'] for d in stats]"
     ],
     "language": "python",
     "metadata": {},
     "outputs": [],
     "prompt_number": 128
    },
    {
     "cell_type": "code",
     "collapsed": false,
     "input": [
      "#snp density for each chromosome:\n",
      "density, total_density"
     ],
     "language": "python",
     "metadata": {},
     "outputs": [
      {
       "output_type": "pyout",
       "prompt_number": 139,
       "text": [
        "([0.0080895424027100839,\n",
        "  0.0079254396456970577,\n",
        "  0.0097307774642827784,\n",
        "  0.009625879825446727,\n",
        "  0.008687961823005139,\n",
        "  0.0077593687652105208,\n",
        "  0.0089233442166028933,\n",
        "  0.0092466320982710435,\n",
        "  0.00890562608125995,\n",
        "  0.0088783717450727426,\n",
        "  0.0085213547252430862,\n",
        "  0.0084508865161825025,\n",
        "  0.0085887455528900324,\n",
        "  0.0086341969384145095,\n",
        "  0.009196387338440663,\n",
        "  0.0074577766978444196,\n",
        "  0.0096868434757685848,\n",
        "  0.0089943833051838555,\n",
        "  0.0086321064539178864,\n",
        "  0.0080854305750379836,\n",
        "  0.0088804005351130807,\n",
        "  0.0084794505395797536,\n",
        "  0.0089130073521532013,\n",
        "  0.0083321065806499037,\n",
        "  0.0087601839154634181,\n",
        "  0.0085636046638364952,\n",
        "  0.0093812473760171034,\n",
        "  0.0092425613053658956,\n",
        "  0.0090556267308527748,\n",
        "  0.0059911765026150155,\n",
        "  0.00047450187414488956],\n",
        " 0.0085787561133578039)"
       ]
      }
     ],
     "prompt_number": 139
    },
    {
     "cell_type": "code",
     "collapsed": false,
     "input": [
      "#snp every x basepairs, with x =\n",
      "[1/d for d in density],1/total_density"
     ],
     "language": "python",
     "metadata": {},
     "outputs": [
      {
       "output_type": "pyout",
       "prompt_number": 141,
       "text": [
        "([123.61638646766833,\n",
        "  126.17596558733848,\n",
        "  102.76671146478701,\n",
        "  103.88660757600836,\n",
        "  115.10179491719994,\n",
        "  128.8764627972761,\n",
        "  112.06560855731495,\n",
        "  108.14748433507832,\n",
        "  112.28856802154465,\n",
        "  112.6332652780588,\n",
        "  117.35223239066289,\n",
        "  118.33078081040514,\n",
        "  116.43143854267628,\n",
        "  115.81853033151097,\n",
        "  108.73835161553338,\n",
        "  134.0882196552007,\n",
        "  103.2328025637533,\n",
        "  111.18049632415114,\n",
        "  115.84657873932107,\n",
        "  123.67925130509234,\n",
        "  112.60753341541326,\n",
        "  117.93216970041559,\n",
        "  112.19557669930794,\n",
        "  120.01766783952974,\n",
        "  114.15285451197055,\n",
        "  116.77325603585254,\n",
        "  106.59563274671468,\n",
        "  108.19511680376264,\n",
        "  110.42857990082254,\n",
        "  166.91212478275713,\n",
        "  2107.4732355949541],\n",
        " 116.56701586875988)"
       ]
      }
     ],
     "prompt_number": 141
    },
    {
     "cell_type": "code",
     "collapsed": false,
     "input": [
      "total_density = reduce(lambda x,y:x+y,[d['pass_ancestral_known'] for d in stats],0)*1./reduce(lambda x,y:x+y,[d['chrom_length'] for d in stats],0)"
     ],
     "language": "python",
     "metadata": {},
     "outputs": [],
     "prompt_number": 138
    },
    {
     "cell_type": "code",
     "collapsed": false,
     "input": [
      "pass_ancestral_known"
     ],
     "language": "python",
     "metadata": {},
     "outputs": [
      {
       "output_type": "pyout",
       "prompt_number": 126,
       "text": [
        "23541096"
       ]
      }
     ],
     "prompt_number": 126
    },
    {
     "cell_type": "heading",
     "level": 3,
     "metadata": {},
     "source": [
      "analyse genotype tsv"
     ]
    },
    {
     "cell_type": "code",
     "collapsed": false,
     "input": [
      "import itertools"
     ],
     "language": "python",
     "metadata": {},
     "outputs": [],
     "prompt_number": 159
    },
    {
     "cell_type": "code",
     "collapsed": false,
     "input": [
      "genotype_tsv_fn = os.path.join(ana_dir,\"GATK_UnifiedGenotyper_5_10X_individuals_{}_callable_filter_anc.tsv\")"
     ],
     "language": "python",
     "metadata": {},
     "outputs": []
    },
    {
     "cell_type": "code",
     "collapsed": false,
     "input": [
      "ind_meta_df = pd.read_csv(os.path.expanduser('~/vervet_project/metadata/163_population_ucla_id_taxon.csv'),index_col=0)"
     ],
     "language": "python",
     "metadata": {},
     "outputs": [],
     "prompt_number": 189
    },
    {
     "cell_type": "code",
     "collapsed": false,
     "input": [
      "chrom = 'CAE28'"
     ],
     "language": "python",
     "metadata": {},
     "outputs": [],
     "prompt_number": 143
    },
    {
     "cell_type": "code",
     "collapsed": false,
     "input": [
      "gt_df = gt.load(genotype_tsv_fn.format(chrom))"
     ],
     "language": "python",
     "metadata": {},
     "outputs": [],
     "prompt_number": 150
    },
    {
     "cell_type": "code",
     "collapsed": false,
     "input": [
      "ucla_ids = [i[0] for i in gt_df.columns if i[1]=='0']"
     ],
     "language": "python",
     "metadata": {},
     "outputs": [],
     "prompt_number": 190
    },
    {
     "cell_type": "code",
     "collapsed": false,
     "input": [
      "species = [ind_meta_df.ix[ucla_id]['name_txt'].split(' ')[-1] for ucla_id in ucla_ids]"
     ],
     "language": "python",
     "metadata": {},
     "outputs": [],
     "prompt_number": 201
    },
    {
     "cell_type": "code",
     "collapsed": false,
     "input": [],
     "language": "python",
     "metadata": {},
     "outputs": [
      {
       "output_type": "pyout",
       "prompt_number": 202,
       "text": [
        "['sabaeus', 'tantalus', 'cynosurus', 'pygerythrus', 'aethiops']"
       ]
      }
     ],
     "prompt_number": 202
    },
    {
     "cell_type": "code",
     "collapsed": false,
     "input": [
      "z=gt_df.sum(axis=0).groupby(level=0)"
     ],
     "language": "python",
     "metadata": {},
     "outputs": [
      {
       "output_type": "stream",
       "stream": "stdout",
       "text": [
        "<pandas.core.groupby.SeriesGroupBy object at 0xfdbc850>\n"
       ]
      }
     ],
     "prompt_number": 434
    },
    {
     "cell_type": "code",
     "collapsed": false,
     "input": [
      "#sabaeus seems closest to macaque (is there a reference bias?)\n",
      "print gt_df.sum(axis=0).groupby(level=0).sum()"
     ],
     "language": "python",
     "metadata": {},
     "outputs": [
      {
       "output_type": "stream",
       "stream": "stdout",
       "text": [
        "AG5417      197848\n",
        "AGM141      201483\n",
        "VEC1016     204195\n",
        "VGA00006    160753\n",
        "VZA3008     196191\n",
        "dtype: float64\n"
       ]
      }
     ],
     "prompt_number": 435
    },
    {
     "cell_type": "code",
     "collapsed": false,
     "input": [
      "def derived_alleles(gt_df):\n",
      "    return gt_df.sum(axis=0).groupby(level=0).sum()\n",
      "    "
     ],
     "language": "python",
     "metadata": {},
     "outputs": [],
     "prompt_number": 437
    },
    {
     "cell_type": "code",
     "collapsed": false,
     "input": [
      "def afs(gt_df):\n",
      "    catgs = gt_df.shape[1]\n",
      "    bins = np.arange(0.5,catgs+1)\n",
      "    ac=gt_df.sum(axis=1)\n",
      "    hist, _ = numpy.histogram(afs,bins=bins)"
     ],
     "language": "python",
     "metadata": {},
     "outputs": []
    },
    {
     "cell_type": "code",
     "collapsed": false,
     "input": [
      "afs = gt_df.mean(axis=1)"
     ],
     "language": "python",
     "metadata": {},
     "outputs": [],
     "prompt_number": 231
    },
    {
     "cell_type": "code",
     "collapsed": false,
     "input": [
      "gt_df.shape"
     ],
     "language": "python",
     "metadata": {},
     "outputs": [
      {
       "output_type": "pyout",
       "prompt_number": 239,
       "text": [
        "(189924, 10)"
       ]
      }
     ],
     "prompt_number": 239
    },
    {
     "cell_type": "code",
     "collapsed": false,
     "input": [
      "bins = np.arange(0.5,gt_df.shape[1]+1,1)"
     ],
     "language": "python",
     "metadata": {},
     "outputs": [],
     "prompt_number": 280
    },
    {
     "cell_type": "code",
     "collapsed": false,
     "input": [
      "bins"
     ],
     "language": "python",
     "metadata": {},
     "outputs": [
      {
       "output_type": "pyout",
       "prompt_number": 258,
       "text": [
        "array([ 0.05,  0.15,  0.25,  0.35,  0.45,  0.55,  0.65,  0.75,  0.85,\n",
        "        0.95,  1.05])"
       ]
      }
     ],
     "prompt_number": 258
    },
    {
     "cell_type": "code",
     "collapsed": false,
     "input": [
      "hist, bins = numpy.histogram(gt_df.sum(axis=1))"
     ],
     "language": "python",
     "metadata": {},
     "outputs": [],
     "prompt_number": 283
    },
    {
     "cell_type": "code",
     "collapsed": false,
     "input": [
      "bins"
     ],
     "language": "python",
     "metadata": {},
     "outputs": [
      {
       "output_type": "pyout",
       "prompt_number": 284,
       "text": [
        "array([  1. ,   1.9,   2.8,   3.7,   4.6,   5.5,   6.4,   7.3,   8.2,\n",
        "         9.1,  10. ])"
       ]
      }
     ],
     "prompt_number": 284
    },
    {
     "cell_type": "code",
     "collapsed": false,
     "input": [
      "width = 0.9 * (bins[1] - bins[0])\n",
      "center = (bins[:-1] + bins[1:]) / 2\n",
      "plt.bar(center,hist,align='center', width=width)"
     ],
     "language": "python",
     "metadata": {},
     "outputs": [
      {
       "output_type": "pyout",
       "prompt_number": 282,
       "text": [
        "<Container object of 10 artists>"
       ]
      },
      {
       "output_type": "display_data",
       "png": "[encoded data removed]"
      }
     ],
     "prompt_number": 282
    },
    {
     "cell_type": "code",
     "collapsed": false,
     "input": [
      "bins"
     ],
     "language": "python",
     "metadata": {},
     "outputs": [
      {
       "output_type": "pyout",
       "prompt_number": 279,
       "text": [
        "array([  0.5,   1.5,   2.5,   3.5,   4.5,   5.5,   6.5,   7.5,   8.5,\n",
        "         9.5,  10.5])"
       ]
      }
     ],
     "prompt_number": 279
    },
    {
     "cell_type": "code",
     "collapsed": false,
     "input": [
      "def pairwise_difference_mat(gt_df):\n",
      "    def diff(a,b):\n",
      "        return (a-b).abs().sum()\n",
      "    ids = [i[0] for i in gt_df.columns if i[1]=='0']\n",
      "    mat = pd.DataFrame(index=ids,columns=ids)\n",
      "    for tpl in itertools.combinations(ids,2):\n",
      "        mat[tpl[0]].ix[tpl[1]] = 1./4*(diff(gt_df[tpl[0],'0'],gt_df[tpl[1],'0'])+diff(gt_df[tpl[0],'1'],gt_df[tpl[1],'0'])+diff(gt_df[tpl[0],'1'],gt_df[tpl[1],'1'])+diff(gt_df[tpl[0],'0'],gt_df[tpl[1],'1']))\n",
      "    for id0 in ids:\n",
      "        mat[id0].ix[id0] = diff(gt_df[id0,'0'],gt_df[id0,'1'])\n",
      "    for tpl in itertools.combinations(ids,2):\n",
      "        mat[tpl[1]].ix[tpl[0]] = mat[tpl[0]].ix[tpl[1]]\n",
      "    mat.rename(index={i:s for i,s in zip(ids,species)},columns={i:s for i,s in zip(ids,species)},inplace=True)\n",
      "    return mat"
     ],
     "language": "python",
     "metadata": {},
     "outputs": [],
     "prompt_number": 216
    },
    {
     "cell_type": "code",
     "collapsed": false,
     "input": [
      "def chrom_sum(prepare_funs):\n",
      "    chromosomes = ['CAE' + str(i) for i in (range(1,30)+['X','Y'])]\n",
      "    chrom_length = np.array([126035930, 90373283, 92142175, 91010382, 75399963, 50890351, 135778131, 139301422, 125710982, 128595539,\n",
      " 128539186, 108555830, 98384682, 107702431, 91754291, 75148670, 71996105, 72318688, 33263144, 130588469, 127223203,\n",
      " 101219884, 82825804, 84932903, 85787240, 58131712, 48547382, 21531802, 24206276, 130038232, 6181219])\n",
      "    \n",
      "    results0 = []\n",
      "    for chrom in chromosomes:\n",
      "        gt_df = gt.load(genotype_tsv_fn.format(chrom))\n",
      "        results1 = []\n",
      "        for fun in prepare_funs:\n",
      "            results1.append(fun(gt_df))\n",
      "        results0.append(results1)\n",
      "    #reduce\n",
      "    total_result = []\n",
      "    for i in range(len(results1)):\n",
      "        total_result.append(reduce(lambda x,y: x+y, [results0[chro][i] for chro in range(len(results0))],0))\n",
      "        #reduce(lambda x,y: x+y, [results0[chro][i]*chrom_length[chro] for chro in enumerate(results0)],0)/sum(chrom_length)\n",
      "    return total_result\n",
      "        "
     ],
     "language": "python",
     "metadata": {},
     "outputs": [],
     "prompt_number": 438
    },
    {
     "cell_type": "code",
     "collapsed": false,
     "input": [
      "derived_alleles = chrom_sum([derived_alleles])[0]"
     ],
     "language": "python",
     "metadata": {},
     "outputs": [],
     "prompt_number": 439
    },
    {
     "cell_type": "code",
     "collapsed": false,
     "input": [
      "derived_alleles.rename({i:s for i,s in zip([i[0] for i in gt_df.columns if i[1]=='0'],species)},inplace=True)"
     ],
     "language": "python",
     "metadata": {},
     "outputs": [],
     "prompt_number": 443
    },
    {
     "cell_type": "code",
     "collapsed": false,
     "input": [
      "derived_alleles"
     ],
     "language": "python",
     "metadata": {},
     "outputs": [
      {
       "output_type": "pyout",
       "prompt_number": 444,
       "text": [
        "pygerythrus    21671207\n",
        "tantalus       21149282\n",
        "aethiops       22381478\n",
        "sabaeus        16878688\n",
        "cynosurus      21288282\n",
        "dtype: float64"
       ]
      }
     ],
     "prompt_number": 444
    },
    {
     "cell_type": "code",
     "collapsed": false,
     "input": [
      "total_pw_diff=chrom_weighted_average([pairwise_difference_mat])"
     ],
     "language": "python",
     "metadata": {},
     "outputs": [],
     "prompt_number": 228
    },
    {
     "cell_type": "code",
     "collapsed": false,
     "input": [
      "total_pw_diff[0].to_csv(os.path.join(ana_dir,\"total_pairwise_dist.tsv\"),sep='\\t')"
     ],
     "language": "python",
     "metadata": {},
     "outputs": [],
     "prompt_number": 230
    },
    {
     "cell_type": "code",
     "collapsed": false,
     "input": [
      "N_effective = pd.Series(index=total_pw_diff[0].index)\n",
      "for i in N_effective.index.values:\n",
      "    N_effective.loc[i] = total_pw_diff[0].loc[i,i]*1./(4*1.5*10**(-8)*2.5*10**9)"
     ],
     "language": "python",
     "metadata": {},
     "outputs": [],
     "prompt_number": 416
    },
    {
     "cell_type": "code",
     "collapsed": false,
     "input": [
      "print N_effective.apply(lambda x: round(x/1000.)*1000)"
     ],
     "language": "python",
     "metadata": {},
     "outputs": [
      {
       "output_type": "stream",
       "stream": "stdout",
       "text": [
        "sabaeus        24000\n",
        "tantalus       32000\n",
        "cynosurus      25000\n",
        "pygerythrus    32000\n",
        "aethiops       16000\n",
        "dtype: float64\n"
       ]
      }
     ],
     "prompt_number": 420
    },
    {
     "cell_type": "code",
     "collapsed": false,
     "input": [],
     "language": "python",
     "metadata": {},
     "outputs": []
    }
   ],
   "metadata": {}
  }
 ]
}