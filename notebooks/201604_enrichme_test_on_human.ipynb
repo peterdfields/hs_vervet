{
 "cells": [
  {
   "cell_type": "code",
   "execution_count": 1,
   "metadata": {
    "collapsed": true
   },
   "outputs": [],
   "source": [
    "import os, ast\n",
    "import pandas as pd\n",
    "import numpy as np\n",
    "import scipy\n",
    "import matplotlib\n",
    "import matplotlib as mpl\n",
    "from matplotlib import pyplot as plt\n",
    "import itertools as it\n",
    "import colorbrewer\n",
    "import json\n",
    "import collections\n",
    "from hs_vervet.tools import hs_pandas as hpd\n",
    "\n",
    "eu = os.path.expanduser\n",
    "jn = os.path.join\n",
    "meta_dir = eu(\"~/vervet_project/metadata\")\n",
    "var_ana_dir = eu(\"~/vervet_project/analyses/20150504_163_UnifiedGenotyper/_data\")\n",
    "manuscript_dir = eu(\"~/VervetPopgen/Manuscript/VervetPopgen_man\")\n",
    "manuscript_dir2 = eu(\"~/VervetPopgen/Manuscript/VervetPopgen_man_0_2\")\n",
    "man_ana_dir = eu(\"~/vervet_project/analyses/20150520_popgen_analysis_UG/_data\")\n",
    "xpclr_ana_dir = eu(\"~/vervet_project/analyses/20150528_UG_xpclr/_data\") \n",
    "assoc_dir = eu(\"~/vervet_project/data/gene_associations\")\n",
    "figure_dir = eu(\"~/VervetPopgen/Figures\")\n",
    "google_xpclr_dir = eu(\"~/hannes.svardal@gmail.com/Nordborg lab/Vervet monkeys/GMI_vervetpopgen_log/data/xpclr\")\n",
    "vervet_drive_dir = eu(\"~/Akademisches/Projects/VervetPopgen\")\n",
    "google_man_dir = \"/home/GMI/hannes.svardal/hannes.svardal@gmail.com/Nordborg lab/Vervet monkeys/GMI_vervetpopgen_log/manuscript/163_pop_manuscript/\"\n",
    "ballet_dir = eu(\"~/vervet_project/analyses/20150601_UG_ballet/_data\")\n",
    "pops = [\"aet\",\"cyn\",\"pyg\",\"sab\",\"tan\"]\n",
    "colors = json.load(open(jn(meta_dir,'colors.json')))"
   ]
  },
  {
   "cell_type": "code",
   "execution_count": 10,
   "metadata": {
    "collapsed": false
   },
   "outputs": [],
   "source": [
    "from enrichme import enrichme as em\n",
    "from enrichme import pandas_util as pu"
   ]
  },
  {
   "cell_type": "code",
   "execution_count": null,
   "metadata": {
    "collapsed": true
   },
   "outputs": [],
   "source": []
  },
  {
   "cell_type": "markdown",
   "metadata": {},
   "source": [
    "## Test different methods with random scores that are in LD"
   ]
  },
  {
   "cell_type": "code",
   "execution_count": null,
   "metadata": {
    "collapsed": true
   },
   "outputs": [],
   "source": []
  },
  {
   "cell_type": "code",
   "execution_count": null,
   "metadata": {
    "collapsed": true
   },
   "outputs": [],
   "source": []
  },
  {
   "cell_type": "markdown",
   "metadata": {},
   "source": [
    "## Denisovan admixture"
   ]
  },
  {
   "cell_type": "code",
   "execution_count": 5,
   "metadata": {
    "collapsed": false
   },
   "outputs": [],
   "source": [
    "denisovan_s = pd.read_csv(eu(\"~/Akademisches/Projects/Enrichme/Test_data/Denisowan_admixture/Denisovan_scores_hannes.bed\"), sep=\"\\t\",index_col=[0,1],\n",
    "               usecols=[0,1,3],squeeze=True,header=False,names=[\"chrom\",\"pos\",\"score\"])"
   ]
  },
  {
   "cell_type": "code",
   "execution_count": 51,
   "metadata": {
    "collapsed": false
   },
   "outputs": [],
   "source": [
    "human_gene_df = pd.read_csv(eu(\"~/vervet_project/data/other_species/human/human_gene_positions_hg38.5.tsv\"),\n",
    "                            sep='\\t',names=['chrom','start','end','gene_symbol','ensembl_id'],skiprows=1)\n",
    "human_gene_df_chrom = human_gene_df[human_gene_df['chrom'].apply(lambda s: s in [str(i) for i in range(1,24)] + ['X'])]\n",
    "human_gene_df_chrom['chrom'] = human_gene_df_chrom['chrom'].apply(lambda s: 'chr'+s)\n",
    "human_gene_df_chrom.set_index(['chrom','start'],inplace=True)"
   ]
  },
  {
   "cell_type": "code",
   "execution_count": 87,
   "metadata": {
    "collapsed": false
   },
   "outputs": [
    {
     "data": {
      "text/html": [
       "<div style=\"max-height:1000px;max-width:1500px;overflow:auto;\">\n",
       "<table border=\"1\" class=\"dataframe\">\n",
       "  <thead>\n",
       "    <tr style=\"text-align: right;\">\n",
       "      <th></th>\n",
       "      <th>chrom</th>\n",
       "      <th>start</th>\n",
       "      <th>end</th>\n",
       "      <th>ensembl_id</th>\n",
       "    </tr>\n",
       "    <tr>\n",
       "      <th>gene_symbol</th>\n",
       "      <th></th>\n",
       "      <th></th>\n",
       "      <th></th>\n",
       "      <th></th>\n",
       "    </tr>\n",
       "  </thead>\n",
       "  <tbody>\n",
       "    <tr>\n",
       "      <th>OR1D2</th>\n",
       "      <td> chr17</td>\n",
       "      <td>  3092058</td>\n",
       "      <td>  3092996</td>\n",
       "      <td> ENSG00000184166</td>\n",
       "    </tr>\n",
       "    <tr>\n",
       "      <th>OR2B6</th>\n",
       "      <td>  chr6</td>\n",
       "      <td> 27957241</td>\n",
       "      <td> 27958182</td>\n",
       "      <td> ENSG00000124657</td>\n",
       "    </tr>\n",
       "  </tbody>\n",
       "</table>\n",
       "</div>"
      ],
      "text/plain": [
       "             chrom     start       end       ensembl_id\n",
       "gene_symbol                                            \n",
       "OR1D2        chr17   3092058   3092996  ENSG00000184166\n",
       "OR2B6         chr6  27957241  27958182  ENSG00000124657"
      ]
     },
     "execution_count": 87,
     "metadata": {},
     "output_type": "execute_result"
    }
   ],
   "source": [
    "human_gene_df_chrom.reset_index().set_index('gene_symbol').ix[['OR1D2','OR2B6']]"
   ]
  },
  {
   "cell_type": "code",
   "execution_count": 68,
   "metadata": {
    "collapsed": false
   },
   "outputs": [],
   "source": [
    "with open(eu(\"~/VervetPopgen/scratch/all_human_genes_enembl.txt\"),'w') as f:\n",
    "    for g in human_gene_df_chrom[\"ensembl_id\"].values:\n",
    "        f.write(g+'\\n')"
   ]
  },
  {
   "cell_type": "markdown",
   "metadata": {},
   "source": [
    "### define a cutoff"
   ]
  },
  {
   "cell_type": "code",
   "execution_count": 97,
   "metadata": {
    "collapsed": false
   },
   "outputs": [],
   "source": [
    "cutoff = 5\n",
    "top_s = denisovan_s[denisovan_s>cutoff]\n",
    "candidate_list = pu.get_features(top_s,human_gene_df_chrom,max_dist=5000,feature_name=\"ensembl_id\")\n",
    "with open(eu(\"~/VervetPopgen/scratch/denisova_gt_{}.txt\".format(cutoff)),'w') as f:\n",
    "    for g in candidate_list:\n",
    "        f.write(g+'\\n')"
   ]
  },
  {
   "cell_type": "code",
   "execution_count": 93,
   "metadata": {
    "collapsed": false
   },
   "outputs": [
    {
     "data": {
      "text/plain": [
       "0.13769536364755341"
      ]
     },
     "execution_count": 93,
     "metadata": {},
     "output_type": "execute_result"
    }
   ],
   "source": [
    "np.random.rand()"
   ]
  },
  {
   "cell_type": "code",
   "execution_count": 106,
   "metadata": {
    "collapsed": false
   },
   "outputs": [
    {
     "name": "stdout",
     "output_type": "stream",
     "text": [
      "0.345538163364\n"
     ]
    }
   ],
   "source": [
    "cutoff = 5\n",
    "shift = np.random.rand()\n",
    "print shift\n",
    "shift_s = em.shift_rod(denisovan_s, np.random.rand())\n",
    "top_s = shift_s[shift_s>cutoff]\n",
    "candidate_list = pu.get_features(top_s,human_gene_df_chrom,max_dist=5000,feature_name=\"ensembl_id\")\n",
    "with open(eu(\"~/VervetPopgen/scratch/denisova_shift_gt_{}.txt\".format(cutoff)),'w') as f:\n",
    "    for g in candidate_list:\n",
    "        f.write(g+'\\n')"
   ]
  },
  {
   "cell_type": "code",
   "execution_count": 103,
   "metadata": {
    "collapsed": false
   },
   "outputs": [],
   "source": [
    "denisova_score_per_gene = pu.data_per_feature(denisovan_s,human_gene_df_chrom, feature_name='ensembl_id')"
   ]
  },
  {
   "cell_type": "code",
   "execution_count": 79,
   "metadata": {
    "collapsed": false
   },
   "outputs": [],
   "source": [
    "max_per_gene = denisova_score_per_gene.groupby(\"ensembl_id\").max()\n",
    "mean_per_gene = denisova_score_per_gene.groupby(\"ensembl_id\").mean()"
   ]
  },
  {
   "cell_type": "code",
   "execution_count": 84,
   "metadata": {
    "collapsed": false
   },
   "outputs": [],
   "source": [
    "with open(eu(\"~/VervetPopgen/scratch/human_ranked_by_denisowa_score_max.txt\"),'w') as f:\n",
    "    f.write(\"\\n\".join(max_per_gene.sort(\"score\",ascending=False,inplace=False).index)+'\\n')"
   ]
  },
  {
   "cell_type": "code",
   "execution_count": 85,
   "metadata": {
    "collapsed": true
   },
   "outputs": [],
   "source": [
    "with open(eu(\"~/VervetPopgen/scratch/human_ranked_by_denisowa_score_mean.txt\"),'w') as f:\n",
    "    f.write(\"\\n\".join(mean_per_gene.sort(\"score\",ascending=False,inplace=False).index)+'\\n')"
   ]
  },
  {
   "cell_type": "markdown",
   "metadata": {},
   "source": [
    "## UK 10k GWAS"
   ]
  },
  {
   "cell_type": "code",
   "execution_count": 110,
   "metadata": {
    "collapsed": false
   },
   "outputs": [],
   "source": [
    "gwas_s = pd.read_csv(eu(\"~/Akademisches/Projects/Enrichme/Test_data/human_gwas/HDL.bedGraph\"),\n",
    "                     sep='\\t',usecols=[0,1,3],names=['chrom','pos','score'],squeeze=True, index_col=[0,1])"
   ]
  },
  {
   "cell_type": "code",
   "execution_count": 114,
   "metadata": {
    "collapsed": false
   },
   "outputs": [],
   "source": [
    "cutoff = 5\n",
    "top_s = gwas_s[gwas_s>cutoff]\n",
    "candidate_list = pu.get_features(top_s,human_gene_df_chrom,max_dist=5000,feature_name=\"ensembl_id\")\n",
    "with open(eu(\"~/VervetPopgen/scratch/hdl_gt_{}.txt\".format(cutoff)),'w') as f:\n",
    "    for g in candidate_list:\n",
    "        f.write(g+'\\n')"
   ]
  },
  {
   "cell_type": "code",
   "execution_count": 115,
   "metadata": {
    "collapsed": false
   },
   "outputs": [
    {
     "data": {
      "text/plain": [
       "65"
      ]
     },
     "execution_count": 115,
     "metadata": {},
     "output_type": "execute_result"
    }
   ],
   "source": [
    "len(candidate_list)"
   ]
  },
  {
   "cell_type": "code",
   "execution_count": null,
   "metadata": {
    "collapsed": true
   },
   "outputs": [],
   "source": []
  }
 ],
 "metadata": {
  "kernelspec": {
   "display_name": "Python 2",
   "language": "python",
   "name": "python2"
  },
  "language_info": {
   "codemirror_mode": {
    "name": "ipython",
    "version": 2
   },
   "file_extension": ".py",
   "mimetype": "text/x-python",
   "name": "python",
   "nbconvert_exporter": "python",
   "pygments_lexer": "ipython2",
   "version": "2.7.3"
  }
 },
 "nbformat": 4,
 "nbformat_minor": 0
}
