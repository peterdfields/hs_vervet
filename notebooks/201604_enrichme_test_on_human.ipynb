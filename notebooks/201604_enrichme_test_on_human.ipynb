{
 "cells": [
  {
   "cell_type": "code",
   "execution_count": 62,
   "metadata": {
    "collapsed": true
   },
   "outputs": [],
   "source": [
    "%matplotlib inline"
   ]
  },
  {
   "cell_type": "code",
   "execution_count": 58,
   "metadata": {
    "collapsed": false
   },
   "outputs": [],
   "source": [
    "import os, ast\n",
    "import pandas as pd\n",
    "import numpy as np\n",
    "import scipy\n",
    "import matplotlib\n",
    "import matplotlib as mpl\n",
    "from matplotlib import pyplot as plt\n",
    "import itertools as it\n",
    "import colorbrewer\n",
    "import json\n",
    "import collections\n",
    "from hs_vervet.tools import hs_pandas as hpd\n",
    "\n",
    "eu = os.path.expanduser\n",
    "jn = os.path.join\n",
    "meta_dir = eu(\"~/vervet_project/metadata\")\n",
    "var_ana_dir = eu(\"~/vervet_project/analyses/20150504_163_UnifiedGenotyper/_data\")\n",
    "manuscript_dir = eu(\"~/VervetPopgen/Manuscript/VervetPopgen_man\")\n",
    "manuscript_dir2 = eu(\"~/VervetPopgen/Manuscript/VervetPopgen_man_0_2\")\n",
    "man_ana_dir = eu(\"~/vervet_project/analyses/20150520_popgen_analysis_UG/_data\")\n",
    "xpclr_ana_dir = eu(\"~/vervet_project/analyses/20150528_UG_xpclr/_data\") \n",
    "assoc_dir = eu(\"~/vervet_project/data/gene_associations\")\n",
    "figure_dir = eu(\"~/VervetPopgen/Figures\")\n",
    "google_xpclr_dir = eu(\"~/hannes.svardal@gmail.com/Nordborg lab/Vervet monkeys/GMI_vervetpopgen_log/data/xpclr\")\n",
    "vervet_drive_dir = eu(\"~/Akademisches/Projects/VervetPopgen\")\n",
    "google_man_dir = \"/home/GMI/hannes.svardal/hannes.svardal@gmail.com/Nordborg lab/Vervet monkeys/GMI_vervetpopgen_log/manuscript/163_pop_manuscript/\"\n",
    "ballet_dir = eu(\"~/vervet_project/analyses/20150601_UG_ballet/_data\")\n",
    "pops = [\"aet\",\"cyn\",\"pyg\",\"sab\",\"tan\"]\n",
    "colors = json.load(open(jn(meta_dir,'colors.json')))\n",
    "\n",
    "chrom_len = pd.read_csv(jn(meta_dir,\"human_hg38.5_chrom_len.tsv\"),sep='\\t',usecols=[0,1],squeeze=True,index_col=0)"
   ]
  },
  {
   "cell_type": "code",
   "execution_count": 53,
   "metadata": {
    "collapsed": false
   },
   "outputs": [],
   "source": [
    "#reformat chrom_len\n",
    "#chrom_len = pd.read_csv(jn(meta_dir,\"human_hg38.5_chrom_len.tsv\"),sep=r\"\\s*\")\n",
    "#chrom_len[\"length\"] = chrom_len[\"length\"].apply(lambda s: int(s.replace(',', '')))\n",
    "#chrom_len.to_csv(jn(meta_dir,\"human_hg38.5_chrom_len.tsv\"),sep='\\t',index=False)"
   ]
  },
  {
   "cell_type": "code",
   "execution_count": 57,
   "metadata": {
    "collapsed": false
   },
   "outputs": [],
   "source": []
  },
  {
   "cell_type": "code",
   "execution_count": 31,
   "metadata": {
    "collapsed": false
   },
   "outputs": [],
   "source": [
    "from enrichme import enrichme as em\n",
    "from enrichme import pandas_util as pu\n",
    "from pypopgen.plot import genomeplot as gp"
   ]
  },
  {
   "cell_type": "code",
   "execution_count": null,
   "metadata": {
    "collapsed": true
   },
   "outputs": [],
   "source": []
  },
  {
   "cell_type": "code",
   "execution_count": 6,
   "metadata": {
    "collapsed": true
   },
   "outputs": [],
   "source": [
    "#human_gene_df = pd.read_csv(eu(\"~/vervet_project/data/other_species/human/human_gene_positions_hg38.5.tsv\"),\n",
    "#                            sep='\\t',names=['chrom','start','end','gene_symbol','ensembl_id'],skiprows=1)\n",
    "#human_gene_df_chrom = human_gene_df[human_gene_df['chrom'].apply(lambda s: s in [str(i) for i in range(1,24)] + ['X'])]\n",
    "#human_gene_df_chrom['chrom'] = human_gene_df_chrom['chrom'].apply(lambda s: 'chr'+s)\n",
    "#human_gene_df_chrom.set_index(['chrom','start'],inplace=True)"
   ]
  },
  {
   "cell_type": "code",
   "execution_count": 86,
   "metadata": {
    "collapsed": false
   },
   "outputs": [],
   "source": [
    "human_gene_df_chrom_s = human_gene_df_chrom.reset_index().set_index(\"gene_symbol\")"
   ]
  },
  {
   "cell_type": "code",
   "execution_count": 30,
   "metadata": {
    "collapsed": true
   },
   "outputs": [],
   "source": [
    "#human_gene_df_chrom.to_csv(eu(\"~/vervet_project/data/other_species/human/human_gene_positions_hg38.5_chroms.tsv\"),sep='\\t')"
   ]
  },
  {
   "cell_type": "code",
   "execution_count": 19,
   "metadata": {
    "collapsed": true
   },
   "outputs": [],
   "source": [
    "#go_to_name = pd.read_csv(eu(\"~/vervet_project/data/other_species/human/gene_associations/go_to_name.tsv\"),sep='\\t')\n",
    "#go_to_name.drop_duplicates(inplace=True)\n",
    "#go_to_name.to_csv(eu(\"~/vervet_project/data/other_species/human/gene_associations/go_to_name.tsv\"),sep='\\t',index=False)"
   ]
  },
  {
   "cell_type": "code",
   "execution_count": 24,
   "metadata": {
    "collapsed": false
   },
   "outputs": [],
   "source": [
    "ensembl_id_to_go = pd.read_csv(open(eu(\"~/vervet_project/data/other_species/human/gene_associations/ensembl_id_to_go.tsv\"),'r'),\n",
    "                                  usecols=['Ensembl Gene ID', 'GO Term Accession'],sep='\\t')"
   ]
  },
  {
   "cell_type": "code",
   "execution_count": 197,
   "metadata": {
    "collapsed": true
   },
   "outputs": [],
   "source": [
    "import re"
   ]
  },
  {
   "cell_type": "code",
   "execution_count": 198,
   "metadata": {
    "collapsed": false
   },
   "outputs": [],
   "source": [
    "rod = gwas_s\n",
    "chrom_ix = rod.index.droplevel(1)\n",
    "chrom_split = np.array([re.findall('\\d+|\\D+', s) for s in chrom_ix])"
   ]
  },
  {
   "cell_type": "code",
   "execution_count": 199,
   "metadata": {
    "collapsed": false
   },
   "outputs": [
    {
     "data": {
      "text/plain": [
       "array([['chr', '1'], ['chr', '1'], ['chr', '1'], ..., ['chrX'], ['chrX'],\n",
       "       ['chrX']], dtype=object)"
      ]
     },
     "execution_count": 199,
     "metadata": {},
     "output_type": "execute_result"
    }
   ],
   "source": [
    "chrom_split[]"
   ]
  },
  {
   "cell_type": "code",
   "execution_count": 25,
   "metadata": {
    "collapsed": false
   },
   "outputs": [
    {
     "data": {
      "text/html": [
       "<div style=\"max-height:1000px;max-width:1500px;overflow:auto;\">\n",
       "<table border=\"1\" class=\"dataframe\">\n",
       "  <thead>\n",
       "    <tr style=\"text-align: right;\">\n",
       "      <th></th>\n",
       "      <th>Ensembl Gene ID</th>\n",
       "      <th>GO Term Accession</th>\n",
       "    </tr>\n",
       "  </thead>\n",
       "  <tbody>\n",
       "    <tr>\n",
       "      <th>0     </th>\n",
       "      <td> ENSG00000198888</td>\n",
       "      <td> GO:0005747</td>\n",
       "    </tr>\n",
       "    <tr>\n",
       "      <th>1     </th>\n",
       "      <td> ENSG00000198888</td>\n",
       "      <td> GO:0005747</td>\n",
       "    </tr>\n",
       "    <tr>\n",
       "      <th>2     </th>\n",
       "      <td> ENSG00000198888</td>\n",
       "      <td> GO:0044281</td>\n",
       "    </tr>\n",
       "    <tr>\n",
       "      <th>3     </th>\n",
       "      <td> ENSG00000198888</td>\n",
       "      <td> GO:0005515</td>\n",
       "    </tr>\n",
       "    <tr>\n",
       "      <th>4     </th>\n",
       "      <td> ENSG00000198888</td>\n",
       "      <td> GO:0022904</td>\n",
       "    </tr>\n",
       "    <tr>\n",
       "      <th>5     </th>\n",
       "      <td> ENSG00000198888</td>\n",
       "      <td> GO:0008137</td>\n",
       "    </tr>\n",
       "    <tr>\n",
       "      <th>6     </th>\n",
       "      <td> ENSG00000198888</td>\n",
       "      <td> GO:0006120</td>\n",
       "    </tr>\n",
       "    <tr>\n",
       "      <th>7     </th>\n",
       "      <td> ENSG00000198888</td>\n",
       "      <td> GO:0005743</td>\n",
       "    </tr>\n",
       "    <tr>\n",
       "      <th>8     </th>\n",
       "      <td> ENSG00000198888</td>\n",
       "      <td> GO:0031966</td>\n",
       "    </tr>\n",
       "    <tr>\n",
       "      <th>9     </th>\n",
       "      <td> ENSG00000198888</td>\n",
       "      <td> GO:0044237</td>\n",
       "    </tr>\n",
       "    <tr>\n",
       "      <th>10    </th>\n",
       "      <td> ENSG00000198888</td>\n",
       "      <td> GO:0055114</td>\n",
       "    </tr>\n",
       "    <tr>\n",
       "      <th>11    </th>\n",
       "      <td> ENSG00000198888</td>\n",
       "      <td> GO:0016020</td>\n",
       "    </tr>\n",
       "    <tr>\n",
       "      <th>12    </th>\n",
       "      <td> ENSG00000198888</td>\n",
       "      <td> GO:0016021</td>\n",
       "    </tr>\n",
       "    <tr>\n",
       "      <th>13    </th>\n",
       "      <td> ENSG00000198888</td>\n",
       "      <td> GO:0005739</td>\n",
       "    </tr>\n",
       "    <tr>\n",
       "      <th>14    </th>\n",
       "      <td> ENSG00000198888</td>\n",
       "      <td> GO:0014070</td>\n",
       "    </tr>\n",
       "    <tr>\n",
       "      <th>15    </th>\n",
       "      <td> ENSG00000198888</td>\n",
       "      <td> GO:0030425</td>\n",
       "    </tr>\n",
       "    <tr>\n",
       "      <th>16    </th>\n",
       "      <td> ENSG00000198888</td>\n",
       "      <td> GO:0042493</td>\n",
       "    </tr>\n",
       "    <tr>\n",
       "      <th>17    </th>\n",
       "      <td> ENSG00000198888</td>\n",
       "      <td> GO:0043025</td>\n",
       "    </tr>\n",
       "    <tr>\n",
       "      <th>18    </th>\n",
       "      <td> ENSG00000198888</td>\n",
       "      <td> GO:0033194</td>\n",
       "    </tr>\n",
       "    <tr>\n",
       "      <th>19    </th>\n",
       "      <td> ENSG00000198763</td>\n",
       "      <td> GO:0005747</td>\n",
       "    </tr>\n",
       "    <tr>\n",
       "      <th>20    </th>\n",
       "      <td> ENSG00000198763</td>\n",
       "      <td> GO:0005747</td>\n",
       "    </tr>\n",
       "    <tr>\n",
       "      <th>21    </th>\n",
       "      <td> ENSG00000198763</td>\n",
       "      <td> GO:0044281</td>\n",
       "    </tr>\n",
       "    <tr>\n",
       "      <th>22    </th>\n",
       "      <td> ENSG00000198763</td>\n",
       "      <td> GO:0022904</td>\n",
       "    </tr>\n",
       "    <tr>\n",
       "      <th>23    </th>\n",
       "      <td> ENSG00000198763</td>\n",
       "      <td> GO:0008137</td>\n",
       "    </tr>\n",
       "    <tr>\n",
       "      <th>24    </th>\n",
       "      <td> ENSG00000198763</td>\n",
       "      <td> GO:0008137</td>\n",
       "    </tr>\n",
       "    <tr>\n",
       "      <th>25    </th>\n",
       "      <td> ENSG00000198763</td>\n",
       "      <td> GO:0006120</td>\n",
       "    </tr>\n",
       "    <tr>\n",
       "      <th>26    </th>\n",
       "      <td> ENSG00000198763</td>\n",
       "      <td> GO:0006120</td>\n",
       "    </tr>\n",
       "    <tr>\n",
       "      <th>27    </th>\n",
       "      <td> ENSG00000198763</td>\n",
       "      <td> GO:0005743</td>\n",
       "    </tr>\n",
       "    <tr>\n",
       "      <th>28    </th>\n",
       "      <td> ENSG00000198763</td>\n",
       "      <td> GO:0044237</td>\n",
       "    </tr>\n",
       "    <tr>\n",
       "      <th>29    </th>\n",
       "      <td> ENSG00000198763</td>\n",
       "      <td> GO:0055114</td>\n",
       "    </tr>\n",
       "    <tr>\n",
       "      <th>...</th>\n",
       "      <td>...</td>\n",
       "      <td>...</td>\n",
       "    </tr>\n",
       "    <tr>\n",
       "      <th>852532</th>\n",
       "      <td> ENSG00000282966</td>\n",
       "      <td> GO:0055114</td>\n",
       "    </tr>\n",
       "    <tr>\n",
       "      <th>852533</th>\n",
       "      <td> ENSG00000282966</td>\n",
       "      <td> GO:0020037</td>\n",
       "    </tr>\n",
       "    <tr>\n",
       "      <th>852534</th>\n",
       "      <td> ENSG00000282966</td>\n",
       "      <td> GO:0016705</td>\n",
       "    </tr>\n",
       "    <tr>\n",
       "      <th>852535</th>\n",
       "      <td> ENSG00000282966</td>\n",
       "      <td> GO:0005506</td>\n",
       "    </tr>\n",
       "    <tr>\n",
       "      <th>852536</th>\n",
       "      <td> ENSG00000283008</td>\n",
       "      <td>        NaN</td>\n",
       "    </tr>\n",
       "    <tr>\n",
       "      <th>852537</th>\n",
       "      <td> ENSG00000283008</td>\n",
       "      <td>        NaN</td>\n",
       "    </tr>\n",
       "    <tr>\n",
       "      <th>852538</th>\n",
       "      <td> ENSG00000283008</td>\n",
       "      <td>        NaN</td>\n",
       "    </tr>\n",
       "    <tr>\n",
       "      <th>852539</th>\n",
       "      <td> ENSG00000283008</td>\n",
       "      <td> GO:0055114</td>\n",
       "    </tr>\n",
       "    <tr>\n",
       "      <th>852540</th>\n",
       "      <td> ENSG00000283008</td>\n",
       "      <td> GO:0020037</td>\n",
       "    </tr>\n",
       "    <tr>\n",
       "      <th>852541</th>\n",
       "      <td> ENSG00000283008</td>\n",
       "      <td> GO:0016705</td>\n",
       "    </tr>\n",
       "    <tr>\n",
       "      <th>852542</th>\n",
       "      <td> ENSG00000283008</td>\n",
       "      <td> GO:0005506</td>\n",
       "    </tr>\n",
       "    <tr>\n",
       "      <th>852543</th>\n",
       "      <td> ENSG00000283008</td>\n",
       "      <td> GO:0055114</td>\n",
       "    </tr>\n",
       "    <tr>\n",
       "      <th>852544</th>\n",
       "      <td> ENSG00000283008</td>\n",
       "      <td> GO:0020037</td>\n",
       "    </tr>\n",
       "    <tr>\n",
       "      <th>852545</th>\n",
       "      <td> ENSG00000283008</td>\n",
       "      <td> GO:0016705</td>\n",
       "    </tr>\n",
       "    <tr>\n",
       "      <th>852546</th>\n",
       "      <td> ENSG00000283008</td>\n",
       "      <td> GO:0005506</td>\n",
       "    </tr>\n",
       "    <tr>\n",
       "      <th>852547</th>\n",
       "      <td> ENSG00000282892</td>\n",
       "      <td> GO:0005515</td>\n",
       "    </tr>\n",
       "    <tr>\n",
       "      <th>852548</th>\n",
       "      <td> ENSG00000282892</td>\n",
       "      <td> GO:0008270</td>\n",
       "    </tr>\n",
       "    <tr>\n",
       "      <th>852549</th>\n",
       "      <td> ENSG00000282892</td>\n",
       "      <td> GO:0005515</td>\n",
       "    </tr>\n",
       "    <tr>\n",
       "      <th>852550</th>\n",
       "      <td> ENSG00000282892</td>\n",
       "      <td> GO:0008270</td>\n",
       "    </tr>\n",
       "    <tr>\n",
       "      <th>852551</th>\n",
       "      <td> ENSG00000282892</td>\n",
       "      <td> GO:0005515</td>\n",
       "    </tr>\n",
       "    <tr>\n",
       "      <th>852552</th>\n",
       "      <td> ENSG00000282892</td>\n",
       "      <td> GO:0008270</td>\n",
       "    </tr>\n",
       "    <tr>\n",
       "      <th>852553</th>\n",
       "      <td> ENSG00000282892</td>\n",
       "      <td>        NaN</td>\n",
       "    </tr>\n",
       "    <tr>\n",
       "      <th>852554</th>\n",
       "      <td> ENSG00000282981</td>\n",
       "      <td> GO:0055114</td>\n",
       "    </tr>\n",
       "    <tr>\n",
       "      <th>852555</th>\n",
       "      <td> ENSG00000282981</td>\n",
       "      <td> GO:0020037</td>\n",
       "    </tr>\n",
       "    <tr>\n",
       "      <th>852556</th>\n",
       "      <td> ENSG00000282981</td>\n",
       "      <td> GO:0016705</td>\n",
       "    </tr>\n",
       "    <tr>\n",
       "      <th>852557</th>\n",
       "      <td> ENSG00000282981</td>\n",
       "      <td> GO:0005506</td>\n",
       "    </tr>\n",
       "    <tr>\n",
       "      <th>852558</th>\n",
       "      <td> ENSG00000282981</td>\n",
       "      <td> GO:0055114</td>\n",
       "    </tr>\n",
       "    <tr>\n",
       "      <th>852559</th>\n",
       "      <td> ENSG00000282981</td>\n",
       "      <td> GO:0020037</td>\n",
       "    </tr>\n",
       "    <tr>\n",
       "      <th>852560</th>\n",
       "      <td> ENSG00000282981</td>\n",
       "      <td> GO:0016705</td>\n",
       "    </tr>\n",
       "    <tr>\n",
       "      <th>852561</th>\n",
       "      <td> ENSG00000282981</td>\n",
       "      <td> GO:0005506</td>\n",
       "    </tr>\n",
       "  </tbody>\n",
       "</table>\n",
       "<p>852562 rows × 2 columns</p>\n",
       "</div>"
      ],
      "text/plain": [
       "        Ensembl Gene ID GO Term Accession\n",
       "0       ENSG00000198888        GO:0005747\n",
       "1       ENSG00000198888        GO:0005747\n",
       "2       ENSG00000198888        GO:0044281\n",
       "3       ENSG00000198888        GO:0005515\n",
       "4       ENSG00000198888        GO:0022904\n",
       "5       ENSG00000198888        GO:0008137\n",
       "6       ENSG00000198888        GO:0006120\n",
       "7       ENSG00000198888        GO:0005743\n",
       "8       ENSG00000198888        GO:0031966\n",
       "9       ENSG00000198888        GO:0044237\n",
       "10      ENSG00000198888        GO:0055114\n",
       "11      ENSG00000198888        GO:0016020\n",
       "12      ENSG00000198888        GO:0016021\n",
       "13      ENSG00000198888        GO:0005739\n",
       "14      ENSG00000198888        GO:0014070\n",
       "15      ENSG00000198888        GO:0030425\n",
       "16      ENSG00000198888        GO:0042493\n",
       "17      ENSG00000198888        GO:0043025\n",
       "18      ENSG00000198888        GO:0033194\n",
       "19      ENSG00000198763        GO:0005747\n",
       "20      ENSG00000198763        GO:0005747\n",
       "21      ENSG00000198763        GO:0044281\n",
       "22      ENSG00000198763        GO:0022904\n",
       "23      ENSG00000198763        GO:0008137\n",
       "24      ENSG00000198763        GO:0008137\n",
       "25      ENSG00000198763        GO:0006120\n",
       "26      ENSG00000198763        GO:0006120\n",
       "27      ENSG00000198763        GO:0005743\n",
       "28      ENSG00000198763        GO:0044237\n",
       "29      ENSG00000198763        GO:0055114\n",
       "...                 ...               ...\n",
       "852532  ENSG00000282966        GO:0055114\n",
       "852533  ENSG00000282966        GO:0020037\n",
       "852534  ENSG00000282966        GO:0016705\n",
       "852535  ENSG00000282966        GO:0005506\n",
       "852536  ENSG00000283008               NaN\n",
       "852537  ENSG00000283008               NaN\n",
       "852538  ENSG00000283008               NaN\n",
       "852539  ENSG00000283008        GO:0055114\n",
       "852540  ENSG00000283008        GO:0020037\n",
       "852541  ENSG00000283008        GO:0016705\n",
       "852542  ENSG00000283008        GO:0005506\n",
       "852543  ENSG00000283008        GO:0055114\n",
       "852544  ENSG00000283008        GO:0020037\n",
       "852545  ENSG00000283008        GO:0016705\n",
       "852546  ENSG00000283008        GO:0005506\n",
       "852547  ENSG00000282892        GO:0005515\n",
       "852548  ENSG00000282892        GO:0008270\n",
       "852549  ENSG00000282892        GO:0005515\n",
       "852550  ENSG00000282892        GO:0008270\n",
       "852551  ENSG00000282892        GO:0005515\n",
       "852552  ENSG00000282892        GO:0008270\n",
       "852553  ENSG00000282892               NaN\n",
       "852554  ENSG00000282981        GO:0055114\n",
       "852555  ENSG00000282981        GO:0020037\n",
       "852556  ENSG00000282981        GO:0016705\n",
       "852557  ENSG00000282981        GO:0005506\n",
       "852558  ENSG00000282981        GO:0055114\n",
       "852559  ENSG00000282981        GO:0020037\n",
       "852560  ENSG00000282981        GO:0016705\n",
       "852561  ENSG00000282981        GO:0005506\n",
       "\n",
       "[852562 rows x 2 columns]"
      ]
     },
     "execution_count": 25,
     "metadata": {},
     "output_type": "execute_result"
    }
   ],
   "source": [
    "import re\n",
    "def num_sort_chrom_index(rod):\n",
    "    chrom_ix = rod.index.droplevel(1)\n",
    "    chrom_split = np.array([re.findall('\\d+|\\D+', s) for s in chrom_ix])\n",
    "    rod.index = pd.MultiIndex.from_arrays([int_chrom,rod.index.droplevel(0)])\n",
    "    rod.sort_index()\n",
    "    rod.index = pd.MultiIndex.from_arrays([int_chrom,rod.index.droplevel(0)])"
   ]
  },
  {
   "cell_type": "markdown",
   "metadata": {},
   "source": [
    "## Test different methods with random scores that are in LD"
   ]
  },
  {
   "cell_type": "code",
   "execution_count": null,
   "metadata": {
    "collapsed": true
   },
   "outputs": [],
   "source": []
  },
  {
   "cell_type": "code",
   "execution_count": null,
   "metadata": {
    "collapsed": true
   },
   "outputs": [],
   "source": []
  },
  {
   "cell_type": "markdown",
   "metadata": {},
   "source": [
    "## Denisovan admixture"
   ]
  },
  {
   "cell_type": "code",
   "execution_count": 37,
   "metadata": {
    "collapsed": false
   },
   "outputs": [],
   "source": [
    "denisovan_s = pd.read_csv(eu(\"~/Akademisches/Projects/Enrichme/Test_data/Denisowan_admixture/Denisovan_scores_hannes.bed\"), sep=\"\\t\",index_col=[0,1],\n",
    "               usecols=[0,1,3],squeeze=True,header=False,names=[\"chrom\",\"pos\",\"score\"])"
   ]
  },
  {
   "cell_type": "code",
   "execution_count": 51,
   "metadata": {
    "collapsed": false
   },
   "outputs": [],
   "source": []
  },
  {
   "cell_type": "code",
   "execution_count": 87,
   "metadata": {
    "collapsed": false
   },
   "outputs": [
    {
     "data": {
      "text/html": [
       "<div style=\"max-height:1000px;max-width:1500px;overflow:auto;\">\n",
       "<table border=\"1\" class=\"dataframe\">\n",
       "  <thead>\n",
       "    <tr style=\"text-align: right;\">\n",
       "      <th></th>\n",
       "      <th>chrom</th>\n",
       "      <th>start</th>\n",
       "      <th>end</th>\n",
       "      <th>ensembl_id</th>\n",
       "    </tr>\n",
       "    <tr>\n",
       "      <th>gene_symbol</th>\n",
       "      <th></th>\n",
       "      <th></th>\n",
       "      <th></th>\n",
       "      <th></th>\n",
       "    </tr>\n",
       "  </thead>\n",
       "  <tbody>\n",
       "    <tr>\n",
       "      <th>OR1D2</th>\n",
       "      <td> chr17</td>\n",
       "      <td>  3092058</td>\n",
       "      <td>  3092996</td>\n",
       "      <td> ENSG00000184166</td>\n",
       "    </tr>\n",
       "    <tr>\n",
       "      <th>OR2B6</th>\n",
       "      <td>  chr6</td>\n",
       "      <td> 27957241</td>\n",
       "      <td> 27958182</td>\n",
       "      <td> ENSG00000124657</td>\n",
       "    </tr>\n",
       "  </tbody>\n",
       "</table>\n",
       "</div>"
      ],
      "text/plain": [
       "             chrom     start       end       ensembl_id\n",
       "gene_symbol                                            \n",
       "OR1D2        chr17   3092058   3092996  ENSG00000184166\n",
       "OR2B6         chr6  27957241  27958182  ENSG00000124657"
      ]
     },
     "execution_count": 87,
     "metadata": {},
     "output_type": "execute_result"
    }
   ],
   "source": [
    "human_gene_df_chrom.reset_index().set_index('gene_symbol').ix[['OR1D2','OR2B6']]"
   ]
  },
  {
   "cell_type": "code",
   "execution_count": 68,
   "metadata": {
    "collapsed": false
   },
   "outputs": [],
   "source": [
    "with open(eu(\"~/VervetPopgen/scratch/all_human_genes_enembl.txt\"),'w') as f:\n",
    "    for g in human_gene_df_chrom[\"ensembl_id\"].values:\n",
    "        f.write(g+'\\n')"
   ]
  },
  {
   "cell_type": "markdown",
   "metadata": {},
   "source": [
    "### define a cutoff"
   ]
  },
  {
   "cell_type": "code",
   "execution_count": 38,
   "metadata": {
    "collapsed": false
   },
   "outputs": [],
   "source": [
    "cutoff = 5\n",
    "top_s = denisovan_s[denisovan_s>cutoff]\n",
    "candidate_list = pu.get_features(top_s,human_gene_df_chrom,max_dist=5000,feature_name=\"ensembl_id\")\n",
    "with open(eu(\"~/VervetPopgen/scratch/denisova_gt_{}.txt\".format(cutoff)),'w') as f:\n",
    "    for g in candidate_list:\n",
    "        f.write(g+'\\n')"
   ]
  },
  {
   "cell_type": "code",
   "execution_count": 93,
   "metadata": {
    "collapsed": false
   },
   "outputs": [
    {
     "data": {
      "text/plain": [
       "0.13769536364755341"
      ]
     },
     "execution_count": 93,
     "metadata": {},
     "output_type": "execute_result"
    }
   ],
   "source": [
    "np.random.rand()"
   ]
  },
  {
   "cell_type": "code",
   "execution_count": 106,
   "metadata": {
    "collapsed": false
   },
   "outputs": [
    {
     "name": "stdout",
     "output_type": "stream",
     "text": [
      "0.345538163364\n"
     ]
    }
   ],
   "source": [
    "cutoff = 5\n",
    "shift = np.random.rand()\n",
    "print shift\n",
    "shift_s = em.shift_rod(denisovan_s, np.random.rand())\n",
    "top_s = shift_s[shift_s>cutoff]\n",
    "candidate_list = pu.get_features(top_s,human_gene_df_chrom,max_dist=5000,feature_name=\"ensembl_id\")\n",
    "with open(eu(\"~/VervetPopgen/scratch/denisova_shift_gt_{}.txt\".format(cutoff)),'w') as f:\n",
    "    for g in candidate_list:\n",
    "        f.write(g+'\\n')"
   ]
  },
  {
   "cell_type": "markdown",
   "metadata": {},
   "source": [
    "### define score per gene"
   ]
  },
  {
   "cell_type": "code",
   "execution_count": 103,
   "metadata": {
    "collapsed": false
   },
   "outputs": [],
   "source": [
    "denisova_score_per_gene = pu.data_per_feature(denisovan_s,human_gene_df_chrom, feature_name='ensembl_id')"
   ]
  },
  {
   "cell_type": "code",
   "execution_count": 79,
   "metadata": {
    "collapsed": false
   },
   "outputs": [],
   "source": [
    "max_per_gene = denisova_score_per_gene.groupby(\"ensembl_id\").max()\n",
    "mean_per_gene = denisova_score_per_gene.groupby(\"ensembl_id\").mean()"
   ]
  },
  {
   "cell_type": "code",
   "execution_count": 84,
   "metadata": {
    "collapsed": false
   },
   "outputs": [],
   "source": [
    "with open(eu(\"~/VervetPopgen/scratch/human_ranked_by_denisowa_score_max.txt\"),'w') as f:\n",
    "    f.write(\"\\n\".join(max_per_gene.sort(\"score\",ascending=False,inplace=False).index)+'\\n')"
   ]
  },
  {
   "cell_type": "code",
   "execution_count": 85,
   "metadata": {
    "collapsed": true
   },
   "outputs": [],
   "source": [
    "with open(eu(\"~/VervetPopgen/scratch/human_ranked_by_denisowa_score_mean.txt\"),'w') as f:\n",
    "    f.write(\"\\n\".join(mean_per_gene.sort(\"score\",ascending=False,inplace=False).index)+'\\n')"
   ]
  },
  {
   "cell_type": "markdown",
   "metadata": {},
   "source": [
    "## UK 10k GWAS"
   ]
  },
  {
   "cell_type": "code",
   "execution_count": 3,
   "metadata": {
    "collapsed": false
   },
   "outputs": [],
   "source": [
    "gwas_s = pd.read_csv(eu(\"~/Akademisches/Projects/Enrichme/Test_data/human_gwas/HDL.bedGraph\"),\n",
    "                     sep='\\t',usecols=[0,1,3],names=['chrom','pos','score'],squeeze=True, index_col=[0,1])"
   ]
  },
  {
   "cell_type": "code",
   "execution_count": null,
   "metadata": {
    "collapsed": true
   },
   "outputs": [],
   "source": []
  },
  {
   "cell_type": "code",
   "execution_count": 63,
   "metadata": {
    "collapsed": false
   },
   "outputs": [
    {
     "data": {
      "text/plain": [
       "(<matplotlib.figure.Figure at 0xc2bddd0>,\n",
       " <matplotlib.axes._subplots.AxesSubplot at 0x16d6d950>,\n",
       " <matplotlib.gridspec.GridSpecFromSubplotSpec at 0xc2bdd90>)"
      ]
     },
     "execution_count": 63,
     "metadata": {},
     "output_type": "execute_result"
    },
    {
     "data": {
      "image/png": "[encoded data removed]",
      "text/plain": [
       "<matplotlib.figure.Figure at 0xc2bddd0>"
      ]
     },
     "metadata": {},
     "output_type": "display_data"
    }
   ],
   "source": [
    "fig = plt.figure(figsize=(16,8))\n",
    "gp.plot_chrom_series(gwas_s, chrom_len, fig=fig)"
   ]
  },
  {
   "cell_type": "code",
   "execution_count": null,
   "metadata": {
    "collapsed": true
   },
   "outputs": [],
   "source": []
  },
  {
   "cell_type": "code",
   "execution_count": 186,
   "metadata": {
    "collapsed": true
   },
   "outputs": [],
   "source": [
    "tc_s = pd.read_csv(eu(\"~/Akademisches/Projects/Enrichme/Test_data/human_gwas/TC.tsv\"),\n",
    "                     sep='\\t',usecols=[0,1,3],names=['chrom','pos','score'],squeeze=True, index_col=[0,1])"
   ]
  },
  {
   "cell_type": "code",
   "execution_count": 187,
   "metadata": {
    "collapsed": false
   },
   "outputs": [
    {
     "data": {
      "text/plain": [
       "(<matplotlib.figure.Figure at 0x1f71afe10>,\n",
       " <matplotlib.axes._subplots.AxesSubplot at 0x1e91b5450>,\n",
       " <matplotlib.gridspec.GridSpecFromSubplotSpec at 0x1f71ad910>)"
      ]
     },
     "execution_count": 187,
     "metadata": {},
     "output_type": "execute_result"
    },
    {
     "data": {
      "image/png": "[encoded data removed]",
      "text/plain": [
       "<matplotlib.figure.Figure at 0x1f71afe10>"
      ]
     },
     "metadata": {},
     "output_type": "display_data"
    }
   ],
   "source": [
    "fig = plt.figure(figsize=(20,8))\n",
    "gp.plot_chrom_series(tc_s, chrom_len,**{\"markersize\":3})"
   ]
  },
  {
   "cell_type": "code",
   "execution_count": 66,
   "metadata": {
    "collapsed": true
   },
   "outputs": [],
   "source": [
    "gwas_s = pd.read_csv(eu(\"~/Akademisches/Projects/Enrichme/Test_data/human_gwas/LDL.tsv\"),\n",
    "                     sep='\\t',usecols=[0,1,3],names=['chrom','pos','score'],index_col=[0,1],squeeze=True )"
   ]
  },
  {
   "cell_type": "code",
   "execution_count": 71,
   "metadata": {
    "collapsed": true
   },
   "outputs": [],
   "source": []
  },
  {
   "cell_type": "code",
   "execution_count": 139,
   "metadata": {
    "collapsed": true
   },
   "outputs": [],
   "source": [
    "phenotype = \"BMI\"\n",
    "gwas_s = pd.read_csv(eu(\"~/Akademisches/Projects/Enrichme/Test_data/human_gwas/{}.tsv\".format(phenotype)),\n",
    "                     sep='\\t',usecols=[0,1,3],names=['chrom','pos','score'],index_col=[0,1],squeeze=True )"
   ]
  },
  {
   "cell_type": "code",
   "execution_count": 133,
   "metadata": {
    "collapsed": false
   },
   "outputs": [],
   "source": [
    "mpl.rcParams['font.size'] = 15"
   ]
  },
  {
   "cell_type": "code",
   "execution_count": 173,
   "metadata": {
    "collapsed": false
   },
   "outputs": [],
   "source": [
    "gwas_s_subset = gwas_s.loc[np.random.choice(gwas_s.index, 10**4, replace=False)]"
   ]
  },
  {
   "cell_type": "code",
   "execution_count": 177,
   "metadata": {
    "collapsed": false
   },
   "outputs": [],
   "source": [
    "gwas_s_subset = gwas_s_subset.sort_index()"
   ]
  },
  {
   "cell_type": "code",
   "execution_count": 185,
   "metadata": {
    "collapsed": false
   },
   "outputs": [
    {
     "data": {
      "image/png": "[encoded data removed]",
      "text/plain": [
       "<matplotlib.figure.Figure at 0x1ea964b90>"
      ]
     },
     "metadata": {},
     "output_type": "display_data"
    }
   ],
   "source": [
    "fig = plt.figure(figsize=(20,8))\n",
    "fig, total_ax, grid = gp.plot_chrom_series(gwas_s,\n",
    "                                           chrom_len, fig=fig,**{\"markersize\":3})\n",
    "for ax in fig.get_axes():\n",
    "    ax.set_ylim([0,34])"
   ]
  },
  {
   "cell_type": "code",
   "execution_count": 75,
   "metadata": {
    "collapsed": false
   },
   "outputs": [
    {
     "name": "stdout",
     "output_type": "stream",
     "text": [
      "548\n"
     ]
    }
   ],
   "source": [
    "cutoff = 4\n",
    "top_s = gwas_s[gwas_s>cutoff]\n",
    "candidate_list = pu.get_features(top_s,human_gene_df_chrom,max_dist=5000,feature_name=\"ensembl_id\")\n",
    "print len(candidate_list)\n",
    "with open(eu(\"~/VervetPopgen/scratch/{}_gt_{}.txt\".format(phenotype,cutoff)),'w') as f:\n",
    "    for g in candidate_list:\n",
    "        f.write(g+'\\n')"
   ]
  },
  {
   "cell_type": "code",
   "execution_count": 76,
   "metadata": {
    "collapsed": false
   },
   "outputs": [
    {
     "name": "stdout",
     "output_type": "stream",
     "text": [
      "0.607782921128\n",
      "551\n"
     ]
    }
   ],
   "source": [
    "cutoff = 4\n",
    "shift = np.random.rand()\n",
    "print shift\n",
    "shift_s = em.shift_rod(gwas_s, np.random.rand())\n",
    "top_s = shift_s[shift_s>cutoff]\n",
    "candidate_list = pu.get_features(top_s,human_gene_df_chrom,max_dist=5000,feature_name=\"ensembl_id\")\n",
    "print len(candidate_list)\n",
    "with open(eu(\"~/VervetPopgen/scratch/{}_shift_gt_{}.txt\".format(phenotype,cutoff)),'w') as f:\n",
    "    for g in candidate_list:\n",
    "        f.write(g+'\\n')"
   ]
  },
  {
   "cell_type": "code",
   "execution_count": 12,
   "metadata": {
    "collapsed": false
   },
   "outputs": [],
   "source": [
    "gwas_score_per_gene = pu.data_per_feature(gwas_s,human_gene_df_chrom, feature_name='ensembl_id')\n",
    "max_per_gene = gwas_score_per_gene.groupby(\"ensembl_id\").max()\n",
    "mean_per_gene = gwas_score_per_gene.groupby(\"ensembl_id\").mean()\n",
    "with open(eu(\"~/VervetPopgen/scratch/human_ranked_by_{}_score_max.txt\".format(phenotype)),'w') as f:\n",
    "    f.write(\"\\n\".join(max_per_gene.sort(\"score\",ascending=False,inplace=False).index)+'\\n')\n",
    "with open(eu(\"~/VervetPopgen/scratch/human_ranked_by_{}_score_mean.txt\".format(phenotype)),'w') as f:\n",
    "    f.write(\"\\n\".join(mean_per_gene.sort(\"score\",ascending=False,inplace=False).index)+'\\n')"
   ]
  },
  {
   "cell_type": "code",
   "execution_count": 13,
   "metadata": {
    "collapsed": false
   },
   "outputs": [
    {
     "name": "stdout",
     "output_type": "stream",
     "text": [
      "0.696073040525\n"
     ]
    }
   ],
   "source": [
    "shift = np.random.rand()\n",
    "print shift\n",
    "shift_s = em.shift_rod(gwas_s, np.random.rand())\n",
    "was_score_per_gene = pu.data_per_feature(shift_s,human_gene_df_chrom, feature_name='ensembl_id')\n",
    "max_per_gene = gwas_score_per_gene.groupby(\"ensembl_id\").max()\n",
    "mean_per_gene = gwas_score_per_gene.groupby(\"ensembl_id\").mean()\n",
    "with open(eu(\"~/VervetPopgen/scratch/human_ranked_by_hdl_score_shift_max.txt\"),'w') as f:\n",
    "    f.write(\"\\n\".join(max_per_gene.sort(\"score\",ascending=False,inplace=False).index)+'\\n')\n",
    "with open(eu(\"~/VervetPopgen/scratch/human_ranked_by_hdl_score_shift_mean.txt\"),'w') as f:\n",
    "    f.write(\"\\n\".join(mean_per_gene.sort(\"score\",ascending=False,inplace=False).index)+'\\n')"
   ]
  },
  {
   "cell_type": "code",
   "execution_count": 80,
   "metadata": {
    "collapsed": true
   },
   "outputs": [],
   "source": [
    "olifaction_cand_raw = \"\"\"OR8H2 - olfactory receptor, family 8, subfamily h, member 2\n",
    "OR5M3 - olfactory receptor, family 5, subfamily m, member 3\n",
    "OR5D16 - olfactory receptor, family 5, subfamily d, member 16\n",
    "OR5D13 - olfactory receptor, family 5, subfamily d, member 13\n",
    "OR5R1 - olfactory receptor, family 5, subfamily r, member 1\n",
    "OR5J2 - olfactory receptor, family 5, subfamily j, member 2\n",
    "OR4C6 - olfactory receptor, family 4, subfamily c, member 6\n",
    "OR5D14 - olfactory receptor, family 5, subfamily d, member 14\n",
    "OR5M9 - olfactory receptor, family 5, subfamily m, member 9\n",
    "OR4C11 - olfactory receptor, family 4, subfamily c, member 11\n",
    "OR8J3 - olfactory receptor, family 8, subfamily j, member 3\n",
    "OR5L1 - olfactory receptor, family 5, subfamily l, member 1\n",
    "OR5D18 - olfactory receptor, family 5, subfamily d, member 18\n",
    "OR4S2 - olfactory receptor, family 4, subfamily s, member 2\n",
    "OR4C16 - olfactory receptor, family 4, subfamily c, member 16\n",
    "OR8K5 - olfactory receptor, family 8, subfamily k, member 5\n",
    "OR8H3 - olfactory receptor, family 8, subfamily h, member 3\n",
    "OR5L2 - olfactory receptor, family 5, subfamily l, member 2\n",
    "OR4C15 - olfactory receptor, family 4, subfamily c, member 15\n",
    "OR4P4 - olfactory receptor, family 4, subfamily p, member 4\n",
    "OR8I2 - olfactory receptor, family 8, subfamily i, member 2\"\"\"\n",
    "olifaction_cand =  [s.split()[0] for s in olifaction_cand_raw.split(\"\\n\")]"
   ]
  },
  {
   "cell_type": "code",
   "execution_count": 193,
   "metadata": {
    "collapsed": false
   },
   "outputs": [
    {
     "data": {
      "text/plain": [
       "0.41532623415514824"
      ]
     },
     "execution_count": 193,
     "metadata": {},
     "output_type": "execute_result"
    }
   ],
   "source": [
    "56105018*1./chrom_len[\"chr11\"]"
   ]
  },
  {
   "cell_type": "code",
   "execution_count": 87,
   "metadata": {
    "collapsed": false
   },
   "outputs": [
    {
     "data": {
      "text/html": [
       "<div style=\"max-height:1000px;max-width:1500px;overflow:auto;\">\n",
       "<table border=\"1\" class=\"dataframe\">\n",
       "  <thead>\n",
       "    <tr style=\"text-align: right;\">\n",
       "      <th></th>\n",
       "      <th>chrom</th>\n",
       "      <th>start</th>\n",
       "      <th>end</th>\n",
       "      <th>ensembl_id</th>\n",
       "    </tr>\n",
       "    <tr>\n",
       "      <th>gene_symbol</th>\n",
       "      <th></th>\n",
       "      <th></th>\n",
       "      <th></th>\n",
       "      <th></th>\n",
       "    </tr>\n",
       "  </thead>\n",
       "  <tbody>\n",
       "    <tr>\n",
       "      <th>OR8H2</th>\n",
       "      <td> chr11</td>\n",
       "      <td> 56105018</td>\n",
       "      <td> 56106055</td>\n",
       "      <td> ENSG00000181767</td>\n",
       "    </tr>\n",
       "    <tr>\n",
       "      <th>OR5M3</th>\n",
       "      <td> chr11</td>\n",
       "      <td> 56469574</td>\n",
       "      <td> 56470497</td>\n",
       "      <td> ENSG00000174937</td>\n",
       "    </tr>\n",
       "    <tr>\n",
       "      <th>OR5D16</th>\n",
       "      <td> chr11</td>\n",
       "      <td> 55838752</td>\n",
       "      <td> 55839738</td>\n",
       "      <td> ENSG00000205029</td>\n",
       "    </tr>\n",
       "    <tr>\n",
       "      <th>OR5D13</th>\n",
       "      <td> chr11</td>\n",
       "      <td> 55773438</td>\n",
       "      <td> 55774382</td>\n",
       "      <td> ENSG00000198877</td>\n",
       "    </tr>\n",
       "    <tr>\n",
       "      <th>OR5R1</th>\n",
       "      <td> chr11</td>\n",
       "      <td> 56417258</td>\n",
       "      <td> 56418232</td>\n",
       "      <td> ENSG00000174942</td>\n",
       "    </tr>\n",
       "    <tr>\n",
       "      <th>OR5J2</th>\n",
       "      <td> chr11</td>\n",
       "      <td> 56176618</td>\n",
       "      <td> 56177556</td>\n",
       "      <td> ENSG00000174957</td>\n",
       "    </tr>\n",
       "    <tr>\n",
       "      <th>OR4C6</th>\n",
       "      <td> chr11</td>\n",
       "      <td> 55665167</td>\n",
       "      <td> 55666096</td>\n",
       "      <td> ENSG00000181903</td>\n",
       "    </tr>\n",
       "    <tr>\n",
       "      <th>OR5D14</th>\n",
       "      <td> chr11</td>\n",
       "      <td> 55795556</td>\n",
       "      <td> 55796500</td>\n",
       "      <td> ENSG00000186113</td>\n",
       "    </tr>\n",
       "    <tr>\n",
       "      <th>OR5M9</th>\n",
       "      <td> chr11</td>\n",
       "      <td> 56462469</td>\n",
       "      <td> 56463401</td>\n",
       "      <td> ENSG00000150269</td>\n",
       "    </tr>\n",
       "    <tr>\n",
       "      <th>OR4C11</th>\n",
       "      <td> chr11</td>\n",
       "      <td> 55603354</td>\n",
       "      <td> 55604398</td>\n",
       "      <td> ENSG00000172188</td>\n",
       "    </tr>\n",
       "    <tr>\n",
       "      <th>OR8J3</th>\n",
       "      <td> chr11</td>\n",
       "      <td> 56136771</td>\n",
       "      <td> 56137718</td>\n",
       "      <td> ENSG00000167822</td>\n",
       "    </tr>\n",
       "    <tr>\n",
       "      <th>OR5L1</th>\n",
       "      <td> chr11</td>\n",
       "      <td> 55811467</td>\n",
       "      <td> 55812402</td>\n",
       "      <td> ENSG00000186117</td>\n",
       "    </tr>\n",
       "    <tr>\n",
       "      <th>OR5D18</th>\n",
       "      <td> chr11</td>\n",
       "      <td> 55819630</td>\n",
       "      <td> 55820571</td>\n",
       "      <td> ENSG00000186119</td>\n",
       "    </tr>\n",
       "    <tr>\n",
       "      <th>OR4S2</th>\n",
       "      <td> chr11</td>\n",
       "      <td> 55650904</td>\n",
       "      <td> 55651839</td>\n",
       "      <td> ENSG00000174982</td>\n",
       "    </tr>\n",
       "    <tr>\n",
       "      <th>OR4C16</th>\n",
       "      <td> chr11</td>\n",
       "      <td> 55572128</td>\n",
       "      <td> 55573060</td>\n",
       "      <td> ENSG00000181935</td>\n",
       "    </tr>\n",
       "    <tr>\n",
       "      <th>OR8K5</th>\n",
       "      <td> chr11</td>\n",
       "      <td> 56159394</td>\n",
       "      <td> 56160317</td>\n",
       "      <td> ENSG00000181752</td>\n",
       "    </tr>\n",
       "    <tr>\n",
       "      <th>OR8H3</th>\n",
       "      <td> chr11</td>\n",
       "      <td> 56122373</td>\n",
       "      <td> 56123311</td>\n",
       "      <td> ENSG00000181761</td>\n",
       "    </tr>\n",
       "    <tr>\n",
       "      <th>OR5L2</th>\n",
       "      <td> chr11</td>\n",
       "      <td> 55827219</td>\n",
       "      <td> 55828154</td>\n",
       "      <td> ENSG00000205030</td>\n",
       "    </tr>\n",
       "    <tr>\n",
       "      <th>OR4C15</th>\n",
       "      <td> chr11</td>\n",
       "      <td> 55554307</td>\n",
       "      <td> 55555419</td>\n",
       "      <td> ENSG00000181939</td>\n",
       "    </tr>\n",
       "    <tr>\n",
       "      <th>OR4P4</th>\n",
       "      <td> chr11</td>\n",
       "      <td> 55638358</td>\n",
       "      <td> 55639296</td>\n",
       "      <td> ENSG00000181927</td>\n",
       "    </tr>\n",
       "    <tr>\n",
       "      <th>OR8I2</th>\n",
       "      <td> chr11</td>\n",
       "      <td> 56093308</td>\n",
       "      <td> 56094240</td>\n",
       "      <td> ENSG00000172154</td>\n",
       "    </tr>\n",
       "  </tbody>\n",
       "</table>\n",
       "</div>"
      ],
      "text/plain": [
       "             chrom     start       end       ensembl_id\n",
       "gene_symbol                                            \n",
       "OR8H2        chr11  56105018  56106055  ENSG00000181767\n",
       "OR5M3        chr11  56469574  56470497  ENSG00000174937\n",
       "OR5D16       chr11  55838752  55839738  ENSG00000205029\n",
       "OR5D13       chr11  55773438  55774382  ENSG00000198877\n",
       "OR5R1        chr11  56417258  56418232  ENSG00000174942\n",
       "OR5J2        chr11  56176618  56177556  ENSG00000174957\n",
       "OR4C6        chr11  55665167  55666096  ENSG00000181903\n",
       "OR5D14       chr11  55795556  55796500  ENSG00000186113\n",
       "OR5M9        chr11  56462469  56463401  ENSG00000150269\n",
       "OR4C11       chr11  55603354  55604398  ENSG00000172188\n",
       "OR8J3        chr11  56136771  56137718  ENSG00000167822\n",
       "OR5L1        chr11  55811467  55812402  ENSG00000186117\n",
       "OR5D18       chr11  55819630  55820571  ENSG00000186119\n",
       "OR4S2        chr11  55650904  55651839  ENSG00000174982\n",
       "OR4C16       chr11  55572128  55573060  ENSG00000181935\n",
       "OR8K5        chr11  56159394  56160317  ENSG00000181752\n",
       "OR8H3        chr11  56122373  56123311  ENSG00000181761\n",
       "OR5L2        chr11  55827219  55828154  ENSG00000205030\n",
       "OR4C15       chr11  55554307  55555419  ENSG00000181939\n",
       "OR4P4        chr11  55638358  55639296  ENSG00000181927\n",
       "OR8I2        chr11  56093308  56094240  ENSG00000172154"
      ]
     },
     "execution_count": 87,
     "metadata": {},
     "output_type": "execute_result"
    }
   ],
   "source": [
    "human_gene_df_chrom_s.ix[olifaction_cand]"
   ]
  },
  {
   "cell_type": "code",
   "execution_count": null,
   "metadata": {
    "collapsed": true
   },
   "outputs": [],
   "source": [
    "fig = plt.figure(figsize=(20,8))\n",
    "fig, total_ax, grid = gp.plot_chrom_series(gwas_s,\n",
    "                                           chrom_len, fig=fig,**{\"markersize\":3})"
   ]
  },
  {
   "cell_type": "code",
   "execution_count": 191,
   "metadata": {
    "collapsed": false
   },
   "outputs": [
    {
     "data": {
      "text/plain": [
       "<matplotlib.axes._subplots.AxesSubplot at 0x1ea807d10>"
      ]
     },
     "execution_count": 191,
     "metadata": {},
     "output_type": "execute_result"
    },
    {
     "data": {
      "image/png": "[encoded data removed]",
      "text/plain": [
       "<matplotlib.figure.Figure at 0x20d562450>"
      ]
     },
     "metadata": {},
     "output_type": "display_data"
    }
   ],
   "source": [
    "gp.plot_features(human_gene_df_chrom_s.ix[olifaction_cand].reset_index(),annotate=False,feature_name=\"gene_symbol\")"
   ]
  },
  {
   "cell_type": "code",
   "execution_count": 89,
   "metadata": {
    "collapsed": false
   },
   "outputs": [],
   "source": [
    "signal_cand_raw = \"\"\"AGAP1 - arfgap with gtpase domain, ankyrin repeat and ph domain 1\n",
    "ABI1 - abl-interactor 1\n",
    "ATP6V0D2 - atpase, h+ transporting, lysosomal 38kda, v0 subunit d2\n",
    "PAWR - prkc, apoptosis, wt1, regulator\n",
    "OR4C6 - olfactory receptor, family 4, subfamily c, member 6\n",
    "OR5D14 - olfactory receptor, family 5, subfamily d, member 14\n",
    "ANTXR1 - anthrax toxin receptor 1\n",
    "OR4C11 - olfactory receptor, family 4, subfamily c, member 11\n",
    "LRP12 - low density lipoprotein receptor-related protein 12\n",
    "OR4S2 - olfactory receptor, family 4, subfamily s, member 2\n",
    "TAOK1 - tao kinase 1\n",
    "OR4C16 - olfactory receptor, family 4, subfamily c, member 16\n",
    "CARD11 - caspase recruitment domain family, member 11\n",
    "STK39 - serine threonine kinase 39\n",
    "DKK2 - dickkopf wnt signaling pathway inhibitor 2\n",
    "OR4C15 - olfactory receptor, family 4, subfamily c, member 15\n",
    "TSPAN8 - tetraspanin 8\n",
    "FOXO3 - forkhead box o3\n",
    "OR4P4 - olfactory receptor, family 4, subfamily p, member 4\n",
    "OR8I2 - olfactory receptor, family 8, subfamily i, member 2\n",
    "SPPL3 - signal peptide peptidase like 3\n",
    "PPP3CA - protein phosphatase 3, catalytic subunit, alpha isozyme\n",
    "NCALD - neurocalcin delta\n",
    "FMN2 - formin 2\n",
    "GABRA2 - gamma-aminobutyric acid (gaba) a receptor, alpha 2\n",
    "OR8J3 - olfactory receptor, family 8, subfamily j, member 3\n",
    "MAP3K19 - mitogen-activated protein kinase kinase kinase 19\n",
    "ZNF536 - zinc finger protein 536\n",
    "RGS12 - regulator of g-protein signaling 12\n",
    "DEK - dek oncogene\n",
    "RAB40C - rab40c, member ras oncogene family\n",
    "ANKS1A - ankyrin repeat and sterile alpha motif domain containing 1a\n",
    "TNFAIP8L3 - tumor necrosis factor, alpha-induced protein 8-like 3\n",
    "PAK3 - p21 protein (cdc42/rac)-activated kinase 3\n",
    "DGKD - diacylglycerol kinase, delta 130kda\n",
    "MC2R - melanocortin 2 receptor (adrenocorticotropic hormone)\n",
    "LSM14A - lsm14a, scd6 homolog a (s. cerevisiae)\n",
    "PAQR5 - progestin and adipoq receptor family member v\n",
    "OR8H2 - olfactory receptor, family 8, subfamily h, member 2\n",
    "OR5D16 - olfactory receptor, family 5, subfamily d, member 16\n",
    "ARL3 - adp-ribosylation factor-like 3\n",
    "CRKL - v-crk avian sarcoma virus ct10 oncogene homolog-like\n",
    "OR5D13 - olfactory receptor, family 5, subfamily d, member 13\n",
    "OR5J2 - olfactory receptor, family 5, subfamily j, member 2\n",
    "OR5M9 - olfactory receptor, family 5, subfamily m, member 9\n",
    "FGF12 - fibroblast growth factor 12\n",
    "ACVRL1 - activin a receptor type ii-like 1\n",
    "PLCD4 - phospholipase c, delta 4\n",
    "OR8H3 - olfactory receptor, family 8, subfamily h, member 3\n",
    "BTG2 - btg family, member 2\n",
    "ESR2 - estrogen receptor 2 (er beta)\n",
    "ARF5 - adp-ribosylation factor 5\n",
    "NRXN3 - neurexin 3\n",
    "MAP2K5 - mitogen-activated protein kinase kinase 5\n",
    "TENM4 - teneurin transmembrane protein 4\n",
    "TNFSF9 - tumor necrosis factor (ligand) superfamily, member 9\n",
    "PLAA - phospholipase a2-activating protein\n",
    "DCLK1 - doublecortin-like kinase 1\n",
    "CPNE3 - copine iii\n",
    "TCF7L1 - transcription factor 7-like 1 (t-cell specific, hmg-box)\n",
    "PPARD - peroxisome proliferator-activated receptor delta\n",
    "OR5M3 - olfactory receptor, family 5, subfamily m, member 3\n",
    "NGEF - neuronal guanine nucleotide exchange factor\n",
    "OR5R1 - olfactory receptor, family 5, subfamily r, member 1\n",
    "POMC - proopiomelanocortin\n",
    "IGF1R - insulin-like growth factor 1 receptor\n",
    "TNIK - traf2 and nck interacting kinase\n",
    "EPHB4 - eph receptor b4\n",
    "OR5L1 - olfactory receptor, family 5, subfamily l, member 1\n",
    "OR5D18 - olfactory receptor, family 5, subfamily d, member 18\n",
    "GNAQ - guanine nucleotide binding protein (g protein), q polypeptide\n",
    "OR8K5 - olfactory receptor, family 8, subfamily k, member 5\n",
    "CNTN6 - contactin 6\n",
    "GREM2 - gremlin 2, dan family bmp antagonist\n",
    "OR5L2 - olfactory receptor, family 5, subfamily l, member 2\n",
    "RBM14 - rna binding motif protein 14\n",
    "CABIN1 - calcineurin binding protein 1\n",
    "TSPAN13 - tetraspanin 13\n",
    "GRM5 - glutamate receptor, metabotropic 5\n",
    "KCNH1 - potassium voltage-gated channel, subfamily h (eag-related), member 1\n",
    "GSK3B - glycogen synthase kinase 3 beta\n",
    "GMDS - gdp-mannose 4,6-dehydratase\"\"\"\n",
    "signal_cand =  [s.split()[0] for s in sigal_cand_raw.split(\"\\n\")]"
   ]
  },
  {
   "cell_type": "code",
   "execution_count": 93,
   "metadata": {
    "collapsed": false
   },
   "outputs": [],
   "source": [
    "human_gene_df_chrom_s[\"length\"] =  human_gene_df_chrom_s[\"end\"] - human_gene_df_chrom_s[\"start\"]"
   ]
  },
  {
   "cell_type": "code",
   "execution_count": null,
   "metadata": {
    "collapsed": true
   },
   "outputs": [],
   "source": []
  },
  {
   "cell_type": "code",
   "execution_count": 125,
   "metadata": {
    "collapsed": false
   },
   "outputs": [
    {
     "data": {
      "text/plain": [
       "<matplotlib.legend.Legend at 0x93eb0a50>"
      ]
     },
     "execution_count": 125,
     "metadata": {},
     "output_type": "execute_result"
    },
    {
     "data": {
      "image/png": "[encoded data removed]",
      "text/plain": [
       "<matplotlib.figure.Figure at 0x935cd1d0>"
      ]
     },
     "metadata": {},
     "output_type": "display_data"
    }
   ],
   "source": [
    "fig = plt.figure(figsize=(15,8))\n",
    "ax = plt.gca()\n",
    "bins = np.arange(0,500000,10000)\n",
    "plt.hist(human_gene_df_chrom_s[\"length\"],bins=bins,alpha=0.5,normed=True,label=\"all genes\")\n",
    "#ax.set_xlim([0,300000])\n",
    "plt.axvline(human_gene_df_chrom_s[\"length\"].mean(), color='b', linestyle='dashed', linewidth=2,label=\"mean\")\n",
    "plt.axvline(human_gene_df_chrom_s[\"length\"].median(), color='b', linestyle='dotted', linewidth=2,label=\"median\")\n",
    "\n",
    "plt.hist(human_gene_df_chrom_s.ix[signal_cand][\"length\"],bins=bins,alpha=0.5,normed=True,color='r',label=\"candidate\")\n",
    "plt.axvline(human_gene_df_chrom_s.ix[signal_cand][\"length\"].mean(), color='r', linestyle='dashed', linewidth=2, )\n",
    "plt.axvline(human_gene_df_chrom_s.ix[signal_cand][\"length\"].median(), color='r', linestyle='dotted', linewidth=2)\n",
    "plt.legend(fontsize=22)\n",
    "#plt.title(\"gene length distribution\",)"
   ]
  },
  {
   "cell_type": "code",
   "execution_count": 102,
   "metadata": {
    "collapsed": false
   },
   "outputs": [],
   "source": [
    "plt.hist?"
   ]
  },
  {
   "cell_type": "code",
   "execution_count": null,
   "metadata": {
    "collapsed": true
   },
   "outputs": [],
   "source": []
  }
 ],
 "metadata": {
  "kernelspec": {
   "display_name": "Python 2",
   "language": "python",
   "name": "python2"
  },
  "language_info": {
   "codemirror_mode": {
    "name": "ipython",
    "version": 2
   },
   "file_extension": ".py",
   "mimetype": "text/x-python",
   "name": "python",
   "nbconvert_exporter": "python",
   "pygments_lexer": "ipython2",
   "version": "2.7.3"
  }
 },
 "nbformat": 4,
 "nbformat_minor": 0
}
