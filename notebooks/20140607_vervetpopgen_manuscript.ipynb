{
 "metadata": {
  "name": "",
  "signature": "sha256:2b4d802103297161c9ac8409a540752625e7d60df37fe2cc1e338df06c36534c"
 },
 "nbformat": 3,
 "nbformat_minor": 0,
 "worksheets": [
  {
   "cells": [
    {
     "cell_type": "heading",
     "level": 1,
     "metadata": {},
     "source": [
      "The evolutionary history of a widely distributed African primate inferred from continent-wide whole genome sequencing"
     ]
    },
    {
     "cell_type": "code",
     "collapsed": false,
     "input": [
      "\"\"\"\n",
      "Here we produce many of the basic figures\n",
      "and tables that go into the manuscript.\n",
      "Results from here will be copied over to \n",
      "the google drive version at.\n",
      "https://docs.google.com/document/d/181EiVFdHAH3iugahkyhm2dFrSppEGrXQtRQowuFPTV8/edit?usp=sharing\n",
      "\"\"\""
     ],
     "language": "python",
     "metadata": {},
     "outputs": []
    },
    {
     "cell_type": "code",
     "collapsed": false,
     "input": [
      "#parallel\n",
      "from IPython.parallel import Client\n",
      "rc = Client(profile=\"hs_server\")\n",
      "dview = rc[:] # use all engines"
     ],
     "language": "python",
     "metadata": {},
     "outputs": []
    },
    {
     "cell_type": "code",
     "collapsed": false,
     "input": [
      "%%px --local\n",
      "#Global init\n",
      "import os\n",
      "import pandas as pd\n",
      "eu = os.path.expanduser\n",
      "jn = os.path.join\n",
      "meta_dir = eu(\"~/vervet_project/metadata\")\n",
      "var_ana_dir = eu(\"~/vervet_project/analyses/20140403_UnifiedGenotyper_ref3500_non_VRC/_data\")\n",
      "pops = [\"aet\",\"cyn\",\"pyn\",\"pys\",\"sab\",\"tan\"]\n",
      "colors = [\"blue\",\"magenta\",\"cyan\",\"green\",\"orange\",\"red\"]"
     ],
     "language": "python",
     "metadata": {},
     "outputs": []
    },
    {
     "cell_type": "heading",
     "level": 3,
     "metadata": {},
     "source": [
      "Sample collection and sequencing"
     ]
    },
    {
     "cell_type": "code",
     "collapsed": false,
     "input": [],
     "language": "python",
     "metadata": {},
     "outputs": []
    },
    {
     "cell_type": "heading",
     "level": 3,
     "metadata": {},
     "source": [
      "Mapping and SNP calling"
     ]
    },
    {
     "cell_type": "raw",
     "metadata": {},
     "source": []
    },
    {
     "cell_type": "code",
     "collapsed": false,
     "input": [],
     "language": "python",
     "metadata": {},
     "outputs": [],
     "prompt_number": 0
    },
    {
     "cell_type": "code",
     "collapsed": false,
     "input": [],
     "language": "python",
     "metadata": {},
     "outputs": []
    }
   ],
   "metadata": {}
  }
 ]
}