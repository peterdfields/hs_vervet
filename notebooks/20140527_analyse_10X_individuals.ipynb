{
 "metadata": {
  "name": ""
 },
 "nbformat": 3,
 "nbformat_minor": 0,
 "worksheets": [
  {
   "cells": [
    {
     "cell_type": "code",
     "collapsed": false,
     "input": [
      "import json\n",
      "import os\n",
      "import pandas as pd\n",
      "eu = os.path.expanduser"
     ],
     "language": "python",
     "metadata": {},
     "outputs": [],
     "prompt_number": 10
    },
    {
     "cell_type": "code",
     "collapsed": false,
     "input": [
      "data_folder =  eu(\"~/vervet_lab/analyses/20140524_SNP_calling_ref3500_10X_individuals/_data/\")\n",
      "output_folder = eu(\"~/vervet_project/analyses/20140524_SNP_calling_ref3500_10X_individuals/output/\")"
     ],
     "language": "python",
     "metadata": {},
     "outputs": [],
     "prompt_number": 11
    },
    {
     "cell_type": "code",
     "collapsed": false,
     "input": [
      "autosomes = [\"CAE\" + str(i) for i in range(1,30)]\n",
      "chromosomes = [\"CAE\" + str(i) for i in range(1,30)+[\"X\"]]"
     ],
     "language": "python",
     "metadata": {},
     "outputs": [],
     "prompt_number": 12
    },
    {
     "cell_type": "code",
     "collapsed": false,
     "input": [
      "from IPython.parallel import Client\n",
      "rc = Client(profile=\"hs_server\")\n",
      "dview = rc[:] # use all engines but one"
     ],
     "language": "python",
     "metadata": {},
     "outputs": [],
     "prompt_number": 13
    },
    {
     "cell_type": "code",
     "collapsed": false,
     "input": [
      "%%px --local\n",
      "#the %%px assures that this is sent to the workers\n",
      "import os\n",
      "import pandas as pd\n",
      "meta_df = pd.read_csv(os.path.expanduser(\"~/vervet_lab/metadata/163_population_ucla_id_taxon.csv\"),index_col=0)\n",
      "meta_df[\"index\"] = meta_df.index\n",
      "meta_df.drop_duplicates(cols='index', take_last=True, inplace=True)\n",
      "del meta_df[\"index\"]"
     ],
     "language": "python",
     "metadata": {},
     "outputs": [],
     "prompt_number": 16
    },
    {
     "cell_type": "code",
     "collapsed": false,
     "input": [
      "ucla_ids = [\"VGA00006\", \"VEC1016\", \"AGM141\", \"AG5417\", \"VZA3008\"]\n",
      "subspecies = [meta_df[\"population\"].loc[id] for id in ucla_ids]\n",
      "print subspecies"
     ],
     "language": "python",
     "metadata": {},
     "outputs": [
      {
       "output_type": "stream",
       "stream": "stdout",
       "text": [
        "['sab', 'aet', 'tan', 'pyn', 'cyn']\n"
       ]
      }
     ],
     "prompt_number": 17
    },
    {
     "cell_type": "code",
     "collapsed": false,
     "input": [
      "subspecies_short_to_long  = {'sab':'sabaeus','aet':'aethiops','tan':'tantalus','pyn':'pygerythrus','cyn':'cynosurus'}"
     ],
     "language": "python",
     "metadata": {},
     "outputs": [],
     "prompt_number": 18
    },
    {
     "cell_type": "code",
     "collapsed": false,
     "input": [
      "stats_table = pd.DataFrame({\"subspecies\":[subspecies_short_to_long[s] for s in subspecies],\"short name\":subspecies,\"ucla_id\":ucla_ids})\n",
      "stats_table.set_index(\"ucla_id\",inplace=True)"
     ],
     "language": "python",
     "metadata": {},
     "outputs": [],
     "prompt_number": 59
    },
    {
     "cell_type": "code",
     "collapsed": false,
     "input": [
      "stats_table"
     ],
     "language": "python",
     "metadata": {},
     "outputs": [
      {
       "html": [
        "<div style=\"max-height:1000px;max-width:1500px;overflow:auto;\">\n",
        "<table border=\"1\" class=\"dataframe\">\n",
        "  <thead>\n",
        "    <tr style=\"text-align: right;\">\n",
        "      <th></th>\n",
        "      <th>short name</th>\n",
        "      <th>subspecies</th>\n",
        "    </tr>\n",
        "    <tr>\n",
        "      <th>ucla_id</th>\n",
        "      <th></th>\n",
        "      <th></th>\n",
        "    </tr>\n",
        "  </thead>\n",
        "  <tbody>\n",
        "    <tr>\n",
        "      <th>VGA00006</th>\n",
        "      <td> sab</td>\n",
        "      <td>     sabaeus</td>\n",
        "    </tr>\n",
        "    <tr>\n",
        "      <th>VEC1016</th>\n",
        "      <td> aet</td>\n",
        "      <td>    aethiops</td>\n",
        "    </tr>\n",
        "    <tr>\n",
        "      <th>AGM141</th>\n",
        "      <td> tan</td>\n",
        "      <td>    tantalus</td>\n",
        "    </tr>\n",
        "    <tr>\n",
        "      <th>AG5417</th>\n",
        "      <td> pyn</td>\n",
        "      <td> pygerythrus</td>\n",
        "    </tr>\n",
        "    <tr>\n",
        "      <th>VZA3008</th>\n",
        "      <td> cyn</td>\n",
        "      <td>   cynosurus</td>\n",
        "    </tr>\n",
        "  </tbody>\n",
        "</table>\n",
        "<p>5 rows \u00d7 2 columns</p>\n",
        "</div>"
       ],
       "metadata": {},
       "output_type": "pyout",
       "prompt_number": 60,
       "text": [
        "         short name   subspecies\n",
        "ucla_id                         \n",
        "VGA00006        sab      sabaeus\n",
        "VEC1016         aet     aethiops\n",
        "AGM141          tan     tantalus\n",
        "AG5417          pyn  pygerythrus\n",
        "VZA3008         cyn    cynosurus\n",
        "\n",
        "[5 rows x 2 columns]"
       ]
      }
     ],
     "prompt_number": 60
    },
    {
     "cell_type": "heading",
     "level": 3,
     "metadata": {},
     "source": [
      "flagstat mapping stats"
     ]
    },
    {
     "cell_type": "code",
     "collapsed": false,
     "input": [
      "flagstat_rows = [\"total\",\"duplicates\",\"mapped\",\"paired in sequencing\",\"read1\",\"read2\",\"properly paired\",\"both mapped\",\"singletons\",\"mate different chr\",\"mate different chr mapQ>5\"]"
     ],
     "language": "python",
     "metadata": {},
     "outputs": [],
     "prompt_number": 61
    },
    {
     "cell_type": "code",
     "collapsed": false,
     "input": [
      "def flagstat_fn(ind):\n",
      "    return eu(\"~/vervet_project/analyses/\"\n",
      "                \"20140524_SNP_calling_ref3500_10X_individuals/_data/\"\n",
      "                \"{}_vs_ref3500.flagstat\".format(ind))"
     ],
     "language": "python",
     "metadata": {},
     "outputs": [],
     "prompt_number": 62
    },
    {
     "cell_type": "code",
     "collapsed": false,
     "input": [
      "def read_flagstat(ind):\n",
      "    flagstat_dic = {}\n",
      "    with open(flagstat_fn(ind),\"r\") as ff:\n",
      "        for name,line in zip(flagstat_rows,ff):\n",
      "            el = line.split(\" + 0 \")\n",
      "            assert len(el)>1, \"QC-failed reads =! 0 not implemented. Rewrite this function.\"\n",
      "            flagstat_dic.update({name:int(el[0])})\n",
      "    return flagstat_dic"
     ],
     "language": "python",
     "metadata": {},
     "outputs": [],
     "prompt_number": 63
    },
    {
     "cell_type": "code",
     "collapsed": false,
     "input": [
      "pd.Series(read_flagstat(ucla_ids[0]))"
     ],
     "language": "python",
     "metadata": {},
     "outputs": [
      {
       "metadata": {},
       "output_type": "pyout",
       "prompt_number": 597,
       "text": [
        "both mapped                  368401241\n",
        "duplicates                    47870098\n",
        "mapped                       369598357\n",
        "mate different chr            11448421\n",
        "mate different chr mapQ>5      4407660\n",
        "paired in sequencing         371703956\n",
        "properly paired              355990947\n",
        "read1                        185864783\n",
        "read2                        185839173\n",
        "singletons                     1197116\n",
        "total                        371703956\n",
        "dtype: int64"
       ]
      }
     ],
     "prompt_number": 597
    },
    {
     "cell_type": "code",
     "collapsed": false,
     "input": [
      "flagstat_df = pd.DataFrame({id:pd.Series(read_flagstat(id)) for id in ucla_ids}).T\n",
      "flagstat_df[\"percent mapped\"] = flagstat_df[\"mapped\"]*100./flagstat_df[\"total\"]\n",
      "flagstat_df.rename(columns={'total':'total reads',\"percent mapped\":\"percent mapped\\n(incl. scaffolds)\"}, inplace=True)"
     ],
     "language": "python",
     "metadata": {},
     "outputs": [],
     "prompt_number": 64
    },
    {
     "cell_type": "code",
     "collapsed": false,
     "input": [
      "flagstat_df"
     ],
     "language": "python",
     "metadata": {},
     "outputs": [
      {
       "html": [
        "<div style=\"max-height:1000px;max-width:1500px;overflow:auto;\">\n",
        "<table border=\"1\" class=\"dataframe\">\n",
        "  <thead>\n",
        "    <tr style=\"text-align: right;\">\n",
        "      <th></th>\n",
        "      <th>both mapped</th>\n",
        "      <th>duplicates</th>\n",
        "      <th>mapped</th>\n",
        "      <th>mate different chr</th>\n",
        "      <th>mate different chr mapQ&gt;5</th>\n",
        "      <th>paired in sequencing</th>\n",
        "      <th>properly paired</th>\n",
        "      <th>read1</th>\n",
        "      <th>read2</th>\n",
        "      <th>singletons</th>\n",
        "      <th>total reads</th>\n",
        "      <th>percent mapped\n",
        "(incl. scaffolds)</th>\n",
        "    </tr>\n",
        "  </thead>\n",
        "  <tbody>\n",
        "    <tr>\n",
        "      <th>AG5417</th>\n",
        "      <td> 364880302</td>\n",
        "      <td> 58733062</td>\n",
        "      <td> 365928242</td>\n",
        "      <td> 62772944</td>\n",
        "      <td> 8644314</td>\n",
        "      <td> 367646925</td>\n",
        "      <td> 294781110</td>\n",
        "      <td> 183792208</td>\n",
        "      <td> 183854717</td>\n",
        "      <td> 1047940</td>\n",
        "      <td> 367646925</td>\n",
        "      <td> 99.532518</td>\n",
        "    </tr>\n",
        "    <tr>\n",
        "      <th>AGM141</th>\n",
        "      <td> 324181257</td>\n",
        "      <td> 27720015</td>\n",
        "      <td> 325161374</td>\n",
        "      <td> 34587771</td>\n",
        "      <td> 6797110</td>\n",
        "      <td> 326842858</td>\n",
        "      <td> 282953682</td>\n",
        "      <td> 163392318</td>\n",
        "      <td> 163450540</td>\n",
        "      <td>  980117</td>\n",
        "      <td> 326842858</td>\n",
        "      <td> 99.485537</td>\n",
        "    </tr>\n",
        "    <tr>\n",
        "      <th>VEC1016</th>\n",
        "      <td> 314749837</td>\n",
        "      <td> 43815627</td>\n",
        "      <td> 316202048</td>\n",
        "      <td> 32659286</td>\n",
        "      <td> 6073778</td>\n",
        "      <td> 318382728</td>\n",
        "      <td> 277491875</td>\n",
        "      <td> 159212166</td>\n",
        "      <td> 159170562</td>\n",
        "      <td> 1452211</td>\n",
        "      <td> 318382728</td>\n",
        "      <td> 99.315076</td>\n",
        "    </tr>\n",
        "    <tr>\n",
        "      <th>VGA00006</th>\n",
        "      <td> 368401241</td>\n",
        "      <td> 47870098</td>\n",
        "      <td> 369598357</td>\n",
        "      <td> 11448421</td>\n",
        "      <td> 4407660</td>\n",
        "      <td> 371703956</td>\n",
        "      <td> 355990947</td>\n",
        "      <td> 185864783</td>\n",
        "      <td> 185839173</td>\n",
        "      <td> 1197116</td>\n",
        "      <td> 371703956</td>\n",
        "      <td> 99.433528</td>\n",
        "    </tr>\n",
        "    <tr>\n",
        "      <th>VZA3008</th>\n",
        "      <td> 282154744</td>\n",
        "      <td> 38980231</td>\n",
        "      <td> 284800776</td>\n",
        "      <td> 38167125</td>\n",
        "      <td> 6493568</td>\n",
        "      <td> 288494098</td>\n",
        "      <td> 238361372</td>\n",
        "      <td> 144260235</td>\n",
        "      <td> 144233863</td>\n",
        "      <td> 2646032</td>\n",
        "      <td> 288494098</td>\n",
        "      <td> 98.719793</td>\n",
        "    </tr>\n",
        "  </tbody>\n",
        "</table>\n",
        "<p>5 rows \u00d7 12 columns</p>\n",
        "</div>"
       ],
       "metadata": {},
       "output_type": "pyout",
       "prompt_number": 25,
       "text": [
        "          both mapped  duplicates     mapped  mate different chr  \\\n",
        "AG5417      364880302    58733062  365928242            62772944   \n",
        "AGM141      324181257    27720015  325161374            34587771   \n",
        "VEC1016     314749837    43815627  316202048            32659286   \n",
        "VGA00006    368401241    47870098  369598357            11448421   \n",
        "VZA3008     282154744    38980231  284800776            38167125   \n",
        "\n",
        "          mate different chr mapQ>5  paired in sequencing  properly paired  \\\n",
        "AG5417                      8644314             367646925        294781110   \n",
        "AGM141                      6797110             326842858        282953682   \n",
        "VEC1016                     6073778             318382728        277491875   \n",
        "VGA00006                    4407660             371703956        355990947   \n",
        "VZA3008                     6493568             288494098        238361372   \n",
        "\n",
        "              read1      read2  singletons  total reads  \\\n",
        "AG5417    183792208  183854717     1047940    367646925   \n",
        "AGM141    163392318  163450540      980117    326842858   \n",
        "VEC1016   159212166  159170562     1452211    318382728   \n",
        "VGA00006  185864783  185839173     1197116    371703956   \n",
        "VZA3008   144260235  144233863     2646032    288494098   \n",
        "\n",
        "          percent mapped\\n(incl. scaffolds)  \n",
        "AG5417                            99.532518  \n",
        "AGM141                            99.485537  \n",
        "VEC1016                           99.315076  \n",
        "VGA00006                          99.433528  \n",
        "VZA3008                           98.719793  \n",
        "\n",
        "[5 rows x 12 columns]"
       ]
      }
     ],
     "prompt_number": 25
    },
    {
     "cell_type": "code",
     "collapsed": false,
     "input": [
      "stats_table = stats_table.join(flagstat_df[[\"total reads\",\"percent mapped\\n(incl. scaffolds)\"]])"
     ],
     "language": "python",
     "metadata": {},
     "outputs": [],
     "prompt_number": 65
    },
    {
     "cell_type": "heading",
     "level": 3,
     "metadata": {},
     "source": [
      "coverage stats"
     ]
    },
    {
     "cell_type": "code",
     "collapsed": false,
     "input": [
      "coverage_stats = pd.read_csv(eu(\"~/vervet_project/metadata/coverage_10X_individuals.tsv\"),sep=\"\\t\",index_col=0)"
     ],
     "language": "python",
     "metadata": {},
     "outputs": [],
     "prompt_number": 66
    },
    {
     "cell_type": "code",
     "collapsed": false,
     "input": [
      "average_coverage = coverage_stats.ix[\"CAE1\":\"CAE29\",\"VGA00006\":\"VZA3008\"].mul(coverage_stats.ix[\"CAE1\":\"CAE29\",\"length\"],axis=0).sum(axis=0)/coverage_stats.ix[\"CAE1\":\"CAE29\",\"length\"].sum(axis=0)\n",
      "average_coverage.name = \"average coverage\""
     ],
     "language": "python",
     "metadata": {},
     "outputs": [],
     "prompt_number": 67
    },
    {
     "cell_type": "code",
     "collapsed": false,
     "input": [
      "print average_coverage"
     ],
     "language": "python",
     "metadata": {},
     "outputs": [
      {
       "output_type": "stream",
       "stream": "stdout",
       "text": [
        "VGA00006   10.84\n",
        "VEC1016     9.17\n",
        "AGM141     10.08\n",
        "AG5417     10.29\n",
        "VZA3008     8.20\n",
        "Name: average coverage, dtype: float64\n"
       ]
      }
     ],
     "prompt_number": 603
    },
    {
     "cell_type": "code",
     "collapsed": false,
     "input": [
      "average_coverage.plot(kind='bar',fontsize=15)"
     ],
     "language": "python",
     "metadata": {},
     "outputs": [
      {
       "metadata": {},
       "output_type": "pyout",
       "prompt_number": 604,
       "text": [
        "<matplotlib.axes.AxesSubplot at 0x400bf90>"
       ]
      },
      {
       "metadata": {},
       "output_type": "display_data",
       "png": "[encoded data removed]"
      }
     ],
     "prompt_number": 604
    },
    {
     "cell_type": "code",
     "collapsed": false,
     "input": [
      "stats_table = stats_table.join(average_coverage) "
     ],
     "language": "python",
     "metadata": {},
     "outputs": [],
     "prompt_number": 68
    },
    {
     "cell_type": "code",
     "collapsed": false,
     "input": [],
     "language": "python",
     "metadata": {},
     "outputs": [],
     "prompt_number": 70
    },
    {
     "cell_type": "code",
     "collapsed": false,
     "input": [
      "stats_table"
     ],
     "language": "python",
     "metadata": {},
     "outputs": [
      {
       "html": [
        "<div style=\"max-height:1000px;max-width:1500px;overflow:auto;\">\n",
        "<table border=\"1\" class=\"dataframe\">\n",
        "  <thead>\n",
        "    <tr style=\"text-align: right;\">\n",
        "      <th></th>\n",
        "      <th>short name</th>\n",
        "      <th>subspecies</th>\n",
        "      <th>total reads</th>\n",
        "      <th>percent mapped\n",
        "(incl. scaffolds)</th>\n",
        "      <th>average coverage</th>\n",
        "    </tr>\n",
        "    <tr>\n",
        "      <th>ucla_id</th>\n",
        "      <th></th>\n",
        "      <th></th>\n",
        "      <th></th>\n",
        "      <th></th>\n",
        "      <th></th>\n",
        "    </tr>\n",
        "  </thead>\n",
        "  <tbody>\n",
        "    <tr>\n",
        "      <th>VGA00006</th>\n",
        "      <td> sab</td>\n",
        "      <td>     sabaeus</td>\n",
        "      <td> 371703956</td>\n",
        "      <td> 99.43</td>\n",
        "      <td> 10.84</td>\n",
        "    </tr>\n",
        "    <tr>\n",
        "      <th>VEC1016</th>\n",
        "      <td> aet</td>\n",
        "      <td>    aethiops</td>\n",
        "      <td> 318382728</td>\n",
        "      <td> 99.32</td>\n",
        "      <td>  9.17</td>\n",
        "    </tr>\n",
        "    <tr>\n",
        "      <th>AGM141</th>\n",
        "      <td> tan</td>\n",
        "      <td>    tantalus</td>\n",
        "      <td> 326842858</td>\n",
        "      <td> 99.49</td>\n",
        "      <td> 10.08</td>\n",
        "    </tr>\n",
        "    <tr>\n",
        "      <th>AG5417</th>\n",
        "      <td> pyn</td>\n",
        "      <td> pygerythrus</td>\n",
        "      <td> 367646925</td>\n",
        "      <td> 99.53</td>\n",
        "      <td> 10.29</td>\n",
        "    </tr>\n",
        "    <tr>\n",
        "      <th>VZA3008</th>\n",
        "      <td> cyn</td>\n",
        "      <td>   cynosurus</td>\n",
        "      <td> 288494098</td>\n",
        "      <td> 98.72</td>\n",
        "      <td>  8.20</td>\n",
        "    </tr>\n",
        "  </tbody>\n",
        "</table>\n",
        "<p>5 rows \u00d7 5 columns</p>\n",
        "</div>"
       ],
       "metadata": {},
       "output_type": "pyout",
       "prompt_number": 71,
       "text": [
        "         short name   subspecies  total reads  \\\n",
        "ucla_id                                         \n",
        "VGA00006        sab      sabaeus    371703956   \n",
        "VEC1016         aet     aethiops    318382728   \n",
        "AGM141          tan     tantalus    326842858   \n",
        "AG5417          pyn  pygerythrus    367646925   \n",
        "VZA3008         cyn    cynosurus    288494098   \n",
        "\n",
        "          percent mapped\\n(incl. scaffolds)  average coverage  \n",
        "ucla_id                                                        \n",
        "VGA00006                              99.43             10.84  \n",
        "VEC1016                               99.32              9.17  \n",
        "AGM141                                99.49             10.08  \n",
        "AG5417                                99.53             10.29  \n",
        "VZA3008                               98.72              8.20  \n",
        "\n",
        "[5 rows x 5 columns]"
       ]
      }
     ],
     "prompt_number": 71
    },
    {
     "cell_type": "heading",
     "level": 3,
     "metadata": {},
     "source": [
      "vcf stats"
     ]
    },
    {
     "cell_type": "code",
     "collapsed": false,
     "input": [
      "def stats_dic(chrom):\n",
      "    stats_fn = os.path.expanduser(\"~/vervet_lab/analyses/20140524_SNP_calling_ref3500_10X_individuals/\"\n",
      "                                \"_data/snp_stats_{}.json\".format(chrom))\n",
      "    stats_dic = json.load(open(stats_fn,\"r\"))\n",
      "    return stats_dic"
     ],
     "language": "python",
     "metadata": {},
     "outputs": [],
     "prompt_number": 41
    },
    {
     "cell_type": "code",
     "collapsed": false,
     "input": [
      "chrom_dicts = [stats_dic(chrom) for chrom in chromosomes]\n",
      "chrom_length = pd.read_csv(os.path.expanduser(\"~/vervet_lab/metadata/ref_3488.tsv\"),sep=\"\\t\",index_col=0,squeeze=True)\n",
      "chrom_length = chrom_length.drop([\"CAEY\"])"
     ],
     "language": "python",
     "metadata": {},
     "outputs": [],
     "prompt_number": 42
    },
    {
     "cell_type": "code",
     "collapsed": false,
     "input": [
      "chrom_length.sum()"
     ],
     "language": "python",
     "metadata": {},
     "outputs": [
      {
       "metadata": {},
       "output_type": "pyout",
       "prompt_number": 43,
       "text": [
        "2737934092"
       ]
      }
     ],
     "prompt_number": 43
    },
    {
     "cell_type": "code",
     "collapsed": false,
     "input": [
      "autosome_stats_dic = stats_dic(autosomes[0])\n",
      "for chrom in autosomes[1:]:\n",
      "    stats_dic1 = stats_dic(chrom)\n",
      "    for key in autosome_stats_dic:\n",
      "        if key == \"filters\":\n",
      "            for key1 in autosome_stats_dic[key]:\n",
      "                autosome_stats_dic[key][key1] += stats_dic1[key][key1]\n",
      "        else:\n",
      "            autosome_stats_dic[key] += stats_dic1[key]"
     ],
     "language": "python",
     "metadata": {},
     "outputs": [],
     "prompt_number": 44
    },
    {
     "cell_type": "code",
     "collapsed": false,
     "input": [
      "total_stats_dic = stats_dic(chromosomes[0])\n",
      "for chrom in chromosomes[1:]:\n",
      "    stats_dic1 = stats_dic(chrom)\n",
      "    for key in total_stats_dic:\n",
      "        if key == \"filters\":\n",
      "            for key1 in total_stats_dic[key]:\n",
      "                total_stats_dic[key][key1] += stats_dic1[key][key1]\n",
      "        else:\n",
      "            total_stats_dic[key] += stats_dic1[key]"
     ],
     "language": "python",
     "metadata": {},
     "outputs": [],
     "prompt_number": 45
    },
    {
     "cell_type": "code",
     "collapsed": false,
     "input": [
      "fraction_ancestral_known = autosome_stats_dic[\"pass_ancestral_known\"]*1./autosome_stats_dic[\"pass\"]\n",
      "print fraction_ancestral_known"
     ],
     "language": "python",
     "metadata": {},
     "outputs": [
      {
       "output_type": "stream",
       "stream": "stdout",
       "text": [
        "0.838614046182\n"
       ]
      }
     ],
     "prompt_number": 46
    },
    {
     "cell_type": "code",
     "collapsed": false,
     "input": [
      "(autosome_stats_dic[\"pass_ancestral_is_alt\"] + autosome_stats_dic[\"pass_ancestral_is_ref\"])*1./autosome_stats_dic[\"pass_ancestral_known\"]"
     ],
     "language": "python",
     "metadata": {},
     "outputs": [
      {
       "metadata": {},
       "output_type": "pyout",
       "prompt_number": 47,
       "text": [
        "0.983473161764761"
       ]
      }
     ],
     "prompt_number": 47
    },
    {
     "cell_type": "code",
     "collapsed": false,
     "input": [
      "total_stats_dic"
     ],
     "language": "python",
     "metadata": {},
     "outputs": [
      {
       "metadata": {},
       "output_type": "pyout",
       "prompt_number": 614,
       "text": [
        "{u'ancestral_known': 27197237,\n",
        " u'filters': {u'5bpIndel': 1068567,\n",
        "  u'ABHet': 1103391,\n",
        "  u'ExCov': 1182694,\n",
        "  u'HaplotypeScore': 286745,\n",
        "  u'LowCov': 898347,\n",
        "  u'LowMQ': 181289,\n",
        "  u'LowQual': 6295046,\n",
        "  u'MQ0_10pct': 663034,\n",
        "  u'QualityByDepth': 1694998,\n",
        "  u'ReadPos': 561,\n",
        "  u'StrandBias': 12665},\n",
        " u'indels': 0,\n",
        " u'other_variants': 0,\n",
        " u'pass': 24680030,\n",
        " u'pass_ancestral_is_alt': 6209513,\n",
        " u'pass_ancestral_is_ref': 14105508,\n",
        " u'pass_ancestral_known': 20654323,\n",
        " u'pass_ancestral_third_allele': 339302,\n",
        " u'snps': 34030040,\n",
        " u'total': 34030040}"
       ]
      }
     ],
     "prompt_number": 614
    },
    {
     "cell_type": "code",
     "collapsed": false,
     "input": [
      "mpl.rcParams[\"font.size\"]=15"
     ],
     "language": "python",
     "metadata": {},
     "outputs": [],
     "prompt_number": 48
    },
    {
     "cell_type": "code",
     "collapsed": false,
     "input": [
      "fig=figure(1, figsize=(18,5))\n",
      "\n",
      "ax = plt.subplot2grid((2,3), (0,0), colspan=2)\n",
      "\n",
      "\n",
      "\n",
      "#ax = fig.add_subplot(121)\n",
      "title(\"SNPs per chromosome\")\n",
      "pos = np.arange(len(chrom_dicts))\n",
      "snps_pass = np.array([d[\"pass\"] for d in chrom_dicts])\n",
      "snps_non_pass = [d[\"total\"]-d[\"pass\"] for d in chrom_dicts]\n",
      "p1 = plt.bar(pos+0.1,snps_pass,width=0.8,color=\"r\")\n",
      "p2 = plt.bar(pos+0.1,snps_non_pass,width=0.8,bottom=snps_pass,color=\"y\")\n",
      "plt.legend( (p1[0], p2[0]), ('pass', 'filtered'), loc = (0.85,0.7) )\n",
      "ax.yaxis.major.formatter.set_powerlimits((0,0)) \n",
      "ax.ticklabel_format(style='sci', axis='y') \n",
      "ax.set_xlim([-0.5,len(chrom_dicts)+0.5])\n",
      "plt.tick_params(\\\n",
      "    axis='x',          # changes apply to the x-axis\n",
      "    which='both',      # both major and minor ticks are affected\n",
      "    bottom='off',      # ticks along the bottom edge are off\n",
      "    top='off',         # ticks along the top edge are off\n",
      "    labelbottom='off') # labels along the bottom edge are off\n",
      "\n",
      "\n",
      "\n",
      "ax = plt.subplot2grid((2,3), (0,2), rowspan=2) \n",
      "#ax = fig.add_subplot(122)\n",
      "title(\"SNPs filtered by filter X\")\n",
      "filter_data = [(k,v) for k,v in total_stats_dic[\"filters\"].iteritems()]\n",
      "filter_names = [el[0] for el in filter_data]\n",
      "filter_values = [el[1] for el in filter_data]\n",
      "proportions = np.array(filter_values)*100./total_stats_dic[\"total\"]\n",
      "pos = np.arange(len(proportions))\n",
      "barh(pos,proportions)\n",
      "ax.set_yticks(pos+0.5)\n",
      "ax.set_ylim([pos[0]-0.5,pos[-1]+1.5])\n",
      "ax.set_yticklabels(filter_names)\n",
      "ax.set_xlabel(\"Percent of total snps\")\n",
      "#ax.xaxis.major.formatter.set_powerlimits((0,0)) \n",
      "#ax.ticklabel_format(style='sci', axis='x') \n",
      "plt.tick_params(\\\n",
      "    axis='y',          # changes apply to the x-axis\n",
      "    which='both',      # both major and minor ticks are affected\n",
      "    left='off',      # ticks along the bottom edge are off\n",
      "    right='off')\n",
      "\n",
      "\n",
      "ax = plt.subplot2grid((2,3), (1,0), colspan=2)\n",
      "title(\"SNP density (pass)\")\n",
      "pos = np.arange(len(chrom_dicts))\n",
      "snp_density = snps_pass*1./chrom_length.values\n",
      "plt.bar(pos+0.1,snp_density,width=0.8)\n",
      "ax.set_xticks(pos+0.5)\n",
      "ax.set_xticklabels(chromosomes)\n",
      "labels = ax.get_xticklabels() \n",
      "for label in labels: \n",
      "    label.set_rotation(90) \n",
      "ax.set_xlim([-0.5,len(chrom_dicts)+0.5])\n",
      "\n",
      "plt.tick_params(\\\n",
      "    axis='x',          # changes apply to the x-axis\n",
      "    which='both',      # both major and minor ticks are affected\n",
      "    bottom='off',      # ticks along the bottom edge are off\n",
      "    top='off')\n",
      "\n",
      "fig.subplots_adjust(wspace=0.55)"
     ],
     "language": "python",
     "metadata": {},
     "outputs": [
      {
       "metadata": {},
       "output_type": "display_data",
       "png": "[encoded data removed]"
      }
     ],
     "prompt_number": 326
    },
    {
     "cell_type": "heading",
     "level": 2,
     "metadata": {},
     "source": [
      "genotype data frames"
     ]
    },
    {
     "cell_type": "code",
     "collapsed": false,
     "input": [
      "%%px --local\n",
      "def get_gen_df(chrom):\n",
      "    fn = os.path.expanduser(\"~/vervet_lab/analyses/20140524_SNP_calling_ref3500_10X_individuals/\"\n",
      "                        \"_data/GATK_UnifiedGenotyper_10Xind_ancestral_derived_{}.012\".format(chrom))\n",
      "    gen_df = pd.read_csv(fn,index_col=[0,1],sep=\"\\t\",na_values=\"N\")\n",
      "    gen_df.columns = meta_df.ix[gen_df.columns][\"population\"].values\n",
      "    #add macaque\n",
      "    #gen_df[\"mac\"] = 0.\n",
      "    return gen_df"
     ],
     "language": "python",
     "metadata": {},
     "outputs": [],
     "prompt_number": 49
    },
    {
     "cell_type": "heading",
     "level": 3,
     "metadata": {},
     "source": [
      "stats on the sub species"
     ]
    },
    {
     "cell_type": "code",
     "collapsed": false,
     "input": [
      "chrom = \"CAE28\""
     ],
     "language": "python",
     "metadata": {},
     "outputs": [],
     "prompt_number": 617
    },
    {
     "cell_type": "code",
     "collapsed": false,
     "input": [
      "gen_df = get_gen_df(chrom)"
     ],
     "language": "python",
     "metadata": {},
     "outputs": [],
     "prompt_number": 618
    },
    {
     "cell_type": "code",
     "collapsed": false,
     "input": [
      "gen_df.isnull().sum()*1./len(gen_df)"
     ],
     "language": "python",
     "metadata": {},
     "outputs": [
      {
       "metadata": {},
       "output_type": "pyout",
       "prompt_number": 619,
       "text": [
        "pyn   0.01\n",
        "tan   0.01\n",
        "aet   0.01\n",
        "sab   0.00\n",
        "cyn   0.01\n",
        "dtype: float64"
       ]
      }
     ],
     "prompt_number": 619
    },
    {
     "cell_type": "code",
     "collapsed": false,
     "input": [
      "#local function\n",
      "def reduce_stats(stats_dics):\n",
      "    total_stats_dic = {}\n",
      "    for k,v in stats_dics[0].iteritems():\n",
      "        total_stats_dic.update({k:reduce(lambda x,y:x+y,[d[k] for d in stats_dics])})\n",
      "    return total_stats_dic"
     ],
     "language": "python",
     "metadata": {},
     "outputs": [],
     "prompt_number": 50
    },
    {
     "cell_type": "code",
     "collapsed": false,
     "input": [
      "%%px --local\n",
      "#remote\n",
      "def genotype_difference(gt0,gt1):\n",
      "    #the second term accounts for heterozygote comparisons\n",
      "    return ((gt0-gt1).abs()+(gt0==1)*(gt1==1)).sum()/2.\n",
      "\n",
      "def pairwise_diff_mat(df):\n",
      "    return pd.DataFrame({key1:{key0:genotype_difference(df[key0],df[key1]) for key0 in df} for key1 in df})\n",
      "\n",
      "gen_df_funs = {\"total_snps\": lambda gen_df: len(gen_df),\n",
      "              \"snps_per_subpop\": lambda gen_df: (gen_df == 1).sum(axis=0),\n",
      "              \"fixed_diff_to_ref\": lambda gen_df: (gen_df.sum(axis=1)==2*gen_df.shape[1]).sum(),\n",
      "              \"pairwise_diff_mat\": lambda gen_df: pairwise_diff_mat(gen_df),\n",
      "              \"derived_alleles\": lambda gen_df: gen_df.sum(axis=0)}\n",
      "def get_stats(chrom):\n",
      "    gen_df = get_gen_df(chrom)\n",
      "    stats_dic = {}\n",
      "    for n,v in gen_df_funs.iteritems():\n",
      "        stats_dic.update({n:v(gen_df)})\n",
      "    return stats_dic"
     ],
     "language": "python",
     "metadata": {},
     "outputs": [],
     "prompt_number": 53
    },
    {
     "cell_type": "code",
     "collapsed": false,
     "input": [
      "stats_dics = dview.map_async(get_stats, autosomes)"
     ],
     "language": "python",
     "metadata": {},
     "outputs": [],
     "prompt_number": 54
    },
    {
     "cell_type": "code",
     "collapsed": false,
     "input": [
      "total_stats = reduce_stats(stats_dics.get())"
     ],
     "language": "python",
     "metadata": {},
     "outputs": [],
     "prompt_number": 55
    },
    {
     "cell_type": "code",
     "collapsed": false,
     "input": [
      "total_stats"
     ],
     "language": "python",
     "metadata": {},
     "outputs": [
      {
       "metadata": {},
       "output_type": "pyout",
       "prompt_number": 56,
       "text": [
        "{'derived_alleles': pyn    11452702\n",
        " tan    11328831\n",
        " aet    11415279\n",
        " sab    11261851\n",
        " cyn    11051958\n",
        " dtype: float64,\n",
        " 'fixed_diff_to_ref': 121992,\n",
        " 'pairwise_diff_mat':            aet        cyn        pyn        sab        tan\n",
        " aet   955629.5  6296261.5  6496416.5  7738523.0  6509592.0\n",
        " cyn  6296261.5  1619761.0  4702763.5  7332659.5  5851541.0\n",
        " pyn  6496416.5  4702763.5  2036598.0  7564638.0  6030851.0\n",
        " sab  7738523.0  7332659.5  7564638.0  1521089.5  7212377.5\n",
        " tan  6509592.0  5851541.0  6030851.0  7212377.5  1972044.5\n",
        " \n",
        " [5 rows x 5 columns],\n",
        " 'snps_per_subpop': pyn    4073196\n",
        " tan    3944089\n",
        " aet    1911259\n",
        " sab    3042179\n",
        " cyn    3239522\n",
        " dtype: int64,\n",
        " 'total_snps': 19694887}"
       ]
      }
     ],
     "prompt_number": 56
    },
    {
     "cell_type": "code",
     "collapsed": false,
     "input": [
      "total_stats[\"pairwise_diff_mat\"].applymap(round)"
     ],
     "language": "python",
     "metadata": {},
     "outputs": [
      {
       "html": [
        "<div style=\"max-height:1000px;max-width:1500px;overflow:auto;\">\n",
        "<table border=\"1\" class=\"dataframe\">\n",
        "  <thead>\n",
        "    <tr style=\"text-align: right;\">\n",
        "      <th></th>\n",
        "      <th>aet</th>\n",
        "      <th>cyn</th>\n",
        "      <th>pyn</th>\n",
        "      <th>sab</th>\n",
        "      <th>tan</th>\n",
        "    </tr>\n",
        "  </thead>\n",
        "  <tbody>\n",
        "    <tr>\n",
        "      <th>aet</th>\n",
        "      <td>  955630</td>\n",
        "      <td> 6296262</td>\n",
        "      <td> 6496417</td>\n",
        "      <td> 7738523</td>\n",
        "      <td> 6509592</td>\n",
        "    </tr>\n",
        "    <tr>\n",
        "      <th>cyn</th>\n",
        "      <td> 6296262</td>\n",
        "      <td> 1619761</td>\n",
        "      <td> 4702764</td>\n",
        "      <td> 7332660</td>\n",
        "      <td> 5851541</td>\n",
        "    </tr>\n",
        "    <tr>\n",
        "      <th>pyn</th>\n",
        "      <td> 6496417</td>\n",
        "      <td> 4702764</td>\n",
        "      <td> 2036598</td>\n",
        "      <td> 7564638</td>\n",
        "      <td> 6030851</td>\n",
        "    </tr>\n",
        "    <tr>\n",
        "      <th>sab</th>\n",
        "      <td> 7738523</td>\n",
        "      <td> 7332660</td>\n",
        "      <td> 7564638</td>\n",
        "      <td> 1521090</td>\n",
        "      <td> 7212378</td>\n",
        "    </tr>\n",
        "    <tr>\n",
        "      <th>tan</th>\n",
        "      <td> 6509592</td>\n",
        "      <td> 5851541</td>\n",
        "      <td> 6030851</td>\n",
        "      <td> 7212378</td>\n",
        "      <td> 1972045</td>\n",
        "    </tr>\n",
        "  </tbody>\n",
        "</table>\n",
        "<p>5 rows \u00d7 5 columns</p>\n",
        "</div>"
       ],
       "metadata": {},
       "output_type": "pyout",
       "prompt_number": 57,
       "text": [
        "         aet      cyn      pyn      sab      tan\n",
        "aet   955630  6296262  6496417  7738523  6509592\n",
        "cyn  6296262  1619761  4702764  7332660  5851541\n",
        "pyn  6496417  4702764  2036598  7564638  6030851\n",
        "sab  7738523  7332660  7564638  1521090  7212378\n",
        "tan  6509592  5851541  6030851  7212378  1972045\n",
        "\n",
        "[5 rows x 5 columns]"
       ]
      }
     ],
     "prompt_number": 57
    },
    {
     "cell_type": "code",
     "collapsed": false,
     "input": [
      "stats_table"
     ],
     "language": "python",
     "metadata": {},
     "outputs": [
      {
       "html": [
        "<div style=\"max-height:1000px;max-width:1500px;overflow:auto;\">\n",
        "<table border=\"1\" class=\"dataframe\">\n",
        "  <thead>\n",
        "    <tr style=\"text-align: right;\">\n",
        "      <th></th>\n",
        "      <th>short name</th>\n",
        "      <th>subspecies</th>\n",
        "      <th>total reads</th>\n",
        "      <th>percent mapped\n",
        "(incl. scaffolds)</th>\n",
        "      <th>average coverage</th>\n",
        "      <th>heterozygosity (%)</th>\n",
        "      <th>derived alleles (million)</th>\n",
        "    </tr>\n",
        "    <tr>\n",
        "      <th>ucla_id</th>\n",
        "      <th></th>\n",
        "      <th></th>\n",
        "      <th></th>\n",
        "      <th></th>\n",
        "      <th></th>\n",
        "      <th></th>\n",
        "      <th></th>\n",
        "    </tr>\n",
        "  </thead>\n",
        "  <tbody>\n",
        "    <tr>\n",
        "      <th>VGA00006</th>\n",
        "      <td> sab</td>\n",
        "      <td>     sabaeus</td>\n",
        "      <td> 371703956</td>\n",
        "      <td>99.43</td>\n",
        "      <td>10.84</td>\n",
        "      <td>0.11</td>\n",
        "      <td>11.26</td>\n",
        "    </tr>\n",
        "    <tr>\n",
        "      <th>VEC1016</th>\n",
        "      <td> aet</td>\n",
        "      <td>    aethiops</td>\n",
        "      <td> 318382728</td>\n",
        "      <td>99.32</td>\n",
        "      <td> 9.17</td>\n",
        "      <td>0.07</td>\n",
        "      <td>11.42</td>\n",
        "    </tr>\n",
        "    <tr>\n",
        "      <th>AGM141</th>\n",
        "      <td> tan</td>\n",
        "      <td>    tantalus</td>\n",
        "      <td> 326842858</td>\n",
        "      <td>99.49</td>\n",
        "      <td>10.08</td>\n",
        "      <td>0.15</td>\n",
        "      <td>11.33</td>\n",
        "    </tr>\n",
        "    <tr>\n",
        "      <th>AG5417</th>\n",
        "      <td> pyn</td>\n",
        "      <td> pygerythrus</td>\n",
        "      <td> 367646925</td>\n",
        "      <td>99.53</td>\n",
        "      <td>10.29</td>\n",
        "      <td>0.15</td>\n",
        "      <td>11.45</td>\n",
        "    </tr>\n",
        "    <tr>\n",
        "      <th>VZA3008</th>\n",
        "      <td> cyn</td>\n",
        "      <td>   cynosurus</td>\n",
        "      <td> 288494098</td>\n",
        "      <td>98.72</td>\n",
        "      <td> 8.20</td>\n",
        "      <td>0.12</td>\n",
        "      <td>11.05</td>\n",
        "    </tr>\n",
        "  </tbody>\n",
        "</table>\n",
        "<p>5 rows \u00d7 7 columns</p>\n",
        "</div>"
       ],
       "metadata": {},
       "output_type": "pyout",
       "prompt_number": 626,
       "text": [
        "         short name   subspecies  total reads  \\\n",
        "ucla_id                                         \n",
        "VGA00006        sab      sabaeus    371703956   \n",
        "VEC1016         aet     aethiops    318382728   \n",
        "AGM141          tan     tantalus    326842858   \n",
        "AG5417          pyn  pygerythrus    367646925   \n",
        "VZA3008         cyn    cynosurus    288494098   \n",
        "\n",
        "          percent mapped\\n(incl. scaffolds)  average coverage  \\\n",
        "ucla_id                                                         \n",
        "VGA00006                              99.43             10.84   \n",
        "VEC1016                               99.32              9.17   \n",
        "AGM141                                99.49             10.08   \n",
        "AG5417                                99.53             10.29   \n",
        "VZA3008                               98.72              8.20   \n",
        "\n",
        "          heterozygosity (%)  derived alleles (million)  \n",
        "ucla_id                                                  \n",
        "VGA00006                0.11                      11.26  \n",
        "VEC1016                 0.07                      11.42  \n",
        "AGM141                  0.15                      11.33  \n",
        "AG5417                  0.15                      11.45  \n",
        "VZA3008                 0.12                      11.05  \n",
        "\n",
        "[5 rows x 7 columns]"
       ]
      }
     ],
     "prompt_number": 626
    },
    {
     "cell_type": "heading",
     "level": 4,
     "metadata": {},
     "source": [
      "pairwise difference, phylogenetic tree"
     ]
    },
    {
     "cell_type": "code",
     "collapsed": false,
     "input": [
      "pw_diff = total_stats[\"pairwise_diff_mat\"]"
     ],
     "language": "python",
     "metadata": {},
     "outputs": [],
     "prompt_number": 74
    },
    {
     "cell_type": "code",
     "collapsed": false,
     "input": [
      "generation_time=8.5\n",
      "mutation_rate=1.5*10**(-8)\n",
      "genome_size=2.7*10**9\n",
      "coal_time = pw_diff*generation_time/(2*genome_size*mutation_rate)"
     ],
     "language": "python",
     "metadata": {},
     "outputs": [],
     "prompt_number": 75
    },
    {
     "cell_type": "code",
     "collapsed": false,
     "input": [
      "total_stats[\"pairwise_diff_mat\"].to_csv(\n",
      "                os.path.join(output_folder,\"pairwise_diff_10x_macaque.tsv\"),sep=\"\\t\")"
     ],
     "language": "python",
     "metadata": {},
     "outputs": [],
     "prompt_number": 76
    },
    {
     "cell_type": "code",
     "collapsed": false,
     "input": [
      "snps_per_sp = total_stats[\"snps_per_subpop\"].copy()*100./genome_size\n",
      "snps_per_sp.name = \"heterozygosity (%)\"\n",
      "snps_per_sp.index = [ucla_ids[subspecies.index(s)] for s in snps_per_sp.index]\n",
      "stats_table = stats_table.join(snps_per_sp) "
     ],
     "language": "python",
     "metadata": {},
     "outputs": [],
     "prompt_number": 77
    },
    {
     "cell_type": "code",
     "collapsed": false,
     "input": [
      "derived_alleles = total_stats[\"derived_alleles\"].copy()/10.**6\n",
      "derived_alleles.name = \"derived alleles (million)\"\n",
      "derived_alleles.index = [ucla_ids[subspecies.index(s)] for s in derived_alleles.index]\n",
      "stats_table = stats_table.join(derived_alleles) "
     ],
     "language": "python",
     "metadata": {},
     "outputs": [],
     "prompt_number": 78
    },
    {
     "cell_type": "code",
     "collapsed": false,
     "input": [
      "stats_table[[\"average coverage\",\"percent mapped\\n(incl. scaffolds)\",\"heterozygosity (%)\",\"derived alleles (million)\"]] = stats_table[[\"average coverage\",\"percent mapped\\n(incl. scaffolds)\",\"heterozygosity (%)\",\"derived alleles (million)\"]].applymap(lambda x: round(100.*x)/100)"
     ],
     "language": "python",
     "metadata": {},
     "outputs": [],
     "prompt_number": 80
    },
    {
     "cell_type": "code",
     "collapsed": false,
     "input": [
      "eff_popsize = pd.Series([pw_diff.iloc[i,i] for i in range(len(pw_diff))],index=pw_diff.index)/(4.*mutation_rate*genome_size)"
     ],
     "language": "python",
     "metadata": {},
     "outputs": [],
     "prompt_number": 633
    },
    {
     "cell_type": "code",
     "collapsed": false,
     "input": [
      "eff_popsize"
     ],
     "language": "python",
     "metadata": {},
     "outputs": [
      {
       "metadata": {},
       "output_type": "pyout",
       "prompt_number": 634,
       "text": [
        "aet    5,898.95\n",
        "cyn    9,998.52\n",
        "pyn   12,571.59\n",
        "sab    9,389.44\n",
        "tan   12,173.11\n",
        "dtype: float64"
       ]
      }
     ],
     "prompt_number": 634
    },
    {
     "cell_type": "code",
     "collapsed": false,
     "input": [
      "stats_table"
     ],
     "language": "python",
     "metadata": {},
     "outputs": [
      {
       "html": [
        "<div style=\"max-height:1000px;max-width:1500px;overflow:auto;\">\n",
        "<table border=\"1\" class=\"dataframe\">\n",
        "  <thead>\n",
        "    <tr style=\"text-align: right;\">\n",
        "      <th></th>\n",
        "      <th>short name</th>\n",
        "      <th>subspecies</th>\n",
        "      <th>total reads</th>\n",
        "      <th>percent mapped\n",
        "(incl. scaffolds)</th>\n",
        "      <th>average coverage</th>\n",
        "      <th>heterozygosity (%)</th>\n",
        "      <th>derived alleles (million)</th>\n",
        "    </tr>\n",
        "    <tr>\n",
        "      <th>ucla_id</th>\n",
        "      <th></th>\n",
        "      <th></th>\n",
        "      <th></th>\n",
        "      <th></th>\n",
        "      <th></th>\n",
        "      <th></th>\n",
        "      <th></th>\n",
        "    </tr>\n",
        "  </thead>\n",
        "  <tbody>\n",
        "    <tr>\n",
        "      <th>VGA00006</th>\n",
        "      <td> sab</td>\n",
        "      <td>     sabaeus</td>\n",
        "      <td> 371703956</td>\n",
        "      <td> 99.43</td>\n",
        "      <td> 10.84</td>\n",
        "      <td> 0.11</td>\n",
        "      <td> 11.26</td>\n",
        "    </tr>\n",
        "    <tr>\n",
        "      <th>VEC1016</th>\n",
        "      <td> aet</td>\n",
        "      <td>    aethiops</td>\n",
        "      <td> 318382728</td>\n",
        "      <td> 99.32</td>\n",
        "      <td>  9.17</td>\n",
        "      <td> 0.07</td>\n",
        "      <td> 11.42</td>\n",
        "    </tr>\n",
        "    <tr>\n",
        "      <th>AGM141</th>\n",
        "      <td> tan</td>\n",
        "      <td>    tantalus</td>\n",
        "      <td> 326842858</td>\n",
        "      <td> 99.49</td>\n",
        "      <td> 10.08</td>\n",
        "      <td> 0.15</td>\n",
        "      <td> 11.33</td>\n",
        "    </tr>\n",
        "    <tr>\n",
        "      <th>AG5417</th>\n",
        "      <td> pyn</td>\n",
        "      <td> pygerythrus</td>\n",
        "      <td> 367646925</td>\n",
        "      <td> 99.53</td>\n",
        "      <td> 10.29</td>\n",
        "      <td> 0.15</td>\n",
        "      <td> 11.45</td>\n",
        "    </tr>\n",
        "    <tr>\n",
        "      <th>VZA3008</th>\n",
        "      <td> cyn</td>\n",
        "      <td>   cynosurus</td>\n",
        "      <td> 288494098</td>\n",
        "      <td> 98.72</td>\n",
        "      <td>  8.20</td>\n",
        "      <td> 0.12</td>\n",
        "      <td> 11.05</td>\n",
        "    </tr>\n",
        "  </tbody>\n",
        "</table>\n",
        "<p>5 rows \u00d7 7 columns</p>\n",
        "</div>"
       ],
       "metadata": {},
       "output_type": "pyout",
       "prompt_number": 83,
       "text": [
        "         short name   subspecies  total reads  \\\n",
        "ucla_id                                         \n",
        "VGA00006        sab      sabaeus    371703956   \n",
        "VEC1016         aet     aethiops    318382728   \n",
        "AGM141          tan     tantalus    326842858   \n",
        "AG5417          pyn  pygerythrus    367646925   \n",
        "VZA3008         cyn    cynosurus    288494098   \n",
        "\n",
        "          percent mapped\\n(incl. scaffolds)  average coverage  \\\n",
        "ucla_id                                                         \n",
        "VGA00006                              99.43             10.84   \n",
        "VEC1016                               99.32              9.17   \n",
        "AGM141                                99.49             10.08   \n",
        "AG5417                                99.53             10.29   \n",
        "VZA3008                               98.72              8.20   \n",
        "\n",
        "          heterozygosity (%)  derived alleles (million)  \n",
        "ucla_id                                                  \n",
        "VGA00006                0.11                      11.26  \n",
        "VEC1016                 0.07                      11.42  \n",
        "AGM141                  0.15                      11.33  \n",
        "AG5417                  0.15                      11.45  \n",
        "VZA3008                 0.12                      11.05  \n",
        "\n",
        "[5 rows x 7 columns]"
       ]
      }
     ],
     "prompt_number": 83
    },
    {
     "cell_type": "code",
     "collapsed": false,
     "input": [
      "split_time =coal_time.copy()\n",
      "split_time.iloc[:,:]=np.nan\n",
      "for i in range(coal_time.shape[0]):\n",
      "    for j in range(coal_time.shape[1]):\n",
      "        split_time.iloc[i,j]=coal_time.iloc[i,j]-(coal_time.iloc[i,i]+coal_time.iloc[j,j])/2"
     ],
     "language": "python",
     "metadata": {},
     "outputs": [],
     "prompt_number": 536
    },
    {
     "cell_type": "code",
     "collapsed": false,
     "input": [
      "coal_time "
     ],
     "language": "python",
     "metadata": {},
     "outputs": [
      {
       "html": [
        "<div style=\"max-height:1000px;max-width:1500px;overflow:auto;\">\n",
        "<table border=\"1\" class=\"dataframe\">\n",
        "  <thead>\n",
        "    <tr style=\"text-align: right;\">\n",
        "      <th></th>\n",
        "      <th>aet</th>\n",
        "      <th>cyn</th>\n",
        "      <th>pyn</th>\n",
        "      <th>sab</th>\n",
        "      <th>tan</th>\n",
        "    </tr>\n",
        "  </thead>\n",
        "  <tbody>\n",
        "    <tr>\n",
        "      <th>aet</th>\n",
        "      <td>100,282.11</td>\n",
        "      <td>660,718.80</td>\n",
        "      <td>681,722.72</td>\n",
        "      <td>812,067.23</td>\n",
        "      <td>683,105.33</td>\n",
        "    </tr>\n",
        "    <tr>\n",
        "      <th>cyn</th>\n",
        "      <td>660,718.80</td>\n",
        "      <td>169,974.92</td>\n",
        "      <td>493,499.87</td>\n",
        "      <td>769,476.61</td>\n",
        "      <td>614,050.60</td>\n",
        "    </tr>\n",
        "    <tr>\n",
        "      <th>pyn</th>\n",
        "      <td>681,722.72</td>\n",
        "      <td>493,499.87</td>\n",
        "      <td>213,717.07</td>\n",
        "      <td>793,820.04</td>\n",
        "      <td>632,867.08</td>\n",
        "    </tr>\n",
        "    <tr>\n",
        "      <th>sab</th>\n",
        "      <td>812,067.23</td>\n",
        "      <td>769,476.61</td>\n",
        "      <td>793,820.04</td>\n",
        "      <td>159,620.50</td>\n",
        "      <td>756,854.43</td>\n",
        "    </tr>\n",
        "    <tr>\n",
        "      <th>tan</th>\n",
        "      <td>683,105.33</td>\n",
        "      <td>614,050.60</td>\n",
        "      <td>632,867.08</td>\n",
        "      <td>756,854.43</td>\n",
        "      <td>206,942.94</td>\n",
        "    </tr>\n",
        "  </tbody>\n",
        "</table>\n",
        "<p>5 rows \u00d7 5 columns</p>\n",
        "</div>"
       ],
       "metadata": {},
       "output_type": "pyout",
       "prompt_number": 537,
       "text": [
        "           aet        cyn        pyn        sab        tan\n",
        "aet 100,282.11 660,718.80 681,722.72 812,067.23 683,105.33\n",
        "cyn 660,718.80 169,974.92 493,499.87 769,476.61 614,050.60\n",
        "pyn 681,722.72 493,499.87 213,717.07 793,820.04 632,867.08\n",
        "sab 812,067.23 769,476.61 793,820.04 159,620.50 756,854.43\n",
        "tan 683,105.33 614,050.60 632,867.08 756,854.43 206,942.94\n",
        "\n",
        "[5 rows x 5 columns]"
       ]
      }
     ],
     "prompt_number": 537
    },
    {
     "cell_type": "code",
     "collapsed": false,
     "input": [
      "split_time"
     ],
     "language": "python",
     "metadata": {},
     "outputs": [
      {
       "html": [
        "<div style=\"max-height:1000px;max-width:1500px;overflow:auto;\">\n",
        "<table border=\"1\" class=\"dataframe\">\n",
        "  <thead>\n",
        "    <tr style=\"text-align: right;\">\n",
        "      <th></th>\n",
        "      <th>aet</th>\n",
        "      <th>cyn</th>\n",
        "      <th>pyn</th>\n",
        "      <th>sab</th>\n",
        "      <th>tan</th>\n",
        "    </tr>\n",
        "  </thead>\n",
        "  <tbody>\n",
        "    <tr>\n",
        "      <th>aet</th>\n",
        "      <td>      0.00</td>\n",
        "      <td>525,590.29</td>\n",
        "      <td>524,723.13</td>\n",
        "      <td>682,115.92</td>\n",
        "      <td>529,492.81</td>\n",
        "    </tr>\n",
        "    <tr>\n",
        "      <th>cyn</th>\n",
        "      <td>525,590.29</td>\n",
        "      <td>      0.00</td>\n",
        "      <td>301,653.88</td>\n",
        "      <td>604,678.90</td>\n",
        "      <td>425,591.67</td>\n",
        "    </tr>\n",
        "    <tr>\n",
        "      <th>pyn</th>\n",
        "      <td>524,723.13</td>\n",
        "      <td>301,653.88</td>\n",
        "      <td>      0.00</td>\n",
        "      <td>607,151.25</td>\n",
        "      <td>422,537.07</td>\n",
        "    </tr>\n",
        "    <tr>\n",
        "      <th>sab</th>\n",
        "      <td>682,115.92</td>\n",
        "      <td>604,678.90</td>\n",
        "      <td>607,151.25</td>\n",
        "      <td>      0.00</td>\n",
        "      <td>573,572.71</td>\n",
        "    </tr>\n",
        "    <tr>\n",
        "      <th>tan</th>\n",
        "      <td>529,492.81</td>\n",
        "      <td>425,591.67</td>\n",
        "      <td>422,537.07</td>\n",
        "      <td>573,572.71</td>\n",
        "      <td>      0.00</td>\n",
        "    </tr>\n",
        "  </tbody>\n",
        "</table>\n",
        "<p>5 rows \u00d7 5 columns</p>\n",
        "</div>"
       ],
       "metadata": {},
       "output_type": "pyout",
       "prompt_number": 538,
       "text": [
        "           aet        cyn        pyn        sab        tan\n",
        "aet       0.00 525,590.29 524,723.13 682,115.92 529,492.81\n",
        "cyn 525,590.29       0.00 301,653.88 604,678.90 425,591.67\n",
        "pyn 524,723.13 301,653.88       0.00 607,151.25 422,537.07\n",
        "sab 682,115.92 604,678.90 607,151.25       0.00 573,572.71\n",
        "tan 529,492.81 425,591.67 422,537.07 573,572.71       0.00\n",
        "\n",
        "[5 rows x 5 columns]"
       ]
      }
     ],
     "prompt_number": 538
    },
    {
     "cell_type": "code",
     "collapsed": false,
     "input": [
      "split_time.to_csv(\n",
      "                os.path.join(output_folder,\"split_time_10x.tsv\"),sep=\"\\t\")"
     ],
     "language": "python",
     "metadata": {},
     "outputs": [],
     "prompt_number": 539
    },
    {
     "cell_type": "code",
     "collapsed": false,
     "input": [
      "from Bio import Phylo"
     ],
     "language": "python",
     "metadata": {},
     "outputs": [],
     "prompt_number": 388
    },
    {
     "cell_type": "code",
     "collapsed": false,
     "input": [
      "split_tree = Phylo.read(os.path.join(output_folder,\"split_tree.newick\"),\"newick\")\n",
      "split_tree.ladderize()   # Flip branches so deeper clades are displayed at top\n",
      "Phylo.draw(split_tree)"
     ],
     "language": "python",
     "metadata": {},
     "outputs": [],
     "prompt_number": 396
    },
    {
     "cell_type": "code",
     "collapsed": false,
     "input": [],
     "language": "python",
     "metadata": {},
     "outputs": [
      {
       "metadata": {},
       "output_type": "display_data",
       "png": "[encoded data removed]"
      }
     ],
     "prompt_number": 398
    },
    {
     "cell_type": "code",
     "collapsed": false,
     "input": [
      "rooted_split_tree = Phylo.read(os.path.join(output_folder,\"rooted_split_tree.newick\"),\"newick\")\n",
      "rooted_split_tree.ladderize()   # Flip branches so deeper clades are displayed at top\n",
      "Phylo.draw(rooted_split_tree)"
     ],
     "language": "python",
     "metadata": {},
     "outputs": [
      {
       "metadata": {},
       "output_type": "display_data",
       "png": "[encoded data removed]"
      }
     ],
     "prompt_number": 444
    },
    {
     "cell_type": "code",
     "collapsed": false,
     "input": [
      "rooted_split_tree"
     ],
     "language": "python",
     "metadata": {},
     "outputs": [
      {
       "metadata": {},
       "output_type": "pyout",
       "prompt_number": 446,
       "text": [
        "Tree(weight=1.0, rooted=False)"
       ]
      }
     ],
     "prompt_number": 446
    },
    {
     "cell_type": "code",
     "collapsed": false,
     "input": [],
     "language": "python",
     "metadata": {},
     "outputs": []
    }
   ],
   "metadata": {}
  }
 ]
}