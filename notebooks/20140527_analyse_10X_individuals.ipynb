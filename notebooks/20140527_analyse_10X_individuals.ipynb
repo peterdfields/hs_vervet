{
 "cells": [
  {
   "cell_type": "code",
   "execution_count": 45,
   "metadata": {
    "collapsed": false
   },
   "outputs": [],
   "source": []
  },
  {
   "cell_type": "code",
   "execution_count": 2,
   "metadata": {
    "collapsed": false
   },
   "outputs": [],
   "source": [
    "from IPython.parallel import Client\n",
    "rc = Client(profile=\"hs_server\")\n",
    "#dview = rc[:]\n",
    "lv = rc.load_balanced_view()"
   ]
  },
  {
   "cell_type": "code",
   "execution_count": 3,
   "metadata": {
    "collapsed": false
   },
   "outputs": [],
   "source": [
    "%matplotlib inline"
   ]
  },
  {
   "cell_type": "code",
   "execution_count": 10,
   "metadata": {
    "collapsed": false
   },
   "outputs": [],
   "source": [
    "%%px --local\n",
    "#the %%px assures that this is sent to the workers\n",
    "import os\n",
    "import pandas as pd\n",
    "import json\n",
    "import os\n",
    "import pandas as pd\n",
    "from matplotlib import pyplot as plt\n",
    "import matplotlib as mpl\n",
    "import numpy as np\n",
    "eu = os.path.expanduser\n",
    "jn = os.path.join\n",
    "\n",
    "\n",
    "figure_dir = eu(\"~/VervetPopgen/Figures\")\n",
    "\n",
    "meta_df = pd.read_csv(os.path.expanduser(\"~/vervet_project/metadata/163_population_ucla_id_taxon.csv\"),index_col=0)\n",
    "meta_df[\"index\"] = meta_df.index\n",
    "meta_df.drop_duplicates(subset='index', take_last=True, inplace=True)\n",
    "del meta_df[\"index\"]\n",
    "\n",
    "autosomes = [\"CAE\" + str(i) for i in range(1,30)]\n",
    "chromosomes = [\"CAE\" + str(i) for i in range(1,30)+[\"X\"]]\n",
    "ucla_ids = [\"VGA00006\", \"VEC1016\", \"AGM141\", \"AG5417\", \"VZA3008\"]\n",
    "subspecies = [meta_df[\"population\"].loc[id] for id in ucla_ids]\n",
    "#fraction of the genome not filtered\n",
    "fraction_not_filtered = 0.9\n",
    "\n",
    "import ast\n",
    "def str_to_dic(s):\n",
    "    try:\n",
    "        return ast.literal_eval(s)\n",
    "    except ValueError:\n",
    "        print s\n",
    "        raise\n",
    "mt = pd.read_csv(jn(eu(\"~/vervet_project/metadata/\"),\"163_master_table.csv\"),\n",
    "                 index_col=0,\n",
    "                 converters={\"library\":str_to_dic,\"phenotypes\":str_to_dic}\n",
    "                 )\n",
    "data_folder =  eu(\"~/vervet_lab/analyses/20140524_SNP_calling_ref3500_10X_individuals/_data/\")\n",
    "output_folder = eu(\"~/vervet_project/analyses/20140524_SNP_calling_ref3500_10X_individuals/output/\")\n",
    "msmc_ana_dir = eu(\"~/vervet_project/analyses/20140524_SNP_calling_ref3500_10X_individuals/_data/\")"
   ]
  },
  {
   "cell_type": "code",
   "execution_count": 4,
   "metadata": {
    "collapsed": false
   },
   "outputs": [
    {
     "name": "stdout",
     "output_type": "stream",
     "text": [
      "['sab', 'aet', 'tan', 'pyn', 'cyn']\n"
     ]
    }
   ],
   "source": [
    "print subspecies"
   ]
  },
  {
   "cell_type": "code",
   "execution_count": 4,
   "metadata": {
    "collapsed": false
   },
   "outputs": [],
   "source": [
    "import math\n",
    " \n",
    "def distance_on_unit_sphere(lat1, long1, lat2, long2):\n",
    " \n",
    "    # Convert latitude and longitude to \n",
    "    # spherical coordinates in radians.\n",
    "    degrees_to_radians = math.pi/180.0\n",
    "         \n",
    "    # phi = 90 - latitude\n",
    "    phi1 = (90.0 - lat1)*degrees_to_radians\n",
    "    phi2 = (90.0 - lat2)*degrees_to_radians\n",
    "         \n",
    "    # theta = longitude\n",
    "    theta1 = long1*degrees_to_radians\n",
    "    theta2 = long2*degrees_to_radians\n",
    "         \n",
    "    # Compute spherical distance from spherical coordinates.\n",
    "         \n",
    "    # For two locations in spherical coordinates \n",
    "    # (1, theta, phi) and (1, theta, phi)\n",
    "    # cosine( arc length ) = \n",
    "    #    sin phi sin phi' cos(theta-theta') + cos phi cos phi'\n",
    "    # distance = rho * arc length\n",
    "     \n",
    "    cos = (math.sin(phi1)*math.sin(phi2)*math.cos(theta1 - theta2) + \n",
    "           math.cos(phi1)*math.cos(phi2))\n",
    "    arc = math.acos( cos )\n",
    " \n",
    "    # Remember to multiply arc by the radius of the earth \n",
    "    # in your favorite set of units to get length.\n",
    "    return arc\n",
    "earth_radius_km = 6371"
   ]
  },
  {
   "cell_type": "code",
   "execution_count": 41,
   "metadata": {
    "collapsed": false
   },
   "outputs": [],
   "source": [
    "dist_df = pd.DataFrame(0,index=meta_df.ix[ucla_ids][\"population\"].values,columns=meta_df.ix[ucla_ids][\"population\"].values)\n",
    "for i0,j0 in mt.ix[ucla_ids][['longitude','latitude']].iterrows():\n",
    "    for i1,j1 in mt.ix[ucla_ids][['longitude','latitude']].iterrows():\n",
    "        if i0 != i1:\n",
    "            dist_df.ix[meta_df.ix[ucla_ids][\"population\"][i0],meta_df.ix[ucla_ids][\"population\"][i1]] = \\\n",
    "                distance_on_unit_sphere(j0['latitude'], j0['longitude'],j1['latitude'],j1['longitude'])*earth_radius_km"
   ]
  },
  {
   "cell_type": "code",
   "execution_count": 45,
   "metadata": {
    "collapsed": false
   },
   "outputs": [],
   "source": [
    "dist_df.to_csv(os.path.join(output_folder,\"geographic_dist_10x.tsv\"),sep=\"\\t\")"
   ]
  },
  {
   "cell_type": "code",
   "execution_count": 6,
   "metadata": {
    "collapsed": false
   },
   "outputs": [],
   "source": [
    "subspecies_short_to_long  = {'sab':'sabaeus','aet':'aethiops','tan':'tantalus','pyn':'pygerythrus','cyn':'cynosurus'}"
   ]
  },
  {
   "cell_type": "code",
   "execution_count": 7,
   "metadata": {
    "collapsed": false
   },
   "outputs": [],
   "source": [
    "stats_table = pd.DataFrame({\"subspecies\":[subspecies_short_to_long[s] for s in subspecies],\"short name\":subspecies,\"ucla_id\":ucla_ids})\n",
    "stats_table.set_index(\"ucla_id\",inplace=True)"
   ]
  },
  {
   "cell_type": "code",
   "execution_count": 8,
   "metadata": {
    "collapsed": false
   },
   "outputs": [
    {
     "data": {
      "text/html": [
       "<div style=\"max-height:1000px;max-width:1500px;overflow:auto;\">\n",
       "<table border=\"1\" class=\"dataframe\">\n",
       "  <thead>\n",
       "    <tr style=\"text-align: right;\">\n",
       "      <th></th>\n",
       "      <th>short name</th>\n",
       "      <th>subspecies</th>\n",
       "    </tr>\n",
       "    <tr>\n",
       "      <th>ucla_id</th>\n",
       "      <th></th>\n",
       "      <th></th>\n",
       "    </tr>\n",
       "  </thead>\n",
       "  <tbody>\n",
       "    <tr>\n",
       "      <th>VGA00006</th>\n",
       "      <td> sab</td>\n",
       "      <td>     sabaeus</td>\n",
       "    </tr>\n",
       "    <tr>\n",
       "      <th>VEC1016</th>\n",
       "      <td> aet</td>\n",
       "      <td>    aethiops</td>\n",
       "    </tr>\n",
       "    <tr>\n",
       "      <th>AGM141</th>\n",
       "      <td> tan</td>\n",
       "      <td>    tantalus</td>\n",
       "    </tr>\n",
       "    <tr>\n",
       "      <th>AG5417</th>\n",
       "      <td> pyn</td>\n",
       "      <td> pygerythrus</td>\n",
       "    </tr>\n",
       "    <tr>\n",
       "      <th>VZA3008</th>\n",
       "      <td> cyn</td>\n",
       "      <td>   cynosurus</td>\n",
       "    </tr>\n",
       "  </tbody>\n",
       "</table>\n",
       "</div>"
      ],
      "text/plain": [
       "         short name   subspecies\n",
       "ucla_id                         \n",
       "VGA00006        sab      sabaeus\n",
       "VEC1016         aet     aethiops\n",
       "AGM141          tan     tantalus\n",
       "AG5417          pyn  pygerythrus\n",
       "VZA3008         cyn    cynosurus"
      ]
     },
     "execution_count": 8,
     "metadata": {},
     "output_type": "execute_result"
    }
   ],
   "source": [
    "stats_table"
   ]
  },
  {
   "cell_type": "markdown",
   "metadata": {},
   "source": [
    "### flagstat mapping stats"
   ]
  },
  {
   "cell_type": "code",
   "execution_count": 9,
   "metadata": {
    "collapsed": false
   },
   "outputs": [],
   "source": [
    "flagstat_rows = [\"total\",\"duplicates\",\"mapped\",\"paired in sequencing\",\"read1\",\"read2\",\"properly paired\",\"both mapped\",\"singletons\",\"mate different chr\",\"mate different chr mapQ>5\"]"
   ]
  },
  {
   "cell_type": "code",
   "execution_count": 10,
   "metadata": {
    "collapsed": false
   },
   "outputs": [],
   "source": [
    "def flagstat_fn(ind):\n",
    "    return eu(\"~/vervet_project/analyses/\"\n",
    "                \"20140524_SNP_calling_ref3500_10X_individuals/_data/\"\n",
    "                \"{}_vs_ref3500.flagstat\".format(ind))"
   ]
  },
  {
   "cell_type": "code",
   "execution_count": 11,
   "metadata": {
    "collapsed": false
   },
   "outputs": [],
   "source": [
    "def read_flagstat(ind):\n",
    "    flagstat_dic = {}\n",
    "    with open(flagstat_fn(ind),\"r\") as ff:\n",
    "        for name,line in zip(flagstat_rows,ff):\n",
    "            el = line.split(\" + 0 \")\n",
    "            assert len(el)>1, \"QC-failed reads =! 0 not implemented. Rewrite this function.\"\n",
    "            flagstat_dic.update({name:int(el[0])})\n",
    "    return flagstat_dic"
   ]
  },
  {
   "cell_type": "code",
   "execution_count": 12,
   "metadata": {
    "collapsed": false
   },
   "outputs": [],
   "source": [
    "flagstat_df = pd.DataFrame({id:pd.Series(read_flagstat(id)) for id in ucla_ids}).T\n",
    "flagstat_df[\"percent mapped\"] = flagstat_df[\"mapped\"]*100./flagstat_df[\"total\"]\n",
    "flagstat_df.rename(columns={'total':'total reads',\"percent mapped\":\"percent mapped\\n(incl. scaffolds)\"}, inplace=True)"
   ]
  },
  {
   "cell_type": "code",
   "execution_count": 13,
   "metadata": {
    "collapsed": false
   },
   "outputs": [
    {
     "data": {
      "text/html": [
       "<div style=\"max-height:1000px;max-width:1500px;overflow:auto;\">\n",
       "<table border=\"1\" class=\"dataframe\">\n",
       "  <thead>\n",
       "    <tr style=\"text-align: right;\">\n",
       "      <th></th>\n",
       "      <th>both mapped</th>\n",
       "      <th>duplicates</th>\n",
       "      <th>mapped</th>\n",
       "      <th>mate different chr</th>\n",
       "      <th>mate different chr mapQ&gt;5</th>\n",
       "      <th>paired in sequencing</th>\n",
       "      <th>properly paired</th>\n",
       "      <th>read1</th>\n",
       "      <th>read2</th>\n",
       "      <th>singletons</th>\n",
       "      <th>total reads</th>\n",
       "      <th>percent mapped\n",
       "(incl. scaffolds)</th>\n",
       "    </tr>\n",
       "  </thead>\n",
       "  <tbody>\n",
       "    <tr>\n",
       "      <th>AG5417</th>\n",
       "      <td> 364880302</td>\n",
       "      <td> 58733062</td>\n",
       "      <td> 365928242</td>\n",
       "      <td> 62772944</td>\n",
       "      <td> 8644314</td>\n",
       "      <td> 367646925</td>\n",
       "      <td> 294781110</td>\n",
       "      <td> 183792208</td>\n",
       "      <td> 183854717</td>\n",
       "      <td> 1047940</td>\n",
       "      <td> 367646925</td>\n",
       "      <td> 99.532518</td>\n",
       "    </tr>\n",
       "    <tr>\n",
       "      <th>AGM141</th>\n",
       "      <td> 324181257</td>\n",
       "      <td> 27720015</td>\n",
       "      <td> 325161374</td>\n",
       "      <td> 34587771</td>\n",
       "      <td> 6797110</td>\n",
       "      <td> 326842858</td>\n",
       "      <td> 282953682</td>\n",
       "      <td> 163392318</td>\n",
       "      <td> 163450540</td>\n",
       "      <td>  980117</td>\n",
       "      <td> 326842858</td>\n",
       "      <td> 99.485537</td>\n",
       "    </tr>\n",
       "    <tr>\n",
       "      <th>VEC1016</th>\n",
       "      <td> 314749837</td>\n",
       "      <td> 43815627</td>\n",
       "      <td> 316202048</td>\n",
       "      <td> 32659286</td>\n",
       "      <td> 6073778</td>\n",
       "      <td> 318382728</td>\n",
       "      <td> 277491875</td>\n",
       "      <td> 159212166</td>\n",
       "      <td> 159170562</td>\n",
       "      <td> 1452211</td>\n",
       "      <td> 318382728</td>\n",
       "      <td> 99.315076</td>\n",
       "    </tr>\n",
       "    <tr>\n",
       "      <th>VGA00006</th>\n",
       "      <td> 368401241</td>\n",
       "      <td> 47870098</td>\n",
       "      <td> 369598357</td>\n",
       "      <td> 11448421</td>\n",
       "      <td> 4407660</td>\n",
       "      <td> 371703956</td>\n",
       "      <td> 355990947</td>\n",
       "      <td> 185864783</td>\n",
       "      <td> 185839173</td>\n",
       "      <td> 1197116</td>\n",
       "      <td> 371703956</td>\n",
       "      <td> 99.433528</td>\n",
       "    </tr>\n",
       "    <tr>\n",
       "      <th>VZA3008</th>\n",
       "      <td> 282154744</td>\n",
       "      <td> 38980231</td>\n",
       "      <td> 284800776</td>\n",
       "      <td> 38167125</td>\n",
       "      <td> 6493568</td>\n",
       "      <td> 288494098</td>\n",
       "      <td> 238361372</td>\n",
       "      <td> 144260235</td>\n",
       "      <td> 144233863</td>\n",
       "      <td> 2646032</td>\n",
       "      <td> 288494098</td>\n",
       "      <td> 98.719793</td>\n",
       "    </tr>\n",
       "  </tbody>\n",
       "</table>\n",
       "</div>"
      ],
      "text/plain": [
       "          both mapped  duplicates     mapped  mate different chr  \\\n",
       "AG5417      364880302    58733062  365928242            62772944   \n",
       "AGM141      324181257    27720015  325161374            34587771   \n",
       "VEC1016     314749837    43815627  316202048            32659286   \n",
       "VGA00006    368401241    47870098  369598357            11448421   \n",
       "VZA3008     282154744    38980231  284800776            38167125   \n",
       "\n",
       "          mate different chr mapQ>5  paired in sequencing  properly paired  \\\n",
       "AG5417                      8644314             367646925        294781110   \n",
       "AGM141                      6797110             326842858        282953682   \n",
       "VEC1016                     6073778             318382728        277491875   \n",
       "VGA00006                    4407660             371703956        355990947   \n",
       "VZA3008                     6493568             288494098        238361372   \n",
       "\n",
       "              read1      read2  singletons  total reads  \\\n",
       "AG5417    183792208  183854717     1047940    367646925   \n",
       "AGM141    163392318  163450540      980117    326842858   \n",
       "VEC1016   159212166  159170562     1452211    318382728   \n",
       "VGA00006  185864783  185839173     1197116    371703956   \n",
       "VZA3008   144260235  144233863     2646032    288494098   \n",
       "\n",
       "          percent mapped\\n(incl. scaffolds)  \n",
       "AG5417                            99.532518  \n",
       "AGM141                            99.485537  \n",
       "VEC1016                           99.315076  \n",
       "VGA00006                          99.433528  \n",
       "VZA3008                           98.719793  "
      ]
     },
     "execution_count": 13,
     "metadata": {},
     "output_type": "execute_result"
    }
   ],
   "source": [
    "flagstat_df"
   ]
  },
  {
   "cell_type": "code",
   "execution_count": 14,
   "metadata": {
    "collapsed": false
   },
   "outputs": [],
   "source": [
    "stats_table = stats_table.join(flagstat_df[[\"total reads\",\"percent mapped\\n(incl. scaffolds)\"]])"
   ]
  },
  {
   "cell_type": "markdown",
   "metadata": {},
   "source": [
    "### coverage stats"
   ]
  },
  {
   "cell_type": "code",
   "execution_count": 15,
   "metadata": {
    "collapsed": false
   },
   "outputs": [],
   "source": [
    "coverage_stats = pd.read_csv(eu(\"~/vervet_project/metadata/coverage_10X_individuals.tsv\"),sep=\"\\t\",index_col=0)"
   ]
  },
  {
   "cell_type": "code",
   "execution_count": 16,
   "metadata": {
    "collapsed": false
   },
   "outputs": [],
   "source": [
    "average_coverage = coverage_stats.ix[\"CAE1\":\"CAE29\",\"VGA00006\":\"VZA3008\"].mul(coverage_stats.ix[\"CAE1\":\"CAE29\",\"length\"],axis=0).sum(axis=0)/coverage_stats.ix[\"CAE1\":\"CAE29\",\"length\"].sum(axis=0)\n",
    "average_coverage.name = \"average coverage\""
   ]
  },
  {
   "cell_type": "code",
   "execution_count": 17,
   "metadata": {
    "collapsed": false
   },
   "outputs": [
    {
     "name": "stdout",
     "output_type": "stream",
     "text": [
      "VGA00006    10.843917\n",
      "VEC1016      9.174149\n",
      "AGM141      10.082667\n",
      "AG5417      10.292815\n",
      "VZA3008      8.195362\n",
      "Name: average coverage, dtype: float64\n"
     ]
    }
   ],
   "source": [
    "print average_coverage"
   ]
  },
  {
   "cell_type": "code",
   "execution_count": 18,
   "metadata": {
    "collapsed": false
   },
   "outputs": [
    {
     "data": {
      "text/plain": [
       "<matplotlib.axes._subplots.AxesSubplot at 0x3913110>"
      ]
     },
     "execution_count": 18,
     "metadata": {},
     "output_type": "execute_result"
    },
    {
     "data": {
      "image/png": "[encoded data removed]",
      "text/plain": [
       "<matplotlib.figure.Figure at 0x3906e90>"
      ]
     },
     "metadata": {},
     "output_type": "display_data"
    }
   ],
   "source": [
    "average_coverage.plot(kind='bar',fontsize=15)"
   ]
  },
  {
   "cell_type": "code",
   "execution_count": 19,
   "metadata": {
    "collapsed": false
   },
   "outputs": [],
   "source": [
    "stats_table = stats_table.join(average_coverage) "
   ]
  },
  {
   "cell_type": "code",
   "execution_count": 20,
   "metadata": {
    "collapsed": false
   },
   "outputs": [
    {
     "data": {
      "text/html": [
       "<div style=\"max-height:1000px;max-width:1500px;overflow:auto;\">\n",
       "<table border=\"1\" class=\"dataframe\">\n",
       "  <thead>\n",
       "    <tr style=\"text-align: right;\">\n",
       "      <th></th>\n",
       "      <th>short name</th>\n",
       "      <th>subspecies</th>\n",
       "      <th>total reads</th>\n",
       "      <th>percent mapped\n",
       "(incl. scaffolds)</th>\n",
       "      <th>average coverage</th>\n",
       "    </tr>\n",
       "    <tr>\n",
       "      <th>ucla_id</th>\n",
       "      <th></th>\n",
       "      <th></th>\n",
       "      <th></th>\n",
       "      <th></th>\n",
       "      <th></th>\n",
       "    </tr>\n",
       "  </thead>\n",
       "  <tbody>\n",
       "    <tr>\n",
       "      <th>VGA00006</th>\n",
       "      <td> sab</td>\n",
       "      <td>     sabaeus</td>\n",
       "      <td> 371703956</td>\n",
       "      <td> 99.433528</td>\n",
       "      <td> 10.843917</td>\n",
       "    </tr>\n",
       "    <tr>\n",
       "      <th>VEC1016</th>\n",
       "      <td> aet</td>\n",
       "      <td>    aethiops</td>\n",
       "      <td> 318382728</td>\n",
       "      <td> 99.315076</td>\n",
       "      <td>  9.174149</td>\n",
       "    </tr>\n",
       "    <tr>\n",
       "      <th>AGM141</th>\n",
       "      <td> tan</td>\n",
       "      <td>    tantalus</td>\n",
       "      <td> 326842858</td>\n",
       "      <td> 99.485537</td>\n",
       "      <td> 10.082667</td>\n",
       "    </tr>\n",
       "    <tr>\n",
       "      <th>AG5417</th>\n",
       "      <td> pyn</td>\n",
       "      <td> pygerythrus</td>\n",
       "      <td> 367646925</td>\n",
       "      <td> 99.532518</td>\n",
       "      <td> 10.292815</td>\n",
       "    </tr>\n",
       "    <tr>\n",
       "      <th>VZA3008</th>\n",
       "      <td> cyn</td>\n",
       "      <td>   cynosurus</td>\n",
       "      <td> 288494098</td>\n",
       "      <td> 98.719793</td>\n",
       "      <td>  8.195362</td>\n",
       "    </tr>\n",
       "  </tbody>\n",
       "</table>\n",
       "</div>"
      ],
      "text/plain": [
       "         short name   subspecies  total reads  \\\n",
       "ucla_id                                         \n",
       "VGA00006        sab      sabaeus    371703956   \n",
       "VEC1016         aet     aethiops    318382728   \n",
       "AGM141          tan     tantalus    326842858   \n",
       "AG5417          pyn  pygerythrus    367646925   \n",
       "VZA3008         cyn    cynosurus    288494098   \n",
       "\n",
       "          percent mapped\\n(incl. scaffolds)  average coverage  \n",
       "ucla_id                                                        \n",
       "VGA00006                          99.433528         10.843917  \n",
       "VEC1016                           99.315076          9.174149  \n",
       "AGM141                            99.485537         10.082667  \n",
       "AG5417                            99.532518         10.292815  \n",
       "VZA3008                           98.719793          8.195362  "
      ]
     },
     "execution_count": 20,
     "metadata": {},
     "output_type": "execute_result"
    }
   ],
   "source": [
    "stats_table"
   ]
  },
  {
   "cell_type": "markdown",
   "metadata": {},
   "source": [
    "### vcf stats"
   ]
  },
  {
   "cell_type": "code",
   "execution_count": 21,
   "metadata": {
    "collapsed": false
   },
   "outputs": [],
   "source": [
    "def stats_dic(chrom):\n",
    "    stats_fn = os.path.expanduser(\"~/vervet_lab/analyses/20140524_SNP_calling_ref3500_10X_individuals/\"\n",
    "                                \"_data/snp_stats_{}.json\".format(chrom))\n",
    "    stats_dic = json.load(open(stats_fn,\"r\"))\n",
    "    return stats_dic"
   ]
  },
  {
   "cell_type": "code",
   "execution_count": 22,
   "metadata": {
    "collapsed": false
   },
   "outputs": [],
   "source": [
    "chrom_dicts = [stats_dic(chrom) for chrom in chromosomes]\n",
    "chrom_length = pd.read_csv(os.path.expanduser(\"~/vervet_lab/metadata/ref_3488.tsv\"),sep=\"\\t\",index_col=0,squeeze=True)\n",
    "chrom_length = chrom_length.drop([\"CAEY\"])"
   ]
  },
  {
   "cell_type": "code",
   "execution_count": 23,
   "metadata": {
    "collapsed": false
   },
   "outputs": [
    {
     "data": {
      "text/plain": [
       "2737934092"
      ]
     },
     "execution_count": 23,
     "metadata": {},
     "output_type": "execute_result"
    }
   ],
   "source": [
    "chrom_length.sum()"
   ]
  },
  {
   "cell_type": "code",
   "execution_count": 24,
   "metadata": {
    "collapsed": false
   },
   "outputs": [],
   "source": [
    "autosome_stats_dic = stats_dic(autosomes[0])\n",
    "for chrom in autosomes[1:]:\n",
    "    stats_dic1 = stats_dic(chrom)\n",
    "    for key in autosome_stats_dic:\n",
    "        if key == \"filters\":\n",
    "            for key1 in autosome_stats_dic[key]:\n",
    "                autosome_stats_dic[key][key1] += stats_dic1[key][key1]\n",
    "        else:\n",
    "            autosome_stats_dic[key] += stats_dic1[key]"
   ]
  },
  {
   "cell_type": "code",
   "execution_count": 25,
   "metadata": {
    "collapsed": false
   },
   "outputs": [],
   "source": [
    "total_stats_dic = stats_dic(chromosomes[0])\n",
    "for chrom in chromosomes[1:]:\n",
    "    stats_dic1 = stats_dic(chrom)\n",
    "    for key in total_stats_dic:\n",
    "        if key == \"filters\":\n",
    "            for key1 in total_stats_dic[key]:\n",
    "                total_stats_dic[key][key1] += stats_dic1[key][key1]\n",
    "        else:\n",
    "            total_stats_dic[key] += stats_dic1[key]"
   ]
  },
  {
   "cell_type": "code",
   "execution_count": 26,
   "metadata": {
    "collapsed": false
   },
   "outputs": [
    {
     "name": "stdout",
     "output_type": "stream",
     "text": [
      "0.838614046182\n"
     ]
    }
   ],
   "source": [
    "fraction_ancestral_known = autosome_stats_dic[\"pass_ancestral_known\"]*1./autosome_stats_dic[\"pass\"]\n",
    "print fraction_ancestral_known"
   ]
  },
  {
   "cell_type": "code",
   "execution_count": 27,
   "metadata": {
    "collapsed": false
   },
   "outputs": [
    {
     "data": {
      "text/plain": [
       "0.983473161764761"
      ]
     },
     "execution_count": 27,
     "metadata": {},
     "output_type": "execute_result"
    }
   ],
   "source": [
    "(autosome_stats_dic[\"pass_ancestral_is_alt\"] + autosome_stats_dic[\"pass_ancestral_is_ref\"])*1./autosome_stats_dic[\"pass_ancestral_known\"]"
   ]
  },
  {
   "cell_type": "code",
   "execution_count": 28,
   "metadata": {
    "collapsed": false
   },
   "outputs": [
    {
     "data": {
      "text/plain": [
       "{u'ancestral_known': 26368415,\n",
       " u'filters': {u'5bpIndel': 1032792,\n",
       "  u'ABHet': 1063217,\n",
       "  u'ExCov': 1104633,\n",
       "  u'HaplotypeScore': 275988,\n",
       "  u'LowCov': 866963,\n",
       "  u'LowMQ': 165824,\n",
       "  u'LowQual': 6093594,\n",
       "  u'MQ0_10pct': 619201,\n",
       "  u'QualityByDepth': 1631106,\n",
       "  u'ReadPos': 546,\n",
       "  u'StrandBias': 12134},\n",
       " u'indels': 0,\n",
       " u'other_variants': 0,\n",
       " u'pass': 23879699,\n",
       " u'pass_ancestral_is_alt': 6032077,\n",
       " u'pass_ancestral_is_ref': 13662810,\n",
       " u'pass_ancestral_known': 20025851,\n",
       " u'pass_ancestral_third_allele': 330964,\n",
       " u'snps': 32890729,\n",
       " u'total': 32890729}"
      ]
     },
     "execution_count": 28,
     "metadata": {},
     "output_type": "execute_result"
    }
   ],
   "source": [
    "autosome_stats_dic"
   ]
  },
  {
   "cell_type": "code",
   "execution_count": 29,
   "metadata": {
    "collapsed": false
   },
   "outputs": [
    {
     "data": {
      "text/plain": [
       "{u'ancestral_known': 27197237,\n",
       " u'filters': {u'5bpIndel': 1068567,\n",
       "  u'ABHet': 1103391,\n",
       "  u'ExCov': 1182694,\n",
       "  u'HaplotypeScore': 286745,\n",
       "  u'LowCov': 898347,\n",
       "  u'LowMQ': 181289,\n",
       "  u'LowQual': 6295046,\n",
       "  u'MQ0_10pct': 663034,\n",
       "  u'QualityByDepth': 1694998,\n",
       "  u'ReadPos': 561,\n",
       "  u'StrandBias': 12665},\n",
       " u'indels': 0,\n",
       " u'other_variants': 0,\n",
       " u'pass': 24680030,\n",
       " u'pass_ancestral_is_alt': 6209513,\n",
       " u'pass_ancestral_is_ref': 14105508,\n",
       " u'pass_ancestral_known': 20654323,\n",
       " u'pass_ancestral_third_allele': 339302,\n",
       " u'snps': 34030040,\n",
       " u'total': 34030040}"
      ]
     },
     "execution_count": 29,
     "metadata": {},
     "output_type": "execute_result"
    }
   ],
   "source": [
    "total_stats_dic"
   ]
  },
  {
   "cell_type": "code",
   "execution_count": 30,
   "metadata": {
    "collapsed": false
   },
   "outputs": [],
   "source": [
    "mpl.rcParams[\"font.size\"]=15"
   ]
  },
  {
   "cell_type": "code",
   "execution_count": 31,
   "metadata": {
    "collapsed": false
   },
   "outputs": [
    {
     "data": {
      "image/png": "[encoded data removed]",
      "text/plain": [
       "<matplotlib.figure.Figure at 0x3906f10>"
      ]
     },
     "metadata": {},
     "output_type": "display_data"
    }
   ],
   "source": [
    "fig = plt.figure(1, figsize=(18,5))\n",
    "\n",
    "ax = plt.subplot2grid((2,3), (0,0), colspan=2)\n",
    "\n",
    "\n",
    "\n",
    "#ax = fig.add_subplot(121)\n",
    "plt.title(\"SNPs per chromosome\")\n",
    "pos = np.arange(len(chrom_dicts))\n",
    "snps_pass = np.array([d[\"pass\"] for d in chrom_dicts])\n",
    "snps_non_pass = [d[\"total\"]-d[\"pass\"] for d in chrom_dicts]\n",
    "p1 = plt.bar(pos+0.1,snps_pass,width=0.8,color=\"r\")\n",
    "p2 = plt.bar(pos+0.1,snps_non_pass,width=0.8,bottom=snps_pass,color=\"y\")\n",
    "plt.legend( (p1[0], p2[0]), ('pass', 'filtered'), loc = (0.85,0.7) )\n",
    "ax.yaxis.major.formatter.set_powerlimits((0,0)) \n",
    "ax.ticklabel_format(style='sci', axis='y') \n",
    "ax.set_xlim([-0.5,len(chrom_dicts)+0.5])\n",
    "plt.tick_params(\\\n",
    "    axis='x',          # changes apply to the x-axis\n",
    "    which='both',      # both major and minor ticks are affected\n",
    "    bottom='off',      # ticks along the bottom edge are off\n",
    "    top='off',         # ticks along the top edge are off\n",
    "    labelbottom='off') # labels along the bottom edge are off\n",
    "\n",
    "\n",
    "\n",
    "ax = plt.subplot2grid((2,3), (0,2), rowspan=2) \n",
    "#ax = fig.add_subplot(122)\n",
    "plt.title(\"SNPs filtered by filter X\")\n",
    "filter_data = [(k,v) for k,v in total_stats_dic[\"filters\"].iteritems()]\n",
    "filter_names = [el[0] for el in filter_data]\n",
    "filter_values = [el[1] for el in filter_data]\n",
    "proportions = np.array(filter_values)*100./total_stats_dic[\"total\"]\n",
    "pos = np.arange(len(proportions))\n",
    "plt.barh(pos,proportions)\n",
    "ax.set_yticks(pos+0.5)\n",
    "ax.set_ylim([pos[0]-0.5,pos[-1]+1.5])\n",
    "ax.set_yticklabels(filter_names)\n",
    "ax.set_xlabel(\"Percent of total snps\")\n",
    "#ax.xaxis.major.formatter.set_powerlimits((0,0)) \n",
    "#ax.ticklabel_format(style='sci', axis='x') \n",
    "plt.tick_params(\\\n",
    "    axis='y',          # changes apply to the x-axis\n",
    "    which='both',      # both major and minor ticks are affected\n",
    "    left='off',      # ticks along the bottom edge are off\n",
    "    right='off')\n",
    "\n",
    "\n",
    "ax = plt.subplot2grid((2,3), (1,0), colspan=2)\n",
    "plt.title(\"SNP density (pass)\")\n",
    "pos = np.arange(len(chrom_dicts))\n",
    "snp_density = snps_pass*1./(chrom_length.values*fraction_not_filtered)\n",
    "plt.bar(pos+0.1,snp_density,width=0.8)\n",
    "ax.set_xticks(pos+0.5)\n",
    "ax.set_xticklabels(chromosomes)\n",
    "labels = ax.get_xticklabels() \n",
    "for label in labels: \n",
    "    label.set_rotation(90) \n",
    "ax.set_xlim([-0.5,len(chrom_dicts)+0.5])\n",
    "\n",
    "plt.tick_params(\\\n",
    "    axis='x',          # changes apply to the x-axis\n",
    "    which='both',      # both major and minor ticks are affected\n",
    "    bottom='off',      # ticks along the bottom edge are off\n",
    "    top='off')\n",
    "\n",
    "fig.subplots_adjust(wspace=0.55)"
   ]
  },
  {
   "cell_type": "markdown",
   "metadata": {},
   "source": [
    "## genotype data frames"
   ]
  },
  {
   "cell_type": "code",
   "execution_count": 32,
   "metadata": {
    "collapsed": false
   },
   "outputs": [],
   "source": [
    "%%px --local\n",
    "def get_gen_df(chrom):\n",
    "    fn = os.path.expanduser(\"~/vervet_lab/analyses/20140524_SNP_calling_ref3500_10X_individuals/\"\n",
    "                        \"_data/GATK_UnifiedGenotyper_10Xind_ancestral_derived_{}.012\".format(chrom))\n",
    "    gen_df = pd.read_csv(fn,index_col=[0,1],sep=\"\\t\",na_values=\"N\")\n",
    "    gen_df.columns = meta_df.ix[gen_df.columns][\"population\"].values\n",
    "    #add macaque\n",
    "    #gen_df[\"mac\"] = 0.\n",
    "    return gen_df"
   ]
  },
  {
   "cell_type": "markdown",
   "metadata": {},
   "source": [
    "### stats on the sub species"
   ]
  },
  {
   "cell_type": "code",
   "execution_count": 46,
   "metadata": {
    "collapsed": false
   },
   "outputs": [
    {
     "data": {
      "text/plain": [
       "'/home/GMI/hannes.svardal/vervet_lab/analyses/20140524_SNP_calling_ref3500_10X_individuals/_data/GATK_UnifiedGenotyper_10Xind_ancestral_derived_CAEX.012'"
      ]
     },
     "execution_count": 46,
     "metadata": {},
     "output_type": "execute_result"
    }
   ],
   "source": [
    "os.path.expanduser(\"~/vervet_lab/analyses/20140524_SNP_calling_ref3500_10X_individuals/\"\n",
    "                        \"_data/GATK_UnifiedGenotyper_10Xind_ancestral_derived_{}.012\".format(chrom))"
   ]
  },
  {
   "cell_type": "code",
   "execution_count": 33,
   "metadata": {
    "collapsed": false
   },
   "outputs": [],
   "source": [
    "#local function\n",
    "def reduce_stats(stats_dics):\n",
    "    total_stats_dic = {}\n",
    "    for k,v in stats_dics[0].iteritems():\n",
    "        total_stats_dic.update({k:reduce(lambda x,y:x+y,[d[k] for d in stats_dics])})\n",
    "    return total_stats_dic"
   ]
  },
  {
   "cell_type": "code",
   "execution_count": 34,
   "metadata": {
    "collapsed": false
   },
   "outputs": [],
   "source": [
    "%%px --local\n",
    "#iterative version\n",
    "def genotype_difference(gt0,gt1):\n",
    "    #the second term accounts for heterozygote comparisons\n",
    "    raise UserException(\"wrong: on the diagonal dont divide by 2\")\n",
    "    return ((gt0-gt1).abs()+(gt0==1)*(gt1==1)).sum()/2.\n",
    "\n",
    "def pairwise_diff_mat(df):\n",
    "    return pd.DataFrame({key1:{key0:genotype_difference(df[key0],df[key1]) for key0 in df} for key1 in df})\n",
    "\n",
    "#---------------numpy version------------------\n",
    "def pairwise_diff_numpy(gen_arr):\n",
    "    \"\"\"Squared pairwise distances between all \n",
    "    columns of 0,1,2 genotype array arr.\n",
    "    This matrix based function is at least 10 \n",
    "    times faster than iterating over columns.\n",
    "    \"\"\"\n",
    "    gen_arr = gen_arr.astype(np.float64)-1\n",
    "    #compare heterozygous with hom alt\n",
    "    mat1 = np.where(gen_arr==0,-1,gen_arr)\n",
    "    mat1[np.isnan(gen_arr)]=0\n",
    "    #and hom ref\n",
    "    mat2 = np.where(gen_arr==0,1,gen_arr)\n",
    "    mat2[np.isnan(gen_arr)]=0\n",
    "    #account for heterozygous comparisons\n",
    "    mat3 = np.where(gen_arr==0,1,0)\n",
    "    #don't count nan comparisons\n",
    "    n = np.dot((~np.isnan(gen_arr)*1.).T,~np.isnan(gen_arr)*1.)\n",
    "    B = (np.dot(mat1.T,mat1)+np.dot(mat2.T,mat2))/2.\n",
    "    het = np.dot(mat3.T,mat3)\n",
    "    return ((n- B)+het)/2. + np.diag(np.diag(((n- B)+het)/2.)) #self comparisons should not be divided by 2\n",
    "\n",
    "def pairwise_diff_mat_np(df):\n",
    "    \"\"\"\n",
    "    Calculate pairwise difference data frame.\n",
    "    For Genotype 0,1,2 data frame.\n",
    "    Uses numpy matrix multiplication.\n",
    "    \"\"\"\n",
    "    diff = pairwise_diff_numpy(df.values)\n",
    "    return pd.DataFrame(diff,index=df.columns,columns=df.columns)\n",
    "\n",
    "def get_pw_diff(chrom):\n",
    "    gen_df = get_gen_df(chrom)\n",
    "    return pairwise_diff_mat(gen_df)\n",
    "\n",
    "gen_df_funs = {\"total_snps\": lambda gen_df: len(gen_df),\n",
    "              \"snps_per_subpop\": lambda gen_df: (gen_df == 1).sum(axis=0),\n",
    "              \"fixed_diff_to_ref\": lambda gen_df: (gen_df.sum(axis=1)==2*gen_df.shape[1]).sum(),\n",
    "              \"pairwise_diff_mat\": lambda gen_df: pairwise_diff_mat_np(gen_df),\n",
    "              \"derived_alleles\": lambda gen_df: gen_df.sum(axis=0)}\n",
    "def get_stats(chrom):\n",
    "    gen_df = get_gen_df(chrom)\n",
    "    stats_dic = {}\n",
    "    for n,v in gen_df_funs.iteritems():\n",
    "        stats_dic.update({n:v(gen_df)})\n",
    "    return stats_dic\n",
    "\n"
   ]
  },
  {
   "cell_type": "code",
   "execution_count": 35,
   "metadata": {
    "collapsed": false
   },
   "outputs": [],
   "source": [
    "stats_dics = lv.map_async(get_stats, autosomes)"
   ]
  },
  {
   "cell_type": "code",
   "execution_count": 37,
   "metadata": {
    "collapsed": false
   },
   "outputs": [],
   "source": [
    "stats_dics.wait(10)"
   ]
  },
  {
   "cell_type": "code",
   "execution_count": 38,
   "metadata": {
    "collapsed": false
   },
   "outputs": [],
   "source": [
    "total_stats = reduce_stats(stats_dics.get())"
   ]
  },
  {
   "cell_type": "code",
   "execution_count": 41,
   "metadata": {
    "collapsed": false
   },
   "outputs": [
    {
     "data": {
      "text/plain": [
       "{'derived_alleles': pyn    11452702\n",
       " tan    11328831\n",
       " aet    11415279\n",
       " sab    11261851\n",
       " cyn    11051958\n",
       " dtype: float64,\n",
       " 'fixed_diff_to_ref': 121992,\n",
       " 'pairwise_diff_mat':            pyn        tan        aet        sab        cyn\n",
       " pyn  4073196.0  6030851.0  6496416.5  7564638.0  4702763.5\n",
       " tan  6030851.0  3944089.0  6509592.0  7212377.5  5851541.0\n",
       " aet  6496416.5  6509592.0  1911259.0  7738523.0  6296261.5\n",
       " sab  7564638.0  7212377.5  7738523.0  3042179.0  7332659.5\n",
       " cyn  4702763.5  5851541.0  6296261.5  7332659.5  3239522.0,\n",
       " 'snps_per_subpop': pyn    4073196\n",
       " tan    3944089\n",
       " aet    1911259\n",
       " sab    3042179\n",
       " cyn    3239522\n",
       " dtype: int64,\n",
       " 'total_snps': 19694887}"
      ]
     },
     "execution_count": 41,
     "metadata": {},
     "output_type": "execute_result"
    }
   ],
   "source": [
    "total_stats"
   ]
  },
  {
   "cell_type": "code",
   "execution_count": 39,
   "metadata": {
    "collapsed": false
   },
   "outputs": [
    {
     "data": {
      "text/html": [
       "<div style=\"max-height:1000px;max-width:1500px;overflow:auto;\">\n",
       "<table border=\"1\" class=\"dataframe\">\n",
       "  <thead>\n",
       "    <tr style=\"text-align: right;\">\n",
       "      <th></th>\n",
       "      <th>short name</th>\n",
       "      <th>subspecies</th>\n",
       "      <th>total reads</th>\n",
       "      <th>percent mapped\n",
       "(incl. scaffolds)</th>\n",
       "      <th>average coverage</th>\n",
       "    </tr>\n",
       "    <tr>\n",
       "      <th>ucla_id</th>\n",
       "      <th></th>\n",
       "      <th></th>\n",
       "      <th></th>\n",
       "      <th></th>\n",
       "      <th></th>\n",
       "    </tr>\n",
       "  </thead>\n",
       "  <tbody>\n",
       "    <tr>\n",
       "      <th>VGA00006</th>\n",
       "      <td> sab</td>\n",
       "      <td>     sabaeus</td>\n",
       "      <td> 371703956</td>\n",
       "      <td> 99.433528</td>\n",
       "      <td> 10.843917</td>\n",
       "    </tr>\n",
       "    <tr>\n",
       "      <th>VEC1016</th>\n",
       "      <td> aet</td>\n",
       "      <td>    aethiops</td>\n",
       "      <td> 318382728</td>\n",
       "      <td> 99.315076</td>\n",
       "      <td>  9.174149</td>\n",
       "    </tr>\n",
       "    <tr>\n",
       "      <th>AGM141</th>\n",
       "      <td> tan</td>\n",
       "      <td>    tantalus</td>\n",
       "      <td> 326842858</td>\n",
       "      <td> 99.485537</td>\n",
       "      <td> 10.082667</td>\n",
       "    </tr>\n",
       "    <tr>\n",
       "      <th>AG5417</th>\n",
       "      <td> pyn</td>\n",
       "      <td> pygerythrus</td>\n",
       "      <td> 367646925</td>\n",
       "      <td> 99.532518</td>\n",
       "      <td> 10.292815</td>\n",
       "    </tr>\n",
       "    <tr>\n",
       "      <th>VZA3008</th>\n",
       "      <td> cyn</td>\n",
       "      <td>   cynosurus</td>\n",
       "      <td> 288494098</td>\n",
       "      <td> 98.719793</td>\n",
       "      <td>  8.195362</td>\n",
       "    </tr>\n",
       "  </tbody>\n",
       "</table>\n",
       "</div>"
      ],
      "text/plain": [
       "         short name   subspecies  total reads  \\\n",
       "ucla_id                                         \n",
       "VGA00006        sab      sabaeus    371703956   \n",
       "VEC1016         aet     aethiops    318382728   \n",
       "AGM141          tan     tantalus    326842858   \n",
       "AG5417          pyn  pygerythrus    367646925   \n",
       "VZA3008         cyn    cynosurus    288494098   \n",
       "\n",
       "          percent mapped\\n(incl. scaffolds)  average coverage  \n",
       "ucla_id                                                        \n",
       "VGA00006                          99.433528         10.843917  \n",
       "VEC1016                           99.315076          9.174149  \n",
       "AGM141                            99.485537         10.082667  \n",
       "AG5417                            99.532518         10.292815  \n",
       "VZA3008                           98.719793          8.195362  "
      ]
     },
     "execution_count": 39,
     "metadata": {},
     "output_type": "execute_result"
    }
   ],
   "source": [
    "stats_table"
   ]
  },
  {
   "cell_type": "code",
   "execution_count": null,
   "metadata": {
    "collapsed": false
   },
   "outputs": [],
   "source": [
    "total_stats"
   ]
  },
  {
   "cell_type": "markdown",
   "metadata": {},
   "source": [
    "#### make three categories of SNPs: fixed differences, within species snps, shared snps"
   ]
  },
  {
   "cell_type": "code",
   "execution_count": 58,
   "metadata": {
    "collapsed": false
   },
   "outputs": [],
   "source": [
    "chrom = \"CAE28\"\n",
    "gen_df = get_gen_df(chrom)[subspecies]"
   ]
  },
  {
   "cell_type": "code",
   "execution_count": 42,
   "metadata": {
    "collapsed": false
   },
   "outputs": [],
   "source": [
    "%%px --local\n",
    "def get_variant_categories_chrom(chrom):\n",
    "    gen_df = get_gen_df(chrom)[subspecies]\n",
    "    return get_variant_categories(gen_df)\n",
    "    \n",
    "def get_variant_categories(gen_df):\n",
    "    variant_categories = {\"total\":len(gen_df),\n",
    "                          \"fixed_diff\":(gen_df!=1).all(axis=1).sum(),\n",
    "                          \"shared_variants\" : ((gen_df==1).sum(axis=1)>=2).sum(),\n",
    "                          \"private_variants\": ((gen_df.sum(axis=1)==1)|(gen_df.sum(axis=1)==2*gen_df.shape[1]-1)).sum()\n",
    "                          }\n",
    "    #the rest is seggragating on one and fixed between other subpopulations\n",
    "    return variant_categories"
   ]
  },
  {
   "cell_type": "code",
   "execution_count": 43,
   "metadata": {
    "collapsed": false
   },
   "outputs": [],
   "source": [
    "map_variant_cats = lv.map_async(get_variant_categories_chrom,autosomes)"
   ]
  },
  {
   "cell_type": "code",
   "execution_count": 44,
   "metadata": {
    "collapsed": false
   },
   "outputs": [],
   "source": [
    "variant_categories = reduce_stats(map_variant_cats.get())"
   ]
  },
  {
   "cell_type": "code",
   "execution_count": 45,
   "metadata": {
    "collapsed": false
   },
   "outputs": [
    {
     "name": "stdout",
     "output_type": "stream",
     "text": [
      "fraction fixed diff: 0.360225879945\n",
      "fraction shared variants: 0.147410695984\n",
      "fraction private variants: 0.359858068746\n",
      "fraction fixed across some, seggregating in others: 0.132505355324\n"
     ]
    }
   ],
   "source": [
    "print \"fraction fixed diff:\",variant_categories[\"fixed_diff\"]*1./variant_categories[\"total\"]\n",
    "print \"fraction shared variants:\",variant_categories[\"shared_variants\"]*1./variant_categories[\"total\"]\n",
    "print \"fraction private variants:\",variant_categories[\"private_variants\"]*1./variant_categories[\"total\"]\n",
    "print \"fraction fixed across some, seggregating in others:\",(variant_categories[\"total\"]-\\\n",
    "                                variant_categories[\"private_variants\"]-\\\n",
    "                                variant_categories[\"fixed_diff\"]-\\\n",
    "                                variant_categories[\"shared_variants\"]*1.)/variant_categories[\"total\"]"
   ]
  },
  {
   "cell_type": "markdown",
   "metadata": {},
   "source": [
    "#### check for fixed differences that are inconsistent with tree topoplogy"
   ]
  },
  {
   "cell_type": "code",
   "execution_count": 96,
   "metadata": {
    "collapsed": false
   },
   "outputs": [],
   "source": [
    "topology = ((\"sab\",),(\"aet\",(\"tan\",(\"pyn\",\"cyn\"))))"
   ]
  },
  {
   "cell_type": "code",
   "execution_count": 122,
   "metadata": {
    "collapsed": false
   },
   "outputs": [],
   "source": [
    "monophyla = ((\"pyn\",\"cyn\"),(\"tan\",\"pyn\",\"cyn\"),(\"aet\",\"tan\",\"pyn\",\"cyn\"))"
   ]
  },
  {
   "cell_type": "code",
   "execution_count": 85,
   "metadata": {
    "collapsed": false
   },
   "outputs": [],
   "source": [
    "chrom = \"CAE28\"\n",
    "gen_df = get_gen_df(chrom)"
   ]
  },
  {
   "cell_type": "code",
   "execution_count": 117,
   "metadata": {
    "collapsed": false
   },
   "outputs": [],
   "source": [
    "fixed_diff = gen_df[(gen_df!=1).all(axis=1)&(gen_df.mean(axis=1)!=2)]"
   ]
  },
  {
   "cell_type": "code",
   "execution_count": null,
   "metadata": {
    "collapsed": false
   },
   "outputs": [],
   "source": [
    "fixed"
   ]
  },
  {
   "cell_type": "code",
   "execution_count": 86,
   "metadata": {
    "collapsed": false
   },
   "outputs": [],
   "source": [
    "import itertools"
   ]
  },
  {
   "cell_type": "code",
   "execution_count": 134,
   "metadata": {
    "collapsed": false
   },
   "outputs": [],
   "source": [
    "#here we look at all non-monophyletic species groups\n",
    "#snps who are differentially fixed in these groups are expected to seggregate along the tree\n",
    "#we don't make use of ancestral/derived info from macaque here\n",
    "inconsistent_fixed = 0\n",
    "for partition in [set(l)  for i in range(2,len(subspecies)) for l in itertools.combinations(subspecies,i)]:\n",
    "    if partition not in [set(i) for i in monophyla]:\n",
    "        rest = set([s for s in subspecies if s not in partition])\n",
    "        if rest not in [set(i) for i in monophyla] and len(rest)>1:\n",
    "            inconsistent_fixed += ((fixed_diff[list(partition)].mean(axis=1)==0)&(fixed_diff[list(rest)].mean(axis=1)==2)).sum()"
   ]
  },
  {
   "cell_type": "code",
   "execution_count": 136,
   "metadata": {
    "collapsed": false
   },
   "outputs": [
    {
     "data": {
      "text/plain": [
       "0.15593573706156488"
      ]
     },
     "execution_count": 136,
     "metadata": {},
     "output_type": "execute_result"
    }
   ],
   "source": [
    "inconsistent_fixed*1./len(fixed_diff)"
   ]
  },
  {
   "cell_type": "code",
   "execution_count": null,
   "metadata": {
    "collapsed": false
   },
   "outputs": [],
   "source": [
    "-> at least 16% of the fixed differences are expected to have seggregates along branches and might still seggregate within subspecies"
   ]
  },
  {
   "cell_type": "markdown",
   "metadata": {},
   "source": [
    "#### pairwise difference, phylogenetic tree"
   ]
  },
  {
   "cell_type": "code",
   "execution_count": 48,
   "metadata": {
    "collapsed": false
   },
   "outputs": [],
   "source": [
    "pw_diff = total_stats[\"pairwise_diff_mat\"]"
   ]
  },
  {
   "cell_type": "code",
   "execution_count": 49,
   "metadata": {
    "collapsed": false
   },
   "outputs": [],
   "source": [
    "generation_time=8.5\n",
    "mutation_rate=1.5*10**(-8)\n",
    "\n",
    "genome_size=2.545*10**9*fraction_not_filtered \n",
    "coal_time = pw_diff*generation_time/(2*genome_size*mutation_rate)"
   ]
  },
  {
   "cell_type": "code",
   "execution_count": 52,
   "metadata": {
    "collapsed": false
   },
   "outputs": [
    {
     "data": {
      "text/html": [
       "<div style=\"max-height:1000px;max-width:1500px;overflow:auto;\">\n",
       "<table border=\"1\" class=\"dataframe\">\n",
       "  <thead>\n",
       "    <tr style=\"text-align: right;\">\n",
       "      <th></th>\n",
       "      <th>pyn</th>\n",
       "      <th>tan</th>\n",
       "      <th>aet</th>\n",
       "      <th>sab</th>\n",
       "      <th>cyn</th>\n",
       "    </tr>\n",
       "  </thead>\n",
       "  <tbody>\n",
       "    <tr>\n",
       "      <th>pyn</th>\n",
       "      <td> 0.001778</td>\n",
       "      <td> 0.002633</td>\n",
       "      <td> 0.002836</td>\n",
       "      <td> 0.003303</td>\n",
       "      <td> 0.002053</td>\n",
       "    </tr>\n",
       "    <tr>\n",
       "      <th>tan</th>\n",
       "      <td> 0.002633</td>\n",
       "      <td> 0.001722</td>\n",
       "      <td> 0.002842</td>\n",
       "      <td> 0.003149</td>\n",
       "      <td> 0.002555</td>\n",
       "    </tr>\n",
       "    <tr>\n",
       "      <th>aet</th>\n",
       "      <td> 0.002836</td>\n",
       "      <td> 0.002842</td>\n",
       "      <td> 0.000834</td>\n",
       "      <td> 0.003379</td>\n",
       "      <td> 0.002749</td>\n",
       "    </tr>\n",
       "    <tr>\n",
       "      <th>sab</th>\n",
       "      <td> 0.003303</td>\n",
       "      <td> 0.003149</td>\n",
       "      <td> 0.003379</td>\n",
       "      <td> 0.001328</td>\n",
       "      <td> 0.003201</td>\n",
       "    </tr>\n",
       "    <tr>\n",
       "      <th>cyn</th>\n",
       "      <td> 0.002053</td>\n",
       "      <td> 0.002555</td>\n",
       "      <td> 0.002749</td>\n",
       "      <td> 0.003201</td>\n",
       "      <td> 0.001414</td>\n",
       "    </tr>\n",
       "  </tbody>\n",
       "</table>\n",
       "</div>"
      ],
      "text/plain": [
       "          pyn       tan       aet       sab       cyn\n",
       "pyn  0.001778  0.002633  0.002836  0.003303  0.002053\n",
       "tan  0.002633  0.001722  0.002842  0.003149  0.002555\n",
       "aet  0.002836  0.002842  0.000834  0.003379  0.002749\n",
       "sab  0.003303  0.003149  0.003379  0.001328  0.003201\n",
       "cyn  0.002053  0.002555  0.002749  0.003201  0.001414"
      ]
     },
     "execution_count": 52,
     "metadata": {},
     "output_type": "execute_result"
    }
   ],
   "source": [
    "(total_stats[\"pairwise_diff_mat\"]/genome_size)"
   ]
  },
  {
   "cell_type": "code",
   "execution_count": 83,
   "metadata": {
    "collapsed": false
   },
   "outputs": [
    {
     "data": {
      "text/html": [
       "<div style=\"max-height:1000px;max-width:1500px;overflow:auto;\">\n",
       "<table border=\"1\" class=\"dataframe\">\n",
       "  <thead>\n",
       "    <tr style=\"text-align: right;\">\n",
       "      <th></th>\n",
       "      <th>pyn</th>\n",
       "      <th>tan</th>\n",
       "      <th>aet</th>\n",
       "      <th>sab</th>\n",
       "      <th>cyn</th>\n",
       "    </tr>\n",
       "  </thead>\n",
       "  <tbody>\n",
       "    <tr>\n",
       "      <th>pyn</th>\n",
       "      <td> 4073196</td>\n",
       "      <td> 6030851</td>\n",
       "      <td> 6496417</td>\n",
       "      <td> 7564638</td>\n",
       "      <td> 4702764</td>\n",
       "    </tr>\n",
       "    <tr>\n",
       "      <th>tan</th>\n",
       "      <td> 6030851</td>\n",
       "      <td> 3944089</td>\n",
       "      <td> 6509592</td>\n",
       "      <td> 7212378</td>\n",
       "      <td> 5851541</td>\n",
       "    </tr>\n",
       "    <tr>\n",
       "      <th>aet</th>\n",
       "      <td> 6496417</td>\n",
       "      <td> 6509592</td>\n",
       "      <td> 1911259</td>\n",
       "      <td> 7738523</td>\n",
       "      <td> 6296262</td>\n",
       "    </tr>\n",
       "    <tr>\n",
       "      <th>sab</th>\n",
       "      <td> 7564638</td>\n",
       "      <td> 7212378</td>\n",
       "      <td> 7738523</td>\n",
       "      <td> 3042179</td>\n",
       "      <td> 7332660</td>\n",
       "    </tr>\n",
       "    <tr>\n",
       "      <th>cyn</th>\n",
       "      <td> 4702764</td>\n",
       "      <td> 5851541</td>\n",
       "      <td> 6296262</td>\n",
       "      <td> 7332660</td>\n",
       "      <td> 3239522</td>\n",
       "    </tr>\n",
       "  </tbody>\n",
       "</table>\n",
       "</div>"
      ],
      "text/plain": [
       "         pyn      tan      aet      sab      cyn\n",
       "pyn  4073196  6030851  6496417  7564638  4702764\n",
       "tan  6030851  3944089  6509592  7212378  5851541\n",
       "aet  6496417  6509592  1911259  7738523  6296262\n",
       "sab  7564638  7212378  7738523  3042179  7332660\n",
       "cyn  4702764  5851541  6296262  7332660  3239522"
      ]
     },
     "execution_count": 83,
     "metadata": {},
     "output_type": "execute_result"
    }
   ],
   "source": [
    "total_stats[\"pairwise_diff_mat\"].applymap(round)"
   ]
  },
  {
   "cell_type": "code",
   "execution_count": 145,
   "metadata": {
    "collapsed": false
   },
   "outputs": [],
   "source": [
    "total_stats[\"pairwise_diff_mat\"].to_csv(\n",
    "                os.path.join(output_folder,\"pairwise_diff_10x_macaque.tsv\"),sep=\"\\t\")"
   ]
  },
  {
   "cell_type": "code",
   "execution_count": 59,
   "metadata": {
    "collapsed": false
   },
   "outputs": [
    {
     "data": {
      "text/plain": [
       "pyn    4073196\n",
       "tan    3944089\n",
       "aet    1911259\n",
       "sab    3042179\n",
       "cyn    3239522\n",
       "dtype: int64"
      ]
     },
     "execution_count": 59,
     "metadata": {},
     "output_type": "execute_result"
    }
   ],
   "source": [
    "total_stats[\"snps_per_subpop\"]"
   ]
  },
  {
   "cell_type": "code",
   "execution_count": 60,
   "metadata": {
    "collapsed": false
   },
   "outputs": [],
   "source": [
    "snps_per_sp = total_stats[\"snps_per_subpop\"].copy()*100./genome_size\n",
    "snps_per_sp.name = \"heterozygosity (%)\"\n",
    "snps_per_sp.index = [ucla_ids[subspecies.index(s)] for s in snps_per_sp.index]\n",
    "stats_table = stats_table.join(snps_per_sp) "
   ]
  },
  {
   "cell_type": "code",
   "execution_count": 61,
   "metadata": {
    "collapsed": false
   },
   "outputs": [],
   "source": [
    "derived_alleles = total_stats[\"derived_alleles\"].copy()/10.**6\n",
    "derived_alleles.name = \"derived alleles (million)\"\n",
    "derived_alleles.index = [ucla_ids[subspecies.index(s)] for s in derived_alleles.index]\n",
    "stats_table = stats_table.join(derived_alleles) "
   ]
  },
  {
   "cell_type": "code",
   "execution_count": 62,
   "metadata": {
    "collapsed": false
   },
   "outputs": [],
   "source": [
    "stats_table[[\"average coverage\",\"percent mapped\\n(incl. scaffolds)\",\"heterozygosity (%)\",\"derived alleles (million)\"]] = stats_table[[\"average coverage\",\"percent mapped\\n(incl. scaffolds)\",\"heterozygosity (%)\",\"derived alleles (million)\"]].applymap(lambda x: round(100.*x)/100)"
   ]
  },
  {
   "cell_type": "code",
   "execution_count": 63,
   "metadata": {
    "collapsed": false
   },
   "outputs": [],
   "source": [
    "eff_popsize = pd.Series([pw_diff.iloc[i,i] for i in range(len(pw_diff))],index=pw_diff.index)/(4.*mutation_rate*genome_size)"
   ]
  },
  {
   "cell_type": "code",
   "execution_count": 64,
   "metadata": {
    "collapsed": false
   },
   "outputs": [
    {
     "data": {
      "text/plain": [
       "pyn    29638.332242\n",
       "tan    28698.893982\n",
       "aet    13907.145456\n",
       "sab    22136.207524\n",
       "cyn    23572.160373\n",
       "mac        0.000000\n",
       "dtype: float64"
      ]
     },
     "execution_count": 64,
     "metadata": {},
     "output_type": "execute_result"
    }
   ],
   "source": [
    "eff_popsize"
   ]
  },
  {
   "cell_type": "code",
   "execution_count": 67,
   "metadata": {
    "collapsed": false
   },
   "outputs": [
    {
     "data": {
      "text/html": [
       "<div style=\"max-height:1000px;max-width:1500px;overflow:auto;\">\n",
       "<table border=\"1\" class=\"dataframe\">\n",
       "  <thead>\n",
       "    <tr style=\"text-align: right;\">\n",
       "      <th></th>\n",
       "      <th>short name</th>\n",
       "      <th>subspecies</th>\n",
       "      <th>total reads</th>\n",
       "      <th>percent mapped\n",
       "(incl. scaffolds)</th>\n",
       "      <th>average coverage</th>\n",
       "      <th>heterozygosity (%)</th>\n",
       "      <th>derived alleles (million)</th>\n",
       "    </tr>\n",
       "    <tr>\n",
       "      <th>ucla_id</th>\n",
       "      <th></th>\n",
       "      <th></th>\n",
       "      <th></th>\n",
       "      <th></th>\n",
       "      <th></th>\n",
       "      <th></th>\n",
       "      <th></th>\n",
       "    </tr>\n",
       "  </thead>\n",
       "  <tbody>\n",
       "    <tr>\n",
       "      <th>VGA00006</th>\n",
       "      <td> sab</td>\n",
       "      <td>     sabaeus</td>\n",
       "      <td> 371703956</td>\n",
       "      <td> 99.43</td>\n",
       "      <td> 10.84</td>\n",
       "      <td> 0.13</td>\n",
       "      <td> 11.26</td>\n",
       "    </tr>\n",
       "    <tr>\n",
       "      <th>VEC1016</th>\n",
       "      <td> aet</td>\n",
       "      <td>    aethiops</td>\n",
       "      <td> 318382728</td>\n",
       "      <td> 99.32</td>\n",
       "      <td>  9.17</td>\n",
       "      <td> 0.08</td>\n",
       "      <td> 11.42</td>\n",
       "    </tr>\n",
       "    <tr>\n",
       "      <th>AGM141</th>\n",
       "      <td> tan</td>\n",
       "      <td>    tantalus</td>\n",
       "      <td> 326842858</td>\n",
       "      <td> 99.49</td>\n",
       "      <td> 10.08</td>\n",
       "      <td> 0.17</td>\n",
       "      <td> 11.33</td>\n",
       "    </tr>\n",
       "    <tr>\n",
       "      <th>AG5417</th>\n",
       "      <td> pyn</td>\n",
       "      <td> pygerythrus</td>\n",
       "      <td> 367646925</td>\n",
       "      <td> 99.53</td>\n",
       "      <td> 10.29</td>\n",
       "      <td> 0.18</td>\n",
       "      <td> 11.45</td>\n",
       "    </tr>\n",
       "    <tr>\n",
       "      <th>VZA3008</th>\n",
       "      <td> cyn</td>\n",
       "      <td>   cynosurus</td>\n",
       "      <td> 288494098</td>\n",
       "      <td> 98.72</td>\n",
       "      <td>  8.20</td>\n",
       "      <td> 0.14</td>\n",
       "      <td> 11.05</td>\n",
       "    </tr>\n",
       "  </tbody>\n",
       "</table>\n",
       "</div>"
      ],
      "text/plain": [
       "         short name   subspecies  total reads  \\\n",
       "ucla_id                                         \n",
       "VGA00006        sab      sabaeus    371703956   \n",
       "VEC1016         aet     aethiops    318382728   \n",
       "AGM141          tan     tantalus    326842858   \n",
       "AG5417          pyn  pygerythrus    367646925   \n",
       "VZA3008         cyn    cynosurus    288494098   \n",
       "\n",
       "          percent mapped\\n(incl. scaffolds)  average coverage  \\\n",
       "ucla_id                                                         \n",
       "VGA00006                              99.43             10.84   \n",
       "VEC1016                               99.32              9.17   \n",
       "AGM141                                99.49             10.08   \n",
       "AG5417                                99.53             10.29   \n",
       "VZA3008                               98.72              8.20   \n",
       "\n",
       "          heterozygosity (%)  derived alleles (million)  \n",
       "ucla_id                                                  \n",
       "VGA00006                0.13                      11.26  \n",
       "VEC1016                 0.08                      11.42  \n",
       "AGM141                  0.17                      11.33  \n",
       "AG5417                  0.18                      11.45  \n",
       "VZA3008                 0.14                      11.05  "
      ]
     },
     "execution_count": 67,
     "metadata": {},
     "output_type": "execute_result"
    }
   ],
   "source": [
    "stats_table"
   ]
  },
  {
   "cell_type": "code",
   "execution_count": 76,
   "metadata": {
    "collapsed": false
   },
   "outputs": [],
   "source": [
    "coal_time.to_excel(jn(output_folder,\"coalescent_time.xls\"))"
   ]
  },
  {
   "cell_type": "code",
   "execution_count": 78,
   "metadata": {
    "collapsed": false
   },
   "outputs": [
    {
     "data": {
      "text/html": [
       "<div style=\"max-height:1000px;max-width:1500px;overflow:auto;\">\n",
       "<table border=\"1\" class=\"dataframe\">\n",
       "  <thead>\n",
       "    <tr style=\"text-align: right;\">\n",
       "      <th></th>\n",
       "      <th>pyn</th>\n",
       "      <th>tan</th>\n",
       "      <th>aet</th>\n",
       "      <th>sab</th>\n",
       "      <th>cyn</th>\n",
       "    </tr>\n",
       "  </thead>\n",
       "  <tbody>\n",
       "    <tr>\n",
       "      <th>pyn</th>\n",
       "      <td> 503852</td>\n",
       "      <td> 746012</td>\n",
       "      <td> 803602</td>\n",
       "      <td> 935741</td>\n",
       "      <td> 581729</td>\n",
       "    </tr>\n",
       "    <tr>\n",
       "      <th>tan</th>\n",
       "      <td> 746012</td>\n",
       "      <td> 487881</td>\n",
       "      <td> 805232</td>\n",
       "      <td> 892166</td>\n",
       "      <td> 723832</td>\n",
       "    </tr>\n",
       "    <tr>\n",
       "      <th>aet</th>\n",
       "      <td> 803602</td>\n",
       "      <td> 805232</td>\n",
       "      <td> 236421</td>\n",
       "      <td> 957250</td>\n",
       "      <td> 778843</td>\n",
       "    </tr>\n",
       "    <tr>\n",
       "      <th>sab</th>\n",
       "      <td> 935741</td>\n",
       "      <td> 892166</td>\n",
       "      <td> 957250</td>\n",
       "      <td> 376316</td>\n",
       "      <td> 907045</td>\n",
       "    </tr>\n",
       "    <tr>\n",
       "      <th>cyn</th>\n",
       "      <td> 581729</td>\n",
       "      <td> 723832</td>\n",
       "      <td> 778843</td>\n",
       "      <td> 907045</td>\n",
       "      <td> 400727</td>\n",
       "    </tr>\n",
       "  </tbody>\n",
       "</table>\n",
       "</div>"
      ],
      "text/plain": [
       "        pyn     tan     aet     sab     cyn\n",
       "pyn  503852  746012  803602  935741  581729\n",
       "tan  746012  487881  805232  892166  723832\n",
       "aet  803602  805232  236421  957250  778843\n",
       "sab  935741  892166  957250  376316  907045\n",
       "cyn  581729  723832  778843  907045  400727"
      ]
     },
     "execution_count": 78,
     "metadata": {},
     "output_type": "execute_result"
    }
   ],
   "source": [
    "coal_time.applymap(round)"
   ]
  },
  {
   "cell_type": "code",
   "execution_count": 79,
   "metadata": {
    "collapsed": false
   },
   "outputs": [],
   "source": [
    "split_time =coal_time.copy()\n",
    "split_time.iloc[:,:]=np.nan\n",
    "for i in range(coal_time.shape[0]):\n",
    "    for j in range(coal_time.shape[1]):\n",
    "        split_time.iloc[i,j]=coal_time.iloc[i,j]-(coal_time.iloc[i,i]+coal_time.iloc[j,j])/2"
   ]
  },
  {
   "cell_type": "code",
   "execution_count": 81,
   "metadata": {
    "collapsed": false
   },
   "outputs": [
    {
     "data": {
      "text/html": [
       "<div style=\"max-height:1000px;max-width:1500px;overflow:auto;\">\n",
       "<table border=\"1\" class=\"dataframe\">\n",
       "  <thead>\n",
       "    <tr style=\"text-align: right;\">\n",
       "      <th></th>\n",
       "      <th>pyn</th>\n",
       "      <th>tan</th>\n",
       "      <th>aet</th>\n",
       "      <th>sab</th>\n",
       "      <th>cyn</th>\n",
       "    </tr>\n",
       "  </thead>\n",
       "  <tbody>\n",
       "    <tr>\n",
       "      <th>pyn</th>\n",
       "      <td>      0</td>\n",
       "      <td> 250146</td>\n",
       "      <td> 433466</td>\n",
       "      <td> 495657</td>\n",
       "      <td> 129440</td>\n",
       "    </tr>\n",
       "    <tr>\n",
       "      <th>tan</th>\n",
       "      <td> 250146</td>\n",
       "      <td>      0</td>\n",
       "      <td> 443081</td>\n",
       "      <td> 460068</td>\n",
       "      <td> 279528</td>\n",
       "    </tr>\n",
       "    <tr>\n",
       "      <th>aet</th>\n",
       "      <td> 433466</td>\n",
       "      <td> 443081</td>\n",
       "      <td>      0</td>\n",
       "      <td> 650882</td>\n",
       "      <td> 460269</td>\n",
       "    </tr>\n",
       "    <tr>\n",
       "      <th>sab</th>\n",
       "      <td> 495657</td>\n",
       "      <td> 460068</td>\n",
       "      <td> 650882</td>\n",
       "      <td>      0</td>\n",
       "      <td> 518524</td>\n",
       "    </tr>\n",
       "    <tr>\n",
       "      <th>cyn</th>\n",
       "      <td> 129440</td>\n",
       "      <td> 279528</td>\n",
       "      <td> 460269</td>\n",
       "      <td> 518524</td>\n",
       "      <td>      0</td>\n",
       "    </tr>\n",
       "  </tbody>\n",
       "</table>\n",
       "</div>"
      ],
      "text/plain": [
       "        pyn     tan     aet     sab     cyn\n",
       "pyn       0  250146  433466  495657  129440\n",
       "tan  250146       0  443081  460068  279528\n",
       "aet  433466  443081       0  650882  460269\n",
       "sab  495657  460068  650882       0  518524\n",
       "cyn  129440  279528  460269  518524       0"
      ]
     },
     "execution_count": 81,
     "metadata": {},
     "output_type": "execute_result"
    }
   ],
   "source": [
    "split_time.applymap(round)"
   ]
  },
  {
   "cell_type": "code",
   "execution_count": null,
   "metadata": {
    "collapsed": true
   },
   "outputs": [],
   "source": [
    "        sab     aet     tan     pyn     cyn\n",
    "sab     0.0     650881.6706687041       460067.9582332824       495657.1236265735       518523.9976715419\n",
    "aet     650881.6706687041       0.0     443080.8848140872       433465.8589827548       460269.2789056247\n",
    "tan     460067.9582332824       443080.8848140872       0.0     250145.85243396636      279527.7850542094\n",
    "pyn     495657.1236265735       433465.8589827548       250145.85243396636      0.0     129439.5437677363\n",
    "cyn     518523.9976715419       460269.2789056247       279527.7850542094       129439.5437677363       0.0"
   ]
  },
  {
   "cell_type": "code",
   "execution_count": 167,
   "metadata": {
    "collapsed": false
   },
   "outputs": [],
   "source": [
    "coal_time.ix[subspecies,subspecies].to_csv(\n",
    "                os.path.join(output_folder,\"coal_time_10x.tsv\"),sep=\"\\t\")\n",
    "split_time.to_csv(\n",
    "                os.path.join(output_folder,\"split_time_10x_macaque.tsv\"),sep=\"\\t\")\n",
    "split_time.ix[subspecies,subspecies].to_csv(\n",
    "                os.path.join(output_folder,\"split_time_10x.tsv\"),sep=\"\\t\")"
   ]
  },
  {
   "cell_type": "code",
   "execution_count": 19,
   "metadata": {
    "collapsed": false
   },
   "outputs": [],
   "source": [
    "from Bio import Phylo"
   ]
  },
  {
   "cell_type": "code",
   "execution_count": 23,
   "metadata": {
    "collapsed": false
   },
   "outputs": [
    {
     "data": {
      "image/png": "[encoded data removed]",
      "text/plain": [
       "<matplotlib.figure.Figure at 0x6a4e050>"
      ]
     },
     "metadata": {},
     "output_type": "display_data"
    }
   ],
   "source": [
    "split_tree = Phylo.read(os.path.join(output_folder,\"UPGMA_tree_10x.newick\"),\"newick\")\n",
    "#split_tree.ladderize()   # Flip branches so deeper clades are displayed at top\n",
    "Phylo.draw(split_tree)"
   ]
  },
  {
   "cell_type": "code",
   "execution_count": 25,
   "metadata": {
    "collapsed": false
   },
   "outputs": [
    {
     "data": {
      "text/plain": [
       "['__class__',\n",
       " '__delattr__',\n",
       " '__dict__',\n",
       " '__doc__',\n",
       " '__format__',\n",
       " '__getattribute__',\n",
       " '__hash__',\n",
       " '__init__',\n",
       " '__module__',\n",
       " '__new__',\n",
       " '__reduce__',\n",
       " '__reduce_ex__',\n",
       " '__repr__',\n",
       " '__setattr__',\n",
       " '__sizeof__',\n",
       " '__str__',\n",
       " '__subclasshook__',\n",
       " '__weakref__',\n",
       " '_filter_search',\n",
       " 'as_phyloxml',\n",
       " 'clade',\n",
       " 'collapse',\n",
       " 'collapse_all',\n",
       " 'common_ancestor',\n",
       " 'count_terminals',\n",
       " 'depths',\n",
       " 'distance',\n",
       " 'find_any',\n",
       " 'find_clades',\n",
       " 'find_elements',\n",
       " 'format',\n",
       " 'from_clade',\n",
       " 'get_nonterminals',\n",
       " 'get_path',\n",
       " 'get_terminals',\n",
       " 'id',\n",
       " 'is_bifurcating',\n",
       " 'is_monophyletic',\n",
       " 'is_parent_of',\n",
       " 'is_preterminal',\n",
       " 'is_terminal',\n",
       " 'ladderize',\n",
       " 'name',\n",
       " 'prune',\n",
       " 'randomized',\n",
       " 'root',\n",
       " 'root_at_midpoint',\n",
       " 'root_with_outgroup',\n",
       " 'rooted',\n",
       " 'split',\n",
       " 'total_branch_length',\n",
       " 'trace',\n",
       " 'weight']"
      ]
     },
     "execution_count": 25,
     "metadata": {},
     "output_type": "execute_result"
    }
   ],
   "source": [
    "dir(split_tree)"
   ]
  },
  {
   "cell_type": "code",
   "execution_count": 34,
   "metadata": {
    "collapsed": false
   },
   "outputs": [
    {
     "ename": "AttributeError",
     "evalue": "'Tree' object has no attribute 'get_clade'",
     "output_type": "error",
     "traceback": [
      "\u001b[1;31m---------------------------------------------------------------------------\u001b[0m\n\u001b[1;31mAttributeError\u001b[0m                            Traceback (most recent call last)",
      "\u001b[1;32m<ipython-input-34-f4ac99189376>\u001b[0m in \u001b[0;36m<module>\u001b[1;34m()\u001b[0m\n\u001b[1;32m----> 1\u001b[1;33m \u001b[0msplit_tree\u001b[0m\u001b[1;33m.\u001b[0m\u001b[0mget_clade\u001b[0m\u001b[1;33m(\u001b[0m\u001b[1;33m)\u001b[0m\u001b[1;33m\u001b[0m\u001b[0m\n\u001b[0m",
      "\u001b[1;31mAttributeError\u001b[0m: 'Tree' object has no attribute 'get_clade'"
     ]
    }
   ],
   "source": [
    "split_tree.get_clade()"
   ]
  },
  {
   "cell_type": "code",
   "execution_count": 170,
   "metadata": {
    "collapsed": false
   },
   "outputs": [
    {
     "data": {
      "image/png": "[encoded data removed]",
      "text/plain": [
       "<matplotlib.figure.Figure at 0x5286210>"
      ]
     },
     "metadata": {},
     "output_type": "display_data"
    }
   ],
   "source": [
    "#IGNORING WITHIN SUBSPECIES DIVERSITY\n",
    "#this is average coalescent times -> splits get older, this is expected\n",
    "rooted_split_tree = Phylo.read(os.path.join(output_folder,\"UPGMA_tree_10x_coal_time.newick\"),\"newick\")\n",
    "rooted_split_tree.ladderize()   # Flip branches so deeper clades are displayed at top\n",
    "Phylo.draw(rooted_split_tree)"
   ]
  },
  {
   "cell_type": "code",
   "execution_count": 36,
   "metadata": {
    "collapsed": false
   },
   "outputs": [
    {
     "data": {
      "text/plain": [
       "'/home/GMI/hannes.svardal/vervet_project/analyses/20140524_SNP_calling_ref3500_10X_individuals/output/UPGMA_tree_10x_coal_time.newick'"
      ]
     },
     "execution_count": 36,
     "metadata": {},
     "output_type": "execute_result"
    }
   ],
   "source": [
    "os.path.join(output_folder,\"UPGMA_tree_10x_coal_time.newick\")"
   ]
  },
  {
   "cell_type": "markdown",
   "metadata": {},
   "source": [
    "### Comparison to macaque"
   ]
  },
  {
   "cell_type": "code",
   "execution_count": null,
   "metadata": {
    "collapsed": false
   },
   "outputs": [],
   "source": [
    "data from Yan et al 2011, Nature Biotechnology, doi:10.1038/nbt.1992"
   ]
  },
  {
   "cell_type": "code",
   "execution_count": null,
   "metadata": {
    "collapsed": false
   },
   "outputs": [],
   "source": [
    "ir... indian rhesus\n",
    "cr... chinese rhesus\n",
    "ce... crab eating macaque"
   ]
  },
  {
   "cell_type": "code",
   "execution_count": 54,
   "metadata": {
    "collapsed": false
   },
   "outputs": [],
   "source": [
    "ir_fixed = 1655269\n",
    "ir_singletons = 4292081\n",
    "cr_fixed = 818025\n",
    "cr_singletons = 4046387\n",
    "ce_fixed = 2142312\n",
    "ce_singletons = 5369137\n",
    "ce_cr = 677956\n",
    "ce_ir = 185412\n",
    "cr_ir = 336580\n",
    "ce_cr_ir = 1415712"
   ]
  },
  {
   "cell_type": "code",
   "execution_count": 67,
   "metadata": {
    "collapsed": false
   },
   "outputs": [
    {
     "name": "stdout",
     "output_type": "stream",
     "text": [
      "20938871\n"
     ]
    }
   ],
   "source": [
    "total = ir_fixed + ir_singletons + cr_fixed + cr_singletons + ce_fixed + ce_singletons + ce_cr + ce_ir + cr_ir + ce_cr_ir\n",
    "print total"
   ]
  },
  {
   "cell_type": "code",
   "execution_count": 58,
   "metadata": {
    "collapsed": false
   },
   "outputs": [
    {
     "name": "stdout",
     "output_type": "stream",
     "text": [
      "0.654648715301\n"
     ]
    }
   ],
   "source": [
    "singletons = (ir_singletons + cr_singletons + ce_singletons)*1./total\n",
    "print singletons"
   ]
  },
  {
   "cell_type": "code",
   "execution_count": 60,
   "metadata": {
    "collapsed": false
   },
   "outputs": [
    {
     "name": "stdout",
     "output_type": "stream",
     "text": [
      "0.220432419685\n"
     ]
    }
   ],
   "source": [
    "fixed_diff = (ir_fixed + cr_fixed + ce_fixed)*1./total\n",
    "print fixed_diff"
   ]
  },
  {
   "cell_type": "code",
   "execution_count": 64,
   "metadata": {
    "collapsed": false
   },
   "outputs": [
    {
     "data": {
      "text/plain": [
       "0.7119559120451145"
      ]
     },
     "execution_count": 64,
     "metadata": {},
     "output_type": "execute_result"
    }
   ],
   "source": [
    "(ir_singletons + cr_singletons + ce_singletons+ce_cr+ce_ir+cr_ir)*1./total"
   ]
  },
  {
   "cell_type": "code",
   "execution_count": 66,
   "metadata": {
    "collapsed": false
   },
   "outputs": [
    {
     "data": {
      "text/plain": [
       "0.12491886501425985"
      ]
     },
     "execution_count": 66,
     "metadata": {},
     "output_type": "execute_result"
    }
   ],
   "source": [
    "(ce_cr + ce_ir + cr_ir + ce_cr_ir)*1./total"
   ]
  },
  {
   "cell_type": "markdown",
   "metadata": {},
   "source": [
    "## MSMC"
   ]
  },
  {
   "cell_type": "code",
   "execution_count": null,
   "metadata": {
    "collapsed": false
   },
   "outputs": [],
   "source": []
  },
  {
   "cell_type": "code",
   "execution_count": 11,
   "metadata": {
    "collapsed": false
   },
   "outputs": [],
   "source": [
    "%%px --local\n",
    "#take the sites from df but add the genotypes from phase df\n",
    "def make_phased_input(id):\n",
    "    errors = []\n",
    "    for chrom in autosomes:\n",
    "        try:\n",
    "            df = pd.read_csv(jn(msmc_ana_dir,\"msmc_input_{}_{}.tsv\".format(id,chrom)),sep=\"\\t\",index_col=[0,1],header=None)\n",
    "            #phase df can have some more entries (sites where the genotype is missing in the original df)\n",
    "            phase_df = pd.read_csv(jn(msmc_ana_dir,\"msmc_input_{}_beagle_{}.tsv\".format(id,chrom)),sep=\"\\t\",index_col=[0,1],header=None)\n",
    "            df[3] = phase_df.ix[df.index][3]\n",
    "            #attention this is not correct, since the distance for the dropped values should be added to the ones above\n",
    "            df.dropna(inplace=True)\n",
    "            df.to_csv(jn(msmc_ana_dir,\"msmc_input_{}_phased_{}.tsv\".format(id,chrom)),sep=\"\\t\",header=None)\n",
    "        except Exception, e:\n",
    "            errors.append(str(e))\n",
    "    return errors"
   ]
  },
  {
   "cell_type": "code",
   "execution_count": 12,
   "metadata": {
    "collapsed": false
   },
   "outputs": [],
   "source": [
    "map_make_phased = lv.map_async(make_phased_input, ucla_ids)"
   ]
  },
  {
   "cell_type": "code",
   "execution_count": 15,
   "metadata": {
    "collapsed": false
   },
   "outputs": [],
   "source": [
    "map_make_phased.wait(10)"
   ]
  },
  {
   "cell_type": "code",
   "execution_count": 16,
   "metadata": {
    "collapsed": false
   },
   "outputs": [
    {
     "data": {
      "text/plain": [
       "[[], [], [], [], []]"
      ]
     },
     "execution_count": 16,
     "metadata": {},
     "output_type": "execute_result"
    }
   ],
   "source": [
    "map_make_phased.result"
   ]
  },
  {
   "cell_type": "code",
   "execution_count": 29,
   "metadata": {
    "collapsed": false
   },
   "outputs": [],
   "source": [
    "chrom = 'CAE28'\n",
    "id = 'VZA3008'"
   ]
  },
  {
   "cell_type": "code",
   "execution_count": 30,
   "metadata": {
    "collapsed": false
   },
   "outputs": [],
   "source": [
    "df = pd.read_csv(jn(msmc_ana_dir,\"msmc_input_{}_{}.tsv\".format(id,chrom)),sep=\"\\t\",index_col=[0,1],header=None)"
   ]
  },
  {
   "cell_type": "code",
   "execution_count": 31,
   "metadata": {
    "collapsed": false
   },
   "outputs": [],
   "source": [
    "beagle_df = pd.read_csv(jn(msmc_ana_dir,\"msmc_input_{}_beagle_{}.tsv\".format(id,chrom)),sep=\"\\t\",index_col=[0,1],header=None)"
   ]
  },
  {
   "cell_type": "code",
   "execution_count": 35,
   "metadata": {
    "collapsed": false
   },
   "outputs": [],
   "source": [
    "phased_df = pd.read_csv(jn(msmc_ana_dir,\"msmc_input_{}_phased_{}.tsv\".format(id,chrom)),sep=\"\\t\",header=None,index_col=[0,1])"
   ]
  },
  {
   "cell_type": "markdown",
   "metadata": {},
   "source": [
    "### Plot results"
   ]
  },
  {
   "cell_type": "code",
   "execution_count": 17,
   "metadata": {
    "collapsed": false
   },
   "outputs": [],
   "source": [
    "mpl.rcParams[\"font.size\"]=16"
   ]
  },
  {
   "cell_type": "code",
   "execution_count": 18,
   "metadata": {
    "collapsed": false
   },
   "outputs": [],
   "source": [
    "mpl.rc('text', usetex=False)"
   ]
  },
  {
   "cell_type": "code",
   "execution_count": 19,
   "metadata": {
    "collapsed": false
   },
   "outputs": [],
   "source": [
    "converter =  mpl.colors.ColorConverter()\n",
    "mu=1.5e-8\n",
    "generation_time = 8.5\n",
    "colors3 = [\"blue\",\"magenta\",\"cyan\",\"green\",\"orange\",\"yellow\",\"brown\",\"red\"]\n",
    "light_colors3 = [tuple([min(1,v) for v in  np.array(converter.to_rgb(c))+0.1]) for c in colors3] \n",
    "pops3 = [\"aet\",\"cyn\",\"pyn\",\"pys\",\"sab\",\"sac\",\"sar\",\"tan\"]\n",
    "populations = [\"C. a. aethiops\",\"C. a. cynosuros\",\"C. a. pygerythrus\",\"pys\",\"C. a.sabaeus\",\"sac\",\"sar\",\"C.a. tantalus\"]\n",
    "pops = [\"C. a. aethiops\",\"C. a. cynosurus\",\"C. a. pygerythrus\",\"C. a. sabaeus\",\"C. a. tantalus\"]"
   ]
  },
  {
   "cell_type": "code",
   "execution_count": 20,
   "metadata": {
    "collapsed": false
   },
   "outputs": [],
   "source": [
    "colors = [(98,109,176),(10,176,235),(72,159,84),(245,142,55),(228,70,90)]\n",
    "colors = [[c/255. for c in k] for k in colors]"
   ]
  },
  {
   "cell_type": "code",
   "execution_count": 17,
   "metadata": {
    "collapsed": false
   },
   "outputs": [
    {
     "data": {
      "text/plain": [
       "[[0.3843137254901961, 0.42745098039215684, 0.6901960784313725],\n",
       " [0.03529411764705882, 0.06666666666666667, 0.12549019607843137],\n",
       " [0.2823529411764706, 0.6235294117647059, 0.32941176470588235],\n",
       " [0.9607843137254902, 0.5568627450980392, 0.21568627450980393],\n",
       " [0.8941176470588236, 0.27450980392156865, 0.35294117647058826]]"
      ]
     },
     "execution_count": 17,
     "metadata": {},
     "output_type": "execute_result"
    }
   ],
   "source": [
    "[[c/255. for c in k] for k in colors]"
   ]
  },
  {
   "cell_type": "code",
   "execution_count": 19,
   "metadata": {
    "collapsed": false
   },
   "outputs": [],
   "source": [
    "colors = converter.to_rgba_array()"
   ]
  },
  {
   "cell_type": "code",
   "execution_count": 32,
   "metadata": {
    "collapsed": false
   },
   "outputs": [
    {
     "data": {
      "text/plain": [
       "[('aet', 1), ('cyn', 4), ('pyn', 3), ('sab', 0), ('tan', 2)]"
      ]
     },
     "execution_count": 32,
     "metadata": {},
     "output_type": "execute_result"
    }
   ],
   "source": [
    "[i sorted((e,i) for i,e in enumerate(subspecies))"
   ]
  },
  {
   "cell_type": "code",
   "execution_count": 33,
   "metadata": {
    "collapsed": false
   },
   "outputs": [
    {
     "data": {
      "text/plain": [
       "[('aet', 1), ('cyn', 4), ('pyn', 3), ('sab', 0), ('tan', 2)]"
      ]
     },
     "execution_count": 33,
     "metadata": {},
     "output_type": "execute_result"
    }
   ],
   "source": [
    "sorted((e,i) for i,e in enumerate(subspecies))"
   ]
  },
  {
   "cell_type": "code",
   "execution_count": 46,
   "metadata": {
    "collapsed": false
   },
   "outputs": [
    {
     "data": {
      "text/plain": [
       "[<matplotlib.lines.Line2D at 0x5120410>]"
      ]
     },
     "execution_count": 46,
     "metadata": {},
     "output_type": "execute_result"
    },
    {
     "data": {
      "image/png": "[encoded data removed]",
      "text/plain": [
       "<matplotlib.figure.Figure at 0x6fa4590>"
      ]
     },
     "metadata": {},
     "output_type": "display_data"
    }
   ],
   "source": [
    "plt.plot([1,2,4],color=(0.2823529411764706, 0.6235294117647059, 0.32941176470588235))"
   ]
  },
  {
   "cell_type": "code",
   "execution_count": 13,
   "metadata": {
    "collapsed": false
   },
   "outputs": [],
   "source": [
    "mpl.rcParams['svg.fonttype'] = 'none'"
   ]
  },
  {
   "cell_type": "code",
   "execution_count": 28,
   "metadata": {
    "collapsed": false
   },
   "outputs": [
    {
     "name": "stdout",
     "output_type": "stream",
     "text": [
      "aet [0.3843137254901961, 0.42745098039215684, 0.6901960784313725]\n",
      "cyn [0.0392156862745098, 0.6901960784313725, 0.9215686274509803]\n",
      "pyg [0.2823529411764706, 0.6235294117647059, 0.32941176470588235]\n",
      "sab [0.9607843137254902, 0.5568627450980392, 0.21568627450980393]\n",
      "tan [0.8941176470588236, 0.27450980392156865, 0.35294117647058826]\n"
     ]
    },
    {
     "data": {
      "text/plain": [
       "<matplotlib.text.Text at 0x5f78b90>"
      ]
     },
     "execution_count": 28,
     "metadata": {},
     "output_type": "execute_result"
    },
    {
     "data": {
      "image/png": "[encoded data removed]",
      "text/plain": [
       "<matplotlib.figure.Figure at 0x5a54b90>"
      ]
     },
     "metadata": {},
     "output_type": "display_data"
    }
   ],
   "source": [
    "# Two haplotypes\n",
    "fig = plt.figure(figsize=(10,5))\n",
    "ax = plt.gca()\n",
    "#jet = cm = plt.get_cmap('jet') \n",
    "#cNorm  = mpl.colors.Normalize(vmin=0, vmax=len(ids))\n",
    "#scalarMap = mpl.cm.ScalarMappable(norm=cNorm, cmap=jet)\n",
    "for i,(pop,ix) in enumerate(sorted((e,i) for i,e in enumerate(subspecies))):\n",
    "    id = ucla_ids[ix]\n",
    "    print mt.ix[id]['population'], colors[i]\n",
    "    #colorVal = scalarMap.to_rgba(i)\n",
    "    #pop = populations[pops3.index(mt.ix[id.split(\"_\")][\"population\"].values[0])]\n",
    "    time_df = pd.read_csv(jn(msmc_ana_dir,\"msmc_out_{}.final.txt\".format(id)),sep=\"\\t\",index_col=0)\n",
    "    time_df = time_df#.iloc[:-4]\n",
    "    time_df[[\"left_time_boundary\",\"right_time_boundary\"]] = time_df[[\"left_time_boundary\",\"right_time_boundary\"]]*generation_time/mu\n",
    "    time_df[\"Ne\"] = 1/(2*mu*time_df[\"lambda_00\"])\n",
    "    lines = [[(el[1][\"left_time_boundary\"],el[1][\"Ne\"]),(el[1][\"right_time_boundary\"],el[1][\"Ne\"])] for el in time_df.iterrows()]\n",
    "    lines += [[e0[1],e1[0]] for e0,e1 in zip(lines,lines[1:])]\n",
    "    #c = np.array([(1, 0, 0, 1), (0, 1, 0, 1), (0, 0, 1, 1)])\n",
    "    lc = mpl.collections.LineCollection(lines, linewidths=2,label=pops[i],color=colors[i]) \n",
    "    ax.add_collection(lc)\n",
    "ax.autoscale()\n",
    "ax.margins(0.05)\n",
    "ax.set_xlim([5000,1.2*10**6])\n",
    "ax.set_ylim([4000,250000])\n",
    "ax.set_xscale('log')\n",
    "ax.set_yscale('log')\n",
    "    #ax.set_xscale('log')\n",
    "    #ax.get_xaxis().set_major_formatter(mpl.ticker.ScalarFormatter())\n",
    "#plt.ticklabel_format(style='sci', axis='x', scilimits=(0,0))\n",
    "l = plt.legend(loc=(1.02,0),prop={'style':'italic'})\n",
    "#plt.title(\"MSMC highest coverage individual (2 haplotypes)\")\n",
    "ax.set_xlabel(\"Time (years ago)\",fontdict={'size':'15'})\n",
    "ax.set_ylabel(\"Effective population size\",fontdict={'size':'15'})\n",
    "\n",
    "#plt.savefig(jn(figure_dir,\"msmc_10x_ind_v2.pdf\"),bbox_inches='tight',bbox_extra_artists=(l,))"
   ]
  },
  {
   "cell_type": "code",
   "execution_count": null,
   "metadata": {
    "collapsed": false
   },
   "outputs": [],
   "source": []
  },
  {
   "cell_type": "code",
   "execution_count": 23,
   "metadata": {
    "collapsed": false
   },
   "outputs": [
    {
     "name": "stdout",
     "output_type": "stream",
     "text": [
      "aet [0.3843137254901961, 0.42745098039215684, 0.6901960784313725]\n",
      "cyn [0.0392156862745098, 0.6901960784313725, 0.9215686274509803]\n",
      "pyg [0.2823529411764706, 0.6235294117647059, 0.32941176470588235]\n",
      "sab [0.9607843137254902, 0.5568627450980392, 0.21568627450980393]\n",
      "tan [0.8941176470588236, 0.27450980392156865, 0.35294117647058826]\n"
     ]
    },
    {
     "data": {
      "image/png": "[encoded data removed]",
      "text/plain": [
       "<matplotlib.figure.Figure at 0x58e3850>"
      ]
     },
     "metadata": {},
     "output_type": "display_data"
    }
   ],
   "source": [
    "# Two haplotypes\n",
    "fig = plt.figure(figsize=(10,5))\n",
    "ax = plt.gca()\n",
    "#jet = cm = plt.get_cmap('jet') \n",
    "#cNorm  = mpl.colors.Normalize(vmin=0, vmax=len(ids))\n",
    "#scalarMap = mpl.cm.ScalarMappable(norm=cNorm, cmap=jet)\n",
    "for i,(pop,ix) in enumerate(sorted((e,i) for i,e in enumerate(subspecies))):\n",
    "    id = ucla_ids[ix]\n",
    "    print mt.ix[id]['population'], colors[i]\n",
    "    #colorVal = scalarMap.to_rgba(i)\n",
    "    #pop = populations[pops3.index(mt.ix[id.split(\"_\")][\"population\"].values[0])]\n",
    "    time_df = pd.read_csv(jn(msmc_ana_dir,\"msmc_out_{}.final.txt\".format(id)),sep=\"\\t\",index_col=0)\n",
    "    time_df = time_df#.iloc[:-4]\n",
    "    time_df[[\"left_time_boundary\",\"right_time_boundary\"]] = time_df[[\"left_time_boundary\",\"right_time_boundary\"]]*generation_time/mu\n",
    "    time_df[\"Ne\"] = 1/(2*mu*time_df[\"lambda_00\"])\n",
    "    lines = [[(el[1][\"left_time_boundary\"],el[1][\"Ne\"]),(el[1][\"right_time_boundary\"],el[1][\"Ne\"])] for el in time_df.iterrows()]\n",
    "    lines += [[e0[1],e1[0]] for e0,e1 in zip(lines,lines[1:])]\n",
    "    #c = np.array([(1, 0, 0, 1), (0, 1, 0, 1), (0, 0, 1, 1)])\n",
    "    lc = mpl.collections.LineCollection(lines, linewidths=2,label=pops[i],color=colors[i]) \n",
    "    ax.add_collection(lc)\n",
    "ax.autoscale()\n",
    "ax.margins(0.05)\n",
    "ax.set_xlim([5000,1.2*10**6])\n",
    "ax.set_ylim([4000,250000])\n",
    "ax.set_xscale('log')\n",
    "ax.set_yscale('log')\n",
    "    #ax.set_xscale('log')\n",
    "    #ax.get_xaxis().set_major_formatter(mpl.ticker.ScalarFormatter())\n",
    "#plt.ticklabel_format(style='sci', axis='x', scilimits=(0,0))\n",
    "l = plt.legend(loc=(1.02,0),prop={'style':'italic'})\n",
    "#plt.title(\"MSMC highest coverage individual (2 haplotypes)\")\n",
    "ax.set_xlabel(\"Time (years ago)\",fontdict={'size':'15'})\n",
    "ax.set_ylabel(\"Effective population size\",fontdict={'size':'15'})\n",
    "\n",
    "plt.savefig(jn(figure_dir,\"msmc_10x_ind.pdf\"),bbox_inches='tight',bbox_extra_artists=(l,))"
   ]
  },
  {
   "cell_type": "code",
   "execution_count": 35,
   "metadata": {
    "collapsed": false
   },
   "outputs": [
    {
     "data": {
      "text/html": [
       "<div style=\"max-height:1000px;max-width:1500px;overflow:auto;\">\n",
       "<table border=\"1\" class=\"dataframe\">\n",
       "  <thead>\n",
       "    <tr style=\"text-align: right;\">\n",
       "      <th></th>\n",
       "      <th>latitude</th>\n",
       "      <th>longitude</th>\n",
       "    </tr>\n",
       "    <tr>\n",
       "      <th>ucla_id</th>\n",
       "      <th></th>\n",
       "      <th></th>\n",
       "    </tr>\n",
       "  </thead>\n",
       "  <tbody>\n",
       "    <tr>\n",
       "      <th>VGA00006</th>\n",
       "      <td> 13.389000</td>\n",
       "      <td>-16.653383</td>\n",
       "    </tr>\n",
       "    <tr>\n",
       "      <th>VEC1016</th>\n",
       "      <td> 11.595817</td>\n",
       "      <td> 37.407183</td>\n",
       "    </tr>\n",
       "    <tr>\n",
       "      <th>AGM141</th>\n",
       "      <td>  4.366667</td>\n",
       "      <td> 18.583333</td>\n",
       "    </tr>\n",
       "    <tr>\n",
       "      <th>AG5417</th>\n",
       "      <td> -7.000000</td>\n",
       "      <td> 35.000000</td>\n",
       "    </tr>\n",
       "    <tr>\n",
       "      <th>VZA3008</th>\n",
       "      <td>-14.978317</td>\n",
       "      <td> 25.993217</td>\n",
       "    </tr>\n",
       "  </tbody>\n",
       "</table>\n",
       "</div>"
      ],
      "text/plain": [
       "           latitude  longitude\n",
       "ucla_id                       \n",
       "VGA00006  13.389000 -16.653383\n",
       "VEC1016   11.595817  37.407183\n",
       "AGM141     4.366667  18.583333\n",
       "AG5417    -7.000000  35.000000\n",
       "VZA3008  -14.978317  25.993217"
      ]
     },
     "execution_count": 35,
     "metadata": {},
     "output_type": "execute_result"
    }
   ],
   "source": [
    "mt.ix[ucla_ids][['latitude','longitude']]"
   ]
  },
  {
   "cell_type": "code",
   "execution_count": 5,
   "metadata": {
    "collapsed": false
   },
   "outputs": [],
   "source": [
    "from mpl_toolkits.basemap import Basemap"
   ]
  },
  {
   "cell_type": "code",
   "execution_count": 17,
   "metadata": {
    "collapsed": false
   },
   "outputs": [
    {
     "data": {
      "text/plain": [
       "<matplotlib.collections.PathCollection at 0x65bf110>"
      ]
     },
     "execution_count": 17,
     "metadata": {},
     "output_type": "execute_result"
    },
    {
     "data": {
      "image/png": "[encoded data removed]",
      "text/plain": [
       "<matplotlib.figure.Figure at 0x5e70d50>"
      ]
     },
     "metadata": {},
     "output_type": "display_data"
    }
   ],
   "source": [
    "fig = plt.figure(figsize=(5,5))\n",
    "ax = plt.gca()\n",
    "m = Basemap(llcrnrlon=-22 ,llcrnrlat=-39, urcrnrlon= 53,urcrnrlat=28, resolution='c',ax=ax)\n",
    "m.drawcoastlines(0.5)\n",
    "#for long,lat in mt.ix[ucla_ids][['longitude','latitude']].iteritems():\n",
    "#    print long, lat\n",
    "ax.scatter(mt.ix[ucla_ids][['longitude']],mt.ix[ucla_ids][['latitude']])"
   ]
  },
  {
   "cell_type": "code",
   "execution_count": null,
   "metadata": {
    "collapsed": false
   },
   "outputs": [],
   "source": [
    "        long = mt[mt['pop3']==p]['longitude'].values\n",
    "        lat = mt[mt['pop3']==p]['latitude'].values   \n",
    "        ax0.scatter(long,lat,s=400, marker=align_marker('v', valign='bottom'),\n",
    "                    alpha=1,facecolor=color,lw=1)"
   ]
  }
 ],
 "metadata": {
  "kernelspec": {
   "display_name": "Python 2",
   "language": "python",
   "name": "python2"
  },
  "language_info": {
   "codemirror_mode": {
    "name": "ipython",
    "version": 2
   },
   "file_extension": ".py",
   "mimetype": "text/x-python",
   "name": "python",
   "nbconvert_exporter": "python",
   "pygments_lexer": "ipython2",
   "version": "2.7.3"
  }
 },
 "nbformat": 4,
 "nbformat_minor": 0
}
