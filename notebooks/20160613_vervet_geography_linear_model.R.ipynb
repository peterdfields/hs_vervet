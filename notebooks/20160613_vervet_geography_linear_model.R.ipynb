{
 "cells": [
  {
   "cell_type": "code",
   "execution_count": null,
   "metadata": {
    "collapsed": true
   },
   "outputs": [],
   "source": [
    "library(\"rjson\")\n",
    "\n",
    "man_ana_dir <- \"~/vervet_project/analyses/20150520_popgen_analysis_UG/_data\"\n",
    "pca = read.csv(paste(man_ana_dir,\"pcadapt_linear_model_africa.csv\",sep='/'),header=TRUE)\n",
    "\n",
    "#library(lme4)\n",
    "#model1 <- lmer(PCA~long+lat)\n",
    "#model2<-lmer(PCA~long+lat+spec)\n",
    "#summary(model1)$loglik\n",
    "\n",
    "for (i in 1:6) {\n",
    "  f <- paste(paste('X',i,sep=''), \"~\", \"longitude + latitude\")\n",
    "  f2 <- paste(f,'+ population')\n",
    "  model1 <- lm(f, data=pca)\n",
    "  model2 <- lm(f2, data=pca)\n",
    "  anov <- anova(model1, model2)\n",
    "  print(anov)\n",
    "  capture.output(anov, file=paste(man_ana_dir,'/',\"pcadapt_ibd_anova_K\",i,\".txt\",sep=''))"
   ]
  },
  {
   "cell_type": "code",
   "execution_count": 4,
   "metadata": {
    "collapsed": false
   },
   "outputs": [],
   "source": [
    "pca = read.csv(paste(\"~/VervetPopgen/scratch\",\"pcadapt_linear_model_africa_pops3.csv\",sep='/'),header=TRUE)"
   ]
  },
  {
   "cell_type": "code",
   "execution_count": 66,
   "metadata": {
    "collapsed": true
   },
   "outputs": [],
   "source": [
    "df = data.frame(c(1:6), NA, NA)\n",
    "colnames(df) <- c(\"PC\",\"geography\",\"species\")"
   ]
  },
  {
   "cell_type": "code",
   "execution_count": 74,
   "metadata": {
    "collapsed": false
   },
   "outputs": [],
   "source": [
    "for (K in 1:6) {\n",
    "\n",
    "f_geography <- paste(paste('X',K,sep=''), \"~\", \"longitude + latitude\")\n",
    "f_both <- paste(f_geography,'+ pop3')\n",
    "f_species <- paste(paste('X',K,sep=''), \"~\", \"pop3\")\n",
    "model_geography <- lm(f_geography, data=pca)\n",
    "model_both <- lm(f_both, data=pca)\n",
    "model_species <- lm(f_species, data=pca)\n",
    "anov_add_species <- anova(model_geography, model_both,test='LRT')\n",
    "anov_add_geography <- anova(model_species, model_both,test='LRT')\n",
    "\n",
    "df[K,\"geography\"] <- anov_add_geography[2,\"Pr(>Chi)\"]\n",
    "df[K,\"species\"] <- anov_add_species[2,\"Pr(>Chi)\"]\n",
    "    \n",
    "}\n",
    "    \n",
    "#print(anov_add_species)\n",
    "#print(anov_add_geography)"
   ]
  },
  {
   "cell_type": "code",
   "execution_count": 63,
   "metadata": {
    "collapsed": false
   },
   "outputs": [
    {
     "data": {
      "text/html": [
       "1.09424165020349e-13"
      ],
      "text/latex": [
       "1.09424165020349e-13"
      ],
      "text/markdown": [
       "1.09424165020349e-13"
      ],
      "text/plain": [
       "[1] 1.094242e-13"
      ]
     },
     "execution_count": 63,
     "metadata": {},
     "output_type": "execute_result"
    }
   ],
   "source": [
    "anov_add_geography[2,\"Pr(>Chi)\"]"
   ]
  },
  {
   "cell_type": "code",
   "execution_count": 73,
   "metadata": {
    "collapsed": false
   },
   "outputs": [
    {
     "data": {
      "text/html": [
       "\n",
       "<table width=\"100%\" summary=\"page for anova {stats}\"><tr><td>anova {stats}</td><td style=\"text-align: right;\">R Documentation</td></tr></table>\n",
       "\n",
       "<h2>Anova Tables</h2>\n",
       "\n",
       "<h3>Description</h3>\n",
       "\n",
       "<p>Compute analysis of variance (or deviance) tables for one or more\n",
       "fitted model objects.\n",
       "</p>\n",
       "\n",
       "\n",
       "<h3>Usage</h3>\n",
       "\n",
       "<pre>\n",
       "anova(object, ...)\n",
       "</pre>\n",
       "\n",
       "\n",
       "<h3>Arguments</h3>\n",
       "\n",
       "<table summary=\"R argblock\">\n",
       "<tr valign=\"top\"><td><code>object</code></td>\n",
       "<td>\n",
       "<p>an object containing the results returned by a model\n",
       "fitting function (e.g., <code>lm</code> or <code>glm</code>).</p>\n",
       "</td></tr>\n",
       "<tr valign=\"top\"><td><code>...</code></td>\n",
       "<td>\n",
       "<p>additional objects of the same type.</p>\n",
       "</td></tr>\n",
       "</table>\n",
       "\n",
       "\n",
       "<h3>Value</h3>\n",
       "\n",
       "<p>This (generic) function returns an object of class <code>anova</code>.\n",
       "These objects represent analysis-of-variance and analysis-of-deviance tables.\n",
       "When given a single argument it produces a table which\n",
       "tests whether the model terms are significant.\n",
       "</p>\n",
       "<p>When given a sequence of objects, <code>anova</code> tests\n",
       "the models against one another in the order specified.\n",
       "</p>\n",
       "<p>The print method for <code>anova</code> objects prints tables in a\n",
       "&lsquo;pretty&rsquo; form.\n",
       "</p>\n",
       "\n",
       "\n",
       "<h3>Warning</h3>\n",
       "\n",
       "<p>The comparison between two or more models will only be valid if they\n",
       "are fitted to the same dataset. This may be a problem if there are\n",
       "missing values and <span style=\"font-family: Courier New, Courier; color: #666666;\"><b>R</b></span>'s default of <code>na.action = na.omit</code> is used.\n",
       "</p>\n",
       "\n",
       "\n",
       "<h3>References</h3>\n",
       "\n",
       "<p>Chambers, J. M. and Hastie, T. J. (1992)\n",
       "<em>Statistical Models in S</em>, Wadsworth &amp; Brooks/Cole.\n",
       "</p>\n",
       "\n",
       "\n",
       "<h3>See Also</h3>\n",
       "\n",
       "<p><code>coefficients</code>, <code>effects</code>,\n",
       "<code>fitted.values</code>, <code>residuals</code>,\n",
       "<code>summary</code>, <code>drop1</code>, <code>add1</code>.\n",
       "</p>\n",
       "\n",
       "<hr /><div style=\"text-align: center;\">[Package <em>stats</em> version 3.2.2 ]</div>"
      ],
      "text/latex": [
       "\\inputencoding{utf8}\n",
       "\\HeaderA{anova}{Anova Tables}{anova}\n",
       "\\keyword{regression}{anova}\n",
       "\\keyword{models}{anova}\n",
       "%\n",
       "\\begin{Description}\\relax\n",
       "Compute analysis of variance (or deviance) tables for one or more\n",
       "fitted model objects.\n",
       "\\end{Description}\n",
       "%\n",
       "\\begin{Usage}\n",
       "\\begin{verbatim}\n",
       "anova(object, ...)\n",
       "\\end{verbatim}\n",
       "\\end{Usage}\n",
       "%\n",
       "\\begin{Arguments}\n",
       "\\begin{ldescription}\n",
       "\\item[\\code{object}] an object containing the results returned by a model\n",
       "fitting function (e.g., \\code{lm} or \\code{glm}).\n",
       "\\item[\\code{...}] additional objects of the same type.\n",
       "\\end{ldescription}\n",
       "\\end{Arguments}\n",
       "%\n",
       "\\begin{Value}\n",
       "This (generic) function returns an object of class \\code{anova}.\n",
       "These objects represent analysis-of-variance and analysis-of-deviance tables.\n",
       "When given a single argument it produces a table which\n",
       "tests whether the model terms are significant.\n",
       "\n",
       "When given a sequence of objects, \\code{anova} tests\n",
       "the models against one another in the order specified.\n",
       "\n",
       "The print method for \\code{anova} objects prints tables in a\n",
       "`pretty' form.\n",
       "\\end{Value}\n",
       "%\n",
       "\\begin{Section}{Warning}\n",
       "The comparison between two or more models will only be valid if they\n",
       "are fitted to the same dataset. This may be a problem if there are\n",
       "missing values and \\R{}'s default of \\code{na.action = na.omit} is used.\n",
       "\\end{Section}\n",
       "%\n",
       "\\begin{References}\\relax\n",
       "Chambers, J. M. and Hastie, T. J. (1992)\n",
       "\\emph{Statistical Models in S}, Wadsworth \\& Brooks/Cole.\n",
       "\\end{References}\n",
       "%\n",
       "\\begin{SeeAlso}\\relax\n",
       "\\code{\\LinkA{coefficients}{coefficients}}, \\code{\\LinkA{effects}{effects}},\n",
       "\\code{\\LinkA{fitted.values}{fitted.values}}, \\code{\\LinkA{residuals}{residuals}},\n",
       "\\code{\\LinkA{summary}{summary}}, \\code{\\LinkA{drop1}{drop1}}, \\code{\\LinkA{add1}{add1}}.\n",
       "\\end{SeeAlso}"
      ],
      "text/plain": [
       "anova                  package:stats                   R Documentation\n",
       "\n",
       "_\bA_\bn_\bo_\bv_\ba _\bT_\ba_\bb_\bl_\be_\bs\n",
       "\n",
       "_\bD_\be_\bs_\bc_\br_\bi_\bp_\bt_\bi_\bo_\bn:\n",
       "\n",
       "     Compute analysis of variance (or deviance) tables for one or more\n",
       "     fitted model objects.\n",
       "\n",
       "_\bU_\bs_\ba_\bg_\be:\n",
       "\n",
       "     anova(object, ...)\n",
       "     \n",
       "_\bA_\br_\bg_\bu_\bm_\be_\bn_\bt_\bs:\n",
       "\n",
       "  object: an object containing the results returned by a model fitting\n",
       "          function (e.g., ‘lm’ or ‘glm’).\n",
       "\n",
       "     ...: additional objects of the same type.\n",
       "\n",
       "_\bV_\ba_\bl_\bu_\be:\n",
       "\n",
       "     This (generic) function returns an object of class ‘anova’.  These\n",
       "     objects represent analysis-of-variance and analysis-of-deviance\n",
       "     tables.  When given a single argument it produces a table which\n",
       "     tests whether the model terms are significant.\n",
       "\n",
       "     When given a sequence of objects, ‘anova’ tests the models against\n",
       "     one another in the order specified.\n",
       "\n",
       "     The print method for ‘anova’ objects prints tables in a ‘pretty’\n",
       "     form.\n",
       "\n",
       "_\bW_\ba_\br_\bn_\bi_\bn_\bg:\n",
       "\n",
       "     The comparison between two or more models will only be valid if\n",
       "     they are fitted to the same dataset. This may be a problem if\n",
       "     there are missing values and R's default of ‘na.action = na.omit’\n",
       "     is used.\n",
       "\n",
       "_\bR_\be_\bf_\be_\br_\be_\bn_\bc_\be_\bs:\n",
       "\n",
       "     Chambers, J. M. and Hastie, T. J. (1992) _Statistical Models in\n",
       "     S_, Wadsworth & Brooks/Cole.\n",
       "\n",
       "_\bS_\be_\be _\bA_\bl_\bs_\bo:\n",
       "\n",
       "     ‘coefficients’, ‘effects’, ‘fitted.values’, ‘residuals’,\n",
       "     ‘summary’, ‘drop1’, ‘add1’.\n"
      ]
     },
     "execution_count": 73,
     "metadata": {},
     "output_type": "execute_result"
    }
   ],
   "source": [
    "?anova"
   ]
  },
  {
   "cell_type": "code",
   "execution_count": 75,
   "metadata": {
    "collapsed": false
   },
   "outputs": [
    {
     "name": "stdout",
     "output_type": "stream",
     "text": [
      "  PC    geography       species\n",
      "1  1 7.314484e-21 3.651936e-103\n",
      "2  2 1.127303e-06  0.000000e+00\n",
      "3  3 1.388966e-03  0.000000e+00\n",
      "4  4 7.324153e-07 2.117355e-284\n",
      "5  5 1.899290e-04 4.529862e-123\n",
      "6  6 1.094242e-13  6.509652e-53\n"
     ]
    }
   ],
   "source": [
    "print(df)"
   ]
  },
  {
   "cell_type": "code",
   "execution_count": 72,
   "metadata": {
    "collapsed": false
   },
   "outputs": [
    {
     "name": "stdout",
     "output_type": "stream",
     "text": [
      "  PC    geography       species\n",
      "1  1 7.314484e-21 3.651936e-103\n",
      "2  2 1.127303e-06  0.000000e+00\n",
      "3  3 1.388966e-03  0.000000e+00\n",
      "4  4 7.324153e-07 2.117355e-284\n",
      "5  5 1.899290e-04 4.529862e-123\n",
      "6  6 1.094242e-13  6.509652e-53\n"
     ]
    }
   ],
   "source": [
    "print(df)"
   ]
  },
  {
   "cell_type": "code",
   "execution_count": 70,
   "metadata": {
    "collapsed": false
   },
   "outputs": [
    {
     "data": {
      "text/html": [
       "0"
      ],
      "text/latex": [
       "0"
      ],
      "text/markdown": [
       "0"
      ],
      "text/plain": [
       "[1] 0"
      ]
     },
     "execution_count": 70,
     "metadata": {},
     "output_type": "execute_result"
    }
   ],
   "source": [
    "df[2,\"species\"]"
   ]
  },
  {
   "cell_type": "code",
   "execution_count": 60,
   "metadata": {
    "collapsed": false
   },
   "outputs": [],
   "source": [
    "df[K,\"geography\"] <- 1"
   ]
  },
  {
   "cell_type": "code",
   "execution_count": 27,
   "metadata": {
    "collapsed": false
   },
   "outputs": [
    {
     "name": "stdout",
     "output_type": "stream",
     "text": [
      "Analysis of Variance Table\n",
      "\n",
      "Model 1: X1 ~ longitude + latitude\n",
      "Model 2: X1 ~ longitude + latitude + pop3\n",
      "  Res.Df       RSS Df Sum of Sq  Pr(>Chi)    \n",
      "1    121 0.0120765                           \n",
      "2    116 0.0023206  5 0.0097559 < 2.2e-16 ***\n",
      "---\n",
      "Signif. codes:  0 ‘***’ 0.001 ‘**’ 0.01 ‘*’ 0.05 ‘.’ 0.1 ‘ ’ 1\n"
     ]
    }
   ],
   "source": [
    "print(anov_add_species)"
   ]
  },
  {
   "cell_type": "code",
   "execution_count": 23,
   "metadata": {
    "collapsed": false
   },
   "outputs": [
    {
     "data": {
      "text/html": [
       "<table>\n",
       "<thead><tr><th></th><th scope=col>Res.Df</th><th scope=col>RSS</th><th scope=col>Df</th><th scope=col>Sum of Sq</th><th scope=col>Pr(>Chi)</th></tr></thead>\n",
       "<tbody>\n",
       "\t<tr><th scope=row>1</th><td>118</td><td>0.004175627</td><td>NA</td><td>NA</td><td>NA</td></tr>\n",
       "\t<tr><th scope=row>2</th><td>116</td><td>0.002320583</td><td>2</td><td>0.001855044</td><td>7.314484e-21</td></tr>\n",
       "</tbody>\n",
       "</table>\n"
      ],
      "text/latex": [
       "\\begin{tabular}{r|lllll}\n",
       "  & Res.Df & RSS & Df & Sum of Sq & Pr(>Chi)\\\\\n",
       "\\hline\n",
       "\t1 & 118 & 0.004175627 & NA & NA & NA\\\\\n",
       "\t2 & 116 & 0.002320583 & 2 & 0.001855044 & 7.314484e-21\\\\\n",
       "\\end{tabular}\n"
      ],
      "text/plain": [
       "Analysis of Variance Table\n",
       "\n",
       "Model 1: X1 ~ pop3\n",
       "Model 2: X1 ~ longitude + latitude + pop3\n",
       "  Res.Df       RSS Df Sum of Sq  Pr(>Chi)    \n",
       "1    118 0.0041756                           \n",
       "2    116 0.0023206  2  0.001855 < 2.2e-16 ***\n",
       "---\n",
       "Signif. codes:  0 ‘***’ 0.001 ‘**’ 0.01 ‘*’ 0.05 ‘.’ 0.1 ‘ ’ 1"
      ]
     },
     "execution_count": 23,
     "metadata": {},
     "output_type": "execute_result"
    }
   ],
   "source": [
    "anov_add_geography"
   ]
  },
  {
   "cell_type": "code",
   "execution_count": 16,
   "metadata": {
    "collapsed": false
   },
   "outputs": [
    {
     "name": "stdout",
     "output_type": "stream",
     "text": [
      "Analysis of Variance Table\n",
      "\n",
      "Model 1: X1 ~ pop3\n",
      "Model 2: X1 ~ longitude + latitude + pop3\n",
      "  Res.Df       RSS Df Sum of Sq      F    Pr(>F)    \n",
      "1    118 0.0041756                                  \n",
      "2    116 0.0023206  2  0.001855 46.364 1.595e-15 ***\n",
      "---\n",
      "Signif. codes:  0 ‘***’ 0.001 ‘**’ 0.01 ‘*’ 0.05 ‘.’ 0.1 ‘ ’ 1\n"
     ]
    }
   ],
   "source": [
    "print(anov_add_geography)"
   ]
  },
  {
   "cell_type": "code",
   "execution_count": 10,
   "metadata": {
    "collapsed": false
   },
   "outputs": [
    {
     "data": {
      "text/html": [
       "'X1 ~ longitude + latitude'"
      ],
      "text/latex": [
       "'X1 ~ longitude + latitude'"
      ],
      "text/markdown": [
       "'X1 ~ longitude + latitude'"
      ],
      "text/plain": [
       "[1] \"X1 ~ longitude + latitude\""
      ]
     },
     "execution_count": 10,
     "metadata": {},
     "output_type": "execute_result"
    }
   ],
   "source": [
    "f"
   ]
  },
  {
   "cell_type": "code",
   "execution_count": 11,
   "metadata": {
    "collapsed": false
   },
   "outputs": [
    {
     "data": {
      "text/html": [
       "'X1 ~ longitude + latitude + pop3'"
      ],
      "text/latex": [
       "'X1 ~ longitude + latitude + pop3'"
      ],
      "text/markdown": [
       "'X1 ~ longitude + latitude + pop3'"
      ],
      "text/plain": [
       "[1] \"X1 ~ longitude + latitude + pop3\""
      ]
     },
     "execution_count": 11,
     "metadata": {},
     "output_type": "execute_result"
    }
   ],
   "source": [
    "f2"
   ]
  },
  {
   "cell_type": "code",
   "execution_count": null,
   "metadata": {
    "collapsed": true
   },
   "outputs": [],
   "source": []
  }
 ],
 "metadata": {
  "kernelspec": {
   "display_name": "R",
   "language": "R",
   "name": "ir"
  },
  "language_info": {
   "codemirror_mode": "r",
   "file_extension": ".r",
   "mimetype": "text/x-r-source",
   "name": "R",
   "pygments_lexer": "r",
   "version": "3.2.2"
  }
 },
 "nbformat": 4,
 "nbformat_minor": 0
}
