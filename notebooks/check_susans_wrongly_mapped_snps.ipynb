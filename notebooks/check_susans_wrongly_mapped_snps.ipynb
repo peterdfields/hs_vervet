{
 "metadata": {
  "name": "check_susans_wrongly_mapped_snps"
 },
 "nbformat": 3,
 "nbformat_minor": 0,
 "worksheets": [
  {
   "cells": [
    {
     "cell_type": "code",
     "collapsed": false,
     "input": [
      "import os, sys\n",
      "\n",
      "sys.path.insert(0, os.path.expanduser('~/lib/python'))\n",
      "sys.path.insert(0, os.path.join(os.path.expanduser('~/script')))\n",
      "sys.path.insert(0,'/home/GMI/hannes.svardal/.local/lib/python2.7/site-packages')\n",
      "import vcf\n",
      "from pyfasta import Fasta\n",
      "import pandas as pd\n",
      "import numpy as np"
     ],
     "language": "python",
     "metadata": {},
     "outputs": [
      {
       "output_type": "stream",
       "stream": "stderr",
       "text": [
        "/home/GMI/hannes.svardal/.local/lib/python2.7/site-packages/pytz/__init__.py:35: UserWarning: Module vcf was already imported from /home/GMI/hannes.svardal/lib/python/vcf/__init__.pyc, but /home/GMI/hannes.svardal/.local/lib/python2.7/site-packages/PyVCF-0.6.4-py2.7.egg is being added to sys.path\n",
        "  from pkg_resources import resource_stream\n"
       ]
      }
     ],
     "prompt_number": 1
    },
    {
     "cell_type": "code",
     "collapsed": false,
     "input": [
      "susan_snps=pd.read_excel(\"/home/GMI/hannes.svardal/Akademisches/Projects/VervetPopgen/ProblemSNP_Pass1.xlsx\",sheetname='ProblemSNP_Pass1')"
     ],
     "language": "python",
     "metadata": {},
     "outputs": [],
     "prompt_number": 4
    },
    {
     "cell_type": "code",
     "collapsed": false,
     "input": [
      "susan_snps.head()"
     ],
     "language": "python",
     "metadata": {},
     "outputs": [
      {
       "html": [
        "<div style=\"max-height:1000px;max-width:1500px;overflow:auto;\">\n",
        "<table border=\"1\" class=\"dataframe\">\n",
        "  <thead>\n",
        "    <tr style=\"text-align: right;\">\n",
        "      <th></th>\n",
        "      <th>Problem SNP</th>\n",
        "      <th>ProblemSNPChr</th>\n",
        "      <th>ProblemSNPBP</th>\n",
        "      <th>MaxR2SNP</th>\n",
        "      <th>OtherSNPChr</th>\n",
        "      <th>OtherSNPBP</th>\n",
        "      <th>MaxR2</th>\n",
        "      <th>NumR2GT.5</th>\n",
        "      <th>SameProblemSNP?</th>\n",
        "      <th>chrom</th>\n",
        "    </tr>\n",
        "  </thead>\n",
        "  <tbody>\n",
        "    <tr>\n",
        "      <th>0</th>\n",
        "      <td>  CAE1_4511994</td>\n",
        "      <td> 1</td>\n",
        "      <td>  4511994</td>\n",
        "      <td> CAE12_90967540</td>\n",
        "      <td> 12</td>\n",
        "      <td> 90967540</td>\n",
        "      <td> 0.911201</td>\n",
        "      <td> 29</td>\n",
        "      <td>NaN</td>\n",
        "      <td> CAE1</td>\n",
        "    </tr>\n",
        "    <tr>\n",
        "      <th>1</th>\n",
        "      <td>  CAE1_5964053</td>\n",
        "      <td> 1</td>\n",
        "      <td>  5964053</td>\n",
        "      <td>  CAE8_91986787</td>\n",
        "      <td>  8</td>\n",
        "      <td> 91986787</td>\n",
        "      <td> 1.000000</td>\n",
        "      <td> 54</td>\n",
        "      <td>  0</td>\n",
        "      <td> CAE1</td>\n",
        "    </tr>\n",
        "    <tr>\n",
        "      <th>2</th>\n",
        "      <td>  CAE1_6214432</td>\n",
        "      <td> 1</td>\n",
        "      <td>  6214432</td>\n",
        "      <td> CAE23_66996275</td>\n",
        "      <td> 23</td>\n",
        "      <td> 66996275</td>\n",
        "      <td> 0.997188</td>\n",
        "      <td> 11</td>\n",
        "      <td>  0</td>\n",
        "      <td> CAE1</td>\n",
        "    </tr>\n",
        "    <tr>\n",
        "      <th>3</th>\n",
        "      <td> CAE1_13393339</td>\n",
        "      <td> 1</td>\n",
        "      <td> 13393339</td>\n",
        "      <td>   CAE3_2477561</td>\n",
        "      <td>  3</td>\n",
        "      <td>  2477561</td>\n",
        "      <td> 0.978053</td>\n",
        "      <td> 18</td>\n",
        "      <td>  0</td>\n",
        "      <td> CAE1</td>\n",
        "    </tr>\n",
        "    <tr>\n",
        "      <th>4</th>\n",
        "      <td> CAE1_14320945</td>\n",
        "      <td> 1</td>\n",
        "      <td> 14320945</td>\n",
        "      <td> CAE26_12590403</td>\n",
        "      <td> 26</td>\n",
        "      <td> 12590403</td>\n",
        "      <td> 0.805548</td>\n",
        "      <td>  7</td>\n",
        "      <td>  0</td>\n",
        "      <td> CAE1</td>\n",
        "    </tr>\n",
        "  </tbody>\n",
        "</table>\n",
        "</div>"
       ],
       "output_type": "pyout",
       "prompt_number": 31,
       "text": [
        "     Problem SNP  ProblemSNPChr  ProblemSNPBP        MaxR2SNP  OtherSNPChr  \\\n",
        "0   CAE1_4511994              1       4511994  CAE12_90967540           12   \n",
        "1   CAE1_5964053              1       5964053   CAE8_91986787            8   \n",
        "2   CAE1_6214432              1       6214432  CAE23_66996275           23   \n",
        "3  CAE1_13393339              1      13393339    CAE3_2477561            3   \n",
        "4  CAE1_14320945              1      14320945  CAE26_12590403           26   \n",
        "\n",
        "   OtherSNPBP     MaxR2  NumR2GT.5  SameProblemSNP? chrom  \n",
        "0    90967540  0.911201         29              NaN  CAE1  \n",
        "1    91986787  1.000000         54                0  CAE1  \n",
        "2    66996275  0.997188         11                0  CAE1  \n",
        "3     2477561  0.978053         18                0  CAE1  \n",
        "4    12590403  0.805548          7                0  CAE1  "
       ]
      }
     ],
     "prompt_number": 31
    },
    {
     "cell_type": "code",
     "collapsed": false,
     "input": [
      "susan_snps['chrom']=susan_snps['Problem SNP'].apply(lambda s: s.split('_')[0])"
     ],
     "language": "python",
     "metadata": {},
     "outputs": [],
     "prompt_number": 30
    },
    {
     "cell_type": "code",
     "collapsed": false,
     "input": [
      "f='/home/GMI/hannes.svardal/vervet_project/analyses/20131118_SNP_calling_10X_individuals_GATK/_data/badly_mapped_loci.bed'\n",
      "badly_mapped_loci = pd.read_csv(f,sep='\\t',header=None)\n",
      "badly_mapped_loci.columns=['chrom','start','end','comment']"
     ],
     "language": "python",
     "metadata": {},
     "outputs": [],
     "prompt_number": 24
    },
    {
     "cell_type": "code",
     "collapsed": false,
     "input": [
      "badly_mapped_loci.head()"
     ],
     "language": "python",
     "metadata": {},
     "outputs": [
      {
       "html": [
        "<div style=\"max-height:1000px;max-width:1500px;overflow:auto;\">\n",
        "<table border=\"1\" class=\"dataframe\">\n",
        "  <thead>\n",
        "    <tr style=\"text-align: right;\">\n",
        "      <th></th>\n",
        "      <th>chrom</th>\n",
        "      <th>start</th>\n",
        "      <th>end</th>\n",
        "      <th>comment</th>\n",
        "    </tr>\n",
        "  </thead>\n",
        "  <tbody>\n",
        "    <tr>\n",
        "      <th>0</th>\n",
        "      <td> CAE1</td>\n",
        "      <td> 291</td>\n",
        "      <td> 293</td>\n",
        "      <td> POOR_MAPPING_QUALITY</td>\n",
        "    </tr>\n",
        "    <tr>\n",
        "      <th>1</th>\n",
        "      <td> CAE1</td>\n",
        "      <td> 297</td>\n",
        "      <td> 303</td>\n",
        "      <td> POOR_MAPPING_QUALITY</td>\n",
        "    </tr>\n",
        "    <tr>\n",
        "      <th>2</th>\n",
        "      <td> CAE1</td>\n",
        "      <td> 309</td>\n",
        "      <td> 336</td>\n",
        "      <td> POOR_MAPPING_QUALITY</td>\n",
        "    </tr>\n",
        "    <tr>\n",
        "      <th>3</th>\n",
        "      <td> CAE1</td>\n",
        "      <td> 475</td>\n",
        "      <td> 477</td>\n",
        "      <td> POOR_MAPPING_QUALITY</td>\n",
        "    </tr>\n",
        "    <tr>\n",
        "      <th>4</th>\n",
        "      <td> CAE1</td>\n",
        "      <td> 551</td>\n",
        "      <td> 556</td>\n",
        "      <td> POOR_MAPPING_QUALITY</td>\n",
        "    </tr>\n",
        "  </tbody>\n",
        "</table>\n",
        "</div>"
       ],
       "output_type": "pyout",
       "prompt_number": 25,
       "text": [
        "  chrom  start  end               comment\n",
        "0  CAE1    291  293  POOR_MAPPING_QUALITY\n",
        "1  CAE1    297  303  POOR_MAPPING_QUALITY\n",
        "2  CAE1    309  336  POOR_MAPPING_QUALITY\n",
        "3  CAE1    475  477  POOR_MAPPING_QUALITY\n",
        "4  CAE1    551  556  POOR_MAPPING_QUALITY"
       ]
      }
     ],
     "prompt_number": 25
    },
    {
     "cell_type": "code",
     "collapsed": false,
     "input": [
      "snps_checked=pd.DataFrame(columns=['chrom','start','end','comment'])#,index=susan_snps.index\n",
      "for index, row in susan_snps.iterrows():\n",
      "    intv=badly_mapped_loci[(badly_mapped_loci['chrom']==row['chrom'])*(badly_mapped_loci['start']<=row['ProblemSNPBP'])*(badly_mapped_loci['end']>=row['ProblemSNPBP'])]\n",
      "    if len(intv)>0:\n",
      "        intv.index=[index]\n",
      "    snps_checked=snps_checked.append(intv)"
     ],
     "language": "python",
     "metadata": {},
     "outputs": [],
     "prompt_number": 88
    },
    {
     "cell_type": "code",
     "collapsed": false,
     "input": [
      "len(snps_checked)"
     ],
     "language": "python",
     "metadata": {},
     "outputs": [
      {
       "output_type": "pyout",
       "prompt_number": 67,
       "text": [
        "205"
       ]
      }
     ],
     "prompt_number": 67
    },
    {
     "cell_type": "code",
     "collapsed": false,
     "input": [
      "snps_checked.head()"
     ],
     "language": "python",
     "metadata": {},
     "outputs": [
      {
       "html": [
        "<div style=\"max-height:1000px;max-width:1500px;overflow:auto;\">\n",
        "<table border=\"1\" class=\"dataframe\">\n",
        "  <thead>\n",
        "    <tr style=\"text-align: right;\">\n",
        "      <th></th>\n",
        "      <th>chrom</th>\n",
        "      <th>start</th>\n",
        "      <th>end</th>\n",
        "      <th>comment</th>\n",
        "    </tr>\n",
        "  </thead>\n",
        "  <tbody>\n",
        "    <tr>\n",
        "      <th>1</th>\n",
        "      <td> CAE1</td>\n",
        "      <td>  5963979</td>\n",
        "      <td>  5964175</td>\n",
        "      <td> POOR_MAPPING_QUALITY</td>\n",
        "    </tr>\n",
        "    <tr>\n",
        "      <th>2</th>\n",
        "      <td> CAE1</td>\n",
        "      <td>  6214369</td>\n",
        "      <td>  6214490</td>\n",
        "      <td> POOR_MAPPING_QUALITY</td>\n",
        "    </tr>\n",
        "    <tr>\n",
        "      <th>3</th>\n",
        "      <td> CAE1</td>\n",
        "      <td> 13393176</td>\n",
        "      <td> 13393518</td>\n",
        "      <td> POOR_MAPPING_QUALITY</td>\n",
        "    </tr>\n",
        "    <tr>\n",
        "      <th>4</th>\n",
        "      <td> CAE1</td>\n",
        "      <td> 14320846</td>\n",
        "      <td> 14321043</td>\n",
        "      <td> POOR_MAPPING_QUALITY</td>\n",
        "    </tr>\n",
        "  </tbody>\n",
        "</table>\n",
        "</div>"
       ],
       "output_type": "pyout",
       "prompt_number": 87,
       "text": [
        "  chrom     start       end               comment\n",
        "1  CAE1   5963979   5964175  POOR_MAPPING_QUALITY\n",
        "2  CAE1   6214369   6214490  POOR_MAPPING_QUALITY\n",
        "3  CAE1  13393176  13393518  POOR_MAPPING_QUALITY\n",
        "4  CAE1  14320846  14321043  POOR_MAPPING_QUALITY"
       ]
      }
     ],
     "prompt_number": 87
    },
    {
     "cell_type": "code",
     "collapsed": false,
     "input": [
      "snps_checked.reindex?"
     ],
     "language": "python",
     "metadata": {},
     "outputs": [],
     "prompt_number": 83
    },
    {
     "cell_type": "code",
     "collapsed": false,
     "input": [
      "susan_snps.head()"
     ],
     "language": "python",
     "metadata": {},
     "outputs": [
      {
       "html": [
        "<div style=\"max-height:1000px;max-width:1500px;overflow:auto;\">\n",
        "<table border=\"1\" class=\"dataframe\">\n",
        "  <thead>\n",
        "    <tr style=\"text-align: right;\">\n",
        "      <th></th>\n",
        "      <th>Problem SNP</th>\n",
        "      <th>ProblemSNPChr</th>\n",
        "      <th>ProblemSNPBP</th>\n",
        "      <th>MaxR2SNP</th>\n",
        "      <th>OtherSNPChr</th>\n",
        "      <th>OtherSNPBP</th>\n",
        "      <th>MaxR2</th>\n",
        "      <th>NumR2GT.5</th>\n",
        "      <th>SameProblemSNP?</th>\n",
        "      <th>chrom</th>\n",
        "    </tr>\n",
        "  </thead>\n",
        "  <tbody>\n",
        "    <tr>\n",
        "      <th>0</th>\n",
        "      <td>  CAE1_4511994</td>\n",
        "      <td> 1</td>\n",
        "      <td>  4511994</td>\n",
        "      <td> CAE12_90967540</td>\n",
        "      <td> 12</td>\n",
        "      <td> 90967540</td>\n",
        "      <td> 0.911201</td>\n",
        "      <td> 29</td>\n",
        "      <td>NaN</td>\n",
        "      <td> CAE1</td>\n",
        "    </tr>\n",
        "    <tr>\n",
        "      <th>1</th>\n",
        "      <td>  CAE1_5964053</td>\n",
        "      <td> 1</td>\n",
        "      <td>  5964053</td>\n",
        "      <td>  CAE8_91986787</td>\n",
        "      <td>  8</td>\n",
        "      <td> 91986787</td>\n",
        "      <td> 1.000000</td>\n",
        "      <td> 54</td>\n",
        "      <td>  0</td>\n",
        "      <td> CAE1</td>\n",
        "    </tr>\n",
        "    <tr>\n",
        "      <th>2</th>\n",
        "      <td>  CAE1_6214432</td>\n",
        "      <td> 1</td>\n",
        "      <td>  6214432</td>\n",
        "      <td> CAE23_66996275</td>\n",
        "      <td> 23</td>\n",
        "      <td> 66996275</td>\n",
        "      <td> 0.997188</td>\n",
        "      <td> 11</td>\n",
        "      <td>  0</td>\n",
        "      <td> CAE1</td>\n",
        "    </tr>\n",
        "    <tr>\n",
        "      <th>3</th>\n",
        "      <td> CAE1_13393339</td>\n",
        "      <td> 1</td>\n",
        "      <td> 13393339</td>\n",
        "      <td>   CAE3_2477561</td>\n",
        "      <td>  3</td>\n",
        "      <td>  2477561</td>\n",
        "      <td> 0.978053</td>\n",
        "      <td> 18</td>\n",
        "      <td>  0</td>\n",
        "      <td> CAE1</td>\n",
        "    </tr>\n",
        "    <tr>\n",
        "      <th>4</th>\n",
        "      <td> CAE1_14320945</td>\n",
        "      <td> 1</td>\n",
        "      <td> 14320945</td>\n",
        "      <td> CAE26_12590403</td>\n",
        "      <td> 26</td>\n",
        "      <td> 12590403</td>\n",
        "      <td> 0.805548</td>\n",
        "      <td>  7</td>\n",
        "      <td>  0</td>\n",
        "      <td> CAE1</td>\n",
        "    </tr>\n",
        "  </tbody>\n",
        "</table>\n",
        "</div>"
       ],
       "output_type": "pyout",
       "prompt_number": 89,
       "text": [
        "     Problem SNP  ProblemSNPChr  ProblemSNPBP        MaxR2SNP  OtherSNPChr  \\\n",
        "0   CAE1_4511994              1       4511994  CAE12_90967540           12   \n",
        "1   CAE1_5964053              1       5964053   CAE8_91986787            8   \n",
        "2   CAE1_6214432              1       6214432  CAE23_66996275           23   \n",
        "3  CAE1_13393339              1      13393339    CAE3_2477561            3   \n",
        "4  CAE1_14320945              1      14320945  CAE26_12590403           26   \n",
        "\n",
        "   OtherSNPBP     MaxR2  NumR2GT.5  SameProblemSNP? chrom  \n",
        "0    90967540  0.911201         29              NaN  CAE1  \n",
        "1    91986787  1.000000         54                0  CAE1  \n",
        "2    66996275  0.997188         11                0  CAE1  \n",
        "3     2477561  0.978053         18                0  CAE1  \n",
        "4    12590403  0.805548          7                0  CAE1  "
       ]
      }
     ],
     "prompt_number": 89
    },
    {
     "cell_type": "code",
     "collapsed": false,
     "input": [
      "del snps_checked['chrom']"
     ],
     "language": "python",
     "metadata": {},
     "outputs": [],
     "prompt_number": 91
    },
    {
     "cell_type": "code",
     "collapsed": false,
     "input": [
      "len(snps_checked)"
     ],
     "language": "python",
     "metadata": {},
     "outputs": [
      {
       "output_type": "pyout",
       "prompt_number": 94,
       "text": [
        "205"
       ]
      }
     ],
     "prompt_number": 94
    },
    {
     "cell_type": "code",
     "collapsed": false,
     "input": [
      "df=susan_snps.join(snps_checked,how='outer')"
     ],
     "language": "python",
     "metadata": {},
     "outputs": [],
     "prompt_number": 92
    },
    {
     "cell_type": "code",
     "collapsed": false,
     "input": [
      "df.to_excel(\"/home/GMI/hannes.svardal/Akademisches/Projects/VervetPopgen/ProblemSNP_Pass1_mapping.xlsx\")"
     ],
     "language": "python",
     "metadata": {},
     "outputs": [],
     "prompt_number": 97
    },
    {
     "cell_type": "code",
     "collapsed": false,
     "input": [
      "df"
     ],
     "language": "python",
     "metadata": {},
     "outputs": [
      {
       "html": [
        "<pre>\n",
        "&lt;class 'pandas.core.frame.DataFrame'&gt;\n",
        "Int64Index: 499 entries, 0 to 1283180\n",
        "Data columns (total 14 columns):\n",
        "Problem SNP        294  non-null values\n",
        "ProblemSNPChr      294  non-null values\n",
        "ProblemSNPBP       294  non-null values\n",
        "MaxR2SNP           294  non-null values\n",
        "OtherSNPChr        294  non-null values\n",
        "OtherSNPBP         294  non-null values\n",
        "MaxR2              294  non-null values\n",
        "NumR2GT.5          294  non-null values\n",
        "SameProblemSNP?    293  non-null values\n",
        "chrom              294  non-null values\n",
        "chrom_2            205  non-null values\n",
        "start              205  non-null values\n",
        "end                205  non-null values\n",
        "comment            205  non-null values\n",
        "dtypes: float64(9), object(5)\n",
        "</pre>"
       ],
       "output_type": "pyout",
       "prompt_number": 79,
       "text": [
        "<class 'pandas.core.frame.DataFrame'>\n",
        "Int64Index: 499 entries, 0 to 1283180\n",
        "Data columns (total 14 columns):\n",
        "Problem SNP        294  non-null values\n",
        "ProblemSNPChr      294  non-null values\n",
        "ProblemSNPBP       294  non-null values\n",
        "MaxR2SNP           294  non-null values\n",
        "OtherSNPChr        294  non-null values\n",
        "OtherSNPBP         294  non-null values\n",
        "MaxR2              294  non-null values\n",
        "NumR2GT.5          294  non-null values\n",
        "SameProblemSNP?    293  non-null values\n",
        "chrom              294  non-null values\n",
        "chrom_2            205  non-null values\n",
        "start              205  non-null values\n",
        "end                205  non-null values\n",
        "comment            205  non-null values\n",
        "dtypes: float64(9), object(5)"
       ]
      }
     ],
     "prompt_number": 79
    },
    {
     "cell_type": "code",
     "collapsed": false,
     "input": [],
     "language": "python",
     "metadata": {},
     "outputs": []
    }
   ],
   "metadata": {}
  }
 ]
}