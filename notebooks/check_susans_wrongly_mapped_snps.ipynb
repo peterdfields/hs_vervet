{
 "metadata": {
  "name": "check_susans_wrongly_mapped_snps"
 },
 "nbformat": 3,
 "nbformat_minor": 0,
 "worksheets": [
  {
   "cells": [
    {
     "cell_type": "code",
     "collapsed": false,
     "input": [
      "import os, sys\n",
      "\n",
      "sys.path.insert(0, os.path.expanduser('~/lib/python'))\n",
      "sys.path.insert(0, os.path.join(os.path.expanduser('~/script')))\n",
      "sys.path.insert(0,'/home/GMI/hannes.svardal/.local/lib/python2.7/site-packages')\n",
      "import vcf\n",
      "from pyfasta import Fasta\n",
      "import pandas as pd\n",
      "import numpy as np"
     ],
     "language": "python",
     "metadata": {},
     "outputs": [],
     "prompt_number": 99
    },
    {
     "cell_type": "code",
     "collapsed": false,
     "input": [
      "ref=Fasta(os.path.expanduser('~/vervet_project/data/reference/reference_3488/3488_indID1_codeVRC_ref_sequencer3_seqType1_filtered0_version3_soft_repeat_masked.fasta'))"
     ],
     "language": "python",
     "metadata": {},
     "outputs": [],
     "prompt_number": 100
    },
    {
     "cell_type": "code",
     "collapsed": false,
     "input": [
      "def get_repeats(chrom):\n",
      "    fn = os.path.expanduser('~/vervet_project/data/reference/reference_3488/vervet_ref_chromosome_{}.fasta.out'.format(chrom))\n",
      "    with open(fn,'r') as f:\n",
      "        header0 = f.readline().split()\n",
      "        header1= f.readline().split()\n",
      "        header = [h0+' '+h1 for h0,h1 in zip(header0,header1)[:5]]\n",
      "        header += ['query begin','query end','query (left)','+/C','matching repeat','repeat family','repeat begin','repeat end','repeat (left)','ID']\n",
      "        f.readline()\n",
      "        tbl = []\n",
      "        for line in f.readlines():\n",
      "            tbl.append(line.split()[:15])\n",
      "    rep_df = pd.DataFrame(tbl,columns=header)\n",
      "    rep_df[['query begin','query end']] = rep_df[['query begin','query end']].astype(int)\n",
      "    #,skiprows=3,usecols=[0,1,2])\n",
      "    return rep_df"
     ],
     "language": "python",
     "metadata": {},
     "outputs": [],
     "prompt_number": 178
    },
    {
     "cell_type": "code",
     "collapsed": false,
     "input": [
      "chromosomes = ['CAE'+str(c) for c in range(1,30)+['X','Y']]"
     ],
     "language": "python",
     "metadata": {},
     "outputs": [],
     "prompt_number": 154
    },
    {
     "cell_type": "code",
     "collapsed": false,
     "input": [
      "repeats = {c:get_repeats(c) for c in chromosomes}"
     ],
     "language": "python",
     "metadata": {},
     "outputs": [],
     "prompt_number": 184
    },
    {
     "cell_type": "code",
     "collapsed": false,
     "input": [
      "repeats['CAE1'].head()['SW score']"
     ],
     "language": "python",
     "metadata": {},
     "outputs": [
      {
       "output_type": "pyout",
       "prompt_number": 173,
       "text": [
        "0    954\n",
        "1    245\n",
        "2    111\n",
        "3     12\n",
        "4     12\n",
        "Name: SW score, dtype: object"
       ]
      }
     ],
     "prompt_number": 173
    },
    {
     "cell_type": "code",
     "collapsed": false,
     "input": [
      "rep_df.head()['query_begin']"
     ],
     "language": "python",
     "metadata": {},
     "outputs": [
      {
       "output_type": "pyout",
       "prompt_number": 168,
       "text": [
        "0       1\n",
        "1    1592\n",
        "2    2527\n",
        "3    4033\n",
        "4    4670\n",
        "Name: query_begin, dtype: object"
       ]
      }
     ],
     "prompt_number": 168
    },
    {
     "cell_type": "code",
     "collapsed": false,
     "input": [
      "susan_snps=pd.read_excel(\"/home/GMI/hannes.svardal/Akademisches/Projects/VervetPopgen/ProblemSNP_Pass1.xlsx\",sheetname='ProblemSNP_Pass1')\n",
      "susan_snps=susan_snps[(susan_snps['SameProblemSNP?']==0)+susan_snps['SameProblemSNP?'].isnull()]"
     ],
     "language": "python",
     "metadata": {},
     "outputs": [],
     "prompt_number": 223
    },
    {
     "cell_type": "code",
     "collapsed": false,
     "input": [
      "susan_snps.shape"
     ],
     "language": "python",
     "metadata": {},
     "outputs": [
      {
       "output_type": "pyout",
       "prompt_number": 221,
       "text": [
        "(267, 9)"
       ]
      }
     ],
     "prompt_number": 221
    },
    {
     "cell_type": "code",
     "collapsed": false,
     "input": [
      "ref['CAE1'][4511994]"
     ],
     "language": "python",
     "metadata": {},
     "outputs": [
      {
       "output_type": "pyout",
       "prompt_number": 164,
       "text": [
        "'c'"
       ]
      }
     ],
     "prompt_number": 164
    },
    {
     "cell_type": "code",
     "collapsed": false,
     "input": [
      "susan_snps.head()"
     ],
     "language": "python",
     "metadata": {},
     "outputs": [
      {
       "html": [
        "<div style=\"max-height:1000px;max-width:1500px;overflow:auto;\">\n",
        "<table border=\"1\" class=\"dataframe\">\n",
        "  <thead>\n",
        "    <tr style=\"text-align: right;\">\n",
        "      <th></th>\n",
        "      <th>Problem SNP</th>\n",
        "      <th>ProblemSNPChr</th>\n",
        "      <th>ProblemSNPBP</th>\n",
        "      <th>MaxR2SNP</th>\n",
        "      <th>OtherSNPChr</th>\n",
        "      <th>OtherSNPBP</th>\n",
        "      <th>MaxR2</th>\n",
        "      <th>NumR2GT.5</th>\n",
        "      <th>SameProblemSNP?</th>\n",
        "      <th>chrom</th>\n",
        "    </tr>\n",
        "  </thead>\n",
        "  <tbody>\n",
        "    <tr>\n",
        "      <th>0</th>\n",
        "      <td>  CAE1_4511994</td>\n",
        "      <td> 1</td>\n",
        "      <td>  4511994</td>\n",
        "      <td> CAE12_90967540</td>\n",
        "      <td> 12</td>\n",
        "      <td> 90967540</td>\n",
        "      <td> 0.911201</td>\n",
        "      <td> 29</td>\n",
        "      <td>NaN</td>\n",
        "      <td> CAE1</td>\n",
        "    </tr>\n",
        "    <tr>\n",
        "      <th>1</th>\n",
        "      <td>  CAE1_5964053</td>\n",
        "      <td> 1</td>\n",
        "      <td>  5964053</td>\n",
        "      <td>  CAE8_91986787</td>\n",
        "      <td>  8</td>\n",
        "      <td> 91986787</td>\n",
        "      <td> 1.000000</td>\n",
        "      <td> 54</td>\n",
        "      <td>  0</td>\n",
        "      <td> CAE1</td>\n",
        "    </tr>\n",
        "    <tr>\n",
        "      <th>2</th>\n",
        "      <td>  CAE1_6214432</td>\n",
        "      <td> 1</td>\n",
        "      <td>  6214432</td>\n",
        "      <td> CAE23_66996275</td>\n",
        "      <td> 23</td>\n",
        "      <td> 66996275</td>\n",
        "      <td> 0.997188</td>\n",
        "      <td> 11</td>\n",
        "      <td>  0</td>\n",
        "      <td> CAE1</td>\n",
        "    </tr>\n",
        "    <tr>\n",
        "      <th>3</th>\n",
        "      <td> CAE1_13393339</td>\n",
        "      <td> 1</td>\n",
        "      <td> 13393339</td>\n",
        "      <td>   CAE3_2477561</td>\n",
        "      <td>  3</td>\n",
        "      <td>  2477561</td>\n",
        "      <td> 0.978053</td>\n",
        "      <td> 18</td>\n",
        "      <td>  0</td>\n",
        "      <td> CAE1</td>\n",
        "    </tr>\n",
        "    <tr>\n",
        "      <th>4</th>\n",
        "      <td> CAE1_14320945</td>\n",
        "      <td> 1</td>\n",
        "      <td> 14320945</td>\n",
        "      <td> CAE26_12590403</td>\n",
        "      <td> 26</td>\n",
        "      <td> 12590403</td>\n",
        "      <td> 0.805548</td>\n",
        "      <td>  7</td>\n",
        "      <td>  0</td>\n",
        "      <td> CAE1</td>\n",
        "    </tr>\n",
        "  </tbody>\n",
        "</table>\n",
        "</div>"
       ],
       "output_type": "pyout",
       "prompt_number": 31,
       "text": [
        "     Problem SNP  ProblemSNPChr  ProblemSNPBP        MaxR2SNP  OtherSNPChr  \\\n",
        "0   CAE1_4511994              1       4511994  CAE12_90967540           12   \n",
        "1   CAE1_5964053              1       5964053   CAE8_91986787            8   \n",
        "2   CAE1_6214432              1       6214432  CAE23_66996275           23   \n",
        "3  CAE1_13393339              1      13393339    CAE3_2477561            3   \n",
        "4  CAE1_14320945              1      14320945  CAE26_12590403           26   \n",
        "\n",
        "   OtherSNPBP     MaxR2  NumR2GT.5  SameProblemSNP? chrom  \n",
        "0    90967540  0.911201         29              NaN  CAE1  \n",
        "1    91986787  1.000000         54                0  CAE1  \n",
        "2    66996275  0.997188         11                0  CAE1  \n",
        "3     2477561  0.978053         18                0  CAE1  \n",
        "4    12590403  0.805548          7                0  CAE1  "
       ]
      }
     ],
     "prompt_number": 31
    },
    {
     "cell_type": "code",
     "collapsed": false,
     "input": [],
     "language": "python",
     "metadata": {},
     "outputs": []
    },
    {
     "cell_type": "code",
     "collapsed": false,
     "input": [
      "susan_snps['chrom']=susan_snps['Problem SNP'].apply(lambda s: s.split('_')[0])"
     ],
     "language": "python",
     "metadata": {},
     "outputs": [],
     "prompt_number": 224
    },
    {
     "cell_type": "code",
     "collapsed": false,
     "input": [
      "ref['CAE1'][4511994:4511994]"
     ],
     "language": "python",
     "metadata": {},
     "outputs": [
      {
       "output_type": "pyout",
       "prompt_number": 106,
       "text": [
        "''"
       ]
      }
     ],
     "prompt_number": 106
    },
    {
     "cell_type": "code",
     "collapsed": false,
     "input": [
      "f='/home/GMI/hannes.svardal/vervet_project/analyses/20131118_SNP_calling_10X_individuals_GATK/_data/badly_mapped_loci.bed'\n",
      "badly_mapped_loci = pd.read_csv(f,sep='\\t',header=None)\n",
      "badly_mapped_loci.columns=['chrom','start','end','comment']"
     ],
     "language": "python",
     "metadata": {},
     "outputs": [],
     "prompt_number": 24
    },
    {
     "cell_type": "code",
     "collapsed": false,
     "input": [
      "badly_mapped_loci.head()"
     ],
     "language": "python",
     "metadata": {},
     "outputs": [
      {
       "html": [
        "<div style=\"max-height:1000px;max-width:1500px;overflow:auto;\">\n",
        "<table border=\"1\" class=\"dataframe\">\n",
        "  <thead>\n",
        "    <tr style=\"text-align: right;\">\n",
        "      <th></th>\n",
        "      <th>chrom</th>\n",
        "      <th>start</th>\n",
        "      <th>end</th>\n",
        "      <th>comment</th>\n",
        "    </tr>\n",
        "  </thead>\n",
        "  <tbody>\n",
        "    <tr>\n",
        "      <th>0</th>\n",
        "      <td> CAE1</td>\n",
        "      <td> 291</td>\n",
        "      <td> 293</td>\n",
        "      <td> POOR_MAPPING_QUALITY</td>\n",
        "    </tr>\n",
        "    <tr>\n",
        "      <th>1</th>\n",
        "      <td> CAE1</td>\n",
        "      <td> 297</td>\n",
        "      <td> 303</td>\n",
        "      <td> POOR_MAPPING_QUALITY</td>\n",
        "    </tr>\n",
        "    <tr>\n",
        "      <th>2</th>\n",
        "      <td> CAE1</td>\n",
        "      <td> 309</td>\n",
        "      <td> 336</td>\n",
        "      <td> POOR_MAPPING_QUALITY</td>\n",
        "    </tr>\n",
        "    <tr>\n",
        "      <th>3</th>\n",
        "      <td> CAE1</td>\n",
        "      <td> 475</td>\n",
        "      <td> 477</td>\n",
        "      <td> POOR_MAPPING_QUALITY</td>\n",
        "    </tr>\n",
        "    <tr>\n",
        "      <th>4</th>\n",
        "      <td> CAE1</td>\n",
        "      <td> 551</td>\n",
        "      <td> 556</td>\n",
        "      <td> POOR_MAPPING_QUALITY</td>\n",
        "    </tr>\n",
        "  </tbody>\n",
        "</table>\n",
        "</div>"
       ],
       "output_type": "pyout",
       "prompt_number": 25,
       "text": [
        "  chrom  start  end               comment\n",
        "0  CAE1    291  293  POOR_MAPPING_QUALITY\n",
        "1  CAE1    297  303  POOR_MAPPING_QUALITY\n",
        "2  CAE1    309  336  POOR_MAPPING_QUALITY\n",
        "3  CAE1    475  477  POOR_MAPPING_QUALITY\n",
        "4  CAE1    551  556  POOR_MAPPING_QUALITY"
       ]
      }
     ],
     "prompt_number": 25
    },
    {
     "cell_type": "code",
     "collapsed": false,
     "input": [
      "snps_checked=pd.DataFrame(columns=['chrom','start','end','comment'])#,index=susan_snps.index\n",
      "snps_checked_repeats=pd.DataFrame()\n",
      "for index, row in susan_snps.iterrows():\n",
      "    chrom = row['chrom']\n",
      "    intv=badly_mapped_loci[(badly_mapped_loci['chrom']==chrom)*(badly_mapped_loci['start']<=row['ProblemSNPBP'])*(badly_mapped_loci['end']>=row['ProblemSNPBP'])]\n",
      "    r =repeats[chrom]\n",
      "    repeat_intv=r[(r['query begin']<=row['ProblemSNPBP'])*(r['query end']>=row['ProblemSNPBP'])]\n",
      "    #print repeat_intv\n",
      "    if len(intv)>0:\n",
      "        intv.index=[index]\n",
      "    if len(repeat_intv)>0:\n",
      "        repeat_intv.index=[index]\n",
      "    snps_checked=snps_checked.append(intv)\n",
      "    snps_checked_repeats = snps_checked_repeats.append(repeat_intv)\n",
      "del snps_checked['chrom']\n",
      "final_df_unique = susan_snps.join(snps_checked,how='outer').join(snps_checked_repeats,how='outer')"
     ],
     "language": "python",
     "metadata": {},
     "outputs": [],
     "prompt_number": 225
    },
    {
     "cell_type": "code",
     "collapsed": false,
     "input": [
      "final_df"
     ],
     "language": "python",
     "metadata": {},
     "outputs": [
      {
       "html": [
        "<pre>\n",
        "&lt;class 'pandas.core.frame.DataFrame'&gt;\n",
        "Int64Index: 294 entries, 0 to 293\n",
        "Data columns (total 28 columns):\n",
        "Problem SNP        294  non-null values\n",
        "ProblemSNPChr      294  non-null values\n",
        "ProblemSNPBP       294  non-null values\n",
        "MaxR2SNP           294  non-null values\n",
        "OtherSNPChr        294  non-null values\n",
        "OtherSNPBP         294  non-null values\n",
        "MaxR2              294  non-null values\n",
        "NumR2GT.5          294  non-null values\n",
        "SameProblemSNP?    293  non-null values\n",
        "chrom              294  non-null values\n",
        "start              205  non-null values\n",
        "end                205  non-null values\n",
        "comment            205  non-null values\n",
        "+/C                276  non-null values\n",
        "ID                 276  non-null values\n",
        "SW score           276  non-null values\n",
        "matching repeat    276  non-null values\n",
        "perc del.          276  non-null values\n",
        "perc div.          276  non-null values\n",
        "perc ins.          276  non-null values\n",
        "query (left)       276  non-null values\n",
        "query begin        276  non-null values\n",
        "query end          276  non-null values\n",
        "query sequence     276  non-null values\n",
        "repeat (left)      276  non-null values\n",
        "repeat begin       276  non-null values\n",
        "repeat end         276  non-null values\n",
        "repeat family      276  non-null values\n",
        "dtypes: float64(11), object(17)\n",
        "</pre>"
       ],
       "output_type": "pyout",
       "prompt_number": 205,
       "text": [
        "<class 'pandas.core.frame.DataFrame'>\n",
        "Int64Index: 294 entries, 0 to 293\n",
        "Data columns (total 28 columns):\n",
        "Problem SNP        294  non-null values\n",
        "ProblemSNPChr      294  non-null values\n",
        "ProblemSNPBP       294  non-null values\n",
        "MaxR2SNP           294  non-null values\n",
        "OtherSNPChr        294  non-null values\n",
        "OtherSNPBP         294  non-null values\n",
        "MaxR2              294  non-null values\n",
        "NumR2GT.5          294  non-null values\n",
        "SameProblemSNP?    293  non-null values\n",
        "chrom              294  non-null values\n",
        "start              205  non-null values\n",
        "end                205  non-null values\n",
        "comment            205  non-null values\n",
        "+/C                276  non-null values\n",
        "ID                 276  non-null values\n",
        "SW score           276  non-null values\n",
        "matching repeat    276  non-null values\n",
        "perc del.          276  non-null values\n",
        "perc div.          276  non-null values\n",
        "perc ins.          276  non-null values\n",
        "query (left)       276  non-null values\n",
        "query begin        276  non-null values\n",
        "query end          276  non-null values\n",
        "query sequence     276  non-null values\n",
        "repeat (left)      276  non-null values\n",
        "repeat begin       276  non-null values\n",
        "repeat end         276  non-null values\n",
        "repeat family      276  non-null values\n",
        "dtypes: float64(11), object(17)"
       ]
      }
     ],
     "prompt_number": 205
    },
    {
     "cell_type": "code",
     "collapsed": false,
     "input": [
      "final_df[final_df['ID'].notnull()+final_df['comment'].notnull()]"
     ],
     "language": "python",
     "metadata": {},
     "outputs": [
      {
       "html": [
        "<pre>\n",
        "&lt;class 'pandas.core.frame.DataFrame'&gt;\n",
        "Int64Index: 284 entries, 0 to 293\n",
        "Data columns (total 28 columns):\n",
        "Problem SNP        284  non-null values\n",
        "ProblemSNPChr      284  non-null values\n",
        "ProblemSNPBP       284  non-null values\n",
        "MaxR2SNP           284  non-null values\n",
        "OtherSNPChr        284  non-null values\n",
        "OtherSNPBP         284  non-null values\n",
        "MaxR2              284  non-null values\n",
        "NumR2GT.5          284  non-null values\n",
        "SameProblemSNP?    283  non-null values\n",
        "chrom              284  non-null values\n",
        "start              205  non-null values\n",
        "end                205  non-null values\n",
        "comment            205  non-null values\n",
        "+/C                276  non-null values\n",
        "ID                 276  non-null values\n",
        "SW score           276  non-null values\n",
        "matching repeat    276  non-null values\n",
        "perc del.          276  non-null values\n",
        "perc div.          276  non-null values\n",
        "perc ins.          276  non-null values\n",
        "query (left)       276  non-null values\n",
        "query begin        276  non-null values\n",
        "query end          276  non-null values\n",
        "query sequence     276  non-null values\n",
        "repeat (left)      276  non-null values\n",
        "repeat begin       276  non-null values\n",
        "repeat end         276  non-null values\n",
        "repeat family      276  non-null values\n",
        "dtypes: float64(11), object(17)\n",
        "</pre>"
       ],
       "output_type": "pyout",
       "prompt_number": 204,
       "text": [
        "<class 'pandas.core.frame.DataFrame'>\n",
        "Int64Index: 284 entries, 0 to 293\n",
        "Data columns (total 28 columns):\n",
        "Problem SNP        284  non-null values\n",
        "ProblemSNPChr      284  non-null values\n",
        "ProblemSNPBP       284  non-null values\n",
        "MaxR2SNP           284  non-null values\n",
        "OtherSNPChr        284  non-null values\n",
        "OtherSNPBP         284  non-null values\n",
        "MaxR2              284  non-null values\n",
        "NumR2GT.5          284  non-null values\n",
        "SameProblemSNP?    283  non-null values\n",
        "chrom              284  non-null values\n",
        "start              205  non-null values\n",
        "end                205  non-null values\n",
        "comment            205  non-null values\n",
        "+/C                276  non-null values\n",
        "ID                 276  non-null values\n",
        "SW score           276  non-null values\n",
        "matching repeat    276  non-null values\n",
        "perc del.          276  non-null values\n",
        "perc div.          276  non-null values\n",
        "perc ins.          276  non-null values\n",
        "query (left)       276  non-null values\n",
        "query begin        276  non-null values\n",
        "query end          276  non-null values\n",
        "query sequence     276  non-null values\n",
        "repeat (left)      276  non-null values\n",
        "repeat begin       276  non-null values\n",
        "repeat end         276  non-null values\n",
        "repeat family      276  non-null values\n",
        "dtypes: float64(11), object(17)"
       ]
      }
     ],
     "prompt_number": 204
    },
    {
     "cell_type": "code",
     "collapsed": false,
     "input": [
      "final_df_unique[final_df_unique['ID'].notnull()+final_df_unique['comment'].notnull()]"
     ],
     "language": "python",
     "metadata": {},
     "outputs": [
      {
       "html": [
        "<pre>\n",
        "&lt;class 'pandas.core.frame.DataFrame'&gt;\n",
        "Int64Index: 257 entries, 0 to 293\n",
        "Data columns (total 28 columns):\n",
        "Problem SNP        257  non-null values\n",
        "ProblemSNPChr      257  non-null values\n",
        "ProblemSNPBP       257  non-null values\n",
        "MaxR2SNP           257  non-null values\n",
        "OtherSNPChr        257  non-null values\n",
        "OtherSNPBP         257  non-null values\n",
        "MaxR2              257  non-null values\n",
        "NumR2GT.5          257  non-null values\n",
        "SameProblemSNP?    256  non-null values\n",
        "chrom              257  non-null values\n",
        "start              184  non-null values\n",
        "end                184  non-null values\n",
        "comment            184  non-null values\n",
        "+/C                249  non-null values\n",
        "ID                 249  non-null values\n",
        "SW score           249  non-null values\n",
        "matching repeat    249  non-null values\n",
        "perc del.          249  non-null values\n",
        "perc div.          249  non-null values\n",
        "perc ins.          249  non-null values\n",
        "query (left)       249  non-null values\n",
        "query begin        249  non-null values\n",
        "query end          249  non-null values\n",
        "query sequence     249  non-null values\n",
        "repeat (left)      249  non-null values\n",
        "repeat begin       249  non-null values\n",
        "repeat end         249  non-null values\n",
        "repeat family      249  non-null values\n",
        "dtypes: float64(11), object(17)\n",
        "</pre>"
       ],
       "output_type": "pyout",
       "prompt_number": 228,
       "text": [
        "<class 'pandas.core.frame.DataFrame'>\n",
        "Int64Index: 257 entries, 0 to 293\n",
        "Data columns (total 28 columns):\n",
        "Problem SNP        257  non-null values\n",
        "ProblemSNPChr      257  non-null values\n",
        "ProblemSNPBP       257  non-null values\n",
        "MaxR2SNP           257  non-null values\n",
        "OtherSNPChr        257  non-null values\n",
        "OtherSNPBP         257  non-null values\n",
        "MaxR2              257  non-null values\n",
        "NumR2GT.5          257  non-null values\n",
        "SameProblemSNP?    256  non-null values\n",
        "chrom              257  non-null values\n",
        "start              184  non-null values\n",
        "end                184  non-null values\n",
        "comment            184  non-null values\n",
        "+/C                249  non-null values\n",
        "ID                 249  non-null values\n",
        "SW score           249  non-null values\n",
        "matching repeat    249  non-null values\n",
        "perc del.          249  non-null values\n",
        "perc div.          249  non-null values\n",
        "perc ins.          249  non-null values\n",
        "query (left)       249  non-null values\n",
        "query begin        249  non-null values\n",
        "query end          249  non-null values\n",
        "query sequence     249  non-null values\n",
        "repeat (left)      249  non-null values\n",
        "repeat begin       249  non-null values\n",
        "repeat end         249  non-null values\n",
        "repeat family      249  non-null values\n",
        "dtypes: float64(11), object(17)"
       ]
      }
     ],
     "prompt_number": 228
    },
    {
     "cell_type": "code",
     "collapsed": false,
     "input": [
      "final_df_unique"
     ],
     "language": "python",
     "metadata": {},
     "outputs": [
      {
       "html": [
        "<pre>\n",
        "&lt;class 'pandas.core.frame.DataFrame'&gt;\n",
        "Int64Index: 267 entries, 0 to 293\n",
        "Data columns (total 28 columns):\n",
        "Problem SNP        267  non-null values\n",
        "ProblemSNPChr      267  non-null values\n",
        "ProblemSNPBP       267  non-null values\n",
        "MaxR2SNP           267  non-null values\n",
        "OtherSNPChr        267  non-null values\n",
        "OtherSNPBP         267  non-null values\n",
        "MaxR2              267  non-null values\n",
        "NumR2GT.5          267  non-null values\n",
        "SameProblemSNP?    266  non-null values\n",
        "chrom              267  non-null values\n",
        "start              184  non-null values\n",
        "end                184  non-null values\n",
        "comment            184  non-null values\n",
        "+/C                249  non-null values\n",
        "ID                 249  non-null values\n",
        "SW score           249  non-null values\n",
        "matching repeat    249  non-null values\n",
        "perc del.          249  non-null values\n",
        "perc div.          249  non-null values\n",
        "perc ins.          249  non-null values\n",
        "query (left)       249  non-null values\n",
        "query begin        249  non-null values\n",
        "query end          249  non-null values\n",
        "query sequence     249  non-null values\n",
        "repeat (left)      249  non-null values\n",
        "repeat begin       249  non-null values\n",
        "repeat end         249  non-null values\n",
        "repeat family      249  non-null values\n",
        "dtypes: float64(11), object(17)\n",
        "</pre>"
       ],
       "output_type": "pyout",
       "prompt_number": 227,
       "text": [
        "<class 'pandas.core.frame.DataFrame'>\n",
        "Int64Index: 267 entries, 0 to 293\n",
        "Data columns (total 28 columns):\n",
        "Problem SNP        267  non-null values\n",
        "ProblemSNPChr      267  non-null values\n",
        "ProblemSNPBP       267  non-null values\n",
        "MaxR2SNP           267  non-null values\n",
        "OtherSNPChr        267  non-null values\n",
        "OtherSNPBP         267  non-null values\n",
        "MaxR2              267  non-null values\n",
        "NumR2GT.5          267  non-null values\n",
        "SameProblemSNP?    266  non-null values\n",
        "chrom              267  non-null values\n",
        "start              184  non-null values\n",
        "end                184  non-null values\n",
        "comment            184  non-null values\n",
        "+/C                249  non-null values\n",
        "ID                 249  non-null values\n",
        "SW score           249  non-null values\n",
        "matching repeat    249  non-null values\n",
        "perc del.          249  non-null values\n",
        "perc div.          249  non-null values\n",
        "perc ins.          249  non-null values\n",
        "query (left)       249  non-null values\n",
        "query begin        249  non-null values\n",
        "query end          249  non-null values\n",
        "query sequence     249  non-null values\n",
        "repeat (left)      249  non-null values\n",
        "repeat begin       249  non-null values\n",
        "repeat end         249  non-null values\n",
        "repeat family      249  non-null values\n",
        "dtypes: float64(11), object(17)"
       ]
      }
     ],
     "prompt_number": 227
    },
    {
     "cell_type": "code",
     "collapsed": false,
     "input": [
      "184./267"
     ],
     "language": "python",
     "metadata": {},
     "outputs": [
      {
       "output_type": "pyout",
       "prompt_number": 232,
       "text": [
        "0.6891385767790262"
       ]
      }
     ],
     "prompt_number": 232
    },
    {
     "cell_type": "code",
     "collapsed": false,
     "input": [
      "final_df_unique.to_excel(\"/home/GMI/hannes.svardal/Akademisches/Projects/VervetPopgen/ProblemSNP_unique_Pass1_mapping_repeats.xlsx\")"
     ],
     "language": "python",
     "metadata": {},
     "outputs": [],
     "prompt_number": 226
    },
    {
     "cell_type": "code",
     "collapsed": false,
     "input": [
      "df"
     ],
     "language": "python",
     "metadata": {},
     "outputs": [
      {
       "html": [
        "<pre>\n",
        "&lt;class 'pandas.core.frame.DataFrame'&gt;\n",
        "Int64Index: 499 entries, 0 to 1283180\n",
        "Data columns (total 14 columns):\n",
        "Problem SNP        294  non-null values\n",
        "ProblemSNPChr      294  non-null values\n",
        "ProblemSNPBP       294  non-null values\n",
        "MaxR2SNP           294  non-null values\n",
        "OtherSNPChr        294  non-null values\n",
        "OtherSNPBP         294  non-null values\n",
        "MaxR2              294  non-null values\n",
        "NumR2GT.5          294  non-null values\n",
        "SameProblemSNP?    293  non-null values\n",
        "chrom              294  non-null values\n",
        "chrom_2            205  non-null values\n",
        "start              205  non-null values\n",
        "end                205  non-null values\n",
        "comment            205  non-null values\n",
        "dtypes: float64(9), object(5)\n",
        "</pre>"
       ],
       "output_type": "pyout",
       "prompt_number": 79,
       "text": [
        "<class 'pandas.core.frame.DataFrame'>\n",
        "Int64Index: 499 entries, 0 to 1283180\n",
        "Data columns (total 14 columns):\n",
        "Problem SNP        294  non-null values\n",
        "ProblemSNPChr      294  non-null values\n",
        "ProblemSNPBP       294  non-null values\n",
        "MaxR2SNP           294  non-null values\n",
        "OtherSNPChr        294  non-null values\n",
        "OtherSNPBP         294  non-null values\n",
        "MaxR2              294  non-null values\n",
        "NumR2GT.5          294  non-null values\n",
        "SameProblemSNP?    293  non-null values\n",
        "chrom              294  non-null values\n",
        "chrom_2            205  non-null values\n",
        "start              205  non-null values\n",
        "end                205  non-null values\n",
        "comment            205  non-null values\n",
        "dtypes: float64(9), object(5)"
       ]
      }
     ],
     "prompt_number": 79
    },
    {
     "cell_type": "code",
     "collapsed": false,
     "input": [
      "1501745+109675600+1656054+11048145+29208+2125178"
     ],
     "language": "python",
     "metadata": {},
     "outputs": [
      {
       "output_type": "pyout",
       "prompt_number": 229,
       "text": [
        "126035930"
       ]
      }
     ],
     "prompt_number": 229
    },
    {
     "cell_type": "code",
     "collapsed": false,
     "input": [
      "REF_N 1501745\n",
      "                      CALLABLE 109675600\n",
      "                   NO_COVERAGE 1656054\n",
      "                  LOW_COVERAGE 11048145\n",
      "            EXCESSIVE_COVERAGE 29208\n",
      "          POOR_MAPPING_QUALITY 2125178"
     ],
     "language": "python",
     "metadata": {},
     "outputs": []
    },
    {
     "cell_type": "code",
     "collapsed": false,
     "input": [
      "(2125178+29208.)/126035930"
     ],
     "language": "python",
     "metadata": {},
     "outputs": [
      {
       "output_type": "pyout",
       "prompt_number": 230,
       "text": [
        "0.017093427247293687"
       ]
      }
     ],
     "prompt_number": 230
    },
    {
     "cell_type": "code",
     "collapsed": false,
     "input": [],
     "language": "python",
     "metadata": {},
     "outputs": []
    }
   ],
   "metadata": {}
  }
 ]
}