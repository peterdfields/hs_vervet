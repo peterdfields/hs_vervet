{
 "metadata": {
  "name": "SplitTimesDistanceMatrix"
 },
 "nbformat": 3,
 "nbformat_minor": 0,
 "worksheets": [
  {
   "cells": [
    {
     "cell_type": "code",
     "collapsed": false,
     "input": [
      "%load_ext autoreload\n",
      "%autoreload 2\n",
      "from init_vervet_nb import *\n",
      "import pandas as pd\n",
      "import json, os"
     ],
     "language": "python",
     "metadata": {},
     "outputs": [],
     "prompt_number": 1
    },
    {
     "cell_type": "code",
     "collapsed": false,
     "input": [
      "paramsfname=os.path.join(hvb.getDataDir(),\"analyses/PairwiseDifferenceMatrix_Method39_Qual100/log/PairwiseDifferenceMatrix_Method39_Qual100_run.params\")\n",
      "params=json.load(open(paramsfname,'r'))"
     ],
     "language": "python",
     "metadata": {},
     "outputs": [],
     "prompt_number": 2
    },
    {
     "cell_type": "code",
     "collapsed": false,
     "input": [
      "params"
     ],
     "language": "python",
     "metadata": {},
     "outputs": [
      {
       "output_type": "pyout",
       "prompt_number": 3,
       "text": [
        "{u'analysis_path': u'analyses/',\n",
        " u'calling_file_ls': [u'/net/gmi.oeaw.ac.at/nordborg/user/hannes.svardal/Documents/workspace/vervet/src/hs_scripts/pairwise_difference_matrix.py',\n",
        "  u'/net/gmi.oeaw.ac.at/nordborg/user/hannes.svardal/Documents/workspace/vervet/src/hs_scripts/pairwise_difference_matrix.py'],\n",
        " u'data_dir': u'/net/gmi.oeaw.ac.at/nordborg/lab/vervetpopgen',\n",
        " u'description': u'no description',\n",
        " u'genotype_method': 39,\n",
        " u'min_quality': 100,\n",
        " u'name': u'PairwiseDifferenceMatrix_Method39_Qual100',\n",
        " u'out_dir': u'/net/gmi.oeaw.ac.at/nordborg/lab/vervetpopgen/analyses/PairwiseDifferenceMatrix_Method39_Qual100',\n",
        " u'out_file': u'PairwiseDifferenceMatrix_Method39_Qual100_out.tsv',\n",
        " u'taxa': [u'sab', u'aet', u'tan', u'pygcyn']}"
       ]
      }
     ],
     "prompt_number": 3
    },
    {
     "cell_type": "code",
     "collapsed": false,
     "input": [
      "distfname=os.path.join(hvb.getDataDir(),\"analyses/PairwiseDifferenceMatrix_Method39_Qual100\",params['out_file'])\n",
      "distDF=pd.read_csv(distfname,sep='\\t',index_col=0)"
     ],
     "language": "python",
     "metadata": {},
     "outputs": [],
     "prompt_number": 4
    },
    {
     "cell_type": "code",
     "collapsed": false,
     "input": [
      "generation_time=8.5\n",
      "mutation_rate=1.5*10**(-8)\n",
      "genome_size=3*10**9\n",
      "yearsDF=distDF*generation_time/(2*genome_size*mutation_rate)"
     ],
     "language": "python",
     "metadata": {},
     "outputs": [],
     "prompt_number": 5
    },
    {
     "cell_type": "code",
     "collapsed": false,
     "input": [
      "metaDF=hvb.getMetaDF(39)"
     ],
     "language": "python",
     "metadata": {},
     "outputs": [],
     "prompt_number": 6
    },
    {
     "cell_type": "code",
     "collapsed": false,
     "input": [
      "metaDF[(metaDF.country==\"Ghana\")+(metaDF.country==\"Gambia\")].index.values"
     ],
     "language": "python",
     "metadata": {},
     "outputs": [
      {
       "output_type": "pyout",
       "prompt_number": 7,
       "text": [
        "array([VGA00114, VGA00092, VGA00021, VGA00146, VGA00098, VGA00156,\n",
        "       VGA00142, VGA00090, VGA00085, VGHB1002, VGA00101, VGHA1001,\n",
        "       VGA00152, VGA00153, VGA00006], dtype=object)"
       ]
      }
     ],
     "prompt_number": 7
    },
    {
     "cell_type": "code",
     "collapsed": false,
     "input": [
      "taxa=params['taxa']\n",
      "print taxa"
     ],
     "language": "python",
     "metadata": {},
     "outputs": [
      {
       "output_type": "stream",
       "stream": "stdout",
       "text": [
        "[u'sab', u'aet', u'tan', u'pygcyn']\n"
       ]
      }
     ],
     "prompt_number": 8
    },
    {
     "cell_type": "code",
     "collapsed": false,
     "input": [
      "subpopMeta_ls=[hvb.speciesSubPop(metaDF,tax) for tax in taxa]"
     ],
     "language": "python",
     "metadata": {},
     "outputs": [],
     "prompt_number": 9
    },
    {
     "cell_type": "code",
     "collapsed": false,
     "input": [
      "ucla_ids_ls=[i.index.values for i in subpopMeta_ls]"
     ],
     "language": "python",
     "metadata": {},
     "outputs": [],
     "prompt_number": 10
    },
    {
     "cell_type": "code",
     "collapsed": false,
     "input": [
      "coalTimeMat=[[(yearsDF.loc[ucla_ids_ls[i],ucla_ids_ls[j]].mean().mean()/1000).round() for i in range(len(taxa))] for j in range(len(taxa))]\n",
      "\n",
      "coalTime=pd.DataFrame(coalTimeMat,index=taxa,columns=taxa)"
     ],
     "language": "python",
     "metadata": {},
     "outputs": [],
     "prompt_number": 11
    },
    {
     "cell_type": "code",
     "collapsed": false,
     "input": [
      "coalfname=os.path.join(hvb.getDataDir(),\"analyses/PairwiseDifferenceMatrix_Method39_Qual100/taxa_coal_times.tsv\")\n",
      "coalTime.to_csv(coalfname,sep='\\t')"
     ],
     "language": "python",
     "metadata": {},
     "outputs": [],
     "prompt_number": 12
    },
    {
     "cell_type": "code",
     "collapsed": false,
     "input": [
      "coalTime"
     ],
     "language": "python",
     "metadata": {},
     "outputs": [
      {
       "html": [
        "<div style=\"max-height:1000px;max-width:1500px;overflow:auto;\">\n",
        "<table border=\"1\" class=\"dataframe\">\n",
        "  <thead>\n",
        "    <tr style=\"text-align: right;\">\n",
        "      <th></th>\n",
        "      <th>sab</th>\n",
        "      <th>aet</th>\n",
        "      <th>tan</th>\n",
        "      <th>pygcyn</th>\n",
        "    </tr>\n",
        "  </thead>\n",
        "  <tbody>\n",
        "    <tr>\n",
        "      <th>sab</th>\n",
        "      <td>  922</td>\n",
        "      <td> 1520</td>\n",
        "      <td> 1447</td>\n",
        "      <td> 1434</td>\n",
        "    </tr>\n",
        "    <tr>\n",
        "      <th>aet</th>\n",
        "      <td> 1520</td>\n",
        "      <td>  743</td>\n",
        "      <td> 1268</td>\n",
        "      <td> 1191</td>\n",
        "    </tr>\n",
        "    <tr>\n",
        "      <th>tan</th>\n",
        "      <td> 1447</td>\n",
        "      <td> 1268</td>\n",
        "      <td>  904</td>\n",
        "      <td> 1151</td>\n",
        "    </tr>\n",
        "    <tr>\n",
        "      <th>pygcyn</th>\n",
        "      <td> 1434</td>\n",
        "      <td> 1191</td>\n",
        "      <td> 1151</td>\n",
        "      <td>  831</td>\n",
        "    </tr>\n",
        "  </tbody>\n",
        "</table>\n",
        "</div>"
       ],
       "output_type": "pyout",
       "prompt_number": 13,
       "text": [
        "         sab   aet   tan  pygcyn\n",
        "sab      922  1520  1447    1434\n",
        "aet     1520   743  1268    1191\n",
        "tan     1447  1268   904    1151\n",
        "pygcyn  1434  1191  1151     831"
       ]
      }
     ],
     "prompt_number": 13
    },
    {
     "cell_type": "code",
     "collapsed": false,
     "input": [
      "Fst=[]\n",
      "for i in range(len(coalTime)):\n",
      "    fst_line=[]\n",
      "    for j in range(len(coalTime)):\n",
      "        fst_line.append(1-(coalTime.iloc[i,i]+coalTime.iloc[j,j])/2*4/(coalTime.iloc[i,i]+coalTime.iloc[j,j]+coalTime.iloc[i,j]+coalTime.iloc[j,i]))\n",
      "    Fst.append(fst_line)\n",
      "Fst=pd.DataFrame(Fst,index=coalTime.index,columns=coalTime.columns)"
     ],
     "language": "python",
     "metadata": {},
     "outputs": [],
     "prompt_number": 19
    },
    {
     "cell_type": "code",
     "collapsed": false,
     "input": [
      "Fst"
     ],
     "language": "python",
     "metadata": {},
     "outputs": [
      {
       "html": [
        "<div style=\"max-height:1000px;max-width:1500px;overflow:auto;\">\n",
        "<table border=\"1\" class=\"dataframe\">\n",
        "  <thead>\n",
        "    <tr style=\"text-align: right;\">\n",
        "      <th></th>\n",
        "      <th>sab</th>\n",
        "      <th>aet</th>\n",
        "      <th>tan</th>\n",
        "      <th>pygcyn</th>\n",
        "    </tr>\n",
        "  </thead>\n",
        "  <tbody>\n",
        "    <tr>\n",
        "      <th>sab</th>\n",
        "      <td> 0.000000</td>\n",
        "      <td> 0.292242</td>\n",
        "      <td> 0.226271</td>\n",
        "      <td> 0.241290</td>\n",
        "    </tr>\n",
        "    <tr>\n",
        "      <th>aet</th>\n",
        "      <td> 0.292242</td>\n",
        "      <td> 0.000000</td>\n",
        "      <td> 0.212527</td>\n",
        "      <td> 0.204247</td>\n",
        "    </tr>\n",
        "    <tr>\n",
        "      <th>tan</th>\n",
        "      <td> 0.226271</td>\n",
        "      <td> 0.212527</td>\n",
        "      <td> 0.000000</td>\n",
        "      <td> 0.140451</td>\n",
        "    </tr>\n",
        "    <tr>\n",
        "      <th>pygcyn</th>\n",
        "      <td> 0.241290</td>\n",
        "      <td> 0.204247</td>\n",
        "      <td> 0.140451</td>\n",
        "      <td> 0.000000</td>\n",
        "    </tr>\n",
        "  </tbody>\n",
        "</table>\n",
        "</div>"
       ],
       "output_type": "pyout",
       "prompt_number": 20,
       "text": [
        "             sab       aet       tan    pygcyn\n",
        "sab     0.000000  0.292242  0.226271  0.241290\n",
        "aet     0.292242  0.000000  0.212527  0.204247\n",
        "tan     0.226271  0.212527  0.000000  0.140451\n",
        "pygcyn  0.241290  0.204247  0.140451  0.000000"
       ]
      }
     ],
     "prompt_number": 20
    },
    {
     "cell_type": "code",
     "collapsed": false,
     "input": [
      "Ne=coalTime*1000/2/generation_time"
     ],
     "language": "python",
     "metadata": {},
     "outputs": [],
     "prompt_number": 27
    },
    {
     "cell_type": "code",
     "collapsed": false,
     "input": [
      "Ne"
     ],
     "language": "python",
     "metadata": {},
     "outputs": [
      {
       "html": [
        "<div style=\"max-height:1000px;max-width:1500px;overflow:auto;\">\n",
        "<table border=\"1\" class=\"dataframe\">\n",
        "  <thead>\n",
        "    <tr style=\"text-align: right;\">\n",
        "      <th></th>\n",
        "      <th>sab</th>\n",
        "      <th>aet</th>\n",
        "      <th>tan</th>\n",
        "      <th>pygcyn</th>\n",
        "    </tr>\n",
        "  </thead>\n",
        "  <tbody>\n",
        "    <tr>\n",
        "      <th>sab</th>\n",
        "      <td> 54235.294118</td>\n",
        "      <td> 89411.764706</td>\n",
        "      <td> 85117.647059</td>\n",
        "      <td> 84352.941176</td>\n",
        "    </tr>\n",
        "    <tr>\n",
        "      <th>aet</th>\n",
        "      <td> 89411.764706</td>\n",
        "      <td> 43705.882353</td>\n",
        "      <td> 74588.235294</td>\n",
        "      <td> 70058.823529</td>\n",
        "    </tr>\n",
        "    <tr>\n",
        "      <th>tan</th>\n",
        "      <td> 85117.647059</td>\n",
        "      <td> 74588.235294</td>\n",
        "      <td> 53176.470588</td>\n",
        "      <td> 67705.882353</td>\n",
        "    </tr>\n",
        "    <tr>\n",
        "      <th>pygcyn</th>\n",
        "      <td> 84352.941176</td>\n",
        "      <td> 70058.823529</td>\n",
        "      <td> 67705.882353</td>\n",
        "      <td> 48882.352941</td>\n",
        "    </tr>\n",
        "  </tbody>\n",
        "</table>\n",
        "</div>"
       ],
       "output_type": "pyout",
       "prompt_number": 28,
       "text": [
        "                 sab           aet           tan        pygcyn\n",
        "sab     54235.294118  89411.764706  85117.647059  84352.941176\n",
        "aet     89411.764706  43705.882353  74588.235294  70058.823529\n",
        "tan     85117.647059  74588.235294  53176.470588  67705.882353\n",
        "pygcyn  84352.941176  70058.823529  67705.882353  48882.352941"
       ]
      }
     ],
     "prompt_number": 28
    },
    {
     "cell_type": "code",
     "collapsed": false,
     "input": [
      "splitTime=coalTime.copy()\n",
      "splitTime.iloc[:,:]=np.nan"
     ],
     "language": "python",
     "metadata": {},
     "outputs": [],
     "prompt_number": 24
    },
    {
     "cell_type": "code",
     "collapsed": false,
     "input": [
      "for i in range(coalTime.shape[0]):\n",
      "    for j in range(coalTime.shape[1]):\n",
      "        splitTime.iloc[i,j]=coalTime.iloc[i,j]-(coalTime.iloc[i,i]+coalTime.iloc[j,j])/2"
     ],
     "language": "python",
     "metadata": {},
     "outputs": [],
     "prompt_number": 440
    },
    {
     "cell_type": "code",
     "collapsed": false,
     "input": [
      "splitfname=os.path.join(hvb.getDataDir(),\"analyses/PairwiseDifferenceMatrix_Method39_Qual100/taxa_split_times.tsv\")\n",
      "splitTime.to_csv(splitfname,sep='\\t')\n",
      "print splitTime.applymap(round)"
     ],
     "language": "python",
     "metadata": {},
     "outputs": [
      {
       "output_type": "stream",
       "stream": "stdout",
       "text": [
        "        sab  aet  tan  pygcyn\n",
        "sab       0  688  534     558\n",
        "aet     688    0  445     404\n",
        "tan     534  445    0     284\n",
        "pygcyn  558  404  284       0\n"
       ]
      }
     ],
     "prompt_number": 448
    },
    {
     "cell_type": "code",
     "collapsed": false,
     "input": [
      "testDF=pd.DataFrame([[0,7,11,14],[7,0,6,9],[11,6,0,7],[14,9,7,0]],index=[\"A\",\"B\",\"C\",\"D\"],columns=[\"A\",\"B\",\"C\",\"D\"])"
     ],
     "language": "python",
     "metadata": {},
     "outputs": [],
     "prompt_number": 38
    },
    {
     "cell_type": "code",
     "collapsed": false,
     "input": [
      "def neighbor_joining(distanceDF):\n",
      "    dat=distanceDF.values\n",
      "    names=distanceDF.index.values\n",
      "    r=len(dat)\n",
      "    tree=\"\"\n",
      "    for i in range(r-3):\n",
      "        Q = (r-2.)*dat-np.tile(dat.sum(axis=0),(len(dat),1))-np.tile(dat.sum(axis=1),(len(dat),1)).T\n",
      "        flat_min_idx = np.argmin(Q-Q*np.identity(len(Q)))\n",
      "        r_min, c_min = flat_min_idx / Q.shape[1], flat_min_idx % Q.shape[1]\n",
      "        d_1_new_node = 1./2 *dat[r_min,c_min] + 1./(2*(r-2))*(dat[r_min].sum()-dat[c_min].sum())\n",
      "        d_2_new_node = dat[r_min,c_min] - d_1_new_node\n",
      "        new_dat_row = 1./2 *(dat[r_min] + dat[c_min] - dat[r_min,c_min])\n",
      "        #print r_min, c_min, dat\n",
      "        \n",
      "\n",
      "        dat = np.append(dat, [new_dat_row], axis=0)\n",
      "        dat = np.append(dat, np.reshape(np.append(new_dat_row,0),(-1,1)), axis=1)\n",
      "        names = np.append(names,\"({}:{},{}:{})\".format(names[r_min],d_1_new_node ,names[c_min],d_2_new_node))\n",
      "        \n",
      "        \n",
      "        dat = np.delete(dat,[r_min,c_min],axis=0)\n",
      "        dat = np.delete(dat,[r_min,c_min],axis=1)\n",
      "        names = np.delete(names,[r_min,c_min])\n",
      "    #flat_min_idx = np.argmin(dat)\n",
      "    #r_min, c_min = flat_min_idx / dat.shape[1], flat_min_idx % dat.shape[1]\n",
      "    n=abs(dat[0,2]-dat[1,2])\n",
      "    names = \"({}:{},{}:{},{}:{});\".format(names[0],dat[0,2]-n,names[1],dat[1,2]-n,names[2],n)\n",
      "    return names\n",
      "    #\"({}:{},{}:{})\".format(names[r_min],d_1_new_node ,names[c_min],d_2_new_node))\n",
      "    "
     ],
     "language": "python",
     "metadata": {},
     "outputs": [],
     "prompt_number": 95
    },
    {
     "cell_type": "code",
     "collapsed": false,
     "input": [
      "\"({}:{},{}:{},{}:{})\".format(1,2,3,4,5,6)"
     ],
     "language": "python",
     "metadata": {},
     "outputs": [
      {
       "output_type": "pyout",
       "prompt_number": 93,
       "text": [
        "'(1:2,3:4,5:6)'"
       ]
      }
     ],
     "prompt_number": 93
    },
    {
     "cell_type": "code",
     "collapsed": false,
     "input": [
      "neighbor_joining(splitTime)"
     ],
     "language": "python",
     "metadata": {},
     "outputs": [
      {
       "output_type": "pyout",
       "prompt_number": 97,
       "text": [
        "'(aet:153.5,pygcyn:8.0,(sab:396.25,tan:137.75):145.5);'"
       ]
      }
     ],
     "prompt_number": 97
    },
    {
     "cell_type": "code",
     "collapsed": false,
     "input": [
      "neighbor_joining(splitTime)"
     ],
     "language": "python",
     "metadata": {},
     "outputs": [
      {
       "output_type": "pyout",
       "prompt_number": 62,
       "text": [
        "1"
       ]
      }
     ],
     "prompt_number": 62
    },
    {
     "cell_type": "code",
     "collapsed": false,
     "input": [
      "Newick=\"(A:0.1,B:0.2,(C:0.3,D:.4):0.5);\"\n",
      "ex=\"((C:2,D:5),(A:6,B:1):3);\"\n",
      "ex2=\"(D:5,C:2,(A:6.0,B:1.0):3);\"\n",
      "n2=\"(C:2.25,(A:6.0,B:1.0):2.75);\"\n",
      "tt=\"(C:2,(A:1.,B:10.):0.3);\"\n",
      "f=open(\"/home/hs/newick.newick\",'w')\n",
      "f.write(\"(A:0.1,B:0.2,(C:0.3,D:.4):0.5);\")\n",
      "f.close()"
     ],
     "language": "python",
     "metadata": {},
     "outputs": [],
     "prompt_number": 61
    },
    {
     "cell_type": "code",
     "collapsed": false,
     "input": [
      "from Bio import Phylo\n",
      "from cStringIO import StringIO"
     ],
     "language": "python",
     "metadata": {},
     "outputs": [],
     "prompt_number": 42
    },
    {
     "cell_type": "code",
     "collapsed": false,
     "input": [
      "handle = StringIO(ex2)\n",
      "x=Phylo.read(handle,'newick')\n",
      "Phylo.draw_graphviz(x)"
     ],
     "language": "python",
     "metadata": {},
     "outputs": [
      {
       "output_type": "display_data",
       "png": "[encoded data removed]"
      }
     ],
     "prompt_number": 57
    },
    {
     "cell_type": "code",
     "collapsed": false,
     "input": [],
     "language": "python",
     "metadata": {},
     "outputs": [
      {
       "output_type": "display_data",
       "png": "[encoded data removed]"
      }
     ],
     "prompt_number": 382
    },
    {
     "cell_type": "code",
     "collapsed": false,
     "input": [
      "import ete2 "
     ],
     "language": "python",
     "metadata": {},
     "outputs": [],
     "prompt_number": 355
    },
    {
     "cell_type": "code",
     "collapsed": false,
     "input": [
      "t=ete2.Tree(Newick)\n",
      "print t"
     ],
     "language": "python",
     "metadata": {},
     "outputs": [
      {
       "output_type": "stream",
       "stream": "stdout",
       "text": [
        "\n",
        "     /-A\n",
        "    |\n",
        "----|--B\n",
        "    |\n",
        "    |     /-C\n",
        "     \\---|\n",
        "          \\-D\n"
       ]
      }
     ],
     "prompt_number": 364
    },
    {
     "cell_type": "heading",
     "level": 3,
     "metadata": {},
     "source": [
      "Compare populations on opposite sides of Drakensberg Mountains:"
     ]
    },
    {
     "cell_type": "code",
     "collapsed": false,
     "input": [
      "eastDF=metaDF[(metaDF[\"country\"]=='South Africa')*(metaDF[\"longitude\"]>30)]\n",
      "westDF=metaDF[(metaDF[\"country\"]=='South Africa')*(metaDF[\"longitude\"]<26.1)*(metaDF[\"latitude\"]>-31)]"
     ],
     "language": "python",
     "metadata": {},
     "outputs": [],
     "prompt_number": 87
    },
    {
     "cell_type": "code",
     "collapsed": false,
     "input": [
      "eastDF.site_name"
     ],
     "language": "python",
     "metadata": {},
     "outputs": [
      {
       "output_type": "pyout",
       "prompt_number": 86,
       "text": [
        "ucla_id\n",
        "VSAG2005                  Kwela Lodge\n",
        "VSAJ2008    Riverside Wildlife Center\n",
        "VSAE3002         Thorny Park Estate-1\n",
        "VSAF1012                        Alize\n",
        "VSAE2005                Seula Zimbili\n",
        "VSAH1001                 Camp Anerley\n",
        "VSAG2003                  Kwela Lodge\n",
        "VSAE2009                Seula Zimbili\n",
        "VSAG2001                  Kwela Lodge\n",
        "VSAE2011                Seula Zimbili\n",
        "VSAF1004                        Alize\n",
        "VSAF1009                        Alize\n",
        "VSAF1011                        Alize\n",
        "VSAF1015                        Alize\n",
        "VSAE3003         Thorny Park Estate-1\n",
        "VSAE3001         Thorny Park Estate-1\n",
        "VSAI3005    Riverside Wildlife Center\n",
        "Name: site_name, dtype: object"
       ]
      }
     ],
     "prompt_number": 86
    },
    {
     "cell_type": "code",
     "collapsed": false,
     "input": [
      "westDF"
     ],
     "language": "python",
     "metadata": {},
     "outputs": [
      {
       "html": [
        "<pre>\n",
        "&ltclass 'pandas.core.frame.DataFrame'&gt\n",
        "Index: 19 entries, VSAC1014 to VSAB5004\n",
        "Data columns (total 11 columns):\n",
        "VCF_idx        19  non-null values\n",
        "species        19  non-null values\n",
        "country        19  non-null values\n",
        "site_name      19  non-null values\n",
        "longitude      19  non-null values\n",
        "latitude       19  non-null values\n",
        "readgroup      19  non-null values\n",
        "sex            19  non-null values\n",
        "coverage       19  non-null values\n",
        "mean_depth     19  non-null values\n",
        "perc_mapped    19  non-null values\n",
        "dtypes: float64(5), int64(1), object(5)\n",
        "</pre>"
       ],
       "output_type": "pyout",
       "prompt_number": 88,
       "text": [
        "          VCF_idx species       country            site_name  longitude  \\\n",
        "ucla_id                                                                   \n",
        "VSAC1014       11     pyg  South Africa        Sandveld NR-2  25.681750   \n",
        "VSAA2010       12     pyg  South Africa         Soetdoring-1  26.085000   \n",
        "VSAB1003       18     pyg  South Africa  Orange River Valley  25.486944   \n",
        "VSAB5005       55     pyg  South Africa            Waschbank  25.462222   \n",
        "VSAB2017       58     pyg  South Africa         Southey Farm  25.446389   \n",
        "VSAC1004      102     pyg  South Africa        Sandveld NR-2  25.681750   \n",
        "VSAC1016      105     pyg  South Africa        Sandveld NR-2  25.681750   \n",
        "VSAA2020      106     pyg  South Africa         Soetdoring-1  26.085000   \n",
        "VSAB2011      108     pyg  South Africa         Southey Farm  25.446389   \n",
        "VSAB2010      109     pyg  South Africa         Southey Farm  25.446389   \n",
        "VSAA2015      112     pyg  South Africa         Soetdoring-1  26.085000   \n",
        "VSAB2012      113     pyg  South Africa         Southey Farm  25.446389   \n",
        "VSAC1015      114     pyg  South Africa        Sandveld NR-2  25.681750   \n",
        "VSAC1012      117     pyg  South Africa        Sandveld NR-2  25.681750   \n",
        "VSAB3004      118     pyg  South Africa         Southey Farm  25.446389   \n",
        "VSAB2009      119     pyg  South Africa         Southey Farm  25.446389   \n",
        "VSAB3001      120     pyg  South Africa         Southey Farm  25.446389   \n",
        "VSAB2023      121     pyg  South Africa         Southey Farm  25.446389   \n",
        "VSAB5004      125     pyg  South Africa            Waschbank  25.462222   \n",
        "\n",
        "           latitude                     readgroup sex  coverage  mean_depth  \\\n",
        "ucla_id                                                                       \n",
        "VSAC1014 -27.676083  1298_1438_VSAC1014_GA_vs_524   M  1.803730    1.803320   \n",
        "VSAA2010 -28.815278  1299_1439_VSAA2010_GA_vs_524   F  1.777009    1.790005   \n",
        "VSAB1003 -30.634167  1305_1445_VSAB1003_GA_vs_524   M  4.506260    3.474428   \n",
        "VSAB5005 -30.616667  1342_1482_VSAB5005_GA_vs_524   M  3.802197    3.027392   \n",
        "VSAB2017 -30.606667  1345_1485_VSAB2017_GA_vs_524   M  4.480991    3.658539   \n",
        "VSAC1004 -27.676083  1605_1639_VSAC1004_GA_vs_524   F  3.444678    3.060530   \n",
        "VSAC1016 -27.676083  1608_1642_VSAC1016_GA_vs_524   F  3.278669    2.966590   \n",
        "VSAA2020 -28.815278  1609_1643_VSAA2020_GA_vs_524   M  2.995549    2.738430   \n",
        "VSAB2011 -30.606667  1611_1645_VSAB2011_GA_vs_524   F  3.813436    3.299390   \n",
        "VSAB2010 -30.606667  1612_1646_VSAB2010_GA_vs_524   F  3.254249    2.822570   \n",
        "VSAA2015 -28.815278  1615_1649_VSAA2015_GA_vs_524   F  2.278123    2.230270   \n",
        "VSAB2012 -30.606667  1616_1650_VSAB2012_GA_vs_524   F  3.929744    3.353020   \n",
        "VSAC1015 -27.676083  1617_1651_VSAC1015_GA_vs_524   F  2.915639    2.441120   \n",
        "VSAC1012 -27.676083  1620_1654_VSAC1012_GA_vs_524   F  3.734326    2.933340   \n",
        "VSAB3004 -30.606667  1621_1655_VSAB3004_GA_vs_524   F  3.669056    3.080120   \n",
        "VSAB2009 -30.606667  1622_1656_VSAB2009_GA_vs_524   F  2.542581    2.420530   \n",
        "VSAB3001 -30.606667  1623_1657_VSAB3001_GA_vs_524   F  3.757482    2.945200   \n",
        "VSAB2023 -30.606667  1624_1658_VSAB2023_GA_vs_524   F  3.738203    3.087690   \n",
        "VSAB5004 -30.616667  1628_1662_VSAB5004_GA_vs_524   F  3.556965    2.912270   \n",
        "\n",
        "          perc_mapped  \n",
        "ucla_id                \n",
        "VSAC1014    75.064172  \n",
        "VSAA2010    72.080696  \n",
        "VSAB1003    80.596404  \n",
        "VSAB5005    80.053429  \n",
        "VSAB2017    83.439614  \n",
        "VSAC1004    86.625386  \n",
        "VSAC1016    84.345903  \n",
        "VSAA2020    88.212498  \n",
        "VSAB2011    84.618422  \n",
        "VSAB2010    86.603204  \n",
        "VSAA2015    87.155281  \n",
        "VSAB2012    84.331412  \n",
        "VSAC1015    81.091039  \n",
        "VSAC1012    77.002234  \n",
        "VSAB3004    81.175770  \n",
        "VSAB2009    87.772662  \n",
        "VSAB3001    78.999846  \n",
        "VSAB2023    79.483771  \n",
        "VSAB5004    80.423318  "
       ]
      }
     ],
     "prompt_number": 88
    },
    {
     "cell_type": "code",
     "collapsed": false,
     "input": [
      "#average coalescence between\n",
      "TcoalEW = yearsDF.loc[eastDF.index,westDF.index].mean().mean()\n",
      "print TcoalEW\n",
      "#average coalescence within\n",
      "TcoalEE = yearsDF.loc[eastDF.index,eastDF.index].mean().mean()\n",
      "print TcoalEE\n",
      "TcoalWW = yearsDF.loc[westDF.index,westDF.index].mean().mean()\n",
      "print TcoalWW"
     ],
     "language": "python",
     "metadata": {},
     "outputs": [
      {
       "output_type": "stream",
       "stream": "stdout",
       "text": [
        "759709.325731\n",
        "710828.099346\n",
        "647490.73518"
       ]
      },
      {
       "output_type": "stream",
       "stream": "stdout",
       "text": [
        "\n"
       ]
      }
     ],
     "prompt_number": 107
    },
    {
     "cell_type": "code",
     "collapsed": false,
     "input": [
      "#standard deviation in average coalescence between pairs of individuals\n",
      "#between:\n",
      "print np.std(yearsDF.loc[eastDF.index,westDF.index].values.reshape(-1))\n",
      "#within:\n",
      "print np.std(yearsDF.loc[eastDF.index,eastDF.index].values.reshape(-1))\n",
      "print np.std(yearsDF.loc[westDF.index,westDF.index].values.reshape(-1))"
     ],
     "language": "python",
     "metadata": {},
     "outputs": [
      {
       "output_type": "stream",
       "stream": "stdout",
       "text": [
        "147570.792247\n",
        "215329.403029\n",
        "207151.489248\n"
       ]
      }
     ],
     "prompt_number": 104
    },
    {
     "cell_type": "code",
     "collapsed": false,
     "input": [
      "np.array([[1,2],[3,4]]).reshape(-1)"
     ],
     "language": "python",
     "metadata": {},
     "outputs": [
      {
       "output_type": "pyout",
       "prompt_number": 100,
       "text": [
        "array([1, 2, 3, 4])"
       ]
      }
     ],
     "prompt_number": 100
    },
    {
     "cell_type": "code",
     "collapsed": false,
     "input": [
      "#estimates assuming that the ancestral population has same size as E or W \n",
      "twoNe_E = TcoalEE\n",
      "twoNe_A = twoNe_E\n",
      "Tsep = TcoalEW - twoNe_A\n",
      "print Tsep\n",
      "print TcoalEW - TcoalWW"
     ],
     "language": "python",
     "metadata": {},
     "outputs": [
      {
       "output_type": "stream",
       "stream": "stdout",
       "text": [
        "48881.2263846\n",
        "112218.590551\n"
       ]
      }
     ],
     "prompt_number": 111
    },
    {
     "cell_type": "code",
     "collapsed": false,
     "input": [
      "50% 3"
     ],
     "language": "python",
     "metadata": {},
     "outputs": [
      {
       "output_type": "pyout",
       "prompt_number": 290,
       "text": [
        "16"
       ]
      }
     ],
     "prompt_number": 290
    },
    {
     "cell_type": "code",
     "collapsed": false,
     "input": [],
     "language": "python",
     "metadata": {},
     "outputs": []
    }
   ],
   "metadata": {}
  }
 ]
}