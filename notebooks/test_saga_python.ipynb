{
 "metadata": {
  "name": "test_saga_python"
 },
 "nbformat": 3,
 "nbformat_minor": 0,
 "worksheets": [
  {
   "cells": [
    {
     "cell_type": "code",
     "collapsed": false,
     "input": [
      "import saga"
     ],
     "language": "python",
     "metadata": {},
     "outputs": [],
     "prompt_number": 1
    },
    {
     "cell_type": "code",
     "collapsed": false,
     "input": [
      "def _get_session():\n",
      "    ctx = saga.Context(\"SSH\")\n",
      "    ctx.user_id = USER\n",
      "    session = saga.Session(default=False)\n",
      "    session.add_context(ctx)\n",
      "    return session"
     ],
     "language": "python",
     "metadata": {},
     "outputs": [],
     "prompt_number": 2
    },
    {
     "cell_type": "code",
     "collapsed": false,
     "input": [
      "sess"
     ],
     "language": "python",
     "metadata": {},
     "outputs": []
    },
    {
     "cell_type": "code",
     "collapsed": false,
     "input": [
      "hpc_host = 'login.mendel.gmi.oeaw.ac.at'\n",
      "hpc_scheduler = 'pbs'\n",
      "cluster_url =  \"{0}+ssh://{1}\".format(hpc_scheduler,hpc_host)\n",
      "cluster_js = saga.job.Service(cluster_url, session=session)"
     ],
     "language": "python",
     "metadata": {},
     "outputs": []
    },
    {
     "cell_type": "code",
     "collapsed": false,
     "input": [
      "import sys\n",
      "import saga\n",
      "\n",
      "REMOTE_HOST = \"login.mendel.gmi.oeaw.ac.at\"\n",
      "\n",
      "def main():\n",
      "    try:\n",
      "        # Your ssh identity on the remote machine\n",
      "        ctx = saga.Context(\"ssh\")\n",
      "        ctx.user_id = \"hannes.svardal\"\n",
      "\n",
      "        session = saga.Session()\n",
      "        session.add_context(ctx)\n",
      "\n",
      "        # Create a job service object that represent a remote pbs cluster.\n",
      "        # The keyword 'pbs' in the url scheme triggers the PBS adaptors\n",
      "        # and '+ssh' enables PBS remote access via SSH.\n",
      "        js = saga.job.Service(\"pbs+ssh://%s\" % REMOTE_HOST, session=session)\n",
      "\n",
      "        # describe our job\n",
      "        jd = saga.job.Description()\n",
      "\n",
      "        job_script =  \"/home/GMI/hannes.svardal/test_project/analyses/20140114_optimise_staging/jobscript/add_files_stageout_mendel.sh\"\n",
      "        \n",
      "        # Next, we describe the job we want to run. A complete set of job\n",
      "        # description attributes can be found in the API documentation.\n",
      "        jd.environment     = {'MYOUTPUT':'\"Hello from SAGA\"'}\n",
      "        jd.executable      = '/bin/echo'\n",
      "        jd.arguments       = ['$MYOUTPUT']\n",
      "        jd.output          = \"/tmp/mysagajob.stdout\"\n",
      "        jd.error           \n",
      "        \n",
      "        # Create a new job from the job description. The initial state of\n",
      "        # the job is 'New'.\n",
      "        myjob = js.create_job(jd)\n",
      "\n",
      "        print dir(myjob)\n",
      "            \n",
      "        # Check our job's id and state\n",
      "        print \"Job ID    : %s\" % (myjob.id)\n",
      "        print \"Job State : %s\" % (myjob.state)\n",
      "\n",
      "        print \"\\n...starting job...\\n\"\n",
      "\n",
      "        # Now we can start our job.\n",
      "        myjob.run()\n",
      "\n",
      "        print \"Job ID    : %s\" % (myjob.id)\n",
      "        print \"Job State : %s\" % (myjob.state)\n",
      "\n",
      "        print \"\\n...waiting for job...\\n\"\n",
      "        # wait for the job to either finish or fail\n",
      "        myjob.wait()\n",
      "\n",
      "        print \"Job State : %s\" % (myjob.state)\n",
      "        print \"Exitcode  : %s\" % (myjob.exit_code)\n",
      "\n",
      "        outfilesource = 'sftp://%s/tmp/mysagajob.stdout' % REMOTE_HOST\n",
      "        outfiletarget = 'file://localhost/tmp/'\n",
      "        out = saga.filesystem.File(outfilesource, session=session)\n",
      "        out.copy(outfiletarget)\n",
      "\n",
      "        print \"Staged out %s to %s (size: %s bytes)\\n\" % (outfilesource, outfiletarget, out.get_size())\n",
      "\n",
      "\n",
      "        return 0\n",
      "\n",
      "    except saga.SagaException, ex:\n",
      "        # Catch all saga exceptions\n",
      "        print \"An exception occured: (%s) %s \" % (ex.type, (str(ex)))\n",
      "        # Trace back the exception. That can be helpful for debugging.\n",
      "        print \" \\n*** Backtrace:\\n %s\" % ex.traceback\n",
      "        return -1\n",
      "\n",
      "\n",
      "if __name__ == \"__main__\":\n",
      "    sys.exit(main())"
     ],
     "language": "python",
     "metadata": {},
     "outputs": [
      {
       "output_type": "stream",
       "stream": "stdout",
       "text": [
        "['ExitCode', 'JobID', 'ServiceURL', '_DOWN', '_UP', '__class__', '__contains__', '__deepcopy__', '__delattr__', '__delitem__', '__dict__', '__doc__', '__format__', '__getattr__', '__getattribute__', '__getitem__', '__hash__', '__init__', '__iter__', '__module__', '__new__', '__reduce__', '__reduce_ex__', '__repr__', '__setattr__', '__setitem__', '__sizeof__', '__str__', '__subclasshook__', '__weakref__', '_attributes_add_check', '_attributes_allow_private', '_attributes_camelcasing', '_attributes_deep_copy', '_attributes_dump', '_attributes_extensible', '_attributes_i_add_cb', '_attributes_i_del_cb', '_attributes_i_exists', '_attributes_i_find', '_attributes_i_get', '_attributes_i_is_extended', '_attributes_i_is_final', '_attributes_i_is_private', '_attributes_i_is_readonly', '_attributes_i_is_removable', '_attributes_i_is_vector', '_attributes_i_is_writeable', '_attributes_i_list', '_attributes_i_set', '_attributes_register', '_attributes_register_deprecated', '_attributes_remove', '_attributes_set_enums', '_attributes_set_final', '_attributes_set_getter', '_attributes_set_global_caller', '_attributes_set_global_getter', '_attributes_set_global_lister', '_attributes_set_global_setter', '_attributes_set_setter', '_attributes_set_ttl', '_attributes_t_call_caller', '_attributes_t_call_cb', '_attributes_t_call_getter', '_attributes_t_call_lister', '_attributes_t_call_setter', '_attributes_t_conversion', '_attributes_t_conversion_flavor', '_attributes_t_conversion_type', '_attributes_t_get_age', '_attributes_t_init', '_attributes_t_keycheck', '_attributes_t_underscore', '_attributes_t_wildcard2regex', '_attributes_unregister', '_camel_case_regex_1', '_camel_case_regex_2', '_d', '_get_apitype', '_get_created', '_get_execution_hosts', '_get_exit_code', '_get_finished', '_get_service_url', '_get_started', '_set_exception', '_set_metric', '_set_result', '_set_state', 'add_callback', 'as_dict', 'attribute_exists', 'attribute_is_readonly', 'attribute_is_removable', 'attribute_is_vector', 'attribute_is_writeable', 'cancel', 'checkpoint', 'clear', 'description', 'exception', 'find_attributes', 'get', 'get_attribute', 'get_description', 'get_exception', 'get_id', 'get_object', 'get_result', 'get_session', 'get_state', 'get_stderr', 'get_stdin', 'get_stdout', 'get_vector_attribute', 'has_key', 'id', 'items', 'iteritems', 'iterkeys', 'itervalues', 'keys', 'list_attributes', 'migrate', 'next', 'object', 'popitem', 're_raise', 'remove_attribute', 'remove_callback', 'result', 'resume', 'run', 'session', 'set_attribute', 'set_vector_attribute', 'setdefault', 'signal', 'state', 'stderr', 'stdout', 'suspend', 'update', 'values', 'wait']\n",
        "Job ID    : None\n",
        "Job State : New\n",
        "\n",
        "...starting job...\n",
        "\n",
        "An exception occured: (NoSuccess) Error running job via 'qsub': qsub: No project requested. Use qsub -P <name of project> ...\n",
        ". Commandline was: SCRIPTFILE=`mktemp -t SAGA-Python-PBSJobScript.XXXXXX` &&  echo \"\n",
        "#!/bin/bash \n",
        "#PBS -V \n",
        "#PBS -v MYOUTPUT=\\\"Hello from SAGA\\\", \n",
        "#PBS -o /tmp/mysagajob.stdout \n",
        "#PBS -l nodes=1:ppn=16 \n",
        "/bin/echo \\$MYOUTPUT \" > $SCRIPTFILE && /opt/pbs/default/bin/qsub $SCRIPTFILE && rm -f $SCRIPTFILE (/home/GMI/hannes.svardal/.local/lib/python2.7/site-packages/saga/adaptors/pbs/pbsjob.py +97 (log_error_and_raise)  :  raise exception(message)) "
       ]
      },
      {
       "ename": "SystemExit",
       "evalue": "-1",
       "output_type": "pyerr",
       "traceback": [
        "An exception has occurred, use %tb to see the full traceback.\n",
        "\u001b[1;31mSystemExit\u001b[0m\u001b[1;31m:\u001b[0m -1\n"
       ]
      },
      {
       "output_type": "stream",
       "stream": "stdout",
       "text": [
        "\n",
        " \n",
        "*** Backtrace:\n",
        "   File \"<string>\", line 1, in <module>\n",
        "  File \"/home/GMI/hannes.svardal/.local/lib/python2.7/site-packages/ipython-0.13.1-py2.7.egg/IPython/zmq/ipkernel.py\", line 918, in main\n",
        "    app.start()\n",
        "  File \"/home/GMI/hannes.svardal/.local/lib/python2.7/site-packages/ipython-0.13.1-py2.7.egg/IPython/zmq/kernelapp.py\", line 330, in start\n",
        "    ioloop.IOLoop.instance().start()\n",
        "  File \"/usr/local/lib/python2.7/dist-packages/zmq/eventloop/ioloop.py\", line 346, in start\n",
        "    self._handlers[fd](fd, events)\n",
        "  File \"/usr/local/lib/python2.7/dist-packages/zmq/eventloop/zmqstream.py\", line 427, in _handle_events\n",
        "    self._handle_recv()\n",
        "  File \"/usr/local/lib/python2.7/dist-packages/zmq/eventloop/zmqstream.py\", line 459, in _handle_recv\n",
        "    self._run_callback(callback, msg)\n",
        "  File \"/usr/local/lib/python2.7/dist-packages/zmq/eventloop/zmqstream.py\", line 401, in _run_callback\n",
        "    callback(*args, **kwargs)\n",
        "  File \"/home/GMI/hannes.svardal/.local/lib/python2.7/site-packages/ipython-0.13.1-py2.7.egg/IPython/zmq/ipkernel.py\", line 268, in dispatcher\n",
        "    return self.dispatch_shell(stream, msg)\n",
        "  File \"/home/GMI/hannes.svardal/.local/lib/python2.7/site-packages/ipython-0.13.1-py2.7.egg/IPython/zmq/ipkernel.py\", line 234, in dispatch_shell\n",
        "    handler(stream, idents, msg)\n",
        "  File \"/home/GMI/hannes.svardal/.local/lib/python2.7/site-packages/ipython-0.13.1-py2.7.egg/IPython/zmq/ipkernel.py\", line 366, in execute_request\n",
        "    shell.run_cell(code, store_history=not silent, silent=silent)\n",
        "  File \"/home/GMI/hannes.svardal/.local/lib/python2.7/site-packages/ipython-0.13.1-py2.7.egg/IPython/core/interactiveshell.py\", line 2592, in run_cell\n",
        "    interactivity=interactivity)\n",
        "  File \"/home/GMI/hannes.svardal/.local/lib/python2.7/site-packages/ipython-0.13.1-py2.7.egg/IPython/core/interactiveshell.py\", line 2665, in run_ast_nodes\n",
        "    if self.run_code(code):\n",
        "  File \"/home/GMI/hannes.svardal/.local/lib/python2.7/site-packages/ipython-0.13.1-py2.7.egg/IPython/core/interactiveshell.py\", line 2721, in run_code\n",
        "    exec code_obj in self.user_global_ns, self.user_ns\n",
        "  File \"<ipython-input-6-7ac455c64279>\", line 77, in <module>\n",
        "    sys.exit(main())\n",
        "  File \"<ipython-input-6-7ac455c64279>\", line 46, in main\n",
        "    myjob.run()\n",
        "  File \"/home/GMI/hannes.svardal/.local/lib/python2.7/site-packages/radical/utils/signatures.py\", line 446, in takes_invocation_proxy\n",
        "    return method(*pargs, **pkwargs)\n",
        "  File \"/home/GMI/hannes.svardal/.local/lib/python2.7/site-packages/radical/utils/signatures.py\", line 477, in returns_invocation_proxy\n",
        "    result = method (*args, **kwargs)\n",
        "  File \"/home/GMI/hannes.svardal/.local/lib/python2.7/site-packages/saga/job/job.py\", line 366, in run\n",
        "    return self._adaptor.run (ttype=ttype)\n",
        "  File \"/home/GMI/hannes.svardal/.local/lib/python2.7/site-packages/saga/adaptors/cpi/decorators.py\", line 51, in wrap_function\n",
        "    return sync_function (self, *args, **kwargs)\n",
        "  File \"/home/GMI/hannes.svardal/.local/lib/python2.7/site-packages/saga/adaptors/pbs/pbsjob.py\", line 1054, in run\n",
        "    self._id = self.js._job_run(self)\n",
        "  File \"/home/GMI/hannes.svardal/.local/lib/python2.7/site-packages/saga/adaptors/pbs/pbsjob.py\", line 603, in _job_run\n",
        "    log_error_and_raise(message, saga.NoSuccess, self._logger)\n",
        "  File \"/home/GMI/hannes.svardal/.local/lib/python2.7/site-packages/saga/adaptors/pbs/pbsjob.py\", line 97, in log_error_and_raise\n",
        "    raise exception(message)\n",
        "  File \"/home/GMI/hannes.svardal/.local/lib/python2.7/site-packages/saga/exceptions.py\", line 514, in __init__\n",
        "    SagaException.__init__ (self, msg, parent, api_object, from_log)\n",
        "\n"
       ]
      },
      {
       "output_type": "stream",
       "stream": "stderr",
       "text": [
        "To exit: use 'exit', 'quit', or Ctrl-D."
       ]
      }
     ],
     "prompt_number": 6
    },
    {
     "cell_type": "code",
     "collapsed": false,
     "input": [
      "import datetime"
     ],
     "language": "python",
     "metadata": {},
     "outputs": [],
     "prompt_number": 8
    },
    {
     "cell_type": "code",
     "collapsed": false,
     "input": [
      "max_walltime = 48\n",
      "max_walltime = datetime.timedelta(hours=max_walltime)"
     ],
     "language": "python",
     "metadata": {},
     "outputs": [],
     "prompt_number": 21
    },
    {
     "cell_type": "code",
     "collapsed": false,
     "input": [
      "def seconds(time_str):\n",
      "    times = map(int,time_str.split(\":\"))\n",
      "    if len(times) == 3:\n",
      "        return times[2] + 60*(times[1] +times[0]*60)   \n",
      "    else:\n",
      "        raise ValueError(\"walltime should have format 'HH:MM:SS'\")"
     ],
     "language": "python",
     "metadata": {},
     "outputs": [],
     "prompt_number": 44
    },
    {
     "cell_type": "code",
     "collapsed": false,
     "input": [
      "def time_str(seconds):\n",
      "    hours, remainder = divmod(seconds,3600)\n",
      "    minutes, seconds = divmod(remainder,60)\n",
      "    return \"{}:{}:{}\".format(hours,minutes,seconds)"
     ],
     "language": "python",
     "metadata": {},
     "outputs": [],
     "prompt_number": 45
    },
    {
     "cell_type": "code",
     "collapsed": false,
     "input": [
      "time_str(seconds(\"04:34:23\")+seconds(\"01:24:00\"))"
     ],
     "language": "python",
     "metadata": {},
     "outputs": [
      {
       "output_type": "pyout",
       "prompt_number": 47,
       "text": [
        "'5:58:23'"
       ]
      }
     ],
     "prompt_number": 47
    },
    {
     "cell_type": "code",
     "collapsed": false,
     "input": [
      "float('0.1')"
     ],
     "language": "python",
     "metadata": {},
     "outputs": [
      {
       "output_type": "pyout",
       "prompt_number": 30,
       "text": [
        "0.1"
       ]
      }
     ],
     "prompt_number": 30
    },
    {
     "cell_type": "code",
     "collapsed": false,
     "input": [
      "26//24"
     ],
     "language": "python",
     "metadata": {},
     "outputs": [
      {
       "output_type": "pyout",
       "prompt_number": 37,
       "text": [
        "1"
       ]
      }
     ],
     "prompt_number": 37
    },
    {
     "cell_type": "code",
     "collapsed": false,
     "input": [
      "import pandas as pd"
     ],
     "language": "python",
     "metadata": {},
     "outputs": [],
     "prompt_number": 51
    },
    {
     "cell_type": "code",
     "collapsed": false,
     "input": [
      "names = [\"Almond\",\"Hawthorn\",\"Peach\"]\n",
      "groupDF = pd.DataFrame({'Rank':[1,2,2],'Name':names})"
     ],
     "language": "python",
     "metadata": {},
     "outputs": [],
     "prompt_number": 73
    },
    {
     "cell_type": "code",
     "collapsed": false,
     "input": [
      "groupDF.loc[(groupDF['Rank']==2),'Name'].item()"
     ],
     "language": "python",
     "metadata": {},
     "outputs": [
      {
       "ename": "ValueError",
       "evalue": "can only convert an array  of size 1 to a Python scalar",
       "output_type": "pyerr",
       "traceback": [
        "\u001b[1;31m---------------------------------------------------------------------------\u001b[0m\n\u001b[1;31mValueError\u001b[0m                                Traceback (most recent call last)",
        "\u001b[1;32m<ipython-input-71-4ea8cd22cf2f>\u001b[0m in \u001b[0;36m<module>\u001b[1;34m()\u001b[0m\n\u001b[1;32m----> 1\u001b[1;33m \u001b[0mgroupDF\u001b[0m\u001b[1;33m.\u001b[0m\u001b[0mloc\u001b[0m\u001b[1;33m[\u001b[0m\u001b[1;33m(\u001b[0m\u001b[0mgroupDF\u001b[0m\u001b[1;33m[\u001b[0m\u001b[1;34m'Rank'\u001b[0m\u001b[1;33m]\u001b[0m\u001b[1;33m==\u001b[0m\u001b[1;36m2\u001b[0m\u001b[1;33m)\u001b[0m\u001b[1;33m,\u001b[0m\u001b[1;34m'Name'\u001b[0m\u001b[1;33m]\u001b[0m\u001b[1;33m.\u001b[0m\u001b[0mitem\u001b[0m\u001b[1;33m(\u001b[0m\u001b[1;33m)\u001b[0m\u001b[1;33m\u001b[0m\u001b[0m\n\u001b[0m",
        "\u001b[1;31mValueError\u001b[0m: can only convert an array  of size 1 to a Python scalar"
       ]
      }
     ],
     "prompt_number": 71
    },
    {
     "cell_type": "code",
     "collapsed": false,
     "input": [
      "groupDF.loc[(groupDF['Rank']==2),'Name'].iloc[0]"
     ],
     "language": "python",
     "metadata": {},
     "outputs": [
      {
       "output_type": "pyout",
       "prompt_number": 74,
       "text": [
        "'Hawthorn'"
       ]
      }
     ],
     "prompt_number": 74
    },
    {
     "cell_type": "code",
     "collapsed": false,
     "input": [
      "x = pd.read_csv('testfile.txt',delimiter=' ')"
     ],
     "language": "python",
     "metadata": {},
     "outputs": [],
     "prompt_number": 77
    },
    {
     "cell_type": "code",
     "collapsed": false,
     "input": [
      "x"
     ],
     "language": "python",
     "metadata": {},
     "outputs": [
      {
       "html": [
        "<div style=\"max-height:1000px;max-width:1500px;overflow:auto;\">\n",
        "<table border=\"1\" class=\"dataframe\">\n",
        "  <thead>\n",
        "    <tr style=\"text-align: right;\">\n",
        "      <th></th>\n",
        "      <th>H1</th>\n",
        "      <th>Unnamed: 1</th>\n",
        "      <th>Unnamed: 2</th>\n",
        "      <th>Unnamed: 3</th>\n",
        "      <th>H2</th>\n",
        "      <th>Unnamed: 5</th>\n",
        "      <th>Unnamed: 6</th>\n",
        "      <th>Unnamed: 7</th>\n",
        "      <th>H3</th>\n",
        "    </tr>\n",
        "  </thead>\n",
        "  <tbody>\n",
        "    <tr>\n",
        "      <th>0</th>\n",
        "      <td>  text1</td>\n",
        "      <td>NaN</td>\n",
        "      <td>NaN</td>\n",
        "      <td>NaN</td>\n",
        "      <td> text2with</td>\n",
        "      <td>NaN</td>\n",
        "      <td>NaN</td>\n",
        "      <td>NaN</td>\n",
        "      <td>   text3</td>\n",
        "    </tr>\n",
        "    <tr>\n",
        "      <th>1</th>\n",
        "      <td>    NaN</td>\n",
        "      <td>NaN</td>\n",
        "      <td>NaN</td>\n",
        "      <td>NaN</td>\n",
        "      <td>       NaN</td>\n",
        "      <td>NaN</td>\n",
        "      <td>NaN</td>\n",
        "      <td>NaN</td>\n",
        "      <td> runover</td>\n",
        "    </tr>\n",
        "    <tr>\n",
        "      <th>2</th>\n",
        "      <td> text1b</td>\n",
        "      <td>NaN</td>\n",
        "      <td>NaN</td>\n",
        "      <td>NaN</td>\n",
        "      <td>    text2b</td>\n",
        "      <td>NaN</td>\n",
        "      <td>NaN</td>\n",
        "      <td>NaN</td>\n",
        "      <td>  text3b</td>\n",
        "    </tr>\n",
        "  </tbody>\n",
        "</table>\n",
        "</div>"
       ],
       "output_type": "pyout",
       "prompt_number": 84,
       "text": [
        "       H1  Unnamed: 1  Unnamed: 2  Unnamed: 3         H2  Unnamed: 5  \\\n",
        "0   text1         NaN         NaN         NaN  text2with         NaN   \n",
        "1     NaN         NaN         NaN         NaN        NaN         NaN   \n",
        "2  text1b         NaN         NaN         NaN     text2b         NaN   \n",
        "\n",
        "   Unnamed: 6  Unnamed: 7       H3  \n",
        "0         NaN         NaN    text3  \n",
        "1         NaN         NaN  runover  \n",
        "2         NaN         NaN   text3b  "
       ]
      }
     ],
     "prompt_number": 84
    },
    {
     "cell_type": "code",
     "collapsed": false,
     "input": [
      "print x.iloc[:2,3:6]"
     ],
     "language": "python",
     "metadata": {},
     "outputs": [
      {
       "output_type": "stream",
       "stream": "stdout",
       "text": [
        "   Unnamed: 3         H2  Unnamed: 5\n",
        "0         NaN  text2with         NaN\n",
        "1         NaN        NaN         NaN\n"
       ]
      }
     ],
     "prompt_number": 85
    },
    {
     "cell_type": "code",
     "collapsed": false,
     "input": [],
     "language": "python",
     "metadata": {},
     "outputs": [
      {
       "ename": "NameError",
       "evalue": "name 'data1' is not defined",
       "output_type": "pyerr",
       "traceback": [
        "\u001b[1;31m---------------------------------------------------------------------------\u001b[0m\n\u001b[1;31mNameError\u001b[0m                                 Traceback (most recent call last)",
        "\u001b[1;32m<ipython-input-86-5c1b4f20c471>\u001b[0m in \u001b[0;36m<module>\u001b[1;34m()\u001b[0m\n\u001b[0;32m      1\u001b[0m \u001b[0mfig\u001b[0m \u001b[1;33m=\u001b[0m\u001b[0mplt\u001b[0m\u001b[1;33m.\u001b[0m\u001b[0mfigure\u001b[0m\u001b[1;33m(\u001b[0m\u001b[1;36m1\u001b[0m\u001b[1;33m)\u001b[0m\u001b[1;33m\u001b[0m\u001b[0m\n\u001b[0;32m      2\u001b[0m \u001b[1;32mfor\u001b[0m \u001b[0mi\u001b[0m \u001b[1;32min\u001b[0m \u001b[0mrange\u001b[0m\u001b[1;33m(\u001b[0m\u001b[1;36m0\u001b[0m\u001b[1;33m,\u001b[0m\u001b[1;36m2\u001b[0m\u001b[1;33m)\u001b[0m\u001b[1;33m:\u001b[0m\u001b[1;33m\u001b[0m\u001b[0m\n\u001b[1;32m----> 3\u001b[1;33m     \u001b[0memittx\u001b[0m\u001b[1;33m=\u001b[0m\u001b[0mdata1\u001b[0m\u001b[1;33m[\u001b[0m\u001b[0mi\u001b[0m\u001b[1;33m,\u001b[0m\u001b[1;36m1\u001b[0m\u001b[1;33m]\u001b[0m\u001b[1;33m;\u001b[0m\u001b[1;33m\u001b[0m\u001b[0m\n\u001b[0m\u001b[0;32m      4\u001b[0m     \u001b[0mturns\u001b[0m \u001b[1;33m=\u001b[0m \u001b[1;36m1\u001b[0m\u001b[1;33m+\u001b[0m\u001b[0mi\u001b[0m\u001b[1;33m;\u001b[0m\u001b[1;33m\u001b[0m\u001b[0m\n\u001b[0;32m      5\u001b[0m     \u001b[0mplt\u001b[0m\u001b[1;33m.\u001b[0m\u001b[0mplot\u001b[0m\u001b[1;33m(\u001b[0m\u001b[0mturns\u001b[0m\u001b[1;33m,\u001b[0m\u001b[0memittx\u001b[0m\u001b[1;33m,\u001b[0m\u001b[1;34m'-r'\u001b[0m\u001b[1;33m)\u001b[0m\u001b[1;33m\u001b[0m\u001b[0m\n",
        "\u001b[1;31mNameError\u001b[0m: name 'data1' is not defined"
       ]
      }
     ],
     "prompt_number": 86
    },
    {
     "cell_type": "code",
     "collapsed": false,
     "input": [],
     "language": "python",
     "metadata": {},
     "outputs": []
    }
   ],
   "metadata": {}
  }
 ]
}