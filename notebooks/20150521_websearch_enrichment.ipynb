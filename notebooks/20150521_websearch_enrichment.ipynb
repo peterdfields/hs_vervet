{
 "metadata": {
  "name": "",
  "signature": "sha256:1c4502d424dd80c0c61c980807133ff245d09eba2b74e76a1b45303c25be81bc"
 },
 "nbformat": 3,
 "nbformat_minor": 0,
 "worksheets": [
  {
   "cells": [
    {
     "cell_type": "code",
     "collapsed": false,
     "input": [
      "Enrichment of pubmed search terms for genes in combination with certain characters"
     ],
     "language": "python",
     "metadata": {},
     "outputs": []
    },
    {
     "cell_type": "code",
     "collapsed": false,
     "input": [
      "import os, requests\n",
      "import pandas as pd\n",
      "import numpy as np\n",
      "eu = os.path.expanduser\n",
      "jn = os.path.join\n",
      "%matplotlib inline\n",
      "from matplotlib import pyplot as plt"
     ],
     "language": "python",
     "metadata": {},
     "outputs": [],
     "prompt_number": 88
    },
    {
     "cell_type": "code",
     "collapsed": false,
     "input": [
      "meta_dir = eu(\"~/vervet_project/metadata\")\n",
      "gene_df_r100 = pd.read_csv(jn(meta_dir,\"annot_release100_genes.tsv\"),sep=\"\\t\",index_col=[0,1])"
     ],
     "language": "python",
     "metadata": {},
     "outputs": [],
     "prompt_number": 60
    },
    {
     "cell_type": "code",
     "collapsed": false,
     "input": [
      "all_genes = gene_df_r100['symbol'].unique()"
     ],
     "language": "python",
     "metadata": {},
     "outputs": [],
     "prompt_number": 63
    },
    {
     "cell_type": "code",
     "collapsed": false,
     "input": [
      "all_known_genes = [g for g in all_genes if g[:3]!='LOC']"
     ],
     "language": "python",
     "metadata": {},
     "outputs": [],
     "prompt_number": 64
    },
    {
     "cell_type": "code",
     "collapsed": false,
     "input": [],
     "language": "python",
     "metadata": {},
     "outputs": [
      {
       "metadata": {},
       "output_type": "pyout",
       "prompt_number": 67,
       "text": [
        "array(['DCST2', 'IL1R1', 'PRRC2C', 'NUDT13', 'GLMN'], \n",
        "      dtype='|S12')"
       ]
      }
     ],
     "prompt_number": 67
    },
    {
     "cell_type": "code",
     "collapsed": false,
     "input": [
      "r = requests.get('http://eutils.ncbi.nlm.nih.gov/entrez/eutils/esearch.fcgi?db=pubmed&term=GRIK2', auth=('user', 'pass'))"
     ],
     "language": "python",
     "metadata": {},
     "outputs": [],
     "prompt_number": 9
    },
    {
     "cell_type": "code",
     "collapsed": false,
     "input": [
      "r.text"
     ],
     "language": "python",
     "metadata": {},
     "outputs": [
      {
       "metadata": {},
       "output_type": "pyout",
       "prompt_number": 10,
       "text": [
        "u'<?xml version=\"1.0\" encoding=\"UTF-8\"?>\\n<!DOCTYPE eSearchResult PUBLIC \"-//NLM//DTD esearch 20060628//EN\" \"http://eutils.ncbi.nlm.nih.gov/eutils/dtd/20060628/esearch.dtd\">\\n<eSearchResult><Count>82</Count><RetMax>20</RetMax><RetStart>0</RetStart><IdList>\\n<Id>25842862</Id>\\n<Id>25749020</Id>\\n<Id>25351778</Id>\\n<Id>25238935</Id>\\n<Id>25199915</Id>\\n<Id>25039795</Id>\\n<Id>24986733</Id>\\n<Id>24821223</Id>\\n<Id>24753134</Id>\\n<Id>24662927</Id>\\n<Id>24449200</Id>\\n<Id>24311777</Id>\\n<Id>24253858</Id>\\n<Id>24040793</Id>\\n<Id>23871856</Id>\\n<Id>23669186</Id>\\n<Id>23660601</Id>\\n<Id>23223307</Id>\\n<Id>23154099</Id>\\n<Id>23076118</Id>\\n</IdList><TranslationSet/><TranslationStack>   <TermSet>    <Term>GRIK2[All Fields]</Term>    <Field>All Fields</Field>    <Count>82</Count>    <Explode>N</Explode>   </TermSet>   <OP>GROUP</OP>  </TranslationStack><QueryTranslation>GRIK2[All Fields]</QueryTranslation></eSearchResult>\\n'"
       ]
      }
     ],
     "prompt_number": 10
    },
    {
     "cell_type": "code",
     "collapsed": false,
     "input": [
      "r.json(encoding=r.encoding)"
     ],
     "language": "python",
     "metadata": {},
     "outputs": [
      {
       "ename": "JSONDecodeError",
       "evalue": "Expecting value: line 1 column 1 (char 0)",
       "output_type": "pyerr",
       "traceback": [
        "\u001b[1;31m---------------------------------------------------------------------------\u001b[0m\n\u001b[1;31mJSONDecodeError\u001b[0m                           Traceback (most recent call last)",
        "\u001b[1;32m<ipython-input-23-893a66a9cb5e>\u001b[0m in \u001b[0;36m<module>\u001b[1;34m()\u001b[0m\n\u001b[1;32m----> 1\u001b[1;33m \u001b[0mr\u001b[0m\u001b[1;33m.\u001b[0m\u001b[0mjson\u001b[0m\u001b[1;33m(\u001b[0m\u001b[0mencoding\u001b[0m\u001b[1;33m=\u001b[0m\u001b[0mr\u001b[0m\u001b[1;33m.\u001b[0m\u001b[0mencoding\u001b[0m\u001b[1;33m)\u001b[0m\u001b[1;33m\u001b[0m\u001b[0m\n\u001b[0m",
        "\u001b[1;32m/net/gmi.oeaw.ac.at/nordborg/user/hannes.svardal/Documents/Dropbox/Akademisches/lib/python/virtualenvs/ver/lib/python2.7/site-packages/requests/models.pyc\u001b[0m in \u001b[0;36mjson\u001b[1;34m(self, **kwargs)\u001b[0m\n\u001b[0;32m    817\u001b[0m                     \u001b[1;31m# used.\u001b[0m\u001b[1;33m\u001b[0m\u001b[1;33m\u001b[0m\u001b[0m\n\u001b[0;32m    818\u001b[0m                     \u001b[1;32mpass\u001b[0m\u001b[1;33m\u001b[0m\u001b[0m\n\u001b[1;32m--> 819\u001b[1;33m         \u001b[1;32mreturn\u001b[0m \u001b[0mjson\u001b[0m\u001b[1;33m.\u001b[0m\u001b[0mloads\u001b[0m\u001b[1;33m(\u001b[0m\u001b[0mself\u001b[0m\u001b[1;33m.\u001b[0m\u001b[0mtext\u001b[0m\u001b[1;33m,\u001b[0m \u001b[1;33m**\u001b[0m\u001b[0mkwargs\u001b[0m\u001b[1;33m)\u001b[0m\u001b[1;33m\u001b[0m\u001b[0m\n\u001b[0m\u001b[0;32m    820\u001b[0m \u001b[1;33m\u001b[0m\u001b[0m\n\u001b[0;32m    821\u001b[0m     \u001b[1;33m@\u001b[0m\u001b[0mproperty\u001b[0m\u001b[1;33m\u001b[0m\u001b[0m\n",
        "\u001b[1;32m/net/gmi.oeaw.ac.at/nordborg/user/hannes.svardal/Documents/Dropbox/Akademisches/lib/python/virtualenvs/ver/lib/python2.7/site-packages/simplejson/__init__.pyc\u001b[0m in \u001b[0;36mloads\u001b[1;34m(s, encoding, cls, object_hook, parse_float, parse_int, parse_constant, object_pairs_hook, use_decimal, **kw)\u001b[0m\n\u001b[0;32m    520\u001b[0m             \u001b[1;32mraise\u001b[0m \u001b[0mTypeError\u001b[0m\u001b[1;33m(\u001b[0m\u001b[1;34m\"use_decimal=True implies parse_float=Decimal\"\u001b[0m\u001b[1;33m)\u001b[0m\u001b[1;33m\u001b[0m\u001b[0m\n\u001b[0;32m    521\u001b[0m         \u001b[0mkw\u001b[0m\u001b[1;33m[\u001b[0m\u001b[1;34m'parse_float'\u001b[0m\u001b[1;33m]\u001b[0m \u001b[1;33m=\u001b[0m \u001b[0mDecimal\u001b[0m\u001b[1;33m\u001b[0m\u001b[0m\n\u001b[1;32m--> 522\u001b[1;33m     \u001b[1;32mreturn\u001b[0m \u001b[0mcls\u001b[0m\u001b[1;33m(\u001b[0m\u001b[0mencoding\u001b[0m\u001b[1;33m=\u001b[0m\u001b[0mencoding\u001b[0m\u001b[1;33m,\u001b[0m \u001b[1;33m**\u001b[0m\u001b[0mkw\u001b[0m\u001b[1;33m)\u001b[0m\u001b[1;33m.\u001b[0m\u001b[0mdecode\u001b[0m\u001b[1;33m(\u001b[0m\u001b[0ms\u001b[0m\u001b[1;33m)\u001b[0m\u001b[1;33m\u001b[0m\u001b[0m\n\u001b[0m\u001b[0;32m    523\u001b[0m \u001b[1;33m\u001b[0m\u001b[0m\n\u001b[0;32m    524\u001b[0m \u001b[1;33m\u001b[0m\u001b[0m\n",
        "\u001b[1;32m/net/gmi.oeaw.ac.at/nordborg/user/hannes.svardal/Documents/Dropbox/Akademisches/lib/python/virtualenvs/ver/lib/python2.7/site-packages/simplejson/decoder.pyc\u001b[0m in \u001b[0;36mdecode\u001b[1;34m(self, s, _w, _PY3)\u001b[0m\n\u001b[0;32m    368\u001b[0m         \u001b[1;32mif\u001b[0m \u001b[0m_PY3\u001b[0m \u001b[1;32mand\u001b[0m \u001b[0misinstance\u001b[0m\u001b[1;33m(\u001b[0m\u001b[0ms\u001b[0m\u001b[1;33m,\u001b[0m \u001b[0mbinary_type\u001b[0m\u001b[1;33m)\u001b[0m\u001b[1;33m:\u001b[0m\u001b[1;33m\u001b[0m\u001b[0m\n\u001b[0;32m    369\u001b[0m             \u001b[0ms\u001b[0m \u001b[1;33m=\u001b[0m \u001b[0ms\u001b[0m\u001b[1;33m.\u001b[0m\u001b[0mdecode\u001b[0m\u001b[1;33m(\u001b[0m\u001b[0mself\u001b[0m\u001b[1;33m.\u001b[0m\u001b[0mencoding\u001b[0m\u001b[1;33m)\u001b[0m\u001b[1;33m\u001b[0m\u001b[0m\n\u001b[1;32m--> 370\u001b[1;33m         \u001b[0mobj\u001b[0m\u001b[1;33m,\u001b[0m \u001b[0mend\u001b[0m \u001b[1;33m=\u001b[0m \u001b[0mself\u001b[0m\u001b[1;33m.\u001b[0m\u001b[0mraw_decode\u001b[0m\u001b[1;33m(\u001b[0m\u001b[0ms\u001b[0m\u001b[1;33m)\u001b[0m\u001b[1;33m\u001b[0m\u001b[0m\n\u001b[0m\u001b[0;32m    371\u001b[0m         \u001b[0mend\u001b[0m \u001b[1;33m=\u001b[0m \u001b[0m_w\u001b[0m\u001b[1;33m(\u001b[0m\u001b[0ms\u001b[0m\u001b[1;33m,\u001b[0m \u001b[0mend\u001b[0m\u001b[1;33m)\u001b[0m\u001b[1;33m.\u001b[0m\u001b[0mend\u001b[0m\u001b[1;33m(\u001b[0m\u001b[1;33m)\u001b[0m\u001b[1;33m\u001b[0m\u001b[0m\n\u001b[0;32m    372\u001b[0m         \u001b[1;32mif\u001b[0m \u001b[0mend\u001b[0m \u001b[1;33m!=\u001b[0m \u001b[0mlen\u001b[0m\u001b[1;33m(\u001b[0m\u001b[0ms\u001b[0m\u001b[1;33m)\u001b[0m\u001b[1;33m:\u001b[0m\u001b[1;33m\u001b[0m\u001b[0m\n",
        "\u001b[1;32m/net/gmi.oeaw.ac.at/nordborg/user/hannes.svardal/Documents/Dropbox/Akademisches/lib/python/virtualenvs/ver/lib/python2.7/site-packages/simplejson/decoder.pyc\u001b[0m in \u001b[0;36mraw_decode\u001b[1;34m(self, s, idx, _w, _PY3)\u001b[0m\n\u001b[0;32m    398\u001b[0m             \u001b[1;32melif\u001b[0m \u001b[0mord0\u001b[0m \u001b[1;33m==\u001b[0m \u001b[1;36m0xef\u001b[0m \u001b[1;32mand\u001b[0m \u001b[0ms\u001b[0m\u001b[1;33m[\u001b[0m\u001b[0midx\u001b[0m\u001b[1;33m:\u001b[0m\u001b[0midx\u001b[0m \u001b[1;33m+\u001b[0m \u001b[1;36m3\u001b[0m\u001b[1;33m]\u001b[0m \u001b[1;33m==\u001b[0m \u001b[1;34m'\\xef\\xbb\\xbf'\u001b[0m\u001b[1;33m:\u001b[0m\u001b[1;33m\u001b[0m\u001b[0m\n\u001b[0;32m    399\u001b[0m                 \u001b[0midx\u001b[0m \u001b[1;33m+=\u001b[0m \u001b[1;36m3\u001b[0m\u001b[1;33m\u001b[0m\u001b[0m\n\u001b[1;32m--> 400\u001b[1;33m         \u001b[1;32mreturn\u001b[0m \u001b[0mself\u001b[0m\u001b[1;33m.\u001b[0m\u001b[0mscan_once\u001b[0m\u001b[1;33m(\u001b[0m\u001b[0ms\u001b[0m\u001b[1;33m,\u001b[0m \u001b[0midx\u001b[0m\u001b[1;33m=\u001b[0m\u001b[0m_w\u001b[0m\u001b[1;33m(\u001b[0m\u001b[0ms\u001b[0m\u001b[1;33m,\u001b[0m \u001b[0midx\u001b[0m\u001b[1;33m)\u001b[0m\u001b[1;33m.\u001b[0m\u001b[0mend\u001b[0m\u001b[1;33m(\u001b[0m\u001b[1;33m)\u001b[0m\u001b[1;33m)\u001b[0m\u001b[1;33m\u001b[0m\u001b[0m\n\u001b[0m",
        "\u001b[1;31mJSONDecodeError\u001b[0m: Expecting value: line 1 column 1 (char 0)"
       ]
      }
     ],
     "prompt_number": 23
    },
    {
     "cell_type": "code",
     "collapsed": false,
     "input": [
      "def get_count(text):\n",
      "    return int(text.split('<Count>')[1].split('</Count>')[0])"
     ],
     "language": "python",
     "metadata": {},
     "outputs": [],
     "prompt_number": 14
    },
    {
     "cell_type": "code",
     "collapsed": false,
     "input": [
      "get_count(r.text)"
     ],
     "language": "python",
     "metadata": {},
     "outputs": [
      {
       "metadata": {},
       "output_type": "pyout",
       "prompt_number": 15,
       "text": [
        "82"
       ]
      }
     ],
     "prompt_number": 15
    },
    {
     "cell_type": "code",
     "collapsed": false,
     "input": [
      "high altitude"
     ],
     "language": "python",
     "metadata": {},
     "outputs": []
    },
    {
     "cell_type": "code",
     "collapsed": false,
     "input": [
      "top100_aet_vs_tan = ['BTNL8', 'ALOX15', 'MPDU1', 'FXR2', 'EIF4A1', 'SOX15', 'CD68', 'WWC2', 'TC2N', 'KDM3A', 'LOC103231321', 'LOC103231332', 'PNP', 'INS', 'TH', 'IGF2', 'LOC103241858', 'TBC1D5', 'STRN3', 'SENP3', 'LOC103231318', 'LOC103231317', 'GABRG3', 'LOC103233752', 'LOC103233755', 'KCNQ1', 'TMEM88', 'NAA38', 'LOC103242327', 'KDM6B', 'LOC103231393', 'DPH6', 'RAB1B', 'KLC2', 'CTDNEP1', 'GABARAP', 'CLDN7', 'ELP5', 'USP10', 'CCDC64', 'IREB2', 'CNIH2', 'ARHGAP5', 'LOC103222518', 'CHD1', 'FZR1', 'C6H19orf71', 'CLEC10A', 'HOXA4', 'DVL2', 'PHF23', 'FAM49B', 'LOC103219923', 'CHD2', 'YIF1A', 'MFSD12', 'SMG6', 'KDM2A', 'CHKA', 'URI1', 'NOVA1', 'IGF1R', 'DCTN1', 'LOC103224576', 'PACS1', 'SETD2', 'ANKRD28', 'LOC103241722', 'GPATCH8', 'ADAR', 'TDRP', 'LOC103242141', 'SCAF8', 'PPFIA1', 'LPHN1', 'LOC103234380', 'STAG1', 'TCIRG1', 'ARID1A', 'DMXL2', 'NDUFA9', 'EP300', 'PANK3', 'CYFIP1', 'ATRNL1', 'CEP112', 'DOHH', 'MBOAT2', 'ZNF511', 'TUBGCP2', 'RBM15', 'TDRD10', 'UBE2Q1', 'KMT2C', 'NBR1', 'DNAJC1', 'RALGAPB', 'SHANK2', 'ALDH1A3', 'LOC103231286']"
     ],
     "language": "python",
     "metadata": {},
     "outputs": [],
     "prompt_number": 24
    },
    {
     "cell_type": "code",
     "collapsed": false,
     "input": [
      "top_known = [g for g in top100_aet_vs_tan if g[:3]!='LOC']"
     ],
     "language": "python",
     "metadata": {},
     "outputs": [],
     "prompt_number": 25
    },
    {
     "cell_type": "code",
     "collapsed": false,
     "input": [
      "top_known[:3] "
     ],
     "language": "python",
     "metadata": {},
     "outputs": [
      {
       "metadata": {},
       "output_type": "pyout",
       "prompt_number": 27,
       "text": [
        "['BTNL8', 'ALOX15', 'MPDU1']"
       ]
      }
     ],
     "prompt_number": 27
    },
    {
     "cell_type": "code",
     "collapsed": false,
     "input": [
      "all_known_genes[:10]"
     ],
     "language": "python",
     "metadata": {},
     "outputs": [
      {
       "metadata": {},
       "output_type": "pyout",
       "prompt_number": 142,
       "text": [
        "['SCGB1C1',\n",
        " 'ODF3',\n",
        " 'BET1L',\n",
        " 'RIC8A',\n",
        " 'SIRT3',\n",
        " 'PSMD13',\n",
        " 'NLRP6',\n",
        " 'ATHL1',\n",
        " 'IFITM5',\n",
        " 'IFITM1']"
       ]
      }
     ],
     "prompt_number": 142
    },
    {
     "cell_type": "code",
     "collapsed": false,
     "input": [
      "def get_count_google(text):\n",
      "    try:\n",
      "        t0 = text.split('div class=\"sd\" id=\"resultStats\">')[1].split('</div>')[0]\n",
      "    except IndexError:\n",
      "        print \"no-result-stats:\", text.split('div class=\"sd\" id=\"resultStats\">')\n",
      "        return 0\n",
      "    try:\n",
      "        splits = t0.split()\n",
      "        for s in splits:\n",
      "            try:\n",
      "                t1 = int(s.replace('.',''))\n",
      "                break\n",
      "            except ValueError:\n",
      "                pass\n",
      "        if not splits:\n",
      "            if \"Es wurden keine mit Ihrer Suchanfrage\" in text:\n",
      "                print 'nosplits: kein resultat'\n",
      "            else:\n",
      "                print text\n",
      "                raise\n",
      "            return 0\n",
      "    except IndexError:\n",
      "        print 'no count:', t0\n",
      "        return 0\n",
      "    return t1\n",
      "    #count = int(text.split('div class=\"sd\" id=\"resultStats\">')[1].split(\"<\")[0].split()[1].replace('.',''))#.replaceAll(\"[^\\\\d]\", \"\")"
     ],
     "language": "python",
     "metadata": {},
     "outputs": [],
     "prompt_number": 108
    },
    {
     "cell_type": "code",
     "collapsed": false,
     "input": [],
     "language": "python",
     "metadata": {},
     "outputs": []
    },
    {
     "cell_type": "code",
     "collapsed": false,
     "input": [
      "\n",
      "gene = top_known[0]\n",
      "gene = 'GABARAP'\n",
      "term = 'high altitude adaptation'"
     ],
     "language": "python",
     "metadata": {},
     "outputs": [],
     "prompt_number": 43
    },
    {
     "cell_type": "code",
     "collapsed": false,
     "input": [
      "gene_only_counts = []\n",
      "for gene in top_known[:40]:\n",
      "    gene_only_r = requests.get('http://eutils.ncbi.nlm.nih.gov/entrez/eutils/'\n",
      "                           'esearch.fcgi?db=pubmed&term={}'.format(gene), \n",
      "                           auth=('user', 'pass'))\n",
      "    #gene_term_r = requests.get('http://eutils.ncbi.nlm.nih.gov/entrez/eutils/'\n",
      "    #                            'esearch.fcgi?db=pubmed&term={}AND{}'.format(gene,\"+\".join(term)), auth=('user', 'pass'))\n",
      "    gene_only_counts.append(get_count(gene_only_r.text))"
     ],
     "language": "python",
     "metadata": {},
     "outputs": [],
     "prompt_number": 135
    },
    {
     "cell_type": "code",
     "collapsed": false,
     "input": [
      "gene_only_counts"
     ],
     "language": "python",
     "metadata": {},
     "outputs": [
      {
       "metadata": {},
       "output_type": "pyout",
       "prompt_number": 136,
       "text": [
        "[2,\n",
        " 1126,\n",
        " 10,\n",
        " 59,\n",
        " 35,\n",
        " 38,\n",
        " 7947,\n",
        " 3,\n",
        " 6,\n",
        " 60,\n",
        " 3873,\n",
        " 9280,\n",
        " 6271797,\n",
        " 2361,\n",
        " 7,\n",
        " 15,\n",
        " 37,\n",
        " 39,\n",
        " 1533,\n",
        " 4,\n",
        " 6,\n",
        " 175,\n",
        " 5,\n",
        " 81,\n",
        " 17,\n",
        " 9,\n",
        " 215,\n",
        " 154,\n",
        " 11,\n",
        " 51,\n",
        " 1,\n",
        " 31,\n",
        " 5,\n",
        " 84,\n",
        " 189,\n",
        " 95,\n",
        " 0,\n",
        " 10,\n",
        " 120,\n",
        " 147]"
       ]
      }
     ],
     "prompt_number": 136
    },
    {
     "cell_type": "code",
     "collapsed": false,
     "input": [
      "bg_gene_only_counts_lists = []\n",
      "for i in range(10):\n",
      "    bg_gene_only_counts = []\n",
      "    for gene in np.random.choice(all_known_genes,40):\n",
      "\n",
      "        gene_only_r = requests.get('http://eutils.ncbi.nlm.nih.gov/entrez/eutils/'\n",
      "                           'esearch.fcgi?db=pubmed&term={}'.format(gene), \n",
      "                           auth=('user', 'pass'))\n",
      "        bg_gene_only_counts.append(get_count(gene_only_r.text))\n",
      "        #time.sleep(2+np.random.randn())\n",
      "    bg_gene_only_counts_lists.append(bg_gene_only_counts)"
     ],
     "language": "python",
     "metadata": {},
     "outputs": [],
     "prompt_number": 137
    },
    {
     "cell_type": "code",
     "collapsed": false,
     "input": [
      "d = np.array(gene_term_counts[:20])\n",
      "d.sort()\n",
      "plt.plot(d)\n",
      "for bg_gene_term_counts in bg_gene_only_counts_lists:\n",
      "    d2 = np.array(bg_gene_term_counts[:20])\n",
      "    d2.sort()\n",
      "    plt.plot(d2, color='r')\n",
      "ax = plt.gca()\n",
      "#ax.set_xlim([0,30])\n",
      "#ax.set_ylim([0,100])\n",
      "ax.set_yscale('log')"
     ],
     "language": "python",
     "metadata": {},
     "outputs": [
      {
       "metadata": {},
       "output_type": "display_data",
       "png": "[encoded data removed]",
       "text": [
        "<matplotlib.figure.Figure at 0x60a6d50>"
       ]
      }
     ],
     "prompt_number": 141
    },
    {
     "cell_type": "code",
     "collapsed": false,
     "input": [
      "term = 'cancer'"
     ],
     "language": "python",
     "metadata": {},
     "outputs": [],
     "prompt_number": 143
    },
    {
     "cell_type": "code",
     "collapsed": false,
     "input": [
      "gene_term_counts = []\n",
      "for gene in top_known[:40]:\n",
      "\n",
      "    gene_term_r = requests.get('http://eutils.ncbi.nlm.nih.gov/entrez/eutils/'\n",
      "                                'esearch.fcgi?db=pubmed&term={}AND{}'.format(gene,\"+\".join(term)), auth=('user', 'pass'))\n",
      "    gene_term_counts.append(get_count(gene_term_r.text))"
     ],
     "language": "python",
     "metadata": {},
     "outputs": [],
     "prompt_number": 144
    },
    {
     "cell_type": "code",
     "collapsed": false,
     "input": [
      "gene_term_counts"
     ],
     "language": "python",
     "metadata": {},
     "outputs": [
      {
       "metadata": {},
       "output_type": "pyout",
       "prompt_number": 147,
       "text": [
        "[0,\n",
        " 0,\n",
        " 0,\n",
        " 0,\n",
        " 0,\n",
        " 0,\n",
        " 0,\n",
        " 0,\n",
        " 0,\n",
        " 0,\n",
        " 0,\n",
        " 0,\n",
        " 0,\n",
        " 0,\n",
        " 0,\n",
        " 0,\n",
        " 0,\n",
        " 0,\n",
        " 0,\n",
        " 0,\n",
        " 0,\n",
        " 0,\n",
        " 0,\n",
        " 0,\n",
        " 0,\n",
        " 0,\n",
        " 0,\n",
        " 0,\n",
        " 0,\n",
        " 0,\n",
        " 0,\n",
        " 0,\n",
        " 0,\n",
        " 0,\n",
        " 0,\n",
        " 0,\n",
        " 0,\n",
        " 0,\n",
        " 0,\n",
        " 0]"
       ]
      }
     ],
     "prompt_number": 147
    },
    {
     "cell_type": "code",
     "collapsed": false,
     "input": [
      "bg_gene_only_counts_lists = []\n",
      "for i in range(10):\n",
      "    bg_gene_only_counts = []\n",
      "    for gene in np.random.choice(all_known_genes,40):\n",
      "\n",
      "        gene_only_r = requests.get('http://eutils.ncbi.nlm.nih.gov/entrez/eutils/'\n",
      "                           'esearch.fcgi?db=pubmed&term={}'.format(gene), \n",
      "                           auth=('user', 'pass'))\n",
      "        bg_gene_only_counts.append(get_count(gene_only_r.text))\n",
      "        #time.sleep(2+np.random.randn())\n",
      "    bg_gene_only_counts_lists.append(bg_gene_only_counts)"
     ],
     "language": "python",
     "metadata": {},
     "outputs": []
    },
    {
     "cell_type": "code",
     "collapsed": false,
     "input": [
      "import warnings\n",
      "warnings.filterwarnings('ignore')"
     ],
     "language": "python",
     "metadata": {},
     "outputs": [],
     "prompt_number": 79
    },
    {
     "cell_type": "code",
     "collapsed": false,
     "input": [
      "gene_only_counts = []\n",
      "gene_term_counts = []\n",
      "for gene in top_known[:40]:\n",
      "    gene_only_r = requests.get('https://www.google.com/search?q={}'.format(gene), \n",
      "                                                           auth=('user', 'pass'))\n",
      "    gene_term_r = requests.get(\"https://www.google.com/search?q={}+AND+%22{}%22\".format(gene,\"+\".join(term)),\n",
      "                                                                                   auth=('user', 'pass'))\n",
      "    gene_only_counts.append(get_count_google(gene_only_r.text))\n",
      "    gene_term_counts.append(get_count_google(gene_term_r.text))"
     ],
     "language": "python",
     "metadata": {},
     "outputs": [
      {
       "output_type": "stream",
       "stream": "stdout",
       "text": [
        "nosplits: \n",
        "nosplits:"
       ]
      },
      {
       "output_type": "stream",
       "stream": "stdout",
       "text": [
        " \n",
        "nosplits:"
       ]
      },
      {
       "output_type": "stream",
       "stream": "stdout",
       "text": [
        " \n",
        "nosplits:"
       ]
      },
      {
       "output_type": "stream",
       "stream": "stdout",
       "text": [
        " \n",
        "nosplits:"
       ]
      },
      {
       "output_type": "stream",
       "stream": "stdout",
       "text": [
        " \n",
        "nosplits:"
       ]
      },
      {
       "output_type": "stream",
       "stream": "stdout",
       "text": [
        " \n",
        "nosplits:"
       ]
      },
      {
       "output_type": "stream",
       "stream": "stdout",
       "text": [
        " \n",
        "nosplits:"
       ]
      },
      {
       "output_type": "stream",
       "stream": "stdout",
       "text": [
        " \n",
        "nosplits:"
       ]
      },
      {
       "output_type": "stream",
       "stream": "stdout",
       "text": [
        " \n",
        "nosplits:"
       ]
      },
      {
       "output_type": "stream",
       "stream": "stdout",
       "text": [
        " \n",
        "nosplits:"
       ]
      },
      {
       "output_type": "stream",
       "stream": "stdout",
       "text": [
        " \n",
        "nosplits:"
       ]
      },
      {
       "output_type": "stream",
       "stream": "stdout",
       "text": [
        " \n",
        "nosplits:"
       ]
      },
      {
       "output_type": "stream",
       "stream": "stdout",
       "text": [
        " \n",
        "nosplits: \n",
        "nosplits:"
       ]
      },
      {
       "output_type": "stream",
       "stream": "stdout",
       "text": [
        " \n"
       ]
      }
     ],
     "prompt_number": 102
    },
    {
     "cell_type": "code",
     "collapsed": false,
     "input": [
      "import time"
     ],
     "language": "python",
     "metadata": {},
     "outputs": [],
     "prompt_number": 121
    },
    {
     "cell_type": "code",
     "collapsed": false,
     "input": [
      "gene_term_counts"
     ],
     "language": "python",
     "metadata": {},
     "outputs": [
      {
       "metadata": {},
       "output_type": "pyout",
       "prompt_number": 130,
       "text": [
        "[0,\n",
        " 67,\n",
        " 1,\n",
        " 5,\n",
        " 7,\n",
        " 1970,\n",
        " 1210,\n",
        " 109,\n",
        " 1,\n",
        " 271,\n",
        " 2970,\n",
        " 24200,\n",
        " 24400,\n",
        " 4590,\n",
        " 1,\n",
        " 0,\n",
        " 9,\n",
        " 0,\n",
        " 1610,\n",
        " 0,\n",
        " 0,\n",
        " 67,\n",
        " 0,\n",
        " 2,\n",
        " 5,\n",
        " 0,\n",
        " 24,\n",
        " 0,\n",
        " 0,\n",
        " 8,\n",
        " 3,\n",
        " 0,\n",
        " 0,\n",
        " 0,\n",
        " 126,\n",
        " 5,\n",
        " 0,\n",
        " 2,\n",
        " 0,\n",
        " 5]"
       ]
      }
     ],
     "prompt_number": 130
    },
    {
     "cell_type": "code",
     "collapsed": false,
     "input": [
      "bg_gene_term_counts_lists = [bg_gene_term_counts[:40]]"
     ],
     "language": "python",
     "metadata": {},
     "outputs": []
    },
    {
     "cell_type": "code",
     "collapsed": false,
     "input": [
      "for i in range(10):\n",
      "    bg_gene_term_counts = []\n",
      "    for gene in np.random.choice(all_known_genes,40):\n",
      "        #gene_only_r = requests.get('https://www.google.com/search?q={}'.format(gene), \n",
      "        #                                                       auth=('user', 'pass'))\n",
      "        gene_term_r = requests.get(\"https://www.google.com/search?q={}+AND+%22{}%22\".format(gene,\"+\".join(term)),\n",
      "                                                                                       auth=('user', 'pass'))\n",
      "        bg_gene_term_counts.append(get_count_google(gene_term_r.text))\n",
      "        time.sleep(2+np.random.randn())\n",
      "    bg_gene_term_counts_lists.append(bg_gene_term_count)"
     ],
     "language": "python",
     "metadata": {},
     "outputs": [
      {
       "output_type": "stream",
       "stream": "stdout",
       "text": [
        "no-result-stats: [u'<!DOCTYPE html PUBLIC \"-//W3C//DTD HTML 4.01 Transitional//EN\">\\n<html>\\n<head><meta http-equiv=\"content-type\" content=\"text/html; charset=utf-8\"><meta name=\"viewport\" content=\"initial-scale=1\"><title>https://www.google.com/search?q=FERMT3+AND+%22h+i+g+h+%20+a+l+t+i+t+u+d+e+%20+a+d+a+p+t+a+t+i+o+n%22</title></head>\\n<body style=\"font-family: arial, sans-serif; background-color: #fff; color: #000; padding:20px; font-size:18px;\" onload=\"e=document.getElementById(\\'captcha\\');if(e){e.focus();}\">\\n<div style=\"max-width:400px;\">\\n <hr noshade size=\"1\" style=\"color:#ccc; background-color:#ccc;\"><br>\\n \\n  To continue, please type the characters below:<br><br>\\n  <img src=\"/sorry/image?id=2174449672857346778&amp;hl=en\" border=\"1\" alt=\"Please enable images\"><br><br><form action=\"CaptchaRedirect\" method=\"get\"><input type=\"hidden\" name=\"continue\" value=\"https://www.google.com/search?q=FERMT3+AND+%22h+i+g+h+%20+a+l+t+i+t+u+d+e+%20+a+d+a+p+t+a+t+i+o+n%22\"><input type=\"hidden\" name=\"id\" value=\"2174449672857346778\"><input type=\"text\" name=\"captcha\" value=\"\" id=\"captcha\" size=\"12\" style=\"font-size:16px; padding:3px 0 3px 5px; margin-left:0px;\"><input type=\"submit\" name=\"submit\" value=\"Submit\" style=\"font-size:18px; padding:4px 0;\"><br><br><br></form>\\n  <hr noshade size=\"1\" style=\"color:#ccc; background-color:#ccc;\">\\n  \\n   <div style=\"font-size:13px;\">\\n    <b>About this page</b><br><br>Our systems have detected unusual traffic from your computer network.  This page checks to see if it&#39;s really you sending the requests, and not a robot.  <a href=\"#\" onclick=\"document.getElementById(\\'infoDiv\\').style.display=\\'block\\';\">Why did this happen?</a><br><br>\\n    <div id=\"infoDiv\" style=\"display:none; background-color:#eee; padding:10px; margin:0 0 15px 0; line-height:1.4em;\">\\n     This page appears when Google automatically detects requests coming from your computer network which appear to be in violation of the <a href=\"//www.google.com/policies/terms/\">Terms of Service</a>. The block will expire shortly after those requests stop.  In the meantime, solving the above CAPTCHA will let you continue to use our services.<br><br>This traffic may have been sent by malicious software, a browser plug-in, or a script that sends automated requests.  If you share your network connection, ask your administrator for help &mdash; a different computer using the same IP address may be responsible.  <a href=\"//support.google.com/websearch/answer/86640\">Learn more</a><br><br>Sometimes you may be asked to solve the CAPTCHA if you are using advanced terms that robots are known to use, or sending requests very quickly.\\n    </div>\\n  \\n  \\n \\n \\n IP address: 193.170.94.190<br>Time: 2015-05-21T14:53:40Z<br>URL: https://www.google.com/search?q=FERMT3+AND+%22h+i+g+h+%20+a+l+t+i+t+u+d+e+%20+a+d+a+p+t+a+t+i+o+n%22<br>\\n </div>\\n</div>\\n</body>\\n</html>\\n']\n",
        "no-result-stats:"
       ]
      },
      {
       "output_type": "stream",
       "stream": "stdout",
       "text": [
        " [u'<!DOCTYPE html PUBLIC \"-//W3C//DTD HTML 4.01 Transitional//EN\">\\n<html>\\n<head><meta http-equiv=\"content-type\" content=\"text/html; charset=utf-8\"><meta name=\"viewport\" content=\"initial-scale=1\"><title>https://www.google.com/search?q=MAML2+AND+%22h+i+g+h+%20+a+l+t+i+t+u+d+e+%20+a+d+a+p+t+a+t+i+o+n%22</title></head>\\n<body style=\"font-family: arial, sans-serif; background-color: #fff; color: #000; padding:20px; font-size:18px;\" onload=\"e=document.getElementById(\\'captcha\\');if(e){e.focus();}\">\\n<div style=\"max-width:400px;\">\\n <hr noshade size=\"1\" style=\"color:#ccc; background-color:#ccc;\"><br>\\n \\n  To continue, please type the characters below:<br><br>\\n  <img src=\"/sorry/image?id=7989500140130363452&amp;hl=en\" border=\"1\" alt=\"Please enable images\"><br><br><form action=\"CaptchaRedirect\" method=\"get\"><input type=\"hidden\" name=\"continue\" value=\"https://www.google.com/search?q=MAML2+AND+%22h+i+g+h+%20+a+l+t+i+t+u+d+e+%20+a+d+a+p+t+a+t+i+o+n%22\"><input type=\"hidden\" name=\"id\" value=\"7989500140130363452\"><input type=\"text\" name=\"captcha\" value=\"\" id=\"captcha\" size=\"12\" style=\"font-size:16px; padding:3px 0 3px 5px; margin-left:0px;\"><input type=\"submit\" name=\"submit\" value=\"Submit\" style=\"font-size:18px; padding:4px 0;\"><br><br><br></form>\\n  <hr noshade size=\"1\" style=\"color:#ccc; background-color:#ccc;\">\\n  \\n   <div style=\"font-size:13px;\">\\n    <b>About this page</b><br><br>Our systems have detected unusual traffic from your computer network.  This page checks to see if it&#39;s really you sending the requests, and not a robot.  <a href=\"#\" onclick=\"document.getElementById(\\'infoDiv\\').style.display=\\'block\\';\">Why did this happen?</a><br><br>\\n    <div id=\"infoDiv\" style=\"display:none; background-color:#eee; padding:10px; margin:0 0 15px 0; line-height:1.4em;\">\\n     This page appears when Google automatically detects requests coming from your computer network which appear to be in violation of the <a href=\"//www.google.com/policies/terms/\">Terms of Service</a>. The block will expire shortly after those requests stop.  In the meantime, solving the above CAPTCHA will let you continue to use our services.<br><br>This traffic may have been sent by malicious software, a browser plug-in, or a script that sends automated requests.  If you share your network connection, ask your administrator for help &mdash; a different computer using the same IP address may be responsible.  <a href=\"//support.google.com/websearch/answer/86640\">Learn more</a><br><br>Sometimes you may be asked to solve the CAPTCHA if you are using advanced terms that robots are known to use, or sending requests very quickly.\\n    </div>\\n  \\n  \\n \\n \\n IP address: 193.170.94.190<br>Time: 2015-05-21T14:53:42Z<br>URL: https://www.google.com/search?q=MAML2+AND+%22h+i+g+h+%20+a+l+t+i+t+u+d+e+%20+a+d+a+p+t+a+t+i+o+n%22<br>\\n </div>\\n</div>\\n</body>\\n</html>\\n']\n",
        "no-result-stats:"
       ]
      },
      {
       "output_type": "stream",
       "stream": "stdout",
       "text": [
        " [u'<!DOCTYPE html PUBLIC \"-//W3C//DTD HTML 4.01 Transitional//EN\">\\n<html>\\n<head><meta http-equiv=\"content-type\" content=\"text/html; charset=utf-8\"><meta name=\"viewport\" content=\"initial-scale=1\"><title>https://www.google.com/search?q=EXOSC5+AND+%22h+i+g+h+%20+a+l+t+i+t+u+d+e+%20+a+d+a+p+t+a+t+i+o+n%22</title></head>\\n<body style=\"font-family: arial, sans-serif; background-color: #fff; color: #000; padding:20px; font-size:18px;\" onload=\"e=document.getElementById(\\'captcha\\');if(e){e.focus();}\">\\n<div style=\"max-width:400px;\">\\n <hr noshade size=\"1\" style=\"color:#ccc; background-color:#ccc;\"><br>\\n \\n  To continue, please type the characters below:<br><br>\\n  <img src=\"/sorry/image?id=12696971013644648570&amp;hl=en\" border=\"1\" alt=\"Please enable images\"><br><br><form action=\"CaptchaRedirect\" method=\"get\"><input type=\"hidden\" name=\"continue\" value=\"https://www.google.com/search?q=EXOSC5+AND+%22h+i+g+h+%20+a+l+t+i+t+u+d+e+%20+a+d+a+p+t+a+t+i+o+n%22\"><input type=\"hidden\" name=\"id\" value=\"12696971013644648570\"><input type=\"text\" name=\"captcha\" value=\"\" id=\"captcha\" size=\"12\" style=\"font-size:16px; padding:3px 0 3px 5px; margin-left:0px;\"><input type=\"submit\" name=\"submit\" value=\"Submit\" style=\"font-size:18px; padding:4px 0;\"><br><br><br></form>\\n  <hr noshade size=\"1\" style=\"color:#ccc; background-color:#ccc;\">\\n  \\n   <div style=\"font-size:13px;\">\\n    <b>About this page</b><br><br>Our systems have detected unusual traffic from your computer network.  This page checks to see if it&#39;s really you sending the requests, and not a robot.  <a href=\"#\" onclick=\"document.getElementById(\\'infoDiv\\').style.display=\\'block\\';\">Why did this happen?</a><br><br>\\n    <div id=\"infoDiv\" style=\"display:none; background-color:#eee; padding:10px; margin:0 0 15px 0; line-height:1.4em;\">\\n     This page appears when Google automatically detects requests coming from your computer network which appear to be in violation of the <a href=\"//www.google.com/policies/terms/\">Terms of Service</a>. The block will expire shortly after those requests stop.  In the meantime, solving the above CAPTCHA will let you continue to use our services.<br><br>This traffic may have been sent by malicious software, a browser plug-in, or a script that sends automated requests.  If you share your network connection, ask your administrator for help &mdash; a different computer using the same IP address may be responsible.  <a href=\"//support.google.com/websearch/answer/86640\">Learn more</a><br><br>Sometimes you may be asked to solve the CAPTCHA if you are using advanced terms that robots are known to use, or sending requests very quickly.\\n    </div>\\n  \\n  \\n \\n \\n IP address: 193.170.94.190<br>Time: 2015-05-21T14:53:44Z<br>URL: https://www.google.com/search?q=EXOSC5+AND+%22h+i+g+h+%20+a+l+t+i+t+u+d+e+%20+a+d+a+p+t+a+t+i+o+n%22<br>\\n </div>\\n</div>\\n</body>\\n</html>\\n']\n",
        "no-result-stats:"
       ]
      },
      {
       "output_type": "stream",
       "stream": "stdout",
       "text": [
        " [u'<!DOCTYPE html PUBLIC \"-//W3C//DTD HTML 4.01 Transitional//EN\">\\n<html>\\n<head><meta http-equiv=\"content-type\" content=\"text/html; charset=utf-8\"><meta name=\"viewport\" content=\"initial-scale=1\"><title>https://www.google.com/search?q=MDM2+AND+%22h+i+g+h+%20+a+l+t+i+t+u+d+e+%20+a+d+a+p+t+a+t+i+o+n%22</title></head>\\n<body style=\"font-family: arial, sans-serif; background-color: #fff; color: #000; padding:20px; font-size:18px;\" onload=\"e=document.getElementById(\\'captcha\\');if(e){e.focus();}\">\\n<div style=\"max-width:400px;\">\\n <hr noshade size=\"1\" style=\"color:#ccc; background-color:#ccc;\"><br>\\n \\n  To continue, please type the characters below:<br><br>\\n  <img src=\"/sorry/image?id=8527078542540171783&amp;hl=en\" border=\"1\" alt=\"Please enable images\"><br><br><form action=\"CaptchaRedirect\" method=\"get\"><input type=\"hidden\" name=\"continue\" value=\"https://www.google.com/search?q=MDM2+AND+%22h+i+g+h+%20+a+l+t+i+t+u+d+e+%20+a+d+a+p+t+a+t+i+o+n%22\"><input type=\"hidden\" name=\"id\" value=\"8527078542540171783\"><input type=\"text\" name=\"captcha\" value=\"\" id=\"captcha\" size=\"12\" style=\"font-size:16px; padding:3px 0 3px 5px; margin-left:0px;\"><input type=\"submit\" name=\"submit\" value=\"Submit\" style=\"font-size:18px; padding:4px 0;\"><br><br><br></form>\\n  <hr noshade size=\"1\" style=\"color:#ccc; background-color:#ccc;\">\\n  \\n   <div style=\"font-size:13px;\">\\n    <b>About this page</b><br><br>Our systems have detected unusual traffic from your computer network.  This page checks to see if it&#39;s really you sending the requests, and not a robot.  <a href=\"#\" onclick=\"document.getElementById(\\'infoDiv\\').style.display=\\'block\\';\">Why did this happen?</a><br><br>\\n    <div id=\"infoDiv\" style=\"display:none; background-color:#eee; padding:10px; margin:0 0 15px 0; line-height:1.4em;\">\\n     This page appears when Google automatically detects requests coming from your computer network which appear to be in violation of the <a href=\"//www.google.com/policies/terms/\">Terms of Service</a>. The block will expire shortly after those requests stop.  In the meantime, solving the above CAPTCHA will let you continue to use our services.<br><br>This traffic may have been sent by malicious software, a browser plug-in, or a script that sends automated requests.  If you share your network connection, ask your administrator for help &mdash; a different computer using the same IP address may be responsible.  <a href=\"//support.google.com/websearch/answer/86640\">Learn more</a><br><br>Sometimes you may be asked to solve the CAPTCHA if you are using advanced terms that robots are known to use, or sending requests very quickly.\\n    </div>\\n  \\n  \\n \\n \\n IP address: 193.170.94.190<br>Time: 2015-05-21T14:53:49Z<br>URL: https://www.google.com/search?q=MDM2+AND+%22h+i+g+h+%20+a+l+t+i+t+u+d+e+%20+a+d+a+p+t+a+t+i+o+n%22<br>\\n </div>\\n</div>\\n</body>\\n</html>\\n']\n"
       ]
      },
      {
       "ename": "KeyboardInterrupt",
       "evalue": "",
       "output_type": "pyerr",
       "traceback": [
        "\u001b[1;31m---------------------------------------------------------------------------\u001b[0m\n\u001b[1;31mKeyboardInterrupt\u001b[0m                         Traceback (most recent call last)",
        "\u001b[1;32m<ipython-input-129-38175f3cf2c3>\u001b[0m in \u001b[0;36m<module>\u001b[1;34m()\u001b[0m\n\u001b[0;32m      7\u001b[0m                                                                                        auth=('user', 'pass'))\n\u001b[0;32m      8\u001b[0m         \u001b[0mbg_gene_term_counts\u001b[0m\u001b[1;33m.\u001b[0m\u001b[0mappend\u001b[0m\u001b[1;33m(\u001b[0m\u001b[0mget_count_google\u001b[0m\u001b[1;33m(\u001b[0m\u001b[0mgene_term_r\u001b[0m\u001b[1;33m.\u001b[0m\u001b[0mtext\u001b[0m\u001b[1;33m)\u001b[0m\u001b[1;33m)\u001b[0m\u001b[1;33m\u001b[0m\u001b[0m\n\u001b[1;32m----> 9\u001b[1;33m         \u001b[0mtime\u001b[0m\u001b[1;33m.\u001b[0m\u001b[0msleep\u001b[0m\u001b[1;33m(\u001b[0m\u001b[1;36m2\u001b[0m\u001b[1;33m+\u001b[0m\u001b[0mnp\u001b[0m\u001b[1;33m.\u001b[0m\u001b[0mrandom\u001b[0m\u001b[1;33m.\u001b[0m\u001b[0mrandn\u001b[0m\u001b[1;33m(\u001b[0m\u001b[1;33m)\u001b[0m\u001b[1;33m)\u001b[0m\u001b[1;33m\u001b[0m\u001b[0m\n\u001b[0m\u001b[0;32m     10\u001b[0m     \u001b[0mbg_gene_term_counts_lists\u001b[0m\u001b[1;33m.\u001b[0m\u001b[0mappend\u001b[0m\u001b[1;33m(\u001b[0m\u001b[0mbg_gene_term_count\u001b[0m\u001b[1;33m)\u001b[0m\u001b[1;33m\u001b[0m\u001b[0m\n",
        "\u001b[1;31mKeyboardInterrupt\u001b[0m: "
       ]
      }
     ],
     "prompt_number": 129
    },
    {
     "cell_type": "code",
     "collapsed": false,
     "input": [],
     "language": "python",
     "metadata": {},
     "outputs": [
      {
       "metadata": {},
       "output_type": "pyout",
       "prompt_number": 128,
       "text": [
        "[2250,\n",
        " 172000,\n",
        " 414000,\n",
        " 657000,\n",
        " 25100,\n",
        " 20600,\n",
        " 78300,\n",
        " 30800,\n",
        " 24100,\n",
        " 53000,\n",
        " 113000,\n",
        " 665000,\n",
        " 64700000,\n",
        " 10400,\n",
        " 73800,\n",
        " 11800,\n",
        " 95000,\n",
        " 3,\n",
        " 108000,\n",
        " 6490000,\n",
        " 11200,\n",
        " 264000,\n",
        " 12000,\n",
        " 6240,\n",
        " 58400,\n",
        " 2,\n",
        " 390000,\n",
        " 9830,\n",
        " 820,\n",
        " 302000,\n",
        " 57400,\n",
        " 18600,\n",
        " 48100,\n",
        " 8200,\n",
        " 10000,\n",
        " 2760,\n",
        " 9930,\n",
        " 20100,\n",
        " 249000,\n",
        " 223000]"
       ]
      }
     ],
     "prompt_number": 128
    },
    {
     "cell_type": "code",
     "collapsed": false,
     "input": [
      "d = np.array(gene_term_counts)\n",
      "d.sort()\n",
      "plt.plot(d)\n",
      "d2 = np.array(bg_gene_term_counts[:40])\n",
      "d2.sort()\n",
      "plt.plot(d2, color='r')\n",
      "ax = plt.gca()\n",
      "#ax.set_xlim([0,30])\n",
      "#ax.set_ylim([0,100])\n",
      "ax.set_yscale('log')"
     ],
     "language": "python",
     "metadata": {},
     "outputs": [
      {
       "metadata": {},
       "output_type": "display_data",
       "png": "[encoded data removed]",
       "text": [
        "<matplotlib.figure.Figure at 0x57185d0>"
       ]
      }
     ],
     "prompt_number": 120
    },
    {
     "cell_type": "code",
     "collapsed": false,
     "input": [
      "d = np.array(gene_only_counts)\n",
      "d.sort()\n",
      "plt.plot(d)\n",
      "d2 = np.array(bg_gene_only_counts[:40])\n",
      "d2.sort()\n",
      "plt.plot(d2,color='r')"
     ],
     "language": "python",
     "metadata": {},
     "outputs": [
      {
       "metadata": {},
       "output_type": "pyout",
       "prompt_number": 116,
       "text": [
        "[<matplotlib.lines.Line2D at 0x585fb50>]"
       ]
      },
      {
       "metadata": {},
       "output_type": "display_data",
       "png": "[encoded data removed]",
       "text": [
        "<matplotlib.figure.Figure at 0x5718650>"
       ]
      }
     ],
     "prompt_number": 116
    },
    {
     "cell_type": "code",
     "collapsed": false,
     "input": [
      "bg_gene_only_counts[:40]"
     ],
     "language": "python",
     "metadata": {},
     "outputs": [
      {
       "metadata": {},
       "output_type": "pyout",
       "prompt_number": 117,
       "text": [
        "[2250,\n",
        " 172000,\n",
        " 414000,\n",
        " 657000,\n",
        " 25100,\n",
        " 20600,\n",
        " 78300,\n",
        " 30800,\n",
        " 24100,\n",
        " 53000,\n",
        " 113000,\n",
        " 665000,\n",
        " 64700000,\n",
        " 10400,\n",
        " 73800,\n",
        " 11800,\n",
        " 95000,\n",
        " 3,\n",
        " 108000,\n",
        " 6490000,\n",
        " 11200,\n",
        " 264000,\n",
        " 12000,\n",
        " 6240,\n",
        " 58400,\n",
        " 2,\n",
        " 390000,\n",
        " 9830,\n",
        " 820,\n",
        " 302000,\n",
        " 57400,\n",
        " 18600,\n",
        " 48100,\n",
        " 8200,\n",
        " 10000,\n",
        " 2760,\n",
        " 9930,\n",
        " 20100,\n",
        " 249000,\n",
        " 223000]"
       ]
      }
     ],
     "prompt_number": 117
    },
    {
     "cell_type": "code",
     "collapsed": false,
     "input": [],
     "language": "python",
     "metadata": {},
     "outputs": []
    }
   ],
   "metadata": {}
  }
 ]
}