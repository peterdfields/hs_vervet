{
 "metadata": {
  "name": "macaque_consensus_alignment"
 },
 "nbformat": 3,
 "nbformat_minor": 0,
 "worksheets": [
  {
   "cells": [
    {
     "cell_type": "code",
     "collapsed": false,
     "input": [
      "%load_ext autoreload\n",
      "%autoreload 2\n",
      "import pandas as pd\n",
      "import os,sys\n",
      "sys.path.insert(0, os.path.expanduser('~/lib/python'))\n",
      "sys.path.insert(0, os.path.join(os.path.expanduser('~/script')))\n",
      "from hs_vervet.scripts import vervet_snp_other_species_state as vsoss\n",
      "from pyfasta import Fasta"
     ],
     "language": "python",
     "metadata": {},
     "outputs": [],
     "prompt_number": 1
    },
    {
     "cell_type": "code",
     "collapsed": false,
     "input": [
      "chrom='CAE19'\n",
      "ref_fname=os.path.expanduser(\"~/vervet_data/reference/reference_3488/vervet_ref_chromosome_{}.fasta\".format(chrom))\n",
      "vervet_ref = Fasta(ref_fname)[chrom]"
     ],
     "language": "python",
     "metadata": {},
     "outputs": [],
     "prompt_number": 2
    },
    {
     "cell_type": "code",
     "collapsed": false,
     "input": [
      "snp_df=pd.DataFrame({'ref':[c for c in vervet_ref]})"
     ],
     "language": "python",
     "metadata": {},
     "outputs": [],
     "prompt_number": 3
    },
    {
     "cell_type": "code",
     "collapsed": false,
     "input": [
      "snp_df1=snp_df\n",
      "align_fname=os.path.expanduser(\"~/vervet_data/analyses/20130807_alignment_vervet_macaque/_data/vervet_macaque_align_{}_reduced_swap_sorted.maf\".format(chrom))\n",
      "macaque=vsoss.get_ancestral(align_fname,snp_df1,window_sz=10000,chromosome_length=len(snp_df1),verbose=True)"
     ],
     "language": "python",
     "metadata": {},
     "outputs": [
      {
       "output_type": "stream",
       "stream": "stdout",
       "text": [
        "window 166 , 0.0 % polarised\n",
        "window"
       ]
      },
      {
       "output_type": "stream",
       "stream": "stdout",
       "text": [
        " 498 , 10.0 % polarised\n",
        "window"
       ]
      },
      {
       "output_type": "stream",
       "stream": "stdout",
       "text": [
        " 831 , 20.0 % polarised\n",
        "window"
       ]
      },
      {
       "output_type": "stream",
       "stream": "stdout",
       "text": [
        " 1164 , 30.0 % polarised\n",
        "window"
       ]
      },
      {
       "output_type": "stream",
       "stream": "stdout",
       "text": [
        " 1496 , 40.0 % polarised\n",
        "window"
       ]
      },
      {
       "output_type": "stream",
       "stream": "stdout",
       "text": [
        " 1829 , 50.0 % polarised\n",
        "window"
       ]
      },
      {
       "output_type": "stream",
       "stream": "stdout",
       "text": [
        " 2161 , 60.0 % polarised\n",
        "window"
       ]
      },
      {
       "output_type": "stream",
       "stream": "stdout",
       "text": [
        " 2494 , 70.0 % polarised\n",
        "window"
       ]
      },
      {
       "output_type": "stream",
       "stream": "stdout",
       "text": [
        " 2827 , 80.0 % polarised\n",
        "window"
       ]
      },
      {
       "output_type": "stream",
       "stream": "stdout",
       "text": [
        " 3159 , 90.0 % polarised\n"
       ]
      }
     ],
     "prompt_number": 5
    },
    {
     "cell_type": "code",
     "collapsed": false,
     "input": [
      "len(macaque)"
     ],
     "language": "python",
     "metadata": {},
     "outputs": [
      {
       "output_type": "pyout",
       "prompt_number": 6,
       "text": [
        "32263144"
       ]
      }
     ],
     "prompt_number": 6
    },
    {
     "cell_type": "code",
     "collapsed": false,
     "input": [
      "len(vervet_ref)"
     ],
     "language": "python",
     "metadata": {},
     "outputs": [
      {
       "output_type": "pyout",
       "prompt_number": 7,
       "text": [
        "33263144"
       ]
      }
     ],
     "prompt_number": 7
    },
    {
     "cell_type": "code",
     "collapsed": false,
     "input": [
      "snp_df[:10]"
     ],
     "language": "python",
     "metadata": {},
     "outputs": [
      {
       "html": [
        "<div style=\"max-height:1000px;max-width:1500px;overflow:auto;\">\n",
        "<table border=\"1\" class=\"dataframe\">\n",
        "  <thead>\n",
        "    <tr style=\"text-align: right;\">\n",
        "      <th></th>\n",
        "      <th>ref</th>\n",
        "    </tr>\n",
        "  </thead>\n",
        "  <tbody>\n",
        "    <tr>\n",
        "      <th>0</th>\n",
        "      <td> N</td>\n",
        "    </tr>\n",
        "    <tr>\n",
        "      <th>1</th>\n",
        "      <td> N</td>\n",
        "    </tr>\n",
        "    <tr>\n",
        "      <th>2</th>\n",
        "      <td> N</td>\n",
        "    </tr>\n",
        "    <tr>\n",
        "      <th>3</th>\n",
        "      <td> N</td>\n",
        "    </tr>\n",
        "    <tr>\n",
        "      <th>4</th>\n",
        "      <td> N</td>\n",
        "    </tr>\n",
        "    <tr>\n",
        "      <th>5</th>\n",
        "      <td> N</td>\n",
        "    </tr>\n",
        "    <tr>\n",
        "      <th>6</th>\n",
        "      <td> N</td>\n",
        "    </tr>\n",
        "    <tr>\n",
        "      <th>7</th>\n",
        "      <td> N</td>\n",
        "    </tr>\n",
        "    <tr>\n",
        "      <th>8</th>\n",
        "      <td> N</td>\n",
        "    </tr>\n",
        "    <tr>\n",
        "      <th>9</th>\n",
        "      <td> N</td>\n",
        "    </tr>\n",
        "  </tbody>\n",
        "</table>\n",
        "</div>"
       ],
       "output_type": "pyout",
       "prompt_number": 14,
       "text": [
        "  ref\n",
        "0   N\n",
        "1   N\n",
        "2   N\n",
        "3   N\n",
        "4   N\n",
        "5   N\n",
        "6   N\n",
        "7   N\n",
        "8   N\n",
        "9   N"
       ]
      }
     ],
     "prompt_number": 14
    },
    {
     "cell_type": "code",
     "collapsed": false,
     "input": [
      "macaque.name='macaque'"
     ],
     "language": "python",
     "metadata": {},
     "outputs": [],
     "prompt_number": 9
    },
    {
     "cell_type": "code",
     "collapsed": false,
     "input": [
      "align_df=snp_df.join(macaque)"
     ],
     "language": "python",
     "metadata": {},
     "outputs": [],
     "prompt_number": 10
    },
    {
     "cell_type": "code",
     "collapsed": false,
     "input": [
      "#replace 'N' in the vervet reference with NaNs \n",
      "align_df['ref'][align_df['ref']=='N']=np.nan"
     ],
     "language": "python",
     "metadata": {},
     "outputs": []
    },
    {
     "cell_type": "code",
     "collapsed": false,
     "input": [
      "vervet_nonan=align_df['ref'][align_df['ref'].notnull()]"
     ],
     "language": "python",
     "metadata": {},
     "outputs": [],
     "prompt_number": 65
    },
    {
     "cell_type": "code",
     "collapsed": false,
     "input": [
      "align_df_no_nan=align_df.dropna()"
     ],
     "language": "python",
     "metadata": {},
     "outputs": [],
     "prompt_number": 43
    },
    {
     "cell_type": "code",
     "collapsed": false,
     "input": [],
     "language": "python",
     "metadata": {},
     "outputs": [],
     "prompt_number": 26
    },
    {
     "cell_type": "code",
     "collapsed": false,
     "input": [
      "#get vervet position indices where no macaque state could be derived"
     ],
     "language": "python",
     "metadata": {},
     "outputs": []
    },
    {
     "cell_type": "code",
     "collapsed": false,
     "input": [
      "indices_vervet_info_but_not_macaque=align_df[align_df['ref'].notnull()*align_df['macaque'].isnull()].index.values"
     ],
     "language": "python",
     "metadata": {},
     "outputs": [],
     "prompt_number": 45
    },
    {
     "cell_type": "code",
     "collapsed": false,
     "input": [
      "print 'fraction of aligned nucleotides:', len(align_df_no_nan)*1./len(vervet_nonan)"
     ],
     "language": "python",
     "metadata": {},
     "outputs": [
      {
       "output_type": "stream",
       "stream": "stdout",
       "text": [
        "fraction of aligned nucleotides: 0.934820815159\n"
       ]
      }
     ],
     "prompt_number": 71
    },
    {
     "cell_type": "code",
     "collapsed": false,
     "input": [
      "ver_mac_diff=align_df_no_nan[align_df_no_nan['ref']!=align_df_no_nan['macaque']]"
     ],
     "language": "python",
     "metadata": {},
     "outputs": [],
     "prompt_number": 70
    },
    {
     "cell_type": "code",
     "collapsed": false,
     "input": [
      "print \"fraction of differences among aligned nucleotides\",  len(ver_mac_diff)*1./len(align_df_no_nan)"
     ],
     "language": "python",
     "metadata": {},
     "outputs": [
      {
       "output_type": "stream",
       "stream": "stdout",
       "text": [
        "fraction of differences among aligned nucleotides 0.0346973647387\n"
       ]
      }
     ],
     "prompt_number": 73
    },
    {
     "cell_type": "code",
     "collapsed": false,
     "input": [
      "ver_mac_diff.rename(columns=lambda x: 'vervet' if x=='ref' else x,inplace=True)"
     ],
     "language": "python",
     "metadata": {},
     "outputs": [],
     "prompt_number": 81
    },
    {
     "cell_type": "code",
     "collapsed": false,
     "input": [
      "diff_pos=ver_mac_diff.index.values"
     ],
     "language": "python",
     "metadata": {},
     "outputs": [],
     "prompt_number": 85
    },
    {
     "cell_type": "code",
     "collapsed": false,
     "input": [
      "ver_mac_diff.to_csv(\"testdiff.tsv\",sep='\\t')"
     ],
     "language": "python",
     "metadata": {},
     "outputs": [],
     "prompt_number": 95
    },
    {
     "cell_type": "code",
     "collapsed": false,
     "input": [
      "hist(diff_pos,bins=100)"
     ],
     "language": "python",
     "metadata": {},
     "outputs": [
      {
       "output_type": "pyout",
       "prompt_number": 94,
       "text": [
        "(array([14697, 13365, 13177, 11067, 14112, 10911, 16221, 15622, 15037,\n",
        "       12116, 10513,  9932, 12258, 12356, 10017, 11604, 11065, 11157,\n",
        "       11157,  9618,  7942, 13234, 10455, 10014,  8725,  9250,  9082,\n",
        "        8944,  8729,  8980,  6517,  5975,  7602,  7716,  9474, 10828,\n",
        "        8245,  6614,  9663,  8952,  7945, 11990,  8665,  8730,  9913,\n",
        "        7814,  9826,  9836, 10047,  9826, 10090,  9602, 10973, 10992,\n",
        "        8127, 10255, 11147,  9660,  9641,  9351, 10402,  9408, 10223,\n",
        "        9469, 11370,  9897,  7408,  7835,  8675, 11330, 10618, 10016,\n",
        "        9217,  8982, 12399,  9005, 11781,  9236,  9981, 10527, 11326,\n",
        "       13036, 12188,  9238,  8963,  9245, 12695, 12070, 11901, 11245,\n",
        "       10653, 11633, 12513, 11867, 12434, 12520, 11811, 12032, 10319, 10219]),\n",
        " array([  1000004.  ,   1322634.84,   1645265.68,   1967896.52,\n",
        "         2290527.36,   2613158.2 ,   2935789.04,   3258419.88,\n",
        "         3581050.72,   3903681.56,   4226312.4 ,   4548943.24,\n",
        "         4871574.08,   5194204.92,   5516835.76,   5839466.6 ,\n",
        "         6162097.44,   6484728.28,   6807359.12,   7129989.96,\n",
        "         7452620.8 ,   7775251.64,   8097882.48,   8420513.32,\n",
        "         8743144.16,   9065775.  ,   9388405.84,   9711036.68,\n",
        "        10033667.52,  10356298.36,  10678929.2 ,  11001560.04,\n",
        "        11324190.88,  11646821.72,  11969452.56,  12292083.4 ,\n",
        "        12614714.24,  12937345.08,  13259975.92,  13582606.76,\n",
        "        13905237.6 ,  14227868.44,  14550499.28,  14873130.12,\n",
        "        15195760.96,  15518391.8 ,  15841022.64,  16163653.48,\n",
        "        16486284.32,  16808915.16,  17131546.  ,  17454176.84,\n",
        "        17776807.68,  18099438.52,  18422069.36,  18744700.2 ,\n",
        "        19067331.04,  19389961.88,  19712592.72,  20035223.56,\n",
        "        20357854.4 ,  20680485.24,  21003116.08,  21325746.92,\n",
        "        21648377.76,  21971008.6 ,  22293639.44,  22616270.28,\n",
        "        22938901.12,  23261531.96,  23584162.8 ,  23906793.64,\n",
        "        24229424.48,  24552055.32,  24874686.16,  25197317.  ,\n",
        "        25519947.84,  25842578.68,  26165209.52,  26487840.36,\n",
        "        26810471.2 ,  27133102.04,  27455732.88,  27778363.72,\n",
        "        28100994.56,  28423625.4 ,  28746256.24,  29068887.08,\n",
        "        29391517.92,  29714148.76,  30036779.6 ,  30359410.44,\n",
        "        30682041.28,  31004672.12,  31327302.96,  31649933.8 ,\n",
        "        31972564.64,  32295195.48,  32617826.32,  32940457.16,  33263088.  ]),\n",
        " <a list of 100 Patch objects>)"
       ]
      },
      {
       "output_type": "display_data",
       "png": "[encoded data removed]"
      }
     ],
     "prompt_number": 94
    },
    {
     "cell_type": "code",
     "collapsed": false,
     "input": [
      "hist?"
     ],
     "language": "python",
     "metadata": {},
     "outputs": [],
     "prompt_number": 93
    },
    {
     "cell_type": "code",
     "collapsed": false,
     "input": [
      "dev write_fasta()"
     ],
     "language": "python",
     "metadata": {},
     "outputs": [
      {
       "output_type": "pyout",
       "prompt_number": 20,
       "text": [
        "32263144"
       ]
      }
     ],
     "prompt_number": 20
    },
    {
     "cell_type": "code",
     "collapsed": false,
     "input": [
      "diff_pos[:100]"
     ],
     "language": "python",
     "metadata": {},
     "outputs": [
      {
       "output_type": "pyout",
       "prompt_number": 92,
       "text": [
        "array([1000004, 1000008, 1000009, 1000012, 1000013, 1000017, 1000020,\n",
        "       1000024, 1000025, 1000028, 1000029, 1000032, 1000033, 1000036,\n",
        "       1000037, 1000040, 1000041, 1000044, 1000045, 1000048, 1000049,\n",
        "       1000052, 1000053, 1000056, 1000057, 1000098, 1000210, 1000212,\n",
        "       1000221, 1000226, 1000280, 1000321, 1000349, 1000362, 1000437,\n",
        "       1000448, 1000458, 1000502, 1000507, 1000532, 1000548, 1000560,\n",
        "       1000575, 1000581, 1000592, 1000655, 1000720, 1000721, 1000722,\n",
        "       1000727, 1000734, 1000739, 1000741, 1000745, 1000816, 1000831,\n",
        "       1000832, 1000834, 1000838, 1000839, 1000841, 1000923, 1000930,\n",
        "       1000936, 1001006, 1001042, 1001060, 1001153, 1001175, 1001177,\n",
        "       1001187, 1001217, 1001300, 1001308, 1001352, 1001353, 1001386,\n",
        "       1001397, 1001405, 1001418, 1001437, 1001628, 1001655, 1001674,\n",
        "       1001708, 1001719, 1001735, 1001771, 1001783, 1001821, 1001851,\n",
        "       1001883, 1001893, 1001920, 1001971, 1002003, 1002021, 1002054,\n",
        "       1002056, 1002120])"
       ]
      }
     ],
     "prompt_number": 92
    },
    {
     "cell_type": "code",
     "collapsed": false,
     "input": [
      "pd.Series.reindex?"
     ],
     "language": "python",
     "metadata": {},
     "outputs": [],
     "prompt_number": 29
    },
    {
     "cell_type": "code",
     "collapsed": false,
     "input": [],
     "language": "python",
     "metadata": {},
     "outputs": []
    }
   ],
   "metadata": {}
  }
 ]
}