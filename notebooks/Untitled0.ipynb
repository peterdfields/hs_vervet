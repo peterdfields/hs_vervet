{
 "metadata": {
  "name": "Untitled0"
 },
 "nbformat": 3,
 "nbformat_minor": 0,
 "worksheets": [
  {
   "cells": [
    {
     "cell_type": "code",
     "collapsed": false,
     "input": [
      "import os\n",
      "import pandas as pd"
     ],
     "language": "python",
     "metadata": {},
     "outputs": [],
     "prompt_number": 1
    },
    {
     "cell_type": "code",
     "collapsed": false,
     "input": [
      "eu = os.path.expanduser"
     ],
     "language": "python",
     "metadata": {},
     "outputs": [],
     "prompt_number": 2
    },
    {
     "cell_type": "code",
     "collapsed": false,
     "input": [
      "meta_df = pd.read_csv(eu(\"~/vervet_project/metadata/163_population_ucla_id_taxon.csv\"),index_col=0)\n",
      "scrot_df = pd.read_csv(eu(\"~/vervet_project/phenotypes/vervet_scrotal_color.tsv\"),sep=\"\\t\",index_col=0)"
     ],
     "language": "python",
     "metadata": {},
     "outputs": [],
     "prompt_number": 3
    },
    {
     "cell_type": "code",
     "collapsed": false,
     "input": [
      "[id for id in meta_df.index if id in scrot_df.index]"
     ],
     "language": "python",
     "metadata": {},
     "outputs": [
      {
       "output_type": "pyout",
       "prompt_number": 4,
       "text": [
        "['VSAC1014',\n",
        " 'VSAB1003',\n",
        " 'VSAM3001',\n",
        " 'VSAL4002',\n",
        " 'VSAM4001',\n",
        " 'VSAJ2008',\n",
        " 'VSAB5005',\n",
        " 'VSAB2017',\n",
        " 'VSAF1012',\n",
        " 'VSAH1001',\n",
        " 'VSAD1003',\n",
        " 'VSAM5007',\n",
        " 'VSAG2001',\n",
        " 'VSAA2020']"
       ]
      }
     ],
     "prompt_number": 4
    },
    {
     "cell_type": "code",
     "collapsed": false,
     "input": [
      "s1 = [i[5:] for i in meta_df.index.values if i[:3]==\"VGA\"]"
     ],
     "language": "python",
     "metadata": {},
     "outputs": [],
     "prompt_number": 16
    },
    {
     "cell_type": "code",
     "collapsed": false,
     "input": [
      "s2 = [i[1:] for i in scrot_df.index.values if i[:1]==\"G\"]"
     ],
     "language": "python",
     "metadata": {},
     "outputs": [],
     "prompt_number": 17
    },
    {
     "cell_type": "code",
     "collapsed": false,
     "input": [
      "[i for i in meta_df.index.values if i[:3]==\"VGA\"]"
     ],
     "language": "python",
     "metadata": {},
     "outputs": [
      {
       "output_type": "pyout",
       "prompt_number": 20,
       "text": [
        "['VGA00006',\n",
        " 'VGA00114',\n",
        " 'VGA00092',\n",
        " 'VGA00021',\n",
        " 'VGA00146',\n",
        " 'VGA00098',\n",
        " 'VGA00156',\n",
        " 'VGA00142',\n",
        " 'VGA00090',\n",
        " 'VGA00085',\n",
        " 'VGA00101',\n",
        " 'VGA00152',\n",
        " 'VGA00153',\n",
        " 'VGA00100',\n",
        " 'VGA00107',\n",
        " 'VGA00002',\n",
        " 'VGA00155',\n",
        " 'VGA00151',\n",
        " 'VGA00138',\n",
        " 'VGA00010',\n",
        " 'VGA00019',\n",
        " 'VGA00025']"
       ]
      }
     ],
     "prompt_number": 20
    },
    {
     "cell_type": "code",
     "collapsed": false,
     "input": [
      "[s for s in s1 if s in s2]"
     ],
     "language": "python",
     "metadata": {},
     "outputs": [
      {
       "output_type": "pyout",
       "prompt_number": 18,
       "text": [
        "['021', '156', '142', '152', '107', '151', '019']"
       ]
      }
     ],
     "prompt_number": 18
    },
    {
     "cell_type": "code",
     "collapsed": false,
     "input": [
      "s2,s1"
     ],
     "language": "python",
     "metadata": {},
     "outputs": [
      {
       "output_type": "pyout",
       "prompt_number": 19,
       "text": [
        "(['003',\n",
        "  '005',\n",
        "  '007',\n",
        "  '012',\n",
        "  '013',\n",
        "  '014',\n",
        "  '015',\n",
        "  '016',\n",
        "  '019',\n",
        "  '021',\n",
        "  '094',\n",
        "  '095',\n",
        "  '096',\n",
        "  '103',\n",
        "  '107',\n",
        "  '108',\n",
        "  '117',\n",
        "  '119',\n",
        "  '120',\n",
        "  '121',\n",
        "  '122',\n",
        "  '126',\n",
        "  '129',\n",
        "  '130',\n",
        "  '132',\n",
        "  '135',\n",
        "  '136',\n",
        "  '137',\n",
        "  '140',\n",
        "  '141',\n",
        "  '142',\n",
        "  '144',\n",
        "  '145',\n",
        "  '151',\n",
        "  '152',\n",
        "  '156'],\n",
        " ['006',\n",
        "  '114',\n",
        "  '092',\n",
        "  '021',\n",
        "  '146',\n",
        "  '098',\n",
        "  '156',\n",
        "  '142',\n",
        "  '090',\n",
        "  '085',\n",
        "  '101',\n",
        "  '152',\n",
        "  '153',\n",
        "  '100',\n",
        "  '107',\n",
        "  '002',\n",
        "  '155',\n",
        "  '151',\n",
        "  '138',\n",
        "  '010',\n",
        "  '019',\n",
        "  '025'])"
       ]
      }
     ],
     "prompt_number": 19
    },
    {
     "cell_type": "code",
     "collapsed": false,
     "input": [],
     "language": "python",
     "metadata": {},
     "outputs": []
    }
   ],
   "metadata": {}
  }
 ]
}