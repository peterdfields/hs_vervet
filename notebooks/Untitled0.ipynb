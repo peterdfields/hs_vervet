{
 "metadata": {
  "name": "",
  "signature": "sha256:f9eda5fc26891c55daaafc22539204b748b6f6c2b2399f9b25e812104cec691b"
 },
 "nbformat": 3,
 "nbformat_minor": 0,
 "worksheets": [
  {
   "cells": [
    {
     "cell_type": "code",
     "collapsed": false,
     "input": [
      "import os\n",
      "import pandas as pd\n",
      "\n",
      "import numpy as np"
     ],
     "language": "python",
     "metadata": {},
     "outputs": [],
     "prompt_number": 1
    },
    {
     "cell_type": "code",
     "collapsed": false,
     "input": [
      "eu = os.path.expanduser\n",
      "jn = os.path.join"
     ],
     "language": "python",
     "metadata": {},
     "outputs": [],
     "prompt_number": 2
    },
    {
     "cell_type": "code",
     "collapsed": false,
     "input": [
      "var_ana_dir = eu(\"~/vervet_project/analyses/20140403_UnifiedGenotyper_ref3500_non_VRC/_data\")\n",
      "def get_gen_df(chrom):\n",
      "    fn = jn(var_ana_dir,\"UGr_163_ref3500_ref_alt_{}.012\".format(chrom))\n",
      "    df = pd.read_csv(fn,index_col=[0,1],sep=\"\\t\",na_values=\"N\")\n",
      "    return df#.astype(np.float16)"
     ],
     "language": "python",
     "metadata": {},
     "outputs": [],
     "prompt_number": 17
    },
    {
     "cell_type": "code",
     "collapsed": false,
     "input": [
      "df = get_gen_df(\"CAE29\")"
     ],
     "language": "python",
     "metadata": {},
     "outputs": [],
     "prompt_number": 4
    },
    {
     "cell_type": "code",
     "collapsed": false,
     "input": [
      "df2 = get_gen_df(\"CAE1\")"
     ],
     "language": "python",
     "metadata": {},
     "outputs": [],
     "prompt_number": 5
    },
    {
     "cell_type": "code",
     "collapsed": false,
     "input": [
      "df3 = get_gen_df(\"CAE29\")"
     ],
     "language": "python",
     "metadata": {},
     "outputs": [],
     "prompt_number": 18
    },
    {
     "cell_type": "code",
     "collapsed": false,
     "input": [
      "df2.shape[0]*df2.shape[1]*2\n"
     ],
     "language": "python",
     "metadata": {},
     "outputs": [
      {
       "metadata": {},
       "output_type": "pyout",
       "prompt_number": 11,
       "text": [
        "913444502"
       ]
      }
     ],
     "prompt_number": 11
    },
    {
     "cell_type": "code",
     "collapsed": false,
     "input": [
      "df.values.nbytes"
     ],
     "language": "python",
     "metadata": {},
     "outputs": [
      {
       "metadata": {},
       "output_type": "pyout",
       "prompt_number": 16,
       "text": [
        "189300702"
       ]
      }
     ],
     "prompt_number": 16
    },
    {
     "cell_type": "code",
     "collapsed": false,
     "input": [
      "df3.values.nbytes"
     ],
     "language": "python",
     "metadata": {},
     "outputs": [
      {
       "metadata": {},
       "output_type": "pyout",
       "prompt_number": 19,
       "text": [
        "757202808"
       ]
      }
     ],
     "prompt_number": 19
    },
    {
     "cell_type": "code",
     "collapsed": false,
     "input": [
      "df2.blocks"
     ],
     "language": "python",
     "metadata": {},
     "outputs": [
      {
       "metadata": {},
       "output_type": "pyout",
       "prompt_number": 7,
       "text": [
        "{'float16':                  A8518  AG23  AG5417  AGM126  AGM127  AGM129  AGM130  AGM131  \\\n",
        " chrom pos                                                                      \n",
        " CAE1  1161           0   NaN       0       1       2       0       0       1   \n",
        "       1202         NaN   NaN       0     NaN       0     NaN       0       0   \n",
        "       1282           1     1       2       0       0       0     NaN       0   \n",
        "       1789           1     2       1       2       2       2       2     NaN   \n",
        "       1813           0     0       0       0       0     NaN       0     NaN   \n",
        "       1838           0     0     NaN     NaN       0     NaN       0     NaN   \n",
        "       1860           1   NaN     NaN     NaN     NaN     NaN       2     NaN   \n",
        "       1879           0   NaN     NaN     NaN     NaN     NaN     NaN     NaN   \n",
        "       1880           0   NaN     NaN     NaN     NaN     NaN     NaN     NaN   \n",
        "       2602           0     0       0       0       0       0       0       0   \n",
        "       2724           0     0       0       2       2       2       0       1   \n",
        "       2746           0     2       2       0       0       0       0       0   \n",
        "       2762           0     2       1       0       0       0       0       0   \n",
        "       2778           0     0       0       0       0       0       0       0   \n",
        "       2782           0     0       0       0       0       0       2       1   \n",
        "       2900           0     1       0       0       0       0       0       0   \n",
        "       2979           0     0       0       0       0       0       0       0   \n",
        "       2980           0     0       0       0       0       0       0       0   \n",
        "       3193           0     0       0       0       0       0       0       0   \n",
        "       3314           2     2       2     NaN       2       2       2       2   \n",
        "       3435           0   NaN       0       0       0       0       0       0   \n",
        "       3451           0   NaN       0       0       0       0       0       0   \n",
        "       3597           0     2       2       0       0       0       2       1   \n",
        "       3600           0     0       0       0       0       0       0       0   \n",
        "       3692           0     2       2       2       2       2       2       2   \n",
        "       3750           0   NaN       0       0       0       0       0       0   \n",
        "       3811           0   NaN       2       2       2       2     NaN       2   \n",
        "       3876           0     0       0       0       0       0     NaN       0   \n",
        "       3943           0   NaN       0       2       2       2     NaN       0   \n",
        "       3946           0   NaN       0       0       0       0     NaN       0   \n",
        " ...                ...   ...     ...     ...     ...     ...     ...     ...   \n",
        "       126033912      0     0       0       0       0       0       0       0   \n",
        "       126034127      0     0       0       0       0       0       0       0   \n",
        "       126034151      0     0       0       0     NaN       0       0       0   \n",
        "       126034158      0     0       0       0     NaN       0       0       0   \n",
        "       126034192      0     0       0       0       0       0       0       0   \n",
        "       126034194      0     0       1       0       0       0       0       0   \n",
        "       126034206      0     0       0       0       0       0       1       0   \n",
        "       126034223      0     0       0       2       0       2       0       0   \n",
        "       126034225      0     2       0       2     NaN       2       2       1   \n",
        "       126034232      2     2       2       0       0       0       2       2   \n",
        "       126034288      0     0       0       2       0       2       0       0   \n",
        "       126034338      0     2       0       0       2       0       1       1   \n",
        "       126034413      0     0       0       0       0       0       0       0   \n",
        "       126034418      0     0       0       0       0       0       0       0   \n",
        "       126034424      0     0       0       0       0       0       0       0   \n",
        "       126034432      0     0       0       0       0       0       0       0   \n",
        "       126034433      0     0       0       0       0       0       0       0   \n",
        "       126034454      0     0       0       2       2       2       0       0   \n",
        "       126034486      0     0       0       0     NaN       0       0       0   \n",
        "       126034503      0   NaN     NaN       2     NaN     NaN       0       0   \n",
        "       126035441      0     0       0       0       0       0       0       0   \n",
        "       126035455      0     0       0       0       0       0       0       0   \n",
        "       126035462      0     2       2       2       2       2       0       1   \n",
        "       126035501      0     0       0       0       0     NaN       0       0   \n",
        "       126035704      0     0       0       0       0       0       0       0   \n",
        "       126035711      0     0       0       0       0       0       0       0   \n",
        "       126035724      0     0       0       0       0       0       0       0   \n",
        "       126035869      0     1       0       1       1       1       1       1   \n",
        "       126035871      0     0       0       0       1       1       1       1   \n",
        "       126035876      0     0       0       0       0       0       0       0   \n",
        " \n",
        "                  AGM136  AGM137   ...    VZC1017  VZC1018  VZC1020  W566  \\\n",
        " chrom pos                         ...                                      \n",
        " CAE1  1161            1       1   ...          0        0        0     0   \n",
        "       1202          NaN       0   ...        NaN      NaN        0     2   \n",
        "       1282            0     NaN   ...          1        1        1     0   \n",
        "       1789            0     NaN   ...        NaN        2        2     1   \n",
        "       1813          NaN     NaN   ...        NaN        0        0     0   \n",
        "       1838          NaN     NaN   ...        NaN        0        0     0   \n",
        "       1860          NaN     NaN   ...        NaN      NaN        2     0   \n",
        "       1879          NaN     NaN   ...        NaN      NaN        2     0   \n",
        "       1880          NaN     NaN   ...        NaN      NaN        2     0   \n",
        "       2602            0       0   ...          0        0        0     0   \n",
        "       2724            2       0   ...          0        0        0     0   \n",
        "       2746            0       0   ...          2        2        2     0   \n",
        "       2762            0       0   ...          1        0        2     0   \n",
        "       2778            0       0   ...          0        0        0     0   \n",
        "       2782            0       1   ...          0        0        0     0   \n",
        "       2900            0       0   ...          0        0        0     0   \n",
        "       2979            0       0   ...          0        0        0   NaN   \n",
        "       2980            0       0   ...          0        0        0   NaN   \n",
        "       3193            0       0   ...          0        0        0     0   \n",
        "       3314            2       2   ...          2        2        2     2   \n",
        "       3435            0       0   ...          0        0        0     0   \n",
        "       3451            0       0   ...          0        0        0     0   \n",
        "       3597            0       2   ...          2        2        2     0   \n",
        "       3600            0       0   ...          0        0        0     0   \n",
        "       3692            2       2   ...          2        2        2     0   \n",
        "       3750            0       1   ...          0        0        0   NaN   \n",
        "       3811            2       1   ...          2      NaN        2   NaN   \n",
        "       3876            0       0   ...          0        0        0     0   \n",
        "       3943            2       0   ...          0        0        0   NaN   \n",
        "       3946            0       0   ...          0        0        0   NaN   \n",
        " ...                 ...     ...   ...        ...      ...      ...   ...   \n",
        "       126033912       0       0   ...        NaN        0      NaN     0   \n",
        "       126034127       0       0   ...          0        0        0     0   \n",
        "       126034151       0       0   ...          0        0        0     0   \n",
        "       126034158       0       0   ...          0        0        0     0   \n",
        "       126034192       0       0   ...          0        0        0   NaN   \n",
        "       126034194       0       0   ...          0        0        0   NaN   \n",
        "       126034206       0       1   ...          0        1        1     0   \n",
        "       126034223       1       1   ...          0        0        0     0   \n",
        "       126034225       1       2   ...          0        0        0   NaN   \n",
        "       126034232       2       1   ...          2        2        2     2   \n",
        "       126034288       0       1   ...          0      NaN        0     0   \n",
        "       126034338       0       0   ...          1        0        0     0   \n",
        "       126034413       0       0   ...          0        0        0     0   \n",
        "       126034418       0       0   ...          0        0        0     0   \n",
        "       126034424       0       0   ...          0        0        0     0   \n",
        "       126034432       0       0   ...          0        0        0     0   \n",
        "       126034433       0       0   ...          0        0        0     0   \n",
        "       126034454       1       1   ...          1        1        1     0   \n",
        "       126034486       0       0   ...          0        0        0     0   \n",
        "       126034503       0     NaN   ...        NaN      NaN      NaN     0   \n",
        "       126035441       0       0   ...          0      NaN      NaN     1   \n",
        "       126035455       0       0   ...          0        0      NaN     0   \n",
        "       126035462       0       2   ...          2        2      NaN     1   \n",
        "       126035501       0       0   ...          0        0      NaN     0   \n",
        "       126035704       0       0   ...          1        0        0     0   \n",
        "       126035711       0       0   ...          0        0        0     0   \n",
        "       126035724       0       0   ...          0        0        0     0   \n",
        "       126035869       1       1   ...          1        0        0     0   \n",
        "       126035871       0       0   ...          0        0        0     0   \n",
        "       126035876       0       0   ...          1        0        0     0   \n",
        " \n",
        "                  X186  X336  X598  Y010  Y083  Y173  \n",
        " chrom pos                                            \n",
        " CAE1  1161          1     1     0     0     0     2  \n",
        "       1202          0     0     0     0     0     0  \n",
        "       1282          0     1   NaN     1     1     0  \n",
        "       1789          1     0     1     0   NaN     0  \n",
        "       1813          0     0     0     0     0     0  \n",
        "       1838          0     0     0     0     0     0  \n",
        "       1860          0     0     0     0     0     0  \n",
        "       1879          0     1     0     2     0     0  \n",
        "       1880          0     0     0     0     0     0  \n",
        "       2602          0   NaN   NaN   NaN     0     0  \n",
        "       2724        NaN     0   NaN   NaN     0     0  \n",
        "       2746          0     0   NaN   NaN     0     0  \n",
        "       2762          0     0   NaN   NaN     0     0  \n",
        "       2778        NaN     0   NaN   NaN   NaN     0  \n",
        "       2782        NaN     0   NaN   NaN   NaN     0  \n",
        "       2900        NaN   NaN   NaN     0   NaN     0  \n",
        "       2979        NaN     0     0   NaN     0     0  \n",
        "       2980        NaN     0     0   NaN     0     0  \n",
        "       3193        NaN     0     0   NaN   NaN     0  \n",
        "       3314          0     0     2     0     2     2  \n",
        "       3435          0     0     0   NaN     0     0  \n",
        "       3451          0     0     0     0   NaN     0  \n",
        "       3597          0     0     0   NaN   NaN     0  \n",
        "       3600          0     0     0   NaN   NaN     0  \n",
        "       3692          0     0     0   NaN     0     0  \n",
        "       3750          0     0     0     0   NaN     0  \n",
        "       3811          0     0   NaN     0   NaN     0  \n",
        "       3876          0     0     0   NaN   NaN     0  \n",
        "       3943          0     0     0   NaN     0   NaN  \n",
        "       3946          0     0     0   NaN     0   NaN  \n",
        " ...               ...   ...   ...   ...   ...   ...  \n",
        "       126033912     0     0   NaN   NaN     0     0  \n",
        "       126034127     0     0   NaN   NaN   NaN   NaN  \n",
        "       126034151     0     0   NaN     0   NaN   NaN  \n",
        "       126034158     0     0   NaN     0   NaN   NaN  \n",
        "       126034192   NaN     0   NaN     0   NaN   NaN  \n",
        "       126034194   NaN     0   NaN     0   NaN   NaN  \n",
        "       126034206     0     0     0     0     0   NaN  \n",
        "       126034223     0     0     0     0     0   NaN  \n",
        "       126034225     0     0     0     0     0   NaN  \n",
        "       126034232     2     2     1     2     1   NaN  \n",
        "       126034288     0     0     0     0     0   NaN  \n",
        "       126034338     0     0     0   NaN     0   NaN  \n",
        "       126034413     0     0     0   NaN     0     0  \n",
        "       126034418     0     0     0   NaN     0     0  \n",
        "       126034424     0   NaN     0   NaN     0     0  \n",
        "       126034432     0   NaN     0   NaN     0     0  \n",
        "       126034433     0   NaN     0   NaN     0     0  \n",
        "       126034454     0     0     0     0     0     0  \n",
        "       126034486     0     0     0   NaN     0   NaN  \n",
        "       126034503   NaN     0     0     0   NaN   NaN  \n",
        "       126035441     0     0     0     2     0     0  \n",
        "       126035455     0     0     1     0     0     0  \n",
        "       126035462     1     0     0     2     1     2  \n",
        "       126035501     0     0     0     0     0     0  \n",
        "       126035704     0     0     0     0   NaN     0  \n",
        "       126035711   NaN     0     0   NaN   NaN     0  \n",
        "       126035724     0     0     0     0   NaN   NaN  \n",
        "       126035869     0     0     0     0     0     0  \n",
        "       126035871     0     0     0     0     0     0  \n",
        "       126035876     0     0     0     0     0     0  \n",
        " \n",
        " [2801977 rows x 163 columns]}"
       ]
      }
     ],
     "prompt_number": 7
    },
    {
     "cell_type": "code",
     "collapsed": false,
     "input": [
      "meta_df = pd.read_csv(eu(\"~/vervet_project/metadata/163_population_ucla_id_taxon.csv\"),index_col=0)\n",
      "scrot_df = pd.read_csv(eu(\"~/vervet_project/phenotypes/vervet_scrotal_color.tsv\"),sep=\"\\t\",index_col=0)"
     ],
     "language": "python",
     "metadata": {},
     "outputs": [],
     "prompt_number": 3
    },
    {
     "cell_type": "code",
     "collapsed": false,
     "input": [
      "[id for id in meta_df.index if id in scrot_df.index]"
     ],
     "language": "python",
     "metadata": {},
     "outputs": [
      {
       "metadata": {},
       "output_type": "pyout",
       "prompt_number": 4,
       "text": [
        "['VSAC1014',\n",
        " 'VSAB1003',\n",
        " 'VSAM3001',\n",
        " 'VSAL4002',\n",
        " 'VSAM4001',\n",
        " 'VSAJ2008',\n",
        " 'VSAB5005',\n",
        " 'VSAB2017',\n",
        " 'VSAF1012',\n",
        " 'VSAH1001',\n",
        " 'VSAD1003',\n",
        " 'VSAM5007',\n",
        " 'VSAG2001',\n",
        " 'VSAA2020']"
       ]
      }
     ],
     "prompt_number": 4
    },
    {
     "cell_type": "code",
     "collapsed": false,
     "input": [
      "s1 = [i[5:] for i in meta_df.index.values if i[:3]==\"VGA\"]"
     ],
     "language": "python",
     "metadata": {},
     "outputs": [],
     "prompt_number": 16
    },
    {
     "cell_type": "code",
     "collapsed": false,
     "input": [
      "s2 = [i[1:] for i in scrot_df.index.values if i[:1]==\"G\"]"
     ],
     "language": "python",
     "metadata": {},
     "outputs": [],
     "prompt_number": 17
    },
    {
     "cell_type": "code",
     "collapsed": false,
     "input": [
      "[i for i in meta_df.index.values if i[:3]==\"VGA\"]"
     ],
     "language": "python",
     "metadata": {},
     "outputs": [
      {
       "metadata": {},
       "output_type": "pyout",
       "prompt_number": 20,
       "text": [
        "['VGA00006',\n",
        " 'VGA00114',\n",
        " 'VGA00092',\n",
        " 'VGA00021',\n",
        " 'VGA00146',\n",
        " 'VGA00098',\n",
        " 'VGA00156',\n",
        " 'VGA00142',\n",
        " 'VGA00090',\n",
        " 'VGA00085',\n",
        " 'VGA00101',\n",
        " 'VGA00152',\n",
        " 'VGA00153',\n",
        " 'VGA00100',\n",
        " 'VGA00107',\n",
        " 'VGA00002',\n",
        " 'VGA00155',\n",
        " 'VGA00151',\n",
        " 'VGA00138',\n",
        " 'VGA00010',\n",
        " 'VGA00019',\n",
        " 'VGA00025']"
       ]
      }
     ],
     "prompt_number": 20
    },
    {
     "cell_type": "code",
     "collapsed": false,
     "input": [
      "[s for s in s1 if s in s2]"
     ],
     "language": "python",
     "metadata": {},
     "outputs": [
      {
       "metadata": {},
       "output_type": "pyout",
       "prompt_number": 18,
       "text": [
        "['021', '156', '142', '152', '107', '151', '019']"
       ]
      }
     ],
     "prompt_number": 18
    },
    {
     "cell_type": "code",
     "collapsed": false,
     "input": [
      "s2,s1"
     ],
     "language": "python",
     "metadata": {},
     "outputs": [
      {
       "metadata": {},
       "output_type": "pyout",
       "prompt_number": 19,
       "text": [
        "(['003',\n",
        "  '005',\n",
        "  '007',\n",
        "  '012',\n",
        "  '013',\n",
        "  '014',\n",
        "  '015',\n",
        "  '016',\n",
        "  '019',\n",
        "  '021',\n",
        "  '094',\n",
        "  '095',\n",
        "  '096',\n",
        "  '103',\n",
        "  '107',\n",
        "  '108',\n",
        "  '117',\n",
        "  '119',\n",
        "  '120',\n",
        "  '121',\n",
        "  '122',\n",
        "  '126',\n",
        "  '129',\n",
        "  '130',\n",
        "  '132',\n",
        "  '135',\n",
        "  '136',\n",
        "  '137',\n",
        "  '140',\n",
        "  '141',\n",
        "  '142',\n",
        "  '144',\n",
        "  '145',\n",
        "  '151',\n",
        "  '152',\n",
        "  '156'],\n",
        " ['006',\n",
        "  '114',\n",
        "  '092',\n",
        "  '021',\n",
        "  '146',\n",
        "  '098',\n",
        "  '156',\n",
        "  '142',\n",
        "  '090',\n",
        "  '085',\n",
        "  '101',\n",
        "  '152',\n",
        "  '153',\n",
        "  '100',\n",
        "  '107',\n",
        "  '002',\n",
        "  '155',\n",
        "  '151',\n",
        "  '138',\n",
        "  '010',\n",
        "  '019',\n",
        "  '025'])"
       ]
      }
     ],
     "prompt_number": 19
    },
    {
     "cell_type": "code",
     "collapsed": false,
     "input": [
      "print "
     ],
     "language": "python",
     "metadata": {},
     "outputs": []
    }
   ],
   "metadata": {}
  }
 ]
}