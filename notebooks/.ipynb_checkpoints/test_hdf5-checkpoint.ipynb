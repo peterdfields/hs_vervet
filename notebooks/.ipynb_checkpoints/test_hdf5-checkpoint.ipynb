{
 "metadata": {
  "name": "",
  "signature": "sha256:0bbd690a4fb2f7b05be752cfc4e4732f1126ca9a42926e33d1aeedbd66578261"
 },
 "nbformat": 3,
 "nbformat_minor": 0,
 "worksheets": [
  {
   "cells": [
    {
     "cell_type": "code",
     "collapsed": false,
     "input": [
      "#parallel\n",
      "from IPython.parallel import Client\n",
      "rc = Client()\n",
      "dview = rc[:] # use all engines\n",
      "ADD AND USE LOAD BALANCED VIEW!!!"
     ],
     "language": "python",
     "metadata": {},
     "outputs": []
    },
    {
     "cell_type": "code",
     "collapsed": false,
     "input": [
      "%%px --local\n",
      "import os\n",
      "import numpy as np\n",
      "import pandas as pd\n",
      "import subprocess\n",
      "eu = os.path.expanduser\n",
      "jn = os.path.join\n",
      "chromosomes = [str(i) for i in range(1,6)]\n",
      "meta_dir = eu(\"~/1001genomes_project/Hannes/metadata\")\n",
      "var_ana_dir = eu(\"~/1001genomes_project/Hannes/analyses/20140328_filter_and_assess_vcf/_data\")\n",
      "out_dir = os.path.expanduser(\"~/1001genomes_lab/Hannes/analyses/20140401_admixture/output\") \n",
      "master_table = pd.read_csv(\n",
      "                eu(\n",
      "                    \"~/1001genomes_project/Hannes/metadata/1001genomes_master_accession_list.csv\")\n",
      "                            ,index_col=0)\n",
      "#don't undestand why whe have to pass header false here to get the header:???\n",
      "accesssions = pd.read_csv(jn(var_ana_dir,\"1001genomes_1146_excl_identical_ref_alt_Chr1.tsv\"),header=False,nrows=1,sep=\"\\t\",index_col=[0,1]).columns.values\n",
      "#print accesssions"
     ],
     "language": "python",
     "metadata": {},
     "outputs": []
    },
    {
     "cell_type": "code",
     "collapsed": false,
     "input": [],
     "language": "python",
     "metadata": {},
     "outputs": []
    },
    {
     "cell_type": "code",
     "collapsed": false,
     "input": [
      "%%px --local\n",
      "#general functions\n",
      "def get_gen_df(chrom):\n",
      "    \"\"\"\n",
      "    get 0,1,2 genotype data frame\n",
      "    \"\"\"\n",
      "    fn = jn(var_ana_dir,\"1001genomes_1146_excl_identical_ref_alt_Chr{}_2.tsv\".format(chrom))\n",
      "    df = pd.read_csv(fn,index_col=[0,1],sep=\"\\t\",na_values=\"N\")\n",
      "    return df.astype(np.float16)\n",
      "\n",
      "\n",
      "def gen_tsv_to_hdf(chrom):\n",
      "    dtypes = {\"chrom\":np.int8,\"pos\":np.int32}\n",
      "    dtypes.update({a:np.float16 for a in accesssions})\n",
      "    fn = jn(var_ana_dir,\"1001genomes_1146_excl_identical_ref_alt_Chr{}.tsv\".format(chrom))\n",
      "    df_it = pd.read_csv(fn,index_col=[0,1],sep=\"\\t\",na_values=\"N\",chunksize=100000,dtype=dtypes)\n",
      "    store_fn = jn(var_ana_dir,'1001genomes_1146_excl_identical_ref_alt_Chr{}.h5'.format(chrom))\n",
      "    with pd.get_store(store_fn,mode=\"w\") as store:\n",
      "        for i,chunk in enumerate(df_it):\n",
      "            store.append(\"gen_df\",chunk,format='table')\n",
      "    return store_fn\n",
      "            \n",
      "def compress_hdf(fn,complevel=5):\n",
      "    p = subprocess.Popen([\"ptrepack\",\"--chunkshape=auto\", \"--propindexes\",\n",
      "                          \"--complevel={}\".format(complevel),\"--complib=blosc\",\n",
      "                          fn, fn+\".comp\"],stdin=subprocess.PIPE, stdout=subprocess.PIPE)\n",
      "    out, err = p.communicate()\n",
      "    if p.returncode != 0:\n",
      "        print p.returncode, out, err\n",
      "        raise Exception()\n",
      "    p2 = subprocess.Popen([\"mv\",fn+\".comp\",fn],stdin=subprocess.PIPE, stdout=subprocess.PIPE)\n",
      "    out,err = p2.communicate()\n",
      "    if p2.returncode != 0:\n",
      "        print out, err\n",
      "        raise Exception()\n",
      "    return\n",
      "\n",
      "def gen_tsv_to_comp_hdf(chrom):\n",
      "    fn = gen_tsv_to_hdf(chrom)\n",
      "    compress_hdf(fn)\n",
      "            \n",
      "def write_af_tsv(chrom):\n",
      "    gen_df = get_gen_df(chrom)\n",
      "    af = gen_df.mean(axis=1)/2.\n",
      "    af.name = \"af\"\n",
      "    af.to_csv(jn(man_ana_dir,\"allele_frequency_{}.tsv\".format(chrom)),\n",
      "                                                    header=True,sep=\"\\t\")"
     ],
     "language": "python",
     "metadata": {},
     "outputs": []
    },
    {
     "cell_type": "code",
     "collapsed": false,
     "input": [],
     "language": "python",
     "metadata": {},
     "outputs": []
    },
    {
     "cell_type": "code",
     "collapsed": false,
     "input": [
      "store_fn = jn(var_ana_dir,'1001genomes_1146_excl_identical_ref_alt_Chr{}.h5'.format(chrom))\n",
      "compress_hdf(store_fn)"
     ],
     "language": "python",
     "metadata": {},
     "outputs": []
    },
    {
     "cell_type": "code",
     "collapsed": false,
     "input": [
      "gen_tsv_to_comp_hdf(3)"
     ],
     "language": "python",
     "metadata": {},
     "outputs": []
    },
    {
     "cell_type": "code",
     "collapsed": false,
     "input": [
      "t = dview.map(gen_tsv_to_comp_hdf,chromosomes[3:])"
     ],
     "language": "python",
     "metadata": {},
     "outputs": []
    },
    {
     "cell_type": "code",
     "collapsed": false,
     "input": [
      "store = pd.HDFStore(jn(var_ana_dir,\"1001genomes_1146_excl_identical_ref_alt_Chr1.h5\"))"
     ],
     "language": "python",
     "metadata": {},
     "outputs": []
    },
    {
     "cell_type": "code",
     "collapsed": false,
     "input": [
      "it = store.select(\"gen_df\",chunksize=100000)"
     ],
     "language": "python",
     "metadata": {},
     "outputs": []
    },
    {
     "cell_type": "code",
     "collapsed": false,
     "input": [
      "r1 = dview.map_async(lambda df: df.mean(axis=1)/2.,it)"
     ],
     "language": "python",
     "metadata": {},
     "outputs": []
    },
    {
     "cell_type": "code",
     "collapsed": false,
     "input": [
      "import tables\n",
      "tables.get_hdf5_version()\n",
      "store_c5.root.gen_df.table\n",
      "store.close()\n",
      "testdf = pd.DataFrame(np.random.randn(100,10))\n",
      "with pd.get_store(\"test.h5\",mode=\"w\") as store:\n",
      "    store.append(\"sochn\",testdf,format='table')\n",
      "    store.append(\"sochn\",testdf,format='table')\n",
      "    print store.root.sochn.table"
     ],
     "language": "python",
     "metadata": {},
     "outputs": []
    },
    {
     "cell_type": "code",
     "collapsed": false,
     "input": [
      "store.root.gen_df.table"
     ],
     "language": "python",
     "metadata": {},
     "outputs": []
    },
    {
     "cell_type": "code",
     "collapsed": false,
     "input": [
      "%timeit test(store,chunksize=266)"
     ],
     "language": "python",
     "metadata": {},
     "outputs": []
    },
    {
     "cell_type": "code",
     "collapsed": false,
     "input": [
      "idx = pd.MultiIndex.from_tuples(zip([1]*20,range(20)))\n",
      "idx.names = [\"chrom\",\"pos\"]\n",
      "test_df = pd.DataFrame(np.arange(100).reshape(20,5),columns=list('ABCDE'),index=idx)\n",
      "chrom = 4\n",
      "dtypes = {\"chrom\":np.int8,\"pos\":np.int}\n",
      "dtypes.update({a:np.float16 for a in accesssions})\n",
      "fn = jn(var_ana_dir,\"1001genomes_1146_excl_identical_ref_alt_Chr{}.tsv\".format(chrom))\n",
      "df_it = pd.read_csv(fn,index_col=[0,1],sep=\"\\t\",na_values=\"N\",chunksize=1000,dtype=dtypes)"
     ],
     "language": "python",
     "metadata": {},
     "outputs": []
    },
    {
     "cell_type": "code",
     "collapsed": false,
     "input": [
      "res = dview.map_async(gen_tsv_to_hdf,chromosomes)\n",
      "chrom = 1\n",
      "store_fn = jn(var_ana_dir,'1001genomes_1146_excl_identical_ref_alt_Chr{}.h5'.format(chrom))\n",
      "store = pd.HDFStore(store_fn)\n",
      "chrom = 4\n",
      "store_fn = jn(var_ana_dir,'1001genomes_1146_excl_identical_ref_alt_Chr{}.h5'.format(chrom))\n",
      "store4 = pd.HDFStore(store_fn)\n",
      "store4.select(\"gen_df\",start=0,end=10)"
     ],
     "language": "python",
     "metadata": {},
     "outputs": []
    }
   ],
   "metadata": {}
  }
 ]
}