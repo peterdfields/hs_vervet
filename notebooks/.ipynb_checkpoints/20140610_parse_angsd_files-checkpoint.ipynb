{
 "metadata": {
  "name": "",
  "signature": "sha256:ece3f131207a75a1ba0ba1bdc4c14aa8814c164751c3380d30117b5ae9bbe08c"
 },
 "nbformat": 3,
 "nbformat_minor": 0,
 "worksheets": [
  {
   "cells": [
    {
     "cell_type": "code",
     "collapsed": false,
     "input": [
      "import os\n",
      "import pandas as pd\n",
      "import scipy.stats as stats"
     ],
     "language": "python",
     "metadata": {},
     "outputs": [],
     "prompt_number": 352
    },
    {
     "cell_type": "code",
     "collapsed": false,
     "input": [
      "#parallel\n",
      "from IPython.parallel import Client\n",
      "rc = Client()\n",
      "dview = rc[:] # use all engines"
     ],
     "language": "python",
     "metadata": {},
     "outputs": [],
     "prompt_number": 2
    },
    {
     "cell_type": "code",
     "collapsed": false,
     "input": [
      "%%px --local\n",
      "#Global init\n",
      "import os\n",
      "import pandas as pd\n",
      "eu = os.path.expanduser\n",
      "jn = os.path.join\n",
      "#metadata\n",
      "meta_dir = eu(\"~/vervet_project/metadata\")\n",
      "meta_df = pd.read_csv(os.path.expanduser(\"~/vervet_lab/metadata/163_population_ucla_id_taxon.csv\"),index_col=0)\n",
      "meta_df[\"index\"] = meta_df.index\n",
      "meta_df.drop_duplicates(cols='index', take_last=True, inplace=True)\n",
      "del meta_df[\"index\"]\n",
      "#filenames and variables\n",
      "angst_dir = eu(\"~/vervet_project/analyses/20140507_angsd_163_subpop_allele_freq/_data\")\n",
      "var_ana_dir = eu(\"~/vervet_project/analyses/20140403_UnifiedGenotyper_ref3500_non_VRC/_data\")\n",
      "angst_afs_fn = jn(angst_dir,\"angsd_163_ref3500_snp_filtered_{}_{}.mafs.gz\")\n",
      "ref_alt_genotype_fn = jn(var_ana_dir,\"UGr_163_ref3500_ref_alt_{}.012\")\n",
      "chromosomes = [\"CAE\"+str(n) for n in range(1,30) + [\"X\",\"Y\"]]\n",
      "pops = [\"aet\",\"cyn\",\"pyn\",\"pys\",\"sab\",\"tan\"]\n",
      "colors = [\"blue\",\"magenta\",\"cyan\",\"green\",\"orange\",\"red\"]"
     ],
     "language": "python",
     "metadata": {},
     "outputs": [],
     "prompt_number": 207
    },
    {
     "cell_type": "heading",
     "level": 2,
     "metadata": {},
     "source": [
      "Compare angsd and genotype allele frequency estimates"
     ]
    },
    {
     "cell_type": "code",
     "collapsed": false,
     "input": [
      "def get_gen_df(chrom,pop):\n",
      "    all_df = pd.read_csv(ref_alt_genotype_fn.format(chrom),index_col=[0,1],sep=\"\\t\",na_values=\"N\")\n",
      "    return all_df[meta_df[meta_df[\"population\"]==pop].index]"
     ],
     "language": "python",
     "metadata": {},
     "outputs": [],
     "prompt_number": 208
    },
    {
     "cell_type": "code",
     "collapsed": false,
     "input": [
      "def get_x_n_from_genotypes(gen_df,angsd_df=None):\n",
      "    \"\"\"\n",
      "    angsd_df is needed to infer ancestra/derived\n",
      "    \"\"\"\n",
      "    gen_df = gen_df.copy()\n",
      "    gen_df.index = gen_df.index.droplevel()\n",
      "    if angsd_df is not None:\n",
      "        angsd_df = angsd_df.copy()\n",
      "        angsd_df.index = angsd_df.index.droplevel()\n",
      "        overlap_index = np.sort(np.array(list(set(angsd_df.index).intersection(gen_df.index))))\n",
      "        #print overlap_index\n",
      "        gen_df = gen_df.ix[overlap_index]\n",
      "        angsd_df = angsd_df.ix[overlap_index]\n",
      "        print \"keeping overlapping sites, removing:\",\\\n",
      "                (1-len(overlap_index)*1./max(len(angsd_df.index),len(gen_df.index)))*100,\"%\"\n",
      "        # columns that exist in the genotype file but not in the \n",
      "        #print gen_df.drop(angsd_df.index,axis=0)\n",
      "    gen_df = gen_df[(gen_df.sum(axis=1)>0)*\\\n",
      "                    (gen_df.sum(axis=1)<2*gen_df.notnull().sum(axis=1))]\n",
      "    ac = gen_df.sum(axis=1)\n",
      "    n = 2*gen_df.notnull().sum(axis=1)\n",
      "    if angsd_df is not None:\n",
      "        angsd_df = angsd_df.ix[gen_df.index]\n",
      "        fold = (angsd_df[\"anc\"] != angsd_df[\"major\"]) * \\\n",
      "                (angsd_df[\"anc\"] != angsd_df[\"minor\"])\n",
      "        x = (angsd_df[\"anc\"] == angsd_df[\"major\"]) * ac + \\\n",
      "        (angsd_df[\"anc\"] == angsd_df[\"minor\"]) * (n-ac) + \\\n",
      "        fold * ac.where(ac<n-ac,n-ac) \n",
      "    else:\n",
      "        x = ac\n",
      "        fold = np.nan\n",
      "    df = pd.DataFrame({\"x\":x,\"n\":n,\"folded\":fold.astype(int)})\n",
      "    df.index.name = \"location\" \n",
      "    return df"
     ],
     "language": "python",
     "metadata": {},
     "outputs": [],
     "prompt_number": 284
    },
    {
     "cell_type": "code",
     "collapsed": false,
     "input": [
      "del angsd"
     ],
     "language": "python",
     "metadata": {},
     "outputs": [],
     "prompt_number": 247
    },
    {
     "cell_type": "code",
     "collapsed": false,
     "input": [
      "def get_angsd_df(chrom,pop):\n",
      "    return pd.read_csv(jn(angst_dir,angst_afs_fn.format(chrom,pop)),\n",
      "                       sep=\"\\t\",compression=\"gzip\",index_col=(0,1))"
     ],
     "language": "python",
     "metadata": {},
     "outputs": [],
     "prompt_number": 249
    },
    {
     "cell_type": "code",
     "collapsed": false,
     "input": [
      "def angsd_to_sweepfinder(angsd):\n",
      "    #remove fixed sites\n",
      "    ac = (angsd[\"knownEM\"]*2*angsd[\"nInd\"]).round()\n",
      "    angsd = angsd[(ac>0)*\n",
      "                        (ac<2*angsd[\"nInd\"])]\n",
      "    ac = (angsd[\"knownEM\"]*2*angsd[\"nInd\"]).round()\n",
      "    fold = (angsd[\"anc\"] != angsd[\"major\"]) * \\\n",
      "            (angsd[\"anc\"] != angsd[\"minor\"])\n",
      "    \n",
      "    x = (angsd[\"anc\"] == angsd[\"major\"]) * ac + \\\n",
      "        (angsd[\"anc\"] == angsd[\"minor\"]) * (2*angsd[\"nInd\"]-ac) + \\\n",
      "        fold * ac.where(ac<2*angsd[\"nInd\"]-ac,2*angsd[\"nInd\"]-ac) \n",
      "    sf_df = pd.DataFrame({'x': x,\n",
      "                          'n':2*angsd[\"nInd\"],\n",
      "                          'folded':fold.astype(int)})\n",
      "    sf_df.index = sf_df.index.droplevel()\n",
      "    sf_df.index.name = \"location\"\n",
      "    return  sf_df.reindex_axis([\"x\",\"n\",\"folded\"], axis=1)"
     ],
     "language": "python",
     "metadata": {},
     "outputs": [],
     "prompt_number": 293
    },
    {
     "cell_type": "code",
     "collapsed": false,
     "input": [
      "def overlap_df(xn_gen_df,xn_angsd_df):\n",
      "    overlap_index = np.sort(np.array(list(set(xn_angsd_df.index).intersection(xn_gen_df.index))))\n",
      "\n",
      "    xn_gen_df = xn_gen_df.ix[overlap_index]\n",
      "    xn_angsd_df = xn_angsd_df.ix[overlap_index]\n",
      "    print \"keeping overlapping sites, removing:\",\\\n",
      "            (1-len(overlap_index)*1./max(len(xn_angsd_df.index),len(xn_gen_df.index)))*100.,\"%\"\n",
      "    xn_gen_df.columns = [c+\"_gen\" for c in xn_gen_df.columns]\n",
      "    xn_angsd_df.columns = [c+\"_angsd\" for c in xn_angsd_df.columns]\n",
      "    return xn_gen_df.join(xn_angsd_df)"
     ],
     "language": "python",
     "metadata": {},
     "outputs": [
      {
       "output_type": "stream",
       "stream": "stdout",
       "text": [
        "\n"
       ]
      }
     ],
     "prompt_number": 302
    },
    {
     "cell_type": "code",
     "collapsed": false,
     "input": [
      "chrom = \"CAE29\"\n",
      "pop = \"sab\""
     ],
     "language": "python",
     "metadata": {},
     "outputs": [],
     "prompt_number": 356
    },
    {
     "cell_type": "code",
     "collapsed": false,
     "input": [
      "angsd_df = get_angsd_df(chrom,pop)\n",
      "xn_angsd_df = angsd_to_sweepfinder(angsd_df)\n",
      "df = get_gen_df(chrom,pop)\n",
      "xn_gen_df = get_x_n_from_genotypes(df,angsd_df)"
     ],
     "language": "python",
     "metadata": {},
     "outputs": [
      {
       "output_type": "stream",
       "stream": "stdout",
       "text": [
        "keeping overlapping sites, removing: 0.0 %\n"
       ]
      }
     ],
     "prompt_number": 357
    },
    {
     "cell_type": "code",
     "collapsed": false,
     "input": [
      "compare_df = overlap_df(xn_gen_df,xn_angsd_df)\n",
      "assert (compare_df[\"folded_gen\"]==compare_df[\"folded_angsd\"]).all()"
     ],
     "language": "python",
     "metadata": {},
     "outputs": [
      {
       "output_type": "stream",
       "stream": "stdout",
       "text": [
        "keeping overlapping sites, removing: 0.0 %\n"
       ]
      }
     ],
     "prompt_number": 358
    },
    {
     "cell_type": "code",
     "collapsed": false,
     "input": [
      "ax = plt.gca()\n",
      "H, xedges, yedges = np.histogram2d(compare_df[\"x_gen\"].values,compare_df[\"x_angsd\"].values,bins=20)\n",
      "X, Y = np.meshgrid(xedges, yedges)\n",
      "ax.pcolormesh(X, Y, H)\n",
      "ax.set_aspect('equal')"
     ],
     "language": "python",
     "metadata": {},
     "outputs": [
      {
       "metadata": {},
       "output_type": "display_data",
       "png": "[encoded data removed]",
       "text": [
        "<matplotlib.figure.Figure at 0x31b001d0>"
       ]
      }
     ],
     "prompt_number": 359
    },
    {
     "cell_type": "code",
     "collapsed": false,
     "input": [
      "stats.pearsonr(compare_df[\"x_gen\"].values,compare_df[\"x_angsd\"].values)"
     ],
     "language": "python",
     "metadata": {},
     "outputs": [
      {
       "metadata": {},
       "output_type": "pyout",
       "prompt_number": 360,
       "text": [
        "(0.99512714823955539, 0.0)"
       ]
      }
     ],
     "prompt_number": 360
    }
   ],
   "metadata": {}
  }
 ]
}