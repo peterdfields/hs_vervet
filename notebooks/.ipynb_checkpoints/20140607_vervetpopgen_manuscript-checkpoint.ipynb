{
 "metadata": {
  "name": "",
  "signature": "sha256:e7316ef7c8b5ad247fd21eb86815f96ef5a1f8931d1c45cb9f3592b59f2039fb"
 },
 "nbformat": 3,
 "nbformat_minor": 0,
 "worksheets": [
  {
   "cells": [
    {
     "cell_type": "heading",
     "level": 1,
     "metadata": {},
     "source": [
      "The evolutionary history of a widely distributed African primate inferred from continent-wide whole genome sequencing"
     ]
    },
    {
     "cell_type": "code",
     "collapsed": false,
     "input": [
      "\"\"\"\n",
      "Here we produce many of the basic figures\n",
      "and tables that go into the manuscript.\n",
      "Results from here will be copied over to \n",
      "the google drive version at.\n",
      "https://docs.google.com/document/d/181EiVFdHAH3iugahkyhm2dFrSppEGrXQtRQowuFPTV8/edit?usp=sharing\n",
      "\"\"\""
     ],
     "language": "python",
     "metadata": {},
     "outputs": [
      {
       "metadata": {},
       "output_type": "pyout",
       "prompt_number": 5,
       "text": [
        "'\\nHere we produce many of the basic figures\\nand tables that go into the manuscript.\\nResults from here will be copied over to \\nthe google drive version at.\\nhttps://docs.google.com/document/d/181EiVFdHAH3iugahkyhm2dFrSppEGrXQtRQowuFPTV8/edit?usp=sharing\\n'"
       ]
      }
     ],
     "prompt_number": 5
    },
    {
     "cell_type": "code",
     "collapsed": false,
     "input": [
      "#parallel\n",
      "from IPython.parallel import Client\n",
      "rc = Client(profile=\"hs_server\")\n",
      "dview = rc[:] # use all engines"
     ],
     "language": "python",
     "metadata": {},
     "outputs": [],
     "prompt_number": 2
    },
    {
     "cell_type": "code",
     "collapsed": false,
     "input": [
      "%%px --local\n",
      "#Global init\n",
      "import os\n",
      "import pandas as pd\n",
      "eu = os.path.expanduser\n",
      "jn = os.path.join\n",
      "meta_dir = eu(\"~/vervet_project/metadata\")\n",
      "var_ana_dir = eu(\"~/vervet_project/analyses/20140403_UnifiedGenotyper_ref3500_non_VRC/_data\")\n",
      "manuscript_dir = eu(\"~/vervet_project/manuscript/163_pop_manuscript\")\n",
      "pops = [\"aet\",\"cyn\",\"pyn\",\"pys\",\"sab\",\"tan\"]\n",
      "colors = [\"blue\",\"magenta\",\"cyan\",\"green\",\"orange\",\"red\"]\n",
      "meta_df = pd.read_csv(jn(meta_dir,\"163_population_ucla_id_taxon.csv\"),index_col=0)\n",
      "meta_df[\"index\"] = meta_df.index\n",
      "meta_df.drop_duplicates(subset='index', take_last=True, inplace=True)\n",
      "del meta_df[\"index\"]\n",
      "ucla_ids = meta_df.index.unique()\n",
      "chrom_length = pd.read_csv(eu(\"~/vervet_project/metadata/ref3500.tsv\"),sep=\"\\t\",index_col=0,squeeze=True,header=None)\n",
      "autosomes = [\"CAE\" + str(i) for i in range(1,30)]\n",
      "chromosomes = [\"CAE\" + str(i) for i in range(1,30)+[\"X\",\"Y\"]]"
     ],
     "language": "python",
     "metadata": {},
     "outputs": [],
     "prompt_number": 3
    },
    {
     "cell_type": "heading",
     "level": 2,
     "metadata": {},
     "source": [
      "Results"
     ]
    },
    {
     "cell_type": "heading",
     "level": 3,
     "metadata": {},
     "source": [
      "Global diversity"
     ]
    },
    {
     "cell_type": "code",
     "collapsed": false,
     "input": [
      "#requires supplement \"Mapping and SNP calling\""
     ],
     "language": "python",
     "metadata": {},
     "outputs": []
    },
    {
     "cell_type": "code",
     "collapsed": false,
     "input": [
      "print \"total SNPs:\",total_stats_dic['total']\n",
      "print \"pass SNPs:\",total_stats_dic['pass']"
     ],
     "language": "python",
     "metadata": {},
     "outputs": [
      {
       "output_type": "stream",
       "stream": "stdout",
       "text": [
        "total SNPs: 86866436\n",
        "pass SNPs: 62554660\n"
       ]
      }
     ],
     "prompt_number": 15
    },
    {
     "cell_type": "heading",
     "level": 4,
     "metadata": {},
     "source": [
      "Site frequency spectrum"
     ]
    },
    {
     "cell_type": "heading",
     "level": 5,
     "metadata": {},
     "source": [
      "from genotypes"
     ]
    },
    {
     "cell_type": "code",
     "collapsed": false,
     "input": [
      "def get_gen_df(chrom):\n",
      "    fn = jn(var_ana_dir,\"UGr_163_ref3500_ref_alt_{}.012\".format(chrom))\n",
      "    return pd.read_csv(fn,index_col=[0,1],sep=\"\\t\",na_values=\"N\")\n",
      "\n",
      "def get_anc_df(chrom):\n",
      "    fn = jn(var_ana_dir,\"GATK_UG_163_ref3500_{}_filtered_ancestral_allele.tsv\".format(chrom))\n",
      "    return pd.read_csv(fn,index_col=[0,1],sep=\"\\t\",na_values=\"NA\")\n",
      "    \n",
      "\n",
      "def anc_der_df(gen_df,anc_df):\n",
      "    \"\"\"\n",
      "    returns genotype df poliarised with ancestral state\n",
      "    sites where ancestral state is not ref or alt are omitted\n",
      "    \"\"\"\n",
      "    ref_anc = (anc_df[\"REF\"] == anc_df[\"AA\"])\n",
      "    alt_anc = (anc_df[\"ALT\"] == anc_df[\"AA\"])\n",
      "    return pd.concat([gen_df[ref_anc],(gen_df[alt_anc]-2).abs()]).sort()\n",
      "\n",
      "def get_ac(gen_df,mode=\"sum\"):\n",
      "    \"\"\"\n",
      "    mode = \"sum\" ... just sums up the entries, this means that nans are treated as 0\n",
      "    mode = \"mean\" ... calculates average ignoring nans -> the spectrum is pulled towards\n",
      "                        intermediate frequencies\n",
      "    \"\"\"\n",
      "    n = gen_df.shape[1]\n",
      "    if mode == \"sum\":\n",
      "        return gen_df.sum(axis=1)\n",
      "    elif mode == \"mean\":\n",
      "        af = gen_df.mean(axis=1)/2.\n",
      "        return (af*2*n).round()\n",
      "    else:\n",
      "        raise\n",
      "\n",
      "def get_acs(gen_df):\n",
      "    \"\"\"\n",
      "    get allele count spectrum (histogram)\n",
      "    \"\"\"\n",
      "    n = gen_df.shape[1]\n",
      "    ac = get_ac(gen_df)\n",
      "    bins = np.arange(-0.5,2*n+0.501)\n",
      "    h, bins = np.histogram(ac,bins=bins)\n",
      "    return h, bins\n",
      "\n",
      "def plot_hist(h,bins):\n",
      "    \n",
      "    width = 0.7 * (bins[1] - bins[0])\n",
      "    center = (bins[:-1] + bins[1:]) / 2\n",
      "    plt.bar(center, h, align='center', width=width)\n",
      "    ax = plt.gca()\n",
      "    ax.set_xlim(bins[0],bins[-1])\n",
      "    \n",
      "    #calculate and plot theta waterson\n",
      "    n = int(bins[-1])\n",
      "    theta_waterson = h.sum()*1./sum([1./i for i in range(1,n)])\n",
      "    x = np.arange(2,2*n)\n",
      "    label =\"neutral spectrum\\n w/ wattersons theta\"\n",
      "    line, = plot(x,theta_waterson/x,linewidth=2.5, linestyle=\"--\",color=(0.8,0.8,0),\n",
      "                label=label)\n",
      "def acs_from_chrom(chrom,anc_der=True):\n",
      "    \"\"\"\n",
      "    allele count spectrum (histogram)\n",
      "    for either ancestral-derived (anc_der=True)\n",
      "    or ref-alt alleles\n",
      "    \"\"\"\n",
      "    gen_df = get_gen_df(chrom)\n",
      "    if anc_der:\n",
      "        anc_df = get_anc_df(chrom)\n",
      "        df = anc_der_df(gen_df,anc_df)\n",
      "    else:\n",
      "        df = gen_df\n",
      "    return get_acs(df)"
     ],
     "language": "python",
     "metadata": {},
     "outputs": [],
     "prompt_number": 73
    },
    {
     "cell_type": "code",
     "collapsed": false,
     "input": [
      "gen_df = get_gen_df(\"CAE29\")"
     ],
     "language": "python",
     "metadata": {},
     "outputs": [],
     "prompt_number": 23
    },
    {
     "cell_type": "code",
     "collapsed": false,
     "input": [
      "anc_df = get_anc_df(\"CAE29\")"
     ],
     "language": "python",
     "metadata": {},
     "outputs": [],
     "prompt_number": 29
    },
    {
     "cell_type": "code",
     "collapsed": false,
     "input": [
      "anc_der_df = anc_der_df(gen_df,anc_df)"
     ],
     "language": "python",
     "metadata": {},
     "outputs": [],
     "prompt_number": 58
    },
    {
     "cell_type": "code",
     "collapsed": false,
     "input": [
      "plot_hist(*get_acs(gen_df))\n",
      "ax = plt.gca()\n",
      "ax.set_xlim([250,326])\n",
      "ax.set_ylim([0,2000])"
     ],
     "language": "python",
     "metadata": {},
     "outputs": [
      {
       "metadata": {},
       "output_type": "pyout",
       "prompt_number": 70,
       "text": [
        "(0, 2000)"
       ]
      },
      {
       "metadata": {},
       "output_type": "display_data",
       "png": "[encoded data removed]",
       "text": [
        "<matplotlib.figure.Figure at 0x1b262c50>"
       ]
      }
     ],
     "prompt_number": 70
    },
    {
     "cell_type": "code",
     "collapsed": false,
     "input": [
      "plot_hist(*get_acs(anc_der_df))\n",
      "ax = plt.gca()\n",
      "ax.set_xlim([250,326])\n",
      "ax.set_ylim([0,2000])"
     ],
     "language": "python",
     "metadata": {},
     "outputs": [
      {
       "metadata": {},
       "output_type": "pyout",
       "prompt_number": 71,
       "text": [
        "(0, 2000)"
       ]
      },
      {
       "metadata": {},
       "output_type": "display_data",
       "png": "[encoded data removed]",
       "text": [
        "<matplotlib.figure.Figure at 0x24067290>"
       ]
      }
     ],
     "prompt_number": 71
    },
    {
     "cell_type": "heading",
     "level": 4,
     "metadata": {},
     "source": [
      "Pairwise differences"
     ]
    },
    {
     "cell_type": "code",
     "collapsed": false,
     "input": [
      "def genotype_difference(gt0,gt1):\n",
      "    #the second term accounts for heterozygote comparisons\n",
      "    return (gt0-gt1).abs().sum()+(gt0==1)*(gt1==1)\n",
      "def pairwise_diff_mat(df):\n",
      "    return pd.DataFrame({key1:{key0:genotype_difference(df[key0],df[key1]) for key0 in df} for key1 in df})"
     ],
     "language": "python",
     "metadata": {},
     "outputs": []
    },
    {
     "cell_type": "code",
     "collapsed": false,
     "input": [],
     "language": "python",
     "metadata": {},
     "outputs": []
    },
    {
     "cell_type": "heading",
     "level": 2,
     "metadata": {},
     "source": [
      "Supplement"
     ]
    },
    {
     "cell_type": "heading",
     "level": 3,
     "metadata": {},
     "source": [
      "Sample collection, sequencing and mapping"
     ]
    },
    {
     "cell_type": "code",
     "collapsed": false,
     "input": [
      "stats_table = meta_df.sort([\"population\",\"country\"])\n",
      "del stats_table[\"path\"]\n",
      "print \"# of countries:\", len(stats_table[\"country\"].unique())"
     ],
     "language": "python",
     "metadata": {},
     "outputs": [
      {
       "output_type": "stream",
       "stream": "stdout",
       "text": [
        "# of countries: 12\n"
       ]
      }
     ],
     "prompt_number": 4
    },
    {
     "cell_type": "heading",
     "level": 4,
     "metadata": {},
     "source": [
      "parse flagstat infos "
     ]
    },
    {
     "cell_type": "code",
     "collapsed": false,
     "input": [
      "flagstat_rows = [\"total\",\"duplicates\",\"mapped\",\"paired in sequencing\",\"read1\",\"read2\",\"properly paired\",\"both mapped\",\"singletons\",\"mate different chr\",\"mate different chr mapQ>5\"]\n",
      "def flagstat_fn(ind):\n",
      "    return eu(\"~/vervet_project/analyses/\"\n",
      "                \"20140213_163_read_alignment_ref3500/_data/\"\n",
      "                \"{}_vs_ref3500.flagstat\".format(ind))\n",
      "def read_flagstat(ind):\n",
      "    flagstat_dic = {}\n",
      "    with open(flagstat_fn(ind),\"r\") as ff:\n",
      "        for name,line in zip(flagstat_rows,ff):\n",
      "            el = line.split(\" + 0 \")\n",
      "            assert len(el)>1, \"QC-failed reads =! 0 not implemented. Rewrite this function.\"\n",
      "            flagstat_dic.update({name:int(el[0])})\n",
      "    return flagstat_dic"
     ],
     "language": "python",
     "metadata": {},
     "outputs": [],
     "prompt_number": 179
    },
    {
     "cell_type": "code",
     "collapsed": false,
     "input": [
      "flagstat_df = pd.DataFrame({id:pd.Series(read_flagstat(id)) for id in ucla_ids}).T\n",
      "flagstat_df[\"percent mapped\"] = flagstat_df[\"mapped\"]*100./flagstat_df[\"total\"]\n",
      "flagstat_df.rename(columns={'total':'total reads',\"percent mapped\":\"percent mapped (incl. scaffolds)\"}, inplace=True)"
     ],
     "language": "python",
     "metadata": {},
     "outputs": [],
     "prompt_number": 148
    },
    {
     "cell_type": "code",
     "collapsed": false,
     "input": [
      "stats_table = stats_table.join(flagstat_df[[\"total reads\",\"percent mapped (incl. scaffolds)\"]])\n",
      "stats_table[\"percent mapped (incl. scaffolds)\"] = stats_table[\"percent mapped (incl. scaffolds)\"].apply(lambda x: round(10*x)/10.)"
     ],
     "language": "python",
     "metadata": {},
     "outputs": [],
     "prompt_number": 149
    },
    {
     "cell_type": "heading",
     "level": 4,
     "metadata": {},
     "source": [
      "parse depth of coverage info"
     ]
    },
    {
     "cell_type": "code",
     "collapsed": false,
     "input": [
      "coverage_stats = pd.read_csv(jn(meta_dir,\"163_vs_ref_3500_coverage.tsv\"),sep=\"\\t\",index_col=0)\n",
      "print \"total average coverage:\",coverage_stats.ix[\"mean_autosome\"][\"Total\"]\n",
      "mean_coverage = coverage_stats.ix[\"mean_autosome\"].drop(\"Total\")\n",
      "mean_coverage.name = \"mean autosomal coverage\"\n",
      "stats_table = stats_table.join(mean_coverage)\n"
     ],
     "language": "python",
     "metadata": {},
     "outputs": [
      {
       "output_type": "stream",
       "stream": "stdout",
       "text": [
        "total average coverage: 797.6\n"
       ]
      }
     ],
     "prompt_number": 150
    },
    {
     "cell_type": "code",
     "collapsed": false,
     "input": [
      "stats_table.to_excel(jn(manuscript_dir,\"tables/\",\"mapping_table.xls\"))"
     ],
     "language": "python",
     "metadata": {},
     "outputs": [],
     "prompt_number": 152
    },
    {
     "cell_type": "code",
     "collapsed": false,
     "input": [
      "stats_table.to_csv(jn(manuscript_dir,\"tables/\",\"mapping_table.csv\"))"
     ],
     "language": "python",
     "metadata": {},
     "outputs": [],
     "prompt_number": 153
    },
    {
     "cell_type": "heading",
     "level": 3,
     "metadata": {},
     "source": [
      "Mapping and SNP calling"
     ]
    },
    {
     "cell_type": "code",
     "collapsed": false,
     "input": [
      "import json\n",
      "def stats_dic(chrom):\n",
      "    stats_fn = jn(var_ana_dir,\"snp_stats_{}.json\".format(chrom))\n",
      "    stats_dic = json.load(open(stats_fn,\"r\"))\n",
      "    return stats_dic"
     ],
     "language": "python",
     "metadata": {},
     "outputs": [],
     "prompt_number": 8
    },
    {
     "cell_type": "code",
     "collapsed": false,
     "input": [
      "chrom_dicts = [stats_dic(chrom) for chrom in chromosomes]"
     ],
     "language": "python",
     "metadata": {},
     "outputs": [],
     "prompt_number": 9
    },
    {
     "cell_type": "code",
     "collapsed": false,
     "input": [
      "autosome_stats_dic = stats_dic(autosomes[0])\n",
      "for chrom in autosomes[1:]:\n",
      "    stats_dic1 = stats_dic(chrom)\n",
      "    for key in autosome_stats_dic:\n",
      "        if key == \"filters\":\n",
      "            for key1 in autosome_stats_dic[key]:\n",
      "                autosome_stats_dic[key][key1] += stats_dic1[key][key1]\n",
      "        else:\n",
      "            autosome_stats_dic[key] += stats_dic1[key]"
     ],
     "language": "python",
     "metadata": {},
     "outputs": [],
     "prompt_number": 12
    },
    {
     "cell_type": "code",
     "collapsed": false,
     "input": [
      "total_stats_dic = stats_dic(chromosomes[0])\n",
      "for chrom in chromosomes[1:]:\n",
      "    stats_dic1 = stats_dic(chrom)\n",
      "    for key in total_stats_dic:\n",
      "        if key == \"filters\":\n",
      "            for key1 in total_stats_dic[key]:\n",
      "                total_stats_dic[key][key1] += stats_dic1[key][key1]\n",
      "        else:\n",
      "            total_stats_dic[key] += stats_dic1[key]"
     ],
     "language": "python",
     "metadata": {},
     "outputs": [],
     "prompt_number": 13
    },
    {
     "cell_type": "code",
     "collapsed": false,
     "input": [
      "fraction_ancestral_known = autosome_stats_dic[\"pass_ancestral_known\"]*1./autosome_stats_dic[\"pass\"]\n",
      "print \"fraction of sites for which ancestral state is known (unique mapping to macaque):\",fraction_ancestral_known"
     ],
     "language": "python",
     "metadata": {},
     "outputs": [
      {
       "output_type": "stream",
       "stream": "stdout",
       "text": [
        "fraction of sites for which ancestral state is known (unique mapping to macaque): 0.843622154733\n"
       ]
      }
     ],
     "prompt_number": 192
    },
    {
     "cell_type": "code",
     "collapsed": false,
     "input": [
      "macaque_state_is_ref_or_alt = (autosome_stats_dic[\"pass_ancestral_is_alt\"] + autosome_stats_dic[\"pass_ancestral_is_ref\"])*1./autosome_stats_dic[\"pass_ancestral_known\"]\n",
      "print \"fraction of sites where ancestral state is ref or alt (no third allele):\", macaque_state_is_ref_or_alt"
     ],
     "language": "python",
     "metadata": {},
     "outputs": [
      {
       "output_type": "stream",
       "stream": "stdout",
       "text": [
        "fraction of sites where ancestral state is ref or alt (no third allele): 0.985307219035\n"
       ]
      }
     ],
     "prompt_number": 193
    },
    {
     "cell_type": "code",
     "collapsed": false,
     "input": [
      "mpl.rcParams[\"font.size\"]=15\n",
      "fig=figure(1, figsize=(18,5))\n",
      "\n",
      "ax = plt.subplot2grid((2,3), (0,0), colspan=2)\n",
      "\n",
      "\n",
      "\n",
      "#ax = fig.add_subplot(121)\n",
      "title(\"SNPs per chromosome\")\n",
      "pos = np.arange(len(chrom_dicts))\n",
      "snps_pass = np.array([d[\"pass\"] for d in chrom_dicts])\n",
      "snps_non_pass = [d[\"total\"]-d[\"pass\"] for d in chrom_dicts]\n",
      "p1 = plt.bar(pos+0.1,snps_pass,width=0.8,color=\"r\")\n",
      "p2 = plt.bar(pos+0.1,snps_non_pass,width=0.8,bottom=snps_pass,color=\"y\")\n",
      "plt.legend( (p1[0], p2[0]), ('pass', 'filtered'),  loc = (0.85,0.66)  )\n",
      "ax.yaxis.major.formatter.set_powerlimits((0,0)) \n",
      "ax.ticklabel_format(style='sci', axis='y') \n",
      "ax.set_xlim([-0.5,len(chrom_dicts)+0.5])\n",
      "plt.tick_params(\\\n",
      "    axis='x',          # changes apply to the x-axis\n",
      "    which='both',      # both major and minor ticks are affected\n",
      "    bottom='off',      # ticks along the bottom edge are off\n",
      "    top='off',         # ticks along the top edge are off\n",
      "    labelbottom='off') # labels along the bottom edge are off\n",
      "\n",
      "\n",
      "\n",
      "ax = plt.subplot2grid((2,3), (0,2), rowspan=2) \n",
      "#ax = fig.add_subplot(122)\n",
      "title(\"Snps filtered by filter X.\")\n",
      "proportions = np.array(total_stats_dic[\"filters\"].values())*100./total_stats_dic[\"total\"]\n",
      "pos = np.arange(len(proportions))\n",
      "barh(pos,proportions)\n",
      "ax.set_yticks(pos+0.5)\n",
      "ax.set_yticklabels(total_stats_dic[\"filters\"].keys())\n",
      "ax.set_xlabel(\"Percent of total snps.\")\n",
      "#ax.xaxis.major.formatter.set_powerlimits((0,0)) \n",
      "#ax.ticklabel_format(style='sci', axis='x') \n",
      "plt.tick_params(\\\n",
      "    axis='y',          # changes apply to the x-axis\n",
      "    which='both',      # both major and minor ticks are affected\n",
      "    left='off',      # ticks along the bottom edge are off\n",
      "    right='off')\n",
      "\n",
      "\n",
      "ax = plt.subplot2grid((2,3), (1,0), colspan=2)\n",
      "title(\"SNP density (pass)\")\n",
      "pos = np.arange(len(chrom_dicts))\n",
      "snp_density = snps_pass*1./chrom_length.values\n",
      "plt.bar(pos+0.1,snp_density,width=0.8)\n",
      "ax.set_xticks(pos+0.5)\n",
      "ax.set_xticklabels(chromosomes)\n",
      "labels = ax.get_xticklabels() \n",
      "for label in labels: \n",
      "    label.set_rotation(90) \n",
      "ax.set_xlim([-0.5,len(chrom_dicts)+0.5])\n",
      "\n",
      "plt.tick_params(\\\n",
      "    axis='x',          # changes apply to the x-axis\n",
      "    which='both',      # both major and minor ticks are affected\n",
      "    bottom='off',      # ticks along the bottom edge are off\n",
      "    top='off')\n",
      "\n",
      "fig.subplots_adjust(wspace=0.55)"
     ],
     "language": "python",
     "metadata": {},
     "outputs": [
      {
       "metadata": {},
       "output_type": "display_data",
       "png": "[encoded data removed]",
       "text": [
        "<matplotlib.figure.Figure at 0x3987050>"
       ]
      }
     ],
     "prompt_number": 202
    },
    {
     "cell_type": "code",
     "collapsed": false,
     "input": [],
     "language": "python",
     "metadata": {},
     "outputs": []
    }
   ],
   "metadata": {}
  }
 ]
}