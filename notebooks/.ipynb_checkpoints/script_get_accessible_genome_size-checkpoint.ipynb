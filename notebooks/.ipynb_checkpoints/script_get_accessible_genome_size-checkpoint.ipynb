{
 "metadata": {
  "name": "",
  "signature": "sha256:3642d239f817cb411c7ae692cf2b328e3aac10f74be2830c9847f8ad14a58b52"
 },
 "nbformat": 3,
 "nbformat_minor": 0,
 "worksheets": [
  {
   "cells": [
    {
     "cell_type": "code",
     "collapsed": false,
     "input": [
      "import vcf as vcftools\n",
      "import os\n",
      "from hs_vervet.tools import hs_vervet_basics as hvb\n",
      "eu = os.path.expanduser\n",
      "jn = os.path.join"
     ],
     "language": "python",
     "metadata": {},
     "outputs": [],
     "prompt_number": 55
    },
    {
     "cell_type": "code",
     "collapsed": false,
     "input": [
      "data_dir = eu(\"~/vervet_project/analyses/20140524_SNP_calling_ref3500_10X_individuals/_data\")\n",
      "fn_nozip = jn(data_dir,\"GATK_UnifiedGenotyper_10Xind_allsites_CAE29_filter.vcf\")\n",
      "fn_zip = jn(data_dir,\"GATK_UnifiedGenotyper_10Xind_allsites_CAE29_filter.vcf.gz\")"
     ],
     "language": "python",
     "metadata": {},
     "outputs": [],
     "prompt_number": 56
    },
    {
     "cell_type": "code",
     "collapsed": false,
     "input": [
      "vcf = vcftools.Reader(filename=fn_nozip)\n",
      "vcfzip = vcftools.Reader(filename=fn_zip)"
     ],
     "language": "python",
     "metadata": {},
     "outputs": [],
     "prompt_number": 57
    },
    {
     "cell_type": "code",
     "collapsed": false,
     "input": [
      "def parse_through_vcf(vcf):\n",
      "    l = []\n",
      "    for record in vcf:\n",
      "        l.append(record.POS)"
     ],
     "language": "python",
     "metadata": {},
     "outputs": [],
     "prompt_number": 32
    },
    {
     "cell_type": "code",
     "collapsed": false,
     "input": [
      "for record in vcfzip.fetch(\"CAE1\",start=0,end=100):\n",
      "    print record.POS"
     ],
     "language": "python",
     "metadata": {},
     "outputs": [
      {
       "ename": "ValueError",
       "evalue": "invalid region `CAE1:0-100`",
       "output_type": "pyerr",
       "traceback": [
        "\u001b[1;31m---------------------------------------------------------------------------\u001b[0m\n\u001b[1;31mValueError\u001b[0m                                Traceback (most recent call last)",
        "\u001b[1;32m<ipython-input-44-c9b56ac4fe0b>\u001b[0m in \u001b[0;36m<module>\u001b[1;34m()\u001b[0m\n\u001b[1;32m----> 1\u001b[1;33m \u001b[1;32mfor\u001b[0m \u001b[0mrecord\u001b[0m \u001b[1;32min\u001b[0m \u001b[0mvcfzip\u001b[0m\u001b[1;33m.\u001b[0m\u001b[0mfetch\u001b[0m\u001b[1;33m(\u001b[0m\u001b[1;34m\"CAE1\"\u001b[0m\u001b[1;33m,\u001b[0m\u001b[0mstart\u001b[0m\u001b[1;33m=\u001b[0m\u001b[1;36m0\u001b[0m\u001b[1;33m,\u001b[0m\u001b[0mend\u001b[0m\u001b[1;33m=\u001b[0m\u001b[1;36m100\u001b[0m\u001b[1;33m)\u001b[0m\u001b[1;33m:\u001b[0m\u001b[1;33m\u001b[0m\u001b[0m\n\u001b[0m\u001b[0;32m      2\u001b[0m     \u001b[1;32mprint\u001b[0m \u001b[0mrecord\u001b[0m\u001b[1;33m.\u001b[0m\u001b[0mPOS\u001b[0m\u001b[1;33m\u001b[0m\u001b[0m\n",
        "\u001b[1;32m/home/GMI/hannes.svardal/.local/lib/python2.7/site-packages/vcf/parser.pyc\u001b[0m in \u001b[0;36mfetch\u001b[1;34m(self, chrom, start, end)\u001b[0m\n\u001b[0;32m    597\u001b[0m                 \u001b[1;32mreturn\u001b[0m \u001b[0mNone\u001b[0m\u001b[1;33m\u001b[0m\u001b[0m\n\u001b[0;32m    598\u001b[0m \u001b[1;33m\u001b[0m\u001b[0m\n\u001b[1;32m--> 599\u001b[1;33m         \u001b[0mself\u001b[0m\u001b[1;33m.\u001b[0m\u001b[0mreader\u001b[0m \u001b[1;33m=\u001b[0m \u001b[0mself\u001b[0m\u001b[1;33m.\u001b[0m\u001b[0m_tabix\u001b[0m\u001b[1;33m.\u001b[0m\u001b[0mfetch\u001b[0m\u001b[1;33m(\u001b[0m\u001b[0mchrom\u001b[0m\u001b[1;33m,\u001b[0m \u001b[0mstart\u001b[0m\u001b[1;33m,\u001b[0m \u001b[0mend\u001b[0m\u001b[1;33m)\u001b[0m\u001b[1;33m\u001b[0m\u001b[0m\n\u001b[0m\u001b[0;32m    600\u001b[0m         \u001b[1;32mreturn\u001b[0m \u001b[0mself\u001b[0m\u001b[1;33m\u001b[0m\u001b[0m\n\u001b[0;32m    601\u001b[0m \u001b[1;33m\u001b[0m\u001b[0m\n",
        "\u001b[1;32m/usr/local/lib/python2.7/dist-packages/pysam/ctabix.so\u001b[0m in \u001b[0;36mpysam.ctabix.Tabixfile.fetch (pysam/ctabix.c:3582)\u001b[1;34m()\u001b[0m\n",
        "\u001b[1;32m/usr/local/lib/python2.7/dist-packages/pysam/ctabix.so\u001b[0m in \u001b[0;36mpysam.ctabix.Tabixfile._parseRegion (pysam/ctabix.c:3194)\u001b[1;34m()\u001b[0m\n",
        "\u001b[1;31mValueError\u001b[0m: invalid region `CAE1:0-100`"
       ]
      }
     ],
     "prompt_number": 44
    },
    {
     "cell_type": "code",
     "collapsed": false,
     "input": [
      "class VCFParser(object):\n",
      "    \"\"\"\n",
      "    parse a vcf file using pyvcf\n",
      "    allowing for parallelisation\n",
      "    input:\n",
      "    vcf_fn: vcf filename\n",
      "    \n",
      "    \"\"\"\n",
      "    def __init__(self,vcf_fn):\n",
      "        pass\n",
      "    def prepare_vcf(self,keep_original=False):\n",
      "        \"\"\"\n",
      "        Prepare vcf for random access:\n",
      "        bgzip vcf\n",
      "        tabix index vcf\n",
      "        \"\"\"\n",
      "        \n",
      "        "
     ],
     "language": "python",
     "metadata": {},
     "outputs": []
    },
    {
     "cell_type": "code",
     "collapsed": false,
     "input": [
      "import multiprocessing as mp\n",
      "import os\n",
      "def parallel_parse(vcf,chrom,map_fun,reduce_fun,n_cpus=\"auto\",parallel_framework=\"multiprocessing\",chunksize=None):\n",
      "    chrom_len = vcf.contigs[chrom].length\n",
      "    if n_cpus == 'auto':\n",
      "        n_cpus = mp.cpu_count()\n",
      "    if chunksize is None:\n",
      "        chunksize = int(ceil(chrom_len*1./ncpus))\n",
      "    else:\n",
      "        raise ValueError(\"Custom chunksize not implemented. Use None.\")\n",
      "    \n",
      "    chunks = [vcf.fetch(chrom,start,start+chunksize) \\\n",
      "              for start in range(1,chrom_len+1,chunksize)]\n",
      "    tmp_fns = [os.path.join(temp_dir,) ]\n",
      "    \n",
      "    hvb.parmap(lambda j: j.run_jobscript(),self.jobs)\n",
      "    if parallel_framework == \"multiprocessing\":"
     ],
     "language": "python",
     "metadata": {},
     "outputs": []
    },
    {
     "cell_type": "code",
     "collapsed": false,
     "input": [
      "def parse_chunk(vcf,chrom,start,end):"
     ],
     "language": "python",
     "metadata": {},
     "outputs": []
    },
    {
     "cell_type": "code",
     "collapsed": false,
     "input": [
      "import uuid\n",
      "def parse_fun(vcf):\n",
      "    fn = uuid.uuid4()\n",
      "    with open(fn,'w') as f:\n",
      "        for record in vcf:\n",
      "            f.write(record.CHROM+'\\t'+record.POS+'\\t'+record.REF+'\\t'+record.ALT[0]+\"\\n\")\n",
      "    return fn"
     ],
     "language": "python",
     "metadata": {},
     "outputs": []
    },
    {
     "cell_type": "code",
     "collapsed": false,
     "input": [
      "def reduce_fun(fns):\n",
      "    with open(\"outfile.test\",\"w\") as outfile:\n",
      "        for fn in fns:\n",
      "            with open(fn,\"r\") as f:\n",
      "                for line in f:\n",
      "                    outfile.write(line)\n",
      "            "
     ],
     "language": "python",
     "metadata": {},
     "outputs": []
    },
    {
     "cell_type": "code",
     "collapsed": false,
     "input": [
      "#parallelize vcftools ...\n",
      "distribute chunks with .fetch\n",
      "def function_on_record\n",
      "...\n",
      "write to tempfile for each chunk\n",
      "reduce tempfiles and remove them\n",
      "\n",
      "should be genetic enough to work with any parsing\n",
      "either give output for each entry or (more likely due to memory restrictions) write to file..."
     ],
     "language": "python",
     "metadata": {},
     "outputs": []
    },
    {
     "cell_type": "code",
     "collapsed": false,
     "input": [
      "%timeit parse_through_vcf(vcfzip)"
     ],
     "language": "python",
     "metadata": {},
     "outputs": []
    },
    {
     "cell_type": "code",
     "collapsed": false,
     "input": [
      "def remote_function(chrom,start,end):\n",
      "    return (\"finished\",chrom,start,end)"
     ],
     "language": "python",
     "metadata": {},
     "outputs": [],
     "prompt_number": 31
    },
    {
     "cell_type": "code",
     "collapsed": false,
     "input": [
      "chrom"
     ],
     "language": "python",
     "metadata": {},
     "outputs": []
    },
    {
     "cell_type": "code",
     "collapsed": false,
     "input": [
      "hvb.parmap(lambda p: remote_function(\"CAE29\",*p),[(0,10),(11,20),(21,30)])"
     ],
     "language": "python",
     "metadata": {},
     "outputs": [
      {
       "metadata": {},
       "output_type": "pyout",
       "prompt_number": 35,
       "text": [
        "[('finished', 'CAE29', 0, 10),\n",
        " ('finished', 'CAE29', 11, 20),\n",
        " ('finished', 'CAE29', 21, 30)]"
       ]
      }
     ],
     "prompt_number": 35
    },
    {
     "cell_type": "code",
     "collapsed": false,
     "input": [
      "idea:\n",
      "    provide a map function and a reduce function\n",
      "    two options: \n",
      "        count something\n",
      "        write to file"
     ],
     "language": "python",
     "metadata": {},
     "outputs": []
    }
   ],
   "metadata": {}
  }
 ]
}