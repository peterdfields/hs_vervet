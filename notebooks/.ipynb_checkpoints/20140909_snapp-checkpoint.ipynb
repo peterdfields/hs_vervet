{
 "metadata": {
  "name": "",
  "signature": "sha256:8b174c2155eaf6e93558d824578051b91e8033b8fa3476dcd5bb85526d762f20"
 },
 "nbformat": 3,
 "nbformat_minor": 0,
 "worksheets": [
  {
   "cells": [
    {
     "cell_type": "code",
     "collapsed": false,
     "input": [
      "import os\n",
      "import pandas as pd\n",
      "import numpy as np\n",
      "import scipy\n",
      "import pickle\n",
      "from numpy import *\n",
      "import matplotlib as mpl\n",
      "from matplotlib import pyplot as plt\n",
      "eu = os.path.expanduser\n",
      "jn = os.path.join\n",
      "admix_ana_dir = eu(\"~/vervet_project/analyses/20140902_admixture/_data\")\n",
      "snapp_ana_dir = eu(\"~/vervet_project/analyses/20140909_snapp/_data\")"
     ],
     "language": "python",
     "metadata": {},
     "outputs": [],
     "prompt_number": 2
    },
    {
     "cell_type": "code",
     "collapsed": false,
     "input": [
      "ped_fn = jn(admix_ana_dir,\"163_f2_maf0p05_CAE28_t_ld_prune_0p1.ped\")\n",
      "nexus_fn = jn(snapp_ana_dir,\"vervet_CAE28_0p01.nexus\")"
     ],
     "language": "python",
     "metadata": {},
     "outputs": [],
     "prompt_number": 3
    },
    {
     "cell_type": "code",
     "collapsed": false,
     "input": [
      "n_individuals = 163\n",
      "with open(ped_fn,\"r\") as bf, open(nexus_fn,\"w\") as nf:\n",
      "    nf.write(\"#nexus\\n\\n\")\n",
      "    \n",
      "    for line in bf:\n",
      "        \n",
      "    "
     ],
     "language": "python",
     "metadata": {},
     "outputs": []
    },
    {
     "cell_type": "code",
     "collapsed": false,
     "input": [
      "#nexus\n",
      "\n",
      "BEGIN Taxa;.\n",
      "DIMENSIONS ntax=2;.\n",
      "TAXLABELS.\n",
      "[1] 'taxon_1'.\n",
      "[2] 'taxon_2'.\n",
      ";.\n",
      "END; [Taxa].\n",
      "\n",
      "BEGIN Characters;.\n",
      "DIMENSIONS nchar=50;.\n",
      "FORMAT.\n",
      "        datatype=STANDARD.\n",
      "        missing=?.\n",
      "        gap=-.\n",
      "        symbols=\"01\".\n",
      "        labels=left.\n",
      "        transpose=no.\n",
      "        interleave=no.\n",
      ";.\n",
      "MATRIX.\n",
      "'taxon_1'  10001010000000100010000001000001010100000010001000.\n",
      "'taxon_2'  01010001000000000000100000000010000100000000001000.\n",
      ";.\n",
      "End;"
     ],
     "language": "python",
     "metadata": {},
     "outputs": []
    },
    {
     "cell_type": "code",
     "collapsed": false,
     "input": [],
     "language": "python",
     "metadata": {},
     "outputs": []
    },
    {
     "cell_type": "code",
     "collapsed": false,
     "input": [],
     "language": "python",
     "metadata": {},
     "outputs": []
    }
   ],
   "metadata": {}
  }
 ]
}