{
 "metadata": {
  "name": "",
  "signature": "sha256:84fbdbe010d9685f86e3e3165b57286b25203090c1fde176c2c9af9c57fe30ef"
 },
 "nbformat": 3,
 "nbformat_minor": 0,
 "worksheets": []
}