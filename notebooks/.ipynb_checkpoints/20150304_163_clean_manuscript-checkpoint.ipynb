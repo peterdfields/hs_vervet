{
 "metadata": {
  "name": "",
  "signature": "sha256:75ce6cf13b7903ee1452c108d983687e54d6445a16483cfac57cf3e2518c8149"
 },
 "nbformat": 3,
 "nbformat_minor": 0,
 "worksheets": [
  {
   "cells": [
    {
     "cell_type": "heading",
     "level": 1,
     "metadata": {},
     "source": [
      "High diversity, cross-taxon gene flow and signals of SIV-related selection in vervet monkeys inferred from Africa-wide whole genome sequencing"
     ]
    },
    {
     "cell_type": "heading",
     "level": 2,
     "metadata": {},
     "source": [
      "Abstract"
     ]
    },
    {
     "cell_type": "markdown",
     "metadata": {},
     "source": [
      "The characterisation of the evolutionary history and adaptive forces in a close human relative is relevant for understanding our own evolutionary past and susceptibility to disease. Here we use whole genome re-sequencing of 163 vervet monkeys of five sub-taxa sampled across the African continent to infer subspecies relationships and demonstrate cross-taxon gene-flow. Identifying more than 50 million single nucleotide polymorphisms, we find both high diversity within and differentiation across sub-taxa. Unexpectedly, 10% of the common variants are common in all sub-taxa, pointing to potential targets of balancing selection. A scan for balancing selection shows enrichment in un-annotated genes and identifies the MHC and other immune system related genes. A scan for positive selection that makes use of the allele frequency differentiation across sub-taxa is highly enriched in genes whose orthologs have been demonstrated to interact with HIV, pointing to candidate loci for the adaptation to SIV and other viral pathogens."
     ]
    },
    {
     "cell_type": "heading",
     "level": 2,
     "metadata": {},
     "source": [
      "Supplementary material"
     ]
    },
    {
     "cell_type": "code",
     "collapsed": false,
     "input": [],
     "language": "python",
     "metadata": {},
     "outputs": []
    }
   ],
   "metadata": {}
  }
 ]
}