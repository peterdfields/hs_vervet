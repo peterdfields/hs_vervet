{
 "metadata": {
  "name": "",
  "signature": "sha256:62327aa4936e2a2dfb39628e6a57c0ddc503ca8bdbf193727f1dd5044ae436c1"
 },
 "nbformat": 3,
 "nbformat_minor": 0,
 "worksheets": [
  {
   "cells": [
    {
     "cell_type": "code",
     "collapsed": false,
     "input": [],
     "language": "python",
     "metadata": {},
     "outputs": []
    },
    {
     "cell_type": "code",
     "collapsed": false,
     "input": [
      "#parallel\n",
      "from IPython.parallel import Client\n",
      "rc = Client(profile=\"default\")\n",
      "dview = rc[:] # use all engines\n",
      "lv = rc.load_balanced_view()"
     ],
     "language": "python",
     "metadata": {},
     "outputs": [],
     "prompt_number": 333
    },
    {
     "cell_type": "code",
     "collapsed": false,
     "input": [
      "%%px --local\n",
      "import os\n",
      "import numpy as np\n",
      "import pandas as pd\n",
      "import vcf, pyfasta\n",
      "chromosomes = [\"CAE\" + str(i) for i in range(1,30) + [\"X\"] + ['Y'] ]\n",
      "eu = os.path.expanduser\n",
      "jn = os.path.join\n",
      "var_ana_dir = eu(\"~/vervet_project/analyses/20140403_UnifiedGenotyper_ref3500_non_VRC/_data\")\n",
      "meta_dir = eu(\"~/vervet_project/metadata\")\n",
      "#gene_df_ensembl = pd.read_csv(jn(meta_dir,\"annot_ensemble_1.1.77_genes.tsv\"),sep=\"\\t\",index_col=[0,1])\n",
      "gene_df_ensembl_CDS = pd.read_csv(jn(meta_dir,\"annot_ensemble_1.1.77_CDS.tsv\"),sep=\"\\t\",index_col=[0,1])\n",
      "mac_seq = pyfasta.Fasta(eu(\"~/vervet_project/data/other_species/Macaca_mulatta/CR_1.0_in_vervet_coord_ref3500.fa\"))"
     ],
     "language": "python",
     "metadata": {},
     "outputs": [],
     "prompt_number": 341
    },
    {
     "cell_type": "code",
     "collapsed": false,
     "input": [
      "%%px --local\n",
      "def get_gen_df(chrom):\n",
      "    \"\"\"\n",
      "    get 0,1,2 genotype data frame\n",
      "    \"\"\"\n",
      "    fn = jn(var_ana_dir,\"UGr_163_ref3500_ref_alt_{}_2.012\".format(chrom))\n",
      "    df = pd.read_csv(fn,index_col=[0,1],sep=\"\\t\",na_values=\"N\")\n",
      "    return df.astype(np.float16)\n",
      "\n",
      "\n",
      "\n",
      "def coding_variants_per_gene(gen_df,gene_df):\n",
      "    \"\"\"\n",
      "    Get the variants in gen_df which lie within a feature\n",
      "    (e.g. gene) in gene_df.\n",
      "    Input:\n",
      "    gen_df... rod such as SNP genotypes\n",
      "    gene_df... index must be (chrom,feature_name), must have columns 'start', 'end'\n",
      "    \"\"\"\n",
      "    gene_hit_df = pd.DataFrame()\n",
      "    for chrom in gen_df.index.droplevel(1).unique():\n",
      "        pos_rel_to_start = gene_df.ix[chrom]['start'].searchsorted(gen_df.ix[chrom].index)\n",
      "        pos_rel_to_end = np.searchsorted(gene_df.ix[chrom][\"end\"].values,gen_df.ix[chrom].index.values)\n",
      "        in_gene = (pos_rel_to_start - pos_rel_to_end) == 1\n",
      "        gene_id = gene_df.ix[chrom].iloc[pos_rel_to_end[in_gene]].index\n",
      "        snp_df = gen_df.ix[chrom][in_gene]\n",
      "        snp_df['chrom'] = chrom\n",
      "        snp_df['gene_id'] = gene_id\n",
      "        snp_df.set_index(['chrom','gene_id'],append=True,inplace=True)\n",
      "        snp_df = snp_df.reorder_levels(['chrom', 'gene_id','pos'])\n",
      "        gene_hit_df = gene_hit_df.append(snp_df)\n",
      "    return gene_hit_df\n",
      "\n",
      "def add_effect(eff_dic,effect):\n",
      "    try:\n",
      "        eff_dic[effect] += 1\n",
      "    except KeyError:\n",
      "        eff_dic[effect] = 1\n",
      "\n",
      "def get_snp_annotation(gene_id, gene_df, snp_df, outgroup_fasta, vcfr):\n",
      "    \"\"\"\n",
      "        missing alignments must be coded as 'N' in outgroup_fasta\n",
      "    \"\"\"\n",
      "    prev_pos = [\"CAE0\",0]\n",
      "    bases = ['A','C','G','T']\n",
      "    no_var = ['.','X',None]\n",
      "    try:\n",
      "        snp_index = snp_df.xs(gene_id,level=1,drop_level=False).index\n",
      "    except KeyError:\n",
      "        snp_index = []\n",
      "    \n",
      "    exon_df = gene_df.xs(gene_id,level=1,drop_level=False)\n",
      "    snp_eff_df = pd.DataFrame(columns=['ref','alt','AA','impact','effect'],\n",
      "                              index=snp_index)\n",
      "    #snp_df = snp_df.xs(gene_id,level=1)\n",
      "    coding_sites = 0\n",
      "    coding_outgroup_align = 0 \n",
      "    outgroup_effect = {}#{'syn':0,'ns':0}\n",
      "    outgroup_impact = {}#{'syn':0,'ns':0}\n",
      "    filter_stats = {'filter_snp':0,'filter_no_snp':0}\n",
      "    \n",
      "    for exon in exon_df.itertuples():\n",
      "        (chrom, id), start, end, name, type0 = exon\n",
      "        #print chrom, id, start, end, name, type0\n",
      "        outgroup_str = outgroup_fasta[start-1:end-1].upper()\n",
      "        coding_outgroup_align += len(outgroup_str) - outgroup_str.count('N')\n",
      "        ex_vcf = vcfr.fetch(chrom,start,end)\n",
      "        for record in ex_vcf:\n",
      "            if prev_pos == [record.CHROM,record.POS]: #skip multiple entries\n",
      "                continue\n",
      "            coding_sites += 1\n",
      "            if len(record.ALT) == 1 and record.ALT[0] in bases: #check whether SNP (in vervet) or diff to macaque\n",
      "                #add_effect(var_dic,record.INFO[\"ANN\"][0].split('|')[1])\n",
      "                ann = record.INFO['ANN']\n",
      "                #if len(ann)!=1:\n",
      "                #    print record.ALT\n",
      "                #    print ann\n",
      "                #wont work there are biallelic SNPs (filtered)\n",
      "                ann_ls = ann[0].split('|')\n",
      "                #'ANN': ['|intergenic_region|MODIFIER|ENSCSAG00000018297|ENSCSAG00000018297|intergenic_region|ENSCSAG00000018297|||n.||||||']\n",
      "                try: #snp in vervet?\n",
      "                    af = record.INFO[\"AF\"][0]\n",
      "                    #print \"SNP\"\n",
      "                    if af>0 and af<1:\n",
      "                        #print \"seg. SNP\"\n",
      "                        #print record.FILTER, record.INFO\n",
      "                        if  not record.FILTER:\n",
      "                            snp_eff_df.ix[(chrom,id,record.POS),\"ref\"] = record.REF\n",
      "                            snp_eff_df.ix[(chrom,id,record.POS),\"alt\"] = record.ALT[0]\n",
      "                            assert record.ALT[0] == ann_ls[0]\n",
      "                            snp_eff_df.ix[(chrom,id,record.POS),\"AA\"] = outgroup_fasta[record.POS]\n",
      "                            snp_eff_df.ix[(chrom,id,record.POS),\"impact\"] = ann_ls[2]\n",
      "                            snp_eff_df.ix[(chrom,id,record.POS),\"effect\"] = ann_ls[1].split('&')[0]\n",
      "                            #raise\n",
      "                        else:\n",
      "                            filter_stats['filter_snp'] +=1\n",
      "                            #add to filtered variants\n",
      "                except KeyError:\n",
      "                    #difference to macaque\n",
      "                    if not record.FILTER or (len(record.FILTER)==1 and record.FILTER[0]=='LowQual'):\n",
      "                        #unfiltered diff\n",
      "                        add_effect(outgroup_effect, ann_ls[1].split('&')[0]) \n",
      "                        add_effect(outgroup_impact,ann_ls[2]) \n",
      "                    else:\n",
      "                        filter_stats['filter_no_snp'] +=1\n",
      "        #elif: #alternatively one could check for indels (disable skip above)\n",
      "        #or multiallelic variants\n",
      "\n",
      "            elif not record.FILTER or (len(record.FILTER)==1 and record.FILTER[0]=='LowQual'):\n",
      "                #print \"non filtered non-snp\"\n",
      "                pass\n",
      "            else:\n",
      "                filter_stats['filter_no_snp'] += 1\n",
      "            \n",
      "            #add_effect(novar_dic,record.INFO[\"ANN\"][0].split('|')[1])    \n",
      "                \n",
      "                \n",
      "                \n",
      "            #break\n",
      "            prev_pos = [record.CHROM,record.POS]\n",
      "    fraction_outgroup_align = coding_outgroup_align*1./coding_sites\n",
      "    #if len(snp_eff_df) + \n",
      "    stats_dic = {'coding_sites':coding_sites, 'fraction_outgroup_align':fraction_outgroup_align}\n",
      "    stats_dic.update({\"outgroup_\"+k:v for k,v in outgroup_effect.iteritems()})\n",
      "    stats_dic.update({\"outgroup_\"+k:v for k,v in outgroup_impact.iteritems()})\n",
      "    stats_dic.update(filter_stats)\n",
      "    stats = pd.Series(stats_dic)\n",
      "    stats.name = id\n",
      "    return snp_eff_df, stats\n",
      "\n",
      "def reduce_effect_annot(results):\n",
      "    snp_eff_df = pd.concat([r[0] for r in results])\n",
      "    stats_df = pd.DataFrame([r[1] for r in results])\n",
      "    return snp_eff_df, stats_df\n",
      "\n",
      "def get_effects_chrom(chrom):\n",
      "    vcfr = vcf.Reader(filename=jn(var_ana_dir,\n",
      "                              \"GATK_UnifiedGenotyper_163NonVRC_ref3500_all_sites_{}_\"\n",
      "                              \"mac_diff_as_snps.snpeff_ensembl_1.1.78.vcf.gz\".format(chrom)))\n",
      "    gen_df = get_gen_df(chrom)\n",
      "    coding_snp_df = coding_variants_per_gene(gen_df,gene_df_ensembl_CDS)\n",
      "    result = map(lambda id: get_snp_annotation(id, gene_df_ensembl_CDS, coding_snp_df , mac_seq[chrom], vcfr),gene_df_ensembl_CDS.ix[chrom].index.values)\n",
      "    snp_eff_df, stats_df = reduce_effect_annot(result)\n",
      "    snp_eff_df.to_csv(jn(var_ana_dir,\"snp_eff_df_{}.tsv\".format(chrom)),sep='\\t')\n",
      "    stats_df.to_csv(jn(var_ana_dir,\"snp_eff_stats_df_{}.tsv\".format(chrom)),sep='\\t')"
     ],
     "language": "python",
     "metadata": {},
     "outputs": [],
     "prompt_number": 367
    },
    {
     "cell_type": "code",
     "collapsed": false,
     "input": [
      "map_effects = lv.map_async(get_effects_chrom,chromosomes[:-1])"
     ],
     "language": "python",
     "metadata": {},
     "outputs": [],
     "prompt_number": 368
    },
    {
     "cell_type": "code",
     "collapsed": false,
     "input": [
      "map_effects.wait(10)"
     ],
     "language": "python",
     "metadata": {},
     "outputs": [],
     "prompt_number": 369
    },
    {
     "cell_type": "code",
     "collapsed": false,
     "input": [
      "map_effects.result[0]"
     ],
     "language": "python",
     "metadata": {},
     "outputs": []
    },
    {
     "cell_type": "code",
     "collapsed": false,
     "input": [
      "coding_snp_df = coding_variants_per_gene(gen_df,gene_df_ensembl_CDS)"
     ],
     "language": "python",
     "metadata": {},
     "outputs": [],
     "prompt_number": 197
    },
    {
     "cell_type": "code",
     "collapsed": false,
     "input": [
      "#gene_df_ensembl_CDS.ix['CAE28'].index.unique()"
     ],
     "language": "python",
     "metadata": {},
     "outputs": [],
     "prompt_number": 297
    },
    {
     "cell_type": "code",
     "collapsed": false,
     "input": [
      "#gene_df_ensembl_CDS.ix['CAE28'][gene_df_ensembl_CDS.ix['CAE28'].gene_name=='TRRAP']"
     ],
     "language": "python",
     "metadata": {},
     "outputs": [],
     "prompt_number": 295
    },
    {
     "cell_type": "code",
     "collapsed": false,
     "input": [],
     "language": "python",
     "metadata": {},
     "outputs": [],
     "prompt_number": 35
    },
    {
     "cell_type": "code",
     "collapsed": false,
     "input": [],
     "language": "python",
     "metadata": {},
     "outputs": [],
     "prompt_number": 182
    },
    {
     "cell_type": "heading",
     "level": 2,
     "metadata": {},
     "source": [
      "Approach only extracting vervet SNPs (differences to macaque have to be determined extra)"
     ]
    },
    {
     "cell_type": "code",
     "collapsed": false,
     "input": [],
     "language": "python",
     "metadata": {},
     "outputs": [],
     "prompt_number": 324
    },
    {
     "cell_type": "code",
     "collapsed": false,
     "input": [
      "snp_eff_df, coding_sites, coding_outgroup_align, outgroup_effect, outgroup_impact, filter_stats = get_snp_annotation('ENSCSAG00000017767', gene_df_ensembl_CDS, coding_snp_df , mac_seq[chrom])"
     ],
     "language": "python",
     "metadata": {},
     "outputs": [],
     "prompt_number": 279
    },
    {
     "cell_type": "code",
     "collapsed": false,
     "input": [
      "result = map(lambda id: get_snp_annotation(id, gene_df_ensembl_CDS, coding_snp_df , mac_seq[chrom]),['ENSCSAG00000018297', 'ENSCSAG00000018296', 'ENSCSAG00000018294'])"
     ],
     "language": "python",
     "metadata": {},
     "outputs": [],
     "prompt_number": 325
    },
    {
     "cell_type": "code",
     "collapsed": false,
     "input": [],
     "language": "python",
     "metadata": {},
     "outputs": [],
     "prompt_number": 329
    },
    {
     "cell_type": "code",
     "collapsed": false,
     "input": [
      "snp_eff_df, stats_df = reduce_effect_annot(result)"
     ],
     "language": "python",
     "metadata": {},
     "outputs": [],
     "prompt_number": 331
    },
    {
     "cell_type": "code",
     "collapsed": false,
     "input": [],
     "language": "python",
     "metadata": {},
     "outputs": []
    },
    {
     "cell_type": "code",
     "collapsed": false,
     "input": [
      "stats_df"
     ],
     "language": "python",
     "metadata": {},
     "outputs": [
      {
       "html": [
        "<div style=\"max-height:1000px;max-width:1500px;overflow:auto;\">\n",
        "<table border=\"1\" class=\"dataframe\">\n",
        "  <thead>\n",
        "    <tr style=\"text-align: right;\">\n",
        "      <th></th>\n",
        "      <th>coding_sites</th>\n",
        "      <th>filter_no_snp</th>\n",
        "      <th>filter_snp</th>\n",
        "      <th>fraction_outgroup_align</th>\n",
        "      <th>outgroup_LOW</th>\n",
        "      <th>outgroup_MODERATE</th>\n",
        "      <th>outgroup_missense_variant</th>\n",
        "      <th>outgroup_synonymous_variant</th>\n",
        "    </tr>\n",
        "  </thead>\n",
        "  <tbody>\n",
        "    <tr>\n",
        "      <th>ENSCSAG00000018297</th>\n",
        "      <td> 2043</td>\n",
        "      <td> 151</td>\n",
        "      <td> 18</td>\n",
        "      <td> 0.549682</td>\n",
        "      <td>  8</td>\n",
        "      <td> 16</td>\n",
        "      <td> 16</td>\n",
        "      <td>  8</td>\n",
        "    </tr>\n",
        "    <tr>\n",
        "      <th>ENSCSAG00000018296</th>\n",
        "      <td> 1530</td>\n",
        "      <td>  71</td>\n",
        "      <td> 12</td>\n",
        "      <td> 0.000000</td>\n",
        "      <td>NaN</td>\n",
        "      <td>NaN</td>\n",
        "      <td>NaN</td>\n",
        "      <td>NaN</td>\n",
        "    </tr>\n",
        "    <tr>\n",
        "      <th>ENSCSAG00000018294</th>\n",
        "      <td>  528</td>\n",
        "      <td> 482</td>\n",
        "      <td> 46</td>\n",
        "      <td> 0.000000</td>\n",
        "      <td>NaN</td>\n",
        "      <td>NaN</td>\n",
        "      <td>NaN</td>\n",
        "      <td>NaN</td>\n",
        "    </tr>\n",
        "  </tbody>\n",
        "</table>\n",
        "</div>"
       ],
       "metadata": {},
       "output_type": "pyout",
       "prompt_number": 332,
       "text": [
        "                    coding_sites  filter_no_snp  filter_snp  \\\n",
        "ENSCSAG00000018297          2043            151          18   \n",
        "ENSCSAG00000018296          1530             71          12   \n",
        "ENSCSAG00000018294           528            482          46   \n",
        "\n",
        "                    fraction_outgroup_align  outgroup_LOW  outgroup_MODERATE  \\\n",
        "ENSCSAG00000018297                 0.549682             8                 16   \n",
        "ENSCSAG00000018296                 0.000000           NaN                NaN   \n",
        "ENSCSAG00000018294                 0.000000           NaN                NaN   \n",
        "\n",
        "                    outgroup_missense_variant  outgroup_synonymous_variant  \n",
        "ENSCSAG00000018297                         16                            8  \n",
        "ENSCSAG00000018296                        NaN                          NaN  \n",
        "ENSCSAG00000018294                        NaN                          NaN  "
       ]
      }
     ],
     "prompt_number": 332
    },
    {
     "cell_type": "code",
     "collapsed": false,
     "input": [
      "gene_df_ensembl_CDS.xs('ENSCSAG00000018294',level=1)"
     ],
     "language": "python",
     "metadata": {},
     "outputs": [
      {
       "html": [
        "<div style=\"max-height:1000px;max-width:1500px;overflow:auto;\">\n",
        "<table border=\"1\" class=\"dataframe\">\n",
        "  <thead>\n",
        "    <tr style=\"text-align: right;\">\n",
        "      <th></th>\n",
        "      <th>start</th>\n",
        "      <th>end</th>\n",
        "      <th>gene_name</th>\n",
        "      <th>biotype</th>\n",
        "    </tr>\n",
        "    <tr>\n",
        "      <th>chrom</th>\n",
        "      <th></th>\n",
        "      <th></th>\n",
        "      <th></th>\n",
        "      <th></th>\n",
        "    </tr>\n",
        "  </thead>\n",
        "  <tbody>\n",
        "    <tr>\n",
        "      <th>CAE28</th>\n",
        "      <td> 1535379</td>\n",
        "      <td> 1535572</td>\n",
        "      <td> ENSCSAG00000018294</td>\n",
        "      <td> protein_coding</td>\n",
        "    </tr>\n",
        "    <tr>\n",
        "      <th>CAE28</th>\n",
        "      <td> 1661760</td>\n",
        "      <td> 1661869</td>\n",
        "      <td> ENSCSAG00000018294</td>\n",
        "      <td> protein_coding</td>\n",
        "    </tr>\n",
        "    <tr>\n",
        "      <th>CAE28</th>\n",
        "      <td> 1705799</td>\n",
        "      <td> 1706022</td>\n",
        "      <td> ENSCSAG00000018294</td>\n",
        "      <td> protein_coding</td>\n",
        "    </tr>\n",
        "  </tbody>\n",
        "</table>\n",
        "</div>"
       ],
       "metadata": {},
       "output_type": "pyout",
       "prompt_number": 306,
       "text": [
        "         start      end           gene_name         biotype\n",
        "chrom                                                      \n",
        "CAE28  1535379  1535572  ENSCSAG00000018294  protein_coding\n",
        "CAE28  1661760  1661869  ENSCSAG00000018294  protein_coding\n",
        "CAE28  1705799  1706022  ENSCSAG00000018294  protein_coding"
       ]
      }
     ],
     "prompt_number": 306
    },
    {
     "cell_type": "code",
     "collapsed": false,
     "input": [
      "coding_outgroup_align"
     ],
     "language": "python",
     "metadata": {},
     "outputs": [
      {
       "metadata": {},
       "output_type": "pyout",
       "prompt_number": 281,
       "text": [
        "11222"
       ]
      }
     ],
     "prompt_number": 281
    },
    {
     "cell_type": "code",
     "collapsed": false,
     "input": [
      "filter_stats"
     ],
     "language": "python",
     "metadata": {},
     "outputs": [
      {
       "metadata": {},
       "output_type": "pyout",
       "prompt_number": 282,
       "text": [
        "{'no_snp': 1801, 'snp': 68}"
       ]
      }
     ],
     "prompt_number": 282
    },
    {
     "cell_type": "code",
     "collapsed": false,
     "input": [
      "outgroup_effect"
     ],
     "language": "python",
     "metadata": {},
     "outputs": [
      {
       "metadata": {},
       "output_type": "pyout",
       "prompt_number": 283,
       "text": [
        "{'missense_variant': 1,\n",
        " 'splice_region_variant&synonymous_variant': 2,\n",
        " 'synonymous_variant': 54}"
       ]
      }
     ],
     "prompt_number": 283
    },
    {
     "cell_type": "code",
     "collapsed": false,
     "input": [
      "snp_eff_df['effect'].value_counts()"
     ],
     "language": "python",
     "metadata": {},
     "outputs": [
      {
       "metadata": {},
       "output_type": "pyout",
       "prompt_number": 284,
       "text": [
        "synonymous_variant                          111\n",
        "missense_variant                              6\n",
        "splice_region_variant&synonymous_variant      1\n",
        "dtype: int64"
       ]
      }
     ],
     "prompt_number": 284
    },
    {
     "cell_type": "heading",
     "level": 2,
     "metadata": {},
     "source": [
      "Approach parsing the whole gene sequence in vcf:"
     ]
    },
    {
     "cell_type": "code",
     "collapsed": false,
     "input": [],
     "language": "python",
     "metadata": {},
     "outputs": []
    },
    {
     "cell_type": "code",
     "collapsed": false,
     "input": [
      "Requirements:\n",
      "80% of exon non-filtered\n",
      "\n",
      "Check:\n",
      "percentage of exon non-filtered\n",
      "alignment of exon to macaque\n"
     ],
     "language": "python",
     "metadata": {},
     "outputs": []
    },
    {
     "cell_type": "code",
     "collapsed": false,
     "input": [],
     "language": "python",
     "metadata": {},
     "outputs": [],
     "prompt_number": 90
    },
    {
     "cell_type": "code",
     "collapsed": false,
     "input": [
      "def get_gene_effect(gene_vcf):\n",
      "    for record in gene_vcf:\n",
      "        "
     ],
     "language": "python",
     "metadata": {},
     "outputs": []
    },
    {
     "cell_type": "code",
     "collapsed": false,
     "input": [
      "\"\"\"\n",
      "Notes: \n",
      "We are ignoring indels for now.\n",
      "We are ignoring complicated effects,\n",
      "only count syn/ nonsyn and impact of the others \n",
      "We do not look at effects of filtered sites.\n",
      "\n",
      "This is only to extract overall effects. We need to look deeper for other effects\n",
      "\n",
      "\"\"\"\n",
      "gene_info_df = pd.DataFrame()\n",
      "prev_pos = [\"CAE0\",0]\n",
      "bases = ['A','C','G','T']\n",
      "no_var = ['.','X',None]\n",
      "variant_types_per_gene = {}\n",
      "\n",
      "var_dic = {}\n",
      "\n",
      "novar_dic = {}\n",
      "\n",
      "for gene in gene_df_ensembl.ix[chrom].iloc[19:27].itertuples():\n",
      "    start, end, id, name, type0 = gene\n",
      "    g_mac_seq = mac_seq['{}'.format(chrom)][start:end]\n",
      "    g_vcfr = vcfr.fetch(chrom,start,end)\n",
      "    variant_types_per_gene.update({name:[]})\n",
      "    dn = 0\n",
      "    ds = 0\n",
      "    pn = 0\n",
      "    ps = 0\n",
      "    d_impacts = {}\n",
      "    p_impacts = {}\n",
      "    exon_sites = 0\n",
      "    exon_sites_non_filter = 0\n",
      "    exon_sites_non_filter_macaque_info = 0\n",
      "    \n",
      "    #types = \n",
      "    for i,record in enumerate(g_vcfr):\n",
      "        if prev_pos == [record.CHROM,record.POS]: #skip multiple entries\n",
      "            continue\n",
      "        if len(record.ALT) == 1 and record.ALT[0] in bases: #check whether SNP (in vervet) or diff to macaque\n",
      "            add_effect(var_dic,record.INFO[\"ANN\"][0].split('|')[1])\n",
      "            try: #snp in vervet?\n",
      "                af = record.INFO[\"AF\"][0]\n",
      "                #print \"SNP\"\n",
      "                if af>0 and af<1:\n",
      "                    #print \"seg. SNP\"\n",
      "                    #print record.FILTER, record.INFO\n",
      "                    if  not record.FILTER:\n",
      "                        print \"pass SNP\"\n",
      "                        raise\n",
      "                    else:\n",
      "                        pass\n",
      "                        #add to filtered variants\n",
      "            except KeyError:\n",
      "                pass\n",
      "        #elif: #alternatively one could check for indels (disable skip above)\n",
      "        #or multiallelic variants\n",
      "\n",
      "        else:\n",
      "            add_effect(novar_dic,record.INFO[\"ANN\"][0].split('|')[1])\n",
      "        #check whether filtered\n",
      "        #if \n",
      "        #check whether exon\n",
      "        \n",
      "        #check whether different in \n",
      "        #snpeff_fields = record.INFO['ANN'][0].split('|')\n",
      "        #variant_types_per_gene[name].append(snpeff_fields[0])\n",
      "        #if len(record.INFO['ANN'])>1:\n",
      "        #    print \"len>1\"\n",
      "        #    break\n",
      "        #if i>50:\n",
      "        #    break\n",
      "        prev_pos = [record.CHROM,record.POS]\n",
      "    s = pd.Series({\"hallo\":\"du\",\"we\":np.random.rand()})  \n",
      "    s.name = name\n",
      "    gene_info_df = gene_info_df.append(s)"
     ],
     "language": "python",
     "metadata": {},
     "outputs": [
      {
       "output_type": "stream",
       "stream": "stdout",
       "text": [
        "pass SNP\n"
       ]
      },
      {
       "ename": "TypeError",
       "evalue": "exceptions must be old-style classes or derived from BaseException, not NoneType",
       "output_type": "pyerr",
       "traceback": [
        "\u001b[1;31m---------------------------------------------------------------------------\u001b[0m\n\u001b[1;31mTypeError\u001b[0m                                 Traceback (most recent call last)",
        "\u001b[1;32m<ipython-input-106-e6650ab101e2>\u001b[0m in \u001b[0;36m<module>\u001b[1;34m()\u001b[0m\n\u001b[0;32m     48\u001b[0m                     \u001b[1;32mif\u001b[0m  \u001b[1;32mnot\u001b[0m \u001b[0mrecord\u001b[0m\u001b[1;33m.\u001b[0m\u001b[0mFILTER\u001b[0m\u001b[1;33m:\u001b[0m\u001b[1;33m\u001b[0m\u001b[0m\n\u001b[0;32m     49\u001b[0m                         \u001b[1;32mprint\u001b[0m \u001b[1;34m\"pass SNP\"\u001b[0m\u001b[1;33m\u001b[0m\u001b[0m\n\u001b[1;32m---> 50\u001b[1;33m                         \u001b[1;32mraise\u001b[0m\u001b[1;33m\u001b[0m\u001b[0m\n\u001b[0m\u001b[0;32m     51\u001b[0m                     \u001b[1;32melse\u001b[0m\u001b[1;33m:\u001b[0m\u001b[1;33m\u001b[0m\u001b[0m\n\u001b[0;32m     52\u001b[0m                         \u001b[1;32mpass\u001b[0m\u001b[1;33m\u001b[0m\u001b[0m\n",
        "\u001b[1;31mTypeError\u001b[0m: exceptions must be old-style classes or derived from BaseException, not NoneType"
       ]
      }
     ],
     "prompt_number": 106
    },
    {
     "cell_type": "code",
     "collapsed": false,
     "input": [
      "var_dic"
     ],
     "language": "python",
     "metadata": {},
     "outputs": [
      {
       "metadata": {},
       "output_type": "pyout",
       "prompt_number": 95,
       "text": [
        "{'3_prime_UTR_variant': 45,\n",
        " 'intron_variant': 20915,\n",
        " 'missense_variant': 37,\n",
        " 'splice_region_variant': 1,\n",
        " 'splice_region_variant&intron_variant': 4,\n",
        " 'stop_gained': 3,\n",
        " 'synonymous_variant': 48}"
       ]
      }
     ],
     "prompt_number": 95
    },
    {
     "cell_type": "code",
     "collapsed": false,
     "input": [
      "novar_dic"
     ],
     "language": "python",
     "metadata": {},
     "outputs": [
      {
       "metadata": {},
       "output_type": "pyout",
       "prompt_number": 96,
       "text": [
        "{'3_prime_UTR_variant': 2405,\n",
        " '5_prime_UTR_variant': 120,\n",
        " 'intragenic_variant': 342,\n",
        " 'intron_variant': 457559,\n",
        " 'missense_variant': 2,\n",
        " 'non_coding_exon_variant': 4794,\n",
        " 'splice_acceptor_variant&intron_variant': 60,\n",
        " 'splice_donor_variant&intron_variant': 60,\n",
        " 'splice_region_variant&intron_variant': 356,\n",
        " 'splice_region_variant&non_coding_exon_variant': 198}"
       ]
      }
     ],
     "prompt_number": 96
    },
    {
     "cell_type": "code",
     "collapsed": false,
     "input": [
      "for k,v in variant_types_per_gene.iteritems():\n",
      "    variant_types_per_gene[k] = list(set(v))"
     ],
     "language": "python",
     "metadata": {},
     "outputs": [],
     "prompt_number": 45
    },
    {
     "cell_type": "code",
     "collapsed": false,
     "input": [
      "record.genotype[\"AA\"]"
     ],
     "language": "python",
     "metadata": {},
     "outputs": [
      {
       "ename": "TypeError",
       "evalue": "'instancemethod' object has no attribute '__getitem__'",
       "output_type": "pyerr",
       "traceback": [
        "\u001b[1;31m---------------------------------------------------------------------------\u001b[0m\n\u001b[1;31mTypeError\u001b[0m                                 Traceback (most recent call last)",
        "\u001b[1;32m<ipython-input-118-ebe72cb9d3f3>\u001b[0m in \u001b[0;36m<module>\u001b[1;34m()\u001b[0m\n\u001b[1;32m----> 1\u001b[1;33m \u001b[0mrecord\u001b[0m\u001b[1;33m.\u001b[0m\u001b[0mgenotype\u001b[0m\u001b[1;33m[\u001b[0m\u001b[1;34m\"AA\"\u001b[0m\u001b[1;33m]\u001b[0m\u001b[1;33m\u001b[0m\u001b[0m\n\u001b[0m",
        "\u001b[1;31mTypeError\u001b[0m: 'instancemethod' object has no attribute '__getitem__'"
       ]
      }
     ],
     "prompt_number": 118
    },
    {
     "cell_type": "code",
     "collapsed": false,
     "input": [
      "'3_prime_UTR_variant'.split(\"&\")"
     ],
     "language": "python",
     "metadata": {},
     "outputs": [
      {
       "metadata": {},
       "output_type": "pyout",
       "prompt_number": 97,
       "text": [
        "['3_prime_UTR_variant']"
       ]
      }
     ],
     "prompt_number": 97
    },
    {
     "cell_type": "code",
     "collapsed": false,
     "input": [
      "variant_types_per_gene"
     ],
     "language": "python",
     "metadata": {},
     "outputs": [
      {
       "metadata": {},
       "output_type": "pyout",
       "prompt_number": 46,
       "text": [
        "{'COX7A2': ['splice_acceptor_variant&intron_variant',\n",
        "  'splice_donor_variant&intron_variant',\n",
        "  '3_prime_UTR_variant',\n",
        "  'synonymous_variant',\n",
        "  'splice_region_variant&intron_variant',\n",
        "  'non_coding_exon_variant',\n",
        "  'missense_variant',\n",
        "  'splice_region_variant&non_coding_exon_variant',\n",
        "  'intragenic_variant',\n",
        "  'intron_variant'],\n",
        " 'TMEM30A': ['splice_acceptor_variant&intron_variant',\n",
        "  'disruptive_inframe_deletion',\n",
        "  'splice_donor_variant&intron_variant',\n",
        "  '3_prime_UTR_variant',\n",
        "  'intragenic_variant',\n",
        "  'synonymous_variant',\n",
        "  'splice_region_variant&intron_variant',\n",
        "  '5_prime_UTR_variant',\n",
        "  'non_coding_exon_variant',\n",
        "  'stop_retained_variant',\n",
        "  'missense_variant',\n",
        "  'splice_region_variant&non_coding_exon_variant',\n",
        "  '5_prime_UTR_premature_start_codon_gain_variant',\n",
        "  'intron_variant',\n",
        "  'stop_gained',\n",
        "  'inframe_insertion']}"
       ]
      }
     ],
     "prompt_number": 46
    },
    {
     "cell_type": "code",
     "collapsed": false,
     "input": [
      "record.samples"
     ],
     "language": "python",
     "metadata": {},
     "outputs": [
      {
       "metadata": {},
       "output_type": "pyout",
       "prompt_number": 117,
       "text": [
        "[Call(sample=A8518, CallData(GT=1/1, AB=None, AD=[0, 0], DP=3, GQ=9, PL=[85, 9, 0])),\n",
        " Call(sample=AG23, CallData(GT=1/1, AB=None, AD=[0, 7], DP=7, GQ=15, PL=[175, 15, 0])),\n",
        " Call(sample=AG5417, CallData(GT=1/1, AB=None, AD=[0, 15], DP=15, GQ=45, PL=[439, 45, 0])),\n",
        " Call(sample=AGM126, CallData(GT=1/1, AB=None, AD=[0, 21], DP=2, GQ=6, PL=[9, 0, 0])),\n",
        " Call(sample=AGM127, CallData(GT=1/1, AB=None, AD=[0, 5], DP=5, GQ=12, PL=[133, 0, 0])),\n",
        " Call(sample=AGM129, CallData(GT=1/1, AB=None, AD=[0, 4], DP=4, GQ=9, PL=[106, 9, 102])),\n",
        " Call(sample=AGM130, CallData(GT=1/1, AB=None, AD=[0, 9], DP=9, GQ=15, PL=[208, 15, 0])),\n",
        " Call(sample=AGM131, CallData(GT=1/1, AB=None, AD=[0, 6], DP=6, GQ=15, PL=[7, 15, 0])),\n",
        " Call(sample=AGM136, CallData(GT=1/1, AB=None, AD=[0, 7], DP=7, GQ=21, PL=[2, 0, 0])),\n",
        " Call(sample=AGM137, CallData(GT=1/1, AB=None, AD=[0, 3], DP=3, GQ=9, PL=[8, 9, 0])),\n",
        " Call(sample=AGM141, CallData(GT=1/1, AB=None, AD=[0, 21], DP=21, GQ=63, PL=[629, 0, 0])),\n",
        " Call(sample=AGM142, CallData(GT=1/1, AB=None, AD=[0, 6], DP=6, GQ=15, PL=[161, 0, 0])),\n",
        " Call(sample=AGM143, CallData(GT=1/1, AB=None, AD=[3, 3], DP=3, GQ=9, PL=[84, 9, 0])),\n",
        " Call(sample=AGM144, CallData(GT=None, AB=None, AD=None, DP=None, GQ=None, PL=None)),\n",
        " Call(sample=B5616, CallData(GT=1/1, AB=None, AD=[0, 13], DP=13, GQ=36, PL=[21, 0, 0])),\n",
        " Call(sample=C2166, CallData(GT=1/1, AB=None, AD=[0, 8], DP=8, GQ=15, PL=[176, 15, 0])),\n",
        " Call(sample=C2265, CallData(GT=None, AB=None, AD=None, DP=None, GQ=None, PL=None)),\n",
        " Call(sample=C2439, CallData(GT=1/1, AB=None, AD=[0, 7], DP=7, GQ=18, PL=[194, 18, 0])),\n",
        " Call(sample=V952, CallData(GT=1/1, AB=None, AD=[0, 3], DP=3, GQ=9, PL=[88, 9, 146])),\n",
        " Call(sample=VBOA1003, CallData(GT=1/1, AB=None, AD=[0, 8], DP=8, GQ=18, PL=[207, 18, 0])),\n",
        " Call(sample=VBOA1005, CallData(GT=1/1, AB=None, AD=[0, 11], DP=11, GQ=21, PL=[253, 21, 0])),\n",
        " Call(sample=VEA1001, CallData(GT=1/1, AB=None, AD=[0, 5], DP=5, GQ=12, PL=[131, 12, 0])),\n",
        " Call(sample=VEA1002, CallData(GT=0/0, AB=None, AD=[4, 0], DP=4, GQ=9, PL=[5, 0, 102])),\n",
        " Call(sample=VEA1003, CallData(GT=1/1, AB=None, AD=[0, 3], DP=3, GQ=9, PL=[90, 9, 0])),\n",
        " Call(sample=VEA1004, CallData(GT=1/1, AB=None, AD=[0, 7], DP=7, GQ=18, PL=[188, 18, 0])),\n",
        " Call(sample=VEA1005, CallData(GT=1/1, AB=None, AD=[0, 3], DP=3, GQ=9, PL=[87, 9, 0])),\n",
        " Call(sample=VEA1007, CallData(GT=1/1, AB=None, AD=[0, 8], DP=8, GQ=15, PL=[178, 15, 0])),\n",
        " Call(sample=VEA1008, CallData(GT=0/1, AB=0.23, AD=[0, 9], DP=13, GQ=46, PL=[220, 0, 46])),\n",
        " Call(sample=VEB1009, CallData(GT=1/1, AB=None, AD=[0, 14], DP=14, GQ=27, PL=[306, 27, 0])),\n",
        " Call(sample=VEB1010, CallData(GT=1/1, AB=None, AD=[4, 13], DP=13, GQ=30, PL=[0, 6, 0])),\n",
        " Call(sample=VEB1011, CallData(GT=None, AB=None, AD=None, DP=None, GQ=None, PL=None)),\n",
        " Call(sample=VEB1012, CallData(GT=1/1, AB=None, AD=[0, 9], DP=9, GQ=21, PL=[235, 21, 0])),\n",
        " Call(sample=VEB1013, CallData(GT=1/1, AB=None, AD=[0, 1], DP=1, GQ=3, PL=[24, 0, 30])),\n",
        " Call(sample=VEB1014, CallData(GT=1/1, AB=None, AD=[0, 3], DP=3, GQ=9, PL=[87, 9, 0])),\n",
        " Call(sample=VEB1015, CallData(GT=0/1, AB=0.45, AD=[5, 6], DP=11, GQ=99, PL=[116, 0, 100])),\n",
        " Call(sample=VEC1016, CallData(GT=1/1, AB=None, AD=[0, 6], DP=6, GQ=18, PL=[178, 18, 0])),\n",
        " Call(sample=VEC1017, CallData(GT=1/1, AB=None, AD=[0, 3], DP=3, GQ=6, PL=[73, 9, 84])),\n",
        " Call(sample=VGA00002, CallData(GT=0/1, AB=0.5, AD=[2, 2], DP=5, GQ=45, PL=[46, 0, 45])),\n",
        " Call(sample=VGA00006, CallData(GT=0/1, AB=0.45, AD=[5, 6], DP=11, GQ=99, PL=[121, 0, 101])),\n",
        " Call(sample=VGA00010, CallData(GT=1/1, AB=None, AD=[0, 3], DP=3, GQ=6, PL=[58, 6, 0])),\n",
        " Call(sample=VGA00019, CallData(GT=None, AB=None, AD=None, DP=None, GQ=None, PL=None)),\n",
        " Call(sample=VGA00021, CallData(GT=0/1, AB=0.4, AD=[2, 3], DP=5, GQ=41, PL=[77, 0, 41])),\n",
        " Call(sample=VGA00025, CallData(GT=0/1, AB=0.72, AD=[18, 7], DP=25, GQ=99, PL=[139, 0, 436])),\n",
        " Call(sample=VGA00085, CallData(GT=None, AB=None, AD=None, DP=None, GQ=None, PL=None)),\n",
        " Call(sample=VGA00090, CallData(GT=0/1, AB=0.17, AD=[1, 5], DP=6, GQ=17, PL=[109, 0, 17])),\n",
        " Call(sample=VGA00092, CallData(GT=0/1, AB=0.56, AD=[5, 4], DP=9, GQ=74, PL=[74, 0, 102])),\n",
        " Call(sample=VGA00098, CallData(GT=0/1, AB=0.75, AD=[6, 2], DP=8, GQ=47, PL=[47, 0, 129])),\n",
        " Call(sample=VGA00100, CallData(GT=0/1, AB=0.5, AD=[2, 2], DP=5, GQ=43, PL=[44, 0, 43])),\n",
        " Call(sample=VGA00101, CallData(GT=0/1, AB=0.67, AD=[4, 2], DP=6, GQ=15, PL=[15, 0, 100])),\n",
        " Call(sample=VGA00107, CallData(GT=0/0, AB=None, AD=[3, 0], DP=3, GQ=9, PL=[0, 9, 85])),\n",
        " Call(sample=VGA00114, CallData(GT=0/1, AB=0.83, AD=[2, 1], DP=6, GQ=15, PL=[15, 0, 92])),\n",
        " Call(sample=VGA00138, CallData(GT=0/1, AB=0.4, AD=[2, 3], DP=5, GQ=14, PL=[78, 0, 14])),\n",
        " Call(sample=VGA00142, CallData(GT=0/1, AB=0.6, AD=[3, 2], DP=5, GQ=46, PL=[46, 0, 61])),\n",
        " Call(sample=VGA00146, CallData(GT=0/1, AB=0.25, AD=[1, 3], DP=4, GQ=22, PL=[0, 21, 233])),\n",
        " Call(sample=VGA00151, CallData(GT=1/1, AB=None, AD=[0, 4], DP=4, GQ=12, PL=[117, 12, 0])),\n",
        " Call(sample=VGA00152, CallData(GT=1/1, AB=None, AD=[0, 8], DP=8, GQ=24, PL=[231, 24, 0])),\n",
        " Call(sample=VGA00153, CallData(GT=1/1, AB=None, AD=[0, 5], DP=5, GQ=12, PL=[135, 0, 0])),\n",
        " Call(sample=VGA00155, CallData(GT=1/1, AB=None, AD=[0, 4], DP=4, GQ=12, PL=[114, 12, 170])),\n",
        " Call(sample=VGA00156, CallData(GT=0/1, AB=0.6, AD=[3, 2], DP=5, GQ=45, PL=[1, 0, 59])),\n",
        " Call(sample=VGHA1001, CallData(GT=0/0, AB=None, AD=[1, 0], DP=1, GQ=3, PL=[0, 3, 782])),\n",
        " Call(sample=VGHB1002, CallData(GT=0/1, AB=0.67, AD=[4, 2], DP=6, GQ=36, PL=[36, 0, 64])),\n",
        " Call(sample=VKA3, CallData(GT=1/1, AB=None, AD=[0, 2], DP=2, GQ=6, PL=[58, 6, 0])),\n",
        " Call(sample=VKB7, CallData(GT=1/1, AB=None, AD=[0, 4], DP=4, GQ=12, PL=[0, 12, 108])),\n",
        " Call(sample=VKC6, CallData(GT=1/1, AB=None, AD=[4, 0], DP=2, GQ=6, PL=[58, 6, 0])),\n",
        " Call(sample=VKD7, CallData(GT=1/1, AB=None, AD=[0, 7], DP=7, GQ=18, PL=[2, 0, 0])),\n",
        " Call(sample=VSAA2010, CallData(GT=1/1, AB=None, AD=[0, 2], DP=2, GQ=6, PL=[6, 0, 0])),\n",
        " Call(sample=VSAA2015, CallData(GT=1/1, AB=None, AD=[0, 3], DP=3, GQ=9, PL=[81, 0, 0])),\n",
        " Call(sample=VSAA2020, CallData(GT=1/1, AB=None, AD=[0, 2], DP=2, GQ=6, PL=[53, 6, 0])),\n",
        " Call(sample=VSAB1003, CallData(GT=1/1, AB=None, AD=[0, 2], DP=2, GQ=6, PL=[1, 0, 0])),\n",
        " Call(sample=VSAB2009, CallData(GT=1/1, AB=None, AD=[0, 6], DP=6, GQ=15, PL=[139, 15, 0])),\n",
        " Call(sample=VSAB2010, CallData(GT=1/1, AB=None, AD=[0, 3], DP=3, GQ=9, PL=[80, 9, 0])),\n",
        " Call(sample=VSAB2011, CallData(GT=1/1, AB=None, AD=[0, 1], DP=1, GQ=3, PL=[28, 3, 0])),\n",
        " Call(sample=VSAB2012, CallData(GT=1/1, AB=None, AD=[0, 2], DP=2, GQ=6, PL=[55, 6, 0])),\n",
        " Call(sample=VSAB2017, CallData(GT=None, AB=None, AD=None, DP=None, GQ=None, PL=None)),\n",
        " Call(sample=VSAB2023, CallData(GT=1/1, AB=None, AD=[0, 4], DP=4, GQ=12, PL=[4, 0, 0])),\n",
        " Call(sample=VSAB3001, CallData(GT=1/1, AB=None, AD=[0, 1], DP=1, GQ=3, PL=[2, 0, 0])),\n",
        " Call(sample=VSAB3004, CallData(GT=1/1, AB=None, AD=[0, 0], DP=9, GQ=24, PL=[236, 24, 0])),\n",
        " Call(sample=VSAB5004, CallData(GT=1/1, AB=None, AD=[0, 6], DP=6, GQ=18, PL=[165, 15, 159])),\n",
        " Call(sample=VSAB5005, CallData(GT=1/1, AB=None, AD=[0, 1], DP=1, GQ=3, PL=[0, 12, 132])),\n",
        " Call(sample=VSAC1004, CallData(GT=1/1, AB=None, AD=[8, 0], DP=1, GQ=3, PL=[28, 3, 0])),\n",
        " Call(sample=VSAC1012, CallData(GT=1/1, AB=None, AD=[0, 5], DP=5, GQ=15, PL=[140, 15, 0])),\n",
        " Call(sample=VSAC1014, CallData(GT=1/1, AB=None, AD=[0, 2], DP=2, GQ=6, PL=[2, 0, 0])),\n",
        " Call(sample=VSAC1015, CallData(GT=1/1, AB=None, AD=[0, 4], DP=4, GQ=12, PL=[110, 3, 45])),\n",
        " Call(sample=VSAC1016, CallData(GT=None, AB=None, AD=None, DP=None, GQ=None, PL=None)),\n",
        " Call(sample=VSAD1003, CallData(GT=1/1, AB=None, AD=[0, 2], DP=2, GQ=6, PL=[60, 6, 0])),\n",
        " Call(sample=VSAE2005, CallData(GT=1/1, AB=None, AD=[0, 7], DP=7, GQ=18, PL=[2, 0, 0])),\n",
        " Call(sample=VSAE2009, CallData(GT=1/1, AB=None, AD=[0, 4], DP=4, GQ=12, PL=[7, 0, 0])),\n",
        " Call(sample=VSAE2011, CallData(GT=1/1, AB=None, AD=[3, 2], DP=2, GQ=6, PL=[0, 9, 84])),\n",
        " Call(sample=VSAE3001, CallData(GT=1/1, AB=None, AD=[5, 3], DP=3, GQ=9, PL=[0, 15, 145])),\n",
        " Call(sample=VSAE3002, CallData(GT=1/1, AB=None, AD=[0, 1], DP=1, GQ=3, PL=[0, 0, 0])),\n",
        " Call(sample=VSAE3003, CallData(GT=1/1, AB=None, AD=[1, 2], DP=3, GQ=6, PL=[55, 6, 0])),\n",
        " Call(sample=VSAF1004, CallData(GT=1/1, AB=None, AD=[0, 6], DP=6, GQ=18, PL=[164, 18, 0])),\n",
        " Call(sample=VSAF1009, CallData(GT=1/1, AB=None, AD=[0, 4], DP=4, GQ=12, PL=[2, 12, 0])),\n",
        " Call(sample=VSAF1011, CallData(GT=1/1, AB=None, AD=[0, 3], DP=3, GQ=9, PL=[80, 9, 0])),\n",
        " Call(sample=VSAF1012, CallData(GT=1/1, AB=None, AD=[0, 2], DP=2, GQ=3, PL=[45, 3, 0])),\n",
        " Call(sample=VSAF1015, CallData(GT=1/1, AB=None, AD=[0, 2], DP=2, GQ=6, PL=[52, 6, 0])),\n",
        " Call(sample=VSAG2001, CallData(GT=1/1, AB=None, AD=[0, 4], DP=4, GQ=12, PL=[0, 6, 74])),\n",
        " Call(sample=VSAG2003, CallData(GT=1/1, AB=None, AD=[0, 0], DP=1, GQ=3, PL=[26, 3, 191])),\n",
        " Call(sample=VSAG2005, CallData(GT=1/1, AB=None, AD=[0, 1], DP=1, GQ=3, PL=[29, 3, 0])),\n",
        " Call(sample=VSAH1001, CallData(GT=1/1, AB=None, AD=[0, 0], DP=4, GQ=6, PL=[0, 18, 178])),\n",
        " Call(sample=VSAI3005, CallData(GT=None, AB=None, AD=None, DP=None, GQ=None, PL=None)),\n",
        " Call(sample=VSAJ2008, CallData(GT=1/1, AB=None, AD=[0, 4], DP=4, GQ=12, PL=[118, 3, 30])),\n",
        " Call(sample=VSAK3004, CallData(GT=1/1, AB=None, AD=[5, 4], DP=4, GQ=9, PL=[0, 12, 108])),\n",
        " Call(sample=VSAL1001, CallData(GT=1/1, AB=None, AD=[0, 2], DP=2, GQ=6, PL=[59, 6, 0])),\n",
        " Call(sample=VSAL2002, CallData(GT=1/1, AB=None, AD=[0, 2], DP=2, GQ=3, PL=[45, 0, 0])),\n",
        " Call(sample=VSAL3005, CallData(GT=1/1, AB=None, AD=[0, 6], DP=6, GQ=12, PL=[148, 12, 0])),\n",
        " Call(sample=VSAL4002, CallData(GT=1/1, AB=None, AD=[0, 3], DP=3, GQ=6, PL=[73, 6, 0])),\n",
        " Call(sample=VSAL5001, CallData(GT=1/1, AB=None, AD=[0, 4], DP=4, GQ=9, PL=[103, 9, 0])),\n",
        " Call(sample=VSAM0021, CallData(GT=1/1, AB=None, AD=[0, 49], DP=49, GQ=99, PL=[1463, 147, 0])),\n",
        " Call(sample=VSAM1003, CallData(GT=1/1, AB=None, AD=[0, 3], DP=3, GQ=6, PL=[73, 6, 0])),\n",
        " Call(sample=VSAM2001, CallData(GT=1/1, AB=None, AD=[0, 6], DP=6, GQ=18, PL=[0, 18, 79])),\n",
        " Call(sample=VSAM3001, CallData(GT=1/1, AB=None, AD=[8, 6], DP=6, GQ=12, PL=[0, 12, 0])),\n",
        " Call(sample=VSAM4001, CallData(GT=1/1, AB=None, AD=[0, 4], DP=4, GQ=9, PL=[2, 0, 0])),\n",
        " Call(sample=VSAM5007, CallData(GT=1/1, AB=None, AD=[0, 2], DP=2, GQ=6, PL=[5, 0, 0])),\n",
        " Call(sample=VWP00201, CallData(GT=0/1, AB=0.83, AD=[5, 1], DP=6, GQ=12, PL=[12, 0, 118])),\n",
        " Call(sample=VWP00268, CallData(GT=0/0, AB=None, AD=[4, 0], DP=4, GQ=12, PL=[4, 0, 111])),\n",
        " Call(sample=VWP00301, CallData(GT=1/1, AB=None, AD=[0, 2], DP=2, GQ=6, PL=[59, 6, 0])),\n",
        " Call(sample=VWP00312, CallData(GT=1/1, AB=None, AD=[0, 3], DP=3, GQ=9, PL=[84, 0, 0])),\n",
        " Call(sample=VWP00384, CallData(GT=1/1, AB=None, AD=[0, 1], DP=1, GQ=3, PL=[31, 3, 0])),\n",
        " Call(sample=VWP00389, CallData(GT=0/1, AB=0.29, AD=[2, 5], DP=7, GQ=37, PL=[124, 0, 37])),\n",
        " Call(sample=VWP00390, CallData(GT=0/1, AB=0.4, AD=[2, 3], DP=5, GQ=41, PL=[72, 0, 41])),\n",
        " Call(sample=VWP00393, CallData(GT=0/1, AB=0.29, AD=[2, 5], DP=7, GQ=39, PL=[110, 0, 39])),\n",
        " Call(sample=VWP00410, CallData(GT=0/0, AB=None, AD=[4, 1], DP=5, GQ=12, PL=[0, 12, 116])),\n",
        " Call(sample=VWP00414, CallData(GT=0/1, AB=0.25, AD=[2, 6], DP=8, GQ=42, PL=[130, 0, 42])),\n",
        " Call(sample=VWP00437, CallData(GT=0/1, AB=0.67, AD=[0, 6], DP=3, GQ=22, PL=[22, 0, 49])),\n",
        " Call(sample=VWP00456, CallData(GT=1/1, AB=None, AD=[0, 5], DP=5, GQ=15, PL=[149, 15, 0])),\n",
        " Call(sample=VWP00494, CallData(GT=1/1, AB=None, AD=[0, 5], DP=5, GQ=12, PL=[139, 12, 0])),\n",
        " Call(sample=VWP00542, CallData(GT=0/0, AB=None, AD=[4, 0], DP=4, GQ=12, PL=[0, 12, 115])),\n",
        " Call(sample=VWP10008, CallData(GT=1/1, AB=None, AD=[0, 0], DP=8, GQ=24, PL=[0, 12, 118])),\n",
        " Call(sample=VWP10010, CallData(GT=0/1, AB=0.5, AD=[1, 1], DP=2, GQ=22, PL=[25, 0, 22])),\n",
        " Call(sample=VWP10020, CallData(GT=1/1, AB=None, AD=[0, 2], DP=2, GQ=6, PL=[58, 6, 0])),\n",
        " Call(sample=VWP10026, CallData(GT=1/1, AB=None, AD=[0, 5], DP=5, GQ=9, PL=[103, 9, 0])),\n",
        " Call(sample=VWP10045, CallData(GT=1/1, AB=None, AD=[0, 1], DP=1, GQ=3, PL=[8, 0, 0])),\n",
        " Call(sample=VWP10053, CallData(GT=1/1, AB=None, AD=[0, 9], DP=9, GQ=27, PL=[6, 0, 0])),\n",
        " Call(sample=VWP10064, CallData(GT=0/1, AB=0.5, AD=[2, 2], DP=4, GQ=19, PL=[47, 0, 19])),\n",
        " Call(sample=VWP10067, CallData(GT=0/1, AB=0.33, AD=[1, 2], DP=3, GQ=20, PL=[0, 27, 280])),\n",
        " Call(sample=VWP10070, CallData(GT=1/1, AB=None, AD=[0, 1], DP=1, GQ=3, PL=[0, 15, 143])),\n",
        " Call(sample=VWP10076, CallData(GT=1/1, AB=None, AD=[0, 1], DP=1, GQ=3, PL=[30, 3, 0])),\n",
        " Call(sample=VWP10077, CallData(GT=0/0, AB=None, AD=[7, 0], DP=7, GQ=18, PL=[0, 15, 144])),\n",
        " Call(sample=VWP10084, CallData(GT=0/1, AB=0.33, AD=[2, 4], DP=6, GQ=44, PL=[91, 0, 44])),\n",
        " Call(sample=VZA1001, CallData(GT=1/1, AB=None, AD=[0, 5], DP=5, GQ=9, PL=[119, 9, 0])),\n",
        " Call(sample=VZA1002, CallData(GT=1/1, AB=None, AD=[0, 4], DP=4, GQ=12, PL=[114, 12, 0])),\n",
        " Call(sample=VZA1003, CallData(GT=0/0, AB=None, AD=[3, 0], DP=3, GQ=6, PL=[0, 6, 74])),\n",
        " Call(sample=VZA1004, CallData(GT=1/1, AB=None, AD=[0, 9], DP=9, GQ=12, PL=[3, 12, 0])),\n",
        " Call(sample=VZA2005, CallData(GT=None, AB=None, AD=None, DP=None, GQ=None, PL=None)),\n",
        " Call(sample=VZA2006, CallData(GT=1/1, AB=None, AD=[0, 4], DP=4, GQ=12, PL=[116, 12, 0])),\n",
        " Call(sample=VZA3008, CallData(GT=1/1, AB=None, AD=[0, 5], DP=5, GQ=12, PL=[0, 9, 86])),\n",
        " Call(sample=VZA3009, CallData(GT=1/1, AB=None, AD=[0, 2], DP=2, GQ=6, PL=[57, 6, 0])),\n",
        " Call(sample=VZA3010, CallData(GT=1/1, AB=None, AD=[0, 7], DP=7, GQ=18, PL=[196, 18, 0])),\n",
        " Call(sample=VZA4012, CallData(GT=None, AB=None, AD=None, DP=None, GQ=None, PL=None)),\n",
        " Call(sample=VZA4013, CallData(GT=1/1, AB=None, AD=[0, 5], DP=5, GQ=12, PL=[133, 12, 0])),\n",
        " Call(sample=VZC1014, CallData(GT=1/1, AB=None, AD=[0, 5], DP=5, GQ=15, PL=[0, 21, 203])),\n",
        " Call(sample=VZC1015, CallData(GT=1/1, AB=None, AD=[0, 0], DP=5, GQ=12, PL=[132, 12, 0])),\n",
        " Call(sample=VZC1017, CallData(GT=1/1, AB=None, AD=[0, 0], DP=9, GQ=18, PL=[220, 18, 0])),\n",
        " Call(sample=VZC1018, CallData(GT=1/1, AB=None, AD=[0, 6], DP=6, GQ=15, PL=[161, 15, 0])),\n",
        " Call(sample=VZC1020, CallData(GT=1/1, AB=None, AD=[0, 6], DP=6, GQ=12, PL=[147, 12, 0])),\n",
        " Call(sample=W566, CallData(GT=0/1, AB=0.5, AD=[1, 1], DP=2, GQ=22, PL=[24, 0, 22])),\n",
        " Call(sample=X186, CallData(GT=0/1, AB=0.5, AD=[1, 1], DP=2, GQ=24, PL=[26, 0, 24])),\n",
        " Call(sample=X336, CallData(GT=1/1, AB=None, AD=[0, 4], DP=4, GQ=12, PL=[118, 12, 0])),\n",
        " Call(sample=X598, CallData(GT=0/1, AB=0.5, AD=[1, 1], DP=3, GQ=23, PL=[5, 0, 23])),\n",
        " Call(sample=Y010, CallData(GT=0/1, AB=0.75, AD=[3, 1], DP=4, GQ=17, PL=[17, 0, 73])),\n",
        " Call(sample=Y083, CallData(GT=1/1, AB=None, AD=[0, 1], DP=1, GQ=3, PL=[31, 3, 0])),\n",
        " Call(sample=Y173, CallData(GT=None, AB=None, AD=None, DP=None, GQ=None, PL=None))]"
       ]
      }
     ],
     "prompt_number": 117
    },
    {
     "cell_type": "code",
     "collapsed": false,
     "input": [
      "[record.genotype(id)['GT'] for id in ['VGA00006']]"
     ],
     "language": "python",
     "metadata": {},
     "outputs": [
      {
       "metadata": {},
       "output_type": "pyout",
       "prompt_number": 122,
       "text": [
        "['0/1']"
       ]
      }
     ],
     "prompt_number": 122
    },
    {
     "cell_type": "code",
     "collapsed": false,
     "input": [
      "record.INFO"
     ],
     "language": "python",
     "metadata": {},
     "outputs": [
      {
       "metadata": {},
       "output_type": "pyout",
       "prompt_number": 213,
       "text": [
        "{'AN': 308,\n",
        " 'ANN': ['|intergenic_region|MODIFIER|ENSCSAG00000018297|ENSCSAG00000018297|intergenic_region|ENSCSAG00000018297|||n.||||||'],\n",
        " 'DP': 677,\n",
        " 'MQ': 52.33,\n",
        " 'MQ0': 12}"
       ]
      }
     ],
     "prompt_number": 213
    },
    {
     "cell_type": "code",
     "collapsed": false,
     "input": [
      "for i,record in enumerate(vcfr):\n",
      "    print record\n",
      "    if i>10:\n",
      "        break"
     ],
     "language": "python",
     "metadata": {},
     "outputs": [
      {
       "output_type": "stream",
       "stream": "stdout",
       "text": [
        "Record(CHROM=CAE6, POS=21, REF=C, ALT=[T])\n",
        "Record(CHROM=CAE6, POS=67, REF=C, ALT=[T])\n",
        "Record(CHROM=CAE6, POS=71, REF=A, ALT=[C])\n",
        "Record(CHROM=CAE6, POS=73, REF=T, ALT=[C])\n",
        "Record(CHROM=CAE6, POS=84, REF=T, ALT=[C])\n",
        "Record(CHROM=CAE6, POS=85, REF=C, ALT=[T])\n",
        "Record(CHROM=CAE6, POS=87, REF=A, ALT=[G])\n",
        "Record(CHROM=CAE6, POS=93, REF=C, ALT=[T])\n",
        "Record(CHROM=CAE6, POS=101, REF=G, ALT=[A])\n",
        "Record(CHROM=CAE6, POS=103, REF=A, ALT=[T])\n",
        "Record(CHROM=CAE6, POS=113, REF=A, ALT=[G])\n",
        "Record(CHROM=CAE6, POS=119, REF=G, ALT=[A])\n"
       ]
      }
     ],
     "prompt_number": 21
    },
    {
     "cell_type": "code",
     "collapsed": false,
     "input": [
      "vcfr.metadata"
     ],
     "language": "python",
     "metadata": {},
     "outputs": [
      {
       "metadata": {},
       "output_type": "pyout",
       "prompt_number": 17,
       "text": [
        "OrderedDict()"
       ]
      }
     ],
     "prompt_number": 17
    },
    {
     "cell_type": "code",
     "collapsed": false,
     "input": [],
     "language": "python",
     "metadata": {},
     "outputs": []
    }
   ],
   "metadata": {}
  }
 ]
}