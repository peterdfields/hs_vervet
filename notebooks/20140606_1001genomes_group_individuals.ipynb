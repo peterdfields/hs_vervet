{
 "metadata": {
  "name": "",
  "signature": "sha256:355018523cdff5d253c5f873f06b9739b72db4dd469aec22a3da2d751a3cb00c"
 },
 "nbformat": 3,
 "nbformat_minor": 0,
 "worksheets": [
  {
   "cells": [
    {
     "cell_type": "code",
     "collapsed": false,
     "input": [
      "import os\n",
      "import numpy as np\n",
      "import pandas as pd\n",
      "eu = os.path.expanduser\n",
      "jn = os.path.join"
     ],
     "language": "python",
     "metadata": {},
     "outputs": [],
     "prompt_number": 1
    },
    {
     "cell_type": "code",
     "collapsed": false,
     "input": [
      "meta_dir = eu(\"~/1001genomes_project/Hannes/metadata\")\n",
      "out_dir = os.path.expanduser(\"~/1001genomes_lab/Hannes/analyses/20140401_admixture/output\") \n",
      "master_table = pd.read_csv(\n",
      "                eu(\n",
      "                    \"~/1001genomes_project/Hannes/metadata/1001genomes_master_accession_list.csv\")\n",
      "                            ,index_col=0)\n",
      "Ks = range(2,21)\n",
      "admix_dir = os.path.expanduser(\"~/1001genomes_project/Hannes/analyses/20140401_admixture/_data\") \n",
      "admix_ids = np.loadtxt(\n",
      "                os.path.expanduser(\n",
      "                        \"~/1001genomes_project/Hannes/analyses/20140514_make_plink_files/\"\n",
      "                        \"_data/1001_non_identical_non_singleton_ld_prune_0p1.fam\"),\n",
      "                                                                    usecols=[0]).astype(int)\n",
      "def admix_df(K):\n",
      "    fn = os.path.join(admix_dir,\"1001_non_identical_non_singleton_ld_prune_0p1.\"+str(K)+\".Q\")\n",
      "    df = pd.read_csv(fn,sep=\" \",header=None)\n",
      "    df.index = admix_ids\n",
      "    return df"
     ],
     "language": "python",
     "metadata": {},
     "outputs": [],
     "prompt_number": 2
    },
    {
     "cell_type": "heading",
     "level": 2,
     "metadata": {},
     "source": [
      "Treat nearly identical accessions"
     ]
    },
    {
     "cell_type": "code",
     "collapsed": false,
     "input": [
      "#read pairs of nearly identical line and for each group of nearly identical lines, keep just one representative"
     ],
     "language": "python",
     "metadata": {},
     "outputs": []
    },
    {
     "cell_type": "code",
     "collapsed": false,
     "input": [
      "#this file comes from Ashley\n",
      "identical_pair_fn = os.path.expanduser(\"~/1001genomes_project/Hannes/metadata/pair_info_for_near_identical_lines_1001g.txt\")"
     ],
     "language": "python",
     "metadata": {},
     "outputs": [],
     "prompt_number": 3
    },
    {
     "cell_type": "code",
     "collapsed": false,
     "input": [
      "#find groups\n",
      "groups = []\n",
      "with open(identical_pair_fn,\"r\") as f:\n",
      "    f.next()\n",
      "    for line in f:\n",
      "        id2 = line.split()[0]\n",
      "        id1 = line.split()[1]\n",
      "        added = False\n",
      "        for group in groups:\n",
      "            if id1 in group:\n",
      "                group.append(id2)\n",
      "                added = True\n",
      "                break\n",
      "            elif id2 in group:\n",
      "                group.append(id1)\n",
      "                added = True\n",
      "                break\n",
      "        if not added:\n",
      "            groups.append([id2,id1])"
     ],
     "language": "python",
     "metadata": {},
     "outputs": [],
     "prompt_number": 4
    },
    {
     "cell_type": "code",
     "collapsed": false,
     "input": [
      "groups = [list(set(g)) for g in groups]"
     ],
     "language": "python",
     "metadata": {},
     "outputs": [],
     "prompt_number": 5
    },
    {
     "cell_type": "code",
     "collapsed": false,
     "input": [
      "print len(groups)"
     ],
     "language": "python",
     "metadata": {},
     "outputs": [
      {
       "output_type": "stream",
       "stream": "stdout",
       "text": [
        "72\n"
       ]
      }
     ],
     "prompt_number": 45
    },
    {
     "cell_type": "code",
     "collapsed": false,
     "input": [
      "#check whether groups have overlapping elements and join them\n",
      "def merge(lsts):\n",
      "  sets = [set(lst) for lst in lsts if lst]\n",
      "  merged = 1\n",
      "  while merged:\n",
      "    merged = 0\n",
      "    results = []\n",
      "    while sets:\n",
      "      common, rest = sets[0], sets[1:]\n",
      "      sets = []\n",
      "      for x in rest:\n",
      "        if x.isdisjoint(common):\n",
      "          sets.append(x)\n",
      "        else:\n",
      "          merged = 1\n",
      "          common |= x\n",
      "      results.append(common)\n",
      "    sets = results\n",
      "  return sets"
     ],
     "language": "python",
     "metadata": {},
     "outputs": [],
     "prompt_number": 6
    },
    {
     "cell_type": "code",
     "collapsed": false,
     "input": [
      "unique_groups = [list(g) for g in merge(groups)]"
     ],
     "language": "python",
     "metadata": {},
     "outputs": [],
     "prompt_number": 8
    },
    {
     "cell_type": "code",
     "collapsed": false,
     "input": [
      "identical_groups_fn = os.path.expanduser(\"~/1001genomes_project/Hannes/metadata/identical_groups_1001g.csv\")\n",
      "with open(identical_groups_fn,\"w\") as f:\n",
      "    for group in unique_groups:\n",
      "        f.write(\",\".join(group)+\"\\n\")"
     ],
     "language": "python",
     "metadata": {},
     "outputs": [],
     "prompt_number": 14
    },
    {
     "cell_type": "code",
     "collapsed": false,
     "input": [
      "representatives = [g[0] for g in unique_groups]"
     ],
     "language": "python",
     "metadata": {},
     "outputs": [],
     "prompt_number": 9
    },
    {
     "cell_type": "code",
     "collapsed": false,
     "input": [
      "remove_ids = [e for g in unique_groups for e in g[1:]]"
     ],
     "language": "python",
     "metadata": {},
     "outputs": [],
     "prompt_number": 10
    },
    {
     "cell_type": "code",
     "collapsed": false,
     "input": [
      "len(remove_ids)"
     ],
     "language": "python",
     "metadata": {},
     "outputs": [
      {
       "metadata": {},
       "output_type": "pyout",
       "prompt_number": 23,
       "text": [
        "173"
       ]
      }
     ],
     "prompt_number": 23
    },
    {
     "cell_type": "heading",
     "level": 3,
     "metadata": {},
     "source": [
      "Create table from admixture results, impute clustering results for nearly identical individuals"
     ]
    },
    {
     "cell_type": "code",
     "collapsed": false,
     "input": [
      "df = pd.DataFrame(index=admix_ids)\n",
      "for K in Ks:\n",
      "    df1 = admix_df(K)\n",
      "    df1.columns = [\"K\"+str(K)+\".ChrAll.\"+str(i) for i in df1.columns]\n",
      "    df = df.join(df1)"
     ],
     "language": "python",
     "metadata": {},
     "outputs": [],
     "prompt_number": 226
    },
    {
     "cell_type": "code",
     "collapsed": false,
     "input": [
      "len(df)"
     ],
     "language": "python",
     "metadata": {},
     "outputs": [
      {
       "metadata": {},
       "output_type": "pyout",
       "prompt_number": 225,
       "text": [
        "1146"
       ]
      }
     ],
     "prompt_number": 225
    },
    {
     "cell_type": "heading",
     "level": 4,
     "metadata": {},
     "source": [
      "copy clustering results of representatives to all individuals of the group"
     ]
    },
    {
     "cell_type": "code",
     "collapsed": false,
     "input": [
      "for r,g in zip(representatives,unique_groups):\n",
      "    assert r in g\n",
      "    #for some reason, the representative is not always the one in the representatives list\n",
      "    gi = iter(g)\n",
      "    while int(r) not in df.index:\n",
      "        r = gi.next()\n",
      "        \n",
      "    for m in g:\n",
      "        if m != r:\n",
      "            #print m, type(r)\n",
      "            try:\n",
      "                #print {m:df.loc[int(r)]}\n",
      "                df1 = pd.DataFrame({int(m):df.loc[int(r)]}).T\n",
      "                df = pd.concat([df,df1])\n",
      "            except KeyError:\n",
      "                print g\n",
      "                print int(r), \"not in df, could not add\", m\n",
      "                try:\n",
      "                    df.loc[int(m)]\n",
      "                    print m, \"in df\" \n",
      "                except KeyError:\n",
      "                    print  m, \"not in df either\"\n",
      "                #raise "
     ],
     "language": "python",
     "metadata": {},
     "outputs": [],
     "prompt_number": 227
    },
    {
     "cell_type": "code",
     "collapsed": false,
     "input": [
      "len(df)"
     ],
     "language": "python",
     "metadata": {},
     "outputs": [
      {
       "ename": "NameError",
       "evalue": "name 'df' is not defined",
       "output_type": "pyerr",
       "traceback": [
        "\u001b[1;31m---------------------------------------------------------------------------\u001b[0m\n\u001b[1;31mNameError\u001b[0m                                 Traceback (most recent call last)",
        "\u001b[1;32m<ipython-input-6-042b5ee14373>\u001b[0m in \u001b[0;36m<module>\u001b[1;34m()\u001b[0m\n\u001b[1;32m----> 1\u001b[1;33m \u001b[0mlen\u001b[0m\u001b[1;33m(\u001b[0m\u001b[0mdf\u001b[0m\u001b[1;33m)\u001b[0m\u001b[1;33m\u001b[0m\u001b[0m\n\u001b[0m",
        "\u001b[1;31mNameError\u001b[0m: name 'df' is not defined"
       ]
      }
     ],
     "prompt_number": 6
    },
    {
     "cell_type": "code",
     "collapsed": false,
     "input": [
      "df.to_csv(os.path.join(\n",
      "            out_dir,\n",
      "            \"1001_admixture_non_singleton_identical_removed_and_imputed.csv\"))"
     ],
     "language": "python",
     "metadata": {},
     "outputs": [],
     "prompt_number": 228
    },
    {
     "cell_type": "heading",
     "level": 2,
     "metadata": {},
     "source": [
      "Define arabidopsis populations"
     ]
    },
    {
     "cell_type": "heading",
     "level": 3,
     "metadata": {},
     "source": [
      "Based on clustering"
     ]
    },
    {
     "cell_type": "code",
     "collapsed": false,
     "input": [
      "K = 9\n",
      "#only take individuals that have the following fraction from a single cluster\n",
      "min_fraction = 0.6"
     ],
     "language": "python",
     "metadata": {},
     "outputs": [],
     "prompt_number": 9
    },
    {
     "cell_type": "code",
     "collapsed": false,
     "input": [
      "admix = admix_df(K)"
     ],
     "language": "python",
     "metadata": {},
     "outputs": [],
     "prompt_number": 10
    },
    {
     "cell_type": "code",
     "collapsed": false,
     "input": [
      "# create a dictionary of populations\n",
      "def get_cluster_number(row):\n",
      "    \"\"\"\n",
      "    get the number of the cluster \n",
      "    an individual draws >60% of \n",
      "    its ancestry from\n",
      "    \"\"\"\n",
      "    try:\n",
      "        return np.where(row.values)[0][0]\n",
      "    except IndexError:\n",
      "        return \"N\"\n",
      "        \n",
      "groups = pd.DataFrame({\"population\":(admix>min_fraction).apply(get_cluster_number,axis=1)})\n",
      "populations = {}\n",
      "for K,v in groups.groupby(\"population\"):\n",
      "    populations.update({K:master_table.ix[v.index]})"
     ],
     "language": "python",
     "metadata": {},
     "outputs": [],
     "prompt_number": 58
    },
    {
     "cell_type": "code",
     "collapsed": false,
     "input": [
      "for pop in populations:\n",
      "    print pop, populations[pop][\"country\"].values"
     ],
     "language": "python",
     "metadata": {},
     "outputs": [
      {
       "output_type": "stream",
       "stream": "stdout",
       "text": [
        "0 [ESP ESP ESP ESP ESP ESP ESP POR ESP ESP ESP ESP ESP ESP ESP ESP ESP ESP\n",
        " ESP ESP ESP ESP ESP ESP ESP ESP ESP ESP ESP ESP ESP ESP ESP ESP ESP ESP\n",
        " ESP ESP ESP ESP ESP ESP ESP ESP ESP ESP ESP ESP ESP ESP ESP ESP ESP ESP\n",
        " ESP ESP ESP ESP ESP ESP ESP ESP ESP ESP ESP ESP ESP ESP ESP ESP ESP ESP\n",
        " ESP ESP ESP ESP ESP ESP ESP ESP ESP ESP ESP ESP ESP ESP ESP ESP ESP ESP\n",
        " ESP ESP ESP ESP ESP ESP ESP ESP ESP ESP ESP ESP ESP ESP ESP ESP ESP ESP\n",
        " ESP ESP ESP ESP ESP ESP ESP ESP ESP ESP ESP ESP ESP FRA ESP ESP ESP ESP]\n",
        "1 [SWE SWE SWE SWE SWE SWE SWE SWE SWE SWE SWE SWE SWE SWE SWE SWE SWE SWE\n",
        " SWE SWE SWE SWE SWE SWE SWE SWE SWE SWE SWE SWE SWE SWE SWE SWE SWE SWE\n",
        " SWE SWE SWE SWE SWE SWE SWE SWE SWE SWE SWE SWE SWE SWE SWE SWE FIN SWE\n",
        " SWE SWE SWE SWE SWE SWE SWE SWE SWE SWE SWE SWE SWE SWE]\n",
        "2 [GER GER FRA FRA USA USA USA USA USA USA USA USA USA USA USA USA FRA UK UK\n",
        " UK UK UK UK UK UK UK UK UK UK UK UK UK UK UK UK UK UK UK UK UK SWE USA USA\n",
        " USA USA FRA BEL UK GER UK UK USA UK UK NED FRA FRA FRA UK UK GER UK UK NED\n",
        " NED NED UK UK GER UK FRA FRA UK FRA GER NED UK FRA GER CAN FRA NED FRA USA\n",
        " CAN NED UK USA SUI USA USA USA USA USA USA USA USA USA USA USA FRA USA FRA\n",
        " USA ITA SWE USA FRA USA UK USA UK ESP ESP ESP ESP ESP ESP FRA FRA FRA FRA\n",
        " FRA FRA FRA FRA FRA FRA FRA FRA FRA POR]\n",
        "3 [UZB ARM AFG KAZ USA TJK RUS TJK UKR KGZ KGZ KGZ KGZ TJK RUS IND ARM ARM\n",
        " ARM RUS RUS RUS RUS RUS RUS RUS RUS RUS RUS RUS RUS RUS RUS RUS RUS RUS\n",
        " RUS RUS RUS RUS RUS RUS RUS RUS RUS RUS RUS RUS RUS RUS ITA ROU UZB CHN\n",
        " KGZ RUS RUS RUS RUS RUS RUS RUS RUS RUS]\n",
        "4 [ITA SWE SWE SWE ITA ITA ITA ITA ITA ITA ITA ITA ITA ITA ITA ITA ITA ITA\n",
        " ITA ITA ITA ITA ITA GRC ITA ITA ITA ITA ITA]\n",
        "5 [ROM UKR AZE AZE POR AZE AZE AZE AZE AZE AZE AZE AZE AZE AZE AZE AZE GEO\n",
        " GEO GEO GEO GEO GEO GEO GEO RUS nan ITA ITA ITA ITA ITA ITA ITA ITA ITA\n",
        " ITA ITA ITA BUL BUL BUL BUL BUL BUL BUL BUL BUL BUL BUL BUL BUL BUL BUL\n",
        " BUL BUL BUL BUL BUL BUL BUL BUL BUL GRC GRC SRB SRB SRB IRN ITA ITA ITA\n",
        " ITA ITA ITA ITA ITA ITA ITA ITA ITA BUL BUL BUL GEO GEO GEO]\n",
        "6 [ROM SRV SRB CZE USA CZE CZE CZE CZE AUT UK UK UK CZE CZE CZE CZE CZE CZE\n",
        " CZE CZE CZE CZE SWE SWE SWE CZE CZE CZE CZE CZE CZE GER GER CZE CZE CZE\n",
        " AUT AUT SUI RUS CZE GER NED SUI ITA GER ITA GER GER GER GER AUT CZE LTU\n",
        " GER JPN GER LTU POL GER GER RUS AUT UK GER RUS CZE USA AUT JPN GER NED RUS\n",
        " GER SUI GER CZE DEN CZE USA CZE CZE CZE CZE CZE CZE AUT CZE SWE GER USA\n",
        " CRO CRO SVK SVK SVK SVK SVK SVK SVK ROU SRB SRB LBN GER GER GER GER GER\n",
        " GER GER GER GER GER GER GER GER GER GER GER GER GER GER GER GER GER GER\n",
        " GER GER GER GER GER GER GER GER GER GER GER GER GER GER GER GER GER GER\n",
        " GER GER GER GER GER FRA FRA FRA FRA GER GER GER GER GER]\n",
        "7 [SWE SWE SWE SWE SWE SWE SWE SWE SWE SWE SWE SWE SWE SWE SWE SWE SWE SWE\n",
        " SWE SWE SWE SWE SWE SWE SWE SWE SWE SWE SWE SWE SWE SWE SWE SWE SWE SWE\n",
        " SWE SWE SWE SWE SWE SWE SWE SWE SWE SWE SWE SWE SWE SWE SWE SWE SWE SWE\n",
        " SWE SWE SWE SWE SWE SWE SWE SWE SWE SWE SWE SWE SWE SWE SWE SWE SWE SWE\n",
        " SWE SWE SWE SWE SWE SWE SWE SWE SWE SWE SWE SWE SWE SWE SWE SWE SWE SWE\n",
        " SWE SWE SWE SWE GER GER DEN GER GER NOR GER GER GER SWE SWE SWE SWE SWE\n",
        " SWE SWE SWE SWE SWE SWE SWE SWE SWE SWE SWE SWE SWE SWE SWE SWE SWE SWE\n",
        " SWE SWE SWE SWE SWE SWE SWE SWE SWE SWE SWE SWE SWE SWE SWE SWE SWE SWE\n",
        " SWE SWE]\n",
        "8 [CPV ESP POR POR POR POR POR ESP ESP ESP ESP ESP ESP ESP ESP ESP ESP ESP\n",
        " ESP ESP ESP ESP ESP ESP ESP ESP ESP ESP MAR ESP ESP ESP ESP ESP ESP ESP\n",
        " ESP ESP MAR ESP ESP ESP ESP]\n",
        "N [nan SWE SWE SWE SWE USA FRA FRA UK UK UK UK SWE GER KAZ CZE GER GER SWE\n",
        " BEL GER GER GER IRL ITA RUS POR GER GER GER FIN GER GER GER GER GER GER\n",
        " GER POL NED GER GER GER GER GER GER ITA GER NED POL GER GER FRA CZE UNK\n",
        " USA SWE SWE UK GER ITA GER SWE FRA LTU SWE UK SWE SWE SWE SWE SWE SWE SWE\n",
        " SWE SWE SWE SWE SWE SWE SWE SWE SWE SWE POR ESP ESP ESP ESP ESP ESP ESP\n",
        " ESP RUS ROU ROU ROU ROU ROU ROU SRB SRB ITA LBN GER ESP ESP ESP ESP ESP\n",
        " FRA FRA FRA FRA FRA ITA ITA TUR]\n"
       ]
      }
     ],
     "prompt_number": 61
    },
    {
     "cell_type": "code",
     "collapsed": false,
     "input": [
      "pop_names = {0:\"spain\",1:\"north_sweden\",2:\"western_europe\",3:\"asia\",4:\"mitterberg_castelfed\",5:\"balkan_caucasus\",6:\"central_europe\",7:\"south_sweden\",8:\"neanderthals\",\"N\":\"admixed\"}"
     ],
     "language": "python",
     "metadata": {},
     "outputs": [],
     "prompt_number": 75
    },
    {
     "cell_type": "code",
     "collapsed": false,
     "input": [
      "with open(jn(meta_dir,\"populations\",\"K9f60.README\"),\"w\") as f:\n",
      "    f.write(\"\"\"produced by hannes@svardal.at\n",
      "----------------------------------------\n",
      "These populations were determined using\n",
      "the results from admixture software run on all non-identical individuals out\n",
      "of the 1146 final accesions.\n",
      "The admixture run is labelled:\n",
      "1001_non_identical_non_singleton_ld_prune_0p1\n",
      "We group individuals into populations by taking the admixture \n",
      "results for K=9 and requiring that indivduals draw at least\n",
      "60% of their ancestry from one cluster.\n",
      "Individuals that do not fulfill this requirement are \n",
      "attributed to the population named \"admixed\".\n",
      "The other names are proxies to the geographic distribution,\n",
      "but their are outlier accesions in most of the populations.\n",
      "---------------------------------------------\n",
      "WARNING: \n",
      "1) \"mitterberg_castelfed\" is a weird population exclude it from\n",
      "your analysis unless you know what you are doing.\n",
      "2) \"admixed\" is not a population but a collection\n",
      "of all individuals that do not draw >60% of their ancestry\n",
      "from a single cluster. This individuals should not \n",
      "be used in population anaylsis.\n",
      "-------------------------------------------\n",
      "\"\"\")\n",
      "    f.write(\"populations are:\"+\"\\n\")\n",
      "    for pop,name in pop_names.iteritems():\n",
      "        f.write(name+\": \" + str(len(populations[pop])) + \" individuals\\n\")\n",
      "    \n",
      "for key,name in pop_names.iteritems():\n",
      "    with open(jn(meta_dir,\"populations\",\"K9f60_{}.list\".format(name)),\"w\") as f:\n",
      "        for idx in populations[key].index:\n",
      "            f.write(str(idx)+\"\\n\")"
     ],
     "language": "python",
     "metadata": {},
     "outputs": [],
     "prompt_number": 84
    },
    {
     "cell_type": "code",
     "collapsed": false,
     "input": [
      "populations[8][\"name\"]#.index.values"
     ],
     "language": "python",
     "metadata": {},
     "outputs": [
      {
       "metadata": {},
       "output_type": "pyout",
       "prompt_number": 71,
       "text": [
        "6911        Cvi-0\n",
        "7063        Can-0\n",
        "9507     IP-Coa-0\n",
        "9509     IP-Reg-0\n",
        "9510     IP-Rei-0\n",
        "9511     IP-Vav-0\n",
        "9512     IP-Vid-1\n",
        "9513     IP-Adc-5\n",
        "9514     IP-Adm-0\n",
        "9515     IP-Ala-0\n",
        "9522     IP-Bea-0\n",
        "9530     IP-Car-1\n",
        "9533     IP-Cem-0\n",
        "9537     IP-Cum-1\n",
        "9541     IP-Fue-2\n",
        "9542     IP-Fun-0\n",
        "9543     IP-Gra-0\n",
        "9544     IP-Gua-1\n",
        "9545    IP-Her-12\n",
        "9549     IP-Hum-2\n",
        "9550     IP-Iso-4\n",
        "9554     IP-Lso-0\n",
        "9555     IP-Mar-1\n",
        "9560     IP-Mot-0\n",
        "9574     IP-Rel-0\n",
        "9583     IP-Sne-0\n",
        "9598     IP-Vim-0\n",
        "9600     IP-Vis-0\n",
        "9606      Aitba-1\n",
        "9832        Cat-0\n",
        "9837        Con-0\n",
        "9865        Mdc-0\n",
        "9869        Moj-0\n",
        "9871        Nac-0\n",
        "9879        Per-0\n",
        "9887        Pun-0\n",
        "9900        Tri-0\n",
        "9905        Ven-0\n",
        "9939      Aitba-2\n",
        "9943        Cdm-0\n",
        "9944        Don-0\n",
        "9946        Mer-6\n",
        "9947        Ped-0\n",
        "Name: name, dtype: object"
       ]
      }
     ],
     "prompt_number": 71
    },
    {
     "cell_type": "code",
     "collapsed": false,
     "input": [],
     "language": "python",
     "metadata": {},
     "outputs": []
    }
   ],
   "metadata": {}
  }
 ]
}