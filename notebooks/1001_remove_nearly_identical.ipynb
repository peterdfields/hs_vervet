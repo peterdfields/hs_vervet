{
 "metadata": {
  "name": "1001_remove_nearly_identical"
 },
 "nbformat": 3,
 "nbformat_minor": 0,
 "worksheets": [
  {
   "cells": [
    {
     "cell_type": "code",
     "collapsed": false,
     "input": [
      "import os\n",
      "eu = os.path.expanduser"
     ],
     "language": "python",
     "metadata": {},
     "outputs": [],
     "prompt_number": 41
    },
    {
     "cell_type": "code",
     "collapsed": false,
     "input": [
      "#read pairs of nearly identical line and for each group of nearly identical lines, keep just one representative"
     ],
     "language": "python",
     "metadata": {},
     "outputs": []
    },
    {
     "cell_type": "code",
     "collapsed": false,
     "input": [
      "#this file comes from Ashley\n",
      "identical_pair_fn = os.path.expanduser(\"~/1001genomes_project/Hannes/metadata/pair_info_for_near_identical_lines_1001g.txt\")"
     ],
     "language": "python",
     "metadata": {},
     "outputs": [],
     "prompt_number": 42
    },
    {
     "cell_type": "code",
     "collapsed": false,
     "input": [
      "#find groups\n",
      "groups = []\n",
      "with open(identical_pair_fn,\"r\") as f:\n",
      "    f.next()\n",
      "    for line in f:\n",
      "        id2 = line.split()[0]\n",
      "        id1 = line.split()[1]\n",
      "        added = False\n",
      "        for group in groups:\n",
      "            if id1 in group:\n",
      "                group.append(id2)\n",
      "                added = True\n",
      "                break\n",
      "            elif id2 in group:\n",
      "                group.append(id1)\n",
      "                added = True\n",
      "                break\n",
      "        if not added:\n",
      "            groups.append([id2,id1])"
     ],
     "language": "python",
     "metadata": {},
     "outputs": [],
     "prompt_number": 43
    },
    {
     "cell_type": "code",
     "collapsed": false,
     "input": [
      "groups = [list(set(g)) for g in groups]"
     ],
     "language": "python",
     "metadata": {},
     "outputs": [],
     "prompt_number": 44
    },
    {
     "cell_type": "code",
     "collapsed": false,
     "input": [
      "print len(groups)"
     ],
     "language": "python",
     "metadata": {},
     "outputs": [
      {
       "output_type": "stream",
       "stream": "stdout",
       "text": [
        "72\n"
       ]
      }
     ],
     "prompt_number": 45
    },
    {
     "cell_type": "code",
     "collapsed": false,
     "input": [
      "#check whether groups have overlapping elements and join them\n",
      "def merge(lsts):\n",
      "  sets = [set(lst) for lst in lsts if lst]\n",
      "  merged = 1\n",
      "  while merged:\n",
      "    merged = 0\n",
      "    results = []\n",
      "    while sets:\n",
      "      common, rest = sets[0], sets[1:]\n",
      "      sets = []\n",
      "      for x in rest:\n",
      "        if x.isdisjoint(common):\n",
      "          sets.append(x)\n",
      "        else:\n",
      "          merged = 1\n",
      "          common |= x\n",
      "      results.append(common)\n",
      "    sets = results\n",
      "  return sets"
     ],
     "language": "python",
     "metadata": {},
     "outputs": [],
     "prompt_number": 46
    },
    {
     "cell_type": "code",
     "collapsed": false,
     "input": [
      "unique_groups = [list(g) for g in merge(groups)]"
     ],
     "language": "python",
     "metadata": {},
     "outputs": [],
     "prompt_number": 47
    },
    {
     "cell_type": "code",
     "collapsed": false,
     "input": [
      "representatives = [g[0] for g in unique_groups]"
     ],
     "language": "python",
     "metadata": {},
     "outputs": [],
     "prompt_number": 48
    },
    {
     "cell_type": "code",
     "collapsed": false,
     "input": [
      "remove_ids = [e for g in unique_groups for e in g[1:]]"
     ],
     "language": "python",
     "metadata": {},
     "outputs": [],
     "prompt_number": 21
    },
    {
     "cell_type": "code",
     "collapsed": false,
     "input": [
      "len(remove_ids)"
     ],
     "language": "python",
     "metadata": {},
     "outputs": [
      {
       "output_type": "pyout",
       "prompt_number": 23,
       "text": [
        "173"
       ]
      }
     ],
     "prompt_number": 23
    },
    {
     "cell_type": "heading",
     "level": 3,
     "metadata": {},
     "source": [
      "Create table from admixture results, impute clustering results for nearly identical individuals"
     ]
    },
    {
     "cell_type": "code",
     "collapsed": false,
     "input": [
      "import numpy as np\n",
      "import pandas as pd"
     ],
     "language": "python",
     "metadata": {},
     "outputs": [],
     "prompt_number": 214
    },
    {
     "cell_type": "code",
     "collapsed": false,
     "input": [
      "out_dir = os.path.expanduser(\"~/1001genomes_lab/Hannes/analyses/20140401_admixture/output\") "
     ],
     "language": "python",
     "metadata": {},
     "outputs": [],
     "prompt_number": 215
    },
    {
     "cell_type": "code",
     "collapsed": false,
     "input": [
      "master_table = pd.read_csv(\n",
      "                os.path.expanduser(\n",
      "                    \"~/1001genomes_lab/Hannes/metadata/1001genomes_master_accession_list.csv\")\n",
      "                            ,index_col=0)"
     ],
     "language": "python",
     "metadata": {},
     "outputs": [],
     "prompt_number": 216
    },
    {
     "cell_type": "code",
     "collapsed": false,
     "input": [
      "Ks = range(2,21)"
     ],
     "language": "python",
     "metadata": {},
     "outputs": [],
     "prompt_number": 217
    },
    {
     "cell_type": "code",
     "collapsed": false,
     "input": [
      "admix_dir = os.path.expanduser(\"~/1001genomes_project/Hannes/analyses/20140401_admixture/_data\") "
     ],
     "language": "python",
     "metadata": {},
     "outputs": [],
     "prompt_number": 218
    },
    {
     "cell_type": "code",
     "collapsed": false,
     "input": [
      "admix_ids = np.loadtxt(\n",
      "                os.path.expanduser(\n",
      "                        \"~/1001genomes_project/Hannes/analyses/20140514_make_plink_files/\"\n",
      "                        \"_data/1001_non_identical_non_singleton_ld_prune_0p1.fam\"),\n",
      "                                                                    usecols=[0]).astype(int)"
     ],
     "language": "python",
     "metadata": {},
     "outputs": [],
     "prompt_number": 219
    },
    {
     "cell_type": "code",
     "collapsed": false,
     "input": [
      "def admix_df(K):\n",
      "    fn = os.path.join(admix_dir,\"1001_non_identical_non_singleton_ld_prune_0p1.\"+str(K)+\".Q\")\n",
      "    df = pd.read_csv(fn,sep=\" \",header=None)\n",
      "    df.index = admix_ids\n",
      "    return df"
     ],
     "language": "python",
     "metadata": {},
     "outputs": [],
     "prompt_number": 220
    },
    {
     "cell_type": "code",
     "collapsed": false,
     "input": [
      "df = pd.DataFrame(index=admix_ids)\n",
      "for K in Ks:\n",
      "    df1 = admix_df(K)\n",
      "    df1.columns = [\"K\"+str(K)+\".ChrAll.\"+str(i) for i in df1.columns]\n",
      "    df = df.join(df1)"
     ],
     "language": "python",
     "metadata": {},
     "outputs": [],
     "prompt_number": 226
    },
    {
     "cell_type": "code",
     "collapsed": false,
     "input": [
      "len(df)"
     ],
     "language": "python",
     "metadata": {},
     "outputs": [
      {
       "output_type": "pyout",
       "prompt_number": 225,
       "text": [
        "1146"
       ]
      }
     ],
     "prompt_number": 225
    },
    {
     "cell_type": "heading",
     "level": 4,
     "metadata": {},
     "source": [
      "copy clustering results of representatives to all individuals of the group"
     ]
    },
    {
     "cell_type": "code",
     "collapsed": false,
     "input": [
      "for r,g in zip(representatives,unique_groups):\n",
      "    assert r in g\n",
      "    #for some reason, the representative is not always the one in the representatives list\n",
      "    gi = iter(g)\n",
      "    while int(r) not in df.index:\n",
      "        r = gi.next()\n",
      "        \n",
      "    for m in g:\n",
      "        if m != r:\n",
      "            #print m, type(r)\n",
      "            try:\n",
      "                #print {m:df.loc[int(r)]}\n",
      "                df1 = pd.DataFrame({int(m):df.loc[int(r)]}).T\n",
      "                df = pd.concat([df,df1])\n",
      "            except KeyError:\n",
      "                print g\n",
      "                print int(r), \"not in df, could not add\", m\n",
      "                try:\n",
      "                    df.loc[int(m)]\n",
      "                    print m, \"in df\" \n",
      "                except KeyError:\n",
      "                    print  m, \"not in df either\"\n",
      "                #raise "
     ],
     "language": "python",
     "metadata": {},
     "outputs": [],
     "prompt_number": 227
    },
    {
     "cell_type": "code",
     "collapsed": false,
     "input": [
      "df.to_csv(os.path.join(\n",
      "            out_dir,\n",
      "            \"1001_admixture_non_singleton_identical_removed_and_imputed.csv\"))"
     ],
     "language": "python",
     "metadata": {},
     "outputs": [],
     "prompt_number": 228
    },
    {
     "cell_type": "code",
     "collapsed": false,
     "input": [
      "len(df)"
     ],
     "language": "python",
     "metadata": {},
     "outputs": [
      {
       "output_type": "pyout",
       "prompt_number": 229,
       "text": [
        "1146"
       ]
      }
     ],
     "prompt_number": 229
    },
    {
     "cell_type": "code",
     "collapsed": false,
     "input": [],
     "language": "python",
     "metadata": {},
     "outputs": []
    }
   ],
   "metadata": {}
  }
 ]
}