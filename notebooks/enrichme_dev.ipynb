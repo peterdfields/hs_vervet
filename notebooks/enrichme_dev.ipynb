{
 "cells": [
  {
   "cell_type": "code",
   "execution_count": 15,
   "metadata": {
    "collapsed": true
   },
   "outputs": [],
   "source": [
    "%matplotlib inline"
   ]
  },
  {
   "cell_type": "code",
   "execution_count": 1,
   "metadata": {
    "collapsed": true
   },
   "outputs": [],
   "source": [
    "import os\n",
    "import pandas as pd\n",
    "import numpy as np\n",
    "eu = os.path.expanduser\n",
    "jn = os.path.join"
   ]
  },
  {
   "cell_type": "code",
   "execution_count": 6,
   "metadata": {
    "collapsed": false
   },
   "outputs": [],
   "source": [
    "wolfgang_rod = pd.read_csv(eu(\"~/Akademisches/Projects/Enrichme/Test_data/\"\n",
    "                             \"parsed_spalding_smoothed_normalized_timeoverangle_averages_pid151_medianTime_angle39.00_emmax_none_t82.csv\"),\n",
    "                              index_col=[0,1])"
   ]
  },
  {
   "cell_type": "code",
   "execution_count": 18,
   "metadata": {
    "collapsed": false
   },
   "outputs": [
    {
     "data": {
      "text/plain": [
       "array([[<matplotlib.axes._subplots.AxesSubplot object at 0x60c8110>]], dtype=object)"
      ]
     },
     "execution_count": 18,
     "metadata": {},
     "output_type": "execute_result"
    },
    {
     "data": {
      "image/png": "[encoded data removed]",
      "text/plain": [
       "<matplotlib.figure.Figure at 0x5be01d0>"
      ]
     },
     "metadata": {},
     "output_type": "display_data"
    }
   ],
   "source": [
    "wolfgang_rod.hist(bins=100)"
   ]
  },
  {
   "cell_type": "code",
   "execution_count": 13,
   "metadata": {
    "collapsed": false
   },
   "outputs": [],
   "source": [
    "wolfgang_rod_score = -np.log10(wolfgang_rod)"
   ]
  },
  {
   "cell_type": "code",
   "execution_count": 16,
   "metadata": {
    "collapsed": false
   },
   "outputs": [
    {
     "data": {
      "text/plain": [
       "array([[<matplotlib.axes._subplots.AxesSubplot object at 0x5ed37d0>]], dtype=object)"
      ]
     },
     "execution_count": 16,
     "metadata": {},
     "output_type": "execute_result"
    },
    {
     "data": {
      "image/png": "[encoded data removed]",
      "text/plain": [
       "<matplotlib.figure.Figure at 0x5ed3310>"
      ]
     },
     "metadata": {},
     "output_type": "display_data"
    }
   ],
   "source": [
    "wolfgang_rod_score.hist(bins=100)"
   ]
  },
  {
   "cell_type": "code",
   "execution_count": 21,
   "metadata": {
    "collapsed": false
   },
   "outputs": [],
   "source": [
    "wolfgang_rod_score.to_csv(eu(\"~/Akademisches/Projects/Enrichme/Test_data/\"\n",
    "                             \"parsed_spalding_smoothed_normalized_timeoverangle_averages_pid151_medianTime_angle39.00_emmax_none_t82_score.csv\"))"
   ]
  },
  {
   "cell_type": "code",
   "execution_count": 22,
   "metadata": {
    "collapsed": false
   },
   "outputs": [
    {
     "data": {
      "text/html": [
       "<div style=\"max-height:1000px;max-width:1500px;overflow:auto;\">\n",
       "<table border=\"1\" class=\"dataframe\">\n",
       "  <thead>\n",
       "    <tr style=\"text-align: right;\">\n",
       "      <th></th>\n",
       "      <th></th>\n",
       "      <th>score</th>\n",
       "    </tr>\n",
       "    <tr>\n",
       "      <th>chrom</th>\n",
       "      <th>pos</th>\n",
       "      <th></th>\n",
       "    </tr>\n",
       "  </thead>\n",
       "  <tbody>\n",
       "    <tr>\n",
       "      <th rowspan=\"30\" valign=\"top\">1</th>\n",
       "      <th>155442  </th>\n",
       "      <td> 3.339766</td>\n",
       "    </tr>\n",
       "    <tr>\n",
       "      <th>443853  </th>\n",
       "      <td> 3.394722</td>\n",
       "    </tr>\n",
       "    <tr>\n",
       "      <th>900958  </th>\n",
       "      <td> 3.338330</td>\n",
       "    </tr>\n",
       "    <tr>\n",
       "      <th>1549789 </th>\n",
       "      <td> 3.382561</td>\n",
       "    </tr>\n",
       "    <tr>\n",
       "      <th>2183852 </th>\n",
       "      <td> 5.139369</td>\n",
       "    </tr>\n",
       "    <tr>\n",
       "      <th>2528761 </th>\n",
       "      <td> 3.959022</td>\n",
       "    </tr>\n",
       "    <tr>\n",
       "      <th>2723135 </th>\n",
       "      <td> 5.001495</td>\n",
       "    </tr>\n",
       "    <tr>\n",
       "      <th>3776115 </th>\n",
       "      <td> 3.216615</td>\n",
       "    </tr>\n",
       "    <tr>\n",
       "      <th>3778997 </th>\n",
       "      <td> 3.420898</td>\n",
       "    </tr>\n",
       "    <tr>\n",
       "      <th>4725415 </th>\n",
       "      <td> 3.449825</td>\n",
       "    </tr>\n",
       "    <tr>\n",
       "      <th>6278380 </th>\n",
       "      <td> 3.883191</td>\n",
       "    </tr>\n",
       "    <tr>\n",
       "      <th>6665374 </th>\n",
       "      <td> 3.793709</td>\n",
       "    </tr>\n",
       "    <tr>\n",
       "      <th>7460987 </th>\n",
       "      <td> 4.543359</td>\n",
       "    </tr>\n",
       "    <tr>\n",
       "      <th>7471247 </th>\n",
       "      <td> 5.929348</td>\n",
       "    </tr>\n",
       "    <tr>\n",
       "      <th>7749768 </th>\n",
       "      <td> 3.332300</td>\n",
       "    </tr>\n",
       "    <tr>\n",
       "      <th>8102643 </th>\n",
       "      <td> 3.535339</td>\n",
       "    </tr>\n",
       "    <tr>\n",
       "      <th>8188494 </th>\n",
       "      <td> 4.411361</td>\n",
       "    </tr>\n",
       "    <tr>\n",
       "      <th>8190651 </th>\n",
       "      <td> 4.132609</td>\n",
       "    </tr>\n",
       "    <tr>\n",
       "      <th>8504420 </th>\n",
       "      <td> 3.656771</td>\n",
       "    </tr>\n",
       "    <tr>\n",
       "      <th>8657341 </th>\n",
       "      <td> 5.758802</td>\n",
       "    </tr>\n",
       "    <tr>\n",
       "      <th>8658003 </th>\n",
       "      <td> 3.436782</td>\n",
       "    </tr>\n",
       "    <tr>\n",
       "      <th>8884779 </th>\n",
       "      <td> 3.558410</td>\n",
       "    </tr>\n",
       "    <tr>\n",
       "      <th>8898857 </th>\n",
       "      <td> 3.497011</td>\n",
       "    </tr>\n",
       "    <tr>\n",
       "      <th>11202793</th>\n",
       "      <td> 3.750787</td>\n",
       "    </tr>\n",
       "    <tr>\n",
       "      <th>11341221</th>\n",
       "      <td> 3.585233</td>\n",
       "    </tr>\n",
       "    <tr>\n",
       "      <th>11420171</th>\n",
       "      <td> 8.049439</td>\n",
       "    </tr>\n",
       "    <tr>\n",
       "      <th>11785810</th>\n",
       "      <td> 3.720674</td>\n",
       "    </tr>\n",
       "    <tr>\n",
       "      <th>12284801</th>\n",
       "      <td> 3.270455</td>\n",
       "    </tr>\n",
       "    <tr>\n",
       "      <th>12849705</th>\n",
       "      <td> 3.524722</td>\n",
       "    </tr>\n",
       "    <tr>\n",
       "      <th>16353888</th>\n",
       "      <td> 3.103443</td>\n",
       "    </tr>\n",
       "    <tr>\n",
       "      <th>...</th>\n",
       "      <th>...</th>\n",
       "      <td>...</td>\n",
       "    </tr>\n",
       "    <tr>\n",
       "      <th rowspan=\"30\" valign=\"top\">5</th>\n",
       "      <th>10131063</th>\n",
       "      <td> 4.434897</td>\n",
       "    </tr>\n",
       "    <tr>\n",
       "      <th>10407386</th>\n",
       "      <td> 3.223637</td>\n",
       "    </tr>\n",
       "    <tr>\n",
       "      <th>10409025</th>\n",
       "      <td> 3.234791</td>\n",
       "    </tr>\n",
       "    <tr>\n",
       "      <th>10983027</th>\n",
       "      <td> 3.323111</td>\n",
       "    </tr>\n",
       "    <tr>\n",
       "      <th>13490735</th>\n",
       "      <td> 5.049768</td>\n",
       "    </tr>\n",
       "    <tr>\n",
       "      <th>13604244</th>\n",
       "      <td> 4.778764</td>\n",
       "    </tr>\n",
       "    <tr>\n",
       "      <th>15098480</th>\n",
       "      <td> 3.043313</td>\n",
       "    </tr>\n",
       "    <tr>\n",
       "      <th>16782039</th>\n",
       "      <td> 3.022164</td>\n",
       "    </tr>\n",
       "    <tr>\n",
       "      <th>18031683</th>\n",
       "      <td> 3.708182</td>\n",
       "    </tr>\n",
       "    <tr>\n",
       "      <th>18783241</th>\n",
       "      <td> 3.384366</td>\n",
       "    </tr>\n",
       "    <tr>\n",
       "      <th>18819814</th>\n",
       "      <td> 3.119313</td>\n",
       "    </tr>\n",
       "    <tr>\n",
       "      <th>18831911</th>\n",
       "      <td> 3.095997</td>\n",
       "    </tr>\n",
       "    <tr>\n",
       "      <th>18853555</th>\n",
       "      <td> 3.881414</td>\n",
       "    </tr>\n",
       "    <tr>\n",
       "      <th>20084828</th>\n",
       "      <td> 3.939525</td>\n",
       "    </tr>\n",
       "    <tr>\n",
       "      <th>20506147</th>\n",
       "      <td> 3.586643</td>\n",
       "    </tr>\n",
       "    <tr>\n",
       "      <th>20905576</th>\n",
       "      <td> 3.912635</td>\n",
       "    </tr>\n",
       "    <tr>\n",
       "      <th>21611038</th>\n",
       "      <td> 4.319320</td>\n",
       "    </tr>\n",
       "    <tr>\n",
       "      <th>21895872</th>\n",
       "      <td> 3.833981</td>\n",
       "    </tr>\n",
       "    <tr>\n",
       "      <th>22750246</th>\n",
       "      <td> 3.271224</td>\n",
       "    </tr>\n",
       "    <tr>\n",
       "      <th>22761014</th>\n",
       "      <td> 3.928045</td>\n",
       "    </tr>\n",
       "    <tr>\n",
       "      <th>22803359</th>\n",
       "      <td> 3.840445</td>\n",
       "    </tr>\n",
       "    <tr>\n",
       "      <th>22819027</th>\n",
       "      <td> 3.585233</td>\n",
       "    </tr>\n",
       "    <tr>\n",
       "      <th>22824763</th>\n",
       "      <td> 3.045026</td>\n",
       "    </tr>\n",
       "    <tr>\n",
       "      <th>22826617</th>\n",
       "      <td> 3.007470</td>\n",
       "    </tr>\n",
       "    <tr>\n",
       "      <th>22826945</th>\n",
       "      <td> 3.045026</td>\n",
       "    </tr>\n",
       "    <tr>\n",
       "      <th>22985902</th>\n",
       "      <td> 3.858602</td>\n",
       "    </tr>\n",
       "    <tr>\n",
       "      <th>23805309</th>\n",
       "      <td> 3.724650</td>\n",
       "    </tr>\n",
       "    <tr>\n",
       "      <th>25173831</th>\n",
       "      <td> 3.601246</td>\n",
       "    </tr>\n",
       "    <tr>\n",
       "      <th>26698113</th>\n",
       "      <td> 3.118767</td>\n",
       "    </tr>\n",
       "    <tr>\n",
       "      <th>26917443</th>\n",
       "      <td> 3.241399</td>\n",
       "    </tr>\n",
       "  </tbody>\n",
       "</table>\n",
       "<p>393 rows × 1 columns</p>\n",
       "</div>"
      ],
      "text/plain": [
       "                   score\n",
       "chrom pos               \n",
       "1     155442    3.339766\n",
       "      443853    3.394722\n",
       "      900958    3.338330\n",
       "      1549789   3.382561\n",
       "      2183852   5.139369\n",
       "      2528761   3.959022\n",
       "      2723135   5.001495\n",
       "      3776115   3.216615\n",
       "      3778997   3.420898\n",
       "      4725415   3.449825\n",
       "      6278380   3.883191\n",
       "      6665374   3.793709\n",
       "      7460987   4.543359\n",
       "      7471247   5.929348\n",
       "      7749768   3.332300\n",
       "      8102643   3.535339\n",
       "      8188494   4.411361\n",
       "      8190651   4.132609\n",
       "      8504420   3.656771\n",
       "      8657341   5.758802\n",
       "      8658003   3.436782\n",
       "      8884779   3.558410\n",
       "      8898857   3.497011\n",
       "      11202793  3.750787\n",
       "      11341221  3.585233\n",
       "      11420171  8.049439\n",
       "      11785810  3.720674\n",
       "      12284801  3.270455\n",
       "      12849705  3.524722\n",
       "      16353888  3.103443\n",
       "...                  ...\n",
       "5     10131063  4.434897\n",
       "      10407386  3.223637\n",
       "      10409025  3.234791\n",
       "      10983027  3.323111\n",
       "      13490735  5.049768\n",
       "      13604244  4.778764\n",
       "      15098480  3.043313\n",
       "      16782039  3.022164\n",
       "      18031683  3.708182\n",
       "      18783241  3.384366\n",
       "      18819814  3.119313\n",
       "      18831911  3.095997\n",
       "      18853555  3.881414\n",
       "      20084828  3.939525\n",
       "      20506147  3.586643\n",
       "      20905576  3.912635\n",
       "      21611038  4.319320\n",
       "      21895872  3.833981\n",
       "      22750246  3.271224\n",
       "      22761014  3.928045\n",
       "      22803359  3.840445\n",
       "      22819027  3.585233\n",
       "      22824763  3.045026\n",
       "      22826617  3.007470\n",
       "      22826945  3.045026\n",
       "      22985902  3.858602\n",
       "      23805309  3.724650\n",
       "      25173831  3.601246\n",
       "      26698113  3.118767\n",
       "      26917443  3.241399\n",
       "\n",
       "[393 rows x 1 columns]"
      ]
     },
     "execution_count": 22,
     "metadata": {},
     "output_type": "execute_result"
    }
   ],
   "source": [
    "wolfgang_rod_score[wolfgang_rod_score[\"score\"]>3]"
   ]
  },
  {
   "cell_type": "code",
   "execution_count": null,
   "metadata": {
    "collapsed": true
   },
   "outputs": [],
   "source": []
  }
 ],
 "metadata": {
  "kernelspec": {
   "display_name": "Python 2",
   "language": "python",
   "name": "python2"
  },
  "language_info": {
   "codemirror_mode": {
    "name": "ipython",
    "version": 2
   },
   "file_extension": ".py",
   "mimetype": "text/x-python",
   "name": "python",
   "nbconvert_exporter": "python",
   "pygments_lexer": "ipython2",
   "version": "2.7.3"
  }
 },
 "nbformat": 4,
 "nbformat_minor": 0
}
