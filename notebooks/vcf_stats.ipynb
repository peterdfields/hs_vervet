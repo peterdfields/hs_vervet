{
 "metadata": {
  "name": "vcf_stats"
 },
 "nbformat": 3,
 "nbformat_minor": 0,
 "worksheets": [
  {
   "cells": [
    {
     "cell_type": "code",
     "collapsed": false,
     "input": [
      "import os,sys\n",
      "import numpy as np\n",
      "import pandas as pd\n",
      "import vcf"
     ],
     "language": "python",
     "metadata": {},
     "outputs": [],
     "prompt_number": 14
    },
    {
     "cell_type": "code",
     "collapsed": false,
     "input": [],
     "language": "python",
     "metadata": {},
     "outputs": []
    },
    {
     "cell_type": "code",
     "collapsed": false,
     "input": [
      "reader.infos"
     ],
     "language": "python",
     "metadata": {},
     "outputs": [
      {
       "output_type": "pyout",
       "prompt_number": 16,
       "text": [
        "OrderedDict([('AC', Info(id='AC', num=-1, type='Integer', desc='Allele count in genotypes, for each ALT allele, in the same order as listed')), ('AF', Info(id='AF', num=-1, type='Float', desc='Allele Frequency, for each ALT allele, in the same order as listed')), ('AN', Info(id='AN', num=1, type='Integer', desc='Total number of alleles in called genotypes')), ('BaseQRankSum', Info(id='BaseQRankSum', num=1, type='Float', desc='Z-score from Wilcoxon rank sum test of Alt Vs. Ref base qualities')), ('DP', Info(id='DP', num=1, type='Integer', desc='Approximate read depth; some reads may have been filtered')), ('DS', Info(id='DS', num=0, type='Flag', desc='Were any of the samples downsampled?')), ('Dels', Info(id='Dels', num=1, type='Float', desc='Fraction of Reads Containing Spanning Deletions')), ('FS', Info(id='FS', num=1, type='Float', desc=\"Phred-scaled p-value using Fisher's exact test to detect strand bias\")), ('HaplotypeScore', Info(id='HaplotypeScore', num=1, type='Float', desc='Consistency of the site with at most two segregating haplotypes')), ('InbreedingCoeff', Info(id='InbreedingCoeff', num=1, type='Float', desc='Inbreeding coefficient as estimated from the genotype likelihoods per-sample when compared against the Hardy-Weinberg expectation')), ('MLEAC', Info(id='MLEAC', num=-1, type='Integer', desc='Maximum likelihood expectation (MLE) for the allele counts (not necessarily the same as the AC), for each ALT allele, in the same order as listed')), ('MLEAF', Info(id='MLEAF', num=-1, type='Float', desc='Maximum likelihood expectation (MLE) for the allele frequency (not necessarily the same as the AF), for each ALT allele, in the same order as listed')), ('MQ', Info(id='MQ', num=1, type='Float', desc='RMS Mapping Quality')), ('MQ0', Info(id='MQ0', num=1, type='Integer', desc='Total Mapping Quality Zero Reads')), ('MQRankSum', Info(id='MQRankSum', num=1, type='Float', desc='Z-score From Wilcoxon rank sum test of Alt vs. Ref read mapping qualities')), ('QD', Info(id='QD', num=1, type='Float', desc='Variant Confidence/Quality by Depth')), ('RPA', Info(id='RPA', num=None, type='Integer', desc='Number of times tandem repeat unit is repeated, for each allele (including reference)')), ('RU', Info(id='RU', num=1, type='String', desc='Tandem repeat unit (bases)')), ('ReadPosRankSum', Info(id='ReadPosRankSum', num=1, type='Float', desc='Z-score from Wilcoxon rank sum test of Alt vs. Ref read position bias')), ('STR', Info(id='STR', num=0, type='Flag', desc='Variant is a short tandem repeat')), ('AA', Info(id='AA', num=1, type='String', desc='Ancestral Allele as derived from macaque'))])"
       ]
      }
     ],
     "prompt_number": 16
    },
    {
     "cell_type": "code",
     "collapsed": false,
     "input": [
      "reader = vcf.Reader(filename=os.path.expanduser('~/vervet_project/analyses/20131118_SNP_calling_10X_individuals_GATK/_data/GATK_UnifiedGenotyper_5_10X_individuals_CAE28_callable_filter_anc.vcf'))"
     ],
     "language": "python",
     "metadata": {},
     "outputs": [],
     "prompt_number": 43
    },
    {
     "cell_type": "code",
     "collapsed": false,
     "input": [],
     "language": "python",
     "metadata": {},
     "outputs": [],
     "prompt_number": 11
    },
    {
     "cell_type": "code",
     "collapsed": false,
     "input": [
      "var_stats = {'total':0,'snps':0,'indels':0,'other_variants':0,'pass':0,'filters':{k:0 for k in reader.filters.keys()}}"
     ],
     "language": "python",
     "metadata": {},
     "outputs": [],
     "prompt_number": 44
    },
    {
     "cell_type": "code",
     "collapsed": false,
     "input": [
      "if 'AA' in reader.infos.keys():\n",
      "    var_stats.update({'ancestral_known':0})"
     ],
     "language": "python",
     "metadata": {},
     "outputs": [],
     "prompt_number": 51
    },
    {
     "cell_type": "code",
     "collapsed": false,
     "input": [
      "for record in reader:\n",
      "    s = var_stats\n",
      "    s['total']+=1\n",
      "    if record.is_snp:\n",
      "        s['snps'] += 1\n",
      "    elif record.is_indel:\n",
      "        s['indels'] += 1\n",
      "    else:\n",
      "        s['other_variants'] += 1\n",
      "    if not record.FILTER:\n",
      "        s['pass'] += 1\n",
      "    else:\n",
      "        for ft in record.FILTER:\n",
      "            s['filters'][ft]+=1\n",
      "            \n",
      "    if 'ancestral_known' in s.keys():\n",
      "        "
     ],
     "language": "python",
     "metadata": {},
     "outputs": [],
     "prompt_number": 46
    },
    {
     "cell_type": "code",
     "collapsed": false,
     "input": [
      "print total,snps, indels,other_variants,passed,filtered"
     ],
     "language": "python",
     "metadata": {},
     "outputs": [
      {
       "output_type": "stream",
       "stream": "stdout",
       "text": [
        "343909 343909 0 343909 213928 {'AdjacentSNP': 35318, 'ExcessCov': 18178, 'LowQual': 72131, 'PoorMapping': 32194}\n"
       ]
      }
     ],
     "prompt_number": 38
    },
    {
     "cell_type": "code",
     "collapsed": false,
     "input": [
      "var_stats"
     ],
     "language": "python",
     "metadata": {},
     "outputs": [
      {
       "output_type": "pyout",
       "prompt_number": 47,
       "text": [
        "{'filters': {'AdjacentSNP': 35318,\n",
        "  'ExcessCov': 18177,\n",
        "  'LowQual': 72131,\n",
        "  'PoorMapping': 32193},\n",
        " 'indels': 0,\n",
        " 'other_variants': 0,\n",
        " 'pass': 213928,\n",
        " 'snps': 343909,\n",
        " 'total': 343909}"
       ]
      }
     ],
     "prompt_number": 47
    },
    {
     "cell_type": "code",
     "collapsed": false,
     "input": [],
     "language": "python",
     "metadata": {},
     "outputs": []
    }
   ],
   "metadata": {}
  }
 ]
}