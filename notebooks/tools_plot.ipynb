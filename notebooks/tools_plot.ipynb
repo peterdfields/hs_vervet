{
 "metadata": {
  "name": "",
  "signature": "sha256:2410af234044ccd0859af7ee0b8641296c0e679fa01fc869f38d98a0a147dcd1"
 },
 "nbformat": 3,
 "nbformat_minor": 0,
 "worksheets": [
  {
   "cells": [
    {
     "cell_type": "code",
     "collapsed": false,
     "input": [
      "class _sfsTickLocator(matplotlib.ticker.Locator):\n",
      "    def __call__(self):\n",
      "        'Return the locations of the ticks'\n",
      "\n",
      "        try:\n",
      "            vmin, vmax = self.axis.get_view_interval()\n",
      "            dmin, dmax = self.axis.get_data_interval()\n",
      "        except AttributeError:\n",
      "            self.verify_intervals()\n",
      "            vmin, vmax = self.viewInterval.get_bounds()\n",
      "            dmin, dmax = self.dataInterval.get_bounds()\n",
      "\n",
      "        tmin = max(vmin, dmin)\n",
      "        tmax = min(vmax, dmax)\n",
      "\n",
      "        return numpy.array([round(tmin)+0.5, round(tmax)-0.5])\n",
      "\n",
      "\n",
      "#: Custom tick formatter\n",
      "_ctf = matplotlib.ticker.FuncFormatter(lambda x,pos: '%i' % (x-0.4))\n",
      "class Sfs(numpy.ma.masked_array):\n",
      "    def __new__(subtype, data, mask=numpy.ma.nomask, mask_corners=True,\n",
      "                data_folded=None, check_folding=True, dtype=float, copy=True,\n",
      "                fill_value=numpy.nan, keep_mask=True, shrink=True,\n",
      "                pop_ids=None, extrap_x=None):\n",
      "        data = numpy.asanyarray(data)\n",
      "\n",
      "        if mask is numpy.ma.nomask:\n",
      "            mask = numpy.ma.make_mask_none(data.shape)\n",
      "\n",
      "        subarr = numpy.ma.masked_array(data, mask=mask, dtype=dtype, copy=copy,\n",
      "                                       fill_value=numpy.nan, keep_mask=True,\n",
      "                                       shrink=True)\n",
      "        subarr = subarr.view(subtype)\n",
      "        subarr.pop_ids = [\"1\",\"1\"]\n",
      "        return subarr\n",
      "def plot_single_2d_sfs(sfs, vmin=None, vmax=None, ax=None,\n",
      "                       pop_ids=None, extend='neither', colorbar=True):\n",
      "    \"\"\"\n",
      "    Heatmap of single 2d SFS..\n",
      "....\n",
      "    If vmax is greater than a factor of 10, plot on log scale.\n",
      "\n",
      "    sfs: SFS to plot\n",
      "    vmin: Values in sfs below vmin are masked in plot.\n",
      "    vmax: Values in sfs above vmax saturate the color spectrum.\n",
      "    ax: Axes object to plot into. If None, the result of pylab.gca() is used.\n",
      "    pop_ids: If not None, override pop_ids stored in Spectrum.\n",
      "    extend: Whether the colorbar should have 'extension' arrows. See\n",
      "            help(pylab.colorbar) for more details.\n",
      "    colorbar: Should we plot a colorbar?\n",
      "    \"\"\"\n",
      "    if ax is None:\n",
      "        ax = pylab.gca()\n",
      "\n",
      "    if vmin is None:\n",
      "        vmin = sfs.min()\n",
      "    if vmax is None:\n",
      "        vmax = sfs.max()\n",
      "\n",
      "    pylab.cm.hsv.set_under('w')\n",
      "    if vmax / vmin > 10:\n",
      "        # Under matplotlib 1.0.1, default LogFormatter omits some tick lines.\n",
      "        # This works more consistently.\n",
      "        norm = matplotlib.colors.LogNorm(vmin=vmin*(1-1e-3), vmax=vmax*(1+1e-3))\n",
      "        format = matplotlib.ticker.LogFormatterMathtext()\n",
      "    else:\n",
      "        norm = matplotlib.colors.Normalize(vmin=vmin*(1-1e-3),\n",
      "                                           vmax=vmax*(1+1e-3))\n",
      "        format = None\n",
      "    mappable=ax.pcolor(numpy.ma.masked_where(sfs<vmin, sfs),\n",
      "                       cmap=pylab.cm.hsv, shading='flat',\n",
      "                       norm=norm)\n",
      "    ax.figure.colorbar(mappable, extend=extend, format=format)\n",
      "    if not colorbar:\n",
      "        del ax.figure.axes[-1]\n",
      "\n",
      "    ax.plot([0,sfs.shape[1]],[0, sfs.shape[0]], '-k', lw=0.2)\n",
      "\n",
      "    if pop_ids is None:\n",
      "        if sfs.pop_ids is not None:\n",
      "            pop_ids = sfs.pop_ids\n",
      "        else:\n",
      "            pop_ids = ['pop0','pop1']\n",
      "    ax.set_ylabel(pop_ids[0], horizontalalignment='left')\n",
      "    ax.set_xlabel(pop_ids[1], verticalalignment='bottom')\n",
      "\n",
      "    ax.xaxis.set_major_formatter(_ctf)\n",
      "    ax.xaxis.set_major_locator(_sfsTickLocator())\n",
      "    ax.yaxis.set_major_formatter(_ctf)\n",
      "    ax.yaxis.set_major_locator(_sfsTickLocator())\n",
      "    for tick in ax.xaxis.get_ticklines() + ax.yaxis.get_ticklines():\n",
      "        tick.set_visible(False)\n",
      "\n",
      "    ax.set_xlim(0, sfs.shape[1])\n",
      "    ax.set_ylim(0, sfs.shape[0])\n"
     ],
     "language": "python",
     "metadata": {},
     "outputs": [],
     "prompt_number": 1
    },
    {
     "cell_type": "code",
     "collapsed": false,
     "input": [
      "sfs = Sfs(np.array([[123,10,3],[23,23,1],[12,2,1]]))\n",
      "plot_single_2d_sfs(sfs)"
     ],
     "language": "python",
     "metadata": {},
     "outputs": [
      {
       "output_type": "stream",
       "stream": "stderr",
       "text": [
        "/net/gmi.oeaw.ac.at/nordborg/user/hannes.svardal/Documents/Dropbox/Akademisches/lib/python/virtualenvs/ver/lib/python2.7/site-packages/matplotlib/cbook.py:122: MatplotlibDeprecationWarning: The shading option was deprecated in version 1.2. Use edgecolors instead.\n",
        "  warnings.warn(message, mplDeprecation, stacklevel=1)\n"
       ]
      },
      {
       "metadata": {},
       "output_type": "display_data",
       "png": "[encoded data removed]",
       "text": [
        "<matplotlib.figure.Figure at 0x27c4990>"
       ]
      }
     ],
     "prompt_number": 2
    },
    {
     "cell_type": "code",
     "collapsed": false,
     "input": [],
     "language": "python",
     "metadata": {},
     "outputs": []
    }
   ],
   "metadata": {}
  }
 ]
}