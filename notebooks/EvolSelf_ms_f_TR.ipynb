{
 "metadata": {
  "name": "EvolSelf_ms_f_TR"
 },
 "nbformat": 3,
 "nbformat_minor": 0,
 "worksheets": [
  {
   "cells": [
    {
     "cell_type": "code",
     "collapsed": false,
     "input": [
      "import numpy as np\n",
      "import scipy.stats as stats\n",
      "import os\n",
      "import pandas as pd\n",
      "pd.set_option('display.max_rows', 30)\n",
      "pd.set_option('display.max_columns', 200)\n",
      "pd.set_option('display.width', 1000)"
     ],
     "language": "python",
     "metadata": {},
     "outputs": [],
     "prompt_number": 199
    },
    {
     "cell_type": "code",
     "collapsed": false,
     "input": [],
     "language": "python",
     "metadata": {},
     "outputs": []
    },
    {
     "cell_type": "code",
     "collapsed": false,
     "input": [
      "chroms = 240\n",
      "chrom_len = 500000"
     ],
     "language": "python",
     "metadata": {},
     "outputs": [],
     "prompt_number": 130
    },
    {
     "cell_type": "code",
     "collapsed": false,
     "input": [
      "fn = \"/net/gmi.oeaw.ac.at/nordborg/lab/Personal_Files/Takashi/msdir/msout_201401_f1_25/output_bra_{}_{}.log\""
     ],
     "language": "python",
     "metadata": {},
     "outputs": [],
     "prompt_number": 5
    },
    {
     "cell_type": "code",
     "collapsed": false,
     "input": [
      "out_folder = \"/home/GMI/hannes.svardal/Akademisches/Projects/EvolutionSelfing\""
     ],
     "language": "python",
     "metadata": {},
     "outputs": [],
     "prompt_number": 131
    },
    {
     "cell_type": "code",
     "collapsed": false,
     "input": [
      "t=parse_data(2,1)"
     ],
     "language": "python",
     "metadata": {},
     "outputs": [],
     "prompt_number": 263
    },
    {
     "cell_type": "code",
     "collapsed": false,
     "input": [
      "len(ibs_segments(t))"
     ],
     "language": "python",
     "metadata": {},
     "outputs": [
      {
       "output_type": "pyout",
       "prompt_number": 268,
       "text": [
        "692207"
       ]
      }
     ],
     "prompt_number": 268
    },
    {
     "cell_type": "code",
     "collapsed": false,
     "input": [
      "def parse_data(Tr,f):\n",
      "    \"\"\"\n",
      "    returns a list where each element is a list with\n",
      "    all the positions of all snps in increasing order\n",
      "    \"\"\"\n",
      "    data=[]\n",
      "    with open(fn.format(Tr,f),'r') as f:\n",
      "        #print f.next()\n",
      "        for line in f:\n",
      "            if line[:2]==\"//\":\n",
      "                f.next()\n",
      "                data.append(map(lambda x: int(chrom_len*float(x)),f.next().split()[1:]))\n",
      "    return data"
     ],
     "language": "python",
     "metadata": {},
     "outputs": [],
     "prompt_number": 293
    },
    {
     "cell_type": "code",
     "collapsed": false,
     "input": [
      "def ibs_segments(data):\n",
      "    \"\"\"\n",
      "    gives an array with the length of each IBS segment, unsorted\n",
      "    \"\"\"\n",
      "    a = np.array([])\n",
      "    for ln in data:\n",
      "        a = np.append(a,np.diff(ln))\n",
      "        a.sort()\n",
      "    return a"
     ],
     "language": "python",
     "metadata": {},
     "outputs": [],
     "prompt_number": 133
    },
    {
     "cell_type": "code",
     "collapsed": false,
     "input": [
      "#values for split time and \n",
      "trs =  [0.02, 0.04, 0.06, 0.08, 0.1, 0.15, 0.2, 0.25, 0.3, 0.35,\n",
      "0.4, 0.45, 0.5, 0.55, 0.6, 0.65, 0.7, 0.75, 0.8, 0.85, 0.9, 0.95,1]\n",
      "fs = [1, 2.5, 5, 10, 15, 20, 25]"
     ],
     "language": "python",
     "metadata": {},
     "outputs": [],
     "prompt_number": 328
    },
    {
     "cell_type": "code",
     "collapsed": false,
     "input": [
      "#export\n",
      "for a,tr in enumerate(trs):\n",
      "    for b,f in enumerate(fs):\n",
      "        data = parse_data(a+1,f)\n",
      "        ibs = np.trim_zeros(ibs_segments(data))\n",
      "        ibs.tofile(os.path.join(out_folder,\"ms_Tr{}_f{}.csv\".format(tr,f)),sep=',')"
     ],
     "language": "python",
     "metadata": {},
     "outputs": [],
     "prompt_number": 135
    },
    {
     "cell_type": "code",
     "collapsed": false,
     "input": [
      "#load all ibs tract distributions\n",
      "dic = {}\n",
      "for a,tr in enumerate(trs):\n",
      "    for b,f in enumerate(fs):\n",
      "        #print (tr,f)\n",
      "        data = parse_data(a+1,f)\n",
      "        ibs = ibs_segments(data)\n",
      "        dic.update({(tr,f):ibs})\n",
      "        "
     ],
     "language": "python",
     "metadata": {},
     "outputs": [
      {
       "output_type": "stream",
       "stream": "stdout",
       "text": [
        "(0.02, 1)\n",
        "/home/GMI/takashi.tsuchimatsu/msdir/ms 2 240 -r 400 500000 -p 10 -t 2926 -eZ 0.02 1 \n",
        "\n",
        "(0.02, 2.5)"
       ]
      },
      {
       "output_type": "stream",
       "stream": "stdout",
       "text": [
        "\n",
        "/home/GMI/takashi.tsuchimatsu/msdir/ms 2 240 -r 400 500000 -p 10 -t 2926 -eZ 0.02 2.5 \n",
        "\n",
        "(0.02, 5)"
       ]
      },
      {
       "output_type": "stream",
       "stream": "stdout",
       "text": [
        "\n",
        "/home/GMI/takashi.tsuchimatsu/msdir/ms 2 240 -r 400 500000 -p 10 -t 2926 -eZ 0.02 5 \n",
        "\n",
        "(0.02, 10)"
       ]
      },
      {
       "output_type": "stream",
       "stream": "stdout",
       "text": [
        "\n",
        "/home/GMI/takashi.tsuchimatsu/msdir/ms 2 240 -r 400 500000 -p 10 -t 2926 -eZ 0.02 10 \n",
        "\n",
        "(0.02, 15)"
       ]
      },
      {
       "output_type": "stream",
       "stream": "stdout",
       "text": [
        "\n",
        "/home/GMI/takashi.tsuchimatsu/msdir/ms 2 240 -r 400 500000 -p 10 -t 2926 -eZ 0.02 15 \n",
        "\n",
        "(0.02, 20)"
       ]
      },
      {
       "output_type": "stream",
       "stream": "stdout",
       "text": [
        "\n",
        "/home/GMI/takashi.tsuchimatsu/msdir/ms 2 240 -r 400 500000 -p 10 -t 2926 -eZ 0.02 20 \n",
        "\n",
        "(0.02, 25)"
       ]
      },
      {
       "output_type": "stream",
       "stream": "stdout",
       "text": [
        "\n",
        "/home/GMI/takashi.tsuchimatsu/msdir/ms 2 240 -r 400 500000 -p 10 -t 2926 -eZ 0.02 25 \n",
        "\n",
        "(0.04, 1)"
       ]
      },
      {
       "output_type": "stream",
       "stream": "stdout",
       "text": [
        "\n",
        "/home/GMI/takashi.tsuchimatsu/msdir/ms 2 240 -r 400 500000 -p 10 -t 2926 -eZ 0.04 1 \n",
        "\n",
        "(0.04, 2.5)"
       ]
      },
      {
       "output_type": "stream",
       "stream": "stdout",
       "text": [
        "\n",
        "/home/GMI/takashi.tsuchimatsu/msdir/ms 2 240 -r 400 500000 -p 10 -t 2926 -eZ 0.04 2.5 \n",
        "\n",
        "(0.04, 5)"
       ]
      },
      {
       "output_type": "stream",
       "stream": "stdout",
       "text": [
        "\n",
        "/home/GMI/takashi.tsuchimatsu/msdir/ms 2 240 -r 400 500000 -p 10 -t 2926 -eZ 0.04 5 \n",
        "\n",
        "(0.04, 10)"
       ]
      },
      {
       "output_type": "stream",
       "stream": "stdout",
       "text": [
        "\n",
        "/home/GMI/takashi.tsuchimatsu/msdir/ms 2 240 -r 400 500000 -p 10 -t 2926 -eZ 0.04 10 \n"
       ]
      },
      {
       "output_type": "stream",
       "stream": "stdout",
       "text": [
        "\n",
        "(0.04, 15)"
       ]
      },
      {
       "output_type": "stream",
       "stream": "stdout",
       "text": [
        "\n",
        "/home/GMI/takashi.tsuchimatsu/msdir/ms 2 240 -r 400 500000 -p 10 -t 2926 -eZ 0.04 15 \n",
        "\n",
        "(0.04, 20)"
       ]
      },
      {
       "output_type": "stream",
       "stream": "stdout",
       "text": [
        "\n",
        "/home/GMI/takashi.tsuchimatsu/msdir/ms 2 240 -r 400 500000 -p 10 -t 2926 -eZ 0.04 20 \n",
        "\n",
        "(0.04, 25)"
       ]
      },
      {
       "output_type": "stream",
       "stream": "stdout",
       "text": [
        "\n",
        "/home/GMI/takashi.tsuchimatsu/msdir/ms 2 240 -r 400 500000 -p 10 -t 2926 -eZ 0.04 25 \n",
        "\n",
        "(0.06, 1)"
       ]
      },
      {
       "output_type": "stream",
       "stream": "stdout",
       "text": [
        "\n",
        "/home/GMI/takashi.tsuchimatsu/msdir/ms 2 240 -r 400 500000 -p 10 -t 2926 -eZ 0.06 1 \n",
        "\n",
        "(0.06, 2.5)"
       ]
      },
      {
       "output_type": "stream",
       "stream": "stdout",
       "text": [
        "\n",
        "/home/GMI/takashi.tsuchimatsu/msdir/ms 2 240 -r 400 500000 -p 10 -t 2926 -eZ 0.06 2.5 \n",
        "\n",
        "(0.06, 5)"
       ]
      },
      {
       "output_type": "stream",
       "stream": "stdout",
       "text": [
        "\n",
        "/home/GMI/takashi.tsuchimatsu/msdir/ms 2 240 -r 400 500000 -p 10 -t 2926 -eZ 0.06 5 \n",
        "\n",
        "(0.06, 10)"
       ]
      },
      {
       "output_type": "stream",
       "stream": "stdout",
       "text": [
        "\n",
        "/home/GMI/takashi.tsuchimatsu/msdir/ms 2 240 -r 400 500000 -p 10 -t 2926 -eZ 0.06 10 \n",
        "\n",
        "(0.06, 15)"
       ]
      },
      {
       "output_type": "stream",
       "stream": "stdout",
       "text": [
        "\n",
        "/home/GMI/takashi.tsuchimatsu/msdir/ms 2 240 -r 400 500000 -p 10 -t 2926 -eZ 0.06 15 \n",
        "\n",
        "(0.06, 20)"
       ]
      },
      {
       "output_type": "stream",
       "stream": "stdout",
       "text": [
        "\n",
        "/home/GMI/takashi.tsuchimatsu/msdir/ms 2 240 -r 400 500000 -p 10 -t 2926 -eZ 0.06 20 \n",
        "\n",
        "(0.06, 25)"
       ]
      },
      {
       "output_type": "stream",
       "stream": "stdout",
       "text": [
        "\n",
        "/home/GMI/takashi.tsuchimatsu/msdir/ms 2 240 -r 400 500000 -p 10 -t 2926 -eZ 0.06 25 \n",
        "\n",
        "(0.08, 1)"
       ]
      },
      {
       "output_type": "stream",
       "stream": "stdout",
       "text": [
        "\n",
        "/home/GMI/takashi.tsuchimatsu/msdir/ms 2 240 -r 400 500000 -p 10 -t 2926 -eZ 0.08 1 \n",
        "\n",
        "(0.08, 2.5)"
       ]
      },
      {
       "output_type": "stream",
       "stream": "stdout",
       "text": [
        "\n",
        "/home/GMI/takashi.tsuchimatsu/msdir/ms 2 240 -r 400 500000 -p 10 -t 2926 -eZ 0.08 2.5 \n",
        "\n",
        "(0.08, 5)"
       ]
      },
      {
       "output_type": "stream",
       "stream": "stdout",
       "text": [
        "\n",
        "/home/GMI/takashi.tsuchimatsu/msdir/ms 2 240 -r 400 500000 -p 10 -t 2926 -eZ 0.08 5 \n",
        "\n",
        "(0.08, 10)"
       ]
      },
      {
       "output_type": "stream",
       "stream": "stdout",
       "text": [
        "\n",
        "/home/GMI/takashi.tsuchimatsu/msdir/ms 2 240 -r 400 500000 -p 10 -t 2926 -eZ 0.08 10 \n",
        "\n",
        "(0.08, 15)"
       ]
      },
      {
       "output_type": "stream",
       "stream": "stdout",
       "text": [
        "\n",
        "/home/GMI/takashi.tsuchimatsu/msdir/ms 2 240 -r 400 500000 -p 10 -t 2926 -eZ 0.08 15 \n",
        "\n",
        "(0.08, 20)"
       ]
      },
      {
       "output_type": "stream",
       "stream": "stdout",
       "text": [
        "\n",
        "/home/GMI/takashi.tsuchimatsu/msdir/ms 2 240 -r 400 500000 -p 10 -t 2926 -eZ 0.08 20 \n",
        "\n",
        "(0.08, 25)"
       ]
      },
      {
       "output_type": "stream",
       "stream": "stdout",
       "text": [
        "\n",
        "/home/GMI/takashi.tsuchimatsu/msdir/ms 2 240 -r 400 500000 -p 10 -t 2926 -eZ 0.08 25 \n",
        "\n",
        "(0.1, 1)"
       ]
      },
      {
       "output_type": "stream",
       "stream": "stdout",
       "text": [
        "\n",
        "/home/GMI/takashi.tsuchimatsu/msdir/ms 2 240 -r 400 500000 -p 10 -t 2926 -eZ 0.1 1 \n",
        "\n",
        "(0.1, 2.5)"
       ]
      },
      {
       "output_type": "stream",
       "stream": "stdout",
       "text": [
        "\n",
        "/home/GMI/takashi.tsuchimatsu/msdir/ms 2 240 -r 400 500000 -p 10 -t 2926 -eZ 0.1 2.5 \n",
        "\n",
        "(0.1, 5)"
       ]
      },
      {
       "output_type": "stream",
       "stream": "stdout",
       "text": [
        "\n",
        "/home/GMI/takashi.tsuchimatsu/msdir/ms 2 240 -r 400 500000 -p 10 -t 2926 -eZ 0.1 5 \n",
        "\n",
        "(0.1, 10)"
       ]
      },
      {
       "output_type": "stream",
       "stream": "stdout",
       "text": [
        "\n",
        "/home/GMI/takashi.tsuchimatsu/msdir/ms 2 240 -r 400 500000 -p 10 -t 2926 -eZ 0.1 10 \n",
        "\n",
        "(0.1, 15)"
       ]
      },
      {
       "output_type": "stream",
       "stream": "stdout",
       "text": [
        "\n",
        "/home/GMI/takashi.tsuchimatsu/msdir/ms 2 240 -r 400 500000 -p 10 -t 2926 -eZ 0.1 15 \n",
        "\n",
        "(0.1, 20)"
       ]
      },
      {
       "output_type": "stream",
       "stream": "stdout",
       "text": [
        "\n",
        "/home/GMI/takashi.tsuchimatsu/msdir/ms 2 240 -r 400 500000 -p 10 -t 2926 -eZ 0.1 20 \n",
        "\n",
        "(0.1, 25)"
       ]
      },
      {
       "output_type": "stream",
       "stream": "stdout",
       "text": [
        "\n",
        "/home/GMI/takashi.tsuchimatsu/msdir/ms 2 240 -r 400 500000 -p 10 -t 2926 -eZ 0.1 25 \n",
        "\n",
        "(0.15, 1)"
       ]
      },
      {
       "output_type": "stream",
       "stream": "stdout",
       "text": [
        "\n",
        "/home/GMI/takashi.tsuchimatsu/msdir/ms 2 240 -r 400 500000 -p 10 -t 2926 -eZ 0.15 1 \n",
        "\n",
        "(0.15, 2.5)"
       ]
      },
      {
       "output_type": "stream",
       "stream": "stdout",
       "text": [
        "\n",
        "/home/GMI/takashi.tsuchimatsu/msdir/ms 2 240 -r 400 500000 -p 10 -t 2926 -eZ 0.15 2.5 \n",
        "\n",
        "(0.15, 5)"
       ]
      },
      {
       "output_type": "stream",
       "stream": "stdout",
       "text": [
        "\n",
        "/home/GMI/takashi.tsuchimatsu/msdir/ms 2 240 -r 400 500000 -p 10 -t 2926 -eZ 0.15 5 \n",
        "\n",
        "(0.15, 10)"
       ]
      },
      {
       "output_type": "stream",
       "stream": "stdout",
       "text": [
        "\n",
        "/home/GMI/takashi.tsuchimatsu/msdir/ms 2 240 -r 400 500000 -p 10 -t 2926 -eZ 0.15 10 \n",
        "\n",
        "(0.15, 15)"
       ]
      },
      {
       "output_type": "stream",
       "stream": "stdout",
       "text": [
        "\n",
        "/home/GMI/takashi.tsuchimatsu/msdir/ms 2 240 -r 400 500000 -p 10 -t 2926 -eZ 0.15 15 \n",
        "\n",
        "(0.15, 20)"
       ]
      },
      {
       "output_type": "stream",
       "stream": "stdout",
       "text": [
        "\n",
        "/home/GMI/takashi.tsuchimatsu/msdir/ms 2 240 -r 400 500000 -p 10 -t 2926 -eZ 0.15 20 \n",
        "\n",
        "(0.15, 25)"
       ]
      },
      {
       "output_type": "stream",
       "stream": "stdout",
       "text": [
        "\n",
        "/home/GMI/takashi.tsuchimatsu/msdir/ms 2 240 -r 400 500000 -p 10 -t 2926 -eZ 0.15 25 \n",
        "\n",
        "(0.2, 1)"
       ]
      },
      {
       "output_type": "stream",
       "stream": "stdout",
       "text": [
        "\n",
        "/home/GMI/takashi.tsuchimatsu/msdir/ms 2 240 -r 400 500000 -p 10 -t 2926 -eZ 0.2 1 \n",
        "\n",
        "(0.2, 2.5)"
       ]
      },
      {
       "output_type": "stream",
       "stream": "stdout",
       "text": [
        "\n",
        "/home/GMI/takashi.tsuchimatsu/msdir/ms 2 240 -r 400 500000 -p 10 -t 2926 -eZ 0.2 2.5 \n",
        "\n",
        "(0.2, 5)"
       ]
      },
      {
       "output_type": "stream",
       "stream": "stdout",
       "text": [
        "\n",
        "/home/GMI/takashi.tsuchimatsu/msdir/ms 2 240 -r 400 500000 -p 10 -t 2926 -eZ 0.2 5 \n",
        "\n",
        "(0.2, 10)"
       ]
      },
      {
       "output_type": "stream",
       "stream": "stdout",
       "text": [
        "\n",
        "/home/GMI/takashi.tsuchimatsu/msdir/ms 2 240 -r 400 500000 -p 10 -t 2926 -eZ 0.2 10 \n",
        "\n",
        "(0.2, 15)"
       ]
      },
      {
       "output_type": "stream",
       "stream": "stdout",
       "text": [
        "\n",
        "/home/GMI/takashi.tsuchimatsu/msdir/ms 2 240 -r 400 500000 -p 10 -t 2926 -eZ 0.2 15 \n",
        "\n",
        "(0.2, 20)"
       ]
      },
      {
       "output_type": "stream",
       "stream": "stdout",
       "text": [
        "\n",
        "/home/GMI/takashi.tsuchimatsu/msdir/ms 2 240 -r 400 500000 -p 10 -t 2926 -eZ 0.2 20 \n",
        "\n",
        "(0.2, 25)"
       ]
      },
      {
       "output_type": "stream",
       "stream": "stdout",
       "text": [
        "\n",
        "/home/GMI/takashi.tsuchimatsu/msdir/ms 2 240 -r 400 500000 -p 10 -t 2926 -eZ 0.2 25 \n",
        "\n",
        "(0.25, 1)"
       ]
      },
      {
       "output_type": "stream",
       "stream": "stdout",
       "text": [
        "\n",
        "/home/GMI/takashi.tsuchimatsu/msdir/ms 2 240 -r 400 500000 -p 10 -t 2926 -eZ 0.25 1 \n",
        "\n",
        "(0.25, 2.5)"
       ]
      },
      {
       "output_type": "stream",
       "stream": "stdout",
       "text": [
        "\n",
        "/home/GMI/takashi.tsuchimatsu/msdir/ms 2 240 -r 400 500000 -p 10 -t 2926 -eZ 0.25 2.5 \n",
        "\n",
        "(0.25, 5)"
       ]
      },
      {
       "output_type": "stream",
       "stream": "stdout",
       "text": [
        "\n",
        "/home/GMI/takashi.tsuchimatsu/msdir/ms 2 240 -r 400 500000 -p 10 -t 2926 -eZ 0.25 5 \n",
        "\n",
        "(0.25, 10)"
       ]
      },
      {
       "output_type": "stream",
       "stream": "stdout",
       "text": [
        "\n",
        "/home/GMI/takashi.tsuchimatsu/msdir/ms 2 240 -r 400 500000 -p 10 -t 2926 -eZ 0.25 10 \n",
        "\n",
        "(0.25, 15)"
       ]
      },
      {
       "output_type": "stream",
       "stream": "stdout",
       "text": [
        "\n",
        "/home/GMI/takashi.tsuchimatsu/msdir/ms 2 240 -r 400 500000 -p 10 -t 2926 -eZ 0.25 15 \n",
        "\n",
        "(0.25, 20)"
       ]
      },
      {
       "output_type": "stream",
       "stream": "stdout",
       "text": [
        "\n",
        "/home/GMI/takashi.tsuchimatsu/msdir/ms 2 240 -r 400 500000 -p 10 -t 2926 -eZ 0.25 20 \n",
        "\n",
        "(0.25, 25)"
       ]
      },
      {
       "output_type": "stream",
       "stream": "stdout",
       "text": [
        "\n",
        "/home/GMI/takashi.tsuchimatsu/msdir/ms 2 240 -r 400 500000 -p 10 -t 2926 -eZ 0.25 25 \n",
        "\n",
        "(0.3, 1)"
       ]
      },
      {
       "output_type": "stream",
       "stream": "stdout",
       "text": [
        "\n",
        "/home/GMI/takashi.tsuchimatsu/msdir/ms 2 240 -r 400 500000 -p 10 -t 2926 -eZ 0.3 1 \n",
        "\n",
        "(0.3, 2.5)"
       ]
      },
      {
       "output_type": "stream",
       "stream": "stdout",
       "text": [
        "\n",
        "/home/GMI/takashi.tsuchimatsu/msdir/ms 2 240 -r 400 500000 -p 10 -t 2926 -eZ 0.3 2.5 \n",
        "\n",
        "(0.3, 5)"
       ]
      },
      {
       "output_type": "stream",
       "stream": "stdout",
       "text": [
        "\n",
        "/home/GMI/takashi.tsuchimatsu/msdir/ms 2 240 -r 400 500000 -p 10 -t 2926 -eZ 0.3 5 \n",
        "\n",
        "(0.3, 10)"
       ]
      },
      {
       "output_type": "stream",
       "stream": "stdout",
       "text": [
        "\n",
        "/home/GMI/takashi.tsuchimatsu/msdir/ms 2 240 -r 400 500000 -p 10 -t 2926 -eZ 0.3 10 \n",
        "\n",
        "(0.3, 15)"
       ]
      },
      {
       "output_type": "stream",
       "stream": "stdout",
       "text": [
        "\n",
        "/home/GMI/takashi.tsuchimatsu/msdir/ms 2 240 -r 400 500000 -p 10 -t 2926 -eZ 0.3 15 \n",
        "\n",
        "(0.3, 20)"
       ]
      },
      {
       "output_type": "stream",
       "stream": "stdout",
       "text": [
        "\n",
        "/home/GMI/takashi.tsuchimatsu/msdir/ms 2 240 -r 400 500000 -p 10 -t 2926 -eZ 0.3 20 \n",
        "\n",
        "(0.3, 25)"
       ]
      },
      {
       "output_type": "stream",
       "stream": "stdout",
       "text": [
        "\n",
        "/home/GMI/takashi.tsuchimatsu/msdir/ms 2 240 -r 400 500000 -p 10 -t 2926 -eZ 0.3 25 \n",
        "\n",
        "(0.35, 1)"
       ]
      },
      {
       "output_type": "stream",
       "stream": "stdout",
       "text": [
        "\n",
        "/home/GMI/takashi.tsuchimatsu/msdir/ms 2 240 -r 400 500000 -p 10 -t 2926 -eZ 0.35 1 \n",
        "\n",
        "(0.35, 2.5)"
       ]
      },
      {
       "output_type": "stream",
       "stream": "stdout",
       "text": [
        "\n",
        "/home/GMI/takashi.tsuchimatsu/msdir/ms 2 240 -r 400 500000 -p 10 -t 2926 -eZ 0.35 2.5 \n",
        "\n",
        "(0.35, 5)"
       ]
      },
      {
       "output_type": "stream",
       "stream": "stdout",
       "text": [
        "\n",
        "/home/GMI/takashi.tsuchimatsu/msdir/ms 2 240 -r 400 500000 -p 10 -t 2926 -eZ 0.35 5 \n",
        "\n",
        "(0.35, 10)"
       ]
      },
      {
       "output_type": "stream",
       "stream": "stdout",
       "text": [
        "\n",
        "/home/GMI/takashi.tsuchimatsu/msdir/ms 2 240 -r 400 500000 -p 10 -t 2926 -eZ 0.35 10 \n",
        "\n",
        "(0.35, 15)"
       ]
      },
      {
       "output_type": "stream",
       "stream": "stdout",
       "text": [
        "\n",
        "/home/GMI/takashi.tsuchimatsu/msdir/ms 2 240 -r 400 500000 -p 10 -t 2926 -eZ 0.35 15 \n",
        "\n",
        "(0.35, 20)"
       ]
      },
      {
       "output_type": "stream",
       "stream": "stdout",
       "text": [
        "\n",
        "/home/GMI/takashi.tsuchimatsu/msdir/ms 2 240 -r 400 500000 -p 10 -t 2926 -eZ 0.35 20 \n",
        "\n",
        "(0.35, 25)"
       ]
      },
      {
       "output_type": "stream",
       "stream": "stdout",
       "text": [
        "\n",
        "/home/GMI/takashi.tsuchimatsu/msdir/ms 2 240 -r 400 500000 -p 10 -t 2926 -eZ 0.35 25 \n",
        "\n",
        "(0.4, 1)"
       ]
      },
      {
       "output_type": "stream",
       "stream": "stdout",
       "text": [
        "\n",
        "/home/GMI/takashi.tsuchimatsu/msdir/ms 2 240 -r 400 500000 -p 10 -t 2926 -eZ 0.4 1 \n",
        "\n",
        "(0.4, 2.5)"
       ]
      },
      {
       "output_type": "stream",
       "stream": "stdout",
       "text": [
        "\n",
        "/home/GMI/takashi.tsuchimatsu/msdir/ms 2 240 -r 400 500000 -p 10 -t 2926 -eZ 0.4 2.5 \n",
        "\n",
        "(0.4, 5)"
       ]
      },
      {
       "output_type": "stream",
       "stream": "stdout",
       "text": [
        "\n",
        "/home/GMI/takashi.tsuchimatsu/msdir/ms 2 240 -r 400 500000 -p 10 -t 2926 -eZ 0.4 5 \n",
        "\n",
        "(0.4, 10)"
       ]
      },
      {
       "output_type": "stream",
       "stream": "stdout",
       "text": [
        "\n",
        "/home/GMI/takashi.tsuchimatsu/msdir/ms 2 240 -r 400 500000 -p 10 -t 2926 -eZ 0.4 10 \n",
        "\n",
        "(0.4, 15)"
       ]
      },
      {
       "output_type": "stream",
       "stream": "stdout",
       "text": [
        "\n",
        "/home/GMI/takashi.tsuchimatsu/msdir/ms 2 240 -r 400 500000 -p 10 -t 2926 -eZ 0.4 15 \n",
        "\n",
        "(0.4, 20)"
       ]
      },
      {
       "output_type": "stream",
       "stream": "stdout",
       "text": [
        "\n",
        "/home/GMI/takashi.tsuchimatsu/msdir/ms 2 240 -r 400 500000 -p 10 -t 2926 -eZ 0.4 20 \n",
        "\n",
        "(0.4, 25)"
       ]
      },
      {
       "output_type": "stream",
       "stream": "stdout",
       "text": [
        "\n",
        "/home/GMI/takashi.tsuchimatsu/msdir/ms 2 240 -r 400 500000 -p 10 -t 2926 -eZ 0.4 25 \n",
        "\n",
        "(0.45, 1)"
       ]
      },
      {
       "output_type": "stream",
       "stream": "stdout",
       "text": [
        "\n",
        "/home/GMI/takashi.tsuchimatsu/msdir/ms 2 240 -r 400 500000 -p 10 -t 2926 -eZ 0.45 1 \n",
        "\n",
        "(0.45, 2.5)"
       ]
      },
      {
       "output_type": "stream",
       "stream": "stdout",
       "text": [
        "\n",
        "/home/GMI/takashi.tsuchimatsu/msdir/ms 2 240 -r 400 500000 -p 10 -t 2926 -eZ 0.45 2.5 \n",
        "\n",
        "(0.45, 5)"
       ]
      },
      {
       "output_type": "stream",
       "stream": "stdout",
       "text": [
        "\n",
        "/home/GMI/takashi.tsuchimatsu/msdir/ms 2 240 -r 400 500000 -p 10 -t 2926 -eZ 0.45 5 \n",
        "\n",
        "(0.45, 10)"
       ]
      },
      {
       "output_type": "stream",
       "stream": "stdout",
       "text": [
        "\n",
        "/home/GMI/takashi.tsuchimatsu/msdir/ms 2 240 -r 400 500000 -p 10 -t 2926 -eZ 0.45 10 \n",
        "\n",
        "(0.45, 15)"
       ]
      },
      {
       "output_type": "stream",
       "stream": "stdout",
       "text": [
        "\n",
        "/home/GMI/takashi.tsuchimatsu/msdir/ms 2 240 -r 400 500000 -p 10 -t 2926 -eZ 0.45 15 \n",
        "\n",
        "(0.45, 20)"
       ]
      },
      {
       "output_type": "stream",
       "stream": "stdout",
       "text": [
        "\n",
        "/home/GMI/takashi.tsuchimatsu/msdir/ms 2 240 -r 400 500000 -p 10 -t 2926 -eZ 0.45 20 \n",
        "\n",
        "(0.45, 25)"
       ]
      },
      {
       "output_type": "stream",
       "stream": "stdout",
       "text": [
        "\n",
        "/home/GMI/takashi.tsuchimatsu/msdir/ms 2 240 -r 400 500000 -p 10 -t 2926 -eZ 0.45 25 \n",
        "\n",
        "(0.5, 1)"
       ]
      },
      {
       "output_type": "stream",
       "stream": "stdout",
       "text": [
        "\n",
        "/home/GMI/takashi.tsuchimatsu/msdir/ms 2 240 -r 400 500000 -p 10 -t 2926 -eZ 0.5 1 \n",
        "\n",
        "(0.5, 2.5)"
       ]
      },
      {
       "output_type": "stream",
       "stream": "stdout",
       "text": [
        "\n",
        "/home/GMI/takashi.tsuchimatsu/msdir/ms 2 240 -r 400 500000 -p 10 -t 2926 -eZ 0.5 2.5 \n",
        "\n",
        "(0.5, 5)"
       ]
      },
      {
       "output_type": "stream",
       "stream": "stdout",
       "text": [
        "\n",
        "/home/GMI/takashi.tsuchimatsu/msdir/ms 2 240 -r 400 500000 -p 10 -t 2926 -eZ 0.5 5 \n",
        "\n",
        "(0.5, 10)"
       ]
      },
      {
       "output_type": "stream",
       "stream": "stdout",
       "text": [
        "\n",
        "/home/GMI/takashi.tsuchimatsu/msdir/ms 2 240 -r 400 500000 -p 10 -t 2926 -eZ 0.5 10 \n",
        "\n",
        "(0.5, 15)"
       ]
      },
      {
       "output_type": "stream",
       "stream": "stdout",
       "text": [
        "\n",
        "/home/GMI/takashi.tsuchimatsu/msdir/ms 2 240 -r 400 500000 -p 10 -t 2926 -eZ 0.5 15 \n",
        "\n",
        "(0.5, 20)"
       ]
      },
      {
       "output_type": "stream",
       "stream": "stdout",
       "text": [
        "\n",
        "/home/GMI/takashi.tsuchimatsu/msdir/ms 2 240 -r 400 500000 -p 10 -t 2926 -eZ 0.5 20 \n",
        "\n",
        "(0.5, 25)"
       ]
      },
      {
       "output_type": "stream",
       "stream": "stdout",
       "text": [
        "\n",
        "/home/GMI/takashi.tsuchimatsu/msdir/ms 2 240 -r 400 500000 -p 10 -t 2926 -eZ 0.5 25 \n",
        "\n",
        "(0.55, 1)"
       ]
      },
      {
       "output_type": "stream",
       "stream": "stdout",
       "text": [
        "\n",
        "/home/GMI/takashi.tsuchimatsu/msdir/ms 2 240 -r 400 500000 -p 10 -t 2926 -eZ 0.55 1 \n",
        "\n",
        "(0.55, 2.5)"
       ]
      },
      {
       "output_type": "stream",
       "stream": "stdout",
       "text": [
        "\n",
        "/home/GMI/takashi.tsuchimatsu/msdir/ms 2 240 -r 400 500000 -p 10 -t 2926 -eZ 0.55 2.5 \n",
        "\n",
        "(0.55, 5)"
       ]
      },
      {
       "output_type": "stream",
       "stream": "stdout",
       "text": [
        "\n",
        "/home/GMI/takashi.tsuchimatsu/msdir/ms 2 240 -r 400 500000 -p 10 -t 2926 -eZ 0.55 5 \n",
        "\n",
        "(0.55, 10)"
       ]
      },
      {
       "output_type": "stream",
       "stream": "stdout",
       "text": [
        "\n",
        "/home/GMI/takashi.tsuchimatsu/msdir/ms 2 240 -r 400 500000 -p 10 -t 2926 -eZ 0.55 10 \n",
        "\n",
        "(0.55, 15)"
       ]
      },
      {
       "output_type": "stream",
       "stream": "stdout",
       "text": [
        "\n",
        "/home/GMI/takashi.tsuchimatsu/msdir/ms 2 240 -r 400 500000 -p 10 -t 2926 -eZ 0.55 15 \n",
        "\n",
        "(0.55, 20)"
       ]
      },
      {
       "output_type": "stream",
       "stream": "stdout",
       "text": [
        "\n",
        "/home/GMI/takashi.tsuchimatsu/msdir/ms 2 240 -r 400 500000 -p 10 -t 2926 -eZ 0.55 20 \n",
        "\n",
        "(0.55, 25)"
       ]
      },
      {
       "output_type": "stream",
       "stream": "stdout",
       "text": [
        "\n",
        "/home/GMI/takashi.tsuchimatsu/msdir/ms 2 240 -r 400 500000 -p 10 -t 2926 -eZ 0.55 25 \n",
        "\n",
        "(0.6, 1)"
       ]
      },
      {
       "output_type": "stream",
       "stream": "stdout",
       "text": [
        "\n",
        "/home/GMI/takashi.tsuchimatsu/msdir/ms 2 240 -r 400 500000 -p 10 -t 2926 -eZ 0.6 1 \n",
        "\n",
        "(0.6, 2.5)"
       ]
      },
      {
       "output_type": "stream",
       "stream": "stdout",
       "text": [
        "\n",
        "/home/GMI/takashi.tsuchimatsu/msdir/ms 2 240 -r 400 500000 -p 10 -t 2926 -eZ 0.6 2.5 \n",
        "\n",
        "(0.6, 5)"
       ]
      },
      {
       "output_type": "stream",
       "stream": "stdout",
       "text": [
        "\n",
        "/home/GMI/takashi.tsuchimatsu/msdir/ms 2 240 -r 400 500000 -p 10 -t 2926 -eZ 0.6 5 \n",
        "\n",
        "(0.6, 10)"
       ]
      },
      {
       "output_type": "stream",
       "stream": "stdout",
       "text": [
        "\n",
        "/home/GMI/takashi.tsuchimatsu/msdir/ms 2 240 -r 400 500000 -p 10 -t 2926 -eZ 0.6 10 \n",
        "\n",
        "(0.6, 15)"
       ]
      },
      {
       "output_type": "stream",
       "stream": "stdout",
       "text": [
        "\n",
        "/home/GMI/takashi.tsuchimatsu/msdir/ms 2 240 -r 400 500000 -p 10 -t 2926 -eZ 0.6 15 \n",
        "\n",
        "(0.6, 20)"
       ]
      },
      {
       "output_type": "stream",
       "stream": "stdout",
       "text": [
        "\n",
        "/home/GMI/takashi.tsuchimatsu/msdir/ms 2 240 -r 400 500000 -p 10 -t 2926 -eZ 0.6 20 \n",
        "\n",
        "(0.6, 25)"
       ]
      },
      {
       "output_type": "stream",
       "stream": "stdout",
       "text": [
        "\n",
        "/home/GMI/takashi.tsuchimatsu/msdir/ms 2 240 -r 400 500000 -p 10 -t 2926 -eZ 0.6 25 \n",
        "\n",
        "(0.65, 1)"
       ]
      },
      {
       "output_type": "stream",
       "stream": "stdout",
       "text": [
        "\n",
        "/home/GMI/takashi.tsuchimatsu/msdir/ms 2 240 -r 400 500000 -p 10 -t 2926 -eZ 0.65 1 \n",
        "\n",
        "(0.65, 2.5)"
       ]
      },
      {
       "output_type": "stream",
       "stream": "stdout",
       "text": [
        "\n",
        "/home/GMI/takashi.tsuchimatsu/msdir/ms 2 240 -r 400 500000 -p 10 -t 2926 -eZ 0.65 2.5 \n",
        "\n",
        "(0.65, 5)"
       ]
      },
      {
       "output_type": "stream",
       "stream": "stdout",
       "text": [
        "\n",
        "/home/GMI/takashi.tsuchimatsu/msdir/ms 2 240 -r 400 500000 -p 10 -t 2926 -eZ 0.65 5 \n",
        "\n",
        "(0.65, 10)"
       ]
      },
      {
       "output_type": "stream",
       "stream": "stdout",
       "text": [
        "\n",
        "/home/GMI/takashi.tsuchimatsu/msdir/ms 2 240 -r 400 500000 -p 10 -t 2926 -eZ 0.65 10 \n",
        "\n",
        "(0.65, 15)"
       ]
      },
      {
       "output_type": "stream",
       "stream": "stdout",
       "text": [
        "\n",
        "/home/GMI/takashi.tsuchimatsu/msdir/ms 2 240 -r 400 500000 -p 10 -t 2926 -eZ 0.65 15 \n",
        "\n",
        "(0.65, 20)"
       ]
      },
      {
       "output_type": "stream",
       "stream": "stdout",
       "text": [
        "\n",
        "/home/GMI/takashi.tsuchimatsu/msdir/ms 2 240 -r 400 500000 -p 10 -t 2926 -eZ 0.65 20 \n",
        "\n",
        "(0.65, 25)"
       ]
      },
      {
       "output_type": "stream",
       "stream": "stdout",
       "text": [
        "\n",
        "/home/GMI/takashi.tsuchimatsu/msdir/ms 2 240 -r 400 500000 -p 10 -t 2926 -eZ 0.65 25 \n",
        "\n",
        "(0.7, 1)"
       ]
      },
      {
       "output_type": "stream",
       "stream": "stdout",
       "text": [
        "\n",
        "/home/GMI/takashi.tsuchimatsu/msdir/ms 2 240 -r 400 500000 -p 10 -t 2926 -eZ 0.7 1 \n",
        "\n",
        "(0.7, 2.5)"
       ]
      },
      {
       "output_type": "stream",
       "stream": "stdout",
       "text": [
        "\n",
        "/home/GMI/takashi.tsuchimatsu/msdir/ms 2 240 -r 400 500000 -p 10 -t 2926 -eZ 0.7 2.5 \n",
        "\n",
        "(0.7, 5)"
       ]
      },
      {
       "output_type": "stream",
       "stream": "stdout",
       "text": [
        "\n",
        "/home/GMI/takashi.tsuchimatsu/msdir/ms 2 240 -r 400 500000 -p 10 -t 2926 -eZ 0.7 5 \n",
        "\n",
        "(0.7, 10)"
       ]
      },
      {
       "output_type": "stream",
       "stream": "stdout",
       "text": [
        "\n",
        "/home/GMI/takashi.tsuchimatsu/msdir/ms 2 240 -r 400 500000 -p 10 -t 2926 -eZ 0.7 10 \n",
        "\n",
        "(0.7, 15)"
       ]
      },
      {
       "output_type": "stream",
       "stream": "stdout",
       "text": [
        "\n",
        "/home/GMI/takashi.tsuchimatsu/msdir/ms 2 240 -r 400 500000 -p 10 -t 2926 -eZ 0.7 15 \n",
        "\n",
        "(0.7, 20)"
       ]
      },
      {
       "output_type": "stream",
       "stream": "stdout",
       "text": [
        "\n",
        "/home/GMI/takashi.tsuchimatsu/msdir/ms 2 240 -r 400 500000 -p 10 -t 2926 -eZ 0.7 20 \n",
        "\n",
        "(0.7, 25)"
       ]
      },
      {
       "output_type": "stream",
       "stream": "stdout",
       "text": [
        "\n",
        "/home/GMI/takashi.tsuchimatsu/msdir/ms 2 240 -r 400 500000 -p 10 -t 2926 -eZ 0.7 25 \n",
        "\n",
        "(0.75, 1)"
       ]
      },
      {
       "output_type": "stream",
       "stream": "stdout",
       "text": [
        "\n",
        "/home/GMI/takashi.tsuchimatsu/msdir/ms 2 240 -r 400 500000 -p 10 -t 2926 -eZ 0.75 1 \n",
        "\n",
        "(0.75, 2.5)"
       ]
      },
      {
       "output_type": "stream",
       "stream": "stdout",
       "text": [
        "\n",
        "/home/GMI/takashi.tsuchimatsu/msdir/ms 2 240 -r 400 500000 -p 10 -t 2926 -eZ 0.75 2.5 \n",
        "\n",
        "(0.75, 5)"
       ]
      },
      {
       "output_type": "stream",
       "stream": "stdout",
       "text": [
        "\n",
        "/home/GMI/takashi.tsuchimatsu/msdir/ms 2 240 -r 400 500000 -p 10 -t 2926 -eZ 0.75 5 \n",
        "\n",
        "(0.75, 10)"
       ]
      },
      {
       "output_type": "stream",
       "stream": "stdout",
       "text": [
        "\n",
        "/home/GMI/takashi.tsuchimatsu/msdir/ms 2 240 -r 400 500000 -p 10 -t 2926 -eZ 0.75 10 \n",
        "\n",
        "(0.75, 15)"
       ]
      },
      {
       "output_type": "stream",
       "stream": "stdout",
       "text": [
        "\n",
        "/home/GMI/takashi.tsuchimatsu/msdir/ms 2 240 -r 400 500000 -p 10 -t 2926 -eZ 0.75 15 \n",
        "\n",
        "(0.75, 20)"
       ]
      },
      {
       "output_type": "stream",
       "stream": "stdout",
       "text": [
        "\n",
        "/home/GMI/takashi.tsuchimatsu/msdir/ms 2 240 -r 400 500000 -p 10 -t 2926 -eZ 0.75 20 \n",
        "\n",
        "(0.75, 25)"
       ]
      },
      {
       "output_type": "stream",
       "stream": "stdout",
       "text": [
        "\n",
        "/home/GMI/takashi.tsuchimatsu/msdir/ms 2 240 -r 400 500000 -p 10 -t 2926 -eZ 0.75 25 \n",
        "\n",
        "(0.8, 1)"
       ]
      },
      {
       "output_type": "stream",
       "stream": "stdout",
       "text": [
        "\n",
        "/home/GMI/takashi.tsuchimatsu/msdir/ms 2 240 -r 400 500000 -p 10 -t 2926 -eZ 0.8 1 \n",
        "\n",
        "(0.8, 2.5)"
       ]
      },
      {
       "output_type": "stream",
       "stream": "stdout",
       "text": [
        "\n",
        "/home/GMI/takashi.tsuchimatsu/msdir/ms 2 240 -r 400 500000 -p 10 -t 2926 -eZ 0.8 2.5 \n",
        "\n",
        "(0.8, 5)"
       ]
      },
      {
       "output_type": "stream",
       "stream": "stdout",
       "text": [
        "\n",
        "/home/GMI/takashi.tsuchimatsu/msdir/ms 2 240 -r 400 500000 -p 10 -t 2926 -eZ 0.8 5 \n",
        "\n",
        "(0.8, 10)"
       ]
      },
      {
       "output_type": "stream",
       "stream": "stdout",
       "text": [
        "\n",
        "/home/GMI/takashi.tsuchimatsu/msdir/ms 2 240 -r 400 500000 -p 10 -t 2926 -eZ 0.8 10 \n",
        "\n",
        "(0.8, 15)"
       ]
      },
      {
       "output_type": "stream",
       "stream": "stdout",
       "text": [
        "\n",
        "/home/GMI/takashi.tsuchimatsu/msdir/ms 2 240 -r 400 500000 -p 10 -t 2926 -eZ 0.8 15 \n",
        "\n",
        "(0.8, 20)"
       ]
      },
      {
       "output_type": "stream",
       "stream": "stdout",
       "text": [
        "\n",
        "/home/GMI/takashi.tsuchimatsu/msdir/ms 2 240 -r 400 500000 -p 10 -t 2926 -eZ 0.8 20 \n",
        "\n",
        "(0.8, 25)"
       ]
      },
      {
       "output_type": "stream",
       "stream": "stdout",
       "text": [
        "\n",
        "/home/GMI/takashi.tsuchimatsu/msdir/ms 2 240 -r 400 500000 -p 10 -t 2926 -eZ 0.8 25 \n",
        "\n",
        "(0.85, 1)"
       ]
      },
      {
       "output_type": "stream",
       "stream": "stdout",
       "text": [
        "\n",
        "/home/GMI/takashi.tsuchimatsu/msdir/ms 2 240 -r 400 500000 -p 10 -t 2926 -eZ 0.85 1 \n",
        "\n",
        "(0.85, 2.5)"
       ]
      },
      {
       "output_type": "stream",
       "stream": "stdout",
       "text": [
        "\n",
        "/home/GMI/takashi.tsuchimatsu/msdir/ms 2 240 -r 400 500000 -p 10 -t 2926 -eZ 0.85 2.5 \n",
        "\n",
        "(0.85, 5)"
       ]
      },
      {
       "output_type": "stream",
       "stream": "stdout",
       "text": [
        "\n",
        "/home/GMI/takashi.tsuchimatsu/msdir/ms 2 240 -r 400 500000 -p 10 -t 2926 -eZ 0.85 5 \n",
        "\n",
        "(0.85, 10)"
       ]
      },
      {
       "output_type": "stream",
       "stream": "stdout",
       "text": [
        "\n",
        "/home/GMI/takashi.tsuchimatsu/msdir/ms 2 240 -r 400 500000 -p 10 -t 2926 -eZ 0.85 10 \n",
        "\n",
        "(0.85, 15)"
       ]
      },
      {
       "output_type": "stream",
       "stream": "stdout",
       "text": [
        "\n",
        "/home/GMI/takashi.tsuchimatsu/msdir/ms 2 240 -r 400 500000 -p 10 -t 2926 -eZ 0.85 15 \n",
        "\n",
        "(0.85, 20)"
       ]
      },
      {
       "output_type": "stream",
       "stream": "stdout",
       "text": [
        "\n",
        "/home/GMI/takashi.tsuchimatsu/msdir/ms 2 240 -r 400 500000 -p 10 -t 2926 -eZ 0.85 20 \n",
        "\n",
        "(0.85, 25)"
       ]
      },
      {
       "output_type": "stream",
       "stream": "stdout",
       "text": [
        "\n",
        "/home/GMI/takashi.tsuchimatsu/msdir/ms 2 240 -r 400 500000 -p 10 -t 2926 -eZ 0.85 25 \n",
        "\n",
        "(0.9, 1)"
       ]
      },
      {
       "output_type": "stream",
       "stream": "stdout",
       "text": [
        "\n",
        "/home/GMI/takashi.tsuchimatsu/msdir/ms 2 240 -r 400 500000 -p 10 -t 2926 -eZ 0.9 1 \n",
        "\n",
        "(0.9, 2.5)"
       ]
      },
      {
       "output_type": "stream",
       "stream": "stdout",
       "text": [
        "\n",
        "/home/GMI/takashi.tsuchimatsu/msdir/ms 2 240 -r 400 500000 -p 10 -t 2926 -eZ 0.9 2.5 \n",
        "\n",
        "(0.9, 5)"
       ]
      },
      {
       "output_type": "stream",
       "stream": "stdout",
       "text": [
        "\n",
        "/home/GMI/takashi.tsuchimatsu/msdir/ms 2 240 -r 400 500000 -p 10 -t 2926 -eZ 0.9 5 \n",
        "\n",
        "(0.9, 10)"
       ]
      },
      {
       "output_type": "stream",
       "stream": "stdout",
       "text": [
        "\n",
        "/home/GMI/takashi.tsuchimatsu/msdir/ms 2 240 -r 400 500000 -p 10 -t 2926 -eZ 0.9 10 \n",
        "\n",
        "(0.9, 15)"
       ]
      },
      {
       "output_type": "stream",
       "stream": "stdout",
       "text": [
        "\n",
        "/home/GMI/takashi.tsuchimatsu/msdir/ms 2 240 -r 400 500000 -p 10 -t 2926 -eZ 0.9 15 \n",
        "\n",
        "(0.9, 20)"
       ]
      },
      {
       "output_type": "stream",
       "stream": "stdout",
       "text": [
        "\n",
        "/home/GMI/takashi.tsuchimatsu/msdir/ms 2 240 -r 400 500000 -p 10 -t 2926 -eZ 0.9 20 \n",
        "\n",
        "(0.9, 25)"
       ]
      },
      {
       "output_type": "stream",
       "stream": "stdout",
       "text": [
        "\n",
        "/home/GMI/takashi.tsuchimatsu/msdir/ms 2 240 -r 400 500000 -p 10 -t 2926 -eZ 0.9 25 \n",
        "\n",
        "(0.95, 1)"
       ]
      },
      {
       "output_type": "stream",
       "stream": "stdout",
       "text": [
        "\n",
        "/home/GMI/takashi.tsuchimatsu/msdir/ms 2 240 -r 400 500000 -p 10 -t 2926 -eZ 0.95 1 \n",
        "\n",
        "(0.95, 2.5)"
       ]
      },
      {
       "output_type": "stream",
       "stream": "stdout",
       "text": [
        "\n",
        "/home/GMI/takashi.tsuchimatsu/msdir/ms 2 240 -r 400 500000 -p 10 -t 2926 -eZ 0.95 2.5 \n",
        "\n",
        "(0.95, 5)"
       ]
      },
      {
       "output_type": "stream",
       "stream": "stdout",
       "text": [
        "\n",
        "/home/GMI/takashi.tsuchimatsu/msdir/ms 2 240 -r 400 500000 -p 10 -t 2926 -eZ 0.95 5 \n",
        "\n",
        "(0.95, 10)"
       ]
      },
      {
       "output_type": "stream",
       "stream": "stdout",
       "text": [
        "\n",
        "/home/GMI/takashi.tsuchimatsu/msdir/ms 2 240 -r 400 500000 -p 10 -t 2926 -eZ 0.95 10 \n",
        "\n",
        "(0.95, 15)"
       ]
      },
      {
       "output_type": "stream",
       "stream": "stdout",
       "text": [
        "\n",
        "/home/GMI/takashi.tsuchimatsu/msdir/ms 2 240 -r 400 500000 -p 10 -t 2926 -eZ 0.95 15 \n",
        "\n",
        "(0.95, 20)"
       ]
      },
      {
       "output_type": "stream",
       "stream": "stdout",
       "text": [
        "\n",
        "/home/GMI/takashi.tsuchimatsu/msdir/ms 2 240 -r 400 500000 -p 10 -t 2926 -eZ 0.95 20 \n",
        "\n",
        "(0.95, 25)"
       ]
      },
      {
       "output_type": "stream",
       "stream": "stdout",
       "text": [
        "\n",
        "/home/GMI/takashi.tsuchimatsu/msdir/ms 2 240 -r 400 500000 -p 10 -t 2926 -eZ 0.95 25 \n",
        "\n",
        "(1, 1)"
       ]
      },
      {
       "output_type": "stream",
       "stream": "stdout",
       "text": [
        "\n",
        "/home/GMI/takashi.tsuchimatsu/msdir/ms 2 240 -r 400 500000 -p 10 -t 2926 -eZ 1 1 \n",
        "\n",
        "(1, 2.5)"
       ]
      },
      {
       "output_type": "stream",
       "stream": "stdout",
       "text": [
        "\n",
        "/home/GMI/takashi.tsuchimatsu/msdir/ms 2 240 -r 400 500000 -p 10 -t 2926 -eZ 1 2.5 \n",
        "\n",
        "(1, 5)"
       ]
      },
      {
       "output_type": "stream",
       "stream": "stdout",
       "text": [
        "\n",
        "/home/GMI/takashi.tsuchimatsu/msdir/ms 2 240 -r 400 500000 -p 10 -t 2926 -eZ 1 5 \n",
        "\n",
        "(1, 10)"
       ]
      },
      {
       "output_type": "stream",
       "stream": "stdout",
       "text": [
        "\n",
        "/home/GMI/takashi.tsuchimatsu/msdir/ms 2 240 -r 400 500000 -p 10 -t 2926 -eZ 1 10 \n",
        "\n",
        "(1, 15)"
       ]
      },
      {
       "output_type": "stream",
       "stream": "stdout",
       "text": [
        "\n",
        "/home/GMI/takashi.tsuchimatsu/msdir/ms 2 240 -r 400 500000 -p 10 -t 2926 -eZ 1 15 \n",
        "\n",
        "(1, 20)"
       ]
      },
      {
       "output_type": "stream",
       "stream": "stdout",
       "text": [
        "\n",
        "/home/GMI/takashi.tsuchimatsu/msdir/ms 2 240 -r 400 500000 -p 10 -t 2926 -eZ 1 20 \n",
        "\n",
        "(1, 25)"
       ]
      },
      {
       "output_type": "stream",
       "stream": "stdout",
       "text": [
        "\n",
        "/home/GMI/takashi.tsuchimatsu/msdir/ms 2 240 -r 400 500000 -p 10 -t 2926 -eZ 1 25 \n",
        "\n"
       ]
      }
     ],
     "prompt_number": 294
    },
    {
     "cell_type": "code",
     "collapsed": false,
     "input": [
      "maxLen = 10**4;\n",
      "minLen = 10;\n",
      "bounded_dic = {}\n",
      "for key, value in dic.iteritems():\n",
      "    bounded_dic[key]=value[np.where((value>=minLen)*(value<maxLen))]\n",
      " "
     ],
     "language": "python",
     "metadata": {},
     "outputs": [],
     "prompt_number": 419
    },
    {
     "cell_type": "heading",
     "level": 2,
     "metadata": {},
     "source": [
      "Calculating difference bewtween sortet vector elements"
     ]
    },
    {
     "cell_type": "code",
     "collapsed": false,
     "input": [
      "bounded_dic[(0.04,5)].shape"
     ],
     "language": "python",
     "metadata": {},
     "outputs": [
      {
       "output_type": "pyout",
       "prompt_number": 298,
       "text": [
        "(613832,)"
       ]
      }
     ],
     "prompt_number": 298
    },
    {
     "cell_type": "code",
     "collapsed": false,
     "input": [
      "bounded_dic[(0.02,5)].shape"
     ],
     "language": "python",
     "metadata": {},
     "outputs": [
      {
       "output_type": "pyout",
       "prompt_number": 285,
       "text": [
        "(688137,)"
       ]
      }
     ],
     "prompt_number": 285
    },
    {
     "cell_type": "code",
     "collapsed": false,
     "input": [
      "def dist(ibs1,ibs2):\n",
      "    length = min(len(ibs1),len(ibs2))\n",
      "    return sum(abs(ibs1[:length]-ibs2[:length]))"
     ],
     "language": "python",
     "metadata": {},
     "outputs": [],
     "prompt_number": 170
    },
    {
     "cell_type": "code",
     "collapsed": false,
     "input": [
      "def dist(ibs1,ibs2):\n",
      "    length = min(len(ibs1),len(ibs2))\n",
      "    return sum(abs(ibs1[:length]-ibs2[:length]))"
     ],
     "language": "python",
     "metadata": {},
     "outputs": []
    },
    {
     "cell_type": "code",
     "collapsed": false,
     "input": [
      "def dist_vec(ibs1,ibs2):\n",
      "    length = min(len(ibs1),len(ibs2))\n",
      "    return abs(ibs1[:length]-ibs2[:length])"
     ],
     "language": "python",
     "metadata": {},
     "outputs": [],
     "prompt_number": 211
    },
    {
     "cell_type": "code",
     "collapsed": false,
     "input": [
      "dist_df = pd.DataFrame({tr:np.zeros(len(fs)) for tr in trs},index=fs)\n",
      "for tr in trs:\n",
      "    for f in fs:\n",
      "        #print dist_df.shape\n",
      "        dist_df.loc[float(f),tr] = dist(bounded_dic[(tr,f)],bounded_dic[(0.02,1)])"
     ],
     "language": "python",
     "metadata": {},
     "outputs": [],
     "prompt_number": 287
    },
    {
     "cell_type": "code",
     "collapsed": false,
     "input": [
      "print (dist_df/10000.).applymap(round)"
     ],
     "language": "python",
     "metadata": {},
     "outputs": [
      {
       "output_type": "stream",
       "stream": "stdout",
       "text": [
        "      0.02  0.04  0.06  0.08   0.1  0.15  0.2  0.25  0.3  0.35  0.4  0.45   0.5  0.55  0.6  0.65  0.7  0.75   0.8  0.85  0.9  0.95  1\n",
        "1.0      0   539   388   811   208   816  394   292  622  1124  414   475   874   382  321   561  460   630  1304   775  731    11  0\n",
        "2.5    557   995   658   255  1114  1480   31   101   41   329  521   272   612    41  104   646   33   751   312   748  579   857  0\n",
        "5.0    844   931   127   281   782    69  523  1340   31   436  653    99   431   123  385   415  577    70   643   498   68   762  0\n",
        "10.0   617   579   854   459   235   361  627   170  867   133  380    95   175   236  156   584  197    94   613   409  309   665  0\n",
        "15.0   520   739   467   410   905   400  650   623  214   282   76   205   659   267  175   301  600   164   297   180  536   511  0\n",
        "20.0   671    64   541   702   429   482  606   263  217   601  929   148  1057   161   79   964  202   759   312   674  916   447  0\n",
        "25.0   783   279   636   662   654   930  609   259  640   797  657   336   357    83  715   376  747   851   410   460  240   343  0\n"
       ]
      }
     ],
     "prompt_number": 288
    },
    {
     "cell_type": "code",
     "collapsed": false,
     "input": [
      "dist_df.ix[25.].plot()\n",
      "dist_df.ix[1.].plot()"
     ],
     "language": "python",
     "metadata": {},
     "outputs": [
      {
       "output_type": "pyout",
       "prompt_number": 289,
       "text": [
        "<matplotlib.axes.AxesSubplot at 0x1230e9d0>"
       ]
      },
      {
       "output_type": "display_data",
       "png": "[encoded data removed]"
      }
     ],
     "prompt_number": 289
    },
    {
     "cell_type": "heading",
     "level": 2,
     "metadata": {},
     "source": [
      "Quantile differences"
     ]
    },
    {
     "cell_type": "code",
     "collapsed": false,
     "input": [
      "def quantile_mean(ibs,n_quantiles=500):\n",
      "     return np.array(map(mean,np.array_split(ibs,n_quantiles)))"
     ],
     "language": "python",
     "metadata": {},
     "outputs": [],
     "prompt_number": 307
    },
    {
     "cell_type": "code",
     "collapsed": false,
     "input": [
      "param_df = pd.DataFrame({tr:[(tr,f) for f in fs] for tr in trs},index=fs)\n",
      "quantile_dist_df = param_df.applymap(lambda p: dist(quantile_mean(bounded_dic[(p[0],p[1])]),quantile_mean(bounded_dic[(0.02,1)])))"
     ],
     "language": "python",
     "metadata": {},
     "outputs": [],
     "prompt_number": 331
    },
    {
     "cell_type": "code",
     "collapsed": false,
     "input": [
      "print quantile_dist_df.applymap(round)"
     ],
     "language": "python",
     "metadata": {},
     "outputs": [
      {
       "output_type": "stream",
       "stream": "stdout",
       "text": [
        "       0.02  0.04  0.06  0.08   0.1  0.15   0.2  0.25   0.3  0.35   0.4  0.45   0.5  0.55   0.6  0.65   0.7  0.75   0.8  0.85   0.9  0.95  1\n",
        "1.0       0  1146   651  1222   978  1930   515   611   988  1686   751   984  1177   661   784  1151   795   617  1920   762  1135   717  0\n",
        "2.5    1538  1861  1434   346  1657  1120   896   511   709  1131   778   622  1184   360   843  1315   678  1092  1423  1187   663  1395  0\n",
        "5.0    2857  1807  1898  1731  1961   987   745  1277   684   669   805   779  1037   602   748  1258  1326   563   807  1039   918  1632  0\n",
        "10.0   5049  1222  3297  3931  2846  1874  1522  1390  1128   818   766   616   653   717   715   936   564   628   987   588   748   761  0\n",
        "15.0   7786   698  5980  4929  3344  2562  1958  1858  1174  1166  1428   932   847   677  1608   433   971   639   476   989   858   643  0\n",
        "20.0   9810   606  6812  5730  5465  3608  3059  1918  1415  1319  1546  1071  1780   850   676  1451   666  1078   705   800  1132   807  0\n",
        "25.0  10948   936  7816  7179  5771  3841  3376  2323  2433  1677  1264   934  1197   899  1468   870  1632  1228   595   729   448  1197  0\n"
       ]
      }
     ],
     "prompt_number": 316
    },
    {
     "cell_type": "code",
     "collapsed": false,
     "input": [
      "quantile_dist_df.ix[[25.,10.,1.]].T.plot()\n"
     ],
     "language": "python",
     "metadata": {},
     "outputs": [
      {
       "output_type": "pyout",
       "prompt_number": 337,
       "text": [
        "<matplotlib.axes.AxesSubplot at 0x7f115150>"
       ]
      },
      {
       "output_type": "display_data",
       "png": "[encoded data removed]"
      }
     ],
     "prompt_number": 337
    },
    {
     "cell_type": "code",
     "collapsed": false,
     "input": [
      "Other summary statistics"
     ],
     "language": "python",
     "metadata": {},
     "outputs": []
    },
    {
     "cell_type": "code",
     "collapsed": false,
     "input": [
      "#qq plot\n",
      "v1 = quantile_mean(bounded_dic[(0.6,25)])\n",
      "v2 = quantile_mean(bounded_dic[(0.08,1)])\n",
      "ax1 = plt.gca()\n",
      "h = plot(v1,v2,'.')\n",
      "range0 = min(v1[-1],v2[-1])\n",
      "plot([0,range0],[0,range0])\n",
      "ax1.set_xlim([0,2000])\n",
      "ax1.set_ylim([0,2000])"
     ],
     "language": "python",
     "metadata": {},
     "outputs": [
      {
       "output_type": "pyout",
       "prompt_number": 361,
       "text": [
        "(0, 2000)"
       ]
      },
      {
       "output_type": "display_data",
       "png": "[encoded data removed]"
      }
     ],
     "prompt_number": 361
    },
    {
     "cell_type": "code",
     "collapsed": false,
     "input": [
      "#qq plot\n",
      "v1 = quantile_mean(bounded_dic[(0.7,1)])\n",
      "v2 = quantile_mean(bounded_dic[(0.1,1)])\n",
      "ax1 = plt.gca()\n",
      "h = plot(v1-v2,'.')\n",
      "range0 = min(v1[-1],v2[-1])\n",
      "#plot([0,range0],[0,range0])\n",
      "#ax1.set_xlim([0,2000])\n",
      "#ax1.set_ylim([0,2000])"
     ],
     "language": "python",
     "metadata": {},
     "outputs": [
      {
       "output_type": "display_data",
       "png": "[encoded data removed]"
      }
     ],
     "prompt_number": 377
    },
    {
     "cell_type": "code",
     "collapsed": false,
     "input": [
      "def hist(tr,f):\n",
      "    \"\"\"\n",
      "    returns tuple (hist,bin_edges)\n",
      "    \"\"\"\n",
      "    ibs = bounded_dic[(tr,f)]\n",
      "    imax = int(ceil(log(max(ibs))/log(1.25)))\n",
      "    imin= int(floor(log(min(ibs))/log(1.25)))\n",
      "    bins = [1.25**i for i in range(imin,imax)]\n",
      "    return np.histogram(ibs,bins=bins)"
     ],
     "language": "python",
     "metadata": {},
     "outputs": [],
     "prompt_number": 443
    },
    {
     "cell_type": "code",
     "collapsed": false,
     "input": [
      "ax = plt.gca()\n",
      "hist0, bins = hist(0.02,1)\n",
      "bin_mid = bins[:-1]+np.diff(bins)/2\n",
      "len(hist0)\n",
      "h, = plot(log(bin_mid)/log(10),log(hist0)/log(10))\n",
      "handles = [h]\n",
      "trs1 = [0.02,0.1,0.3,0.5]\n",
      "for tr in trs1:\n",
      "    hist0, bins = hist(tr,25)\n",
      "    bin_mid = bins[:-1]+np.diff(bins)/2\n",
      "    h, = plot(log(bin_mid)/log(10),log(hist0)/log(10))\n",
      "    handles.append(h)\n",
      "plt.figlegend(handles,[\"no change\"]+[\"T_R=\"+str(tr) for tr in trs1],\"lower left\")\n",
      "plt.xlabel('log IBS tract length',fontsize=15)\n",
      "plt.ylabel('log # tracts',fontsize=15)\n",
      "#ax.set_xlim([0,50])"
     ],
     "language": "python",
     "metadata": {},
     "outputs": [
      {
       "output_type": "pyout",
       "prompt_number": 456,
       "text": [
        "<matplotlib.text.Text at 0x72416cd0>"
       ]
      },
      {
       "output_type": "display_data",
       "png": "[encoded data removed]"
      }
     ],
     "prompt_number": 456
    },
    {
     "cell_type": "code",
     "collapsed": false,
     "input": [],
     "language": "python",
     "metadata": {},
     "outputs": [
      {
       "output_type": "pyout",
       "prompt_number": 452,
       "text": [
        "array([   11.64153218,    14.55191523,    18.18989404,    22.73736754,\n",
        "          28.42170943,    35.52713679,    44.40892099,    55.51115123,\n",
        "          69.38893904,    86.7361738 ,   108.42021725,   135.52527156,\n",
        "         169.40658945,   211.75823681,   264.69779602,   330.87224502,\n",
        "         413.59030628,   516.98788285,   646.23485356,   807.79356695,\n",
        "        1009.74195868,  1262.17744835,  1577.72181044,  1972.15226305,\n",
        "        2465.19032882,  3081.48791102,  3851.85988877,  4814.82486097,\n",
        "        6018.53107621,  7523.16384526,  9403.95480658])"
       ]
      }
     ],
     "prompt_number": 452
    },
    {
     "cell_type": "code",
     "collapsed": false,
     "input": [],
     "language": "python",
     "metadata": {},
     "outputs": [
      {
       "output_type": "pyout",
       "prompt_number": 433,
       "text": [
        "array([ 0.96910013,  1.16292016,  1.35674018,  1.55056021,  1.74438023,\n",
        "        1.93820026,  2.13202029,  2.32584031,  2.51966034,  2.71348036,\n",
        "        2.90730039,  3.10112042,  3.29494044,  3.48876047,  3.68258049,\n",
        "        3.87640052])"
       ]
      }
     ],
     "prompt_number": 433
    },
    {
     "cell_type": "code",
     "collapsed": false,
     "input": [
      "bins[1::2]-bins[0::2]"
     ],
     "language": "python",
     "metadata": {},
     "outputs": [
      {
       "output_type": "pyout",
       "prompt_number": 447,
       "text": [
        "array([    2.32830644,     3.63797881,     5.68434189,     8.8817842 ,\n",
        "          13.87778781,    21.68404345,    33.88131789,    52.9395592 ,\n",
        "          82.71806126,   129.24697071,   201.94839174,   315.54436209,\n",
        "         493.03806576,   770.37197775,  1203.70621524,  1880.79096132])"
       ]
      }
     ],
     "prompt_number": 447
    },
    {
     "cell_type": "code",
     "collapsed": false,
     "input": [
      "a, = plot(log(hist(0.3,25)[0])/log(10))\n",
      "b, = plot(log(hist(0.3,1)[0])/log(10))\n",
      "plt.figlegend((a,b),(\"a\",\"b\"),\"best\")"
     ],
     "language": "python",
     "metadata": {},
     "outputs": [
      {
       "output_type": "pyout",
       "prompt_number": 411,
       "text": [
        "<matplotlib.legend.Legend at 0x746fda90>"
       ]
      },
      {
       "output_type": "display_data",
       "png": "[encoded data removed]"
      }
     ],
     "prompt_number": 411
    },
    {
     "cell_type": "code",
     "collapsed": false,
     "input": [
      "hist"
     ],
     "language": "python",
     "metadata": {},
     "outputs": [
      {
       "output_type": "pyout",
       "prompt_number": 114,
       "text": [
        "array([277114, 138627,  80966, ...,      0,      0,      1])"
       ]
      }
     ],
     "prompt_number": 114
    },
    {
     "cell_type": "code",
     "collapsed": false,
     "input": [
      "ibs[:10000]"
     ],
     "language": "python",
     "metadata": {},
     "outputs": [
      {
       "output_type": "pyout",
       "prompt_number": 66,
       "text": [
        "array([ 0.,  0.,  0., ...,  1.,  1.,  1.])"
       ]
      }
     ],
     "prompt_number": 66
    },
    {
     "cell_type": "code",
     "collapsed": false,
     "input": [
      "log(1000)/log(10)"
     ],
     "language": "python",
     "metadata": {},
     "outputs": [
      {
       "output_type": "pyout",
       "prompt_number": 90,
       "text": [
        "2.9999999999999996"
       ]
      }
     ],
     "prompt_number": 90
    },
    {
     "cell_type": "code",
     "collapsed": false,
     "input": [
      "plot(ibs)"
     ],
     "language": "python",
     "metadata": {},
     "outputs": [
      {
       "output_type": "pyout",
       "prompt_number": 60,
       "text": [
        "[<matplotlib.lines.Line2D at 0xbd4cc50>]"
       ]
      },
      {
       "output_type": "display_data",
       "png": "[encoded data removed]"
      }
     ],
     "prompt_number": 60
    },
    {
     "cell_type": "code",
     "collapsed": false,
     "input": [
      "df = pd.DataFrame({tr:[(tr,rho) for rho in [1,10,25]] for tr in [0.02,0.04,0.06]},index=[1,10,25])\n",
      "df.applymap(lambda p: p[0]+p[1])"
     ],
     "language": "python",
     "metadata": {},
     "outputs": [],
     "prompt_number": 324
    },
    {
     "cell_type": "code",
     "collapsed": false,
     "input": [],
     "language": "python",
     "metadata": {},
     "outputs": [
      {
       "html": [
        "<div style=\"max-height:1000px;max-width:1500px;overflow:auto;\">\n",
        "<table border=\"1\" class=\"dataframe\">\n",
        "  <thead>\n",
        "    <tr style=\"text-align: right;\">\n",
        "      <th></th>\n",
        "      <th>0.02</th>\n",
        "      <th>0.04</th>\n",
        "      <th>0.06</th>\n",
        "    </tr>\n",
        "  </thead>\n",
        "  <tbody>\n",
        "    <tr>\n",
        "      <th>1 </th>\n",
        "      <td>  1.02</td>\n",
        "      <td>  1.04</td>\n",
        "      <td>  1.06</td>\n",
        "    </tr>\n",
        "    <tr>\n",
        "      <th>10</th>\n",
        "      <td> 10.02</td>\n",
        "      <td> 10.04</td>\n",
        "      <td> 10.06</td>\n",
        "    </tr>\n",
        "    <tr>\n",
        "      <th>25</th>\n",
        "      <td> 25.02</td>\n",
        "      <td> 25.04</td>\n",
        "      <td> 25.06</td>\n",
        "    </tr>\n",
        "  </tbody>\n",
        "</table>\n",
        "</div>"
       ],
       "output_type": "pyout",
       "prompt_number": 326,
       "text": [
        "     0.02   0.04   0.06\n",
        "1    1.02   1.04   1.06\n",
        "10  10.02  10.04  10.06\n",
        "25  25.02  25.04  25.06"
       ]
      }
     ],
     "prompt_number": 326
    },
    {
     "cell_type": "code",
     "collapsed": false,
     "input": [],
     "language": "python",
     "metadata": {},
     "outputs": []
    }
   ],
   "metadata": {}
  }
 ]
}