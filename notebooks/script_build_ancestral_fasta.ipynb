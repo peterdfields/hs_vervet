{
 "metadata": {
  "name": "",
  "signature": "sha256:9fd3f5556f3a4f54c60c321481f054a8258a71465d3913c3020d4b184ff88fcd"
 },
 "nbformat": 3,
 "nbformat_minor": 0,
 "worksheets": [
  {
   "cells": [
    {
     "cell_type": "code",
     "collapsed": false,
     "input": [
      "\"\"\"\n",
      "This script writes a fasta with the infered ancestral sequence.\n",
      "Note that ancestral state is only infered for SNP sites.\n",
      "Hence, the resulting ancestral-fasta should only be used \n",
      "in the context of the same\n",
      "SNP calls that the ancestral-fasta was produced with.\n",
      "\"\"\""
     ],
     "language": "python",
     "metadata": {},
     "outputs": [
      {
       "metadata": {},
       "output_type": "pyout",
       "prompt_number": 90,
       "text": [
        "'\\nThis script writes a fasta with the infered ancestral sequence.\\nNote that ancestral state is only infered for SNP sites.\\nHence, the resulting ancestral-fasta should only be used \\nin the context of the same\\nSNP calls that the ancestral-fasta was produced with.\\n'"
       ]
      }
     ],
     "prompt_number": 90
    },
    {
     "cell_type": "code",
     "collapsed": false,
     "input": [
      "#parallel\n",
      "from IPython.parallel import Client\n",
      "rc = Client()\n",
      "dview = rc[:] # use all engines"
     ],
     "language": "python",
     "metadata": {},
     "outputs": [],
     "prompt_number": 26
    },
    {
     "cell_type": "code",
     "collapsed": false,
     "input": [
      "%%px --local\n",
      "import vcf as vcftools\n",
      "import pyfasta, os\n",
      "eu = os.path.expanduser\n",
      "jn = os.path.join"
     ],
     "language": "python",
     "metadata": {},
     "outputs": [],
     "prompt_number": 31
    },
    {
     "cell_type": "code",
     "collapsed": false,
     "input": [
      "chromosomes = [\"CAE\" + str(i) for i in range(1,30)+[\"X\",\"Y\"]]"
     ],
     "language": "python",
     "metadata": {},
     "outputs": [],
     "prompt_number": 32
    },
    {
     "cell_type": "code",
     "collapsed": false,
     "input": [
      "%%px --local\n",
      "ana_dir = eu(\"~/vervet_project/analyses/20140403_UnifiedGenotyper_ref3500_non_VRC/_data/\")\n",
      "vcf_fn = jn(ana_dir,\"GATK_UnifiedGenotyper_163NonVRC_ref3500_snp_{}_including_filtered.vcf\")\n",
      "ref_fn = eu(\"~/vervet_project/data/reference/reference_3500/\"\n",
      "            \"3500_indID1_codeVRC_ref_sequencer3_seqType1_filtered0_version6.fasta\")\n",
      "ref_seq = pyfasta.Fasta(ref_fn)"
     ],
     "language": "python",
     "metadata": {},
     "outputs": [],
     "prompt_number": 33
    },
    {
     "cell_type": "code",
     "collapsed": false,
     "input": [
      "%%px --local\n",
      "def get_ancestral_seq(vcf_fn,ref_seq):\n",
      "    \"\"\"\n",
      "    Make a sequence string starting with the reference\n",
      "    where at each snp the allele is subsituted by the\n",
      "    ancestral allele (if known).\n",
      "    \"\"\"\n",
      "    anc_state_count =0\n",
      "    seq_ls = []\n",
      "    prev_pos = 0\n",
      "    vcf = vcftools.Reader(filename=vcf_fn)\n",
      "    for i,record in enumerate(vcf):\n",
      "        pos = record.POS-1\n",
      "        seq_ls.append(ref_seq[record.CHROM][prev_pos:pos])\n",
      "        try:\n",
      "            anc = record.INFO['AA']\n",
      "            if anc == record.REF or anc == record.ALT[0]:\n",
      "                allele = anc\n",
      "                anc_state_count += 1\n",
      "            else:\n",
      "                allele = record.REF\n",
      "        except KeyError:\n",
      "            allele = record.REF\n",
      "        seq_ls.append(allele)\n",
      "        prev_pos = pos + 1\n",
      "        #if i > 1000:\n",
      "        #    break\n",
      "    seq_ls.append(ref_seq[record.CHROM][prev_pos:])\n",
      "    print i,\"snps processed\"\n",
      "    print anc_state_count,\"have ancestral state info that is ref or alt\"\n",
      "    return \"\".join(seq_ls)"
     ],
     "language": "python",
     "metadata": {},
     "outputs": [],
     "prompt_number": 34
    },
    {
     "cell_type": "code",
     "collapsed": false,
     "input": [
      "%%px --local\n",
      "def write_to_fasta(handle,chrom,seq_str,line_len=60):\n",
      "    handle.write(\">{}\\n\".format(chrom))\n",
      "    for idx in range(line_len,len(seq_str),line_len):\n",
      "        handle.write(seq_str[idx-line_len:idx]+\"\\n\")\n",
      "    if seq_str[idx:]:\n",
      "        handle.write(seq_str[idx:]+\"\\n\")"
     ],
     "language": "python",
     "metadata": {},
     "outputs": [],
     "prompt_number": 35
    },
    {
     "cell_type": "code",
     "collapsed": false,
     "input": [
      "#test\n",
      "chrom = \"CAE1\"\n",
      "anc_seq = get_ancestral_seq(vcf_fn.format(chrom),ref_seq)\n",
      "with open(\"test_seq.fa\",\"w\") as fa:\n",
      "    write_to_fasta(fa,chrom,anc_seq)"
     ],
     "language": "python",
     "metadata": {},
     "outputs": [
      {
       "ename": "KeyboardInterrupt",
       "evalue": "",
       "output_type": "pyerr",
       "traceback": [
        "\u001b[1;31m---------------------------------------------------------------------------\u001b[0m\n\u001b[1;31mKeyboardInterrupt\u001b[0m                         Traceback (most recent call last)",
        "\u001b[1;32m<ipython-input-15-b76b8393d40b>\u001b[0m in \u001b[0;36m<module>\u001b[1;34m()\u001b[0m\n\u001b[0;32m      1\u001b[0m \u001b[1;31m#test\u001b[0m\u001b[1;33m\u001b[0m\u001b[1;33m\u001b[0m\u001b[0m\n\u001b[0;32m      2\u001b[0m \u001b[0mchrom\u001b[0m \u001b[1;33m=\u001b[0m \u001b[1;34m\"CAE1\"\u001b[0m\u001b[1;33m\u001b[0m\u001b[0m\n\u001b[1;32m----> 3\u001b[1;33m \u001b[0manc_seq\u001b[0m \u001b[1;33m=\u001b[0m \u001b[0mget_ancestral_seq\u001b[0m\u001b[1;33m(\u001b[0m\u001b[0mvcf_fn\u001b[0m\u001b[1;33m.\u001b[0m\u001b[0mformat\u001b[0m\u001b[1;33m(\u001b[0m\u001b[0mchrom\u001b[0m\u001b[1;33m)\u001b[0m\u001b[1;33m,\u001b[0m\u001b[0mref_seq\u001b[0m\u001b[1;33m)\u001b[0m\u001b[1;33m\u001b[0m\u001b[0m\n\u001b[0m\u001b[0;32m      4\u001b[0m \u001b[1;32mwith\u001b[0m \u001b[0mopen\u001b[0m\u001b[1;33m(\u001b[0m\u001b[1;34m\"test_seq.fa\"\u001b[0m\u001b[1;33m,\u001b[0m\u001b[1;34m\"w\"\u001b[0m\u001b[1;33m)\u001b[0m \u001b[1;32mas\u001b[0m \u001b[0mfa\u001b[0m\u001b[1;33m:\u001b[0m\u001b[1;33m\u001b[0m\u001b[0m\n\u001b[0;32m      5\u001b[0m     \u001b[0mwrite_to_fasta\u001b[0m\u001b[1;33m(\u001b[0m\u001b[0mfa\u001b[0m\u001b[1;33m,\u001b[0m\u001b[0mchrom\u001b[0m\u001b[1;33m,\u001b[0m\u001b[0manc_seq\u001b[0m\u001b[1;33m)\u001b[0m\u001b[1;33m\u001b[0m\u001b[0m\n",
        "\u001b[1;32m<ipython-input-13-8db1edf464e8>\u001b[0m in \u001b[0;36mget_ancestral_seq\u001b[1;34m(vcf_fn, ref_seq)\u001b[0m\n\u001b[0;32m      9\u001b[0m     \u001b[0mprev_pos\u001b[0m \u001b[1;33m=\u001b[0m \u001b[1;36m0\u001b[0m\u001b[1;33m\u001b[0m\u001b[0m\n\u001b[0;32m     10\u001b[0m     \u001b[0mvcf\u001b[0m \u001b[1;33m=\u001b[0m \u001b[0mvcftools\u001b[0m\u001b[1;33m.\u001b[0m\u001b[0mReader\u001b[0m\u001b[1;33m(\u001b[0m\u001b[0mfilename\u001b[0m\u001b[1;33m=\u001b[0m\u001b[0mvcf_fn\u001b[0m\u001b[1;33m)\u001b[0m\u001b[1;33m\u001b[0m\u001b[0m\n\u001b[1;32m---> 11\u001b[1;33m     \u001b[1;32mfor\u001b[0m \u001b[0mi\u001b[0m\u001b[1;33m,\u001b[0m\u001b[0mrecord\u001b[0m \u001b[1;32min\u001b[0m \u001b[0menumerate\u001b[0m\u001b[1;33m(\u001b[0m\u001b[0mvcf\u001b[0m\u001b[1;33m)\u001b[0m\u001b[1;33m:\u001b[0m\u001b[1;33m\u001b[0m\u001b[0m\n\u001b[0m\u001b[0;32m     12\u001b[0m         \u001b[0mpos\u001b[0m \u001b[1;33m=\u001b[0m \u001b[0mrecord\u001b[0m\u001b[1;33m.\u001b[0m\u001b[0mPOS\u001b[0m\u001b[1;33m-\u001b[0m\u001b[1;36m1\u001b[0m\u001b[1;33m\u001b[0m\u001b[0m\n\u001b[0;32m     13\u001b[0m         \u001b[0mseq_ls\u001b[0m\u001b[1;33m.\u001b[0m\u001b[0mappend\u001b[0m\u001b[1;33m(\u001b[0m\u001b[0mref_seq\u001b[0m\u001b[1;33m[\u001b[0m\u001b[0mrecord\u001b[0m\u001b[1;33m.\u001b[0m\u001b[0mCHROM\u001b[0m\u001b[1;33m]\u001b[0m\u001b[1;33m[\u001b[0m\u001b[0mprev_pos\u001b[0m\u001b[1;33m:\u001b[0m\u001b[0mpos\u001b[0m\u001b[1;33m]\u001b[0m\u001b[1;33m)\u001b[0m\u001b[1;33m\u001b[0m\u001b[0m\n",
        "\u001b[1;32m/home/GMI/hannes.svardal/.local/lib/python2.7/site-packages/PyVCF-0.6.4-py2.7.egg/vcf/parser.pyc\u001b[0m in \u001b[0;36mnext\u001b[1;34m(self)\u001b[0m\n\u001b[0;32m    560\u001b[0m \u001b[1;33m\u001b[0m\u001b[0m\n\u001b[0;32m    561\u001b[0m         \u001b[1;32mif\u001b[0m \u001b[0mfmt\u001b[0m \u001b[1;32mis\u001b[0m \u001b[1;32mnot\u001b[0m \u001b[0mNone\u001b[0m\u001b[1;33m:\u001b[0m\u001b[1;33m\u001b[0m\u001b[0m\n\u001b[1;32m--> 562\u001b[1;33m             \u001b[0msamples\u001b[0m \u001b[1;33m=\u001b[0m \u001b[0mself\u001b[0m\u001b[1;33m.\u001b[0m\u001b[0m_parse_samples\u001b[0m\u001b[1;33m(\u001b[0m\u001b[0mrow\u001b[0m\u001b[1;33m[\u001b[0m\u001b[1;36m9\u001b[0m\u001b[1;33m:\u001b[0m\u001b[1;33m]\u001b[0m\u001b[1;33m,\u001b[0m \u001b[0mfmt\u001b[0m\u001b[1;33m,\u001b[0m \u001b[0mrecord\u001b[0m\u001b[1;33m)\u001b[0m\u001b[1;33m\u001b[0m\u001b[0m\n\u001b[0m\u001b[0;32m    563\u001b[0m             \u001b[0mrecord\u001b[0m\u001b[1;33m.\u001b[0m\u001b[0msamples\u001b[0m \u001b[1;33m=\u001b[0m \u001b[0msamples\u001b[0m\u001b[1;33m\u001b[0m\u001b[0m\n\u001b[0;32m    564\u001b[0m \u001b[1;33m\u001b[0m\u001b[0m\n",
        "\u001b[1;32m/home/GMI/hannes.svardal/.local/lib/python2.7/site-packages/PyVCF-0.6.4-py2.7.egg/vcf/parser.pyc\u001b[0m in \u001b[0;36m_parse_samples\u001b[1;34m(self, samples, samp_fmt, site)\u001b[0m\n\u001b[0;32m    458\u001b[0m                     \u001b[1;32mif\u001b[0m \u001b[0mentry_type\u001b[0m \u001b[1;33m==\u001b[0m \u001b[1;34m'Integer'\u001b[0m\u001b[1;33m:\u001b[0m\u001b[1;33m\u001b[0m\u001b[0m\n\u001b[0;32m    459\u001b[0m                         \u001b[1;32mtry\u001b[0m\u001b[1;33m:\u001b[0m\u001b[1;33m\u001b[0m\u001b[0m\n\u001b[1;32m--> 460\u001b[1;33m                             \u001b[0msampdat\u001b[0m\u001b[1;33m[\u001b[0m\u001b[0mi\u001b[0m\u001b[1;33m]\u001b[0m \u001b[1;33m=\u001b[0m \u001b[0mint\u001b[0m\u001b[1;33m(\u001b[0m\u001b[0mvals\u001b[0m\u001b[1;33m)\u001b[0m\u001b[1;33m\u001b[0m\u001b[0m\n\u001b[0m\u001b[0;32m    461\u001b[0m                         \u001b[1;32mexcept\u001b[0m \u001b[0mValueError\u001b[0m\u001b[1;33m:\u001b[0m\u001b[1;33m\u001b[0m\u001b[0m\n\u001b[0;32m    462\u001b[0m                             \u001b[0msampdat\u001b[0m\u001b[1;33m[\u001b[0m\u001b[0mi\u001b[0m\u001b[1;33m]\u001b[0m \u001b[1;33m=\u001b[0m \u001b[0mfloat\u001b[0m\u001b[1;33m(\u001b[0m\u001b[0mvals\u001b[0m\u001b[1;33m)\u001b[0m\u001b[1;33m\u001b[0m\u001b[0m\n",
        "\u001b[1;31mKeyboardInterrupt\u001b[0m: "
       ]
      }
     ],
     "prompt_number": 15
    },
    {
     "cell_type": "code",
     "collapsed": false,
     "input": [
      "%%px --local\n",
      "out_fn = jn(ana_dir,\"UG_163_vs_ref3500_ancestral_seq_{}.fa\")\n",
      "def write_anc_fasta(chrom):\n",
      "    anc_seq = get_ancestral_seq(vcf_fn.format(chrom),ref_seq)\n",
      "    with open(out_fn.format(chrom),\"w\") as fa:\n",
      "        write_to_fasta(fa,chrom,anc_seq)"
     ],
     "language": "python",
     "metadata": {},
     "outputs": [],
     "prompt_number": 36
    },
    {
     "cell_type": "code",
     "collapsed": false,
     "input": [
      "chrom_fn_str = \" \".join([jn(ana_dir,\"UG_163_vs_ref3500_ancestral_seq_{}.fa\".format(chrom)) for chrom in chromosomes])"
     ],
     "language": "python",
     "metadata": {},
     "outputs": [],
     "prompt_number": 37
    },
    {
     "cell_type": "code",
     "collapsed": false,
     "input": [
      "anc_seqs"
     ],
     "language": "python",
     "metadata": {},
     "outputs": [
      {
       "metadata": {},
       "output_type": "pyout",
       "prompt_number": 21,
       "text": [
        "<AsyncMapResult: <lambda>>"
       ]
      }
     ],
     "prompt_number": 21
    },
    {
     "cell_type": "code",
     "collapsed": false,
     "input": [
      "anc_seqs = dview.map_async(lambda chrom: write_anc_fasta(chrom), chromosomes)"
     ],
     "language": "python",
     "metadata": {},
     "outputs": [],
     "prompt_number": 18
    },
    {
     "cell_type": "code",
     "collapsed": false,
     "input": [
      "%%bash -s \"$chrom_fn_str\" \"$ana_dir\"\n",
      "#join chromosome fasta files\n",
      "cd $2\n",
      "rm UG_163_vs_ref3500_ancestral_seq2.fa\n",
      "cat $1 >> UG_163_vs_ref3500_ancestral_seq2.fa \n",
      "#add scaffolds from original vcf\n",
      "tail -n +45735302 ~/vervet_project/data/reference/reference_3500/3500_indID1_codeVRC_ref_sequencer3_seqType1_filtered0_version6.fasta >>  UG_163_vs_ref3500_ancestral_seq2.fa "
     ],
     "language": "python",
     "metadata": {},
     "outputs": [],
     "prompt_number": 107
    },
    {
     "cell_type": "heading",
     "level": 3,
     "metadata": {},
     "source": [
      "second possibility, write line by line instead of reading everything in memory"
     ]
    },
    {
     "cell_type": "code",
     "collapsed": false,
     "input": [
      "%%px --local\n",
      "def write_ancestral_seq(vcf_fn, chrom,ref_seq, out_file, line_len):\n",
      "    \"\"\"\n",
      "    Write sequence fasta where for each snp the ancestral state is given.\n",
      "    Write N for all other sites.\n",
      "    \"\"\"\n",
      "    def line_write(handle,line_pos,string):\n",
      "\n",
      "        idx_last = 0\n",
      "        intervals = range(line_len-line_pos,len(string),line_len) + [len(string)]\n",
      "        \n",
      "        for i,idx in enumerate(intervals):\n",
      "            slice0 = string[idx_last:idx]\n",
      "            line_pos = line_pos + len(slice0)\n",
      "            handle.write(slice0)\n",
      "            if line_pos == line_len:\n",
      "                handle.write(\"\\n\")\n",
      "                line_pos = 0\n",
      "            idx_last=idx\n",
      "        return line_pos\n",
      "    \n",
      "    try:\n",
      "        out = open(out_file,\"w\") #if filename\n",
      "    except TypeError:\n",
      "        out = out_file #if file handle\n",
      "    line_pos = 0 # 1-based index\n",
      "    anc_state_count =0\n",
      "    prev_pos = 0\n",
      "    \n",
      "    out.write(\">{}\\n\".format(chrom))\n",
      "    vcf = vcftools.Reader(filename=vcf_fn)\n",
      "    for i,record in enumerate(vcf):\n",
      "        pos = record.POS-1\n",
      "        line_pos = line_write(out,line_pos,\"N\"*(pos-prev_pos))\n",
      "        try:\n",
      "            anc = record.INFO['AA']\n",
      "            allele = anc\n",
      "            anc_state_count += 1\n",
      "        except KeyError:\n",
      "            allele = \"N\"\n",
      "        line_pos = line_write(out,line_pos,allele)\n",
      "        prev_pos = pos + 1\n",
      "    line_pos = line_write(out,line_pos,\n",
      "                          \"N\"*(len(ref_seq[record.CHROM])-prev_pos))\n",
      "    print i,\"snps processed\"\n",
      "    print anc_state_count,\"have ancestral state info that is ref or alt\"\n",
      "    return (i,anc_state_count)"
     ],
     "language": "python",
     "metadata": {},
     "outputs": [],
     "prompt_number": 85
    },
    {
     "cell_type": "code",
     "collapsed": false,
     "input": [
      "%%px --local\n",
      "anc_state_N_fn = jn(ana_dir,\"UG_163_ref3500_anc_state_snp_rest_N_{}.fa\")"
     ],
     "language": "python",
     "metadata": {},
     "outputs": [],
     "prompt_number": 76
    },
    {
     "cell_type": "code",
     "collapsed": false,
     "input": [
      "anc_state_N_fns = \" \".join(anc_state_N_fn.format(chrom) for chrom in chromosomes)"
     ],
     "language": "python",
     "metadata": {},
     "outputs": [],
     "prompt_number": 72
    },
    {
     "cell_type": "code",
     "collapsed": false,
     "input": [
      "anc_seqs = dview.map_async(lambda chrom:write_ancestral_seq(vcf_fn.format(chrom), \n",
      "                                                            chrom,ref_seq,\n",
      "                                                            anc_state_N_fn.format(chrom),\n",
      "                                                            line_len=60), chromosomes)"
     ],
     "language": "python",
     "metadata": {},
     "outputs": [],
     "prompt_number": 86
    },
    {
     "cell_type": "code",
     "collapsed": false,
     "input": [
      "for r in anc_seqs:\n",
      "    print r"
     ],
     "language": "python",
     "metadata": {},
     "outputs": []
    },
    {
     "cell_type": "code",
     "collapsed": false,
     "input": [
      "anc_seqs.wait(5)"
     ],
     "language": "python",
     "metadata": {},
     "outputs": [],
     "prompt_number": 74
    },
    {
     "cell_type": "code",
     "collapsed": false,
     "input": [
      "%%bash -s \"$anc_state_N_fns\" \"$ana_dir\"\n",
      "#join chromosome fasta files\n",
      "cd $2\n",
      "#rm UG_163_vs_ref3500_ancestral_seq2.fa\n",
      "cat $1 > UG_163_ref3500_anc_state_snp_rest_N.fa \n",
      "#add scaffolds from original vcf\n",
      "tail -n +45735302 ~/vervet_project/data/reference/reference_3500/3500_indID1_codeVRC_ref_sequencer3_seqType1_filtered0_version6.fasta >>  UG_163_ref3500_anc_state_snp_rest_N.fa "
     ],
     "language": "python",
     "metadata": {},
     "outputs": [
      {
       "output_type": "stream",
       "stream": "stderr",
       "text": [
        "cat: /home/GMI/hannes.svardal/vervet_project/analyses/20140403_UnifiedGenotyper_ref3500_non_VRC/_data/UG_163_ref3500_anc_state_snp_rest_N_CAE2.fa: No such file or directory\n",
        "cat: /home/GMI/hannes.svardal/vervet_project/analyses/20140403_UnifiedGenotyper_ref3500_non_VRC/_data/UG_163_ref3500_anc_state_snp_rest_N_CAE4.fa: No such file or directory\n",
        "cat: /home/GMI/hannes.svardal/vervet_project/analyses/20140403_UnifiedGenotyper_ref3500_non_VRC/_data/UG_163_ref3500_anc_state_snp_rest_N_CAE6.fa: No such file or directory\n",
        "cat: /home/GMI/hannes.svardal/vervet_project/analyses/20140403_UnifiedGenotyper_ref3500_non_VRC/_data/UG_163_ref3500_anc_state_snp_rest_N_CAE8.fa: No such file or directory\n",
        "cat: /home/GMI/hannes.svardal/vervet_project/analyses/20140403_UnifiedGenotyper_ref3500_non_VRC/_data/UG_163_ref3500_anc_state_snp_rest_N_CAE10.fa: No such file or directory\n",
        "cat: /home/GMI/hannes.svardal/vervet_project/analyses/20140403_UnifiedGenotyper_ref3500_non_VRC/_data/UG_163_ref3500_anc_state_snp_rest_N_CAE12.fa: No such file or directory\n",
        "cat: /home/GMI/hannes.svardal/vervet_project/analyses/20140403_UnifiedGenotyper_ref3500_non_VRC/_data/UG_163_ref3500_anc_state_snp_rest_N_CAE14.fa: No such file or directory\n",
        "cat: /home/GMI/hannes.svardal/vervet_project/analyses/20140403_UnifiedGenotyper_ref3500_non_VRC/_data/UG_163_ref3500_anc_state_snp_rest_N_CAE16.fa: No such file or directory\n"
       ]
      }
     ],
     "prompt_number": 79
    },
    {
     "cell_type": "code",
     "collapsed": false,
     "input": [
      "!cat test456.fa"
     ],
     "language": "python",
     "metadata": {},
     "outputs": [
      {
       "output_type": "stream",
       "stream": "stdout",
       "text": [
        ">CAE1\r\n",
        "GTGAAAGAAGCCAAAAAGGCTACATACTGTATGATTCCAATTACGTGACATTTTGGAAAA\r\n",
        "GGGAAAATTACAAAGATAGTAAAACAATCAATAGTTGACAGGGGTTGGGGAGATTGGGGA\r\n",
        "GAGGAAAGGATGGATGGGCAGAGAGCCCCGGCTGTTTAGGGCAGTGAGACCACTGTGGGT\r\n",
        "GATTTCACCACAACGGTGGACCCACGACAGCGTGCAGATGCCCACACCCATTGAATTAA"
       ]
      }
     ],
     "prompt_number": 192
    },
    {
     "cell_type": "code",
     "collapsed": false,
     "input": [
      "teststrings = [\"kurz\",\"K\",\n",
      "               \"EinSEHRSEHRSEHRLAAAAAAAAAAAAAAAAAAAAAAAAAAAAAAAAAAAAAAAAAAAAAAAAAAAAAAAAAAAAAAA\"\n",
      "               \"AAAAAAAAAAAAAAAAAAAAAAAAAAAAAAAAAAAAAAAAAAAAANGERstring\",\"USW\",\"USF\"]"
     ],
     "language": "python",
     "metadata": {},
     "outputs": [],
     "prompt_number": 173
    },
    {
     "cell_type": "code",
     "collapsed": false,
     "input": [
      "def line_write(handle,line_pos,string,line_len=60):\n",
      "        \n",
      "    idx_last = 0\n",
      "    intervals = range(line_len-line_pos,len(string),line_len) + [len(string)] \n",
      "    #print intervals\n",
      "    for i,idx in enumerate(intervals):\n",
      "        slice0 = string[idx_last:idx]\n",
      "        line_pos = line_pos + len(slice0)\n",
      "        handle.write(slice0)\n",
      "        if line_pos == line_len:\n",
      "            handle.write(\"\\n\")\n",
      "            line_pos = 0\n",
      "        idx_last=idx\n",
      "    return line_pos"
     ],
     "language": "python",
     "metadata": {},
     "outputs": [],
     "prompt_number": 188
    },
    {
     "cell_type": "code",
     "collapsed": false,
     "input": [
      "line_pos = 0\n",
      "for string in teststrings:\n",
      "    line_pos = line_write(sys.stdout,line_pos,string)"
     ],
     "language": "python",
     "metadata": {},
     "outputs": [
      {
       "output_type": "stream",
       "stream": "stdout",
       "text": [
        "kurzKEinSEHRSEHRSEHRLAAAAAAAAAAAAAAAAAAAAAAAAAAAAAAAAAAAAAAA\n",
        "AAAAAAAAAAAAAAAAAAAAAAAAAAAAAAAAAAAAAAAAAAAAAAAAAAAAAAAAAAAA\n",
        "AAAAAAAAANGERstringUSWUSF"
       ]
      }
     ],
     "prompt_number": 189
    },
    {
     "cell_type": "code",
     "collapsed": false,
     "input": [],
     "language": "python",
     "metadata": {},
     "outputs": []
    }
   ],
   "metadata": {}
  }
 ]
}