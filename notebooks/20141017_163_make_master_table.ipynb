{
 "metadata": {
  "name": "",
  "signature": "sha256:b0e82447aca645da30d252447699154bcae24696c79647a2dcf78834548fa682"
 },
 "nbformat": 3,
 "nbformat_minor": 0,
 "worksheets": [
  {
   "cells": [
    {
     "cell_type": "code",
     "collapsed": false,
     "input": [
      "import os\n",
      "import pandas as pd\n",
      "import ast\n",
      "import numpy as np\n",
      "eu = os.path.expanduser\n",
      "jn = os.path.join"
     ],
     "language": "python",
     "metadata": {},
     "outputs": [],
     "prompt_number": 2
    },
    {
     "cell_type": "code",
     "collapsed": false,
     "input": [
      "meta_dir = eu(\"~/vervet_project/metadata\")"
     ],
     "language": "python",
     "metadata": {},
     "outputs": [],
     "prompt_number": 3
    },
    {
     "cell_type": "code",
     "collapsed": false,
     "input": [
      "read_mate_df = pd.read_csv(jn(meta_dir,\"163_population_unfiltered_read_mate_path.csv\"),index_col=0)\n",
      "read_mate_df_phred33 = pd.read_csv(jn(meta_dir,\"163_population_unfiltered_read_mate_path_phred33.csv\"),index_col=1)\n",
      "age_long_lat = pd.read_csv(jn(meta_dir,\"163_population_age_long_lat.csv\"),index_col=0,sep=\";\")\n",
      "phenotypes = pd.read_csv(jn(meta_dir,\"163_population_phenotypes.csv\"),index_col=0,sep=\";\")"
     ],
     "language": "python",
     "metadata": {},
     "outputs": [],
     "prompt_number": 7
    },
    {
     "cell_type": "code",
     "collapsed": false,
     "input": [
      "cov_df = pd.read_table(jn(meta_dir,\"163_vs_ref_3500_coverage.tsv\"),index_col=0)"
     ],
     "language": "python",
     "metadata": {},
     "outputs": [],
     "prompt_number": 8
    },
    {
     "cell_type": "code",
     "collapsed": false,
     "input": [
      "def reduce_to_individual(df):\n",
      "    \"\"\"\n",
      "    take df for single individual\n",
      "    \"\"\"\n",
      "    def reduce_libraries(df1):\n",
      "        \"\"\"\n",
      "        take df for single library in single indiviudal\n",
      "        \"\"\"\n",
      "        return {\"path_mate1_original\": list(df1[\"path_mate1\"]),\n",
      "                          \"path_mate2_original\": list(df1[\"path_mate2\"]),\n",
      "                          \"path_mate1_phred33\": list(df1[\"path_mate1_phred33\"]),\n",
      "                          \"path_mate2_phred33\": list(df1[\"path_mate2_phred33\"])\n",
      "                          }\n",
      "    #return reduce_libraries(df.groupby(\"library\"))\n",
      "    #print reduce_libraries(df.groupby(\"library\"))\n",
      "    #return\n",
      "    assert len(df[[\"name_txt\",\"name\",\"quality_score_format\"]].drop_duplicates())==1,\\\n",
      "                            \"individual has conflicting species or country names or 2 quality score formats\"\n",
      "    return pd.Series({\"library\":{k:v for k,v in df.groupby(\"library\").apply(reduce_libraries).iteritems()},\n",
      "                      \"species\":df[\"name_txt\"].ix[0],\n",
      "                      \"country\":df[\"name\"].ix[0],\n",
      "                      \"orig_quality_format\": \"phred33\" if df[\"quality_score_format\"].ix[0] == \"Standard\" else \"phred64\"\n",
      "                      })\n",
      "def phenotypes_to_dic(ind_df):\n",
      "    def convert_nan(value):\n",
      "        if np.isnan(value):\n",
      "            return str(value)\n",
      "        else:\n",
      "            return value\n",
      "    return {m:convert_nan(v) for m,v in zip(ind_df[\"short_name\"],ind_df[\"value\"])}"
     ],
     "language": "python",
     "metadata": {},
     "outputs": [],
     "prompt_number": 9
    },
    {
     "cell_type": "code",
     "collapsed": false,
     "input": [
      "read_mate_df[\"path_mate1_phred33\"] = read_mate_df_phred33[\"path_mate1\"]\n",
      "read_mate_df[\"path_mate2_phred33\"] = read_mate_df_phred33[\"path_mate2\"]\n",
      "master_table = read_mate_df.groupby(lambda x:x).apply(reduce_to_individual)\n",
      "master_table.index.names = [\"ucla_id\"]\n",
      "phen = phenotypes.groupby(lambda x:x).apply(phenotypes_to_dic)\n",
      "phen.name = \"phenotypes\"\n",
      "master_table = master_table.join(phen)\n",
      "master_table[\"phenotypes\"][master_table[\"phenotypes\"].isnull()] = \"{}\"\n",
      "master_table[age_long_lat.columns] = age_long_lat\n",
      "master_table[\"coverage\"] = cov_df.ix[\"mean_autosome\"][1:]\n",
      "c = list(master_table.columns.values)\n",
      "master_table = master_table[[c[0]] + c[2:] + [c[1]]]"
     ],
     "language": "python",
     "metadata": {},
     "outputs": [],
     "prompt_number": 10
    },
    {
     "cell_type": "code",
     "collapsed": false,
     "input": [
      "master_table.to_csv(jn(meta_dir,\"163_master_table.csv\"))"
     ],
     "language": "python",
     "metadata": {},
     "outputs": [],
     "prompt_number": 13
    },
    {
     "cell_type": "code",
     "collapsed": false,
     "input": [
      "def str_to_dic(s):\n",
      "    try:\n",
      "        return ast.literal_eval(s)\n",
      "    except ValueError:\n",
      "        print s\n",
      "        raise\n",
      "mt = pd.read_csv(jn(meta_dir,\"163_master_table.csv\"),\n",
      "                 index_col=0,\n",
      "                 converters={\"library\":str_to_dic,\"phenotypes\":str_to_dic}\n",
      "                 )\n",
      "#mt[\"library\"] = mt[\"library\"].apply(str_to_dic)\n",
      "#mt[\"phenotypes\"] = mt[\"phenotypes\"].apply(str_to_dic)"
     ],
     "language": "python",
     "metadata": {},
     "outputs": [],
     "prompt_number": 4
    },
    {
     "cell_type": "code",
     "collapsed": false,
     "input": [
      "population_dic = {'Barbados':\"sab\",\n",
      " 'Tanzania':\"pyn\",\n",
      " 'Central African Republic':\"tan\",\n",
      " 'Saint Kitts':\"sab\",\n",
      " 'Botswana':\"pys\",\n",
      " 'Ethiopia':\"aet\",\n",
      " 'Gambia':\"sab\",\n",
      " 'Ghana':\"sab\",\n",
      " 'Kenya':\"pyn\",\n",
      " 'South Africa':\"pys\",\n",
      " 'Nevis':\"sac\",\n",
      " 'Zambia':\"cyn\"}\n",
      "pop2_dic = {'Barbados':\"sac\",\n",
      " 'Tanzania':\"pyn\",\n",
      " 'Central African Republic':\"tan\",\n",
      " 'Saint Kitts':\"sac\",\n",
      " 'Botswana':\"pys\",\n",
      " 'Ethiopia':\"aet\",\n",
      " 'Gambia':\"sab\",\n",
      " 'Ghana':\"sab\",\n",
      " 'Kenya':\"pyn\",\n",
      " 'South Africa':\"pys\",\n",
      " 'Nevis':\"sac\",\n",
      " 'Zambia':\"cyn\"}\n",
      "pop3_dic = {'Barbados':\"sar\",\n",
      " 'Tanzania':\"pyn\",\n",
      " 'Central African Republic':\"tan\",\n",
      " 'Saint Kitts':\"sac\",\n",
      " 'Botswana':\"pys\",\n",
      " 'Ethiopia':\"aet\",\n",
      " 'Gambia':\"sab\",\n",
      " 'Ghana':\"sab\",\n",
      " 'Kenya':\"pyn\",\n",
      " 'South Africa':\"pys\",\n",
      " 'Nevis':\"sac\",\n",
      " 'Zambia':\"cyn\"}"
     ],
     "language": "python",
     "metadata": {},
     "outputs": [],
     "prompt_number": 5
    },
    {
     "cell_type": "code",
     "collapsed": false,
     "input": [],
     "language": "python",
     "metadata": {},
     "outputs": []
    },
    {
     "cell_type": "code",
     "collapsed": false,
     "input": [
      "mt[\"population\"] = mt[\"country\"].replace(population_dic)\n",
      "mt[\"pop2\"] = mt[\"country\"].replace(pop2_dic)\n",
      "mt[\"pop3\"] = mt[\"country\"].replace(pop3_dic)"
     ],
     "language": "python",
     "metadata": {},
     "outputs": [],
     "prompt_number": 6
    },
    {
     "cell_type": "code",
     "collapsed": false,
     "input": [
      "mt.to_csv(jn(meta_dir,\"163_master_table.csv\"))"
     ],
     "language": "python",
     "metadata": {},
     "outputs": [],
     "prompt_number": 7
    },
    {
     "cell_type": "code",
     "collapsed": false,
     "input": [
      "pop3_dic"
     ],
     "language": "python",
     "metadata": {},
     "outputs": [
      {
       "metadata": {},
       "output_type": "pyout",
       "prompt_number": 23,
       "text": [
        "{'Barbados': 'sar',\n",
        " 'Botswana': 'pys',\n",
        " 'Central African Republic': 'tan',\n",
        " 'Ethiopia': 'aet',\n",
        " 'Gambia': 'sab',\n",
        " 'Ghana': 'sab',\n",
        " 'Kenya': 'pyn',\n",
        " 'Nevis': 'sac',\n",
        " 'Saint Kitts': 'sac',\n",
        " 'South Africa': 'pys',\n",
        " 'Tanzania': 'pyn',\n",
        " 'Zambia': 'cyn'}"
       ]
      }
     ],
     "prompt_number": 23
    },
    {
     "cell_type": "code",
     "collapsed": false,
     "input": [
      "#markers for google master table\n",
      "marker_dict = {\"aet\":\"blu_circle\",\n",
      "               \"cyn\":\"pink_circle\",\n",
      "               \"pyn\":\"grn_circle\",\n",
      "               \"pys\":\"grn_circle\",\n",
      "               \"sab\":\"orange_circle\",\n",
      "               \"sac\":\"orange_circle\",\n",
      "               \"sar\":\"orange_circle\",\n",
      "               \"tan\":\"red_circle\"}"
     ],
     "language": "python",
     "metadata": {},
     "outputs": [],
     "prompt_number": 24
    },
    {
     "cell_type": "code",
     "collapsed": false,
     "input": [
      "mt[\"pop_marker\"] = mt[\"pop3\"].replace(marker_dict)"
     ],
     "language": "python",
     "metadata": {},
     "outputs": [],
     "prompt_number": 27
    },
    {
     "cell_type": "code",
     "collapsed": false,
     "input": [
      "mt.to_csv(jn(meta_dir,\"163_master_table.csv\"))"
     ],
     "language": "python",
     "metadata": {},
     "outputs": [],
     "prompt_number": 28
    },
    {
     "cell_type": "code",
     "collapsed": false,
     "input": [
      "c = list(mt.columns)\n",
      "c.remove(\"library\")\n",
      "mt[c].to_csv(jn(meta_dir,\"163_master_table_excl_library.csv\"))"
     ],
     "language": "python",
     "metadata": {},
     "outputs": [],
     "prompt_number": 30
    },
    {
     "cell_type": "code",
     "collapsed": false,
     "input": [
      "mt.groupby(\"pop3\").apply(len)"
     ],
     "language": "python",
     "metadata": {},
     "outputs": [
      {
       "metadata": {},
       "output_type": "pyout",
       "prompt_number": 31,
       "text": [
        "pop3\n",
        "aet     16\n",
        "cyn     16\n",
        "pyn      6\n",
        "pys     51\n",
        "sab     24\n",
        "sac     34\n",
        "sar      5\n",
        "tan     11\n",
        "dtype: int64"
       ]
      }
     ],
     "prompt_number": 31
    },
    {
     "cell_type": "code",
     "collapsed": false,
     "input": [],
     "language": "python",
     "metadata": {},
     "outputs": []
    }
   ],
   "metadata": {}
  }
 ]
}