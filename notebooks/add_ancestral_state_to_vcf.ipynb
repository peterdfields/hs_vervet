{
 "metadata": {
  "name": "add_ancestral_state_to_vcf"
 },
 "nbformat": 3,
 "nbformat_minor": 0,
 "worksheets": [
  {
   "cells": [
    {
     "cell_type": "code",
     "collapsed": false,
     "input": [
      "import os,sys\n",
      "import numpy as np\n",
      "#needs pandas vqersion >=0.12 to support regex replace\n",
      "import pandas as pd\n",
      "import vcf"
     ],
     "language": "python",
     "metadata": {},
     "outputs": [],
     "prompt_number": 7
    },
    {
     "cell_type": "code",
     "collapsed": false,
     "input": [
      "anc_df_fn = os.path.expanduser('~/workspace/hs_vervet/scripts/GATK_UnifiedGenotyper_5_10X_individuals_CAE28_callable_filter_macaque_state.tsv')"
     ],
     "language": "python",
     "metadata": {},
     "outputs": [],
     "prompt_number": 8
    },
    {
     "cell_type": "code",
     "collapsed": false,
     "input": [
      "anc_df = pd.read_csv(anc_df_fn,sep='\\t',index_col=0)"
     ],
     "language": "python",
     "metadata": {},
     "outputs": [],
     "prompt_number": 9
    },
    {
     "cell_type": "code",
     "collapsed": false,
     "input": [
      "vcf_reader = vcf.Reader(filename=os.path.expanduser('~/vervet_project/analyses/20131118_SNP_calling_10X_individuals_GATK/_data/GATK_UnifiedGenotyper_5_10X_individuals_CAE28_callable_filter.vcf'))"
     ],
     "language": "python",
     "metadata": {},
     "outputs": [],
     "prompt_number": 127
    },
    {
     "cell_type": "code",
     "collapsed": false,
     "input": [
      "vcf_reader.infos.update({'AA':vcf.parser._Info('AA', '1', 'String', 'Ancestral Allele')})\n",
      "vcf_writer = vcf.Writer(open('vcf_ancestral.vcf', 'w'), vcf_reader)"
     ],
     "language": "python",
     "metadata": {},
     "outputs": [],
     "prompt_number": 128
    },
    {
     "cell_type": "code",
     "collapsed": false,
     "input": [
      "for record in vcf_reader:\n",
      "    i+=1\n",
      "    try:\n",
      "        aa = anc_df.loc[record.POS-1]['macaque']\n",
      "        if type(aa)==str:\n",
      "            record.INFO.update({'AA':aa})\n",
      "    except KeyError:\n",
      "        pass\n",
      "    vcf_writer.write_record(record)\n",
      "vcf_writer.flush()\n",
      "vcf_writer.close()"
     ],
     "language": "python",
     "metadata": {},
     "outputs": [],
     "prompt_number": 129
    },
    {
     "cell_type": "code",
     "collapsed": false,
     "input": [],
     "language": "python",
     "metadata": {},
     "outputs": []
    }
   ],
   "metadata": {}
  }
 ]
}