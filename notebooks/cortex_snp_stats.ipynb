{
 "metadata": {
  "name": "cortex_snp_stats"
 },
 "nbformat": 3,
 "nbformat_minor": 0,
 "worksheets": [
  {
   "cells": [
    {
     "cell_type": "code",
     "collapsed": false,
     "input": [
      "%load_ext autoreload\n",
      "%autoreload 2\n",
      "\n",
      "import os, sys\n",
      "sys.path.insert(0, os.path.expanduser('~/lib/python'))\n",
      "sys.path.insert(0, os.path.join(os.path.expanduser('~/script')))\n",
      "import vcf\n",
      "import pandas as pd\n",
      "import hs_vervet.tools.hs_vervet_basics as hvb"
     ],
     "language": "python",
     "metadata": {},
     "outputs": [],
     "prompt_number": 24
    },
    {
     "cell_type": "code",
     "collapsed": false,
     "input": [
      "chrom=\"CAE1\"\n",
      "fname=os.path.expanduser(\"~/vervet_data/data/hs_format/cortex/cortex_african_sabaeus_{}.tsv\".format(chrom))\n",
      "meta_fname=os.path.expanduser(\"~/vervet_data/data/hs_format/cortex/cortex_african_sabaeus_{}_metadata.tsv\".format(chrom))"
     ],
     "language": "python",
     "metadata": {},
     "outputs": [],
     "prompt_number": 25
    },
    {
     "cell_type": "code",
     "collapsed": false,
     "input": [
      "gen_df=hvb.read_genotype(fname)\n",
      "meta_df=hvb.read_metadata(meta_fname)\n"
     ],
     "language": "python",
     "metadata": {},
     "outputs": [],
     "prompt_number": 31
    },
    {
     "cell_type": "code",
     "collapsed": false,
     "input": [
      "gen_df.columns.values"
     ],
     "language": "python",
     "metadata": {},
     "outputs": [
      {
       "output_type": "pyout",
       "prompt_number": 67,
       "text": [
        "array([('VGA00002', 0), ('VGA00002', 1), ('VGA00006', 0), ('VGA00006', 1),\n",
        "       ('VGA00010', 0), ('VGA00010', 1), ('VGA00019', 0), ('VGA00019', 1),\n",
        "       ('VGA00021', 0), ('VGA00021', 1), ('VGA00025', 0), ('VGA00025', 1),\n",
        "       ('VGA00085', 0), ('VGA00085', 1), ('VGA00090', 0), ('VGA00090', 1),\n",
        "       ('VGA00092', 0), ('VGA00092', 1), ('VGA00098', 0), ('VGA00098', 1),\n",
        "       ('VGA00100', 0), ('VGA00100', 1), ('VGA00101', 0), ('VGA00101', 1),\n",
        "       ('VGA00107', 0), ('VGA00107', 1), ('VGA00114', 0), ('VGA00114', 1),\n",
        "       ('VGA00138', 0), ('VGA00138', 1), ('VGA00142', 0), ('VGA00142', 1),\n",
        "       ('VGA00146', 0), ('VGA00146', 1), ('VGA00151', 0), ('VGA00151', 1),\n",
        "       ('VGA00152', 0), ('VGA00152', 1), ('VGA00153', 0), ('VGA00153', 1),\n",
        "       ('VGA00155', 0), ('VGA00155', 1), ('VGA00156', 0), ('VGA00156', 1)], dtype=object)"
       ]
      }
     ],
     "prompt_number": 67
    },
    {
     "cell_type": "code",
     "collapsed": false,
     "input": [
      "meta_df.head()"
     ],
     "language": "python",
     "metadata": {},
     "outputs": [
      {
       "html": [
        "<div style=\"max-height:1000px;max-width:1500px;overflow:auto;\">\n",
        "<table border=\"1\" class=\"dataframe\">\n",
        "  <thead>\n",
        "    <tr style=\"text-align: right;\">\n",
        "      <th></th>\n",
        "      <th>CHROM</th>\n",
        "      <th>POS</th>\n",
        "      <th>ID</th>\n",
        "      <th>REF</th>\n",
        "      <th>ALT</th>\n",
        "    </tr>\n",
        "  </thead>\n",
        "  <tbody>\n",
        "    <tr>\n",
        "      <th>1879</th>\n",
        "      <td> CAE1</td>\n",
        "      <td> 1879</td>\n",
        "      <td> var_1940192</td>\n",
        "      <td> [A]</td>\n",
        "      <td> [G]</td>\n",
        "    </tr>\n",
        "    <tr>\n",
        "      <th>1915</th>\n",
        "      <td> CAE1</td>\n",
        "      <td> 1915</td>\n",
        "      <td> var_3019303</td>\n",
        "      <td> [T]</td>\n",
        "      <td> [C]</td>\n",
        "    </tr>\n",
        "    <tr>\n",
        "      <th>3692</th>\n",
        "      <td> CAE1</td>\n",
        "      <td> 3692</td>\n",
        "      <td> var_4761202</td>\n",
        "      <td> [A]</td>\n",
        "      <td> [G]</td>\n",
        "    </tr>\n",
        "    <tr>\n",
        "      <th>4404</th>\n",
        "      <td> CAE1</td>\n",
        "      <td> 4404</td>\n",
        "      <td> var_7643431</td>\n",
        "      <td> [C]</td>\n",
        "      <td> [T]</td>\n",
        "    </tr>\n",
        "    <tr>\n",
        "      <th>4531</th>\n",
        "      <td> CAE1</td>\n",
        "      <td> 4531</td>\n",
        "      <td> var_1814618</td>\n",
        "      <td> [A]</td>\n",
        "      <td> [G]</td>\n",
        "    </tr>\n",
        "  </tbody>\n",
        "</table>\n",
        "</div>"
       ],
       "output_type": "pyout",
       "prompt_number": 32,
       "text": [
        "     CHROM   POS           ID  REF  ALT\n",
        "1879  CAE1  1879  var_1940192  [A]  [G]\n",
        "1915  CAE1  1915  var_3019303  [T]  [C]\n",
        "3692  CAE1  3692  var_4761202  [A]  [G]\n",
        "4404  CAE1  4404  var_7643431  [C]  [T]\n",
        "4531  CAE1  4531  var_1814618  [A]  [G]"
       ]
      }
     ],
     "prompt_number": 32
    },
    {
     "cell_type": "code",
     "collapsed": false,
     "input": [
      "variants = len(meta_df)\n",
      "print \"# variants:\", variants\n",
      "snps = ((meta_df['REF'].apply(len)==1)*(meta_df['ALT'].apply(len)==1))\n",
      "print \"# snps:\", snps.sum()\n",
      "deletions=(meta_df['REF'].apply(len)>1)\n",
      "print \"# deletions:\", deletions.sum()\n",
      "insertions = (meta_df['ALT'].apply(len)>1)\n",
      "print \"# insertions:\", insertions.sum()\n",
      "insertion_deletions=((meta_df['REF'].apply(len)>1)*(meta_df['ALT'].apply(len)>1))\n",
      "print \"# insertion-deletions\", insertion_deletions.sum()\n",
      "print (snps + deletions + insertions - insertion_deletions).sum()"
     ],
     "language": "python",
     "metadata": {},
     "outputs": [
      {
       "output_type": "stream",
       "stream": "stdout",
       "text": [
        "# variants: 393224\n",
        "# snps:"
       ]
      },
      {
       "output_type": "stream",
       "stream": "stdout",
       "text": [
        " 359861\n",
        "# deletions:"
       ]
      },
      {
       "output_type": "stream",
       "stream": "stdout",
       "text": [
        " 19740\n",
        "# insertions:"
       ]
      },
      {
       "output_type": "stream",
       "stream": "stdout",
       "text": [
        " 14141\n",
        "# insertion-deletions"
       ]
      },
      {
       "output_type": "stream",
       "stream": "stdout",
       "text": [
        " 518\n",
        "392706\n"
       ]
      }
     ],
     "prompt_number": 55
    },
    {
     "cell_type": "code",
     "collapsed": false,
     "input": [
      "meta_df['ALT'].apply(len).argmax()"
     ],
     "language": "python",
     "metadata": {},
     "outputs": [
      {
       "output_type": "pyout",
       "prompt_number": 47,
       "text": [
        "350269"
       ]
      }
     ],
     "prompt_number": 47
    },
    {
     "cell_type": "code",
     "collapsed": false,
     "input": [
      "print \"insertion size distribution\"\n",
      "hist(meta_df['ALT'].apply(len),bins=[1,2,4,6,8])"
     ],
     "language": "python",
     "metadata": {},
     "outputs": [
      {
       "output_type": "stream",
       "stream": "stdout",
       "text": [
        "insertion size distribution\n"
       ]
      },
      {
       "output_type": "pyout",
       "prompt_number": 52,
       "text": [
        "(array([379083,  10273,   2167,    772]),\n",
        " array([1, 2, 4, 6, 8]),\n",
        " <a list of 4 Patch objects>)"
       ]
      },
      {
       "output_type": "display_data",
       "png": "[encoded data removed]"
      }
     ],
     "prompt_number": 52
    },
    {
     "cell_type": "code",
     "collapsed": false,
     "input": [
      "print \"deletion size distribution\"\n",
      "hist(meta_df['REF'].apply(len),bins=[1,2,4,6,8])"
     ],
     "language": "python",
     "metadata": {},
     "outputs": [
      {
       "output_type": "stream",
       "stream": "stdout",
       "text": [
        "deletion size distribution\n"
       ]
      },
      {
       "output_type": "pyout",
       "prompt_number": 53,
       "text": [
        "(array([373484,  12032,   4509,   1538]),\n",
        " array([1, 2, 4, 6, 8]),\n",
        " <a list of 4 Patch objects>)"
       ]
      },
      {
       "output_type": "display_data",
       "png": "[encoded data removed]"
      }
     ],
     "prompt_number": 53
    },
    {
     "cell_type": "code",
     "collapsed": false,
     "input": [
      "print \"snp afs\"\n",
      "gen_df[snps].mean(axis=1).hist()"
     ],
     "language": "python",
     "metadata": {},
     "outputs": [
      {
       "output_type": "pyout",
       "prompt_number": 62,
       "text": [
        "<matplotlib.axes.AxesSubplot at 0x88e5fd0>"
       ]
      },
      {
       "output_type": "display_data",
       "png": "[encoded data removed]"
      }
     ],
     "prompt_number": 62
    },
    {
     "cell_type": "code",
     "collapsed": false,
     "input": [
      "print \"deletions afs\"\n",
      "gen_df[deletions].mean(axis=1).hist()"
     ],
     "language": "python",
     "metadata": {},
     "outputs": [
      {
       "output_type": "stream",
       "stream": "stdout",
       "text": [
        "deletions afs\n"
       ]
      },
      {
       "output_type": "pyout",
       "prompt_number": 64,
       "text": [
        "<matplotlib.axes.AxesSubplot at 0x76ab7d0>"
       ]
      },
      {
       "output_type": "display_data",
       "png": "[encoded data removed]"
      }
     ],
     "prompt_number": 64
    },
    {
     "cell_type": "code",
     "collapsed": false,
     "input": [
      "print \"insertion afs\"\n",
      "gen_df[insertions].mean(axis=1).hist()"
     ],
     "language": "python",
     "metadata": {},
     "outputs": [
      {
       "output_type": "stream",
       "stream": "stdout",
       "text": [
        "insertion afs\n"
       ]
      },
      {
       "output_type": "pyout",
       "prompt_number": 63,
       "text": [
        "<matplotlib.axes.AxesSubplot at 0x84b4ed0>"
       ]
      },
      {
       "output_type": "display_data",
       "png": "[encoded data removed]"
      }
     ],
     "prompt_number": 63
    },
    {
     "cell_type": "code",
     "collapsed": false,
     "input": [],
     "language": "python",
     "metadata": {},
     "outputs": [
      {
       "output_type": "pyout",
       "prompt_number": 18,
       "text": [
        "['[', 'A', ']']"
       ]
      }
     ],
     "prompt_number": 18
    },
    {
     "cell_type": "code",
     "collapsed": false,
     "input": [
      "meta_df['ALT'].iloc[meta_df['ALT'].apply(lambda x: len(x)).argmax()]"
     ],
     "language": "python",
     "metadata": {},
     "outputs": [
      {
       "output_type": "pyout",
       "prompt_number": 23,
       "text": [
        "'[GCCCTCTGCCTCCATCAGGGGTTTTGCTCCTTAGTTATCATTTTTTTCCTCATAAGTATATTTTATATCTCCTTGTTTAGTGGAGCTTTACTTGATTTACTTCTGTCCAATCACAATCCAGTCTTCTTGATATTGAAAATAAATCTTCATTTGAGTTTGCTCTTTTTCTAGTAATTCTTTCCTTTTACTTTCTACCTCATTTGTCTAGATGTACTGCCTCTGCTGTGACATTACCCATATCTCTTCAATCCCCTGATATCCAGCTGTGTCTCCTTTAGTCCACTGATAGACAATGTCAGCGGCCCATTCCGATCCCATCTTTATCAATTTCTCCTTAAGTCCCCTGAGGCCTATGCCGTGTGGCACTTTCTAAGTCTTTTCCAAGTTTCTCTGGCTGTTGCTCATCTGGGTCTCCCAGGCTTCTTTTTCTTGTCCTTCTCCTAAAATATGCACATGCCTCAATAATCAGAGCTGACATTTATTGAGTACTTATTGTGCATTTTAATCCTCCCATCAACCCTATAAACCAGGTACATTAATCGTTTCATTTTATAGAGGAAGGACCCAAGGCTCAGGGAGCTGGTGGGTGTCAAATCGTGATCTGCTTTGTCTGACTGTAGATTCAAGCACTTAACCATCTGCTCTGTTGCCCAAGGTTTGGTTGTCTGATCTCAATCCCTTGCTCTTTTACTATTGTACAGATCTCACAACATCTGCATGTCCCATCAGACTCAAGCCTCAAATGTGCTGTACTGATGAGCTGACCACCCTCGTTCCAGTTCCTTGTCCTGACTTCTGTCATAGATCCACTGTTTTCCCCAGGACAAAGGCCTCACCCTTAGAACCTTCTTCTCTTTTCTTAGCTCACCTTTCTCAGTCCTTCATTCTACTGGACACTAGGCCTTACCATATTTCTTTCATGAAGTCTCTTGAATATTTTCCAAAATTTTTTTCTCACTACTGTTCCCTTAGTTTAGATACTGTAACAGACCCTTATTGGAACTAATACAGCATACTATTATCTTCTTACTCCCTACTCCTGCTGTTGCTTCCCACCTAGTTTACTCTGTTCATC]'"
       ]
      }
     ],
     "prompt_number": 23
    },
    {
     "cell_type": "code",
     "collapsed": false,
     "input": [
      "x='ASD'"
     ],
     "language": "python",
     "metadata": {},
     "outputs": [],
     "prompt_number": 19
    },
    {
     "cell_type": "code",
     "collapsed": false,
     "input": [
      "y=x.replace('A','')"
     ],
     "language": "python",
     "metadata": {},
     "outputs": [],
     "prompt_number": 20
    },
    {
     "cell_type": "code",
     "collapsed": false,
     "input": [
      "y"
     ],
     "language": "python",
     "metadata": {},
     "outputs": [
      {
       "output_type": "pyout",
       "prompt_number": 21,
       "text": [
        "'SD'"
       ]
      }
     ],
     "prompt_number": 21
    },
    {
     "cell_type": "code",
     "collapsed": false,
     "input": [
      "import math\n",
      "def f(n):\n",
      "    L=3*10.**9\n",
      "    return 1-((4**n-1.)/4**n)**L\n",
      "plot(range(10,26),[math.log(f(i),10) for i in range(10,26)])"
     ],
     "language": "python",
     "metadata": {},
     "outputs": [
      {
       "output_type": "pyout",
       "prompt_number": 80,
       "text": [
        "[<matplotlib.lines.Line2D at 0x14174f50>]"
       ]
      },
      {
       "output_type": "display_data",
       "png": "[encoded data removed]"
      }
     ],
     "prompt_number": 80
    },
    {
     "cell_type": "code",
     "collapsed": false,
     "input": [],
     "language": "python",
     "metadata": {},
     "outputs": []
    }
   ],
   "metadata": {}
  }
 ]
}