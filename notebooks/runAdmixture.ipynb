{
 "metadata": {
  "name": "runAdmixture"
 },
 "nbformat": 3,
 "nbformat_minor": 0,
 "worksheets": [
  {
   "cells": [
    {
     "cell_type": "code",
     "collapsed": false,
     "input": [
      "%load_ext autoreload\n",
      "%autoreload 2\n",
      "from init_vervet_nb import *\n",
      "import pandas as pd"
     ],
     "language": "python",
     "metadata": {},
     "outputs": [],
     "prompt_number": 1
    },
    {
     "cell_type": "code",
     "collapsed": false,
     "input": [
      "from vervet.src.hs_scripts import runAdmixture as rA\n",
      "reload(rA)"
     ],
     "language": "python",
     "metadata": {},
     "outputs": [
      {
       "output_type": "stream",
       "stream": "stdout",
       "text": [
        "<type 'numpy.string_'>\n",
        "<type 'numpy.string_'>\n"
       ]
      },
      {
       "output_type": "pyout",
       "prompt_number": 25,
       "text": [
        "<module 'vervet.src.hs_scripts.runAdmixture' from '/home/GMI/hannes.svardal/script/vervet/src/hs_scripts/runAdmixture.pyc'>"
       ]
      }
     ],
     "prompt_number": 25
    },
    {
     "cell_type": "code",
     "collapsed": false,
     "input": [
      "df=rA.getDF(\"Contig917\")"
     ],
     "language": "python",
     "metadata": {},
     "outputs": [
      {
       "output_type": "stream",
       "stream": "stderr",
       "text": [
        "Contig917: 11739 loci in 114 individuals outputted.\n"
       ]
      }
     ],
     "prompt_number": 4
    },
    {
     "cell_type": "code",
     "collapsed": false,
     "input": [
      "df_non_private=rA.getDF_non_private(\"Contig917\",rA.ucla_ids_ls)"
     ],
     "language": "python",
     "metadata": {},
     "outputs": [
      {
       "output_type": "stream",
       "stream": "stderr",
       "text": [
        "Contig917: 11739 loci in 114 individuals outputted.\n"
       ]
      }
     ],
     "prompt_number": 6
    },
    {
     "cell_type": "code",
     "collapsed": false,
     "input": [
      "df"
     ],
     "language": "python",
     "metadata": {},
     "outputs": [
      {
       "html": [
        "<pre>\n",
        "&ltclass 'pandas.core.frame.DataFrame'&gt\n",
        "Int64Index: 11338 entries, 124 to 728373\n",
        "Columns: 228 entries, VEB1011.0 to VEC1016.1\n",
        "dtypes: float64(228)\n",
        "</pre>"
       ],
       "output_type": "pyout",
       "prompt_number": 7,
       "text": [
        "<class 'pandas.core.frame.DataFrame'>\n",
        "Int64Index: 11338 entries, 124 to 728373\n",
        "Columns: 228 entries, VEB1011.0 to VEC1016.1\n",
        "dtypes: float64(228)"
       ]
      }
     ],
     "prompt_number": 7
    },
    {
     "cell_type": "code",
     "collapsed": false,
     "input": [
      "3./16"
     ],
     "language": "python",
     "metadata": {},
     "outputs": [
      {
       "output_type": "pyout",
       "prompt_number": 9,
       "text": [
        "0.1875"
       ]
      }
     ],
     "prompt_number": 9
    },
    {
     "cell_type": "code",
     "collapsed": false,
     "input": [
      "11000*0.2"
     ],
     "language": "python",
     "metadata": {},
     "outputs": [
      {
       "output_type": "pyout",
       "prompt_number": 10,
       "text": [
        "2200.0"
       ]
      }
     ],
     "prompt_number": 10
    },
    {
     "cell_type": "code",
     "collapsed": false,
     "input": [
      "import pyfasta"
     ],
     "language": "python",
     "metadata": {},
     "outputs": [],
     "prompt_number": 1
    },
    {
     "cell_type": "code",
     "collapsed": false,
     "input": [
      "pyfasta.Fasta?"
     ],
     "language": "python",
     "metadata": {},
     "outputs": [],
     "prompt_number": 3
    },
    {
     "cell_type": "code",
     "collapsed": false,
     "input": [],
     "language": "python",
     "metadata": {},
     "outputs": []
    }
   ],
   "metadata": {}
  }
 ]
}