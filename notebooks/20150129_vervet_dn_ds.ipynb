{
 "cells": [
  {
   "cell_type": "code",
   "execution_count": 1,
   "metadata": {
    "collapsed": false
   },
   "outputs": [],
   "source": [
    "%matplotlib inline"
   ]
  },
  {
   "cell_type": "code",
   "execution_count": 2,
   "metadata": {
    "collapsed": false
   },
   "outputs": [],
   "source": [
    "#parallel\n",
    "from ipyparallel import Client\n",
    "rc = Client(profile=\"default\")\n",
    "dview = rc[:] # use all engines\n",
    "lv = rc.load_balanced_view()"
   ]
  },
  {
   "cell_type": "code",
   "execution_count": 3,
   "metadata": {
    "collapsed": false
   },
   "outputs": [],
   "source": [
    "%%px --local\n",
    "import os\n",
    "import numpy as np\n",
    "import pandas as pd\n",
    "import vcf, pyfasta\n",
    "chromosomes = [\"CAE\" + str(i) for i in range(1,30) + [\"X\"] + ['Y'] ]\n",
    "eu = os.path.expanduser\n",
    "jn = os.path.join\n",
    "var_ana_dir = eu(\"~/vervet_project/analyses/20140403_UnifiedGenotyper_ref3500_non_VRC/_data\")\n",
    "meta_dir = eu(\"~/vervet_project/metadata\")\n",
    "gene_df_ensembl = pd.read_csv(jn(meta_dir,\"annot_ensemble_1.1.77_genes.tsv\"),sep=\"\\t\",index_col=[0,1])\n",
    "gene_df_ensembl_CDS = pd.read_csv(jn(meta_dir,\"annot_ensemble_1.1.77_CDS.tsv\"),sep=\"\\t\",index_col=[0,1])\n",
    "mac_seq = pyfasta.Fasta(eu(\"~/vervet_project/data/other_species/Macaca_mulatta/CR_1.0_in_vervet_coord_ref3500.fa\"))"
   ]
  },
  {
   "cell_type": "code",
   "execution_count": 4,
   "metadata": {
    "collapsed": false
   },
   "outputs": [],
   "source": [
    "gene_df_ensembl['gene_name'].to_csv(jn(meta_dir,'annot_ensemble_1.1.77_gene_names.txt'),index=False)"
   ]
  },
  {
   "cell_type": "markdown",
   "metadata": {},
   "source": [
    "## Approach extracting vervet SNPs and macaque differences (specially prepared VCF that includes differences)"
   ]
  },
  {
   "cell_type": "code",
   "execution_count": 517,
   "metadata": {
    "collapsed": false
   },
   "outputs": [],
   "source": [
    "%%px --local\n",
    "def get_gen_df(chrom):\n",
    "    \"\"\"\n",
    "    get 0,1,2 genotype data frame\n",
    "    \"\"\"\n",
    "    fn = jn(var_ana_dir,\"UGr_163_ref3500_ref_alt_{}_2.012\".format(chrom))\n",
    "    df = pd.read_csv(fn,index_col=[0,1],sep=\"\\t\",na_values=\"N\")\n",
    "    return df.astype(np.float16)\n",
    "\n",
    "\n",
    "\n",
    "def coding_variants_per_gene(gen_df,gene_df):\n",
    "    \"\"\"\n",
    "    Get the variants in gen_df which lie within a feature\n",
    "    (e.g. gene) in gene_df.\n",
    "    Input:\n",
    "    gen_df... rod such as SNP genotypes\n",
    "    gene_df... index must be (chrom,feature_name), must have columns 'start', 'end'\n",
    "    \"\"\"\n",
    "    gene_hit_df = pd.DataFrame()\n",
    "    for chrom in gen_df.index.droplevel(1).unique():\n",
    "        pos_rel_to_start = gene_df.ix[chrom]['start'].searchsorted(gen_df.ix[chrom].index)\n",
    "        pos_rel_to_end = np.searchsorted(gene_df.ix[chrom][\"end\"].values,gen_df.ix[chrom].index.values)\n",
    "        in_gene = (pos_rel_to_start - pos_rel_to_end) == 1\n",
    "        gene_id = gene_df.ix[chrom].iloc[pos_rel_to_end[in_gene]].index\n",
    "        snp_df = gen_df.ix[chrom][in_gene]\n",
    "        snp_df['chrom'] = chrom\n",
    "        snp_df['gene_id'] = gene_id\n",
    "        snp_df.set_index(['chrom','gene_id'],append=True,inplace=True)\n",
    "        snp_df = snp_df.reorder_levels(['chrom', 'gene_id','pos'])\n",
    "        gene_hit_df = gene_hit_df.append(snp_df)\n",
    "    return gene_hit_df\n",
    "\n",
    "def add_effect(eff_dic,effect):\n",
    "    try:\n",
    "        eff_dic[effect] += 1\n",
    "    except KeyError:\n",
    "        eff_dic[effect] = 1\n",
    "\n",
    "def get_snp_annotation(gene_id, gene_df, snp_df, outgroup_fasta, vcfr):\n",
    "    \"\"\"\n",
    "        missing alignments must be coded as 'N' in outgroup_fasta\n",
    "    \"\"\"\n",
    "    prev_pos = [\"CAE0\",0]\n",
    "    bases = ['A','C','G','T']\n",
    "    no_var = ['.','X',None]\n",
    "    try:\n",
    "        snp_index = snp_df.xs(gene_id,level=1,drop_level=False).index\n",
    "    except KeyError:\n",
    "        snp_index = []\n",
    "    \n",
    "    exon_df = gene_df.xs(gene_id,level=1,drop_level=False)\n",
    "    snp_eff_df = pd.DataFrame(columns=['ref','alt','AA','impact','effect'],\n",
    "                              index=snp_index)\n",
    "    #snp_df = snp_df.xs(gene_id,level=1)\n",
    "    coding_sites = 0\n",
    "    coding_outgroup_align = 0 \n",
    "    outgroup_effect = {}#{'syn':0,'ns':0}\n",
    "    outgroup_impact = {}#{'syn':0,'ns':0}\n",
    "    filter_stats = {'filter_snp':0,'filter_no_snp':0}\n",
    "    \n",
    "    for exon in exon_df.itertuples():\n",
    "        (chrom, id), start, end, name, type0 = exon\n",
    "        #print chrom, id, start, end, name, type0\n",
    "        outgroup_str = outgroup_fasta[start-1:end-1].upper()\n",
    "        coding_outgroup_align += len(outgroup_str) - outgroup_str.count('N')\n",
    "        ex_vcf = vcfr.fetch(chrom,start,end)\n",
    "        for record in ex_vcf:\n",
    "            if prev_pos == [record.CHROM,record.POS]: #skip multiple entries\n",
    "                continue\n",
    "            coding_sites += 1\n",
    "            if len(record.ALT) == 1 and record.ALT[0] in bases: #check whether SNP (in vervet) or diff to macaque\n",
    "                #add_effect(var_dic,record.INFO[\"ANN\"][0].split('|')[1])\n",
    "                ann = record.INFO['ANN']\n",
    "                #if len(ann)!=1:\n",
    "                #    print record.ALT\n",
    "                #    print ann\n",
    "                #wont work there are biallelic SNPs (filtered)\n",
    "                ann_ls = ann[0].split('|')\n",
    "                #'ANN': ['|intergenic_region|MODIFIER|ENSCSAG00000018297|ENSCSAG00000018297|intergenic_region|ENSCSAG00000018297|||n.||||||']\n",
    "                try: #snp in vervet?\n",
    "                    af = record.INFO[\"AF\"][0]\n",
    "                    #print \"SNP\"\n",
    "                    if af>0 and af<1:\n",
    "                        #print \"seg. SNP\"\n",
    "                        #print record.FILTER, record.INFO\n",
    "                        if  not record.FILTER:\n",
    "                            snp_eff_df.ix[(chrom,id,record.POS),\"ref\"] = record.REF\n",
    "                            snp_eff_df.ix[(chrom,id,record.POS),\"alt\"] = record.ALT[0]\n",
    "                            assert record.ALT[0] == ann_ls[0]\n",
    "                            snp_eff_df.ix[(chrom,id,record.POS),\"AA\"] = outgroup_fasta[record.POS]\n",
    "                            snp_eff_df.ix[(chrom,id,record.POS),\"impact\"] = ann_ls[2]\n",
    "                            snp_eff_df.ix[(chrom,id,record.POS),\"effect\"] = ann_ls[1].split('&')[0]\n",
    "                            #raise\n",
    "                        else:\n",
    "                            filter_stats['filter_snp'] +=1\n",
    "                            #add to filtered variants\n",
    "                except KeyError:\n",
    "                    #difference to macaque\n",
    "                    if not record.FILTER or (len(record.FILTER)==1 and record.FILTER[0]=='LowQual'):\n",
    "                        #unfiltered diff\n",
    "                        add_effect(outgroup_effect, ann_ls[1].split('&')[0]) \n",
    "                        add_effect(outgroup_impact,ann_ls[2]) \n",
    "                    else:\n",
    "                        filter_stats['filter_no_snp'] +=1\n",
    "        #elif: #alternatively one could check for indels (disable skip above)\n",
    "        #or multiallelic variants\n",
    "\n",
    "            elif not record.FILTER or (len(record.FILTER)==1 and record.FILTER[0]=='LowQual'):\n",
    "                #print \"non filtered non-snp\"\n",
    "                pass\n",
    "            else:\n",
    "                filter_stats['filter_no_snp'] += 1\n",
    "            \n",
    "            #add_effect(novar_dic,record.INFO[\"ANN\"][0].split('|')[1])    \n",
    "                \n",
    "                \n",
    "                \n",
    "            #break\n",
    "            prev_pos = [record.CHROM,record.POS]\n",
    "    try:\n",
    "        fraction_outgroup_align = coding_outgroup_align*1./coding_sites\n",
    "    except ZeroDivisionError:\n",
    "        fraction_outgroup_align = 0\n",
    "    #if len(snp_eff_df) + \n",
    "    stats_dic = {'coding_sites':coding_sites, 'fraction_outgroup_align':fraction_outgroup_align}\n",
    "    stats_dic.update({\"outgroup_\"+k:v for k,v in outgroup_effect.iteritems()})\n",
    "    stats_dic.update({\"outgroup_\"+k:v for k,v in outgroup_impact.iteritems()})\n",
    "    stats_dic.update(filter_stats)\n",
    "    stats = pd.Series(stats_dic)\n",
    "    stats.name = id\n",
    "    return snp_eff_df, stats\n",
    "\n",
    "def reduce_effect_annot(results):\n",
    "    snp_eff_df = pd.concat([r[0] for r in results])\n",
    "    stats_df = pd.DataFrame([r[1] for r in results])\n",
    "    return snp_eff_df, stats_df\n",
    "\n",
    "def get_effects_chrom(chrom):\n",
    "    vcfr = vcf.Reader(filename=jn(var_ana_dir,\n",
    "                              \"GATK_UnifiedGenotyper_163NonVRC_ref3500_all_sites_{}_\"\n",
    "                              \"mac_diff_as_snps.snpeff_ensembl_1.1.78.vcf.gz\".format(chrom)))\n",
    "    gen_df = get_gen_df(chrom)\n",
    "    coding_snp_df = coding_variants_per_gene(gen_df,gene_df_ensembl_CDS)\n",
    "    result = map(lambda id: get_snp_annotation(id, gene_df_ensembl_CDS, coding_snp_df , mac_seq[chrom], vcfr),gene_df_ensembl_CDS.ix[chrom].index.values)\n",
    "    snp_eff_df, stats_df = reduce_effect_annot(result)\n",
    "    snp_eff_df.to_csv(jn(var_ana_dir,\"snp_eff_df_{}.tsv\".format(chrom)),sep='\\t')\n",
    "    stats_df.to_csv(jn(var_ana_dir,\"snp_eff_stats_df_{}.tsv\".format(chrom)),sep='\\t')\n",
    "    \n",
    "def test(x):\n",
    "    return x"
   ]
  },
  {
   "cell_type": "code",
   "execution_count": 1,
   "metadata": {
    "collapsed": false
   },
   "outputs": [
    {
     "data": {
      "text/plain": [
       "['']"
      ]
     },
     "execution_count": 1,
     "metadata": {},
     "output_type": "execute_result"
    }
   ],
   "source": [
    "\"\".split(',')"
   ]
  },
  {
   "cell_type": "code",
   "execution_count": 368,
   "metadata": {
    "collapsed": false
   },
   "outputs": [],
   "source": [
    "map_effects = lv.map_async(get_effects_chrom,chromosomes[:-1])"
   ]
  },
  {
   "cell_type": "code",
   "execution_count": 371,
   "metadata": {
    "collapsed": false
   },
   "outputs": [],
   "source": [
    "map_effects.wait(10)"
   ]
  },
  {
   "cell_type": "code",
   "execution_count": null,
   "metadata": {
    "collapsed": false
   },
   "outputs": [],
   "source": [
    "#fix problem for CAE5\n",
    "from ast import literal_eval\n",
    "snp_eff_df = pd.read_csv(jn(var_ana_dir,\"snp_eff_df_{}.tsv\".format('CAE5')),sep='\\t')\n",
    "snp_eff_df.index = pd.MultiIndex.from_tuples(snp_eff_df['Unnamed: 0'].apply(literal_eval))\n",
    "snp_eff_df.index.names = ['chrom','gene_id','pos']\n",
    "del snp_eff_df['Unnamed: 0']\n",
    "snp_eff_df.to_csv(jn(var_ana_dir,\"snp_eff_df_{}.tsv\".format('CAE5')),sep='\\t')"
   ]
  },
  {
   "cell_type": "code",
   "execution_count": null,
   "metadata": {
    "collapsed": false
   },
   "outputs": [],
   "source": []
  },
  {
   "cell_type": "code",
   "execution_count": 197,
   "metadata": {
    "collapsed": false
   },
   "outputs": [],
   "source": [
    "coding_snp_df = coding_variants_per_gene(gen_df,gene_df_ensembl_CDS)"
   ]
  },
  {
   "cell_type": "code",
   "execution_count": 422,
   "metadata": {
    "collapsed": false
   },
   "outputs": [
    {
     "data": {
      "text/plain": [
       "<AsyncResult: execute>"
      ]
     },
     "execution_count": 422,
     "metadata": {},
     "output_type": "execute_result"
    }
   ],
   "source": [
    "rc[0].execute('get_effects_chrom(\"CAE8\")')"
   ]
  },
  {
   "cell_type": "code",
   "execution_count": 331,
   "metadata": {
    "collapsed": false
   },
   "outputs": [],
   "source": [
    "snp_eff_df, stats_df = reduce_effect_annot(result)"
   ]
  },
  {
   "cell_type": "markdown",
   "metadata": {},
   "source": [
    "## High impact mutations between macaque and vervet"
   ]
  },
  {
   "cell_type": "markdown",
   "metadata": {},
   "source": [
    "Starting from the information exracted above"
   ]
  },
  {
   "cell_type": "code",
   "execution_count": 518,
   "metadata": {
    "collapsed": false
   },
   "outputs": [],
   "source": [
    "%%px --local\n",
    "assoc_dir = eu(\"~/vervet_project/data/gene_associations\")\n",
    "gene_to_name = pd.read_csv(jn(assoc_dir,\"gene_to_name.csv\"),index_col=0)\n",
    "gene_to_name.drop_duplicates('gene_symbol',inplace=True)"
   ]
  },
  {
   "cell_type": "code",
   "execution_count": 535,
   "metadata": {
    "collapsed": false
   },
   "outputs": [],
   "source": [
    "gene_to_cat = pd.read_csv(jn(assoc_dir,\"gene_to_cat.csv\"),index_col=0)"
   ]
  },
  {
   "cell_type": "code",
   "execution_count": 519,
   "metadata": {
    "collapsed": false
   },
   "outputs": [],
   "source": [
    "%%px --local\n",
    "def get_broken_genes(chrom):\n",
    "    #snp_eff_df = pd.read_csv(jn(var_ana_dir,\"snp_eff_df_{}.tsv\".format(chrom)),sep='\\t',index_col=[0,1])\n",
    "    stats_df = pd.read_csv(jn(var_ana_dir,\"snp_eff_stats_df_{}.tsv\".format(chrom)),sep='\\t',index_col=[0])\n",
    "    stats_df = stats_df.reset_index().drop_duplicates().set_index(\"index\")\n",
    "    stats_df.index.name = \"gene_id\"\n",
    "    broken_genes = pd.DataFrame(stats_df[stats_df['outgroup_HIGH']>0]['fraction_outgroup_align'],columns=['fraction_outgroup_align'])\n",
    "    broken_genes = broken_genes.join(gene_df_ensembl.reset_index().set_index(\"gene_id\"))\n",
    "    broken_genes['gene_description'] = gene_to_name.set_index(\"gene_symbol\").ix[broken_genes['gene_name']].values\n",
    "    return broken_genes"
   ]
  },
  {
   "cell_type": "code",
   "execution_count": 520,
   "metadata": {
    "collapsed": false
   },
   "outputs": [],
   "source": [
    "map_broken = lv.map_async(get_broken_genes,chromosomes[:-1])"
   ]
  },
  {
   "cell_type": "code",
   "execution_count": 521,
   "metadata": {
    "collapsed": false
   },
   "outputs": [],
   "source": [
    "map_broken.wait(10)"
   ]
  },
  {
   "cell_type": "code",
   "execution_count": 525,
   "metadata": {
    "collapsed": false
   },
   "outputs": [],
   "source": [
    "broken_genes = pd.concat(map_broken.result,axis=0)"
   ]
  },
  {
   "cell_type": "code",
   "execution_count": 529,
   "metadata": {
    "collapsed": false
   },
   "outputs": [],
   "source": [
    "broken_genes[broken_genes['fraction_outgroup_align']>0.8].gene_name.to_csv(jn(meta_dir,\"genes_broken_rel_to_macaque_alignGT80pct.txt\"),index=False)"
   ]
  },
  {
   "cell_type": "code",
   "execution_count": 555,
   "metadata": {
    "collapsed": false
   },
   "outputs": [],
   "source": [
    "broken0p8 = broken_genes[broken_genes['fraction_outgroup_align']>0.8]"
   ]
  },
  {
   "cell_type": "code",
   "execution_count": 583,
   "metadata": {
    "collapsed": false
   },
   "outputs": [],
   "source": [
    "ngenes = len(broken0p8)"
   ]
  },
  {
   "cell_type": "code",
   "execution_count": 565,
   "metadata": {
    "collapsed": false
   },
   "outputs": [],
   "source": [
    "def get_go_assoc(gene_ls, gene_to_go):\n",
    "    \"\"\"\n",
    "    Get series with number of genes associated with each\n",
    "    category in gene_to_go\n",
    "    \"\"\"\n",
    "    s = gene_to_go.set_index(\"gene_symbol\").ix[gene_ls].dropna().groupby(\"go_identifier\").apply(len)\n",
    "    return s"
   ]
  },
  {
   "cell_type": "code",
   "execution_count": 603,
   "metadata": {
    "collapsed": false
   },
   "outputs": [],
   "source": [
    "def random_gene_assoc_table(n_permut,n_genes,gene_df,gene_to_go):\n",
    "    assoc_table = pd.DataFrame()\n",
    "    for i in xrange(n_permut):\n",
    "        genes = np.random.choice(gene_df_ensembl[\"gene_name\"].unique(),n_genes)\n",
    "        assoc = get_go_assoc(genes, gene_to_go)\n",
    "        assoc.name = i\n",
    "        assoc_table = assoc_table.join(assoc,how='outer')\n",
    "    return assoc_table\n",
    "\n",
    "def get_rank(series,rank_df):\n",
    "    go = series.name\n",
    "    try:\n",
    "        go_s = rank_df.ix[go]\n",
    "    except KeyError:\n",
    "        go_s = pd.Series({\"n_genes\":0,\"rank\":0,\"out_of\":0})\n",
    "    real_val = go_s[\"n_genes\"]\n",
    "    old_rank = go_s[\"rank\"]\n",
    "    old_out_of = go_s[\"out_of\"]\n",
    "    rank = empirical_rank(real_val,series.values)\n",
    "    new_rank = old_rank + rank\n",
    "    new_out_of = old_out_of + len(series)\n",
    "    return pd.Series({\"n_genes\":real_val,\"rank\":new_rank,\"out_of\":new_out_of})\n",
    "\n",
    "def get_initial_rank_table(real_assoc):\n",
    "    return pd.DataFrame({\"n_genes\":real_assoc.values,\"rank\":0,\"out_of\":0},index=real_assoc.index)\n",
    "\n",
    "def update_rank(rank_table,assoc_table):\n",
    "    r = assoc_table.apply(lambda row: get_rank(row,rank_table),axis=1)\n",
    "    return r\n",
    "\n",
    "def empirical_rank(value,dist):\n",
    "    \"\"\"\n",
    "    get empirical p value of\n",
    "    value with respect to list of \n",
    "    values in dist\n",
    "    \"\"\"\n",
    "    array = np.append(value,dist)\n",
    "    temp = array.argsort()\n",
    "    ranks = np.empty(len(array), int)\n",
    "    ranks[temp] = np.arange(len(array))\n",
    "    return ranks[0]\n",
    "\n",
    "def get_p_val(rank_table):\n",
    "    \"\"\"\n",
    "    Input:\n",
    "    \n",
    "    \"\"\"\n",
    "    r =  1-rank_table[\"rank\"]*1./(rank_table[\"out_of\"]+1)\n",
    "    r.sort()\n",
    "    return r"
   ]
  },
  {
   "cell_type": "code",
   "execution_count": 608,
   "metadata": {
    "collapsed": false
   },
   "outputs": [],
   "source": [
    "rand_assoc_table = random_gene_assoc_table(1000,ngenes,gene_df_ensembl,gene_to_cat)"
   ]
  },
  {
   "cell_type": "code",
   "execution_count": 601,
   "metadata": {
    "collapsed": false
   },
   "outputs": [],
   "source": [
    "real_assoc = get_go_assoc(broken0p8['gene_name'].values, gene_to_cat)"
   ]
  },
  {
   "cell_type": "code",
   "execution_count": 605,
   "metadata": {
    "collapsed": false
   },
   "outputs": [],
   "source": [
    "init_rank = get_initial_rank_table(real_assoc)"
   ]
  },
  {
   "cell_type": "code",
   "execution_count": 609,
   "metadata": {
    "collapsed": false
   },
   "outputs": [],
   "source": [
    "rank_table = update_rank(init_rank,rand_assoc_table)"
   ]
  },
  {
   "cell_type": "code",
   "execution_count": 610,
   "metadata": {
    "collapsed": false
   },
   "outputs": [
    {
     "data": {
      "text/html": [
       "<div style=\"max-height:1000px;max-width:1500px;overflow:auto;\">\n",
       "<table border=\"1\" class=\"dataframe\">\n",
       "  <thead>\n",
       "    <tr style=\"text-align: right;\">\n",
       "      <th></th>\n",
       "      <th>n_genes</th>\n",
       "      <th>out_of</th>\n",
       "      <th>rank</th>\n",
       "    </tr>\n",
       "    <tr>\n",
       "      <th>go_identifier</th>\n",
       "      <th></th>\n",
       "      <th></th>\n",
       "      <th></th>\n",
       "    </tr>\n",
       "  </thead>\n",
       "  <tbody>\n",
       "    <tr>\n",
       "      <th>GO:0005576</th>\n",
       "      <td> 45</td>\n",
       "      <td> 1000</td>\n",
       "      <td> 997</td>\n",
       "    </tr>\n",
       "    <tr>\n",
       "      <th>GO:0003676</th>\n",
       "      <td> 32</td>\n",
       "      <td> 1000</td>\n",
       "      <td> 993</td>\n",
       "    </tr>\n",
       "    <tr>\n",
       "      <th>GO:0019221</th>\n",
       "      <td> 11</td>\n",
       "      <td> 1000</td>\n",
       "      <td> 987</td>\n",
       "    </tr>\n",
       "    <tr>\n",
       "      <th>GO:0005929</th>\n",
       "      <td>  8</td>\n",
       "      <td> 1000</td>\n",
       "      <td> 960</td>\n",
       "    </tr>\n",
       "    <tr>\n",
       "      <th>GO:0007411</th>\n",
       "      <td> 11</td>\n",
       "      <td> 1000</td>\n",
       "      <td> 945</td>\n",
       "    </tr>\n",
       "    <tr>\n",
       "      <th>GO:0005759</th>\n",
       "      <td>  8</td>\n",
       "      <td> 1000</td>\n",
       "      <td> 943</td>\n",
       "    </tr>\n",
       "    <tr>\n",
       "      <th>GO:0050911</th>\n",
       "      <td>  7</td>\n",
       "      <td> 1000</td>\n",
       "      <td> 940</td>\n",
       "    </tr>\n",
       "    <tr>\n",
       "      <th>GO:0004984</th>\n",
       "      <td>  7</td>\n",
       "      <td> 1000</td>\n",
       "      <td> 940</td>\n",
       "    </tr>\n",
       "    <tr>\n",
       "      <th>GO:0007608</th>\n",
       "      <td>  7</td>\n",
       "      <td> 1000</td>\n",
       "      <td> 927</td>\n",
       "    </tr>\n",
       "    <tr>\n",
       "      <th>GO:0006629</th>\n",
       "      <td> 13</td>\n",
       "      <td> 1000</td>\n",
       "      <td> 913</td>\n",
       "    </tr>\n",
       "    <tr>\n",
       "      <th>GO:0005694</th>\n",
       "      <td>  9</td>\n",
       "      <td> 1000</td>\n",
       "      <td> 905</td>\n",
       "    </tr>\n",
       "    <tr>\n",
       "      <th>GO:0006281</th>\n",
       "      <td>  9</td>\n",
       "      <td> 1000</td>\n",
       "      <td> 895</td>\n",
       "    </tr>\n",
       "    <tr>\n",
       "      <th>GO:0050896</th>\n",
       "      <td>  9</td>\n",
       "      <td> 1000</td>\n",
       "      <td> 881</td>\n",
       "    </tr>\n",
       "    <tr>\n",
       "      <th>GO:0043687</th>\n",
       "      <td>  6</td>\n",
       "      <td> 1000</td>\n",
       "      <td> 869</td>\n",
       "    </tr>\n",
       "    <tr>\n",
       "      <th>GO:0043066</th>\n",
       "      <td> 11</td>\n",
       "      <td> 1000</td>\n",
       "      <td> 861</td>\n",
       "    </tr>\n",
       "    <tr>\n",
       "      <th>GO:0007507</th>\n",
       "      <td>  6</td>\n",
       "      <td> 1000</td>\n",
       "      <td> 860</td>\n",
       "    </tr>\n",
       "    <tr>\n",
       "      <th>GO:0005198</th>\n",
       "      <td>  6</td>\n",
       "      <td> 1000</td>\n",
       "      <td> 857</td>\n",
       "    </tr>\n",
       "    <tr>\n",
       "      <th>GO:0000775</th>\n",
       "      <td>  5</td>\n",
       "      <td> 1000</td>\n",
       "      <td> 856</td>\n",
       "    </tr>\n",
       "    <tr>\n",
       "      <th>GO:0016491</th>\n",
       "      <td> 13</td>\n",
       "      <td> 1000</td>\n",
       "      <td> 841</td>\n",
       "    </tr>\n",
       "    <tr>\n",
       "      <th>hiv155459.0</th>\n",
       "      <td>  7</td>\n",
       "      <td> 1000</td>\n",
       "      <td> 833</td>\n",
       "    </tr>\n",
       "    <tr>\n",
       "      <th>GO:0006974</th>\n",
       "      <td>  9</td>\n",
       "      <td> 1000</td>\n",
       "      <td> 824</td>\n",
       "    </tr>\n",
       "    <tr>\n",
       "      <th>GO:0031625</th>\n",
       "      <td>  5</td>\n",
       "      <td> 1000</td>\n",
       "      <td> 822</td>\n",
       "    </tr>\n",
       "    <tr>\n",
       "      <th>GO:0006457</th>\n",
       "      <td>  5</td>\n",
       "      <td> 1000</td>\n",
       "      <td> 820</td>\n",
       "    </tr>\n",
       "    <tr>\n",
       "      <th>GO:0016310</th>\n",
       "      <td> 16</td>\n",
       "      <td> 1000</td>\n",
       "      <td> 814</td>\n",
       "    </tr>\n",
       "    <tr>\n",
       "      <th>GO:0046777</th>\n",
       "      <td>  5</td>\n",
       "      <td> 1000</td>\n",
       "      <td> 813</td>\n",
       "    </tr>\n",
       "    <tr>\n",
       "      <th>GO:0044267</th>\n",
       "      <td> 11</td>\n",
       "      <td> 1000</td>\n",
       "      <td> 811</td>\n",
       "    </tr>\n",
       "    <tr>\n",
       "      <th>GO:0016301</th>\n",
       "      <td> 16</td>\n",
       "      <td> 1000</td>\n",
       "      <td> 809</td>\n",
       "    </tr>\n",
       "    <tr>\n",
       "      <th>GO:0000087</th>\n",
       "      <td>  5</td>\n",
       "      <td> 1000</td>\n",
       "      <td> 806</td>\n",
       "    </tr>\n",
       "    <tr>\n",
       "      <th>GO:0033554</th>\n",
       "      <td>  5</td>\n",
       "      <td> 1000</td>\n",
       "      <td> 801</td>\n",
       "    </tr>\n",
       "    <tr>\n",
       "      <th>GO:0042593</th>\n",
       "      <td>  5</td>\n",
       "      <td> 1000</td>\n",
       "      <td> 801</td>\n",
       "    </tr>\n",
       "    <tr>\n",
       "      <th>...</th>\n",
       "      <td>...</td>\n",
       "      <td>...</td>\n",
       "      <td>...</td>\n",
       "    </tr>\n",
       "    <tr>\n",
       "      <th>GO:0017064</th>\n",
       "      <td>  0</td>\n",
       "      <td> 1000</td>\n",
       "      <td>   0</td>\n",
       "    </tr>\n",
       "    <tr>\n",
       "      <th>GO:0017065</th>\n",
       "      <td>  0</td>\n",
       "      <td> 1000</td>\n",
       "      <td>   0</td>\n",
       "    </tr>\n",
       "    <tr>\n",
       "      <th>GO:0017002</th>\n",
       "      <td>  0</td>\n",
       "      <td> 1000</td>\n",
       "      <td>   0</td>\n",
       "    </tr>\n",
       "    <tr>\n",
       "      <th>GO:0016999</th>\n",
       "      <td>  0</td>\n",
       "      <td> 1000</td>\n",
       "      <td>   0</td>\n",
       "    </tr>\n",
       "    <tr>\n",
       "      <th>GO:0016998</th>\n",
       "      <td>  0</td>\n",
       "      <td> 1000</td>\n",
       "      <td>   0</td>\n",
       "    </tr>\n",
       "    <tr>\n",
       "      <th>GO:0016997</th>\n",
       "      <td>  0</td>\n",
       "      <td> 1000</td>\n",
       "      <td>   0</td>\n",
       "    </tr>\n",
       "    <tr>\n",
       "      <th>GO:0016896</th>\n",
       "      <td>  0</td>\n",
       "      <td> 1000</td>\n",
       "      <td>   0</td>\n",
       "    </tr>\n",
       "    <tr>\n",
       "      <th>GO:0016901</th>\n",
       "      <td>  0</td>\n",
       "      <td> 1000</td>\n",
       "      <td>   0</td>\n",
       "    </tr>\n",
       "    <tr>\n",
       "      <th>GO:0016907</th>\n",
       "      <td>  0</td>\n",
       "      <td> 1000</td>\n",
       "      <td>   0</td>\n",
       "    </tr>\n",
       "    <tr>\n",
       "      <th>GO:0016917</th>\n",
       "      <td>  0</td>\n",
       "      <td> 1000</td>\n",
       "      <td>   0</td>\n",
       "    </tr>\n",
       "    <tr>\n",
       "      <th>GO:0016918</th>\n",
       "      <td>  0</td>\n",
       "      <td> 1000</td>\n",
       "      <td>   0</td>\n",
       "    </tr>\n",
       "    <tr>\n",
       "      <th>GO:0016920</th>\n",
       "      <td>  0</td>\n",
       "      <td> 1000</td>\n",
       "      <td>   0</td>\n",
       "    </tr>\n",
       "    <tr>\n",
       "      <th>GO:0016922</th>\n",
       "      <td>  0</td>\n",
       "      <td> 1000</td>\n",
       "      <td>   0</td>\n",
       "    </tr>\n",
       "    <tr>\n",
       "      <th>GO:0016925</th>\n",
       "      <td>  0</td>\n",
       "      <td> 1000</td>\n",
       "      <td>   0</td>\n",
       "    </tr>\n",
       "    <tr>\n",
       "      <th>GO:0016926</th>\n",
       "      <td>  0</td>\n",
       "      <td> 1000</td>\n",
       "      <td>   0</td>\n",
       "    </tr>\n",
       "    <tr>\n",
       "      <th>GO:0016929</th>\n",
       "      <td>  0</td>\n",
       "      <td> 1000</td>\n",
       "      <td>   0</td>\n",
       "    </tr>\n",
       "    <tr>\n",
       "      <th>GO:0016933</th>\n",
       "      <td>  0</td>\n",
       "      <td> 1000</td>\n",
       "      <td>   0</td>\n",
       "    </tr>\n",
       "    <tr>\n",
       "      <th>GO:0016934</th>\n",
       "      <td>  0</td>\n",
       "      <td> 1000</td>\n",
       "      <td>   0</td>\n",
       "    </tr>\n",
       "    <tr>\n",
       "      <th>GO:0016935</th>\n",
       "      <td>  0</td>\n",
       "      <td> 1000</td>\n",
       "      <td>   0</td>\n",
       "    </tr>\n",
       "    <tr>\n",
       "      <th>GO:0016936</th>\n",
       "      <td>  0</td>\n",
       "      <td> 1000</td>\n",
       "      <td>   0</td>\n",
       "    </tr>\n",
       "    <tr>\n",
       "      <th>GO:0016938</th>\n",
       "      <td>  0</td>\n",
       "      <td> 1000</td>\n",
       "      <td>   0</td>\n",
       "    </tr>\n",
       "    <tr>\n",
       "      <th>GO:0016939</th>\n",
       "      <td>  0</td>\n",
       "      <td> 1000</td>\n",
       "      <td>   0</td>\n",
       "    </tr>\n",
       "    <tr>\n",
       "      <th>GO:0016941</th>\n",
       "      <td>  0</td>\n",
       "      <td> 1000</td>\n",
       "      <td>   0</td>\n",
       "    </tr>\n",
       "    <tr>\n",
       "      <th>GO:0016942</th>\n",
       "      <td>  0</td>\n",
       "      <td> 1000</td>\n",
       "      <td>   0</td>\n",
       "    </tr>\n",
       "    <tr>\n",
       "      <th>GO:0016971</th>\n",
       "      <td>  0</td>\n",
       "      <td> 1000</td>\n",
       "      <td>   0</td>\n",
       "    </tr>\n",
       "    <tr>\n",
       "      <th>GO:0016972</th>\n",
       "      <td>  0</td>\n",
       "      <td> 1000</td>\n",
       "      <td>   0</td>\n",
       "    </tr>\n",
       "    <tr>\n",
       "      <th>GO:0016973</th>\n",
       "      <td>  0</td>\n",
       "      <td> 1000</td>\n",
       "      <td>   0</td>\n",
       "    </tr>\n",
       "    <tr>\n",
       "      <th>GO:0016990</th>\n",
       "      <td>  0</td>\n",
       "      <td> 1000</td>\n",
       "      <td>   0</td>\n",
       "    </tr>\n",
       "    <tr>\n",
       "      <th>GO:0016992</th>\n",
       "      <td>  0</td>\n",
       "      <td> 1000</td>\n",
       "      <td>   0</td>\n",
       "    </tr>\n",
       "    <tr>\n",
       "      <th>hs_sivcand</th>\n",
       "      <td>  0</td>\n",
       "      <td> 1000</td>\n",
       "      <td>   0</td>\n",
       "    </tr>\n",
       "  </tbody>\n",
       "</table>\n",
       "<p>14651 rows × 3 columns</p>\n",
       "</div>"
      ],
      "text/plain": [
       "               n_genes  out_of  rank\n",
       "go_identifier                       \n",
       "GO:0005576          45    1000   997\n",
       "GO:0003676          32    1000   993\n",
       "GO:0019221          11    1000   987\n",
       "GO:0005929           8    1000   960\n",
       "GO:0007411          11    1000   945\n",
       "GO:0005759           8    1000   943\n",
       "GO:0050911           7    1000   940\n",
       "GO:0004984           7    1000   940\n",
       "GO:0007608           7    1000   927\n",
       "GO:0006629          13    1000   913\n",
       "GO:0005694           9    1000   905\n",
       "GO:0006281           9    1000   895\n",
       "GO:0050896           9    1000   881\n",
       "GO:0043687           6    1000   869\n",
       "GO:0043066          11    1000   861\n",
       "GO:0007507           6    1000   860\n",
       "GO:0005198           6    1000   857\n",
       "GO:0000775           5    1000   856\n",
       "GO:0016491          13    1000   841\n",
       "hiv155459.0          7    1000   833\n",
       "GO:0006974           9    1000   824\n",
       "GO:0031625           5    1000   822\n",
       "GO:0006457           5    1000   820\n",
       "GO:0016310          16    1000   814\n",
       "GO:0046777           5    1000   813\n",
       "GO:0044267          11    1000   811\n",
       "GO:0016301          16    1000   809\n",
       "GO:0000087           5    1000   806\n",
       "GO:0033554           5    1000   801\n",
       "GO:0042593           5    1000   801\n",
       "...                ...     ...   ...\n",
       "GO:0017064           0    1000     0\n",
       "GO:0017065           0    1000     0\n",
       "GO:0017002           0    1000     0\n",
       "GO:0016999           0    1000     0\n",
       "GO:0016998           0    1000     0\n",
       "GO:0016997           0    1000     0\n",
       "GO:0016896           0    1000     0\n",
       "GO:0016901           0    1000     0\n",
       "GO:0016907           0    1000     0\n",
       "GO:0016917           0    1000     0\n",
       "GO:0016918           0    1000     0\n",
       "GO:0016920           0    1000     0\n",
       "GO:0016922           0    1000     0\n",
       "GO:0016925           0    1000     0\n",
       "GO:0016926           0    1000     0\n",
       "GO:0016929           0    1000     0\n",
       "GO:0016933           0    1000     0\n",
       "GO:0016934           0    1000     0\n",
       "GO:0016935           0    1000     0\n",
       "GO:0016936           0    1000     0\n",
       "GO:0016938           0    1000     0\n",
       "GO:0016939           0    1000     0\n",
       "GO:0016941           0    1000     0\n",
       "GO:0016942           0    1000     0\n",
       "GO:0016971           0    1000     0\n",
       "GO:0016972           0    1000     0\n",
       "GO:0016973           0    1000     0\n",
       "GO:0016990           0    1000     0\n",
       "GO:0016992           0    1000     0\n",
       "hs_sivcand           0    1000     0\n",
       "\n",
       "[14651 rows x 3 columns]"
      ]
     },
     "execution_count": 610,
     "metadata": {},
     "output_type": "execute_result"
    }
   ],
   "source": [
    "rank_table.sort('rank',ascending=False)"
   ]
  },
  {
   "cell_type": "markdown",
   "metadata": {},
   "source": [
    "<font size=\"5\"><font color=\"red\">CONCLUSION:</font> Nothing significant</font>"
   ]
  },
  {
   "cell_type": "markdown",
   "metadata": {},
   "source": [
    "## dn ds pn ps per gene vervet vs macaque"
   ]
  },
  {
   "cell_type": "code",
   "execution_count": null,
   "metadata": {
    "collapsed": false
   },
   "outputs": [],
   "source": [
    "attention, gereally speaking pn ps is not polymporphism since it includes fixed differences across vervet subspecies!!!"
   ]
  },
  {
   "cell_type": "code",
   "execution_count": 446,
   "metadata": {
    "collapsed": false
   },
   "outputs": [
    {
     "data": {
      "text/plain": [
       "<matplotlib.axes._subplots.AxesSubplot at 0x2b50c390>"
      ]
     },
     "execution_count": 446,
     "metadata": {},
     "output_type": "execute_result"
    },
    {
     "data": {
      "image/png": "[encoded data removed]",
      "text/plain": [
       "<matplotlib.figure.Figure at 0x2c15e450>"
      ]
     },
     "metadata": {},
     "output_type": "display_data"
    }
   ],
   "source": [
    "stats_df[\"fraction_outgroup_align\"].hist(bins=100)"
   ]
  },
  {
   "cell_type": "code",
   "execution_count": 611,
   "metadata": {
    "collapsed": false
   },
   "outputs": [],
   "source": [
    "chrom = 'CAE28'"
   ]
  },
  {
   "cell_type": "code",
   "execution_count": 612,
   "metadata": {
    "collapsed": false
   },
   "outputs": [],
   "source": [
    "snp_eff_df = pd.read_csv(jn(var_ana_dir,\"snp_eff_df_{}.tsv\".format(chrom)),sep='\\t',index_col=[0,1])\n",
    "stats_df = pd.read_csv(jn(var_ana_dir,\"snp_eff_stats_df_{}.tsv\".format(chrom)),sep='\\t',index_col=[0])"
   ]
  },
  {
   "cell_type": "code",
   "execution_count": 646,
   "metadata": {
    "collapsed": false
   },
   "outputs": [],
   "source": [
    "%%px --local\n",
    "def get_pn_ps(one_gene_df):\n",
    "    return pd.Series({\"ps\":(one_gene_df['effect']=='synonymous_variant').sum(),\\\n",
    "                'pn':(one_gene_df['effect']=='missense_variant').sum()})\n",
    "\n",
    "def get_dn_ds_pn_ps(chrom):\n",
    "    snp_eff_df = pd.read_csv(jn(var_ana_dir,\"snp_eff_df_{}.tsv\".format(chrom)),sep='\\t',index_col=[0,1])\n",
    "    stats_df = pd.read_csv(jn(var_ana_dir,\"snp_eff_stats_df_{}.tsv\".format(chrom)),sep='\\t',index_col=[0])\n",
    "    stats_df = stats_df.reset_index().drop_duplicates().set_index(\"index\")\n",
    "    stats_df.index.name = \"gene_id\"\n",
    "    try:\n",
    "        df = snp_eff_df.reset_index().groupby(\"gene_id\").apply(get_pn_ps)\n",
    "    except:\n",
    "        return chrom\n",
    "    df['dn'] = stats_df['outgroup_missense_variant']\n",
    "    df['ds'] = stats_df['outgroup_synonymous_variant']\n",
    "    df['fraction_outgroup_align'] = stats_df['fraction_outgroup_align']\n",
    "    return df.fillna(0)"
   ]
  },
  {
   "cell_type": "code",
   "execution_count": 666,
   "metadata": {
    "collapsed": false
   },
   "outputs": [],
   "source": [
    "mk_map = lv.map_async(get_dn_ds_pn_ps,chromosomes[:-1])"
   ]
  },
  {
   "cell_type": "code",
   "execution_count": 697,
   "metadata": {
    "collapsed": false
   },
   "outputs": [],
   "source": [
    "dn_ds_pn_ps_df = pd.concat(mk_map.result)"
   ]
  },
  {
   "cell_type": "code",
   "execution_count": 669,
   "metadata": {
    "collapsed": false
   },
   "outputs": [],
   "source": [
    "total = dn_ds_pn_ps_df[dn_ds_pn_ps_df['fraction_outgroup_align']>0.8].sum(axis=0)\n",
    "neutrality_index = (total['pn']*1./total['ps'])/(total['dn']/total['ds'])\n",
    "alpha = 1 - neutrality_index"
   ]
  },
  {
   "cell_type": "code",
   "execution_count": 671,
   "metadata": {
    "collapsed": false
   },
   "outputs": [
    {
     "data": {
      "text/plain": [
       "1.0879167150736777"
      ]
     },
     "execution_count": 671,
     "metadata": {},
     "output_type": "execute_result"
    }
   ],
   "source": [
    "neutrality_index"
   ]
  },
  {
   "cell_type": "code",
   "execution_count": 672,
   "metadata": {
    "collapsed": false
   },
   "outputs": [
    {
     "data": {
      "text/plain": [
       "-0.087916715073677709"
      ]
     },
     "execution_count": 672,
     "metadata": {},
     "output_type": "execute_result"
    }
   ],
   "source": [
    "alpha"
   ]
  },
  {
   "cell_type": "markdown",
   "metadata": {},
   "source": [
    "### per gene category"
   ]
  },
  {
   "cell_type": "code",
   "execution_count": 712,
   "metadata": {
    "collapsed": false
   },
   "outputs": [],
   "source": [
    "go_to_name = pd.read_csv(jn(assoc_dir,\"cat_to_name.csv\"),index_col=0)"
   ]
  },
  {
   "cell_type": "code",
   "execution_count": 698,
   "metadata": {
    "collapsed": false
   },
   "outputs": [],
   "source": [
    "mk_df = dn_ds_pn_ps_df[dn_ds_pn_ps_df['fraction_outgroup_align']>0.8]\n",
    "mk_df['gene_name'] = gene_df_ensembl.set_index('gene_id').ix[mk_df.index]['gene_name']\n",
    "mk_per_go = mk_df.set_index('gene_name').ix[gene_to_cat['gene_symbol']]\n",
    "mk_per_go['go_identifier'] = gene_to_cat.set_index('gene_symbol')\n",
    "mk_per_go = mk_per_go.groupby('go_identifier').sum()"
   ]
  },
  {
   "cell_type": "code",
   "execution_count": 699,
   "metadata": {
    "collapsed": false
   },
   "outputs": [],
   "source": [
    "mk_per_go['neutrality_index'] = (mk_per_go['pn']*1./mk_per_go['ps'])/(mk_per_go['dn']/mk_per_go['ds'])"
   ]
  },
  {
   "cell_type": "code",
   "execution_count": 700,
   "metadata": {
    "collapsed": false
   },
   "outputs": [],
   "source": [
    "mk_per_go['alpha'] = 1 - mk_per_go['neutrality_index']"
   ]
  },
  {
   "cell_type": "code",
   "execution_count": 714,
   "metadata": {
    "collapsed": false
   },
   "outputs": [],
   "source": [
    "nonzero_mk_per_go = mk_per_go[(mk_per_go[['pn','ps','dn','ds']]>0).all(axis=1)].sort('alpha')"
   ]
  },
  {
   "cell_type": "code",
   "execution_count": 716,
   "metadata": {
    "collapsed": false
   },
   "outputs": [],
   "source": [
    "nonzero_mk_per_go['go_name'] = go_to_name.set_index('go_identifier').drop_duplicates().ix[nonzero_mk_per_go.index]"
   ]
  },
  {
   "cell_type": "code",
   "execution_count": 721,
   "metadata": {
    "collapsed": false
   },
   "outputs": [
    {
     "data": {
      "text/html": [
       "<div style=\"max-height:1000px;max-width:1500px;overflow:auto;\">\n",
       "<table border=\"1\" class=\"dataframe\">\n",
       "  <thead>\n",
       "    <tr style=\"text-align: right;\">\n",
       "      <th></th>\n",
       "      <th>pn</th>\n",
       "      <th>ps</th>\n",
       "      <th>dn</th>\n",
       "      <th>ds</th>\n",
       "      <th>fraction_outgroup_align</th>\n",
       "      <th>neutrality_index</th>\n",
       "      <th>alpha</th>\n",
       "      <th>go_name</th>\n",
       "    </tr>\n",
       "    <tr>\n",
       "      <th>go_identifier</th>\n",
       "      <th></th>\n",
       "      <th></th>\n",
       "      <th></th>\n",
       "      <th></th>\n",
       "      <th></th>\n",
       "      <th></th>\n",
       "      <th></th>\n",
       "      <th></th>\n",
       "    </tr>\n",
       "  </thead>\n",
       "  <tbody>\n",
       "    <tr>\n",
       "      <th>GO:0008310</th>\n",
       "      <td>  106</td>\n",
       "      <td>    3</td>\n",
       "      <td> 10</td>\n",
       "      <td> 13</td>\n",
       "      <td> 1.871988</td>\n",
       "      <td> 45.933333</td>\n",
       "      <td>-44.933333</td>\n",
       "      <td> single-stranded DNA 3'-5' exodeoxyribonuclease...</td>\n",
       "    </tr>\n",
       "    <tr>\n",
       "      <th>GO:2000110</th>\n",
       "      <td>   66</td>\n",
       "      <td>    6</td>\n",
       "      <td>  1</td>\n",
       "      <td>  3</td>\n",
       "      <td> 1.921671</td>\n",
       "      <td> 33.000000</td>\n",
       "      <td>-32.000000</td>\n",
       "      <td> negative regulation of macrophage apoptotic pr...</td>\n",
       "    </tr>\n",
       "    <tr>\n",
       "      <th>GO:0031861</th>\n",
       "      <td>   12</td>\n",
       "      <td>    2</td>\n",
       "      <td>  1</td>\n",
       "      <td>  4</td>\n",
       "      <td> 0.969349</td>\n",
       "      <td> 24.000000</td>\n",
       "      <td>-23.000000</td>\n",
       "      <td>      prolactin-releasing peptide receptor binding</td>\n",
       "    </tr>\n",
       "    <tr>\n",
       "      <th>GO:0048483</th>\n",
       "      <td>   12</td>\n",
       "      <td>    2</td>\n",
       "      <td>  1</td>\n",
       "      <td>  4</td>\n",
       "      <td> 0.969349</td>\n",
       "      <td> 24.000000</td>\n",
       "      <td>-23.000000</td>\n",
       "      <td>              autonomic nervous system development</td>\n",
       "    </tr>\n",
       "    <tr>\n",
       "      <th>GO:0006610</th>\n",
       "      <td>   85</td>\n",
       "      <td>   34</td>\n",
       "      <td>  1</td>\n",
       "      <td>  7</td>\n",
       "      <td> 0.989349</td>\n",
       "      <td> 17.500000</td>\n",
       "      <td>-16.500000</td>\n",
       "      <td>             ribosomal protein import into nucleus</td>\n",
       "    </tr>\n",
       "    <tr>\n",
       "      <th>GO:0000340</th>\n",
       "      <td>   66</td>\n",
       "      <td>   12</td>\n",
       "      <td>  1</td>\n",
       "      <td>  3</td>\n",
       "      <td> 1.987008</td>\n",
       "      <td> 16.500000</td>\n",
       "      <td>-15.500000</td>\n",
       "      <td>                 RNA 7-methylguanosine cap binding</td>\n",
       "    </tr>\n",
       "    <tr>\n",
       "      <th>GO:0032020</th>\n",
       "      <td>   70</td>\n",
       "      <td>   28</td>\n",
       "      <td>  1</td>\n",
       "      <td>  6</td>\n",
       "      <td> 2.911452</td>\n",
       "      <td> 15.000000</td>\n",
       "      <td>-14.000000</td>\n",
       "      <td>                         ISG15-protein conjugation</td>\n",
       "    </tr>\n",
       "    <tr>\n",
       "      <th>GO:0042296</th>\n",
       "      <td>   66</td>\n",
       "      <td>   22</td>\n",
       "      <td>  1</td>\n",
       "      <td>  5</td>\n",
       "      <td> 1.915492</td>\n",
       "      <td> 15.000000</td>\n",
       "      <td>-14.000000</td>\n",
       "      <td>                             ISG15 ligase activity</td>\n",
       "    </tr>\n",
       "    <tr>\n",
       "      <th>GO:0003335</th>\n",
       "      <td>   35</td>\n",
       "      <td>    7</td>\n",
       "      <td>  1</td>\n",
       "      <td>  3</td>\n",
       "      <td> 0.954600</td>\n",
       "      <td> 15.000000</td>\n",
       "      <td>-14.000000</td>\n",
       "      <td>                            corneocyte development</td>\n",
       "    </tr>\n",
       "    <tr>\n",
       "      <th>GO:0008054</th>\n",
       "      <td>   48</td>\n",
       "      <td>   16</td>\n",
       "      <td>  1</td>\n",
       "      <td>  5</td>\n",
       "      <td> 0.990991</td>\n",
       "      <td> 15.000000</td>\n",
       "      <td>-14.000000</td>\n",
       "      <td>                          cyclin catabolic process</td>\n",
       "    </tr>\n",
       "    <tr>\n",
       "      <th>GO:0060075</th>\n",
       "      <td>   36</td>\n",
       "      <td>   48</td>\n",
       "      <td>  1</td>\n",
       "      <td> 20</td>\n",
       "      <td> 1.995031</td>\n",
       "      <td> 15.000000</td>\n",
       "      <td>-14.000000</td>\n",
       "      <td>          regulation of resting membrane potential</td>\n",
       "    </tr>\n",
       "    <tr>\n",
       "      <th>GO:0046523</th>\n",
       "      <td>  102</td>\n",
       "      <td>   90</td>\n",
       "      <td>  1</td>\n",
       "      <td> 13</td>\n",
       "      <td> 0.994667</td>\n",
       "      <td> 14.733333</td>\n",
       "      <td>-13.733333</td>\n",
       "      <td> S-methyl-5-thioribose-1-phosphate isomerase ac...</td>\n",
       "    </tr>\n",
       "    <tr>\n",
       "      <th>GO:0060585</th>\n",
       "      <td>  123</td>\n",
       "      <td>   20</td>\n",
       "      <td>  3</td>\n",
       "      <td>  7</td>\n",
       "      <td> 2.978877</td>\n",
       "      <td> 14.350000</td>\n",
       "      <td>-13.350000</td>\n",
       "      <td> positive regulation of prostaglandin-endoperox...</td>\n",
       "    </tr>\n",
       "    <tr>\n",
       "      <th>GO:0032731</th>\n",
       "      <td>  192</td>\n",
       "      <td>  231</td>\n",
       "      <td>  1</td>\n",
       "      <td> 17</td>\n",
       "      <td> 4.716650</td>\n",
       "      <td> 14.129870</td>\n",
       "      <td>-13.129870</td>\n",
       "      <td> positive regulation of interleukin-1 beta prod...</td>\n",
       "    </tr>\n",
       "    <tr>\n",
       "      <th>GO:0001845</th>\n",
       "      <td> 1129</td>\n",
       "      <td> 3588</td>\n",
       "      <td>  1</td>\n",
       "      <td> 44</td>\n",
       "      <td> 1.916601</td>\n",
       "      <td> 13.845039</td>\n",
       "      <td>-12.845039</td>\n",
       "      <td>                            phagolysosome assembly</td>\n",
       "    </tr>\n",
       "    <tr>\n",
       "      <th>GO:0034353</th>\n",
       "      <td>   24</td>\n",
       "      <td>   18</td>\n",
       "      <td>  1</td>\n",
       "      <td> 10</td>\n",
       "      <td> 0.994949</td>\n",
       "      <td> 13.333333</td>\n",
       "      <td>-12.333333</td>\n",
       "      <td>                 RNA pyrophosphohydrolase activity</td>\n",
       "    </tr>\n",
       "    <tr>\n",
       "      <th>GO:0050779</th>\n",
       "      <td>   24</td>\n",
       "      <td>   18</td>\n",
       "      <td>  1</td>\n",
       "      <td> 10</td>\n",
       "      <td> 0.994949</td>\n",
       "      <td> 13.333333</td>\n",
       "      <td>-12.333333</td>\n",
       "      <td>                               RNA destabilization</td>\n",
       "    </tr>\n",
       "    <tr>\n",
       "      <th>GO:0046914</th>\n",
       "      <td>  191</td>\n",
       "      <td>  204</td>\n",
       "      <td>  1</td>\n",
       "      <td> 14</td>\n",
       "      <td> 2.854337</td>\n",
       "      <td> 13.107843</td>\n",
       "      <td>-12.107843</td>\n",
       "      <td>                      transition metal ion binding</td>\n",
       "    </tr>\n",
       "    <tr>\n",
       "      <th>GO:0003953</th>\n",
       "      <td>   43</td>\n",
       "      <td>   19</td>\n",
       "      <td>  2</td>\n",
       "      <td> 11</td>\n",
       "      <td> 1.988069</td>\n",
       "      <td> 12.447368</td>\n",
       "      <td>-11.447368</td>\n",
       "      <td>                        NAD+ nucleosidase activity</td>\n",
       "    </tr>\n",
       "    <tr>\n",
       "      <th>GO:0002204</th>\n",
       "      <td>  362</td>\n",
       "      <td>  473</td>\n",
       "      <td>  1</td>\n",
       "      <td> 16</td>\n",
       "      <td> 1.985906</td>\n",
       "      <td> 12.245243</td>\n",
       "      <td>-11.245243</td>\n",
       "      <td> somatic recombination of immunoglobulin genes ...</td>\n",
       "    </tr>\n",
       "    <tr>\n",
       "      <th>GO:0021695</th>\n",
       "      <td>  219</td>\n",
       "      <td>  398</td>\n",
       "      <td>  1</td>\n",
       "      <td> 22</td>\n",
       "      <td> 4.901920</td>\n",
       "      <td> 12.105528</td>\n",
       "      <td>-11.105528</td>\n",
       "      <td>                     cerebellar cortex development</td>\n",
       "    </tr>\n",
       "    <tr>\n",
       "      <th>GO:0050333</th>\n",
       "      <td>    8</td>\n",
       "      <td>    2</td>\n",
       "      <td>  1</td>\n",
       "      <td>  3</td>\n",
       "      <td> 0.997101</td>\n",
       "      <td> 12.000000</td>\n",
       "      <td>-11.000000</td>\n",
       "      <td>                   thiamin-triphosphatase activity</td>\n",
       "    </tr>\n",
       "    <tr>\n",
       "      <th>GO:0042357</th>\n",
       "      <td>    8</td>\n",
       "      <td>    2</td>\n",
       "      <td>  1</td>\n",
       "      <td>  3</td>\n",
       "      <td> 0.997101</td>\n",
       "      <td> 12.000000</td>\n",
       "      <td>-11.000000</td>\n",
       "      <td>            thiamine diphosphate metabolic process</td>\n",
       "    </tr>\n",
       "    <tr>\n",
       "      <th>GO:0070537</th>\n",
       "      <td>  102</td>\n",
       "      <td>   51</td>\n",
       "      <td>  1</td>\n",
       "      <td>  6</td>\n",
       "      <td> 0.993140</td>\n",
       "      <td> 12.000000</td>\n",
       "      <td>-11.000000</td>\n",
       "      <td>           histone H2A K63-linked deubiquitination</td>\n",
       "    </tr>\n",
       "    <tr>\n",
       "      <th>GO:0004861</th>\n",
       "      <td>   44</td>\n",
       "      <td>   16</td>\n",
       "      <td>  3</td>\n",
       "      <td> 13</td>\n",
       "      <td> 3.981113</td>\n",
       "      <td> 11.916667</td>\n",
       "      <td>-10.916667</td>\n",
       "      <td> cyclin-dependent protein serine/threonine kina...</td>\n",
       "    </tr>\n",
       "    <tr>\n",
       "      <th>GO:0004741</th>\n",
       "      <td>    9</td>\n",
       "      <td>   10</td>\n",
       "      <td>  1</td>\n",
       "      <td> 13</td>\n",
       "      <td> 1.998251</td>\n",
       "      <td> 11.700000</td>\n",
       "      <td>-10.700000</td>\n",
       "      <td> [pyruvate dehydrogenase (lipoamide)] phosphata...</td>\n",
       "    </tr>\n",
       "    <tr>\n",
       "      <th>GO:0034340</th>\n",
       "      <td>   44</td>\n",
       "      <td>   41</td>\n",
       "      <td>  3</td>\n",
       "      <td> 32</td>\n",
       "      <td> 2.810638</td>\n",
       "      <td> 11.447154</td>\n",
       "      <td>-10.447154</td>\n",
       "      <td>                     response to type I interferon</td>\n",
       "    </tr>\n",
       "    <tr>\n",
       "      <th>GO:0047016</th>\n",
       "      <td>   30</td>\n",
       "      <td>   24</td>\n",
       "      <td>  1</td>\n",
       "      <td>  9</td>\n",
       "      <td> 0.994580</td>\n",
       "      <td> 11.250000</td>\n",
       "      <td>-10.250000</td>\n",
       "      <td> cholest-5-ene-3-beta,7-alpha-diol 3-beta-dehyd...</td>\n",
       "    </tr>\n",
       "    <tr>\n",
       "      <th>GO:0034679</th>\n",
       "      <td>  540</td>\n",
       "      <td>  918</td>\n",
       "      <td>  1</td>\n",
       "      <td> 19</td>\n",
       "      <td> 0.956817</td>\n",
       "      <td> 11.176471</td>\n",
       "      <td>-10.176471</td>\n",
       "      <td>                     integrin alpha9-beta1 complex</td>\n",
       "    </tr>\n",
       "    <tr>\n",
       "      <th>GO:0052629</th>\n",
       "      <td>   54</td>\n",
       "      <td>   69</td>\n",
       "      <td>  1</td>\n",
       "      <td> 14</td>\n",
       "      <td> 1.984316</td>\n",
       "      <td> 10.956522</td>\n",
       "      <td> -9.956522</td>\n",
       "      <td> phosphatidylinositol-3,5-bisphosphate 3-phosph...</td>\n",
       "    </tr>\n",
       "    <tr>\n",
       "      <th>...</th>\n",
       "      <td>...</td>\n",
       "      <td>...</td>\n",
       "      <td>...</td>\n",
       "      <td>...</td>\n",
       "      <td>...</td>\n",
       "      <td>...</td>\n",
       "      <td>...</td>\n",
       "      <td>...</td>\n",
       "    </tr>\n",
       "    <tr>\n",
       "      <th>GO:0046356</th>\n",
       "      <td>    4</td>\n",
       "      <td>   36</td>\n",
       "      <td>  3</td>\n",
       "      <td>  2</td>\n",
       "      <td> 0.994398</td>\n",
       "      <td>  0.074074</td>\n",
       "      <td>  0.925926</td>\n",
       "      <td>                      acetyl-CoA catabolic process</td>\n",
       "    </tr>\n",
       "    <tr>\n",
       "      <th>GO:0004483</th>\n",
       "      <td>    8</td>\n",
       "      <td>  145</td>\n",
       "      <td>  3</td>\n",
       "      <td>  4</td>\n",
       "      <td> 1.990385</td>\n",
       "      <td>  0.073563</td>\n",
       "      <td>  0.926437</td>\n",
       "      <td> mRNA (nucleoside-2'-O-)-methyltransferase acti...</td>\n",
       "    </tr>\n",
       "    <tr>\n",
       "      <th>GO:0072091</th>\n",
       "      <td>   10</td>\n",
       "      <td>  166</td>\n",
       "      <td>  5</td>\n",
       "      <td>  6</td>\n",
       "      <td> 1.991018</td>\n",
       "      <td>  0.072289</td>\n",
       "      <td>  0.927711</td>\n",
       "      <td>             regulation of stem cell proliferation</td>\n",
       "    </tr>\n",
       "    <tr>\n",
       "      <th>GO:0006742</th>\n",
       "      <td>   12</td>\n",
       "      <td>   43</td>\n",
       "      <td>  4</td>\n",
       "      <td>  1</td>\n",
       "      <td> 1.987426</td>\n",
       "      <td>  0.069767</td>\n",
       "      <td>  0.930233</td>\n",
       "      <td>                            NADP catabolic process</td>\n",
       "    </tr>\n",
       "    <tr>\n",
       "      <th>GO:0005687</th>\n",
       "      <td>    7</td>\n",
       "      <td>  255</td>\n",
       "      <td>  2</td>\n",
       "      <td>  5</td>\n",
       "      <td> 3.650247</td>\n",
       "      <td>  0.068627</td>\n",
       "      <td>  0.931373</td>\n",
       "      <td>                                          U4 snRNP</td>\n",
       "    </tr>\n",
       "    <tr>\n",
       "      <th>GO:0030007</th>\n",
       "      <td>   33</td>\n",
       "      <td> 1553</td>\n",
       "      <td> 11</td>\n",
       "      <td> 35</td>\n",
       "      <td> 4.960042</td>\n",
       "      <td>  0.067611</td>\n",
       "      <td>  0.932389</td>\n",
       "      <td>                cellular potassium ion homeostasis</td>\n",
       "    </tr>\n",
       "    <tr>\n",
       "      <th>GO:0004654</th>\n",
       "      <td>   28</td>\n",
       "      <td>  308</td>\n",
       "      <td> 10</td>\n",
       "      <td>  7</td>\n",
       "      <td> 0.890306</td>\n",
       "      <td>  0.063636</td>\n",
       "      <td>  0.936364</td>\n",
       "      <td> polyribonucleotide nucleotidyltransferase acti...</td>\n",
       "    </tr>\n",
       "    <tr>\n",
       "      <th>GO:0097222</th>\n",
       "      <td>   28</td>\n",
       "      <td>  308</td>\n",
       "      <td> 10</td>\n",
       "      <td>  7</td>\n",
       "      <td> 0.890306</td>\n",
       "      <td>  0.063636</td>\n",
       "      <td>  0.936364</td>\n",
       "      <td>                mitochondrial mRNA polyadenylation</td>\n",
       "    </tr>\n",
       "    <tr>\n",
       "      <th>GO:0071042</th>\n",
       "      <td>   28</td>\n",
       "      <td>  308</td>\n",
       "      <td> 10</td>\n",
       "      <td>  7</td>\n",
       "      <td> 0.890306</td>\n",
       "      <td>  0.063636</td>\n",
       "      <td>  0.936364</td>\n",
       "      <td> nuclear polyadenylation-dependent mRNA catabol...</td>\n",
       "    </tr>\n",
       "    <tr>\n",
       "      <th>GO:0000957</th>\n",
       "      <td>   28</td>\n",
       "      <td>  308</td>\n",
       "      <td> 10</td>\n",
       "      <td>  7</td>\n",
       "      <td> 0.890306</td>\n",
       "      <td>  0.063636</td>\n",
       "      <td>  0.936364</td>\n",
       "      <td>               mitochondrial RNA catabolic process</td>\n",
       "    </tr>\n",
       "    <tr>\n",
       "      <th>GO:2000627</th>\n",
       "      <td>   28</td>\n",
       "      <td>  308</td>\n",
       "      <td> 10</td>\n",
       "      <td>  7</td>\n",
       "      <td> 0.890306</td>\n",
       "      <td>  0.063636</td>\n",
       "      <td>  0.936364</td>\n",
       "      <td>    positive regulation of miRNA catabolic process</td>\n",
       "    </tr>\n",
       "    <tr>\n",
       "      <th>GO:0035927</th>\n",
       "      <td>   28</td>\n",
       "      <td>  308</td>\n",
       "      <td> 10</td>\n",
       "      <td>  7</td>\n",
       "      <td> 0.890306</td>\n",
       "      <td>  0.063636</td>\n",
       "      <td>  0.936364</td>\n",
       "      <td>                     RNA import into mitochondrion</td>\n",
       "    </tr>\n",
       "    <tr>\n",
       "      <th>GO:0060178</th>\n",
       "      <td>   31</td>\n",
       "      <td>  496</td>\n",
       "      <td>  2</td>\n",
       "      <td>  2</td>\n",
       "      <td> 0.993193</td>\n",
       "      <td>  0.062500</td>\n",
       "      <td>  0.937500</td>\n",
       "      <td>                regulation of exocyst localization</td>\n",
       "    </tr>\n",
       "    <tr>\n",
       "      <th>GO:0032484</th>\n",
       "      <td>   31</td>\n",
       "      <td>  496</td>\n",
       "      <td>  2</td>\n",
       "      <td>  2</td>\n",
       "      <td> 0.993193</td>\n",
       "      <td>  0.062500</td>\n",
       "      <td>  0.937500</td>\n",
       "      <td>                   Ral protein signal transduction</td>\n",
       "    </tr>\n",
       "    <tr>\n",
       "      <th>GO:1900016</th>\n",
       "      <td>   40</td>\n",
       "      <td>  192</td>\n",
       "      <td>  7</td>\n",
       "      <td>  2</td>\n",
       "      <td> 1.889468</td>\n",
       "      <td>  0.059524</td>\n",
       "      <td>  0.940476</td>\n",
       "      <td> negative regulation of cytokine production inv...</td>\n",
       "    </tr>\n",
       "    <tr>\n",
       "      <th>GO:0000917</th>\n",
       "      <td>   15</td>\n",
       "      <td>  129</td>\n",
       "      <td>  4</td>\n",
       "      <td>  2</td>\n",
       "      <td> 1.980754</td>\n",
       "      <td>  0.058140</td>\n",
       "      <td>  0.941860</td>\n",
       "      <td>                           barrier septum assembly</td>\n",
       "    </tr>\n",
       "    <tr>\n",
       "      <th>GO:0004563</th>\n",
       "      <td>    6</td>\n",
       "      <td>   52</td>\n",
       "      <td>  2</td>\n",
       "      <td>  1</td>\n",
       "      <td> 1.744527</td>\n",
       "      <td>  0.057692</td>\n",
       "      <td>  0.942308</td>\n",
       "      <td>              beta-N-acetylhexosaminidase activity</td>\n",
       "    </tr>\n",
       "    <tr>\n",
       "      <th>GO:0043631</th>\n",
       "      <td>   28</td>\n",
       "      <td>  388</td>\n",
       "      <td> 12</td>\n",
       "      <td>  9</td>\n",
       "      <td> 2.726765</td>\n",
       "      <td>  0.054124</td>\n",
       "      <td>  0.945876</td>\n",
       "      <td>                               RNA polyadenylation</td>\n",
       "    </tr>\n",
       "    <tr>\n",
       "      <th>GO:0006844</th>\n",
       "      <td>    4</td>\n",
       "      <td>   40</td>\n",
       "      <td>  6</td>\n",
       "      <td>  3</td>\n",
       "      <td> 0.959695</td>\n",
       "      <td>  0.050000</td>\n",
       "      <td>  0.950000</td>\n",
       "      <td>                          acyl carnitine transport</td>\n",
       "    </tr>\n",
       "    <tr>\n",
       "      <th>GO:0004582</th>\n",
       "      <td>    1</td>\n",
       "      <td>   10</td>\n",
       "      <td>  2</td>\n",
       "      <td>  1</td>\n",
       "      <td> 1.985340</td>\n",
       "      <td>  0.050000</td>\n",
       "      <td>  0.950000</td>\n",
       "      <td> dolichyl-phosphate beta-D-mannosyltransferase ...</td>\n",
       "    </tr>\n",
       "    <tr>\n",
       "      <th>GO:0007195</th>\n",
       "      <td>    7</td>\n",
       "      <td>  665</td>\n",
       "      <td>  4</td>\n",
       "      <td> 19</td>\n",
       "      <td> 1.983810</td>\n",
       "      <td>  0.050000</td>\n",
       "      <td>  0.950000</td>\n",
       "      <td> adenylate cyclase-inhibiting dopamine receptor...</td>\n",
       "    </tr>\n",
       "    <tr>\n",
       "      <th>GO:1902616</th>\n",
       "      <td>    4</td>\n",
       "      <td>   40</td>\n",
       "      <td>  6</td>\n",
       "      <td>  3</td>\n",
       "      <td> 0.959695</td>\n",
       "      <td>  0.050000</td>\n",
       "      <td>  0.950000</td>\n",
       "      <td>            acyl carnitine transmembrane transport</td>\n",
       "    </tr>\n",
       "    <tr>\n",
       "      <th>GO:0033185</th>\n",
       "      <td>    1</td>\n",
       "      <td>   10</td>\n",
       "      <td>  2</td>\n",
       "      <td>  1</td>\n",
       "      <td> 1.985340</td>\n",
       "      <td>  0.050000</td>\n",
       "      <td>  0.950000</td>\n",
       "      <td>       dolichol-phosphate-mannose synthase complex</td>\n",
       "    </tr>\n",
       "    <tr>\n",
       "      <th>GO:0015227</th>\n",
       "      <td>    4</td>\n",
       "      <td>   40</td>\n",
       "      <td>  6</td>\n",
       "      <td>  3</td>\n",
       "      <td> 0.959695</td>\n",
       "      <td>  0.050000</td>\n",
       "      <td>  0.950000</td>\n",
       "      <td> acyl carnitine transmembrane transporter activity</td>\n",
       "    </tr>\n",
       "    <tr>\n",
       "      <th>GO:0031748</th>\n",
       "      <td>   15</td>\n",
       "      <td>  373</td>\n",
       "      <td>  9</td>\n",
       "      <td> 11</td>\n",
       "      <td> 3.874394</td>\n",
       "      <td>  0.049151</td>\n",
       "      <td>  0.950849</td>\n",
       "      <td>                      D1 dopamine receptor binding</td>\n",
       "    </tr>\n",
       "    <tr>\n",
       "      <th>GO:2000078</th>\n",
       "      <td>    3</td>\n",
       "      <td>  156</td>\n",
       "      <td>  2</td>\n",
       "      <td>  5</td>\n",
       "      <td> 1.986487</td>\n",
       "      <td>  0.048077</td>\n",
       "      <td>  0.951923</td>\n",
       "      <td> positive regulation of type B pancreatic cell ...</td>\n",
       "    </tr>\n",
       "    <tr>\n",
       "      <th>GO:0000964</th>\n",
       "      <td>   33</td>\n",
       "      <td>  310</td>\n",
       "      <td> 18</td>\n",
       "      <td>  8</td>\n",
       "      <td> 1.889483</td>\n",
       "      <td>  0.047312</td>\n",
       "      <td>  0.952688</td>\n",
       "      <td>               mitochondrial RNA 5'-end processing</td>\n",
       "    </tr>\n",
       "    <tr>\n",
       "      <th>GO:0097224</th>\n",
       "      <td>   18</td>\n",
       "      <td>   48</td>\n",
       "      <td> 13</td>\n",
       "      <td>  1</td>\n",
       "      <td> 0.852778</td>\n",
       "      <td>  0.028846</td>\n",
       "      <td>  0.971154</td>\n",
       "      <td>                            sperm connecting piece</td>\n",
       "    </tr>\n",
       "    <tr>\n",
       "      <th>GO:0010941</th>\n",
       "      <td>    2</td>\n",
       "      <td>  180</td>\n",
       "      <td>  2</td>\n",
       "      <td>  4</td>\n",
       "      <td> 2.822676</td>\n",
       "      <td>  0.022222</td>\n",
       "      <td>  0.977778</td>\n",
       "      <td>                          regulation of cell death</td>\n",
       "    </tr>\n",
       "    <tr>\n",
       "      <th>GO:0036376</th>\n",
       "      <td>    7</td>\n",
       "      <td>  981</td>\n",
       "      <td> 11</td>\n",
       "      <td> 26</td>\n",
       "      <td> 3.969032</td>\n",
       "      <td>  0.016866</td>\n",
       "      <td>  0.983134</td>\n",
       "      <td>                       sodium ion export from cell</td>\n",
       "    </tr>\n",
       "  </tbody>\n",
       "</table>\n",
       "<p>10956 rows × 8 columns</p>\n",
       "</div>"
      ],
      "text/plain": [
       "                 pn    ps  dn  ds  fraction_outgroup_align  neutrality_index  \\\n",
       "go_identifier                                                                  \n",
       "GO:0008310      106     3  10  13                 1.871988         45.933333   \n",
       "GO:2000110       66     6   1   3                 1.921671         33.000000   \n",
       "GO:0031861       12     2   1   4                 0.969349         24.000000   \n",
       "GO:0048483       12     2   1   4                 0.969349         24.000000   \n",
       "GO:0006610       85    34   1   7                 0.989349         17.500000   \n",
       "GO:0000340       66    12   1   3                 1.987008         16.500000   \n",
       "GO:0032020       70    28   1   6                 2.911452         15.000000   \n",
       "GO:0042296       66    22   1   5                 1.915492         15.000000   \n",
       "GO:0003335       35     7   1   3                 0.954600         15.000000   \n",
       "GO:0008054       48    16   1   5                 0.990991         15.000000   \n",
       "GO:0060075       36    48   1  20                 1.995031         15.000000   \n",
       "GO:0046523      102    90   1  13                 0.994667         14.733333   \n",
       "GO:0060585      123    20   3   7                 2.978877         14.350000   \n",
       "GO:0032731      192   231   1  17                 4.716650         14.129870   \n",
       "GO:0001845     1129  3588   1  44                 1.916601         13.845039   \n",
       "GO:0034353       24    18   1  10                 0.994949         13.333333   \n",
       "GO:0050779       24    18   1  10                 0.994949         13.333333   \n",
       "GO:0046914      191   204   1  14                 2.854337         13.107843   \n",
       "GO:0003953       43    19   2  11                 1.988069         12.447368   \n",
       "GO:0002204      362   473   1  16                 1.985906         12.245243   \n",
       "GO:0021695      219   398   1  22                 4.901920         12.105528   \n",
       "GO:0050333        8     2   1   3                 0.997101         12.000000   \n",
       "GO:0042357        8     2   1   3                 0.997101         12.000000   \n",
       "GO:0070537      102    51   1   6                 0.993140         12.000000   \n",
       "GO:0004861       44    16   3  13                 3.981113         11.916667   \n",
       "GO:0004741        9    10   1  13                 1.998251         11.700000   \n",
       "GO:0034340       44    41   3  32                 2.810638         11.447154   \n",
       "GO:0047016       30    24   1   9                 0.994580         11.250000   \n",
       "GO:0034679      540   918   1  19                 0.956817         11.176471   \n",
       "GO:0052629       54    69   1  14                 1.984316         10.956522   \n",
       "...             ...   ...  ..  ..                      ...               ...   \n",
       "GO:0046356        4    36   3   2                 0.994398          0.074074   \n",
       "GO:0004483        8   145   3   4                 1.990385          0.073563   \n",
       "GO:0072091       10   166   5   6                 1.991018          0.072289   \n",
       "GO:0006742       12    43   4   1                 1.987426          0.069767   \n",
       "GO:0005687        7   255   2   5                 3.650247          0.068627   \n",
       "GO:0030007       33  1553  11  35                 4.960042          0.067611   \n",
       "GO:0004654       28   308  10   7                 0.890306          0.063636   \n",
       "GO:0097222       28   308  10   7                 0.890306          0.063636   \n",
       "GO:0071042       28   308  10   7                 0.890306          0.063636   \n",
       "GO:0000957       28   308  10   7                 0.890306          0.063636   \n",
       "GO:2000627       28   308  10   7                 0.890306          0.063636   \n",
       "GO:0035927       28   308  10   7                 0.890306          0.063636   \n",
       "GO:0060178       31   496   2   2                 0.993193          0.062500   \n",
       "GO:0032484       31   496   2   2                 0.993193          0.062500   \n",
       "GO:1900016       40   192   7   2                 1.889468          0.059524   \n",
       "GO:0000917       15   129   4   2                 1.980754          0.058140   \n",
       "GO:0004563        6    52   2   1                 1.744527          0.057692   \n",
       "GO:0043631       28   388  12   9                 2.726765          0.054124   \n",
       "GO:0006844        4    40   6   3                 0.959695          0.050000   \n",
       "GO:0004582        1    10   2   1                 1.985340          0.050000   \n",
       "GO:0007195        7   665   4  19                 1.983810          0.050000   \n",
       "GO:1902616        4    40   6   3                 0.959695          0.050000   \n",
       "GO:0033185        1    10   2   1                 1.985340          0.050000   \n",
       "GO:0015227        4    40   6   3                 0.959695          0.050000   \n",
       "GO:0031748       15   373   9  11                 3.874394          0.049151   \n",
       "GO:2000078        3   156   2   5                 1.986487          0.048077   \n",
       "GO:0000964       33   310  18   8                 1.889483          0.047312   \n",
       "GO:0097224       18    48  13   1                 0.852778          0.028846   \n",
       "GO:0010941        2   180   2   4                 2.822676          0.022222   \n",
       "GO:0036376        7   981  11  26                 3.969032          0.016866   \n",
       "\n",
       "                   alpha                                            go_name  \n",
       "go_identifier                                                                \n",
       "GO:0008310    -44.933333  single-stranded DNA 3'-5' exodeoxyribonuclease...  \n",
       "GO:2000110    -32.000000  negative regulation of macrophage apoptotic pr...  \n",
       "GO:0031861    -23.000000       prolactin-releasing peptide receptor binding  \n",
       "GO:0048483    -23.000000               autonomic nervous system development  \n",
       "GO:0006610    -16.500000              ribosomal protein import into nucleus  \n",
       "GO:0000340    -15.500000                  RNA 7-methylguanosine cap binding  \n",
       "GO:0032020    -14.000000                          ISG15-protein conjugation  \n",
       "GO:0042296    -14.000000                              ISG15 ligase activity  \n",
       "GO:0003335    -14.000000                             corneocyte development  \n",
       "GO:0008054    -14.000000                           cyclin catabolic process  \n",
       "GO:0060075    -14.000000           regulation of resting membrane potential  \n",
       "GO:0046523    -13.733333  S-methyl-5-thioribose-1-phosphate isomerase ac...  \n",
       "GO:0060585    -13.350000  positive regulation of prostaglandin-endoperox...  \n",
       "GO:0032731    -13.129870  positive regulation of interleukin-1 beta prod...  \n",
       "GO:0001845    -12.845039                             phagolysosome assembly  \n",
       "GO:0034353    -12.333333                  RNA pyrophosphohydrolase activity  \n",
       "GO:0050779    -12.333333                                RNA destabilization  \n",
       "GO:0046914    -12.107843                       transition metal ion binding  \n",
       "GO:0003953    -11.447368                         NAD+ nucleosidase activity  \n",
       "GO:0002204    -11.245243  somatic recombination of immunoglobulin genes ...  \n",
       "GO:0021695    -11.105528                      cerebellar cortex development  \n",
       "GO:0050333    -11.000000                    thiamin-triphosphatase activity  \n",
       "GO:0042357    -11.000000             thiamine diphosphate metabolic process  \n",
       "GO:0070537    -11.000000            histone H2A K63-linked deubiquitination  \n",
       "GO:0004861    -10.916667  cyclin-dependent protein serine/threonine kina...  \n",
       "GO:0004741    -10.700000  [pyruvate dehydrogenase (lipoamide)] phosphata...  \n",
       "GO:0034340    -10.447154                      response to type I interferon  \n",
       "GO:0047016    -10.250000  cholest-5-ene-3-beta,7-alpha-diol 3-beta-dehyd...  \n",
       "GO:0034679    -10.176471                      integrin alpha9-beta1 complex  \n",
       "GO:0052629     -9.956522  phosphatidylinositol-3,5-bisphosphate 3-phosph...  \n",
       "...                  ...                                                ...  \n",
       "GO:0046356      0.925926                       acetyl-CoA catabolic process  \n",
       "GO:0004483      0.926437  mRNA (nucleoside-2'-O-)-methyltransferase acti...  \n",
       "GO:0072091      0.927711              regulation of stem cell proliferation  \n",
       "GO:0006742      0.930233                             NADP catabolic process  \n",
       "GO:0005687      0.931373                                           U4 snRNP  \n",
       "GO:0030007      0.932389                 cellular potassium ion homeostasis  \n",
       "GO:0004654      0.936364  polyribonucleotide nucleotidyltransferase acti...  \n",
       "GO:0097222      0.936364                 mitochondrial mRNA polyadenylation  \n",
       "GO:0071042      0.936364  nuclear polyadenylation-dependent mRNA catabol...  \n",
       "GO:0000957      0.936364                mitochondrial RNA catabolic process  \n",
       "GO:2000627      0.936364     positive regulation of miRNA catabolic process  \n",
       "GO:0035927      0.936364                      RNA import into mitochondrion  \n",
       "GO:0060178      0.937500                 regulation of exocyst localization  \n",
       "GO:0032484      0.937500                    Ral protein signal transduction  \n",
       "GO:1900016      0.940476  negative regulation of cytokine production inv...  \n",
       "GO:0000917      0.941860                            barrier septum assembly  \n",
       "GO:0004563      0.942308               beta-N-acetylhexosaminidase activity  \n",
       "GO:0043631      0.945876                                RNA polyadenylation  \n",
       "GO:0006844      0.950000                           acyl carnitine transport  \n",
       "GO:0004582      0.950000  dolichyl-phosphate beta-D-mannosyltransferase ...  \n",
       "GO:0007195      0.950000  adenylate cyclase-inhibiting dopamine receptor...  \n",
       "GO:1902616      0.950000             acyl carnitine transmembrane transport  \n",
       "GO:0033185      0.950000        dolichol-phosphate-mannose synthase complex  \n",
       "GO:0015227      0.950000  acyl carnitine transmembrane transporter activity  \n",
       "GO:0031748      0.950849                       D1 dopamine receptor binding  \n",
       "GO:2000078      0.951923  positive regulation of type B pancreatic cell ...  \n",
       "GO:0000964      0.952688                mitochondrial RNA 5'-end processing  \n",
       "GO:0097224      0.971154                             sperm connecting piece  \n",
       "GO:0010941      0.977778                           regulation of cell death  \n",
       "GO:0036376      0.983134                        sodium ion export from cell  \n",
       "\n",
       "[10956 rows x 8 columns]"
      ]
     },
     "execution_count": 721,
     "metadata": {},
     "output_type": "execute_result"
    }
   ],
   "source": [
    "nonzero_mk_per_go"
   ]
  },
  {
   "cell_type": "code",
   "execution_count": 720,
   "metadata": {
    "collapsed": false
   },
   "outputs": [
    {
     "data": {
      "text/plain": [
       "pn                                                                    114210\n",
       "ps                                                                    278844\n",
       "dn                                                                      2460\n",
       "ds                                                                      6155\n",
       "fraction_outgroup_align                                             791.4731\n",
       "neutrality_index                                                    1.024792\n",
       "alpha                                                            -0.02479212\n",
       "go_name                    interaction with hiv protein Tat from http://w...\n",
       "Name: hiv155871.0, dtype: object"
      ]
     },
     "execution_count": 720,
     "metadata": {},
     "output_type": "execute_result"
    }
   ],
   "source": [
    "nonzero_mk_per_go.ix['hiv155871.0']"
   ]
  },
  {
   "cell_type": "code",
   "execution_count": null,
   "metadata": {
    "collapsed": false
   },
   "outputs": [],
   "source": [
    "calculate divergence across vervet vs divergence to macaque -> accellerated gene evolution"
   ]
  },
  {
   "cell_type": "markdown",
   "metadata": {},
   "source": [
    "### pn ps for specific snps"
   ]
  },
  {
   "cell_type": "code",
   "execution_count": null,
   "metadata": {
    "collapsed": false
   },
   "outputs": [],
   "source": []
  },
  {
   "cell_type": "markdown",
   "metadata": {},
   "source": [
    "## Approach parsing the whole gene sequence in vcf:"
   ]
  },
  {
   "cell_type": "code",
   "execution_count": null,
   "metadata": {
    "collapsed": false
   },
   "outputs": [],
   "source": []
  },
  {
   "cell_type": "code",
   "execution_count": null,
   "metadata": {
    "collapsed": false
   },
   "outputs": [],
   "source": [
    "Requirements:\n",
    "80% of exon non-filtered\n",
    "\n",
    "Check:\n",
    "percentage of exon non-filtered\n",
    "alignment of exon to macaque\n"
   ]
  },
  {
   "cell_type": "code",
   "execution_count": 90,
   "metadata": {
    "collapsed": false
   },
   "outputs": [],
   "source": []
  },
  {
   "cell_type": "code",
   "execution_count": null,
   "metadata": {
    "collapsed": false
   },
   "outputs": [],
   "source": [
    "def get_gene_effect(gene_vcf):\n",
    "    for record in gene_vcf:\n",
    "        "
   ]
  },
  {
   "cell_type": "code",
   "execution_count": 106,
   "metadata": {
    "collapsed": false
   },
   "outputs": [
    {
     "name": "stdout",
     "output_type": "stream",
     "text": [
      "pass SNP\n"
     ]
    },
    {
     "ename": "TypeError",
     "evalue": "exceptions must be old-style classes or derived from BaseException, not NoneType",
     "output_type": "error",
     "traceback": [
      "\u001b[1;31m---------------------------------------------------------------------------\u001b[0m\n\u001b[1;31mTypeError\u001b[0m                                 Traceback (most recent call last)",
      "\u001b[1;32m<ipython-input-106-e6650ab101e2>\u001b[0m in \u001b[0;36m<module>\u001b[1;34m()\u001b[0m\n\u001b[0;32m     48\u001b[0m                     \u001b[1;32mif\u001b[0m  \u001b[1;32mnot\u001b[0m \u001b[0mrecord\u001b[0m\u001b[1;33m.\u001b[0m\u001b[0mFILTER\u001b[0m\u001b[1;33m:\u001b[0m\u001b[1;33m\u001b[0m\u001b[0m\n\u001b[0;32m     49\u001b[0m                         \u001b[1;32mprint\u001b[0m \u001b[1;34m\"pass SNP\"\u001b[0m\u001b[1;33m\u001b[0m\u001b[0m\n\u001b[1;32m---> 50\u001b[1;33m                         \u001b[1;32mraise\u001b[0m\u001b[1;33m\u001b[0m\u001b[0m\n\u001b[0m\u001b[0;32m     51\u001b[0m                     \u001b[1;32melse\u001b[0m\u001b[1;33m:\u001b[0m\u001b[1;33m\u001b[0m\u001b[0m\n\u001b[0;32m     52\u001b[0m                         \u001b[1;32mpass\u001b[0m\u001b[1;33m\u001b[0m\u001b[0m\n",
      "\u001b[1;31mTypeError\u001b[0m: exceptions must be old-style classes or derived from BaseException, not NoneType"
     ]
    }
   ],
   "source": [
    "\"\"\"\n",
    "Notes: \n",
    "We are ignoring indels for now.\n",
    "We are ignoring complicated effects,\n",
    "only count syn/ nonsyn and impact of the others \n",
    "We do not look at effects of filtered sites.\n",
    "\n",
    "This is only to extract overall effects. We need to look deeper for other effects\n",
    "\n",
    "\"\"\"\n",
    "gene_info_df = pd.DataFrame()\n",
    "prev_pos = [\"CAE0\",0]\n",
    "bases = ['A','C','G','T']\n",
    "no_var = ['.','X',None]\n",
    "variant_types_per_gene = {}\n",
    "\n",
    "var_dic = {}\n",
    "\n",
    "novar_dic = {}\n",
    "\n",
    "for gene in gene_df_ensembl.ix[chrom].iloc[19:27].itertuples():\n",
    "    start, end, id, name, type0 = gene\n",
    "    g_mac_seq = mac_seq['{}'.format(chrom)][start:end]\n",
    "    g_vcfr = vcfr.fetch(chrom,start,end)\n",
    "    variant_types_per_gene.update({name:[]})\n",
    "    dn = 0\n",
    "    ds = 0\n",
    "    pn = 0\n",
    "    ps = 0\n",
    "    d_impacts = {}\n",
    "    p_impacts = {}\n",
    "    exon_sites = 0\n",
    "    exon_sites_non_filter = 0\n",
    "    exon_sites_non_filter_macaque_info = 0\n",
    "    \n",
    "    #types = \n",
    "    for i,record in enumerate(g_vcfr):\n",
    "        if prev_pos == [record.CHROM,record.POS]: #skip multiple entries\n",
    "            continue\n",
    "        if len(record.ALT) == 1 and record.ALT[0] in bases: #check whether SNP (in vervet) or diff to macaque\n",
    "            add_effect(var_dic,record.INFO[\"ANN\"][0].split('|')[1])\n",
    "            try: #snp in vervet?\n",
    "                af = record.INFO[\"AF\"][0]\n",
    "                #print \"SNP\"\n",
    "                if af>0 and af<1:\n",
    "                    #print \"seg. SNP\"\n",
    "                    #print record.FILTER, record.INFO\n",
    "                    if  not record.FILTER:\n",
    "                        print \"pass SNP\"\n",
    "                        raise\n",
    "                    else:\n",
    "                        pass\n",
    "                        #add to filtered variants\n",
    "            except KeyError:\n",
    "                pass\n",
    "        #elif: #alternatively one could check for indels (disable skip above)\n",
    "        #or multiallelic variants\n",
    "\n",
    "        else:\n",
    "            add_effect(novar_dic,record.INFO[\"ANN\"][0].split('|')[1])\n",
    "        #check whether filtered\n",
    "        #if \n",
    "        #check whether exon\n",
    "        \n",
    "        #check whether different in \n",
    "        #snpeff_fields = record.INFO['ANN'][0].split('|')\n",
    "        #variant_types_per_gene[name].append(snpeff_fields[0])\n",
    "        #if len(record.INFO['ANN'])>1:\n",
    "        #    print \"len>1\"\n",
    "        #    break\n",
    "        #if i>50:\n",
    "        #    break\n",
    "        prev_pos = [record.CHROM,record.POS]\n",
    "    s = pd.Series({\"hallo\":\"du\",\"we\":np.random.rand()})  \n",
    "    s.name = name\n",
    "    gene_info_df = gene_info_df.append(s)"
   ]
  },
  {
   "cell_type": "code",
   "execution_count": 95,
   "metadata": {
    "collapsed": false
   },
   "outputs": [
    {
     "data": {
      "text/plain": [
       "{'3_prime_UTR_variant': 45,\n",
       " 'intron_variant': 20915,\n",
       " 'missense_variant': 37,\n",
       " 'splice_region_variant': 1,\n",
       " 'splice_region_variant&intron_variant': 4,\n",
       " 'stop_gained': 3,\n",
       " 'synonymous_variant': 48}"
      ]
     },
     "execution_count": 95,
     "metadata": {},
     "output_type": "execute_result"
    }
   ],
   "source": [
    "var_dic"
   ]
  },
  {
   "cell_type": "code",
   "execution_count": 96,
   "metadata": {
    "collapsed": false
   },
   "outputs": [
    {
     "data": {
      "text/plain": [
       "{'3_prime_UTR_variant': 2405,\n",
       " '5_prime_UTR_variant': 120,\n",
       " 'intragenic_variant': 342,\n",
       " 'intron_variant': 457559,\n",
       " 'missense_variant': 2,\n",
       " 'non_coding_exon_variant': 4794,\n",
       " 'splice_acceptor_variant&intron_variant': 60,\n",
       " 'splice_donor_variant&intron_variant': 60,\n",
       " 'splice_region_variant&intron_variant': 356,\n",
       " 'splice_region_variant&non_coding_exon_variant': 198}"
      ]
     },
     "execution_count": 96,
     "metadata": {},
     "output_type": "execute_result"
    }
   ],
   "source": [
    "novar_dic"
   ]
  },
  {
   "cell_type": "code",
   "execution_count": 45,
   "metadata": {
    "collapsed": false
   },
   "outputs": [],
   "source": [
    "for k,v in variant_types_per_gene.iteritems():\n",
    "    variant_types_per_gene[k] = list(set(v))"
   ]
  },
  {
   "cell_type": "code",
   "execution_count": 118,
   "metadata": {
    "collapsed": false
   },
   "outputs": [
    {
     "ename": "TypeError",
     "evalue": "'instancemethod' object has no attribute '__getitem__'",
     "output_type": "error",
     "traceback": [
      "\u001b[1;31m---------------------------------------------------------------------------\u001b[0m\n\u001b[1;31mTypeError\u001b[0m                                 Traceback (most recent call last)",
      "\u001b[1;32m<ipython-input-118-ebe72cb9d3f3>\u001b[0m in \u001b[0;36m<module>\u001b[1;34m()\u001b[0m\n\u001b[1;32m----> 1\u001b[1;33m \u001b[0mrecord\u001b[0m\u001b[1;33m.\u001b[0m\u001b[0mgenotype\u001b[0m\u001b[1;33m[\u001b[0m\u001b[1;34m\"AA\"\u001b[0m\u001b[1;33m]\u001b[0m\u001b[1;33m\u001b[0m\u001b[0m\n\u001b[0m",
      "\u001b[1;31mTypeError\u001b[0m: 'instancemethod' object has no attribute '__getitem__'"
     ]
    }
   ],
   "source": [
    "record.genotype[\"AA\"]"
   ]
  },
  {
   "cell_type": "code",
   "execution_count": 97,
   "metadata": {
    "collapsed": false
   },
   "outputs": [
    {
     "data": {
      "text/plain": [
       "['3_prime_UTR_variant']"
      ]
     },
     "execution_count": 97,
     "metadata": {},
     "output_type": "execute_result"
    }
   ],
   "source": [
    "'3_prime_UTR_variant'.split(\"&\")"
   ]
  },
  {
   "cell_type": "code",
   "execution_count": 46,
   "metadata": {
    "collapsed": false
   },
   "outputs": [
    {
     "data": {
      "text/plain": [
       "{'COX7A2': ['splice_acceptor_variant&intron_variant',\n",
       "  'splice_donor_variant&intron_variant',\n",
       "  '3_prime_UTR_variant',\n",
       "  'synonymous_variant',\n",
       "  'splice_region_variant&intron_variant',\n",
       "  'non_coding_exon_variant',\n",
       "  'missense_variant',\n",
       "  'splice_region_variant&non_coding_exon_variant',\n",
       "  'intragenic_variant',\n",
       "  'intron_variant'],\n",
       " 'TMEM30A': ['splice_acceptor_variant&intron_variant',\n",
       "  'disruptive_inframe_deletion',\n",
       "  'splice_donor_variant&intron_variant',\n",
       "  '3_prime_UTR_variant',\n",
       "  'intragenic_variant',\n",
       "  'synonymous_variant',\n",
       "  'splice_region_variant&intron_variant',\n",
       "  '5_prime_UTR_variant',\n",
       "  'non_coding_exon_variant',\n",
       "  'stop_retained_variant',\n",
       "  'missense_variant',\n",
       "  'splice_region_variant&non_coding_exon_variant',\n",
       "  '5_prime_UTR_premature_start_codon_gain_variant',\n",
       "  'intron_variant',\n",
       "  'stop_gained',\n",
       "  'inframe_insertion']}"
      ]
     },
     "execution_count": 46,
     "metadata": {},
     "output_type": "execute_result"
    }
   ],
   "source": [
    "variant_types_per_gene"
   ]
  },
  {
   "cell_type": "code",
   "execution_count": 117,
   "metadata": {
    "collapsed": false
   },
   "outputs": [
    {
     "data": {
      "text/plain": [
       "[Call(sample=A8518, CallData(GT=1/1, AB=None, AD=[0, 0], DP=3, GQ=9, PL=[85, 9, 0])),\n",
       " Call(sample=AG23, CallData(GT=1/1, AB=None, AD=[0, 7], DP=7, GQ=15, PL=[175, 15, 0])),\n",
       " Call(sample=AG5417, CallData(GT=1/1, AB=None, AD=[0, 15], DP=15, GQ=45, PL=[439, 45, 0])),\n",
       " Call(sample=AGM126, CallData(GT=1/1, AB=None, AD=[0, 21], DP=2, GQ=6, PL=[9, 0, 0])),\n",
       " Call(sample=AGM127, CallData(GT=1/1, AB=None, AD=[0, 5], DP=5, GQ=12, PL=[133, 0, 0])),\n",
       " Call(sample=AGM129, CallData(GT=1/1, AB=None, AD=[0, 4], DP=4, GQ=9, PL=[106, 9, 102])),\n",
       " Call(sample=AGM130, CallData(GT=1/1, AB=None, AD=[0, 9], DP=9, GQ=15, PL=[208, 15, 0])),\n",
       " Call(sample=AGM131, CallData(GT=1/1, AB=None, AD=[0, 6], DP=6, GQ=15, PL=[7, 15, 0])),\n",
       " Call(sample=AGM136, CallData(GT=1/1, AB=None, AD=[0, 7], DP=7, GQ=21, PL=[2, 0, 0])),\n",
       " Call(sample=AGM137, CallData(GT=1/1, AB=None, AD=[0, 3], DP=3, GQ=9, PL=[8, 9, 0])),\n",
       " Call(sample=AGM141, CallData(GT=1/1, AB=None, AD=[0, 21], DP=21, GQ=63, PL=[629, 0, 0])),\n",
       " Call(sample=AGM142, CallData(GT=1/1, AB=None, AD=[0, 6], DP=6, GQ=15, PL=[161, 0, 0])),\n",
       " Call(sample=AGM143, CallData(GT=1/1, AB=None, AD=[3, 3], DP=3, GQ=9, PL=[84, 9, 0])),\n",
       " Call(sample=AGM144, CallData(GT=None, AB=None, AD=None, DP=None, GQ=None, PL=None)),\n",
       " Call(sample=B5616, CallData(GT=1/1, AB=None, AD=[0, 13], DP=13, GQ=36, PL=[21, 0, 0])),\n",
       " Call(sample=C2166, CallData(GT=1/1, AB=None, AD=[0, 8], DP=8, GQ=15, PL=[176, 15, 0])),\n",
       " Call(sample=C2265, CallData(GT=None, AB=None, AD=None, DP=None, GQ=None, PL=None)),\n",
       " Call(sample=C2439, CallData(GT=1/1, AB=None, AD=[0, 7], DP=7, GQ=18, PL=[194, 18, 0])),\n",
       " Call(sample=V952, CallData(GT=1/1, AB=None, AD=[0, 3], DP=3, GQ=9, PL=[88, 9, 146])),\n",
       " Call(sample=VBOA1003, CallData(GT=1/1, AB=None, AD=[0, 8], DP=8, GQ=18, PL=[207, 18, 0])),\n",
       " Call(sample=VBOA1005, CallData(GT=1/1, AB=None, AD=[0, 11], DP=11, GQ=21, PL=[253, 21, 0])),\n",
       " Call(sample=VEA1001, CallData(GT=1/1, AB=None, AD=[0, 5], DP=5, GQ=12, PL=[131, 12, 0])),\n",
       " Call(sample=VEA1002, CallData(GT=0/0, AB=None, AD=[4, 0], DP=4, GQ=9, PL=[5, 0, 102])),\n",
       " Call(sample=VEA1003, CallData(GT=1/1, AB=None, AD=[0, 3], DP=3, GQ=9, PL=[90, 9, 0])),\n",
       " Call(sample=VEA1004, CallData(GT=1/1, AB=None, AD=[0, 7], DP=7, GQ=18, PL=[188, 18, 0])),\n",
       " Call(sample=VEA1005, CallData(GT=1/1, AB=None, AD=[0, 3], DP=3, GQ=9, PL=[87, 9, 0])),\n",
       " Call(sample=VEA1007, CallData(GT=1/1, AB=None, AD=[0, 8], DP=8, GQ=15, PL=[178, 15, 0])),\n",
       " Call(sample=VEA1008, CallData(GT=0/1, AB=0.23, AD=[0, 9], DP=13, GQ=46, PL=[220, 0, 46])),\n",
       " Call(sample=VEB1009, CallData(GT=1/1, AB=None, AD=[0, 14], DP=14, GQ=27, PL=[306, 27, 0])),\n",
       " Call(sample=VEB1010, CallData(GT=1/1, AB=None, AD=[4, 13], DP=13, GQ=30, PL=[0, 6, 0])),\n",
       " Call(sample=VEB1011, CallData(GT=None, AB=None, AD=None, DP=None, GQ=None, PL=None)),\n",
       " Call(sample=VEB1012, CallData(GT=1/1, AB=None, AD=[0, 9], DP=9, GQ=21, PL=[235, 21, 0])),\n",
       " Call(sample=VEB1013, CallData(GT=1/1, AB=None, AD=[0, 1], DP=1, GQ=3, PL=[24, 0, 30])),\n",
       " Call(sample=VEB1014, CallData(GT=1/1, AB=None, AD=[0, 3], DP=3, GQ=9, PL=[87, 9, 0])),\n",
       " Call(sample=VEB1015, CallData(GT=0/1, AB=0.45, AD=[5, 6], DP=11, GQ=99, PL=[116, 0, 100])),\n",
       " Call(sample=VEC1016, CallData(GT=1/1, AB=None, AD=[0, 6], DP=6, GQ=18, PL=[178, 18, 0])),\n",
       " Call(sample=VEC1017, CallData(GT=1/1, AB=None, AD=[0, 3], DP=3, GQ=6, PL=[73, 9, 84])),\n",
       " Call(sample=VGA00002, CallData(GT=0/1, AB=0.5, AD=[2, 2], DP=5, GQ=45, PL=[46, 0, 45])),\n",
       " Call(sample=VGA00006, CallData(GT=0/1, AB=0.45, AD=[5, 6], DP=11, GQ=99, PL=[121, 0, 101])),\n",
       " Call(sample=VGA00010, CallData(GT=1/1, AB=None, AD=[0, 3], DP=3, GQ=6, PL=[58, 6, 0])),\n",
       " Call(sample=VGA00019, CallData(GT=None, AB=None, AD=None, DP=None, GQ=None, PL=None)),\n",
       " Call(sample=VGA00021, CallData(GT=0/1, AB=0.4, AD=[2, 3], DP=5, GQ=41, PL=[77, 0, 41])),\n",
       " Call(sample=VGA00025, CallData(GT=0/1, AB=0.72, AD=[18, 7], DP=25, GQ=99, PL=[139, 0, 436])),\n",
       " Call(sample=VGA00085, CallData(GT=None, AB=None, AD=None, DP=None, GQ=None, PL=None)),\n",
       " Call(sample=VGA00090, CallData(GT=0/1, AB=0.17, AD=[1, 5], DP=6, GQ=17, PL=[109, 0, 17])),\n",
       " Call(sample=VGA00092, CallData(GT=0/1, AB=0.56, AD=[5, 4], DP=9, GQ=74, PL=[74, 0, 102])),\n",
       " Call(sample=VGA00098, CallData(GT=0/1, AB=0.75, AD=[6, 2], DP=8, GQ=47, PL=[47, 0, 129])),\n",
       " Call(sample=VGA00100, CallData(GT=0/1, AB=0.5, AD=[2, 2], DP=5, GQ=43, PL=[44, 0, 43])),\n",
       " Call(sample=VGA00101, CallData(GT=0/1, AB=0.67, AD=[4, 2], DP=6, GQ=15, PL=[15, 0, 100])),\n",
       " Call(sample=VGA00107, CallData(GT=0/0, AB=None, AD=[3, 0], DP=3, GQ=9, PL=[0, 9, 85])),\n",
       " Call(sample=VGA00114, CallData(GT=0/1, AB=0.83, AD=[2, 1], DP=6, GQ=15, PL=[15, 0, 92])),\n",
       " Call(sample=VGA00138, CallData(GT=0/1, AB=0.4, AD=[2, 3], DP=5, GQ=14, PL=[78, 0, 14])),\n",
       " Call(sample=VGA00142, CallData(GT=0/1, AB=0.6, AD=[3, 2], DP=5, GQ=46, PL=[46, 0, 61])),\n",
       " Call(sample=VGA00146, CallData(GT=0/1, AB=0.25, AD=[1, 3], DP=4, GQ=22, PL=[0, 21, 233])),\n",
       " Call(sample=VGA00151, CallData(GT=1/1, AB=None, AD=[0, 4], DP=4, GQ=12, PL=[117, 12, 0])),\n",
       " Call(sample=VGA00152, CallData(GT=1/1, AB=None, AD=[0, 8], DP=8, GQ=24, PL=[231, 24, 0])),\n",
       " Call(sample=VGA00153, CallData(GT=1/1, AB=None, AD=[0, 5], DP=5, GQ=12, PL=[135, 0, 0])),\n",
       " Call(sample=VGA00155, CallData(GT=1/1, AB=None, AD=[0, 4], DP=4, GQ=12, PL=[114, 12, 170])),\n",
       " Call(sample=VGA00156, CallData(GT=0/1, AB=0.6, AD=[3, 2], DP=5, GQ=45, PL=[1, 0, 59])),\n",
       " Call(sample=VGHA1001, CallData(GT=0/0, AB=None, AD=[1, 0], DP=1, GQ=3, PL=[0, 3, 782])),\n",
       " Call(sample=VGHB1002, CallData(GT=0/1, AB=0.67, AD=[4, 2], DP=6, GQ=36, PL=[36, 0, 64])),\n",
       " Call(sample=VKA3, CallData(GT=1/1, AB=None, AD=[0, 2], DP=2, GQ=6, PL=[58, 6, 0])),\n",
       " Call(sample=VKB7, CallData(GT=1/1, AB=None, AD=[0, 4], DP=4, GQ=12, PL=[0, 12, 108])),\n",
       " Call(sample=VKC6, CallData(GT=1/1, AB=None, AD=[4, 0], DP=2, GQ=6, PL=[58, 6, 0])),\n",
       " Call(sample=VKD7, CallData(GT=1/1, AB=None, AD=[0, 7], DP=7, GQ=18, PL=[2, 0, 0])),\n",
       " Call(sample=VSAA2010, CallData(GT=1/1, AB=None, AD=[0, 2], DP=2, GQ=6, PL=[6, 0, 0])),\n",
       " Call(sample=VSAA2015, CallData(GT=1/1, AB=None, AD=[0, 3], DP=3, GQ=9, PL=[81, 0, 0])),\n",
       " Call(sample=VSAA2020, CallData(GT=1/1, AB=None, AD=[0, 2], DP=2, GQ=6, PL=[53, 6, 0])),\n",
       " Call(sample=VSAB1003, CallData(GT=1/1, AB=None, AD=[0, 2], DP=2, GQ=6, PL=[1, 0, 0])),\n",
       " Call(sample=VSAB2009, CallData(GT=1/1, AB=None, AD=[0, 6], DP=6, GQ=15, PL=[139, 15, 0])),\n",
       " Call(sample=VSAB2010, CallData(GT=1/1, AB=None, AD=[0, 3], DP=3, GQ=9, PL=[80, 9, 0])),\n",
       " Call(sample=VSAB2011, CallData(GT=1/1, AB=None, AD=[0, 1], DP=1, GQ=3, PL=[28, 3, 0])),\n",
       " Call(sample=VSAB2012, CallData(GT=1/1, AB=None, AD=[0, 2], DP=2, GQ=6, PL=[55, 6, 0])),\n",
       " Call(sample=VSAB2017, CallData(GT=None, AB=None, AD=None, DP=None, GQ=None, PL=None)),\n",
       " Call(sample=VSAB2023, CallData(GT=1/1, AB=None, AD=[0, 4], DP=4, GQ=12, PL=[4, 0, 0])),\n",
       " Call(sample=VSAB3001, CallData(GT=1/1, AB=None, AD=[0, 1], DP=1, GQ=3, PL=[2, 0, 0])),\n",
       " Call(sample=VSAB3004, CallData(GT=1/1, AB=None, AD=[0, 0], DP=9, GQ=24, PL=[236, 24, 0])),\n",
       " Call(sample=VSAB5004, CallData(GT=1/1, AB=None, AD=[0, 6], DP=6, GQ=18, PL=[165, 15, 159])),\n",
       " Call(sample=VSAB5005, CallData(GT=1/1, AB=None, AD=[0, 1], DP=1, GQ=3, PL=[0, 12, 132])),\n",
       " Call(sample=VSAC1004, CallData(GT=1/1, AB=None, AD=[8, 0], DP=1, GQ=3, PL=[28, 3, 0])),\n",
       " Call(sample=VSAC1012, CallData(GT=1/1, AB=None, AD=[0, 5], DP=5, GQ=15, PL=[140, 15, 0])),\n",
       " Call(sample=VSAC1014, CallData(GT=1/1, AB=None, AD=[0, 2], DP=2, GQ=6, PL=[2, 0, 0])),\n",
       " Call(sample=VSAC1015, CallData(GT=1/1, AB=None, AD=[0, 4], DP=4, GQ=12, PL=[110, 3, 45])),\n",
       " Call(sample=VSAC1016, CallData(GT=None, AB=None, AD=None, DP=None, GQ=None, PL=None)),\n",
       " Call(sample=VSAD1003, CallData(GT=1/1, AB=None, AD=[0, 2], DP=2, GQ=6, PL=[60, 6, 0])),\n",
       " Call(sample=VSAE2005, CallData(GT=1/1, AB=None, AD=[0, 7], DP=7, GQ=18, PL=[2, 0, 0])),\n",
       " Call(sample=VSAE2009, CallData(GT=1/1, AB=None, AD=[0, 4], DP=4, GQ=12, PL=[7, 0, 0])),\n",
       " Call(sample=VSAE2011, CallData(GT=1/1, AB=None, AD=[3, 2], DP=2, GQ=6, PL=[0, 9, 84])),\n",
       " Call(sample=VSAE3001, CallData(GT=1/1, AB=None, AD=[5, 3], DP=3, GQ=9, PL=[0, 15, 145])),\n",
       " Call(sample=VSAE3002, CallData(GT=1/1, AB=None, AD=[0, 1], DP=1, GQ=3, PL=[0, 0, 0])),\n",
       " Call(sample=VSAE3003, CallData(GT=1/1, AB=None, AD=[1, 2], DP=3, GQ=6, PL=[55, 6, 0])),\n",
       " Call(sample=VSAF1004, CallData(GT=1/1, AB=None, AD=[0, 6], DP=6, GQ=18, PL=[164, 18, 0])),\n",
       " Call(sample=VSAF1009, CallData(GT=1/1, AB=None, AD=[0, 4], DP=4, GQ=12, PL=[2, 12, 0])),\n",
       " Call(sample=VSAF1011, CallData(GT=1/1, AB=None, AD=[0, 3], DP=3, GQ=9, PL=[80, 9, 0])),\n",
       " Call(sample=VSAF1012, CallData(GT=1/1, AB=None, AD=[0, 2], DP=2, GQ=3, PL=[45, 3, 0])),\n",
       " Call(sample=VSAF1015, CallData(GT=1/1, AB=None, AD=[0, 2], DP=2, GQ=6, PL=[52, 6, 0])),\n",
       " Call(sample=VSAG2001, CallData(GT=1/1, AB=None, AD=[0, 4], DP=4, GQ=12, PL=[0, 6, 74])),\n",
       " Call(sample=VSAG2003, CallData(GT=1/1, AB=None, AD=[0, 0], DP=1, GQ=3, PL=[26, 3, 191])),\n",
       " Call(sample=VSAG2005, CallData(GT=1/1, AB=None, AD=[0, 1], DP=1, GQ=3, PL=[29, 3, 0])),\n",
       " Call(sample=VSAH1001, CallData(GT=1/1, AB=None, AD=[0, 0], DP=4, GQ=6, PL=[0, 18, 178])),\n",
       " Call(sample=VSAI3005, CallData(GT=None, AB=None, AD=None, DP=None, GQ=None, PL=None)),\n",
       " Call(sample=VSAJ2008, CallData(GT=1/1, AB=None, AD=[0, 4], DP=4, GQ=12, PL=[118, 3, 30])),\n",
       " Call(sample=VSAK3004, CallData(GT=1/1, AB=None, AD=[5, 4], DP=4, GQ=9, PL=[0, 12, 108])),\n",
       " Call(sample=VSAL1001, CallData(GT=1/1, AB=None, AD=[0, 2], DP=2, GQ=6, PL=[59, 6, 0])),\n",
       " Call(sample=VSAL2002, CallData(GT=1/1, AB=None, AD=[0, 2], DP=2, GQ=3, PL=[45, 0, 0])),\n",
       " Call(sample=VSAL3005, CallData(GT=1/1, AB=None, AD=[0, 6], DP=6, GQ=12, PL=[148, 12, 0])),\n",
       " Call(sample=VSAL4002, CallData(GT=1/1, AB=None, AD=[0, 3], DP=3, GQ=6, PL=[73, 6, 0])),\n",
       " Call(sample=VSAL5001, CallData(GT=1/1, AB=None, AD=[0, 4], DP=4, GQ=9, PL=[103, 9, 0])),\n",
       " Call(sample=VSAM0021, CallData(GT=1/1, AB=None, AD=[0, 49], DP=49, GQ=99, PL=[1463, 147, 0])),\n",
       " Call(sample=VSAM1003, CallData(GT=1/1, AB=None, AD=[0, 3], DP=3, GQ=6, PL=[73, 6, 0])),\n",
       " Call(sample=VSAM2001, CallData(GT=1/1, AB=None, AD=[0, 6], DP=6, GQ=18, PL=[0, 18, 79])),\n",
       " Call(sample=VSAM3001, CallData(GT=1/1, AB=None, AD=[8, 6], DP=6, GQ=12, PL=[0, 12, 0])),\n",
       " Call(sample=VSAM4001, CallData(GT=1/1, AB=None, AD=[0, 4], DP=4, GQ=9, PL=[2, 0, 0])),\n",
       " Call(sample=VSAM5007, CallData(GT=1/1, AB=None, AD=[0, 2], DP=2, GQ=6, PL=[5, 0, 0])),\n",
       " Call(sample=VWP00201, CallData(GT=0/1, AB=0.83, AD=[5, 1], DP=6, GQ=12, PL=[12, 0, 118])),\n",
       " Call(sample=VWP00268, CallData(GT=0/0, AB=None, AD=[4, 0], DP=4, GQ=12, PL=[4, 0, 111])),\n",
       " Call(sample=VWP00301, CallData(GT=1/1, AB=None, AD=[0, 2], DP=2, GQ=6, PL=[59, 6, 0])),\n",
       " Call(sample=VWP00312, CallData(GT=1/1, AB=None, AD=[0, 3], DP=3, GQ=9, PL=[84, 0, 0])),\n",
       " Call(sample=VWP00384, CallData(GT=1/1, AB=None, AD=[0, 1], DP=1, GQ=3, PL=[31, 3, 0])),\n",
       " Call(sample=VWP00389, CallData(GT=0/1, AB=0.29, AD=[2, 5], DP=7, GQ=37, PL=[124, 0, 37])),\n",
       " Call(sample=VWP00390, CallData(GT=0/1, AB=0.4, AD=[2, 3], DP=5, GQ=41, PL=[72, 0, 41])),\n",
       " Call(sample=VWP00393, CallData(GT=0/1, AB=0.29, AD=[2, 5], DP=7, GQ=39, PL=[110, 0, 39])),\n",
       " Call(sample=VWP00410, CallData(GT=0/0, AB=None, AD=[4, 1], DP=5, GQ=12, PL=[0, 12, 116])),\n",
       " Call(sample=VWP00414, CallData(GT=0/1, AB=0.25, AD=[2, 6], DP=8, GQ=42, PL=[130, 0, 42])),\n",
       " Call(sample=VWP00437, CallData(GT=0/1, AB=0.67, AD=[0, 6], DP=3, GQ=22, PL=[22, 0, 49])),\n",
       " Call(sample=VWP00456, CallData(GT=1/1, AB=None, AD=[0, 5], DP=5, GQ=15, PL=[149, 15, 0])),\n",
       " Call(sample=VWP00494, CallData(GT=1/1, AB=None, AD=[0, 5], DP=5, GQ=12, PL=[139, 12, 0])),\n",
       " Call(sample=VWP00542, CallData(GT=0/0, AB=None, AD=[4, 0], DP=4, GQ=12, PL=[0, 12, 115])),\n",
       " Call(sample=VWP10008, CallData(GT=1/1, AB=None, AD=[0, 0], DP=8, GQ=24, PL=[0, 12, 118])),\n",
       " Call(sample=VWP10010, CallData(GT=0/1, AB=0.5, AD=[1, 1], DP=2, GQ=22, PL=[25, 0, 22])),\n",
       " Call(sample=VWP10020, CallData(GT=1/1, AB=None, AD=[0, 2], DP=2, GQ=6, PL=[58, 6, 0])),\n",
       " Call(sample=VWP10026, CallData(GT=1/1, AB=None, AD=[0, 5], DP=5, GQ=9, PL=[103, 9, 0])),\n",
       " Call(sample=VWP10045, CallData(GT=1/1, AB=None, AD=[0, 1], DP=1, GQ=3, PL=[8, 0, 0])),\n",
       " Call(sample=VWP10053, CallData(GT=1/1, AB=None, AD=[0, 9], DP=9, GQ=27, PL=[6, 0, 0])),\n",
       " Call(sample=VWP10064, CallData(GT=0/1, AB=0.5, AD=[2, 2], DP=4, GQ=19, PL=[47, 0, 19])),\n",
       " Call(sample=VWP10067, CallData(GT=0/1, AB=0.33, AD=[1, 2], DP=3, GQ=20, PL=[0, 27, 280])),\n",
       " Call(sample=VWP10070, CallData(GT=1/1, AB=None, AD=[0, 1], DP=1, GQ=3, PL=[0, 15, 143])),\n",
       " Call(sample=VWP10076, CallData(GT=1/1, AB=None, AD=[0, 1], DP=1, GQ=3, PL=[30, 3, 0])),\n",
       " Call(sample=VWP10077, CallData(GT=0/0, AB=None, AD=[7, 0], DP=7, GQ=18, PL=[0, 15, 144])),\n",
       " Call(sample=VWP10084, CallData(GT=0/1, AB=0.33, AD=[2, 4], DP=6, GQ=44, PL=[91, 0, 44])),\n",
       " Call(sample=VZA1001, CallData(GT=1/1, AB=None, AD=[0, 5], DP=5, GQ=9, PL=[119, 9, 0])),\n",
       " Call(sample=VZA1002, CallData(GT=1/1, AB=None, AD=[0, 4], DP=4, GQ=12, PL=[114, 12, 0])),\n",
       " Call(sample=VZA1003, CallData(GT=0/0, AB=None, AD=[3, 0], DP=3, GQ=6, PL=[0, 6, 74])),\n",
       " Call(sample=VZA1004, CallData(GT=1/1, AB=None, AD=[0, 9], DP=9, GQ=12, PL=[3, 12, 0])),\n",
       " Call(sample=VZA2005, CallData(GT=None, AB=None, AD=None, DP=None, GQ=None, PL=None)),\n",
       " Call(sample=VZA2006, CallData(GT=1/1, AB=None, AD=[0, 4], DP=4, GQ=12, PL=[116, 12, 0])),\n",
       " Call(sample=VZA3008, CallData(GT=1/1, AB=None, AD=[0, 5], DP=5, GQ=12, PL=[0, 9, 86])),\n",
       " Call(sample=VZA3009, CallData(GT=1/1, AB=None, AD=[0, 2], DP=2, GQ=6, PL=[57, 6, 0])),\n",
       " Call(sample=VZA3010, CallData(GT=1/1, AB=None, AD=[0, 7], DP=7, GQ=18, PL=[196, 18, 0])),\n",
       " Call(sample=VZA4012, CallData(GT=None, AB=None, AD=None, DP=None, GQ=None, PL=None)),\n",
       " Call(sample=VZA4013, CallData(GT=1/1, AB=None, AD=[0, 5], DP=5, GQ=12, PL=[133, 12, 0])),\n",
       " Call(sample=VZC1014, CallData(GT=1/1, AB=None, AD=[0, 5], DP=5, GQ=15, PL=[0, 21, 203])),\n",
       " Call(sample=VZC1015, CallData(GT=1/1, AB=None, AD=[0, 0], DP=5, GQ=12, PL=[132, 12, 0])),\n",
       " Call(sample=VZC1017, CallData(GT=1/1, AB=None, AD=[0, 0], DP=9, GQ=18, PL=[220, 18, 0])),\n",
       " Call(sample=VZC1018, CallData(GT=1/1, AB=None, AD=[0, 6], DP=6, GQ=15, PL=[161, 15, 0])),\n",
       " Call(sample=VZC1020, CallData(GT=1/1, AB=None, AD=[0, 6], DP=6, GQ=12, PL=[147, 12, 0])),\n",
       " Call(sample=W566, CallData(GT=0/1, AB=0.5, AD=[1, 1], DP=2, GQ=22, PL=[24, 0, 22])),\n",
       " Call(sample=X186, CallData(GT=0/1, AB=0.5, AD=[1, 1], DP=2, GQ=24, PL=[26, 0, 24])),\n",
       " Call(sample=X336, CallData(GT=1/1, AB=None, AD=[0, 4], DP=4, GQ=12, PL=[118, 12, 0])),\n",
       " Call(sample=X598, CallData(GT=0/1, AB=0.5, AD=[1, 1], DP=3, GQ=23, PL=[5, 0, 23])),\n",
       " Call(sample=Y010, CallData(GT=0/1, AB=0.75, AD=[3, 1], DP=4, GQ=17, PL=[17, 0, 73])),\n",
       " Call(sample=Y083, CallData(GT=1/1, AB=None, AD=[0, 1], DP=1, GQ=3, PL=[31, 3, 0])),\n",
       " Call(sample=Y173, CallData(GT=None, AB=None, AD=None, DP=None, GQ=None, PL=None))]"
      ]
     },
     "execution_count": 117,
     "metadata": {},
     "output_type": "execute_result"
    }
   ],
   "source": [
    "record.samples"
   ]
  },
  {
   "cell_type": "code",
   "execution_count": 122,
   "metadata": {
    "collapsed": false
   },
   "outputs": [
    {
     "data": {
      "text/plain": [
       "['0/1']"
      ]
     },
     "execution_count": 122,
     "metadata": {},
     "output_type": "execute_result"
    }
   ],
   "source": [
    "[record.genotype(id)['GT'] for id in ['VGA00006']]"
   ]
  },
  {
   "cell_type": "code",
   "execution_count": 213,
   "metadata": {
    "collapsed": false
   },
   "outputs": [
    {
     "data": {
      "text/plain": [
       "{'AN': 308,\n",
       " 'ANN': ['|intergenic_region|MODIFIER|ENSCSAG00000018297|ENSCSAG00000018297|intergenic_region|ENSCSAG00000018297|||n.||||||'],\n",
       " 'DP': 677,\n",
       " 'MQ': 52.33,\n",
       " 'MQ0': 12}"
      ]
     },
     "execution_count": 213,
     "metadata": {},
     "output_type": "execute_result"
    }
   ],
   "source": [
    "record.INFO"
   ]
  },
  {
   "cell_type": "code",
   "execution_count": 21,
   "metadata": {
    "collapsed": false
   },
   "outputs": [
    {
     "name": "stdout",
     "output_type": "stream",
     "text": [
      "Record(CHROM=CAE6, POS=21, REF=C, ALT=[T])\n",
      "Record(CHROM=CAE6, POS=67, REF=C, ALT=[T])\n",
      "Record(CHROM=CAE6, POS=71, REF=A, ALT=[C])\n",
      "Record(CHROM=CAE6, POS=73, REF=T, ALT=[C])\n",
      "Record(CHROM=CAE6, POS=84, REF=T, ALT=[C])\n",
      "Record(CHROM=CAE6, POS=85, REF=C, ALT=[T])\n",
      "Record(CHROM=CAE6, POS=87, REF=A, ALT=[G])\n",
      "Record(CHROM=CAE6, POS=93, REF=C, ALT=[T])\n",
      "Record(CHROM=CAE6, POS=101, REF=G, ALT=[A])\n",
      "Record(CHROM=CAE6, POS=103, REF=A, ALT=[T])\n",
      "Record(CHROM=CAE6, POS=113, REF=A, ALT=[G])\n",
      "Record(CHROM=CAE6, POS=119, REF=G, ALT=[A])\n"
     ]
    }
   ],
   "source": [
    "for i,record in enumerate(vcfr):\n",
    "    print record\n",
    "    if i>10:\n",
    "        break"
   ]
  },
  {
   "cell_type": "code",
   "execution_count": 17,
   "metadata": {
    "collapsed": false
   },
   "outputs": [
    {
     "data": {
      "text/plain": [
       "OrderedDict()"
      ]
     },
     "execution_count": 17,
     "metadata": {},
     "output_type": "execute_result"
    }
   ],
   "source": [
    "vcfr.metadata"
   ]
  },
  {
   "cell_type": "code",
   "execution_count": null,
   "metadata": {
    "collapsed": false
   },
   "outputs": [],
   "source": []
  }
 ],
 "metadata": {
  "kernelspec": {
   "display_name": "Python 2",
   "language": "python",
   "name": "python2"
  },
  "language_info": {
   "codemirror_mode": {
    "name": "ipython",
    "version": 2
   },
   "file_extension": ".py",
   "mimetype": "text/x-python",
   "name": "python",
   "nbconvert_exporter": "python",
   "pygments_lexer": "ipython2",
   "version": "2.7.3"
  }
 },
 "nbformat": 4,
 "nbformat_minor": 0
}
