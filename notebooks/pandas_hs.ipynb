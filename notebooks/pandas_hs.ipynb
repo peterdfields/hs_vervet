{
 "metadata": {
  "name": "",
  "signature": "sha256:3620b7c6750956cd45ed35ad07c6ef90e23cf3c519c101425e43c78f774aa345"
 },
 "nbformat": 3,
 "nbformat_minor": 0,
 "worksheets": [
  {
   "cells": [
    {
     "cell_type": "code",
     "collapsed": false,
     "input": [
      "import os\n",
      "import pandas as pd\n",
      "import numpy as np\n",
      "eu = os.path.expanduser\n",
      "jn = os.path.join"
     ],
     "language": "python",
     "metadata": {},
     "outputs": [],
     "prompt_number": 5
    },
    {
     "cell_type": "code",
     "collapsed": false,
     "input": [
      "meta_dir = eu(\"~/vervet_project/metadata\")"
     ],
     "language": "python",
     "metadata": {},
     "outputs": [],
     "prompt_number": 25
    },
    {
     "cell_type": "code",
     "collapsed": false,
     "input": [
      "def load_gene_df():\n",
      "    gene_df = pd.read_csv(jn(meta_dir,\"annot_mike_genes_minimal.tsv\"),sep=\"\\t\",index_col = [0,1])\n",
      "    return gene_df"
     ],
     "language": "python",
     "metadata": {},
     "outputs": [],
     "prompt_number": 33
    },
    {
     "cell_type": "code",
     "collapsed": false,
     "input": [
      "gene_df.to_csv(jn(meta_dir,\"annot_mike_genes_minimal.tsv\"),sep=\"\\t\")"
     ],
     "language": "python",
     "metadata": {},
     "outputs": [],
     "prompt_number": 32
    },
    {
     "cell_type": "code",
     "collapsed": false,
     "input": [
      "def index_rolling(s,window,func,overlap=0,*args,**kwargs):\n",
      "    \"\"\"\n",
      "    Apply function in rolling windows, where the window\n",
      "    size is defined with respect to the index values.\n",
      "    This means that different windows can comprise different\n",
      "    numbers of elements.\n",
      "    \n",
      "    s ... pandas Series\n",
      "    window ... window size in units of the index values\n",
      "    func ... function to apply to the series values within each\n",
      "                window\n",
      "    overlap ... oberlap size of windows\n",
      "    args, kwarg ... additional arguments for func\n",
      "    \n",
      "    Example: index_rolling(pd.Series(range(20),index=np.random.rand(20))),0.1,max)\n",
      "    \"\"\"\n",
      "    #note that basis must be sorted in order for this to work properly\n",
      "    windows_min = s.index.min()\n",
      "    windows_max = s.index.max()\n",
      "    window_starts = np.arange(windows_min, windows_max, window-overlap)\n",
      "    window_starts = pd.Series(window_starts, index = window_starts)\n",
      "    def applyToWindow(val):\n",
      "        # using slice_indexer rather that what.loc [val:val+window] allows\n",
      "        # window limits that are not specifically in the index\n",
      "        indexer = s.index.slice_indexer(val,val+window,1)\n",
      "        chunk = s.iloc[indexer]\n",
      "        try:\n",
      "            return func(chunk,*args,**kwargs)\n",
      "        except ValueError, e:\n",
      "            if \"empty sequence\" in str(e):\n",
      "                #print indexer, chunk\n",
      "                return None\n",
      "            else:\n",
      "                raise           \n",
      "    rolled = window_starts.apply(applyToWindow)\n",
      "    return rolled"
     ],
     "language": "python",
     "metadata": {},
     "outputs": []
    },
    {
     "cell_type": "heading",
     "level": 2,
     "metadata": {},
     "source": [
      "ROD (reference ordered data) permutation test"
     ]
    },
    {
     "cell_type": "markdown",
     "metadata": {},
     "source": [
      "tools that, given an analysis result, one can rotate (shift) the results randomly around the genome"
     ]
    },
    {
     "cell_type": "code",
     "collapsed": false,
     "input": [
      "def get_chrom_length():\n",
      "    return pd.read_csv(eu(\"~/vervet_project/metadata/ref3500.tsv\"),\n",
      "                       sep=\"\\t\",index_col=0,squeeze=True,header=False)"
     ],
     "language": "python",
     "metadata": {},
     "outputs": [],
     "prompt_number": 1
    },
    {
     "cell_type": "code",
     "collapsed": false,
     "input": [
      "def shift_rod(rod_df, rnd, mode = \"grid\"):\n",
      "    \"\"\"\n",
      "    shift reference ordered data across the whole genome\n",
      "\n",
      "    Input:\n",
      "    rod_df ... pandas dataframe or series with mulitiindex (chrom, pos)\n",
      "                \n",
      "    modes ...\n",
      "        'grid' ... just rotate the index of the rod data frame\n",
      "                    this means that the positions stay the same only the\n",
      "                    value for each position becomes different\n",
      "                    Faster, but means that you only hit the same grid-point\n",
      "                    this should make it conservative on large grids. Large\n",
      "                    grids are problematic if the fraction of top windows \n",
      "                    considered becomes large \n",
      "        'continuous' ... add the random shift to each index value.\n",
      "                         NOT IMPLEMENTED\n",
      "    \"\"\"\n",
      "    if mode == \"grid\":\n",
      "        new_start_i = int(len(rod_df)*rnd)\n",
      "        rotate_data = np.concatenate((rod_df.iloc[new_start_i:].values,rod_df.iloc[:new_start_i].values))\n",
      "        if  isinstance(rod_df,pd.core.series.Series):\n",
      "            r = pd.Series(rotate_data,index=rod_df.index)\n",
      "            return r\n",
      "        elif isinstance(rod_df,pd.core.frame.DataFrame):\n",
      "            r = pd.DataFrame(rotate_data,index=rod_df.index,columns=rod_df.columns)\n",
      "            return r\n",
      "        \n",
      "    else:\n",
      "        raise UserException(\"Only mode grid supported.\")"
     ],
     "language": "python",
     "metadata": {},
     "outputs": [],
     "prompt_number": 885
    },
    {
     "cell_type": "code",
     "collapsed": false,
     "input": [
      "%timeit shift_rod(tot_sweed_df[\"Likelihood\"], 0.32424) "
     ],
     "language": "python",
     "metadata": {},
     "outputs": [
      {
       "output_type": "stream",
       "stream": "stdout",
       "text": [
        "100 loops, best of 3: 14.5 ms per loop\n"
       ]
      }
     ],
     "prompt_number": 900
    },
    {
     "cell_type": "heading",
     "level": 2,
     "metadata": {},
     "source": [
      "get genes for peaks"
     ]
    },
    {
     "cell_type": "code",
     "collapsed": false,
     "input": [
      "def get_peaks(value_s,min_peak_dist):\n",
      "    \"\"\"\n",
      "    ranked df of peaks\n",
      "    assuming a minimum distance between peaks\n",
      "    \"\"\"\n",
      "    assert len(value_s.index.droplevel(1).unique()) == 1, \"Multiple chromsosomes not supported.\"\n",
      "    chrom = value_s.index[0][0]\n",
      "    x = index_rolling(value_s.ix[chrom],2*min_peak_dist,np.argmax,min_peak_dist)\n",
      "    x.name = \"pos\"\n",
      "    #only take peaks that are found in at least two windows \n",
      "    #this makes sure that we have a minimal distance between peaks\n",
      "    pos_true = (x.reset_index().groupby(\"pos\").apply(len)>1)\n",
      "    pos = pos_true[pos_true.values].index\n",
      "    s = value_s.ix[chrom].ix[pos]\n",
      "    return s"
     ],
     "language": "python",
     "metadata": {},
     "outputs": []
    },
    {
     "cell_type": "code",
     "collapsed": false,
     "input": [
      "def get_genes(peak_s, gene_df, max_dist):\n",
      "    \"\"\"\n",
      "    take the input series and gets \n",
      "    names of genes nearby\n",
      "    \n",
      "    Input:\n",
      "    peak_s ... pandas series with (chrom, pos) index and value of\n",
      "                the statistic ('peak height'). Series should be named.\n",
      "    gene_df ... data frame with gene info \n",
      "    \"\"\"    \n",
      "    all_genes = []\n",
      "    if not gene_df.index.is_monotonic:\n",
      "        gene_df = gene_df.sort_index()\n",
      "    tot_hit_df = pd.DataFrame()\n",
      "    for chrom in peak_s.index.droplevel(1).unique():\n",
      "        loc_gene_df = gene_df.ix[chrom]\n",
      "        #loc_gene_df = loc_gene_df.append(pd.DataFrame(np.nan,index=[np.inf],columns=loc_gene_df.columns))\n",
      "        pos_rel_to_start = np.searchsorted(loc_gene_df.index.values-max_dist,peak_s.ix[chrom].index.values)\n",
      "        pos_rel_to_end = np.searchsorted(loc_gene_df[\"end\"].values+max_dist,peak_s.ix[chrom].index.values)\n",
      "        genes = list(set(loc_gene_df[\"gene_id\"].iloc[np.hstack([range(a,b) for a,b in zip(pos_rel_to_end,pos_rel_to_start)])]))\n",
      "        #print chrom, genes\n",
      "        all_genes += genes\n",
      "    return all_genes\n",
      "\n",
      "def get_gene_info(gene_ls,gene_df):\n",
      "    \"\"\"\n",
      "    for a list of gene ids,\n",
      "    get a data frame with their \n",
      "    position\n",
      "    \"\"\"\n",
      "    gi = gene_df[gene_df[\"gene_id\"].apply(lambda x: x in gene_ls)]\n",
      "    return gi\n",
      "\n",
      "def get_peaks(gene_info,top_s,max_dist):\n",
      "    \"\"\"\n",
      "    For each gene in gene_info get the\n",
      "    peaks within max_dist in top_s. This \n",
      "    is basically reverse engineering to get\n",
      "    the peak info for each gene that was found \n",
      "    to be associated with a peak. \n",
      "    \n",
      "    Input:\n",
      "    gene_info ... data frame with index ('chrom','start')\n",
      "                and columns 'gene_id' and 'end'\n",
      "    top_s ... series of peak positions with index (chrom, pos)\n",
      "                and values peak height\n",
      "    max_dist ... maximum distance between gene and peak\n",
      "    \"\"\"\n",
      "    def get_dist(df,gene_pos):\n",
      "        s = pd.Series(df.index.droplevel(0).values - gene_pos.ix[df.index[0][0]],\n",
      "                                                  index=df.index.droplevel(0).values)\n",
      "        return s\n",
      "    tot_gene_peaks_df = pd.DataFrame()\n",
      "    if not top_s.index.is_monotonic:\n",
      "        top_s = top_s.sort_index()\n",
      "    for chrom in gene_info.index.droplevel(1).unique():\n",
      "        loc_top_s = top_s.ix[chrom]\n",
      "        start = np.searchsorted(loc_top_s.index.values+max_dist,gene_info.ix[chrom].index.values)\n",
      "        end = np.searchsorted(loc_top_s.index.values-max_dist,gene_info.ix[chrom][\"end\"].values)\n",
      "        \n",
      "        x = pd.concat([loc_top_s.iloc[st:ed] for st,ed in zip(start,end)],\n",
      "                      keys=gene_info.ix[chrom][\"gene_id\"].values)\n",
      "        x.name = \"peak_height\"\n",
      "        \n",
      "\n",
      "\n",
      "        dist_start = x.groupby(lambda i: i[0]).\\\n",
      "                    apply(lambda df: get_dist(df,\n",
      "                                              gene_info.ix[chrom].reset_index().set_index(\"gene_id\")[\"pos\"]))\n",
      "        dist_start.name = \"dist_start\"\n",
      "        dist_end = x.groupby(lambda i: i[0]).\\\n",
      "                    apply(lambda df: get_dist(df,\n",
      "                                              gene_info.ix[chrom].set_index(\"gene_id\")[\"end\"]))\n",
      "        dist_end.name = \"dist_end\"\n",
      "        gene_peaks_df = pd.concat([x,dist_start,dist_end],axis=1)\n",
      "        gene_peaks_df.index = pd.MultiIndex.from_arrays([gene_peaks_df.index.droplevel(1),\n",
      "                                         [chrom]*len(x),\n",
      "                                         gene_peaks_df.index.droplevel(0)])\n",
      "        tot_gene_peaks_df = pd.concat([tot_gene_peaks_df, gene_peaks_df])\n",
      "        tot_gene_peaks_df.index.names = [\"gene_id\",\"chrom\",\"peak_pos\"]\n",
      "    return tot_gene_peaks_df"
     ],
     "language": "python",
     "metadata": {},
     "outputs": [],
     "prompt_number": 911
    },
    {
     "cell_type": "code",
     "collapsed": false,
     "input": [
      "chromosomes = [\"CAE\" + str(i) for i in range(1,30)+[\"X\",\"Y\"]]\n",
      "def get_sweed_df(chrom,pop):\n",
      "    sweed_res = pd.read_csv(eu(\"~/vervet_project/analyses/20140611_163_subpop_sweepfinder/\"\n",
      "                             \"_data/SweeD_Report.163_ref3500_{}_{}\".format(chrom,pop)),\n",
      "                                                          sep=\"\\t\",skiprows=2,index_col=0)\n",
      "    sweed_res.index = pd.MultiIndex.from_tuples(zip([chrom]*len(sweed_res.index),sweed_res.index))\n",
      "    return sweed_res"
     ],
     "language": "python",
     "metadata": {},
     "outputs": [],
     "prompt_number": 642
    },
    {
     "cell_type": "code",
     "collapsed": false,
     "input": [
      "tot_sweed_df = pd.concat([get_sweed_df(chrom,\"aet\") for chrom in chromosomes])"
     ],
     "language": "python",
     "metadata": {},
     "outputs": [],
     "prompt_number": 643
    },
    {
     "cell_type": "code",
     "collapsed": false,
     "input": [
      "gene_df = load_gene_df()\n",
      "gene_df = gene_df.sortlevel(level=[0,1])"
     ],
     "language": "python",
     "metadata": {},
     "outputs": [],
     "prompt_number": 372
    },
    {
     "cell_type": "code",
     "collapsed": false,
     "input": [
      "top_s = tot_sweed_df.sort(\"Likelihood\",ascending=False)[\"Likelihood\"].iloc[:500]\n",
      "#top_s = pd.concat([pd.Series([17],index=pd.MultiIndex.from_arrays([[\"CAE1\"],[4922]])),top_s])"
     ],
     "language": "python",
     "metadata": {},
     "outputs": [],
     "prompt_number": 920
    },
    {
     "cell_type": "code",
     "collapsed": false,
     "input": [
      "max_dist = 10000\n",
      "cand_genes = get_genes(top_s, gene_df, max_dist=max_dist)\n",
      "peaks = get_peaks(get_gene_info(cand_genes, gene_df),top_s,max_dist=max_dist)"
     ],
     "language": "python",
     "metadata": {},
     "outputs": [],
     "prompt_number": 922
    },
    {
     "cell_type": "heading",
     "level": 2,
     "metadata": {},
     "source": [
      "get go associations for gene list"
     ]
    },
    {
     "cell_type": "code",
     "collapsed": false,
     "input": [
      "gene_to_go = pd.read_csv(jn(meta_dir,\"gene_to_go.csv\"),index_col=0)\n",
      "gene_to_name = pd.read_csv(jn(meta_dir,\"gene_to_name.csv\"),index_col=0)\n",
      "go_to_name = pd.read_csv(jn(meta_dir,\"go_to_name.csv\"),index_col=0)"
     ],
     "language": "python",
     "metadata": {},
     "outputs": [],
     "prompt_number": 824
    },
    {
     "cell_type": "code",
     "collapsed": false,
     "input": [],
     "language": "python",
     "metadata": {},
     "outputs": [],
     "prompt_number": 908
    },
    {
     "cell_type": "code",
     "collapsed": false,
     "input": [
      "def permut_assoc(rod_s, rnd, gene_df, gene_to_go, top_n, max_dist):\n",
      "    \"\"\"\n",
      "    This is the main function.\n",
      "    Use with rnd = 0 to get the real assoc.\n",
      "    \"\"\"\n",
      "    s = shift_rod(rod_s, rnd)\n",
      "    s.sort(ascending=False, inplace=True)\n",
      "    top_s = s.iloc[:top_n]\n",
      "    cand_genes = get_genes(top_s, gene_df, max_dist=max_dist)\n",
      "    assoc = get_go_assoc(cand_genes, gene_to_go)\n",
      "    return assoc\n",
      "\n",
      "def get_go_assoc(gene_ls, gene_to_go):\n",
      "    \"\"\"\n",
      "    Get series with number of genes associated with each\n",
      "    category in gene_to_go\n",
      "    \"\"\"\n",
      "    s = gene_to_go.set_index(\"gene_symbol\").ix[gene_ls].groupby(\"go_identifier\").apply(len)\n",
      "    return s\n",
      "\n",
      "def multiple_permut_assoc(rod_s, gene_df, gene_to_go, top_n, max_dist, n_runs, rnd_seed=None):\n",
      "    if rnd_seed is not None:\n",
      "        np.random.seed(rnd_seed)\n",
      "    assoc_table = pd.concat([permut_assoc(rod_s, rnd, gene_df, gene_to_go, top_n, max_dist) for rnd in np.random.rand(n_runs)],axis=1)\n",
      "    assoc_table = assoc_table.fillna(0)\n",
      "    return assoc_table\n",
      "\n",
      "def save_permut_assoc_table(assoc_table,fn):\n",
      "    assoc_table.to_csv(fn)\n",
      "\n",
      "def get_initial_rank_table(real_assoc):\n",
      "    return pd.DataFrame({\"n_genes\":real_assoc.values,\"rank\":0,\"out_of\":0},index=real_assoc.index)\n",
      "\n",
      "def get_p_val(rank_table):\n",
      "    \"\"\"\n",
      "    Input:\n",
      "    \n",
      "    \"\"\"\n",
      "    r =  1-rank_table[\"rank\"]*1./(rank_table[\"out_of\"]+1)\n",
      "    r.sort()\n",
      "    return r\n",
      "\n",
      "def update_rank(rank_table,permut_assoc_fh):\n",
      "    assoc_table = pd.read_csv(permut_assoc_fh,index_col=0)\n",
      "    r = assoc_table.apply(lambda row: get_rank(row,rank_table),axis=1)\n",
      "    return r\n",
      "    \n",
      "def total_rank(rank_table, permut_fns):\n",
      "    rt = rank_table.copy()\n",
      "    for f in permut_fns:\n",
      "        rt = update_rank(rt,permut_assoc_fh)\n",
      "    return total_rank\n",
      "    \n",
      "def save_p_value_total(rank_table, permut_fns):\n",
      "    \n",
      "    \n",
      "def empirical_rank(value,dist):\n",
      "    \"\"\"\n",
      "    get empirical p value of\n",
      "    value with respect to list of \n",
      "    values in dist\n",
      "    \"\"\"\n",
      "    array = np.append(value,dist)\n",
      "    temp = array.argsort()\n",
      "    ranks = np.empty(len(array), int)\n",
      "    ranks[temp] = np.arange(len(array))\n",
      "    return ranks[0]\n",
      "\n",
      "def get_rank(series,rank_df):\n",
      "    go = series.name\n",
      "    try:\n",
      "        go_s = rank_df.ix[go]\n",
      "    except KeyError:\n",
      "        go_s = pd.Series({\"n_genes\":0,\"rank\":0,\"out_of\":0})\n",
      "    real_val = go_s[\"n_genes\"]\n",
      "    old_rank = go_s[\"rank\"]\n",
      "    old_out_of = go_s[\"out_of\"]\n",
      "    rank = empirical_rank(real_val,series.values)\n",
      "    new_rank = old_rank + rank\n",
      "    new_out_of = old_out_of + len(series)\n",
      "    return pd.Series({\"n_genes\":real_val,\"rank\":new_rank,\"out_of\":new_out_of})"
     ],
     "language": "python",
     "metadata": {},
     "outputs": [],
     "prompt_number": 1045
    },
    {
     "cell_type": "code",
     "collapsed": false,
     "input": [
      "rank_table = pd.DataFrame({\"n_genes\":real_assoc.values,\"rank\":0,\"out_of\":0},index=real_assoc.index)"
     ],
     "language": "python",
     "metadata": {},
     "outputs": [],
     "prompt_number": 1001
    },
    {
     "cell_type": "code",
     "collapsed": false,
     "input": [
      "r = update_rank(rank_table,\"assoc_table_100.csv\")"
     ],
     "language": "python",
     "metadata": {},
     "outputs": [],
     "prompt_number": 1042
    },
    {
     "cell_type": "code",
     "collapsed": false,
     "input": [
      "r1 = update_rank(r,\"assoc_table_100.csv\")"
     ],
     "language": "python",
     "metadata": {},
     "outputs": [],
     "prompt_number": 1047
    },
    {
     "cell_type": "code",
     "collapsed": false,
     "input": [],
     "language": "python",
     "metadata": {},
     "outputs": [
      {
       "metadata": {},
       "output_type": "pyout",
       "prompt_number": 1048,
       "text": [
        "GO:0016574    0.004975\n",
        "GO:0071013    0.004975\n",
        "GO:0046718    0.004975\n",
        "GO:0071008    0.004975\n",
        "GO:1902749    0.004975\n",
        "GO:0006103    0.004975\n",
        "GO:0006957    0.004975\n",
        "GO:0010756    0.004975\n",
        "GO:0006105    0.004975\n",
        "GO:0010758    0.004975\n",
        "GO:0006107    0.004975\n",
        "GO:0042297    0.004975\n",
        "GO:0048541    0.004975\n",
        "GO:0018272    0.004975\n",
        "GO:0004782    0.004975\n",
        "...\n",
        "GO:0016589    1\n",
        "GO:0016590    1\n",
        "GO:0016591    1\n",
        "GO:0016593    1\n",
        "GO:0016616    1\n",
        "GO:0016594    1\n",
        "GO:0016597    1\n",
        "GO:0016598    1\n",
        "GO:0016600    1\n",
        "GO:0016601    1\n",
        "GO:0016602    1\n",
        "GO:0016603    1\n",
        "GO:0016614    1\n",
        "GO:0016595    1\n",
        "GO:2001306    1\n",
        "Length: 10628, dtype: float64"
       ]
      }
     ],
     "prompt_number": 1048
    },
    {
     "cell_type": "code",
     "collapsed": false,
     "input": [
      "t = pd.concat([get_p_val(r),get_p_val(r1)],axis=1)"
     ],
     "language": "python",
     "metadata": {},
     "outputs": [],
     "prompt_number": 1050
    },
    {
     "cell_type": "code",
     "collapsed": false,
     "input": [
      "p0 = assoc_table.apply(lambda row: get_p_val_direct(row,real_assoc),axis=1)\n",
      "p0.sort()\n",
      "print p0"
     ],
     "language": "python",
     "metadata": {},
     "outputs": [
      {
       "output_type": "stream",
       "stream": "stdout",
       "text": [
        "GO:0009986    0.108911\n",
        "GO:0005768    0.108911\n",
        "GO:0005815    0.128713\n",
        "GO:0005576    0.138614\n",
        "GO:0006200    0.178218\n",
        "GO:0043066    0.178218\n",
        "GO:0016032    0.188119\n",
        "GO:0045202    0.188119\n",
        "GO:0003824    0.198020\n",
        "GO:0008284    0.198020\n",
        "GO:0044822    0.207921\n",
        "GO:0030054    0.227723\n",
        "GO:0006357    0.247525\n",
        "GO:0004872    0.247525\n",
        "GO:0005874    0.247525\n",
        "...\n",
        "GO:0016139    1\n",
        "GO:0016149    1\n",
        "GO:0016150    1\n",
        "GO:0016151    1\n",
        "GO:0016155    1\n",
        "GO:0016160    1\n",
        "GO:0016165    1\n",
        "GO:0016167    1\n",
        "GO:0016174    1\n",
        "GO:0016175    1\n",
        "GO:0016176    1\n",
        "GO:0016180    1\n",
        "GO:0016188    1\n",
        "GO:0016095    1\n",
        "GO:2001306    1\n",
        "Length: 10628, dtype: float64\n"
       ]
      }
     ],
     "prompt_number": 1028
    },
    {
     "cell_type": "code",
     "collapsed": false,
     "input": [
      "r0 = get_go_assoc(cand_genes,gene_to_go)"
     ],
     "language": "python",
     "metadata": {},
     "outputs": [],
     "prompt_number": 923
    },
    {
     "cell_type": "code",
     "collapsed": false,
     "input": [
      "r = permut_assoc(tot_sweed_df[\"Likelihood\"], 0.1, gene_df, gene_to_go, top_n = 500, max_dist=10000)"
     ],
     "language": "python",
     "metadata": {},
     "outputs": [],
     "prompt_number": 927
    },
    {
     "cell_type": "code",
     "collapsed": false,
     "input": [
      "real_assoc = permut_assoc(tot_sweed_df[\"Likelihood\"], 0, gene_df, gene_to_go, top_n=1000, max_dist=10000)"
     ],
     "language": "python",
     "metadata": {},
     "outputs": [],
     "prompt_number": 934
    },
    {
     "cell_type": "code",
     "collapsed": false,
     "input": [
      "assoc_table = multiple_permut_assoc(tot_sweed_df[\"Likelihood\"], gene_df, gene_to_go, top_n=1000, max_dist = 10000, n_runs=100, rnd_seed=None)"
     ],
     "language": "python",
     "metadata": {},
     "outputs": [],
     "prompt_number": 933
    },
    {
     "cell_type": "code",
     "collapsed": false,
     "input": [
      "def f(r):\n",
      "    print r\n",
      "    raise"
     ],
     "language": "python",
     "metadata": {},
     "outputs": [],
     "prompt_number": 952
    },
    {
     "cell_type": "code",
     "collapsed": false,
     "input": [
      "p_vals = assoc_table.apply(lambda r: get_p_val(r,real_assoc),axis=1)"
     ],
     "language": "python",
     "metadata": {},
     "outputs": [],
     "prompt_number": 959
    },
    {
     "cell_type": "code",
     "collapsed": false,
     "input": [
      "p_vals.sort()"
     ],
     "language": "python",
     "metadata": {},
     "outputs": [],
     "prompt_number": 960
    },
    {
     "cell_type": "code",
     "collapsed": false,
     "input": [
      "p_vals"
     ],
     "language": "python",
     "metadata": {},
     "outputs": [
      {
       "metadata": {},
       "output_type": "pyout",
       "prompt_number": 961,
       "text": [
        "GO:0009986    0.108911\n",
        "GO:0005768    0.108911\n",
        "GO:0005815    0.128713\n",
        "GO:0005576    0.138614\n",
        "GO:0006200    0.178218\n",
        "GO:0043066    0.178218\n",
        "GO:0016032    0.188119\n",
        "GO:0045202    0.188119\n",
        "GO:0003824    0.198020\n",
        "GO:0008284    0.198020\n",
        "GO:0044822    0.207921\n",
        "GO:0030054    0.227723\n",
        "GO:0006357    0.247525\n",
        "GO:0004872    0.247525\n",
        "GO:0005874    0.247525\n",
        "...\n",
        "GO:0016139    1\n",
        "GO:0016149    1\n",
        "GO:0016150    1\n",
        "GO:0016151    1\n",
        "GO:0016155    1\n",
        "GO:0016160    1\n",
        "GO:0016165    1\n",
        "GO:0016167    1\n",
        "GO:0016174    1\n",
        "GO:0016175    1\n",
        "GO:0016176    1\n",
        "GO:0016180    1\n",
        "GO:0016188    1\n",
        "GO:0016095    1\n",
        "GO:2001306    1\n",
        "Length: 10628, dtype: float64"
       ]
      }
     ],
     "prompt_number": 961
    },
    {
     "cell_type": "code",
     "collapsed": false,
     "input": [
      "save_permut_assoc_table(assoc_table.fillna(0),\"assoc_table_100.csv\")"
     ],
     "language": "python",
     "metadata": {},
     "outputs": [],
     "prompt_number": 1040
    },
    {
     "cell_type": "code",
     "collapsed": false,
     "input": [
      "idx = np.arange(tot_sweed_df.shape[0])\n",
      "np.random.shuffle(idx)"
     ],
     "language": "python",
     "metadata": {},
     "outputs": [],
     "prompt_number": 853
    },
    {
     "cell_type": "code",
     "collapsed": false,
     "input": [
      "t_df = tot_sweed_df.iloc[idx]"
     ],
     "language": "python",
     "metadata": {},
     "outputs": [],
     "prompt_number": 854
    },
    {
     "cell_type": "code",
     "collapsed": false,
     "input": [
      "% timeit t = t_df.sort(inplace=False)"
     ],
     "language": "python",
     "metadata": {},
     "outputs": [
      {
       "output_type": "stream",
       "stream": "stdout",
       "text": [
        "1 loops, best of 3: 6.76 s per loop\n"
       ]
      }
     ],
     "prompt_number": 852
    },
    {
     "cell_type": "code",
     "collapsed": false,
     "input": [
      "% timeit t_df.sort(inplace=True)"
     ],
     "language": "python",
     "metadata": {},
     "outputs": [
      {
       "output_type": "stream",
       "stream": "stdout",
       "text": [
        "1 loops, best of 3: 7.01 s per loop\n"
       ]
      }
     ],
     "prompt_number": 855
    },
    {
     "cell_type": "code",
     "collapsed": false,
     "input": [
      "tot_sweed_df.shift?"
     ],
     "language": "python",
     "metadata": {},
     "outputs": [],
     "prompt_number": 870
    },
    {
     "cell_type": "code",
     "collapsed": false,
     "input": [],
     "language": "python",
     "metadata": {},
     "outputs": []
    }
   ],
   "metadata": {}
  }
 ]
}