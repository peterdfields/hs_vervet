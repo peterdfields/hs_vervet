{
 "cells": [
  {
   "cell_type": "code",
   "execution_count": 1,
   "metadata": {
    "collapsed": false
   },
   "outputs": [],
   "source": [
    "%matplotlib inline"
   ]
  },
  {
   "cell_type": "code",
   "execution_count": 2,
   "metadata": {
    "collapsed": false
   },
   "outputs": [],
   "source": [
    "import os, json\n",
    "import pandas as pd\n",
    "import numpy as np\n",
    "import scipy\n",
    "import pickle\n",
    "#from numpy import *\n",
    "import matplotlib as mpl\n",
    "from matplotlib import pyplot as plt\n",
    "eu = os.path.expanduser\n",
    "jn = os.path.join\n",
    "mpl.rcParams[\"font.size\"]=14\n",
    "eu = os.path.expanduser\n",
    "jn = os.path.join\n",
    "meta_dir = eu(\"~/vervet_project/metadata\")\n",
    "var_ana_dir = eu(\"~/vervet_project/analyses/20140403_UnifiedGenotyper_ref3500_non_VRC/_data\")"
   ]
  },
  {
   "cell_type": "code",
   "execution_count": 46,
   "metadata": {
    "collapsed": true
   },
   "outputs": [],
   "source": [
    "autosomes = [\"CAE\"+str(i) for i in range(1,30)]"
   ]
  },
  {
   "cell_type": "code",
   "execution_count": 3,
   "metadata": {
    "collapsed": false
   },
   "outputs": [],
   "source": [
    "import ast\n",
    "def str_to_dic(s):\n",
    "    try:\n",
    "        return ast.literal_eval(s)\n",
    "    except ValueError:\n",
    "        print s\n",
    "        raise\n",
    "mt = pd.read_csv(jn(meta_dir,\"163_master_table.csv\"),\n",
    "                 index_col=0,\n",
    "                 converters={\"library\":str_to_dic,\"phenotypes\":str_to_dic}\n",
    "                 )"
   ]
  },
  {
   "cell_type": "code",
   "execution_count": 4,
   "metadata": {
    "collapsed": false
   },
   "outputs": [],
   "source": [
    "chrom = \"CAE8\"\n",
    "ibd_df = pd.read_csv(jn(var_ana_dir,\"GATK_UG_163NonVRC_ref3500_snp_{}_excluding_filtered2_beagle2.ibd\".format(chrom)),\n",
    "                     sep=\"\\t\",names=[\"id0\",\"strd0\",\"id1\",\"strd1\",\"chrom\",\"start\",\"end\",\"lod\"])\n",
    "ibd_df[\"length\"] = ibd_df[\"end\"] -ibd_df[\"start\"]"
   ]
  },
  {
   "cell_type": "code",
   "execution_count": 21,
   "metadata": {
    "collapsed": false
   },
   "outputs": [],
   "source": [
    "ghana = \"VGHA1001\"\n",
    "tan = \"AGM141\""
   ]
  },
  {
   "cell_type": "code",
   "execution_count": 43,
   "metadata": {
    "collapsed": true
   },
   "outputs": [],
   "source": [
    "def get_ibd_df(chrom):\n",
    "    ibd_df = pd.read_csv(jn(var_ana_dir,\"GATK_UG_163NonVRC_ref3500_snp_{}_excluding_filtered2_beagle2.ibd\".format(chrom)),\n",
    "                     sep=\"\\t\",names=[\"id0\",\"strd0\",\"id1\",\"strd1\",\"chrom\",\"start\",\"end\",\"lod\"])\n",
    "    ibd_df[\"length\"] = ibd_df[\"end\"] -ibd_df[\"start\"]\n",
    "    ibd_df[\"sp0\"] = [s for s in  mt.ix[ibd_df[\"id0\"]][\"pop3\"].values]\n",
    "    ibd_df[\"sp1\"] = [s for s in  mt.ix[ibd_df[\"id1\"]][\"pop3\"].values]\n",
    "    return ibd_df"
   ]
  },
  {
   "cell_type": "code",
   "execution_count": 52,
   "metadata": {
    "collapsed": true
   },
   "outputs": [],
   "source": [
    "def get_n_and_max_len(chrom):\n",
    "    ibd_df = get_ibd_df(chrom)\n",
    "    pop3_group = ibd_df.groupby([\"sp0\",\"sp1\"])\n",
    "    max_len_kb = get_max_len_kb(pop3_group)\n",
    "    n_shared_per_comparison = get_n_shared_per_comparison(pop3_group)\n",
    "    return max_len_kb, n_shared_per_comparison"
   ]
  },
  {
   "cell_type": "code",
   "execution_count": 59,
   "metadata": {
    "collapsed": false
   },
   "outputs": [],
   "source": [
    "tot_max_len_kb, tot_n_shared_per_comparison = get_n_and_max_len(\"CAE1\")\n",
    "\n",
    "for chrom in autosomes[1:]:\n",
    "    max_len_kb, n_shared_per_comparison = get_n_and_max_len(chrom)\n",
    "    tot_n_shared_per_comparison += n_shared_per_comparison\n",
    "    tot_max_len_kb = tot_max_len_kb*(tot_max_len_kb>max_len_kb) + max_len_kb * (tot_max_len_kb<=max_len_kb)"
   ]
  },
  {
   "cell_type": "code",
   "execution_count": 68,
   "metadata": {
    "collapsed": false
   },
   "outputs": [],
   "source": [
    "def n_seg_gt(pop3_group,min_len):\n",
    "    l = pop3_group.apply(lambda df: (df[\"length\"]>min_len).sum()).unstack().fillna(0)\n",
    "    l = (l+l.T)\n",
    "    l_df = pd.DataFrame(np.triu(l.values),index=l.index,columns=l.columns)\n",
    "    vc = mt[\"pop3\"].value_counts()\n",
    "    #this is the number of individual pairs, makes a small error for diagonal entries\n",
    "    normalisation = pd.DataFrame(np.outer(vc.values,vc.values)/2,index=vc.index,columns=vc.index)\n",
    "    return (l_df/normalisation).applymap(round)"
   ]
  },
  {
   "cell_type": "code",
   "execution_count": 112,
   "metadata": {
    "collapsed": false
   },
   "outputs": [
    {
     "data": {
      "text/plain": [
       "9.99900009999"
      ]
     },
     "execution_count": 112,
     "metadata": {},
     "output_type": "execute_result"
    }
   ],
   "source": [
    "n=10000\n",
    "100000./(1+n)"
   ]
  },
  {
   "cell_type": "code",
   "execution_count": 86,
   "metadata": {
    "collapsed": false
   },
   "outputs": [],
   "source": [
    "chrom = \"CAE1\"\n",
    "ibd_df = get_ibd_df(chrom)\n",
    "pop3_group = ibd_df.groupby([\"sp0\",\"sp1\"])\n",
    "tot_n_shared100k = n_seg_gt(pop3_group,min_len=100000)\n",
    "tot_n_shared10k = n_seg_gt(pop3_group,min_len=10000)\n",
    "median_len = get_median_len_kb(pop3_group)\n",
    "for chrom in autosomes[1:]:\n",
    "    ibd_df = get_ibd_df(chrom)\n",
    "    pop3_group = ibd_df.groupby([\"sp0\",\"sp1\"])\n",
    "    n_shared100k = n_seg_gt(pop3_group,min_len=100000)\n",
    "    tot_n_shared100k += n_shared100k\n",
    "    \n",
    "    n_shared10k = n_seg_gt(pop3_group,min_len=10000)\n",
    "    tot_n_shared10k += n_shared10k\n"
   ]
  },
  {
   "cell_type": "code",
   "execution_count": 100,
   "metadata": {
    "collapsed": true
   },
   "outputs": [],
   "source": [
    "chrom = \"CAE1\"\n",
    "ibd_df = get_ibd_df(chrom)\n",
    "pop3_group = ibd_df.groupby([\"sp0\",\"sp1\"])\n",
    "median_len = get_median_len_kb(pop3_group)"
   ]
  },
  {
   "cell_type": "code",
   "execution_count": 104,
   "metadata": {
    "collapsed": false
   },
   "outputs": [],
   "source": [
    "tot_n_shared10k[tot_n_shared10k.] = np.nan"
   ]
  },
  {
   "cell_type": "code",
   "execution_count": 108,
   "metadata": {
    "collapsed": false
   },
   "outputs": [],
   "source": [
    "tot_n_shared10k.fillna(\"\",inplace=True)"
   ]
  },
  {
   "cell_type": "code",
   "execution_count": 109,
   "metadata": {
    "collapsed": false
   },
   "outputs": [
    {
     "name": "stdout",
     "output_type": "stream",
     "text": [
      "\\begin{tabular}{llllllllr}\n",
      "\\toprule\n",
      "{} &   aet &   cyn &   pyn &   pys &    sab &    sac &    sar &   tan \\\\\n",
      "\\midrule\n",
      "aet &  9185 &    37 &   115 &    22 &      6 &      5 &      2 &    48 \\\\\n",
      "cyn &       &  3153 &   424 &  1117 &      3 &      3 &      1 &    44 \\\\\n",
      "pyn &       &       &  2051 &   290 &     16 &     13 &     13 &   125 \\\\\n",
      "pys &       &       &       &  6752 &        &        &        &    29 \\\\\n",
      "sab &       &       &       &       &  15742 &  17471 &  13457 &   107 \\\\\n",
      "sac &       &       &       &       &        &  66819 &  26241 &   132 \\\\\n",
      "sar &       &       &       &       &        &        &  43631 &    91 \\\\\n",
      "tan &       &       &       &       &        &        &        &  2631 \\\\\n",
      "\\bottomrule\n",
      "\\end{tabular}\n",
      "\n"
     ]
    }
   ],
   "source": [
    "print tot_n_shared10k.to_latex()"
   ]
  },
  {
   "cell_type": "code",
   "execution_count": 92,
   "metadata": {
    "collapsed": false
   },
   "outputs": [
    {
     "data": {
      "text/html": [
       "<div style=\"max-height:1000px;max-width:1500px;overflow:auto;\">\n",
       "<table border=\"1\" class=\"dataframe\">\n",
       "  <thead>\n",
       "    <tr style=\"text-align: right;\">\n",
       "      <th></th>\n",
       "      <th>aet</th>\n",
       "      <th>cyn</th>\n",
       "      <th>pyn</th>\n",
       "      <th>pys</th>\n",
       "      <th>sab</th>\n",
       "      <th>sac</th>\n",
       "      <th>sar</th>\n",
       "      <th>tan</th>\n",
       "    </tr>\n",
       "  </thead>\n",
       "  <tbody>\n",
       "    <tr>\n",
       "      <th>aet</th>\n",
       "      <td> 74</td>\n",
       "      <td>  1</td>\n",
       "      <td>  1</td>\n",
       "      <td>  0</td>\n",
       "      <td>   0</td>\n",
       "      <td>   0</td>\n",
       "      <td>   0</td>\n",
       "      <td>  1</td>\n",
       "    </tr>\n",
       "    <tr>\n",
       "      <th>cyn</th>\n",
       "      <td>  0</td>\n",
       "      <td> 19</td>\n",
       "      <td>  3</td>\n",
       "      <td>  8</td>\n",
       "      <td>   0</td>\n",
       "      <td>   0</td>\n",
       "      <td>   0</td>\n",
       "      <td>  1</td>\n",
       "    </tr>\n",
       "    <tr>\n",
       "      <th>pyn</th>\n",
       "      <td>  0</td>\n",
       "      <td>  0</td>\n",
       "      <td> 14</td>\n",
       "      <td>  3</td>\n",
       "      <td>   0</td>\n",
       "      <td>   0</td>\n",
       "      <td>   0</td>\n",
       "      <td>  1</td>\n",
       "    </tr>\n",
       "    <tr>\n",
       "      <th>pys</th>\n",
       "      <td>  0</td>\n",
       "      <td>  0</td>\n",
       "      <td>  0</td>\n",
       "      <td> 50</td>\n",
       "      <td>   0</td>\n",
       "      <td>   0</td>\n",
       "      <td>   0</td>\n",
       "      <td>  1</td>\n",
       "    </tr>\n",
       "    <tr>\n",
       "      <th>sab</th>\n",
       "      <td>  0</td>\n",
       "      <td>  0</td>\n",
       "      <td>  0</td>\n",
       "      <td>  0</td>\n",
       "      <td> 100</td>\n",
       "      <td> 110</td>\n",
       "      <td>  93</td>\n",
       "      <td>  1</td>\n",
       "    </tr>\n",
       "    <tr>\n",
       "      <th>sac</th>\n",
       "      <td>  0</td>\n",
       "      <td>  0</td>\n",
       "      <td>  0</td>\n",
       "      <td>  0</td>\n",
       "      <td>   0</td>\n",
       "      <td> 424</td>\n",
       "      <td> 175</td>\n",
       "      <td>  1</td>\n",
       "    </tr>\n",
       "    <tr>\n",
       "      <th>sar</th>\n",
       "      <td>  0</td>\n",
       "      <td>  0</td>\n",
       "      <td>  0</td>\n",
       "      <td>  0</td>\n",
       "      <td>   0</td>\n",
       "      <td>   0</td>\n",
       "      <td> 284</td>\n",
       "      <td>  1</td>\n",
       "    </tr>\n",
       "    <tr>\n",
       "      <th>tan</th>\n",
       "      <td>  0</td>\n",
       "      <td>  0</td>\n",
       "      <td>  0</td>\n",
       "      <td>  0</td>\n",
       "      <td>   0</td>\n",
       "      <td>   0</td>\n",
       "      <td>   0</td>\n",
       "      <td> 11</td>\n",
       "    </tr>\n",
       "  </tbody>\n",
       "</table>\n",
       "</div>"
      ],
      "text/plain": [
       "     aet  cyn  pyn  pys  sab  sac  sar  tan\n",
       "aet   74    1    1    0    0    0    0    1\n",
       "cyn    0   19    3    8    0    0    0    1\n",
       "pyn    0    0   14    3    0    0    0    1\n",
       "pys    0    0    0   50    0    0    0    1\n",
       "sab    0    0    0    0  100  110   93    1\n",
       "sac    0    0    0    0    0  424  175    1\n",
       "sar    0    0    0    0    0    0  284    1\n",
       "tan    0    0    0    0    0    0    0   11"
      ]
     },
     "execution_count": 92,
     "metadata": {},
     "output_type": "execute_result"
    }
   ],
   "source": [
    "n_seg_gt(pop3_group,min_len=1000)"
   ]
  },
  {
   "cell_type": "code",
   "execution_count": 89,
   "metadata": {
    "collapsed": false
   },
   "outputs": [
    {
     "data": {
      "text/html": [
       "<div style=\"max-height:1000px;max-width:1500px;overflow:auto;\">\n",
       "<table border=\"1\" class=\"dataframe\">\n",
       "  <thead>\n",
       "    <tr style=\"text-align: right;\">\n",
       "      <th></th>\n",
       "      <th>aet</th>\n",
       "      <th>cyn</th>\n",
       "      <th>pyn</th>\n",
       "      <th>pys</th>\n",
       "      <th>sab</th>\n",
       "      <th>sac</th>\n",
       "      <th>sar</th>\n",
       "      <th>tan</th>\n",
       "    </tr>\n",
       "  </thead>\n",
       "  <tbody>\n",
       "    <tr>\n",
       "      <th>aet</th>\n",
       "      <td> 0</td>\n",
       "      <td> 0</td>\n",
       "      <td> 0</td>\n",
       "      <td> 0</td>\n",
       "      <td> 0</td>\n",
       "      <td> 0</td>\n",
       "      <td> 0</td>\n",
       "      <td> 0</td>\n",
       "    </tr>\n",
       "    <tr>\n",
       "      <th>cyn</th>\n",
       "      <td> 0</td>\n",
       "      <td> 0</td>\n",
       "      <td> 0</td>\n",
       "      <td> 0</td>\n",
       "      <td> 0</td>\n",
       "      <td> 0</td>\n",
       "      <td> 0</td>\n",
       "      <td> 0</td>\n",
       "    </tr>\n",
       "    <tr>\n",
       "      <th>pyn</th>\n",
       "      <td> 0</td>\n",
       "      <td> 0</td>\n",
       "      <td> 0</td>\n",
       "      <td> 0</td>\n",
       "      <td> 0</td>\n",
       "      <td> 0</td>\n",
       "      <td> 0</td>\n",
       "      <td> 0</td>\n",
       "    </tr>\n",
       "    <tr>\n",
       "      <th>pys</th>\n",
       "      <td> 0</td>\n",
       "      <td> 0</td>\n",
       "      <td> 0</td>\n",
       "      <td> 0</td>\n",
       "      <td> 0</td>\n",
       "      <td> 0</td>\n",
       "      <td> 0</td>\n",
       "      <td> 0</td>\n",
       "    </tr>\n",
       "    <tr>\n",
       "      <th>sab</th>\n",
       "      <td> 0</td>\n",
       "      <td> 0</td>\n",
       "      <td> 0</td>\n",
       "      <td> 0</td>\n",
       "      <td> 0</td>\n",
       "      <td> 0</td>\n",
       "      <td> 0</td>\n",
       "      <td> 0</td>\n",
       "    </tr>\n",
       "    <tr>\n",
       "      <th>sac</th>\n",
       "      <td> 0</td>\n",
       "      <td> 0</td>\n",
       "      <td> 0</td>\n",
       "      <td> 0</td>\n",
       "      <td> 0</td>\n",
       "      <td> 0</td>\n",
       "      <td> 0</td>\n",
       "      <td> 0</td>\n",
       "    </tr>\n",
       "    <tr>\n",
       "      <th>sar</th>\n",
       "      <td> 0</td>\n",
       "      <td> 0</td>\n",
       "      <td> 0</td>\n",
       "      <td> 0</td>\n",
       "      <td> 0</td>\n",
       "      <td> 0</td>\n",
       "      <td> 0</td>\n",
       "      <td> 0</td>\n",
       "    </tr>\n",
       "    <tr>\n",
       "      <th>tan</th>\n",
       "      <td> 0</td>\n",
       "      <td> 0</td>\n",
       "      <td> 0</td>\n",
       "      <td> 0</td>\n",
       "      <td> 0</td>\n",
       "      <td> 0</td>\n",
       "      <td> 0</td>\n",
       "      <td> 0</td>\n",
       "    </tr>\n",
       "  </tbody>\n",
       "</table>\n",
       "</div>"
      ],
      "text/plain": [
       "     aet  cyn  pyn  pys  sab  sac  sar  tan\n",
       "aet    0    0    0    0    0    0    0    0\n",
       "cyn    0    0    0    0    0    0    0    0\n",
       "pyn    0    0    0    0    0    0    0    0\n",
       "pys    0    0    0    0    0    0    0    0\n",
       "sab    0    0    0    0    0    0    0    0\n",
       "sac    0    0    0    0    0    0    0    0\n",
       "sar    0    0    0    0    0    0    0    0\n",
       "tan    0    0    0    0    0    0    0    0"
      ]
     },
     "execution_count": 89,
     "metadata": {},
     "output_type": "execute_result"
    }
   ],
   "source": [
    "n_shared100k"
   ]
  },
  {
   "cell_type": "code",
   "execution_count": 62,
   "metadata": {
    "collapsed": true
   },
   "outputs": [],
   "source": [
    "for chrom in autosomes:\n",
    "    ibd_df = get_ibd_df(chrom)\n",
    "    pop3_group = ibd_df.groupby([\"sp0\",\"sp1\"])\n",
    "    l = pop3_group.apply(lambda df: (df[\"length\"]>100000).sum())\n",
    "    l = (l+l.T)\n",
    "    l_df = pd.DataFrame(np.triu(l.values),index=l.index,columns=l.columns)\n",
    "    vc = mt[\"pop3\"].value_counts()\n",
    "    #this is the number of individual pairs, makes a small error for diagonal entries\n",
    "    normalisation = pd.DataFrame(np.outer(vc.values,vc.values)/2,index=vc.index,columns=vc.index)\n",
    "    return (l_df/normalisation).applymap(round)"
   ]
  },
  {
   "cell_type": "code",
   "execution_count": 60,
   "metadata": {
    "collapsed": false
   },
   "outputs": [
    {
     "data": {
      "text/html": [
       "<div style=\"max-height:1000px;max-width:1500px;overflow:auto;\">\n",
       "<table border=\"1\" class=\"dataframe\">\n",
       "  <thead>\n",
       "    <tr style=\"text-align: right;\">\n",
       "      <th></th>\n",
       "      <th>aet</th>\n",
       "      <th>cyn</th>\n",
       "      <th>pyn</th>\n",
       "      <th>pys</th>\n",
       "      <th>sab</th>\n",
       "      <th>sac</th>\n",
       "      <th>sar</th>\n",
       "      <th>tan</th>\n",
       "    </tr>\n",
       "  </thead>\n",
       "  <tbody>\n",
       "    <tr>\n",
       "      <th>aet</th>\n",
       "      <td> 13718</td>\n",
       "      <td>   89</td>\n",
       "      <td>  223</td>\n",
       "      <td>   66</td>\n",
       "      <td>    29</td>\n",
       "      <td>    29</td>\n",
       "      <td>    21</td>\n",
       "      <td>  111</td>\n",
       "    </tr>\n",
       "    <tr>\n",
       "      <th>cyn</th>\n",
       "      <td>     0</td>\n",
       "      <td> 4750</td>\n",
       "      <td>  766</td>\n",
       "      <td> 1764</td>\n",
       "      <td>    26</td>\n",
       "      <td>    27</td>\n",
       "      <td>    23</td>\n",
       "      <td>  114</td>\n",
       "    </tr>\n",
       "    <tr>\n",
       "      <th>pyn</th>\n",
       "      <td>     0</td>\n",
       "      <td>    0</td>\n",
       "      <td> 3080</td>\n",
       "      <td>  558</td>\n",
       "      <td>    45</td>\n",
       "      <td>    47</td>\n",
       "      <td>    40</td>\n",
       "      <td>  241</td>\n",
       "    </tr>\n",
       "    <tr>\n",
       "      <th>pys</th>\n",
       "      <td>     0</td>\n",
       "      <td>    0</td>\n",
       "      <td>    0</td>\n",
       "      <td> 9594</td>\n",
       "      <td>    14</td>\n",
       "      <td>    13</td>\n",
       "      <td>    12</td>\n",
       "      <td>   80</td>\n",
       "    </tr>\n",
       "    <tr>\n",
       "      <th>sab</th>\n",
       "      <td>     0</td>\n",
       "      <td>    0</td>\n",
       "      <td>    0</td>\n",
       "      <td>    0</td>\n",
       "      <td> 22724</td>\n",
       "      <td> 24975</td>\n",
       "      <td> 19617</td>\n",
       "      <td>  209</td>\n",
       "    </tr>\n",
       "    <tr>\n",
       "      <th>sac</th>\n",
       "      <td>     0</td>\n",
       "      <td>    0</td>\n",
       "      <td>    0</td>\n",
       "      <td>    0</td>\n",
       "      <td>     0</td>\n",
       "      <td> 89058</td>\n",
       "      <td> 36372</td>\n",
       "      <td>  255</td>\n",
       "    </tr>\n",
       "    <tr>\n",
       "      <th>sar</th>\n",
       "      <td>     0</td>\n",
       "      <td>    0</td>\n",
       "      <td>    0</td>\n",
       "      <td>    0</td>\n",
       "      <td>     0</td>\n",
       "      <td>     0</td>\n",
       "      <td> 60116</td>\n",
       "      <td>  189</td>\n",
       "    </tr>\n",
       "    <tr>\n",
       "      <th>tan</th>\n",
       "      <td>     0</td>\n",
       "      <td>    0</td>\n",
       "      <td>    0</td>\n",
       "      <td>    0</td>\n",
       "      <td>     0</td>\n",
       "      <td>     0</td>\n",
       "      <td>     0</td>\n",
       "      <td> 3867</td>\n",
       "    </tr>\n",
       "  </tbody>\n",
       "</table>\n",
       "</div>"
      ],
      "text/plain": [
       "       aet   cyn   pyn   pys    sab    sac    sar   tan\n",
       "aet  13718    89   223    66     29     29     21   111\n",
       "cyn      0  4750   766  1764     26     27     23   114\n",
       "pyn      0     0  3080   558     45     47     40   241\n",
       "pys      0     0     0  9594     14     13     12    80\n",
       "sab      0     0     0     0  22724  24975  19617   209\n",
       "sac      0     0     0     0      0  89058  36372   255\n",
       "sar      0     0     0     0      0      0  60116   189\n",
       "tan      0     0     0     0      0      0      0  3867"
      ]
     },
     "execution_count": 60,
     "metadata": {},
     "output_type": "execute_result"
    }
   ],
   "source": [
    "tot_n_shared_per_comparison"
   ]
  },
  {
   "cell_type": "code",
   "execution_count": 61,
   "metadata": {
    "collapsed": false
   },
   "outputs": [
    {
     "data": {
      "text/html": [
       "<div style=\"max-height:1000px;max-width:1500px;overflow:auto;\">\n",
       "<table border=\"1\" class=\"dataframe\">\n",
       "  <thead>\n",
       "    <tr style=\"text-align: right;\">\n",
       "      <th>sp1</th>\n",
       "      <th>aet</th>\n",
       "      <th>cyn</th>\n",
       "      <th>pyn</th>\n",
       "      <th>pys</th>\n",
       "      <th>sab</th>\n",
       "      <th>sac</th>\n",
       "      <th>sar</th>\n",
       "      <th>tan</th>\n",
       "    </tr>\n",
       "    <tr>\n",
       "      <th>sp0</th>\n",
       "      <th></th>\n",
       "      <th></th>\n",
       "      <th></th>\n",
       "      <th></th>\n",
       "      <th></th>\n",
       "      <th></th>\n",
       "      <th></th>\n",
       "      <th></th>\n",
       "    </tr>\n",
       "  </thead>\n",
       "  <tbody>\n",
       "    <tr>\n",
       "      <th>aet</th>\n",
       "      <td> 2071</td>\n",
       "      <td>    0</td>\n",
       "      <td>    0</td>\n",
       "      <td>    0</td>\n",
       "      <td>    0</td>\n",
       "      <td>    0</td>\n",
       "      <td>    0</td>\n",
       "      <td>    0</td>\n",
       "    </tr>\n",
       "    <tr>\n",
       "      <th>cyn</th>\n",
       "      <td>   94</td>\n",
       "      <td> 2041</td>\n",
       "      <td>    0</td>\n",
       "      <td>    0</td>\n",
       "      <td>    0</td>\n",
       "      <td>    0</td>\n",
       "      <td>    0</td>\n",
       "      <td>    0</td>\n",
       "    </tr>\n",
       "    <tr>\n",
       "      <th>pyn</th>\n",
       "      <td>  122</td>\n",
       "      <td>  231</td>\n",
       "      <td>  369</td>\n",
       "      <td>    0</td>\n",
       "      <td>    0</td>\n",
       "      <td>    0</td>\n",
       "      <td>    0</td>\n",
       "      <td>    0</td>\n",
       "    </tr>\n",
       "    <tr>\n",
       "      <th>pys</th>\n",
       "      <td>  147</td>\n",
       "      <td> 1022</td>\n",
       "      <td>  212</td>\n",
       "      <td> 2141</td>\n",
       "      <td>    0</td>\n",
       "      <td>    0</td>\n",
       "      <td>    0</td>\n",
       "      <td>    0</td>\n",
       "    </tr>\n",
       "    <tr>\n",
       "      <th>sab</th>\n",
       "      <td>   99</td>\n",
       "      <td> 1014</td>\n",
       "      <td>  373</td>\n",
       "      <td>  259</td>\n",
       "      <td> 2183</td>\n",
       "      <td>    0</td>\n",
       "      <td>    0</td>\n",
       "      <td>    0</td>\n",
       "    </tr>\n",
       "    <tr>\n",
       "      <th>sac</th>\n",
       "      <td>  175</td>\n",
       "      <td>  471</td>\n",
       "      <td> 1012</td>\n",
       "      <td>  273</td>\n",
       "      <td> 5581</td>\n",
       "      <td> 2210</td>\n",
       "      <td>    0</td>\n",
       "      <td>    0</td>\n",
       "    </tr>\n",
       "    <tr>\n",
       "      <th>sar</th>\n",
       "      <td>   36</td>\n",
       "      <td>   84</td>\n",
       "      <td>   38</td>\n",
       "      <td>  212</td>\n",
       "      <td> 1095</td>\n",
       "      <td> 1113</td>\n",
       "      <td> 2163</td>\n",
       "      <td>    0</td>\n",
       "    </tr>\n",
       "    <tr>\n",
       "      <th>tan</th>\n",
       "      <td>  128</td>\n",
       "      <td>  230</td>\n",
       "      <td>  461</td>\n",
       "      <td>  128</td>\n",
       "      <td> 1026</td>\n",
       "      <td> 1035</td>\n",
       "      <td> 1068</td>\n",
       "      <td> 2080</td>\n",
       "    </tr>\n",
       "  </tbody>\n",
       "</table>\n",
       "</div>"
      ],
      "text/plain": [
       "sp1   aet   cyn   pyn   pys   sab   sac   sar   tan\n",
       "sp0                                                \n",
       "aet  2071     0     0     0     0     0     0     0\n",
       "cyn    94  2041     0     0     0     0     0     0\n",
       "pyn   122   231   369     0     0     0     0     0\n",
       "pys   147  1022   212  2141     0     0     0     0\n",
       "sab    99  1014   373   259  2183     0     0     0\n",
       "sac   175   471  1012   273  5581  2210     0     0\n",
       "sar    36    84    38   212  1095  1113  2163     0\n",
       "tan   128   230   461   128  1026  1035  1068  2080"
      ]
     },
     "execution_count": 61,
     "metadata": {},
     "output_type": "execute_result"
    }
   ],
   "source": [
    "tot_max_len_kb"
   ]
  },
  {
   "cell_type": "code",
   "execution_count": 50,
   "metadata": {
    "collapsed": false
   },
   "outputs": [
    {
     "data": {
      "text/html": [
       "<div style=\"max-height:1000px;max-width:1500px;overflow:auto;\">\n",
       "<table border=\"1\" class=\"dataframe\">\n",
       "  <thead>\n",
       "    <tr style=\"text-align: right;\">\n",
       "      <th>sp1</th>\n",
       "      <th>aet</th>\n",
       "      <th>cyn</th>\n",
       "      <th>pyn</th>\n",
       "      <th>pys</th>\n",
       "      <th>sab</th>\n",
       "      <th>sac</th>\n",
       "      <th>sar</th>\n",
       "      <th>tan</th>\n",
       "    </tr>\n",
       "    <tr>\n",
       "      <th>sp0</th>\n",
       "      <th></th>\n",
       "      <th></th>\n",
       "      <th></th>\n",
       "      <th></th>\n",
       "      <th></th>\n",
       "      <th></th>\n",
       "      <th></th>\n",
       "      <th></th>\n",
       "    </tr>\n",
       "  </thead>\n",
       "  <tbody>\n",
       "    <tr>\n",
       "      <th>aet</th>\n",
       "      <td> 157</td>\n",
       "      <td>   0</td>\n",
       "      <td>   0</td>\n",
       "      <td>    0</td>\n",
       "      <td>    0</td>\n",
       "      <td>    0</td>\n",
       "      <td>   0</td>\n",
       "      <td>   0</td>\n",
       "    </tr>\n",
       "    <tr>\n",
       "      <th>cyn</th>\n",
       "      <td>  24</td>\n",
       "      <td> 167</td>\n",
       "      <td>   0</td>\n",
       "      <td>    0</td>\n",
       "      <td>    0</td>\n",
       "      <td>    0</td>\n",
       "      <td>   0</td>\n",
       "      <td>   0</td>\n",
       "    </tr>\n",
       "    <tr>\n",
       "      <th>pyn</th>\n",
       "      <td>  51</td>\n",
       "      <td>  35</td>\n",
       "      <td> 105</td>\n",
       "      <td>    0</td>\n",
       "      <td>    0</td>\n",
       "      <td>    0</td>\n",
       "      <td>   0</td>\n",
       "      <td>   0</td>\n",
       "    </tr>\n",
       "    <tr>\n",
       "      <th>pys</th>\n",
       "      <td>  37</td>\n",
       "      <td>  99</td>\n",
       "      <td>  64</td>\n",
       "      <td> 2102</td>\n",
       "      <td>    0</td>\n",
       "      <td>    0</td>\n",
       "      <td>   0</td>\n",
       "      <td>   0</td>\n",
       "    </tr>\n",
       "    <tr>\n",
       "      <th>sab</th>\n",
       "      <td>  14</td>\n",
       "      <td>  16</td>\n",
       "      <td>  35</td>\n",
       "      <td>   37</td>\n",
       "      <td> 2092</td>\n",
       "      <td>    0</td>\n",
       "      <td>   0</td>\n",
       "      <td>   0</td>\n",
       "    </tr>\n",
       "    <tr>\n",
       "      <th>sac</th>\n",
       "      <td>  31</td>\n",
       "      <td>  32</td>\n",
       "      <td>  24</td>\n",
       "      <td>   35</td>\n",
       "      <td> 1203</td>\n",
       "      <td> 2097</td>\n",
       "      <td>   0</td>\n",
       "      <td>   0</td>\n",
       "    </tr>\n",
       "    <tr>\n",
       "      <th>sar</th>\n",
       "      <td>  13</td>\n",
       "      <td>  11</td>\n",
       "      <td>  23</td>\n",
       "      <td>   16</td>\n",
       "      <td>  245</td>\n",
       "      <td>  263</td>\n",
       "      <td> 454</td>\n",
       "      <td>   0</td>\n",
       "    </tr>\n",
       "    <tr>\n",
       "      <th>tan</th>\n",
       "      <td>  23</td>\n",
       "      <td>  20</td>\n",
       "      <td>  40</td>\n",
       "      <td>   25</td>\n",
       "      <td>   34</td>\n",
       "      <td>   63</td>\n",
       "      <td>  46</td>\n",
       "      <td> 178</td>\n",
       "    </tr>\n",
       "  </tbody>\n",
       "</table>\n",
       "</div>"
      ],
      "text/plain": [
       "sp1  aet  cyn  pyn   pys   sab   sac  sar  tan\n",
       "sp0                                           \n",
       "aet  157    0    0     0     0     0    0    0\n",
       "cyn   24  167    0     0     0     0    0    0\n",
       "pyn   51   35  105     0     0     0    0    0\n",
       "pys   37   99   64  2102     0     0    0    0\n",
       "sab   14   16   35    37  2092     0    0    0\n",
       "sac   31   32   24    35  1203  2097    0    0\n",
       "sar   13   11   23    16   245   263  454    0\n",
       "tan   23   20   40    25    34    63   46  178"
      ]
     },
     "execution_count": 50,
     "metadata": {},
     "output_type": "execute_result"
    }
   ],
   "source": [
    "get_max_len_kb"
   ]
  },
  {
   "cell_type": "code",
   "execution_count": 7,
   "metadata": {
    "collapsed": false
   },
   "outputs": [],
   "source": [
    "ibd_df[\"sp0\"] = [s for s in  mt.ix[ibd_df[\"id0\"]][\"pop3\"].values]\n",
    "ibd_df[\"sp1\"] = [s for s in  mt.ix[ibd_df[\"id1\"]][\"pop3\"].values]"
   ]
  },
  {
   "cell_type": "code",
   "execution_count": 13,
   "metadata": {
    "collapsed": false
   },
   "outputs": [],
   "source": [
    "ibs_sab = ibd_df[(mt.ix[ibd_df[\"id0\"]][\"pop3\"]==\"sab\").values&(mt.ix[ibd_df[\"id1\"]][\"pop3\"]==\"sab\").values]"
   ]
  },
  {
   "cell_type": "code",
   "execution_count": 16,
   "metadata": {
    "collapsed": false
   },
   "outputs": [],
   "source": [
    "ibs_sab[\"length\"] = ibs_sab[\"end\"] -ibs_sab[\"start\"]"
   ]
  },
  {
   "cell_type": "code",
   "execution_count": 28,
   "metadata": {
    "collapsed": false
   },
   "outputs": [
    {
     "data": {
      "text/plain": [
       "<matplotlib.collections.PathCollection at 0x7017990>"
      ]
     },
     "execution_count": 28,
     "metadata": {},
     "output_type": "execute_result"
    },
    {
     "data": {
      "image/png": "[encoded data removed]",
      "text/plain": [
       "<matplotlib.figure.Figure at 0x6e3e6d0>"
      ]
     },
     "metadata": {},
     "output_type": "display_data"
    }
   ],
   "source": [
    "plt.scatter(ibs_sab[ibs_sab[\"lod\"]>10][\"length\"],ibs_sab[ibs_sab[\"lod\"]>10][\"lod\"])"
   ]
  },
  {
   "cell_type": "code",
   "execution_count": 29,
   "metadata": {
    "collapsed": false
   },
   "outputs": [
    {
     "data": {
      "text/html": [
       "<div style=\"max-height:1000px;max-width:1500px;overflow:auto;\">\n",
       "<table border=\"1\" class=\"dataframe\">\n",
       "  <thead>\n",
       "    <tr style=\"text-align: right;\">\n",
       "      <th></th>\n",
       "      <th>strd0</th>\n",
       "      <th>strd1</th>\n",
       "      <th>start</th>\n",
       "      <th>end</th>\n",
       "      <th>lod</th>\n",
       "      <th>length</th>\n",
       "    </tr>\n",
       "  </thead>\n",
       "  <tbody>\n",
       "    <tr>\n",
       "      <th>strd0</th>\n",
       "      <td> 1.000000</td>\n",
       "      <td>-0.043168</td>\n",
       "      <td> 0.021327</td>\n",
       "      <td> 0.021285</td>\n",
       "      <td>-0.060441</td>\n",
       "      <td>-0.078772</td>\n",
       "    </tr>\n",
       "    <tr>\n",
       "      <th>strd1</th>\n",
       "      <td>-0.043168</td>\n",
       "      <td> 1.000000</td>\n",
       "      <td>-0.099801</td>\n",
       "      <td>-0.099772</td>\n",
       "      <td>-0.016722</td>\n",
       "      <td> 0.053950</td>\n",
       "    </tr>\n",
       "    <tr>\n",
       "      <th>start</th>\n",
       "      <td> 0.021327</td>\n",
       "      <td>-0.099801</td>\n",
       "      <td> 1.000000</td>\n",
       "      <td> 1.000000</td>\n",
       "      <td> 0.063416</td>\n",
       "      <td>-0.008624</td>\n",
       "    </tr>\n",
       "    <tr>\n",
       "      <th>end</th>\n",
       "      <td> 0.021285</td>\n",
       "      <td>-0.099772</td>\n",
       "      <td> 1.000000</td>\n",
       "      <td> 1.000000</td>\n",
       "      <td> 0.063694</td>\n",
       "      <td>-0.008095</td>\n",
       "    </tr>\n",
       "    <tr>\n",
       "      <th>lod</th>\n",
       "      <td>-0.060441</td>\n",
       "      <td>-0.016722</td>\n",
       "      <td> 0.063416</td>\n",
       "      <td> 0.063694</td>\n",
       "      <td> 1.000000</td>\n",
       "      <td> 0.523384</td>\n",
       "    </tr>\n",
       "    <tr>\n",
       "      <th>length</th>\n",
       "      <td>-0.078772</td>\n",
       "      <td> 0.053950</td>\n",
       "      <td>-0.008624</td>\n",
       "      <td>-0.008095</td>\n",
       "      <td> 0.523384</td>\n",
       "      <td> 1.000000</td>\n",
       "    </tr>\n",
       "  </tbody>\n",
       "</table>\n",
       "</div>"
      ],
      "text/plain": [
       "           strd0     strd1     start       end       lod    length\n",
       "strd0   1.000000 -0.043168  0.021327  0.021285 -0.060441 -0.078772\n",
       "strd1  -0.043168  1.000000 -0.099801 -0.099772 -0.016722  0.053950\n",
       "start   0.021327 -0.099801  1.000000  1.000000  0.063416 -0.008624\n",
       "end     0.021285 -0.099772  1.000000  1.000000  0.063694 -0.008095\n",
       "lod    -0.060441 -0.016722  0.063416  0.063694  1.000000  0.523384\n",
       "length -0.078772  0.053950 -0.008624 -0.008095  0.523384  1.000000"
      ]
     },
     "execution_count": 29,
     "metadata": {},
     "output_type": "execute_result"
    }
   ],
   "source": [
    "ibs_sab[ibs_sab[\"lod\"]>10].corr()"
   ]
  },
  {
   "cell_type": "code",
   "execution_count": 25,
   "metadata": {
    "collapsed": false
   },
   "outputs": [
    {
     "data": {
      "text/plain": [
       "(0, 0.05)"
      ]
     },
     "execution_count": 25,
     "metadata": {},
     "output_type": "execute_result"
    },
    {
     "data": {
      "image/png": "[encoded data removed]",
      "text/plain": [
       "<matplotlib.figure.Figure at 0xad4fd90>"
      ]
     },
     "metadata": {},
     "output_type": "display_data"
    }
   ],
   "source": [
    "(ibs_sab[\"length\"]*114./139301422).hist(bins=200)\n",
    "ax = plt.gca()\n",
    "ax.set_xlim([0,0.05])"
   ]
  },
  {
   "cell_type": "code",
   "execution_count": 8,
   "metadata": {
    "collapsed": false
   },
   "outputs": [],
   "source": [
    "pop3_group = ibd_df.groupby([\"sp0\",\"sp1\"])"
   ]
  },
  {
   "cell_type": "code",
   "execution_count": null,
   "metadata": {
    "collapsed": true
   },
   "outputs": [],
   "source": []
  },
  {
   "cell_type": "code",
   "execution_count": 23,
   "metadata": {
    "collapsed": false
   },
   "outputs": [
    {
     "data": {
      "text/plain": [
       "20988.200000000012"
      ]
     },
     "execution_count": 23,
     "metadata": {},
     "output_type": "execute_result"
    }
   ],
   "source": [
    "df['length'].quantile(0.95)"
   ]
  },
  {
   "cell_type": "code",
   "execution_count": 99,
   "metadata": {
    "collapsed": true
   },
   "outputs": [],
   "source": [
    "def get_median_len_kb(pop3_group):\n",
    "    l = pop3_group.apply(lambda df: df['length'].median()).unstack().fillna(0)\n",
    "    l = (l+l.T)\n",
    "    l_df = pd.DataFrame(np.tril(l.values),index=l.index,columns=l.columns)\n",
    "    return (l_df/1000.).applymap(round)"
   ]
  },
  {
   "cell_type": "code",
   "execution_count": 53,
   "metadata": {
    "collapsed": false
   },
   "outputs": [],
   "source": [
    "def get_max_len_kb(pop3_group):\n",
    "    l = pop3_group.apply(lambda df: df['length'].max()).unstack().fillna(0)\n",
    "    l = (l+l.T)\n",
    "    l_df = pd.DataFrame(np.tril(l.values),index=l.index,columns=l.columns)\n",
    "    return (l_df/1000.).applymap(round)"
   ]
  },
  {
   "cell_type": "code",
   "execution_count": 54,
   "metadata": {
    "collapsed": false
   },
   "outputs": [],
   "source": [
    "def get_n_shared_per_comparison(pop3_group):\n",
    "    l = pop3_group.apply(lambda x: len(x)).unstack().fillna(0)\n",
    "    l = (l+l.T)\n",
    "    l_df = pd.DataFrame(np.triu(l.values),index=l.index,columns=l.columns)\n",
    "    vc = mt[\"pop3\"].value_counts()\n",
    "    #this is the number of individual pairs, makes a small error for diagonal entries\n",
    "    normalisation = pd.DataFrame(np.outer(vc.values,vc.values)/2,index=vc.index,columns=vc.index)\n",
    "    return (l_df/normalisation).applymap(round)"
   ]
  },
  {
   "cell_type": "code",
   "execution_count": 120,
   "metadata": {
    "collapsed": false
   },
   "outputs": [],
   "source": [
    "ibd_df[\"c0\"] = [s for s in  mt.ix[ibd_df[\"id0\"]][\"country\"].values]\n",
    "ibd_df[\"c1\"] = [s for s in  mt.ix[ibd_df[\"id1\"]][\"country\"].values]"
   ]
  },
  {
   "cell_type": "code",
   "execution_count": 122,
   "metadata": {
    "collapsed": false
   },
   "outputs": [],
   "source": [
    "country_group = ibd_df.groupby([\"c0\",\"c1\"])"
   ]
  },
  {
   "cell_type": "code",
   "execution_count": 124,
   "metadata": {
    "collapsed": false
   },
   "outputs": [
    {
     "data": {
      "text/html": [
       "<div style=\"max-height:1000px;max-width:1500px;overflow:auto;\">\n",
       "<table border=\"1\" class=\"dataframe\">\n",
       "  <thead>\n",
       "    <tr style=\"text-align: right;\">\n",
       "      <th></th>\n",
       "      <th>Barbados</th>\n",
       "      <th>Botswana</th>\n",
       "      <th>Central African Republic</th>\n",
       "      <th>Ethiopia</th>\n",
       "      <th>Gambia</th>\n",
       "      <th>Ghana</th>\n",
       "      <th>Kenya</th>\n",
       "      <th>Nevis</th>\n",
       "      <th>Saint Kitts</th>\n",
       "      <th>South Africa</th>\n",
       "      <th>Tanzania</th>\n",
       "      <th>Zambia</th>\n",
       "    </tr>\n",
       "  </thead>\n",
       "  <tbody>\n",
       "    <tr>\n",
       "      <th>Barbados</th>\n",
       "      <td> 2405</td>\n",
       "      <td>   1</td>\n",
       "      <td>   8</td>\n",
       "      <td>   1</td>\n",
       "      <td>  953</td>\n",
       "      <td> 723</td>\n",
       "      <td>   2</td>\n",
       "      <td> 1598</td>\n",
       "      <td> 1808</td>\n",
       "      <td>   1</td>\n",
       "      <td>   1</td>\n",
       "      <td>   1</td>\n",
       "    </tr>\n",
       "    <tr>\n",
       "      <th>Botswana</th>\n",
       "      <td>    1</td>\n",
       "      <td> 125</td>\n",
       "      <td>   8</td>\n",
       "      <td>   3</td>\n",
       "      <td>    1</td>\n",
       "      <td>   3</td>\n",
       "      <td>  46</td>\n",
       "      <td>    1</td>\n",
       "      <td>    2</td>\n",
       "      <td> 177</td>\n",
       "      <td>  42</td>\n",
       "      <td> 148</td>\n",
       "    </tr>\n",
       "    <tr>\n",
       "      <th>Central African Republic</th>\n",
       "      <td>    8</td>\n",
       "      <td>   8</td>\n",
       "      <td> 200</td>\n",
       "      <td>   7</td>\n",
       "      <td>    8</td>\n",
       "      <td>  29</td>\n",
       "      <td>  15</td>\n",
       "      <td>   15</td>\n",
       "      <td>   13</td>\n",
       "      <td>   5</td>\n",
       "      <td>   7</td>\n",
       "      <td>   7</td>\n",
       "    </tr>\n",
       "    <tr>\n",
       "      <th>Ethiopia</th>\n",
       "      <td>    1</td>\n",
       "      <td>   3</td>\n",
       "      <td>   7</td>\n",
       "      <td> 667</td>\n",
       "      <td>    1</td>\n",
       "      <td>   2</td>\n",
       "      <td>  15</td>\n",
       "      <td>    1</td>\n",
       "      <td>    1</td>\n",
       "      <td>   4</td>\n",
       "      <td>   8</td>\n",
       "      <td>   5</td>\n",
       "    </tr>\n",
       "    <tr>\n",
       "      <th>Gambia</th>\n",
       "      <td>  953</td>\n",
       "      <td>   1</td>\n",
       "      <td>   8</td>\n",
       "      <td>   1</td>\n",
       "      <td> 1162</td>\n",
       "      <td> 693</td>\n",
       "      <td>   3</td>\n",
       "      <td> 1099</td>\n",
       "      <td> 1123</td>\n",
       "      <td>   1</td>\n",
       "      <td>   2</td>\n",
       "      <td>   2</td>\n",
       "    </tr>\n",
       "    <tr>\n",
       "      <th>Ghana</th>\n",
       "      <td>  723</td>\n",
       "      <td>   3</td>\n",
       "      <td>  29</td>\n",
       "      <td>   2</td>\n",
       "      <td>  693</td>\n",
       "      <td> 481</td>\n",
       "      <td>   4</td>\n",
       "      <td>  829</td>\n",
       "      <td>  882</td>\n",
       "      <td>   2</td>\n",
       "      <td>   7</td>\n",
       "      <td>   4</td>\n",
       "    </tr>\n",
       "    <tr>\n",
       "      <th>Kenya</th>\n",
       "      <td>    2</td>\n",
       "      <td>  46</td>\n",
       "      <td>  15</td>\n",
       "      <td>  15</td>\n",
       "      <td>    3</td>\n",
       "      <td>   4</td>\n",
       "      <td> 186</td>\n",
       "      <td>    3</td>\n",
       "      <td>    3</td>\n",
       "      <td>  40</td>\n",
       "      <td> 160</td>\n",
       "      <td>  54</td>\n",
       "    </tr>\n",
       "    <tr>\n",
       "      <th>Nevis</th>\n",
       "      <td> 1598</td>\n",
       "      <td>   1</td>\n",
       "      <td>  15</td>\n",
       "      <td>   1</td>\n",
       "      <td> 1099</td>\n",
       "      <td> 829</td>\n",
       "      <td>   3</td>\n",
       "      <td> 4160</td>\n",
       "      <td> 3151</td>\n",
       "      <td>   2</td>\n",
       "      <td>   1</td>\n",
       "      <td>   2</td>\n",
       "    </tr>\n",
       "    <tr>\n",
       "      <th>Saint Kitts</th>\n",
       "      <td> 1808</td>\n",
       "      <td>   2</td>\n",
       "      <td>  13</td>\n",
       "      <td>   1</td>\n",
       "      <td> 1123</td>\n",
       "      <td> 882</td>\n",
       "      <td>   3</td>\n",
       "      <td> 3151</td>\n",
       "      <td> 3477</td>\n",
       "      <td>   2</td>\n",
       "      <td>   1</td>\n",
       "      <td>   2</td>\n",
       "    </tr>\n",
       "    <tr>\n",
       "      <th>South Africa</th>\n",
       "      <td>    1</td>\n",
       "      <td> 177</td>\n",
       "      <td>   5</td>\n",
       "      <td>   4</td>\n",
       "      <td>    1</td>\n",
       "      <td>   2</td>\n",
       "      <td>  40</td>\n",
       "      <td>    2</td>\n",
       "      <td>    2</td>\n",
       "      <td> 495</td>\n",
       "      <td>  27</td>\n",
       "      <td>  94</td>\n",
       "    </tr>\n",
       "    <tr>\n",
       "      <th>Tanzania</th>\n",
       "      <td>    1</td>\n",
       "      <td>  42</td>\n",
       "      <td>   7</td>\n",
       "      <td>   8</td>\n",
       "      <td>    2</td>\n",
       "      <td>   7</td>\n",
       "      <td> 160</td>\n",
       "      <td>    1</td>\n",
       "      <td>    1</td>\n",
       "      <td>  27</td>\n",
       "      <td>  70</td>\n",
       "      <td>  36</td>\n",
       "    </tr>\n",
       "    <tr>\n",
       "      <th>Zambia</th>\n",
       "      <td>    1</td>\n",
       "      <td> 148</td>\n",
       "      <td>   7</td>\n",
       "      <td>   5</td>\n",
       "      <td>    2</td>\n",
       "      <td>   4</td>\n",
       "      <td>  54</td>\n",
       "      <td>    2</td>\n",
       "      <td>    2</td>\n",
       "      <td>  94</td>\n",
       "      <td>  36</td>\n",
       "      <td> 292</td>\n",
       "    </tr>\n",
       "  </tbody>\n",
       "</table>\n",
       "</div>"
      ],
      "text/plain": [
       "                          Barbados  Botswana  Central African Republic  \\\n",
       "Barbados                      2405         1                         8   \n",
       "Botswana                         1       125                         8   \n",
       "Central African Republic         8         8                       200   \n",
       "Ethiopia                         1         3                         7   \n",
       "Gambia                         953         1                         8   \n",
       "Ghana                          723         3                        29   \n",
       "Kenya                            2        46                        15   \n",
       "Nevis                         1598         1                        15   \n",
       "Saint Kitts                   1808         2                        13   \n",
       "South Africa                     1       177                         5   \n",
       "Tanzania                         1        42                         7   \n",
       "Zambia                           1       148                         7   \n",
       "\n",
       "                          Ethiopia  Gambia  Ghana  Kenya  Nevis  Saint Kitts  \\\n",
       "Barbados                         1     953    723      2   1598         1808   \n",
       "Botswana                         3       1      3     46      1            2   \n",
       "Central African Republic         7       8     29     15     15           13   \n",
       "Ethiopia                       667       1      2     15      1            1   \n",
       "Gambia                           1    1162    693      3   1099         1123   \n",
       "Ghana                            2     693    481      4    829          882   \n",
       "Kenya                           15       3      4    186      3            3   \n",
       "Nevis                            1    1099    829      3   4160         3151   \n",
       "Saint Kitts                      1    1123    882      3   3151         3477   \n",
       "South Africa                     4       1      2     40      2            2   \n",
       "Tanzania                         8       2      7    160      1            1   \n",
       "Zambia                           5       2      4     54      2            2   \n",
       "\n",
       "                          South Africa  Tanzania  Zambia  \n",
       "Barbados                             1         1       1  \n",
       "Botswana                           177        42     148  \n",
       "Central African Republic             5         7       7  \n",
       "Ethiopia                             4         8       5  \n",
       "Gambia                               1         2       2  \n",
       "Ghana                                2         7       4  \n",
       "Kenya                               40       160      54  \n",
       "Nevis                                2         1       2  \n",
       "Saint Kitts                          2         1       2  \n",
       "South Africa                       495        27      94  \n",
       "Tanzania                            27        70      36  \n",
       "Zambia                              94        36     292  "
      ]
     },
     "execution_count": 124,
     "metadata": {},
     "output_type": "execute_result"
    }
   ],
   "source": [
    "l = country_group.apply(lambda x: len(x)).unstack().fillna(0)\n",
    "l = (l+l.T)\n",
    "#l = pd.DataFrame(np.triu(l.values),index=l.index,columns=l.columns)\n",
    "vc = mt[\"country\"].value_counts()\n",
    "#this is the number of individual pairs, makes a small error for diagonal entries\n",
    "normalisation = pd.DataFrame(np.outer(vc.values,vc.values)/2,index=vc.index,columns=vc.index)\n",
    "(l/normalisation).applymap(round)"
   ]
  },
  {
   "cell_type": "code",
   "execution_count": null,
   "metadata": {
    "collapsed": false
   },
   "outputs": [],
   "source": [
    "Conclusion: Central African republic shares more with Ghana than with Gambia -> Signal of migration!?"
   ]
  },
  {
   "cell_type": "code",
   "execution_count": 126,
   "metadata": {
    "collapsed": false
   },
   "outputs": [],
   "source": []
  },
  {
   "cell_type": "code",
   "execution_count": 127,
   "metadata": {
    "collapsed": false
   },
   "outputs": [
    {
     "data": {
      "text/plain": [
       "<matplotlib.axes.AxesSubplot at 0x282d3ed0>"
      ]
     },
     "execution_count": 127,
     "metadata": {},
     "output_type": "execute_result"
    },
    {
     "data": {
      "image/png": "[encoded data removed]",
      "text/plain": [
       "<matplotlib.figure.Figure at 0x5dab0d0>"
      ]
     },
     "metadata": {},
     "output_type": "display_data"
    }
   ],
   "source": [
    "ibd_df[\"length\"].hist(bins=500)"
   ]
  },
  {
   "cell_type": "code",
   "execution_count": 129,
   "metadata": {
    "collapsed": false
   },
   "outputs": [],
   "source": [
    "import random"
   ]
  },
  {
   "cell_type": "code",
   "execution_count": 128,
   "metadata": {
    "collapsed": false
   },
   "outputs": [
    {
     "data": {
      "text/plain": [
       "<matplotlib.collections.PathCollection at 0x27b1c1d0>"
      ]
     },
     "execution_count": 128,
     "metadata": {},
     "output_type": "execute_result"
    },
    {
     "data": {
      "image/png": "[encoded data removed]",
      "text/plain": [
       "<matplotlib.figure.Figure at 0x282d0310>"
      ]
     },
     "metadata": {},
     "output_type": "display_data"
    }
   ],
   "source": [
    "plt.scatter(ibd_df[\"length\"],ibd_df[\"lod\"])"
   ]
  },
  {
   "cell_type": "code",
   "execution_count": 131,
   "metadata": {
    "collapsed": false
   },
   "outputs": [],
   "source": [
    "small_df = ibd_df.ix[random.sample(ibd_df.index, 1000)]"
   ]
  },
  {
   "cell_type": "code",
   "execution_count": 138,
   "metadata": {
    "collapsed": false
   },
   "outputs": [],
   "source": [
    "country_pair_ls = list(small_df[\"country\"].unique())"
   ]
  },
  {
   "cell_type": "code",
   "execution_count": 141,
   "metadata": {
    "collapsed": false
   },
   "outputs": [
    {
     "name": "stderr",
     "output_type": "stream",
     "text": [
      "/net/gmi.oeaw.ac.at/nordborg/user/hannes.svardal/Documents/Dropbox/Akademisches/lib/python/virtualenvs/ver/lib/python2.7/site-packages/matplotlib/axes.py:4747: UserWarning: No labeled objects found. Use label='...' kwarg on individual plots.\n",
      "  warnings.warn(\"No labeled objects found. \"\n"
     ]
    },
    {
     "data": {
      "image/png": "[encoded data removed]",
      "text/plain": [
       "<matplotlib.figure.Figure at 0x1a83be50>"
      ]
     },
     "metadata": {},
     "output_type": "display_data"
    }
   ],
   "source": [
    "plt.scatter(small_df[\"length\"],small_df[\"lod\"],\n",
    "            c=small_df[\"country\"].apply(lambda x: country_pair_ls.index(x)*1./len(country_pair_ls)))\n",
    "\n",
    "plt.legend()"
   ]
  },
  {
   "cell_type": "code",
   "execution_count": 137,
   "metadata": {
    "collapsed": false
   },
   "outputs": [],
   "source": []
  },
  {
   "cell_type": "code",
   "execution_count": null,
   "metadata": {
    "collapsed": false
   },
   "outputs": [],
   "source": []
  }
 ],
 "metadata": {
  "kernelspec": {
   "display_name": "Python 2",
   "language": "python",
   "name": "python2"
  },
  "language_info": {
   "codemirror_mode": {
    "name": "ipython",
    "version": 2
   },
   "file_extension": ".py",
   "mimetype": "text/x-python",
   "name": "python",
   "nbconvert_exporter": "python",
   "pygments_lexer": "ipython2",
   "version": "2.7.3"
  }
 },
 "nbformat": 4,
 "nbformat_minor": 0
}
