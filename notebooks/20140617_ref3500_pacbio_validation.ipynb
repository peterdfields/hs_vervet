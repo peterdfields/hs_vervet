{
 "metadata": {
  "name": "",
  "signature": "sha256:ca8cfd91df6fe1fd15a4d1de50d28fcdf1953af088c2894748cb3e27a56af4f3"
 },
 "nbformat": 3,
 "nbformat_minor": 0,
 "worksheets": [
  {
   "cells": [
    {
     "cell_type": "code",
     "collapsed": false,
     "input": [
      "import vcf\n",
      "from pyfasta import Fasta\n",
      "import pandas as pd\n",
      "import numpy as np"
     ],
     "language": "python",
     "metadata": {},
     "outputs": []
    }
   ],
   "metadata": {}
  }
 ]
}