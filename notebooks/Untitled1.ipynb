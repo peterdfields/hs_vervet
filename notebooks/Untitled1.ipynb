{
 "metadata": {
  "name": "",
  "signature": "sha256:c26fca5fa00f531cd9fac4c30aae59e98eaa8d9d7bad11d2b3a19c818e291a55"
 },
 "nbformat": 3,
 "nbformat_minor": 0,
 "worksheets": [
  {
   "cells": [
    {
     "cell_type": "code",
     "collapsed": false,
     "input": [
      "registry = {}\n",
      "\n",
      "def register(cls, attrs ):\n",
      "   registry[cls.__name__] = attrs#cls() \n",
      "   return cls"
     ],
     "language": "python",
     "metadata": {},
     "outputs": [],
     "prompt_number": 7
    },
    {
     "cell_type": "code",
     "collapsed": false,
     "input": [
      "class MetaClass(type):\n",
      "    def __new__(cls, clsname, bases, attrs):\n",
      "        newclass = super(MetaClass, cls).__new__(cls, clsname, bases, attrs)\n",
      "        register(newclass,attrs)  # here is your register function\n",
      "        return newclass"
     ],
     "language": "python",
     "metadata": {},
     "outputs": [],
     "prompt_number": 8
    },
    {
     "cell_type": "code",
     "collapsed": false,
     "input": [
      "class MyClass(object):\n",
      "    \"\"\"\n",
      "    this is my class\n",
      "    \"\"\"\n",
      "    attr0 = 'bla'\n",
      "    __metaclass__ = MetaClass"
     ],
     "language": "python",
     "metadata": {},
     "outputs": [],
     "prompt_number": 15
    },
    {
     "cell_type": "code",
     "collapsed": false,
     "input": [
      "MyClass.__doc__"
     ],
     "language": "python",
     "metadata": {},
     "outputs": [
      {
       "metadata": {},
       "output_type": "pyout",
       "prompt_number": 16,
       "text": [
        "'\\n    this is my class\\n    '"
       ]
      }
     ],
     "prompt_number": 16
    },
    {
     "cell_type": "code",
     "collapsed": false,
     "input": [
      "registry"
     ],
     "language": "python",
     "metadata": {},
     "outputs": [
      {
       "metadata": {},
       "output_type": "pyout",
       "prompt_number": 10,
       "text": [
        "{'MyClass': {'__metaclass__': __main__.MetaClass,\n",
        "  '__module__': '__main__',\n",
        "  'attr0': 'bla'}}"
       ]
      }
     ],
     "prompt_number": 10
    },
    {
     "cell_type": "code",
     "collapsed": false,
     "input": [
      "class Class2(MyClass):\n",
      "    x = 5"
     ],
     "language": "python",
     "metadata": {},
     "outputs": [],
     "prompt_number": 13
    },
    {
     "cell_type": "code",
     "collapsed": false,
     "input": [
      "registry"
     ],
     "language": "python",
     "metadata": {},
     "outputs": [
      {
       "metadata": {},
       "output_type": "pyout",
       "prompt_number": 14,
       "text": [
        "{'Class2': {'__module__': '__main__', 'x': 5},\n",
        " 'MyClass': {'__metaclass__': __main__.MetaClass,\n",
        "  '__module__': '__main__',\n",
        "  'attr0': 'bla'}}"
       ]
      }
     ],
     "prompt_number": 14
    },
    {
     "cell_type": "code",
     "collapsed": false,
     "input": [
      "import argparse"
     ],
     "language": "python",
     "metadata": {},
     "outputs": [],
     "prompt_number": 17
    },
    {
     "cell_type": "code",
     "collapsed": false,
     "input": [
      "analyses = {}\n",
      "\n",
      "def register(cls, attrs):\n",
      "   analyses[cls.__name__] = attrs#cls().\n",
      "   return cls\n",
      "\n",
      "\n",
      "parser = argparse.ArgumentParser(description=\"Parse a Variant Call Format (VCF) file.\")\n",
      "parser.add_argument(\"--variant\",'-V',type = argparse.FileType('r'),\n",
      "                            default = '-', help=\"Input vcf filepath.\")\n",
      "#parser.add_argument(\"--analysis_type\",\"-T\", choices = analyses.keys(),\n",
      "#                                             help=\"Name of type of analysis, \"\n",
      "#                                                  \"that defines the functions to use. \"\n",
      "#                                                  \"Run --show_analyses to see available tools.\")\n",
      "\n",
      "parser.add_argument(\"--show_analyses\",action='store_true',help=\"List available analyses and exit.\")\n",
      "parser.add_argument(\"--analysis_info\",help=\"Get info for specified analysis and exit.\")\n",
      "parser.add_argument(\"--intervals\",'-L', nargs='*', dest='intervals', action='append',\n",
      "                        help='Specify intervals to consider e.g. Chr1:1-50000. '\n",
      "                             'Input vcf must be compressed with bgzip and indexed '\n",
      "                                                                      'with tabix.')\n",
      "parser.add_argument(\"--ncpus\", '-nct',\n",
      "                    type=int, default=1,\n",
      "                              help='Number of processes for parallel parsing. '\n",
      "                                   ' Requires at least one interval to be '\n",
      "                                   'specified '\n",
      "                                   'with -L. \\n'\n",
      "                                   '1) If a single interval is '\n",
      "                                   'specified (e.g. -L Chr1:1-5000000), '\n",
      "                                   'this interval will be split into equal parts. '\n",
      "                                   'If start/end are not given, we try to infer '\n",
      "                                   'them from the VCF header (tag contig=...). \\n'\n",
      "                                   '2) If multiple intervals are specified, '\n",
      "                                   'we parallelise across intervals. \\n'\n",
      "                                   'Parallel parsing is not implemented for all '\n",
      "                                   'analyses.')\n",
      "parser.add_argument(\"--no_skip_multiple_entries\",action='store_true',\n",
      "                     help='Do not skip all but the first entry for the same site in the VCF.')\n",
      "parser.add_argument('--logging_level','-l',\n",
      "                    choices=['DEBUG','INFO','WARNING','ERROR','CRITICAL'],\n",
      "                    default='INFO',\n",
      "                                            help='Minimun level of logging.')\n",
      "parser.add_argument('--progress_report_interval',\n",
      "                    type=int, default=200000,\n",
      "                    help='Number of lines after which to report progress. '\n",
      "                                        'Only output if logging level >= INFO')\n",
      "subparsers = parser.add_subparsers(dest='analysis_type',\n",
      "                                        help='Type of analysis/parser to run on input file.')\n",
      "\n",
      "class MetaParser(type):\n",
      "    \"\"\"\n",
      "    This meta-class handles the creation of subparsers\n",
      "    for each new parser class on class definition.\n",
      "    \"\"\"\n",
      "    def __new__(cls, clsname, bases, attrs):\n",
      "        newclass = super(MetaParser, cls).__new__(cls, clsname, bases, attrs)\n",
      "        if clsname != 'Parser':\n",
      "            \n",
      "            new_subparser = subparsers.add_parser(clsname,help=newclass.__doc__)\n",
      "            args = getattr(newclass,'args')\n",
      "            if args is not None:\n",
      "                for arg, pars in args.iteritems():\n",
      "                    new_subparser.add_argument(\"--\"+arg,**pars)\n",
      "            #Add original Parser init to Child init.\n",
      "            def parserinit(init):\n",
      "                def newinit(self,**kwa):\n",
      "                    Parser.__init__(self,**kwa)\n",
      "                    init(self,**kwa)\n",
      "                return newinit\n",
      "            setattr(newclass,'__init__',parserinit(newclass.__init__))\n",
      "        return newclass\n",
      "\n",
      "\n",
      "\n",
      "\n",
      "class Parser(object):\n",
      "    \"\"\"\n",
      "    This is the basic parser object.\n",
      "    Not to be used directly.\n",
      "    All parsing tools should derive from this class.\n",
      "    Parsing tools are supplied to a walker\n",
      "    to be used to parse the lines of the file.\n",
      "    \"\"\"\n",
      "    __metaclass__ = MetaParser\n",
      "    args = None\n",
      "    def __init__(self,**kwa):\n",
      "        known_args = self.__class__.args if self.__class__.args is not None else {}\n",
      "        for arg in kwa:\n",
      "            assert arg in known_args, (\"Unknown argument {},\"\n",
      "                                       \"possible args are {}\".format(arg,known_args.keys()))\n",
      "        for arg in known_args:\n",
      "            try:\n",
      "                setattr(self,arg,kwa[arg])\n",
      "            except KeyError:\n",
      "                try:\n",
      "                    d = known_args[arg]['default']\n",
      "                except KeyError:\n",
      "                    req = False\n",
      "                    try:\n",
      "                        if known_args[arg]['required']:\n",
      "                            req = True\n",
      "                    except KeyError:\n",
      "                        pass\n",
      "                    if not req:\n",
      "                        d = None\n",
      "                        try:\n",
      "                            nargs = known_args[arg]['nargs']\n",
      "                            if nargs in ['*','+']:\n",
      "                                d = []\n",
      "                        except KeyError:\n",
      "                            pass\n",
      "                    else:\n",
      "                        raise TypeError(\"Argument {} not supplied but required.\".format(arg))\n",
      "                print \"Argument {} not supplied, using default {}.\".format(arg,d)\n",
      "                #logging.info(\"Argument {} not supplied, using default {}.\".format(arg,d))\n",
      "                setattr(self,arg,d)\n",
      "                    \n",
      "    def header_fun(self):\n",
      "        pass\n",
      "\n",
      "    def parse_fun(self):\n",
      "        pass\n",
      "    \n",
      "class FilterByBed(Parser):\n",
      "    \"\"\"\n",
      "    Add filter tag to sites in intervals of bed file. \n",
      "    This parser is experimental, only working for special cases.\n",
      "    \"\"\"\n",
      "    args = {'in_beds':\n",
      "                      {'required':True,\n",
      "                       'nargs':'+','type':argparse.FileType('r'),\n",
      "                       'help':\"List of filepathes to the input beds.\"},\n",
      "            'filter_names':{'nargs':'+',\n",
      "                            'help':'Filter names corresponding to beds.'},\n",
      "            'out_vcf':{'required':True,\n",
      "                       'type':argparse.FileType('w'),\n",
      "                       'help':'Filepath to output vcf.'}\n",
      "            }\n",
      "    \n",
      "    def __init__(self,**kwa):\n",
      "        assert len(self.filter_names)==len(self.in_beds), \\\n",
      "                       \"There must be as many filter names as beds.\"\n",
      "        self.last_rec = [None for _ in self.in_beds]\n",
      "\n",
      "\n",
      "    def header_fun(self,line):\n",
      "        self.out_vcf.write(line)\n",
      "        \n",
      "    def filter_by_bed_parse_fun(self,line):\n",
      "        def get_rec(fh):\n",
      "            rec = fh.next().strip().split()\n",
      "            rec[1] = int(rec[1])\n",
      "            rec[2] = int(rec[2])\n",
      "        return rec\n",
      "\n",
      "        ref = line[3]\n",
      "        alt = line[4].split(',')\n",
      "        pos = int(line[1])\n",
      "        chrom = line[0]\n",
      "        for i in range(len(self.last_rec)):\n",
      "            if self.last_rec[i] is None or self.last_rec[i][2]<pos:\n",
      "                self.last_rec[i] = get_rec(self.in_bed[i])\n",
      "            if self.last_rec[i][0] == chrom \\\n",
      "                and self.last_rec[i][1] < pos \\\n",
      "                and self.last_rec[i][2] > pos:\n",
      "                if line[6] in ['.','PASS']:\n",
      "                    line[6] = self.filter_names[i]\n",
      "                else:\n",
      "                    line[6] = line[6] + ','  + self.filter_names[i]\n",
      "        self.out_vcf.write(\"\\t\".join(line)+'\\n')\n"
     ],
     "language": "python",
     "metadata": {},
     "outputs": [],
     "prompt_number": 172
    },
    {
     "cell_type": "code",
     "collapsed": false,
     "input": [
      "x = FilterByBed(in_beds=[\"hallo\",\"du\"],filter_names=['bla','blu'],out_vcf='hatschi')"
     ],
     "language": "python",
     "metadata": {},
     "outputs": [],
     "prompt_number": 175
    },
    {
     "cell_type": "code",
     "collapsed": false,
     "input": [
      "x"
     ],
     "language": "python",
     "metadata": {},
     "outputs": [
      {
       "metadata": {},
       "output_type": "pyout",
       "prompt_number": 176,
       "text": [
        "<__main__.FilterByBed at 0x1f73610>"
       ]
      }
     ],
     "prompt_number": 176
    },
    {
     "cell_type": "code",
     "collapsed": false,
     "input": [
      "subparsers.choices.keys"
     ],
     "language": "python",
     "metadata": {},
     "outputs": [
      {
       "metadata": {},
       "output_type": "pyout",
       "prompt_number": 180,
       "text": [
        "<bound method OrderedDict.keys of OrderedDict([('FilterByBed', ArgumentParser(prog='-c FilterByBed', usage=None, description=None, version=None, formatter_class=<class 'argparse.HelpFormatter'>, conflict_handler='error', add_help=True))])>"
       ]
      }
     ],
     "prompt_number": 180
    },
    {
     "cell_type": "code",
     "collapsed": false,
     "input": [
      "print subparsers.choices['FilterByBed'].get_default('in_beds')"
     ],
     "language": "python",
     "metadata": {},
     "outputs": [
      {
       "output_type": "stream",
       "stream": "stdout",
       "text": [
        "None\n"
       ]
      }
     ],
     "prompt_number": 111
    },
    {
     "cell_type": "code",
     "collapsed": false,
     "input": [
      "print subparsers.choices['FilterByBed'].argument_default"
     ],
     "language": "python",
     "metadata": {},
     "outputs": [
      {
       "output_type": "stream",
       "stream": "stdout",
       "text": [
        "None\n"
       ]
      }
     ],
     "prompt_number": 114
    },
    {
     "cell_type": "code",
     "collapsed": false,
     "input": [
      "subparsers.choices['FilterByBed'].register?"
     ],
     "language": "python",
     "metadata": {},
     "outputs": [],
     "prompt_number": 115
    },
    {
     "cell_type": "code",
     "collapsed": false,
     "input": [
      "subparsers.choices['FilterByBed']._get_option_tuples()"
     ],
     "language": "python",
     "metadata": {},
     "outputs": [
      {
       "ename": "TypeError",
       "evalue": "_get_option_tuples() takes exactly 2 arguments (1 given)",
       "output_type": "pyerr",
       "traceback": [
        "\u001b[1;31m---------------------------------------------------------------------------\u001b[0m\n\u001b[1;31mTypeError\u001b[0m                                 Traceback (most recent call last)",
        "\u001b[1;32m<ipython-input-201-5e2099253dd4>\u001b[0m in \u001b[0;36m<module>\u001b[1;34m()\u001b[0m\n\u001b[1;32m----> 1\u001b[1;33m \u001b[0msubparsers\u001b[0m\u001b[1;33m.\u001b[0m\u001b[0mchoices\u001b[0m\u001b[1;33m[\u001b[0m\u001b[1;34m'FilterByBed'\u001b[0m\u001b[1;33m]\u001b[0m\u001b[1;33m.\u001b[0m\u001b[0m_get_option_tuples\u001b[0m\u001b[1;33m(\u001b[0m\u001b[1;33m)\u001b[0m\u001b[1;33m\u001b[0m\u001b[0m\n\u001b[0m",
        "\u001b[1;31mTypeError\u001b[0m: _get_option_tuples() takes exactly 2 arguments (1 given)"
       ]
      }
     ],
     "prompt_number": 201
    },
    {
     "cell_type": "code",
     "collapsed": false,
     "input": [
      "[a.dest for a in subparsers.choices['FilterByBed']._actions]"
     ],
     "language": "python",
     "metadata": {},
     "outputs": [
      {
       "metadata": {},
       "output_type": "pyout",
       "prompt_number": 207,
       "text": [
        "['help', 'out_vcf', 'in_beds', 'filter_names']"
       ]
      }
     ],
     "prompt_number": 207
    },
    {
     "cell_type": "code",
     "collapsed": false,
     "input": [
      "f = open('test.tsv')"
     ],
     "language": "python",
     "metadata": {},
     "outputs": [],
     "prompt_number": 235
    },
    {
     "cell_type": "code",
     "collapsed": false,
     "input": [
      "for i,line in enumerate(f):\n",
      "    print line\n",
      "    if i> 2:\n",
      "        break"
     ],
     "language": "python",
     "metadata": {},
     "outputs": [
      {
       "output_type": "stream",
       "stream": "stdout",
       "text": [
        "both_filter\t33057\n",
        "\n",
        "ill_N\t1192\n",
        "\n",
        "ill_filter\t76939\n",
        "\n",
        "other\t0\n",
        "\n"
       ]
      }
     ],
     "prompt_number": 236
    },
    {
     "cell_type": "code",
     "collapsed": false,
     "input": [
      "f.flush()"
     ],
     "language": "python",
     "metadata": {},
     "outputs": [],
     "prompt_number": 231
    },
    {
     "cell_type": "code",
     "collapsed": false,
     "input": [
      "for i,line in enumerate(f):\n",
      "    print line\n",
      "    if i> 2:\n",
      "        break"
     ],
     "language": "python",
     "metadata": {},
     "outputs": [
      {
       "output_type": "stream",
       "stream": "stdout",
       "text": [
        "pb_filter\t144420\n",
        "\n",
        "pb_noref\t{'ill_AA': 2146, 'ill_RA': 277, 'ill_RR': 219}\n",
        "\n",
        "pb_ref\t{'ill_AA': 19, 'ill_RA': 284, 'ill_RR': 582938}\n",
        "\n",
        "total\t841491\n",
        "\n"
       ]
      }
     ],
     "prompt_number": 237
    },
    {
     "cell_type": "code",
     "collapsed": false,
     "input": [
      "dir(subparsers.choices['FilterByBed'])"
     ],
     "language": "python",
     "metadata": {},
     "outputs": [
      {
       "metadata": {},
       "output_type": "pyout",
       "prompt_number": 199,
       "text": [
        "['__class__',\n",
        " '__delattr__',\n",
        " '__dict__',\n",
        " '__doc__',\n",
        " '__format__',\n",
        " '__getattribute__',\n",
        " '__hash__',\n",
        " '__init__',\n",
        " '__module__',\n",
        " '__new__',\n",
        " '__reduce__',\n",
        " '__reduce_ex__',\n",
        " '__repr__',\n",
        " '__setattr__',\n",
        " '__sizeof__',\n",
        " '__str__',\n",
        " '__subclasshook__',\n",
        " '__weakref__',\n",
        " '_action_groups',\n",
        " '_actions',\n",
        " '_add_action',\n",
        " '_add_container_actions',\n",
        " '_check_conflict',\n",
        " '_check_value',\n",
        " '_defaults',\n",
        " '_get_args',\n",
        " '_get_formatter',\n",
        " '_get_handler',\n",
        " '_get_kwargs',\n",
        " '_get_nargs_pattern',\n",
        " '_get_option_tuples',\n",
        " '_get_optional_actions',\n",
        " '_get_optional_kwargs',\n",
        " '_get_positional_actions',\n",
        " '_get_positional_kwargs',\n",
        " '_get_value',\n",
        " '_get_values',\n",
        " '_handle_conflict_error',\n",
        " '_handle_conflict_resolve',\n",
        " '_has_negative_number_optionals',\n",
        " '_match_argument',\n",
        " '_match_arguments_partial',\n",
        " '_mutually_exclusive_groups',\n",
        " '_negative_number_matcher',\n",
        " '_option_string_actions',\n",
        " '_optionals',\n",
        " '_parse_known_args',\n",
        " '_parse_optional',\n",
        " '_pop_action_class',\n",
        " '_positionals',\n",
        " '_print_message',\n",
        " '_read_args_from_files',\n",
        " '_registries',\n",
        " '_registry_get',\n",
        " '_remove_action',\n",
        " '_subparsers',\n",
        " 'add_argument',\n",
        " 'add_argument_group',\n",
        " 'add_help',\n",
        " 'add_mutually_exclusive_group',\n",
        " 'add_subparsers',\n",
        " 'argument_default',\n",
        " 'conflict_handler',\n",
        " 'convert_arg_line_to_args',\n",
        " 'description',\n",
        " 'epilog',\n",
        " 'error',\n",
        " 'exit',\n",
        " 'format_help',\n",
        " 'format_usage',\n",
        " 'format_version',\n",
        " 'formatter_class',\n",
        " 'fromfile_prefix_chars',\n",
        " 'get_default',\n",
        " 'parse_args',\n",
        " 'parse_known_args',\n",
        " 'prefix_chars',\n",
        " 'print_help',\n",
        " 'print_usage',\n",
        " 'print_version',\n",
        " 'prog',\n",
        " 'register',\n",
        " 'set_defaults',\n",
        " 'usage',\n",
        " 'version']"
       ]
      }
     ],
     "prompt_number": 199
    },
    {
     "cell_type": "code",
     "collapsed": false,
     "input": [
      "class A(object):\n",
      "    sochn = 1"
     ],
     "language": "python",
     "metadata": {},
     "outputs": [],
     "prompt_number": 54
    },
    {
     "cell_type": "code",
     "collapsed": false,
     "input": [
      "class B(A):\n",
      "    pass"
     ],
     "language": "python",
     "metadata": {},
     "outputs": [],
     "prompt_number": 56
    },
    {
     "cell_type": "code",
     "collapsed": false,
     "input": [
      "B.sochn"
     ],
     "language": "python",
     "metadata": {},
     "outputs": [
      {
       "metadata": {},
       "output_type": "pyout",
       "prompt_number": 58,
       "text": [
        "1"
       ]
      }
     ],
     "prompt_number": 58
    },
    {
     "cell_type": "code",
     "collapsed": false,
     "input": [
      "locals"
     ],
     "language": "python",
     "metadata": {},
     "outputs": [],
     "prompt_number": 184
    },
    {
     "cell_type": "code",
     "collapsed": false,
     "input": [
      "vars()['hallo']"
     ],
     "language": "python",
     "metadata": {},
     "outputs": [
      {
       "metadata": {},
       "output_type": "pyout",
       "prompt_number": 187,
       "text": [
        "<function __main__.hallo>"
       ]
      }
     ],
     "prompt_number": 187
    },
    {
     "cell_type": "code",
     "collapsed": false,
     "input": [
      "from argparse import ArgumentParser\n",
      "\n",
      "\n",
      "def parse_known_intermixed_args(self, args=None, namespace=None):\n",
      "    # self - argparse parser\n",
      "    # simplified from http://bugs.python.org/file30204/test_intermixed.py\n",
      "    parsefn = super(SubParser, self).parse_known_args # avoid recursion\n",
      "\n",
      "    positionals = self._get_positional_actions()\n",
      "    for action in positionals:\n",
      "        # deactivate positionals\n",
      "        action.save_nargs = action.nargs\n",
      "        action.nargs = 0\n",
      "\n",
      "    namespace, remaining_args = parsefn(args, namespace)\n",
      "    for action in positionals:\n",
      "        # remove the empty positional values from namespace\n",
      "        if hasattr(namespace, action.dest):\n",
      "            delattr(namespace, action.dest)\n",
      "    for action in positionals:\n",
      "        action.nargs = action.save_nargs\n",
      "    # parse positionals\n",
      "    namespace, extras = parsefn(remaining_args, namespace)\n",
      "    return namespace, extras\n",
      "\n",
      "class SubParser(ArgumentParser):\n",
      "    parse_known_args = parse_known_intermixed_args\n",
      "\n",
      "parser = ArgumentParser()\n",
      "parser.add_argument('foo')\n",
      "parser.add_argument('-L',nargs='*')\n",
      "sp = parser.add_subparsers(dest='parser')\n",
      "sp._parser_class = SubParser # use different parser class for subparsers\n",
      "spp1 = sp.add_parser('VCFTo012')\n",
      "spp1.add_argument('-x')\n",
      "spp1.add_argument('bar')\n",
      "spp1.add_argument('vars',nargs='*')\n",
      "\n",
      "print parser.parse_args('foo -L CAE1 VCFTo012 bar -x one 8 9'.split())\n",
      "# Namespace(bar='bar', cmd='cmd1', foo='foo', vars=['8', '9'], x='one')"
     ],
     "language": "python",
     "metadata": {},
     "outputs": [
      {
       "output_type": "stream",
       "stream": "stderr",
       "text": [
        "usage: -c [-h] [-L [L [L ...]]] foo {VCFTo012} ...\n",
        "-c: error: argument parser: invalid choice: 'one' (choose from 'VCFTo012')\n"
       ]
      },
      {
       "ename": "SystemExit",
       "evalue": "2",
       "output_type": "pyerr",
       "traceback": [
        "An exception has occurred, use %tb to see the full traceback.\n",
        "\u001b[1;31mSystemExit\u001b[0m\u001b[1;31m:\u001b[0m 2\n"
       ]
      },
      {
       "output_type": "stream",
       "stream": "stderr",
       "text": [
        "To exit: use 'exit', 'quit', or Ctrl-D.\n"
       ]
      }
     ],
     "prompt_number": 242
    },
    {
     "cell_type": "code",
     "collapsed": false,
     "input": [
      "temp_parser = argparse.ArgumentParser()\n",
      "\n",
      "subparsers = temp_parser.add_subparsers(dest='parser',\n",
      "                                        help='Type of analysis/parser to run on input file.')\n",
      "new_subparser = subparsers.add_parser(\"hallo\",description=\"kuh\")\n",
      "new_subparser.add_argument(\"--file\",type=argparse.FileType('w'))"
     ],
     "language": "python",
     "metadata": {},
     "outputs": [
      {
       "metadata": {},
       "output_type": "pyout",
       "prompt_number": 265,
       "text": [
        "_StoreAction(option_strings=['--file'], dest='file', nargs=None, const=None, default=None, type=FileType('w'), choices=None, help=None, metavar=None)"
       ]
      }
     ],
     "prompt_number": 265
    },
    {
     "cell_type": "code",
     "collapsed": false,
     "input": [
      "args = temp_parser.parse_args(\"hallo --file test.vcf\".split())"
     ],
     "language": "python",
     "metadata": {},
     "outputs": [],
     "prompt_number": 269
    },
    {
     "cell_type": "code",
     "collapsed": false,
     "input": [
      "t = argparse.FileType('w')"
     ],
     "language": "python",
     "metadata": {},
     "outputs": [],
     "prompt_number": 273
    },
    {
     "cell_type": "code",
     "collapsed": false,
     "input": [
      "t"
     ],
     "language": "python",
     "metadata": {},
     "outputs": [
      {
       "metadata": {},
       "output_type": "pyout",
       "prompt_number": 274,
       "text": [
        "FileType('w')"
       ]
      }
     ],
     "prompt_number": 274
    },
    {
     "cell_type": "code",
     "collapsed": false,
     "input": [
      "type(t)"
     ],
     "language": "python",
     "metadata": {},
     "outputs": [
      {
       "metadata": {},
       "output_type": "pyout",
       "prompt_number": 279,
       "text": [
        "argparse.FileType"
       ]
      }
     ],
     "prompt_number": 279
    },
    {
     "cell_type": "code",
     "collapsed": false,
     "input": [
      "argparse.FileType?"
     ],
     "language": "python",
     "metadata": {},
     "outputs": [],
     "prompt_number": 281
    },
    {
     "cell_type": "code",
     "collapsed": false,
     "input": [
      "x = open(\"hallo\",'w')"
     ],
     "language": "python",
     "metadata": {},
     "outputs": [],
     "prompt_number": 283
    },
    {
     "cell_type": "code",
     "collapsed": false,
     "input": [],
     "language": "python",
     "metadata": {},
     "outputs": [
      {
       "ename": "IOError",
       "evalue": "[Errno 2] No such file or directory: 'w'",
       "output_type": "pyerr",
       "traceback": [
        "\u001b[1;31m---------------------------------------------------------------------------\u001b[0m\n\u001b[1;31mIOError\u001b[0m                                   Traceback (most recent call last)",
        "\u001b[1;32m<ipython-input-289-b1796e0e285c>\u001b[0m in \u001b[0;36m<module>\u001b[1;34m()\u001b[0m\n\u001b[1;32m----> 1\u001b[1;33m \u001b[0mfile\u001b[0m\u001b[1;33m(\u001b[0m\u001b[1;34m'w'\u001b[0m\u001b[1;33m)\u001b[0m\u001b[1;33m\u001b[0m\u001b[0m\n\u001b[0m",
        "\u001b[1;31mIOError\u001b[0m: [Errno 2] No such file or directory: 'w'"
       ]
      }
     ],
     "prompt_number": 289
    },
    {
     "cell_type": "code",
     "collapsed": false,
     "input": [
      "isinstance(t,fileType)"
     ],
     "language": "python",
     "metadata": {},
     "outputs": [
      {
       "ename": "NameError",
       "evalue": "name 'fileType' is not defined",
       "output_type": "pyerr",
       "traceback": [
        "\u001b[1;31m---------------------------------------------------------------------------\u001b[0m\n\u001b[1;31mNameError\u001b[0m                                 Traceback (most recent call last)",
        "\u001b[1;32m<ipython-input-280-eb96a918821f>\u001b[0m in \u001b[0;36m<module>\u001b[1;34m()\u001b[0m\n\u001b[1;32m----> 1\u001b[1;33m \u001b[0misinstance\u001b[0m\u001b[1;33m(\u001b[0m\u001b[0mt\u001b[0m\u001b[1;33m,\u001b[0m\u001b[0mfileType\u001b[0m\u001b[1;33m)\u001b[0m\u001b[1;33m\u001b[0m\u001b[0m\n\u001b[0m",
        "\u001b[1;31mNameError\u001b[0m: name 'fileType' is not defined"
       ]
      }
     ],
     "prompt_number": 280
    },
    {
     "cell_type": "code",
     "collapsed": false,
     "input": [
      "dir(t)"
     ],
     "language": "python",
     "metadata": {},
     "outputs": [
      {
       "metadata": {},
       "output_type": "pyout",
       "prompt_number": 275,
       "text": [
        "['__call__',\n",
        " '__class__',\n",
        " '__delattr__',\n",
        " '__dict__',\n",
        " '__doc__',\n",
        " '__format__',\n",
        " '__getattribute__',\n",
        " '__hash__',\n",
        " '__init__',\n",
        " '__module__',\n",
        " '__new__',\n",
        " '__reduce__',\n",
        " '__reduce_ex__',\n",
        " '__repr__',\n",
        " '__setattr__',\n",
        " '__sizeof__',\n",
        " '__str__',\n",
        " '__subclasshook__',\n",
        " '__weakref__',\n",
        " '_bufsize',\n",
        " '_mode']"
       ]
      }
     ],
     "prompt_number": 275
    },
    {
     "cell_type": "code",
     "collapsed": false,
     "input": [
      "parser.format_help()"
     ],
     "language": "python",
     "metadata": {},
     "outputs": [
      {
       "metadata": {},
       "output_type": "pyout",
       "prompt_number": 251,
       "text": [
        "'usage: -c [-h] [-L [L [L ...]]] foo {VCFTo012} ...\\n\\npositional arguments:\\n  foo\\n  {VCFTo012}\\n\\noptional arguments:\\n  -h, --help      show this help message and exit\\n  -L [L [L ...]]\\n'"
       ]
      }
     ],
     "prompt_number": 251
    },
    {
     "cell_type": "code",
     "collapsed": false,
     "input": [
      "class Test(object):\n",
      "    hallo = 5\n",
      "    def test(self,line):\n",
      "        print line\n",
      "        self.hallo += 1"
     ],
     "language": "python",
     "metadata": {},
     "outputs": [],
     "prompt_number": 258
    },
    {
     "cell_type": "code",
     "collapsed": false,
     "input": [
      "t = Test()"
     ],
     "language": "python",
     "metadata": {},
     "outputs": [],
     "prompt_number": 259
    },
    {
     "cell_type": "code",
     "collapsed": false,
     "input": [
      "dir(t)"
     ],
     "language": "python",
     "metadata": {},
     "outputs": [
      {
       "metadata": {},
       "output_type": "pyout",
       "prompt_number": 261,
       "text": [
        "['__class__',\n",
        " '__delattr__',\n",
        " '__dict__',\n",
        " '__doc__',\n",
        " '__format__',\n",
        " '__getattribute__',\n",
        " '__hash__',\n",
        " '__init__',\n",
        " '__module__',\n",
        " '__new__',\n",
        " '__reduce__',\n",
        " '__reduce_ex__',\n",
        " '__repr__',\n",
        " '__setattr__',\n",
        " '__sizeof__',\n",
        " '__str__',\n",
        " '__subclasshook__',\n",
        " '__weakref__',\n",
        " 'hallo',\n",
        " 'test']"
       ]
      }
     ],
     "prompt_number": 261
    },
    {
     "cell_type": "code",
     "collapsed": false,
     "input": [
      "import gzip"
     ],
     "language": "python",
     "metadata": {},
     "outputs": [],
     "prompt_number": 295
    },
    {
     "cell_type": "code",
     "collapsed": false,
     "input": [
      "f = gzip.open('test.vcf','r')"
     ],
     "language": "python",
     "metadata": {},
     "outputs": [],
     "prompt_number": 300
    },
    {
     "cell_type": "code",
     "collapsed": false,
     "input": [
      "f.write"
     ],
     "language": "python",
     "metadata": {},
     "outputs": [
      {
       "metadata": {},
       "output_type": "pyout",
       "prompt_number": 301,
       "text": [
        "<bound method GzipFile.write of <gzip open file 'test.vcf', mode 'rb' at 0x1f619c0 0x1bb7610>>"
       ]
      }
     ],
     "prompt_number": 301
    },
    {
     "cell_type": "code",
     "collapsed": false,
     "input": [
      "hasattr(f,'write')"
     ],
     "language": "python",
     "metadata": {},
     "outputs": [
      {
       "metadata": {},
       "output_type": "pyout",
       "prompt_number": 303,
       "text": [
        "True"
       ]
      }
     ],
     "prompt_number": 303
    },
    {
     "cell_type": "code",
     "collapsed": false,
     "input": [
      "import copy"
     ],
     "language": "python",
     "metadata": {},
     "outputs": [],
     "prompt_number": 292
    },
    {
     "cell_type": "code",
     "collapsed": false,
     "input": [
      "copy.copy(l)"
     ],
     "language": "python",
     "metadata": {},
     "outputs": [
      {
       "metadata": {},
       "output_type": "pyout",
       "prompt_number": 293,
       "text": [
        "[1, 2, 3]"
       ]
      }
     ],
     "prompt_number": 293
    },
    {
     "cell_type": "code",
     "collapsed": false,
     "input": [
      "inspect.getsource(t.test)"
     ],
     "language": "python",
     "metadata": {},
     "outputs": [
      {
       "metadata": {},
       "output_type": "pyout",
       "prompt_number": 264,
       "text": [
        "u'    def test(self,line):\\n        print line\\n        self.hallo += 1\\n'"
       ]
      }
     ],
     "prompt_number": 264
    },
    {
     "cell_type": "code",
     "collapsed": false,
     "input": [],
     "language": "python",
     "metadata": {},
     "outputs": []
    }
   ],
   "metadata": {}
  }
 ]
}