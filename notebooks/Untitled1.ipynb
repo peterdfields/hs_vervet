{
 "metadata": {
  "name": "",
  "signature": "sha256:cd44725f02271a3cfeff27533f05c034fc69d5073723ca7cb01bf25a8bc66a6e"
 },
 "nbformat": 3,
 "nbformat_minor": 0,
 "worksheets": [
  {
   "cells": [
    {
     "cell_type": "code",
     "collapsed": false,
     "input": [],
     "language": "python",
     "metadata": {},
     "outputs": []
    },
    {
     "cell_type": "code",
     "collapsed": false,
     "input": [
      "import numpy as np\n",
      "from matplotlib import pyplot as plt\n",
      "sfs = np.random.rand(30,30)\n",
      "\n",
      "fig = plt.figure()\n",
      "plt.pcolor(sfs)\n",
      "plt.colorbar()\n",
      "plt.savefig(\"test.png\")"
     ],
     "language": "python",
     "metadata": {},
     "outputs": [],
     "prompt_number": 2
    },
    {
     "cell_type": "code",
     "collapsed": false,
     "input": [
      "data_table = np.genfromtxt(\"ahal_rep_unfolded.txt\")\n",
      "data = data_table[1:,:][:,1:]"
     ],
     "language": "python",
     "metadata": {},
     "outputs": [],
     "prompt_number": 7
    },
    {
     "cell_type": "code",
     "collapsed": false,
     "input": [
      "data.shape"
     ],
     "language": "python",
     "metadata": {},
     "outputs": [
      {
       "metadata": {},
       "output_type": "pyout",
       "prompt_number": 9,
       "text": [
        "(16755, 27)"
       ]
      }
     ],
     "prompt_number": 9
    },
    {
     "cell_type": "code",
     "collapsed": false,
     "input": [],
     "language": "python",
     "metadata": {},
     "outputs": []
    }
   ],
   "metadata": {}
  }
 ]
}